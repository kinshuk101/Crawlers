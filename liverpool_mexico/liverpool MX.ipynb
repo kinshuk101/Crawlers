{
 "cells": [
  {
   "cell_type": "code",
   "execution_count": 3,
   "id": "df5b89b5",
   "metadata": {},
   "outputs": [],
   "source": [
    "import pandas as pd\n",
    "import psycopg2\n",
    "import numpy as np\n",
    "\n",
    "\n",
    "\n",
    "from selenium import webdriver\n",
    "from selenium.webdriver.common.by import By\n",
    "import requests\n",
    "from selenium.webdriver.support.ui import WebDriverWait\n",
    "import selenium.webdriver.support.expected_conditions as EC\n",
    "from selenium.webdriver.chrome.options import Options\n",
    "from selenium.webdriver.chrome.service import Service\n",
    "\n",
    "\n",
    "\n",
    "from tqdm import tqdm\n",
    "tqdm.pandas()\n",
    "import time\n",
    "\n",
    "\n",
    "\n",
    "from bs4 import BeautifulSoup\n",
    "import re\n",
    "\n",
    "import smtplib\n",
    "from email.mime.text import MIMEText\n",
    "from email.mime.multipart import MIMEMultipart\n",
    "from email.mime.base import MIMEBase\n",
    "from email import encoders\n"
   ]
  },
  {
   "cell_type": "code",
   "execution_count": 4,
   "id": "2f068331",
   "metadata": {},
   "outputs": [],
   "source": [
    "s = Service(\"../chromedriver_win32/chromedriver.exe\")"
   ]
  },
  {
   "cell_type": "raw",
   "id": "8d314cc9",
   "metadata": {},
   "source": [
    "only node is scraped rest of details are in serp"
   ]
  },
  {
   "cell_type": "code",
   "execution_count": 5,
   "id": "91694c2b",
   "metadata": {},
   "outputs": [
    {
     "name": "stdout",
     "output_type": "stream",
     "text": [
      "ChromeDriver version: 114.0.5735.90 (386bc09e8f4f2e025eddae123f36f6263096ae49-refs/branch-heads/5735@{#1052})\n"
     ]
    }
   ],
   "source": [
    "chrome_opt=Options()\n",
    "chrome_opt.add_argument(\"--incognito\")\n",
    "driver = webdriver.Chrome(service=s,options=chrome_opt)\n",
    "capabilities = driver.capabilities\n",
    "chrome_driver_version = capabilities['chrome']['chromedriverVersion']\n",
    "\n",
    "# Print the ChromeDriver version\n",
    "print(\"ChromeDriver version:\", chrome_driver_version)"
   ]
  },
  {
   "cell_type": "code",
   "execution_count": 6,
   "id": "e10931ba",
   "metadata": {},
   "outputs": [
    {
     "name": "stdout",
     "output_type": "stream",
     "text": [
      "{'user': 'postgres', 'channel_binding': 'prefer', 'dbname': 'postgres', 'host': '1.pgsql.db.1digitalstack.com', 'port': '5432', 'options': '', 'sslmode': 'prefer', 'sslcompression': '0', 'sslsni': '1', 'ssl_min_protocol_version': 'TLSv1.2', 'gssencmode': 'disable', 'krbsrvname': 'postgres', 'target_session_attrs': 'any'} \n",
      "\n",
      "{'user': 'postgres', 'channel_binding': 'prefer', 'dbname': 'postgres', 'host': '2.pgsql.db.1digitalstack.com', 'port': '5432', 'options': '', 'sslmode': 'prefer', 'sslcompression': '0', 'sslsni': '1', 'ssl_min_protocol_version': 'TLSv1.2', 'gssencmode': 'disable', 'krbsrvname': 'postgres', 'target_session_attrs': 'any'} \n",
      "\n"
     ]
    }
   ],
   "source": [
    "class postgres_conn:\n",
    "    def getConn(self):\n",
    "        try:\n",
    "            connection = psycopg2.connect(user='postgres',\n",
    "                                          password='postgres_007',\n",
    "                                          host=\"1.pgsql.db.1digitalstack.com\",\n",
    "                                          port='5432',\n",
    "                                          database='postgres')\n",
    "\n",
    "            cursor = connection.cursor()\n",
    "            # Print PostgreSQL Connection properties\n",
    "            print(connection.get_dsn_parameters(), \"\\n\")\n",
    "\n",
    "            # Print PostgreSQL version\n",
    "            return cursor, connection\n",
    "\n",
    "        except (Exception, psycopg2.Error) as error:\n",
    "            print(\"Error while connecting to PostgreSQL\", error)\n",
    "            return error, error\n",
    "    def getConn2(self):\n",
    "        try:\n",
    "            connection = psycopg2.connect(user='postgres',\n",
    "                                          password='reporting_007',\n",
    "                                          host=\"2.pgsql.db.1digitalstack.com\",\n",
    "                                          port='5432',\n",
    "                                          database='postgres')\n",
    "\n",
    "            cursor = connection.cursor()\n",
    "            # Print PostgreSQL Connection properties\n",
    "            print(connection.get_dsn_parameters(), \"\\n\")\n",
    "\n",
    "            # Print PostgreSQL version\n",
    "            return cursor, connection\n",
    "\n",
    "        except (Exception, psycopg2.Error) as error:\n",
    "            print(\"Error while connecting to PostgreSQL\", error)\n",
    "            return error, error\n",
    "\n",
    "\n",
    "    def close_connection(self, cursor, connection):\n",
    "        # closing database connection.\n",
    "        if(connection):\n",
    "            cursor.close()\n",
    "            connection.close()\n",
    "            print(\"PostgreSQL connection is closed\")\n",
    "            \n",
    "pg = postgres_conn()\n",
    "conn = pg.getConn()\n",
    "conn2 = pg.getConn2()"
   ]
  },
  {
   "cell_type": "code",
   "execution_count": 7,
   "id": "d0d8765b",
   "metadata": {},
   "outputs": [
    {
     "name": "stdout",
     "output_type": "stream",
     "text": [
      "Enter keystone ids with comma.64d1d1b359aa371d9ed1a214\n",
      " Enter no of days for which data needs brand mapping.\n",
      "1\n"
     ]
    },
    {
     "data": {
      "text/plain": [
       "('64d1d1b359aa371d9ed1a214', '')"
      ]
     },
     "execution_count": 7,
     "metadata": {},
     "output_type": "execute_result"
    }
   ],
   "source": [
    "job_id=input(\"Enter keystone ids with comma.\").split(\",\")\n",
    "days=input(\" Enter no of days for which data needs brand mapping.\\n\")\n",
    "job_id.append(\"\")\n",
    "tuple(job_id)\n",
    "\n",
    "#64ad5178b732b6c8d30ed4fa,64a7aef292a955755975d804,64a7ab5792a955755975d6a0"
   ]
  },
  {
   "cell_type": "code",
   "execution_count": 8,
   "id": "a5c7ed3e",
   "metadata": {},
   "outputs": [
    {
     "name": "stderr",
     "output_type": "stream",
     "text": [
      "C:\\Users\\Administrator\\AppData\\Local\\Temp\\2\\ipykernel_155092\\2162843895.py:6: UserWarning: pandas only supports SQLAlchemy connectable (engine/connection) or database string URI or sqlite3 DBAPI2 connection. Other DBAPI2 objects are not tested. Please consider using SQLAlchemy.\n",
      "  serp_details = pd.read_sql_query(query, conn[1])\n"
     ]
    }
   ],
   "source": [
    "query = f\"\"\"\n",
    "select brand,title,sku,job_name,channel_id\n",
    "from ready.serp_details smd join ready.serp_mongo_details m on m.serp_mongo_id=smd.serp_mongo_id\n",
    "where smd.crawl_date > now() - interval '{days} day' and keystone_job_id in {tuple(job_id)}\n",
    "\"\"\"\n",
    "serp_details = pd.read_sql_query(query, conn[1])"
   ]
  },
  {
   "cell_type": "code",
   "execution_count": 9,
   "id": "a47ee904",
   "metadata": {},
   "outputs": [
    {
     "data": {
      "text/html": [
       "<div>\n",
       "<style scoped>\n",
       "    .dataframe tbody tr th:only-of-type {\n",
       "        vertical-align: middle;\n",
       "    }\n",
       "\n",
       "    .dataframe tbody tr th {\n",
       "        vertical-align: top;\n",
       "    }\n",
       "\n",
       "    .dataframe thead th {\n",
       "        text-align: right;\n",
       "    }\n",
       "</style>\n",
       "<table border=\"1\" class=\"dataframe\">\n",
       "  <thead>\n",
       "    <tr style=\"text-align: right;\">\n",
       "      <th></th>\n",
       "      <th>brand</th>\n",
       "      <th>title</th>\n",
       "      <th>sku</th>\n",
       "      <th>job_name</th>\n",
       "      <th>channel_id</th>\n",
       "    </tr>\n",
       "  </thead>\n",
       "  <tbody>\n",
       "    <tr>\n",
       "      <th>0</th>\n",
       "      <td>PHILIPS</td>\n",
       "      <td>Philips HR2242/91 12 speed blender</td>\n",
       "      <td>1133782580</td>\n",
       "      <td>Liverpool r.no.565 Serp_job</td>\n",
       "      <td>97</td>\n",
       "    </tr>\n",
       "    <tr>\n",
       "      <th>1</th>\n",
       "      <td>CHEFMAN</td>\n",
       "      <td>Chefman 7.5 liter air fryer Rj38-sqpf-8t2p-w-mx</td>\n",
       "      <td>1133876100</td>\n",
       "      <td>Liverpool r.no.565 Serp_job</td>\n",
       "      <td>97</td>\n",
       "    </tr>\n",
       "    <tr>\n",
       "      <th>2</th>\n",
       "      <td>CHEFMAN</td>\n",
       "      <td>Chefman 3.5L RJ38-V2 3.5 Oil Fryer</td>\n",
       "      <td>1073762177</td>\n",
       "      <td>Liverpool r.no.565 Serp_job</td>\n",
       "      <td>97</td>\n",
       "    </tr>\n",
       "    <tr>\n",
       "      <th>3</th>\n",
       "      <td>CHEFMAN</td>\n",
       "      <td>Chefman Cheman RJ14-12-SQ Drip Coffee Maker</td>\n",
       "      <td>1096142541</td>\n",
       "      <td>Liverpool r.no.565 Serp_job</td>\n",
       "      <td>97</td>\n",
       "    </tr>\n",
       "    <tr>\n",
       "      <th>4</th>\n",
       "      <td>CHEFMAN</td>\n",
       "      <td>Chefman 7 liter air fryer RJ38-SQPF-8TW-MX</td>\n",
       "      <td>1126608329</td>\n",
       "      <td>Liverpool r.no.565 Serp_job</td>\n",
       "      <td>97</td>\n",
       "    </tr>\n",
       "    <tr>\n",
       "      <th>...</th>\n",
       "      <td>...</td>\n",
       "      <td>...</td>\n",
       "      <td>...</td>\n",
       "      <td>...</td>\n",
       "      <td>...</td>\n",
       "    </tr>\n",
       "    <tr>\n",
       "      <th>2774</th>\n",
       "      <td>CHEFMAN</td>\n",
       "      <td>Chefman RJ19-V2-SBP-Black Food Processor Set</td>\n",
       "      <td>1096538274</td>\n",
       "      <td>Liverpool r.no.565 Serp_job</td>\n",
       "      <td>97</td>\n",
       "    </tr>\n",
       "    <tr>\n",
       "      <th>2775</th>\n",
       "      <td>CHEFMAN</td>\n",
       "      <td>Chefman 10L RJ38-10-RDO-V2 Air Fryer</td>\n",
       "      <td>1099768696</td>\n",
       "      <td>Liverpool r.no.565 Serp_job</td>\n",
       "      <td>97</td>\n",
       "    </tr>\n",
       "    <tr>\n",
       "      <th>2776</th>\n",
       "      <td>CHEFMAN</td>\n",
       "      <td>Waffle Maker Chefman RJ04-4P 4 portions</td>\n",
       "      <td>1073762215</td>\n",
       "      <td>Liverpool r.no.565 Serp_job</td>\n",
       "      <td>97</td>\n",
       "    </tr>\n",
       "    <tr>\n",
       "      <th>2777</th>\n",
       "      <td>CHEFMAN</td>\n",
       "      <td>Chefman 7.4 liter air fryer + grill RJ38-AFG-7...</td>\n",
       "      <td>1127603215</td>\n",
       "      <td>Liverpool r.no.565 Serp_job</td>\n",
       "      <td>97</td>\n",
       "    </tr>\n",
       "    <tr>\n",
       "      <th>2778</th>\n",
       "      <td>CHEFMAN</td>\n",
       "      <td>Chefman 4.7L RJ38-SQSS-5T-MX Air Fryer</td>\n",
       "      <td>1121653041</td>\n",
       "      <td>Liverpool r.no.565 Serp_job</td>\n",
       "      <td>97</td>\n",
       "    </tr>\n",
       "  </tbody>\n",
       "</table>\n",
       "<p>2779 rows × 5 columns</p>\n",
       "</div>"
      ],
      "text/plain": [
       "        brand                                              title         sku  \\\n",
       "0     PHILIPS                 Philips HR2242/91 12 speed blender  1133782580   \n",
       "1     CHEFMAN    Chefman 7.5 liter air fryer Rj38-sqpf-8t2p-w-mx  1133876100   \n",
       "2     CHEFMAN                 Chefman 3.5L RJ38-V2 3.5 Oil Fryer  1073762177   \n",
       "3     CHEFMAN        Chefman Cheman RJ14-12-SQ Drip Coffee Maker  1096142541   \n",
       "4     CHEFMAN         Chefman 7 liter air fryer RJ38-SQPF-8TW-MX  1126608329   \n",
       "...       ...                                                ...         ...   \n",
       "2774  CHEFMAN       Chefman RJ19-V2-SBP-Black Food Processor Set  1096538274   \n",
       "2775  CHEFMAN               Chefman 10L RJ38-10-RDO-V2 Air Fryer  1099768696   \n",
       "2776  CHEFMAN            Waffle Maker Chefman RJ04-4P 4 portions  1073762215   \n",
       "2777  CHEFMAN  Chefman 7.4 liter air fryer + grill RJ38-AFG-7...  1127603215   \n",
       "2778  CHEFMAN             Chefman 4.7L RJ38-SQSS-5T-MX Air Fryer  1121653041   \n",
       "\n",
       "                          job_name  channel_id  \n",
       "0     Liverpool r.no.565 Serp_job           97  \n",
       "1     Liverpool r.no.565 Serp_job           97  \n",
       "2     Liverpool r.no.565 Serp_job           97  \n",
       "3     Liverpool r.no.565 Serp_job           97  \n",
       "4     Liverpool r.no.565 Serp_job           97  \n",
       "...                            ...         ...  \n",
       "2774  Liverpool r.no.565 Serp_job           97  \n",
       "2775  Liverpool r.no.565 Serp_job           97  \n",
       "2776  Liverpool r.no.565 Serp_job           97  \n",
       "2777  Liverpool r.no.565 Serp_job           97  \n",
       "2778  Liverpool r.no.565 Serp_job           97  \n",
       "\n",
       "[2779 rows x 5 columns]"
      ]
     },
     "execution_count": 9,
     "metadata": {},
     "output_type": "execute_result"
    }
   ],
   "source": [
    "serp_details"
   ]
  },
  {
   "cell_type": "code",
   "execution_count": 10,
   "id": "67140a4f",
   "metadata": {},
   "outputs": [
    {
     "name": "stderr",
     "output_type": "stream",
     "text": [
      "C:\\Users\\Administrator\\AppData\\Local\\Temp\\2\\ipykernel_155092\\2610474507.py:4: SettingWithCopyWarning: \n",
      "A value is trying to be set on a copy of a slice from a DataFrame\n",
      "\n",
      "See the caveats in the documentation: https://pandas.pydata.org/pandas-docs/stable/user_guide/indexing.html#returning-a-view-versus-a-copy\n",
      "  df_ASIN.dropna(inplace=True)\n",
      "C:\\Users\\Administrator\\AppData\\Local\\Temp\\2\\ipykernel_155092\\2610474507.py:5: SettingWithCopyWarning: \n",
      "A value is trying to be set on a copy of a slice from a DataFrame\n",
      "\n",
      "See the caveats in the documentation: https://pandas.pydata.org/pandas-docs/stable/user_guide/indexing.html#returning-a-view-versus-a-copy\n",
      "  df_ASIN.drop_duplicates(inplace=True)\n"
     ]
    },
    {
     "data": {
      "text/plain": [
       "817"
      ]
     },
     "execution_count": 10,
     "metadata": {},
     "output_type": "execute_result"
    }
   ],
   "source": [
    "rawdf1=serp_details.drop_duplicates('sku')\n",
    "\n",
    "df_ASIN = rawdf1[[\"sku\"]]\n",
    "df_ASIN.dropna(inplace=True)\n",
    "df_ASIN.drop_duplicates(inplace=True)\n",
    "asinlist = list(df_ASIN['sku'])\n",
    "len(asinlist)"
   ]
  },
  {
   "cell_type": "code",
   "execution_count": 11,
   "id": "e8f31e27",
   "metadata": {},
   "outputs": [
    {
     "name": "stderr",
     "output_type": "stream",
     "text": [
      "C:\\Users\\Administrator\\AppData\\Local\\Temp\\2\\ipykernel_155092\\3517360684.py:7: UserWarning: pandas only supports SQLAlchemy connectable (engine/connection) or database string URI or sqlite3 DBAPI2 connection. Other DBAPI2 objects are not tested. Please consider using SQLAlchemy.\n",
      "  pm_data = pd.read_sql_query(query_2, conn[1])\n"
     ]
    },
    {
     "data": {
      "text/html": [
       "<div>\n",
       "<style scoped>\n",
       "    .dataframe tbody tr th:only-of-type {\n",
       "        vertical-align: middle;\n",
       "    }\n",
       "\n",
       "    .dataframe tbody tr th {\n",
       "        vertical-align: top;\n",
       "    }\n",
       "\n",
       "    .dataframe thead th {\n",
       "        text-align: right;\n",
       "    }\n",
       "</style>\n",
       "<table border=\"1\" class=\"dataframe\">\n",
       "  <thead>\n",
       "    <tr style=\"text-align: right;\">\n",
       "      <th></th>\n",
       "      <th>channel_sku_id</th>\n",
       "      <th>country_code</th>\n",
       "      <th>brand_name</th>\n",
       "      <th>categories</th>\n",
       "      <th>category_id</th>\n",
       "    </tr>\n",
       "  </thead>\n",
       "  <tbody>\n",
       "    <tr>\n",
       "      <th>0</th>\n",
       "      <td>1002761951</td>\n",
       "      <td>MX</td>\n",
       "      <td>LE CREUSET</td>\n",
       "      <td>None</td>\n",
       "      <td>None</td>\n",
       "    </tr>\n",
       "    <tr>\n",
       "      <th>1</th>\n",
       "      <td>1003055716</td>\n",
       "      <td>MX</td>\n",
       "      <td>Hamilton Beach</td>\n",
       "      <td>['Aparatos Eléctricos']</td>\n",
       "      <td>None</td>\n",
       "    </tr>\n",
       "    <tr>\n",
       "      <th>2</th>\n",
       "      <td>1003503565</td>\n",
       "      <td>MX</td>\n",
       "      <td>Hamilton</td>\n",
       "      <td>['Batidoras']</td>\n",
       "      <td>None</td>\n",
       "    </tr>\n",
       "    <tr>\n",
       "      <th>3</th>\n",
       "      <td>1004815994</td>\n",
       "      <td>MX</td>\n",
       "      <td>Oster</td>\n",
       "      <td>['Electrodomésticos Especializados']</td>\n",
       "      <td>None</td>\n",
       "    </tr>\n",
       "    <tr>\n",
       "      <th>4</th>\n",
       "      <td>1008134762</td>\n",
       "      <td>MX</td>\n",
       "      <td>Oster</td>\n",
       "      <td>['Aparatos Eléctricos']</td>\n",
       "      <td>None</td>\n",
       "    </tr>\n",
       "    <tr>\n",
       "      <th>...</th>\n",
       "      <td>...</td>\n",
       "      <td>...</td>\n",
       "      <td>...</td>\n",
       "      <td>...</td>\n",
       "      <td>...</td>\n",
       "    </tr>\n",
       "    <tr>\n",
       "      <th>821</th>\n",
       "      <td>4408489</td>\n",
       "      <td>MX</td>\n",
       "      <td>Sanelec</td>\n",
       "      <td>['Eléctricos y Multicontactos']</td>\n",
       "      <td>None</td>\n",
       "    </tr>\n",
       "    <tr>\n",
       "      <th>822</th>\n",
       "      <td>51037448</td>\n",
       "      <td>MX</td>\n",
       "      <td>Oster</td>\n",
       "      <td>['Licuadoras']</td>\n",
       "      <td>None</td>\n",
       "    </tr>\n",
       "    <tr>\n",
       "      <th>823</th>\n",
       "      <td>63740136</td>\n",
       "      <td>MX</td>\n",
       "      <td>OSTER</td>\n",
       "      <td>None</td>\n",
       "      <td>None</td>\n",
       "    </tr>\n",
       "    <tr>\n",
       "      <th>824</th>\n",
       "      <td>77504362</td>\n",
       "      <td>MX</td>\n",
       "      <td>Breville</td>\n",
       "      <td>['Aparatos Eléctricos']</td>\n",
       "      <td>None</td>\n",
       "    </tr>\n",
       "    <tr>\n",
       "      <th>825</th>\n",
       "      <td>78427957</td>\n",
       "      <td>MX</td>\n",
       "      <td>Editorial Diana</td>\n",
       "      <td>['Libros']</td>\n",
       "      <td>None</td>\n",
       "    </tr>\n",
       "  </tbody>\n",
       "</table>\n",
       "<p>826 rows × 5 columns</p>\n",
       "</div>"
      ],
      "text/plain": [
       "    channel_sku_id country_code       brand_name  \\\n",
       "0       1002761951           MX       LE CREUSET   \n",
       "1       1003055716           MX   Hamilton Beach   \n",
       "2       1003503565           MX         Hamilton   \n",
       "3       1004815994           MX            Oster   \n",
       "4       1008134762           MX            Oster   \n",
       "..             ...          ...              ...   \n",
       "821        4408489           MX          Sanelec   \n",
       "822       51037448           MX            Oster   \n",
       "823       63740136           MX            OSTER   \n",
       "824       77504362           MX         Breville   \n",
       "825       78427957           MX  Editorial Diana   \n",
       "\n",
       "                               categories category_id  \n",
       "0                                    None        None  \n",
       "1                 ['Aparatos Eléctricos']        None  \n",
       "2                           ['Batidoras']        None  \n",
       "3    ['Electrodomésticos Especializados']        None  \n",
       "4                 ['Aparatos Eléctricos']        None  \n",
       "..                                    ...         ...  \n",
       "821       ['Eléctricos y Multicontactos']        None  \n",
       "822                        ['Licuadoras']        None  \n",
       "823                                  None        None  \n",
       "824               ['Aparatos Eléctricos']        None  \n",
       "825                            ['Libros']        None  \n",
       "\n",
       "[826 rows x 5 columns]"
      ]
     },
     "execution_count": 11,
     "metadata": {},
     "output_type": "execute_result"
    }
   ],
   "source": [
    "query_2 = f\"\"\" \n",
    "Select channel_sku_id,country_code, brand_name, categories,category_id\n",
    "from entity.product_master\n",
    "where channel_sku_id in {tuple(asinlist)} \n",
    "\"\"\"\n",
    "\n",
    "pm_data = pd.read_sql_query(query_2, conn[1])\n",
    "pm_data"
   ]
  },
  {
   "cell_type": "code",
   "execution_count": 12,
   "id": "4a1b43e2",
   "metadata": {},
   "outputs": [
    {
     "data": {
      "text/html": [
       "<div>\n",
       "<style scoped>\n",
       "    .dataframe tbody tr th:only-of-type {\n",
       "        vertical-align: middle;\n",
       "    }\n",
       "\n",
       "    .dataframe tbody tr th {\n",
       "        vertical-align: top;\n",
       "    }\n",
       "\n",
       "    .dataframe thead th {\n",
       "        text-align: right;\n",
       "    }\n",
       "</style>\n",
       "<table border=\"1\" class=\"dataframe\">\n",
       "  <thead>\n",
       "    <tr style=\"text-align: right;\">\n",
       "      <th></th>\n",
       "      <th>brand</th>\n",
       "      <th>title</th>\n",
       "      <th>sku</th>\n",
       "      <th>job_name</th>\n",
       "      <th>channel_id</th>\n",
       "      <th>channel_sku_id</th>\n",
       "      <th>country_code</th>\n",
       "      <th>brand_name</th>\n",
       "      <th>categories</th>\n",
       "      <th>category_id</th>\n",
       "    </tr>\n",
       "  </thead>\n",
       "  <tbody>\n",
       "    <tr>\n",
       "      <th>0</th>\n",
       "      <td>PHILIPS</td>\n",
       "      <td>Philips HR2242/91 12 speed blender</td>\n",
       "      <td>1133782580</td>\n",
       "      <td>Liverpool r.no.565 Serp_job</td>\n",
       "      <td>97</td>\n",
       "      <td>1133782580</td>\n",
       "      <td>MX</td>\n",
       "      <td>Philips</td>\n",
       "      <td>['Licuadoras']</td>\n",
       "      <td>None</td>\n",
       "    </tr>\n",
       "    <tr>\n",
       "      <th>1</th>\n",
       "      <td>CHEFMAN</td>\n",
       "      <td>Chefman 7.5 liter air fryer Rj38-sqpf-8t2p-w-mx</td>\n",
       "      <td>1133876100</td>\n",
       "      <td>Liverpool r.no.565 Serp_job</td>\n",
       "      <td>97</td>\n",
       "      <td>1133876100</td>\n",
       "      <td>MX</td>\n",
       "      <td>Chefman</td>\n",
       "      <td>['Freidoras']</td>\n",
       "      <td>None</td>\n",
       "    </tr>\n",
       "    <tr>\n",
       "      <th>2</th>\n",
       "      <td>CHEFMAN</td>\n",
       "      <td>Chefman 3.5L RJ38-V2 3.5 Oil Fryer</td>\n",
       "      <td>1073762177</td>\n",
       "      <td>Liverpool r.no.565 Serp_job</td>\n",
       "      <td>97</td>\n",
       "      <td>1073762177</td>\n",
       "      <td>MX</td>\n",
       "      <td>Chefman</td>\n",
       "      <td>['Freidoras de Aceite']</td>\n",
       "      <td>None</td>\n",
       "    </tr>\n",
       "    <tr>\n",
       "      <th>3</th>\n",
       "      <td>CHEFMAN</td>\n",
       "      <td>Chefman Cheman RJ14-12-SQ Drip Coffee Maker</td>\n",
       "      <td>1096142541</td>\n",
       "      <td>Liverpool r.no.565 Serp_job</td>\n",
       "      <td>97</td>\n",
       "      <td>1096142541</td>\n",
       "      <td>MX</td>\n",
       "      <td>Chefman</td>\n",
       "      <td>['Cafeteras']</td>\n",
       "      <td>None</td>\n",
       "    </tr>\n",
       "    <tr>\n",
       "      <th>4</th>\n",
       "      <td>CHEFMAN</td>\n",
       "      <td>Chefman 7 liter air fryer RJ38-SQPF-8TW-MX</td>\n",
       "      <td>1126608329</td>\n",
       "      <td>Liverpool r.no.565 Serp_job</td>\n",
       "      <td>97</td>\n",
       "      <td>1126608329</td>\n",
       "      <td>MX</td>\n",
       "      <td>Chefman</td>\n",
       "      <td>['Freidoras de Aire']</td>\n",
       "      <td>None</td>\n",
       "    </tr>\n",
       "    <tr>\n",
       "      <th>...</th>\n",
       "      <td>...</td>\n",
       "      <td>...</td>\n",
       "      <td>...</td>\n",
       "      <td>...</td>\n",
       "      <td>...</td>\n",
       "      <td>...</td>\n",
       "      <td>...</td>\n",
       "      <td>...</td>\n",
       "      <td>...</td>\n",
       "      <td>...</td>\n",
       "    </tr>\n",
       "    <tr>\n",
       "      <th>821</th>\n",
       "      <td>UFESA</td>\n",
       "      <td>Ufesa Malaga blender 10 speeds BS7020-MG-5291</td>\n",
       "      <td>1126387888</td>\n",
       "      <td>Liverpool r.no.565 Serp_job</td>\n",
       "      <td>97</td>\n",
       "      <td>1126387888</td>\n",
       "      <td>MX</td>\n",
       "      <td>Ufesa</td>\n",
       "      <td>['Licuadoras']</td>\n",
       "      <td>None</td>\n",
       "    </tr>\n",
       "    <tr>\n",
       "      <th>822</th>\n",
       "      <td>MAN</td>\n",
       "      <td>Man Ecoblender 3-speed blender LP-1010</td>\n",
       "      <td>1099235311</td>\n",
       "      <td>Liverpool r.no.565 Serp_job</td>\n",
       "      <td>97</td>\n",
       "      <td>1099235311</td>\n",
       "      <td>MX</td>\n",
       "      <td>Man</td>\n",
       "      <td>['Aparatos Eléctricos']</td>\n",
       "      <td>None</td>\n",
       "    </tr>\n",
       "    <tr>\n",
       "      <th>823</th>\n",
       "      <td>CHEFMAN</td>\n",
       "      <td>Waffle Maker Chefman RJ04-4P 4 portions</td>\n",
       "      <td>1073762215</td>\n",
       "      <td>Liverpool r.no.565 Serp_job</td>\n",
       "      <td>97</td>\n",
       "      <td>1073762215</td>\n",
       "      <td>MX</td>\n",
       "      <td>Chefman</td>\n",
       "      <td>['Cocinando Juntos']</td>\n",
       "      <td>None</td>\n",
       "    </tr>\n",
       "    <tr>\n",
       "      <th>824</th>\n",
       "      <td>CHEFMAN</td>\n",
       "      <td>Chefman 7.4 liter air fryer + grill RJ38-AFG-7...</td>\n",
       "      <td>1127603215</td>\n",
       "      <td>Liverpool r.no.565 Serp_job</td>\n",
       "      <td>97</td>\n",
       "      <td>1127603215</td>\n",
       "      <td>MX</td>\n",
       "      <td>Chefman</td>\n",
       "      <td>['Freidoras de Aire']</td>\n",
       "      <td>None</td>\n",
       "    </tr>\n",
       "    <tr>\n",
       "      <th>825</th>\n",
       "      <td>CHEFMAN</td>\n",
       "      <td>Chefman 4.7L RJ38-SQSS-5T-MX Air Fryer</td>\n",
       "      <td>1121653041</td>\n",
       "      <td>Liverpool r.no.565 Serp_job</td>\n",
       "      <td>97</td>\n",
       "      <td>1121653041</td>\n",
       "      <td>MX</td>\n",
       "      <td>Chefman</td>\n",
       "      <td>['Freidoras de Aire']</td>\n",
       "      <td>None</td>\n",
       "    </tr>\n",
       "  </tbody>\n",
       "</table>\n",
       "<p>826 rows × 10 columns</p>\n",
       "</div>"
      ],
      "text/plain": [
       "       brand                                              title         sku  \\\n",
       "0    PHILIPS                 Philips HR2242/91 12 speed blender  1133782580   \n",
       "1    CHEFMAN    Chefman 7.5 liter air fryer Rj38-sqpf-8t2p-w-mx  1133876100   \n",
       "2    CHEFMAN                 Chefman 3.5L RJ38-V2 3.5 Oil Fryer  1073762177   \n",
       "3    CHEFMAN        Chefman Cheman RJ14-12-SQ Drip Coffee Maker  1096142541   \n",
       "4    CHEFMAN         Chefman 7 liter air fryer RJ38-SQPF-8TW-MX  1126608329   \n",
       "..       ...                                                ...         ...   \n",
       "821    UFESA      Ufesa Malaga blender 10 speeds BS7020-MG-5291  1126387888   \n",
       "822      MAN             Man Ecoblender 3-speed blender LP-1010  1099235311   \n",
       "823  CHEFMAN            Waffle Maker Chefman RJ04-4P 4 portions  1073762215   \n",
       "824  CHEFMAN  Chefman 7.4 liter air fryer + grill RJ38-AFG-7...  1127603215   \n",
       "825  CHEFMAN             Chefman 4.7L RJ38-SQSS-5T-MX Air Fryer  1121653041   \n",
       "\n",
       "                         job_name  channel_id channel_sku_id country_code  \\\n",
       "0    Liverpool r.no.565 Serp_job           97     1133782580           MX   \n",
       "1    Liverpool r.no.565 Serp_job           97     1133876100           MX   \n",
       "2    Liverpool r.no.565 Serp_job           97     1073762177           MX   \n",
       "3    Liverpool r.no.565 Serp_job           97     1096142541           MX   \n",
       "4    Liverpool r.no.565 Serp_job           97     1126608329           MX   \n",
       "..                            ...         ...            ...          ...   \n",
       "821  Liverpool r.no.565 Serp_job           97     1126387888           MX   \n",
       "822  Liverpool r.no.565 Serp_job           97     1099235311           MX   \n",
       "823  Liverpool r.no.565 Serp_job           97     1073762215           MX   \n",
       "824  Liverpool r.no.565 Serp_job           97     1127603215           MX   \n",
       "825  Liverpool r.no.565 Serp_job           97     1121653041           MX   \n",
       "\n",
       "    brand_name               categories category_id  \n",
       "0      Philips           ['Licuadoras']        None  \n",
       "1      Chefman            ['Freidoras']        None  \n",
       "2      Chefman  ['Freidoras de Aceite']        None  \n",
       "3      Chefman            ['Cafeteras']        None  \n",
       "4      Chefman    ['Freidoras de Aire']        None  \n",
       "..         ...                      ...         ...  \n",
       "821      Ufesa           ['Licuadoras']        None  \n",
       "822        Man  ['Aparatos Eléctricos']        None  \n",
       "823    Chefman     ['Cocinando Juntos']        None  \n",
       "824    Chefman    ['Freidoras de Aire']        None  \n",
       "825    Chefman    ['Freidoras de Aire']        None  \n",
       "\n",
       "[826 rows x 10 columns]"
      ]
     },
     "execution_count": 12,
     "metadata": {},
     "output_type": "execute_result"
    }
   ],
   "source": [
    "mapped_df=pd.merge(rawdf1,pm_data, how='left', left_on=['sku'],right_on=['channel_sku_id'])\n",
    "mapped_df"
   ]
  },
  {
   "cell_type": "code",
   "execution_count": 13,
   "id": "9552af6b",
   "metadata": {},
   "outputs": [
    {
     "data": {
      "text/html": [
       "<div>\n",
       "<style scoped>\n",
       "    .dataframe tbody tr th:only-of-type {\n",
       "        vertical-align: middle;\n",
       "    }\n",
       "\n",
       "    .dataframe tbody tr th {\n",
       "        vertical-align: top;\n",
       "    }\n",
       "\n",
       "    .dataframe thead th {\n",
       "        text-align: right;\n",
       "    }\n",
       "</style>\n",
       "<table border=\"1\" class=\"dataframe\">\n",
       "  <thead>\n",
       "    <tr style=\"text-align: right;\">\n",
       "      <th></th>\n",
       "      <th>channel_id</th>\n",
       "      <th>sku</th>\n",
       "      <th>title</th>\n",
       "      <th>brand_name</th>\n",
       "    </tr>\n",
       "  </thead>\n",
       "  <tbody>\n",
       "    <tr>\n",
       "      <th>17</th>\n",
       "      <td>97</td>\n",
       "      <td>1139996875</td>\n",
       "      <td>Chefman Chef iQ Electric Pressure Cooker</td>\n",
       "      <td>CHEFMAN</td>\n",
       "    </tr>\n",
       "    <tr>\n",
       "      <th>24</th>\n",
       "      <td>97</td>\n",
       "      <td>1106271492</td>\n",
       "      <td>Chefman RJ48 4 Liter Mini Refrigerator</td>\n",
       "      <td>CHEFMAN</td>\n",
       "    </tr>\n",
       "    <tr>\n",
       "      <th>36</th>\n",
       "      <td>97</td>\n",
       "      <td>1099398678</td>\n",
       "      <td>Black + Decker BL-1000WG 10-Speed Blender</td>\n",
       "      <td>BLACK + DECKER</td>\n",
       "    </tr>\n",
       "    <tr>\n",
       "      <th>48</th>\n",
       "      <td>97</td>\n",
       "      <td>1063056428</td>\n",
       "      <td>Hamilton Beach 2 Speed Motorized Blender</td>\n",
       "      <td>HAMILTON</td>\n",
       "    </tr>\n",
       "    <tr>\n",
       "      <th>54</th>\n",
       "      <td>97</td>\n",
       "      <td>1098999627</td>\n",
       "      <td>Kitchenaid K150 3 speed blender</td>\n",
       "      <td>KITCHENAID</td>\n",
       "    </tr>\n",
       "    <tr>\n",
       "      <th>...</th>\n",
       "      <td>...</td>\n",
       "      <td>...</td>\n",
       "      <td>...</td>\n",
       "      <td>...</td>\n",
       "    </tr>\n",
       "    <tr>\n",
       "      <th>767</th>\n",
       "      <td>97</td>\n",
       "      <td>1100369954</td>\n",
       "      <td>Avent electric breast pump</td>\n",
       "      <td>AVENT</td>\n",
       "    </tr>\n",
       "    <tr>\n",
       "      <th>774</th>\n",
       "      <td>97</td>\n",
       "      <td>1100530801</td>\n",
       "      <td>Electric epilator for legs Philips Series 8000...</td>\n",
       "      <td>PHILIPS</td>\n",
       "    </tr>\n",
       "    <tr>\n",
       "      <th>777</th>\n",
       "      <td>97</td>\n",
       "      <td>1135529369</td>\n",
       "      <td>Philips shaving set</td>\n",
       "      <td>PHILIPS</td>\n",
       "    </tr>\n",
       "    <tr>\n",
       "      <th>795</th>\n",
       "      <td>97</td>\n",
       "      <td>1138606178</td>\n",
       "      <td>Hamilton Beach 46895 Drip Coffee Maker</td>\n",
       "      <td>HAMILTON BEACH</td>\n",
       "    </tr>\n",
       "    <tr>\n",
       "      <th>818</th>\n",
       "      <td>97</td>\n",
       "      <td>1134529128</td>\n",
       "      <td>Hamilton Beach Egg Cooker</td>\n",
       "      <td>HAMILTON BEACH</td>\n",
       "    </tr>\n",
       "  </tbody>\n",
       "</table>\n",
       "<p>202 rows × 4 columns</p>\n",
       "</div>"
      ],
      "text/plain": [
       "     channel_id         sku  \\\n",
       "17           97  1139996875   \n",
       "24           97  1106271492   \n",
       "36           97  1099398678   \n",
       "48           97  1063056428   \n",
       "54           97  1098999627   \n",
       "..          ...         ...   \n",
       "767          97  1100369954   \n",
       "774          97  1100530801   \n",
       "777          97  1135529369   \n",
       "795          97  1138606178   \n",
       "818          97  1134529128   \n",
       "\n",
       "                                                 title      brand_name  \n",
       "17            Chefman Chef iQ Electric Pressure Cooker         CHEFMAN  \n",
       "24              Chefman RJ48 4 Liter Mini Refrigerator         CHEFMAN  \n",
       "36           Black + Decker BL-1000WG 10-Speed Blender  BLACK + DECKER  \n",
       "48            Hamilton Beach 2 Speed Motorized Blender        HAMILTON  \n",
       "54                     Kitchenaid K150 3 speed blender      KITCHENAID  \n",
       "..                                                 ...             ...  \n",
       "767                         Avent electric breast pump           AVENT  \n",
       "774  Electric epilator for legs Philips Series 8000...         PHILIPS  \n",
       "777                                Philips shaving set         PHILIPS  \n",
       "795             Hamilton Beach 46895 Drip Coffee Maker  HAMILTON BEACH  \n",
       "818                          Hamilton Beach Egg Cooker  HAMILTON BEACH  \n",
       "\n",
       "[202 rows x 4 columns]"
      ]
     },
     "execution_count": 13,
     "metadata": {},
     "output_type": "execute_result"
    }
   ],
   "source": [
    "df2=mapped_df[mapped_df['categories'].isnull()][['channel_id','sku','title','brand_name']]\n",
    "df2"
   ]
  },
  {
   "cell_type": "code",
   "execution_count": 17,
   "id": "aebd07cd",
   "metadata": {},
   "outputs": [
    {
     "data": {
      "text/plain": [
       "202"
      ]
     },
     "execution_count": 17,
     "metadata": {},
     "output_type": "execute_result"
    }
   ],
   "source": [
    "asinlist = list(df2['sku'])\n",
    "len(asinlist)"
   ]
  },
  {
   "cell_type": "code",
   "execution_count": 15,
   "id": "2a2e85c1",
   "metadata": {},
   "outputs": [
    {
     "data": {
      "text/html": [
       "<div>\n",
       "<style scoped>\n",
       "    .dataframe tbody tr th:only-of-type {\n",
       "        vertical-align: middle;\n",
       "    }\n",
       "\n",
       "    .dataframe tbody tr th {\n",
       "        vertical-align: top;\n",
       "    }\n",
       "\n",
       "    .dataframe thead th {\n",
       "        text-align: right;\n",
       "    }\n",
       "</style>\n",
       "<table border=\"1\" class=\"dataframe\">\n",
       "  <thead>\n",
       "    <tr style=\"text-align: right;\">\n",
       "      <th></th>\n",
       "      <th>channel_sku_id</th>\n",
       "      <th>categories</th>\n",
       "    </tr>\n",
       "  </thead>\n",
       "  <tbody>\n",
       "  </tbody>\n",
       "</table>\n",
       "</div>"
      ],
      "text/plain": [
       "Empty DataFrame\n",
       "Columns: [channel_sku_id, categories]\n",
       "Index: []"
      ]
     },
     "execution_count": 15,
     "metadata": {},
     "output_type": "execute_result"
    }
   ],
   "source": [
    "df=pd.DataFrame(columns=['channel_sku_id','categories'])\n",
    "df"
   ]
  },
  {
   "cell_type": "code",
   "execution_count": 21,
   "id": "de6bae9e",
   "metadata": {
    "scrolled": true
   },
   "outputs": [
    {
     "name": "stderr",
     "output_type": "stream",
     "text": [
      "\r",
      "  0%|                                                                                          | 0/202 [00:00<?, ?it/s]"
     ]
    },
    {
     "name": "stdout",
     "output_type": "stream",
     "text": [
      "************************\n",
      "0\n",
      "https://www.liverpool.com.mx/tienda/pdp/-/1139996875?skuid=1139996875\n"
     ]
    },
    {
     "name": "stderr",
     "output_type": "stream",
     "text": [
      "C:\\Users\\Administrator\\AppData\\Local\\Temp\\2\\ipykernel_155092\\1117802599.py:27: FutureWarning: The frame.append method is deprecated and will be removed from pandas in a future version. Use pandas.concat instead.\n",
      "  df=df.append(df1, ignore_index = True)\n",
      "\r",
      "  0%|▍                                                                                 | 1/202 [00:07<24:13,  7.23s/it]"
     ]
    },
    {
     "name": "stdout",
     "output_type": "stream",
     "text": [
      "['Home', 'Belleza', 'Marcas Destacadas', 'MAC']\n",
      "************************\n",
      "1\n",
      "https://www.liverpool.com.mx/tienda/pdp/-/1106271492?skuid=1106271492\n"
     ]
    },
    {
     "name": "stderr",
     "output_type": "stream",
     "text": [
      "C:\\Users\\Administrator\\AppData\\Local\\Temp\\2\\ipykernel_155092\\1117802599.py:27: FutureWarning: The frame.append method is deprecated and will be removed from pandas in a future version. Use pandas.concat instead.\n",
      "  df=df.append(df1, ignore_index = True)\n",
      "\r",
      "  1%|▊                                                                                 | 2/202 [00:14<23:27,  7.04s/it]"
     ]
    },
    {
     "name": "stdout",
     "output_type": "stream",
     "text": [
      "['Home', 'Belleza', 'Marcas Destacadas', 'MAC']\n",
      "************************\n",
      "2\n",
      "https://www.liverpool.com.mx/tienda/pdp/-/1099398678?skuid=1099398678\n"
     ]
    },
    {
     "name": "stderr",
     "output_type": "stream",
     "text": [
      "C:\\Users\\Administrator\\AppData\\Local\\Temp\\2\\ipykernel_155092\\1117802599.py:27: FutureWarning: The frame.append method is deprecated and will be removed from pandas in a future version. Use pandas.concat instead.\n",
      "  df=df.append(df1, ignore_index = True)\n",
      "\r",
      "  1%|█▏                                                                                | 3/202 [00:21<23:12,  6.99s/it]"
     ]
    },
    {
     "name": "stdout",
     "output_type": "stream",
     "text": [
      "['Home', 'Belleza', 'Marcas Destacadas', 'MAC']\n",
      "************************\n",
      "3\n",
      "https://www.liverpool.com.mx/tienda/pdp/-/1063056428?skuid=1063056428\n"
     ]
    },
    {
     "name": "stderr",
     "output_type": "stream",
     "text": [
      "C:\\Users\\Administrator\\AppData\\Local\\Temp\\2\\ipykernel_155092\\1117802599.py:27: FutureWarning: The frame.append method is deprecated and will be removed from pandas in a future version. Use pandas.concat instead.\n",
      "  df=df.append(df1, ignore_index = True)\n",
      "\r",
      "  2%|█▌                                                                                | 4/202 [00:28<23:12,  7.03s/it]"
     ]
    },
    {
     "name": "stdout",
     "output_type": "stream",
     "text": [
      "['Home', 'Belleza', 'Marcas Destacadas', 'MAC']\n",
      "************************\n",
      "4\n",
      "https://www.liverpool.com.mx/tienda/pdp/-/1098999627?skuid=1098999627\n"
     ]
    },
    {
     "name": "stderr",
     "output_type": "stream",
     "text": [
      "C:\\Users\\Administrator\\AppData\\Local\\Temp\\2\\ipykernel_155092\\1117802599.py:27: FutureWarning: The frame.append method is deprecated and will be removed from pandas in a future version. Use pandas.concat instead.\n",
      "  df=df.append(df1, ignore_index = True)\n",
      "\r",
      "  2%|██                                                                                | 5/202 [00:34<22:28,  6.85s/it]"
     ]
    },
    {
     "name": "stdout",
     "output_type": "stream",
     "text": [
      "['Home', 'Belleza', 'Marcas Destacadas', 'MAC']\n",
      "************************\n",
      "5\n",
      "https://www.liverpool.com.mx/tienda/pdp/-/1139571971?skuid=1139571971\n"
     ]
    },
    {
     "name": "stderr",
     "output_type": "stream",
     "text": [
      "C:\\Users\\Administrator\\AppData\\Local\\Temp\\2\\ipykernel_155092\\1117802599.py:27: FutureWarning: The frame.append method is deprecated and will be removed from pandas in a future version. Use pandas.concat instead.\n",
      "  df=df.append(df1, ignore_index = True)\n",
      "\r",
      "  3%|██▍                                                                               | 6/202 [00:40<21:24,  6.56s/it]"
     ]
    },
    {
     "name": "stdout",
     "output_type": "stream",
     "text": [
      "['Home', 'Belleza', 'Marcas Destacadas', 'MAC']\n",
      "************************\n",
      "6\n",
      "https://www.liverpool.com.mx/tienda/pdp/-/1048250838?skuid=1048250838\n"
     ]
    },
    {
     "name": "stderr",
     "output_type": "stream",
     "text": [
      "C:\\Users\\Administrator\\AppData\\Local\\Temp\\2\\ipykernel_155092\\1117802599.py:27: FutureWarning: The frame.append method is deprecated and will be removed from pandas in a future version. Use pandas.concat instead.\n",
      "  df=df.append(df1, ignore_index = True)\n",
      "\r",
      "  3%|██▊                                                                               | 7/202 [00:47<21:24,  6.59s/it]"
     ]
    },
    {
     "name": "stdout",
     "output_type": "stream",
     "text": [
      "['Home', 'Belleza', 'Marcas Destacadas', 'MAC']\n",
      "************************\n",
      "7\n",
      "https://www.liverpool.com.mx/tienda/pdp/-/1133854106?skuid=1133854106\n"
     ]
    },
    {
     "name": "stderr",
     "output_type": "stream",
     "text": [
      "C:\\Users\\Administrator\\AppData\\Local\\Temp\\2\\ipykernel_155092\\1117802599.py:27: FutureWarning: The frame.append method is deprecated and will be removed from pandas in a future version. Use pandas.concat instead.\n",
      "  df=df.append(df1, ignore_index = True)\n",
      "\r",
      "  4%|███▏                                                                              | 8/202 [00:53<21:00,  6.50s/it]"
     ]
    },
    {
     "name": "stdout",
     "output_type": "stream",
     "text": [
      "['Home', 'Belleza', 'Marcas Destacadas', 'MAC']\n",
      "************************\n",
      "8\n",
      "https://www.liverpool.com.mx/tienda/pdp/-/1070978195?skuid=1070978195\n"
     ]
    },
    {
     "name": "stderr",
     "output_type": "stream",
     "text": [
      "C:\\Users\\Administrator\\AppData\\Local\\Temp\\2\\ipykernel_155092\\1117802599.py:27: FutureWarning: The frame.append method is deprecated and will be removed from pandas in a future version. Use pandas.concat instead.\n",
      "  df=df.append(df1, ignore_index = True)\n",
      "\r",
      "  4%|███▋                                                                              | 9/202 [01:00<20:47,  6.46s/it]"
     ]
    },
    {
     "name": "stdout",
     "output_type": "stream",
     "text": [
      "['Home', 'Belleza', 'Marcas Destacadas', 'MAC']\n",
      "************************\n",
      "9\n",
      "https://www.liverpool.com.mx/tienda/pdp/-/1115055727?skuid=1115055727\n"
     ]
    },
    {
     "name": "stderr",
     "output_type": "stream",
     "text": [
      "C:\\Users\\Administrator\\AppData\\Local\\Temp\\2\\ipykernel_155092\\1117802599.py:27: FutureWarning: The frame.append method is deprecated and will be removed from pandas in a future version. Use pandas.concat instead.\n",
      "  df=df.append(df1, ignore_index = True)\n",
      "\r",
      "  5%|████                                                                             | 10/202 [01:05<20:08,  6.29s/it]"
     ]
    },
    {
     "name": "stdout",
     "output_type": "stream",
     "text": [
      "['Home', 'Belleza', 'Marcas Destacadas', 'MAC']\n",
      "************************\n",
      "10\n",
      "https://www.liverpool.com.mx/tienda/pdp/-/1136836656?skuid=1136836656\n"
     ]
    },
    {
     "name": "stderr",
     "output_type": "stream",
     "text": [
      "C:\\Users\\Administrator\\AppData\\Local\\Temp\\2\\ipykernel_155092\\1117802599.py:27: FutureWarning: The frame.append method is deprecated and will be removed from pandas in a future version. Use pandas.concat instead.\n",
      "  df=df.append(df1, ignore_index = True)\n",
      "\r",
      "  5%|████▍                                                                            | 11/202 [01:12<20:06,  6.32s/it]"
     ]
    },
    {
     "name": "stdout",
     "output_type": "stream",
     "text": [
      "['Home', 'Belleza', 'Marcas Destacadas', 'MAC']\n",
      "************************\n",
      "11\n",
      "https://www.liverpool.com.mx/tienda/pdp/-/1057502416?skuid=1057502416\n"
     ]
    },
    {
     "name": "stderr",
     "output_type": "stream",
     "text": [
      "C:\\Users\\Administrator\\AppData\\Local\\Temp\\2\\ipykernel_155092\\1117802599.py:27: FutureWarning: The frame.append method is deprecated and will be removed from pandas in a future version. Use pandas.concat instead.\n",
      "  df=df.append(df1, ignore_index = True)\n",
      "\r",
      "  6%|████▊                                                                            | 12/202 [01:18<19:43,  6.23s/it]"
     ]
    },
    {
     "name": "stdout",
     "output_type": "stream",
     "text": [
      "['Home', 'Belleza', 'Marcas Destacadas', 'MAC']\n",
      "************************\n",
      "12\n",
      "https://www.liverpool.com.mx/tienda/pdp/-/1098851441?skuid=1098851441\n"
     ]
    },
    {
     "name": "stderr",
     "output_type": "stream",
     "text": [
      "C:\\Users\\Administrator\\AppData\\Local\\Temp\\2\\ipykernel_155092\\1117802599.py:27: FutureWarning: The frame.append method is deprecated and will be removed from pandas in a future version. Use pandas.concat instead.\n",
      "  df=df.append(df1, ignore_index = True)\n",
      "\r",
      "  6%|█████▏                                                                           | 13/202 [01:25<20:29,  6.50s/it]"
     ]
    },
    {
     "name": "stdout",
     "output_type": "stream",
     "text": [
      "['Home', 'Belleza', 'Marcas Destacadas', 'MAC']\n",
      "************************\n",
      "13\n",
      "https://www.liverpool.com.mx/tienda/pdp/-/1124329066?skuid=1124329066\n"
     ]
    },
    {
     "name": "stderr",
     "output_type": "stream",
     "text": [
      "C:\\Users\\Administrator\\AppData\\Local\\Temp\\2\\ipykernel_155092\\1117802599.py:27: FutureWarning: The frame.append method is deprecated and will be removed from pandas in a future version. Use pandas.concat instead.\n",
      "  df=df.append(df1, ignore_index = True)\n",
      "\r",
      "  7%|█████▌                                                                           | 14/202 [01:31<20:23,  6.51s/it]"
     ]
    },
    {
     "name": "stdout",
     "output_type": "stream",
     "text": [
      "['Home', 'Belleza', 'Marcas Destacadas', 'MAC']\n",
      "************************\n",
      "14\n",
      "https://www.liverpool.com.mx/tienda/pdp/-/1126384129?skuid=1126384129\n"
     ]
    },
    {
     "name": "stderr",
     "output_type": "stream",
     "text": [
      "C:\\Users\\Administrator\\AppData\\Local\\Temp\\2\\ipykernel_155092\\1117802599.py:27: FutureWarning: The frame.append method is deprecated and will be removed from pandas in a future version. Use pandas.concat instead.\n",
      "  df=df.append(df1, ignore_index = True)\n",
      "\r",
      "  7%|██████                                                                           | 15/202 [01:38<20:06,  6.45s/it]"
     ]
    },
    {
     "name": "stdout",
     "output_type": "stream",
     "text": [
      "['Home', 'Belleza', 'Marcas Destacadas', 'MAC']\n",
      "************************\n",
      "15\n",
      "https://www.liverpool.com.mx/tienda/pdp/-/1141284688?skuid=1141284688\n"
     ]
    },
    {
     "name": "stderr",
     "output_type": "stream",
     "text": [
      "C:\\Users\\Administrator\\AppData\\Local\\Temp\\2\\ipykernel_155092\\1117802599.py:27: FutureWarning: The frame.append method is deprecated and will be removed from pandas in a future version. Use pandas.concat instead.\n",
      "  df=df.append(df1, ignore_index = True)\n",
      "\r",
      "  8%|██████▍                                                                          | 16/202 [01:44<19:43,  6.36s/it]"
     ]
    },
    {
     "name": "stdout",
     "output_type": "stream",
     "text": [
      "['Home', 'Belleza', 'Marcas Destacadas', 'MAC']\n",
      "************************\n",
      "16\n",
      "https://www.liverpool.com.mx/tienda/pdp/-/1108891749?skuid=1108891749\n"
     ]
    },
    {
     "name": "stderr",
     "output_type": "stream",
     "text": [
      "C:\\Users\\Administrator\\AppData\\Local\\Temp\\2\\ipykernel_155092\\1117802599.py:27: FutureWarning: The frame.append method is deprecated and will be removed from pandas in a future version. Use pandas.concat instead.\n",
      "  df=df.append(df1, ignore_index = True)\n",
      "\r",
      "  8%|██████▊                                                                          | 17/202 [01:50<19:35,  6.35s/it]"
     ]
    },
    {
     "name": "stdout",
     "output_type": "stream",
     "text": [
      "['Home', 'Belleza', 'Marcas Destacadas', 'MAC']\n",
      "************************\n",
      "17\n",
      "https://www.liverpool.com.mx/tienda/pdp/-/1123338673?skuid=1123338673\n"
     ]
    },
    {
     "name": "stderr",
     "output_type": "stream",
     "text": [
      "C:\\Users\\Administrator\\AppData\\Local\\Temp\\2\\ipykernel_155092\\1117802599.py:27: FutureWarning: The frame.append method is deprecated and will be removed from pandas in a future version. Use pandas.concat instead.\n",
      "  df=df.append(df1, ignore_index = True)\n",
      "\r",
      "  9%|███████▏                                                                         | 18/202 [01:56<18:56,  6.18s/it]"
     ]
    },
    {
     "name": "stdout",
     "output_type": "stream",
     "text": [
      "['Home', 'Belleza', 'Marcas Destacadas', 'MAC']\n",
      "************************\n",
      "18\n",
      "https://www.liverpool.com.mx/tienda/pdp/-/1140102675?skuid=1140102675\n"
     ]
    },
    {
     "name": "stderr",
     "output_type": "stream",
     "text": [
      "C:\\Users\\Administrator\\AppData\\Local\\Temp\\2\\ipykernel_155092\\1117802599.py:27: FutureWarning: The frame.append method is deprecated and will be removed from pandas in a future version. Use pandas.concat instead.\n",
      "  df=df.append(df1, ignore_index = True)\n",
      "\r",
      "  9%|███████▌                                                                         | 19/202 [02:04<20:27,  6.71s/it]"
     ]
    },
    {
     "name": "stdout",
     "output_type": "stream",
     "text": [
      "['Home', 'Belleza', 'Marcas Destacadas', 'MAC']\n",
      "************************\n",
      "19\n",
      "https://www.liverpool.com.mx/tienda/pdp/-/1081634048?skuid=1081634048\n"
     ]
    },
    {
     "name": "stderr",
     "output_type": "stream",
     "text": [
      "C:\\Users\\Administrator\\AppData\\Local\\Temp\\2\\ipykernel_155092\\1117802599.py:27: FutureWarning: The frame.append method is deprecated and will be removed from pandas in a future version. Use pandas.concat instead.\n",
      "  df=df.append(df1, ignore_index = True)\n",
      "\r",
      " 10%|████████                                                                         | 20/202 [02:10<19:27,  6.41s/it]"
     ]
    },
    {
     "name": "stdout",
     "output_type": "stream",
     "text": [
      "['Home', 'Belleza', 'Marcas Destacadas', 'MAC']\n",
      "************************\n",
      "20\n",
      "https://www.liverpool.com.mx/tienda/pdp/-/1105052843?skuid=1105052843\n"
     ]
    },
    {
     "name": "stderr",
     "output_type": "stream",
     "text": [
      "C:\\Users\\Administrator\\AppData\\Local\\Temp\\2\\ipykernel_155092\\1117802599.py:27: FutureWarning: The frame.append method is deprecated and will be removed from pandas in a future version. Use pandas.concat instead.\n",
      "  df=df.append(df1, ignore_index = True)\n",
      "\r",
      " 10%|████████▍                                                                        | 21/202 [02:17<19:45,  6.55s/it]"
     ]
    },
    {
     "name": "stdout",
     "output_type": "stream",
     "text": [
      "['Home', 'Belleza', 'Marcas Destacadas', 'MAC']\n",
      "************************\n",
      "21\n",
      "https://www.liverpool.com.mx/tienda/pdp/-/1135657553?skuid=1135657553\n"
     ]
    },
    {
     "name": "stderr",
     "output_type": "stream",
     "text": [
      "C:\\Users\\Administrator\\AppData\\Local\\Temp\\2\\ipykernel_155092\\1117802599.py:27: FutureWarning: The frame.append method is deprecated and will be removed from pandas in a future version. Use pandas.concat instead.\n",
      "  df=df.append(df1, ignore_index = True)\n",
      "\r",
      " 11%|████████▊                                                                        | 22/202 [02:23<19:17,  6.43s/it]"
     ]
    },
    {
     "name": "stdout",
     "output_type": "stream",
     "text": [
      "['Home', 'Belleza', 'Marcas Destacadas', 'MAC']\n",
      "************************\n",
      "22\n",
      "https://www.liverpool.com.mx/tienda/pdp/-/1134561927?skuid=1134561927\n"
     ]
    },
    {
     "name": "stderr",
     "output_type": "stream",
     "text": [
      "C:\\Users\\Administrator\\AppData\\Local\\Temp\\2\\ipykernel_155092\\1117802599.py:27: FutureWarning: The frame.append method is deprecated and will be removed from pandas in a future version. Use pandas.concat instead.\n",
      "  df=df.append(df1, ignore_index = True)\n",
      "\r",
      " 11%|█████████▏                                                                       | 23/202 [02:29<19:07,  6.41s/it]"
     ]
    },
    {
     "name": "stdout",
     "output_type": "stream",
     "text": [
      "['Home', 'Belleza', 'Marcas Destacadas', 'MAC']\n",
      "************************\n",
      "23\n",
      "https://www.liverpool.com.mx/tienda/pdp/-/1141014109?skuid=1141014109\n"
     ]
    },
    {
     "name": "stderr",
     "output_type": "stream",
     "text": [
      "C:\\Users\\Administrator\\AppData\\Local\\Temp\\2\\ipykernel_155092\\1117802599.py:27: FutureWarning: The frame.append method is deprecated and will be removed from pandas in a future version. Use pandas.concat instead.\n",
      "  df=df.append(df1, ignore_index = True)\n",
      "\r",
      " 12%|█████████▌                                                                       | 24/202 [02:36<19:17,  6.50s/it]"
     ]
    },
    {
     "name": "stdout",
     "output_type": "stream",
     "text": [
      "['Home', 'Belleza', 'Marcas Destacadas', 'MAC']\n",
      "************************\n",
      "24\n",
      "https://www.liverpool.com.mx/tienda/pdp/-/1048259169?skuid=1048259169\n"
     ]
    },
    {
     "name": "stderr",
     "output_type": "stream",
     "text": [
      "C:\\Users\\Administrator\\AppData\\Local\\Temp\\2\\ipykernel_155092\\1117802599.py:27: FutureWarning: The frame.append method is deprecated and will be removed from pandas in a future version. Use pandas.concat instead.\n",
      "  df=df.append(df1, ignore_index = True)\n",
      "\r",
      " 12%|██████████                                                                       | 25/202 [02:43<19:49,  6.72s/it]"
     ]
    },
    {
     "name": "stdout",
     "output_type": "stream",
     "text": [
      "['Home', 'Belleza', 'Marcas Destacadas', 'MAC']\n",
      "************************\n",
      "25\n",
      "https://www.liverpool.com.mx/tienda/pdp/-/1098469725?skuid=1098469725\n"
     ]
    },
    {
     "name": "stderr",
     "output_type": "stream",
     "text": [
      "C:\\Users\\Administrator\\AppData\\Local\\Temp\\2\\ipykernel_155092\\1117802599.py:27: FutureWarning: The frame.append method is deprecated and will be removed from pandas in a future version. Use pandas.concat instead.\n",
      "  df=df.append(df1, ignore_index = True)\n",
      "\r",
      " 13%|██████████▍                                                                      | 26/202 [02:49<18:56,  6.46s/it]"
     ]
    },
    {
     "name": "stdout",
     "output_type": "stream",
     "text": [
      "['Home', 'Belleza', 'Marcas Destacadas', 'MAC']\n",
      "************************\n",
      "26\n",
      "https://www.liverpool.com.mx/tienda/pdp/-/63740136?skuid=63740136\n"
     ]
    },
    {
     "name": "stderr",
     "output_type": "stream",
     "text": [
      "C:\\Users\\Administrator\\AppData\\Local\\Temp\\2\\ipykernel_155092\\1117802599.py:27: FutureWarning: The frame.append method is deprecated and will be removed from pandas in a future version. Use pandas.concat instead.\n",
      "  df=df.append(df1, ignore_index = True)\n",
      "\r",
      " 13%|██████████▊                                                                      | 27/202 [02:53<17:07,  5.87s/it]"
     ]
    },
    {
     "name": "stdout",
     "output_type": "stream",
     "text": [
      "['Home', 'Belleza', 'Marcas Destacadas', 'MAC']\n",
      "************************\n",
      "27\n",
      "https://www.liverpool.com.mx/tienda/pdp/-/1137206290?skuid=1137206290\n"
     ]
    },
    {
     "name": "stderr",
     "output_type": "stream",
     "text": [
      "C:\\Users\\Administrator\\AppData\\Local\\Temp\\2\\ipykernel_155092\\1117802599.py:27: FutureWarning: The frame.append method is deprecated and will be removed from pandas in a future version. Use pandas.concat instead.\n",
      "  df=df.append(df1, ignore_index = True)\n",
      "\r",
      " 14%|███████████▏                                                                     | 28/202 [02:59<17:09,  5.92s/it]"
     ]
    },
    {
     "name": "stdout",
     "output_type": "stream",
     "text": [
      "['Home', 'Belleza', 'Marcas Destacadas', 'MAC']\n",
      "************************\n",
      "28\n",
      "https://www.liverpool.com.mx/tienda/pdp/-/1131439381?skuid=1131439381\n"
     ]
    },
    {
     "name": "stderr",
     "output_type": "stream",
     "text": [
      "C:\\Users\\Administrator\\AppData\\Local\\Temp\\2\\ipykernel_155092\\1117802599.py:27: FutureWarning: The frame.append method is deprecated and will be removed from pandas in a future version. Use pandas.concat instead.\n",
      "  df=df.append(df1, ignore_index = True)\n",
      "\r",
      " 14%|███████████▋                                                                     | 29/202 [03:06<17:52,  6.20s/it]"
     ]
    },
    {
     "name": "stdout",
     "output_type": "stream",
     "text": [
      "['Home', 'Belleza', 'Marcas Destacadas', 'MAC']\n",
      "************************\n",
      "29\n",
      "https://www.liverpool.com.mx/tienda/pdp/-/1134012036?skuid=1134012036\n"
     ]
    },
    {
     "name": "stderr",
     "output_type": "stream",
     "text": [
      "C:\\Users\\Administrator\\AppData\\Local\\Temp\\2\\ipykernel_155092\\1117802599.py:27: FutureWarning: The frame.append method is deprecated and will be removed from pandas in a future version. Use pandas.concat instead.\n",
      "  df=df.append(df1, ignore_index = True)\n",
      "\r",
      " 15%|████████████                                                                     | 30/202 [03:13<17:52,  6.23s/it]"
     ]
    },
    {
     "name": "stdout",
     "output_type": "stream",
     "text": [
      "['Home', 'Belleza', 'Marcas Destacadas', 'MAC']\n",
      "************************\n",
      "30\n",
      "https://www.liverpool.com.mx/tienda/pdp/-/1102375871?skuid=1102375871\n"
     ]
    },
    {
     "name": "stderr",
     "output_type": "stream",
     "text": [
      "C:\\Users\\Administrator\\AppData\\Local\\Temp\\2\\ipykernel_155092\\1117802599.py:27: FutureWarning: The frame.append method is deprecated and will be removed from pandas in a future version. Use pandas.concat instead.\n",
      "  df=df.append(df1, ignore_index = True)\n",
      "\r",
      " 15%|████████████▍                                                                    | 31/202 [03:18<17:25,  6.12s/it]"
     ]
    },
    {
     "name": "stdout",
     "output_type": "stream",
     "text": [
      "['Home', 'Belleza', 'Marcas Destacadas', 'MAC']\n",
      "************************\n",
      "31\n",
      "https://www.liverpool.com.mx/tienda/pdp/-/1133225541?skuid=1133225541\n"
     ]
    },
    {
     "name": "stderr",
     "output_type": "stream",
     "text": [
      "C:\\Users\\Administrator\\AppData\\Local\\Temp\\2\\ipykernel_155092\\1117802599.py:27: FutureWarning: The frame.append method is deprecated and will be removed from pandas in a future version. Use pandas.concat instead.\n",
      "  df=df.append(df1, ignore_index = True)\n",
      "\r",
      " 16%|████████████▊                                                                    | 32/202 [03:25<17:52,  6.31s/it]"
     ]
    },
    {
     "name": "stdout",
     "output_type": "stream",
     "text": [
      "['Home', 'Belleza', 'Marcas Destacadas', 'MAC']\n",
      "************************\n",
      "32\n",
      "https://www.liverpool.com.mx/tienda/pdp/-/1117003384?skuid=1117003384\n"
     ]
    },
    {
     "name": "stderr",
     "output_type": "stream",
     "text": [
      "C:\\Users\\Administrator\\AppData\\Local\\Temp\\2\\ipykernel_155092\\1117802599.py:27: FutureWarning: The frame.append method is deprecated and will be removed from pandas in a future version. Use pandas.concat instead.\n",
      "  df=df.append(df1, ignore_index = True)\n",
      "\r",
      " 16%|█████████████▏                                                                   | 33/202 [03:32<17:49,  6.33s/it]"
     ]
    },
    {
     "name": "stdout",
     "output_type": "stream",
     "text": [
      "['Home', 'Belleza', 'Marcas Destacadas', 'MAC']\n",
      "************************\n",
      "33\n",
      "https://www.liverpool.com.mx/tienda/pdp/-/1053860466?skuid=1053860466\n"
     ]
    },
    {
     "name": "stderr",
     "output_type": "stream",
     "text": [
      "C:\\Users\\Administrator\\AppData\\Local\\Temp\\2\\ipykernel_155092\\1117802599.py:27: FutureWarning: The frame.append method is deprecated and will be removed from pandas in a future version. Use pandas.concat instead.\n",
      "  df=df.append(df1, ignore_index = True)\n",
      "\r",
      " 17%|█████████████▋                                                                   | 34/202 [03:38<17:36,  6.29s/it]"
     ]
    },
    {
     "name": "stdout",
     "output_type": "stream",
     "text": [
      "['Home', 'Belleza', 'Marcas Destacadas', 'MAC']\n",
      "************************\n",
      "34\n",
      "https://www.liverpool.com.mx/tienda/pdp/-/1136233005?skuid=1136233005\n"
     ]
    },
    {
     "name": "stderr",
     "output_type": "stream",
     "text": [
      "C:\\Users\\Administrator\\AppData\\Local\\Temp\\2\\ipykernel_155092\\1117802599.py:27: FutureWarning: The frame.append method is deprecated and will be removed from pandas in a future version. Use pandas.concat instead.\n",
      "  df=df.append(df1, ignore_index = True)\n",
      "\r",
      " 17%|██████████████                                                                   | 35/202 [03:45<18:05,  6.50s/it]"
     ]
    },
    {
     "name": "stdout",
     "output_type": "stream",
     "text": [
      "['Home', 'Belleza', 'Marcas Destacadas', 'MAC']\n",
      "************************\n",
      "35\n",
      "https://www.liverpool.com.mx/tienda/pdp/-/1087585235?skuid=1087585235\n"
     ]
    },
    {
     "name": "stderr",
     "output_type": "stream",
     "text": [
      "C:\\Users\\Administrator\\AppData\\Local\\Temp\\2\\ipykernel_155092\\1117802599.py:27: FutureWarning: The frame.append method is deprecated and will be removed from pandas in a future version. Use pandas.concat instead.\n",
      "  df=df.append(df1, ignore_index = True)\n",
      "\r",
      " 18%|██████████████▍                                                                  | 36/202 [03:51<18:00,  6.51s/it]"
     ]
    },
    {
     "name": "stdout",
     "output_type": "stream",
     "text": [
      "['Home', 'Belleza', 'Marcas Destacadas', 'MAC']\n",
      "************************\n",
      "36\n",
      "https://www.liverpool.com.mx/tienda/pdp/-/1120170542?skuid=1120170542\n"
     ]
    },
    {
     "name": "stderr",
     "output_type": "stream",
     "text": [
      "C:\\Users\\Administrator\\AppData\\Local\\Temp\\2\\ipykernel_155092\\1117802599.py:27: FutureWarning: The frame.append method is deprecated and will be removed from pandas in a future version. Use pandas.concat instead.\n",
      "  df=df.append(df1, ignore_index = True)\n",
      "\r",
      " 18%|██████████████▊                                                                  | 37/202 [03:57<17:20,  6.31s/it]"
     ]
    },
    {
     "name": "stdout",
     "output_type": "stream",
     "text": [
      "['Home', 'Belleza', 'Marcas Destacadas', 'MAC']\n",
      "************************\n",
      "37\n",
      "https://www.liverpool.com.mx/tienda/pdp/-/1101891085?skuid=1101891085\n"
     ]
    },
    {
     "name": "stderr",
     "output_type": "stream",
     "text": [
      "C:\\Users\\Administrator\\AppData\\Local\\Temp\\2\\ipykernel_155092\\1117802599.py:27: FutureWarning: The frame.append method is deprecated and will be removed from pandas in a future version. Use pandas.concat instead.\n",
      "  df=df.append(df1, ignore_index = True)\n",
      "\r",
      " 19%|███████████████▏                                                                 | 38/202 [04:04<17:40,  6.46s/it]"
     ]
    },
    {
     "name": "stdout",
     "output_type": "stream",
     "text": [
      "['Home', 'Belleza', 'Marcas Destacadas', 'MAC']\n",
      "************************\n",
      "38\n",
      "https://www.liverpool.com.mx/tienda/pdp/-/1118037754?skuid=1118037754\n"
     ]
    },
    {
     "name": "stderr",
     "output_type": "stream",
     "text": [
      "C:\\Users\\Administrator\\AppData\\Local\\Temp\\2\\ipykernel_155092\\1117802599.py:27: FutureWarning: The frame.append method is deprecated and will be removed from pandas in a future version. Use pandas.concat instead.\n",
      "  df=df.append(df1, ignore_index = True)\n",
      "\r",
      " 19%|███████████████▋                                                                 | 39/202 [04:11<17:56,  6.60s/it]"
     ]
    },
    {
     "name": "stdout",
     "output_type": "stream",
     "text": [
      "['Home', 'Belleza', 'Marcas Destacadas', 'MAC']\n",
      "************************\n",
      "39\n",
      "https://www.liverpool.com.mx/tienda/pdp/-/1133853959?skuid=1133853959\n"
     ]
    },
    {
     "name": "stderr",
     "output_type": "stream",
     "text": [
      "C:\\Users\\Administrator\\AppData\\Local\\Temp\\2\\ipykernel_155092\\1117802599.py:27: FutureWarning: The frame.append method is deprecated and will be removed from pandas in a future version. Use pandas.concat instead.\n",
      "  df=df.append(df1, ignore_index = True)\n",
      "\r",
      " 20%|████████████████                                                                 | 40/202 [04:17<17:14,  6.38s/it]"
     ]
    },
    {
     "name": "stdout",
     "output_type": "stream",
     "text": [
      "['Home', 'Belleza', 'Marcas Destacadas', 'MAC']\n",
      "************************\n",
      "40\n",
      "https://www.liverpool.com.mx/tienda/pdp/-/1104552796?skuid=1104552796\n"
     ]
    },
    {
     "name": "stderr",
     "output_type": "stream",
     "text": [
      "C:\\Users\\Administrator\\AppData\\Local\\Temp\\2\\ipykernel_155092\\1117802599.py:27: FutureWarning: The frame.append method is deprecated and will be removed from pandas in a future version. Use pandas.concat instead.\n",
      "  df=df.append(df1, ignore_index = True)\n",
      "\r",
      " 20%|████████████████▍                                                                | 41/202 [04:23<17:06,  6.38s/it]"
     ]
    },
    {
     "name": "stdout",
     "output_type": "stream",
     "text": [
      "['Home', 'Belleza', 'Marcas Destacadas', 'MAC']\n",
      "************************\n",
      "41\n",
      "https://www.liverpool.com.mx/tienda/pdp/-/1136233218?skuid=1136233218\n"
     ]
    },
    {
     "name": "stderr",
     "output_type": "stream",
     "text": [
      "C:\\Users\\Administrator\\AppData\\Local\\Temp\\2\\ipykernel_155092\\1117802599.py:27: FutureWarning: The frame.append method is deprecated and will be removed from pandas in a future version. Use pandas.concat instead.\n",
      "  df=df.append(df1, ignore_index = True)\n",
      "\r",
      " 21%|████████████████▊                                                                | 42/202 [04:30<17:39,  6.62s/it]"
     ]
    },
    {
     "name": "stdout",
     "output_type": "stream",
     "text": [
      "['Home', 'Belleza', 'Marcas Destacadas', 'MAC']\n",
      "************************\n",
      "42\n",
      "https://www.liverpool.com.mx/tienda/pdp/-/1129180885?skuid=1129180885\n"
     ]
    },
    {
     "name": "stderr",
     "output_type": "stream",
     "text": [
      "C:\\Users\\Administrator\\AppData\\Local\\Temp\\2\\ipykernel_155092\\1117802599.py:27: FutureWarning: The frame.append method is deprecated and will be removed from pandas in a future version. Use pandas.concat instead.\n",
      "  df=df.append(df1, ignore_index = True)\n",
      "\r",
      " 21%|█████████████████▏                                                               | 43/202 [04:35<15:58,  6.03s/it]"
     ]
    },
    {
     "name": "stdout",
     "output_type": "stream",
     "text": [
      "['Home', 'Belleza', 'Marcas Destacadas', 'MAC']\n",
      "************************\n",
      "43\n",
      "https://www.liverpool.com.mx/tienda/pdp/-/1140998377?skuid=1140998377\n"
     ]
    },
    {
     "name": "stderr",
     "output_type": "stream",
     "text": [
      "C:\\Users\\Administrator\\AppData\\Local\\Temp\\2\\ipykernel_155092\\1117802599.py:27: FutureWarning: The frame.append method is deprecated and will be removed from pandas in a future version. Use pandas.concat instead.\n",
      "  df=df.append(df1, ignore_index = True)\n",
      "\r",
      " 22%|█████████████████▋                                                               | 44/202 [04:41<16:00,  6.08s/it]"
     ]
    },
    {
     "name": "stdout",
     "output_type": "stream",
     "text": [
      "['Home', 'Belleza', 'Marcas Destacadas', 'MAC']\n",
      "************************\n",
      "44\n",
      "https://www.liverpool.com.mx/tienda/pdp/-/1077631425?skuid=1077631425\n"
     ]
    },
    {
     "name": "stderr",
     "output_type": "stream",
     "text": [
      "C:\\Users\\Administrator\\AppData\\Local\\Temp\\2\\ipykernel_155092\\1117802599.py:27: FutureWarning: The frame.append method is deprecated and will be removed from pandas in a future version. Use pandas.concat instead.\n",
      "  df=df.append(df1, ignore_index = True)\n",
      "\r",
      " 22%|██████████████████                                                               | 45/202 [04:47<15:55,  6.09s/it]"
     ]
    },
    {
     "name": "stdout",
     "output_type": "stream",
     "text": [
      "['Home', 'Belleza', 'Marcas Destacadas', 'MAC']\n",
      "************************\n",
      "45\n",
      "https://www.liverpool.com.mx/tienda/pdp/-/1014588511?skuid=1014588511\n"
     ]
    },
    {
     "name": "stderr",
     "output_type": "stream",
     "text": [
      "C:\\Users\\Administrator\\AppData\\Local\\Temp\\2\\ipykernel_155092\\1117802599.py:27: FutureWarning: The frame.append method is deprecated and will be removed from pandas in a future version. Use pandas.concat instead.\n",
      "  df=df.append(df1, ignore_index = True)\n",
      "\r",
      " 23%|██████████████████▍                                                              | 46/202 [04:54<15:56,  6.13s/it]"
     ]
    },
    {
     "name": "stdout",
     "output_type": "stream",
     "text": [
      "['Home', 'Belleza', 'Marcas Destacadas', 'MAC']\n",
      "************************\n",
      "46\n",
      "https://www.liverpool.com.mx/tienda/pdp/-/1140964952?skuid=1140964952\n"
     ]
    },
    {
     "name": "stderr",
     "output_type": "stream",
     "text": [
      "C:\\Users\\Administrator\\AppData\\Local\\Temp\\2\\ipykernel_155092\\1117802599.py:27: FutureWarning: The frame.append method is deprecated and will be removed from pandas in a future version. Use pandas.concat instead.\n",
      "  df=df.append(df1, ignore_index = True)\n",
      "\r",
      " 23%|██████████████████▊                                                              | 47/202 [05:00<15:43,  6.09s/it]"
     ]
    },
    {
     "name": "stdout",
     "output_type": "stream",
     "text": [
      "['Home', 'Belleza', 'Marcas Destacadas', 'MAC']\n",
      "************************\n",
      "47\n",
      "https://www.liverpool.com.mx/tienda/pdp/-/1117453126?skuid=1117453126\n"
     ]
    },
    {
     "name": "stderr",
     "output_type": "stream",
     "text": [
      "C:\\Users\\Administrator\\AppData\\Local\\Temp\\2\\ipykernel_155092\\1117802599.py:27: FutureWarning: The frame.append method is deprecated and will be removed from pandas in a future version. Use pandas.concat instead.\n",
      "  df=df.append(df1, ignore_index = True)\n",
      "\r",
      " 24%|███████████████████▏                                                             | 48/202 [05:05<15:20,  5.98s/it]"
     ]
    },
    {
     "name": "stdout",
     "output_type": "stream",
     "text": [
      "['Home', 'Belleza', 'Marcas Destacadas', 'MAC']\n",
      "************************\n",
      "48\n",
      "https://www.liverpool.com.mx/tienda/pdp/-/1111422091?skuid=1111422091\n"
     ]
    },
    {
     "name": "stderr",
     "output_type": "stream",
     "text": [
      "C:\\Users\\Administrator\\AppData\\Local\\Temp\\2\\ipykernel_155092\\1117802599.py:27: FutureWarning: The frame.append method is deprecated and will be removed from pandas in a future version. Use pandas.concat instead.\n",
      "  df=df.append(df1, ignore_index = True)\n",
      "\r",
      " 24%|███████████████████▋                                                             | 49/202 [05:11<15:19,  6.01s/it]"
     ]
    },
    {
     "name": "stdout",
     "output_type": "stream",
     "text": [
      "['Home', 'Belleza', 'Marcas Destacadas', 'MAC']\n",
      "************************\n",
      "49\n",
      "https://www.liverpool.com.mx/tienda/pdp/-/1059083739?skuid=1059083739\n"
     ]
    },
    {
     "name": "stderr",
     "output_type": "stream",
     "text": [
      "C:\\Users\\Administrator\\AppData\\Local\\Temp\\2\\ipykernel_155092\\1117802599.py:27: FutureWarning: The frame.append method is deprecated and will be removed from pandas in a future version. Use pandas.concat instead.\n",
      "  df=df.append(df1, ignore_index = True)\n",
      "\r",
      " 25%|████████████████████                                                             | 50/202 [05:18<15:27,  6.10s/it]"
     ]
    },
    {
     "name": "stdout",
     "output_type": "stream",
     "text": [
      "['Home', 'Belleza', 'Marcas Destacadas', 'MAC']\n",
      "************************\n",
      "50\n",
      "https://www.liverpool.com.mx/tienda/pdp/-/1050152819?skuid=1050152819\n"
     ]
    },
    {
     "name": "stderr",
     "output_type": "stream",
     "text": [
      "C:\\Users\\Administrator\\AppData\\Local\\Temp\\2\\ipykernel_155092\\1117802599.py:27: FutureWarning: The frame.append method is deprecated and will be removed from pandas in a future version. Use pandas.concat instead.\n",
      "  df=df.append(df1, ignore_index = True)\n",
      "\r",
      " 25%|████████████████████▍                                                            | 51/202 [05:24<15:17,  6.08s/it]"
     ]
    },
    {
     "name": "stdout",
     "output_type": "stream",
     "text": [
      "['Home', 'Belleza', 'Marcas Destacadas', 'MAC']\n",
      "************************\n",
      "51\n",
      "https://www.liverpool.com.mx/tienda/pdp/-/1120647365?skuid=1120647365\n"
     ]
    },
    {
     "name": "stderr",
     "output_type": "stream",
     "text": [
      "C:\\Users\\Administrator\\AppData\\Local\\Temp\\2\\ipykernel_155092\\1117802599.py:27: FutureWarning: The frame.append method is deprecated and will be removed from pandas in a future version. Use pandas.concat instead.\n",
      "  df=df.append(df1, ignore_index = True)\n",
      "\r",
      " 26%|████████████████████▊                                                            | 52/202 [05:29<14:59,  5.99s/it]"
     ]
    },
    {
     "name": "stdout",
     "output_type": "stream",
     "text": [
      "['Home', 'Belleza', 'Marcas Destacadas', 'MAC']\n",
      "************************\n",
      "52\n",
      "https://www.liverpool.com.mx/tienda/pdp/-/1121820591?skuid=1121820591\n"
     ]
    },
    {
     "name": "stderr",
     "output_type": "stream",
     "text": [
      "C:\\Users\\Administrator\\AppData\\Local\\Temp\\2\\ipykernel_155092\\1117802599.py:27: FutureWarning: The frame.append method is deprecated and will be removed from pandas in a future version. Use pandas.concat instead.\n",
      "  df=df.append(df1, ignore_index = True)\n",
      "\r",
      " 26%|█████████████████████▎                                                           | 53/202 [05:35<14:36,  5.88s/it]"
     ]
    },
    {
     "name": "stdout",
     "output_type": "stream",
     "text": [
      "['Home', 'Belleza', 'Marcas Destacadas', 'MAC']\n",
      "************************\n",
      "53\n",
      "https://www.liverpool.com.mx/tienda/pdp/-/1040215642?skuid=1040215642\n"
     ]
    },
    {
     "name": "stderr",
     "output_type": "stream",
     "text": [
      "C:\\Users\\Administrator\\AppData\\Local\\Temp\\2\\ipykernel_155092\\1117802599.py:27: FutureWarning: The frame.append method is deprecated and will be removed from pandas in a future version. Use pandas.concat instead.\n",
      "  df=df.append(df1, ignore_index = True)\n",
      "\r",
      " 27%|█████████████████████▋                                                           | 54/202 [05:41<14:36,  5.92s/it]"
     ]
    },
    {
     "name": "stdout",
     "output_type": "stream",
     "text": [
      "['Home', 'Belleza', 'Marcas Destacadas', 'MAC']\n",
      "************************\n",
      "54\n",
      "https://www.liverpool.com.mx/tienda/pdp/-/1040215375?skuid=1040215375\n"
     ]
    },
    {
     "name": "stderr",
     "output_type": "stream",
     "text": [
      "C:\\Users\\Administrator\\AppData\\Local\\Temp\\2\\ipykernel_155092\\1117802599.py:27: FutureWarning: The frame.append method is deprecated and will be removed from pandas in a future version. Use pandas.concat instead.\n",
      "  df=df.append(df1, ignore_index = True)\n",
      "\r",
      " 27%|██████████████████████                                                           | 55/202 [05:47<14:31,  5.93s/it]"
     ]
    },
    {
     "name": "stdout",
     "output_type": "stream",
     "text": [
      "['Home', 'Belleza', 'Marcas Destacadas', 'MAC']\n",
      "************************\n",
      "55\n",
      "https://www.liverpool.com.mx/tienda/pdp/-/1121780026?skuid=1121780026\n"
     ]
    },
    {
     "name": "stderr",
     "output_type": "stream",
     "text": [
      "C:\\Users\\Administrator\\AppData\\Local\\Temp\\2\\ipykernel_155092\\1117802599.py:27: FutureWarning: The frame.append method is deprecated and will be removed from pandas in a future version. Use pandas.concat instead.\n",
      "  df=df.append(df1, ignore_index = True)\n",
      "\r",
      " 28%|██████████████████████▍                                                          | 56/202 [05:54<15:09,  6.23s/it]"
     ]
    },
    {
     "name": "stdout",
     "output_type": "stream",
     "text": [
      "['Home', 'Belleza', 'Marcas Destacadas', 'MAC']\n",
      "************************\n",
      "56\n",
      "https://www.liverpool.com.mx/tienda/pdp/-/1106417454?skuid=1106417454\n"
     ]
    },
    {
     "name": "stderr",
     "output_type": "stream",
     "text": [
      "C:\\Users\\Administrator\\AppData\\Local\\Temp\\2\\ipykernel_155092\\1117802599.py:27: FutureWarning: The frame.append method is deprecated and will be removed from pandas in a future version. Use pandas.concat instead.\n",
      "  df=df.append(df1, ignore_index = True)\n",
      "\r",
      " 28%|██████████████████████▊                                                          | 57/202 [06:00<14:51,  6.15s/it]"
     ]
    },
    {
     "name": "stdout",
     "output_type": "stream",
     "text": [
      "['Home', 'Belleza', 'Marcas Destacadas', 'MAC']\n",
      "************************\n",
      "57\n",
      "https://www.liverpool.com.mx/tienda/pdp/-/1101030942?skuid=1101030942\n"
     ]
    },
    {
     "name": "stderr",
     "output_type": "stream",
     "text": [
      "C:\\Users\\Administrator\\AppData\\Local\\Temp\\2\\ipykernel_155092\\1117802599.py:27: FutureWarning: The frame.append method is deprecated and will be removed from pandas in a future version. Use pandas.concat instead.\n",
      "  df=df.append(df1, ignore_index = True)\n",
      "\r",
      " 29%|███████████████████████▎                                                         | 58/202 [06:06<14:41,  6.12s/it]"
     ]
    },
    {
     "name": "stdout",
     "output_type": "stream",
     "text": [
      "['Home', 'Belleza', 'Marcas Destacadas', 'MAC']\n",
      "************************\n",
      "58\n",
      "https://www.liverpool.com.mx/tienda/pdp/-/1098973679?skuid=1098973679\n"
     ]
    },
    {
     "name": "stderr",
     "output_type": "stream",
     "text": [
      "C:\\Users\\Administrator\\AppData\\Local\\Temp\\2\\ipykernel_155092\\1117802599.py:27: FutureWarning: The frame.append method is deprecated and will be removed from pandas in a future version. Use pandas.concat instead.\n",
      "  df=df.append(df1, ignore_index = True)\n",
      "\r",
      " 29%|███████████████████████▋                                                         | 59/202 [06:13<15:04,  6.33s/it]"
     ]
    },
    {
     "name": "stdout",
     "output_type": "stream",
     "text": [
      "['Home', 'Belleza', 'Marcas Destacadas', 'MAC']\n",
      "************************\n",
      "59\n",
      "https://www.liverpool.com.mx/tienda/pdp/-/1080326722?skuid=1080326722\n"
     ]
    },
    {
     "name": "stderr",
     "output_type": "stream",
     "text": [
      "C:\\Users\\Administrator\\AppData\\Local\\Temp\\2\\ipykernel_155092\\1117802599.py:27: FutureWarning: The frame.append method is deprecated and will be removed from pandas in a future version. Use pandas.concat instead.\n",
      "  df=df.append(df1, ignore_index = True)\n",
      "\r",
      " 30%|████████████████████████                                                         | 60/202 [06:19<14:50,  6.27s/it]"
     ]
    },
    {
     "name": "stdout",
     "output_type": "stream",
     "text": [
      "['Home', 'Belleza', 'Marcas Destacadas', 'MAC']\n",
      "************************\n",
      "60\n",
      "https://www.liverpool.com.mx/tienda/pdp/-/1106406886?skuid=1106406886\n"
     ]
    },
    {
     "name": "stderr",
     "output_type": "stream",
     "text": [
      "C:\\Users\\Administrator\\AppData\\Local\\Temp\\2\\ipykernel_155092\\1117802599.py:27: FutureWarning: The frame.append method is deprecated and will be removed from pandas in a future version. Use pandas.concat instead.\n",
      "  df=df.append(df1, ignore_index = True)\n",
      "\r",
      " 30%|████████████████████████▍                                                        | 61/202 [06:25<14:44,  6.27s/it]"
     ]
    },
    {
     "name": "stdout",
     "output_type": "stream",
     "text": [
      "['Home', 'Belleza', 'Marcas Destacadas', 'MAC']\n",
      "************************\n",
      "61\n",
      "https://www.liverpool.com.mx/tienda/pdp/-/1086395459?skuid=1086395459\n"
     ]
    },
    {
     "name": "stderr",
     "output_type": "stream",
     "text": [
      "C:\\Users\\Administrator\\AppData\\Local\\Temp\\2\\ipykernel_155092\\1117802599.py:27: FutureWarning: The frame.append method is deprecated and will be removed from pandas in a future version. Use pandas.concat instead.\n",
      "  df=df.append(df1, ignore_index = True)\n",
      "\r",
      " 31%|████████████████████████▊                                                        | 62/202 [06:31<14:29,  6.21s/it]"
     ]
    },
    {
     "name": "stdout",
     "output_type": "stream",
     "text": [
      "['Home', 'Belleza', 'Marcas Destacadas', 'MAC']\n",
      "************************\n",
      "62\n",
      "https://www.liverpool.com.mx/tienda/pdp/-/1123315894?skuid=1123315894\n"
     ]
    },
    {
     "name": "stderr",
     "output_type": "stream",
     "text": [
      "C:\\Users\\Administrator\\AppData\\Local\\Temp\\2\\ipykernel_155092\\1117802599.py:27: FutureWarning: The frame.append method is deprecated and will be removed from pandas in a future version. Use pandas.concat instead.\n",
      "  df=df.append(df1, ignore_index = True)\n",
      "\r",
      " 31%|█████████████████████████▎                                                       | 63/202 [06:37<14:12,  6.13s/it]"
     ]
    },
    {
     "name": "stdout",
     "output_type": "stream",
     "text": [
      "['Home', 'Belleza', 'Marcas Destacadas', 'MAC']\n",
      "************************\n",
      "63\n",
      "https://www.liverpool.com.mx/tienda/pdp/-/1096229018?skuid=1096229018\n"
     ]
    },
    {
     "name": "stderr",
     "output_type": "stream",
     "text": [
      "C:\\Users\\Administrator\\AppData\\Local\\Temp\\2\\ipykernel_155092\\1117802599.py:27: FutureWarning: The frame.append method is deprecated and will be removed from pandas in a future version. Use pandas.concat instead.\n",
      "  df=df.append(df1, ignore_index = True)\n",
      "\r",
      " 32%|█████████████████████████▋                                                       | 64/202 [06:43<14:06,  6.14s/it]"
     ]
    },
    {
     "name": "stdout",
     "output_type": "stream",
     "text": [
      "['Home', 'Belleza', 'Marcas Destacadas', 'MAC']\n",
      "************************\n",
      "64\n",
      "https://www.liverpool.com.mx/tienda/pdp/-/1101401797?skuid=1101401797\n"
     ]
    },
    {
     "name": "stderr",
     "output_type": "stream",
     "text": [
      "C:\\Users\\Administrator\\AppData\\Local\\Temp\\2\\ipykernel_155092\\1117802599.py:27: FutureWarning: The frame.append method is deprecated and will be removed from pandas in a future version. Use pandas.concat instead.\n",
      "  df=df.append(df1, ignore_index = True)\n",
      "\r",
      " 32%|██████████████████████████                                                       | 65/202 [06:49<14:00,  6.13s/it]"
     ]
    },
    {
     "name": "stdout",
     "output_type": "stream",
     "text": [
      "['Home', 'Belleza', 'Marcas Destacadas', 'MAC']\n",
      "************************\n",
      "65\n",
      "https://www.liverpool.com.mx/tienda/pdp/-/1119778197?skuid=1119778197\n"
     ]
    },
    {
     "name": "stderr",
     "output_type": "stream",
     "text": [
      "C:\\Users\\Administrator\\AppData\\Local\\Temp\\2\\ipykernel_155092\\1117802599.py:27: FutureWarning: The frame.append method is deprecated and will be removed from pandas in a future version. Use pandas.concat instead.\n",
      "  df=df.append(df1, ignore_index = True)\n",
      "\r",
      " 33%|██████████████████████████▍                                                      | 66/202 [06:56<13:53,  6.13s/it]"
     ]
    },
    {
     "name": "stdout",
     "output_type": "stream",
     "text": [
      "['Home', 'Belleza', 'Marcas Destacadas', 'MAC']\n",
      "************************\n",
      "66\n",
      "https://www.liverpool.com.mx/tienda/pdp/-/1111615345?skuid=1111615345\n"
     ]
    },
    {
     "name": "stderr",
     "output_type": "stream",
     "text": [
      "C:\\Users\\Administrator\\AppData\\Local\\Temp\\2\\ipykernel_155092\\1117802599.py:27: FutureWarning: The frame.append method is deprecated and will be removed from pandas in a future version. Use pandas.concat instead.\n",
      "  df=df.append(df1, ignore_index = True)\n",
      "\r",
      " 33%|██████████████████████████▊                                                      | 67/202 [07:02<13:44,  6.11s/it]"
     ]
    },
    {
     "name": "stdout",
     "output_type": "stream",
     "text": [
      "['Home', 'Belleza', 'Marcas Destacadas', 'MAC']\n",
      "************************\n",
      "67\n",
      "https://www.liverpool.com.mx/tienda/pdp/-/1121779664?skuid=1121779664\n"
     ]
    },
    {
     "name": "stderr",
     "output_type": "stream",
     "text": [
      "C:\\Users\\Administrator\\AppData\\Local\\Temp\\2\\ipykernel_155092\\1117802599.py:27: FutureWarning: The frame.append method is deprecated and will be removed from pandas in a future version. Use pandas.concat instead.\n",
      "  df=df.append(df1, ignore_index = True)\n",
      "\r",
      " 34%|███████████████████████████▎                                                     | 68/202 [07:08<14:00,  6.27s/it]"
     ]
    },
    {
     "name": "stdout",
     "output_type": "stream",
     "text": [
      "['Home', 'Belleza', 'Marcas Destacadas', 'MAC']\n",
      "************************\n",
      "68\n",
      "https://www.liverpool.com.mx/tienda/pdp/-/1098998515?skuid=1098998515\n"
     ]
    },
    {
     "name": "stderr",
     "output_type": "stream",
     "text": [
      "C:\\Users\\Administrator\\AppData\\Local\\Temp\\2\\ipykernel_155092\\1117802599.py:27: FutureWarning: The frame.append method is deprecated and will be removed from pandas in a future version. Use pandas.concat instead.\n",
      "  df=df.append(df1, ignore_index = True)\n",
      "\r",
      " 34%|███████████████████████████▋                                                     | 69/202 [07:15<13:53,  6.27s/it]"
     ]
    },
    {
     "name": "stdout",
     "output_type": "stream",
     "text": [
      "['Home', 'Belleza', 'Marcas Destacadas', 'MAC']\n",
      "************************\n",
      "69\n",
      "https://www.liverpool.com.mx/tienda/pdp/-/1119174569?skuid=1119174569\n"
     ]
    },
    {
     "name": "stderr",
     "output_type": "stream",
     "text": [
      "C:\\Users\\Administrator\\AppData\\Local\\Temp\\2\\ipykernel_155092\\1117802599.py:27: FutureWarning: The frame.append method is deprecated and will be removed from pandas in a future version. Use pandas.concat instead.\n",
      "  df=df.append(df1, ignore_index = True)\n",
      "\r",
      " 35%|████████████████████████████                                                     | 70/202 [07:20<13:32,  6.16s/it]"
     ]
    },
    {
     "name": "stdout",
     "output_type": "stream",
     "text": [
      "['Home', 'Belleza', 'Marcas Destacadas', 'MAC']\n",
      "************************\n",
      "70\n",
      "https://www.liverpool.com.mx/tienda/pdp/-/1135556587?skuid=1135556587\n"
     ]
    },
    {
     "name": "stderr",
     "output_type": "stream",
     "text": [
      "C:\\Users\\Administrator\\AppData\\Local\\Temp\\2\\ipykernel_155092\\1117802599.py:27: FutureWarning: The frame.append method is deprecated and will be removed from pandas in a future version. Use pandas.concat instead.\n",
      "  df=df.append(df1, ignore_index = True)\n",
      "\r",
      " 35%|████████████████████████████▍                                                    | 71/202 [07:27<13:23,  6.13s/it]"
     ]
    },
    {
     "name": "stdout",
     "output_type": "stream",
     "text": [
      "['Home', 'Belleza', 'Marcas Destacadas', 'MAC']\n",
      "************************\n",
      "71\n",
      "https://www.liverpool.com.mx/tienda/pdp/-/1136502481?skuid=1136502481\n"
     ]
    },
    {
     "name": "stderr",
     "output_type": "stream",
     "text": [
      "C:\\Users\\Administrator\\AppData\\Local\\Temp\\2\\ipykernel_155092\\1117802599.py:27: FutureWarning: The frame.append method is deprecated and will be removed from pandas in a future version. Use pandas.concat instead.\n",
      "  df=df.append(df1, ignore_index = True)\n",
      "\r",
      " 36%|████████████████████████████▊                                                    | 72/202 [07:32<13:05,  6.05s/it]"
     ]
    },
    {
     "name": "stdout",
     "output_type": "stream",
     "text": [
      "['Home', 'Belleza', 'Marcas Destacadas', 'MAC']\n",
      "************************\n",
      "72\n",
      "https://www.liverpool.com.mx/tienda/pdp/-/1136502383?skuid=1136502383\n"
     ]
    },
    {
     "name": "stderr",
     "output_type": "stream",
     "text": [
      "C:\\Users\\Administrator\\AppData\\Local\\Temp\\2\\ipykernel_155092\\1117802599.py:27: FutureWarning: The frame.append method is deprecated and will be removed from pandas in a future version. Use pandas.concat instead.\n",
      "  df=df.append(df1, ignore_index = True)\n",
      "\r",
      " 36%|█████████████████████████████▎                                                   | 73/202 [07:38<12:49,  5.96s/it]"
     ]
    },
    {
     "name": "stdout",
     "output_type": "stream",
     "text": [
      "['Home', 'Belleza', 'Marcas Destacadas', 'MAC']\n",
      "************************\n",
      "73\n",
      "https://www.liverpool.com.mx/tienda/pdp/-/1136502359?skuid=1136502359\n"
     ]
    },
    {
     "name": "stderr",
     "output_type": "stream",
     "text": [
      "C:\\Users\\Administrator\\AppData\\Local\\Temp\\2\\ipykernel_155092\\1117802599.py:27: FutureWarning: The frame.append method is deprecated and will be removed from pandas in a future version. Use pandas.concat instead.\n",
      "  df=df.append(df1, ignore_index = True)\n",
      "\r",
      " 37%|█████████████████████████████▋                                                   | 74/202 [07:45<13:01,  6.10s/it]"
     ]
    },
    {
     "name": "stdout",
     "output_type": "stream",
     "text": [
      "['Home', 'Belleza', 'Marcas Destacadas', 'MAC']\n",
      "************************\n",
      "74\n",
      "https://www.liverpool.com.mx/tienda/pdp/-/1112718229?skuid=1112718229\n"
     ]
    },
    {
     "name": "stderr",
     "output_type": "stream",
     "text": [
      "C:\\Users\\Administrator\\AppData\\Local\\Temp\\2\\ipykernel_155092\\1117802599.py:27: FutureWarning: The frame.append method is deprecated and will be removed from pandas in a future version. Use pandas.concat instead.\n",
      "  df=df.append(df1, ignore_index = True)\n",
      "\r",
      " 37%|██████████████████████████████                                                   | 75/202 [07:51<12:53,  6.09s/it]"
     ]
    },
    {
     "name": "stdout",
     "output_type": "stream",
     "text": [
      "['Home', 'Belleza', 'Marcas Destacadas', 'MAC']\n",
      "************************\n",
      "75\n",
      "https://www.liverpool.com.mx/tienda/pdp/-/1112124329?skuid=1112124329\n"
     ]
    },
    {
     "name": "stderr",
     "output_type": "stream",
     "text": [
      "C:\\Users\\Administrator\\AppData\\Local\\Temp\\2\\ipykernel_155092\\1117802599.py:27: FutureWarning: The frame.append method is deprecated and will be removed from pandas in a future version. Use pandas.concat instead.\n",
      "  df=df.append(df1, ignore_index = True)\n",
      "\r",
      " 38%|██████████████████████████████▍                                                  | 76/202 [07:57<12:43,  6.06s/it]"
     ]
    },
    {
     "name": "stdout",
     "output_type": "stream",
     "text": [
      "['Home', 'Belleza', 'Marcas Destacadas', 'MAC']\n",
      "************************\n",
      "76\n",
      "https://www.liverpool.com.mx/tienda/pdp/-/1137727656?skuid=1137727656\n"
     ]
    },
    {
     "name": "stderr",
     "output_type": "stream",
     "text": [
      "C:\\Users\\Administrator\\AppData\\Local\\Temp\\2\\ipykernel_155092\\1117802599.py:27: FutureWarning: The frame.append method is deprecated and will be removed from pandas in a future version. Use pandas.concat instead.\n",
      "  df=df.append(df1, ignore_index = True)\n",
      "\r",
      " 38%|██████████████████████████████▉                                                  | 77/202 [08:03<12:40,  6.09s/it]"
     ]
    },
    {
     "name": "stdout",
     "output_type": "stream",
     "text": [
      "['Home', 'Belleza', 'Marcas Destacadas', 'MAC']\n",
      "************************\n",
      "77\n",
      "https://www.liverpool.com.mx/tienda/pdp/-/1096736319?skuid=1096736319\n"
     ]
    },
    {
     "name": "stderr",
     "output_type": "stream",
     "text": [
      "C:\\Users\\Administrator\\AppData\\Local\\Temp\\2\\ipykernel_155092\\1117802599.py:27: FutureWarning: The frame.append method is deprecated and will be removed from pandas in a future version. Use pandas.concat instead.\n",
      "  df=df.append(df1, ignore_index = True)\n",
      "\r",
      " 39%|███████████████████████████████▎                                                 | 78/202 [08:09<12:48,  6.20s/it]"
     ]
    },
    {
     "name": "stdout",
     "output_type": "stream",
     "text": [
      "['Home', 'Belleza', 'Marcas Destacadas', 'MAC']\n",
      "************************\n",
      "78\n",
      "https://www.liverpool.com.mx/tienda/pdp/-/1096736319?skuid=1096736319\n"
     ]
    },
    {
     "name": "stderr",
     "output_type": "stream",
     "text": [
      "C:\\Users\\Administrator\\AppData\\Local\\Temp\\2\\ipykernel_155092\\1117802599.py:27: FutureWarning: The frame.append method is deprecated and will be removed from pandas in a future version. Use pandas.concat instead.\n",
      "  df=df.append(df1, ignore_index = True)\n",
      "\r",
      " 39%|███████████████████████████████▋                                                 | 79/202 [08:21<15:51,  7.74s/it]"
     ]
    },
    {
     "name": "stdout",
     "output_type": "stream",
     "text": [
      "['Home', 'Belleza', 'Marcas Destacadas', 'MAC']\n",
      "************************\n",
      "79\n",
      "https://www.liverpool.com.mx/tienda/pdp/-/1096736319?skuid=1096736319\n"
     ]
    },
    {
     "name": "stderr",
     "output_type": "stream",
     "text": [
      "C:\\Users\\Administrator\\AppData\\Local\\Temp\\2\\ipykernel_155092\\1117802599.py:27: FutureWarning: The frame.append method is deprecated and will be removed from pandas in a future version. Use pandas.concat instead.\n",
      "  df=df.append(df1, ignore_index = True)\n",
      "\r",
      " 40%|████████████████████████████████                                                 | 80/202 [08:25<13:53,  6.84s/it]"
     ]
    },
    {
     "name": "stdout",
     "output_type": "stream",
     "text": [
      "['Home', 'Belleza', 'Marcas Destacadas', 'MAC']\n",
      "************************\n",
      "80\n",
      "https://www.liverpool.com.mx/tienda/pdp/-/1123638481?skuid=1123638481\n"
     ]
    },
    {
     "name": "stderr",
     "output_type": "stream",
     "text": [
      "C:\\Users\\Administrator\\AppData\\Local\\Temp\\2\\ipykernel_155092\\1117802599.py:27: FutureWarning: The frame.append method is deprecated and will be removed from pandas in a future version. Use pandas.concat instead.\n",
      "  df=df.append(df1, ignore_index = True)\n",
      "\r",
      " 40%|████████████████████████████████▍                                                | 81/202 [08:32<13:39,  6.77s/it]"
     ]
    },
    {
     "name": "stdout",
     "output_type": "stream",
     "text": [
      "['Home', 'Belleza', 'Marcas Destacadas', 'MAC']\n",
      "************************\n",
      "81\n",
      "https://www.liverpool.com.mx/tienda/pdp/-/1122452821?skuid=1122452821\n"
     ]
    },
    {
     "name": "stderr",
     "output_type": "stream",
     "text": [
      "C:\\Users\\Administrator\\AppData\\Local\\Temp\\2\\ipykernel_155092\\1117802599.py:27: FutureWarning: The frame.append method is deprecated and will be removed from pandas in a future version. Use pandas.concat instead.\n",
      "  df=df.append(df1, ignore_index = True)\n",
      "\r",
      " 41%|████████████████████████████████▉                                                | 82/202 [08:39<13:56,  6.97s/it]"
     ]
    },
    {
     "name": "stdout",
     "output_type": "stream",
     "text": [
      "['Home', 'Belleza', 'Marcas Destacadas', 'MAC']\n",
      "************************\n",
      "82\n",
      "https://www.liverpool.com.mx/tienda/pdp/-/1137875701?skuid=1137875701\n"
     ]
    },
    {
     "name": "stderr",
     "output_type": "stream",
     "text": [
      "C:\\Users\\Administrator\\AppData\\Local\\Temp\\2\\ipykernel_155092\\1117802599.py:27: FutureWarning: The frame.append method is deprecated and will be removed from pandas in a future version. Use pandas.concat instead.\n",
      "  df=df.append(df1, ignore_index = True)\n",
      "\r",
      " 41%|█████████████████████████████████▎                                               | 83/202 [08:46<13:40,  6.90s/it]"
     ]
    },
    {
     "name": "stdout",
     "output_type": "stream",
     "text": [
      "['Home', 'Belleza', 'Marcas Destacadas', 'MAC']\n",
      "************************\n",
      "83\n",
      "https://www.liverpool.com.mx/tienda/pdp/-/1096736726?skuid=1096736726\n"
     ]
    },
    {
     "name": "stderr",
     "output_type": "stream",
     "text": [
      "C:\\Users\\Administrator\\AppData\\Local\\Temp\\2\\ipykernel_155092\\1117802599.py:27: FutureWarning: The frame.append method is deprecated and will be removed from pandas in a future version. Use pandas.concat instead.\n",
      "  df=df.append(df1, ignore_index = True)\n",
      "\r",
      " 42%|█████████████████████████████████▋                                               | 84/202 [08:52<12:59,  6.61s/it]"
     ]
    },
    {
     "name": "stdout",
     "output_type": "stream",
     "text": [
      "['Home', 'Belleza', 'Marcas Destacadas', 'MAC']\n",
      "************************\n",
      "84\n",
      "https://www.liverpool.com.mx/tienda/pdp/-/1100927817?skuid=1100927817\n"
     ]
    },
    {
     "name": "stderr",
     "output_type": "stream",
     "text": [
      "C:\\Users\\Administrator\\AppData\\Local\\Temp\\2\\ipykernel_155092\\1117802599.py:27: FutureWarning: The frame.append method is deprecated and will be removed from pandas in a future version. Use pandas.concat instead.\n",
      "  df=df.append(df1, ignore_index = True)\n",
      "\r",
      " 42%|██████████████████████████████████                                               | 85/202 [09:00<13:33,  6.96s/it]"
     ]
    },
    {
     "name": "stdout",
     "output_type": "stream",
     "text": [
      "['Home', 'Belleza', 'Marcas Destacadas', 'MAC']\n",
      "************************\n",
      "85\n",
      "https://www.liverpool.com.mx/tienda/pdp/-/1128620733?skuid=1128620733\n"
     ]
    },
    {
     "name": "stderr",
     "output_type": "stream",
     "text": [
      "C:\\Users\\Administrator\\AppData\\Local\\Temp\\2\\ipykernel_155092\\1117802599.py:27: FutureWarning: The frame.append method is deprecated and will be removed from pandas in a future version. Use pandas.concat instead.\n",
      "  df=df.append(df1, ignore_index = True)\n",
      "\r",
      " 43%|██████████████████████████████████▍                                              | 86/202 [09:15<18:31,  9.58s/it]"
     ]
    },
    {
     "name": "stdout",
     "output_type": "stream",
     "text": [
      "['Home', 'Belleza', 'Marcas Destacadas', 'MAC']\n",
      "************************\n",
      "86\n",
      "https://www.liverpool.com.mx/tienda/pdp/-/1126336876?skuid=1126336876\n"
     ]
    },
    {
     "name": "stderr",
     "output_type": "stream",
     "text": [
      "C:\\Users\\Administrator\\AppData\\Local\\Temp\\2\\ipykernel_155092\\1117802599.py:27: FutureWarning: The frame.append method is deprecated and will be removed from pandas in a future version. Use pandas.concat instead.\n",
      "  df=df.append(df1, ignore_index = True)\n",
      "\r",
      " 43%|██████████████████████████████████▉                                              | 87/202 [09:23<17:25,  9.09s/it]"
     ]
    },
    {
     "name": "stdout",
     "output_type": "stream",
     "text": [
      "['Home', 'Belleza', 'Marcas Destacadas', 'MAC']\n",
      "************************\n",
      "87\n",
      "https://www.liverpool.com.mx/tienda/pdp/-/1096734413?skuid=1096734413\n"
     ]
    },
    {
     "name": "stderr",
     "output_type": "stream",
     "text": [
      "C:\\Users\\Administrator\\AppData\\Local\\Temp\\2\\ipykernel_155092\\1117802599.py:27: FutureWarning: The frame.append method is deprecated and will be removed from pandas in a future version. Use pandas.concat instead.\n",
      "  df=df.append(df1, ignore_index = True)\n",
      "\r",
      " 44%|███████████████████████████████████▎                                             | 88/202 [09:30<15:45,  8.30s/it]"
     ]
    },
    {
     "name": "stdout",
     "output_type": "stream",
     "text": [
      "['Home', 'Belleza', 'Marcas Destacadas', 'MAC']\n",
      "************************\n",
      "88\n",
      "https://www.liverpool.com.mx/tienda/pdp/-/1096736017?skuid=1096736017\n"
     ]
    },
    {
     "name": "stderr",
     "output_type": "stream",
     "text": [
      "C:\\Users\\Administrator\\AppData\\Local\\Temp\\2\\ipykernel_155092\\1117802599.py:27: FutureWarning: The frame.append method is deprecated and will be removed from pandas in a future version. Use pandas.concat instead.\n",
      "  df=df.append(df1, ignore_index = True)\n",
      "\r",
      " 44%|███████████████████████████████████▋                                             | 89/202 [09:37<14:48,  7.87s/it]"
     ]
    },
    {
     "name": "stdout",
     "output_type": "stream",
     "text": [
      "['Home', 'Belleza', 'Marcas Destacadas', 'MAC']\n",
      "************************\n",
      "89\n",
      "https://www.liverpool.com.mx/tienda/pdp/-/1096736017?skuid=1096736017\n"
     ]
    },
    {
     "name": "stderr",
     "output_type": "stream",
     "text": [
      "C:\\Users\\Administrator\\AppData\\Local\\Temp\\2\\ipykernel_155092\\1117802599.py:27: FutureWarning: The frame.append method is deprecated and will be removed from pandas in a future version. Use pandas.concat instead.\n",
      "  df=df.append(df1, ignore_index = True)\n",
      "\r",
      " 45%|████████████████████████████████████                                             | 90/202 [09:46<15:26,  8.27s/it]"
     ]
    },
    {
     "name": "stdout",
     "output_type": "stream",
     "text": [
      "['Home', 'Belleza', 'Marcas Destacadas', 'MAC']\n",
      "************************\n",
      "90\n",
      "https://www.liverpool.com.mx/tienda/pdp/-/1096736017?skuid=1096736017\n"
     ]
    },
    {
     "name": "stderr",
     "output_type": "stream",
     "text": [
      "C:\\Users\\Administrator\\AppData\\Local\\Temp\\2\\ipykernel_155092\\1117802599.py:27: FutureWarning: The frame.append method is deprecated and will be removed from pandas in a future version. Use pandas.concat instead.\n",
      "  df=df.append(df1, ignore_index = True)\n",
      "\r",
      " 45%|████████████████████████████████████▍                                            | 91/202 [10:07<22:08, 11.97s/it]"
     ]
    },
    {
     "name": "stdout",
     "output_type": "stream",
     "text": [
      "['Home', 'Belleza', 'Marcas Destacadas', 'MAC']\n",
      "************************\n",
      "91\n",
      "https://www.liverpool.com.mx/tienda/pdp/-/1096736017?skuid=1096736017\n"
     ]
    },
    {
     "name": "stderr",
     "output_type": "stream",
     "text": [
      "C:\\Users\\Administrator\\AppData\\Local\\Temp\\2\\ipykernel_155092\\1117802599.py:27: FutureWarning: The frame.append method is deprecated and will be removed from pandas in a future version. Use pandas.concat instead.\n",
      "  df=df.append(df1, ignore_index = True)\n",
      "\r",
      " 46%|████████████████████████████████████▉                                            | 92/202 [10:21<23:23, 12.76s/it]"
     ]
    },
    {
     "name": "stdout",
     "output_type": "stream",
     "text": [
      "['Home', 'Belleza', 'Marcas Destacadas', 'MAC']\n",
      "************************\n",
      "92\n",
      "https://www.liverpool.com.mx/tienda/pdp/-/1096737463?skuid=1096737463\n"
     ]
    },
    {
     "name": "stderr",
     "output_type": "stream",
     "text": [
      "C:\\Users\\Administrator\\AppData\\Local\\Temp\\2\\ipykernel_155092\\1117802599.py:27: FutureWarning: The frame.append method is deprecated and will be removed from pandas in a future version. Use pandas.concat instead.\n",
      "  df=df.append(df1, ignore_index = True)\n",
      "\r",
      " 46%|█████████████████████████████████████▎                                           | 93/202 [10:41<27:06, 14.92s/it]"
     ]
    },
    {
     "name": "stdout",
     "output_type": "stream",
     "text": [
      "['Home', 'Belleza', 'Marcas Destacadas', 'MAC']\n",
      "************************\n",
      "93\n",
      "https://www.liverpool.com.mx/tienda/pdp/-/1105627064?skuid=1105627064\n"
     ]
    },
    {
     "name": "stderr",
     "output_type": "stream",
     "text": [
      "C:\\Users\\Administrator\\AppData\\Local\\Temp\\2\\ipykernel_155092\\1117802599.py:27: FutureWarning: The frame.append method is deprecated and will be removed from pandas in a future version. Use pandas.concat instead.\n",
      "  df=df.append(df1, ignore_index = True)\n",
      "\r",
      " 47%|█████████████████████████████████████▋                                           | 94/202 [10:52<24:42, 13.73s/it]"
     ]
    },
    {
     "name": "stdout",
     "output_type": "stream",
     "text": [
      "['Home', 'Belleza', 'Marcas Destacadas', 'MAC']\n",
      "************************\n",
      "94\n",
      "https://www.liverpool.com.mx/tienda/pdp/-/1106621311?skuid=1106621311\n"
     ]
    },
    {
     "name": "stderr",
     "output_type": "stream",
     "text": [
      "C:\\Users\\Administrator\\AppData\\Local\\Temp\\2\\ipykernel_155092\\1117802599.py:27: FutureWarning: The frame.append method is deprecated and will be removed from pandas in a future version. Use pandas.concat instead.\n",
      "  df=df.append(df1, ignore_index = True)\n",
      "\r",
      " 47%|██████████████████████████████████████                                           | 95/202 [11:03<22:53, 12.84s/it]"
     ]
    },
    {
     "name": "stdout",
     "output_type": "stream",
     "text": [
      "['Home', 'Belleza', 'Marcas Destacadas', 'MAC']\n",
      "************************\n",
      "95\n",
      "https://www.liverpool.com.mx/tienda/pdp/-/1137716948?skuid=1137716948\n"
     ]
    },
    {
     "name": "stderr",
     "output_type": "stream",
     "text": [
      "C:\\Users\\Administrator\\AppData\\Local\\Temp\\2\\ipykernel_155092\\1117802599.py:27: FutureWarning: The frame.append method is deprecated and will be removed from pandas in a future version. Use pandas.concat instead.\n",
      "  df=df.append(df1, ignore_index = True)\n",
      "\r",
      " 48%|██████████████████████████████████████▍                                          | 96/202 [11:19<24:14, 13.72s/it]"
     ]
    },
    {
     "name": "stdout",
     "output_type": "stream",
     "text": [
      "['Home', 'Belleza', 'Marcas Destacadas', 'MAC']\n",
      "************************\n",
      "96\n",
      "https://www.liverpool.com.mx/tienda/pdp/-/1122128918?skuid=1122128918\n"
     ]
    },
    {
     "name": "stderr",
     "output_type": "stream",
     "text": [
      "C:\\Users\\Administrator\\AppData\\Local\\Temp\\2\\ipykernel_155092\\1117802599.py:27: FutureWarning: The frame.append method is deprecated and will be removed from pandas in a future version. Use pandas.concat instead.\n",
      "  df=df.append(df1, ignore_index = True)\n",
      "\r",
      " 48%|██████████████████████████████████████▉                                          | 97/202 [11:27<21:19, 12.19s/it]"
     ]
    },
    {
     "name": "stdout",
     "output_type": "stream",
     "text": [
      "['Home', 'Belleza', 'Marcas Destacadas', 'MAC']\n",
      "************************\n",
      "97\n",
      "https://www.liverpool.com.mx/tienda/pdp/-/1125851246?skuid=1125851246\n"
     ]
    },
    {
     "name": "stderr",
     "output_type": "stream",
     "text": [
      "C:\\Users\\Administrator\\AppData\\Local\\Temp\\2\\ipykernel_155092\\1117802599.py:27: FutureWarning: The frame.append method is deprecated and will be removed from pandas in a future version. Use pandas.concat instead.\n",
      "  df=df.append(df1, ignore_index = True)\n",
      "\r",
      " 49%|███████████████████████████████████████▎                                         | 98/202 [11:34<18:27, 10.65s/it]"
     ]
    },
    {
     "name": "stdout",
     "output_type": "stream",
     "text": [
      "['Home', 'Belleza', 'Marcas Destacadas', 'MAC']\n",
      "************************\n",
      "98\n",
      "https://www.liverpool.com.mx/tienda/pdp/-/1122639122?skuid=1122639122\n"
     ]
    },
    {
     "name": "stderr",
     "output_type": "stream",
     "text": [
      "C:\\Users\\Administrator\\AppData\\Local\\Temp\\2\\ipykernel_155092\\1117802599.py:27: FutureWarning: The frame.append method is deprecated and will be removed from pandas in a future version. Use pandas.concat instead.\n",
      "  df=df.append(df1, ignore_index = True)\n",
      "\r",
      " 49%|███████████████████████████████████████▋                                         | 99/202 [11:42<16:35,  9.67s/it]"
     ]
    },
    {
     "name": "stdout",
     "output_type": "stream",
     "text": [
      "['Home', 'Belleza', 'Marcas Destacadas', 'MAC']\n",
      "************************\n",
      "99\n",
      "https://www.liverpool.com.mx/tienda/pdp/-/1131907482?skuid=1131907482\n"
     ]
    },
    {
     "name": "stderr",
     "output_type": "stream",
     "text": [
      "C:\\Users\\Administrator\\AppData\\Local\\Temp\\2\\ipykernel_155092\\1117802599.py:27: FutureWarning: The frame.append method is deprecated and will be removed from pandas in a future version. Use pandas.concat instead.\n",
      "  df=df.append(df1, ignore_index = True)\n",
      "\r",
      " 50%|███████████████████████████████████████▌                                        | 100/202 [11:49<15:17,  9.00s/it]"
     ]
    },
    {
     "name": "stdout",
     "output_type": "stream",
     "text": [
      "['Home', 'Belleza', 'Marcas Destacadas', 'MAC']\n",
      "************************\n",
      "100\n",
      "https://www.liverpool.com.mx/tienda/pdp/-/1112283974?skuid=1112283974\n"
     ]
    },
    {
     "name": "stderr",
     "output_type": "stream",
     "text": [
      "C:\\Users\\Administrator\\AppData\\Local\\Temp\\2\\ipykernel_155092\\1117802599.py:27: FutureWarning: The frame.append method is deprecated and will be removed from pandas in a future version. Use pandas.concat instead.\n",
      "  df=df.append(df1, ignore_index = True)\n",
      "\r",
      " 50%|████████████████████████████████████████                                        | 101/202 [11:57<14:49,  8.81s/it]"
     ]
    },
    {
     "name": "stdout",
     "output_type": "stream",
     "text": [
      "['Home', 'Belleza', 'Marcas Destacadas', 'MAC']\n",
      "************************\n",
      "101\n",
      "https://www.liverpool.com.mx/tienda/pdp/-/1136315397?skuid=1136315397\n"
     ]
    },
    {
     "name": "stderr",
     "output_type": "stream",
     "text": [
      "C:\\Users\\Administrator\\AppData\\Local\\Temp\\2\\ipykernel_155092\\1117802599.py:27: FutureWarning: The frame.append method is deprecated and will be removed from pandas in a future version. Use pandas.concat instead.\n",
      "  df=df.append(df1, ignore_index = True)\n",
      "\r",
      " 50%|████████████████████████████████████████▍                                       | 102/202 [12:05<14:11,  8.52s/it]"
     ]
    },
    {
     "name": "stdout",
     "output_type": "stream",
     "text": [
      "['Home', 'Belleza', 'Marcas Destacadas', 'MAC']\n",
      "************************\n",
      "102\n",
      "https://www.liverpool.com.mx/tienda/pdp/-/1056612935?skuid=1056612935\n"
     ]
    },
    {
     "name": "stderr",
     "output_type": "stream",
     "text": [
      "C:\\Users\\Administrator\\AppData\\Local\\Temp\\2\\ipykernel_155092\\1117802599.py:27: FutureWarning: The frame.append method is deprecated and will be removed from pandas in a future version. Use pandas.concat instead.\n",
      "  df=df.append(df1, ignore_index = True)\n",
      "\r",
      " 51%|████████████████████████████████████████▊                                       | 103/202 [12:12<13:22,  8.10s/it]"
     ]
    },
    {
     "name": "stdout",
     "output_type": "stream",
     "text": [
      "['Home', 'Belleza', 'Marcas Destacadas', 'MAC']\n",
      "************************\n",
      "103\n",
      "https://www.liverpool.com.mx/tienda/pdp/-/1101403854?skuid=1101403854\n"
     ]
    },
    {
     "name": "stderr",
     "output_type": "stream",
     "text": [
      "C:\\Users\\Administrator\\AppData\\Local\\Temp\\2\\ipykernel_155092\\1117802599.py:27: FutureWarning: The frame.append method is deprecated and will be removed from pandas in a future version. Use pandas.concat instead.\n",
      "  df=df.append(df1, ignore_index = True)\n",
      "\r",
      " 51%|█████████████████████████████████████████▏                                      | 104/202 [12:20<12:47,  7.83s/it]"
     ]
    },
    {
     "name": "stdout",
     "output_type": "stream",
     "text": [
      "['Home', 'Belleza', 'Marcas Destacadas', 'MAC']\n",
      "************************\n",
      "104\n",
      "https://www.liverpool.com.mx/tienda/pdp/-/1040994218?skuid=1040994218\n"
     ]
    },
    {
     "name": "stderr",
     "output_type": "stream",
     "text": [
      "C:\\Users\\Administrator\\AppData\\Local\\Temp\\2\\ipykernel_155092\\1117802599.py:27: FutureWarning: The frame.append method is deprecated and will be removed from pandas in a future version. Use pandas.concat instead.\n",
      "  df=df.append(df1, ignore_index = True)\n",
      "\r",
      " 52%|█████████████████████████████████████████▌                                      | 105/202 [12:29<13:34,  8.39s/it]"
     ]
    },
    {
     "name": "stdout",
     "output_type": "stream",
     "text": [
      "['Home', 'Belleza', 'Marcas Destacadas', 'MAC']\n",
      "************************\n",
      "105\n",
      "https://www.liverpool.com.mx/tienda/pdp/-/1136312843?skuid=1136312843\n"
     ]
    },
    {
     "name": "stderr",
     "output_type": "stream",
     "text": [
      "C:\\Users\\Administrator\\AppData\\Local\\Temp\\2\\ipykernel_155092\\1117802599.py:27: FutureWarning: The frame.append method is deprecated and will be removed from pandas in a future version. Use pandas.concat instead.\n",
      "  df=df.append(df1, ignore_index = True)\n",
      "\r",
      " 52%|█████████████████████████████████████████▉                                      | 106/202 [12:38<13:47,  8.62s/it]"
     ]
    },
    {
     "name": "stdout",
     "output_type": "stream",
     "text": [
      "['Home', 'Belleza', 'Marcas Destacadas', 'MAC']\n",
      "************************\n",
      "106\n",
      "https://www.liverpool.com.mx/tienda/pdp/-/1002761951?skuid=1002761951\n"
     ]
    },
    {
     "name": "stderr",
     "output_type": "stream",
     "text": [
      "C:\\Users\\Administrator\\AppData\\Local\\Temp\\2\\ipykernel_155092\\1117802599.py:27: FutureWarning: The frame.append method is deprecated and will be removed from pandas in a future version. Use pandas.concat instead.\n",
      "  df=df.append(df1, ignore_index = True)\n",
      "\r",
      " 53%|██████████████████████████████████████████▍                                     | 107/202 [12:45<12:44,  8.04s/it]"
     ]
    },
    {
     "name": "stdout",
     "output_type": "stream",
     "text": [
      "['Home', 'Belleza', 'Marcas Destacadas', 'MAC']\n",
      "************************\n",
      "107\n",
      "https://www.liverpool.com.mx/tienda/pdp/-/1132337833?skuid=1132337833\n"
     ]
    },
    {
     "name": "stderr",
     "output_type": "stream",
     "text": [
      "C:\\Users\\Administrator\\AppData\\Local\\Temp\\2\\ipykernel_155092\\1117802599.py:27: FutureWarning: The frame.append method is deprecated and will be removed from pandas in a future version. Use pandas.concat instead.\n",
      "  df=df.append(df1, ignore_index = True)\n",
      "\r",
      " 53%|██████████████████████████████████████████▊                                     | 108/202 [12:52<11:54,  7.60s/it]"
     ]
    },
    {
     "name": "stdout",
     "output_type": "stream",
     "text": [
      "['Home', 'Belleza', 'Marcas Destacadas', 'MAC']\n",
      "************************\n",
      "108\n",
      "https://www.liverpool.com.mx/tienda/pdp/-/1126254195?skuid=1126254195\n"
     ]
    },
    {
     "name": "stderr",
     "output_type": "stream",
     "text": [
      "C:\\Users\\Administrator\\AppData\\Local\\Temp\\2\\ipykernel_155092\\1117802599.py:27: FutureWarning: The frame.append method is deprecated and will be removed from pandas in a future version. Use pandas.concat instead.\n",
      "  df=df.append(df1, ignore_index = True)\n",
      "\r",
      " 54%|███████████████████████████████████████████▏                                    | 109/202 [12:57<10:28,  6.75s/it]"
     ]
    },
    {
     "name": "stdout",
     "output_type": "stream",
     "text": [
      "['Home']\n",
      "************************\n",
      "109\n",
      "https://www.liverpool.com.mx/tienda/pdp/-/1105553648?skuid=1105553648\n"
     ]
    },
    {
     "name": "stderr",
     "output_type": "stream",
     "text": [
      "C:\\Users\\Administrator\\AppData\\Local\\Temp\\2\\ipykernel_155092\\1117802599.py:27: FutureWarning: The frame.append method is deprecated and will be removed from pandas in a future version. Use pandas.concat instead.\n",
      "  df=df.append(df1, ignore_index = True)\n",
      "\r",
      " 54%|███████████████████████████████████████████▌                                    | 110/202 [13:03<10:17,  6.72s/it]"
     ]
    },
    {
     "name": "stdout",
     "output_type": "stream",
     "text": [
      "['Home', 'Belleza', 'Marcas Destacadas', 'MAC']\n",
      "************************\n",
      "110\n",
      "https://www.liverpool.com.mx/tienda/pdp/-/1132562721?skuid=1132562721\n"
     ]
    },
    {
     "name": "stderr",
     "output_type": "stream",
     "text": [
      "C:\\Users\\Administrator\\AppData\\Local\\Temp\\2\\ipykernel_155092\\1117802599.py:27: FutureWarning: The frame.append method is deprecated and will be removed from pandas in a future version. Use pandas.concat instead.\n",
      "  df=df.append(df1, ignore_index = True)\n",
      "\r",
      " 55%|███████████████████████████████████████████▉                                    | 111/202 [13:10<10:06,  6.66s/it]"
     ]
    },
    {
     "name": "stdout",
     "output_type": "stream",
     "text": [
      "['Home', 'Belleza', 'Marcas Destacadas', 'MAC']\n",
      "************************\n",
      "111\n",
      "https://www.liverpool.com.mx/tienda/pdp/-/1105560989?skuid=1105560989\n"
     ]
    },
    {
     "name": "stderr",
     "output_type": "stream",
     "text": [
      "C:\\Users\\Administrator\\AppData\\Local\\Temp\\2\\ipykernel_155092\\1117802599.py:27: FutureWarning: The frame.append method is deprecated and will be removed from pandas in a future version. Use pandas.concat instead.\n",
      "  df=df.append(df1, ignore_index = True)\n",
      "\r",
      " 55%|████████████████████████████████████████████▎                                   | 112/202 [13:20<11:35,  7.73s/it]"
     ]
    },
    {
     "name": "stdout",
     "output_type": "stream",
     "text": [
      "['Home', 'Belleza', 'Marcas Destacadas', 'MAC']\n",
      "************************\n",
      "112\n",
      "https://www.liverpool.com.mx/tienda/pdp/-/1105560989?skuid=1105560989\n"
     ]
    },
    {
     "name": "stderr",
     "output_type": "stream",
     "text": [
      "C:\\Users\\Administrator\\AppData\\Local\\Temp\\2\\ipykernel_155092\\1117802599.py:27: FutureWarning: The frame.append method is deprecated and will be removed from pandas in a future version. Use pandas.concat instead.\n",
      "  df=df.append(df1, ignore_index = True)\n",
      "\r",
      " 56%|████████████████████████████████████████████▊                                   | 113/202 [13:28<11:39,  7.86s/it]"
     ]
    },
    {
     "name": "stdout",
     "output_type": "stream",
     "text": [
      "['Home', 'Belleza', 'Marcas Destacadas', 'MAC']\n",
      "************************\n",
      "113\n",
      "https://www.liverpool.com.mx/tienda/pdp/-/1126512071?skuid=1126512071\n"
     ]
    },
    {
     "name": "stderr",
     "output_type": "stream",
     "text": [
      "C:\\Users\\Administrator\\AppData\\Local\\Temp\\2\\ipykernel_155092\\1117802599.py:27: FutureWarning: The frame.append method is deprecated and will be removed from pandas in a future version. Use pandas.concat instead.\n",
      "  df=df.append(df1, ignore_index = True)\n",
      "\r",
      " 56%|█████████████████████████████████████████████▏                                  | 114/202 [13:34<10:42,  7.30s/it]"
     ]
    },
    {
     "name": "stdout",
     "output_type": "stream",
     "text": [
      "['Home', 'Belleza', 'Marcas Destacadas', 'MAC']\n",
      "************************\n",
      "114\n",
      "https://www.liverpool.com.mx/tienda/pdp/-/1126254187?skuid=1126254187\n"
     ]
    },
    {
     "name": "stderr",
     "output_type": "stream",
     "text": [
      "C:\\Users\\Administrator\\AppData\\Local\\Temp\\2\\ipykernel_155092\\1117802599.py:27: FutureWarning: The frame.append method is deprecated and will be removed from pandas in a future version. Use pandas.concat instead.\n",
      "  df=df.append(df1, ignore_index = True)\n",
      "\r",
      " 57%|█████████████████████████████████████████████▌                                  | 115/202 [13:40<10:06,  6.97s/it]"
     ]
    },
    {
     "name": "stdout",
     "output_type": "stream",
     "text": [
      "['Home', 'Belleza', 'Marcas Destacadas', 'MAC']\n",
      "************************\n",
      "115\n",
      "https://www.liverpool.com.mx/tienda/pdp/-/1127681615?skuid=1127681615\n"
     ]
    },
    {
     "name": "stderr",
     "output_type": "stream",
     "text": [
      "C:\\Users\\Administrator\\AppData\\Local\\Temp\\2\\ipykernel_155092\\1117802599.py:27: FutureWarning: The frame.append method is deprecated and will be removed from pandas in a future version. Use pandas.concat instead.\n",
      "  df=df.append(df1, ignore_index = True)\n",
      "\r",
      " 57%|█████████████████████████████████████████████▉                                  | 116/202 [13:47<09:44,  6.80s/it]"
     ]
    },
    {
     "name": "stdout",
     "output_type": "stream",
     "text": [
      "['Home', 'Belleza', 'Marcas Destacadas', 'MAC']\n",
      "************************\n",
      "116\n",
      "https://www.liverpool.com.mx/tienda/pdp/-/1127746865?skuid=1127746865\n"
     ]
    },
    {
     "name": "stderr",
     "output_type": "stream",
     "text": [
      "C:\\Users\\Administrator\\AppData\\Local\\Temp\\2\\ipykernel_155092\\1117802599.py:27: FutureWarning: The frame.append method is deprecated and will be removed from pandas in a future version. Use pandas.concat instead.\n",
      "  df=df.append(df1, ignore_index = True)\n",
      "\r",
      " 58%|██████████████████████████████████████████████▎                                 | 117/202 [13:53<09:16,  6.55s/it]"
     ]
    },
    {
     "name": "stdout",
     "output_type": "stream",
     "text": [
      "['Home', 'Belleza', 'Marcas Destacadas', 'MAC']\n",
      "************************\n",
      "117\n",
      "https://www.liverpool.com.mx/tienda/pdp/-/1126408311?skuid=1126408311\n"
     ]
    },
    {
     "name": "stderr",
     "output_type": "stream",
     "text": [
      "C:\\Users\\Administrator\\AppData\\Local\\Temp\\2\\ipykernel_155092\\1117802599.py:27: FutureWarning: The frame.append method is deprecated and will be removed from pandas in a future version. Use pandas.concat instead.\n",
      "  df=df.append(df1, ignore_index = True)\n",
      "\r",
      " 58%|██████████████████████████████████████████████▋                                 | 118/202 [13:59<09:14,  6.61s/it]"
     ]
    },
    {
     "name": "stdout",
     "output_type": "stream",
     "text": [
      "['Home', 'Belleza', 'Marcas Destacadas', 'MAC']\n",
      "************************\n",
      "118\n",
      "https://www.liverpool.com.mx/tienda/pdp/-/1126355960?skuid=1126355960\n"
     ]
    },
    {
     "name": "stderr",
     "output_type": "stream",
     "text": [
      "C:\\Users\\Administrator\\AppData\\Local\\Temp\\2\\ipykernel_155092\\1117802599.py:27: FutureWarning: The frame.append method is deprecated and will be removed from pandas in a future version. Use pandas.concat instead.\n",
      "  df=df.append(df1, ignore_index = True)\n",
      "\r",
      " 59%|███████████████████████████████████████████████▏                                | 119/202 [14:05<08:53,  6.42s/it]"
     ]
    },
    {
     "name": "stdout",
     "output_type": "stream",
     "text": [
      "['Home', 'Belleza', 'Marcas Destacadas', 'MAC']\n",
      "************************\n",
      "119\n",
      "https://www.liverpool.com.mx/tienda/pdp/-/1126355943?skuid=1126355943\n"
     ]
    },
    {
     "name": "stderr",
     "output_type": "stream",
     "text": [
      "C:\\Users\\Administrator\\AppData\\Local\\Temp\\2\\ipykernel_155092\\1117802599.py:27: FutureWarning: The frame.append method is deprecated and will be removed from pandas in a future version. Use pandas.concat instead.\n",
      "  df=df.append(df1, ignore_index = True)\n",
      "\r",
      " 59%|███████████████████████████████████████████████▌                                | 120/202 [14:12<09:03,  6.63s/it]"
     ]
    },
    {
     "name": "stdout",
     "output_type": "stream",
     "text": [
      "['Home', 'Belleza', 'Marcas Destacadas', 'MAC']\n",
      "************************\n",
      "120\n",
      "https://www.liverpool.com.mx/tienda/pdp/-/1138492547?skuid=1138492547\n"
     ]
    },
    {
     "name": "stderr",
     "output_type": "stream",
     "text": [
      "C:\\Users\\Administrator\\AppData\\Local\\Temp\\2\\ipykernel_155092\\1117802599.py:27: FutureWarning: The frame.append method is deprecated and will be removed from pandas in a future version. Use pandas.concat instead.\n",
      "  df=df.append(df1, ignore_index = True)\n",
      "\r",
      " 60%|███████████████████████████████████████████████▉                                | 121/202 [14:19<08:59,  6.66s/it]"
     ]
    },
    {
     "name": "stdout",
     "output_type": "stream",
     "text": [
      "['Home', 'Belleza', 'Marcas Destacadas', 'MAC']\n",
      "************************\n",
      "121\n",
      "https://www.liverpool.com.mx/tienda/pdp/-/1127681593?skuid=1127681593\n"
     ]
    },
    {
     "name": "stderr",
     "output_type": "stream",
     "text": [
      "C:\\Users\\Administrator\\AppData\\Local\\Temp\\2\\ipykernel_155092\\1117802599.py:27: FutureWarning: The frame.append method is deprecated and will be removed from pandas in a future version. Use pandas.concat instead.\n",
      "  df=df.append(df1, ignore_index = True)\n",
      "\r",
      " 60%|████████████████████████████████████████████████▎                               | 122/202 [14:26<08:44,  6.56s/it]"
     ]
    },
    {
     "name": "stdout",
     "output_type": "stream",
     "text": [
      "['Home', 'Belleza', 'Marcas Destacadas', 'MAC']\n",
      "************************\n",
      "122\n",
      "https://www.liverpool.com.mx/tienda/pdp/-/1126408729?skuid=1126408729\n"
     ]
    },
    {
     "name": "stderr",
     "output_type": "stream",
     "text": [
      "C:\\Users\\Administrator\\AppData\\Local\\Temp\\2\\ipykernel_155092\\1117802599.py:27: FutureWarning: The frame.append method is deprecated and will be removed from pandas in a future version. Use pandas.concat instead.\n",
      "  df=df.append(df1, ignore_index = True)\n",
      "\r",
      " 61%|████████████████████████████████████████████████▋                               | 123/202 [14:33<08:57,  6.81s/it]"
     ]
    },
    {
     "name": "stdout",
     "output_type": "stream",
     "text": [
      "['Home', 'Belleza', 'Marcas Destacadas', 'MAC']\n",
      "************************\n",
      "123\n",
      "https://www.liverpool.com.mx/tienda/pdp/-/1126512089?skuid=1126512089\n"
     ]
    },
    {
     "name": "stderr",
     "output_type": "stream",
     "text": [
      "C:\\Users\\Administrator\\AppData\\Local\\Temp\\2\\ipykernel_155092\\1117802599.py:27: FutureWarning: The frame.append method is deprecated and will be removed from pandas in a future version. Use pandas.concat instead.\n",
      "  df=df.append(df1, ignore_index = True)\n",
      "\r",
      " 61%|█████████████████████████████████████████████████                               | 124/202 [14:40<08:57,  6.89s/it]"
     ]
    },
    {
     "name": "stdout",
     "output_type": "stream",
     "text": [
      "['Home', 'Belleza', 'Marcas Destacadas', 'MAC']\n",
      "************************\n",
      "124\n",
      "https://www.liverpool.com.mx/tienda/pdp/-/1126408303?skuid=1126408303\n"
     ]
    },
    {
     "name": "stderr",
     "output_type": "stream",
     "text": [
      "C:\\Users\\Administrator\\AppData\\Local\\Temp\\2\\ipykernel_155092\\1117802599.py:27: FutureWarning: The frame.append method is deprecated and will be removed from pandas in a future version. Use pandas.concat instead.\n",
      "  df=df.append(df1, ignore_index = True)\n",
      "\r",
      " 62%|█████████████████████████████████████████████████▌                              | 125/202 [14:46<08:36,  6.71s/it]"
     ]
    },
    {
     "name": "stdout",
     "output_type": "stream",
     "text": [
      "['Home', 'Belleza', 'Marcas Destacadas', 'MAC']\n",
      "************************\n",
      "125\n",
      "https://www.liverpool.com.mx/tienda/pdp/-/1120250635?skuid=1120250635\n"
     ]
    },
    {
     "name": "stderr",
     "output_type": "stream",
     "text": [
      "C:\\Users\\Administrator\\AppData\\Local\\Temp\\2\\ipykernel_155092\\1117802599.py:27: FutureWarning: The frame.append method is deprecated and will be removed from pandas in a future version. Use pandas.concat instead.\n",
      "  df=df.append(df1, ignore_index = True)\n",
      "\r",
      " 62%|█████████████████████████████████████████████████▉                              | 126/202 [14:52<08:16,  6.54s/it]"
     ]
    },
    {
     "name": "stdout",
     "output_type": "stream",
     "text": [
      "['Home', 'Belleza', 'Marcas Destacadas', 'MAC']\n",
      "************************\n",
      "126\n",
      "https://www.liverpool.com.mx/tienda/pdp/-/1111515677?skuid=1111515677\n"
     ]
    },
    {
     "name": "stderr",
     "output_type": "stream",
     "text": [
      "C:\\Users\\Administrator\\AppData\\Local\\Temp\\2\\ipykernel_155092\\1117802599.py:27: FutureWarning: The frame.append method is deprecated and will be removed from pandas in a future version. Use pandas.concat instead.\n",
      "  df=df.append(df1, ignore_index = True)\n",
      "\r",
      " 63%|██████████████████████████████████████████████████▎                             | 127/202 [14:59<08:15,  6.61s/it]"
     ]
    },
    {
     "name": "stdout",
     "output_type": "stream",
     "text": [
      "['Home', 'Belleza', 'Marcas Destacadas', 'MAC']\n",
      "************************\n",
      "127\n",
      "https://www.liverpool.com.mx/tienda/pdp/-/1127505388?skuid=1127505388\n"
     ]
    },
    {
     "name": "stderr",
     "output_type": "stream",
     "text": [
      "C:\\Users\\Administrator\\AppData\\Local\\Temp\\2\\ipykernel_155092\\1117802599.py:27: FutureWarning: The frame.append method is deprecated and will be removed from pandas in a future version. Use pandas.concat instead.\n",
      "  df=df.append(df1, ignore_index = True)\n",
      "\r",
      " 63%|██████████████████████████████████████████████████▋                             | 128/202 [15:05<07:54,  6.42s/it]"
     ]
    },
    {
     "name": "stdout",
     "output_type": "stream",
     "text": [
      "['Home', 'Belleza', 'Marcas Destacadas', 'MAC']\n",
      "************************\n",
      "128\n",
      "https://www.liverpool.com.mx/tienda/pdp/-/1128086982?skuid=1128086982\n"
     ]
    },
    {
     "name": "stderr",
     "output_type": "stream",
     "text": [
      "C:\\Users\\Administrator\\AppData\\Local\\Temp\\2\\ipykernel_155092\\1117802599.py:27: FutureWarning: The frame.append method is deprecated and will be removed from pandas in a future version. Use pandas.concat instead.\n",
      "  df=df.append(df1, ignore_index = True)\n",
      "\r",
      " 64%|███████████████████████████████████████████████████                             | 129/202 [15:11<07:40,  6.31s/it]"
     ]
    },
    {
     "name": "stdout",
     "output_type": "stream",
     "text": [
      "['Home', 'Belleza', 'Marcas Destacadas', 'MAC']\n",
      "************************\n",
      "129\n",
      "https://www.liverpool.com.mx/tienda/pdp/-/1129526005?skuid=1129526005\n"
     ]
    },
    {
     "name": "stderr",
     "output_type": "stream",
     "text": [
      "C:\\Users\\Administrator\\AppData\\Local\\Temp\\2\\ipykernel_155092\\1117802599.py:27: FutureWarning: The frame.append method is deprecated and will be removed from pandas in a future version. Use pandas.concat instead.\n",
      "  df=df.append(df1, ignore_index = True)\n",
      "\r",
      " 64%|███████████████████████████████████████████████████▍                            | 130/202 [15:18<07:38,  6.37s/it]"
     ]
    },
    {
     "name": "stdout",
     "output_type": "stream",
     "text": [
      "['Home', 'Belleza', 'Marcas Destacadas', 'MAC']\n",
      "************************\n",
      "130\n",
      "https://www.liverpool.com.mx/tienda/pdp/-/1129523707?skuid=1129523707\n"
     ]
    },
    {
     "name": "stderr",
     "output_type": "stream",
     "text": [
      "C:\\Users\\Administrator\\AppData\\Local\\Temp\\2\\ipykernel_155092\\1117802599.py:27: FutureWarning: The frame.append method is deprecated and will be removed from pandas in a future version. Use pandas.concat instead.\n",
      "  df=df.append(df1, ignore_index = True)\n",
      "\r",
      " 65%|███████████████████████████████████████████████████▉                            | 131/202 [15:23<07:19,  6.19s/it]"
     ]
    },
    {
     "name": "stdout",
     "output_type": "stream",
     "text": [
      "['Home', 'Belleza', 'Marcas Destacadas', 'MAC']\n",
      "************************\n",
      "131\n",
      "https://www.liverpool.com.mx/tienda/pdp/-/1127502460?skuid=1127502460\n"
     ]
    },
    {
     "name": "stderr",
     "output_type": "stream",
     "text": [
      "C:\\Users\\Administrator\\AppData\\Local\\Temp\\2\\ipykernel_155092\\1117802599.py:27: FutureWarning: The frame.append method is deprecated and will be removed from pandas in a future version. Use pandas.concat instead.\n",
      "  df=df.append(df1, ignore_index = True)\n",
      "\r",
      " 65%|████████████████████████████████████████████████████▎                           | 132/202 [15:29<07:05,  6.08s/it]"
     ]
    },
    {
     "name": "stdout",
     "output_type": "stream",
     "text": [
      "['Home', 'Belleza', 'Marcas Destacadas', 'MAC']\n",
      "************************\n",
      "132\n",
      "https://www.liverpool.com.mx/tienda/pdp/-/1121574779?skuid=1121574779\n"
     ]
    },
    {
     "name": "stderr",
     "output_type": "stream",
     "text": [
      "C:\\Users\\Administrator\\AppData\\Local\\Temp\\2\\ipykernel_155092\\1117802599.py:27: FutureWarning: The frame.append method is deprecated and will be removed from pandas in a future version. Use pandas.concat instead.\n",
      "  df=df.append(df1, ignore_index = True)\n",
      "\r",
      " 66%|████████████████████████████████████████████████████▋                           | 133/202 [15:35<06:48,  5.91s/it]"
     ]
    },
    {
     "name": "stdout",
     "output_type": "stream",
     "text": [
      "['Home', 'Belleza', 'Marcas Destacadas', 'MAC']\n",
      "************************\n",
      "133\n",
      "https://www.liverpool.com.mx/tienda/pdp/-/1129529314?skuid=1129529314\n"
     ]
    },
    {
     "name": "stderr",
     "output_type": "stream",
     "text": [
      "C:\\Users\\Administrator\\AppData\\Local\\Temp\\2\\ipykernel_155092\\1117802599.py:27: FutureWarning: The frame.append method is deprecated and will be removed from pandas in a future version. Use pandas.concat instead.\n",
      "  df=df.append(df1, ignore_index = True)\n",
      "\r",
      " 66%|█████████████████████████████████████████████████████                           | 134/202 [15:40<06:32,  5.78s/it]"
     ]
    },
    {
     "name": "stdout",
     "output_type": "stream",
     "text": [
      "['Home', 'Belleza', 'Marcas Destacadas', 'MAC']\n",
      "************************\n",
      "134\n",
      "https://www.liverpool.com.mx/tienda/pdp/-/1113651616?skuid=1113651616\n"
     ]
    },
    {
     "name": "stderr",
     "output_type": "stream",
     "text": [
      "C:\\Users\\Administrator\\AppData\\Local\\Temp\\2\\ipykernel_155092\\1117802599.py:27: FutureWarning: The frame.append method is deprecated and will be removed from pandas in a future version. Use pandas.concat instead.\n",
      "  df=df.append(df1, ignore_index = True)\n",
      "\r",
      " 67%|█████████████████████████████████████████████████████▍                          | 135/202 [15:47<06:48,  6.10s/it]"
     ]
    },
    {
     "name": "stdout",
     "output_type": "stream",
     "text": [
      "['Home', 'Belleza', 'Marcas Destacadas', 'MAC']\n",
      "************************\n",
      "135\n",
      "https://www.liverpool.com.mx/tienda/pdp/-/1129526773?skuid=1129526773\n"
     ]
    },
    {
     "name": "stderr",
     "output_type": "stream",
     "text": [
      "C:\\Users\\Administrator\\AppData\\Local\\Temp\\2\\ipykernel_155092\\1117802599.py:27: FutureWarning: The frame.append method is deprecated and will be removed from pandas in a future version. Use pandas.concat instead.\n",
      "  df=df.append(df1, ignore_index = True)\n",
      "\r",
      " 67%|█████████████████████████████████████████████████████▊                          | 136/202 [15:54<06:59,  6.36s/it]"
     ]
    },
    {
     "name": "stdout",
     "output_type": "stream",
     "text": [
      "['Home', 'Belleza', 'Marcas Destacadas', 'MAC']\n",
      "************************\n",
      "136\n",
      "https://www.liverpool.com.mx/tienda/pdp/-/1126497365?skuid=1126497365\n"
     ]
    },
    {
     "name": "stderr",
     "output_type": "stream",
     "text": [
      "C:\\Users\\Administrator\\AppData\\Local\\Temp\\2\\ipykernel_155092\\1117802599.py:27: FutureWarning: The frame.append method is deprecated and will be removed from pandas in a future version. Use pandas.concat instead.\n",
      "  df=df.append(df1, ignore_index = True)\n",
      "\r",
      " 68%|██████████████████████████████████████████████████████▎                         | 137/202 [16:00<06:52,  6.35s/it]"
     ]
    },
    {
     "name": "stdout",
     "output_type": "stream",
     "text": [
      "['Home', 'Belleza', 'Marcas Destacadas', 'MAC']\n",
      "************************\n",
      "137\n",
      "https://www.liverpool.com.mx/tienda/pdp/-/1130819423?skuid=1130819423\n"
     ]
    },
    {
     "name": "stderr",
     "output_type": "stream",
     "text": [
      "C:\\Users\\Administrator\\AppData\\Local\\Temp\\2\\ipykernel_155092\\1117802599.py:27: FutureWarning: The frame.append method is deprecated and will be removed from pandas in a future version. Use pandas.concat instead.\n",
      "  df=df.append(df1, ignore_index = True)\n",
      "\r",
      " 68%|██████████████████████████████████████████████████████▋                         | 138/202 [16:06<06:40,  6.26s/it]"
     ]
    },
    {
     "name": "stdout",
     "output_type": "stream",
     "text": [
      "['Home', 'Belleza', 'Marcas Destacadas', 'MAC']\n",
      "************************\n",
      "138\n",
      "https://www.liverpool.com.mx/tienda/pdp/-/1122564157?skuid=1122564157\n"
     ]
    },
    {
     "name": "stderr",
     "output_type": "stream",
     "text": [
      "C:\\Users\\Administrator\\AppData\\Local\\Temp\\2\\ipykernel_155092\\1117802599.py:27: FutureWarning: The frame.append method is deprecated and will be removed from pandas in a future version. Use pandas.concat instead.\n",
      "  df=df.append(df1, ignore_index = True)\n",
      "\r",
      " 69%|███████████████████████████████████████████████████████                         | 139/202 [16:12<06:24,  6.11s/it]"
     ]
    },
    {
     "name": "stdout",
     "output_type": "stream",
     "text": [
      "['Home', 'Belleza', 'Marcas Destacadas', 'MAC']\n",
      "************************\n",
      "139\n",
      "https://www.liverpool.com.mx/tienda/pdp/-/1122231603?skuid=1122231603\n"
     ]
    },
    {
     "name": "stderr",
     "output_type": "stream",
     "text": [
      "C:\\Users\\Administrator\\AppData\\Local\\Temp\\2\\ipykernel_155092\\1117802599.py:27: FutureWarning: The frame.append method is deprecated and will be removed from pandas in a future version. Use pandas.concat instead.\n",
      "  df=df.append(df1, ignore_index = True)\n",
      "\r",
      " 69%|███████████████████████████████████████████████████████▍                        | 140/202 [16:19<06:24,  6.20s/it]"
     ]
    },
    {
     "name": "stdout",
     "output_type": "stream",
     "text": [
      "['Home', 'Belleza', 'Marcas Destacadas', 'MAC']\n",
      "************************\n",
      "140\n",
      "https://www.liverpool.com.mx/tienda/pdp/-/1130820758?skuid=1130820758\n"
     ]
    },
    {
     "name": "stderr",
     "output_type": "stream",
     "text": [
      "C:\\Users\\Administrator\\AppData\\Local\\Temp\\2\\ipykernel_155092\\1117802599.py:27: FutureWarning: The frame.append method is deprecated and will be removed from pandas in a future version. Use pandas.concat instead.\n",
      "  df=df.append(df1, ignore_index = True)\n",
      "\r",
      " 70%|███████████████████████████████████████████████████████▊                        | 141/202 [16:25<06:24,  6.30s/it]"
     ]
    },
    {
     "name": "stdout",
     "output_type": "stream",
     "text": [
      "['Home', 'Belleza', 'Marcas Destacadas', 'MAC']\n",
      "************************\n",
      "141\n",
      "https://www.liverpool.com.mx/tienda/pdp/-/1122564122?skuid=1122564122\n"
     ]
    },
    {
     "name": "stderr",
     "output_type": "stream",
     "text": [
      "C:\\Users\\Administrator\\AppData\\Local\\Temp\\2\\ipykernel_155092\\1117802599.py:27: FutureWarning: The frame.append method is deprecated and will be removed from pandas in a future version. Use pandas.concat instead.\n",
      "  df=df.append(df1, ignore_index = True)\n",
      "\r",
      " 70%|████████████████████████████████████████████████████████▏                       | 142/202 [16:32<06:24,  6.40s/it]"
     ]
    },
    {
     "name": "stdout",
     "output_type": "stream",
     "text": [
      "['Home', 'Belleza', 'Marcas Destacadas', 'MAC']\n",
      "************************\n",
      "142\n",
      "https://www.liverpool.com.mx/tienda/pdp/-/1097043104?skuid=1097043104\n"
     ]
    },
    {
     "name": "stderr",
     "output_type": "stream",
     "text": [
      "C:\\Users\\Administrator\\AppData\\Local\\Temp\\2\\ipykernel_155092\\1117802599.py:27: FutureWarning: The frame.append method is deprecated and will be removed from pandas in a future version. Use pandas.concat instead.\n",
      "  df=df.append(df1, ignore_index = True)\n",
      "\r",
      " 71%|████████████████████████████████████████████████████████▋                       | 143/202 [16:39<06:35,  6.71s/it]"
     ]
    },
    {
     "name": "stdout",
     "output_type": "stream",
     "text": [
      "['Home', 'Belleza', 'Marcas Destacadas', 'MAC']\n",
      "************************\n",
      "143\n",
      "https://www.liverpool.com.mx/tienda/pdp/-/1130808413?skuid=1130808413\n"
     ]
    },
    {
     "name": "stderr",
     "output_type": "stream",
     "text": [
      "C:\\Users\\Administrator\\AppData\\Local\\Temp\\2\\ipykernel_155092\\1117802599.py:27: FutureWarning: The frame.append method is deprecated and will be removed from pandas in a future version. Use pandas.concat instead.\n",
      "  df=df.append(df1, ignore_index = True)\n",
      "\r",
      " 71%|█████████████████████████████████████████████████████████                       | 144/202 [16:45<06:06,  6.32s/it]"
     ]
    },
    {
     "name": "stdout",
     "output_type": "stream",
     "text": [
      "['Home', 'Belleza', 'Marcas Destacadas', 'MAC']\n",
      "************************\n",
      "144\n",
      "https://www.liverpool.com.mx/tienda/pdp/-/1140160926?skuid=1140160926\n"
     ]
    },
    {
     "name": "stderr",
     "output_type": "stream",
     "text": [
      "C:\\Users\\Administrator\\AppData\\Local\\Temp\\2\\ipykernel_155092\\1117802599.py:27: FutureWarning: The frame.append method is deprecated and will be removed from pandas in a future version. Use pandas.concat instead.\n",
      "  df=df.append(df1, ignore_index = True)\n",
      "\r",
      " 72%|█████████████████████████████████████████████████████████▍                      | 145/202 [16:51<05:57,  6.27s/it]"
     ]
    },
    {
     "name": "stdout",
     "output_type": "stream",
     "text": [
      "['Home', 'Belleza', 'Marcas Destacadas', 'MAC']\n",
      "************************\n",
      "145\n",
      "https://www.liverpool.com.mx/tienda/pdp/-/1136870439?skuid=1136870439\n"
     ]
    },
    {
     "name": "stderr",
     "output_type": "stream",
     "text": [
      "C:\\Users\\Administrator\\AppData\\Local\\Temp\\2\\ipykernel_155092\\1117802599.py:27: FutureWarning: The frame.append method is deprecated and will be removed from pandas in a future version. Use pandas.concat instead.\n",
      "  df=df.append(df1, ignore_index = True)\n",
      "\r",
      " 72%|█████████████████████████████████████████████████████████▊                      | 146/202 [16:56<05:38,  6.05s/it]"
     ]
    },
    {
     "name": "stdout",
     "output_type": "stream",
     "text": [
      "['Home', 'Belleza', 'Marcas Destacadas', 'MAC']\n",
      "************************\n",
      "146\n",
      "https://www.liverpool.com.mx/tienda/pdp/-/1127810491?skuid=1127810491\n"
     ]
    },
    {
     "name": "stderr",
     "output_type": "stream",
     "text": [
      "C:\\Users\\Administrator\\AppData\\Local\\Temp\\2\\ipykernel_155092\\1117802599.py:27: FutureWarning: The frame.append method is deprecated and will be removed from pandas in a future version. Use pandas.concat instead.\n",
      "  df=df.append(df1, ignore_index = True)\n",
      "\r",
      " 73%|██████████████████████████████████████████████████████████▏                     | 147/202 [17:01<05:09,  5.63s/it]"
     ]
    },
    {
     "name": "stdout",
     "output_type": "stream",
     "text": [
      "['Home', 'Belleza', 'Marcas Destacadas', 'MAC']\n",
      "************************\n",
      "147\n",
      "https://www.liverpool.com.mx/tienda/pdp/-/1104829101?skuid=1104829101\n"
     ]
    },
    {
     "name": "stderr",
     "output_type": "stream",
     "text": [
      "C:\\Users\\Administrator\\AppData\\Local\\Temp\\2\\ipykernel_155092\\1117802599.py:27: FutureWarning: The frame.append method is deprecated and will be removed from pandas in a future version. Use pandas.concat instead.\n",
      "  df=df.append(df1, ignore_index = True)\n",
      "\r",
      " 73%|██████████████████████████████████████████████████████████▌                     | 148/202 [17:08<05:28,  6.08s/it]"
     ]
    },
    {
     "name": "stdout",
     "output_type": "stream",
     "text": [
      "['Home', 'Belleza', 'Marcas Destacadas', 'MAC']\n",
      "************************\n",
      "148\n",
      "https://www.liverpool.com.mx/tienda/pdp/-/1116111531?skuid=1116111531\n"
     ]
    },
    {
     "name": "stderr",
     "output_type": "stream",
     "text": [
      "C:\\Users\\Administrator\\AppData\\Local\\Temp\\2\\ipykernel_155092\\1117802599.py:27: FutureWarning: The frame.append method is deprecated and will be removed from pandas in a future version. Use pandas.concat instead.\n",
      "  df=df.append(df1, ignore_index = True)\n",
      "\r",
      " 74%|███████████████████████████████████████████████████████████                     | 149/202 [17:14<05:25,  6.14s/it]"
     ]
    },
    {
     "name": "stdout",
     "output_type": "stream",
     "text": [
      "['Home', 'Belleza', 'Marcas Destacadas', 'MAC']\n",
      "************************\n",
      "149\n",
      "https://www.liverpool.com.mx/tienda/pdp/-/1048250846?skuid=1048250846\n"
     ]
    },
    {
     "name": "stderr",
     "output_type": "stream",
     "text": [
      "C:\\Users\\Administrator\\AppData\\Local\\Temp\\2\\ipykernel_155092\\1117802599.py:27: FutureWarning: The frame.append method is deprecated and will be removed from pandas in a future version. Use pandas.concat instead.\n",
      "  df=df.append(df1, ignore_index = True)\n",
      "\r",
      " 74%|███████████████████████████████████████████████████████████▍                    | 150/202 [17:21<05:18,  6.13s/it]"
     ]
    },
    {
     "name": "stdout",
     "output_type": "stream",
     "text": [
      "['Home', 'Belleza', 'Marcas Destacadas', 'MAC']\n",
      "************************\n",
      "150\n",
      "https://www.liverpool.com.mx/tienda/pdp/-/1139710734?skuid=1139710734\n"
     ]
    },
    {
     "name": "stderr",
     "output_type": "stream",
     "text": [
      "C:\\Users\\Administrator\\AppData\\Local\\Temp\\2\\ipykernel_155092\\1117802599.py:27: FutureWarning: The frame.append method is deprecated and will be removed from pandas in a future version. Use pandas.concat instead.\n",
      "  df=df.append(df1, ignore_index = True)\n",
      "\r",
      " 75%|███████████████████████████████████████████████████████████▊                    | 151/202 [17:27<05:11,  6.10s/it]"
     ]
    },
    {
     "name": "stdout",
     "output_type": "stream",
     "text": [
      "['Home', 'Belleza', 'Marcas Destacadas', 'MAC']\n",
      "************************\n",
      "151\n",
      "https://www.liverpool.com.mx/tienda/pdp/-/1140102683?skuid=1140102683\n"
     ]
    },
    {
     "name": "stderr",
     "output_type": "stream",
     "text": [
      "C:\\Users\\Administrator\\AppData\\Local\\Temp\\2\\ipykernel_155092\\1117802599.py:27: FutureWarning: The frame.append method is deprecated and will be removed from pandas in a future version. Use pandas.concat instead.\n",
      "  df=df.append(df1, ignore_index = True)\n",
      "\r",
      " 75%|████████████████████████████████████████████████████████████▏                   | 152/202 [17:31<04:42,  5.66s/it]"
     ]
    },
    {
     "name": "stdout",
     "output_type": "stream",
     "text": [
      "['Home', 'Belleza', 'Marcas Destacadas', 'MAC']\n",
      "************************\n",
      "152\n",
      "https://www.liverpool.com.mx/tienda/pdp/-/1141287628?skuid=1141287628\n"
     ]
    },
    {
     "name": "stderr",
     "output_type": "stream",
     "text": [
      "C:\\Users\\Administrator\\AppData\\Local\\Temp\\2\\ipykernel_155092\\1117802599.py:27: FutureWarning: The frame.append method is deprecated and will be removed from pandas in a future version. Use pandas.concat instead.\n",
      "  df=df.append(df1, ignore_index = True)\n",
      "\r",
      " 76%|████████████████████████████████████████████████████████████▌                   | 153/202 [17:38<04:56,  6.04s/it]"
     ]
    },
    {
     "name": "stdout",
     "output_type": "stream",
     "text": [
      "['Home', 'Belleza', 'Marcas Destacadas', 'MAC']\n",
      "************************\n",
      "153\n",
      "https://www.liverpool.com.mx/tienda/pdp/-/1103932030?skuid=1103932030\n"
     ]
    },
    {
     "name": "stderr",
     "output_type": "stream",
     "text": [
      "C:\\Users\\Administrator\\AppData\\Local\\Temp\\2\\ipykernel_155092\\1117802599.py:27: FutureWarning: The frame.append method is deprecated and will be removed from pandas in a future version. Use pandas.concat instead.\n",
      "  df=df.append(df1, ignore_index = True)\n",
      "\r",
      " 76%|████████████████████████████████████████████████████████████▉                   | 154/202 [17:45<04:55,  6.17s/it]"
     ]
    },
    {
     "name": "stdout",
     "output_type": "stream",
     "text": [
      "['Home', 'Belleza', 'Marcas Destacadas', 'MAC']\n",
      "************************\n",
      "154\n",
      "https://www.liverpool.com.mx/tienda/pdp/-/1067253392?skuid=1067253392\n"
     ]
    },
    {
     "name": "stderr",
     "output_type": "stream",
     "text": [
      "C:\\Users\\Administrator\\AppData\\Local\\Temp\\2\\ipykernel_155092\\1117802599.py:27: FutureWarning: The frame.append method is deprecated and will be removed from pandas in a future version. Use pandas.concat instead.\n",
      "  df=df.append(df1, ignore_index = True)\n",
      "\r",
      " 77%|█████████████████████████████████████████████████████████████▍                  | 155/202 [17:52<05:12,  6.65s/it]"
     ]
    },
    {
     "name": "stdout",
     "output_type": "stream",
     "text": [
      "['Home', 'Belleza', 'Marcas Destacadas', 'MAC']\n",
      "************************\n",
      "155\n",
      "https://www.liverpool.com.mx/tienda/pdp/-/1137793667?skuid=1137793667\n"
     ]
    },
    {
     "name": "stderr",
     "output_type": "stream",
     "text": [
      "C:\\Users\\Administrator\\AppData\\Local\\Temp\\2\\ipykernel_155092\\1117802599.py:27: FutureWarning: The frame.append method is deprecated and will be removed from pandas in a future version. Use pandas.concat instead.\n",
      "  df=df.append(df1, ignore_index = True)\n",
      "\r",
      " 77%|█████████████████████████████████████████████████████████████▊                  | 156/202 [17:58<04:58,  6.49s/it]"
     ]
    },
    {
     "name": "stdout",
     "output_type": "stream",
     "text": [
      "['Home', 'Belleza', 'Marcas Destacadas', 'MAC']\n",
      "************************\n",
      "156\n",
      "https://www.liverpool.com.mx/tienda/pdp/-/1137475509?skuid=1137475509\n"
     ]
    },
    {
     "name": "stderr",
     "output_type": "stream",
     "text": [
      "C:\\Users\\Administrator\\AppData\\Local\\Temp\\2\\ipykernel_155092\\1117802599.py:27: FutureWarning: The frame.append method is deprecated and will be removed from pandas in a future version. Use pandas.concat instead.\n",
      "  df=df.append(df1, ignore_index = True)\n",
      "\r",
      " 78%|██████████████████████████████████████████████████████████████▏                 | 157/202 [18:04<04:44,  6.32s/it]"
     ]
    },
    {
     "name": "stdout",
     "output_type": "stream",
     "text": [
      "['Home', 'Belleza', 'Marcas Destacadas', 'MAC']\n",
      "************************\n",
      "157\n",
      "https://www.liverpool.com.mx/tienda/pdp/-/1128298092?skuid=1128298092\n"
     ]
    },
    {
     "name": "stderr",
     "output_type": "stream",
     "text": [
      "C:\\Users\\Administrator\\AppData\\Local\\Temp\\2\\ipykernel_155092\\1117802599.py:27: FutureWarning: The frame.append method is deprecated and will be removed from pandas in a future version. Use pandas.concat instead.\n",
      "  df=df.append(df1, ignore_index = True)\n",
      "\r",
      " 78%|██████████████████████████████████████████████████████████████▌                 | 158/202 [18:10<04:30,  6.14s/it]"
     ]
    },
    {
     "name": "stdout",
     "output_type": "stream",
     "text": [
      "['Home', 'Belleza', 'Marcas Destacadas', 'MAC']\n",
      "************************\n",
      "158\n",
      "https://www.liverpool.com.mx/tienda/pdp/-/1134737685?skuid=1134737685\n"
     ]
    },
    {
     "name": "stderr",
     "output_type": "stream",
     "text": [
      "C:\\Users\\Administrator\\AppData\\Local\\Temp\\2\\ipykernel_155092\\1117802599.py:27: FutureWarning: The frame.append method is deprecated and will be removed from pandas in a future version. Use pandas.concat instead.\n",
      "  df=df.append(df1, ignore_index = True)\n",
      "\r",
      " 79%|██████████████████████████████████████████████████████████████▉                 | 159/202 [18:16<04:25,  6.18s/it]"
     ]
    },
    {
     "name": "stdout",
     "output_type": "stream",
     "text": [
      "['Home', 'Belleza', 'Marcas Destacadas', 'MAC']\n",
      "************************\n",
      "159\n",
      "https://www.liverpool.com.mx/tienda/pdp/-/1067354890?skuid=1067354890\n"
     ]
    },
    {
     "name": "stderr",
     "output_type": "stream",
     "text": [
      "C:\\Users\\Administrator\\AppData\\Local\\Temp\\2\\ipykernel_155092\\1117802599.py:27: FutureWarning: The frame.append method is deprecated and will be removed from pandas in a future version. Use pandas.concat instead.\n",
      "  df=df.append(df1, ignore_index = True)\n",
      "\r",
      " 79%|███████████████████████████████████████████████████████████████▎                | 160/202 [18:23<04:23,  6.27s/it]"
     ]
    },
    {
     "name": "stdout",
     "output_type": "stream",
     "text": [
      "['Home', 'Belleza', 'Marcas Destacadas', 'MAC']\n",
      "************************\n",
      "160\n",
      "https://www.liverpool.com.mx/tienda/pdp/-/1104946301?skuid=1104946301\n"
     ]
    },
    {
     "name": "stderr",
     "output_type": "stream",
     "text": [
      "C:\\Users\\Administrator\\AppData\\Local\\Temp\\2\\ipykernel_155092\\1117802599.py:27: FutureWarning: The frame.append method is deprecated and will be removed from pandas in a future version. Use pandas.concat instead.\n",
      "  df=df.append(df1, ignore_index = True)\n",
      "\r",
      " 80%|███████████████████████████████████████████████████████████████▊                | 161/202 [18:30<04:22,  6.41s/it]"
     ]
    },
    {
     "name": "stdout",
     "output_type": "stream",
     "text": [
      "['Home', 'Belleza', 'Marcas Destacadas', 'MAC']\n",
      "************************\n",
      "161\n",
      "https://www.liverpool.com.mx/tienda/pdp/-/1135399520?skuid=1135399520\n"
     ]
    },
    {
     "name": "stderr",
     "output_type": "stream",
     "text": [
      "C:\\Users\\Administrator\\AppData\\Local\\Temp\\2\\ipykernel_155092\\1117802599.py:27: FutureWarning: The frame.append method is deprecated and will be removed from pandas in a future version. Use pandas.concat instead.\n",
      "  df=df.append(df1, ignore_index = True)\n",
      "\r",
      " 80%|████████████████████████████████████████████████████████████████▏               | 162/202 [18:37<04:24,  6.61s/it]"
     ]
    },
    {
     "name": "stdout",
     "output_type": "stream",
     "text": [
      "['Home', 'Belleza', 'Marcas Destacadas', 'MAC']\n",
      "************************\n",
      "162\n",
      "https://www.liverpool.com.mx/tienda/pdp/-/1134732471?skuid=1134732471\n"
     ]
    },
    {
     "name": "stderr",
     "output_type": "stream",
     "text": [
      "C:\\Users\\Administrator\\AppData\\Local\\Temp\\2\\ipykernel_155092\\1117802599.py:27: FutureWarning: The frame.append method is deprecated and will be removed from pandas in a future version. Use pandas.concat instead.\n",
      "  df=df.append(df1, ignore_index = True)\n",
      "\r",
      " 81%|████████████████████████████████████████████████████████████████▌               | 163/202 [18:44<04:28,  6.90s/it]"
     ]
    },
    {
     "name": "stdout",
     "output_type": "stream",
     "text": [
      "['Home', 'Belleza', 'Marcas Destacadas', 'MAC']\n",
      "************************\n",
      "163\n",
      "https://www.liverpool.com.mx/tienda/pdp/-/1136233200?skuid=1136233200\n"
     ]
    },
    {
     "name": "stderr",
     "output_type": "stream",
     "text": [
      "C:\\Users\\Administrator\\AppData\\Local\\Temp\\2\\ipykernel_155092\\1117802599.py:27: FutureWarning: The frame.append method is deprecated and will be removed from pandas in a future version. Use pandas.concat instead.\n",
      "  df=df.append(df1, ignore_index = True)\n",
      "\r",
      " 81%|████████████████████████████████████████████████████████████████▉               | 164/202 [18:50<04:12,  6.64s/it]"
     ]
    },
    {
     "name": "stdout",
     "output_type": "stream",
     "text": [
      "['Home', 'Belleza', 'Marcas Destacadas', 'MAC']\n",
      "************************\n",
      "164\n",
      "https://www.liverpool.com.mx/tienda/pdp/-/1138605503?skuid=1138605503\n"
     ]
    },
    {
     "name": "stderr",
     "output_type": "stream",
     "text": [
      "C:\\Users\\Administrator\\AppData\\Local\\Temp\\2\\ipykernel_155092\\1117802599.py:27: FutureWarning: The frame.append method is deprecated and will be removed from pandas in a future version. Use pandas.concat instead.\n",
      "  df=df.append(df1, ignore_index = True)\n",
      "\r",
      " 82%|█████████████████████████████████████████████████████████████████▎              | 165/202 [18:57<04:02,  6.54s/it]"
     ]
    },
    {
     "name": "stdout",
     "output_type": "stream",
     "text": [
      "['Home', 'Belleza', 'Marcas Destacadas', 'MAC']\n",
      "************************\n",
      "165\n",
      "https://www.liverpool.com.mx/tienda/pdp/-/1132413521?skuid=1132413521\n"
     ]
    },
    {
     "name": "stderr",
     "output_type": "stream",
     "text": [
      "C:\\Users\\Administrator\\AppData\\Local\\Temp\\2\\ipykernel_155092\\1117802599.py:27: FutureWarning: The frame.append method is deprecated and will be removed from pandas in a future version. Use pandas.concat instead.\n",
      "  df=df.append(df1, ignore_index = True)\n",
      "\r",
      " 82%|█████████████████████████████████████████████████████████████████▋              | 166/202 [19:02<03:45,  6.26s/it]"
     ]
    },
    {
     "name": "stdout",
     "output_type": "stream",
     "text": [
      "['Home', 'Belleza', 'Marcas Destacadas', 'MAC']\n",
      "************************\n",
      "166\n",
      "https://www.liverpool.com.mx/tienda/pdp/-/1103932021?skuid=1103932021\n"
     ]
    },
    {
     "name": "stderr",
     "output_type": "stream",
     "text": [
      "C:\\Users\\Administrator\\AppData\\Local\\Temp\\2\\ipykernel_155092\\1117802599.py:27: FutureWarning: The frame.append method is deprecated and will be removed from pandas in a future version. Use pandas.concat instead.\n",
      "  df=df.append(df1, ignore_index = True)\n",
      "\r",
      " 83%|██████████████████████████████████████████████████████████████████▏             | 167/202 [19:09<03:46,  6.46s/it]"
     ]
    },
    {
     "name": "stdout",
     "output_type": "stream",
     "text": [
      "['Home', 'Belleza', 'Marcas Destacadas', 'MAC']\n",
      "************************\n",
      "167\n",
      "https://www.liverpool.com.mx/tienda/pdp/-/1124115295?skuid=1124115295\n"
     ]
    },
    {
     "name": "stderr",
     "output_type": "stream",
     "text": [
      "C:\\Users\\Administrator\\AppData\\Local\\Temp\\2\\ipykernel_155092\\1117802599.py:27: FutureWarning: The frame.append method is deprecated and will be removed from pandas in a future version. Use pandas.concat instead.\n",
      "  df=df.append(df1, ignore_index = True)\n",
      "\r",
      " 83%|██████████████████████████████████████████████████████████████████▌             | 168/202 [19:15<03:34,  6.32s/it]"
     ]
    },
    {
     "name": "stdout",
     "output_type": "stream",
     "text": [
      "['Home', 'Belleza', 'Marcas Destacadas', 'MAC']\n",
      "************************\n",
      "168\n",
      "https://www.liverpool.com.mx/tienda/pdp/-/1128028311?skuid=1128028311\n"
     ]
    },
    {
     "name": "stderr",
     "output_type": "stream",
     "text": [
      "C:\\Users\\Administrator\\AppData\\Local\\Temp\\2\\ipykernel_155092\\1117802599.py:27: FutureWarning: The frame.append method is deprecated and will be removed from pandas in a future version. Use pandas.concat instead.\n",
      "  df=df.append(df1, ignore_index = True)\n",
      "\r",
      " 84%|██████████████████████████████████████████████████████████████████▉             | 169/202 [19:21<03:23,  6.17s/it]"
     ]
    },
    {
     "name": "stdout",
     "output_type": "stream",
     "text": [
      "['Home', 'Belleza', 'Marcas Destacadas', 'MAC']\n",
      "************************\n",
      "169\n",
      "https://www.liverpool.com.mx/tienda/pdp/-/1127810326?skuid=1127810326\n"
     ]
    },
    {
     "name": "stderr",
     "output_type": "stream",
     "text": [
      "C:\\Users\\Administrator\\AppData\\Local\\Temp\\2\\ipykernel_155092\\1117802599.py:27: FutureWarning: The frame.append method is deprecated and will be removed from pandas in a future version. Use pandas.concat instead.\n",
      "  df=df.append(df1, ignore_index = True)\n",
      "\r",
      " 84%|███████████████████████████████████████████████████████████████████▎            | 170/202 [19:28<03:23,  6.36s/it]"
     ]
    },
    {
     "name": "stdout",
     "output_type": "stream",
     "text": [
      "['Home', 'Belleza', 'Marcas Destacadas', 'MAC']\n",
      "************************\n",
      "170\n",
      "https://www.liverpool.com.mx/tienda/pdp/-/1136413313?skuid=1136413313\n"
     ]
    },
    {
     "name": "stderr",
     "output_type": "stream",
     "text": [
      "C:\\Users\\Administrator\\AppData\\Local\\Temp\\2\\ipykernel_155092\\1117802599.py:27: FutureWarning: The frame.append method is deprecated and will be removed from pandas in a future version. Use pandas.concat instead.\n",
      "  df=df.append(df1, ignore_index = True)\n",
      "\r",
      " 85%|███████████████████████████████████████████████████████████████████▋            | 171/202 [19:34<03:16,  6.34s/it]"
     ]
    },
    {
     "name": "stdout",
     "output_type": "stream",
     "text": [
      "['Home', 'Belleza', 'Marcas Destacadas', 'MAC']\n",
      "************************\n",
      "171\n",
      "https://www.liverpool.com.mx/tienda/pdp/-/1108090771?skuid=1108090771\n"
     ]
    },
    {
     "name": "stderr",
     "output_type": "stream",
     "text": [
      "C:\\Users\\Administrator\\AppData\\Local\\Temp\\2\\ipykernel_155092\\1117802599.py:27: FutureWarning: The frame.append method is deprecated and will be removed from pandas in a future version. Use pandas.concat instead.\n",
      "  df=df.append(df1, ignore_index = True)\n",
      "\r",
      " 85%|████████████████████████████████████████████████████████████████████            | 172/202 [19:40<03:09,  6.31s/it]"
     ]
    },
    {
     "name": "stdout",
     "output_type": "stream",
     "text": [
      "['Home', 'Belleza', 'Marcas Destacadas', 'MAC']\n",
      "************************\n",
      "172\n",
      "https://www.liverpool.com.mx/tienda/pdp/-/1139169944?skuid=1139169944\n"
     ]
    },
    {
     "name": "stderr",
     "output_type": "stream",
     "text": [
      "C:\\Users\\Administrator\\AppData\\Local\\Temp\\2\\ipykernel_155092\\1117802599.py:27: FutureWarning: The frame.append method is deprecated and will be removed from pandas in a future version. Use pandas.concat instead.\n",
      "  df=df.append(df1, ignore_index = True)\n",
      "\r",
      " 86%|████████████████████████████████████████████████████████████████████▌           | 173/202 [19:47<03:06,  6.43s/it]"
     ]
    },
    {
     "name": "stdout",
     "output_type": "stream",
     "text": [
      "['Home', 'Belleza', 'Marcas Destacadas', 'MAC']\n",
      "************************\n",
      "173\n",
      "https://www.liverpool.com.mx/tienda/pdp/-/1139169375?skuid=1139169375\n"
     ]
    },
    {
     "name": "stderr",
     "output_type": "stream",
     "text": [
      "C:\\Users\\Administrator\\AppData\\Local\\Temp\\2\\ipykernel_155092\\1117802599.py:27: FutureWarning: The frame.append method is deprecated and will be removed from pandas in a future version. Use pandas.concat instead.\n",
      "  df=df.append(df1, ignore_index = True)\n",
      "\r",
      " 86%|████████████████████████████████████████████████████████████████████▉           | 174/202 [19:53<02:56,  6.30s/it]"
     ]
    },
    {
     "name": "stdout",
     "output_type": "stream",
     "text": [
      "['Home', 'Belleza', 'Marcas Destacadas', 'MAC']\n",
      "************************\n",
      "174\n",
      "https://www.liverpool.com.mx/tienda/pdp/-/1139170004?skuid=1139170004\n"
     ]
    },
    {
     "name": "stderr",
     "output_type": "stream",
     "text": [
      "C:\\Users\\Administrator\\AppData\\Local\\Temp\\2\\ipykernel_155092\\1117802599.py:27: FutureWarning: The frame.append method is deprecated and will be removed from pandas in a future version. Use pandas.concat instead.\n",
      "  df=df.append(df1, ignore_index = True)\n",
      "\r",
      " 87%|█████████████████████████████████████████████████████████████████████▎          | 175/202 [20:00<02:53,  6.44s/it]"
     ]
    },
    {
     "name": "stdout",
     "output_type": "stream",
     "text": [
      "['Home', 'Belleza', 'Marcas Destacadas', 'MAC']\n",
      "************************\n",
      "175\n",
      "https://www.liverpool.com.mx/tienda/pdp/-/1136420301?skuid=1136420301\n"
     ]
    },
    {
     "name": "stderr",
     "output_type": "stream",
     "text": [
      "C:\\Users\\Administrator\\AppData\\Local\\Temp\\2\\ipykernel_155092\\1117802599.py:27: FutureWarning: The frame.append method is deprecated and will be removed from pandas in a future version. Use pandas.concat instead.\n",
      "  df=df.append(df1, ignore_index = True)\n",
      "\r",
      " 87%|█████████████████████████████████████████████████████████████████████▋          | 176/202 [20:06<02:45,  6.38s/it]"
     ]
    },
    {
     "name": "stdout",
     "output_type": "stream",
     "text": [
      "['Home', 'Belleza', 'Marcas Destacadas', 'MAC']\n",
      "************************\n",
      "176\n",
      "https://www.liverpool.com.mx/tienda/pdp/-/1100307410?skuid=1100307410\n"
     ]
    },
    {
     "name": "stderr",
     "output_type": "stream",
     "text": [
      "C:\\Users\\Administrator\\AppData\\Local\\Temp\\2\\ipykernel_155092\\1117802599.py:27: FutureWarning: The frame.append method is deprecated and will be removed from pandas in a future version. Use pandas.concat instead.\n",
      "  df=df.append(df1, ignore_index = True)\n",
      "\r",
      " 88%|██████████████████████████████████████████████████████████████████████          | 177/202 [20:13<02:40,  6.43s/it]"
     ]
    },
    {
     "name": "stdout",
     "output_type": "stream",
     "text": [
      "['Home', 'Belleza', 'Marcas Destacadas', 'MAC']\n",
      "************************\n",
      "177\n",
      "https://www.liverpool.com.mx/tienda/pdp/-/1108891781?skuid=1108891781\n"
     ]
    },
    {
     "name": "stderr",
     "output_type": "stream",
     "text": [
      "C:\\Users\\Administrator\\AppData\\Local\\Temp\\2\\ipykernel_155092\\1117802599.py:27: FutureWarning: The frame.append method is deprecated and will be removed from pandas in a future version. Use pandas.concat instead.\n",
      "  df=df.append(df1, ignore_index = True)\n",
      "\r",
      " 88%|██████████████████████████████████████████████████████████████████████▍         | 178/202 [20:18<02:30,  6.25s/it]"
     ]
    },
    {
     "name": "stdout",
     "output_type": "stream",
     "text": [
      "['Home', 'Belleza', 'Marcas Destacadas', 'MAC']\n",
      "************************\n",
      "178\n",
      "https://www.liverpool.com.mx/tienda/pdp/-/1136177067?skuid=1136177067\n"
     ]
    },
    {
     "name": "stderr",
     "output_type": "stream",
     "text": [
      "C:\\Users\\Administrator\\AppData\\Local\\Temp\\2\\ipykernel_155092\\1117802599.py:27: FutureWarning: The frame.append method is deprecated and will be removed from pandas in a future version. Use pandas.concat instead.\n",
      "  df=df.append(df1, ignore_index = True)\n",
      "\r",
      " 89%|██████████████████████████████████████████████████████████████████████▉         | 179/202 [20:25<02:26,  6.37s/it]"
     ]
    },
    {
     "name": "stdout",
     "output_type": "stream",
     "text": [
      "['Home', 'Belleza', 'Marcas Destacadas', 'MAC']\n",
      "************************\n",
      "179\n",
      "https://www.liverpool.com.mx/tienda/pdp/-/1100817680?skuid=1100817680\n"
     ]
    },
    {
     "name": "stderr",
     "output_type": "stream",
     "text": [
      "C:\\Users\\Administrator\\AppData\\Local\\Temp\\2\\ipykernel_155092\\1117802599.py:27: FutureWarning: The frame.append method is deprecated and will be removed from pandas in a future version. Use pandas.concat instead.\n",
      "  df=df.append(df1, ignore_index = True)\n",
      "\r",
      " 89%|███████████████████████████████████████████████████████████████████████▎        | 180/202 [20:31<02:17,  6.25s/it]"
     ]
    },
    {
     "name": "stdout",
     "output_type": "stream",
     "text": [
      "['Home', 'Belleza', 'Marcas Destacadas', 'MAC']\n",
      "************************\n",
      "180\n",
      "https://www.liverpool.com.mx/tienda/pdp/-/1117110041?skuid=1117110041\n"
     ]
    },
    {
     "name": "stderr",
     "output_type": "stream",
     "text": [
      "C:\\Users\\Administrator\\AppData\\Local\\Temp\\2\\ipykernel_155092\\1117802599.py:27: FutureWarning: The frame.append method is deprecated and will be removed from pandas in a future version. Use pandas.concat instead.\n",
      "  df=df.append(df1, ignore_index = True)\n",
      "\r",
      " 90%|███████████████████████████████████████████████████████████████████████▋        | 181/202 [20:37<02:08,  6.11s/it]"
     ]
    },
    {
     "name": "stdout",
     "output_type": "stream",
     "text": [
      "['Home', 'Belleza', 'Marcas Destacadas', 'MAC']\n",
      "************************\n",
      "181\n",
      "https://www.liverpool.com.mx/tienda/pdp/-/1139028542?skuid=1139028542\n"
     ]
    },
    {
     "name": "stderr",
     "output_type": "stream",
     "text": [
      "C:\\Users\\Administrator\\AppData\\Local\\Temp\\2\\ipykernel_155092\\1117802599.py:27: FutureWarning: The frame.append method is deprecated and will be removed from pandas in a future version. Use pandas.concat instead.\n",
      "  df=df.append(df1, ignore_index = True)\n",
      "\r",
      " 90%|████████████████████████████████████████████████████████████████████████        | 182/202 [20:43<02:02,  6.14s/it]"
     ]
    },
    {
     "name": "stdout",
     "output_type": "stream",
     "text": [
      "['Home', 'Belleza', 'Marcas Destacadas', 'MAC']\n",
      "************************\n",
      "182\n",
      "https://www.liverpool.com.mx/tienda/pdp/-/1133441511?skuid=1133441511\n"
     ]
    },
    {
     "name": "stderr",
     "output_type": "stream",
     "text": [
      "C:\\Users\\Administrator\\AppData\\Local\\Temp\\2\\ipykernel_155092\\1117802599.py:27: FutureWarning: The frame.append method is deprecated and will be removed from pandas in a future version. Use pandas.concat instead.\n",
      "  df=df.append(df1, ignore_index = True)\n",
      "\r",
      " 91%|████████████████████████████████████████████████████████████████████████▍       | 183/202 [20:48<01:51,  5.87s/it]"
     ]
    },
    {
     "name": "stdout",
     "output_type": "stream",
     "text": [
      "['Home', 'Belleza', 'Marcas Destacadas', 'MAC']\n",
      "************************\n",
      "183\n",
      "https://www.liverpool.com.mx/tienda/pdp/-/1114050446?skuid=1114050446\n"
     ]
    },
    {
     "name": "stderr",
     "output_type": "stream",
     "text": [
      "C:\\Users\\Administrator\\AppData\\Local\\Temp\\2\\ipykernel_155092\\1117802599.py:27: FutureWarning: The frame.append method is deprecated and will be removed from pandas in a future version. Use pandas.concat instead.\n",
      "  df=df.append(df1, ignore_index = True)\n",
      "\r",
      " 91%|████████████████████████████████████████████████████████████████████████▊       | 184/202 [20:55<01:48,  6.02s/it]"
     ]
    },
    {
     "name": "stdout",
     "output_type": "stream",
     "text": [
      "['Home', 'Belleza', 'Marcas Destacadas', 'MAC']\n",
      "************************\n",
      "184\n",
      "https://www.liverpool.com.mx/tienda/pdp/-/1135910674?skuid=1135910674\n"
     ]
    },
    {
     "name": "stderr",
     "output_type": "stream",
     "text": [
      "C:\\Users\\Administrator\\AppData\\Local\\Temp\\2\\ipykernel_155092\\1117802599.py:27: FutureWarning: The frame.append method is deprecated and will be removed from pandas in a future version. Use pandas.concat instead.\n",
      "  df=df.append(df1, ignore_index = True)\n",
      "\r",
      " 92%|█████████████████████████████████████████████████████████████████████████▎      | 185/202 [21:01<01:44,  6.12s/it]"
     ]
    },
    {
     "name": "stdout",
     "output_type": "stream",
     "text": [
      "['Home', 'Belleza', 'Marcas Destacadas', 'MAC']\n",
      "************************\n",
      "185\n",
      "https://www.liverpool.com.mx/tienda/pdp/-/1119782739?skuid=1119782739\n"
     ]
    },
    {
     "name": "stderr",
     "output_type": "stream",
     "text": [
      "C:\\Users\\Administrator\\AppData\\Local\\Temp\\2\\ipykernel_155092\\1117802599.py:27: FutureWarning: The frame.append method is deprecated and will be removed from pandas in a future version. Use pandas.concat instead.\n",
      "  df=df.append(df1, ignore_index = True)\n",
      "\r",
      " 92%|█████████████████████████████████████████████████████████████████████████▋      | 186/202 [21:08<01:41,  6.32s/it]"
     ]
    },
    {
     "name": "stdout",
     "output_type": "stream",
     "text": [
      "['Home', 'Belleza', 'Marcas Destacadas', 'MAC']\n",
      "************************\n",
      "186\n",
      "https://www.liverpool.com.mx/tienda/pdp/-/1116498312?skuid=1116498312\n"
     ]
    },
    {
     "name": "stderr",
     "output_type": "stream",
     "text": [
      "C:\\Users\\Administrator\\AppData\\Local\\Temp\\2\\ipykernel_155092\\1117802599.py:27: FutureWarning: The frame.append method is deprecated and will be removed from pandas in a future version. Use pandas.concat instead.\n",
      "  df=df.append(df1, ignore_index = True)\n",
      "\r",
      " 93%|██████████████████████████████████████████████████████████████████████████      | 187/202 [21:14<01:34,  6.27s/it]"
     ]
    },
    {
     "name": "stdout",
     "output_type": "stream",
     "text": [
      "['Home', 'Belleza', 'Marcas Destacadas', 'MAC']\n",
      "************************\n",
      "187\n",
      "https://www.liverpool.com.mx/tienda/pdp/-/1115377236?skuid=1115377236\n"
     ]
    },
    {
     "name": "stderr",
     "output_type": "stream",
     "text": [
      "C:\\Users\\Administrator\\AppData\\Local\\Temp\\2\\ipykernel_155092\\1117802599.py:27: FutureWarning: The frame.append method is deprecated and will be removed from pandas in a future version. Use pandas.concat instead.\n",
      "  df=df.append(df1, ignore_index = True)\n",
      "\r",
      " 93%|██████████████████████████████████████████████████████████████████████████▍     | 188/202 [21:20<01:26,  6.18s/it]"
     ]
    },
    {
     "name": "stdout",
     "output_type": "stream",
     "text": [
      "['Home', 'Belleza', 'Marcas Destacadas', 'MAC']\n",
      "************************\n",
      "188\n",
      "https://www.liverpool.com.mx/tienda/pdp/-/1135400536?skuid=1135400536\n"
     ]
    },
    {
     "name": "stderr",
     "output_type": "stream",
     "text": [
      "C:\\Users\\Administrator\\AppData\\Local\\Temp\\2\\ipykernel_155092\\1117802599.py:27: FutureWarning: The frame.append method is deprecated and will be removed from pandas in a future version. Use pandas.concat instead.\n",
      "  df=df.append(df1, ignore_index = True)\n",
      "\r",
      " 94%|██████████████████████████████████████████████████████████████████████████▊     | 189/202 [21:26<01:19,  6.11s/it]"
     ]
    },
    {
     "name": "stdout",
     "output_type": "stream",
     "text": [
      "['Home', 'Belleza', 'Marcas Destacadas', 'MAC']\n",
      "************************\n",
      "189\n",
      "https://www.liverpool.com.mx/tienda/pdp/-/1124750322?skuid=1124750322\n"
     ]
    },
    {
     "name": "stderr",
     "output_type": "stream",
     "text": [
      "C:\\Users\\Administrator\\AppData\\Local\\Temp\\2\\ipykernel_155092\\1117802599.py:27: FutureWarning: The frame.append method is deprecated and will be removed from pandas in a future version. Use pandas.concat instead.\n",
      "  df=df.append(df1, ignore_index = True)\n",
      "\r",
      " 94%|███████████████████████████████████████████████████████████████████████████▏    | 190/202 [21:32<01:12,  6.05s/it]"
     ]
    },
    {
     "name": "stdout",
     "output_type": "stream",
     "text": [
      "['Home', 'Belleza', 'Marcas Destacadas', 'MAC']\n",
      "************************\n",
      "190\n",
      "https://www.liverpool.com.mx/tienda/pdp/-/1127068191?skuid=1127068191\n"
     ]
    },
    {
     "name": "stderr",
     "output_type": "stream",
     "text": [
      "C:\\Users\\Administrator\\AppData\\Local\\Temp\\2\\ipykernel_155092\\1117802599.py:27: FutureWarning: The frame.append method is deprecated and will be removed from pandas in a future version. Use pandas.concat instead.\n",
      "  df=df.append(df1, ignore_index = True)\n",
      "\r",
      " 95%|███████████████████████████████████████████████████████████████████████████▋    | 191/202 [21:37<01:05,  5.91s/it]"
     ]
    },
    {
     "name": "stdout",
     "output_type": "stream",
     "text": [
      "['Home', 'Belleza', 'Marcas Destacadas', 'MAC']\n",
      "************************\n",
      "191\n",
      "https://www.liverpool.com.mx/tienda/pdp/-/1100530810?skuid=1100530810\n"
     ]
    },
    {
     "name": "stderr",
     "output_type": "stream",
     "text": [
      "C:\\Users\\Administrator\\AppData\\Local\\Temp\\2\\ipykernel_155092\\1117802599.py:27: FutureWarning: The frame.append method is deprecated and will be removed from pandas in a future version. Use pandas.concat instead.\n",
      "  df=df.append(df1, ignore_index = True)\n",
      "\r",
      " 95%|████████████████████████████████████████████████████████████████████████████    | 192/202 [21:44<01:01,  6.17s/it]"
     ]
    },
    {
     "name": "stdout",
     "output_type": "stream",
     "text": [
      "['Home', 'Belleza', 'Marcas Destacadas', 'MAC']\n",
      "************************\n",
      "192\n",
      "https://www.liverpool.com.mx/tienda/pdp/-/1098395144?skuid=1098395144\n"
     ]
    },
    {
     "name": "stderr",
     "output_type": "stream",
     "text": [
      "C:\\Users\\Administrator\\AppData\\Local\\Temp\\2\\ipykernel_155092\\1117802599.py:27: FutureWarning: The frame.append method is deprecated and will be removed from pandas in a future version. Use pandas.concat instead.\n",
      "  df=df.append(df1, ignore_index = True)\n",
      "\r",
      " 96%|████████████████████████████████████████████████████████████████████████████▍   | 193/202 [21:50<00:54,  6.10s/it]"
     ]
    },
    {
     "name": "stdout",
     "output_type": "stream",
     "text": [
      "['Home', 'Belleza', 'Marcas Destacadas', 'MAC']\n",
      "************************\n",
      "193\n",
      "https://www.liverpool.com.mx/tienda/pdp/-/1112357081?skuid=1112357081\n"
     ]
    },
    {
     "name": "stderr",
     "output_type": "stream",
     "text": [
      "C:\\Users\\Administrator\\AppData\\Local\\Temp\\2\\ipykernel_155092\\1117802599.py:27: FutureWarning: The frame.append method is deprecated and will be removed from pandas in a future version. Use pandas.concat instead.\n",
      "  df=df.append(df1, ignore_index = True)\n",
      "\r",
      " 96%|████████████████████████████████████████████████████████████████████████████▊   | 194/202 [21:56<00:47,  5.96s/it]"
     ]
    },
    {
     "name": "stdout",
     "output_type": "stream",
     "text": [
      "['Home', 'Belleza', 'Marcas Destacadas', 'MAC']\n",
      "************************\n",
      "194\n",
      "https://www.liverpool.com.mx/tienda/pdp/-/1108176390?skuid=1108176390\n"
     ]
    },
    {
     "name": "stderr",
     "output_type": "stream",
     "text": [
      "C:\\Users\\Administrator\\AppData\\Local\\Temp\\2\\ipykernel_155092\\1117802599.py:27: FutureWarning: The frame.append method is deprecated and will be removed from pandas in a future version. Use pandas.concat instead.\n",
      "  df=df.append(df1, ignore_index = True)\n",
      "\r",
      " 97%|█████████████████████████████████████████████████████████████████████████████▏  | 195/202 [22:02<00:43,  6.20s/it]"
     ]
    },
    {
     "name": "stdout",
     "output_type": "stream",
     "text": [
      "['Home', 'Belleza', 'Marcas Destacadas', 'MAC']\n",
      "************************\n",
      "195\n",
      "https://www.liverpool.com.mx/tienda/pdp/-/1098387192?skuid=1098387192\n"
     ]
    },
    {
     "name": "stderr",
     "output_type": "stream",
     "text": [
      "C:\\Users\\Administrator\\AppData\\Local\\Temp\\2\\ipykernel_155092\\1117802599.py:27: FutureWarning: The frame.append method is deprecated and will be removed from pandas in a future version. Use pandas.concat instead.\n",
      "  df=df.append(df1, ignore_index = True)\n",
      "\r",
      " 97%|█████████████████████████████████████████████████████████████████████████████▌  | 196/202 [22:09<00:37,  6.22s/it]"
     ]
    },
    {
     "name": "stdout",
     "output_type": "stream",
     "text": [
      "['Home', 'Belleza', 'Marcas Destacadas', 'MAC']\n",
      "************************\n",
      "196\n",
      "https://www.liverpool.com.mx/tienda/pdp/-/1135528672?skuid=1135528672\n"
     ]
    },
    {
     "name": "stderr",
     "output_type": "stream",
     "text": [
      "C:\\Users\\Administrator\\AppData\\Local\\Temp\\2\\ipykernel_155092\\1117802599.py:27: FutureWarning: The frame.append method is deprecated and will be removed from pandas in a future version. Use pandas.concat instead.\n",
      "  df=df.append(df1, ignore_index = True)\n",
      "\r",
      " 98%|██████████████████████████████████████████████████████████████████████████████  | 197/202 [22:15<00:30,  6.19s/it]"
     ]
    },
    {
     "name": "stdout",
     "output_type": "stream",
     "text": [
      "['Home', 'Belleza', 'Marcas Destacadas', 'MAC']\n",
      "************************\n",
      "197\n",
      "https://www.liverpool.com.mx/tienda/pdp/-/1100369954?skuid=1100369954\n"
     ]
    },
    {
     "name": "stderr",
     "output_type": "stream",
     "text": [
      "C:\\Users\\Administrator\\AppData\\Local\\Temp\\2\\ipykernel_155092\\1117802599.py:27: FutureWarning: The frame.append method is deprecated and will be removed from pandas in a future version. Use pandas.concat instead.\n",
      "  df=df.append(df1, ignore_index = True)\n",
      "\r",
      " 98%|██████████████████████████████████████████████████████████████████████████████▍ | 198/202 [22:22<00:25,  6.49s/it]"
     ]
    },
    {
     "name": "stdout",
     "output_type": "stream",
     "text": [
      "['Home', 'Belleza', 'Marcas Destacadas', 'MAC']\n",
      "************************\n",
      "198\n",
      "https://www.liverpool.com.mx/tienda/pdp/-/1100530801?skuid=1100530801\n"
     ]
    },
    {
     "name": "stderr",
     "output_type": "stream",
     "text": [
      "C:\\Users\\Administrator\\AppData\\Local\\Temp\\2\\ipykernel_155092\\1117802599.py:27: FutureWarning: The frame.append method is deprecated and will be removed from pandas in a future version. Use pandas.concat instead.\n",
      "  df=df.append(df1, ignore_index = True)\n",
      "\r",
      " 99%|██████████████████████████████████████████████████████████████████████████████▊ | 199/202 [22:28<00:19,  6.43s/it]"
     ]
    },
    {
     "name": "stdout",
     "output_type": "stream",
     "text": [
      "['Home', 'Belleza', 'Marcas Destacadas', 'MAC']\n",
      "************************\n",
      "199\n",
      "https://www.liverpool.com.mx/tienda/pdp/-/1135529369?skuid=1135529369\n"
     ]
    },
    {
     "name": "stderr",
     "output_type": "stream",
     "text": [
      "C:\\Users\\Administrator\\AppData\\Local\\Temp\\2\\ipykernel_155092\\1117802599.py:27: FutureWarning: The frame.append method is deprecated and will be removed from pandas in a future version. Use pandas.concat instead.\n",
      "  df=df.append(df1, ignore_index = True)\n",
      "\r",
      " 99%|███████████████████████████████████████████████████████████████████████████████▏| 200/202 [22:34<00:12,  6.35s/it]"
     ]
    },
    {
     "name": "stdout",
     "output_type": "stream",
     "text": [
      "['Home', 'Belleza', 'Marcas Destacadas', 'MAC']\n",
      "************************\n",
      "200\n",
      "https://www.liverpool.com.mx/tienda/pdp/-/1138606178?skuid=1138606178\n"
     ]
    },
    {
     "name": "stderr",
     "output_type": "stream",
     "text": [
      "C:\\Users\\Administrator\\AppData\\Local\\Temp\\2\\ipykernel_155092\\1117802599.py:27: FutureWarning: The frame.append method is deprecated and will be removed from pandas in a future version. Use pandas.concat instead.\n",
      "  df=df.append(df1, ignore_index = True)\n",
      "\r",
      "100%|███████████████████████████████████████████████████████████████████████████████▌| 201/202 [22:41<00:06,  6.29s/it]"
     ]
    },
    {
     "name": "stdout",
     "output_type": "stream",
     "text": [
      "['Home', 'Belleza', 'Marcas Destacadas', 'MAC']\n",
      "************************\n",
      "201\n",
      "https://www.liverpool.com.mx/tienda/pdp/-/1134529128?skuid=1134529128\n"
     ]
    },
    {
     "name": "stderr",
     "output_type": "stream",
     "text": [
      "C:\\Users\\Administrator\\AppData\\Local\\Temp\\2\\ipykernel_155092\\1117802599.py:27: FutureWarning: The frame.append method is deprecated and will be removed from pandas in a future version. Use pandas.concat instead.\n",
      "  df=df.append(df1, ignore_index = True)\n",
      "100%|████████████████████████████████████████████████████████████████████████████████| 202/202 [22:47<00:00,  6.77s/it]"
     ]
    },
    {
     "name": "stdout",
     "output_type": "stream",
     "text": [
      "['Home', 'Belleza', 'Marcas Destacadas', 'MAC']\n"
     ]
    },
    {
     "name": "stderr",
     "output_type": "stream",
     "text": [
      "\n"
     ]
    }
   ],
   "source": [
    "for i in tqdm(range(0,len(asinlist))):\n",
    "    Url='https://www.liverpool.com.mx/tienda/pdp/-/'+asinlist[i]+'?skuid='+asinlist[i]\n",
    "#     chrome_options = webdriver.ChromeOptions()\n",
    "#     chrome_options.add_argument(\"--incognito\")\n",
    "#     driver = webdriver.Chrome(executable_path = r'chromedriver.exe',chrome_options = chrome_options)\n",
    "\n",
    "    print('************************')\n",
    "    print(i)\n",
    "    print(Url)\n",
    "\n",
    "    driver.get('https://www.liverpool.com.mx/tienda/pdp/lipstick-m.a.c-matte/1002183010?skuid=1014306036')\n",
    "    time.sleep(2)\n",
    "    bs=BeautifulSoup(driver.page_source, \"html.parser\")\n",
    "    cat=[]\n",
    "        \n",
    "    try:\n",
    "        aa=bs.find('ul',class_=\"m-breadcrumb-list\")\n",
    "        allli=aa.find_all('li')\n",
    "        for eachli in allli:\n",
    "            categ=eachli.find('a').text.strip()\n",
    "            cat.append(categ)\n",
    "        print(cat)\n",
    "    except:\n",
    "        print('not found')\n",
    "    \n",
    "    df1={'channel_sku_id': sku, 'categories': cat}\n",
    "    df=df.append(df1, ignore_index = True)"
   ]
  },
  {
   "cell_type": "code",
   "execution_count": 100,
   "id": "29f87c0b",
   "metadata": {},
   "outputs": [
    {
     "data": {
      "text/html": [
       "<div>\n",
       "<style scoped>\n",
       "    .dataframe tbody tr th:only-of-type {\n",
       "        vertical-align: middle;\n",
       "    }\n",
       "\n",
       "    .dataframe tbody tr th {\n",
       "        vertical-align: top;\n",
       "    }\n",
       "\n",
       "    .dataframe thead th {\n",
       "        text-align: right;\n",
       "    }\n",
       "</style>\n",
       "<table border=\"1\" class=\"dataframe\">\n",
       "  <thead>\n",
       "    <tr style=\"text-align: right;\">\n",
       "      <th></th>\n",
       "      <th>index</th>\n",
       "      <th>brand</th>\n",
       "      <th>title</th>\n",
       "      <th>sku</th>\n",
       "      <th>job_name</th>\n",
       "      <th>channel_id</th>\n",
       "      <th>categories</th>\n",
       "      <th>sold_by</th>\n",
       "      <th>rating_count</th>\n",
       "    </tr>\n",
       "  </thead>\n",
       "  <tbody>\n",
       "    <tr>\n",
       "      <th>0</th>\n",
       "      <td>0</td>\n",
       "      <td>OSTER</td>\n",
       "      <td>Oster 2-speed blender 2114087/BEST02-E00-13</td>\n",
       "      <td>1109553111</td>\n",
       "      <td>Liverpool r.no.565 Serp_job</td>\n",
       "      <td>97</td>\n",
       "      <td>[Licuadoras]</td>\n",
       "      <td>STOREPOOL</td>\n",
       "      <td></td>\n",
       "    </tr>\n",
       "    <tr>\n",
       "      <th>1</th>\n",
       "      <td>1</td>\n",
       "      <td>OSTER</td>\n",
       "      <td>Oster BLSTBPST-013 2-speed blender 2114099</td>\n",
       "      <td>1104553521</td>\n",
       "      <td>Liverpool r.no.565 Serp_job</td>\n",
       "      <td>97</td>\n",
       "      <td>[Licuadoras]</td>\n",
       "      <td></td>\n",
       "      <td></td>\n",
       "    </tr>\n",
       "    <tr>\n",
       "      <th>2</th>\n",
       "      <td>2</td>\n",
       "      <td>OSTER</td>\n",
       "      <td>Oster blender BLST4655-013 3 speeds 2114081</td>\n",
       "      <td>1104552770</td>\n",
       "      <td>Liverpool r.no.565 Serp_job</td>\n",
       "      <td>97</td>\n",
       "      <td>[Licuadoras]</td>\n",
       "      <td></td>\n",
       "      <td>77 opiniones Escribe una opinión</td>\n",
       "    </tr>\n",
       "    <tr>\n",
       "      <th>3</th>\n",
       "      <td>3</td>\n",
       "      <td>OSTER</td>\n",
       "      <td>Oster Osterizer Cycle Blend Vintage 10-Speed B...</td>\n",
       "      <td>1109553081</td>\n",
       "      <td>Liverpool r.no.565 Serp_job</td>\n",
       "      <td>97</td>\n",
       "      <td>[Licuadoras]</td>\n",
       "      <td>IBUSHAK</td>\n",
       "      <td>1 opinión Escribe una opinión</td>\n",
       "    </tr>\n",
       "    <tr>\n",
       "      <th>4</th>\n",
       "      <td>4</td>\n",
       "      <td>OSTER</td>\n",
       "      <td>Oster 2114101 2 speed blender</td>\n",
       "      <td>1104756146</td>\n",
       "      <td>Liverpool r.no.565 Serp_job</td>\n",
       "      <td>97</td>\n",
       "      <td>[Licuadoras]</td>\n",
       "      <td></td>\n",
       "      <td>37 opiniones Escribe una opinión</td>\n",
       "    </tr>\n",
       "    <tr>\n",
       "      <th>...</th>\n",
       "      <td>...</td>\n",
       "      <td>...</td>\n",
       "      <td>...</td>\n",
       "      <td>...</td>\n",
       "      <td>...</td>\n",
       "      <td>...</td>\n",
       "      <td>...</td>\n",
       "      <td>...</td>\n",
       "      <td>...</td>\n",
       "    </tr>\n",
       "    <tr>\n",
       "      <th>731</th>\n",
       "      <td>2071</td>\n",
       "      <td>AVENT</td>\n",
       "      <td>Set milk storage bags Avent SCF603/25</td>\n",
       "      <td>1044138782</td>\n",
       "      <td>Liverpool r.no.565 Serp_job</td>\n",
       "      <td>97</td>\n",
       "      <td></td>\n",
       "      <td></td>\n",
       "      <td></td>\n",
       "    </tr>\n",
       "    <tr>\n",
       "      <th>732</th>\n",
       "      <td>2072</td>\n",
       "      <td>PHILIPS</td>\n",
       "      <td>Philips Series 5000 Shaver S5898/17</td>\n",
       "      <td>1135400528</td>\n",
       "      <td>Liverpool r.no.565 Serp_job</td>\n",
       "      <td>97</td>\n",
       "      <td></td>\n",
       "      <td></td>\n",
       "      <td></td>\n",
       "    </tr>\n",
       "    <tr>\n",
       "      <th>733</th>\n",
       "      <td>2073</td>\n",
       "      <td>AVENT</td>\n",
       "      <td>Avent Formula Dispenser</td>\n",
       "      <td>1044138502</td>\n",
       "      <td>Liverpool r.no.565 Serp_job</td>\n",
       "      <td>97</td>\n",
       "      <td></td>\n",
       "      <td></td>\n",
       "      <td></td>\n",
       "    </tr>\n",
       "    <tr>\n",
       "      <th>734</th>\n",
       "      <td>2074</td>\n",
       "      <td>AVENT</td>\n",
       "      <td>Avent Baby Bottles 9oz</td>\n",
       "      <td>1094071654</td>\n",
       "      <td>Liverpool r.no.565 Serp_job</td>\n",
       "      <td>97</td>\n",
       "      <td></td>\n",
       "      <td></td>\n",
       "      <td></td>\n",
       "    </tr>\n",
       "    <tr>\n",
       "      <th>735</th>\n",
       "      <td>2090</td>\n",
       "      <td>OSTER</td>\n",
       "      <td>Oster reversible blade 6 blades</td>\n",
       "      <td>1115561690</td>\n",
       "      <td>Liverpool r.no.565 Serp_job</td>\n",
       "      <td>97</td>\n",
       "      <td></td>\n",
       "      <td></td>\n",
       "      <td></td>\n",
       "    </tr>\n",
       "  </tbody>\n",
       "</table>\n",
       "<p>736 rows × 9 columns</p>\n",
       "</div>"
      ],
      "text/plain": [
       "     index    brand                                              title  \\\n",
       "0        0    OSTER        Oster 2-speed blender 2114087/BEST02-E00-13   \n",
       "1        1    OSTER         Oster BLSTBPST-013 2-speed blender 2114099   \n",
       "2        2    OSTER        Oster blender BLST4655-013 3 speeds 2114081   \n",
       "3        3    OSTER  Oster Osterizer Cycle Blend Vintage 10-Speed B...   \n",
       "4        4    OSTER                      Oster 2114101 2 speed blender   \n",
       "..     ...      ...                                                ...   \n",
       "731   2071    AVENT              Set milk storage bags Avent SCF603/25   \n",
       "732   2072  PHILIPS                Philips Series 5000 Shaver S5898/17   \n",
       "733   2073    AVENT                            Avent Formula Dispenser   \n",
       "734   2074    AVENT                             Avent Baby Bottles 9oz   \n",
       "735   2090    OSTER                    Oster reversible blade 6 blades   \n",
       "\n",
       "            sku                      job_name  channel_id    categories  \\\n",
       "0    1109553111  Liverpool r.no.565 Serp_job           97  [Licuadoras]   \n",
       "1    1104553521  Liverpool r.no.565 Serp_job           97  [Licuadoras]   \n",
       "2    1104552770  Liverpool r.no.565 Serp_job           97  [Licuadoras]   \n",
       "3    1109553081  Liverpool r.no.565 Serp_job           97  [Licuadoras]   \n",
       "4    1104756146  Liverpool r.no.565 Serp_job           97  [Licuadoras]   \n",
       "..          ...                           ...         ...           ...   \n",
       "731  1044138782  Liverpool r.no.565 Serp_job           97                 \n",
       "732  1135400528  Liverpool r.no.565 Serp_job           97                 \n",
       "733  1044138502  Liverpool r.no.565 Serp_job           97                 \n",
       "734  1094071654  Liverpool r.no.565 Serp_job           97                 \n",
       "735  1115561690  Liverpool r.no.565 Serp_job           97                 \n",
       "\n",
       "       sold_by                        rating_count  \n",
       "0    STOREPOOL                                      \n",
       "1                                                   \n",
       "2                 77 opiniones Escribe una opinión  \n",
       "3      IBUSHAK       1 opinión Escribe una opinión  \n",
       "4                 37 opiniones Escribe una opinión  \n",
       "..         ...                                 ...  \n",
       "731                                                 \n",
       "732                                                 \n",
       "733                                                 \n",
       "734                                                 \n",
       "735                                                 \n",
       "\n",
       "[736 rows x 9 columns]"
      ]
     },
     "execution_count": 100,
     "metadata": {},
     "output_type": "execute_result"
    }
   ],
   "source": [
    "df"
   ]
  },
  {
   "cell_type": "code",
   "execution_count": 101,
   "id": "64c2e8e4",
   "metadata": {},
   "outputs": [
    {
     "data": {
      "text/plain": [
       "'brand_mapping_liverpool Liverpool r.no.565 Serp_job .xlsx'"
      ]
     },
     "execution_count": 101,
     "metadata": {},
     "output_type": "execute_result"
    }
   ],
   "source": [
    "file='brand_mapping_liverpool {}.xlsx'.format(serp_details['job_name'][0])\n",
    "file\n",
    "final_df.to_excel(file)"
   ]
  },
  {
   "cell_type": "code",
   "execution_count": null,
   "id": "0a03698f",
   "metadata": {},
   "outputs": [],
   "source": [
    "import smtplib\n",
    "from email.mime.text import MIMEText\n",
    "from email.mime.multipart import MIMEMultipart\n",
    "from email.mime.base import MIMEBase\n",
    "from email import encoders\n",
    "\n",
    "email_user = 'alerts@1digitalstack.ai'\n",
    "email_password = ''\n",
    "email_send = ['ghansham.pindoriya@1digitalstack.ai','karan.kumar@1digitalstack.ai','sambhav.jain@1digitalstack.ai','arihant.singh@1digitalstack.ai','kinshu@1digitalstack.ai','ankur.dwivedi@1digitalstack.ai']\n",
    "\n",
    "subject = file\n",
    "msg = MIMEMultipart()\n",
    "msg['From'] = email_user\n",
    "#msg['From'] = \"'Abhishek' <{email_user}>\"\n",
    "msg['To'] = ', '.join(email_send)\n",
    "msg['Subject'] = subject\n",
    "\n",
    "body = 'Hi,\\n\\nPFA of today''s brand mapping of amazon. Please check brand mapping for following jobs.\\n{}'.format(jobs_name)\n",
    "msg.attach(MIMEText(body,'plain'))\n",
    "\n",
    "filename=[file]\n",
    "\n",
    "for file in filename:\n",
    "    attachment  =open(file,'rb')\n",
    "    part = MIMEBase('application','octet-stream')\n",
    "    part.set_payload((attachment).read())\n",
    "    encoders.encode_base64(part)\n",
    "    part.add_header('Content-Disposition',\"attachment; filename= \"+file)\n",
    "    msg.attach(part)\n",
    "    text = msg.as_string()\n",
    "\n",
    "server = smtplib.SMTP('1digitalstack.com',25)\n",
    "#server.login(email_user,email_password)\n",
    "\n",
    "server.sendmail(email_user,email_send,text)\n",
    "server.quit()"
   ]
  },
  {
   "cell_type": "code",
   "execution_count": null,
   "id": "2cd82c5c",
   "metadata": {},
   "outputs": [],
   "source": []
  }
 ],
 "metadata": {
  "kernelspec": {
   "display_name": "Python 3 (ipykernel)",
   "language": "python",
   "name": "python3"
  },
  "language_info": {
   "codemirror_mode": {
    "name": "ipython",
    "version": 3
   },
   "file_extension": ".py",
   "mimetype": "text/x-python",
   "name": "python",
   "nbconvert_exporter": "python",
   "pygments_lexer": "ipython3",
   "version": "3.10.9"
  }
 },
 "nbformat": 4,
 "nbformat_minor": 5
}
