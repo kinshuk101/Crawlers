{
 "cells": [
  {
   "cell_type": "code",
   "execution_count": 1,
   "id": "a0c85bfe",
   "metadata": {},
   "outputs": [],
   "source": [
    "import pandas as pd\n",
    "import psycopg2\n",
    "import numpy as np\n",
    "\n",
    "\n",
    "\n",
    "from selenium import webdriver\n",
    "from selenium.webdriver.common.by import By\n",
    "import requests\n",
    "from selenium.webdriver.support.ui import WebDriverWait\n",
    "import selenium.webdriver.support.expected_conditions as EC\n",
    "\n",
    "\n",
    "\n",
    "from tqdm import tqdm\n",
    "tqdm.pandas()\n",
    "import time\n",
    "\n",
    "\n",
    "\n",
    "from bs4 import BeautifulSoup\n",
    "import re"
   ]
  },
  {
   "cell_type": "code",
   "execution_count": 2,
   "id": "b1100870",
   "metadata": {},
   "outputs": [
    {
     "name": "stderr",
     "output_type": "stream",
     "text": [
      "C:\\Users\\Administrator\\AppData\\Local\\Temp\\2\\ipykernel_156016\\3931627501.py:3: DeprecationWarning: executable_path has been deprecated, please pass in a Service object\n",
      "  driver = webdriver.Chrome(executable_path = r\"../chromedriver_win32/chromedriver.exe\",chrome_options = chrome_options)\n",
      "C:\\Users\\Administrator\\AppData\\Local\\Temp\\2\\ipykernel_156016\\3931627501.py:3: DeprecationWarning: use options instead of chrome_options\n",
      "  driver = webdriver.Chrome(executable_path = r\"../chromedriver_win32/chromedriver.exe\",chrome_options = chrome_options)\n"
     ]
    }
   ],
   "source": [
    "chrome_options = webdriver.ChromeOptions()\n",
    "chrome_options.add_argument(\"--incognito\")\n",
    "driver = webdriver.Chrome(executable_path = r\"../chromedriver_win32/chromedriver.exe\",chrome_options = chrome_options)"
   ]
  },
  {
   "cell_type": "code",
   "execution_count": 3,
   "id": "10b3f52b",
   "metadata": {},
   "outputs": [
    {
     "name": "stdout",
     "output_type": "stream",
     "text": [
      "{'user': 'postgres', 'channel_binding': 'prefer', 'dbname': 'postgres', 'host': '1.pgsql.db.1digitalstack.com', 'port': '5432', 'options': '', 'sslmode': 'prefer', 'sslcompression': '0', 'sslsni': '1', 'ssl_min_protocol_version': 'TLSv1.2', 'gssencmode': 'disable', 'krbsrvname': 'postgres', 'target_session_attrs': 'any'} \n",
      "\n",
      "{'user': 'postgres', 'channel_binding': 'prefer', 'dbname': 'postgres', 'host': '2.pgsql.db.1digitalstack.com', 'port': '5432', 'options': '', 'sslmode': 'prefer', 'sslcompression': '0', 'sslsni': '1', 'ssl_min_protocol_version': 'TLSv1.2', 'gssencmode': 'disable', 'krbsrvname': 'postgres', 'target_session_attrs': 'any'} \n",
      "\n",
      "Enter keystone ids with comma.64e5ec9d31675555b916e40c,64e5eaa831675555b916e33e\n",
      " Enter no of days for which data needs brand mapping.\n",
      "5\n"
     ]
    },
    {
     "name": "stderr",
     "output_type": "stream",
     "text": [
      "C:\\Users\\Administrator\\AppData\\Local\\Temp\\2\\ipykernel_156016\\588336937.py:87: UserWarning: pandas only supports SQLAlchemy connectable (engine/connection) or database string URI or sqlite3 DBAPI2 connection. Other DBAPI2 objects are not tested. Please consider using SQLAlchemy.\n",
      "  serp_details = pd.read_sql_query(query, conn[1])\n",
      "C:\\Users\\Administrator\\AppData\\Local\\Temp\\2\\ipykernel_156016\\588336937.py:95: UserWarning: pandas only supports SQLAlchemy connectable (engine/connection) or database string URI or sqlite3 DBAPI2 connection. Other DBAPI2 objects are not tested. Please consider using SQLAlchemy.\n",
      "  country_data = pd.read_sql_query(query_1, conn[1])\n",
      "C:\\Users\\Administrator\\AppData\\Local\\Temp\\2\\ipykernel_156016\\588336937.py:106: UserWarning: pandas only supports SQLAlchemy connectable (engine/connection) or database string URI or sqlite3 DBAPI2 connection. Other DBAPI2 objects are not tested. Please consider using SQLAlchemy.\n",
      "  pm_data = pd.read_sql_query(query_2, conn[1])\n"
     ]
    }
   ],
   "source": [
    "class postgres_conn:\n",
    "    def getConn(self):\n",
    "        try:\n",
    "            connection = psycopg2.connect(user='postgres',\n",
    "                                          password='postgres_007',\n",
    "                                          host=\"1.pgsql.db.1digitalstack.com\",\n",
    "                                          port='5432',\n",
    "                                          database='postgres')\n",
    "\n",
    "            cursor = connection.cursor()\n",
    "            # Print PostgreSQL Connection properties\n",
    "            print(connection.get_dsn_parameters(), \"\\n\")\n",
    "\n",
    "            # Print PostgreSQL version\n",
    "            return cursor, connection\n",
    "\n",
    "        except (Exception, psycopg2.Error) as error:\n",
    "            print(\"Error while connecting to PostgreSQL\", error)\n",
    "            return error, error\n",
    "    def getConn2(self):\n",
    "        try:\n",
    "            connection = psycopg2.connect(user='postgres',\n",
    "                                          password='reporting_007',\n",
    "                                          host=\"2.pgsql.db.1digitalstack.com\",\n",
    "                                          port='5432',\n",
    "                                          database='postgres')\n",
    "\n",
    "            cursor = connection.cursor()\n",
    "            # Print PostgreSQL Connection properties\n",
    "            print(connection.get_dsn_parameters(), \"\\n\")\n",
    "\n",
    "            # Print PostgreSQL version\n",
    "            return cursor, connection\n",
    "\n",
    "        except (Exception, psycopg2.Error) as error:\n",
    "            print(\"Error while connecting to PostgreSQL\", error)\n",
    "            return error, error\n",
    "\n",
    "\n",
    "    def close_connection(self, cursor, connection):\n",
    "        # closing database connection.\n",
    "        if(connection):\n",
    "            cursor.close()\n",
    "            connection.close()\n",
    "            print(\"PostgreSQL connection is closed\")\n",
    "            \n",
    "pg = postgres_conn()\n",
    "conn = pg.getConn()\n",
    "conn2 = pg.getConn2()\n",
    "\n",
    "client_ids=['138','135','133','132','130','136','131','141','134','128','142','140','356','391','392','432','137']\n",
    "client_id=[138,135,133,132,130,136,131,141,134,128,142,140,356,391,392,432,137]\n",
    "\n",
    "\n",
    "tlds=['https://www.amazon.sg/dp/',\n",
    "     'https://www.amazon.nl/dp/',\n",
    "     'https://www.amazon.it/dp/',\n",
    "     'https://www.amazon.in/dp/',\n",
    "     'https://www.amazon.fr/dp/',\n",
    "     'https://www.amazon.es/dp/',\n",
    "     'https://www.amazon.de/dp/',\n",
    "     'https://www.amazon.com/dp/',\n",
    "     'https://www.amazon.com.mx/dp/',\n",
    "     'https://www.amazon.com.au/dp/',\n",
    "     'https://www.amazon.co.uk/dp/',\n",
    "     'https://www.amazon.ae/dp/',\n",
    "     'https://www.amazon.pl/dp/',\n",
    "     'https://www.amazon.se/dp/',\n",
    "     'https://www.amazon.com.br/dp/',\n",
    "     'https://www.amazon.ca/dp/',\n",
    "     'https://www.amazon.com.be/dp/']\n",
    "\n",
    "\n",
    "tld_df=pd.DataFrame(list(zip(client_id,tlds)),columns=['client_id','tld'])\n",
    "\n",
    "\n",
    "job_id=input(\"Enter keystone ids with comma.\").split(\",\")\n",
    "days=input(\" Enter no of days for which data needs brand mapping.\\n\")\n",
    "job_id.append(\"\")\n",
    "tuple(job_id)\n",
    "\n",
    "query = f\"\"\"\n",
    "select client_id, keyword, brand, title, price, sku, crawl_time, sponsored, channel_id, rating, rating_count,job_name\n",
    "from ready.serp_details smd join ready.serp_mongo_details m on m.serp_mongo_id=smd.serp_mongo_id\n",
    "where smd.crawl_date > now() - interval '{days} day' and keystone_job_id in {tuple(job_id)}\n",
    "\"\"\"\n",
    "serp_details = pd.read_sql_query(query, conn[1])\n",
    "\n",
    "\n",
    "data_df=serp_details[['client_id','sku','title','brand']]\n",
    "\n",
    "data_df=data_df.drop_duplicates('sku')\n",
    "\n",
    "query_1 = \"select country, id from client_resource.client_master \"\n",
    "country_data = pd.read_sql_query(query_1, conn[1])\n",
    "\n",
    "df1= pd.merge(data_df,country_data, left_on='client_id', right_on='id', how= 'left')\n",
    "\n",
    "\n",
    "query_2 = f\"\"\" \n",
    "Select channel_sku_id,country_code, brand_name, categories,category_id\n",
    "from entity.product_master\n",
    "where channel_sku_id in {tuple(df1['sku'].dropna())} \n",
    "\"\"\"\n",
    "\n",
    "pm_data = pd.read_sql_query(query_2, conn[1])\n",
    "\n",
    "mapped_df=pd.merge(df1,pm_data, how='left', left_on=['sku','country'],right_on=['channel_sku_id','country_code'])\n",
    "\n",
    "df2=mapped_df[mapped_df['categories'].isnull()][['client_id','country','sku','title','brand_name' ,\"categories\",\"category_id\"]]\n",
    "df3=pd.merge(df2,tld_df,on= 'client_id', how= 'left')\n",
    "df3['product_link']=df3['tld']+df3['sku']\n",
    "df4=df3.drop_duplicates(subset=['sku','country'])\n",
    "df5=df4.reset_index()\n",
    "df5['brand_name']=\"\""
   ]
  },
  {
   "cell_type": "code",
   "execution_count": 4,
   "id": "a70719ed",
   "metadata": {
    "scrolled": true
   },
   "outputs": [
    {
     "name": "stderr",
     "output_type": "stream",
     "text": [
      "\r",
      "  0%|                                                                                         | 0/1550 [00:00<?, ?it/s]"
     ]
    },
    {
     "name": "stdout",
     "output_type": "stream",
     "text": [
      "0\n",
      "https://www.amazon.in/dp/B09VT8QHMF\n"
     ]
    },
    {
     "name": "stderr",
     "output_type": "stream",
     "text": [
      "\r",
      "  0%|                                                                               | 1/1550 [00:11<4:52:17, 11.32s/it]"
     ]
    },
    {
     "name": "stdout",
     "output_type": "stream",
     "text": [
      "1\n",
      "https://www.amazon.in/dp/B08KTYVHLW\n",
      "Brand: Allen Solly\n"
     ]
    },
    {
     "name": "stderr",
     "output_type": "stream",
     "text": [
      "C:\\Users\\Administrator\\AppData\\Local\\Temp\\2\\ipykernel_156016\\3096989248.py:57: SettingWithCopyWarning: \n",
      "A value is trying to be set on a copy of a slice from a DataFrame\n",
      "\n",
      "See the caveats in the documentation: https://pandas.pydata.org/pandas-docs/stable/user_guide/indexing.html#returning-a-view-versus-a-copy\n",
      "  df5['brand_name'][i]=brand\n",
      "C:\\Users\\Administrator\\AppData\\Local\\Temp\\2\\ipykernel_156016\\3096989248.py:83: SettingWithCopyWarning: \n",
      "A value is trying to be set on a copy of a slice from a DataFrame\n",
      "\n",
      "See the caveats in the documentation: https://pandas.pydata.org/pandas-docs/stable/user_guide/indexing.html#returning-a-view-versus-a-copy\n",
      "  df5['categories'][i]=cats\n",
      "C:\\Users\\Administrator\\AppData\\Local\\Temp\\2\\ipykernel_156016\\3096989248.py:84: SettingWithCopyWarning: \n",
      "A value is trying to be set on a copy of a slice from a DataFrame\n",
      "\n",
      "See the caveats in the documentation: https://pandas.pydata.org/pandas-docs/stable/user_guide/indexing.html#returning-a-view-versus-a-copy\n",
      "  df5['category_id'][i]=cat_ids\n",
      "  0%|                                                                               | 2/1550 [00:15<3:09:59,  7.36s/it]"
     ]
    },
    {
     "name": "stdout",
     "output_type": "stream",
     "text": [
      "['Fashion', 'Apparel Steal Deals', 'Apparel_1', 'Men', 'T-Shirts & Polos under 699']\n",
      "2\n",
      "https://www.amazon.in/dp/B09TDXXDCB\n",
      "Brand: Allen Solly\n"
     ]
    },
    {
     "name": "stderr",
     "output_type": "stream",
     "text": [
      "\r",
      "  0%|▏                                                                              | 3/1550 [00:20<2:32:03,  5.90s/it]"
     ]
    },
    {
     "name": "stdout",
     "output_type": "stream",
     "text": [
      "['Fashion', 'Apparel Steal Deals', 'Apparel_1', 'Men', 'Polos & T-Shirts - Min 50% Off']\n",
      "3\n",
      "https://www.amazon.in/dp/B09VT7SLH8\n",
      "Brand: Allen Solly\n"
     ]
    },
    {
     "name": "stderr",
     "output_type": "stream",
     "text": [
      "\r",
      "  0%|▏                                                                              | 4/1550 [00:24<2:14:03,  5.20s/it]"
     ]
    },
    {
     "name": "stdout",
     "output_type": "stream",
     "text": [
      "['Fashion', 'Apparel Steal Deals', 'Apparel_1', 'Men', 'T-shirts under 499']\n",
      "4\n",
      "https://www.amazon.in/dp/B0BV48BGGK\n",
      "Brand: Lacoste\n"
     ]
    },
    {
     "name": "stderr",
     "output_type": "stream",
     "text": [
      "\r",
      "  0%|▎                                                                              | 5/1550 [00:28<2:02:07,  4.74s/it]"
     ]
    },
    {
     "name": "stdout",
     "output_type": "stream",
     "text": [
      "['Clothing & Accessories', 'Men', 'T-Shirts & Polos', 'T-Shirts']\n",
      "5\n",
      "https://www.amazon.in/dp/B0BV71D15S\n",
      "Brand: Lacoste\n"
     ]
    },
    {
     "name": "stderr",
     "output_type": "stream",
     "text": [
      "\r",
      "  0%|▎                                                                              | 6/1550 [00:32<2:01:14,  4.71s/it]"
     ]
    },
    {
     "name": "stdout",
     "output_type": "stream",
     "text": [
      "['Clothing & Accessories', 'Men', 'Winter Wear', 'Sweatshirts & Hoodies', 'Sweatshirts']\n",
      "6\n",
      "https://www.amazon.in/dp/B099K21B2P\n",
      "Brand: Lacoste\n"
     ]
    },
    {
     "name": "stderr",
     "output_type": "stream",
     "text": [
      "\r",
      "  0%|▎                                                                              | 7/1550 [00:37<2:00:54,  4.70s/it]"
     ]
    },
    {
     "name": "stdout",
     "output_type": "stream",
     "text": [
      "['Clothing & Accessories', 'Men', 'T-Shirts & Polos', 'Polos']\n",
      "7\n",
      "https://www.amazon.in/dp/B0BV3XWR3W\n"
     ]
    },
    {
     "name": "stderr",
     "output_type": "stream",
     "text": [
      "\r",
      "  1%|▍                                                                              | 8/1550 [00:42<2:00:53,  4.70s/it]"
     ]
    },
    {
     "name": "stdout",
     "output_type": "stream",
     "text": [
      "Brand: Lacoste\n",
      "['Clothing & Accessories', 'Men', 'T-Shirts & Polos', 'T-Shirts']\n",
      "8\n",
      "https://www.amazon.in/dp/B0BV4B3CDT\n",
      "Brand: Lacoste\n"
     ]
    },
    {
     "name": "stderr",
     "output_type": "stream",
     "text": [
      "\r",
      "  1%|▍                                                                              | 9/1550 [00:46<1:59:25,  4.65s/it]"
     ]
    },
    {
     "name": "stdout",
     "output_type": "stream",
     "text": [
      "['Clothing & Accessories', 'Men', 'T-Shirts & Polos', 'Polos']\n",
      "9\n",
      "https://www.amazon.in/dp/B0BV4BL823\n",
      "Brand: Lacoste\n"
     ]
    },
    {
     "name": "stderr",
     "output_type": "stream",
     "text": [
      "\r",
      "  1%|▌                                                                             | 10/1550 [00:50<1:56:03,  4.52s/it]"
     ]
    },
    {
     "name": "stdout",
     "output_type": "stream",
     "text": [
      "['Clothing & Accessories', 'Men', 'T-Shirts & Polos', 'Polos']\n",
      "10\n",
      "https://www.amazon.in/dp/B0C658M3GK\n",
      "Brand: Lacoste\n"
     ]
    },
    {
     "name": "stderr",
     "output_type": "stream",
     "text": [
      "\r",
      "  1%|▌                                                                             | 11/1550 [00:55<1:56:24,  4.54s/it]"
     ]
    },
    {
     "name": "stdout",
     "output_type": "stream",
     "text": [
      "['Clothing & Accessories', 'Men', 'T-Shirts & Polos', 'Polos']\n",
      "11\n",
      "https://www.amazon.in/dp/B0BV3VQ2SP\n"
     ]
    },
    {
     "name": "stderr",
     "output_type": "stream",
     "text": [
      "\r",
      "  1%|▌                                                                             | 12/1550 [01:00<1:56:45,  4.56s/it]"
     ]
    },
    {
     "name": "stdout",
     "output_type": "stream",
     "text": [
      "Brand: Lacoste\n",
      "['Clothing & Accessories', 'Men', 'T-Shirts & Polos', 'Polos']\n",
      "12\n",
      "https://www.amazon.in/dp/B0BBQQWVCB\n",
      "Brand: Lacoste\n"
     ]
    },
    {
     "name": "stderr",
     "output_type": "stream",
     "text": [
      "\r",
      "  1%|▋                                                                             | 13/1550 [01:04<1:53:56,  4.45s/it]"
     ]
    },
    {
     "name": "stdout",
     "output_type": "stream",
     "text": [
      "['Clothing & Accessories', 'Men', 'T-Shirts & Polos', 'Polos']\n",
      "13\n",
      "https://www.amazon.in/dp/B0BV3Z2868\n",
      "Brand: Lacoste\n"
     ]
    },
    {
     "name": "stderr",
     "output_type": "stream",
     "text": [
      "\r",
      "  1%|▋                                                                             | 14/1550 [01:08<1:52:42,  4.40s/it]"
     ]
    },
    {
     "name": "stdout",
     "output_type": "stream",
     "text": [
      "['Clothing & Accessories', 'Men', 'T-Shirts & Polos', 'Polos']\n",
      "14\n",
      "https://www.amazon.in/dp/B0C2C6D3VZ\n"
     ]
    },
    {
     "name": "stderr",
     "output_type": "stream",
     "text": [
      "\r",
      "  1%|▊                                                                             | 15/1550 [01:13<1:52:50,  4.41s/it]"
     ]
    },
    {
     "name": "stdout",
     "output_type": "stream",
     "text": [
      "Brand: Lacoste\n",
      "['Clothing & Accessories', 'Men', 'T-Shirts & Polos', 'Polos']\n",
      "15\n",
      "https://www.amazon.in/dp/B0BV4JB6CX\n",
      "Brand: Lacoste\n"
     ]
    },
    {
     "name": "stderr",
     "output_type": "stream",
     "text": [
      "\r",
      "  1%|▊                                                                             | 16/1550 [01:17<1:53:45,  4.45s/it]"
     ]
    },
    {
     "name": "stdout",
     "output_type": "stream",
     "text": [
      "['Clothing & Accessories', 'Men', 'T-Shirts & Polos', 'T-Shirts']\n",
      "16\n",
      "https://www.amazon.in/dp/B0C2C6W95C\n",
      "Brand: Lacoste\n"
     ]
    },
    {
     "name": "stderr",
     "output_type": "stream",
     "text": [
      "\r",
      "  1%|▊                                                                             | 17/1550 [01:22<1:56:26,  4.56s/it]"
     ]
    },
    {
     "name": "stdout",
     "output_type": "stream",
     "text": [
      "['Clothing & Accessories', 'Men', 'T-Shirts & Polos', 'Polos']\n",
      "17\n",
      "https://www.amazon.in/dp/B0BV3VNSVW\n",
      "Brand: Lacoste\n"
     ]
    },
    {
     "name": "stderr",
     "output_type": "stream",
     "text": [
      "\r",
      "  1%|▉                                                                             | 18/1550 [01:27<1:56:57,  4.58s/it]"
     ]
    },
    {
     "name": "stdout",
     "output_type": "stream",
     "text": [
      "['Clothing & Accessories', 'Men', 'T-Shirts & Polos', 'T-Shirts']\n",
      "18\n",
      "https://www.amazon.in/dp/B0BZ4VBP7X\n"
     ]
    },
    {
     "name": "stderr",
     "output_type": "stream",
     "text": [
      "\r",
      "  1%|▉                                                                             | 19/1550 [01:31<1:56:51,  4.58s/it]"
     ]
    },
    {
     "name": "stdout",
     "output_type": "stream",
     "text": [
      "Brand: Lacoste\n",
      "['Clothing & Accessories', 'Men', 'T-Shirts & Polos', 'Polos']\n",
      "19\n",
      "https://www.amazon.in/dp/B0BHL27PTM\n",
      "Brand: Lacoste\n"
     ]
    },
    {
     "name": "stderr",
     "output_type": "stream",
     "text": [
      "\r",
      "  1%|█                                                                             | 20/1550 [01:35<1:53:41,  4.46s/it]"
     ]
    },
    {
     "name": "stdout",
     "output_type": "stream",
     "text": [
      "['Clothing & Accessories', 'Men', 'T-Shirts & Polos', 'T-Shirts']\n",
      "20\n",
      "https://www.amazon.in/dp/B0BV45FDCS\n",
      "Brand: Lacoste\n"
     ]
    },
    {
     "name": "stderr",
     "output_type": "stream",
     "text": [
      "\r",
      "  1%|█                                                                             | 21/1550 [01:40<1:54:27,  4.49s/it]"
     ]
    },
    {
     "name": "stdout",
     "output_type": "stream",
     "text": [
      "['Clothing & Accessories', 'Men', 'T-Shirts & Polos', 'T-Shirts']\n",
      "21\n",
      "https://www.amazon.in/dp/B0BV4GC4BM\n",
      "Brand: Lacoste\n"
     ]
    },
    {
     "name": "stderr",
     "output_type": "stream",
     "text": [
      "\r",
      "  1%|█                                                                             | 22/1550 [01:44<1:54:04,  4.48s/it]"
     ]
    },
    {
     "name": "stdout",
     "output_type": "stream",
     "text": [
      "['Clothing & Accessories', 'Men', 'T-Shirts & Polos', 'Polos']\n",
      "22\n",
      "https://www.amazon.in/dp/B0BVJD9NPJ\n",
      "Brand: Lacoste\n"
     ]
    },
    {
     "name": "stderr",
     "output_type": "stream",
     "text": [
      "\r",
      "  1%|█▏                                                                            | 23/1550 [01:49<1:52:22,  4.42s/it]"
     ]
    },
    {
     "name": "stdout",
     "output_type": "stream",
     "text": [
      "['Clothing & Accessories', 'Men', 'T-Shirts & Polos', 'Polos']\n",
      "23\n",
      "https://www.amazon.in/dp/B0C2C4RR5Z\n"
     ]
    },
    {
     "name": "stderr",
     "output_type": "stream",
     "text": [
      "\r",
      "  2%|█▏                                                                            | 24/1550 [01:52<1:48:01,  4.25s/it]"
     ]
    },
    {
     "name": "stdout",
     "output_type": "stream",
     "text": [
      "Brand: Lacoste\n",
      "['Clothing & Accessories', 'Men', 'T-Shirts & Polos', 'T-Shirts']\n",
      "24\n",
      "https://www.amazon.in/dp/B0B9RQ8D6Y\n"
     ]
    },
    {
     "name": "stderr",
     "output_type": "stream",
     "text": [
      "\r",
      "  2%|█▎                                                                            | 25/1550 [01:57<1:47:40,  4.24s/it]"
     ]
    },
    {
     "name": "stdout",
     "output_type": "stream",
     "text": [
      "Brand: Lacoste\n",
      "['Clothing & Accessories', 'Boys', 'T-Shirts & Polos', 'T-Shirts']\n",
      "25\n",
      "https://www.amazon.in/dp/B0BV4B9HVX\n",
      "Brand: Lacoste\n"
     ]
    },
    {
     "name": "stderr",
     "output_type": "stream",
     "text": [
      "\r",
      "  2%|█▎                                                                            | 26/1550 [02:01<1:50:05,  4.33s/it]"
     ]
    },
    {
     "name": "stdout",
     "output_type": "stream",
     "text": [
      "['Clothing & Accessories', 'Men', 'T-Shirts & Polos', 'Polos']\n",
      "26\n",
      "https://www.amazon.in/dp/B0BV48K89T\n"
     ]
    },
    {
     "name": "stderr",
     "output_type": "stream",
     "text": [
      "\r",
      "  2%|█▎                                                                            | 27/1550 [02:05<1:46:16,  4.19s/it]"
     ]
    },
    {
     "name": "stdout",
     "output_type": "stream",
     "text": [
      "Brand: Lacoste\n",
      "['Clothing & Accessories', 'Men', 'T-Shirts & Polos', 'Polos']\n",
      "27\n",
      "https://www.amazon.in/dp/B0BZ4ST974\n"
     ]
    },
    {
     "name": "stderr",
     "output_type": "stream",
     "text": [
      "\r",
      "  2%|█▍                                                                            | 28/1550 [02:10<1:48:32,  4.28s/it]"
     ]
    },
    {
     "name": "stdout",
     "output_type": "stream",
     "text": [
      "Brand: Lacoste\n",
      "['Clothing & Accessories', 'Men', 'T-Shirts & Polos', 'Polos']\n",
      "28\n",
      "https://www.amazon.in/dp/B0BV4NDYGL\n",
      "Brand: Lacoste\n"
     ]
    },
    {
     "name": "stderr",
     "output_type": "stream",
     "text": [
      "\r",
      "  2%|█▍                                                                            | 29/1550 [02:14<1:50:15,  4.35s/it]"
     ]
    },
    {
     "name": "stdout",
     "output_type": "stream",
     "text": [
      "['Clothing & Accessories', 'Men', 'T-Shirts & Polos', 'T-Shirts']\n",
      "29\n",
      "https://www.amazon.in/dp/B0BV3V4WRW\n"
     ]
    },
    {
     "name": "stderr",
     "output_type": "stream",
     "text": [
      "\r",
      "  2%|█▌                                                                            | 30/1550 [02:18<1:47:20,  4.24s/it]"
     ]
    },
    {
     "name": "stdout",
     "output_type": "stream",
     "text": [
      "Visit the Lacoste Store\n",
      "['Clothing & Accessories', 'Men', 'T-Shirts & Polos', 'Polos']\n",
      "30\n",
      "https://www.amazon.in/dp/B0BZCL4857\n",
      "Brand: Lacoste\n"
     ]
    },
    {
     "name": "stderr",
     "output_type": "stream",
     "text": [
      "\r",
      "  2%|█▌                                                                            | 31/1550 [02:22<1:47:38,  4.25s/it]"
     ]
    },
    {
     "name": "stdout",
     "output_type": "stream",
     "text": [
      "['Clothing & Accessories', 'Men', 'T-Shirts & Polos', 'T-Shirts']\n",
      "31\n",
      "https://www.amazon.in/dp/B0BV44PDWG\n"
     ]
    },
    {
     "name": "stderr",
     "output_type": "stream",
     "text": [
      "\r",
      "  2%|█▌                                                                            | 32/1550 [02:26<1:47:03,  4.23s/it]"
     ]
    },
    {
     "name": "stdout",
     "output_type": "stream",
     "text": [
      "Brand: Lacoste\n",
      "['Clothing & Accessories', 'Men', 'T-Shirts & Polos', 'Polos']\n",
      "32\n",
      "https://www.amazon.in/dp/B0C8B5CD9F\n"
     ]
    },
    {
     "name": "stderr",
     "output_type": "stream",
     "text": [
      "\r",
      "  2%|█▋                                                                            | 33/1550 [02:31<1:46:48,  4.22s/it]"
     ]
    },
    {
     "name": "stdout",
     "output_type": "stream",
     "text": [
      "Brand: Lacoste\n",
      "['Clothing & Accessories', 'Men', 'T-Shirts & Polos', 'Polos']\n",
      "33\n",
      "https://www.amazon.in/dp/B0BL2VKMK2\n",
      "Brand: Lacoste\n"
     ]
    },
    {
     "name": "stderr",
     "output_type": "stream",
     "text": [
      "\r",
      "  2%|█▋                                                                            | 34/1550 [02:35<1:47:36,  4.26s/it]"
     ]
    },
    {
     "name": "stdout",
     "output_type": "stream",
     "text": [
      "['Clothing & Accessories', 'Men', 'T-Shirts & Polos', 'T-Shirts']\n",
      "34\n",
      "https://www.amazon.in/dp/B0C658YPY2\n"
     ]
    },
    {
     "name": "stderr",
     "output_type": "stream",
     "text": [
      "\r",
      "  2%|█▊                                                                            | 35/1550 [02:39<1:47:41,  4.26s/it]"
     ]
    },
    {
     "name": "stdout",
     "output_type": "stream",
     "text": [
      "Brand: Lacoste\n",
      "['Clothing & Accessories', 'Men', 'T-Shirts & Polos', 'Polos']\n",
      "35\n",
      "https://www.amazon.in/dp/B0B9RMM6FD\n"
     ]
    },
    {
     "name": "stderr",
     "output_type": "stream",
     "text": [
      "\r",
      "  2%|█▊                                                                            | 36/1550 [02:43<1:43:39,  4.11s/it]"
     ]
    },
    {
     "name": "stdout",
     "output_type": "stream",
     "text": [
      "Brand: Lacoste\n",
      "['Clothing & Accessories', 'Men', 'T-Shirts & Polos', 'Polos']\n",
      "36\n",
      "https://www.amazon.in/dp/B0BV4DJWGL\n",
      "Brand: Lacoste\n"
     ]
    },
    {
     "name": "stderr",
     "output_type": "stream",
     "text": [
      "\r",
      "  2%|█▊                                                                            | 37/1550 [02:48<1:47:40,  4.27s/it]"
     ]
    },
    {
     "name": "stdout",
     "output_type": "stream",
     "text": [
      "['Clothing & Accessories', 'Men', 'T-Shirts & Polos', 'Polos']\n",
      "37\n",
      "https://www.amazon.in/dp/B0BV478KYC\n",
      "Brand: Lacoste\n"
     ]
    },
    {
     "name": "stderr",
     "output_type": "stream",
     "text": [
      "\r",
      "  2%|█▉                                                                            | 38/1550 [02:52<1:45:34,  4.19s/it]"
     ]
    },
    {
     "name": "stdout",
     "output_type": "stream",
     "text": [
      "['Clothing & Accessories', 'Men', 'T-Shirts & Polos', 'Polos']\n",
      "38\n",
      "https://www.amazon.in/dp/B0BD8CV5H8\n",
      "Brand: Lacoste\n"
     ]
    },
    {
     "name": "stderr",
     "output_type": "stream",
     "text": [
      "\r",
      "  3%|█▉                                                                            | 39/1550 [02:56<1:45:58,  4.21s/it]"
     ]
    },
    {
     "name": "stdout",
     "output_type": "stream",
     "text": [
      "['Clothing & Accessories', 'Men', 'T-Shirts & Polos', 'T-Shirts']\n",
      "39\n",
      "https://www.amazon.in/dp/B0BV3ZTL58\n",
      "Brand: Lacoste\n"
     ]
    },
    {
     "name": "stderr",
     "output_type": "stream",
     "text": [
      "\r",
      "  3%|██                                                                            | 40/1550 [03:00<1:46:36,  4.24s/it]"
     ]
    },
    {
     "name": "stdout",
     "output_type": "stream",
     "text": [
      "['Clothing & Accessories', 'Men', 'T-Shirts & Polos', 'Polos']\n",
      "40\n",
      "https://www.amazon.in/dp/B099K3RYKN\n",
      "Brand: Lacoste\n"
     ]
    },
    {
     "name": "stderr",
     "output_type": "stream",
     "text": [
      "\r",
      "  3%|██                                                                            | 41/1550 [03:04<1:45:31,  4.20s/it]"
     ]
    },
    {
     "name": "stdout",
     "output_type": "stream",
     "text": [
      "['Clothing & Accessories', 'Men', 'T-Shirts & Polos', 'Polos']\n",
      "41\n",
      "https://www.amazon.in/dp/B0BZ4VMTLM\n",
      "Brand: Lacoste\n"
     ]
    },
    {
     "name": "stderr",
     "output_type": "stream",
     "text": [
      "\r",
      "  3%|██                                                                            | 42/1550 [03:09<1:48:21,  4.31s/it]"
     ]
    },
    {
     "name": "stdout",
     "output_type": "stream",
     "text": [
      "['Clothing & Accessories', 'Men', 'T-Shirts & Polos', 'Polos']\n",
      "42\n",
      "https://www.amazon.in/dp/B0BV3TXWQF\n"
     ]
    },
    {
     "name": "stderr",
     "output_type": "stream",
     "text": [
      "\r",
      "  3%|██▏                                                                           | 43/1550 [03:13<1:48:24,  4.32s/it]"
     ]
    },
    {
     "name": "stdout",
     "output_type": "stream",
     "text": [
      "Brand: Lacoste\n",
      "['Clothing & Accessories', 'Men', 'T-Shirts & Polos', 'Polos']\n",
      "43\n",
      "https://www.amazon.in/dp/B09H319865\n",
      "Brand: Lacoste\n"
     ]
    },
    {
     "name": "stderr",
     "output_type": "stream",
     "text": [
      "\r",
      "  3%|██▏                                                                           | 44/1550 [03:18<1:49:25,  4.36s/it]"
     ]
    },
    {
     "name": "stdout",
     "output_type": "stream",
     "text": [
      "['Clothing & Accessories', 'Women', 'Western Wear', 'Tops, T-Shirts & Shirts', 'T-Shirts']\n",
      "44\n",
      "https://www.amazon.in/dp/B0BV45WFZZ\n"
     ]
    },
    {
     "name": "stderr",
     "output_type": "stream",
     "text": [
      "\r",
      "  3%|██▎                                                                           | 45/1550 [03:22<1:50:16,  4.40s/it]"
     ]
    },
    {
     "name": "stdout",
     "output_type": "stream",
     "text": [
      "Brand: Lacoste\n",
      "['Clothing & Accessories', 'Men', 'T-Shirts & Polos', 'T-Shirts']\n",
      "45\n",
      "https://www.amazon.in/dp/B0BV3ZYBRP\n",
      "Brand: Lacoste\n"
     ]
    },
    {
     "name": "stderr",
     "output_type": "stream",
     "text": [
      "\r",
      "  3%|██▎                                                                           | 46/1550 [03:27<1:49:29,  4.37s/it]"
     ]
    },
    {
     "name": "stdout",
     "output_type": "stream",
     "text": [
      "['Clothing & Accessories', 'Men', 'T-Shirts & Polos', 'Polos']\n",
      "46\n",
      "https://www.amazon.in/dp/B0BNGFGRWL\n",
      "Brand: Lacoste\n"
     ]
    },
    {
     "name": "stderr",
     "output_type": "stream",
     "text": [
      "\r",
      "  3%|██▎                                                                           | 47/1550 [03:30<1:45:46,  4.22s/it]"
     ]
    },
    {
     "name": "stdout",
     "output_type": "stream",
     "text": [
      "['Clothing & Accessories', 'Men', 'T-Shirts & Polos', 'T-Shirts']\n",
      "47\n",
      "https://www.amazon.in/dp/B0BV3XVHGW\n"
     ]
    },
    {
     "name": "stderr",
     "output_type": "stream",
     "text": [
      "\r",
      "  3%|██▍                                                                           | 48/1550 [03:34<1:44:21,  4.17s/it]"
     ]
    },
    {
     "name": "stdout",
     "output_type": "stream",
     "text": [
      "Brand: Lacoste\n",
      "['Clothing & Accessories', 'Men', 'T-Shirts & Polos', 'Polos']\n",
      "48\n",
      "https://www.amazon.in/dp/B0B2JC7VCN\n",
      "Brand: Lacoste\n"
     ]
    },
    {
     "name": "stderr",
     "output_type": "stream",
     "text": [
      "\r",
      "  3%|██▍                                                                           | 49/1550 [03:39<1:45:07,  4.20s/it]"
     ]
    },
    {
     "name": "stdout",
     "output_type": "stream",
     "text": [
      "['Clothing & Accessories', 'Men', 'T-Shirts & Polos', 'Polos']\n",
      "49\n",
      "https://www.amazon.in/dp/B0CBMDR8PR\n",
      "Brand: Peter England\n"
     ]
    },
    {
     "name": "stderr",
     "output_type": "stream",
     "text": [
      "\r",
      "  3%|██▌                                                                           | 50/1550 [03:43<1:44:51,  4.19s/it]"
     ]
    },
    {
     "name": "stdout",
     "output_type": "stream",
     "text": [
      "['Clothing & Accessories', 'Men', 'T-Shirts & Polos', 'T-Shirts']\n",
      "50\n",
      "https://www.amazon.in/dp/B0BV46QHDW\n",
      "Brand: Lacoste\n"
     ]
    },
    {
     "name": "stderr",
     "output_type": "stream",
     "text": [
      "\r",
      "  3%|██▌                                                                           | 51/1550 [03:46<1:38:11,  3.93s/it]"
     ]
    },
    {
     "name": "stdout",
     "output_type": "stream",
     "text": [
      "['Clothing & Accessories', 'Men', 'T-Shirts & Polos', 'Polos']\n",
      "51\n",
      "https://www.amazon.in/dp/B09Z76VDR9\n",
      "Brand: Levi's\n"
     ]
    },
    {
     "name": "stderr",
     "output_type": "stream",
     "text": [
      "\r",
      "  3%|██▌                                                                           | 52/1550 [03:50<1:40:38,  4.03s/it]"
     ]
    },
    {
     "name": "stdout",
     "output_type": "stream",
     "text": [
      "['Fashion', 'Apparel Steal Deals', 'Apparel_1', 'Men', 'T-Shirts & Polos under 699']\n",
      "52\n",
      "https://www.amazon.in/dp/B0CBFV55X5\n",
      "Brand: U.S. POLO ASSN.\n"
     ]
    },
    {
     "name": "stderr",
     "output_type": "stream",
     "text": [
      "\r",
      "  3%|██▋                                                                           | 53/1550 [03:54<1:40:03,  4.01s/it]"
     ]
    },
    {
     "name": "stdout",
     "output_type": "stream",
     "text": [
      "['Clothing & Accessories', 'Men', 'T-Shirts & Polos', 'Polos']\n",
      "53\n",
      "https://www.amazon.in/dp/B0835461Q8\n",
      "Brand: Max\n"
     ]
    },
    {
     "name": "stderr",
     "output_type": "stream",
     "text": [
      "\r",
      "  3%|██▋                                                                           | 54/1550 [03:59<1:44:38,  4.20s/it]"
     ]
    },
    {
     "name": "stdout",
     "output_type": "stream",
     "text": [
      "['Fashion', 'Apparel Steal Deals', 'Apparel_1', 'Men', \"Men's Bestsellers\"]\n",
      "54\n",
      "https://www.amazon.in/dp/B0C8634Y5K\n",
      "Brand: Peter England\n"
     ]
    },
    {
     "name": "stderr",
     "output_type": "stream",
     "text": [
      "\r",
      "  4%|██▊                                                                           | 55/1550 [04:03<1:43:08,  4.14s/it]"
     ]
    },
    {
     "name": "stdout",
     "output_type": "stream",
     "text": [
      "['Clothing & Accessories', 'Men', 'T-Shirts & Polos', 'T-Shirts']\n",
      "55\n",
      "https://www.amazon.in/dp/B073X58468\n",
      "Visit the Amazon Brand - Symbol Store\n"
     ]
    },
    {
     "name": "stderr",
     "output_type": "stream",
     "text": [
      "\r",
      "  4%|██▊                                                                           | 56/1550 [04:08<1:48:31,  4.36s/it]"
     ]
    },
    {
     "name": "stdout",
     "output_type": "stream",
     "text": [
      "['Fashion', 'Made for Amazon brands', 'All SPB apparel', 'FD', 'Symbol']\n",
      "56\n",
      "https://www.amazon.in/dp/B09QPQDXDY\n",
      "Brand: Peter England\n"
     ]
    },
    {
     "name": "stderr",
     "output_type": "stream",
     "text": [
      "\r",
      "  4%|██▊                                                                           | 57/1550 [04:12<1:45:24,  4.24s/it]"
     ]
    },
    {
     "name": "stdout",
     "output_type": "stream",
     "text": [
      "['Clothing & Accessories', 'Men', 'T-Shirts & Polos', 'Polos']\n",
      "57\n",
      "https://www.amazon.in/dp/B0CBMC6RKT\n"
     ]
    },
    {
     "name": "stderr",
     "output_type": "stream",
     "text": [
      "\r",
      "  4%|██▉                                                                           | 58/1550 [04:16<1:42:34,  4.12s/it]"
     ]
    },
    {
     "name": "stdout",
     "output_type": "stream",
     "text": [
      "Brand: Peter England\n",
      "['Clothing & Accessories', 'Men', 'T-Shirts & Polos', 'T-Shirts']\n",
      "58\n",
      "https://www.amazon.in/dp/B0C862LSGQ\n"
     ]
    },
    {
     "name": "stderr",
     "output_type": "stream",
     "text": [
      "\r",
      "  4%|██▉                                                                           | 59/1550 [04:20<1:44:33,  4.21s/it]"
     ]
    },
    {
     "name": "stdout",
     "output_type": "stream",
     "text": [
      "Brand: Peter England\n",
      "['Clothing & Accessories', 'Men', 'T-Shirts & Polos', 'T-Shirts']\n",
      "59\n",
      "https://www.amazon.in/dp/B0C861J7YJ\n"
     ]
    },
    {
     "name": "stderr",
     "output_type": "stream",
     "text": [
      "\r",
      "  4%|███                                                                           | 60/1550 [04:24<1:42:31,  4.13s/it]"
     ]
    },
    {
     "name": "stdout",
     "output_type": "stream",
     "text": [
      "Brand: Peter England\n",
      "['Clothing & Accessories', 'Men', 'T-Shirts & Polos', 'T-Shirts']\n",
      "60\n",
      "https://www.amazon.in/dp/B0C85ZNV18\n",
      "Brand: Peter England\n"
     ]
    },
    {
     "name": "stderr",
     "output_type": "stream",
     "text": [
      "\r",
      "  4%|███                                                                           | 61/1550 [04:28<1:42:43,  4.14s/it]"
     ]
    },
    {
     "name": "stdout",
     "output_type": "stream",
     "text": [
      "['Clothing & Accessories', 'Men', 'T-Shirts & Polos', 'T-Shirts']\n",
      "61\n",
      "https://www.amazon.in/dp/B0CBMCZNF4\n",
      "Brand: Peter England\n"
     ]
    },
    {
     "name": "stderr",
     "output_type": "stream",
     "text": [
      "\r",
      "  4%|███                                                                           | 62/1550 [04:32<1:42:13,  4.12s/it]"
     ]
    },
    {
     "name": "stdout",
     "output_type": "stream",
     "text": [
      "['Clothing & Accessories', 'Men', 'T-Shirts & Polos', 'T-Shirts']\n",
      "62\n",
      "https://www.amazon.in/dp/B0C863J616\n",
      "Brand: Peter England\n"
     ]
    },
    {
     "name": "stderr",
     "output_type": "stream",
     "text": [
      "\r",
      "  4%|███▏                                                                          | 63/1550 [04:36<1:40:36,  4.06s/it]"
     ]
    },
    {
     "name": "stdout",
     "output_type": "stream",
     "text": [
      "['Clothing & Accessories', 'Men', 'T-Shirts & Polos', 'T-Shirts']\n",
      "63\n",
      "https://www.amazon.in/dp/B0CBMFPVMB\n"
     ]
    },
    {
     "name": "stderr",
     "output_type": "stream",
     "text": [
      "\r",
      "  4%|███▏                                                                          | 64/1550 [04:40<1:39:53,  4.03s/it]"
     ]
    },
    {
     "name": "stdout",
     "output_type": "stream",
     "text": [
      "Brand: Peter England\n",
      "['Clothing & Accessories', 'Men', 'T-Shirts & Polos', 'T-Shirts']\n",
      "64\n",
      "https://www.amazon.in/dp/B0B86KZ122\n"
     ]
    },
    {
     "name": "stderr",
     "output_type": "stream",
     "text": [
      "\r",
      "  4%|███▎                                                                          | 65/1550 [04:45<1:45:35,  4.27s/it]"
     ]
    },
    {
     "name": "stdout",
     "output_type": "stream",
     "text": [
      "Brand: Max\n",
      "['Clothing & Accessories', 'Boys', 'T-Shirts & Polos', 'T-Shirts']\n",
      "65\n",
      "https://www.amazon.in/dp/B0B18QZZNY\n",
      "Visit the SIRIL Store\n"
     ]
    },
    {
     "name": "stderr",
     "output_type": "stream",
     "text": [
      "\r",
      "  4%|███▎                                                                          | 66/1550 [04:49<1:46:49,  4.32s/it]"
     ]
    },
    {
     "name": "stdout",
     "output_type": "stream",
     "text": [
      "['Clothing & Accessories', 'Women', 'Western Wear', 'Tops, T-Shirts & Shirts', 'Shirts']\n",
      "66\n",
      "https://www.amazon.in/dp/B07RW6BMMG\n",
      "Brand: Allen Solly\n"
     ]
    },
    {
     "name": "stderr",
     "output_type": "stream",
     "text": [
      "\r",
      "  4%|███▎                                                                          | 67/1550 [04:54<1:46:43,  4.32s/it]"
     ]
    },
    {
     "name": "stdout",
     "output_type": "stream",
     "text": [
      "['Fashion', 'Apparel Steal Deals', 'Apparel_1', 'Kids', 'Kids Apparel Deals']\n",
      "67\n",
      "https://www.amazon.in/dp/B0BBS4NNW6\n",
      "Brand: Allen Solly\n"
     ]
    },
    {
     "name": "stderr",
     "output_type": "stream",
     "text": [
      "\r",
      "  4%|███▍                                                                          | 68/1550 [04:58<1:45:43,  4.28s/it]"
     ]
    },
    {
     "name": "stdout",
     "output_type": "stream",
     "text": [
      "['Clothing & Accessories', 'Men', 'T-Shirts & Polos', 'T-Shirts']\n",
      "68\n",
      "https://www.amazon.in/dp/B08Q5FYMLZ\n",
      "Visit the Van Heusen Store\n"
     ]
    },
    {
     "name": "stderr",
     "output_type": "stream",
     "text": [
      "\r",
      "  4%|███▍                                                                          | 69/1550 [05:03<1:50:01,  4.46s/it]"
     ]
    },
    {
     "name": "stdout",
     "output_type": "stream",
     "text": [
      "['Clothing & Accessories', 'Men', 'T-Shirts & Polos', 'Polos']\n",
      "69\n",
      "https://www.amazon.in/dp/B09VT7XP77\n",
      "Brand: Allen Solly\n"
     ]
    },
    {
     "name": "stderr",
     "output_type": "stream",
     "text": [
      "\r",
      "  5%|███▌                                                                          | 70/1550 [05:07<1:49:36,  4.44s/it]"
     ]
    },
    {
     "name": "stdout",
     "output_type": "stream",
     "text": [
      "['Fashion', 'Apparel Steal Deals', 'Apparel_1', 'Men', 'T-shirts under 499']\n",
      "70\n",
      "https://www.amazon.in/dp/B0BKQ8VK59\n",
      "Brand: Peter England\n"
     ]
    },
    {
     "name": "stderr",
     "output_type": "stream",
     "text": [
      "\r",
      "  5%|███▌                                                                          | 71/1550 [05:12<1:53:40,  4.61s/it]"
     ]
    },
    {
     "name": "stdout",
     "output_type": "stream",
     "text": [
      "['Clothing & Accessories', 'Men', 'Shirts', 'Casual Shirts']\n",
      "71\n",
      "https://www.amazon.in/dp/B099KDZ1SQ\n"
     ]
    },
    {
     "name": "stderr",
     "output_type": "stream",
     "text": [
      "\r",
      "  5%|███▌                                                                          | 72/1550 [05:16<1:49:59,  4.46s/it]"
     ]
    },
    {
     "name": "stdout",
     "output_type": "stream",
     "text": [
      "Brand: Lacoste\n",
      "['Clothing & Accessories', 'Boys', 'T-Shirts & Polos', 'Polos']\n",
      "72\n",
      "https://www.amazon.in/dp/B0C3VB5GK5\n",
      "Brand: Max\n"
     ]
    },
    {
     "name": "stderr",
     "output_type": "stream",
     "text": [
      "\r",
      "  5%|███▋                                                                          | 73/1550 [05:21<1:50:24,  4.49s/it]"
     ]
    },
    {
     "name": "stdout",
     "output_type": "stream",
     "text": [
      "['Clothing & Accessories', 'Women', 'Western Wear', 'Tops, T-Shirts & Shirts', 'T-Shirts']\n",
      "73\n",
      "https://www.amazon.in/dp/B0BZ4V846N\n"
     ]
    },
    {
     "name": "stderr",
     "output_type": "stream",
     "text": [
      "\r",
      "  5%|███▋                                                                          | 74/1550 [05:25<1:49:55,  4.47s/it]"
     ]
    },
    {
     "name": "stdout",
     "output_type": "stream",
     "text": [
      "Brand: Lacoste\n",
      "['Clothing & Accessories', 'Men', 'T-Shirts & Polos', 'Polos']\n",
      "74\n",
      "https://www.amazon.in/dp/B0C7LKCLBS\n"
     ]
    },
    {
     "name": "stderr",
     "output_type": "stream",
     "text": [
      "\r",
      "  5%|███▊                                                                          | 75/1550 [05:29<1:46:01,  4.31s/it]"
     ]
    },
    {
     "name": "stdout",
     "output_type": "stream",
     "text": [
      "Brand: Peter England\n",
      "['Clothing & Accessories', 'Men', 'Shirts', 'Formal Shirts']\n",
      "75\n",
      "https://www.amazon.in/dp/B0BZ4TN7SX\n"
     ]
    },
    {
     "name": "stderr",
     "output_type": "stream",
     "text": [
      "\r",
      "  5%|███▊                                                                          | 76/1550 [05:33<1:43:23,  4.21s/it]"
     ]
    },
    {
     "name": "stdout",
     "output_type": "stream",
     "text": [
      "Brand: Lacoste\n",
      "['Clothing & Accessories', 'Men', 'T-Shirts & Polos', 'Polos']\n",
      "76\n",
      "https://www.amazon.in/dp/B076CJMHBC\n",
      "Visit the Van Heusen Store\n"
     ]
    },
    {
     "name": "stderr",
     "output_type": "stream",
     "text": [
      "\r",
      "  5%|███▊                                                                          | 77/1550 [05:38<1:45:59,  4.32s/it]"
     ]
    },
    {
     "name": "stdout",
     "output_type": "stream",
     "text": [
      "['Fashion', 'Apparel Steal Deals', 'Apparel_1', 'Men', \"Men's Bestsellers\"]\n",
      "77\n",
      "https://www.amazon.in/dp/B09H322T2Z\n",
      "Brand: Lacoste\n"
     ]
    },
    {
     "name": "stderr",
     "output_type": "stream",
     "text": [
      "\r",
      "  5%|███▉                                                                          | 78/1550 [05:42<1:43:51,  4.23s/it]"
     ]
    },
    {
     "name": "stdout",
     "output_type": "stream",
     "text": [
      "['Clothing & Accessories', 'Men', 'T-Shirts & Polos', 'T-Shirts']\n",
      "78\n",
      "https://www.amazon.in/dp/B07HJJ8D14\n",
      "Visit the Van Heusen Store\n"
     ]
    },
    {
     "name": "stderr",
     "output_type": "stream",
     "text": [
      "\r",
      "  5%|███▉                                                                          | 79/1550 [05:47<1:50:06,  4.49s/it]"
     ]
    },
    {
     "name": "stdout",
     "output_type": "stream",
     "text": [
      "['Fashion', 'Apparel Steal Deals', 'Apparel_1', 'Men', \"Men's Bestsellers\"]\n",
      "79\n",
      "https://www.amazon.in/dp/B0BBS714PY\n"
     ]
    },
    {
     "name": "stderr",
     "output_type": "stream",
     "text": [
      "\r",
      "  5%|████                                                                          | 80/1550 [05:51<1:49:45,  4.48s/it]"
     ]
    },
    {
     "name": "stdout",
     "output_type": "stream",
     "text": [
      "Brand: Allen Solly\n",
      "['Clothing & Accessories', 'Men', 'T-Shirts & Polos', 'Polos']\n",
      "80\n",
      "https://www.amazon.in/dp/B0B9RP1BCM\n"
     ]
    },
    {
     "name": "stderr",
     "output_type": "stream",
     "text": [
      "\r",
      "  5%|████                                                                          | 81/1550 [05:55<1:42:52,  4.20s/it]"
     ]
    },
    {
     "name": "stdout",
     "output_type": "stream",
     "text": [
      "Brand: Lacoste\n",
      "['Clothing & Accessories', 'Boys', 'T-Shirts & Polos', 'Polos']\n",
      "81\n",
      "https://www.amazon.in/dp/B0BVJD3Q4W\n"
     ]
    },
    {
     "name": "stderr",
     "output_type": "stream",
     "text": [
      "\r",
      "  5%|████▏                                                                         | 82/1550 [05:59<1:39:35,  4.07s/it]"
     ]
    },
    {
     "name": "stdout",
     "output_type": "stream",
     "text": [
      "Brand: Lacoste\n",
      "['Clothing & Accessories', 'Men', 'T-Shirts & Polos', 'Polos']\n",
      "82\n",
      "https://www.amazon.in/dp/B09DYVP44W\n"
     ]
    },
    {
     "name": "stderr",
     "output_type": "stream",
     "text": [
      "\r",
      "  5%|████▏                                                                         | 83/1550 [06:03<1:38:44,  4.04s/it]"
     ]
    },
    {
     "name": "stdout",
     "output_type": "stream",
     "text": [
      "Visit the Wear Your Opinion Store\n",
      "['Clothing & Accessories', 'Men', 'T-Shirts & Polos', 'Polos']\n",
      "83\n",
      "https://www.amazon.in/dp/B0C7ZNGG4Q\n"
     ]
    },
    {
     "name": "stderr",
     "output_type": "stream",
     "text": [
      "\r",
      "  5%|████▏                                                                         | 84/1550 [06:07<1:37:49,  4.00s/it]"
     ]
    },
    {
     "name": "stdout",
     "output_type": "stream",
     "text": [
      "Brand: Allen Solly\n",
      "['Clothing & Accessories', 'Men', 'T-Shirts & Polos', 'T-Shirts']\n",
      "84\n",
      "https://www.amazon.in/dp/B09TDJ5ZCC\n",
      "Brand: Allen Solly\n"
     ]
    },
    {
     "name": "stderr",
     "output_type": "stream",
     "text": [
      "\r",
      "  5%|████▎                                                                         | 85/1550 [06:11<1:42:54,  4.21s/it]"
     ]
    },
    {
     "name": "stdout",
     "output_type": "stream",
     "text": [
      "['Fashion', 'Apparel Steal Deals', 'Apparel_1', 'Men', 'T-shirts under 499']\n",
      "85\n",
      "https://www.amazon.in/dp/B0BZ4WP5P2\n"
     ]
    },
    {
     "name": "stderr",
     "output_type": "stream",
     "text": [
      "\r",
      "  6%|████▎                                                                         | 86/1550 [06:15<1:42:18,  4.19s/it]"
     ]
    },
    {
     "name": "stdout",
     "output_type": "stream",
     "text": [
      "Brand: Allen Solly\n",
      "['Clothing & Accessories', 'Men', 'T-Shirts & Polos', 'Polos']\n",
      "86\n",
      "https://www.amazon.in/dp/B09TDTTFMN\n",
      "Brand: Allen Solly\n"
     ]
    },
    {
     "name": "stderr",
     "output_type": "stream",
     "text": [
      "\r",
      "  6%|████▍                                                                         | 87/1550 [06:20<1:42:41,  4.21s/it]"
     ]
    },
    {
     "name": "stdout",
     "output_type": "stream",
     "text": [
      "['Fashion', 'Apparel Steal Deals', 'Apparel_1', 'Men', 'T-shirts under 499']\n",
      "87\n",
      "https://www.amazon.in/dp/B0C7ZMSZZM\n"
     ]
    },
    {
     "name": "stderr",
     "output_type": "stream",
     "text": [
      "\r",
      "  6%|████▍                                                                         | 88/1550 [06:24<1:42:42,  4.22s/it]"
     ]
    },
    {
     "name": "stdout",
     "output_type": "stream",
     "text": [
      "Brand: Allen Solly\n",
      "['Clothing & Accessories', 'Men', 'T-Shirts & Polos', 'T-Shirts']\n",
      "88\n",
      "https://www.amazon.in/dp/B0C7ZLKXGN\n"
     ]
    },
    {
     "name": "stderr",
     "output_type": "stream",
     "text": [
      "\r",
      "  6%|████▍                                                                         | 89/1550 [06:28<1:41:06,  4.15s/it]"
     ]
    },
    {
     "name": "stdout",
     "output_type": "stream",
     "text": [
      "Brand: Allen Solly\n",
      "['Clothing & Accessories', 'Men', 'T-Shirts & Polos', 'T-Shirts']\n",
      "89\n",
      "https://www.amazon.in/dp/B0BBSBH4KW\n"
     ]
    },
    {
     "name": "stderr",
     "output_type": "stream",
     "text": [
      "\r",
      "  6%|████▌                                                                         | 90/1550 [06:32<1:39:34,  4.09s/it]"
     ]
    },
    {
     "name": "stdout",
     "output_type": "stream",
     "text": [
      "Brand: Allen Solly\n",
      "['Clothing & Accessories', 'Men', 'T-Shirts & Polos', 'T-Shirts']\n",
      "90\n",
      "https://www.amazon.in/dp/B0C7ZNB7VC\n"
     ]
    },
    {
     "name": "stderr",
     "output_type": "stream",
     "text": [
      "\r",
      "  6%|████▌                                                                         | 91/1550 [06:36<1:36:51,  3.98s/it]"
     ]
    },
    {
     "name": "stdout",
     "output_type": "stream",
     "text": [
      "Brand: Allen Solly\n",
      "['Clothing & Accessories', 'Men', 'T-Shirts & Polos', 'T-Shirts']\n",
      "91\n",
      "https://www.amazon.in/dp/B0C7ZN7CLY\n"
     ]
    },
    {
     "name": "stderr",
     "output_type": "stream",
     "text": [
      "\r",
      "  6%|████▋                                                                         | 92/1550 [06:40<1:35:46,  3.94s/it]"
     ]
    },
    {
     "name": "stdout",
     "output_type": "stream",
     "text": [
      "Brand: Allen Solly\n",
      "['Clothing & Accessories', 'Men', 'T-Shirts & Polos', 'T-Shirts']\n",
      "92\n",
      "https://www.amazon.in/dp/B0C7ZMNNPH\n"
     ]
    },
    {
     "name": "stderr",
     "output_type": "stream",
     "text": [
      "\r",
      "  6%|████▋                                                                         | 93/1550 [06:43<1:35:04,  3.92s/it]"
     ]
    },
    {
     "name": "stdout",
     "output_type": "stream",
     "text": [
      "Brand: Allen Solly\n",
      "['Clothing & Accessories', 'Men', 'T-Shirts & Polos', 'T-Shirts']\n",
      "93\n",
      "https://www.amazon.in/dp/B09TF1B6HJ\n",
      "Brand: Allen Solly\n"
     ]
    },
    {
     "name": "stderr",
     "output_type": "stream",
     "text": [
      "\r",
      "  6%|████▋                                                                         | 94/1550 [06:48<1:37:47,  4.03s/it]"
     ]
    },
    {
     "name": "stdout",
     "output_type": "stream",
     "text": [
      "['Fashion', 'Men apparel trends', 'Logo', 'Logo topwear', 'Logo t-shirts & vest', 'Logo T-shirts']\n",
      "94\n",
      "https://www.amazon.in/dp/B0C7ZN2N6R\n"
     ]
    },
    {
     "name": "stderr",
     "output_type": "stream",
     "text": [
      "\r",
      "  6%|████▊                                                                         | 95/1550 [06:51<1:36:12,  3.97s/it]"
     ]
    },
    {
     "name": "stdout",
     "output_type": "stream",
     "text": [
      "Brand: Allen Solly\n",
      "['Clothing & Accessories', 'Men', 'T-Shirts & Polos', 'T-Shirts']\n",
      "95\n",
      "https://www.amazon.in/dp/B0C7ZMMX6Y\n"
     ]
    },
    {
     "name": "stderr",
     "output_type": "stream",
     "text": [
      "\r",
      "  6%|████▊                                                                         | 96/1550 [06:55<1:35:58,  3.96s/it]"
     ]
    },
    {
     "name": "stdout",
     "output_type": "stream",
     "text": [
      "Brand: Allen Solly\n",
      "['Clothing & Accessories', 'Men', 'T-Shirts & Polos', 'T-Shirts']\n",
      "96\n",
      "https://www.amazon.in/dp/B0C7ZLYTQ7\n"
     ]
    },
    {
     "name": "stderr",
     "output_type": "stream",
     "text": [
      "\r",
      "  6%|████▉                                                                         | 97/1550 [06:59<1:31:06,  3.76s/it]"
     ]
    },
    {
     "name": "stdout",
     "output_type": "stream",
     "text": [
      "Brand: Allen Solly\n",
      "['Clothing & Accessories', 'Men', 'T-Shirts & Polos', 'T-Shirts']\n",
      "97\n",
      "https://www.amazon.in/dp/B0C7ZPL6R5\n"
     ]
    },
    {
     "name": "stderr",
     "output_type": "stream",
     "text": [
      "\r",
      "  6%|████▉                                                                         | 98/1550 [07:03<1:32:20,  3.82s/it]"
     ]
    },
    {
     "name": "stdout",
     "output_type": "stream",
     "text": [
      "Brand: Allen Solly\n",
      "['Clothing & Accessories', 'Men', 'T-Shirts & Polos', 'T-Shirts']\n",
      "98\n",
      "https://www.amazon.in/dp/B0C7ZM8TR4\n"
     ]
    },
    {
     "name": "stderr",
     "output_type": "stream",
     "text": [
      "\r",
      "  6%|████▉                                                                         | 99/1550 [07:06<1:32:23,  3.82s/it]"
     ]
    },
    {
     "name": "stdout",
     "output_type": "stream",
     "text": [
      "Brand: Allen Solly\n",
      "['Clothing & Accessories', 'Men', 'T-Shirts & Polos', 'T-Shirts']\n",
      "99\n",
      "https://www.amazon.in/dp/B0C7ZMPDLS\n"
     ]
    },
    {
     "name": "stderr",
     "output_type": "stream",
     "text": [
      "\r",
      "  6%|████▉                                                                        | 100/1550 [07:10<1:30:36,  3.75s/it]"
     ]
    },
    {
     "name": "stdout",
     "output_type": "stream",
     "text": [
      "Brand: Allen Solly\n",
      "['Clothing & Accessories', 'Men', 'T-Shirts & Polos', 'T-Shirts']\n",
      "100\n",
      "https://www.amazon.in/dp/B0C7ZL57F8\n"
     ]
    },
    {
     "name": "stderr",
     "output_type": "stream",
     "text": [
      "\r",
      "  7%|█████                                                                        | 101/1550 [07:14<1:32:36,  3.83s/it]"
     ]
    },
    {
     "name": "stdout",
     "output_type": "stream",
     "text": [
      "Brand: Allen Solly\n",
      "['Clothing & Accessories', 'Men', 'T-Shirts & Polos', 'T-Shirts']\n",
      "101\n",
      "https://www.amazon.in/dp/B0BBS4393V\n",
      "Brand: Allen Solly\n"
     ]
    },
    {
     "name": "stderr",
     "output_type": "stream",
     "text": [
      "\r",
      "  7%|█████                                                                        | 102/1550 [07:19<1:36:49,  4.01s/it]"
     ]
    },
    {
     "name": "stdout",
     "output_type": "stream",
     "text": [
      "['Clothing & Accessories', 'Men', 'T-Shirts & Polos', 'Polos']\n",
      "102\n",
      "https://www.amazon.in/dp/B0C7ZP2DWX\n"
     ]
    },
    {
     "name": "stderr",
     "output_type": "stream",
     "text": [
      "\r",
      "  7%|█████                                                                        | 103/1550 [07:22<1:32:36,  3.84s/it]"
     ]
    },
    {
     "name": "stdout",
     "output_type": "stream",
     "text": [
      "Brand: Allen Solly\n",
      "['Clothing & Accessories', 'Men', 'T-Shirts & Polos', 'T-Shirts']\n",
      "103\n",
      "https://www.amazon.in/dp/B0C7ZL7PXT\n"
     ]
    },
    {
     "name": "stderr",
     "output_type": "stream",
     "text": [
      "\r",
      "  7%|█████▏                                                                       | 104/1550 [07:26<1:32:01,  3.82s/it]"
     ]
    },
    {
     "name": "stdout",
     "output_type": "stream",
     "text": [
      "Brand: Allen Solly\n",
      "['Clothing & Accessories', 'Men', 'T-Shirts & Polos', 'T-Shirts']\n",
      "104\n",
      "https://www.amazon.in/dp/B0C7ZLXY7Z\n"
     ]
    },
    {
     "name": "stderr",
     "output_type": "stream",
     "text": [
      "\r",
      "  7%|█████▏                                                                       | 105/1550 [07:30<1:31:56,  3.82s/it]"
     ]
    },
    {
     "name": "stdout",
     "output_type": "stream",
     "text": [
      "Brand: Allen Solly\n",
      "['Clothing & Accessories', 'Men', 'T-Shirts & Polos', 'T-Shirts']\n",
      "105\n",
      "https://www.amazon.in/dp/B0C7ZPY3V8\n"
     ]
    },
    {
     "name": "stderr",
     "output_type": "stream",
     "text": [
      "\r",
      "  7%|█████▎                                                                       | 106/1550 [07:33<1:30:26,  3.76s/it]"
     ]
    },
    {
     "name": "stdout",
     "output_type": "stream",
     "text": [
      "Brand: Allen Solly\n",
      "['Clothing & Accessories', 'Men', 'T-Shirts & Polos', 'T-Shirts']\n",
      "106\n",
      "https://www.amazon.in/dp/B0C7ZM9CMP\n"
     ]
    },
    {
     "name": "stderr",
     "output_type": "stream",
     "text": [
      "\r",
      "  7%|█████▎                                                                       | 107/1550 [07:37<1:30:04,  3.75s/it]"
     ]
    },
    {
     "name": "stdout",
     "output_type": "stream",
     "text": [
      "Brand: Allen Solly\n",
      "['Clothing & Accessories', 'Men', 'T-Shirts & Polos', 'T-Shirts']\n",
      "107\n",
      "https://www.amazon.in/dp/B0C7ZLDTL9\n"
     ]
    },
    {
     "name": "stderr",
     "output_type": "stream",
     "text": [
      "\r",
      "  7%|█████▎                                                                       | 108/1550 [07:41<1:29:28,  3.72s/it]"
     ]
    },
    {
     "name": "stdout",
     "output_type": "stream",
     "text": [
      "Brand: Allen Solly\n",
      "['Clothing & Accessories', 'Men', 'T-Shirts & Polos', 'T-Shirts']\n",
      "108\n",
      "https://www.amazon.in/dp/B0C7ZP9S3W\n"
     ]
    },
    {
     "name": "stderr",
     "output_type": "stream",
     "text": [
      "\r",
      "  7%|█████▍                                                                       | 109/1550 [07:44<1:28:00,  3.66s/it]"
     ]
    },
    {
     "name": "stdout",
     "output_type": "stream",
     "text": [
      "Brand: Allen Solly\n",
      "['Clothing & Accessories', 'Men', 'T-Shirts & Polos', 'T-Shirts']\n",
      "109\n",
      "https://www.amazon.in/dp/B07DPT9KDM\n",
      "Brand: Allen Solly\n"
     ]
    },
    {
     "name": "stderr",
     "output_type": "stream",
     "text": [
      "\r",
      "  7%|█████▍                                                                       | 110/1550 [07:48<1:31:00,  3.79s/it]"
     ]
    },
    {
     "name": "stdout",
     "output_type": "stream",
     "text": [
      "['Clothing & Accessories', 'Men', 'Winter Wear', 'Sweatshirts & Hoodies', 'Sweatshirts']\n",
      "110\n",
      "https://www.amazon.in/dp/B0C7ZPH3MH\n"
     ]
    },
    {
     "name": "stderr",
     "output_type": "stream",
     "text": [
      "\r",
      "  7%|█████▌                                                                       | 111/1550 [07:52<1:30:11,  3.76s/it]"
     ]
    },
    {
     "name": "stdout",
     "output_type": "stream",
     "text": [
      "Brand: Allen Solly\n",
      "['Clothing & Accessories', 'Men', 'T-Shirts & Polos', 'T-Shirts']\n",
      "111\n",
      "https://www.amazon.in/dp/B0C7ZPXWQB\n"
     ]
    },
    {
     "name": "stderr",
     "output_type": "stream",
     "text": [
      "\r",
      "  7%|█████▌                                                                       | 112/1550 [07:55<1:28:47,  3.70s/it]"
     ]
    },
    {
     "name": "stdout",
     "output_type": "stream",
     "text": [
      "Brand: Allen Solly\n",
      "['Clothing & Accessories', 'Men', 'T-Shirts & Polos', 'T-Shirts']\n",
      "112\n",
      "https://www.amazon.in/dp/B0C7ZPVSXS\n"
     ]
    },
    {
     "name": "stderr",
     "output_type": "stream",
     "text": [
      "\r",
      "  7%|█████▌                                                                       | 113/1550 [07:59<1:28:12,  3.68s/it]"
     ]
    },
    {
     "name": "stdout",
     "output_type": "stream",
     "text": [
      "Brand: Allen Solly\n",
      "['Clothing & Accessories', 'Men', 'T-Shirts & Polos', 'T-Shirts']\n",
      "113\n",
      "https://www.amazon.in/dp/B0C7ZN2T28\n"
     ]
    },
    {
     "name": "stderr",
     "output_type": "stream",
     "text": [
      "\r",
      "  7%|█████▋                                                                       | 114/1550 [08:03<1:27:46,  3.67s/it]"
     ]
    },
    {
     "name": "stdout",
     "output_type": "stream",
     "text": [
      "Brand: Allen Solly\n",
      "['Clothing & Accessories', 'Men', 'T-Shirts & Polos', 'T-Shirts']\n",
      "114\n",
      "https://www.amazon.in/dp/B0C7ZMJRNJ\n",
      "Brand: Allen Solly\n"
     ]
    },
    {
     "name": "stderr",
     "output_type": "stream",
     "text": [
      "\r",
      "  7%|█████▋                                                                       | 115/1550 [08:07<1:28:45,  3.71s/it]"
     ]
    },
    {
     "name": "stdout",
     "output_type": "stream",
     "text": [
      "['Clothing & Accessories', 'Men', 'T-Shirts & Polos', 'T-Shirts']\n",
      "115\n",
      "https://www.amazon.in/dp/B0BBS7QDRG\n"
     ]
    },
    {
     "name": "stderr",
     "output_type": "stream",
     "text": [
      "\r",
      "  7%|█████▊                                                                       | 116/1550 [08:10<1:30:35,  3.79s/it]"
     ]
    },
    {
     "name": "stdout",
     "output_type": "stream",
     "text": [
      "Brand: Allen Solly\n",
      "['Clothing & Accessories', 'Men', 'T-Shirts & Polos', 'T-Shirts']\n",
      "116\n",
      "https://www.amazon.in/dp/B0BBS8ZTG4\n"
     ]
    },
    {
     "name": "stderr",
     "output_type": "stream",
     "text": [
      "\r",
      "  8%|█████▊                                                                       | 117/1550 [08:14<1:30:18,  3.78s/it]"
     ]
    },
    {
     "name": "stdout",
     "output_type": "stream",
     "text": [
      "Brand: Allen Solly\n",
      "['Clothing & Accessories', 'Men', 'T-Shirts & Polos', 'T-Shirts']\n",
      "117\n",
      "https://www.amazon.in/dp/B0BBSBBHVP\n"
     ]
    },
    {
     "name": "stderr",
     "output_type": "stream",
     "text": [
      "\r",
      "  8%|█████▊                                                                       | 118/1550 [08:18<1:30:30,  3.79s/it]"
     ]
    },
    {
     "name": "stdout",
     "output_type": "stream",
     "text": [
      "Brand: Allen Solly\n",
      "['Clothing & Accessories', 'Men', 'T-Shirts & Polos', 'Polos']\n",
      "118\n",
      "https://www.amazon.in/dp/B0C7ZJYXNW\n"
     ]
    },
    {
     "name": "stderr",
     "output_type": "stream",
     "text": [
      "\r",
      "  8%|█████▉                                                                       | 119/1550 [08:21<1:27:44,  3.68s/it]"
     ]
    },
    {
     "name": "stdout",
     "output_type": "stream",
     "text": [
      "Brand: Allen Solly\n",
      "['Clothing & Accessories', 'Men', 'T-Shirts & Polos', 'T-Shirts']\n",
      "119\n",
      "https://www.amazon.in/dp/B09V55XTHP\n"
     ]
    },
    {
     "name": "stderr",
     "output_type": "stream",
     "text": [
      "\r",
      "  8%|█████▉                                                                       | 120/1550 [08:26<1:30:39,  3.80s/it]"
     ]
    },
    {
     "name": "stdout",
     "output_type": "stream",
     "text": [
      "Brand: Allen Solly\n",
      "['Fashion', 'Apparel Steal Deals', 'Apparel_1', 'Men', 'T-shirts under 499']\n",
      "120\n",
      "https://www.amazon.in/dp/B0BBS8PFJK\n"
     ]
    },
    {
     "name": "stderr",
     "output_type": "stream",
     "text": [
      "\r",
      "  8%|██████                                                                       | 121/1550 [08:30<1:32:51,  3.90s/it]"
     ]
    },
    {
     "name": "stdout",
     "output_type": "stream",
     "text": [
      "Brand: Allen Solly\n",
      "['Clothing & Accessories', 'Men', 'T-Shirts & Polos', 'Polos']\n",
      "121\n",
      "https://www.amazon.in/dp/B0C7ZPKG9Q\n"
     ]
    },
    {
     "name": "stderr",
     "output_type": "stream",
     "text": [
      "\r",
      "  8%|██████                                                                       | 122/1550 [08:33<1:29:39,  3.77s/it]"
     ]
    },
    {
     "name": "stdout",
     "output_type": "stream",
     "text": [
      "Brand: Allen Solly\n",
      "['Clothing & Accessories', 'Men', 'T-Shirts & Polos', 'T-Shirts']\n",
      "122\n",
      "https://www.amazon.in/dp/B0C7ZMRQKF\n"
     ]
    },
    {
     "name": "stderr",
     "output_type": "stream",
     "text": [
      "\r",
      "  8%|██████                                                                       | 123/1550 [08:37<1:27:53,  3.70s/it]"
     ]
    },
    {
     "name": "stdout",
     "output_type": "stream",
     "text": [
      "Brand: Allen Solly\n",
      "['Clothing & Accessories', 'Men', 'T-Shirts & Polos', 'T-Shirts']\n",
      "123\n",
      "https://www.amazon.in/dp/B0C7ZMTM9C\n"
     ]
    },
    {
     "name": "stderr",
     "output_type": "stream",
     "text": [
      "\r",
      "  8%|██████▏                                                                      | 124/1550 [08:40<1:26:09,  3.63s/it]"
     ]
    },
    {
     "name": "stdout",
     "output_type": "stream",
     "text": [
      "Brand: Allen Solly\n",
      "['Clothing & Accessories', 'Men', 'T-Shirts & Polos', 'T-Shirts']\n",
      "124\n",
      "https://www.amazon.in/dp/B0B59V3WCQ\n"
     ]
    },
    {
     "name": "stderr",
     "output_type": "stream",
     "text": [
      "\r",
      "  8%|██████▏                                                                      | 125/1550 [08:44<1:30:34,  3.81s/it]"
     ]
    },
    {
     "name": "stdout",
     "output_type": "stream",
     "text": [
      "Visit the GLOOT Store\n",
      "['Clothing & Accessories', 'Men', 'T-Shirts & Polos', 'Polos']\n",
      "125\n",
      "https://www.amazon.in/dp/B0BNKTVPDB\n"
     ]
    },
    {
     "name": "stderr",
     "output_type": "stream",
     "text": [
      "\r",
      "  8%|██████▎                                                                      | 126/1550 [08:49<1:33:08,  3.92s/it]"
     ]
    },
    {
     "name": "stdout",
     "output_type": "stream",
     "text": [
      "Visit the GLOOT Store\n",
      "['Clothing & Accessories', 'Men', 'T-Shirts & Polos', 'T-Shirts']\n",
      "126\n",
      "https://www.amazon.in/dp/B0BNKV1MFW\n",
      "Visit the GLOOT Store\n"
     ]
    },
    {
     "name": "stderr",
     "output_type": "stream",
     "text": [
      "\r",
      "  8%|██████▎                                                                      | 127/1550 [08:53<1:34:25,  3.98s/it]"
     ]
    },
    {
     "name": "stdout",
     "output_type": "stream",
     "text": [
      "['Clothing & Accessories', 'Men', 'T-Shirts & Polos', 'T-Shirts']\n",
      "127\n",
      "https://www.amazon.in/dp/B0BNKS1JCQ\n"
     ]
    },
    {
     "name": "stderr",
     "output_type": "stream",
     "text": [
      "\r",
      "  8%|██████▎                                                                      | 128/1550 [08:56<1:29:40,  3.78s/it]"
     ]
    },
    {
     "name": "stdout",
     "output_type": "stream",
     "text": [
      "Visit the GLOOT Store\n",
      "['Clothing & Accessories', 'Men', 'T-Shirts & Polos', 'T-Shirts']\n",
      "128\n",
      "https://www.amazon.in/dp/B0C24CX3MY\n"
     ]
    },
    {
     "name": "stderr",
     "output_type": "stream",
     "text": [
      "\r",
      "  8%|██████▍                                                                      | 129/1550 [09:00<1:29:54,  3.80s/it]"
     ]
    },
    {
     "name": "stdout",
     "output_type": "stream",
     "text": [
      "Visit the Arrow Store\n",
      "['Clothing & Accessories', 'Men', 'Shirts', 'Formal Shirts']\n",
      "129\n",
      "https://www.amazon.in/dp/B0C3R8RGRH\n"
     ]
    },
    {
     "name": "stderr",
     "output_type": "stream",
     "text": [
      "\r",
      "  8%|██████▍                                                                      | 130/1550 [09:04<1:29:04,  3.76s/it]"
     ]
    },
    {
     "name": "stdout",
     "output_type": "stream",
     "text": [
      "Brand: KLOSIA\n",
      "['Clothing & Accessories', 'Women', 'Ethnic Wear', 'Kurtas & Kurtis']\n",
      "130\n",
      "https://www.amazon.in/dp/B09Y34V31P\n",
      "Visit the Wear Your Opinion Store\n"
     ]
    },
    {
     "name": "stderr",
     "output_type": "stream",
     "text": [
      "\r",
      "  8%|██████▌                                                                      | 131/1550 [09:08<1:31:59,  3.89s/it]"
     ]
    },
    {
     "name": "stdout",
     "output_type": "stream",
     "text": [
      "['Clothing & Accessories', 'Men', 'T-Shirts & Polos', 'T-Shirts']\n",
      "131\n",
      "https://www.amazon.in/dp/B0C3VCR91X\n",
      "Brand: Max\n"
     ]
    },
    {
     "name": "stderr",
     "output_type": "stream",
     "text": [
      "\r",
      "  9%|██████▌                                                                      | 132/1550 [09:12<1:31:09,  3.86s/it]"
     ]
    },
    {
     "name": "stdout",
     "output_type": "stream",
     "text": [
      "['Clothing & Accessories', 'Women', 'Western Wear', 'Tops, T-Shirts & Shirts', 'Tops']\n",
      "132\n",
      "https://www.amazon.in/dp/B09TXGSWD9\n"
     ]
    },
    {
     "name": "stderr",
     "output_type": "stream",
     "text": [
      "\r",
      "  9%|██████▌                                                                      | 133/1550 [09:16<1:32:28,  3.92s/it]"
     ]
    },
    {
     "name": "stdout",
     "output_type": "stream",
     "text": [
      "Visit the Wear Your Opinion Store\n",
      "['Clothing & Accessories', 'Men', 'T-Shirts & Polos', 'T-Shirts']\n",
      "133\n",
      "https://www.amazon.in/dp/B0BQYXSBS1\n"
     ]
    },
    {
     "name": "stderr",
     "output_type": "stream",
     "text": [
      "\r",
      "  9%|██████▋                                                                      | 134/1550 [09:19<1:29:47,  3.80s/it]"
     ]
    },
    {
     "name": "stdout",
     "output_type": "stream",
     "text": [
      "Brand: Max\n",
      "['Clothing & Accessories', 'Girls', 'Tops, T-Shirts & Shirts', 'T-Shirts']\n",
      "134\n",
      "https://www.amazon.in/dp/B0C58QS4XL\n"
     ]
    },
    {
     "name": "stderr",
     "output_type": "stream",
     "text": [
      "\r",
      "  9%|██████▋                                                                      | 135/1550 [09:23<1:31:49,  3.89s/it]"
     ]
    },
    {
     "name": "stdout",
     "output_type": "stream",
     "text": [
      "Visit the Wear Your Opinion Store\n",
      "['Clothing & Accessories', 'Men', 'T-Shirts & Polos', 'T-Shirts']\n",
      "135\n",
      "https://www.amazon.in/dp/B0C96NQNW1\n"
     ]
    },
    {
     "name": "stderr",
     "output_type": "stream",
     "text": [
      "\r",
      "  9%|██████▊                                                                      | 136/1550 [09:27<1:30:51,  3.86s/it]"
     ]
    },
    {
     "name": "stdout",
     "output_type": "stream",
     "text": [
      "Visit the SWADESI STUFF Store\n",
      "['Clothing & Accessories', 'Men', 'Shirts', 'Casual Shirts']\n",
      "136\n",
      "https://www.amazon.in/dp/B09WRCS49P\n"
     ]
    },
    {
     "name": "stderr",
     "output_type": "stream",
     "text": [
      "\r",
      "  9%|██████▊                                                                      | 137/1550 [09:31<1:32:37,  3.93s/it]"
     ]
    },
    {
     "name": "stdout",
     "output_type": "stream",
     "text": [
      "Brand: Red Tape\n",
      "['Clothing & Accessories', 'Men', 'T-Shirts & Polos', 'T-Shirts']\n",
      "137\n",
      "https://www.amazon.in/dp/B09H32R6BG\n"
     ]
    },
    {
     "name": "stderr",
     "output_type": "stream",
     "text": [
      "\r",
      "  9%|██████▊                                                                      | 138/1550 [09:35<1:30:27,  3.84s/it]"
     ]
    },
    {
     "name": "stdout",
     "output_type": "stream",
     "text": [
      "Brand: Lacoste\n",
      "['Clothing & Accessories', 'Men', 'T-Shirts & Polos', 'T-Shirts']\n",
      "138\n",
      "https://www.amazon.in/dp/B0B4WPL3VK\n"
     ]
    },
    {
     "name": "stderr",
     "output_type": "stream",
     "text": [
      "\r",
      "  9%|██████▉                                                                      | 139/1550 [09:39<1:29:59,  3.83s/it]"
     ]
    },
    {
     "name": "stdout",
     "output_type": "stream",
     "text": [
      "Brand: Max\n",
      "['Clothing & Accessories', 'Boys', 'T-Shirts & Polos', 'T-Shirts']\n",
      "139\n",
      "https://www.amazon.in/dp/B0BSNGQLK2\n"
     ]
    },
    {
     "name": "stderr",
     "output_type": "stream",
     "text": [
      "\r",
      "  9%|██████▉                                                                      | 140/1550 [09:43<1:33:01,  3.96s/it]"
     ]
    },
    {
     "name": "stdout",
     "output_type": "stream",
     "text": [
      "Visit the Red Tape Store\n",
      "['Clothing & Accessories', 'Men', 'T-Shirts & Polos', 'T-Shirts']\n",
      "140\n",
      "https://www.amazon.in/dp/B0C6QW1DR3\n"
     ]
    },
    {
     "name": "stderr",
     "output_type": "stream",
     "text": [
      "\r",
      "  9%|███████                                                                      | 141/1550 [09:46<1:30:39,  3.86s/it]"
     ]
    },
    {
     "name": "stdout",
     "output_type": "stream",
     "text": [
      "Brand: Levi's\n",
      "['Clothing & Accessories', 'Men', 'T-Shirts & Polos', 'T-Shirts']\n",
      "141\n",
      "https://www.amazon.in/dp/B0BSNGP9FJ\n"
     ]
    },
    {
     "name": "stderr",
     "output_type": "stream",
     "text": [
      "\r",
      "  9%|███████                                                                      | 142/1550 [09:50<1:31:53,  3.92s/it]"
     ]
    },
    {
     "name": "stdout",
     "output_type": "stream",
     "text": [
      "Visit the Red Tape Store\n",
      "['Clothing & Accessories', 'Men', 'T-Shirts & Polos', 'T-Shirts']\n",
      "142\n",
      "https://www.amazon.in/dp/B0BX2XK55J\n"
     ]
    },
    {
     "name": "stderr",
     "output_type": "stream",
     "text": [
      "\r",
      "  9%|███████                                                                      | 143/1550 [09:55<1:37:11,  4.14s/it]"
     ]
    },
    {
     "name": "stdout",
     "output_type": "stream",
     "text": [
      "Brand: LookMark\n",
      "['Clothing & Accessories', 'Men', 'Shirts', 'Casual Shirts']\n",
      "143\n",
      "https://www.amazon.in/dp/B0BV43G453\n"
     ]
    },
    {
     "name": "stderr",
     "output_type": "stream",
     "text": [
      "\r",
      "  9%|███████▏                                                                     | 144/1550 [09:59<1:34:38,  4.04s/it]"
     ]
    },
    {
     "name": "stdout",
     "output_type": "stream",
     "text": [
      "Brand: Lacoste\n",
      "['Clothing & Accessories', 'Men', 'T-Shirts & Polos', 'Polos']\n",
      "144\n",
      "https://www.amazon.in/dp/B0BXLB422L\n"
     ]
    },
    {
     "name": "stderr",
     "output_type": "stream",
     "text": [
      "\r",
      "  9%|███████▏                                                                     | 145/1550 [10:03<1:32:55,  3.97s/it]"
     ]
    },
    {
     "name": "stdout",
     "output_type": "stream",
     "text": [
      "Visit the Red Tape Store\n",
      "['Clothing & Accessories', 'Men', 'T-Shirts & Polos', 'T-Shirts']\n",
      "145\n",
      "https://www.amazon.in/dp/B0BZ4V462F\n"
     ]
    },
    {
     "name": "stderr",
     "output_type": "stream",
     "text": [
      "\r",
      "  9%|███████▎                                                                     | 146/1550 [10:06<1:30:31,  3.87s/it]"
     ]
    },
    {
     "name": "stdout",
     "output_type": "stream",
     "text": [
      "Brand: Lacoste\n",
      "['Clothing & Accessories', 'Men', 'T-Shirts & Polos', 'Polos']\n",
      "146\n",
      "https://www.amazon.in/dp/B0B1DLTDQ7\n"
     ]
    },
    {
     "name": "stderr",
     "output_type": "stream",
     "text": [
      "\r",
      "  9%|███████▎                                                                     | 147/1550 [10:10<1:27:16,  3.73s/it]"
     ]
    },
    {
     "name": "stdout",
     "output_type": "stream",
     "text": [
      "Brand: Max\n",
      "['Clothing & Accessories', 'Men', 'T-Shirts & Polos', 'T-Shirts']\n",
      "147\n",
      "https://www.amazon.in/dp/B099KDQ4BN\n",
      "Brand: Lacoste\n"
     ]
    },
    {
     "name": "stderr",
     "output_type": "stream",
     "text": [
      "\r",
      " 10%|███████▎                                                                     | 148/1550 [10:13<1:26:33,  3.70s/it]"
     ]
    },
    {
     "name": "stdout",
     "output_type": "stream",
     "text": [
      "['Clothing & Accessories', 'Men', 'T-Shirts & Polos', 'Polos']\n",
      "148\n",
      "https://www.amazon.in/dp/B0B86C9XKZ\n"
     ]
    },
    {
     "name": "stderr",
     "output_type": "stream",
     "text": [
      "\r",
      " 10%|███████▍                                                                     | 149/1550 [10:17<1:27:44,  3.76s/it]"
     ]
    },
    {
     "name": "stdout",
     "output_type": "stream",
     "text": [
      "Visit the GRECIILOOKS Store\n",
      "['Clothing & Accessories', 'Women', 'Western Wear', 'Tops, T-Shirts & Shirts', 'Shirts']\n",
      "149\n",
      "https://www.amazon.in/dp/B0BV3YFNF1\n"
     ]
    },
    {
     "name": "stderr",
     "output_type": "stream",
     "text": [
      "\r",
      " 10%|███████▍                                                                     | 150/1550 [10:21<1:25:27,  3.66s/it]"
     ]
    },
    {
     "name": "stdout",
     "output_type": "stream",
     "text": [
      "Brand: Lacoste\n",
      "['Clothing & Accessories', 'Men', 'T-Shirts & Polos', 'Polos']\n",
      "150\n",
      "https://www.amazon.in/dp/B09TKXGGJS\n",
      "Visit the Campus Sutra Store\n"
     ]
    },
    {
     "name": "stderr",
     "output_type": "stream",
     "text": [
      "\r",
      " 10%|███████▌                                                                     | 151/1550 [10:25<1:29:03,  3.82s/it]"
     ]
    },
    {
     "name": "stdout",
     "output_type": "stream",
     "text": [
      "['Clothing & Accessories', 'Men', 'T-Shirts & Polos', 'T-Shirts']\n",
      "151\n",
      "https://www.amazon.in/dp/B0B9RNHTKG\n"
     ]
    },
    {
     "name": "stderr",
     "output_type": "stream",
     "text": [
      "\r",
      " 10%|███████▌                                                                     | 152/1550 [10:29<1:27:55,  3.77s/it]"
     ]
    },
    {
     "name": "stdout",
     "output_type": "stream",
     "text": [
      "Brand: Lacoste\n",
      "['Clothing & Accessories', 'Men', 'T-Shirts & Polos', 'Polos']\n",
      "152\n",
      "https://www.amazon.in/dp/B0B9XD9WTL\n"
     ]
    },
    {
     "name": "stderr",
     "output_type": "stream",
     "text": [
      "\r",
      " 10%|███████▌                                                                     | 153/1550 [10:32<1:28:20,  3.79s/it]"
     ]
    },
    {
     "name": "stdout",
     "output_type": "stream",
     "text": [
      "Visit the U.S. POLO ASSN. Store\n",
      "['Clothing & Accessories', 'Men', 'T-Shirts & Polos', 'T-Shirts']\n",
      "153\n",
      "https://www.amazon.in/dp/B0BDRT6LJJ\n"
     ]
    },
    {
     "name": "stderr",
     "output_type": "stream",
     "text": [
      "\r",
      " 10%|███████▋                                                                     | 154/1550 [10:36<1:27:37,  3.77s/it]"
     ]
    },
    {
     "name": "stdout",
     "output_type": "stream",
     "text": [
      "Brand: Max\n",
      "['Clothing & Accessories', 'Boys', 'T-Shirts & Polos', 'T-Shirts']\n",
      "154\n",
      "https://www.amazon.in/dp/B0CD7GJTQC\n"
     ]
    },
    {
     "name": "stderr",
     "output_type": "stream",
     "text": [
      "\r",
      " 10%|███████▋                                                                     | 155/1550 [10:40<1:31:38,  3.94s/it]"
     ]
    },
    {
     "name": "stdout",
     "output_type": "stream",
     "text": [
      "Visit the LEOTUDE Store\n",
      "['Clothing & Accessories', 'Women', 'Western Wear', 'Tops, T-Shirts & Shirts', 'T-Shirts']\n",
      "155\n",
      "https://www.amazon.in/dp/B0BZ4S7N8G\n",
      "Brand: Lacoste\n"
     ]
    },
    {
     "name": "stderr",
     "output_type": "stream",
     "text": [
      "\r",
      " 10%|███████▋                                                                     | 156/1550 [10:44<1:28:51,  3.82s/it]"
     ]
    },
    {
     "name": "stdout",
     "output_type": "stream",
     "text": [
      "['Clothing & Accessories', 'Men', 'T-Shirts & Polos', 'Polos']\n",
      "156\n",
      "https://www.amazon.in/dp/B0BD82HRKG\n"
     ]
    },
    {
     "name": "stderr",
     "output_type": "stream",
     "text": [
      "\r",
      " 10%|███████▊                                                                     | 157/1550 [10:48<1:29:33,  3.86s/it]"
     ]
    },
    {
     "name": "stdout",
     "output_type": "stream",
     "text": [
      "Brand: Lacoste\n",
      "['Clothing & Accessories', 'Girls', 'Tops, T-Shirts & Shirts', 'T-Shirts']\n",
      "157\n",
      "https://www.amazon.in/dp/B0C9Q22XCH\n",
      "Visit the LEOTUDE Store\n"
     ]
    },
    {
     "name": "stderr",
     "output_type": "stream",
     "text": [
      "\r",
      " 10%|███████▊                                                                     | 158/1550 [10:52<1:29:56,  3.88s/it]"
     ]
    },
    {
     "name": "stdout",
     "output_type": "stream",
     "text": [
      "['Clothing & Accessories', 'Women', 'Western Wear', 'Tops, T-Shirts & Shirts', 'T-Shirts']\n",
      "158\n",
      "https://www.amazon.in/dp/B0BY8P9C4G\n"
     ]
    },
    {
     "name": "stderr",
     "output_type": "stream",
     "text": [
      "\r",
      " 10%|███████▉                                                                     | 159/1550 [10:56<1:33:44,  4.04s/it]"
     ]
    },
    {
     "name": "stdout",
     "output_type": "stream",
     "text": [
      "Visit the GRECIILOOKS Store\n",
      "['Clothing & Accessories', 'Men', 'Shirts', 'Casual Shirts']\n",
      "159\n",
      "https://www.amazon.in/dp/B0BDRRLM4Z\n",
      "Brand: Max\n",
      "['Clothing & Accessories', 'Boys', 'T-Shirts & Polos', 'T-Shirts']\n"
     ]
    },
    {
     "name": "stderr",
     "output_type": "stream",
     "text": [
      "\r",
      " 10%|███████▉                                                                     | 160/1550 [11:00<1:29:36,  3.87s/it]"
     ]
    },
    {
     "name": "stdout",
     "output_type": "stream",
     "text": [
      "160\n",
      "https://www.amazon.in/dp/B0B9RQHQ84\n"
     ]
    },
    {
     "name": "stderr",
     "output_type": "stream",
     "text": [
      "\r",
      " 10%|███████▉                                                                     | 161/1550 [11:03<1:26:38,  3.74s/it]"
     ]
    },
    {
     "name": "stdout",
     "output_type": "stream",
     "text": [
      "Brand: Lacoste\n",
      "['Clothing & Accessories', 'Men', 'T-Shirts & Polos', 'Polos']\n",
      "161\n",
      "https://www.amazon.in/dp/B0C1SQ6SKQ\n"
     ]
    },
    {
     "name": "stderr",
     "output_type": "stream",
     "text": [
      "\r",
      " 10%|████████                                                                     | 162/1550 [11:07<1:25:27,  3.69s/it]"
     ]
    },
    {
     "name": "stdout",
     "output_type": "stream",
     "text": [
      "Visit the Arrow Store\n",
      "['Clothing & Accessories', 'Men', 'Shirts', 'Formal Shirts']\n",
      "162\n",
      "https://www.amazon.in/dp/B0C6K61L2M\n"
     ]
    },
    {
     "name": "stderr",
     "output_type": "stream",
     "text": [
      "\r",
      " 11%|████████                                                                     | 163/1550 [11:10<1:24:46,  3.67s/it]"
     ]
    },
    {
     "name": "stdout",
     "output_type": "stream",
     "text": [
      "Visit the LuvLap Store\n",
      "['Clothing & Accessories', 'Baby', 'Baby Boys', 'Clothing Sets']\n",
      "163\n",
      "https://www.amazon.in/dp/B0BV448VNQ\n"
     ]
    },
    {
     "name": "stderr",
     "output_type": "stream",
     "text": [
      "\r",
      " 11%|████████▏                                                                    | 164/1550 [11:14<1:23:05,  3.60s/it]"
     ]
    },
    {
     "name": "stdout",
     "output_type": "stream",
     "text": [
      "Brand: Lacoste\n",
      "['Clothing & Accessories', 'Men', 'T-Shirts & Polos', 'T-Shirts']\n",
      "164\n",
      "https://www.amazon.in/dp/B0BLK1DTPC\n"
     ]
    },
    {
     "name": "stderr",
     "output_type": "stream",
     "text": [
      "\r",
      " 11%|████████▏                                                                    | 165/1550 [11:18<1:24:26,  3.66s/it]"
     ]
    },
    {
     "name": "stdout",
     "output_type": "stream",
     "text": [
      "Visit the GRECIILOOKS Store\n",
      "['Clothing & Accessories', 'Women', 'Western Wear', 'Tops, T-Shirts & Shirts', 'Shirts']\n",
      "165\n",
      "https://www.amazon.in/dp/B0BSV6MTB8\n"
     ]
    },
    {
     "name": "stderr",
     "output_type": "stream",
     "text": [
      "\r",
      " 11%|████████▏                                                                    | 166/1550 [11:21<1:25:15,  3.70s/it]"
     ]
    },
    {
     "name": "stdout",
     "output_type": "stream",
     "text": [
      "Brand: ANNI DESIGNER\n",
      "['Clothing & Accessories', 'Women', 'Ethnic Wear', 'Kurtas & Kurtis']\n",
      "166\n",
      "https://www.amazon.in/dp/B0BBQQJZQ6\n"
     ]
    },
    {
     "name": "stderr",
     "output_type": "stream",
     "text": [
      "\r",
      " 11%|████████▎                                                                    | 167/1550 [11:25<1:27:25,  3.79s/it]"
     ]
    },
    {
     "name": "stdout",
     "output_type": "stream",
     "text": [
      "Brand: Lacoste\n",
      "['Clothing & Accessories', 'Boys', 'T-Shirts & Polos', 'T-Shirts']\n",
      "167\n",
      "https://www.amazon.in/dp/B0C7J146Y1\n"
     ]
    },
    {
     "name": "stderr",
     "output_type": "stream",
     "text": [
      "\r",
      " 11%|████████▎                                                                    | 168/1550 [11:29<1:28:32,  3.84s/it]"
     ]
    },
    {
     "name": "stdout",
     "output_type": "stream",
     "text": [
      "Visit the Raymond Store\n",
      "['Clothing & Accessories', 'Men', 'Shirts', 'Formal Shirts']\n",
      "168\n",
      "https://www.amazon.in/dp/B0BPXT9ZCS\n"
     ]
    },
    {
     "name": "stderr",
     "output_type": "stream",
     "text": [
      "\r",
      " 11%|████████▍                                                                    | 169/1550 [11:33<1:27:14,  3.79s/it]"
     ]
    },
    {
     "name": "stdout",
     "output_type": "stream",
     "text": [
      "Brand: ANNI DESIGNER\n",
      "['Clothing & Accessories', 'Women', 'Ethnic Wear', 'Kurtas & Kurtis']\n",
      "169\n",
      "https://www.amazon.in/dp/B0C436YZS7\n"
     ]
    },
    {
     "name": "stderr",
     "output_type": "stream",
     "text": [
      "\r",
      " 11%|████████▍                                                                    | 170/1550 [11:37<1:26:24,  3.76s/it]"
     ]
    },
    {
     "name": "stdout",
     "output_type": "stream",
     "text": [
      "Brand: FTX\n",
      "['Clothing & Accessories', 'Men', 'T-Shirts & Polos', 'T-Shirts']\n",
      "170\n",
      "https://www.amazon.in/dp/B099K7NPXQ\n"
     ]
    },
    {
     "name": "stderr",
     "output_type": "stream",
     "text": [
      "\r",
      " 11%|████████▍                                                                    | 171/1550 [11:40<1:25:11,  3.71s/it]"
     ]
    },
    {
     "name": "stdout",
     "output_type": "stream",
     "text": [
      "Brand: Lacoste\n",
      "['Clothing & Accessories', 'Boys', 'T-Shirts & Polos', 'Polos']\n",
      "171\n",
      "https://www.amazon.in/dp/B09H2Z36SQ\n",
      "Brand: Lacoste\n"
     ]
    },
    {
     "name": "stderr",
     "output_type": "stream",
     "text": [
      "\r",
      " 11%|████████▌                                                                    | 172/1550 [11:44<1:27:03,  3.79s/it]"
     ]
    },
    {
     "name": "stdout",
     "output_type": "stream",
     "text": [
      "['Clothing & Accessories', 'Men', 'T-Shirts & Polos', 'T-Shirts']\n",
      "172\n",
      "https://www.amazon.in/dp/B0BD8FF5DF\n"
     ]
    },
    {
     "name": "stderr",
     "output_type": "stream",
     "text": [
      "\r",
      " 11%|████████▌                                                                    | 173/1550 [11:48<1:26:36,  3.77s/it]"
     ]
    },
    {
     "name": "stdout",
     "output_type": "stream",
     "text": [
      "Brand: Lacoste\n",
      "['Clothing & Accessories', 'Men', 'T-Shirts & Polos', 'Polos']\n",
      "173\n",
      "https://www.amazon.in/dp/B0BV458M64\n"
     ]
    },
    {
     "name": "stderr",
     "output_type": "stream",
     "text": [
      "\r",
      " 11%|████████▋                                                                    | 174/1550 [11:52<1:28:12,  3.85s/it]"
     ]
    },
    {
     "name": "stdout",
     "output_type": "stream",
     "text": [
      "Brand: Lacoste\n",
      "['Clothing & Accessories', 'Men', 'T-Shirts & Polos', 'Polos']\n",
      "174\n",
      "https://www.amazon.in/dp/B0BZ4TB6NM\n"
     ]
    },
    {
     "name": "stderr",
     "output_type": "stream",
     "text": [
      "\r",
      " 11%|████████▋                                                                    | 175/1550 [11:56<1:29:18,  3.90s/it]"
     ]
    },
    {
     "name": "stdout",
     "output_type": "stream",
     "text": [
      "Brand: Lacoste\n",
      "['Clothing & Accessories', 'Men', 'T-Shirts & Polos', 'Polos']\n",
      "175\n",
      "https://www.amazon.in/dp/B0BNGHJ6NS\n"
     ]
    },
    {
     "name": "stderr",
     "output_type": "stream",
     "text": [
      "\r",
      " 11%|████████▋                                                                    | 176/1550 [12:00<1:26:07,  3.76s/it]"
     ]
    },
    {
     "name": "stdout",
     "output_type": "stream",
     "text": [
      "Brand: Lacoste\n",
      "['Clothing & Accessories', 'Boys', 'T-Shirts & Polos', 'Polos']\n",
      "176\n",
      "https://www.amazon.in/dp/B0CG18KYRT\n"
     ]
    },
    {
     "name": "stderr",
     "output_type": "stream",
     "text": [
      "\r",
      " 11%|████████▊                                                                    | 177/1550 [12:03<1:21:47,  3.57s/it]"
     ]
    },
    {
     "name": "stdout",
     "output_type": "stream",
     "text": [
      "Visit the TASMAX Store\n",
      "['Home & Kitchen', 'Home Storage & Organisation', 'Clothing & Wardrobe Storage', 'Collapsible Wardrobe']\n",
      "177\n",
      "https://www.amazon.in/dp/B0BSH567ZY\n"
     ]
    },
    {
     "name": "stderr",
     "output_type": "stream",
     "text": [
      "\r",
      " 11%|████████▊                                                                    | 178/1550 [12:06<1:19:16,  3.47s/it]"
     ]
    },
    {
     "name": "stdout",
     "output_type": "stream",
     "text": [
      "Visit the FLYNOFF Store\n",
      "['Clothing & Accessories', 'Men', 'T-Shirts & Polos', 'T-Shirts']\n",
      "178\n",
      "https://www.amazon.in/dp/B0BSH5Q6XB\n"
     ]
    },
    {
     "name": "stderr",
     "output_type": "stream",
     "text": [
      "\r",
      " 12%|████████▉                                                                    | 179/1550 [12:10<1:23:52,  3.67s/it]"
     ]
    },
    {
     "name": "stdout",
     "output_type": "stream",
     "text": [
      "Visit the FLYNOFF Store\n",
      "['Clothing & Accessories', 'Men', 'T-Shirts & Polos', 'T-Shirts']\n",
      "179\n",
      "https://www.amazon.in/dp/B0BSH7LQMD\n"
     ]
    },
    {
     "name": "stderr",
     "output_type": "stream",
     "text": [
      "\r",
      " 12%|████████▉                                                                    | 180/1550 [12:14<1:24:01,  3.68s/it]"
     ]
    },
    {
     "name": "stdout",
     "output_type": "stream",
     "text": [
      "Visit the FLYNOFF Store\n",
      "['Clothing & Accessories', 'Men', 'T-Shirts & Polos', 'T-Shirts']\n",
      "180\n",
      "https://www.amazon.in/dp/B0BV49MKGB\n",
      "Brand: Lacoste\n",
      "['Clothing & Accessories', 'Men', 'T-Shirts & Polos', 'Polos']\n"
     ]
    },
    {
     "name": "stderr",
     "output_type": "stream",
     "text": [
      "\r",
      " 12%|████████▉                                                                    | 181/1550 [12:18<1:28:36,  3.88s/it]"
     ]
    },
    {
     "name": "stdout",
     "output_type": "stream",
     "text": [
      "181\n",
      "https://www.amazon.in/dp/B09H336TB1\n"
     ]
    },
    {
     "name": "stderr",
     "output_type": "stream",
     "text": [
      "\r",
      " 12%|█████████                                                                    | 182/1550 [12:22<1:29:34,  3.93s/it]"
     ]
    },
    {
     "name": "stdout",
     "output_type": "stream",
     "text": [
      "Brand: Lacoste\n",
      "['Clothing & Accessories', 'Men', 'T-Shirts & Polos', 'T-Shirts']\n",
      "182\n",
      "https://www.amazon.in/dp/B099JHGYRV\n"
     ]
    },
    {
     "name": "stderr",
     "output_type": "stream",
     "text": [
      "\r",
      " 12%|█████████                                                                    | 183/1550 [12:26<1:30:19,  3.96s/it]"
     ]
    },
    {
     "name": "stdout",
     "output_type": "stream",
     "text": [
      "Brand: Lacoste\n",
      "['Clothing & Accessories', 'Men', 'T-Shirts & Polos', 'Polos']\n",
      "183\n",
      "https://www.amazon.in/dp/B0BZ4V5Y46\n",
      "Brand: Lacoste\n"
     ]
    },
    {
     "name": "stderr",
     "output_type": "stream",
     "text": [
      "\r",
      " 12%|█████████▏                                                                   | 184/1550 [12:30<1:30:46,  3.99s/it]"
     ]
    },
    {
     "name": "stdout",
     "output_type": "stream",
     "text": [
      "['Clothing & Accessories', 'Men', 'T-Shirts & Polos', 'Polos']\n",
      "184\n",
      "https://www.amazon.in/dp/B0BV4JL3ZM\n",
      "Brand: Lacoste\n"
     ]
    },
    {
     "name": "stderr",
     "output_type": "stream",
     "text": [
      "\r",
      " 12%|█████████▏                                                                   | 185/1550 [12:34<1:29:54,  3.95s/it]"
     ]
    },
    {
     "name": "stdout",
     "output_type": "stream",
     "text": [
      "['Clothing & Accessories', 'Men', 'T-Shirts & Polos', 'Polos']\n",
      "185\n",
      "https://www.amazon.in/dp/B076CNGLCB\n"
     ]
    },
    {
     "name": "stderr",
     "output_type": "stream",
     "text": [
      "\r",
      " 12%|█████████▏                                                                   | 186/1550 [12:38<1:31:39,  4.03s/it]"
     ]
    },
    {
     "name": "stdout",
     "output_type": "stream",
     "text": [
      "Visit the Van Heusen Store\n",
      "['Fashion', 'Apparel Steal Deals', 'Apparel_1', 'Men', \"Men's Bestsellers\"]\n",
      "186\n",
      "https://www.amazon.in/dp/B099JHQJX9\n",
      "Brand: Lacoste\n"
     ]
    },
    {
     "name": "stderr",
     "output_type": "stream",
     "text": [
      "\r",
      " 12%|█████████▎                                                                   | 187/1550 [12:42<1:30:42,  3.99s/it]"
     ]
    },
    {
     "name": "stdout",
     "output_type": "stream",
     "text": [
      "['Clothing & Accessories', 'Men', 'T-Shirts & Polos', 'Polos']\n",
      "187\n",
      "https://www.amazon.in/dp/B099KB7PG6\n",
      "Brand: Lacoste\n",
      "['Clothing & Accessories', 'Men', 'T-Shirts & Polos', 'Polos']\n"
     ]
    },
    {
     "name": "stderr",
     "output_type": "stream",
     "text": [
      "\r",
      " 12%|█████████▎                                                                   | 188/1550 [12:46<1:29:36,  3.95s/it]"
     ]
    },
    {
     "name": "stdout",
     "output_type": "stream",
     "text": [
      "188\n",
      "https://www.amazon.in/dp/B01LZBWNMO\n"
     ]
    },
    {
     "name": "stderr",
     "output_type": "stream",
     "text": [
      "\r",
      " 12%|█████████▍                                                                   | 189/1550 [12:51<1:33:07,  4.11s/it]"
     ]
    },
    {
     "name": "stdout",
     "output_type": "stream",
     "text": [
      "Brand: Lacoste\n",
      "['Clothing & Accessories', 'Men', 'T-Shirts & Polos', 'Polos']\n",
      "189\n",
      "https://www.amazon.in/dp/B0BZ4TB8QM\n"
     ]
    },
    {
     "name": "stderr",
     "output_type": "stream",
     "text": [
      "\r",
      " 12%|█████████▍                                                                   | 190/1550 [12:54<1:28:41,  3.91s/it]"
     ]
    },
    {
     "name": "stdout",
     "output_type": "stream",
     "text": [
      "Brand: Lacoste\n",
      "['Clothing & Accessories', 'Men', 'T-Shirts & Polos', 'Polos']\n",
      "190\n",
      "https://www.amazon.in/dp/B0B9RX6GVG\n"
     ]
    },
    {
     "name": "stderr",
     "output_type": "stream",
     "text": [
      "\r",
      " 12%|█████████▍                                                                   | 191/1550 [12:58<1:25:55,  3.79s/it]"
     ]
    },
    {
     "name": "stdout",
     "output_type": "stream",
     "text": [
      "Brand: Lacoste\n",
      "['Clothing & Accessories', 'Men', 'T-Shirts & Polos', 'Polos']\n",
      "191\n",
      "https://www.amazon.in/dp/B0BHL7LX53\n",
      "Brand: Lacoste\n"
     ]
    },
    {
     "name": "stderr",
     "output_type": "stream",
     "text": [
      "\r",
      " 12%|█████████▌                                                                   | 192/1550 [13:01<1:25:55,  3.80s/it]"
     ]
    },
    {
     "name": "stdout",
     "output_type": "stream",
     "text": [
      "['Clothing & Accessories', 'Men', 'T-Shirts & Polos', 'Polos']\n",
      "192\n",
      "https://www.amazon.in/dp/B0BZ4TPGMK\n",
      "Brand: Lacoste\n"
     ]
    },
    {
     "name": "stderr",
     "output_type": "stream",
     "text": [
      "\r",
      " 12%|█████████▌                                                                   | 193/1550 [13:05<1:27:19,  3.86s/it]"
     ]
    },
    {
     "name": "stdout",
     "output_type": "stream",
     "text": [
      "['Clothing & Accessories', 'Men', 'T-Shirts & Polos', 'Polos']\n",
      "193\n",
      "https://www.amazon.in/dp/B0BV3VQD81\n",
      "Brand: Lacoste\n"
     ]
    },
    {
     "name": "stderr",
     "output_type": "stream",
     "text": [
      "\r",
      " 13%|█████████▋                                                                   | 194/1550 [13:10<1:29:53,  3.98s/it]"
     ]
    },
    {
     "name": "stdout",
     "output_type": "stream",
     "text": [
      "['Clothing & Accessories', 'Men', 'T-Shirts & Polos', 'Polos']\n",
      "194\n",
      "https://www.amazon.in/dp/B0BV45241H\n"
     ]
    },
    {
     "name": "stderr",
     "output_type": "stream",
     "text": [
      "\r",
      " 13%|█████████▋                                                                   | 195/1550 [13:13<1:29:14,  3.95s/it]"
     ]
    },
    {
     "name": "stdout",
     "output_type": "stream",
     "text": [
      "Brand: Lacoste\n",
      "['Clothing & Accessories', 'Men', 'T-Shirts & Polos', 'T-Shirts']\n",
      "195\n",
      "https://www.amazon.in/dp/B08X771D9X\n",
      "Visit the The Souled Store Store\n"
     ]
    },
    {
     "name": "stderr",
     "output_type": "stream",
     "text": [
      "\r",
      " 13%|█████████▋                                                                   | 196/1550 [13:19<1:38:39,  4.37s/it]"
     ]
    },
    {
     "name": "stdout",
     "output_type": "stream",
     "text": [
      "['Clothing & Accessories', 'Men', 'T-Shirts & Polos', 'T-Shirts']\n",
      "196\n",
      "https://www.amazon.in/dp/B0BV4B232L\n"
     ]
    },
    {
     "name": "stderr",
     "output_type": "stream",
     "text": [
      "\r",
      " 13%|█████████▊                                                                   | 197/1550 [13:23<1:33:59,  4.17s/it]"
     ]
    },
    {
     "name": "stdout",
     "output_type": "stream",
     "text": [
      "Brand: Lacoste\n",
      "['Clothing & Accessories', 'Men', 'T-Shirts & Polos', 'Polos']\n",
      "197\n",
      "https://www.amazon.in/dp/B0B29K31MH\n"
     ]
    },
    {
     "name": "stderr",
     "output_type": "stream",
     "text": [
      "\r",
      " 13%|█████████▊                                                                   | 198/1550 [13:26<1:30:58,  4.04s/it]"
     ]
    },
    {
     "name": "stdout",
     "output_type": "stream",
     "text": [
      "Visit the fanideaz Store\n",
      "['Clothing & Accessories', 'Men', 'T-Shirts & Polos', 'T-Shirts']\n",
      "198\n",
      "https://www.amazon.in/dp/B0BV4GJDN7\n"
     ]
    },
    {
     "name": "stderr",
     "output_type": "stream",
     "text": [
      "\r",
      " 13%|█████████▉                                                                   | 199/1550 [13:30<1:28:07,  3.91s/it]"
     ]
    },
    {
     "name": "stdout",
     "output_type": "stream",
     "text": [
      "Brand: Lacoste\n",
      "['Clothing & Accessories', 'Men', 'T-Shirts & Polos', 'T-Shirts']\n",
      "199\n",
      "https://www.amazon.in/dp/B0BBQST7FJ\n"
     ]
    },
    {
     "name": "stderr",
     "output_type": "stream",
     "text": [
      "\r",
      " 13%|█████████▉                                                                   | 200/1550 [13:34<1:27:00,  3.87s/it]"
     ]
    },
    {
     "name": "stdout",
     "output_type": "stream",
     "text": [
      "Brand: Lacoste\n",
      "['Clothing & Accessories', 'Men', 'T-Shirts & Polos', 'Polos']\n",
      "200\n",
      "https://www.amazon.in/dp/B0BZ4SF8QY\n"
     ]
    },
    {
     "name": "stderr",
     "output_type": "stream",
     "text": [
      "\r",
      " 13%|█████████▉                                                                   | 201/1550 [13:37<1:25:06,  3.79s/it]"
     ]
    },
    {
     "name": "stdout",
     "output_type": "stream",
     "text": [
      "Brand: Lacoste\n",
      "['Clothing & Accessories', 'Men', 'T-Shirts & Polos', 'Polos']\n",
      "201\n",
      "https://www.amazon.in/dp/B099KJ75BT\n",
      "Brand: Lacoste\n"
     ]
    },
    {
     "name": "stderr",
     "output_type": "stream",
     "text": [
      "\r",
      " 13%|██████████                                                                   | 202/1550 [13:41<1:24:50,  3.78s/it]"
     ]
    },
    {
     "name": "stdout",
     "output_type": "stream",
     "text": [
      "['Clothing & Accessories', 'Men', 'T-Shirts & Polos', 'Polos']\n",
      "202\n",
      "https://www.amazon.in/dp/B0C65B47XD\n",
      "Brand: Lacoste\n"
     ]
    },
    {
     "name": "stderr",
     "output_type": "stream",
     "text": [
      "\r",
      " 13%|██████████                                                                   | 203/1550 [13:45<1:25:36,  3.81s/it]"
     ]
    },
    {
     "name": "stdout",
     "output_type": "stream",
     "text": [
      "['Clothing & Accessories', 'Men', 'T-Shirts & Polos', 'Polos']\n",
      "203\n",
      "https://www.amazon.in/dp/B0B2JCZNLT\n",
      "Brand: Lacoste\n"
     ]
    },
    {
     "name": "stderr",
     "output_type": "stream",
     "text": [
      "\r",
      " 13%|██████████▏                                                                  | 204/1550 [13:48<1:22:30,  3.68s/it]"
     ]
    },
    {
     "name": "stdout",
     "output_type": "stream",
     "text": [
      "['Clothing & Accessories', 'Men', 'T-Shirts & Polos', 'Polos']\n",
      "204\n",
      "https://www.amazon.in/dp/B0B2JMYDWF\n"
     ]
    },
    {
     "name": "stderr",
     "output_type": "stream",
     "text": [
      "\r",
      " 13%|██████████▏                                                                  | 205/1550 [13:52<1:22:27,  3.68s/it]"
     ]
    },
    {
     "name": "stdout",
     "output_type": "stream",
     "text": [
      "Brand: Lacoste\n",
      "['Clothing & Accessories', 'Men', 'T-Shirts & Polos', 'Polos']\n",
      "205\n",
      "https://www.amazon.in/dp/B0BV4DWGF6\n"
     ]
    },
    {
     "name": "stderr",
     "output_type": "stream",
     "text": [
      "\r",
      " 13%|██████████▏                                                                  | 206/1550 [13:56<1:24:36,  3.78s/it]"
     ]
    },
    {
     "name": "stdout",
     "output_type": "stream",
     "text": [
      "Brand: Lacoste\n",
      "['Clothing & Accessories', 'Men', 'T-Shirts & Polos', 'T-Shirts']\n",
      "206\n",
      "https://www.amazon.in/dp/B099JRP6KP\n",
      "Brand: Lacoste\n"
     ]
    },
    {
     "name": "stderr",
     "output_type": "stream",
     "text": [
      "\r",
      " 13%|██████████▎                                                                  | 207/1550 [14:00<1:24:31,  3.78s/it]"
     ]
    },
    {
     "name": "stdout",
     "output_type": "stream",
     "text": [
      "['Clothing & Accessories', 'Men', 'T-Shirts & Polos', 'Polos']\n",
      "207\n",
      "https://www.amazon.in/dp/B01M0NBSW8\n"
     ]
    },
    {
     "name": "stderr",
     "output_type": "stream",
     "text": [
      "\r",
      " 13%|██████████▎                                                                  | 208/1550 [14:04<1:25:28,  3.82s/it]"
     ]
    },
    {
     "name": "stdout",
     "output_type": "stream",
     "text": [
      "Visit the fanideaz Store\n",
      "['Clothing & Accessories', 'Men', 'T-Shirts & Polos', 'T-Shirts']\n",
      "208\n",
      "https://www.amazon.in/dp/B09Z78FQNX\n",
      "Brand: Levi's\n"
     ]
    },
    {
     "name": "stderr",
     "output_type": "stream",
     "text": [
      "\r",
      " 13%|██████████▍                                                                  | 209/1550 [14:08<1:26:00,  3.85s/it]"
     ]
    },
    {
     "name": "stdout",
     "output_type": "stream",
     "text": [
      "['Fashion', 'Men apparel trends', 'Logo', 'Logo topwear', 'Logo t-shirts & vest', 'Logo T-shirts']\n",
      "209\n",
      "https://www.amazon.in/dp/B09MZ6TK5Q\n",
      "Brand: Levi's\n"
     ]
    },
    {
     "name": "stderr",
     "output_type": "stream",
     "text": [
      "\r",
      " 14%|██████████▍                                                                  | 210/1550 [14:12<1:27:45,  3.93s/it]"
     ]
    },
    {
     "name": "stdout",
     "output_type": "stream",
     "text": [
      "['Fashion', 'Apparel Steal Deals', 'Apparel_1', 'Men', 'Polos & T-Shirts - Min 50% Off']\n",
      "210\n",
      "https://www.amazon.in/dp/B0C6QWVXY1\n"
     ]
    },
    {
     "name": "stderr",
     "output_type": "stream",
     "text": [
      "\r",
      " 14%|██████████▍                                                                  | 211/1550 [14:15<1:27:07,  3.90s/it]"
     ]
    },
    {
     "name": "stdout",
     "output_type": "stream",
     "text": [
      "Brand: Levi's\n",
      "['Clothing & Accessories', 'Men', 'T-Shirts & Polos', 'T-Shirts']\n",
      "211\n",
      "https://www.amazon.in/dp/B0C6QTFP8T\n"
     ]
    },
    {
     "name": "stderr",
     "output_type": "stream",
     "text": [
      "\r",
      " 14%|██████████▌                                                                  | 212/1550 [14:19<1:26:12,  3.87s/it]"
     ]
    },
    {
     "name": "stdout",
     "output_type": "stream",
     "text": [
      "Brand: Levi's\n",
      "['Clothing & Accessories', 'Men', 'T-Shirts & Polos', 'T-Shirts']\n",
      "212\n",
      "https://www.amazon.in/dp/B09QGVSHDX\n"
     ]
    },
    {
     "name": "stderr",
     "output_type": "stream",
     "text": [
      "\r",
      " 14%|██████████▌                                                                  | 213/1550 [14:23<1:24:20,  3.78s/it]"
     ]
    },
    {
     "name": "stdout",
     "output_type": "stream",
     "text": [
      "Brand: Levi's\n",
      "['Fashion', 'Apparel Steal Deals', 'Apparel_1', 'Men', 'Polos & T-Shirts - Min 50% Off']\n",
      "213\n",
      "https://www.amazon.in/dp/B0C6QY2YJF\n",
      "Brand: Levi's\n"
     ]
    },
    {
     "name": "stderr",
     "output_type": "stream",
     "text": [
      "\r",
      " 14%|██████████▋                                                                  | 214/1550 [14:27<1:25:16,  3.83s/it]"
     ]
    },
    {
     "name": "stdout",
     "output_type": "stream",
     "text": [
      "['Clothing & Accessories', 'Men', 'T-Shirts & Polos', 'T-Shirts']\n",
      "214\n",
      "https://www.amazon.in/dp/B0BJZHHWWS\n"
     ]
    },
    {
     "name": "stderr",
     "output_type": "stream",
     "text": [
      "\r",
      " 14%|██████████▋                                                                  | 215/1550 [14:30<1:22:59,  3.73s/it]"
     ]
    },
    {
     "name": "stdout",
     "output_type": "stream",
     "text": [
      "Brand: Levi's\n",
      "['Clothing & Accessories', 'Men', 'T-Shirts & Polos', 'T-Shirts']\n",
      "215\n",
      "https://www.amazon.in/dp/B0BJZN1N8T\n",
      "Brand: Levi's\n"
     ]
    },
    {
     "name": "stderr",
     "output_type": "stream",
     "text": [
      "\r",
      " 14%|██████████▋                                                                  | 216/1550 [14:35<1:26:11,  3.88s/it]"
     ]
    },
    {
     "name": "stdout",
     "output_type": "stream",
     "text": [
      "['Clothing & Accessories', 'Men', 'T-Shirts & Polos', 'T-Shirts']\n",
      "216\n",
      "https://www.amazon.in/dp/B0BJZVNJHQ\n",
      "Brand: Levi's\n"
     ]
    },
    {
     "name": "stderr",
     "output_type": "stream",
     "text": [
      "\r",
      " 14%|██████████▊                                                                  | 217/1550 [14:38<1:25:53,  3.87s/it]"
     ]
    },
    {
     "name": "stdout",
     "output_type": "stream",
     "text": [
      "['Fashion', 'Men apparel trends', 'Logo', 'Logo topwear', 'Logo t-shirts & vest', 'Logo T-shirts']\n",
      "217\n",
      "https://www.amazon.in/dp/B0C6QTGF7P\n",
      "Brand: Levi's\n"
     ]
    },
    {
     "name": "stderr",
     "output_type": "stream",
     "text": [
      "\r",
      " 14%|██████████▊                                                                  | 218/1550 [14:42<1:25:36,  3.86s/it]"
     ]
    },
    {
     "name": "stdout",
     "output_type": "stream",
     "text": [
      "['Clothing & Accessories', 'Men', 'T-Shirts & Polos', 'T-Shirts']\n",
      "218\n",
      "https://www.amazon.in/dp/B0C6QWSCLB\n"
     ]
    },
    {
     "name": "stderr",
     "output_type": "stream",
     "text": [
      "\r",
      " 14%|██████████▉                                                                  | 219/1550 [14:46<1:26:30,  3.90s/it]"
     ]
    },
    {
     "name": "stdout",
     "output_type": "stream",
     "text": [
      "Brand: Levi's\n",
      "['Clothing & Accessories', 'Men', 'T-Shirts & Polos', 'Polos']\n",
      "219\n",
      "https://www.amazon.in/dp/B0C4PQPHJQ\n",
      "Brand: Levi's\n"
     ]
    },
    {
     "name": "stderr",
     "output_type": "stream",
     "text": [
      "\r",
      " 14%|██████████▉                                                                  | 220/1550 [14:50<1:26:07,  3.89s/it]"
     ]
    },
    {
     "name": "stdout",
     "output_type": "stream",
     "text": [
      "['Clothing & Accessories', 'Men', 'T-Shirts & Polos', 'T-Shirts']\n",
      "220\n",
      "https://www.amazon.in/dp/B09RSNFC3F\n",
      "Brand: Levi's\n"
     ]
    },
    {
     "name": "stderr",
     "output_type": "stream",
     "text": [
      "\r",
      " 14%|██████████▉                                                                  | 221/1550 [14:54<1:25:48,  3.87s/it]"
     ]
    },
    {
     "name": "stdout",
     "output_type": "stream",
     "text": [
      "['Fashion', 'Apparel Steal Deals', 'Apparel_1', 'Men', 'Polos & T-Shirts - Min 50% Off']\n",
      "221\n",
      "https://www.amazon.in/dp/B0C6QVMNXY\n"
     ]
    },
    {
     "name": "stderr",
     "output_type": "stream",
     "text": [
      "\r",
      " 14%|███████████                                                                  | 222/1550 [14:58<1:27:37,  3.96s/it]"
     ]
    },
    {
     "name": "stdout",
     "output_type": "stream",
     "text": [
      "Brand: Levi's\n",
      "['Clothing & Accessories', 'Men', 'T-Shirts & Polos', 'T-Shirts']\n",
      "222\n",
      "https://www.amazon.in/dp/B0C6QV95KX\n"
     ]
    },
    {
     "name": "stderr",
     "output_type": "stream",
     "text": [
      "\r",
      " 14%|███████████                                                                  | 223/1550 [15:02<1:28:03,  3.98s/it]"
     ]
    },
    {
     "name": "stdout",
     "output_type": "stream",
     "text": [
      "Brand: Levi's\n",
      "['Clothing & Accessories', 'Men', 'T-Shirts & Polos', 'T-Shirts']\n",
      "223\n",
      "https://www.amazon.in/dp/B0BX6ZPLQV\n"
     ]
    },
    {
     "name": "stderr",
     "output_type": "stream",
     "text": [
      "\r",
      " 14%|███████████▏                                                                 | 224/1550 [15:05<1:23:03,  3.76s/it]"
     ]
    },
    {
     "name": "stdout",
     "output_type": "stream",
     "text": [
      "Brand: Levi's\n",
      "['Clothing & Accessories', 'Men', 'T-Shirts & Polos', 'T-Shirts']\n",
      "224\n",
      "https://www.amazon.in/dp/B0BJZDJ2BS\n"
     ]
    },
    {
     "name": "stderr",
     "output_type": "stream",
     "text": [
      "\r",
      " 15%|███████████▏                                                                 | 225/1550 [15:10<1:25:58,  3.89s/it]"
     ]
    },
    {
     "name": "stdout",
     "output_type": "stream",
     "text": [
      "Brand: Levi's\n",
      "['Clothing & Accessories', 'Men', 'T-Shirts & Polos', 'T-Shirts']\n",
      "225\n",
      "https://www.amazon.in/dp/B09RSZ11FK\n",
      "Brand: Levi's\n"
     ]
    },
    {
     "name": "stderr",
     "output_type": "stream",
     "text": [
      "\r",
      " 15%|███████████▏                                                                 | 226/1550 [15:13<1:26:18,  3.91s/it]"
     ]
    },
    {
     "name": "stdout",
     "output_type": "stream",
     "text": [
      "['Fashion', 'Apparel Steal Deals', 'Apparel_1', 'Men', 'Polos & T-Shirts - Min 50% Off']\n",
      "226\n",
      "https://www.amazon.in/dp/B09BFYB44R\n"
     ]
    },
    {
     "name": "stderr",
     "output_type": "stream",
     "text": [
      "\r",
      " 15%|███████████▎                                                                 | 227/1550 [15:17<1:24:44,  3.84s/it]"
     ]
    },
    {
     "name": "stdout",
     "output_type": "stream",
     "text": [
      "Brand: Levi's\n",
      "['Clothing & Accessories', 'Men', 'T-Shirts & Polos', 'T-Shirts']\n",
      "227\n",
      "https://www.amazon.in/dp/B0BX71KZYH\n"
     ]
    },
    {
     "name": "stderr",
     "output_type": "stream",
     "text": [
      "\r",
      " 15%|███████████▎                                                                 | 228/1550 [15:22<1:27:53,  3.99s/it]"
     ]
    },
    {
     "name": "stdout",
     "output_type": "stream",
     "text": [
      "Brand: Levi's\n",
      "['Clothing & Accessories', 'Men', 'T-Shirts & Polos', 'T-Shirts']\n",
      "228\n",
      "https://www.amazon.in/dp/B0BSNF8HS1\n"
     ]
    },
    {
     "name": "stderr",
     "output_type": "stream",
     "text": [
      "\r",
      " 15%|███████████▍                                                                 | 229/1550 [15:26<1:29:56,  4.09s/it]"
     ]
    },
    {
     "name": "stdout",
     "output_type": "stream",
     "text": [
      "Visit the Red Tape Store\n",
      "['Clothing & Accessories', 'Men', 'T-Shirts & Polos', 'T-Shirts']\n",
      "229\n",
      "https://www.amazon.in/dp/B0B4X138FW\n",
      "Brand: Max\n"
     ]
    },
    {
     "name": "stderr",
     "output_type": "stream",
     "text": [
      "\r",
      " 15%|███████████▍                                                                 | 230/1550 [15:29<1:27:05,  3.96s/it]"
     ]
    },
    {
     "name": "stdout",
     "output_type": "stream",
     "text": [
      "['Clothing & Accessories', 'Women', 'Western Wear', 'Tops, T-Shirts & Shirts', 'T-Shirts']\n",
      "230\n",
      "https://www.amazon.in/dp/B0BR3WQWDL\n",
      "Visit the Kuchipoo Store\n"
     ]
    },
    {
     "name": "stderr",
     "output_type": "stream",
     "text": [
      "\r",
      " 15%|███████████▍                                                                 | 231/1550 [15:33<1:27:17,  3.97s/it]"
     ]
    },
    {
     "name": "stdout",
     "output_type": "stream",
     "text": [
      "['Clothing & Accessories', 'Boys', 'Sportswear', 'Trousers', 'Track Pants']\n",
      "231\n",
      "https://www.amazon.in/dp/B0BX343YYS\n",
      "Brand: Jockey\n"
     ]
    },
    {
     "name": "stderr",
     "output_type": "stream",
     "text": [
      "\r",
      " 15%|███████████▌                                                                 | 232/1550 [15:37<1:26:17,  3.93s/it]"
     ]
    },
    {
     "name": "stdout",
     "output_type": "stream",
     "text": [
      "['Clothing & Accessories', 'Women', 'Western Wear', 'Tops, T-Shirts & Shirts', 'T-Shirts']\n",
      "232\n",
      "https://www.amazon.in/dp/B0BY2XG5SM\n",
      "Visit the Amazon Brand - Symbol Store\n"
     ]
    },
    {
     "name": "stderr",
     "output_type": "stream",
     "text": [
      "\r",
      " 15%|███████████▌                                                                 | 233/1550 [15:41<1:27:50,  4.00s/it]"
     ]
    },
    {
     "name": "stdout",
     "output_type": "stream",
     "text": [
      "['Fashion', 'Made for Amazon brands', 'All SPB apparel', 'FD', 'Symbol']\n",
      "233\n",
      "https://www.amazon.in/dp/B0BYZ4K6YD\n",
      "Brand: Leriya Fashion\n"
     ]
    },
    {
     "name": "stderr",
     "output_type": "stream",
     "text": [
      "\r",
      " 15%|███████████▌                                                                 | 234/1550 [15:46<1:28:55,  4.05s/it]"
     ]
    },
    {
     "name": "stdout",
     "output_type": "stream",
     "text": [
      "['Clothing & Accessories', 'Men', 'Shirts', 'Casual Shirts']\n",
      "234\n",
      "https://www.amazon.in/dp/B0BHL9T7BG\n",
      "Brand: Lacoste\n"
     ]
    },
    {
     "name": "stderr",
     "output_type": "stream",
     "text": [
      "\r",
      " 15%|███████████▋                                                                 | 235/1550 [15:49<1:26:12,  3.93s/it]"
     ]
    },
    {
     "name": "stdout",
     "output_type": "stream",
     "text": [
      "['Clothing & Accessories', 'Men', 'T-Shirts & Polos', 'T-Shirts']\n",
      "235\n",
      "https://www.amazon.in/dp/B0BXL9SJYP\n"
     ]
    },
    {
     "name": "stderr",
     "output_type": "stream",
     "text": [
      "\r",
      " 15%|███████████▋                                                                 | 236/1550 [15:53<1:23:30,  3.81s/it]"
     ]
    },
    {
     "name": "stdout",
     "output_type": "stream",
     "text": [
      "Visit the Red Tape Store\n",
      "['Clothing & Accessories', 'Men', 'Shirts', 'Casual Shirts']\n",
      "236\n",
      "https://www.amazon.in/dp/B0C1736R9D\n"
     ]
    },
    {
     "name": "stderr",
     "output_type": "stream",
     "text": [
      "\r",
      " 15%|███████████▊                                                                 | 237/1550 [15:56<1:20:52,  3.70s/it]"
     ]
    },
    {
     "name": "stdout",
     "output_type": "stream",
     "text": [
      "Visit the GRECIILOOKS Store\n",
      "['Clothing & Accessories', 'Men', 'Shirts', 'Casual Shirts']\n",
      "237\n",
      "https://www.amazon.in/dp/B0B86NS9B6\n",
      "Brand: Max\n"
     ]
    },
    {
     "name": "stderr",
     "output_type": "stream",
     "text": [
      "\r",
      " 15%|███████████▊                                                                 | 238/1550 [16:00<1:22:06,  3.76s/it]"
     ]
    },
    {
     "name": "stdout",
     "output_type": "stream",
     "text": [
      "['Clothing & Accessories', 'Men', 'T-Shirts & Polos', 'T-Shirts']\n",
      "238\n",
      "https://www.amazon.in/dp/B0BSNGVPFM\n",
      "Visit the Red Tape Store\n"
     ]
    },
    {
     "name": "stderr",
     "output_type": "stream",
     "text": [
      "\r",
      " 15%|███████████▊                                                                 | 239/1550 [16:05<1:29:16,  4.09s/it]"
     ]
    },
    {
     "name": "stdout",
     "output_type": "stream",
     "text": [
      "['Clothing & Accessories', 'Men', 'T-Shirts & Polos', 'T-Shirts']\n",
      "239\n",
      "https://www.amazon.in/dp/B0BSNDPD1K\n"
     ]
    },
    {
     "name": "stderr",
     "output_type": "stream",
     "text": [
      "\r",
      " 15%|███████████▉                                                                 | 240/1550 [16:09<1:26:07,  3.94s/it]"
     ]
    },
    {
     "name": "stdout",
     "output_type": "stream",
     "text": [
      "Visit the Red Tape Store\n",
      "['Clothing & Accessories', 'Men', 'T-Shirts & Polos', 'T-Shirts']\n",
      "240\n",
      "https://www.amazon.in/dp/B0BHW84BMN\n",
      "Brand: Peter England\n"
     ]
    },
    {
     "name": "stderr",
     "output_type": "stream",
     "text": [
      "\r",
      " 16%|███████████▉                                                                 | 241/1550 [16:13<1:26:09,  3.95s/it]"
     ]
    },
    {
     "name": "stdout",
     "output_type": "stream",
     "text": [
      "['Clothing & Accessories', 'Men', 'Shirts', 'Formal Shirts']\n",
      "241\n",
      "https://www.amazon.in/dp/B0C1S7QGWX\n"
     ]
    },
    {
     "name": "stderr",
     "output_type": "stream",
     "text": [
      "\r",
      " 16%|████████████                                                                 | 242/1550 [16:16<1:25:29,  3.92s/it]"
     ]
    },
    {
     "name": "stdout",
     "output_type": "stream",
     "text": [
      "Visit the LEOTUDE Store\n",
      "['Clothing & Accessories', 'Men', 'T-Shirts & Polos', 'T-Shirts']\n",
      "242\n",
      "https://www.amazon.in/dp/B09H32R8DY\n"
     ]
    },
    {
     "name": "stderr",
     "output_type": "stream",
     "text": [
      "\r",
      " 16%|████████████                                                                 | 243/1550 [16:20<1:22:29,  3.79s/it]"
     ]
    },
    {
     "name": "stdout",
     "output_type": "stream",
     "text": [
      "Brand: Lacoste\n",
      "['Clothing & Accessories', 'Men', 'T-Shirts & Polos', 'T-Shirts']\n",
      "243\n",
      "https://www.amazon.in/dp/B0BHWMFTDD\n"
     ]
    },
    {
     "name": "stderr",
     "output_type": "stream",
     "text": [
      "\r",
      " 16%|████████████                                                                 | 244/1550 [16:23<1:20:09,  3.68s/it]"
     ]
    },
    {
     "name": "stdout",
     "output_type": "stream",
     "text": [
      "Brand: Peter England\n",
      "['Clothing & Accessories', 'Men', 'Shirts', 'Formal Shirts']\n",
      "244\n",
      "https://www.amazon.in/dp/B0CBMCKBXP\n"
     ]
    },
    {
     "name": "stderr",
     "output_type": "stream",
     "text": [
      "\r",
      " 16%|████████████▏                                                                | 245/1550 [16:27<1:19:15,  3.64s/it]"
     ]
    },
    {
     "name": "stdout",
     "output_type": "stream",
     "text": [
      "Brand: Peter England\n",
      "['Clothing & Accessories', 'Men', 'T-Shirts & Polos', 'T-Shirts']\n",
      "245\n",
      "https://www.amazon.in/dp/B0C6QTKC9D\n"
     ]
    },
    {
     "name": "stderr",
     "output_type": "stream",
     "text": [
      "\r",
      " 16%|████████████▏                                                                | 246/1550 [16:31<1:23:58,  3.86s/it]"
     ]
    },
    {
     "name": "stdout",
     "output_type": "stream",
     "text": [
      "Brand: Levi's\n",
      "['Clothing & Accessories', 'Men', 'T-Shirts & Polos', 'Polos']\n",
      "246\n",
      "https://www.amazon.in/dp/B09BG49YRM\n"
     ]
    },
    {
     "name": "stderr",
     "output_type": "stream",
     "text": [
      "\r",
      " 16%|████████████▎                                                                | 247/1550 [16:35<1:22:43,  3.81s/it]"
     ]
    },
    {
     "name": "stdout",
     "output_type": "stream",
     "text": [
      "Brand: Levi's\n",
      "['Clothing & Accessories', 'Men', 'T-Shirts & Polos', 'T-Shirts']\n",
      "247\n",
      "https://www.amazon.in/dp/B0BJZZGBS1\n",
      "Brand: Levi's\n"
     ]
    },
    {
     "name": "stderr",
     "output_type": "stream",
     "text": [
      "\r",
      " 16%|████████████▎                                                                | 248/1550 [16:38<1:20:12,  3.70s/it]"
     ]
    },
    {
     "name": "stdout",
     "output_type": "stream",
     "text": [
      "['Clothing & Accessories', 'Men', 'T-Shirts & Polos', 'T-Shirts']\n",
      "248\n",
      "https://www.amazon.in/dp/B07XK7K7BC\n",
      "Brand: Levi's\n"
     ]
    },
    {
     "name": "stderr",
     "output_type": "stream",
     "text": [
      "\r",
      " 16%|████████████▎                                                                | 249/1550 [16:42<1:21:54,  3.78s/it]"
     ]
    },
    {
     "name": "stdout",
     "output_type": "stream",
     "text": [
      "['Fashion', 'Apparel Steal Deals', 'Apparel_1', 'Men', 'Polos & T-Shirts - Min 50% Off']\n",
      "249\n",
      "https://www.amazon.in/dp/B0BJZLND78\n"
     ]
    },
    {
     "name": "stderr",
     "output_type": "stream",
     "text": [
      "\r",
      " 16%|████████████▍                                                                | 250/1550 [16:46<1:19:42,  3.68s/it]"
     ]
    },
    {
     "name": "stdout",
     "output_type": "stream",
     "text": [
      "Brand: Levi's\n",
      "['Clothing & Accessories', 'Men', 'T-Shirts & Polos', 'T-Shirts']\n",
      "250\n",
      "https://www.amazon.in/dp/B0C6QVNC6N\n"
     ]
    },
    {
     "name": "stderr",
     "output_type": "stream",
     "text": [
      "\r",
      " 16%|████████████▍                                                                | 251/1550 [16:51<1:28:52,  4.11s/it]"
     ]
    },
    {
     "name": "stdout",
     "output_type": "stream",
     "text": [
      "Brand: Levi's\n",
      "['Clothing & Accessories', 'Men', 'T-Shirts & Polos', 'Polos']\n",
      "251\n",
      "https://www.amazon.in/dp/B0C6QX86SV\n"
     ]
    },
    {
     "name": "stderr",
     "output_type": "stream",
     "text": [
      "\r",
      " 16%|████████████▌                                                                | 252/1550 [16:54<1:25:19,  3.94s/it]"
     ]
    },
    {
     "name": "stdout",
     "output_type": "stream",
     "text": [
      "Brand: Levi's\n",
      "['Clothing & Accessories', 'Men', 'T-Shirts & Polos', 'T-Shirts']\n",
      "252\n",
      "https://www.amazon.in/dp/B09MZ7FY8P\n",
      "Brand: Levi's\n",
      "['Fashion', 'Apparel Steal Deals', 'Apparel_1', 'Men', 'Polos & T-Shirts - Min 50% Off']\n"
     ]
    },
    {
     "name": "stderr",
     "output_type": "stream",
     "text": [
      "\r",
      " 16%|████████████▌                                                                | 253/1550 [16:58<1:21:50,  3.79s/it]"
     ]
    },
    {
     "name": "stdout",
     "output_type": "stream",
     "text": [
      "253\n",
      "https://www.amazon.in/dp/B0C6QVTB6P\n",
      "Brand: Levi's\n"
     ]
    },
    {
     "name": "stderr",
     "output_type": "stream",
     "text": [
      "\r",
      " 16%|████████████▌                                                                | 254/1550 [17:01<1:20:04,  3.71s/it]"
     ]
    },
    {
     "name": "stdout",
     "output_type": "stream",
     "text": [
      "['Clothing & Accessories', 'Men', 'T-Shirts & Polos', 'T-Shirts']\n",
      "254\n",
      "https://www.amazon.in/dp/B0BJYVRFPJ\n"
     ]
    },
    {
     "name": "stderr",
     "output_type": "stream",
     "text": [
      "\r",
      " 16%|████████████▋                                                                | 255/1550 [17:05<1:17:27,  3.59s/it]"
     ]
    },
    {
     "name": "stdout",
     "output_type": "stream",
     "text": [
      "Brand: Levi's\n",
      "['Clothing & Accessories', 'Men', 'T-Shirts & Polos', 'Polos']\n",
      "255\n",
      "https://www.amazon.in/dp/B09Z79HVYW\n",
      "Brand: Levi's\n"
     ]
    },
    {
     "name": "stderr",
     "output_type": "stream",
     "text": [
      "\r",
      " 17%|████████████▋                                                                | 256/1550 [17:09<1:24:42,  3.93s/it]"
     ]
    },
    {
     "name": "stdout",
     "output_type": "stream",
     "text": [
      "['Clothing & Accessories', 'Men', 'Winter Wear', 'Sweatshirts & Hoodies', 'Sweatshirts']\n",
      "256\n",
      "https://www.amazon.in/dp/B0C6QW731Q\n"
     ]
    },
    {
     "name": "stderr",
     "output_type": "stream",
     "text": [
      "\r",
      " 17%|████████████▊                                                                | 257/1550 [17:13<1:25:18,  3.96s/it]"
     ]
    },
    {
     "name": "stdout",
     "output_type": "stream",
     "text": [
      "Brand: Levi's\n",
      "['Clothing & Accessories', 'Men', 'T-Shirts & Polos', 'Polos']\n",
      "257\n",
      "https://www.amazon.in/dp/B09RSCB4W2\n"
     ]
    },
    {
     "name": "stderr",
     "output_type": "stream",
     "text": [
      "\r",
      " 17%|████████████▊                                                                | 258/1550 [17:17<1:24:04,  3.90s/it]"
     ]
    },
    {
     "name": "stdout",
     "output_type": "stream",
     "text": [
      "Brand: Levi's\n",
      "['Fashion', 'Apparel Steal Deals', 'Apparel_1', 'Men', 'T-Shirts & Polos under 699']\n",
      "258\n",
      "https://www.amazon.in/dp/B0C6QWMLRY\n",
      "Brand: Levi's\n",
      "['Clothing & Accessories', 'Men', 'T-Shirts & Polos', 'Polos']\n"
     ]
    },
    {
     "name": "stderr",
     "output_type": "stream",
     "text": [
      "\r",
      " 17%|████████████▊                                                                | 259/1550 [17:21<1:21:22,  3.78s/it]"
     ]
    },
    {
     "name": "stdout",
     "output_type": "stream",
     "text": [
      "259\n",
      "https://www.amazon.in/dp/B0B4SZMJPN\n"
     ]
    },
    {
     "name": "stderr",
     "output_type": "stream",
     "text": [
      "\r",
      " 17%|████████████▉                                                                | 260/1550 [17:26<1:28:05,  4.10s/it]"
     ]
    },
    {
     "name": "stdout",
     "output_type": "stream",
     "text": [
      "Brand: Levi's\n",
      "['Clothing & Accessories', 'Men', 'T-Shirts & Polos', 'Polos']\n",
      "260\n",
      "https://www.amazon.in/dp/B07XGJYS1G\n",
      "Brand: Levi's\n"
     ]
    },
    {
     "name": "stderr",
     "output_type": "stream",
     "text": [
      "\r",
      " 17%|████████████▉                                                                | 261/1550 [17:30<1:28:30,  4.12s/it]"
     ]
    },
    {
     "name": "stdout",
     "output_type": "stream",
     "text": [
      "['Clothing & Accessories', 'Men', 'T-Shirts & Polos', 'T-Shirts']\n",
      "261\n",
      "https://www.amazon.in/dp/B09RSP48FV\n",
      "Brand: Levi's\n"
     ]
    },
    {
     "name": "stderr",
     "output_type": "stream",
     "text": [
      "\r",
      " 17%|█████████████                                                                | 262/1550 [17:34<1:27:15,  4.06s/it]"
     ]
    },
    {
     "name": "stdout",
     "output_type": "stream",
     "text": [
      "['Fashion', 'Apparel Steal Deals', 'Apparel_1', 'Men', 'Polos & T-Shirts - Min 50% Off']\n",
      "262\n",
      "https://www.amazon.in/dp/B0BJZXJ6BS\n",
      "Brand: Levi's\n"
     ]
    },
    {
     "name": "stderr",
     "output_type": "stream",
     "text": [
      "\r",
      " 17%|█████████████                                                                | 263/1550 [17:38<1:25:52,  4.00s/it]"
     ]
    },
    {
     "name": "stdout",
     "output_type": "stream",
     "text": [
      "['Clothing & Accessories', 'Men', 'T-Shirts & Polos', 'T-Shirts']\n",
      "263\n",
      "https://www.amazon.in/dp/B0BX6Y8Q43\n"
     ]
    },
    {
     "name": "stderr",
     "output_type": "stream",
     "text": [
      "\r",
      " 17%|█████████████                                                                | 264/1550 [17:41<1:21:51,  3.82s/it]"
     ]
    },
    {
     "name": "stdout",
     "output_type": "stream",
     "text": [
      "Brand: Levi's\n",
      "['Clothing & Accessories', 'Men', 'T-Shirts & Polos', 'T-Shirts']\n",
      "264\n",
      "https://www.amazon.in/dp/B0C6QRM688\n"
     ]
    },
    {
     "name": "stderr",
     "output_type": "stream",
     "text": [
      "\r",
      " 17%|█████████████▏                                                               | 265/1550 [17:45<1:20:42,  3.77s/it]"
     ]
    },
    {
     "name": "stdout",
     "output_type": "stream",
     "text": [
      "Brand: Levi's\n",
      "['Clothing & Accessories', 'Men', 'T-Shirts & Polos', 'T-Shirts']\n",
      "265\n",
      "https://www.amazon.in/dp/B09RSLBDGB\n",
      "Brand: Levi's\n"
     ]
    },
    {
     "name": "stderr",
     "output_type": "stream",
     "text": [
      "\r",
      " 17%|█████████████▏                                                               | 266/1550 [17:48<1:19:25,  3.71s/it]"
     ]
    },
    {
     "name": "stdout",
     "output_type": "stream",
     "text": [
      "['Fashion', 'Apparel Steal Deals', 'Apparel_1', 'Men', 'Polos & T-Shirts - Min 50% Off']\n",
      "266\n",
      "https://www.amazon.in/dp/B0B4SY543Y\n"
     ]
    },
    {
     "name": "stderr",
     "output_type": "stream",
     "text": [
      "\r",
      " 17%|█████████████▎                                                               | 267/1550 [17:52<1:21:46,  3.82s/it]"
     ]
    },
    {
     "name": "stdout",
     "output_type": "stream",
     "text": [
      "Brand: Levi's\n",
      "['Clothing & Accessories', 'Men', 'T-Shirts & Polos', 'Polos']\n",
      "267\n",
      "https://www.amazon.in/dp/B07XK9DWNL\n"
     ]
    },
    {
     "name": "stderr",
     "output_type": "stream",
     "text": [
      "\r",
      " 17%|█████████████▎                                                               | 268/1550 [17:56<1:21:53,  3.83s/it]"
     ]
    },
    {
     "name": "stdout",
     "output_type": "stream",
     "text": [
      "Brand: Levi's\n",
      "['Clothing & Accessories', 'Men', 'T-Shirts & Polos', 'T-Shirts']\n",
      "268\n",
      "https://www.amazon.in/dp/B09Z7726DM\n",
      "Brand: Levi's\n"
     ]
    },
    {
     "name": "stderr",
     "output_type": "stream",
     "text": [
      "\r",
      " 17%|█████████████▎                                                               | 269/1550 [18:00<1:19:48,  3.74s/it]"
     ]
    },
    {
     "name": "stdout",
     "output_type": "stream",
     "text": [
      "['Fashion', 'Apparel Steal Deals', 'Apparel_1', 'Men', 'Polos & T-Shirts - Min 50% Off']\n",
      "269\n",
      "https://www.amazon.in/dp/B0C4PS1W73\n"
     ]
    },
    {
     "name": "stderr",
     "output_type": "stream",
     "text": [
      "\r",
      " 17%|█████████████▍                                                               | 270/1550 [18:03<1:18:55,  3.70s/it]"
     ]
    },
    {
     "name": "stdout",
     "output_type": "stream",
     "text": [
      "Brand: Levi's\n",
      "['Clothing & Accessories', 'Men', 'T-Shirts & Polos', 'T-Shirts']\n",
      "270\n",
      "https://www.amazon.in/dp/B0BX72SX79\n"
     ]
    },
    {
     "name": "stderr",
     "output_type": "stream",
     "text": [
      "\r",
      " 17%|█████████████▍                                                               | 271/1550 [18:07<1:18:56,  3.70s/it]"
     ]
    },
    {
     "name": "stdout",
     "output_type": "stream",
     "text": [
      "Brand: Levi's\n",
      "['Clothing & Accessories', 'Men', 'T-Shirts & Polos', 'Polos']\n",
      "271\n",
      "https://www.amazon.in/dp/B09RSQY7G7\n"
     ]
    },
    {
     "name": "stderr",
     "output_type": "stream",
     "text": [
      "\r",
      " 18%|█████████████▌                                                               | 272/1550 [18:11<1:18:46,  3.70s/it]"
     ]
    },
    {
     "name": "stdout",
     "output_type": "stream",
     "text": [
      "Brand: Levi's\n",
      "['Clothing & Accessories', 'Men', 'T-Shirts & Polos', 'Polos']\n",
      "272\n",
      "https://www.amazon.in/dp/B076CRKX1P\n",
      "Visit the Van Heusen Store\n"
     ]
    },
    {
     "name": "stderr",
     "output_type": "stream",
     "text": [
      "\r",
      " 18%|█████████████▌                                                               | 273/1550 [18:15<1:20:13,  3.77s/it]"
     ]
    },
    {
     "name": "stdout",
     "output_type": "stream",
     "text": [
      "['Fashion', 'Apparel Steal Deals', 'Apparel_1', 'Men', \"Men's Bestsellers\"]\n",
      "273\n",
      "https://www.amazon.in/dp/B01LASX4MQ\n"
     ]
    },
    {
     "name": "stderr",
     "output_type": "stream",
     "text": [
      "\r",
      " 18%|█████████████▌                                                               | 274/1550 [18:19<1:26:04,  4.05s/it]"
     ]
    },
    {
     "name": "stdout",
     "output_type": "stream",
     "text": [
      "Visit the Jockey Store\n",
      "['Clothing & Accessories', 'Men', 'T-Shirts & Polos', 'Polos']\n",
      "274\n",
      "https://www.amazon.in/dp/B0C3V4Y1SZ\n"
     ]
    },
    {
     "name": "stderr",
     "output_type": "stream",
     "text": [
      "\r",
      " 18%|█████████████▋                                                               | 275/1550 [18:24<1:27:20,  4.11s/it]"
     ]
    },
    {
     "name": "stdout",
     "output_type": "stream",
     "text": [
      "Visit the EYEBOGLER Store\n",
      "['Clothing & Accessories', 'Men', 'T-Shirts & Polos', 'Polos']\n",
      "275\n",
      "https://www.amazon.in/dp/B07RBYS3N3\n"
     ]
    },
    {
     "name": "stderr",
     "output_type": "stream",
     "text": [
      "\r",
      " 18%|█████████████▋                                                               | 276/1550 [18:27<1:25:59,  4.05s/it]"
     ]
    },
    {
     "name": "stdout",
     "output_type": "stream",
     "text": [
      "Visit the Van Heusen Store\n",
      "['Clothing & Accessories', 'Men', 'T-Shirts & Polos', 'Polos']\n",
      "276\n",
      "https://www.amazon.in/dp/B07QM6M6FV\n"
     ]
    },
    {
     "name": "stderr",
     "output_type": "stream",
     "text": [
      "\r",
      " 18%|█████████████▊                                                               | 277/1550 [18:31<1:25:05,  4.01s/it]"
     ]
    },
    {
     "name": "stdout",
     "output_type": "stream",
     "text": [
      "Visit the Van Heusen Store\n",
      "['Clothing & Accessories', 'Men', 'T-Shirts & Polos', 'Polos']\n",
      "277\n",
      "https://www.amazon.in/dp/B08KTXPYD5\n",
      "Brand: Allen Solly\n"
     ]
    },
    {
     "name": "stderr",
     "output_type": "stream",
     "text": [
      "\r",
      " 18%|█████████████▊                                                               | 278/1550 [18:35<1:24:26,  3.98s/it]"
     ]
    },
    {
     "name": "stdout",
     "output_type": "stream",
     "text": [
      "['Fashion', 'Apparel Steal Deals', 'Apparel_1', 'Men', 'Polos & T-Shirts - Min 50% Off']\n",
      "278\n",
      "https://www.amazon.in/dp/B0BXB3BRB9\n",
      "Visit the Alan Jones Clothing Store\n"
     ]
    },
    {
     "name": "stderr",
     "output_type": "stream",
     "text": [
      "\r",
      " 18%|█████████████▊                                                               | 279/1550 [18:40<1:26:49,  4.10s/it]"
     ]
    },
    {
     "name": "stdout",
     "output_type": "stream",
     "text": [
      "['Clothing & Accessories', 'Men', 'T-Shirts & Polos', 'Polos']\n",
      "279\n",
      "https://www.amazon.in/dp/B0C36ZZ4QH\n",
      "Visit the EYEBOGLER Store\n"
     ]
    },
    {
     "name": "stderr",
     "output_type": "stream",
     "text": [
      "\r",
      " 18%|█████████████▉                                                               | 280/1550 [18:43<1:23:47,  3.96s/it]"
     ]
    },
    {
     "name": "stdout",
     "output_type": "stream",
     "text": [
      "['Clothing & Accessories', 'Men', 'T-Shirts & Polos', 'Polos']\n",
      "280\n",
      "https://www.amazon.in/dp/B08RZ3VK2G\n"
     ]
    },
    {
     "name": "stderr",
     "output_type": "stream",
     "text": [
      "\r",
      " 18%|█████████████▉                                                               | 281/1550 [18:47<1:24:50,  4.01s/it]"
     ]
    },
    {
     "name": "stdout",
     "output_type": "stream",
     "text": [
      "Visit the Arrow Store\n",
      "['Clothing & Accessories', 'Men', 'T-Shirts & Polos', 'Polos']\n",
      "281\n",
      "https://www.amazon.in/dp/B0BNJ6BLC7\n",
      "Brand: LEOTUDE\n"
     ]
    },
    {
     "name": "stderr",
     "output_type": "stream",
     "text": [
      "\r",
      " 18%|██████████████                                                               | 282/1550 [18:51<1:23:48,  3.97s/it]"
     ]
    },
    {
     "name": "stdout",
     "output_type": "stream",
     "text": [
      "['Clothing & Accessories', 'Men', 'T-Shirts & Polos', 'Polos']\n",
      "282\n",
      "https://www.amazon.in/dp/B0BM4KGHLG\n"
     ]
    },
    {
     "name": "stderr",
     "output_type": "stream",
     "text": [
      "\r",
      " 18%|██████████████                                                               | 283/1550 [18:55<1:20:56,  3.83s/it]"
     ]
    },
    {
     "name": "stdout",
     "output_type": "stream",
     "text": [
      "Visit the EYEBOGLER Store\n",
      "['Clothing & Accessories', 'Men', 'T-Shirts & Polos', 'Polos']\n",
      "283\n",
      "https://www.amazon.in/dp/B09QHRDB82\n",
      "Visit the LEOTUDE Store\n"
     ]
    },
    {
     "name": "stderr",
     "output_type": "stream",
     "text": [
      "\r",
      " 18%|██████████████                                                               | 284/1550 [18:59<1:21:10,  3.85s/it]"
     ]
    },
    {
     "name": "stdout",
     "output_type": "stream",
     "text": [
      "['Clothing & Accessories', 'Men', 'T-Shirts & Polos', 'Polos']\n",
      "284\n",
      "https://www.amazon.in/dp/B0CBFRRF14\n"
     ]
    },
    {
     "name": "stderr",
     "output_type": "stream",
     "text": [
      "\r",
      " 18%|██████████████▏                                                              | 285/1550 [19:03<1:23:34,  3.96s/it]"
     ]
    },
    {
     "name": "stdout",
     "output_type": "stream",
     "text": [
      "Brand: U.S. POLO ASSN.\n",
      "['Clothing & Accessories', 'Men', 'T-Shirts & Polos', 'Polos']\n",
      "285\n",
      "https://www.amazon.in/dp/B08KCX6CQ7\n",
      "Visit the CHKOKKO Store\n",
      "['Clothing & Accessories', 'Men', 'T-Shirts & Polos', 'Polos']\n"
     ]
    },
    {
     "name": "stderr",
     "output_type": "stream",
     "text": [
      "\r",
      " 18%|██████████████▏                                                              | 286/1550 [19:07<1:23:19,  3.96s/it]"
     ]
    },
    {
     "name": "stdout",
     "output_type": "stream",
     "text": [
      "286\n",
      "https://www.amazon.in/dp/B0C3719P9X\n",
      "Visit the EYEBOGLER Store\n"
     ]
    },
    {
     "name": "stderr",
     "output_type": "stream",
     "text": [
      "\r",
      " 19%|██████████████▎                                                              | 287/1550 [19:11<1:22:05,  3.90s/it]"
     ]
    },
    {
     "name": "stdout",
     "output_type": "stream",
     "text": [
      "['Clothing & Accessories', 'Men', 'T-Shirts & Polos', 'Polos']\n",
      "287\n",
      "https://www.amazon.in/dp/B0C1RWS5NY\n"
     ]
    },
    {
     "name": "stderr",
     "output_type": "stream",
     "text": [
      "\r",
      " 19%|██████████████▎                                                              | 288/1550 [19:15<1:22:22,  3.92s/it]"
     ]
    },
    {
     "name": "stdout",
     "output_type": "stream",
     "text": [
      "Brand: Peter England\n",
      "['Clothing & Accessories', 'Men', 'T-Shirts & Polos', 'Polos']\n",
      "288\n",
      "https://www.amazon.in/dp/B08KTWG4VH\n",
      "Brand: Allen Solly\n"
     ]
    },
    {
     "name": "stderr",
     "output_type": "stream",
     "text": [
      "\r",
      " 19%|██████████████▎                                                              | 289/1550 [19:18<1:21:48,  3.89s/it]"
     ]
    },
    {
     "name": "stdout",
     "output_type": "stream",
     "text": [
      "['Fashion', 'Apparel Steal Deals', 'Apparel_1', 'Men', 'T-Shirts & Polos under 699']\n",
      "289\n",
      "https://www.amazon.in/dp/B08RZ3N2RH\n",
      "Brand: ARROW USA 1851\n"
     ]
    },
    {
     "name": "stderr",
     "output_type": "stream",
     "text": [
      "\r",
      " 19%|██████████████▍                                                              | 290/1550 [19:22<1:21:46,  3.89s/it]"
     ]
    },
    {
     "name": "stdout",
     "output_type": "stream",
     "text": [
      "['Clothing & Accessories', 'Men', 'T-Shirts & Polos', 'Polos']\n",
      "290\n",
      "https://www.amazon.in/dp/B0B1B9H5XN\n",
      "Visit the Veirdo Store\n"
     ]
    },
    {
     "name": "stderr",
     "output_type": "stream",
     "text": [
      "\r",
      " 19%|██████████████▍                                                              | 291/1550 [19:26<1:19:58,  3.81s/it]"
     ]
    },
    {
     "name": "stdout",
     "output_type": "stream",
     "text": [
      "['Fashion', 'The Plus Size Store', 'aug art- clothing ingress', 'new', 'men', 'men2']\n",
      "291\n",
      "https://www.amazon.in/dp/B08FBVWFT3\n",
      "Visit the Amazon Brand - Symbol Store\n"
     ]
    },
    {
     "name": "stderr",
     "output_type": "stream",
     "text": [
      "\r",
      " 19%|██████████████▌                                                              | 292/1550 [19:30<1:20:19,  3.83s/it]"
     ]
    },
    {
     "name": "stdout",
     "output_type": "stream",
     "text": [
      "['Fashion', 'Made for Amazon brands', 'All SPB apparel', 'FD', 'Symbol']\n",
      "292\n",
      "https://www.amazon.in/dp/B0BSRWS7C5\n",
      "Brand: Red Tape\n",
      "['Fashion', 'Next Gen store | Men', 'Shop by color', 'Earthy neutrals', 'Apparel']\n"
     ]
    },
    {
     "name": "stderr",
     "output_type": "stream",
     "text": [
      "\r",
      " 19%|██████████████▌                                                              | 293/1550 [19:34<1:20:17,  3.83s/it]"
     ]
    },
    {
     "name": "stdout",
     "output_type": "stream",
     "text": [
      "293\n",
      "https://www.amazon.in/dp/B0B312HZH6\n"
     ]
    },
    {
     "name": "stderr",
     "output_type": "stream",
     "text": [
      "\r",
      " 19%|██████████████▌                                                              | 294/1550 [19:37<1:19:38,  3.80s/it]"
     ]
    },
    {
     "name": "stdout",
     "output_type": "stream",
     "text": [
      "Brand: Max\n",
      "['Clothing & Accessories', 'Men', 'T-Shirts & Polos', 'Polos']\n",
      "294\n",
      "https://www.amazon.in/dp/B07SK7PTL2\n"
     ]
    },
    {
     "name": "stderr",
     "output_type": "stream",
     "text": [
      "\r",
      " 19%|██████████████▋                                                              | 295/1550 [19:41<1:19:20,  3.79s/it]"
     ]
    },
    {
     "name": "stdout",
     "output_type": "stream",
     "text": [
      "Visit the Amazon Brand - Symbol Store\n",
      "['Fashion', 'Made for Amazon brands', 'All SPB apparel', 'FD', 'Symbol']\n",
      "295\n",
      "https://www.amazon.in/dp/B09WVW2ZPT\n"
     ]
    },
    {
     "name": "stderr",
     "output_type": "stream",
     "text": [
      "\r",
      " 19%|██████████████▋                                                              | 296/1550 [19:45<1:19:47,  3.82s/it]"
     ]
    },
    {
     "name": "stdout",
     "output_type": "stream",
     "text": [
      "Visit the EYEBOGLER Store\n",
      "['Clothing & Accessories', 'Men', 'T-Shirts & Polos', 'Polos']\n",
      "296\n",
      "https://www.amazon.in/dp/B09YVF7WVF\n"
     ]
    },
    {
     "name": "stderr",
     "output_type": "stream",
     "text": [
      "\r",
      " 19%|██████████████▊                                                              | 297/1550 [19:49<1:18:04,  3.74s/it]"
     ]
    },
    {
     "name": "stdout",
     "output_type": "stream",
     "text": [
      "Visit the EYEBOGLER Store\n",
      "['Clothing & Accessories', 'Men', 'T-Shirts & Polos', 'Polos']\n",
      "297\n",
      "https://www.amazon.in/dp/B0C1RW55W4\n",
      "Brand: Peter England\n"
     ]
    },
    {
     "name": "stderr",
     "output_type": "stream",
     "text": [
      "\r",
      " 19%|██████████████▊                                                              | 298/1550 [19:52<1:18:57,  3.78s/it]"
     ]
    },
    {
     "name": "stdout",
     "output_type": "stream",
     "text": [
      "['Clothing & Accessories', 'Men', 'T-Shirts & Polos', 'Polos']\n",
      "298\n",
      "https://www.amazon.in/dp/B09S5QZFB3\n",
      "Visit the DAMENSCH Store\n",
      "['Clothing & Accessories', 'Men', 'T-Shirts & Polos', 'Polos']\n"
     ]
    },
    {
     "name": "stderr",
     "output_type": "stream",
     "text": [
      "\r",
      " 19%|██████████████▊                                                              | 299/1550 [19:57<1:24:06,  4.03s/it]"
     ]
    },
    {
     "name": "stdout",
     "output_type": "stream",
     "text": [
      "299\n",
      "https://www.amazon.in/dp/B0BSV286D9\n"
     ]
    },
    {
     "name": "stderr",
     "output_type": "stream",
     "text": [
      "\r",
      " 19%|██████████████▉                                                              | 300/1550 [20:01<1:23:18,  4.00s/it]"
     ]
    },
    {
     "name": "stdout",
     "output_type": "stream",
     "text": [
      "Visit the SWADESI STUFF Store\n",
      "['Clothing & Accessories', 'Men', 'T-Shirts & Polos', 'Polos']\n",
      "300\n",
      "https://www.amazon.in/dp/B08ZN92SN9\n"
     ]
    },
    {
     "name": "stderr",
     "output_type": "stream",
     "text": [
      "\r",
      " 19%|██████████████▉                                                              | 301/1550 [20:05<1:24:02,  4.04s/it]"
     ]
    },
    {
     "name": "stdout",
     "output_type": "stream",
     "text": [
      "Visit the London Hills Store\n",
      "['Clothing & Accessories', 'Men', 'T-Shirts & Polos', 'Polos']\n",
      "301\n",
      "https://www.amazon.in/dp/B072DXDZY9\n",
      "Visit the CHKOKKO Store\n"
     ]
    },
    {
     "name": "stderr",
     "output_type": "stream",
     "text": [
      "\r",
      " 19%|███████████████                                                              | 302/1550 [20:09<1:25:53,  4.13s/it]"
     ]
    },
    {
     "name": "stdout",
     "output_type": "stream",
     "text": [
      "['Clothing & Accessories', 'Men', 'T-Shirts & Polos', 'Polos']\n",
      "302\n",
      "https://www.amazon.in/dp/B0839PCKH9\n",
      "Visit the AMERICAN CREW Store\n"
     ]
    },
    {
     "name": "stderr",
     "output_type": "stream",
     "text": [
      "\r",
      " 20%|███████████████                                                              | 303/1550 [20:13<1:22:39,  3.98s/it]"
     ]
    },
    {
     "name": "stdout",
     "output_type": "stream",
     "text": [
      "['Fashion', 'The Plus Size Store', 'BBD', 'Steal deals- men', 'American crew']\n",
      "303\n",
      "https://www.amazon.in/dp/B094VKWS2Y\n",
      "Brand: Arrow\n"
     ]
    },
    {
     "name": "stderr",
     "output_type": "stream",
     "text": [
      "\r",
      " 20%|███████████████                                                              | 304/1550 [20:17<1:22:36,  3.98s/it]"
     ]
    },
    {
     "name": "stdout",
     "output_type": "stream",
     "text": [
      "['Fashion', 'Apparel Steal Deals', 'Apparel_1', 'Men', '50% -70% off on Arrow']\n",
      "304\n",
      "https://www.amazon.in/dp/B0C1V9653L\n"
     ]
    },
    {
     "name": "stderr",
     "output_type": "stream",
     "text": [
      "\r",
      " 20%|███████████████▏                                                             | 305/1550 [20:21<1:21:28,  3.93s/it]"
     ]
    },
    {
     "name": "stdout",
     "output_type": "stream",
     "text": [
      "Visit the GRECIILOOKS Store\n",
      "['Clothing & Accessories', 'Men', 'T-Shirts & Polos', 'T-Shirts']\n",
      "305\n",
      "https://www.amazon.in/dp/B08JQQGGPB\n"
     ]
    },
    {
     "name": "stderr",
     "output_type": "stream",
     "text": [
      "\r",
      " 20%|███████████████▏                                                             | 306/1550 [20:25<1:21:00,  3.91s/it]"
     ]
    },
    {
     "name": "stdout",
     "output_type": "stream",
     "text": [
      "Brand: Jockey\n",
      "['Clothing & Accessories', 'Men', 'T-Shirts & Polos', 'Polos']\n",
      "306\n",
      "https://www.amazon.in/dp/B0BSRY416B\n",
      "Brand: Red Tape\n"
     ]
    },
    {
     "name": "stderr",
     "output_type": "stream",
     "text": [
      "\r",
      " 20%|███████████████▎                                                             | 307/1550 [20:28<1:19:14,  3.82s/it]"
     ]
    },
    {
     "name": "stdout",
     "output_type": "stream",
     "text": [
      "['Clothing & Accessories', 'Men', 'T-Shirts & Polos', 'Polos']\n",
      "307\n",
      "https://www.amazon.in/dp/B0BBS9BDYP\n",
      "Brand: Allen Solly\n"
     ]
    },
    {
     "name": "stderr",
     "output_type": "stream",
     "text": [
      "\r",
      " 20%|███████████████▎                                                             | 308/1550 [20:32<1:20:08,  3.87s/it]"
     ]
    },
    {
     "name": "stdout",
     "output_type": "stream",
     "text": [
      "['Clothing & Accessories', 'Men', 'T-Shirts & Polos', 'Polos']\n",
      "308\n",
      "https://www.amazon.in/dp/B0BLV53MCB\n",
      "Visit the LEOTUDE Store\n"
     ]
    },
    {
     "name": "stderr",
     "output_type": "stream",
     "text": [
      "\r",
      " 20%|███████████████▎                                                             | 309/1550 [20:37<1:22:18,  3.98s/it]"
     ]
    },
    {
     "name": "stdout",
     "output_type": "stream",
     "text": [
      "['Clothing & Accessories', 'Men', 'T-Shirts & Polos', 'Polos']\n",
      "309\n",
      "https://www.amazon.in/dp/B01J3VFNT4\n",
      "Visit the AMERICAN CREW Store\n"
     ]
    },
    {
     "name": "stderr",
     "output_type": "stream",
     "text": [
      "\r",
      " 20%|███████████████▍                                                             | 310/1550 [20:40<1:21:48,  3.96s/it]"
     ]
    },
    {
     "name": "stdout",
     "output_type": "stream",
     "text": [
      "['Fashion', 'The Plus Size Store', 'Trends', \"WRS'22\", 'Women', 'Men', 'Stripped polos & tees']\n",
      "310\n",
      "https://www.amazon.in/dp/B076CHQJZP\n",
      "Visit the Van Heusen Store\n"
     ]
    },
    {
     "name": "stderr",
     "output_type": "stream",
     "text": [
      "\r",
      " 20%|███████████████▍                                                             | 311/1550 [20:45<1:24:34,  4.10s/it]"
     ]
    },
    {
     "name": "stdout",
     "output_type": "stream",
     "text": [
      "['Fashion', 'Apparel Steal Deals', 'Apparel_1', 'Men', \"Men's Bestsellers\"]\n",
      "311\n",
      "https://www.amazon.in/dp/B076T2ZFSM\n"
     ]
    },
    {
     "name": "stderr",
     "output_type": "stream",
     "text": [
      "\r",
      " 20%|███████████████▍                                                             | 312/1550 [20:49<1:22:44,  4.01s/it]"
     ]
    },
    {
     "name": "stdout",
     "output_type": "stream",
     "text": [
      "Visit the AMERICAN CREW Store\n",
      "['Fashion', 'The Plus Size Store', 'Brands', 'American Crew', 'p']\n",
      "312\n",
      "https://www.amazon.in/dp/B08LH7CGHY\n"
     ]
    },
    {
     "name": "stderr",
     "output_type": "stream",
     "text": [
      "\r",
      " 20%|███████████████▌                                                             | 313/1550 [20:52<1:20:19,  3.90s/it]"
     ]
    },
    {
     "name": "stdout",
     "output_type": "stream",
     "text": [
      "Visit the Scott International Store\n",
      "['Clothing & Accessories', 'Men', 'T-Shirts & Polos', 'Polos']\n",
      "313\n",
      "https://www.amazon.in/dp/B07MZG27XK\n"
     ]
    },
    {
     "name": "stderr",
     "output_type": "stream",
     "text": [
      "\r",
      " 20%|███████████████▌                                                             | 314/1550 [20:56<1:20:43,  3.92s/it]"
     ]
    },
    {
     "name": "stdout",
     "output_type": "stream",
     "text": [
      "Visit the Amazon Brand - Symbol Store\n",
      "['Fashion', 'Made for Amazon brands', 'All SPB apparel', 'FD', 'Symbol']\n",
      "314\n",
      "https://www.amazon.in/dp/B08SJBNPXL\n",
      "Visit the BULLMER Store\n"
     ]
    },
    {
     "name": "stderr",
     "output_type": "stream",
     "text": [
      "\r",
      " 20%|███████████████▋                                                             | 315/1550 [21:01<1:25:02,  4.13s/it]"
     ]
    },
    {
     "name": "stdout",
     "output_type": "stream",
     "text": [
      "['Clothing & Accessories', 'Men', 'T-Shirts & Polos', 'Polos']\n",
      "315\n",
      "https://www.amazon.in/dp/B077Y91QVD\n",
      "Visit the U.S. POLO ASSN. Store\n"
     ]
    },
    {
     "name": "stderr",
     "output_type": "stream",
     "text": [
      "\r",
      " 20%|███████████████▋                                                             | 316/1550 [21:06<1:33:12,  4.53s/it]"
     ]
    },
    {
     "name": "stdout",
     "output_type": "stream",
     "text": [
      "['Fashion', 'The Plus Size Store', 'Trends', 'Independence day', 'Pastel polos & t-shirts']\n",
      "316\n",
      "https://www.amazon.in/dp/B0819ZYKQD\n",
      "Visit the U.S. POLO ASSN. Store\n"
     ]
    },
    {
     "name": "stderr",
     "output_type": "stream",
     "text": [
      "\r",
      " 20%|███████████████▋                                                             | 317/1550 [21:11<1:31:19,  4.44s/it]"
     ]
    },
    {
     "name": "stdout",
     "output_type": "stream",
     "text": [
      "['Fashion', 'Apparel Steal Deals', 'Apparel_1', 'Men', 'U.S.P.A under 899']\n",
      "317\n",
      "https://www.amazon.in/dp/B07DPS28JL\n",
      "Visit the AMERICAN CREW Store\n"
     ]
    },
    {
     "name": "stderr",
     "output_type": "stream",
     "text": [
      "\r",
      " 21%|███████████████▊                                                             | 318/1550 [21:14<1:25:24,  4.16s/it]"
     ]
    },
    {
     "name": "stdout",
     "output_type": "stream",
     "text": [
      "['Fashion', 'The Plus Size Store', 'Brands', 'American Crew', '1']\n",
      "318\n",
      "https://www.amazon.in/dp/B0CBQ33Z1L\n"
     ]
    },
    {
     "name": "stderr",
     "output_type": "stream",
     "text": [
      "\r",
      " 21%|███████████████▊                                                             | 319/1550 [21:18<1:23:59,  4.09s/it]"
     ]
    },
    {
     "name": "stdout",
     "output_type": "stream",
     "text": [
      "Visit the fanideaz Store\n",
      "['Clothing & Accessories', 'Men', 'T-Shirts & Polos', 'Polos']\n",
      "319\n",
      "https://www.amazon.in/dp/B0B1DJVK3V\n",
      "Brand: Max\n"
     ]
    },
    {
     "name": "stderr",
     "output_type": "stream",
     "text": [
      "\r",
      " 21%|███████████████▉                                                             | 320/1550 [21:22<1:21:59,  4.00s/it]"
     ]
    },
    {
     "name": "stdout",
     "output_type": "stream",
     "text": [
      "['Fashion', 'Apparel Steal Deals', 'Apparel_1', 'Men', 'Polo T-shirts starting 399']\n",
      "320\n",
      "https://www.amazon.in/dp/B0BWK6JL86\n"
     ]
    },
    {
     "name": "stderr",
     "output_type": "stream",
     "text": [
      "\r",
      " 21%|███████████████▉                                                             | 321/1550 [21:26<1:19:38,  3.89s/it]"
     ]
    },
    {
     "name": "stdout",
     "output_type": "stream",
     "text": [
      "Visit the fanideaz Store\n",
      "['Clothing & Accessories', 'Men', 'T-Shirts & Polos', 'Polos']\n",
      "321\n",
      "https://www.amazon.in/dp/B08RZ4C75F\n",
      "Visit the Arrow Store\n"
     ]
    },
    {
     "name": "stderr",
     "output_type": "stream",
     "text": [
      "\r",
      " 21%|███████████████▉                                                             | 322/1550 [21:31<1:31:46,  4.48s/it]"
     ]
    },
    {
     "name": "stdout",
     "output_type": "stream",
     "text": [
      "['Fashion', 'Apparel Steal Deals', 'Apparel_1', 'Men', 'Polo T-shirts starting 399']\n",
      "322\n",
      "https://www.amazon.in/dp/B08L9G4RCJ\n",
      "Visit the LEOTUDE Store\n"
     ]
    },
    {
     "name": "stderr",
     "output_type": "stream",
     "text": [
      "\r",
      " 21%|████████████████                                                             | 323/1550 [21:35<1:25:32,  4.18s/it]"
     ]
    },
    {
     "name": "stdout",
     "output_type": "stream",
     "text": [
      "['Fashion', 'The Plus Size Store', 'aug art- clothing ingress', 'new', 'men']\n",
      "323\n",
      "https://www.amazon.in/dp/B0C968L43N\n"
     ]
    },
    {
     "name": "stderr",
     "output_type": "stream",
     "text": [
      "\r",
      " 21%|████████████████                                                             | 324/1550 [21:38<1:22:08,  4.02s/it]"
     ]
    },
    {
     "name": "stdout",
     "output_type": "stream",
     "text": [
      "Visit the Lymio Store\n",
      "['Clothing & Accessories', 'Men', 'T-Shirts & Polos', 'Polos']\n",
      "324\n",
      "https://www.amazon.in/dp/B08ZN8MNQG\n"
     ]
    },
    {
     "name": "stderr",
     "output_type": "stream",
     "text": [
      "\r",
      " 21%|████████████████▏                                                            | 325/1550 [21:42<1:20:15,  3.93s/it]"
     ]
    },
    {
     "name": "stdout",
     "output_type": "stream",
     "text": [
      "Visit the London Hills Store\n",
      "['Clothing & Accessories', 'Men', 'T-Shirts & Polos', 'Polos']\n",
      "325\n",
      "https://www.amazon.in/dp/B0C9PX9H4T\n"
     ]
    },
    {
     "name": "stderr",
     "output_type": "stream",
     "text": [
      "\r",
      " 21%|████████████████▏                                                            | 326/1550 [21:46<1:18:11,  3.83s/it]"
     ]
    },
    {
     "name": "stdout",
     "output_type": "stream",
     "text": [
      "Visit the AMERICAN CREW Store\n",
      "['Clothing & Accessories', 'Men', 'T-Shirts & Polos', 'Polos']\n",
      "326\n",
      "https://www.amazon.in/dp/B0C3V5DRBY\n"
     ]
    },
    {
     "name": "stderr",
     "output_type": "stream",
     "text": [
      "\r",
      " 21%|████████████████▏                                                            | 327/1550 [21:50<1:20:18,  3.94s/it]"
     ]
    },
    {
     "name": "stdout",
     "output_type": "stream",
     "text": [
      "Visit the EYEBOGLER Store\n",
      "['Clothing & Accessories', 'Men', 'T-Shirts & Polos', 'Polos']\n",
      "327\n",
      "https://www.amazon.in/dp/B07TFRJZ6L\n"
     ]
    },
    {
     "name": "stderr",
     "output_type": "stream",
     "text": [
      "\r",
      " 21%|████████████████▎                                                            | 328/1550 [21:54<1:22:19,  4.04s/it]"
     ]
    },
    {
     "name": "stdout",
     "output_type": "stream",
     "text": [
      "Brand: Deniklo\n",
      "['Fashion', 'June_coupons', \"Men's Clothing\", 'Top wear', 'SPB']\n",
      "328\n",
      "https://www.amazon.in/dp/B0BRVGSNMK\n"
     ]
    },
    {
     "name": "stderr",
     "output_type": "stream",
     "text": [
      "\r",
      " 21%|████████████████▎                                                            | 329/1550 [21:58<1:20:52,  3.97s/it]"
     ]
    },
    {
     "name": "stdout",
     "output_type": "stream",
     "text": [
      "Brand: Leriya Fashion\n",
      "['Clothing & Accessories', 'Men', 'T-Shirts & Polos', 'Polos']\n",
      "329\n",
      "https://www.amazon.in/dp/B0C657K6FV\n",
      "Visit the EYEBOGLER Store\n"
     ]
    },
    {
     "name": "stderr",
     "output_type": "stream",
     "text": [
      "\r",
      " 21%|████████████████▍                                                            | 330/1550 [22:02<1:18:36,  3.87s/it]"
     ]
    },
    {
     "name": "stdout",
     "output_type": "stream",
     "text": [
      "['Clothing & Accessories', 'Men', 'T-Shirts & Polos', 'Polos']\n",
      "330\n",
      "https://www.amazon.in/dp/B091KRVYTC\n"
     ]
    },
    {
     "name": "stderr",
     "output_type": "stream",
     "text": [
      "\r",
      " 21%|████████████████▍                                                            | 331/1550 [22:06<1:19:59,  3.94s/it]"
     ]
    },
    {
     "name": "stdout",
     "output_type": "stream",
     "text": [
      "Brand: Van Heusen\n",
      "['Clothing & Accessories', 'Men', 'T-Shirts & Polos', 'Polos']\n",
      "331\n",
      "https://www.amazon.in/dp/B07BDYLJZ5\n",
      "Visit the Amazon Brand - Symbol Store\n",
      "['Fashion', 'Made for Amazon brands', 'All SPB apparel', 'FD', 'Symbol']\n"
     ]
    },
    {
     "name": "stderr",
     "output_type": "stream",
     "text": [
      "\r",
      " 21%|████████████████▍                                                            | 332/1550 [22:10<1:20:18,  3.96s/it]"
     ]
    },
    {
     "name": "stdout",
     "output_type": "stream",
     "text": [
      "332\n",
      "https://www.amazon.in/dp/B0CBFTXC53\n"
     ]
    },
    {
     "name": "stderr",
     "output_type": "stream",
     "text": [
      "\r",
      " 21%|████████████████▌                                                            | 333/1550 [22:14<1:19:58,  3.94s/it]"
     ]
    },
    {
     "name": "stdout",
     "output_type": "stream",
     "text": [
      "Brand: U.S. POLO ASSN.\n",
      "['Clothing & Accessories', 'Men', 'T-Shirts & Polos', 'Polos']\n",
      "333\n",
      "https://www.amazon.in/dp/B0BC4J3SDH\n",
      "Visit the LEOTUDE Store\n"
     ]
    },
    {
     "name": "stderr",
     "output_type": "stream",
     "text": [
      "\r",
      " 22%|████████████████▌                                                            | 334/1550 [22:17<1:17:26,  3.82s/it]"
     ]
    },
    {
     "name": "stdout",
     "output_type": "stream",
     "text": [
      "['Clothing & Accessories', 'Men', 'T-Shirts & Polos', 'Polos']\n",
      "334\n",
      "https://www.amazon.in/dp/B0C1C27YVN\n",
      "Visit the ONN Store\n"
     ]
    },
    {
     "name": "stderr",
     "output_type": "stream",
     "text": [
      "\r",
      " 22%|████████████████▋                                                            | 335/1550 [22:21<1:18:36,  3.88s/it]"
     ]
    },
    {
     "name": "stdout",
     "output_type": "stream",
     "text": [
      "['Clothing & Accessories', 'Men', 'T-Shirts & Polos', 'Polos']\n",
      "335\n",
      "https://www.amazon.in/dp/B09ZPLV2LQ\n",
      "Visit the BULLMER Store\n"
     ]
    },
    {
     "name": "stderr",
     "output_type": "stream",
     "text": [
      "\r",
      " 22%|████████████████▋                                                            | 336/1550 [22:25<1:19:19,  3.92s/it]"
     ]
    },
    {
     "name": "stdout",
     "output_type": "stream",
     "text": [
      "['Clothing & Accessories', 'Men', 'T-Shirts & Polos', 'Polos']\n",
      "336\n",
      "https://www.amazon.in/dp/B08RZ4DFQX\n"
     ]
    },
    {
     "name": "stderr",
     "output_type": "stream",
     "text": [
      "\r",
      " 22%|████████████████▋                                                            | 337/1550 [22:29<1:17:25,  3.83s/it]"
     ]
    },
    {
     "name": "stdout",
     "output_type": "stream",
     "text": [
      "Brand: ARROW USA 1851\n",
      "['Clothing & Accessories', 'Men', 'T-Shirts & Polos', 'Polos']\n",
      "337\n",
      "https://www.amazon.in/dp/B083583BPW\n",
      "Visit the AMERICAN CREW Store\n"
     ]
    },
    {
     "name": "stderr",
     "output_type": "stream",
     "text": [
      "\r",
      " 22%|████████████████▊                                                            | 338/1550 [22:33<1:16:26,  3.78s/it]"
     ]
    },
    {
     "name": "stdout",
     "output_type": "stream",
     "text": [
      "['Fashion', 'The Plus Size Store', 'BBD', 'Steal deals- men', 'American crew']\n",
      "338\n",
      "https://www.amazon.in/dp/B077PRNS8Z\n",
      "Brand: AMERICAN CREW\n"
     ]
    },
    {
     "name": "stderr",
     "output_type": "stream",
     "text": [
      "\r",
      " 22%|████████████████▊                                                            | 339/1550 [22:41<1:43:40,  5.14s/it]"
     ]
    },
    {
     "name": "stdout",
     "output_type": "stream",
     "text": [
      "['Fashion', 'The Plus Size Store', 'Brands', 'American Crew', '1']\n",
      "339\n",
      "https://www.amazon.in/dp/B08RZ4JXYH\n",
      "Visit the Arrow Store\n"
     ]
    },
    {
     "name": "stderr",
     "output_type": "stream",
     "text": [
      "\r",
      " 22%|████████████████▉                                                            | 340/1550 [22:45<1:35:23,  4.73s/it]"
     ]
    },
    {
     "name": "stdout",
     "output_type": "stream",
     "text": [
      "['Fashion', 'Apparel Steal Deals', 'Apparel_1', 'Men', 'Polo T-shirts starting 399']\n",
      "340\n",
      "https://www.amazon.in/dp/B09Z66KMR5\n",
      "Visit the Lyned Store\n"
     ]
    },
    {
     "name": "stderr",
     "output_type": "stream",
     "text": [
      "\r",
      " 22%|████████████████▉                                                            | 341/1550 [22:49<1:30:12,  4.48s/it]"
     ]
    },
    {
     "name": "stdout",
     "output_type": "stream",
     "text": [
      "['Clothing & Accessories', 'Men', 'T-Shirts & Polos', 'Polos']\n",
      "341\n",
      "https://www.amazon.in/dp/B091KT19XW\n",
      "Visit the Van Heusen Store\n"
     ]
    },
    {
     "name": "stderr",
     "output_type": "stream",
     "text": [
      "\r",
      " 22%|████████████████▉                                                            | 342/1550 [22:53<1:28:21,  4.39s/it]"
     ]
    },
    {
     "name": "stdout",
     "output_type": "stream",
     "text": [
      "['Clothing & Accessories', 'Men', 'T-Shirts & Polos', 'Polos']\n",
      "342\n",
      "https://www.amazon.in/dp/B093T742WV\n"
     ]
    },
    {
     "name": "stderr",
     "output_type": "stream",
     "text": [
      "\r",
      " 22%|█████████████████                                                            | 343/1550 [22:57<1:26:28,  4.30s/it]"
     ]
    },
    {
     "name": "stdout",
     "output_type": "stream",
     "text": [
      "Visit the Wear Your Opinion Store\n",
      "['Fashion', 'The Plus Size Store', 'aug art- clothing ingress', 'new', 'men']\n",
      "343\n",
      "https://www.amazon.in/dp/B0BYTG81H5\n"
     ]
    },
    {
     "name": "stderr",
     "output_type": "stream",
     "text": [
      "\r",
      " 22%|█████████████████                                                            | 344/1550 [23:00<1:22:19,  4.10s/it]"
     ]
    },
    {
     "name": "stdout",
     "output_type": "stream",
     "text": [
      "Visit the fanideaz Store\n",
      "['Clothing & Accessories', 'Men', 'T-Shirts & Polos', 'Polos']\n",
      "344\n",
      "https://www.amazon.in/dp/B07QM8FPG6\n"
     ]
    },
    {
     "name": "stderr",
     "output_type": "stream",
     "text": [
      "\r",
      " 22%|█████████████████▏                                                           | 345/1550 [23:05<1:26:50,  4.32s/it]"
     ]
    },
    {
     "name": "stdout",
     "output_type": "stream",
     "text": [
      "Visit the Van Heusen Store\n",
      "['Clothing & Accessories', 'Men', 'T-Shirts & Polos', 'Polos']\n",
      "345\n",
      "https://www.amazon.in/dp/B097MMCN9M\n",
      "Visit the Veirdo Store\n"
     ]
    },
    {
     "name": "stderr",
     "output_type": "stream",
     "text": [
      "\r",
      " 22%|█████████████████▏                                                           | 346/1550 [23:09<1:23:22,  4.15s/it]"
     ]
    },
    {
     "name": "stdout",
     "output_type": "stream",
     "text": [
      "['Fashion', 'The Plus Size Store', 'aug art- clothing ingress', 'new', 'men']\n",
      "346\n",
      "https://www.amazon.in/dp/B08SJC8H4W\n",
      "Visit the BULLMER Store\n"
     ]
    },
    {
     "name": "stderr",
     "output_type": "stream",
     "text": [
      "\r",
      " 22%|█████████████████▏                                                           | 347/1550 [23:13<1:20:10,  4.00s/it]"
     ]
    },
    {
     "name": "stdout",
     "output_type": "stream",
     "text": [
      "['Clothing & Accessories', 'Men', 'T-Shirts & Polos', 'Polos']\n",
      "347\n",
      "https://www.amazon.in/dp/B07R8VB4TL\n"
     ]
    },
    {
     "name": "stderr",
     "output_type": "stream",
     "text": [
      "\r",
      " 22%|█████████████████▎                                                           | 348/1550 [23:17<1:24:42,  4.23s/it]"
     ]
    },
    {
     "name": "stdout",
     "output_type": "stream",
     "text": [
      "Visit the Van Heusen Store\n",
      "['Clothing & Accessories', 'Men', 'T-Shirts & Polos', 'Polos']\n",
      "348\n",
      "https://www.amazon.in/dp/B094V6FNLT\n",
      "Visit the Arrow Store\n"
     ]
    },
    {
     "name": "stderr",
     "output_type": "stream",
     "text": [
      "\r",
      " 23%|█████████████████▎                                                           | 349/1550 [23:22<1:24:02,  4.20s/it]"
     ]
    },
    {
     "name": "stdout",
     "output_type": "stream",
     "text": [
      "['Fashion', 'Apparel Steal Deals', 'Apparel_1', 'Men', '50% -70% off on Arrow']\n",
      "349\n",
      "https://www.amazon.in/dp/B076T54DCF\n"
     ]
    },
    {
     "name": "stderr",
     "output_type": "stream",
     "text": [
      "\r",
      " 23%|█████████████████▍                                                           | 350/1550 [23:25<1:21:52,  4.09s/it]"
     ]
    },
    {
     "name": "stdout",
     "output_type": "stream",
     "text": [
      "Visit the AMERICAN CREW Store\n",
      "['Clothing & Accessories', 'Men', 'T-Shirts & Polos', 'Polos']\n",
      "350\n",
      "https://www.amazon.in/dp/B0CBFQNR8J\n",
      "Brand: U.S. POLO ASSN.\n",
      "['Clothing & Accessories', 'Men', 'T-Shirts & Polos', 'Polos']\n"
     ]
    },
    {
     "name": "stderr",
     "output_type": "stream",
     "text": [
      "\r",
      " 23%|█████████████████▍                                                           | 351/1550 [23:29<1:18:43,  3.94s/it]"
     ]
    },
    {
     "name": "stdout",
     "output_type": "stream",
     "text": [
      "351\n",
      "https://www.amazon.in/dp/B01LASX4FI\n",
      "Visit the Jockey Store\n"
     ]
    },
    {
     "name": "stderr",
     "output_type": "stream",
     "text": [
      "\r",
      " 23%|█████████████████▍                                                           | 352/1550 [23:33<1:19:51,  4.00s/it]"
     ]
    },
    {
     "name": "stdout",
     "output_type": "stream",
     "text": [
      "['Clothing & Accessories', 'Men', 'T-Shirts & Polos', 'Polos']\n",
      "352\n",
      "https://www.amazon.in/dp/B09H748MK4\n",
      "Brand: Lux Nitro\n"
     ]
    },
    {
     "name": "stderr",
     "output_type": "stream",
     "text": [
      "\r",
      " 23%|█████████████████▌                                                           | 353/1550 [23:38<1:23:34,  4.19s/it]"
     ]
    },
    {
     "name": "stdout",
     "output_type": "stream",
     "text": [
      "['Clothing & Accessories', 'Men', 'T-Shirts & Polos', 'Polos']\n",
      "353\n",
      "https://www.amazon.in/dp/B09WVXJ1Z6\n"
     ]
    },
    {
     "name": "stderr",
     "output_type": "stream",
     "text": [
      "\r",
      " 23%|█████████████████▌                                                           | 354/1550 [23:42<1:25:53,  4.31s/it]"
     ]
    },
    {
     "name": "stdout",
     "output_type": "stream",
     "text": [
      "Visit the EYEBOGLER Store\n",
      "['Clothing & Accessories', 'Men', 'T-Shirts & Polos', 'Polos']\n",
      "354\n",
      "https://www.amazon.in/dp/B0CBBNVB1V\n",
      "Visit the London Hills Store\n"
     ]
    },
    {
     "name": "stderr",
     "output_type": "stream",
     "text": [
      "\r",
      " 23%|█████████████████▋                                                           | 355/1550 [23:46<1:23:03,  4.17s/it]"
     ]
    },
    {
     "name": "stdout",
     "output_type": "stream",
     "text": [
      "['Clothing & Accessories', 'Men', 'T-Shirts & Polos', 'Polos']\n",
      "355\n",
      "https://www.amazon.in/dp/B09H73YCCR\n",
      "Brand: Lux Nitro\n"
     ]
    },
    {
     "name": "stderr",
     "output_type": "stream",
     "text": [
      "\r",
      " 23%|█████████████████▋                                                           | 356/1550 [23:50<1:19:44,  4.01s/it]"
     ]
    },
    {
     "name": "stdout",
     "output_type": "stream",
     "text": [
      "['Clothing & Accessories', 'Men', 'T-Shirts & Polos', 'Polos']\n",
      "356\n",
      "https://www.amazon.in/dp/B0BSS34N68\n"
     ]
    },
    {
     "name": "stderr",
     "output_type": "stream",
     "text": [
      "\r",
      " 23%|█████████████████▋                                                           | 357/1550 [23:53<1:16:46,  3.86s/it]"
     ]
    },
    {
     "name": "stdout",
     "output_type": "stream",
     "text": [
      "Visit the PRORIDERS Store\n",
      "['Clothing & Accessories', 'Men', 'T-Shirts & Polos', 'Polos']\n",
      "357\n",
      "https://www.amazon.in/dp/B07RC1NZZ2\n",
      "Visit the Van Heusen Store\n",
      "['Clothing & Accessories', 'Men', 'T-Shirts & Polos', 'Polos']\n"
     ]
    },
    {
     "name": "stderr",
     "output_type": "stream",
     "text": [
      "\r",
      " 23%|█████████████████▊                                                           | 358/1550 [23:58<1:19:45,  4.01s/it]"
     ]
    },
    {
     "name": "stdout",
     "output_type": "stream",
     "text": [
      "358\n",
      "https://www.amazon.in/dp/B0BSRYHXQF\n"
     ]
    },
    {
     "name": "stderr",
     "output_type": "stream",
     "text": [
      "\r",
      " 23%|█████████████████▊                                                           | 359/1550 [24:01<1:17:16,  3.89s/it]"
     ]
    },
    {
     "name": "stdout",
     "output_type": "stream",
     "text": [
      "Brand: Red Tape\n",
      "['Clothing & Accessories', 'Men', 'T-Shirts & Polos', 'Polos']\n",
      "359\n",
      "https://www.amazon.in/dp/B07NDZ9MWB\n",
      "Visit the AMERICAN CREW Store\n"
     ]
    },
    {
     "name": "stderr",
     "output_type": "stream",
     "text": [
      "\r",
      " 23%|█████████████████▉                                                           | 360/1550 [24:06<1:18:49,  3.97s/it]"
     ]
    },
    {
     "name": "stdout",
     "output_type": "stream",
     "text": [
      "['Fashion', 'Plus size', 'Trends', 'Prime-day-2021', 'Men', 'Striped Polos & T-shirts']\n",
      "360\n",
      "https://www.amazon.in/dp/B0982FDT36\n"
     ]
    },
    {
     "name": "stderr",
     "output_type": "stream",
     "text": [
      "\r",
      " 23%|█████████████████▉                                                           | 361/1550 [24:09<1:15:55,  3.83s/it]"
     ]
    },
    {
     "name": "stdout",
     "output_type": "stream",
     "text": [
      "Visit the BULLMER Store\n",
      "['Clothing & Accessories', 'Men', 'T-Shirts & Polos', 'Polos']\n",
      "361\n",
      "https://www.amazon.in/dp/B0BR88VKJP\n"
     ]
    },
    {
     "name": "stderr",
     "output_type": "stream",
     "text": [
      "\r",
      " 23%|█████████████████▉                                                           | 362/1550 [24:13<1:16:32,  3.87s/it]"
     ]
    },
    {
     "name": "stdout",
     "output_type": "stream",
     "text": [
      "Visit the London Hills Store\n",
      "['Clothing & Accessories', 'Men', 'T-Shirts & Polos', 'Polos']\n",
      "362\n",
      "https://www.amazon.in/dp/B083C31718\n"
     ]
    },
    {
     "name": "stderr",
     "output_type": "stream",
     "text": [
      "\r",
      " 23%|██████████████████                                                           | 363/1550 [24:17<1:19:04,  4.00s/it]"
     ]
    },
    {
     "name": "stdout",
     "output_type": "stream",
     "text": [
      "Visit the Van Heusen Store\n",
      "['Clothing & Accessories', 'Men', 'T-Shirts & Polos', 'Polos']\n",
      "363\n",
      "https://www.amazon.in/dp/B094TPQ3G7\n",
      "Brand: Arrow\n"
     ]
    },
    {
     "name": "stderr",
     "output_type": "stream",
     "text": [
      "\r",
      " 23%|██████████████████                                                           | 364/1550 [24:21<1:17:53,  3.94s/it]"
     ]
    },
    {
     "name": "stdout",
     "output_type": "stream",
     "text": [
      "['Clothing & Accessories', 'Men', 'T-Shirts & Polos', 'Polos']\n",
      "364\n",
      "https://www.amazon.in/dp/B08KTXPYHN\n",
      "Brand: Allen Solly\n"
     ]
    },
    {
     "name": "stderr",
     "output_type": "stream",
     "text": [
      "\r",
      " 24%|██████████████████▏                                                          | 365/1550 [24:25<1:18:35,  3.98s/it]"
     ]
    },
    {
     "name": "stdout",
     "output_type": "stream",
     "text": [
      "['Fashion', 'Apparel Steal Deals', 'Apparel_1', 'Men', 'T-Shirts & Polos under 699']\n",
      "365\n",
      "https://www.amazon.in/dp/B0CCRN4JV7\n"
     ]
    },
    {
     "name": "stderr",
     "output_type": "stream",
     "text": [
      "\r",
      " 24%|██████████████████▏                                                          | 366/1550 [24:30<1:21:23,  4.12s/it]"
     ]
    },
    {
     "name": "stdout",
     "output_type": "stream",
     "text": [
      "Visit the Duke Store\n",
      "['Clothing & Accessories', 'Men', 'T-Shirts & Polos', 'Polos']\n",
      "366\n",
      "https://www.amazon.in/dp/B09WY5BR2N\n"
     ]
    },
    {
     "name": "stderr",
     "output_type": "stream",
     "text": [
      "\r",
      " 24%|██████████████████▏                                                          | 367/1550 [24:34<1:21:02,  4.11s/it]"
     ]
    },
    {
     "name": "stdout",
     "output_type": "stream",
     "text": [
      "Visit the CHKOKKO Store\n",
      "['Clothing & Accessories', 'Men', 'T-Shirts & Polos', 'Polos']\n",
      "367\n",
      "https://www.amazon.in/dp/B09PNKNB34\n",
      "Visit the Amazon Brand - Symbol Store\n"
     ]
    },
    {
     "name": "stderr",
     "output_type": "stream",
     "text": [
      "\r",
      " 24%|██████████████████▎                                                          | 368/1550 [24:38<1:19:09,  4.02s/it]"
     ]
    },
    {
     "name": "stdout",
     "output_type": "stream",
     "text": [
      "['Fashion', 'Made for Amazon brands', 'All SPB apparel', 'FD', 'Symbol']\n",
      "368\n",
      "https://www.amazon.in/dp/B07SJ5D3JL\n"
     ]
    },
    {
     "name": "stderr",
     "output_type": "stream",
     "text": [
      "\r",
      " 24%|██████████████████▎                                                          | 369/1550 [24:42<1:20:54,  4.11s/it]"
     ]
    },
    {
     "name": "stdout",
     "output_type": "stream",
     "text": [
      "Visit the Amazon Brand - Symbol Store\n",
      "['Fashion', 'Made for Amazon brands', 'All SPB apparel', 'FD', 'Symbol']\n",
      "369\n",
      "https://www.amazon.in/dp/B09XV77TY1\n",
      "Visit the CHKOKKO Store\n"
     ]
    },
    {
     "name": "stderr",
     "output_type": "stream",
     "text": [
      "\r",
      " 24%|██████████████████▍                                                          | 370/1550 [24:46<1:21:01,  4.12s/it]"
     ]
    },
    {
     "name": "stdout",
     "output_type": "stream",
     "text": [
      "['Clothing & Accessories', 'Men', 'T-Shirts & Polos', 'Polos']\n",
      "370\n",
      "https://www.amazon.in/dp/B08LH4QHG4\n"
     ]
    },
    {
     "name": "stderr",
     "output_type": "stream",
     "text": [
      "\r",
      " 24%|██████████████████▍                                                          | 371/1550 [24:50<1:18:51,  4.01s/it]"
     ]
    },
    {
     "name": "stdout",
     "output_type": "stream",
     "text": [
      "Visit the Scott International Store\n",
      "['Clothing & Accessories', 'Men', 'T-Shirts & Polos', 'Polos']\n",
      "371\n",
      "https://www.amazon.in/dp/B079TMQMC8\n",
      "Visit the AWG ALL WEATHER GEAR Store\n"
     ]
    },
    {
     "name": "stderr",
     "output_type": "stream",
     "text": [
      "\r",
      " 24%|██████████████████▍                                                          | 372/1550 [24:54<1:20:59,  4.13s/it]"
     ]
    },
    {
     "name": "stdout",
     "output_type": "stream",
     "text": [
      "['Clothing & Accessories', 'Men', 'T-Shirts & Polos', 'Polos']\n",
      "372\n",
      "https://www.amazon.in/dp/B09MFMGL1C\n"
     ]
    },
    {
     "name": "stderr",
     "output_type": "stream",
     "text": [
      "\r",
      " 24%|██████████████████▌                                                          | 373/1550 [24:58<1:19:31,  4.05s/it]"
     ]
    },
    {
     "name": "stdout",
     "output_type": "stream",
     "text": [
      "Brand: Jockey\n",
      "['Clothing & Accessories', 'Men', 'T-Shirts & Polos', 'Polos']\n",
      "373\n",
      "https://www.amazon.in/dp/B0CBBFCRSS\n",
      "Visit the XYXX Store\n"
     ]
    },
    {
     "name": "stderr",
     "output_type": "stream",
     "text": [
      "\r",
      " 24%|██████████████████▌                                                          | 374/1550 [25:02<1:18:23,  4.00s/it]"
     ]
    },
    {
     "name": "stdout",
     "output_type": "stream",
     "text": [
      "['Clothing & Accessories', 'Men', 'T-Shirts & Polos', 'Polos']\n",
      "374\n",
      "https://www.amazon.in/dp/B0CCRMD6DK\n",
      "Visit the Duke Store\n"
     ]
    },
    {
     "name": "stderr",
     "output_type": "stream",
     "text": [
      "\r",
      " 24%|██████████████████▋                                                          | 375/1550 [25:06<1:17:12,  3.94s/it]"
     ]
    },
    {
     "name": "stdout",
     "output_type": "stream",
     "text": [
      "['Clothing & Accessories', 'Men', 'T-Shirts & Polos', 'Polos']\n",
      "375\n",
      "https://www.amazon.in/dp/B0BWS31FWH\n",
      "Brand: U.S. POLO ASSN.\n"
     ]
    },
    {
     "name": "stderr",
     "output_type": "stream",
     "text": [
      "\r",
      " 24%|██████████████████▋                                                          | 376/1550 [25:11<1:26:10,  4.40s/it]"
     ]
    },
    {
     "name": "stdout",
     "output_type": "stream",
     "text": [
      "['Clothing & Accessories', 'Men', 'T-Shirts & Polos', 'T-Shirts']\n",
      "376\n",
      "https://www.amazon.in/dp/B07CXXHLY2\n"
     ]
    },
    {
     "name": "stderr",
     "output_type": "stream",
     "text": [
      "\r",
      " 24%|██████████████████▋                                                          | 377/1550 [25:16<1:26:55,  4.45s/it]"
     ]
    },
    {
     "name": "stdout",
     "output_type": "stream",
     "text": [
      "Visit the U.S. POLO ASSN. Store\n",
      "['Fashion', 'Apparel Steal Deals', 'Apparel_1', 'Men', 'U.S.P.A under 899']\n",
      "377\n",
      "https://www.amazon.in/dp/B0793K15XT\n",
      "Visit the U.S. POLO ASSN. Store\n"
     ]
    },
    {
     "name": "stderr",
     "output_type": "stream",
     "text": [
      "\r",
      " 24%|██████████████████▊                                                          | 378/1550 [25:20<1:24:47,  4.34s/it]"
     ]
    },
    {
     "name": "stdout",
     "output_type": "stream",
     "text": [
      "['Fashion', 'Apparel Steal Deals', 'Apparel_1', 'Men', 'U.S.P.A under 899']\n",
      "378\n",
      "https://www.amazon.in/dp/B0BT1V9V3N\n"
     ]
    },
    {
     "name": "stderr",
     "output_type": "stream",
     "text": [
      "\r",
      " 24%|██████████████████▊                                                          | 379/1550 [25:23<1:20:44,  4.14s/it]"
     ]
    },
    {
     "name": "stdout",
     "output_type": "stream",
     "text": [
      "Visit the U.S. POLO ASSN. Store\n",
      "['Clothing & Accessories', 'Men', 'T-Shirts & Polos', 'T-Shirts']\n",
      "379\n",
      "https://www.amazon.in/dp/B0BN3ZRCF2\n",
      "Visit the U.S. POLO ASSN. Store\n"
     ]
    },
    {
     "name": "stderr",
     "output_type": "stream",
     "text": [
      "\r",
      " 25%|██████████████████▉                                                          | 380/1550 [25:27<1:16:52,  3.94s/it]"
     ]
    },
    {
     "name": "stdout",
     "output_type": "stream",
     "text": [
      "['Clothing & Accessories', 'Men', 'T-Shirts & Polos', 'Polos']\n",
      "380\n",
      "https://www.amazon.in/dp/B01MSMTY3K\n",
      "Visit the U.S. POLO ASSN. Store\n"
     ]
    },
    {
     "name": "stderr",
     "output_type": "stream",
     "text": [
      "\r",
      " 25%|██████████████████▉                                                          | 381/1550 [25:31<1:16:37,  3.93s/it]"
     ]
    },
    {
     "name": "stdout",
     "output_type": "stream",
     "text": [
      "['Clothing & Accessories', 'Men', 'T-Shirts & Polos', 'Polos']\n",
      "381\n",
      "https://www.amazon.in/dp/B0C4NVM3JV\n"
     ]
    },
    {
     "name": "stderr",
     "output_type": "stream",
     "text": [
      "\r",
      " 25%|██████████████████▉                                                          | 382/1550 [25:38<1:34:22,  4.85s/it]"
     ]
    },
    {
     "name": "stdout",
     "output_type": "stream",
     "text": [
      "Visit the U.S. POLO ASSN. Store\n",
      "['Clothing & Accessories', 'Men', 'T-Shirts & Polos', 'Polos']\n",
      "382\n",
      "https://www.amazon.in/dp/B0BLC3NR9B\n"
     ]
    },
    {
     "name": "stderr",
     "output_type": "stream",
     "text": [
      "\r",
      " 25%|███████████████████                                                          | 383/1550 [25:42<1:28:23,  4.54s/it]"
     ]
    },
    {
     "name": "stdout",
     "output_type": "stream",
     "text": [
      "Visit the U.S. POLO ASSN. Store\n",
      "['Clothing & Accessories', 'Men', 'T-Shirts & Polos', 'Polos']\n",
      "383\n",
      "https://www.amazon.in/dp/B07L6Y3MBK\n"
     ]
    },
    {
     "name": "stderr",
     "output_type": "stream",
     "text": [
      "\r",
      " 25%|███████████████████                                                          | 384/1550 [25:46<1:24:52,  4.37s/it]"
     ]
    },
    {
     "name": "stdout",
     "output_type": "stream",
     "text": [
      "Visit the U.S. POLO ASSN. Store\n",
      "['Clothing & Accessories', 'Men', 'T-Shirts & Polos', 'T-Shirts']\n",
      "384\n",
      "https://www.amazon.in/dp/B0BLK8X6SS\n",
      "Visit the U.S. POLO ASSN. Store\n"
     ]
    },
    {
     "name": "stderr",
     "output_type": "stream",
     "text": [
      "\r",
      " 25%|███████████████████▏                                                         | 385/1550 [25:52<1:34:12,  4.85s/it]"
     ]
    },
    {
     "name": "stdout",
     "output_type": "stream",
     "text": [
      "['Clothing & Accessories', 'Men', 'T-Shirts & Polos', 'Polos']\n",
      "385\n",
      "https://www.amazon.in/dp/B07589514M\n",
      "Visit the U.S. POLO ASSN. Store\n"
     ]
    },
    {
     "name": "stderr",
     "output_type": "stream",
     "text": [
      "\r",
      " 25%|███████████████████▏                                                         | 386/1550 [25:56<1:32:23,  4.76s/it]"
     ]
    },
    {
     "name": "stdout",
     "output_type": "stream",
     "text": [
      "['Fashion', 'Apparel Steal Deals', 'Apparel_1', 'Men', 'Polos & T-Shirts - Min 50% Off']\n",
      "386\n",
      "https://www.amazon.in/dp/B0BWS4TBLN\n",
      "Brand: U.S. POLO ASSN.\n"
     ]
    },
    {
     "name": "stderr",
     "output_type": "stream",
     "text": [
      "\r",
      " 25%|███████████████████▏                                                         | 387/1550 [26:01<1:30:37,  4.67s/it]"
     ]
    },
    {
     "name": "stdout",
     "output_type": "stream",
     "text": [
      "['Clothing & Accessories', 'Men', 'T-Shirts & Polos', 'T-Shirts']\n",
      "387\n",
      "https://www.amazon.in/dp/B07DWV9JL9\n",
      "Brand: U.S. POLO ASSN.\n"
     ]
    },
    {
     "name": "stderr",
     "output_type": "stream",
     "text": [
      "\r",
      " 25%|███████████████████▎                                                         | 388/1550 [26:06<1:36:04,  4.96s/it]"
     ]
    },
    {
     "name": "stdout",
     "output_type": "stream",
     "text": [
      "['Fashion', 'Apparel Steal Deals', 'Apparel_1', 'Men', 'U.S.P.A under 899']\n",
      "388\n",
      "https://www.amazon.in/dp/B0BFHKJJBG\n"
     ]
    },
    {
     "name": "stderr",
     "output_type": "stream",
     "text": [
      "\r",
      " 25%|███████████████████▎                                                         | 389/1550 [26:12<1:37:46,  5.05s/it]"
     ]
    },
    {
     "name": "stdout",
     "output_type": "stream",
     "text": [
      "Visit the U.S. POLO ASSN. Store\n",
      "['Clothing & Accessories', 'Men', 'T-Shirts & Polos', 'Polos']\n",
      "389\n",
      "https://www.amazon.in/dp/B0BN4572NX\n",
      "Visit the U.S. POLO ASSN. Store\n"
     ]
    },
    {
     "name": "stderr",
     "output_type": "stream",
     "text": [
      "\r",
      " 25%|███████████████████▎                                                         | 390/1550 [26:15<1:30:07,  4.66s/it]"
     ]
    },
    {
     "name": "stdout",
     "output_type": "stream",
     "text": [
      "['Clothing & Accessories', 'Men', 'T-Shirts & Polos', 'Polos']\n",
      "390\n",
      "https://www.amazon.in/dp/B08YYFQ8JL\n",
      "Visit the Classic Polo Store\n"
     ]
    },
    {
     "name": "stderr",
     "output_type": "stream",
     "text": [
      "\r",
      " 25%|███████████████████▍                                                         | 391/1550 [26:19<1:26:11,  4.46s/it]"
     ]
    },
    {
     "name": "stdout",
     "output_type": "stream",
     "text": [
      "['Fashion', 'Next Gen store | Men', 'Shop by color', 'Pop tones', 'Apparel']\n",
      "391\n",
      "https://www.amazon.in/dp/B092RJ3T44\n"
     ]
    },
    {
     "name": "stderr",
     "output_type": "stream",
     "text": [
      "\r",
      " 25%|███████████████████▍                                                         | 392/1550 [26:24<1:26:19,  4.47s/it]"
     ]
    },
    {
     "name": "stdout",
     "output_type": "stream",
     "text": [
      "Brand: C&C CLASSIC POLO SIGNATURE\n",
      "['Clothing & Accessories', 'Men', 'T-Shirts & Polos', 'Polos']\n",
      "392\n",
      "https://www.amazon.in/dp/B0758LKD22\n",
      "Brand: U.S. POLO ASSN.\n"
     ]
    },
    {
     "name": "stderr",
     "output_type": "stream",
     "text": [
      "\r",
      " 25%|███████████████████▌                                                         | 393/1550 [26:28<1:22:10,  4.26s/it]"
     ]
    },
    {
     "name": "stdout",
     "output_type": "stream",
     "text": [
      "['Clothing & Accessories', 'Men', 'T-Shirts & Polos', 'Polos']\n",
      "393\n",
      "https://www.amazon.in/dp/B0BLK7V33K\n",
      "Visit the U.S. POLO ASSN. Store\n"
     ]
    },
    {
     "name": "stderr",
     "output_type": "stream",
     "text": [
      "\r",
      " 25%|███████████████████▌                                                         | 394/1550 [26:32<1:24:40,  4.39s/it]"
     ]
    },
    {
     "name": "stdout",
     "output_type": "stream",
     "text": [
      "['Clothing & Accessories', 'Men', 'T-Shirts & Polos', 'Polos']\n",
      "394\n",
      "https://www.amazon.in/dp/B07L6YL9DC\n",
      "Visit the U.S. POLO ASSN. Store\n"
     ]
    },
    {
     "name": "stderr",
     "output_type": "stream",
     "text": [
      "\r",
      " 25%|███████████████████▌                                                         | 395/1550 [26:37<1:27:10,  4.53s/it]"
     ]
    },
    {
     "name": "stdout",
     "output_type": "stream",
     "text": [
      "['Clothing & Accessories', 'Men', 'T-Shirts & Polos', 'Polos']\n",
      "395\n",
      "https://www.amazon.in/dp/B07RVG5T9L\n",
      "Visit the U.S. POLO ASSN. Store\n"
     ]
    },
    {
     "name": "stderr",
     "output_type": "stream",
     "text": [
      "\r",
      " 26%|███████████████████▋                                                         | 396/1550 [26:43<1:32:24,  4.81s/it]"
     ]
    },
    {
     "name": "stdout",
     "output_type": "stream",
     "text": [
      "['Fashion', 'The Plus Size Store', 'aug art- clothing ingress', 'new', 'men']\n",
      "396\n",
      "https://www.amazon.in/dp/B0C4NZ81PW\n"
     ]
    },
    {
     "name": "stderr",
     "output_type": "stream",
     "text": [
      "\r",
      " 26%|███████████████████▋                                                         | 397/1550 [26:47<1:27:40,  4.56s/it]"
     ]
    },
    {
     "name": "stdout",
     "output_type": "stream",
     "text": [
      "Visit the U.S. POLO ASSN. Store\n",
      "['Clothing & Accessories', 'Men', 'T-Shirts & Polos', 'Polos']\n",
      "397\n",
      "https://www.amazon.in/dp/B0BSZX8CZ6\n"
     ]
    },
    {
     "name": "stderr",
     "output_type": "stream",
     "text": [
      "\r",
      " 26%|███████████████████▊                                                         | 398/1550 [26:52<1:31:36,  4.77s/it]"
     ]
    },
    {
     "name": "stdout",
     "output_type": "stream",
     "text": [
      "Visit the U.S. POLO ASSN. Store\n",
      "['Clothing & Accessories', 'Men', 'T-Shirts & Polos', 'T-Shirts']\n",
      "398\n",
      "https://www.amazon.in/dp/B01N1G38GI\n"
     ]
    },
    {
     "name": "stderr",
     "output_type": "stream",
     "text": [
      "\r",
      " 26%|███████████████████▊                                                         | 399/1550 [26:56<1:28:09,  4.60s/it]"
     ]
    },
    {
     "name": "stdout",
     "output_type": "stream",
     "text": [
      "Visit the U.S. POLO ASSN. Store\n",
      "['Clothing & Accessories', 'Men', 'T-Shirts & Polos', 'Polos']\n",
      "399\n",
      "https://www.amazon.in/dp/B0BT1HQGLG\n",
      "Brand: U.S. POLO ASSN.\n"
     ]
    },
    {
     "name": "stderr",
     "output_type": "stream",
     "text": [
      "\r",
      " 26%|███████████████████▊                                                         | 400/1550 [27:00<1:25:35,  4.47s/it]"
     ]
    },
    {
     "name": "stdout",
     "output_type": "stream",
     "text": [
      "['Clothing & Accessories', 'Men', 'T-Shirts & Polos', 'Polos']\n",
      "400\n",
      "https://www.amazon.in/dp/B081B14Z62\n",
      "Visit the U.S. POLO ASSN. Store\n"
     ]
    },
    {
     "name": "stderr",
     "output_type": "stream",
     "text": [
      "\r",
      " 26%|███████████████████▉                                                         | 401/1550 [27:04<1:23:20,  4.35s/it]"
     ]
    },
    {
     "name": "stdout",
     "output_type": "stream",
     "text": [
      "['Fashion', 'Apparel Steal Deals', 'Apparel_1', 'Men', 'U.S.P.A under 899']\n",
      "401\n",
      "https://www.amazon.in/dp/B0C6QW1YF6\n"
     ]
    },
    {
     "name": "stderr",
     "output_type": "stream",
     "text": [
      "\r",
      " 26%|███████████████████▉                                                         | 402/1550 [27:08<1:20:28,  4.21s/it]"
     ]
    },
    {
     "name": "stdout",
     "output_type": "stream",
     "text": [
      "Brand: Levi's\n",
      "['Clothing & Accessories', 'Men', 'T-Shirts & Polos', 'Polos']\n",
      "402\n",
      "https://www.amazon.in/dp/B08X4R8T5K\n",
      "Visit the BULLMER Store\n",
      "['Clothing & Accessories', 'Men', 'T-Shirts & Polos', 'Polos']\n"
     ]
    },
    {
     "name": "stderr",
     "output_type": "stream",
     "text": [
      "\r",
      " 26%|████████████████████                                                         | 403/1550 [27:12<1:17:13,  4.04s/it]"
     ]
    },
    {
     "name": "stdout",
     "output_type": "stream",
     "text": [
      "403\n",
      "https://www.amazon.in/dp/B09QQ1DYNB\n",
      "Brand: Peter England\n"
     ]
    },
    {
     "name": "stderr",
     "output_type": "stream",
     "text": [
      "\r",
      " 26%|████████████████████                                                         | 404/1550 [27:16<1:15:58,  3.98s/it]"
     ]
    },
    {
     "name": "stdout",
     "output_type": "stream",
     "text": [
      "['Fashion', 'Apparel Steal Deals', 'Apparel_1', 'Men', 'T-shirts under 499']\n",
      "404\n",
      "https://www.amazon.in/dp/B0BPJRCYFC\n"
     ]
    },
    {
     "name": "stderr",
     "output_type": "stream",
     "text": [
      "\r",
      " 26%|████████████████████                                                         | 405/1550 [27:20<1:15:37,  3.96s/it]"
     ]
    },
    {
     "name": "stdout",
     "output_type": "stream",
     "text": [
      "Brand: Peter England\n",
      "['Clothing & Accessories', 'Men', 'T-Shirts & Polos', 'Polos']\n",
      "405\n",
      "https://www.amazon.in/dp/B09QPS8W93\n",
      "Brand: Peter England\n"
     ]
    },
    {
     "name": "stderr",
     "output_type": "stream",
     "text": [
      "\r",
      " 26%|████████████████████▏                                                        | 406/1550 [27:23<1:13:15,  3.84s/it]"
     ]
    },
    {
     "name": "stdout",
     "output_type": "stream",
     "text": [
      "['Fashion', 'Apparel Steal Deals', 'Apparel_1', 'Men', 'Polos & T-Shirts - Min 50% Off']\n",
      "406\n",
      "https://www.amazon.in/dp/B0C1RXFMNN\n"
     ]
    },
    {
     "name": "stderr",
     "output_type": "stream",
     "text": [
      "\r",
      " 26%|████████████████████▏                                                        | 407/1550 [27:26<1:10:14,  3.69s/it]"
     ]
    },
    {
     "name": "stdout",
     "output_type": "stream",
     "text": [
      "Brand: Peter England\n",
      "['Clothing & Accessories', 'Men', 'T-Shirts & Polos', 'Polos']\n",
      "407\n",
      "https://www.amazon.in/dp/B0C1RWTMNW\n"
     ]
    },
    {
     "name": "stderr",
     "output_type": "stream",
     "text": [
      "\r",
      " 26%|████████████████████▎                                                        | 408/1550 [27:30<1:08:38,  3.61s/it]"
     ]
    },
    {
     "name": "stdout",
     "output_type": "stream",
     "text": [
      "Brand: Peter England\n",
      "['Clothing & Accessories', 'Men', 'T-Shirts & Polos', 'Polos']\n",
      "408\n",
      "https://www.amazon.in/dp/B09XMVDZH9\n",
      "Visit the Peter England Store\n"
     ]
    },
    {
     "name": "stderr",
     "output_type": "stream",
     "text": [
      "\r",
      " 26%|████████████████████▎                                                        | 409/1550 [27:33<1:08:00,  3.58s/it]"
     ]
    },
    {
     "name": "stdout",
     "output_type": "stream",
     "text": [
      "['Fashion', 'Apparel Steal Deals', 'Apparel_1', 'Men', 'Polo T-shirts starting 399']\n",
      "409\n",
      "https://www.amazon.in/dp/B0C1RY1678\n",
      "Brand: Peter England\n"
     ]
    },
    {
     "name": "stderr",
     "output_type": "stream",
     "text": [
      "\r",
      " 26%|████████████████████▎                                                        | 410/1550 [27:37<1:08:41,  3.62s/it]"
     ]
    },
    {
     "name": "stdout",
     "output_type": "stream",
     "text": [
      "['Clothing & Accessories', 'Men', 'T-Shirts & Polos', 'Polos']\n",
      "410\n",
      "https://www.amazon.in/dp/B0BPK1M99M\n",
      "Brand: Peter England\n"
     ]
    },
    {
     "name": "stderr",
     "output_type": "stream",
     "text": [
      "\r",
      " 27%|████████████████████▍                                                        | 411/1550 [27:41<1:10:51,  3.73s/it]"
     ]
    },
    {
     "name": "stdout",
     "output_type": "stream",
     "text": [
      "['Clothing & Accessories', 'Men', 'T-Shirts & Polos', 'Polos']\n",
      "411\n",
      "https://www.amazon.in/dp/B0BPK257P5\n"
     ]
    },
    {
     "name": "stderr",
     "output_type": "stream",
     "text": [
      "\r",
      " 27%|████████████████████▍                                                        | 412/1550 [27:44<1:08:58,  3.64s/it]"
     ]
    },
    {
     "name": "stdout",
     "output_type": "stream",
     "text": [
      "Brand: Peter England\n",
      "['Clothing & Accessories', 'Men', 'T-Shirts & Polos', 'Polos']\n",
      "412\n",
      "https://www.amazon.in/dp/B0BL7Z4J93\n"
     ]
    },
    {
     "name": "stderr",
     "output_type": "stream",
     "text": [
      "\r",
      " 27%|████████████████████▌                                                        | 413/1550 [27:48<1:08:08,  3.60s/it]"
     ]
    },
    {
     "name": "stdout",
     "output_type": "stream",
     "text": [
      "Brand: Peter England\n",
      "['Clothing & Accessories', 'Men', 'T-Shirts & Polos', 'Polos']\n",
      "413\n",
      "https://www.amazon.in/dp/B0BFVTDCVW\n"
     ]
    },
    {
     "name": "stderr",
     "output_type": "stream",
     "text": [
      "\r",
      " 27%|████████████████████▌                                                        | 414/1550 [27:51<1:07:41,  3.58s/it]"
     ]
    },
    {
     "name": "stdout",
     "output_type": "stream",
     "text": [
      "Brand: Peter England\n",
      "['Clothing & Accessories', 'Men', 'T-Shirts & Polos', 'Polos']\n",
      "414\n",
      "https://www.amazon.in/dp/B0C862ZZS3\n",
      "Brand: Peter England\n"
     ]
    },
    {
     "name": "stderr",
     "output_type": "stream",
     "text": [
      "\r",
      " 27%|████████████████████▌                                                        | 415/1550 [27:56<1:11:02,  3.76s/it]"
     ]
    },
    {
     "name": "stdout",
     "output_type": "stream",
     "text": [
      "['Clothing & Accessories', 'Men', 'T-Shirts & Polos', 'T-Shirts']\n",
      "415\n",
      "https://www.amazon.in/dp/B0C1RZWHRN\n"
     ]
    },
    {
     "name": "stderr",
     "output_type": "stream",
     "text": [
      "\r",
      " 27%|████████████████████▋                                                        | 416/1550 [27:59<1:11:16,  3.77s/it]"
     ]
    },
    {
     "name": "stdout",
     "output_type": "stream",
     "text": [
      "Brand: Peter England\n",
      "['Clothing & Accessories', 'Men', 'T-Shirts & Polos', 'Polos']\n",
      "416\n",
      "https://www.amazon.in/dp/B0C862WF99\n",
      "Brand: Peter England\n",
      "['Clothing & Accessories', 'Men', 'T-Shirts & Polos', 'T-Shirts']\n"
     ]
    },
    {
     "name": "stderr",
     "output_type": "stream",
     "text": [
      "\r",
      " 27%|████████████████████▋                                                        | 417/1550 [28:03<1:08:49,  3.64s/it]"
     ]
    },
    {
     "name": "stdout",
     "output_type": "stream",
     "text": [
      "417\n",
      "https://www.amazon.in/dp/B09QQ216HS\n",
      "Brand: Peter England\n"
     ]
    },
    {
     "name": "stderr",
     "output_type": "stream",
     "text": [
      "\r",
      " 27%|████████████████████▊                                                        | 418/1550 [28:07<1:09:50,  3.70s/it]"
     ]
    },
    {
     "name": "stdout",
     "output_type": "stream",
     "text": [
      "['Fashion', 'Apparel Steal Deals', 'Apparel_1', 'Men', \"Men's Apparel Deals\"]\n",
      "418\n",
      "https://www.amazon.in/dp/B0BHW63VC8\n",
      "Brand: Peter England\n"
     ]
    },
    {
     "name": "stderr",
     "output_type": "stream",
     "text": [
      "\r",
      " 27%|████████████████████▊                                                        | 419/1550 [28:10<1:09:47,  3.70s/it]"
     ]
    },
    {
     "name": "stdout",
     "output_type": "stream",
     "text": [
      "['Clothing & Accessories', 'Men', 'T-Shirts & Polos', 'Polos']\n",
      "419\n",
      "https://www.amazon.in/dp/B09QPZFZDC\n",
      "Brand: Peter England\n"
     ]
    },
    {
     "name": "stderr",
     "output_type": "stream",
     "text": [
      "\r",
      " 27%|████████████████████▊                                                        | 420/1550 [28:14<1:09:48,  3.71s/it]"
     ]
    },
    {
     "name": "stdout",
     "output_type": "stream",
     "text": [
      "['Fashion', 'Apparel Steal Deals', 'Apparel_1', 'Men', \"Men's Apparel Deals\"]\n",
      "420\n",
      "https://www.amazon.in/dp/B0CBMD4KMK\n"
     ]
    },
    {
     "name": "stderr",
     "output_type": "stream",
     "text": [
      "\r",
      " 27%|████████████████████▉                                                        | 421/1550 [28:18<1:10:36,  3.75s/it]"
     ]
    },
    {
     "name": "stdout",
     "output_type": "stream",
     "text": [
      "Brand: Peter England\n",
      "['Clothing & Accessories', 'Men', 'T-Shirts & Polos', 'Polos']\n",
      "421\n",
      "https://www.amazon.in/dp/B0CBMF7KYD\n",
      "Brand: Peter England\n"
     ]
    },
    {
     "name": "stderr",
     "output_type": "stream",
     "text": [
      "\r",
      " 27%|████████████████████▉                                                        | 422/1550 [28:21<1:08:24,  3.64s/it]"
     ]
    },
    {
     "name": "stdout",
     "output_type": "stream",
     "text": [
      "['Clothing & Accessories', 'Men', 'T-Shirts & Polos', 'T-Shirts']\n",
      "422\n",
      "https://www.amazon.in/dp/B0C861DP5Q\n",
      "Brand: Peter England\n"
     ]
    },
    {
     "name": "stderr",
     "output_type": "stream",
     "text": [
      "\r",
      " 27%|█████████████████████                                                        | 423/1550 [28:26<1:12:23,  3.85s/it]"
     ]
    },
    {
     "name": "stdout",
     "output_type": "stream",
     "text": [
      "['Clothing & Accessories', 'Men', 'T-Shirts & Polos', 'Polos']\n",
      "423\n",
      "https://www.amazon.in/dp/B0CBMFB87X\n"
     ]
    },
    {
     "name": "stderr",
     "output_type": "stream",
     "text": [
      "\r",
      " 27%|█████████████████████                                                        | 424/1550 [28:29<1:11:48,  3.83s/it]"
     ]
    },
    {
     "name": "stdout",
     "output_type": "stream",
     "text": [
      "Brand: Peter England\n",
      "['Clothing & Accessories', 'Men', 'T-Shirts & Polos', 'Polos']\n",
      "424\n",
      "https://www.amazon.in/dp/B0C85ZNV2W\n"
     ]
    },
    {
     "name": "stderr",
     "output_type": "stream",
     "text": [
      "\r",
      " 27%|█████████████████████                                                        | 425/1550 [28:33<1:08:16,  3.64s/it]"
     ]
    },
    {
     "name": "stdout",
     "output_type": "stream",
     "text": [
      "Brand: Peter England\n",
      "['Clothing & Accessories', 'Men', 'T-Shirts & Polos', 'T-Shirts']\n",
      "425\n",
      "https://www.amazon.in/dp/B0C85Z2JDB\n",
      "Brand: Peter England\n"
     ]
    },
    {
     "name": "stderr",
     "output_type": "stream",
     "text": [
      "\r",
      " 27%|█████████████████████▏                                                       | 426/1550 [28:36<1:08:51,  3.68s/it]"
     ]
    },
    {
     "name": "stdout",
     "output_type": "stream",
     "text": [
      "['Clothing & Accessories', 'Men', 'T-Shirts & Polos', 'T-Shirts']\n",
      "426\n",
      "https://www.amazon.in/dp/B0C862XSH8\n",
      "Brand: Peter England\n"
     ]
    },
    {
     "name": "stderr",
     "output_type": "stream",
     "text": [
      "\r",
      " 28%|█████████████████████▏                                                       | 427/1550 [28:40<1:07:26,  3.60s/it]"
     ]
    },
    {
     "name": "stdout",
     "output_type": "stream",
     "text": [
      "['Clothing & Accessories', 'Men', 'T-Shirts & Polos', 'T-Shirts']\n",
      "427\n",
      "https://www.amazon.in/dp/B0CBMDGG4L\n"
     ]
    },
    {
     "name": "stderr",
     "output_type": "stream",
     "text": [
      "\r",
      " 28%|█████████████████████▎                                                       | 428/1550 [28:43<1:05:40,  3.51s/it]"
     ]
    },
    {
     "name": "stdout",
     "output_type": "stream",
     "text": [
      "Brand: Peter England\n",
      "['Clothing & Accessories', 'Men', 'T-Shirts & Polos', 'T-Shirts']\n",
      "428\n",
      "https://www.amazon.in/dp/B0C862C1LL\n",
      "Brand: Peter England\n"
     ]
    },
    {
     "name": "stderr",
     "output_type": "stream",
     "text": [
      "\r",
      " 28%|█████████████████████▎                                                       | 429/1550 [28:47<1:06:59,  3.59s/it]"
     ]
    },
    {
     "name": "stdout",
     "output_type": "stream",
     "text": [
      "['Clothing & Accessories', 'Men', 'T-Shirts & Polos', 'T-Shirts']\n",
      "429\n",
      "https://www.amazon.in/dp/B0C863SVRR\n"
     ]
    },
    {
     "name": "stderr",
     "output_type": "stream",
     "text": [
      "\r",
      " 28%|█████████████████████▎                                                       | 430/1550 [28:50<1:05:09,  3.49s/it]"
     ]
    },
    {
     "name": "stdout",
     "output_type": "stream",
     "text": [
      "Brand: Peter England\n",
      "['Clothing & Accessories', 'Men', 'T-Shirts & Polos', 'T-Shirts']\n",
      "430\n",
      "https://www.amazon.in/dp/B09TD28Y96\n",
      "Brand: Allen Solly\n"
     ]
    },
    {
     "name": "stderr",
     "output_type": "stream",
     "text": [
      "\r",
      " 28%|█████████████████████▍                                                       | 431/1550 [28:54<1:06:55,  3.59s/it]"
     ]
    },
    {
     "name": "stdout",
     "output_type": "stream",
     "text": [
      "['Fashion', 'Apparel Steal Deals', 'Apparel_1', 'Men', 'T-shirts under 499']\n",
      "431\n",
      "https://www.amazon.in/dp/B0BN9J62X7\n",
      "Visit the Jump Cuts Store\n"
     ]
    },
    {
     "name": "stderr",
     "output_type": "stream",
     "text": [
      "\r",
      " 28%|█████████████████████▍                                                       | 432/1550 [28:58<1:06:57,  3.59s/it]"
     ]
    },
    {
     "name": "stdout",
     "output_type": "stream",
     "text": [
      "['Clothing & Accessories', 'Men', 'T-Shirts & Polos', 'T-Shirts']\n",
      "432\n",
      "https://www.amazon.in/dp/B0819ZZKF2\n",
      "Visit the U.S. POLO ASSN. Store\n"
     ]
    },
    {
     "name": "stderr",
     "output_type": "stream",
     "text": [
      "\r",
      " 28%|█████████████████████▌                                                       | 433/1550 [29:02<1:09:21,  3.73s/it]"
     ]
    },
    {
     "name": "stdout",
     "output_type": "stream",
     "text": [
      "['Fashion', 'Apparel Steal Deals', 'Apparel_1', 'Men', 'U.S.P.A under 899']\n",
      "433\n",
      "https://www.amazon.in/dp/B07CXQZ5YV\n",
      "Visit the U.S. POLO ASSN. Store\n"
     ]
    },
    {
     "name": "stderr",
     "output_type": "stream",
     "text": [
      "\r",
      " 28%|█████████████████████▌                                                       | 434/1550 [29:06<1:11:05,  3.82s/it]"
     ]
    },
    {
     "name": "stdout",
     "output_type": "stream",
     "text": [
      "['Fashion', 'Men apparel trends', 'Logo', 'Logo topwear', 'Logo t-shirts & vest', 'Logo T-shirts']\n",
      "434\n",
      "https://www.amazon.in/dp/B0CBFS1LLD\n"
     ]
    },
    {
     "name": "stderr",
     "output_type": "stream",
     "text": [
      "\r",
      " 28%|█████████████████████▌                                                       | 435/1550 [29:10<1:12:07,  3.88s/it]"
     ]
    },
    {
     "name": "stdout",
     "output_type": "stream",
     "text": [
      "Brand: U.S. POLO ASSN.\n",
      "['Clothing & Accessories', 'Men', 'T-Shirts & Polos', 'Polos']\n",
      "435\n",
      "https://www.amazon.in/dp/B073JMZFZG\n",
      "Visit the U.S. POLO ASSN. Store\n"
     ]
    },
    {
     "name": "stderr",
     "output_type": "stream",
     "text": [
      "\r",
      " 28%|█████████████████████▋                                                       | 436/1550 [29:14<1:13:38,  3.97s/it]"
     ]
    },
    {
     "name": "stdout",
     "output_type": "stream",
     "text": [
      "['Fashion', 'Apparel Steal Deals', 'Apparel_1', 'Men', 'U.S.P.A under 899']\n",
      "436\n",
      "https://www.amazon.in/dp/B07DWKNM7H\n",
      "Visit the U.S. POLO ASSN. Store\n"
     ]
    },
    {
     "name": "stderr",
     "output_type": "stream",
     "text": [
      "\r",
      " 28%|█████████████████████▋                                                       | 437/1550 [29:19<1:17:57,  4.20s/it]"
     ]
    },
    {
     "name": "stdout",
     "output_type": "stream",
     "text": [
      "['Fashion', 'Apparel Steal Deals', 'Apparel_1', 'Men', 'U.S.P.A under 899']\n",
      "437\n",
      "https://www.amazon.in/dp/B08JJWNFB7\n",
      "Visit the U.S. POLO ASSN. Store\n"
     ]
    },
    {
     "name": "stderr",
     "output_type": "stream",
     "text": [
      "\r",
      " 28%|█████████████████████▊                                                       | 438/1550 [29:23<1:17:38,  4.19s/it]"
     ]
    },
    {
     "name": "stdout",
     "output_type": "stream",
     "text": [
      "['Clothing & Accessories', 'Men', 'T-Shirts & Polos', 'Polos']\n",
      "438\n",
      "https://www.amazon.in/dp/B0B71KSSS7\n"
     ]
    },
    {
     "name": "stderr",
     "output_type": "stream",
     "text": [
      "\r",
      " 28%|█████████████████████▊                                                       | 439/1550 [29:29<1:26:16,  4.66s/it]"
     ]
    },
    {
     "name": "stdout",
     "output_type": "stream",
     "text": [
      "Visit the U.S. POLO ASSN. Store\n",
      "['Fashion', 'Apparel Steal Deals', 'Apparel_1', 'Men', 'U.S.P.A under 899']\n",
      "439\n",
      "https://www.amazon.in/dp/B01N2HLUBD\n"
     ]
    },
    {
     "name": "stderr",
     "output_type": "stream",
     "text": [
      "\r",
      " 28%|█████████████████████▊                                                       | 440/1550 [29:33<1:22:31,  4.46s/it]"
     ]
    },
    {
     "name": "stdout",
     "output_type": "stream",
     "text": [
      "Brand: U.S. POLO ASSN.\n",
      "['Clothing & Accessories', 'Men', 'T-Shirts & Polos', 'Polos']\n",
      "440\n",
      "https://www.amazon.in/dp/B08V9FZJMB\n",
      "Visit the U.S. POLO ASSN. Store\n"
     ]
    },
    {
     "name": "stderr",
     "output_type": "stream",
     "text": [
      "\r",
      " 28%|█████████████████████▉                                                       | 441/1550 [29:37<1:24:37,  4.58s/it]"
     ]
    },
    {
     "name": "stdout",
     "output_type": "stream",
     "text": [
      "['Fashion', 'Apparel Steal Deals', 'Apparel_1', 'Men', 'U.S.P.A under 899']\n",
      "441\n",
      "https://www.amazon.in/dp/B01M1VEZ8N\n",
      "Visit the U.S. POLO ASSN. Store\n"
     ]
    },
    {
     "name": "stderr",
     "output_type": "stream",
     "text": [
      "\r",
      " 29%|█████████████████████▉                                                       | 442/1550 [29:41<1:21:49,  4.43s/it]"
     ]
    },
    {
     "name": "stdout",
     "output_type": "stream",
     "text": [
      "['Clothing & Accessories', 'Men', 'T-Shirts & Polos', 'Polos']\n",
      "442\n",
      "https://www.amazon.in/dp/B0BJ8SPGXN\n",
      "Visit the U.S. POLO ASSN. Store\n",
      "['Clothing & Accessories', 'Men', 'T-Shirts & Polos', 'Polos']\n"
     ]
    },
    {
     "name": "stderr",
     "output_type": "stream",
     "text": [
      "\r",
      " 29%|██████████████████████                                                       | 443/1550 [29:46<1:22:20,  4.46s/it]"
     ]
    },
    {
     "name": "stdout",
     "output_type": "stream",
     "text": [
      "443\n",
      "https://www.amazon.in/dp/B0819ZYKRR\n",
      "Visit the U.S. POLO ASSN. Store\n"
     ]
    },
    {
     "name": "stderr",
     "output_type": "stream",
     "text": [
      "\r",
      " 29%|██████████████████████                                                       | 444/1550 [29:50<1:21:42,  4.43s/it]"
     ]
    },
    {
     "name": "stdout",
     "output_type": "stream",
     "text": [
      "['Fashion', 'Apparel Steal Deals', 'Apparel_1', 'Men', 'U.S.P.A under 899']\n",
      "444\n",
      "https://www.amazon.in/dp/B07KXRX1P2\n",
      "Visit the U.S. POLO ASSN. Store\n"
     ]
    },
    {
     "name": "stderr",
     "output_type": "stream",
     "text": [
      "\r",
      " 29%|██████████████████████                                                       | 445/1550 [29:55<1:23:58,  4.56s/it]"
     ]
    },
    {
     "name": "stdout",
     "output_type": "stream",
     "text": [
      "['Fashion', 'Apparel Steal Deals', 'Apparel_1', 'Men', 'Polo T-shirts starting 399']\n",
      "445\n",
      "https://www.amazon.in/dp/B01N95DZOV\n",
      "Visit the U.S. POLO ASSN. Store\n"
     ]
    },
    {
     "name": "stderr",
     "output_type": "stream",
     "text": [
      "\r",
      " 29%|██████████████████████▏                                                      | 446/1550 [29:59<1:18:25,  4.26s/it]"
     ]
    },
    {
     "name": "stdout",
     "output_type": "stream",
     "text": [
      "['Clothing & Accessories', 'Men', 'T-Shirts & Polos', 'Polos']\n",
      "446\n",
      "https://www.amazon.in/dp/B07L6X2RQP\n",
      "Visit the U.S. POLO ASSN. Store\n"
     ]
    },
    {
     "name": "stderr",
     "output_type": "stream",
     "text": [
      "\r",
      " 29%|██████████████████████▏                                                      | 447/1550 [30:03<1:18:09,  4.25s/it]"
     ]
    },
    {
     "name": "stdout",
     "output_type": "stream",
     "text": [
      "['Fashion', 'Apparel Steal Deals', 'Apparel_1', 'Men', 'U.S.P.A under 899']\n",
      "447\n",
      "https://www.amazon.in/dp/B0BSZZ5CBX\n",
      "Visit the U.S. POLO ASSN. Store\n"
     ]
    },
    {
     "name": "stderr",
     "output_type": "stream",
     "text": [
      "\r",
      " 29%|██████████████████████▎                                                      | 448/1550 [30:07<1:15:12,  4.10s/it]"
     ]
    },
    {
     "name": "stdout",
     "output_type": "stream",
     "text": [
      "['Clothing & Accessories', 'Men', 'T-Shirts & Polos', 'Polos']\n",
      "448\n",
      "https://www.amazon.in/dp/B0BFHKYB5X\n",
      "Visit the U.S. POLO ASSN. Store\n"
     ]
    },
    {
     "name": "stderr",
     "output_type": "stream",
     "text": [
      "\r",
      " 29%|██████████████████████▎                                                      | 449/1550 [30:11<1:13:51,  4.03s/it]"
     ]
    },
    {
     "name": "stdout",
     "output_type": "stream",
     "text": [
      "['Clothing & Accessories', 'Men', 'T-Shirts & Polos', 'Polos']\n",
      "449\n",
      "https://www.amazon.in/dp/B073JKZKW4\n"
     ]
    },
    {
     "name": "stderr",
     "output_type": "stream",
     "text": [
      "\r",
      " 29%|██████████████████████▎                                                      | 450/1550 [30:14<1:11:00,  3.87s/it]"
     ]
    },
    {
     "name": "stdout",
     "output_type": "stream",
     "text": [
      "Visit the U.S. POLO ASSN. Store\n",
      "['Clothing & Accessories', 'Men', 'T-Shirts & Polos', 'Polos']\n",
      "450\n",
      "https://www.amazon.in/dp/B08V58H5C4\n"
     ]
    },
    {
     "name": "stderr",
     "output_type": "stream",
     "text": [
      "\r",
      " 29%|██████████████████████▍                                                      | 451/1550 [30:18<1:10:59,  3.88s/it]"
     ]
    },
    {
     "name": "stdout",
     "output_type": "stream",
     "text": [
      "Visit the U.S. POLO ASSN. Store\n",
      "['Clothing & Accessories', 'Men', 'T-Shirts & Polos', 'T-Shirts']\n",
      "451\n",
      "https://www.amazon.in/dp/B09L82PV6X\n"
     ]
    },
    {
     "name": "stderr",
     "output_type": "stream",
     "text": [
      "\r",
      " 29%|██████████████████████▍                                                      | 452/1550 [30:22<1:10:10,  3.83s/it]"
     ]
    },
    {
     "name": "stdout",
     "output_type": "stream",
     "text": [
      "Brand: U.S. POLO ASSN.\n",
      "['Clothing & Accessories', 'Men', 'T-Shirts & Polos', 'Polos']\n",
      "452\n",
      "https://www.amazon.in/dp/B081B1BNTR\n",
      "Visit the U.S. POLO ASSN. Store\n"
     ]
    },
    {
     "name": "stderr",
     "output_type": "stream",
     "text": [
      "\r",
      " 29%|██████████████████████▌                                                      | 453/1550 [30:26<1:11:11,  3.89s/it]"
     ]
    },
    {
     "name": "stdout",
     "output_type": "stream",
     "text": [
      "['Fashion', 'Apparel Steal Deals', 'Apparel_1', 'Men', 'U.S.P.A under 899']\n",
      "453\n",
      "https://www.amazon.in/dp/B00UYW4848\n"
     ]
    },
    {
     "name": "stderr",
     "output_type": "stream",
     "text": [
      "\r",
      " 29%|██████████████████████▌                                                      | 454/1550 [30:29<1:08:06,  3.73s/it]"
     ]
    },
    {
     "name": "stdout",
     "output_type": "stream",
     "text": [
      "Brand: U.S. POLO ASSN.\n",
      "['Clothing & Accessories', 'Men', 'T-Shirts & Polos', 'Polos']\n",
      "454\n",
      "https://www.amazon.in/dp/B08BG53VSN\n",
      "Visit the BULLMER Store\n"
     ]
    },
    {
     "name": "stderr",
     "output_type": "stream",
     "text": [
      "\r",
      " 29%|██████████████████████▌                                                      | 455/1550 [30:32<1:05:48,  3.61s/it]"
     ]
    },
    {
     "name": "stdout",
     "output_type": "stream",
     "text": [
      "['Clothing & Accessories', 'Men', 'T-Shirts & Polos', 'T-Shirts']\n",
      "455\n",
      "https://www.amazon.in/dp/B0892SF9GT\n"
     ]
    },
    {
     "name": "stderr",
     "output_type": "stream",
     "text": [
      "\r",
      " 29%|██████████████████████▋                                                      | 456/1550 [30:36<1:06:50,  3.67s/it]"
     ]
    },
    {
     "name": "stdout",
     "output_type": "stream",
     "text": [
      "Visit the BULLMER Store\n",
      "['Clothing & Accessories', 'January', 'Apparel']\n",
      "456\n",
      "https://www.amazon.in/dp/B0892SXHKC\n"
     ]
    },
    {
     "name": "stderr",
     "output_type": "stream",
     "text": [
      "\r",
      " 29%|██████████████████████▋                                                      | 457/1550 [30:40<1:06:44,  3.66s/it]"
     ]
    },
    {
     "name": "stdout",
     "output_type": "stream",
     "text": [
      "Visit the BULLMER Store\n",
      "['Clothing & Accessories', 'January', 'Apparel']\n",
      "457\n",
      "https://www.amazon.in/dp/B0BNVWWNGV\n"
     ]
    },
    {
     "name": "stderr",
     "output_type": "stream",
     "text": [
      "\r",
      " 30%|██████████████████████▊                                                      | 458/1550 [30:44<1:07:44,  3.72s/it]"
     ]
    },
    {
     "name": "stdout",
     "output_type": "stream",
     "text": [
      "Brand: REYA\n",
      "['Clothing & Accessories', 'Men', 'T-Shirts & Polos', 'T-Shirts']\n",
      "458\n",
      "https://www.amazon.in/dp/B09SP83RLB\n",
      "Visit the LEOTUDE Store\n"
     ]
    },
    {
     "name": "stderr",
     "output_type": "stream",
     "text": [
      "\r",
      " 30%|██████████████████████▊                                                      | 459/1550 [30:48<1:08:14,  3.75s/it]"
     ]
    },
    {
     "name": "stdout",
     "output_type": "stream",
     "text": [
      "['Fashion', 'The Plus Size Store', 'aug art- clothing ingress', 'new', 'men']\n",
      "459\n",
      "https://www.amazon.in/dp/B0CB157J4C\n"
     ]
    },
    {
     "name": "stderr",
     "output_type": "stream",
     "text": [
      "\r",
      " 30%|██████████████████████▊                                                      | 460/1550 [30:51<1:09:03,  3.80s/it]"
     ]
    },
    {
     "name": "stdout",
     "output_type": "stream",
     "text": [
      "Visit the AUSK Store\n",
      "['Clothing & Accessories', 'Men', 'T-Shirts & Polos', 'T-Shirts']\n",
      "460\n",
      "https://www.amazon.in/dp/B0BSXHH5ZW\n",
      "Visit the SWADESI STUFF Store\n"
     ]
    },
    {
     "name": "stderr",
     "output_type": "stream",
     "text": [
      "\r",
      " 30%|██████████████████████▉                                                      | 461/1550 [30:55<1:07:59,  3.75s/it]"
     ]
    },
    {
     "name": "stdout",
     "output_type": "stream",
     "text": [
      "['Clothing & Accessories', 'Men', 'T-Shirts & Polos', 'T-Shirts']\n",
      "461\n",
      "https://www.amazon.in/dp/B08MD219T8\n"
     ]
    },
    {
     "name": "stderr",
     "output_type": "stream",
     "text": [
      "\r",
      " 30%|██████████████████████▉                                                      | 462/1550 [31:00<1:16:12,  4.20s/it]"
     ]
    },
    {
     "name": "stdout",
     "output_type": "stream",
     "text": [
      "Brand: EYEBOGLER\n",
      "['Fashion', 'Apparel Steal Deals', 'Apparel_1', 'Men', \"Men's fashion starting 199\"]\n",
      "462\n",
      "https://www.amazon.in/dp/B0BVW4R64W\n",
      "Visit the LEOTUDE Store\n"
     ]
    },
    {
     "name": "stderr",
     "output_type": "stream",
     "text": [
      "\r",
      " 30%|███████████████████████                                                      | 463/1550 [31:04<1:11:20,  3.94s/it]"
     ]
    },
    {
     "name": "stdout",
     "output_type": "stream",
     "text": [
      "['Clothing & Accessories', 'Men', 'T-Shirts & Polos', 'T-Shirts']\n",
      "463\n",
      "https://www.amazon.in/dp/B01LZZZ5AB\n"
     ]
    },
    {
     "name": "stderr",
     "output_type": "stream",
     "text": [
      "\r",
      " 30%|███████████████████████                                                      | 464/1550 [31:08<1:11:04,  3.93s/it]"
     ]
    },
    {
     "name": "stdout",
     "output_type": "stream",
     "text": [
      "Visit the fanideaz Store\n",
      "['Clothing & Accessories', 'Men', 'T-Shirts & Polos', 'T-Shirts']\n",
      "464\n",
      "https://www.amazon.in/dp/B0B5YDDMGD\n",
      "Brand: Van Heusen\n"
     ]
    },
    {
     "name": "stderr",
     "output_type": "stream",
     "text": [
      "\r",
      " 30%|███████████████████████                                                      | 465/1550 [31:11<1:10:47,  3.91s/it]"
     ]
    },
    {
     "name": "stdout",
     "output_type": "stream",
     "text": [
      "['Fashion', 'Apparel Steal Deals', 'Apparel_1', 'Men', 'Formal wear 40%-60% Off']\n",
      "465\n",
      "https://www.amazon.in/dp/B0C5F244SL\n",
      "Brand: Van Heusen\n"
     ]
    },
    {
     "name": "stderr",
     "output_type": "stream",
     "text": [
      "\r",
      " 30%|███████████████████████▏                                                     | 466/1550 [31:15<1:08:32,  3.79s/it]"
     ]
    },
    {
     "name": "stdout",
     "output_type": "stream",
     "text": [
      "['Clothing & Accessories', 'Men', 'Shirts', 'Formal Shirts']\n",
      "466\n",
      "https://www.amazon.in/dp/B091SM592D\n",
      "Visit the EYEBOGLER Store\n"
     ]
    },
    {
     "name": "stderr",
     "output_type": "stream",
     "text": [
      "\r",
      " 30%|███████████████████████▏                                                     | 467/1550 [31:19<1:08:46,  3.81s/it]"
     ]
    },
    {
     "name": "stdout",
     "output_type": "stream",
     "text": [
      "['Clothing & Accessories', 'Men', 'T-Shirts & Polos', 'T-Shirts']\n",
      "467\n",
      "https://www.amazon.in/dp/B0C53SVX46\n",
      "Brand: Van Heusen\n"
     ]
    },
    {
     "name": "stderr",
     "output_type": "stream",
     "text": [
      "\r",
      " 30%|███████████████████████▏                                                     | 468/1550 [31:23<1:09:36,  3.86s/it]"
     ]
    },
    {
     "name": "stdout",
     "output_type": "stream",
     "text": [
      "['Clothing & Accessories', 'Men', 'Shirts', 'Formal Shirts']\n",
      "468\n",
      "https://www.amazon.in/dp/B0CC33LSMD\n"
     ]
    },
    {
     "name": "stderr",
     "output_type": "stream",
     "text": [
      "\r",
      " 30%|███████████████████████▎                                                     | 469/1550 [31:26<1:08:10,  3.78s/it]"
     ]
    },
    {
     "name": "stdout",
     "output_type": "stream",
     "text": [
      "Visit the BULLMER Store\n",
      "['Clothing & Accessories', 'Men', 'T-Shirts & Polos', 'T-Shirts']\n",
      "469\n",
      "https://www.amazon.in/dp/B076CKF1GB\n",
      "Visit the Van Heusen Store\n"
     ]
    },
    {
     "name": "stderr",
     "output_type": "stream",
     "text": [
      "\r",
      " 30%|███████████████████████▎                                                     | 470/1550 [31:31<1:10:41,  3.93s/it]"
     ]
    },
    {
     "name": "stdout",
     "output_type": "stream",
     "text": [
      "['Fashion', 'Apparel Steal Deals', 'Apparel_1', 'Men', \"Men's Bestsellers\"]\n",
      "470\n",
      "https://www.amazon.in/dp/B0BRY1YG9C\n"
     ]
    },
    {
     "name": "stderr",
     "output_type": "stream",
     "text": [
      "\r",
      " 30%|███████████████████████▍                                                     | 471/1550 [31:35<1:13:14,  4.07s/it]"
     ]
    },
    {
     "name": "stdout",
     "output_type": "stream",
     "text": [
      "Visit the LookMark Store\n",
      "['Clothing & Accessories', 'Men', 'T-Shirts & Polos', 'Polos']\n",
      "471\n",
      "https://www.amazon.in/dp/B073WBYVMR\n",
      "Visit the Van Heusen Store\n"
     ]
    },
    {
     "name": "stderr",
     "output_type": "stream",
     "text": [
      "\r",
      " 30%|███████████████████████▍                                                     | 472/1550 [31:39<1:14:15,  4.13s/it]"
     ]
    },
    {
     "name": "stdout",
     "output_type": "stream",
     "text": [
      "['Clothing & Accessories', 'Men', 'T-Shirts & Polos', 'T-Shirts']\n",
      "472\n",
      "https://www.amazon.in/dp/B07R6ML2XN\n"
     ]
    },
    {
     "name": "stderr",
     "output_type": "stream",
     "text": [
      "\r",
      " 31%|███████████████████████▍                                                     | 473/1550 [31:44<1:15:08,  4.19s/it]"
     ]
    },
    {
     "name": "stdout",
     "output_type": "stream",
     "text": [
      "Visit the Van Heusen Store\n",
      "['Clothing & Accessories', 'Men', 'T-Shirts & Polos', 'Polos']\n",
      "473\n",
      "https://www.amazon.in/dp/B089B45BC8\n",
      "Visit the EYEBOGLER Store\n"
     ]
    },
    {
     "name": "stderr",
     "output_type": "stream",
     "text": [
      "\r",
      " 31%|███████████████████████▌                                                     | 474/1550 [31:47<1:13:05,  4.08s/it]"
     ]
    },
    {
     "name": "stdout",
     "output_type": "stream",
     "text": [
      "['Fashion', 'Apparel Steal Deals', 'Apparel_1', 'Men', \"Men's fashion starting 199\"]\n",
      "474\n",
      "https://www.amazon.in/dp/B07QN62N64\n",
      "Visit the Van Heusen Store\n"
     ]
    },
    {
     "name": "stderr",
     "output_type": "stream",
     "text": [
      "\r",
      " 31%|███████████████████████▌                                                     | 475/1550 [31:52<1:12:45,  4.06s/it]"
     ]
    },
    {
     "name": "stdout",
     "output_type": "stream",
     "text": [
      "['Clothing & Accessories', 'Men', 'T-Shirts & Polos', 'Polos']\n",
      "475\n",
      "https://www.amazon.in/dp/B0BVR8552W\n",
      "Visit the TOPLOT Store\n"
     ]
    },
    {
     "name": "stderr",
     "output_type": "stream",
     "text": [
      "\r",
      " 31%|███████████████████████▋                                                     | 476/1550 [31:55<1:11:02,  3.97s/it]"
     ]
    },
    {
     "name": "stdout",
     "output_type": "stream",
     "text": [
      "['Clothing & Accessories', 'Men', 'T-Shirts & Polos', 'T-Shirts']\n",
      "476\n",
      "https://www.amazon.in/dp/B083C2WR1H\n",
      "Brand: Van Heusen Athleisure\n"
     ]
    },
    {
     "name": "stderr",
     "output_type": "stream",
     "text": [
      "\r",
      " 31%|███████████████████████▋                                                     | 477/1550 [31:59<1:10:03,  3.92s/it]"
     ]
    },
    {
     "name": "stdout",
     "output_type": "stream",
     "text": [
      "['Clothing & Accessories', 'Men', 'T-Shirts & Polos', 'T-Shirts']\n",
      "477\n",
      "https://www.amazon.in/dp/B09RHCSNHL\n",
      "Visit the London Hills Store\n"
     ]
    },
    {
     "name": "stderr",
     "output_type": "stream",
     "text": [
      "\r",
      " 31%|███████████████████████▋                                                     | 478/1550 [32:03<1:10:33,  3.95s/it]"
     ]
    },
    {
     "name": "stdout",
     "output_type": "stream",
     "text": [
      "['Clothing & Accessories', 'Men', 'T-Shirts & Polos', 'T-Shirts']\n",
      "478\n",
      "https://www.amazon.in/dp/B091KSNG54\n",
      "Visit the Van Heusen Store\n"
     ]
    },
    {
     "name": "stderr",
     "output_type": "stream",
     "text": [
      "\r",
      " 31%|███████████████████████▊                                                     | 479/1550 [32:07<1:09:59,  3.92s/it]"
     ]
    },
    {
     "name": "stdout",
     "output_type": "stream",
     "text": [
      "['Clothing & Accessories', 'Men', 'T-Shirts & Polos', 'Polos']\n",
      "479\n",
      "https://www.amazon.in/dp/B0BRSR1W97\n"
     ]
    },
    {
     "name": "stderr",
     "output_type": "stream",
     "text": [
      "\r",
      " 31%|███████████████████████▊                                                     | 480/1550 [32:11<1:09:34,  3.90s/it]"
     ]
    },
    {
     "name": "stdout",
     "output_type": "stream",
     "text": [
      "Visit the EYEBOGLER Store\n",
      "['Clothing & Accessories', 'Men', 'T-Shirts & Polos', 'T-Shirts']\n",
      "480\n",
      "https://www.amazon.in/dp/B073WBTNDV\n"
     ]
    },
    {
     "name": "stderr",
     "output_type": "stream",
     "text": [
      "\r",
      " 31%|███████████████████████▉                                                     | 481/1550 [32:16<1:13:55,  4.15s/it]"
     ]
    },
    {
     "name": "stdout",
     "output_type": "stream",
     "text": [
      "Visit the Van Heusen Store\n",
      "['Clothing & Accessories', 'Men', 'T-Shirts & Polos', 'T-Shirts']\n",
      "481\n",
      "https://www.amazon.in/dp/B0BXDHBRBC\n",
      "Visit the Maniac Store\n"
     ]
    },
    {
     "name": "stderr",
     "output_type": "stream",
     "text": [
      "\r",
      " 31%|███████████████████████▉                                                     | 482/1550 [32:19<1:11:20,  4.01s/it]"
     ]
    },
    {
     "name": "stdout",
     "output_type": "stream",
     "text": [
      "['Clothing & Accessories', 'Men', 'T-Shirts & Polos', 'T-Shirts']\n",
      "482\n",
      "https://www.amazon.in/dp/B0BZVGFRF8\n"
     ]
    },
    {
     "name": "stderr",
     "output_type": "stream",
     "text": [
      "\r",
      " 31%|███████████████████████▉                                                     | 483/1550 [32:24<1:13:53,  4.16s/it]"
     ]
    },
    {
     "name": "stdout",
     "output_type": "stream",
     "text": [
      "Brand: Van Heusen\n",
      "['Clothing & Accessories', 'Men', 'T-Shirts & Polos', 'T-Shirts']\n",
      "483\n",
      "https://www.amazon.in/dp/B08CDYD8WY\n"
     ]
    },
    {
     "name": "stderr",
     "output_type": "stream",
     "text": [
      "\r",
      " 31%|████████████████████████                                                     | 484/1550 [32:28<1:12:34,  4.09s/it]"
     ]
    },
    {
     "name": "stdout",
     "output_type": "stream",
     "text": [
      "Visit the London Hills Store\n",
      "['Clothing & Accessories', 'Men', 'T-Shirts & Polos', 'T-Shirts']\n",
      "484\n",
      "https://www.amazon.in/dp/B073WC9XQ9\n",
      "Visit the Van Heusen Store\n"
     ]
    },
    {
     "name": "stderr",
     "output_type": "stream",
     "text": [
      "\r",
      " 31%|████████████████████████                                                     | 485/1550 [32:32<1:11:40,  4.04s/it]"
     ]
    },
    {
     "name": "stdout",
     "output_type": "stream",
     "text": [
      "['Clothing & Accessories', 'Men', 'T-Shirts & Polos', 'T-Shirts']\n",
      "485\n",
      "https://www.amazon.in/dp/B073WC7L5W\n",
      "Visit the Van Heusen Store\n"
     ]
    },
    {
     "name": "stderr",
     "output_type": "stream",
     "text": [
      "\r",
      " 31%|████████████████████████▏                                                    | 486/1550 [32:35<1:10:33,  3.98s/it]"
     ]
    },
    {
     "name": "stdout",
     "output_type": "stream",
     "text": [
      "['Clothing & Accessories', 'Men', 'T-Shirts & Polos', 'T-Shirts']\n",
      "486\n",
      "https://www.amazon.in/dp/B0BCKM4MS4\n"
     ]
    },
    {
     "name": "stderr",
     "output_type": "stream",
     "text": [
      "\r",
      " 31%|████████████████████████▏                                                    | 487/1550 [32:39<1:07:13,  3.79s/it]"
     ]
    },
    {
     "name": "stdout",
     "output_type": "stream",
     "text": [
      "Visit the London Hills Store\n",
      "['Clothing & Accessories', 'Men', 'T-Shirts & Polos', 'T-Shirts']\n",
      "487\n",
      "https://www.amazon.in/dp/B083C1GWNQ\n"
     ]
    },
    {
     "name": "stderr",
     "output_type": "stream",
     "text": [
      "\r",
      " 31%|████████████████████████▏                                                    | 488/1550 [32:43<1:09:18,  3.92s/it]"
     ]
    },
    {
     "name": "stdout",
     "output_type": "stream",
     "text": [
      "Visit the Van Heusen Store\n",
      "['Clothing & Accessories', 'Men', 'T-Shirts & Polos', 'T-Shirts']\n",
      "488\n",
      "https://www.amazon.in/dp/B0BWTP82VJ\n",
      "Visit the LEWEL Store\n"
     ]
    },
    {
     "name": "stderr",
     "output_type": "stream",
     "text": [
      "\r",
      " 32%|████████████████████████▎                                                    | 489/1550 [32:47<1:11:46,  4.06s/it]"
     ]
    },
    {
     "name": "stdout",
     "output_type": "stream",
     "text": [
      "['Fashion', 'Next Gen store | Men', 'Shop by color', 'Graphic monos', 'Apparel']\n",
      "489\n",
      "https://www.amazon.in/dp/B0BVW3HLLB\n"
     ]
    },
    {
     "name": "stderr",
     "output_type": "stream",
     "text": [
      "\r",
      " 32%|████████████████████████▎                                                    | 490/1550 [32:52<1:13:20,  4.15s/it]"
     ]
    },
    {
     "name": "stdout",
     "output_type": "stream",
     "text": [
      "Brand: Van Heusen\n",
      "['Clothing & Accessories', 'Men', 'T-Shirts & Polos', 'Polos']\n",
      "490\n",
      "https://www.amazon.in/dp/B0BTVNP3NZ\n",
      "Visit the LEOTUDE Store\n"
     ]
    },
    {
     "name": "stderr",
     "output_type": "stream",
     "text": [
      "\r",
      " 32%|████████████████████████▍                                                    | 491/1550 [32:56<1:12:15,  4.09s/it]"
     ]
    },
    {
     "name": "stdout",
     "output_type": "stream",
     "text": [
      "['Clothing & Accessories', 'Men', 'T-Shirts & Polos', 'T-Shirts']\n",
      "491\n",
      "https://www.amazon.in/dp/B091KRKSLF\n",
      "Brand: Van Heusen\n"
     ]
    },
    {
     "name": "stderr",
     "output_type": "stream",
     "text": [
      "\r",
      " 32%|████████████████████████▍                                                    | 492/1550 [33:00<1:13:09,  4.15s/it]"
     ]
    },
    {
     "name": "stdout",
     "output_type": "stream",
     "text": [
      "['Clothing & Accessories', 'Men', 'T-Shirts & Polos', 'T-Shirts']\n",
      "492\n",
      "https://www.amazon.in/dp/B09ZLKR6H3\n",
      "Visit the Van Heusen Store\n"
     ]
    },
    {
     "name": "stderr",
     "output_type": "stream",
     "text": [
      "\r",
      " 32%|████████████████████████▍                                                    | 493/1550 [33:04<1:14:27,  4.23s/it]"
     ]
    },
    {
     "name": "stdout",
     "output_type": "stream",
     "text": [
      "['Fashion', 'Apparel Steal Deals', 'Apparel_1', 'Men', 'T-Shirts & Polos under 699']\n",
      "493\n",
      "https://www.amazon.in/dp/B0C7KCD1LJ\n",
      "Visit the Park Avenue Store\n"
     ]
    },
    {
     "name": "stderr",
     "output_type": "stream",
     "text": [
      "\r",
      " 32%|████████████████████████▌                                                    | 494/1550 [33:09<1:14:00,  4.21s/it]"
     ]
    },
    {
     "name": "stdout",
     "output_type": "stream",
     "text": [
      "['Clothing & Accessories', 'Men', 'T-Shirts & Polos', 'T-Shirts']\n",
      "494\n",
      "https://www.amazon.in/dp/B091KQJ2M1\n"
     ]
    },
    {
     "name": "stderr",
     "output_type": "stream",
     "text": [
      "\r",
      " 32%|████████████████████████▌                                                    | 495/1550 [33:13<1:13:14,  4.17s/it]"
     ]
    },
    {
     "name": "stdout",
     "output_type": "stream",
     "text": [
      "Visit the Van Heusen Store\n",
      "['Clothing & Accessories', 'Men', 'T-Shirts & Polos', 'T-Shirts']\n",
      "495\n",
      "https://www.amazon.in/dp/B073WBTNFZ\n",
      "Brand: Van Heusen\n"
     ]
    },
    {
     "name": "stderr",
     "output_type": "stream",
     "text": [
      "\r",
      " 32%|████████████████████████▋                                                    | 496/1550 [33:17<1:13:42,  4.20s/it]"
     ]
    },
    {
     "name": "stdout",
     "output_type": "stream",
     "text": [
      "['Fashion', 'Next Gen store | Men', 'Shop by color', 'Earthy neutrals', 'Apparel']\n",
      "496\n",
      "https://www.amazon.in/dp/B0BTVZ544T\n"
     ]
    },
    {
     "name": "stderr",
     "output_type": "stream",
     "text": [
      "\r",
      " 32%|████████████████████████▋                                                    | 497/1550 [33:20<1:10:20,  4.01s/it]"
     ]
    },
    {
     "name": "stdout",
     "output_type": "stream",
     "text": [
      "Visit the Veirdo Store\n",
      "['Clothing & Accessories', 'Men', 'T-Shirts & Polos', 'T-Shirts']\n",
      "497\n",
      "https://www.amazon.in/dp/B09XV8ZZ81\n"
     ]
    },
    {
     "name": "stderr",
     "output_type": "stream",
     "text": [
      "\r",
      " 32%|████████████████████████▋                                                    | 498/1550 [33:24<1:07:54,  3.87s/it]"
     ]
    },
    {
     "name": "stdout",
     "output_type": "stream",
     "text": [
      "Brand: Van Heusen\n",
      "['Clothing & Accessories', 'Men', 'T-Shirts & Polos', 'T-Shirts']\n",
      "498\n",
      "https://www.amazon.in/dp/B0B29KG33C\n"
     ]
    },
    {
     "name": "stderr",
     "output_type": "stream",
     "text": [
      "\r",
      " 32%|████████████████████████▊                                                    | 499/1550 [33:28<1:06:24,  3.79s/it]"
     ]
    },
    {
     "name": "stdout",
     "output_type": "stream",
     "text": [
      "Visit the fanideaz Store\n",
      "['Clothing & Accessories', 'Men', 'T-Shirts & Polos', 'T-Shirts']\n",
      "499\n",
      "https://www.amazon.in/dp/B08XQWQ2BL\n"
     ]
    },
    {
     "name": "stderr",
     "output_type": "stream",
     "text": [
      "\r",
      " 32%|████████████████████████▊                                                    | 500/1550 [33:32<1:07:00,  3.83s/it]"
     ]
    },
    {
     "name": "stdout",
     "output_type": "stream",
     "text": [
      "Visit the Van Heusen Store\n",
      "['Clothing & Accessories', 'Men', 'T-Shirts & Polos', 'Polos']\n",
      "500\n",
      "https://www.amazon.in/dp/B07DK4W2R7\n"
     ]
    },
    {
     "name": "stderr",
     "output_type": "stream",
     "text": [
      "\r",
      " 32%|████████████████████████▉                                                    | 501/1550 [33:35<1:04:59,  3.72s/it]"
     ]
    },
    {
     "name": "stdout",
     "output_type": "stream",
     "text": [
      "Visit the Van Heusen Store\n",
      "['Clothing & Accessories', 'Men', 'T-Shirts & Polos', 'T-Shirts']\n",
      "501\n",
      "https://www.amazon.in/dp/B0B6HQWT48\n",
      "Visit the GRITSTONES Store\n"
     ]
    },
    {
     "name": "stderr",
     "output_type": "stream",
     "text": [
      "\r",
      " 32%|████████████████████████▉                                                    | 502/1550 [33:39<1:04:19,  3.68s/it]"
     ]
    },
    {
     "name": "stdout",
     "output_type": "stream",
     "text": [
      "['Clothing & Accessories', 'Men', 'T-Shirts & Polos', 'T-Shirts']\n",
      "502\n",
      "https://www.amazon.in/dp/B08KTYMLPY\n"
     ]
    },
    {
     "name": "stderr",
     "output_type": "stream",
     "text": [
      "\r",
      " 32%|████████████████████████▉                                                    | 503/1550 [33:43<1:06:43,  3.82s/it]"
     ]
    },
    {
     "name": "stdout",
     "output_type": "stream",
     "text": [
      "Brand: Allen Solly\n",
      "['Fashion', 'Apparel Steal Deals', 'Apparel_1', 'Men', 'T-Shirts & Polos under 699']\n",
      "503\n",
      "https://www.amazon.in/dp/B073WB738H\n",
      "Visit the Van Heusen Store\n"
     ]
    },
    {
     "name": "stderr",
     "output_type": "stream",
     "text": [
      "\r",
      " 33%|█████████████████████████                                                    | 504/1550 [33:47<1:09:36,  3.99s/it]"
     ]
    },
    {
     "name": "stdout",
     "output_type": "stream",
     "text": [
      "['Fashion', 'Apparel Steal Deals', 'Apparel_1', 'Men', \"Men's Apparel BxGy\"]\n",
      "504\n",
      "https://www.amazon.in/dp/B0B6W6Y9GH\n"
     ]
    },
    {
     "name": "stderr",
     "output_type": "stream",
     "text": [
      "\r",
      " 33%|█████████████████████████                                                    | 505/1550 [33:51<1:08:55,  3.96s/it]"
     ]
    },
    {
     "name": "stdout",
     "output_type": "stream",
     "text": [
      "Visit the RodZen Store\n",
      "['Clothing & Accessories', 'Men', 'T-Shirts & Polos', 'T-Shirts']\n",
      "505\n",
      "https://www.amazon.in/dp/B07RC1JWH4\n"
     ]
    },
    {
     "name": "stderr",
     "output_type": "stream",
     "text": [
      "\r",
      " 33%|█████████████████████████▏                                                   | 506/1550 [33:54<1:06:09,  3.80s/it]"
     ]
    },
    {
     "name": "stdout",
     "output_type": "stream",
     "text": [
      "Visit the Van Heusen Store\n",
      "['Clothing & Accessories', 'Men', 'T-Shirts & Polos', 'T-Shirts']\n",
      "506\n",
      "https://www.amazon.in/dp/B08D7NPNZR\n",
      "Visit the Urbano Fashion Store\n"
     ]
    },
    {
     "name": "stderr",
     "output_type": "stream",
     "text": [
      "\r",
      " 33%|█████████████████████████▏                                                   | 507/1550 [33:59<1:08:02,  3.91s/it]"
     ]
    },
    {
     "name": "stdout",
     "output_type": "stream",
     "text": [
      "['Clothing & Accessories', 'Men', 'T-Shirts & Polos', 'T-Shirts']\n",
      "507\n",
      "https://www.amazon.in/dp/B0C8V3G5WH\n",
      "Visit the London Hills Store\n"
     ]
    },
    {
     "name": "stderr",
     "output_type": "stream",
     "text": [
      "\r",
      " 33%|█████████████████████████▏                                                   | 508/1550 [34:03<1:10:30,  4.06s/it]"
     ]
    },
    {
     "name": "stdout",
     "output_type": "stream",
     "text": [
      "['Clothing & Accessories', 'Men', 'T-Shirts & Polos', 'T-Shirts']\n",
      "508\n",
      "https://www.amazon.in/dp/B08XQSJBP2\n",
      "Visit the Van Heusen Store\n"
     ]
    },
    {
     "name": "stderr",
     "output_type": "stream",
     "text": [
      "\r",
      " 33%|█████████████████████████▎                                                   | 509/1550 [34:07<1:09:27,  4.00s/it]"
     ]
    },
    {
     "name": "stdout",
     "output_type": "stream",
     "text": [
      "['Fashion', 'Apparel Steal Deals', 'Apparel_1', 'Men', 'Polos & T-Shirts - Min 50% Off']\n",
      "509\n",
      "https://www.amazon.in/dp/B091KRRY94\n",
      "Visit the Van Heusen Store\n"
     ]
    },
    {
     "name": "stderr",
     "output_type": "stream",
     "text": [
      "\r",
      " 33%|█████████████████████████▎                                                   | 510/1550 [34:11<1:09:23,  4.00s/it]"
     ]
    },
    {
     "name": "stdout",
     "output_type": "stream",
     "text": [
      "['Clothing & Accessories', 'Men', 'T-Shirts & Polos', 'T-Shirts']\n",
      "510\n",
      "https://www.amazon.in/dp/B09KBK166K\n",
      "Brand: AELOMART\n"
     ]
    },
    {
     "name": "stderr",
     "output_type": "stream",
     "text": [
      "\r",
      " 33%|█████████████████████████▍                                                   | 511/1550 [34:14<1:07:06,  3.88s/it]"
     ]
    },
    {
     "name": "stdout",
     "output_type": "stream",
     "text": [
      "['Clothing & Accessories', 'Men', 'T-Shirts & Polos', 'T-Shirts']\n",
      "511\n",
      "https://www.amazon.in/dp/B08XQXMNT4\n",
      "Visit the Van Heusen Store\n"
     ]
    },
    {
     "name": "stderr",
     "output_type": "stream",
     "text": [
      "\r",
      " 33%|█████████████████████████▍                                                   | 512/1550 [34:18<1:06:49,  3.86s/it]"
     ]
    },
    {
     "name": "stdout",
     "output_type": "stream",
     "text": [
      "['Clothing & Accessories', 'Men', 'T-Shirts & Polos', 'T-Shirts']\n",
      "512\n",
      "https://www.amazon.in/dp/B091KRYBTV\n"
     ]
    },
    {
     "name": "stderr",
     "output_type": "stream",
     "text": [
      "\r",
      " 33%|█████████████████████████▍                                                   | 513/1550 [34:22<1:07:08,  3.88s/it]"
     ]
    },
    {
     "name": "stdout",
     "output_type": "stream",
     "text": [
      "Brand: Van Heusen\n",
      "['Clothing & Accessories', 'Men', 'T-Shirts & Polos', 'T-Shirts']\n",
      "513\n",
      "https://www.amazon.in/dp/B0C5XVTCPS\n"
     ]
    },
    {
     "name": "stderr",
     "output_type": "stream",
     "text": [
      "\r",
      " 33%|█████████████████████████▌                                                   | 514/1550 [34:26<1:05:53,  3.82s/it]"
     ]
    },
    {
     "name": "stdout",
     "output_type": "stream",
     "text": [
      "Visit the Amazon Brand - Symbol Store\n",
      "['Fashion', 'Made for Amazon brands', 'All SPB apparel', 'FD', 'Symbol']\n",
      "514\n",
      "https://www.amazon.in/dp/B091KTT2VT\n"
     ]
    },
    {
     "name": "stderr",
     "output_type": "stream",
     "text": [
      "\r",
      " 33%|█████████████████████████▌                                                   | 515/1550 [34:30<1:08:04,  3.95s/it]"
     ]
    },
    {
     "name": "stdout",
     "output_type": "stream",
     "text": [
      "Visit the Van Heusen Store\n",
      "['Clothing & Accessories', 'Men', 'T-Shirts & Polos', 'Polos']\n",
      "515\n",
      "https://www.amazon.in/dp/B09XXQ1ZLY\n"
     ]
    },
    {
     "name": "stderr",
     "output_type": "stream",
     "text": [
      "\r",
      " 33%|█████████████████████████▋                                                   | 516/1550 [34:34<1:06:02,  3.83s/it]"
     ]
    },
    {
     "name": "stdout",
     "output_type": "stream",
     "text": [
      "Visit the Veirdo Store\n",
      "['Clothing & Accessories', 'Men', 'T-Shirts & Polos', 'T-Shirts']\n",
      "516\n",
      "https://www.amazon.in/dp/B076STT2FK\n",
      "Visit the AMERICAN CREW Store\n"
     ]
    },
    {
     "name": "stderr",
     "output_type": "stream",
     "text": [
      "\r",
      " 33%|█████████████████████████▋                                                   | 517/1550 [34:37<1:05:28,  3.80s/it]"
     ]
    },
    {
     "name": "stdout",
     "output_type": "stream",
     "text": [
      "['Fashion', 'The Plus Size Store', 'Brands', 'American Crew', '1']\n",
      "517\n",
      "https://www.amazon.in/dp/B09XV7BQRX\n"
     ]
    },
    {
     "name": "stderr",
     "output_type": "stream",
     "text": [
      "\r",
      " 33%|█████████████████████████▋                                                   | 518/1550 [34:41<1:03:48,  3.71s/it]"
     ]
    },
    {
     "name": "stdout",
     "output_type": "stream",
     "text": [
      "Brand: Van Heusen Flex\n",
      "['Clothing & Accessories', 'Men', 'T-Shirts & Polos', 'T-Shirts']\n",
      "518\n",
      "https://www.amazon.in/dp/B0BRNNZ7QH\n"
     ]
    },
    {
     "name": "stderr",
     "output_type": "stream",
     "text": [
      "\r",
      " 33%|█████████████████████████▊                                                   | 519/1550 [34:45<1:05:32,  3.81s/it]"
     ]
    },
    {
     "name": "stdout",
     "output_type": "stream",
     "text": [
      "Visit the Van Heusen Store\n",
      "['Clothing & Accessories', 'Men', 'T-Shirts & Polos', 'T-Shirts']\n",
      "519\n",
      "https://www.amazon.in/dp/B07MZLXP5C\n",
      "Visit the Amazon Brand - Symbol Store\n"
     ]
    },
    {
     "name": "stderr",
     "output_type": "stream",
     "text": [
      "\r",
      " 34%|█████████████████████████▊                                                   | 520/1550 [34:49<1:07:12,  3.92s/it]"
     ]
    },
    {
     "name": "stdout",
     "output_type": "stream",
     "text": [
      "['Fashion', 'Made for Amazon brands', 'All SPB apparel', 'FD', 'Symbol']\n",
      "520\n",
      "https://www.amazon.in/dp/B09FB2S1BN\n"
     ]
    },
    {
     "name": "stderr",
     "output_type": "stream",
     "text": [
      "\r",
      " 34%|█████████████████████████▉                                                   | 521/1550 [34:53<1:07:09,  3.92s/it]"
     ]
    },
    {
     "name": "stdout",
     "output_type": "stream",
     "text": [
      "Brand: Van Heusen\n",
      "['Clothing & Accessories', 'Men', 'T-Shirts & Polos', 'T-Shirts']\n",
      "521\n",
      "https://www.amazon.in/dp/B0B4NNH4VX\n"
     ]
    },
    {
     "name": "stderr",
     "output_type": "stream",
     "text": [
      "\r",
      " 34%|█████████████████████████▉                                                   | 522/1550 [34:57<1:06:45,  3.90s/it]"
     ]
    },
    {
     "name": "stdout",
     "output_type": "stream",
     "text": [
      "Visit the BULLMER Store\n",
      "['Clothing & Accessories', 'Men', 'T-Shirts & Polos', 'T-Shirts']\n",
      "522\n",
      "https://www.amazon.in/dp/B07R8VBK2H\n",
      "Visit the Van Heusen Store\n"
     ]
    },
    {
     "name": "stderr",
     "output_type": "stream",
     "text": [
      "\r",
      " 34%|█████████████████████████▉                                                   | 523/1550 [35:01<1:06:55,  3.91s/it]"
     ]
    },
    {
     "name": "stdout",
     "output_type": "stream",
     "text": [
      "['Clothing & Accessories', 'Men', 'T-Shirts & Polos', 'T-Shirts']\n",
      "523\n",
      "https://www.amazon.in/dp/B083C2V7BR\n",
      "Visit the Van Heusen Store\n"
     ]
    },
    {
     "name": "stderr",
     "output_type": "stream",
     "text": [
      "\r",
      " 34%|██████████████████████████                                                   | 524/1550 [35:05<1:09:28,  4.06s/it]"
     ]
    },
    {
     "name": "stdout",
     "output_type": "stream",
     "text": [
      "['Fashion', 'Men apparel trends', 'Logo', 'Logo topwear', 'Logo t-shirts & vest', 'Logo T-shirts']\n",
      "524\n",
      "https://www.amazon.in/dp/B091KQQKCK\n",
      "Brand: Van Heusen\n"
     ]
    },
    {
     "name": "stderr",
     "output_type": "stream",
     "text": [
      "\r",
      " 34%|██████████████████████████                                                   | 525/1550 [35:09<1:10:10,  4.11s/it]"
     ]
    },
    {
     "name": "stdout",
     "output_type": "stream",
     "text": [
      "['Clothing & Accessories', 'Men', 'T-Shirts & Polos', 'Polos']\n",
      "525\n",
      "https://www.amazon.in/dp/B0C1BQXQW8\n",
      "Brand: Van Heusen\n"
     ]
    },
    {
     "name": "stderr",
     "output_type": "stream",
     "text": [
      "\r",
      " 34%|██████████████████████████▏                                                  | 526/1550 [35:13<1:07:12,  3.94s/it]"
     ]
    },
    {
     "name": "stdout",
     "output_type": "stream",
     "text": [
      "['Clothing & Accessories', 'Men', 'T-Shirts & Polos', 'Polos']\n",
      "526\n",
      "https://www.amazon.in/dp/B0BMQF4FHS\n",
      "Visit the Van Heusen Store\n"
     ]
    },
    {
     "name": "stderr",
     "output_type": "stream",
     "text": [
      "\r",
      " 34%|██████████████████████████▏                                                  | 527/1550 [35:17<1:08:18,  4.01s/it]"
     ]
    },
    {
     "name": "stdout",
     "output_type": "stream",
     "text": [
      "['Clothing & Accessories', 'Men', 'T-Shirts & Polos', 'Polos']\n",
      "527\n",
      "https://www.amazon.in/dp/B07FDV36YN\n",
      "Brand: Van Heusen Athleisure\n"
     ]
    },
    {
     "name": "stderr",
     "output_type": "stream",
     "text": [
      "\r",
      " 34%|██████████████████████████▏                                                  | 528/1550 [35:21<1:06:50,  3.92s/it]"
     ]
    },
    {
     "name": "stdout",
     "output_type": "stream",
     "text": [
      "['Clothing & Accessories', 'Men', 'T-Shirts & Polos', 'T-Shirts']\n",
      "528\n",
      "https://www.amazon.in/dp/B09XV7SCX7\n",
      "Brand: Van Heusen\n"
     ]
    },
    {
     "name": "stderr",
     "output_type": "stream",
     "text": [
      "\r",
      " 34%|██████████████████████████▎                                                  | 529/1550 [35:25<1:05:33,  3.85s/it]"
     ]
    },
    {
     "name": "stdout",
     "output_type": "stream",
     "text": [
      "['Fashion', 'Apparel Steal Deals', 'Apparel_1', 'Men', 'T-Shirts & Polos under 699']\n",
      "529\n",
      "https://www.amazon.in/dp/B0BZVVVJZG\n"
     ]
    },
    {
     "name": "stderr",
     "output_type": "stream",
     "text": [
      "\r",
      " 34%|██████████████████████████▎                                                  | 530/1550 [35:28<1:03:57,  3.76s/it]"
     ]
    },
    {
     "name": "stdout",
     "output_type": "stream",
     "text": [
      "Brand: Van Heusen\n",
      "['Clothing & Accessories', 'Men', 'Innerwear', 'Vests']\n",
      "530\n",
      "https://www.amazon.in/dp/B09QGZBLGB\n"
     ]
    },
    {
     "name": "stderr",
     "output_type": "stream",
     "text": [
      "\r",
      " 34%|██████████████████████████▍                                                  | 531/1550 [35:32<1:04:44,  3.81s/it]"
     ]
    },
    {
     "name": "stdout",
     "output_type": "stream",
     "text": [
      "Brand: Van Heusen Flex\n",
      "['Clothing & Accessories', 'Men', 'T-Shirts & Polos', 'T-Shirts']\n",
      "531\n",
      "https://www.amazon.in/dp/B091KS1GHP\n",
      "Visit the Van Heusen Store\n"
     ]
    },
    {
     "name": "stderr",
     "output_type": "stream",
     "text": [
      "\r",
      " 34%|██████████████████████████▍                                                  | 532/1550 [35:36<1:05:29,  3.86s/it]"
     ]
    },
    {
     "name": "stdout",
     "output_type": "stream",
     "text": [
      "['Clothing & Accessories', 'Men', 'T-Shirts & Polos', 'T-Shirts']\n",
      "532\n",
      "https://www.amazon.in/dp/B09ZLL5CD7\n",
      "Brand: Van Heusen\n"
     ]
    },
    {
     "name": "stderr",
     "output_type": "stream",
     "text": [
      "\r",
      " 34%|██████████████████████████▍                                                  | 533/1550 [35:40<1:04:30,  3.81s/it]"
     ]
    },
    {
     "name": "stdout",
     "output_type": "stream",
     "text": [
      "['Fashion', 'Apparel Steal Deals', 'Apparel_1', 'Men', 'Polos & T-Shirts - Min 50% Off']\n",
      "533\n",
      "https://www.amazon.in/dp/B091KSWBRB\n",
      "Visit the Van Heusen Store\n"
     ]
    },
    {
     "name": "stderr",
     "output_type": "stream",
     "text": [
      "\r",
      " 34%|██████████████████████████▌                                                  | 534/1550 [35:44<1:05:30,  3.87s/it]"
     ]
    },
    {
     "name": "stdout",
     "output_type": "stream",
     "text": [
      "['Clothing & Accessories', 'Men', 'T-Shirts & Polos', 'T-Shirts']\n",
      "534\n",
      "https://www.amazon.in/dp/B091KS11WB\n",
      "Visit the Van Heusen Store\n"
     ]
    },
    {
     "name": "stderr",
     "output_type": "stream",
     "text": [
      "\r",
      " 35%|██████████████████████████▌                                                  | 535/1550 [35:48<1:08:28,  4.05s/it]"
     ]
    },
    {
     "name": "stdout",
     "output_type": "stream",
     "text": [
      "['Clothing & Accessories', 'Men', 'T-Shirts & Polos', 'Polos']\n",
      "535\n",
      "https://www.amazon.in/dp/B091KTQXDP\n",
      "Visit the Van Heusen Store\n"
     ]
    },
    {
     "name": "stderr",
     "output_type": "stream",
     "text": [
      "\r",
      " 35%|██████████████████████████▋                                                  | 536/1550 [35:53<1:11:35,  4.24s/it]"
     ]
    },
    {
     "name": "stdout",
     "output_type": "stream",
     "text": [
      "['Clothing & Accessories', 'Men', 'T-Shirts & Polos', 'T-Shirts']\n",
      "536\n",
      "https://www.amazon.in/dp/B091KTN3G9\n",
      "Visit the Van Heusen Store\n"
     ]
    },
    {
     "name": "stderr",
     "output_type": "stream",
     "text": [
      "\r",
      " 35%|██████████████████████████▋                                                  | 537/1550 [35:57<1:11:41,  4.25s/it]"
     ]
    },
    {
     "name": "stdout",
     "output_type": "stream",
     "text": [
      "['Clothing & Accessories', 'Men', 'T-Shirts & Polos', 'Polos']\n",
      "537\n",
      "https://www.amazon.in/dp/B091KS48B6\n",
      "Visit the Van Heusen Store\n"
     ]
    },
    {
     "name": "stderr",
     "output_type": "stream",
     "text": [
      "\r",
      " 35%|██████████████████████████▋                                                  | 538/1550 [36:02<1:12:15,  4.28s/it]"
     ]
    },
    {
     "name": "stdout",
     "output_type": "stream",
     "text": [
      "['Clothing & Accessories', 'Men', 'T-Shirts & Polos', 'T-Shirts']\n",
      "538\n",
      "https://www.amazon.in/dp/B09QPYVBGV\n",
      "Brand: Peter England\n"
     ]
    },
    {
     "name": "stderr",
     "output_type": "stream",
     "text": [
      "\r",
      " 35%|██████████████████████████▊                                                  | 539/1550 [36:05<1:10:17,  4.17s/it]"
     ]
    },
    {
     "name": "stdout",
     "output_type": "stream",
     "text": [
      "['Fashion', 'Apparel Steal Deals', 'Apparel_1', 'Men', \"Men's Apparel Deals\"]\n",
      "539\n",
      "https://www.amazon.in/dp/B0C862L5ZB\n",
      "Brand: Peter England\n"
     ]
    },
    {
     "name": "stderr",
     "output_type": "stream",
     "text": [
      "\r",
      " 35%|██████████████████████████▊                                                  | 540/1550 [36:10<1:10:35,  4.19s/it]"
     ]
    },
    {
     "name": "stdout",
     "output_type": "stream",
     "text": [
      "['Clothing & Accessories', 'Men', 'T-Shirts & Polos', 'T-Shirts']\n",
      "540\n",
      "https://www.amazon.in/dp/B0CBMFJ2H4\n"
     ]
    },
    {
     "name": "stderr",
     "output_type": "stream",
     "text": [
      "\r",
      " 35%|██████████████████████████▉                                                  | 541/1550 [36:13<1:08:27,  4.07s/it]"
     ]
    },
    {
     "name": "stdout",
     "output_type": "stream",
     "text": [
      "Brand: Peter England\n",
      "['Clothing & Accessories', 'Men', 'T-Shirts & Polos', 'T-Shirts']\n",
      "541\n",
      "https://www.amazon.in/dp/B09QPMMC8C\n"
     ]
    },
    {
     "name": "stderr",
     "output_type": "stream",
     "text": [
      "\r",
      " 35%|██████████████████████████▉                                                  | 542/1550 [36:17<1:06:44,  3.97s/it]"
     ]
    },
    {
     "name": "stdout",
     "output_type": "stream",
     "text": [
      "Brand: Peter England\n",
      "['Clothing & Accessories', 'Men', 'T-Shirts & Polos', 'Polos']\n",
      "542\n",
      "https://www.amazon.in/dp/B0CBMG9R4H\n"
     ]
    },
    {
     "name": "stderr",
     "output_type": "stream",
     "text": [
      "\r",
      " 35%|██████████████████████████▉                                                  | 543/1550 [36:21<1:06:42,  3.97s/it]"
     ]
    },
    {
     "name": "stdout",
     "output_type": "stream",
     "text": [
      "Brand: Peter England\n",
      "['Clothing & Accessories', 'Men', 'T-Shirts & Polos', 'T-Shirts']\n",
      "543\n",
      "https://www.amazon.in/dp/B0C7CMQ53R\n"
     ]
    },
    {
     "name": "stderr",
     "output_type": "stream",
     "text": [
      "\r",
      " 35%|███████████████████████████                                                  | 544/1550 [36:25<1:06:16,  3.95s/it]"
     ]
    },
    {
     "name": "stdout",
     "output_type": "stream",
     "text": [
      "Visit the TEGO Store\n",
      "['Clothing & Accessories', 'Men', 'Sportswear', 'Athletic Socks']\n",
      "544\n",
      "https://www.amazon.in/dp/B0BHW6F7JJ\n",
      "Brand: Peter England\n"
     ]
    },
    {
     "name": "stderr",
     "output_type": "stream",
     "text": [
      "\r",
      " 35%|███████████████████████████                                                  | 545/1550 [36:29<1:08:18,  4.08s/it]"
     ]
    },
    {
     "name": "stdout",
     "output_type": "stream",
     "text": [
      "['Clothing & Accessories', 'Men', 'T-Shirts & Polos', 'Polos']\n",
      "545\n",
      "https://www.amazon.in/dp/B0CBMF2D6B\n"
     ]
    },
    {
     "name": "stderr",
     "output_type": "stream",
     "text": [
      "\r",
      " 35%|███████████████████████████                                                  | 546/1550 [36:33<1:05:33,  3.92s/it]"
     ]
    },
    {
     "name": "stdout",
     "output_type": "stream",
     "text": [
      "Brand: Peter England\n",
      "['Clothing & Accessories', 'Men', 'T-Shirts & Polos', 'Polos']\n",
      "546\n",
      "https://www.amazon.in/dp/B09QQ72191\n",
      "Brand: Peter England\n"
     ]
    },
    {
     "name": "stderr",
     "output_type": "stream",
     "text": [
      "\r",
      " 35%|███████████████████████████▏                                                 | 547/1550 [36:37<1:06:51,  4.00s/it]"
     ]
    },
    {
     "name": "stdout",
     "output_type": "stream",
     "text": [
      "['Fashion', 'Apparel Steal Deals', 'Apparel_1', 'Men', 'T-shirts under 499']\n",
      "547\n",
      "https://www.amazon.in/dp/B0C863J398\n"
     ]
    },
    {
     "name": "stderr",
     "output_type": "stream",
     "text": [
      "\r",
      " 35%|███████████████████████████▏                                                 | 548/1550 [36:41<1:04:43,  3.88s/it]"
     ]
    },
    {
     "name": "stdout",
     "output_type": "stream",
     "text": [
      "Brand: Peter England\n",
      "['Clothing & Accessories', 'Men', 'T-Shirts & Polos', 'T-Shirts']\n",
      "548\n",
      "https://www.amazon.in/dp/B0861YXW2W\n"
     ]
    },
    {
     "name": "stderr",
     "output_type": "stream",
     "text": [
      "\r",
      " 35%|███████████████████████████▎                                                 | 549/1550 [36:44<1:03:12,  3.79s/it]"
     ]
    },
    {
     "name": "stdout",
     "output_type": "stream",
     "text": [
      "Visit the Wear Your Opinion Store\n",
      "['Clothing & Accessories', 'Men', 'T-Shirts & Polos', 'Polos']\n",
      "549\n",
      "https://www.amazon.in/dp/B0BL7Z1N8Q\n"
     ]
    },
    {
     "name": "stderr",
     "output_type": "stream",
     "text": [
      "\r",
      " 35%|███████████████████████████▎                                                 | 550/1550 [36:48<1:03:07,  3.79s/it]"
     ]
    },
    {
     "name": "stdout",
     "output_type": "stream",
     "text": [
      "Brand: Peter England\n",
      "['Clothing & Accessories', 'Men', 'T-Shirts & Polos', 'Polos']\n",
      "550\n",
      "https://www.amazon.in/dp/B09QPYBFWT\n",
      "Brand: Peter England\n"
     ]
    },
    {
     "name": "stderr",
     "output_type": "stream",
     "text": [
      "\r",
      " 36%|███████████████████████████▎                                                 | 551/1550 [36:52<1:02:19,  3.74s/it]"
     ]
    },
    {
     "name": "stdout",
     "output_type": "stream",
     "text": [
      "['Fashion', 'Apparel Steal Deals', 'Apparel_1', 'Men', 'T-shirts under 499']\n",
      "551\n",
      "https://www.amazon.in/dp/B0C862Z3ZQ\n",
      "Brand: Peter England\n"
     ]
    },
    {
     "name": "stderr",
     "output_type": "stream",
     "text": [
      "\r",
      " 36%|███████████████████████████▍                                                 | 552/1550 [36:56<1:03:00,  3.79s/it]"
     ]
    },
    {
     "name": "stdout",
     "output_type": "stream",
     "text": [
      "['Clothing & Accessories', 'Men', 'T-Shirts & Polos', 'T-Shirts']\n",
      "552\n",
      "https://www.amazon.in/dp/B09QPZPWX1\n",
      "Brand: Peter England\n"
     ]
    },
    {
     "name": "stderr",
     "output_type": "stream",
     "text": [
      "\r",
      " 36%|███████████████████████████▍                                                 | 553/1550 [36:59<1:02:23,  3.75s/it]"
     ]
    },
    {
     "name": "stdout",
     "output_type": "stream",
     "text": [
      "['Fashion', 'Apparel Steal Deals', 'Apparel_1', 'Men', \"Men's Apparel Deals\"]\n",
      "553\n",
      "https://www.amazon.in/dp/B0C14N9955\n",
      "Visit the Nifty Store\n"
     ]
    },
    {
     "name": "stderr",
     "output_type": "stream",
     "text": [
      "\r",
      " 36%|███████████████████████████▌                                                 | 554/1550 [37:03<1:01:10,  3.69s/it]"
     ]
    },
    {
     "name": "stdout",
     "output_type": "stream",
     "text": [
      "['Clothing & Accessories', 'Women', 'Western Wear', 'Jeans & Jeggings']\n",
      "554\n",
      "https://www.amazon.in/dp/B0B86LPN9B\n"
     ]
    },
    {
     "name": "stderr",
     "output_type": "stream",
     "text": [
      "\r",
      " 36%|███████████████████████████▌                                                 | 555/1550 [37:07<1:02:34,  3.77s/it]"
     ]
    },
    {
     "name": "stdout",
     "output_type": "stream",
     "text": [
      "Brand: Max\n",
      "['Clothing & Accessories', 'Boys', 'T-Shirts & Polos', 'T-Shirts']\n",
      "555\n",
      "https://www.amazon.in/dp/B0C1SSW79H\n"
     ]
    },
    {
     "name": "stderr",
     "output_type": "stream",
     "text": [
      "\r",
      " 36%|███████████████████████████▌                                                 | 556/1550 [37:10<1:01:14,  3.70s/it]"
     ]
    },
    {
     "name": "stdout",
     "output_type": "stream",
     "text": [
      "Visit the Arrow Store\n",
      "['Clothing & Accessories', 'Men', 'Shirts', 'Formal Shirts']\n",
      "556\n",
      "https://www.amazon.in/dp/B0C24DWLWR\n",
      "Visit the Arrow Store\n"
     ]
    },
    {
     "name": "stderr",
     "output_type": "stream",
     "text": [
      "\r",
      " 36%|███████████████████████████▋                                                 | 557/1550 [37:14<1:02:08,  3.75s/it]"
     ]
    },
    {
     "name": "stdout",
     "output_type": "stream",
     "text": [
      "['Clothing & Accessories', 'Men', 'Shirts', 'Formal Shirts']\n",
      "557\n",
      "https://www.amazon.in/dp/B0BTYSK5YH\n",
      "Visit the Stylum Store\n"
     ]
    },
    {
     "name": "stderr",
     "output_type": "stream",
     "text": [
      "\r",
      " 36%|███████████████████████████▋                                                 | 558/1550 [37:18<1:02:51,  3.80s/it]"
     ]
    },
    {
     "name": "stdout",
     "output_type": "stream",
     "text": [
      "['Clothing & Accessories', 'Women', 'Ethnic Wear', 'Kurtas & Kurtis']\n",
      "558\n",
      "https://www.amazon.in/dp/B0C1TNXCN8\n"
     ]
    },
    {
     "name": "stderr",
     "output_type": "stream",
     "text": [
      "\r",
      " 36%|███████████████████████████▊                                                 | 559/1550 [37:22<1:05:16,  3.95s/it]"
     ]
    },
    {
     "name": "stdout",
     "output_type": "stream",
     "text": [
      "Visit the DAMENSCH Store\n",
      "['Clothing & Accessories', 'Men', 'Winter Wear', 'Mufflers & Scarves']\n",
      "559\n",
      "https://www.amazon.in/dp/B0C1SRDKGF\n",
      "Visit the Arrow Store\n"
     ]
    },
    {
     "name": "stderr",
     "output_type": "stream",
     "text": [
      "\r",
      " 36%|███████████████████████████▊                                                 | 560/1550 [37:26<1:03:02,  3.82s/it]"
     ]
    },
    {
     "name": "stdout",
     "output_type": "stream",
     "text": [
      "['Clothing & Accessories', 'Men', 'Shirts', 'Formal Shirts']\n",
      "560\n",
      "https://www.amazon.in/dp/B09MTTCJQ2\n",
      "Visit the London Hills Store\n"
     ]
    },
    {
     "name": "stderr",
     "output_type": "stream",
     "text": [
      "\r",
      " 36%|███████████████████████████▊                                                 | 561/1550 [37:30<1:04:21,  3.90s/it]"
     ]
    },
    {
     "name": "stdout",
     "output_type": "stream",
     "text": [
      "['Clothing & Accessories', 'Men', 'T-Shirts & Polos', 'T-Shirts']\n",
      "561\n",
      "https://www.amazon.in/dp/B0B8RZX7B3\n",
      "Visit the TRASA Store\n"
     ]
    },
    {
     "name": "stderr",
     "output_type": "stream",
     "text": [
      "\r",
      " 36%|███████████████████████████▉                                                 | 562/1550 [37:34<1:02:20,  3.79s/it]"
     ]
    },
    {
     "name": "stdout",
     "output_type": "stream",
     "text": [
      "['Clothing & Accessories', 'Women', 'Sportswear', 'Leggings']\n",
      "562\n",
      "https://www.amazon.in/dp/B07NC1QNHQ\n",
      "Visit the CHKOKKO Store\n"
     ]
    },
    {
     "name": "stderr",
     "output_type": "stream",
     "text": [
      "\r",
      " 36%|███████████████████████████▉                                                 | 563/1550 [37:38<1:04:19,  3.91s/it]"
     ]
    },
    {
     "name": "stdout",
     "output_type": "stream",
     "text": [
      "['Clothing & Accessories', 'Men', 'T-Shirts & Polos', 'T-Shirts']\n",
      "563\n",
      "https://www.amazon.in/dp/B0C3J3T65P\n",
      "Visit the Symbol Premium Store\n"
     ]
    },
    {
     "name": "stderr",
     "output_type": "stream",
     "text": [
      "\r",
      " 36%|████████████████████████████                                                 | 564/1550 [37:42<1:07:05,  4.08s/it]"
     ]
    },
    {
     "name": "stdout",
     "output_type": "stream",
     "text": [
      "['Clothing & Accessories', 'Men', 'Shirts', 'Formal Shirts']\n",
      "564\n",
      "https://www.amazon.in/dp/B07L5992Z1\n",
      "Visit the London Hills Store\n"
     ]
    },
    {
     "name": "stderr",
     "output_type": "stream",
     "text": [
      "\r",
      " 36%|████████████████████████████                                                 | 565/1550 [37:47<1:08:26,  4.17s/it]"
     ]
    },
    {
     "name": "stdout",
     "output_type": "stream",
     "text": [
      "['Clothing & Accessories', 'Men', 'T-Shirts & Polos', 'T-Shirts']\n",
      "565\n",
      "https://www.amazon.in/dp/B0B5WSFSTW\n",
      "Visit the Marks & Spencer Store\n"
     ]
    },
    {
     "name": "stderr",
     "output_type": "stream",
     "text": [
      "\r",
      " 37%|████████████████████████████                                                 | 566/1550 [37:50<1:04:47,  3.95s/it]"
     ]
    },
    {
     "name": "stdout",
     "output_type": "stream",
     "text": [
      "['Clothing & Accessories', 'Girls', 'Tops, T-Shirts & Shirts', 'T-Shirts']\n",
      "566\n",
      "https://www.amazon.in/dp/B0823LBR8P\n",
      "Visit the Campus Sutra Store\n"
     ]
    },
    {
     "name": "stderr",
     "output_type": "stream",
     "text": [
      "\r",
      " 37%|████████████████████████████▏                                                | 567/1550 [37:55<1:09:09,  4.22s/it]"
     ]
    },
    {
     "name": "stdout",
     "output_type": "stream",
     "text": [
      "['Clothing & Accessories', 'Men', 'T-Shirts & Polos', 'T-Shirts']\n",
      "567\n",
      "https://www.amazon.in/dp/B0BXL85ZD5\n"
     ]
    },
    {
     "name": "stderr",
     "output_type": "stream",
     "text": [
      "\r",
      " 37%|████████████████████████████▏                                                | 568/1550 [37:58<1:05:35,  4.01s/it]"
     ]
    },
    {
     "name": "stdout",
     "output_type": "stream",
     "text": [
      "Visit the Red Tape Store\n",
      "['Clothing & Accessories', 'Men', 'Shirts', 'Casual Shirts']\n",
      "568\n",
      "https://www.amazon.in/dp/B07RBZPH2N\n",
      "Visit the Van Heusen Store\n"
     ]
    },
    {
     "name": "stderr",
     "output_type": "stream",
     "text": [
      "\r",
      " 37%|████████████████████████████▎                                                | 569/1550 [38:02<1:05:01,  3.98s/it]"
     ]
    },
    {
     "name": "stdout",
     "output_type": "stream",
     "text": [
      "['Clothing & Accessories', 'Men', 'T-Shirts & Polos', 'T-Shirts']\n",
      "569\n",
      "https://www.amazon.in/dp/B09TXVWS54\n"
     ]
    },
    {
     "name": "stderr",
     "output_type": "stream",
     "text": [
      "\r",
      " 37%|████████████████████████████▎                                                | 570/1550 [38:06<1:04:19,  3.94s/it]"
     ]
    },
    {
     "name": "stdout",
     "output_type": "stream",
     "text": [
      "Visit the THE DRY STATE Store\n",
      "['Clothing & Accessories', 'Men', 'T-Shirts & Polos', 'T-Shirts']\n",
      "570\n",
      "https://www.amazon.in/dp/B01BR8S0F0\n"
     ]
    },
    {
     "name": "stderr",
     "output_type": "stream",
     "text": [
      "\r",
      " 37%|████████████████████████████▎                                                | 571/1550 [38:10<1:04:51,  3.97s/it]"
     ]
    },
    {
     "name": "stdout",
     "output_type": "stream",
     "text": [
      "Brand: V3Squared\n",
      "['Clothing & Accessories', 'Men', 'T-Shirts & Polos', 'Polos']\n",
      "571\n",
      "https://www.amazon.in/dp/B0C37BF5TW\n",
      "Visit the EYEBOGLER Store\n"
     ]
    },
    {
     "name": "stderr",
     "output_type": "stream",
     "text": [
      "\r",
      " 37%|████████████████████████████▍                                                | 572/1550 [38:14<1:04:12,  3.94s/it]"
     ]
    },
    {
     "name": "stdout",
     "output_type": "stream",
     "text": [
      "['Clothing & Accessories', 'Men', 'T-Shirts & Polos', 'Polos']\n",
      "572\n",
      "https://www.amazon.in/dp/B07YWG2GLP\n"
     ]
    },
    {
     "name": "stderr",
     "output_type": "stream",
     "text": [
      "\r",
      " 37%|████████████████████████████▍                                                | 573/1550 [38:18<1:06:11,  4.06s/it]"
     ]
    },
    {
     "name": "stdout",
     "output_type": "stream",
     "text": [
      "Visit the CHKOKKO Store\n",
      "['Clothing & Accessories', 'Men', 'T-Shirts & Polos', 'Polos']\n",
      "573\n",
      "https://www.amazon.in/dp/B0BQYWG4WQ\n",
      "Brand: Max\n"
     ]
    },
    {
     "name": "stderr",
     "output_type": "stream",
     "text": [
      "\r",
      " 37%|████████████████████████████▌                                                | 574/1550 [38:22<1:03:51,  3.93s/it]"
     ]
    },
    {
     "name": "stdout",
     "output_type": "stream",
     "text": [
      "['Clothing & Accessories', 'Women', 'Western Wear', 'Tops, T-Shirts & Shirts', 'T-Shirts']\n",
      "574\n",
      "https://www.amazon.in/dp/B0C37168YQ\n",
      "Visit the EYEBOGLER Store\n"
     ]
    },
    {
     "name": "stderr",
     "output_type": "stream",
     "text": [
      "\r",
      " 37%|████████████████████████████▌                                                | 575/1550 [38:26<1:02:56,  3.87s/it]"
     ]
    },
    {
     "name": "stdout",
     "output_type": "stream",
     "text": [
      "['Clothing & Accessories', 'Men', 'T-Shirts & Polos', 'Polos']\n",
      "575\n",
      "https://www.amazon.in/dp/B082G3S7GC\n"
     ]
    },
    {
     "name": "stderr",
     "output_type": "stream",
     "text": [
      "\r",
      " 37%|████████████████████████████▌                                                | 576/1550 [38:29<1:01:10,  3.77s/it]"
     ]
    },
    {
     "name": "stdout",
     "output_type": "stream",
     "text": [
      "Brand: AELOMART\n",
      "['Clothing & Accessories', 'Men', 'T-Shirts & Polos', 'T-Shirts']\n",
      "576\n",
      "https://www.amazon.in/dp/B08WPMS4DY\n"
     ]
    },
    {
     "name": "stderr",
     "output_type": "stream",
     "text": [
      "\r",
      " 37%|████████████████████████████▋                                                | 577/1550 [38:33<1:00:15,  3.72s/it]"
     ]
    },
    {
     "name": "stdout",
     "output_type": "stream",
     "text": [
      "Brand: JUGULAR\n",
      "['Clothing & Accessories', 'Men', 'T-Shirts & Polos', 'T-Shirts']\n",
      "577\n",
      "https://www.amazon.in/dp/B0BHW5476F\n",
      "Brand: Peter England\n"
     ]
    },
    {
     "name": "stderr",
     "output_type": "stream",
     "text": [
      "\r",
      " 37%|█████████████████████████████▍                                                 | 578/1550 [38:36<59:15,  3.66s/it]"
     ]
    },
    {
     "name": "stdout",
     "output_type": "stream",
     "text": [
      "['Clothing & Accessories', 'Men', 'Shirts', 'Formal Shirts']\n",
      "578\n",
      "https://www.amazon.in/dp/B0BCZMLX3H\n",
      "Visit the AUSK Store\n"
     ]
    },
    {
     "name": "stderr",
     "output_type": "stream",
     "text": [
      "\r",
      " 37%|████████████████████████████▊                                                | 579/1550 [38:41<1:04:45,  4.00s/it]"
     ]
    },
    {
     "name": "stdout",
     "output_type": "stream",
     "text": [
      "['Clothing & Accessories', 'Men', 'T-Shirts & Polos', 'T-Shirts']\n",
      "579\n",
      "https://www.amazon.in/dp/B0C3Y9MBDD\n",
      "Visit the AUSK Store\n"
     ]
    },
    {
     "name": "stderr",
     "output_type": "stream",
     "text": [
      "\r",
      " 37%|████████████████████████████▊                                                | 580/1550 [38:45<1:03:32,  3.93s/it]"
     ]
    },
    {
     "name": "stdout",
     "output_type": "stream",
     "text": [
      "['Clothing & Accessories', 'Men', 'T-Shirts & Polos', 'T-Shirts']\n",
      "580\n",
      "https://www.amazon.in/dp/B0BN7Y8GBB\n"
     ]
    },
    {
     "name": "stderr",
     "output_type": "stream",
     "text": [
      "\r",
      " 37%|████████████████████████████▊                                                | 581/1550 [38:48<1:00:57,  3.77s/it]"
     ]
    },
    {
     "name": "stdout",
     "output_type": "stream",
     "text": [
      "Visit the Marks & Spencer Store\n",
      "['Clothing & Accessories', 'Boys', 'T-Shirts & Polos', 'T-Shirts']\n",
      "581\n",
      "https://www.amazon.in/dp/B0B4WRG9FZ\n",
      "Brand: Max\n"
     ]
    },
    {
     "name": "stderr",
     "output_type": "stream",
     "text": [
      "\r",
      " 38%|████████████████████████████▉                                                | 582/1550 [38:53<1:04:54,  4.02s/it]"
     ]
    },
    {
     "name": "stdout",
     "output_type": "stream",
     "text": [
      "['Clothing & Accessories', 'Girls', 'Tops, T-Shirts & Shirts', 'T-Shirts']\n",
      "582\n",
      "https://www.amazon.in/dp/B0BZ56RYZW\n",
      "Visit the Maniac Store\n"
     ]
    },
    {
     "name": "stderr",
     "output_type": "stream",
     "text": [
      "\r",
      " 38%|████████████████████████████▉                                                | 583/1550 [38:58<1:11:32,  4.44s/it]"
     ]
    },
    {
     "name": "stdout",
     "output_type": "stream",
     "text": [
      "['Clothing & Accessories', 'Men', 'T-Shirts & Polos', 'T-Shirts']\n",
      "583\n",
      "https://www.amazon.in/dp/B09PV3ZZ93\n",
      "Visit the TotzTouch Store\n"
     ]
    },
    {
     "name": "stderr",
     "output_type": "stream",
     "text": [
      "\r",
      " 38%|█████████████████████████████                                                | 584/1550 [39:23<2:46:17, 10.33s/it]"
     ]
    },
    {
     "name": "stdout",
     "output_type": "stream",
     "text": [
      "['Clothing & Accessories', 'Girls', 'Sleepwear', 'Pyjamas']\n",
      "584\n",
      "https://www.amazon.in/dp/B0BHTFMDNM\n",
      "Visit the AUSK Store\n"
     ]
    },
    {
     "name": "stderr",
     "output_type": "stream",
     "text": [
      "\r",
      " 38%|█████████████████████████████                                                | 585/1550 [39:32<2:43:06, 10.14s/it]"
     ]
    },
    {
     "name": "stdout",
     "output_type": "stream",
     "text": [
      "['Clothing & Accessories', 'Men', 'T-Shirts & Polos', 'T-Shirts']\n",
      "585\n",
      "https://www.amazon.in/dp/B09PBKS6M6\n",
      "Visit the LEOTUDE Store\n"
     ]
    },
    {
     "name": "stderr",
     "output_type": "stream",
     "text": [
      "\r",
      " 38%|█████████████████████████████                                                | 586/1550 [39:38<2:23:01,  8.90s/it]"
     ]
    },
    {
     "name": "stdout",
     "output_type": "stream",
     "text": [
      "['Fashion', 'The Plus Size Store', 'aug art- clothing ingress', 'new', 'men']\n",
      "586\n",
      "https://www.amazon.in/dp/B0B6J2XX59\n",
      "Visit the TRASA Store\n"
     ]
    },
    {
     "name": "stderr",
     "output_type": "stream",
     "text": [
      "\r",
      " 38%|█████████████████████████████▏                                               | 587/1550 [39:52<2:44:12, 10.23s/it]"
     ]
    },
    {
     "name": "stdout",
     "output_type": "stream",
     "text": [
      "['Clothing & Accessories', 'Women', 'Ethnic Wear', 'Bottom Wear']\n",
      "587\n",
      "https://www.amazon.in/dp/B0BH12VCV4\n",
      "Visit the AUSK Store\n"
     ]
    },
    {
     "name": "stderr",
     "output_type": "stream",
     "text": [
      "\r",
      " 38%|█████████████████████████████▏                                               | 588/1550 [40:16<3:53:33, 14.57s/it]"
     ]
    },
    {
     "name": "stdout",
     "output_type": "stream",
     "text": [
      "['Clothing & Accessories', 'Men', 'T-Shirts & Polos', 'T-Shirts']\n",
      "588\n",
      "https://www.amazon.in/dp/B0855MXJDW\n"
     ]
    },
    {
     "name": "stderr",
     "output_type": "stream",
     "text": [
      "\r",
      " 38%|█████████████████████████████▎                                               | 589/1550 [40:23<3:14:52, 12.17s/it]"
     ]
    },
    {
     "name": "stdout",
     "output_type": "stream",
     "text": [
      "Visit the EYEBOGLER Store\n",
      "['Fashion', 'Apparel Steal Deals', 'Apparel_1', 'Men', \"Men's fashion starting 199\"]\n",
      "589\n",
      "https://www.amazon.in/dp/B0BY8R61R5\n"
     ]
    },
    {
     "name": "stderr",
     "output_type": "stream",
     "text": [
      "\r",
      " 38%|█████████████████████████████▎                                               | 590/1550 [40:28<2:39:40,  9.98s/it]"
     ]
    },
    {
     "name": "stdout",
     "output_type": "stream",
     "text": [
      "Visit the GRECIILOOKS Store\n",
      "['Clothing & Accessories', 'Men', 'Shirts', 'Casual Shirts']\n",
      "590\n",
      "https://www.amazon.in/dp/B0BFLSMVKB\n",
      "Brand: REYA\n"
     ]
    },
    {
     "name": "stderr",
     "output_type": "stream",
     "text": [
      "\r",
      " 38%|█████████████████████████████▎                                               | 591/1550 [40:32<2:12:54,  8.32s/it]"
     ]
    },
    {
     "name": "stdout",
     "output_type": "stream",
     "text": [
      "['Clothing & Accessories', 'Men', 'T-Shirts & Polos', 'T-Shirts']\n",
      "591\n",
      "https://www.amazon.in/dp/B07QMTDGWK\n",
      "Visit the LEOTUDE Store\n"
     ]
    },
    {
     "name": "stderr",
     "output_type": "stream",
     "text": [
      "\r",
      " 38%|█████████████████████████████▍                                               | 592/1550 [40:36<1:52:04,  7.02s/it]"
     ]
    },
    {
     "name": "stdout",
     "output_type": "stream",
     "text": [
      "['Clothing & Accessories', 'Men', 'T-Shirts & Polos', 'T-Shirts']\n",
      "592\n",
      "https://www.amazon.in/dp/B0BSPV8NN8\n",
      "Brand: JUGULAR\n"
     ]
    },
    {
     "name": "stderr",
     "output_type": "stream",
     "text": [
      "\r",
      " 38%|█████████████████████████████▍                                               | 593/1550 [40:40<1:38:18,  6.16s/it]"
     ]
    },
    {
     "name": "stdout",
     "output_type": "stream",
     "text": [
      "['Clothing & Accessories', 'Men', 'T-Shirts & Polos', 'T-Shirts']\n",
      "593\n",
      "https://www.amazon.in/dp/B0C6K93T99\n"
     ]
    },
    {
     "name": "stderr",
     "output_type": "stream",
     "text": [
      "\r",
      " 38%|█████████████████████████████▌                                               | 594/1550 [40:44<1:28:05,  5.53s/it]"
     ]
    },
    {
     "name": "stdout",
     "output_type": "stream",
     "text": [
      "Visit the LuvLap Store\n",
      "['Clothing & Accessories', 'Baby', 'Baby Boys', 'Clothing Sets']\n",
      "594\n",
      "https://www.amazon.in/dp/B0BR5CWR33\n",
      "Visit the LEOTUDE Store\n"
     ]
    },
    {
     "name": "stderr",
     "output_type": "stream",
     "text": [
      "\r",
      " 38%|█████████████████████████████▌                                               | 595/1550 [40:48<1:18:13,  4.91s/it]"
     ]
    },
    {
     "name": "stdout",
     "output_type": "stream",
     "text": [
      "['Clothing & Accessories', 'Men', 'Winter Wear', 'Sweaters']\n",
      "595\n",
      "https://www.amazon.in/dp/B0BXPMKKWT\n",
      "Visit the AUSK Store\n"
     ]
    },
    {
     "name": "stderr",
     "output_type": "stream",
     "text": [
      "\r",
      " 38%|█████████████████████████████▌                                               | 596/1550 [40:52<1:13:17,  4.61s/it]"
     ]
    },
    {
     "name": "stdout",
     "output_type": "stream",
     "text": [
      "['Clothing & Accessories', 'Men', 'T-Shirts & Polos', 'Polos']\n",
      "596\n",
      "https://www.amazon.in/dp/B09SQ1TP7H\n"
     ]
    },
    {
     "name": "stderr",
     "output_type": "stream",
     "text": [
      "\r",
      " 39%|█████████████████████████████▋                                               | 597/1550 [40:57<1:17:17,  4.87s/it]"
     ]
    },
    {
     "name": "stdout",
     "output_type": "stream",
     "text": [
      "Visit the THE DRY STATE Store\n",
      "['Clothing & Accessories', 'Women', 'Western Wear', 'Trousers']\n",
      "597\n",
      "https://www.amazon.in/dp/B0BRSRNQW9\n",
      "Visit the EYEBOGLER Store\n"
     ]
    },
    {
     "name": "stderr",
     "output_type": "stream",
     "text": [
      "\r",
      " 39%|█████████████████████████████▋                                               | 598/1550 [41:01<1:12:07,  4.55s/it]"
     ]
    },
    {
     "name": "stdout",
     "output_type": "stream",
     "text": [
      "['Clothing & Accessories', 'Men', 'T-Shirts & Polos', 'T-Shirts']\n",
      "598\n",
      "https://www.amazon.in/dp/B0BBR6KWF5\n",
      "Visit the Amazon Brand - Symbol Store\n"
     ]
    },
    {
     "name": "stderr",
     "output_type": "stream",
     "text": [
      "\r",
      " 39%|█████████████████████████████▊                                               | 599/1550 [41:05<1:08:53,  4.35s/it]"
     ]
    },
    {
     "name": "stdout",
     "output_type": "stream",
     "text": [
      "['Fashion', 'Made for Amazon brands', 'All SPB apparel', 'FD', 'Symbol']\n",
      "599\n",
      "https://www.amazon.in/dp/B0BM491RM6\n",
      "Visit the EYEBOGLER Store\n"
     ]
    },
    {
     "name": "stderr",
     "output_type": "stream",
     "text": [
      "\r",
      " 39%|█████████████████████████████▊                                               | 600/1550 [41:09<1:05:21,  4.13s/it]"
     ]
    },
    {
     "name": "stdout",
     "output_type": "stream",
     "text": [
      "['Clothing & Accessories', 'Men', 'T-Shirts & Polos', 'T-Shirts']\n",
      "600\n",
      "https://www.amazon.in/dp/B0BGDRV399\n",
      "Visit the BLIVE Store\n",
      "['Clothing & Accessories', 'Men', 'T-Shirts & Polos', 'T-Shirts']\n"
     ]
    },
    {
     "name": "stderr",
     "output_type": "stream",
     "text": [
      "\r",
      " 39%|█████████████████████████████▊                                               | 601/1550 [41:14<1:14:00,  4.68s/it]"
     ]
    },
    {
     "name": "stdout",
     "output_type": "stream",
     "text": [
      "601\n",
      "https://www.amazon.in/dp/B0BCQ4N65W\n",
      "Visit the GRITSTONES Store\n",
      "['Clothing & Accessories', 'Men', 'T-Shirts & Polos', 'T-Shirts']\n"
     ]
    },
    {
     "name": "stderr",
     "output_type": "stream",
     "text": [
      "\r",
      " 39%|█████████████████████████████▉                                               | 602/1550 [41:19<1:14:08,  4.69s/it]"
     ]
    },
    {
     "name": "stdout",
     "output_type": "stream",
     "text": [
      "602\n",
      "https://www.amazon.in/dp/B08R9XH1DQ\n",
      "Visit the U.S. POLO ASSN. Store\n"
     ]
    },
    {
     "name": "stderr",
     "output_type": "stream",
     "text": [
      "\r",
      " 39%|█████████████████████████████▉                                               | 603/1550 [42:03<4:18:16, 16.36s/it]"
     ]
    },
    {
     "name": "stdout",
     "output_type": "stream",
     "text": [
      "['Fashion', 'Apparel Steal Deals', 'Apparel_1', 'Men', 'U.S.P.A under 899']\n",
      "603\n",
      "https://www.amazon.in/dp/B0BLCST7YZ\n",
      "Visit the CHKOKKO Store\n"
     ]
    },
    {
     "name": "stderr",
     "output_type": "stream",
     "text": [
      "\r",
      " 39%|██████████████████████████████                                               | 604/1550 [42:16<4:03:45, 15.46s/it]"
     ]
    },
    {
     "name": "stdout",
     "output_type": "stream",
     "text": [
      "['Clothing & Accessories', 'Men', 'T-Shirts & Polos', 'T-Shirts']\n",
      "604\n",
      "https://www.amazon.in/dp/B0BM4FD1CN\n",
      "Visit the EYEBOGLER Store\n"
     ]
    },
    {
     "name": "stderr",
     "output_type": "stream",
     "text": [
      "\r",
      " 39%|██████████████████████████████                                               | 605/1550 [42:20<3:09:13, 12.01s/it]"
     ]
    },
    {
     "name": "stdout",
     "output_type": "stream",
     "text": [
      "['Clothing & Accessories', 'Men', 'T-Shirts & Polos', 'T-Shirts']\n",
      "605\n",
      "https://www.amazon.in/dp/B0BS9LG8JN\n",
      "Visit the EYEBOGLER Store\n",
      "['Clothing & Accessories', 'Men', 'T-Shirts & Polos', 'T-Shirts']\n"
     ]
    },
    {
     "name": "stderr",
     "output_type": "stream",
     "text": [
      "\r",
      " 39%|██████████████████████████████                                               | 606/1550 [42:24<2:28:51,  9.46s/it]"
     ]
    },
    {
     "name": "stdout",
     "output_type": "stream",
     "text": [
      "606\n",
      "https://www.amazon.in/dp/B0C2ZF9KPH\n"
     ]
    },
    {
     "name": "stderr",
     "output_type": "stream",
     "text": [
      "\r",
      " 39%|██████████████████████████████▏                                              | 607/1550 [42:28<2:06:16,  8.03s/it]"
     ]
    },
    {
     "name": "stdout",
     "output_type": "stream",
     "text": [
      "Visit the EYEBOGLER Store\n",
      "['Clothing & Accessories', 'Men', 'T-Shirts & Polos', 'T-Shirts']\n",
      "607\n",
      "https://www.amazon.in/dp/B09VLBNJT4\n",
      "Brand: EYEBOGLER\n"
     ]
    },
    {
     "name": "stderr",
     "output_type": "stream",
     "text": [
      "\r",
      " 39%|██████████████████████████████▏                                              | 608/1550 [42:32<1:47:50,  6.87s/it]"
     ]
    },
    {
     "name": "stdout",
     "output_type": "stream",
     "text": [
      "['Fashion', 'Apparel Steal Deals', 'Apparel_1', 'Men', \"Men's fashion starting 199\"]\n",
      "608\n",
      "https://www.amazon.in/dp/B0B6BJNTYB\n"
     ]
    },
    {
     "name": "stderr",
     "output_type": "stream",
     "text": [
      "\r",
      " 39%|██████████████████████████████▎                                              | 609/1550 [42:37<1:37:15,  6.20s/it]"
     ]
    },
    {
     "name": "stdout",
     "output_type": "stream",
     "text": [
      "Visit the Jockey Store\n",
      "['Clothing & Accessories', 'Men', 'T-Shirts & Polos', 'Polos']\n",
      "609\n",
      "https://www.amazon.in/dp/B08V8YJFHJ\n",
      "Visit the U.S. POLO ASSN. Store\n"
     ]
    },
    {
     "name": "stderr",
     "output_type": "stream",
     "text": [
      "\r",
      " 39%|██████████████████████████████▎                                              | 610/1550 [42:41<1:26:49,  5.54s/it]"
     ]
    },
    {
     "name": "stdout",
     "output_type": "stream",
     "text": [
      "['Fashion', 'Apparel Steal Deals', 'Apparel_1', 'Men', 'U.S.P.A under 899']\n",
      "610\n",
      "https://www.amazon.in/dp/B09S1CF8G7\n",
      "Visit the JUARI BE A GENTLEMAN Store\n",
      "['Clothing & Accessories', 'Men', 'T-Shirts & Polos', 'T-Shirts']\n"
     ]
    },
    {
     "name": "stderr",
     "output_type": "stream",
     "text": [
      "\r",
      " 39%|██████████████████████████████▎                                              | 611/1550 [42:45<1:17:33,  4.96s/it]"
     ]
    },
    {
     "name": "stdout",
     "output_type": "stream",
     "text": [
      "611\n",
      "https://www.amazon.in/dp/B0B6HSM562\n",
      "Visit the GRITSTONES Store\n"
     ]
    },
    {
     "name": "stderr",
     "output_type": "stream",
     "text": [
      "\r",
      " 39%|██████████████████████████████▍                                              | 612/1550 [42:49<1:12:41,  4.65s/it]"
     ]
    },
    {
     "name": "stdout",
     "output_type": "stream",
     "text": [
      "['Clothing & Accessories', 'Men', 'T-Shirts & Polos', 'T-Shirts']\n",
      "612\n",
      "https://www.amazon.in/dp/B0BYJ3SW19\n"
     ]
    },
    {
     "name": "stderr",
     "output_type": "stream",
     "text": [
      "\r",
      " 40%|██████████████████████████████▍                                              | 613/1550 [42:52<1:07:45,  4.34s/it]"
     ]
    },
    {
     "name": "stdout",
     "output_type": "stream",
     "text": [
      "Visit the fanideaz Store\n",
      "['Clothing & Accessories', 'Men', 'T-Shirts & Polos', 'T-Shirts']\n",
      "613\n",
      "https://www.amazon.in/dp/B08GJ6ZMKD\n",
      "Brand: EYEBOGLER\n",
      "['Fashion', 'Apparel Steal Deals', 'Apparel_1', 'Men', \"Men's fashion starting 199\"]\n"
     ]
    },
    {
     "name": "stderr",
     "output_type": "stream",
     "text": [
      "\r",
      " 40%|██████████████████████████████▌                                              | 614/1550 [42:56<1:05:14,  4.18s/it]"
     ]
    },
    {
     "name": "stdout",
     "output_type": "stream",
     "text": [
      "614\n",
      "https://www.amazon.in/dp/B082LF3CPD\n"
     ]
    },
    {
     "name": "stderr",
     "output_type": "stream",
     "text": [
      "\r",
      " 40%|██████████████████████████████▌                                              | 615/1550 [43:01<1:09:19,  4.45s/it]"
     ]
    },
    {
     "name": "stdout",
     "output_type": "stream",
     "text": [
      "Brand: Colgate\n",
      "['Health & Personal Care', 'Oral Care', 'Toothpastes']\n",
      "615\n",
      "https://www.amazon.in/dp/B092K383WY\n"
     ]
    },
    {
     "name": "stderr",
     "output_type": "stream",
     "text": [
      "\r",
      " 40%|██████████████████████████████▌                                              | 616/1550 [43:06<1:11:12,  4.57s/it]"
     ]
    },
    {
     "name": "stdout",
     "output_type": "stream",
     "text": [
      "Brand: Colgate\n",
      "['Health & Personal Care', 'Oral Care', 'Toothpastes']\n",
      "616\n",
      "https://www.amazon.in/dp/B089ZM3LFT\n"
     ]
    },
    {
     "name": "stderr",
     "output_type": "stream",
     "text": [
      "\r",
      " 40%|██████████████████████████████▋                                              | 617/1550 [43:10<1:10:21,  4.52s/it]"
     ]
    },
    {
     "name": "stdout",
     "output_type": "stream",
     "text": [
      "Visit the DABUR Store\n",
      "['Health & Personal Care', 'Oral Care', 'Toothpastes']\n",
      "617\n",
      "https://www.amazon.in/dp/B00I6F64T2\n",
      "Brand: Colgate\n"
     ]
    },
    {
     "name": "stderr",
     "output_type": "stream",
     "text": [
      "\r",
      " 40%|██████████████████████████████▋                                              | 618/1550 [43:16<1:14:25,  4.79s/it]"
     ]
    },
    {
     "name": "stdout",
     "output_type": "stream",
     "text": [
      "['Health & Personal Care', \"Men's Grooming store\", 'Oral Care', 'Toothpaste']\n",
      "618\n",
      "https://www.amazon.in/dp/B074H2JMDQ\n"
     ]
    },
    {
     "name": "stderr",
     "output_type": "stream",
     "text": [
      "\r",
      " 40%|██████████████████████████████▊                                              | 619/1550 [43:21<1:15:36,  4.87s/it]"
     ]
    },
    {
     "name": "stdout",
     "output_type": "stream",
     "text": [
      "Visit the DABUR Store\n",
      "['Health & Personal Care', 'Oral Care', 'Toothpastes']\n",
      "619\n",
      "https://www.amazon.in/dp/B01EYK9BSS\n"
     ]
    },
    {
     "name": "stderr",
     "output_type": "stream",
     "text": [
      "\r",
      " 40%|██████████████████████████████▊                                              | 620/1550 [43:25<1:11:56,  4.64s/it]"
     ]
    },
    {
     "name": "stdout",
     "output_type": "stream",
     "text": [
      "Brand: NEEM\n",
      "['Health & Personal Care', 'Oral Care', 'Toothpastes']\n",
      "620\n",
      "https://www.amazon.in/dp/B08FCLQ4KH\n",
      "Visit the Anchor Store\n"
     ]
    },
    {
     "name": "stderr",
     "output_type": "stream",
     "text": [
      "\r",
      " 40%|██████████████████████████████▊                                              | 621/1550 [43:30<1:11:44,  4.63s/it]"
     ]
    },
    {
     "name": "stdout",
     "output_type": "stream",
     "text": [
      "['Health & Personal Care', 'Oral Care', 'Toothpastes']\n",
      "621\n",
      "https://www.amazon.in/dp/B08FFKWB58\n"
     ]
    },
    {
     "name": "stderr",
     "output_type": "stream",
     "text": [
      "\r",
      " 40%|██████████████████████████████▉                                              | 622/1550 [43:35<1:14:41,  4.83s/it]"
     ]
    },
    {
     "name": "stdout",
     "output_type": "stream",
     "text": [
      "Visit the DABUR Store\n",
      "['Health & Personal Care', 'Oral Care', 'Toothpastes']\n",
      "622\n",
      "https://www.amazon.in/dp/B0B2JJD77C\n"
     ]
    },
    {
     "name": "stderr",
     "output_type": "stream",
     "text": [
      "\r",
      " 40%|██████████████████████████████▉                                              | 623/1550 [43:39<1:12:39,  4.70s/it]"
     ]
    },
    {
     "name": "stdout",
     "output_type": "stream",
     "text": [
      "Brand: Colgate\n",
      "['Health & Personal Care', 'Oral Care', 'Toothpastes']\n",
      "623\n",
      "https://www.amazon.in/dp/B00UFF422M\n"
     ]
    },
    {
     "name": "stderr",
     "output_type": "stream",
     "text": [
      "\r",
      " 40%|██████████████████████████████▉                                              | 624/1550 [43:44<1:12:23,  4.69s/it]"
     ]
    },
    {
     "name": "stdout",
     "output_type": "stream",
     "text": [
      "Brand: Closeup\n",
      "['Health & Personal Care', 'Oral Care', 'Toothpastes']\n",
      "624\n",
      "https://www.amazon.in/dp/B00I6F50PQ\n"
     ]
    },
    {
     "name": "stderr",
     "output_type": "stream",
     "text": [
      "\r",
      " 40%|███████████████████████████████                                              | 625/1550 [43:48<1:11:28,  4.64s/it]"
     ]
    },
    {
     "name": "stdout",
     "output_type": "stream",
     "text": [
      "Brand: Colgate\n",
      "['Health & Personal Care', \"Men's Grooming store\", 'Oral Care', 'Toothpaste']\n",
      "625\n",
      "https://www.amazon.in/dp/B07FCJWVCC\n"
     ]
    },
    {
     "name": "stderr",
     "output_type": "stream",
     "text": [
      "\r",
      " 40%|███████████████████████████████                                              | 626/1550 [43:53<1:10:25,  4.57s/it]"
     ]
    },
    {
     "name": "stdout",
     "output_type": "stream",
     "text": [
      "Brand: Sensodyne\n",
      "['Health & Personal Care', 'Oral Care', 'Toothpastes']\n",
      "626\n",
      "https://www.amazon.in/dp/B0BN45YSL5\n"
     ]
    },
    {
     "name": "stderr",
     "output_type": "stream",
     "text": [
      "\r",
      " 40%|███████████████████████████████▏                                             | 627/1550 [43:58<1:11:00,  4.62s/it]"
     ]
    },
    {
     "name": "stdout",
     "output_type": "stream",
     "text": [
      "Visit the DABUR Store\n",
      "['Health & Personal Care', 'Oral Care', 'Toothpastes']\n",
      "627\n",
      "https://www.amazon.in/dp/B0BNBP1TYC\n"
     ]
    },
    {
     "name": "stderr",
     "output_type": "stream",
     "text": [
      "\r",
      " 41%|███████████████████████████████▏                                             | 628/1550 [44:02<1:11:53,  4.68s/it]"
     ]
    },
    {
     "name": "stdout",
     "output_type": "stream",
     "text": [
      "Visit the DABUR Store\n",
      "['Health & Personal Care', 'Oral Care', 'Toothpastes']\n",
      "628\n",
      "https://www.amazon.in/dp/B07CHSCH9C\n"
     ]
    },
    {
     "name": "stderr",
     "output_type": "stream",
     "text": [
      "\r",
      " 41%|███████████████████████████████▏                                             | 629/1550 [44:07<1:11:26,  4.65s/it]"
     ]
    },
    {
     "name": "stdout",
     "output_type": "stream",
     "text": [
      "Brand: Colgate\n",
      "['Health & Personal Care', 'Oral Care', 'Toothpastes']\n",
      "629\n",
      "https://www.amazon.in/dp/B086QDRKJ5\n"
     ]
    },
    {
     "name": "stderr",
     "output_type": "stream",
     "text": [
      "\r",
      " 41%|███████████████████████████████▎                                             | 630/1550 [44:13<1:18:14,  5.10s/it]"
     ]
    },
    {
     "name": "stdout",
     "output_type": "stream",
     "text": [
      "Brand: Colgate\n",
      "['Health & Personal Care', 'Oral Care', 'Toothpastes']\n",
      "630\n",
      "https://www.amazon.in/dp/B09L7XVRWM\n",
      "Brand: Sensodyne\n"
     ]
    },
    {
     "name": "stderr",
     "output_type": "stream",
     "text": [
      "\r",
      " 41%|███████████████████████████████▎                                             | 631/1550 [44:18<1:15:04,  4.90s/it]"
     ]
    },
    {
     "name": "stdout",
     "output_type": "stream",
     "text": [
      "['Health & Personal Care', 'Oral Care', 'Toothpastes']\n",
      "631\n",
      "https://www.amazon.in/dp/B07PDXFN7B\n"
     ]
    },
    {
     "name": "stderr",
     "output_type": "stream",
     "text": [
      "\r",
      " 41%|███████████████████████████████▍                                             | 632/1550 [44:23<1:18:12,  5.11s/it]"
     ]
    },
    {
     "name": "stdout",
     "output_type": "stream",
     "text": [
      "Visit the Sri Sri TATTVA shuddhta ka naam Store\n",
      "['Health & Personal Care', 'Oral Care', 'Toothpastes']\n",
      "632\n",
      "https://www.amazon.in/dp/B08Q3X8FPZ\n",
      "Brand: Colgate\n"
     ]
    },
    {
     "name": "stderr",
     "output_type": "stream",
     "text": [
      "\r",
      " 41%|███████████████████████████████▍                                             | 633/1550 [44:29<1:21:35,  5.34s/it]"
     ]
    },
    {
     "name": "stdout",
     "output_type": "stream",
     "text": [
      "['Health & Personal Care', 'Oral Care', 'Toothpastes']\n",
      "633\n",
      "https://www.amazon.in/dp/B01MQI6YLE\n",
      "Visit the Himalaya Store\n"
     ]
    },
    {
     "name": "stderr",
     "output_type": "stream",
     "text": [
      "\r",
      " 41%|███████████████████████████████▍                                             | 634/1550 [44:35<1:24:21,  5.53s/it]"
     ]
    },
    {
     "name": "stdout",
     "output_type": "stream",
     "text": [
      "['Health & Personal Care', 'Oral Care', 'Toothpastes']\n",
      "634\n",
      "https://www.amazon.in/dp/B086Q88V9H\n",
      "Brand: Colgate\n"
     ]
    },
    {
     "name": "stderr",
     "output_type": "stream",
     "text": [
      "\r",
      " 41%|███████████████████████████████▌                                             | 635/1550 [44:40<1:23:18,  5.46s/it]"
     ]
    },
    {
     "name": "stdout",
     "output_type": "stream",
     "text": [
      "['Health & Personal Care', 'Oral Care', 'Toothpastes']\n",
      "635\n",
      "https://www.amazon.in/dp/B09DGBS1HV\n"
     ]
    },
    {
     "name": "stderr",
     "output_type": "stream",
     "text": [
      "\r",
      " 41%|███████████████████████████████▌                                             | 636/1550 [44:46<1:22:47,  5.43s/it]"
     ]
    },
    {
     "name": "stdout",
     "output_type": "stream",
     "text": [
      "Brand: Colgate\n",
      "['Health & Personal Care', 'Oral Care', 'Toothpastes']\n",
      "636\n",
      "https://www.amazon.in/dp/B0987T82BN\n"
     ]
    },
    {
     "name": "stderr",
     "output_type": "stream",
     "text": [
      "\r",
      " 41%|███████████████████████████████▋                                             | 637/1550 [44:50<1:17:52,  5.12s/it]"
     ]
    },
    {
     "name": "stdout",
     "output_type": "stream",
     "text": [
      "Brand: Colgate\n",
      "['Health & Personal Care', 'Oral Care', 'Toothpastes']\n",
      "637\n",
      "https://www.amazon.in/dp/B089ZNRZJV\n"
     ]
    },
    {
     "name": "stderr",
     "output_type": "stream",
     "text": [
      "\r",
      " 41%|███████████████████████████████▋                                             | 638/1550 [44:56<1:20:00,  5.26s/it]"
     ]
    },
    {
     "name": "stdout",
     "output_type": "stream",
     "text": [
      "Visit the DABUR Store\n",
      "['Health & Personal Care', 'Oral Care', 'Toothpastes']\n",
      "638\n",
      "https://www.amazon.in/dp/B08JCXD52G\n",
      "Visit the JAGAT Store\n"
     ]
    },
    {
     "name": "stderr",
     "output_type": "stream",
     "text": [
      "\r",
      " 41%|███████████████████████████████▋                                             | 639/1550 [45:01<1:20:45,  5.32s/it]"
     ]
    },
    {
     "name": "stdout",
     "output_type": "stream",
     "text": [
      "['Health & Personal Care', 'Oral Care', 'Toothpastes']\n",
      "639\n",
      "https://www.amazon.in/dp/B07YFBZKT8\n",
      "Brand: Colgate\n"
     ]
    },
    {
     "name": "stderr",
     "output_type": "stream",
     "text": [
      "\r",
      " 41%|███████████████████████████████▊                                             | 640/1550 [45:06<1:16:12,  5.02s/it]"
     ]
    },
    {
     "name": "stdout",
     "output_type": "stream",
     "text": [
      "['Health & Personal Care', 'Oral Care', 'Baby & Child Dental Care', \"Children's Oral Care\", 'Dental Care Kits']\n",
      "640\n",
      "https://www.amazon.in/dp/B00DRE1MYO\n",
      "Brand: Colgate\n"
     ]
    },
    {
     "name": "stderr",
     "output_type": "stream",
     "text": [
      "\r",
      " 41%|███████████████████████████████▊                                             | 641/1550 [45:11<1:16:20,  5.04s/it]"
     ]
    },
    {
     "name": "stdout",
     "output_type": "stream",
     "text": [
      "['Health & Personal Care', 'Oral Care', 'Baby & Child Dental Care', \"Children's Oral Care\", 'Toothpastes']\n",
      "641\n",
      "https://www.amazon.in/dp/B000Z3R8GQ\n",
      "Brand: Colgate\n"
     ]
    },
    {
     "name": "stderr",
     "output_type": "stream",
     "text": [
      "\r",
      " 41%|███████████████████████████████▉                                             | 642/1550 [45:16<1:16:16,  5.04s/it]"
     ]
    },
    {
     "name": "stdout",
     "output_type": "stream",
     "text": [
      "['Health & Personal Care', 'Oral Care', 'Baby & Child Dental Care', \"Children's Oral Care\", 'Electric Toothbrushes & Accessories', 'Electric Toothbrushes']\n",
      "642\n",
      "https://www.amazon.in/dp/B07BGT4J55\n",
      "Visit the Mamaearth Store\n"
     ]
    },
    {
     "name": "stderr",
     "output_type": "stream",
     "text": [
      "\r",
      " 41%|███████████████████████████████▉                                             | 643/1550 [45:20<1:14:12,  4.91s/it]"
     ]
    },
    {
     "name": "stdout",
     "output_type": "stream",
     "text": [
      "['Health & Personal Care', 'Oral Care', 'Baby & Child Dental Care', 'Oral Care', 'Baby Toothpaste']\n",
      "643\n",
      "https://www.amazon.in/dp/B00DRE1MJY\n",
      "Brand: Colgate\n"
     ]
    },
    {
     "name": "stderr",
     "output_type": "stream",
     "text": [
      "\r",
      " 42%|███████████████████████████████▉                                             | 644/1550 [45:26<1:16:14,  5.05s/it]"
     ]
    },
    {
     "name": "stdout",
     "output_type": "stream",
     "text": [
      "['Health & Personal Care', 'Oral Care', 'Baby & Child Dental Care', \"Children's Oral Care\", 'Toothpastes']\n",
      "644\n",
      "https://www.amazon.in/dp/B07XD4NVXD\n",
      "Brand: Colgate\n"
     ]
    },
    {
     "name": "stderr",
     "output_type": "stream",
     "text": [
      "\r",
      " 42%|████████████████████████████████                                             | 645/1550 [45:30<1:12:51,  4.83s/it]"
     ]
    },
    {
     "name": "stdout",
     "output_type": "stream",
     "text": [
      "['Health & Personal Care', 'Oral Care', 'Baby & Child Dental Care', \"Children's Oral Care\", 'Toothpastes']\n",
      "645\n",
      "https://www.amazon.in/dp/B09HQRWM2Z\n",
      "Brand: Colgate\n"
     ]
    },
    {
     "name": "stderr",
     "output_type": "stream",
     "text": [
      "\r",
      " 42%|████████████████████████████████                                             | 646/1550 [45:35<1:12:56,  4.84s/it]"
     ]
    },
    {
     "name": "stdout",
     "output_type": "stream",
     "text": [
      "['Health & Personal Care', 'Oral Care', 'Baby & Child Dental Care', \"Children's Oral Care\", 'Toothpastes']\n",
      "646\n",
      "https://www.amazon.in/dp/B0746QB2WK\n",
      "Brand: Colgate\n"
     ]
    },
    {
     "name": "stderr",
     "output_type": "stream",
     "text": [
      "\r",
      " 42%|████████████████████████████████▏                                            | 647/1550 [45:39<1:10:25,  4.68s/it]"
     ]
    },
    {
     "name": "stdout",
     "output_type": "stream",
     "text": [
      "['Health & Personal Care', 'Oral Care', 'Toothpastes']\n",
      "647\n",
      "https://www.amazon.in/dp/B09QHP535Y\n",
      "Visit the LuvLap Store\n"
     ]
    },
    {
     "name": "stderr",
     "output_type": "stream",
     "text": [
      "\r",
      " 42%|████████████████████████████████▏                                            | 648/1550 [45:45<1:16:21,  5.08s/it]"
     ]
    },
    {
     "name": "stdout",
     "output_type": "stream",
     "text": [
      "['Health & Personal Care', 'Oral Care', 'Baby & Child Dental Care', 'Oral Care', 'Baby Toothpaste']\n",
      "648\n",
      "https://www.amazon.in/dp/B07XB1NF7Z\n",
      "Brand: Colgate\n"
     ]
    },
    {
     "name": "stderr",
     "output_type": "stream",
     "text": [
      "\r",
      " 42%|████████████████████████████████▏                                            | 649/1550 [45:51<1:18:23,  5.22s/it]"
     ]
    },
    {
     "name": "stdout",
     "output_type": "stream",
     "text": [
      "['Health & Personal Care', 'Oral Care', 'Baby & Child Dental Care', \"Children's Oral Care\", 'Toothpastes']\n",
      "649\n",
      "https://www.amazon.in/dp/B0CDD7XF75\n"
     ]
    },
    {
     "name": "stderr",
     "output_type": "stream",
     "text": [
      "\r",
      " 42%|████████████████████████████████▎                                            | 650/1550 [45:55<1:15:30,  5.03s/it]"
     ]
    },
    {
     "name": "stdout",
     "output_type": "stream",
     "text": [
      "Brand: Sensodyne\n",
      "['Health & Personal Care', 'Oral Care', 'Toothpastes']\n",
      "650\n",
      "https://www.amazon.in/dp/B00DRDZL24\n"
     ]
    },
    {
     "name": "stderr",
     "output_type": "stream",
     "text": [
      "\r",
      " 42%|████████████████████████████████▎                                            | 651/1550 [46:00<1:15:08,  5.01s/it]"
     ]
    },
    {
     "name": "stdout",
     "output_type": "stream",
     "text": [
      "Brand: Colgate\n",
      "['Health & Personal Care', \"Men's Grooming store\", 'Oral Care', 'Toothpaste']\n",
      "651\n",
      "https://www.amazon.in/dp/B091VQ7J9D\n"
     ]
    },
    {
     "name": "stderr",
     "output_type": "stream",
     "text": [
      "\r",
      " 42%|████████████████████████████████▍                                            | 652/1550 [46:05<1:13:42,  4.93s/it]"
     ]
    },
    {
     "name": "stdout",
     "output_type": "stream",
     "text": [
      "Brand: Sensodyne\n",
      "['Health & Personal Care', 'Oral Care', 'Toothpastes']\n",
      "652\n",
      "https://www.amazon.in/dp/B07FW8H9C1\n"
     ]
    },
    {
     "name": "stderr",
     "output_type": "stream",
     "text": [
      "\r",
      " 42%|████████████████████████████████▍                                            | 653/1550 [46:10<1:14:31,  4.98s/it]"
     ]
    },
    {
     "name": "stdout",
     "output_type": "stream",
     "text": [
      "Visit the DABUR Store\n",
      "['Health & Personal Care', 'Oral Care', 'Toothpastes']\n",
      "653\n",
      "https://www.amazon.in/dp/B078Y8FRJY\n"
     ]
    },
    {
     "name": "stderr",
     "output_type": "stream",
     "text": [
      "\r",
      " 42%|████████████████████████████████▍                                            | 654/1550 [46:14<1:10:04,  4.69s/it]"
     ]
    },
    {
     "name": "stdout",
     "output_type": "stream",
     "text": [
      "Brand: Sensodyne\n",
      "['Health & Personal Care', 'Oral Care', 'Toothpastes']\n",
      "654\n",
      "https://www.amazon.in/dp/B07PF68LF7\n"
     ]
    },
    {
     "name": "stderr",
     "output_type": "stream",
     "text": [
      "\r",
      " 42%|████████████████████████████████▌                                            | 655/1550 [46:19<1:09:52,  4.68s/it]"
     ]
    },
    {
     "name": "stdout",
     "output_type": "stream",
     "text": [
      "Brand: Sensodyne\n",
      "['Health & Personal Care', 'Oral Care', 'Toothpastes']\n",
      "655\n",
      "https://www.amazon.in/dp/B00R1BOIJU\n",
      "Brand: Pepsodent\n",
      "['Health & Personal Care', 'Oral Care', 'Toothpastes']\n"
     ]
    },
    {
     "name": "stderr",
     "output_type": "stream",
     "text": [
      "\r",
      " 42%|████████████████████████████████▌                                            | 656/1550 [46:24<1:10:24,  4.73s/it]"
     ]
    },
    {
     "name": "stdout",
     "output_type": "stream",
     "text": [
      "656\n",
      "https://www.amazon.in/dp/B01MRPNK6C\n"
     ]
    },
    {
     "name": "stderr",
     "output_type": "stream",
     "text": [
      "\r",
      " 42%|████████████████████████████████▋                                            | 657/1550 [46:28<1:07:48,  4.56s/it]"
     ]
    },
    {
     "name": "stdout",
     "output_type": "stream",
     "text": [
      "Brand: Sensodyne\n",
      "['Health & Personal Care', 'Oral Care', 'Toothpastes']\n",
      "657\n",
      "https://www.amazon.in/dp/B00KQFZQ26\n",
      "Brand: Sensodyne\n"
     ]
    },
    {
     "name": "stderr",
     "output_type": "stream",
     "text": [
      "\r",
      " 42%|████████████████████████████████▋                                            | 658/1550 [46:32<1:04:17,  4.32s/it]"
     ]
    },
    {
     "name": "stdout",
     "output_type": "stream",
     "text": [
      "['Health & Personal Care', 'Oral Care', 'Toothpastes']\n",
      "658\n",
      "https://www.amazon.in/dp/B0CDDGYZ4G\n",
      "Brand: Sensodyne\n"
     ]
    },
    {
     "name": "stderr",
     "output_type": "stream",
     "text": [
      "\r",
      " 43%|████████████████████████████████▋                                            | 659/1550 [46:38<1:12:48,  4.90s/it]"
     ]
    },
    {
     "name": "stdout",
     "output_type": "stream",
     "text": [
      "['Health & Personal Care', 'Oral Care', 'Toothpastes']\n",
      "659\n",
      "https://www.amazon.in/dp/B08218LZ51\n",
      "Brand: Sensodyne\n"
     ]
    },
    {
     "name": "stderr",
     "output_type": "stream",
     "text": [
      "\r",
      " 43%|████████████████████████████████▊                                            | 660/1550 [46:42<1:11:09,  4.80s/it]"
     ]
    },
    {
     "name": "stdout",
     "output_type": "stream",
     "text": [
      "['Health & Personal Care', 'Oral Care', 'Toothpastes']\n",
      "660\n",
      "https://www.amazon.in/dp/B0CDDMB1QW\n"
     ]
    },
    {
     "name": "stderr",
     "output_type": "stream",
     "text": [
      "\r",
      " 43%|████████████████████████████████▊                                            | 661/1550 [46:47<1:10:35,  4.76s/it]"
     ]
    },
    {
     "name": "stdout",
     "output_type": "stream",
     "text": [
      "Brand: Sensodyne\n",
      "['Health & Personal Care', 'Oral Care', 'Toothpastes']\n",
      "661\n",
      "https://www.amazon.in/dp/B0762LYFKP\n"
     ]
    },
    {
     "name": "stderr",
     "output_type": "stream",
     "text": [
      "\r",
      " 43%|████████████████████████████████▉                                            | 662/1550 [46:52<1:10:27,  4.76s/it]"
     ]
    },
    {
     "name": "stdout",
     "output_type": "stream",
     "text": [
      "Brand: SENSODYNE PRONAMEL\n",
      "['Health & Personal Care', 'Oral Care', 'Toothpastes']\n",
      "662\n",
      "https://www.amazon.in/dp/B00DRDZP4I\n",
      "Brand: Colgate\n"
     ]
    },
    {
     "name": "stderr",
     "output_type": "stream",
     "text": [
      "\r",
      " 43%|████████████████████████████████▉                                            | 663/1550 [46:57<1:12:56,  4.93s/it]"
     ]
    },
    {
     "name": "stdout",
     "output_type": "stream",
     "text": [
      "['Health & Personal Care', \"Men's Grooming store\", 'Oral Care', 'Toothpaste']\n",
      "663\n",
      "https://www.amazon.in/dp/B00ISUV79C\n"
     ]
    },
    {
     "name": "stderr",
     "output_type": "stream",
     "text": [
      "\r",
      " 43%|████████████████████████████████▉                                            | 664/1550 [47:02<1:14:44,  5.06s/it]"
     ]
    },
    {
     "name": "stdout",
     "output_type": "stream",
     "text": [
      "Brand: Sensodyne\n",
      "['Health & Personal Care', 'Oral Care', 'Toothpastes']\n",
      "664\n",
      "https://www.amazon.in/dp/B00ZATYH3C\n"
     ]
    },
    {
     "name": "stderr",
     "output_type": "stream",
     "text": [
      "\r",
      " 43%|█████████████████████████████████                                            | 665/1550 [47:07<1:11:45,  4.87s/it]"
     ]
    },
    {
     "name": "stdout",
     "output_type": "stream",
     "text": [
      "Brand: Sensodyne\n",
      "['Health & Personal Care', 'Oral Care', 'Toothpastes']\n",
      "665\n",
      "https://www.amazon.in/dp/B082LD6Q8T\n"
     ]
    },
    {
     "name": "stderr",
     "output_type": "stream",
     "text": [
      "\r",
      " 43%|█████████████████████████████████                                            | 666/1550 [47:11<1:09:09,  4.69s/it]"
     ]
    },
    {
     "name": "stdout",
     "output_type": "stream",
     "text": [
      "Brand: Colgate\n",
      "['Health & Personal Care', 'Oral Care', 'Toothpastes']\n",
      "666\n",
      "https://www.amazon.in/dp/B09MTH9XLH\n",
      "Brand: Sensodyne\n"
     ]
    },
    {
     "name": "stderr",
     "output_type": "stream",
     "text": [
      "\r",
      " 43%|█████████████████████████████████▏                                           | 667/1550 [47:15<1:05:12,  4.43s/it]"
     ]
    },
    {
     "name": "stdout",
     "output_type": "stream",
     "text": [
      "['Health & Personal Care', 'Oral Care', 'Toothpastes']\n",
      "667\n",
      "https://www.amazon.in/dp/B0755GY5LN\n"
     ]
    },
    {
     "name": "stderr",
     "output_type": "stream",
     "text": [
      "\r",
      " 43%|█████████████████████████████████▏                                           | 668/1550 [47:19<1:04:48,  4.41s/it]"
     ]
    },
    {
     "name": "stdout",
     "output_type": "stream",
     "text": [
      "Brand: Colgate\n",
      "['Health & Personal Care', 'Oral Care', 'Toothpastes']\n",
      "668\n",
      "https://www.amazon.in/dp/B01MSL83O4\n"
     ]
    },
    {
     "name": "stderr",
     "output_type": "stream",
     "text": [
      "\r",
      " 43%|█████████████████████████████████▏                                           | 669/1550 [47:24<1:04:46,  4.41s/it]"
     ]
    },
    {
     "name": "stdout",
     "output_type": "stream",
     "text": [
      "Visit the Himalaya Store\n",
      "['Health & Personal Care', 'Oral Care', 'Toothpastes']\n",
      "669\n",
      "https://www.amazon.in/dp/B00IZ6F7PE\n",
      "Brand: Sensodyne\n"
     ]
    },
    {
     "name": "stderr",
     "output_type": "stream",
     "text": [
      "\r",
      " 43%|█████████████████████████████████▎                                           | 670/1550 [47:28<1:03:00,  4.30s/it]"
     ]
    },
    {
     "name": "stdout",
     "output_type": "stream",
     "text": [
      "['Health & Personal Care', \"Men's Grooming store\", 'Oral Care', 'Toothpaste']\n",
      "670\n",
      "https://www.amazon.in/dp/B07HY3F275\n",
      "Visit the Anchor Store\n"
     ]
    },
    {
     "name": "stderr",
     "output_type": "stream",
     "text": [
      "\r",
      " 43%|█████████████████████████████████▎                                           | 671/1550 [47:32<1:04:16,  4.39s/it]"
     ]
    },
    {
     "name": "stdout",
     "output_type": "stream",
     "text": [
      "['Health & Personal Care', 'Oral Care', 'Toothpastes']\n",
      "671\n",
      "https://www.amazon.in/dp/B00MOZJX4S\n"
     ]
    },
    {
     "name": "stderr",
     "output_type": "stream",
     "text": [
      "\r",
      " 43%|█████████████████████████████████▍                                           | 672/1550 [47:36<1:02:43,  4.29s/it]"
     ]
    },
    {
     "name": "stdout",
     "output_type": "stream",
     "text": [
      "Brand: Sensodyne\n",
      "['Health & Personal Care', 'Oral Care', 'Toothpastes']\n",
      "672\n",
      "https://www.amazon.in/dp/B09N8SN2TC\n"
     ]
    },
    {
     "name": "stderr",
     "output_type": "stream",
     "text": [
      "\r",
      " 43%|█████████████████████████████████▍                                           | 673/1550 [47:41<1:04:09,  4.39s/it]"
     ]
    },
    {
     "name": "stdout",
     "output_type": "stream",
     "text": [
      "Visit the Himalaya Store\n",
      "['Health & Personal Care', 'Oral Care', 'Toothpastes']\n",
      "673\n",
      "https://www.amazon.in/dp/B0CDDD7N4V\n",
      "Brand: Sensodyne\n"
     ]
    },
    {
     "name": "stderr",
     "output_type": "stream",
     "text": [
      "\r",
      " 43%|█████████████████████████████████▍                                           | 674/1550 [47:46<1:05:00,  4.45s/it]"
     ]
    },
    {
     "name": "stdout",
     "output_type": "stream",
     "text": [
      "['Health & Personal Care', 'Oral Care', 'Toothpastes']\n",
      "674\n",
      "https://www.amazon.in/dp/B0B7R61QFN\n"
     ]
    },
    {
     "name": "stderr",
     "output_type": "stream",
     "text": [
      "\r",
      " 44%|█████████████████████████████████▌                                           | 675/1550 [47:51<1:07:43,  4.64s/it]"
     ]
    },
    {
     "name": "stdout",
     "output_type": "stream",
     "text": [
      "Brand: Sensodyne\n",
      "['Health & Personal Care', 'Oral Care', 'Toothpastes']\n",
      "675\n",
      "https://www.amazon.in/dp/B0CDDP3L9P\n",
      "Brand: Sensodyne\n"
     ]
    },
    {
     "name": "stderr",
     "output_type": "stream",
     "text": [
      "\r",
      " 44%|█████████████████████████████████▌                                           | 676/1550 [47:55<1:05:21,  4.49s/it]"
     ]
    },
    {
     "name": "stdout",
     "output_type": "stream",
     "text": [
      "['Health & Personal Care', 'Oral Care', 'Toothpastes']\n",
      "676\n",
      "https://www.amazon.in/dp/B00UFF48GW\n"
     ]
    },
    {
     "name": "stderr",
     "output_type": "stream",
     "text": [
      "\r",
      " 44%|█████████████████████████████████▋                                           | 677/1550 [47:59<1:03:49,  4.39s/it]"
     ]
    },
    {
     "name": "stdout",
     "output_type": "stream",
     "text": [
      "Brand: Closeup\n",
      "['Health & Personal Care', 'Oral Care', 'Toothpastes']\n",
      "677\n",
      "https://www.amazon.in/dp/B0CDDD7MD7\n",
      "Brand: Sensodyne\n"
     ]
    },
    {
     "name": "stderr",
     "output_type": "stream",
     "text": [
      "\r",
      " 44%|█████████████████████████████████▋                                           | 678/1550 [48:03<1:04:05,  4.41s/it]"
     ]
    },
    {
     "name": "stdout",
     "output_type": "stream",
     "text": [
      "['Health & Personal Care', 'Oral Care', 'Toothpastes']\n",
      "678\n",
      "https://www.amazon.in/dp/B00UFF4CUY\n"
     ]
    },
    {
     "name": "stderr",
     "output_type": "stream",
     "text": [
      "\r",
      " 44%|█████████████████████████████████▋                                           | 679/1550 [48:08<1:03:48,  4.40s/it]"
     ]
    },
    {
     "name": "stdout",
     "output_type": "stream",
     "text": [
      "Brand: Closeup\n",
      "['Health & Personal Care', 'Oral Care', 'Toothpastes']\n",
      "679\n",
      "https://www.amazon.in/dp/B089ZQC4G3\n",
      "Visit the DABUR Store\n"
     ]
    },
    {
     "name": "stderr",
     "output_type": "stream",
     "text": [
      "\r",
      " 44%|█████████████████████████████████▊                                           | 680/1550 [48:14<1:09:30,  4.79s/it]"
     ]
    },
    {
     "name": "stdout",
     "output_type": "stream",
     "text": [
      "['Health & Personal Care', 'Oral Care', 'Toothpastes']\n",
      "680\n",
      "https://www.amazon.in/dp/B075FTQ7GC\n",
      "Visit the Mee Mee Store\n"
     ]
    },
    {
     "name": "stderr",
     "output_type": "stream",
     "text": [
      "\r",
      " 44%|█████████████████████████████████▊                                           | 681/1550 [48:19<1:10:09,  4.84s/it]"
     ]
    },
    {
     "name": "stdout",
     "output_type": "stream",
     "text": [
      "['Health & Personal Care', 'Oral Care', 'Baby & Child Dental Care', 'Oral Care', 'Baby Toothpaste']\n",
      "681\n",
      "https://www.amazon.in/dp/B07JFW4CY4\n"
     ]
    },
    {
     "name": "stderr",
     "output_type": "stream",
     "text": [
      "\r",
      " 44%|█████████████████████████████████▉                                           | 682/1550 [48:23<1:09:29,  4.80s/it]"
     ]
    },
    {
     "name": "stdout",
     "output_type": "stream",
     "text": [
      "Brand: Colgate\n",
      "['Health & Personal Care', 'Oral Care', 'Toothpastes']\n",
      "682\n",
      "https://www.amazon.in/dp/B07GYRWTDZ\n",
      "Brand: Pepsodent\n",
      "['Health & Personal Care', 'Oral Care', 'Toothpastes']\n"
     ]
    },
    {
     "name": "stderr",
     "output_type": "stream",
     "text": [
      "\r",
      " 44%|█████████████████████████████████▉                                           | 683/1550 [48:28<1:07:49,  4.69s/it]"
     ]
    },
    {
     "name": "stdout",
     "output_type": "stream",
     "text": [
      "683\n",
      "https://www.amazon.in/dp/B0746Q3GZ5\n",
      "Brand: Colgate\n"
     ]
    },
    {
     "name": "stderr",
     "output_type": "stream",
     "text": [
      "\r",
      " 44%|█████████████████████████████████▉                                           | 684/1550 [48:33<1:09:33,  4.82s/it]"
     ]
    },
    {
     "name": "stdout",
     "output_type": "stream",
     "text": [
      "['Health & Personal Care', 'Oral Care', 'Toothpastes']\n",
      "684\n",
      "https://www.amazon.in/dp/B00I6F5DJ4\n",
      "Brand: Colgate\n"
     ]
    },
    {
     "name": "stderr",
     "output_type": "stream",
     "text": [
      "\r",
      " 44%|██████████████████████████████████                                           | 685/1550 [48:38<1:09:07,  4.80s/it]"
     ]
    },
    {
     "name": "stdout",
     "output_type": "stream",
     "text": [
      "['Health & Personal Care', \"Men's Grooming store\", 'Oral Care', 'Toothpaste']\n",
      "685\n",
      "https://www.amazon.in/dp/B00DRDZKKW\n",
      "Brand: Colgate\n"
     ]
    },
    {
     "name": "stderr",
     "output_type": "stream",
     "text": [
      "\r",
      " 44%|██████████████████████████████████                                           | 686/1550 [48:42<1:08:59,  4.79s/it]"
     ]
    },
    {
     "name": "stdout",
     "output_type": "stream",
     "text": [
      "['Health & Personal Care', \"Men's Grooming store\", 'Oral Care', 'Toothpaste']\n",
      "686\n",
      "https://www.amazon.in/dp/B00DRDZS22\n",
      "Brand: Colgate\n"
     ]
    },
    {
     "name": "stderr",
     "output_type": "stream",
     "text": [
      "\r",
      " 44%|██████████████████████████████████▏                                          | 687/1550 [48:47<1:10:22,  4.89s/it]"
     ]
    },
    {
     "name": "stdout",
     "output_type": "stream",
     "text": [
      "['Health & Personal Care', \"Men's Grooming store\", 'Oral Care', 'Toothpaste']\n",
      "687\n",
      "https://www.amazon.in/dp/B0746QKP6F\n",
      "Brand: Colgate\n"
     ]
    },
    {
     "name": "stderr",
     "output_type": "stream",
     "text": [
      "\r",
      " 44%|██████████████████████████████████▏                                          | 688/1550 [48:52<1:07:05,  4.67s/it]"
     ]
    },
    {
     "name": "stdout",
     "output_type": "stream",
     "text": [
      "['Health & Personal Care', 'Oral Care', 'Baby & Child Dental Care', \"Children's Oral Care\", 'Toothpastes']\n",
      "688\n",
      "https://www.amazon.in/dp/B079GXSTKY\n",
      "Brand: Colgate\n"
     ]
    },
    {
     "name": "stderr",
     "output_type": "stream",
     "text": [
      "\r",
      " 44%|██████████████████████████████████▏                                          | 689/1550 [48:56<1:06:05,  4.61s/it]"
     ]
    },
    {
     "name": "stdout",
     "output_type": "stream",
     "text": [
      "['Health & Personal Care', 'Oral Care', 'Baby & Child Dental Care', \"Children's Oral Care\", 'Toothpastes']\n",
      "689\n",
      "https://www.amazon.in/dp/B07N6GKBRP\n",
      "Visit the Pigeon Store\n"
     ]
    },
    {
     "name": "stderr",
     "output_type": "stream",
     "text": [
      "\r",
      " 45%|██████████████████████████████████▎                                          | 690/1550 [49:01<1:09:29,  4.85s/it]"
     ]
    },
    {
     "name": "stdout",
     "output_type": "stream",
     "text": [
      "['Health & Personal Care', 'Oral Care', 'Baby & Child Dental Care', \"Children's Oral Care\", 'Toothpastes']\n",
      "690\n",
      "https://www.amazon.in/dp/B0B82C7NX2\n",
      "Visit the Chicco Store\n"
     ]
    },
    {
     "name": "stderr",
     "output_type": "stream",
     "text": [
      "\r",
      " 45%|██████████████████████████████████▎                                          | 691/1550 [49:06<1:06:27,  4.64s/it]"
     ]
    },
    {
     "name": "stdout",
     "output_type": "stream",
     "text": [
      "['Health & Personal Care', 'Oral Care', 'Baby & Child Dental Care', 'Oral Care', 'Baby Toothpaste']\n",
      "691\n",
      "https://www.amazon.in/dp/B08XJY3WJ3\n",
      "Visit the Baby Organo Store\n"
     ]
    },
    {
     "name": "stderr",
     "output_type": "stream",
     "text": [
      "\r",
      " 45%|██████████████████████████████████▍                                          | 692/1550 [49:10<1:06:03,  4.62s/it]"
     ]
    },
    {
     "name": "stdout",
     "output_type": "stream",
     "text": [
      "['Health & Personal Care', 'Oral Care', 'Toothpastes']\n",
      "692\n",
      "https://www.amazon.in/dp/B07SBW66BP\n",
      "Visit the Mamaearth Store\n"
     ]
    },
    {
     "name": "stderr",
     "output_type": "stream",
     "text": [
      "\r",
      " 45%|██████████████████████████████████▍                                          | 693/1550 [49:15<1:05:20,  4.57s/it]"
     ]
    },
    {
     "name": "stdout",
     "output_type": "stream",
     "text": [
      "['Health & Personal Care', 'Oral Care', 'Toothpastes']\n",
      "693\n",
      "https://www.amazon.in/dp/B0CB5PLS7P\n",
      "Visit the Himalaya Store\n"
     ]
    },
    {
     "name": "stderr",
     "output_type": "stream",
     "text": [
      "\r",
      " 45%|██████████████████████████████████▍                                          | 694/1550 [49:19<1:04:17,  4.51s/it]"
     ]
    },
    {
     "name": "stdout",
     "output_type": "stream",
     "text": [
      "['Health & Personal Care', 'Oral Care', 'Toothpastes']\n",
      "694\n",
      "https://www.amazon.in/dp/B09HQSDFJF\n",
      "Brand: Colgate\n"
     ]
    },
    {
     "name": "stderr",
     "output_type": "stream",
     "text": [
      "\r",
      " 45%|██████████████████████████████████▌                                          | 695/1550 [49:23<1:03:54,  4.48s/it]"
     ]
    },
    {
     "name": "stdout",
     "output_type": "stream",
     "text": [
      "['Health & Personal Care', 'Oral Care', 'Baby & Child Dental Care', \"Children's Oral Care\", 'Toothpastes']\n",
      "695\n",
      "https://www.amazon.in/dp/B07CTK5N5Y\n",
      "Visit the DentoShine Store\n"
     ]
    },
    {
     "name": "stderr",
     "output_type": "stream",
     "text": [
      "\r",
      " 45%|██████████████████████████████████▌                                          | 696/1550 [49:30<1:13:35,  5.17s/it]"
     ]
    },
    {
     "name": "stdout",
     "output_type": "stream",
     "text": [
      "['Health & Personal Care', 'Oral Care', 'Toothpastes']\n",
      "696\n",
      "https://www.amazon.in/dp/B0756KT1Q6\n",
      "Visit the Pigeon Store\n"
     ]
    },
    {
     "name": "stderr",
     "output_type": "stream",
     "text": [
      "\r",
      " 45%|██████████████████████████████████▋                                          | 697/1550 [49:49<2:13:15,  9.37s/it]"
     ]
    },
    {
     "name": "stdout",
     "output_type": "stream",
     "text": [
      "['Health & Personal Care', 'Oral Care', 'Baby & Child Dental Care', 'Oral Care', 'Baby Toothpaste']\n",
      "697\n",
      "https://www.amazon.in/dp/B08SDSD25Q\n",
      "Brand: Colgate\n"
     ]
    },
    {
     "name": "stderr",
     "output_type": "stream",
     "text": [
      "\r",
      " 45%|██████████████████████████████████▋                                          | 698/1550 [50:13<3:14:36, 13.70s/it]"
     ]
    },
    {
     "name": "stdout",
     "output_type": "stream",
     "text": [
      "['Health & Personal Care', 'Oral Care', 'Baby & Child Dental Care', \"Children's Oral Care\", 'Toothpastes']\n",
      "698\n",
      "https://www.amazon.in/dp/B06ZZCMQV9\n",
      "Visit the Pigeon Store\n"
     ]
    },
    {
     "name": "stderr",
     "output_type": "stream",
     "text": [
      "\r",
      " 45%|██████████████████████████████████▋                                          | 699/1550 [50:22<2:53:09, 12.21s/it]"
     ]
    },
    {
     "name": "stdout",
     "output_type": "stream",
     "text": [
      "['Health & Personal Care', 'Oral Care', 'Baby & Child Dental Care', 'Oral Care', 'Baby Toothpaste']\n",
      "699\n",
      "https://www.amazon.in/dp/B0756CLC17\n",
      "Visit the Pigeon Store\n"
     ]
    },
    {
     "name": "stderr",
     "output_type": "stream",
     "text": [
      "\r",
      " 45%|██████████████████████████████████▊                                          | 700/1550 [50:30<2:34:43, 10.92s/it]"
     ]
    },
    {
     "name": "stdout",
     "output_type": "stream",
     "text": [
      "['Health & Personal Care', 'Oral Care', 'Baby & Child Dental Care', 'Oral Care', 'Baby Toothpaste']\n",
      "700\n",
      "https://www.amazon.in/dp/B0CB5QD7BK\n"
     ]
    },
    {
     "name": "stderr",
     "output_type": "stream",
     "text": [
      "\r",
      " 45%|██████████████████████████████████▊                                          | 701/1550 [50:35<2:08:32,  9.08s/it]"
     ]
    },
    {
     "name": "stdout",
     "output_type": "stream",
     "text": [
      "Visit the Himalaya Store\n",
      "['Health & Personal Care', 'Oral Care', 'Toothpastes']\n",
      "701\n",
      "https://www.amazon.in/dp/B078JG16CF\n",
      "Visit the BENTODENT TOOTHPASTE Store\n"
     ]
    },
    {
     "name": "stderr",
     "output_type": "stream",
     "text": [
      "\r",
      " 45%|██████████████████████████████████▊                                          | 702/1550 [50:41<1:56:12,  8.22s/it]"
     ]
    },
    {
     "name": "stdout",
     "output_type": "stream",
     "text": [
      "['Health & Personal Care', 'Oral Care', 'Toothpastes']\n",
      "702\n",
      "https://www.amazon.in/dp/B075FTKYC7\n",
      "Visit the Mee Mee Store\n"
     ]
    },
    {
     "name": "stderr",
     "output_type": "stream",
     "text": [
      "\r",
      " 45%|██████████████████████████████████▉                                          | 703/1550 [50:49<1:55:40,  8.19s/it]"
     ]
    },
    {
     "name": "stdout",
     "output_type": "stream",
     "text": [
      "['Health & Personal Care', 'Oral Care', 'Baby & Child Dental Care', 'Oral Care', 'Baby Toothpaste']\n",
      "703\n",
      "https://www.amazon.in/dp/B077G75YF6\n",
      "Visit the Pigeon Store\n"
     ]
    },
    {
     "name": "stderr",
     "output_type": "stream",
     "text": [
      "\r",
      " 45%|██████████████████████████████████▉                                          | 704/1550 [51:02<2:16:56,  9.71s/it]"
     ]
    },
    {
     "name": "stdout",
     "output_type": "stream",
     "text": [
      "['Health & Personal Care', 'Oral Care', 'Baby & Child Dental Care', 'Oral Care', 'Baby Toothpaste']\n",
      "704\n",
      "https://www.amazon.in/dp/B07BFB15LF\n",
      "Visit the Mee Mee Store\n"
     ]
    },
    {
     "name": "stderr",
     "output_type": "stream",
     "text": [
      "\r",
      " 45%|███████████████████████████████████                                          | 705/1550 [51:08<2:00:36,  8.56s/it]"
     ]
    },
    {
     "name": "stdout",
     "output_type": "stream",
     "text": [
      "['Baby', 'Super Value Day - Baby Products', 'Skin care, Bathing & Grooming', 'Oral Care']\n",
      "705\n",
      "https://www.amazon.in/dp/B07BFRGLJJ\n",
      "Visit the Mee Mee Store\n"
     ]
    },
    {
     "name": "stderr",
     "output_type": "stream",
     "text": [
      "\r",
      " 46%|███████████████████████████████████                                          | 706/1550 [51:24<2:31:35, 10.78s/it]"
     ]
    },
    {
     "name": "stdout",
     "output_type": "stream",
     "text": [
      "['Health & Personal Care', 'Oral Care', 'Baby & Child Dental Care', 'Oral Care', 'Baby Toothpaste']\n",
      "706\n",
      "https://www.amazon.in/dp/B0BRNNPWPV\n"
     ]
    },
    {
     "name": "stderr",
     "output_type": "stream",
     "text": [
      "\r",
      " 46%|███████████████████████████████████                                          | 707/1550 [51:28<2:03:02,  8.76s/it]"
     ]
    },
    {
     "name": "stdout",
     "output_type": "stream",
     "text": [
      "Visit the Perfora Store\n",
      "['Health & Personal Care', 'Oral Care', 'Toothpastes']\n",
      "707\n",
      "https://www.amazon.in/dp/B09J8GV5QR\n"
     ]
    },
    {
     "name": "stderr",
     "output_type": "stream",
     "text": [
      "\r",
      " 46%|███████████████████████████████████▏                                         | 708/1550 [51:33<1:44:35,  7.45s/it]"
     ]
    },
    {
     "name": "stdout",
     "output_type": "stream",
     "text": [
      "Visit the PEDIFLOR Store\n",
      "['Health & Personal Care', 'Oral Care', 'Toothpastes']\n",
      "708\n",
      "https://www.amazon.in/dp/B0BLYY61NT\n",
      "Visit the BuddsBuddy Store\n"
     ]
    },
    {
     "name": "stderr",
     "output_type": "stream",
     "text": [
      "\r",
      " 46%|███████████████████████████████████▏                                         | 709/1550 [51:37<1:31:41,  6.54s/it]"
     ]
    },
    {
     "name": "stdout",
     "output_type": "stream",
     "text": [
      "['Health & Personal Care', 'Oral Care', 'Baby & Child Dental Care', 'Oral Care', 'Baby Toothpaste']\n",
      "709\n",
      "https://www.amazon.in/dp/B07B4KHQZQ\n",
      "Visit the DentoShine Store\n"
     ]
    },
    {
     "name": "stderr",
     "output_type": "stream",
     "text": [
      "\r",
      " 46%|███████████████████████████████████▎                                         | 710/1550 [51:44<1:34:10,  6.73s/it]"
     ]
    },
    {
     "name": "stdout",
     "output_type": "stream",
     "text": [
      "['Health & Personal Care', 'Oral Care', 'Toothpastes']\n",
      "710\n",
      "https://www.amazon.in/dp/B0CB5PJV8Y\n",
      "Visit the Himalaya Store\n"
     ]
    },
    {
     "name": "stderr",
     "output_type": "stream",
     "text": [
      "\r",
      " 46%|███████████████████████████████████▎                                         | 711/1550 [51:54<1:45:58,  7.58s/it]"
     ]
    },
    {
     "name": "stdout",
     "output_type": "stream",
     "text": [
      "['Health & Personal Care', 'Oral Care', 'Toothpastes']\n",
      "711\n",
      "https://www.amazon.in/dp/B07L57J7PG\n",
      "Visit the Pigeon Store\n"
     ]
    },
    {
     "name": "stderr",
     "output_type": "stream",
     "text": [
      "\r",
      " 46%|███████████████████████████████████▎                                         | 712/1550 [51:59<1:34:29,  6.77s/it]"
     ]
    },
    {
     "name": "stdout",
     "output_type": "stream",
     "text": [
      "['Baby', 'Super Value Day - Baby Products', 'Skin care, Bathing & Grooming', 'Oral Care']\n",
      "712\n",
      "https://www.amazon.in/dp/B08GGX52Q3\n"
     ]
    },
    {
     "name": "stderr",
     "output_type": "stream",
     "text": [
      "\r",
      " 46%|███████████████████████████████████▍                                         | 713/1550 [52:04<1:27:11,  6.25s/it]"
     ]
    },
    {
     "name": "stdout",
     "output_type": "stream",
     "text": [
      "Visit the Pigeon Store\n",
      "['Health & Personal Care', 'Oral Care', 'Toothpastes']\n",
      "713\n",
      "https://www.amazon.in/dp/B06ZYS822B\n",
      "Visit the Pigeon Store\n"
     ]
    },
    {
     "name": "stderr",
     "output_type": "stream",
     "text": [
      "\r",
      " 46%|███████████████████████████████████▍                                         | 714/1550 [52:09<1:23:13,  5.97s/it]"
     ]
    },
    {
     "name": "stdout",
     "output_type": "stream",
     "text": [
      "['Health & Personal Care', 'Oral Care', 'Baby & Child Dental Care', 'Oral Care', 'Baby Toothpaste']\n",
      "714\n",
      "https://www.amazon.in/dp/B0C5NG31DS\n"
     ]
    },
    {
     "name": "stderr",
     "output_type": "stream",
     "text": [
      "\r",
      " 46%|███████████████████████████████████▌                                         | 715/1550 [52:13<1:15:36,  5.43s/it]"
     ]
    },
    {
     "name": "stdout",
     "output_type": "stream",
     "text": [
      "Brand: Kiddees\n",
      "['Health & Personal Care', 'Oral Care', 'Baby & Child Dental Care', 'Oral Care', 'Baby Toothpaste']\n",
      "715\n",
      "https://www.amazon.in/dp/B07L4WQHLP\n"
     ]
    },
    {
     "name": "stderr",
     "output_type": "stream",
     "text": [
      "\r",
      " 46%|███████████████████████████████████▌                                         | 716/1550 [52:18<1:12:05,  5.19s/it]"
     ]
    },
    {
     "name": "stdout",
     "output_type": "stream",
     "text": [
      "Visit the Pigeon Store\n",
      "['Baby', 'Super Value Day - Baby Products', 'Skin care, Bathing & Grooming', 'Oral Care']\n",
      "716\n",
      "https://www.amazon.in/dp/B09ZLCHS5G\n"
     ]
    },
    {
     "name": "stderr",
     "output_type": "stream",
     "text": [
      "\r",
      " 46%|███████████████████████████████████▌                                         | 717/1550 [52:22<1:07:28,  4.86s/it]"
     ]
    },
    {
     "name": "stdout",
     "output_type": "stream",
     "text": [
      "Visit the teeth-a-bit Store\n",
      "['Health & Personal Care', 'Oral Care', 'Toothpastes']\n",
      "717\n",
      "https://www.amazon.in/dp/B01AAE8JHQ\n"
     ]
    },
    {
     "name": "stderr",
     "output_type": "stream",
     "text": [
      "\r",
      " 46%|███████████████████████████████████▋                                         | 718/1550 [52:27<1:07:19,  4.86s/it]"
     ]
    },
    {
     "name": "stdout",
     "output_type": "stream",
     "text": [
      "Brand: Sensodyne\n",
      "['Health & Personal Care', 'Oral Care', 'Toothpastes']\n",
      "718\n",
      "https://www.amazon.in/dp/B08XQFRXSV\n",
      "Visit the Clove Store\n"
     ]
    },
    {
     "name": "stderr",
     "output_type": "stream",
     "text": [
      "\r",
      " 46%|███████████████████████████████████▋                                         | 719/1550 [52:31<1:04:57,  4.69s/it]"
     ]
    },
    {
     "name": "stdout",
     "output_type": "stream",
     "text": [
      "['Health & Personal Care', 'Oral Care', 'Toothpastes']\n",
      "719\n",
      "https://www.amazon.in/dp/B09R9MY67V\n"
     ]
    },
    {
     "name": "stderr",
     "output_type": "stream",
     "text": [
      "\r",
      " 46%|███████████████████████████████████▊                                         | 720/1550 [52:35<1:04:22,  4.65s/it]"
     ]
    },
    {
     "name": "stdout",
     "output_type": "stream",
     "text": [
      "Visit the Perfora Store\n",
      "['Health & Personal Care', 'Oral Care', 'Toothpastes']\n",
      "720\n",
      "https://www.amazon.in/dp/B01CMFVMY8\n",
      "Visit the Sensora Store\n"
     ]
    },
    {
     "name": "stderr",
     "output_type": "stream",
     "text": [
      "\r",
      " 47%|███████████████████████████████████▊                                         | 721/1550 [52:40<1:02:55,  4.55s/it]"
     ]
    },
    {
     "name": "stdout",
     "output_type": "stream",
     "text": [
      "['Health & Personal Care', 'Oral Care', 'Toothpastes']\n",
      "721\n",
      "https://www.amazon.in/dp/B09HQS6FNG\n"
     ]
    },
    {
     "name": "stderr",
     "output_type": "stream",
     "text": [
      "\r",
      " 47%|████████████████████████████████████▊                                          | 722/1550 [52:44<59:32,  4.32s/it]"
     ]
    },
    {
     "name": "stdout",
     "output_type": "stream",
     "text": [
      "Brand: Colgate\n",
      "['Health & Personal Care', 'Oral Care', 'Toothpastes']\n",
      "722\n",
      "https://www.amazon.in/dp/B0BRNLX5FZ\n",
      "Visit the Perfora Store\n"
     ]
    },
    {
     "name": "stderr",
     "output_type": "stream",
     "text": [
      "\r",
      " 47%|███████████████████████████████████▉                                         | 723/1550 [52:48<1:00:04,  4.36s/it]"
     ]
    },
    {
     "name": "stdout",
     "output_type": "stream",
     "text": [
      "['Health & Personal Care', 'Oral Care', 'Toothpastes']\n",
      "723\n",
      "https://www.amazon.in/dp/B09HWVT313\n"
     ]
    },
    {
     "name": "stderr",
     "output_type": "stream",
     "text": [
      "\r",
      " 47%|███████████████████████████████████▉                                         | 724/1550 [52:53<1:00:52,  4.42s/it]"
     ]
    },
    {
     "name": "stdout",
     "output_type": "stream",
     "text": [
      "Visit the BENTODENT TOOTHPASTE Store\n",
      "['Health & Personal Care', 'Oral Care', 'Toothpastes']\n",
      "724\n",
      "https://www.amazon.in/dp/B07QL37M78\n"
     ]
    },
    {
     "name": "stderr",
     "output_type": "stream",
     "text": [
      "\r",
      " 47%|████████████████████████████████████                                         | 725/1550 [52:58<1:04:44,  4.71s/it]"
     ]
    },
    {
     "name": "stdout",
     "output_type": "stream",
     "text": [
      "Brand: Colgate\n",
      "['Health & Personal Care', 'Oral Care', 'Toothpastes']\n",
      "725\n",
      "https://www.amazon.in/dp/B09C5DWLT3\n"
     ]
    },
    {
     "name": "stderr",
     "output_type": "stream",
     "text": [
      "\r",
      " 47%|████████████████████████████████████                                         | 726/1550 [53:02<1:02:55,  4.58s/it]"
     ]
    },
    {
     "name": "stdout",
     "output_type": "stream",
     "text": [
      "Brand: Sensodyne\n",
      "['Health & Personal Care', 'Oral Care', 'Toothpastes']\n",
      "726\n",
      "https://www.amazon.in/dp/B01N4031ML\n",
      "Visit the Himalaya Store\n"
     ]
    },
    {
     "name": "stderr",
     "output_type": "stream",
     "text": [
      "\r",
      " 47%|████████████████████████████████████                                         | 727/1550 [53:07<1:02:15,  4.54s/it]"
     ]
    },
    {
     "name": "stdout",
     "output_type": "stream",
     "text": [
      "['Health & Personal Care', 'Oral Care', 'Toothpastes']\n",
      "727\n",
      "https://www.amazon.in/dp/B0BLNDYZXD\n"
     ]
    },
    {
     "name": "stderr",
     "output_type": "stream",
     "text": [
      "\r",
      " 47%|████████████████████████████████████▏                                        | 728/1550 [53:11<1:01:34,  4.50s/it]"
     ]
    },
    {
     "name": "stdout",
     "output_type": "stream",
     "text": [
      "Brand: Sensodyne\n",
      "['Health & Personal Care', 'Oral Care', 'Toothpastes']\n",
      "728\n",
      "https://www.amazon.in/dp/B01MV5G8K6\n"
     ]
    },
    {
     "name": "stderr",
     "output_type": "stream",
     "text": [
      "\r",
      " 47%|████████████████████████████████████▏                                        | 729/1550 [53:15<1:00:57,  4.45s/it]"
     ]
    },
    {
     "name": "stdout",
     "output_type": "stream",
     "text": [
      "Visit the Himalaya Store\n",
      "['Health & Personal Care', 'Oral Care', 'Toothpastes']\n",
      "729\n",
      "https://www.amazon.in/dp/B01F3E7KOG\n"
     ]
    },
    {
     "name": "stderr",
     "output_type": "stream",
     "text": [
      "\r",
      " 47%|████████████████████████████████████▎                                        | 730/1550 [53:21<1:05:25,  4.79s/it]"
     ]
    },
    {
     "name": "stdout",
     "output_type": "stream",
     "text": [
      "Brand: Sensodyne\n",
      "['Health & Personal Care', 'Oral Care', 'Toothpastes']\n",
      "730\n",
      "https://www.amazon.in/dp/B01AAE8JS0\n"
     ]
    },
    {
     "name": "stderr",
     "output_type": "stream",
     "text": [
      "\r",
      " 47%|████████████████████████████████████▎                                        | 731/1550 [53:27<1:10:20,  5.15s/it]"
     ]
    },
    {
     "name": "stdout",
     "output_type": "stream",
     "text": [
      "Brand: Sensodyne\n",
      "['Health & Personal Care', 'Oral Care', 'Toothpastes']\n",
      "731\n",
      "https://www.amazon.in/dp/B071VD2NW4\n"
     ]
    },
    {
     "name": "stderr",
     "output_type": "stream",
     "text": [
      "\r",
      " 47%|████████████████████████████████████▎                                        | 732/1550 [53:32<1:08:44,  5.04s/it]"
     ]
    },
    {
     "name": "stdout",
     "output_type": "stream",
     "text": [
      "Brand: Sensodyne\n",
      "['Health & Personal Care', 'Oral Care', 'Toothpastes']\n",
      "732\n",
      "https://www.amazon.in/dp/B00DRE1OJW\n",
      "Brand: Colgate\n"
     ]
    },
    {
     "name": "stderr",
     "output_type": "stream",
     "text": [
      "\r",
      " 47%|████████████████████████████████████▍                                        | 733/1550 [53:36<1:06:50,  4.91s/it]"
     ]
    },
    {
     "name": "stdout",
     "output_type": "stream",
     "text": [
      "['Health & Personal Care', \"Men's Grooming store\", 'Oral Care', 'Toothpaste']\n",
      "733\n",
      "https://www.amazon.in/dp/B09X46M9DM\n"
     ]
    },
    {
     "name": "stderr",
     "output_type": "stream",
     "text": [
      "\r",
      " 47%|████████████████████████████████████▍                                        | 734/1550 [53:41<1:05:09,  4.79s/it]"
     ]
    },
    {
     "name": "stdout",
     "output_type": "stream",
     "text": [
      "Visit the Birdsong Store\n",
      "['Health & Personal Care', 'Oral Care', 'Toothpastes']\n",
      "734\n",
      "https://www.amazon.in/dp/B0BNHLQDCK\n"
     ]
    },
    {
     "name": "stderr",
     "output_type": "stream",
     "text": [
      "\r",
      " 47%|████████████████████████████████████▌                                        | 735/1550 [53:45<1:02:37,  4.61s/it]"
     ]
    },
    {
     "name": "stdout",
     "output_type": "stream",
     "text": [
      "Visit the DENTE91 Store\n",
      "['Health & Personal Care', 'Oral Care', 'Toothpastes']\n",
      "735\n",
      "https://www.amazon.in/dp/B0BC3KDL1W\n"
     ]
    },
    {
     "name": "stderr",
     "output_type": "stream",
     "text": [
      "\r",
      " 47%|████████████████████████████████████▌                                        | 736/1550 [53:49<1:00:49,  4.48s/it]"
     ]
    },
    {
     "name": "stdout",
     "output_type": "stream",
     "text": [
      "Visit the Perfora Store\n",
      "['Health & Personal Care', 'Oral Care', 'Toothpastes']\n",
      "736\n",
      "https://www.amazon.in/dp/B07L1516CV\n"
     ]
    },
    {
     "name": "stderr",
     "output_type": "stream",
     "text": [
      "\r",
      " 48%|█████████████████████████████████████▌                                         | 737/1550 [53:54<59:51,  4.42s/it]"
     ]
    },
    {
     "name": "stdout",
     "output_type": "stream",
     "text": [
      "Brand: Clinpro\n",
      "['Health & Personal Care', 'Oral Care', 'Toothpastes']\n",
      "737\n",
      "https://www.amazon.in/dp/B082LDRTD1\n"
     ]
    },
    {
     "name": "stderr",
     "output_type": "stream",
     "text": [
      "\r",
      " 48%|████████████████████████████████████▋                                        | 738/1550 [53:59<1:02:25,  4.61s/it]"
     ]
    },
    {
     "name": "stdout",
     "output_type": "stream",
     "text": [
      "Brand: Colgate\n",
      "['Health & Personal Care', 'Oral Care', 'Toothpastes']\n",
      "738\n",
      "https://www.amazon.in/dp/B01M5CFQ7G\n",
      "Brand: ELSENZ\n"
     ]
    },
    {
     "name": "stderr",
     "output_type": "stream",
     "text": [
      "\r",
      " 48%|████████████████████████████████████▋                                        | 739/1550 [54:03<1:02:43,  4.64s/it]"
     ]
    },
    {
     "name": "stdout",
     "output_type": "stream",
     "text": [
      "['Health & Personal Care', 'Oral Care', 'Toothpastes']\n",
      "739\n",
      "https://www.amazon.in/dp/B006G83BKQ\n",
      "Visit the Himalaya Store\n"
     ]
    },
    {
     "name": "stderr",
     "output_type": "stream",
     "text": [
      "\r",
      " 48%|████████████████████████████████████▊                                        | 740/1550 [54:08<1:00:45,  4.50s/it]"
     ]
    },
    {
     "name": "stdout",
     "output_type": "stream",
     "text": [
      "['Health & Personal Care', \"Men's Grooming store\", 'Oral Care', 'Toothpaste']\n",
      "740\n",
      "https://www.amazon.in/dp/B0C94CCFMT\n"
     ]
    },
    {
     "name": "stderr",
     "output_type": "stream",
     "text": [
      "\r",
      " 48%|█████████████████████████████████████▊                                         | 741/1550 [54:12<58:56,  4.37s/it]"
     ]
    },
    {
     "name": "stdout",
     "output_type": "stream",
     "text": [
      "Visit the Clove Store\n",
      "['Health & Personal Care', 'Oral Care', 'Toothpastes']\n",
      "741\n",
      "https://www.amazon.in/dp/B0BJQPQSKQ\n",
      "Visit the Maharishi Ayurveda Store\n",
      "['Health & Personal Care', 'Oral Care', 'Toothpastes']\n"
     ]
    },
    {
     "name": "stderr",
     "output_type": "stream",
     "text": [
      "\r",
      " 48%|████████████████████████████████████▊                                        | 742/1550 [54:17<1:02:40,  4.65s/it]"
     ]
    },
    {
     "name": "stdout",
     "output_type": "stream",
     "text": [
      "742\n",
      "https://www.amazon.in/dp/B0C94C8QBB\n",
      "Visit the Clove Store\n"
     ]
    },
    {
     "name": "stderr",
     "output_type": "stream",
     "text": [
      "\r",
      " 48%|████████████████████████████████████▉                                        | 743/1550 [54:31<1:38:54,  7.35s/it]"
     ]
    },
    {
     "name": "stdout",
     "output_type": "stream",
     "text": [
      "['Health & Personal Care', 'Oral Care', 'Toothpastes']\n",
      "743\n",
      "https://www.amazon.in/dp/B08DJB9YRL\n"
     ]
    },
    {
     "name": "stderr",
     "output_type": "stream",
     "text": [
      "\r",
      " 48%|████████████████████████████████████▉                                        | 744/1550 [54:39<1:44:21,  7.77s/it]"
     ]
    },
    {
     "name": "stdout",
     "output_type": "stream",
     "text": [
      "Visit the DABUR Store\n",
      "['Health & Personal Care', 'Oral Care', 'Toothpastes']\n",
      "744\n",
      "https://www.amazon.in/dp/B08WY2S2VN\n"
     ]
    },
    {
     "name": "stderr",
     "output_type": "stream",
     "text": [
      "\r",
      " 48%|█████████████████████████████████████                                        | 745/1550 [54:44<1:30:08,  6.72s/it]"
     ]
    },
    {
     "name": "stdout",
     "output_type": "stream",
     "text": [
      "Brand: Colgate\n",
      "['Health & Personal Care', 'Oral Care', 'Toothpastes']\n",
      "745\n",
      "https://www.amazon.in/dp/B0BT1ZG8V8\n"
     ]
    },
    {
     "name": "stderr",
     "output_type": "stream",
     "text": [
      "\r",
      " 48%|█████████████████████████████████████                                        | 746/1550 [54:48<1:21:02,  6.05s/it]"
     ]
    },
    {
     "name": "stdout",
     "output_type": "stream",
     "text": [
      "Brand: Dr. Jaikaran\n",
      "['Health & Personal Care', 'Oral Care', 'Toothpastes']\n",
      "746\n",
      "https://www.amazon.in/dp/B0BXJ8TFQK\n",
      "Brand: The Nile\n"
     ]
    },
    {
     "name": "stderr",
     "output_type": "stream",
     "text": [
      "\r",
      " 48%|█████████████████████████████████████                                        | 747/1550 [54:52<1:11:46,  5.36s/it]"
     ]
    },
    {
     "name": "stdout",
     "output_type": "stream",
     "text": [
      "['Health & Personal Care', 'Oral Care', 'Toothpastes']\n",
      "747\n",
      "https://www.amazon.in/dp/B0C45NS6D3\n"
     ]
    },
    {
     "name": "stderr",
     "output_type": "stream",
     "text": [
      "\r",
      " 48%|█████████████████████████████████████▏                                       | 748/1550 [54:56<1:05:56,  4.93s/it]"
     ]
    },
    {
     "name": "stdout",
     "output_type": "stream",
     "text": [
      "Brand: Vantej\n",
      "['Health & Personal Care', 'Oral Care', 'Toothpastes']\n",
      "748\n",
      "https://www.amazon.in/dp/B0C3WDNCNN\n",
      "Visit the AYUUGAIN Store\n"
     ]
    },
    {
     "name": "stderr",
     "output_type": "stream",
     "text": [
      "\r",
      " 48%|█████████████████████████████████████▏                                       | 749/1550 [55:00<1:05:09,  4.88s/it]"
     ]
    },
    {
     "name": "stdout",
     "output_type": "stream",
     "text": [
      "['Health & Personal Care', 'Oral Care', 'Toothpastes']\n",
      "749\n",
      "https://www.amazon.in/dp/B01NAZBI08\n",
      "Brand: Colgate\n"
     ]
    },
    {
     "name": "stderr",
     "output_type": "stream",
     "text": [
      "\r",
      " 48%|█████████████████████████████████████▎                                       | 750/1550 [55:13<1:35:33,  7.17s/it]"
     ]
    },
    {
     "name": "stdout",
     "output_type": "stream",
     "text": [
      "['Health & Personal Care', 'Oral Care', 'Toothpastes']\n",
      "750\n",
      "https://www.amazon.in/dp/B01I6IQ02Y\n"
     ]
    },
    {
     "name": "stderr",
     "output_type": "stream",
     "text": [
      "\r",
      " 48%|█████████████████████████████████████▎                                       | 751/1550 [55:18<1:27:45,  6.59s/it]"
     ]
    },
    {
     "name": "stdout",
     "output_type": "stream",
     "text": [
      "Brand: Colgate\n",
      "['Health & Personal Care', 'Oral Care', 'Toothpastes']\n",
      "751\n",
      "https://www.amazon.in/dp/B0755J7HRX\n",
      "Brand: Colgate\n"
     ]
    },
    {
     "name": "stderr",
     "output_type": "stream",
     "text": [
      "\r",
      " 49%|█████████████████████████████████████▎                                       | 752/1550 [55:23<1:21:07,  6.10s/it]"
     ]
    },
    {
     "name": "stdout",
     "output_type": "stream",
     "text": [
      "['Health & Personal Care', 'Oral Care', 'Toothpastes']\n",
      "752\n",
      "https://www.amazon.in/dp/B00DRDZNZY\n"
     ]
    },
    {
     "name": "stderr",
     "output_type": "stream",
     "text": [
      "\r",
      " 49%|█████████████████████████████████████▍                                       | 753/1550 [55:28<1:17:31,  5.84s/it]"
     ]
    },
    {
     "name": "stdout",
     "output_type": "stream",
     "text": [
      "Brand: Colgate\n",
      "['Health & Personal Care', \"Men's Grooming store\", 'Oral Care', 'Toothpaste']\n",
      "753\n",
      "https://www.amazon.in/dp/B082LDKF3J\n",
      "Brand: Colgate\n"
     ]
    },
    {
     "name": "stderr",
     "output_type": "stream",
     "text": [
      "\r",
      " 49%|█████████████████████████████████████▍                                       | 754/1550 [55:35<1:19:21,  5.98s/it]"
     ]
    },
    {
     "name": "stdout",
     "output_type": "stream",
     "text": [
      "['Health & Personal Care', 'Oral Care', 'Toothpastes']\n",
      "754\n",
      "https://www.amazon.in/dp/B08LH3F99L\n"
     ]
    },
    {
     "name": "stderr",
     "output_type": "stream",
     "text": [
      "\r",
      " 49%|█████████████████████████████████████▌                                       | 755/1550 [55:39<1:12:33,  5.48s/it]"
     ]
    },
    {
     "name": "stdout",
     "output_type": "stream",
     "text": [
      "Brand: Colgate\n",
      "['Health & Personal Care', 'Oral Care', 'Toothpastes']\n",
      "755\n",
      "https://www.amazon.in/dp/B00DRDZPIO\n"
     ]
    },
    {
     "name": "stderr",
     "output_type": "stream",
     "text": [
      "\r",
      " 49%|█████████████████████████████████████▌                                       | 756/1550 [55:43<1:06:52,  5.05s/it]"
     ]
    },
    {
     "name": "stdout",
     "output_type": "stream",
     "text": [
      "Brand: Colgate\n",
      "['Health & Personal Care', \"Men's Grooming store\", 'Oral Care', 'Toothpaste']\n",
      "756\n",
      "https://www.amazon.in/dp/B079VRGRTP\n"
     ]
    },
    {
     "name": "stderr",
     "output_type": "stream",
     "text": [
      "\r",
      " 49%|█████████████████████████████████████▌                                       | 757/1550 [55:47<1:01:30,  4.65s/it]"
     ]
    },
    {
     "name": "stdout",
     "output_type": "stream",
     "text": [
      "Brand: Colgate\n",
      "['Health & Personal Care', 'Oral Care', 'Toothpastes']\n",
      "757\n",
      "https://www.amazon.in/dp/B003VFFYKM\n"
     ]
    },
    {
     "name": "stderr",
     "output_type": "stream",
     "text": [
      "\r",
      " 49%|██████████████████████████████████████▋                                        | 758/1550 [55:50<57:36,  4.36s/it]"
     ]
    },
    {
     "name": "stdout",
     "output_type": "stream",
     "text": [
      "Brand: Colgate\n",
      "['Health & Personal Care', 'Oral Care', 'Toothpastes']\n",
      "758\n",
      "https://www.amazon.in/dp/B0B7W56P2H\n",
      "Brand: Colgate\n"
     ]
    },
    {
     "name": "stderr",
     "output_type": "stream",
     "text": [
      "\r",
      " 49%|██████████████████████████████████████▋                                        | 759/1550 [55:55<58:32,  4.44s/it]"
     ]
    },
    {
     "name": "stdout",
     "output_type": "stream",
     "text": [
      "['Health & Personal Care', 'Oral Care', 'Toothpastes']\n",
      "759\n",
      "https://www.amazon.in/dp/B08R723833\n",
      "Brand: Colgate\n"
     ]
    },
    {
     "name": "stderr",
     "output_type": "stream",
     "text": [
      "\r",
      " 49%|██████████████████████████████████████▋                                        | 760/1550 [55:59<54:20,  4.13s/it]"
     ]
    },
    {
     "name": "stdout",
     "output_type": "stream",
     "text": [
      "['Health & Personal Care', 'Oral Care', 'Toothpastes']\n",
      "760\n",
      "https://www.amazon.in/dp/B08XYH5HPJ\n"
     ]
    },
    {
     "name": "stderr",
     "output_type": "stream",
     "text": [
      "\r",
      " 49%|██████████████████████████████████████▊                                        | 761/1550 [56:02<53:25,  4.06s/it]"
     ]
    },
    {
     "name": "stdout",
     "output_type": "stream",
     "text": [
      "Brand: Colgate\n",
      "['Health & Personal Care', 'Oral Care', 'Toothpastes']\n",
      "761\n",
      "https://www.amazon.in/dp/B0105Z0FZO\n"
     ]
    },
    {
     "name": "stderr",
     "output_type": "stream",
     "text": [
      "\r",
      " 49%|██████████████████████████████████████▊                                        | 762/1550 [56:06<53:06,  4.04s/it]"
     ]
    },
    {
     "name": "stdout",
     "output_type": "stream",
     "text": [
      "Brand: Colgate\n",
      "['Health & Personal Care', 'Personal Care', 'Oral Care', 'Toothpastes & Gels']\n",
      "762\n",
      "https://www.amazon.in/dp/B00I6F6QTK\n"
     ]
    },
    {
     "name": "stderr",
     "output_type": "stream",
     "text": [
      "\r",
      " 49%|██████████████████████████████████████▉                                        | 763/1550 [56:11<53:21,  4.07s/it]"
     ]
    },
    {
     "name": "stdout",
     "output_type": "stream",
     "text": [
      "Brand: Colgate\n",
      "['Health & Personal Care', \"Men's Grooming store\", 'Oral Care', 'Toothpaste']\n",
      "763\n",
      "https://www.amazon.in/dp/B0C5VVFL4P\n",
      "Brand: Generic\n"
     ]
    },
    {
     "name": "stderr",
     "output_type": "stream",
     "text": [
      "\r",
      " 49%|██████████████████████████████████████▉                                        | 764/1550 [56:14<51:55,  3.96s/it]"
     ]
    },
    {
     "name": "stdout",
     "output_type": "stream",
     "text": [
      "['Health & Personal Care', 'Oral Care', 'Toothpastes']\n",
      "764\n",
      "https://www.amazon.in/dp/B07CHKMFGW\n",
      "Brand: Colgate\n"
     ]
    },
    {
     "name": "stderr",
     "output_type": "stream",
     "text": [
      "\r",
      " 49%|██████████████████████████████████████▉                                        | 765/1550 [56:18<52:10,  3.99s/it]"
     ]
    },
    {
     "name": "stdout",
     "output_type": "stream",
     "text": [
      "['Health & Personal Care', 'Oral Care', 'Toothpastes']\n",
      "765\n",
      "https://www.amazon.in/dp/B0831YP6M4\n"
     ]
    },
    {
     "name": "stderr",
     "output_type": "stream",
     "text": [
      "\r",
      " 49%|███████████████████████████████████████                                        | 766/1550 [56:22<52:47,  4.04s/it]"
     ]
    },
    {
     "name": "stdout",
     "output_type": "stream",
     "text": [
      "Brand: Colgate\n",
      "['Health & Personal Care', 'Oral Care', 'Toothpastes']\n",
      "766\n",
      "https://www.amazon.in/dp/B08FLX3LT1\n"
     ]
    },
    {
     "name": "stderr",
     "output_type": "stream",
     "text": [
      "\r",
      " 49%|███████████████████████████████████████                                        | 767/1550 [56:27<54:52,  4.21s/it]"
     ]
    },
    {
     "name": "stdout",
     "output_type": "stream",
     "text": [
      "Brand: Colgate\n",
      "['Health & Personal Care', 'Oral Care', 'Toothpastes']\n",
      "767\n",
      "https://www.amazon.in/dp/B082PKBVQR\n"
     ]
    },
    {
     "name": "stderr",
     "output_type": "stream",
     "text": [
      "\r",
      " 50%|███████████████████████████████████████▏                                       | 768/1550 [56:32<56:17,  4.32s/it]"
     ]
    },
    {
     "name": "stdout",
     "output_type": "stream",
     "text": [
      "Brand: Colgate\n",
      "['Health & Personal Care', 'Oral Care', 'Toothpastes']\n",
      "768\n",
      "https://www.amazon.in/dp/B09QSBPKTF\n"
     ]
    },
    {
     "name": "stderr",
     "output_type": "stream",
     "text": [
      "\r",
      " 50%|███████████████████████████████████████▏                                       | 769/1550 [56:37<58:26,  4.49s/it]"
     ]
    },
    {
     "name": "stdout",
     "output_type": "stream",
     "text": [
      "Brand: Colgate\n",
      "['Health & Personal Care', 'Oral Care', 'Toothpastes']\n",
      "769\n",
      "https://www.amazon.in/dp/B0746QGC3Z\n"
     ]
    },
    {
     "name": "stderr",
     "output_type": "stream",
     "text": [
      "\r",
      " 50%|██████████████████████████████████████▎                                      | 770/1550 [56:42<1:01:16,  4.71s/it]"
     ]
    },
    {
     "name": "stdout",
     "output_type": "stream",
     "text": [
      "Brand: Colgate\n",
      "['Health & Personal Care', 'Oral Care', 'Toothpastes']\n",
      "770\n",
      "https://www.amazon.in/dp/B09MYGG3J9\n"
     ]
    },
    {
     "name": "stderr",
     "output_type": "stream",
     "text": [
      "\r",
      " 50%|██████████████████████████████████████▎                                      | 771/1550 [56:47<1:01:49,  4.76s/it]"
     ]
    },
    {
     "name": "stdout",
     "output_type": "stream",
     "text": [
      "Brand: Colgate\n",
      "['Health & Personal Care', 'Oral Care', 'Toothpastes']\n",
      "771\n",
      "https://www.amazon.in/dp/B09VKSDFM1\n"
     ]
    },
    {
     "name": "stderr",
     "output_type": "stream",
     "text": [
      "\r",
      " 50%|███████████████████████████████████████▎                                       | 772/1550 [56:51<59:42,  4.60s/it]"
     ]
    },
    {
     "name": "stdout",
     "output_type": "stream",
     "text": [
      "Brand: Colgate\n",
      "['Health & Personal Care', 'Oral Care', 'Toothpastes']\n",
      "772\n",
      "https://www.amazon.in/dp/B014ACNJX8\n"
     ]
    },
    {
     "name": "stderr",
     "output_type": "stream",
     "text": [
      "\r",
      " 50%|███████████████████████████████████████▍                                       | 773/1550 [56:54<55:43,  4.30s/it]"
     ]
    },
    {
     "name": "stdout",
     "output_type": "stream",
     "text": [
      "Brand: Colgate\n",
      "['Health & Personal Care', 'Oral Care', 'Toothpastes']\n",
      "773\n",
      "https://www.amazon.in/dp/B07XC1SJD3\n"
     ]
    },
    {
     "name": "stderr",
     "output_type": "stream",
     "text": [
      "\r",
      " 50%|███████████████████████████████████████▍                                       | 774/1550 [56:59<57:09,  4.42s/it]"
     ]
    },
    {
     "name": "stdout",
     "output_type": "stream",
     "text": [
      "Brand: Colgate\n",
      "['Health & Personal Care', 'Oral Care', 'Toothpastes']\n",
      "774\n",
      "https://www.amazon.in/dp/B00DRDZLJW\n",
      "Brand: Colgate\n"
     ]
    },
    {
     "name": "stderr",
     "output_type": "stream",
     "text": [
      "\r",
      " 50%|███████████████████████████████████████▌                                       | 775/1550 [57:04<58:00,  4.49s/it]"
     ]
    },
    {
     "name": "stdout",
     "output_type": "stream",
     "text": [
      "['Health & Personal Care', \"Men's Grooming store\", 'Oral Care', 'Toothpaste']\n",
      "775\n",
      "https://www.amazon.in/dp/B0C5VMVV2J\n"
     ]
    },
    {
     "name": "stderr",
     "output_type": "stream",
     "text": [
      "\r",
      " 50%|███████████████████████████████████████▌                                       | 776/1550 [57:08<55:51,  4.33s/it]"
     ]
    },
    {
     "name": "stdout",
     "output_type": "stream",
     "text": [
      "Brand: Generic\n",
      "['Health & Personal Care', 'Oral Care', 'Toothpastes']\n",
      "776\n",
      "https://www.amazon.in/dp/B09S639ZVN\n"
     ]
    },
    {
     "name": "stderr",
     "output_type": "stream",
     "text": [
      "\r",
      " 50%|███████████████████████████████████████▌                                       | 777/1550 [57:11<53:17,  4.14s/it]"
     ]
    },
    {
     "name": "stdout",
     "output_type": "stream",
     "text": [
      "Brand: Colgate\n",
      "['Health & Personal Care', 'Oral Care', 'Toothpastes']\n",
      "777\n",
      "https://www.amazon.in/dp/B0BP5KDP9G\n"
     ]
    },
    {
     "name": "stderr",
     "output_type": "stream",
     "text": [
      "\r",
      " 50%|███████████████████████████████████████▋                                       | 778/1550 [57:16<53:33,  4.16s/it]"
     ]
    },
    {
     "name": "stdout",
     "output_type": "stream",
     "text": [
      "Brand: Colgate\n",
      "['Health & Personal Care', 'Oral Care', 'Toothpastes']\n",
      "778\n",
      "https://www.amazon.in/dp/B012RILH0O\n",
      "Brand: Colgate\n"
     ]
    },
    {
     "name": "stderr",
     "output_type": "stream",
     "text": [
      "\r",
      " 50%|███████████████████████████████████████▋                                       | 779/1550 [57:20<55:43,  4.34s/it]"
     ]
    },
    {
     "name": "stdout",
     "output_type": "stream",
     "text": [
      "['Health & Personal Care', 'Oral Care', 'Toothpastes']\n",
      "779\n",
      "https://www.amazon.in/dp/B079GXSW6S\n",
      "Brand: Colgate\n"
     ]
    },
    {
     "name": "stderr",
     "output_type": "stream",
     "text": [
      "\r",
      " 50%|███████████████████████████████████████▊                                       | 780/1550 [57:25<58:23,  4.55s/it]"
     ]
    },
    {
     "name": "stdout",
     "output_type": "stream",
     "text": [
      "['Health & Personal Care', 'Oral Care', 'Toothpastes']\n",
      "780\n",
      "https://www.amazon.in/dp/B00I6F5BPU\n"
     ]
    },
    {
     "name": "stderr",
     "output_type": "stream",
     "text": [
      "\r",
      " 50%|███████████████████████████████████████▊                                       | 781/1550 [57:29<55:30,  4.33s/it]"
     ]
    },
    {
     "name": "stdout",
     "output_type": "stream",
     "text": [
      "Brand: Colgate\n",
      "['Health & Personal Care', \"Men's Grooming store\", 'Oral Care', 'Toothpaste']\n",
      "781\n",
      "https://www.amazon.in/dp/B01G4UK02C\n",
      "Brand: Pepsodent\n"
     ]
    },
    {
     "name": "stderr",
     "output_type": "stream",
     "text": [
      "\r",
      " 50%|███████████████████████████████████████▊                                       | 782/1550 [57:33<54:18,  4.24s/it]"
     ]
    },
    {
     "name": "stdout",
     "output_type": "stream",
     "text": [
      "['Health & Personal Care', 'Oral Care', 'Toothpastes']\n",
      "782\n",
      "https://www.amazon.in/dp/B019MHLJLA\n",
      "Brand: Colgate\n"
     ]
    },
    {
     "name": "stderr",
     "output_type": "stream",
     "text": [
      "\r",
      " 51%|███████████████████████████████████████▉                                       | 783/1550 [57:37<53:07,  4.16s/it]"
     ]
    },
    {
     "name": "stdout",
     "output_type": "stream",
     "text": [
      "['Health & Personal Care', 'Oral Care', 'Toothpastes']\n",
      "783\n",
      "https://www.amazon.in/dp/B000JIJ1HQ\n",
      "Brand: Colgate\n"
     ]
    },
    {
     "name": "stderr",
     "output_type": "stream",
     "text": [
      "\r",
      " 51%|███████████████████████████████████████▉                                       | 784/1550 [57:42<55:03,  4.31s/it]"
     ]
    },
    {
     "name": "stdout",
     "output_type": "stream",
     "text": [
      "['Health & Personal Care', \"Men's Grooming store\", 'Oral Care', 'Toothpaste']\n",
      "784\n",
      "https://www.amazon.in/dp/B08SDSD25K\n"
     ]
    },
    {
     "name": "stderr",
     "output_type": "stream",
     "text": [
      "\r",
      " 51%|████████████████████████████████████████                                       | 785/1550 [57:46<54:54,  4.31s/it]"
     ]
    },
    {
     "name": "stdout",
     "output_type": "stream",
     "text": [
      "Brand: Colgate\n",
      "['Health & Personal Care', 'Oral Care', 'Toothpastes']\n",
      "785\n",
      "https://www.amazon.in/dp/B0B1MDM7LY\n"
     ]
    },
    {
     "name": "stderr",
     "output_type": "stream",
     "text": [
      "\r",
      " 51%|████████████████████████████████████████                                       | 786/1550 [57:50<53:37,  4.21s/it]"
     ]
    },
    {
     "name": "stdout",
     "output_type": "stream",
     "text": [
      "Brand: Colgate\n",
      "['Health & Personal Care', 'Oral Care', 'Toothpastes']\n",
      "786\n",
      "https://www.amazon.in/dp/B07BDZH2KV\n"
     ]
    },
    {
     "name": "stderr",
     "output_type": "stream",
     "text": [
      "\r",
      " 51%|████████████████████████████████████████                                       | 787/1550 [57:54<49:52,  3.92s/it]"
     ]
    },
    {
     "name": "stdout",
     "output_type": "stream",
     "text": [
      "Brand: Pepsodent\n",
      "no cat found\n",
      "787\n",
      "https://www.amazon.in/dp/B07HKXSC6K\n"
     ]
    },
    {
     "name": "stderr",
     "output_type": "stream",
     "text": [
      "\r",
      " 51%|████████████████████████████████████████▏                                      | 788/1550 [57:58<52:32,  4.14s/it]"
     ]
    },
    {
     "name": "stdout",
     "output_type": "stream",
     "text": [
      "Visit the DABUR Store\n",
      "['Health & Personal Care', 'Oral Care', 'Toothpastes']\n",
      "788\n",
      "https://www.amazon.in/dp/B01KMHUX5W\n",
      "Visit the DABUR Store\n"
     ]
    },
    {
     "name": "stderr",
     "output_type": "stream",
     "text": [
      "\r",
      " 51%|████████████████████████████████████████▏                                      | 789/1550 [58:02<52:39,  4.15s/it]"
     ]
    },
    {
     "name": "stdout",
     "output_type": "stream",
     "text": [
      "['Health & Personal Care', 'Oral Care', 'Toothpastes']\n",
      "789\n",
      "https://www.amazon.in/dp/B0731T44LM\n"
     ]
    },
    {
     "name": "stderr",
     "output_type": "stream",
     "text": [
      "\r",
      " 51%|████████████████████████████████████████▎                                      | 790/1550 [58:06<50:45,  4.01s/it]"
     ]
    },
    {
     "name": "stdout",
     "output_type": "stream",
     "text": [
      "Visit the DABUR Store\n",
      "['Health & Personal Care', 'Oral Care', 'Toothpastes']\n",
      "790\n",
      "https://www.amazon.in/dp/B01IHYH7QU\n"
     ]
    },
    {
     "name": "stderr",
     "output_type": "stream",
     "text": [
      "\r",
      " 51%|████████████████████████████████████████▎                                      | 791/1550 [58:10<50:09,  3.96s/it]"
     ]
    },
    {
     "name": "stdout",
     "output_type": "stream",
     "text": [
      "Visit the DABUR Store\n",
      "['Health & Personal Care', 'Oral Care', 'Toothpastes']\n",
      "791\n",
      "https://www.amazon.in/dp/B013UYJXDW\n",
      "Visit the DABUR Store\n"
     ]
    },
    {
     "name": "stderr",
     "output_type": "stream",
     "text": [
      "\r",
      " 51%|████████████████████████████████████████▎                                      | 792/1550 [58:14<50:26,  3.99s/it]"
     ]
    },
    {
     "name": "stdout",
     "output_type": "stream",
     "text": [
      "['Health & Personal Care', 'Personal Care', 'Oral Care', 'Toothpastes & Gels']\n",
      "792\n",
      "https://www.amazon.in/dp/B01N5Y6H0J\n"
     ]
    },
    {
     "name": "stderr",
     "output_type": "stream",
     "text": [
      "\r",
      " 51%|████████████████████████████████████████▍                                      | 793/1550 [58:18<49:33,  3.93s/it]"
     ]
    },
    {
     "name": "stdout",
     "output_type": "stream",
     "text": [
      "Visit the DABUR Store\n",
      "['Health & Personal Care', 'Oral Care', 'Toothpastes']\n",
      "793\n",
      "https://www.amazon.in/dp/B079VQZLJ4\n"
     ]
    },
    {
     "name": "stderr",
     "output_type": "stream",
     "text": [
      "\r",
      " 51%|████████████████████████████████████████▍                                      | 794/1550 [58:22<49:06,  3.90s/it]"
     ]
    },
    {
     "name": "stdout",
     "output_type": "stream",
     "text": [
      "Visit the DABUR Store\n",
      "['Health & Personal Care', 'Oral Care', 'Toothpastes']\n",
      "794\n",
      "https://www.amazon.in/dp/B0CCXY5VJ7\n"
     ]
    },
    {
     "name": "stderr",
     "output_type": "stream",
     "text": [
      "\r",
      " 51%|████████████████████████████████████████▌                                      | 795/1550 [58:26<51:05,  4.06s/it]"
     ]
    },
    {
     "name": "stdout",
     "output_type": "stream",
     "text": [
      "Brand: DABUR\n",
      "['Health & Personal Care', 'Oral Care', 'Toothpastes']\n",
      "795\n",
      "https://www.amazon.in/dp/B07GX6TPTC\n"
     ]
    },
    {
     "name": "stderr",
     "output_type": "stream",
     "text": [
      "\r",
      " 51%|████████████████████████████████████████▌                                      | 796/1550 [58:29<48:43,  3.88s/it]"
     ]
    },
    {
     "name": "stdout",
     "output_type": "stream",
     "text": [
      "Visit the DABUR Store\n",
      "['Health & Personal Care', 'Oral Care', 'Toothpastes']\n",
      "796\n",
      "https://www.amazon.in/dp/B00L5KGPVM\n"
     ]
    },
    {
     "name": "stderr",
     "output_type": "stream",
     "text": [
      "\r",
      " 51%|████████████████████████████████████████▌                                      | 797/1550 [58:33<47:47,  3.81s/it]"
     ]
    },
    {
     "name": "stdout",
     "output_type": "stream",
     "text": [
      "Visit the DABUR Store\n",
      "['Health & Personal Care', 'Oral Care', 'Toothpastes']\n",
      "797\n",
      "https://www.amazon.in/dp/B01BSQ9I2U\n"
     ]
    },
    {
     "name": "stderr",
     "output_type": "stream",
     "text": [
      "\r",
      " 51%|████████████████████████████████████████▋                                      | 798/1550 [58:37<48:40,  3.88s/it]"
     ]
    },
    {
     "name": "stdout",
     "output_type": "stream",
     "text": [
      "Visit the DABUR Store\n",
      "['Health & Personal Care', 'Oral Care', 'Toothpastes']\n",
      "798\n",
      "https://www.amazon.in/dp/B0B7RQBHHM\n",
      "Visit the DABUR Store\n",
      "['Health & Personal Care', 'Oral Care', 'Toothpastes']\n"
     ]
    },
    {
     "name": "stderr",
     "output_type": "stream",
     "text": [
      "\r",
      " 52%|████████████████████████████████████████▋                                      | 799/1550 [58:42<51:48,  4.14s/it]"
     ]
    },
    {
     "name": "stdout",
     "output_type": "stream",
     "text": [
      "799\n",
      "https://www.amazon.in/dp/B0CCXYHPJR\n"
     ]
    },
    {
     "name": "stderr",
     "output_type": "stream",
     "text": [
      "\r",
      " 52%|████████████████████████████████████████▊                                      | 800/1550 [58:46<50:04,  4.01s/it]"
     ]
    },
    {
     "name": "stdout",
     "output_type": "stream",
     "text": [
      "Brand: DABUR\n",
      "['Health & Personal Care', 'Oral Care', 'Toothpastes']\n",
      "800\n",
      "https://www.amazon.in/dp/B0BLHPKC2F\n"
     ]
    },
    {
     "name": "stderr",
     "output_type": "stream",
     "text": [
      "\r",
      " 52%|████████████████████████████████████████▊                                      | 801/1550 [58:50<51:57,  4.16s/it]"
     ]
    },
    {
     "name": "stdout",
     "output_type": "stream",
     "text": [
      "Visit the DABUR Store\n",
      "['Health & Personal Care', 'Oral Care', 'Toothpastes']\n",
      "801\n",
      "https://www.amazon.in/dp/B0CBKKP41D\n",
      "Brand: DABUR\n"
     ]
    },
    {
     "name": "stderr",
     "output_type": "stream",
     "text": [
      "\r",
      " 52%|████████████████████████████████████████▉                                      | 802/1550 [58:54<51:00,  4.09s/it]"
     ]
    },
    {
     "name": "stdout",
     "output_type": "stream",
     "text": [
      "['Health & Personal Care', 'Oral Care', 'Toothpastes']\n",
      "802\n",
      "https://www.amazon.in/dp/B01FJWSXSO\n"
     ]
    },
    {
     "name": "stderr",
     "output_type": "stream",
     "text": [
      "\r",
      " 52%|████████████████████████████████████████▉                                      | 803/1550 [58:58<48:58,  3.93s/it]"
     ]
    },
    {
     "name": "stdout",
     "output_type": "stream",
     "text": [
      "Visit the DABUR Store\n",
      "['Health & Personal Care', 'Oral Care', 'Toothpastes']\n",
      "803\n",
      "https://www.amazon.in/dp/B0CCXXKC9C\n"
     ]
    },
    {
     "name": "stderr",
     "output_type": "stream",
     "text": [
      "\r",
      " 52%|████████████████████████████████████████▉                                      | 804/1550 [59:02<48:55,  3.94s/it]"
     ]
    },
    {
     "name": "stdout",
     "output_type": "stream",
     "text": [
      "Brand: DABUR\n",
      "['Health & Personal Care', 'Oral Care', 'Toothpastes']\n",
      "804\n",
      "https://www.amazon.in/dp/B078GWW2TQ\n",
      "Visit the DABUR Store\n"
     ]
    },
    {
     "name": "stderr",
     "output_type": "stream",
     "text": [
      "\r",
      " 52%|█████████████████████████████████████████                                      | 805/1550 [59:06<49:38,  4.00s/it]"
     ]
    },
    {
     "name": "stdout",
     "output_type": "stream",
     "text": [
      "['Health & Personal Care', 'Oral Care', 'Toothpastes']\n",
      "805\n",
      "https://www.amazon.in/dp/B0B7W7CCMH\n"
     ]
    },
    {
     "name": "stderr",
     "output_type": "stream",
     "text": [
      "\r",
      " 52%|█████████████████████████████████████████                                      | 806/1550 [59:10<49:54,  4.02s/it]"
     ]
    },
    {
     "name": "stdout",
     "output_type": "stream",
     "text": [
      "Visit the DABUR Store\n",
      "['Health & Personal Care', 'Oral Care', 'Toothpastes']\n",
      "806\n",
      "https://www.amazon.in/dp/B0B7W4BHDB\n"
     ]
    },
    {
     "name": "stderr",
     "output_type": "stream",
     "text": [
      "\r",
      " 52%|█████████████████████████████████████████▏                                     | 807/1550 [59:14<50:54,  4.11s/it]"
     ]
    },
    {
     "name": "stdout",
     "output_type": "stream",
     "text": [
      "Visit the DABUR Store\n",
      "['Health & Personal Care', 'Oral Care', 'Toothpastes']\n",
      "807\n",
      "https://www.amazon.in/dp/B08XBZTLS2\n"
     ]
    },
    {
     "name": "stderr",
     "output_type": "stream",
     "text": [
      "\r",
      " 52%|█████████████████████████████████████████▏                                     | 808/1550 [59:19<53:01,  4.29s/it]"
     ]
    },
    {
     "name": "stdout",
     "output_type": "stream",
     "text": [
      "Visit the Clove Store\n",
      "['Health & Personal Care', 'Oral Care', 'Toothpastes']\n",
      "808\n",
      "https://www.amazon.in/dp/B09FDS88Q8\n"
     ]
    },
    {
     "name": "stderr",
     "output_type": "stream",
     "text": [
      "\r",
      " 52%|█████████████████████████████████████████▏                                     | 809/1550 [59:22<50:48,  4.11s/it]"
     ]
    },
    {
     "name": "stdout",
     "output_type": "stream",
     "text": [
      "Visit the DABUR Store\n",
      "['Health & Personal Care', 'Oral Care', 'Toothpastes']\n",
      "809\n",
      "https://www.amazon.in/dp/B0BP5MW5FT\n"
     ]
    },
    {
     "name": "stderr",
     "output_type": "stream",
     "text": [
      "\r",
      " 52%|█████████████████████████████████████████▎                                     | 810/1550 [59:27<52:05,  4.22s/it]"
     ]
    },
    {
     "name": "stdout",
     "output_type": "stream",
     "text": [
      "Brand: DABUR\n",
      "['Health & Personal Care', 'Oral Care', 'Toothpastes']\n",
      "810\n",
      "https://www.amazon.in/dp/B01N2M2WTR\n"
     ]
    },
    {
     "name": "stderr",
     "output_type": "stream",
     "text": [
      "\r",
      " 52%|█████████████████████████████████████████▎                                     | 811/1550 [59:31<51:01,  4.14s/it]"
     ]
    },
    {
     "name": "stdout",
     "output_type": "stream",
     "text": [
      "Visit the DABUR Store\n",
      "['Health & Personal Care', 'Oral Care', 'Toothpastes']\n",
      "811\n",
      "https://www.amazon.in/dp/B06XXF1PWT\n"
     ]
    },
    {
     "name": "stderr",
     "output_type": "stream",
     "text": [
      "\r",
      " 52%|█████████████████████████████████████████▍                                     | 812/1550 [59:35<49:10,  4.00s/it]"
     ]
    },
    {
     "name": "stdout",
     "output_type": "stream",
     "text": [
      "Visit the DABUR Store\n",
      "['Health & Personal Care', 'Oral Care', 'Toothpastes']\n",
      "812\n",
      "https://www.amazon.in/dp/B079MBXJ85\n"
     ]
    },
    {
     "name": "stderr",
     "output_type": "stream",
     "text": [
      "\r",
      " 52%|█████████████████████████████████████████▍                                     | 813/1550 [59:38<48:14,  3.93s/it]"
     ]
    },
    {
     "name": "stdout",
     "output_type": "stream",
     "text": [
      "Visit the DABUR Store\n",
      "['Health & Personal Care', 'Oral Care', 'Toothpastes']\n",
      "813\n",
      "https://www.amazon.in/dp/B0155ZAA22\n"
     ]
    },
    {
     "name": "stderr",
     "output_type": "stream",
     "text": [
      "\r",
      " 53%|█████████████████████████████████████████▍                                     | 814/1550 [59:42<47:27,  3.87s/it]"
     ]
    },
    {
     "name": "stdout",
     "output_type": "stream",
     "text": [
      "Visit the DABUR Store\n",
      "['Health & Personal Care', 'Oral Care', 'Toothpastes']\n",
      "814\n",
      "https://www.amazon.in/dp/B011B8ZBNK\n"
     ]
    },
    {
     "name": "stderr",
     "output_type": "stream",
     "text": [
      "\r",
      " 53%|█████████████████████████████████████████▌                                     | 815/1550 [59:47<50:12,  4.10s/it]"
     ]
    },
    {
     "name": "stdout",
     "output_type": "stream",
     "text": [
      "Brand: Pepsodent\n",
      "['Health & Personal Care', 'Oral Care', 'Toothpastes']\n",
      "815\n",
      "https://www.amazon.in/dp/B07G4CMNPQ\n"
     ]
    },
    {
     "name": "stderr",
     "output_type": "stream",
     "text": [
      "\r",
      " 53%|█████████████████████████████████████████▌                                     | 816/1550 [59:51<50:25,  4.12s/it]"
     ]
    },
    {
     "name": "stdout",
     "output_type": "stream",
     "text": [
      "Brand: Pepsodent\n",
      "['Health & Personal Care', 'Oral Care', 'Toothpastes']\n",
      "816\n",
      "https://www.amazon.in/dp/B01KMHUXHA\n"
     ]
    },
    {
     "name": "stderr",
     "output_type": "stream",
     "text": [
      "\r",
      " 53%|█████████████████████████████████████████▋                                     | 817/1550 [59:55<50:19,  4.12s/it]"
     ]
    },
    {
     "name": "stdout",
     "output_type": "stream",
     "text": [
      "Brand: Pepsodent\n",
      "['Health & Personal Care', 'Oral Care', 'Toothpastes']\n",
      "817\n",
      "https://www.amazon.in/dp/B00AN66R1M\n"
     ]
    },
    {
     "name": "stderr",
     "output_type": "stream",
     "text": [
      "\r",
      " 53%|█████████████████████████████████████████▋                                     | 818/1550 [59:59<49:31,  4.06s/it]"
     ]
    },
    {
     "name": "stdout",
     "output_type": "stream",
     "text": [
      "Brand: Pepsodent\n",
      "['Health & Personal Care', 'Oral Care', 'Toothpastes']\n",
      "818\n",
      "https://www.amazon.in/dp/B094HDXPX7\n",
      "Brand: Pepsodent\n"
     ]
    },
    {
     "name": "stderr",
     "output_type": "stream",
     "text": [
      "\r",
      " 53%|████████████████████████████████████████▋                                    | 819/1550 [1:00:04<51:26,  4.22s/it]"
     ]
    },
    {
     "name": "stdout",
     "output_type": "stream",
     "text": [
      "['Health & Personal Care', 'Oral Care', 'Toothpastes']\n",
      "819\n",
      "https://www.amazon.in/dp/B01N5RSLXC\n",
      "Brand: Pepsodent\n"
     ]
    },
    {
     "name": "stderr",
     "output_type": "stream",
     "text": [
      "\r",
      " 53%|████████████████████████████████████████▋                                    | 820/1550 [1:00:07<49:48,  4.09s/it]"
     ]
    },
    {
     "name": "stdout",
     "output_type": "stream",
     "text": [
      "['Health & Personal Care', 'Oral Care', 'Toothpastes']\n",
      "820\n",
      "https://www.amazon.in/dp/B0BCJWFRTT\n"
     ]
    },
    {
     "name": "stderr",
     "output_type": "stream",
     "text": [
      "\r",
      " 53%|████████████████████████████████████████▊                                    | 821/1550 [1:00:12<51:04,  4.20s/it]"
     ]
    },
    {
     "name": "stdout",
     "output_type": "stream",
     "text": [
      "Brand: Pepsodent\n",
      "['Health & Personal Care', 'Oral Care', 'Toothpastes']\n",
      "821\n",
      "https://www.amazon.in/dp/B0895C4PZS\n"
     ]
    },
    {
     "name": "stderr",
     "output_type": "stream",
     "text": [
      "\r",
      " 53%|████████████████████████████████████████▊                                    | 822/1550 [1:00:15<49:06,  4.05s/it]"
     ]
    },
    {
     "name": "stdout",
     "output_type": "stream",
     "text": [
      "Brand: Pepsodent\n",
      "['Health & Personal Care', 'Oral Care', 'Toothpastes']\n",
      "822\n",
      "https://www.amazon.in/dp/B0BCJW5TMN\n"
     ]
    },
    {
     "name": "stderr",
     "output_type": "stream",
     "text": [
      "\r",
      " 53%|████████████████████████████████████████▉                                    | 823/1550 [1:00:19<48:27,  4.00s/it]"
     ]
    },
    {
     "name": "stdout",
     "output_type": "stream",
     "text": [
      "Brand: Pepsodent\n",
      "['Health & Personal Care', 'Oral Care', 'Toothpastes']\n",
      "823\n",
      "https://www.amazon.in/dp/B01DBHHECU\n"
     ]
    },
    {
     "name": "stderr",
     "output_type": "stream",
     "text": [
      "\r",
      " 53%|████████████████████████████████████████▉                                    | 824/1550 [1:00:23<47:49,  3.95s/it]"
     ]
    },
    {
     "name": "stdout",
     "output_type": "stream",
     "text": [
      "Brand: Pepsodent\n",
      "['Health & Personal Care', 'Oral Care', 'Toothpastes']\n",
      "824\n",
      "https://www.amazon.in/dp/B010B6K59S\n"
     ]
    },
    {
     "name": "stderr",
     "output_type": "stream",
     "text": [
      "\r",
      " 53%|████████████████████████████████████████▉                                    | 825/1550 [1:00:27<47:00,  3.89s/it]"
     ]
    },
    {
     "name": "stdout",
     "output_type": "stream",
     "text": [
      "Brand: Pepsodent\n",
      "['Health & Personal Care', 'Oral Care', 'Toothpastes']\n",
      "825\n",
      "https://www.amazon.in/dp/B01N4WJDFT\n"
     ]
    },
    {
     "name": "stderr",
     "output_type": "stream",
     "text": [
      "\r",
      " 53%|█████████████████████████████████████████                                    | 826/1550 [1:00:30<45:39,  3.78s/it]"
     ]
    },
    {
     "name": "stdout",
     "output_type": "stream",
     "text": [
      "Brand: Pepsodent\n",
      "['Health & Personal Care', 'Oral Care', 'Toothpastes']\n",
      "826\n",
      "https://www.amazon.in/dp/B00QX1MXAU\n"
     ]
    },
    {
     "name": "stderr",
     "output_type": "stream",
     "text": [
      "\r",
      " 53%|█████████████████████████████████████████                                    | 827/1550 [1:00:34<45:40,  3.79s/it]"
     ]
    },
    {
     "name": "stdout",
     "output_type": "stream",
     "text": [
      "Brand: Pepsodent\n",
      "['Health & Personal Care', 'Oral Care', 'Toothpastes']\n",
      "827\n",
      "https://www.amazon.in/dp/B01NBABUUK\n",
      "Brand: Pepsodent\n"
     ]
    },
    {
     "name": "stderr",
     "output_type": "stream",
     "text": [
      "\r",
      " 53%|█████████████████████████████████████████▏                                   | 828/1550 [1:00:38<45:50,  3.81s/it]"
     ]
    },
    {
     "name": "stdout",
     "output_type": "stream",
     "text": [
      "['Health & Personal Care', 'Oral Care', 'Toothpastes']\n",
      "828\n",
      "https://www.amazon.in/dp/B010B6KWS2\n"
     ]
    },
    {
     "name": "stderr",
     "output_type": "stream",
     "text": [
      "\r",
      " 53%|█████████████████████████████████████████▏                                   | 829/1550 [1:00:43<48:11,  4.01s/it]"
     ]
    },
    {
     "name": "stdout",
     "output_type": "stream",
     "text": [
      "Brand: Pepsodent\n",
      "['Health & Personal Care', 'Oral Care', 'Toothpastes']\n",
      "829\n",
      "https://www.amazon.in/dp/B08DHMMJFS\n",
      "Brand: Pepsodent\n"
     ]
    },
    {
     "name": "stderr",
     "output_type": "stream",
     "text": [
      "\r",
      " 54%|█████████████████████████████████████████▏                                   | 830/1550 [1:00:49<55:50,  4.65s/it]"
     ]
    },
    {
     "name": "stdout",
     "output_type": "stream",
     "text": [
      "['Health & Personal Care', 'Oral Care', 'Toothpastes']\n",
      "830\n",
      "https://www.amazon.in/dp/B00QWZPEIU\n",
      "Brand: Pepsodent\n",
      "['Health & Personal Care', 'Oral Care', 'Toothpastes']\n"
     ]
    },
    {
     "name": "stderr",
     "output_type": "stream",
     "text": [
      "\r",
      " 54%|█████████████████████████████████████████▎                                   | 831/1550 [1:00:53<52:52,  4.41s/it]"
     ]
    },
    {
     "name": "stdout",
     "output_type": "stream",
     "text": [
      "831\n",
      "https://www.amazon.in/dp/B01HTL6HIG\n",
      "Brand: Pepsodent\n"
     ]
    },
    {
     "name": "stderr",
     "output_type": "stream",
     "text": [
      "\r",
      " 54%|█████████████████████████████████████████▎                                   | 832/1550 [1:00:57<54:05,  4.52s/it]"
     ]
    },
    {
     "name": "stdout",
     "output_type": "stream",
     "text": [
      "['Health & Personal Care', 'Oral Care', 'Toothpastes']\n",
      "832\n",
      "https://www.amazon.in/dp/B00J046IXK\n"
     ]
    },
    {
     "name": "stderr",
     "output_type": "stream",
     "text": [
      "\r",
      " 54%|█████████████████████████████████████████▍                                   | 833/1550 [1:01:01<51:21,  4.30s/it]"
     ]
    },
    {
     "name": "stdout",
     "output_type": "stream",
     "text": [
      "Brand: Pepsodent\n",
      "['Health & Personal Care', \"Men's Grooming store\", 'Oral Care', 'Toothpaste']\n",
      "833\n",
      "https://www.amazon.in/dp/B07DC83745\n"
     ]
    },
    {
     "name": "stderr",
     "output_type": "stream",
     "text": [
      "\r",
      " 54%|█████████████████████████████████████████▍                                   | 834/1550 [1:01:04<47:45,  4.00s/it]"
     ]
    },
    {
     "name": "stdout",
     "output_type": "stream",
     "text": [
      "Brand: Pepsodent\n",
      "['Health & Personal Care', 'Oral Care', 'Toothpastes']\n",
      "834\n",
      "https://www.amazon.in/dp/B011B8Z8NS\n"
     ]
    },
    {
     "name": "stderr",
     "output_type": "stream",
     "text": [
      "\r",
      " 54%|█████████████████████████████████████████▍                                   | 835/1550 [1:01:08<45:57,  3.86s/it]"
     ]
    },
    {
     "name": "stdout",
     "output_type": "stream",
     "text": [
      "Brand: Pepsodent\n",
      "['Health & Personal Care', 'Oral Care', 'Toothpastes']\n",
      "835\n",
      "https://www.amazon.in/dp/B00RH17EFO\n",
      "Brand: Pepsodent\n"
     ]
    },
    {
     "name": "stderr",
     "output_type": "stream",
     "text": [
      "\r",
      " 54%|█████████████████████████████████████████▌                                   | 836/1550 [1:01:12<45:40,  3.84s/it]"
     ]
    },
    {
     "name": "stdout",
     "output_type": "stream",
     "text": [
      "['Health & Personal Care', 'Oral Care', 'Toothpastes']\n",
      "836\n",
      "https://www.amazon.in/dp/B01MQQFYCY\n"
     ]
    },
    {
     "name": "stderr",
     "output_type": "stream",
     "text": [
      "\r",
      " 54%|█████████████████████████████████████████▌                                   | 837/1550 [1:01:16<45:56,  3.87s/it]"
     ]
    },
    {
     "name": "stdout",
     "output_type": "stream",
     "text": [
      "Brand: Pepsodent\n",
      "['Health & Personal Care', 'Oral Care', 'Toothpastes']\n",
      "837\n",
      "https://www.amazon.in/dp/B0BSQ8DVHF\n",
      "Brand: Pepsodent\n"
     ]
    },
    {
     "name": "stderr",
     "output_type": "stream",
     "text": [
      "\r",
      " 54%|█████████████████████████████████████████▋                                   | 838/1550 [1:01:22<52:54,  4.46s/it]"
     ]
    },
    {
     "name": "stdout",
     "output_type": "stream",
     "text": [
      "['Health & Personal Care', 'Oral Care', 'Toothpastes']\n",
      "838\n",
      "https://www.amazon.in/dp/B017K2BM98\n"
     ]
    },
    {
     "name": "stderr",
     "output_type": "stream",
     "text": [
      "\r",
      " 54%|█████████████████████████████████████████▋                                   | 839/1550 [1:01:25<49:23,  4.17s/it]"
     ]
    },
    {
     "name": "stdout",
     "output_type": "stream",
     "text": [
      "Brand: Pepsodent\n",
      "['Health & Personal Care', 'Oral Care', 'Toothpastes']\n",
      "839\n",
      "https://www.amazon.in/dp/B00Y7QTMJI\n"
     ]
    },
    {
     "name": "stderr",
     "output_type": "stream",
     "text": [
      "\r",
      " 54%|█████████████████████████████████████████▋                                   | 840/1550 [1:01:29<47:26,  4.01s/it]"
     ]
    },
    {
     "name": "stdout",
     "output_type": "stream",
     "text": [
      "Brand: Pepsodent\n",
      "['Health & Personal Care', 'Oral Care', 'Toothpastes']\n",
      "840\n",
      "https://www.amazon.in/dp/B00DRE34IQ\n",
      "Brand: Pepsodent\n"
     ]
    },
    {
     "name": "stderr",
     "output_type": "stream",
     "text": [
      "\r",
      " 54%|█████████████████████████████████████████▊                                   | 841/1550 [1:01:32<46:41,  3.95s/it]"
     ]
    },
    {
     "name": "stdout",
     "output_type": "stream",
     "text": [
      "['Health & Personal Care', 'Oral Care', 'Toothpastes']\n",
      "841\n",
      "https://www.amazon.in/dp/B014FD91MU\n",
      "Brand: Pepsodent\n"
     ]
    },
    {
     "name": "stderr",
     "output_type": "stream",
     "text": [
      "\r",
      " 54%|█████████████████████████████████████████▊                                   | 842/1550 [1:01:38<51:37,  4.37s/it]"
     ]
    },
    {
     "name": "stdout",
     "output_type": "stream",
     "text": [
      "['Health & Personal Care', 'Oral Care', 'Toothpastes']\n",
      "842\n",
      "https://www.amazon.in/dp/B00P0WJQL2\n"
     ]
    },
    {
     "name": "stderr",
     "output_type": "stream",
     "text": [
      "\r",
      " 54%|█████████████████████████████████████████▉                                   | 843/1550 [1:01:41<48:22,  4.10s/it]"
     ]
    },
    {
     "name": "stdout",
     "output_type": "stream",
     "text": [
      "Brand: Pepsodent\n",
      "['Health & Personal Care', 'Oral Care', 'Toothpastes']\n",
      "843\n",
      "https://www.amazon.in/dp/B0105Z4VWM\n"
     ]
    },
    {
     "name": "stderr",
     "output_type": "stream",
     "text": [
      "\r",
      " 54%|█████████████████████████████████████████▉                                   | 844/1550 [1:01:46<48:52,  4.15s/it]"
     ]
    },
    {
     "name": "stdout",
     "output_type": "stream",
     "text": [
      "Brand: Pepsodent\n",
      "['Health & Personal Care', 'Personal Care', 'Oral Care', 'Toothpastes & Gels']\n",
      "844\n",
      "https://www.amazon.in/dp/B01LYCB6XC\n"
     ]
    },
    {
     "name": "stderr",
     "output_type": "stream",
     "text": [
      "\r",
      " 55%|█████████████████████████████████████████▉                                   | 845/1550 [1:01:49<44:58,  3.83s/it]"
     ]
    },
    {
     "name": "stdout",
     "output_type": "stream",
     "text": [
      "Brand: Pepsodent\n",
      "['Health & Personal Care', 'Oral Care', 'Toothpastes']\n",
      "845\n",
      "https://www.amazon.in/dp/B01MUCQQLZ\n"
     ]
    },
    {
     "name": "stderr",
     "output_type": "stream",
     "text": [
      "\r",
      " 55%|██████████████████████████████████████████                                   | 846/1550 [1:01:52<44:09,  3.76s/it]"
     ]
    },
    {
     "name": "stdout",
     "output_type": "stream",
     "text": [
      "Brand: Pepsodent\n",
      "['Health & Personal Care', 'Oral Care', 'Toothpastes']\n",
      "846\n",
      "https://www.amazon.in/dp/B01GTEERL8\n"
     ]
    },
    {
     "name": "stderr",
     "output_type": "stream",
     "text": [
      "\r",
      " 55%|██████████████████████████████████████████                                   | 847/1550 [1:01:56<42:47,  3.65s/it]"
     ]
    },
    {
     "name": "stdout",
     "output_type": "stream",
     "text": [
      "Brand: Pepsodent\n",
      "['Health & Personal Care', 'Oral Care', 'Toothpastes']\n",
      "847\n",
      "https://www.amazon.in/dp/B00IZ6FCP4\n",
      "Brand: Sensodyne\n"
     ]
    },
    {
     "name": "stderr",
     "output_type": "stream",
     "text": [
      "\r",
      " 55%|██████████████████████████████████████████▏                                  | 848/1550 [1:02:00<46:29,  3.97s/it]"
     ]
    },
    {
     "name": "stdout",
     "output_type": "stream",
     "text": [
      "['Health & Personal Care', \"Men's Grooming store\", 'Oral Care', 'Toothpaste']\n",
      "848\n",
      "https://www.amazon.in/dp/B079VRX3WH\n"
     ]
    },
    {
     "name": "stderr",
     "output_type": "stream",
     "text": [
      "\r",
      " 55%|██████████████████████████████████████████▏                                  | 849/1550 [1:02:04<44:11,  3.78s/it]"
     ]
    },
    {
     "name": "stdout",
     "output_type": "stream",
     "text": [
      "Brand: Pepsodent\n",
      "['Health & Personal Care', 'Oral Care', 'Toothpastes']\n",
      "849\n",
      "https://www.amazon.in/dp/B00U2DTIDU\n"
     ]
    },
    {
     "name": "stderr",
     "output_type": "stream",
     "text": [
      "\r",
      " 55%|██████████████████████████████████████████▏                                  | 850/1550 [1:02:08<44:48,  3.84s/it]"
     ]
    },
    {
     "name": "stdout",
     "output_type": "stream",
     "text": [
      "Brand: Pepsodent\n",
      "['Health & Personal Care', 'Oral Care', 'Toothpastes']\n",
      "850\n",
      "https://www.amazon.in/dp/B00VQU008A\n"
     ]
    },
    {
     "name": "stderr",
     "output_type": "stream",
     "text": [
      "\r",
      " 55%|██████████████████████████████████████████▎                                  | 851/1550 [1:02:11<43:59,  3.78s/it]"
     ]
    },
    {
     "name": "stdout",
     "output_type": "stream",
     "text": [
      "Brand: Pepsodent\n",
      "['Health & Personal Care', 'Oral Care', 'Toothpastes']\n",
      "851\n",
      "https://www.amazon.in/dp/B01IA9BN44\n"
     ]
    },
    {
     "name": "stderr",
     "output_type": "stream",
     "text": [
      "\r",
      " 55%|██████████████████████████████████████████▎                                  | 852/1550 [1:02:15<43:49,  3.77s/it]"
     ]
    },
    {
     "name": "stdout",
     "output_type": "stream",
     "text": [
      "Brand: Pepsodent\n",
      "['Health & Personal Care', 'Oral Care', 'Toothpastes']\n",
      "852\n",
      "https://www.amazon.in/dp/B0BLNDW2G6\n",
      "Brand: Sensodyne\n"
     ]
    },
    {
     "name": "stderr",
     "output_type": "stream",
     "text": [
      "\r",
      " 55%|██████████████████████████████████████████▎                                  | 853/1550 [1:02:19<45:37,  3.93s/it]"
     ]
    },
    {
     "name": "stdout",
     "output_type": "stream",
     "text": [
      "['Health & Personal Care', 'Oral Care', 'Toothpastes']\n",
      "853\n",
      "https://www.amazon.in/dp/B071YW1YTL\n"
     ]
    },
    {
     "name": "stderr",
     "output_type": "stream",
     "text": [
      "\r",
      " 55%|██████████████████████████████████████████▍                                  | 854/1550 [1:02:23<43:19,  3.73s/it]"
     ]
    },
    {
     "name": "stdout",
     "output_type": "stream",
     "text": [
      "Brand: Pepsodent\n",
      "['Health & Personal Care', 'Oral Care', 'Toothpastes']\n",
      "854\n",
      "https://www.amazon.in/dp/B010AXXE36\n",
      "Brand: Pepsodent\n"
     ]
    },
    {
     "name": "stderr",
     "output_type": "stream",
     "text": [
      "\r",
      " 55%|██████████████████████████████████████████▍                                  | 855/1550 [1:02:27<44:43,  3.86s/it]"
     ]
    },
    {
     "name": "stdout",
     "output_type": "stream",
     "text": [
      "['Health & Personal Care', 'Personal Care', 'Oral Care', 'Toothpastes & Gels']\n",
      "855\n",
      "https://www.amazon.in/dp/B09WRLFPPN\n"
     ]
    },
    {
     "name": "stderr",
     "output_type": "stream",
     "text": [
      "\r",
      " 55%|██████████████████████████████████████████▌                                  | 856/1550 [1:02:31<45:45,  3.96s/it]"
     ]
    },
    {
     "name": "stdout",
     "output_type": "stream",
     "text": [
      "Visit the teeth-a-bit Store\n",
      "['Health & Personal Care', 'Oral Care', 'Toothpastes']\n",
      "856\n",
      "https://www.amazon.in/dp/B001OOLF82\n"
     ]
    },
    {
     "name": "stderr",
     "output_type": "stream",
     "text": [
      "\r",
      " 55%|██████████████████████████████████████████▌                                  | 857/1550 [1:02:35<47:26,  4.11s/it]"
     ]
    },
    {
     "name": "stdout",
     "output_type": "stream",
     "text": [
      "Brand: Sensodyne Pronamel\n",
      "['Health & Personal Care', 'Oral Care', 'Toothpastes']\n",
      "857\n",
      "https://www.amazon.in/dp/B06XYP9TWG\n"
     ]
    },
    {
     "name": "stderr",
     "output_type": "stream",
     "text": [
      "\r",
      " 55%|██████████████████████████████████████████▌                                  | 858/1550 [1:02:40<48:22,  4.19s/it]"
     ]
    },
    {
     "name": "stdout",
     "output_type": "stream",
     "text": [
      "Brand: Sensodyne\n",
      "['Health & Personal Care', 'Oral Care', 'Toothpastes']\n",
      "858\n",
      "https://www.amazon.in/dp/B07HX69461\n"
     ]
    },
    {
     "name": "stderr",
     "output_type": "stream",
     "text": [
      "\r",
      " 55%|██████████████████████████████████████████▋                                  | 859/1550 [1:02:44<47:35,  4.13s/it]"
     ]
    },
    {
     "name": "stdout",
     "output_type": "stream",
     "text": [
      "Brand: Sensodyne\n",
      "['Health & Personal Care', 'Oral Care', 'Toothpastes']\n",
      "859\n",
      "https://www.amazon.in/dp/B01N1UMYR9\n",
      "Brand: Sensodyne\n"
     ]
    },
    {
     "name": "stderr",
     "output_type": "stream",
     "text": [
      "\r",
      " 55%|██████████████████████████████████████████▋                                  | 860/1550 [1:02:47<45:27,  3.95s/it]"
     ]
    },
    {
     "name": "stdout",
     "output_type": "stream",
     "text": [
      "['Health & Personal Care', 'Oral Care', 'Toothpastes']\n",
      "860\n",
      "https://www.amazon.in/dp/B0BRNN3SJS\n"
     ]
    },
    {
     "name": "stderr",
     "output_type": "stream",
     "text": [
      "\r",
      " 56%|██████████████████████████████████████████▊                                  | 861/1550 [1:02:51<44:37,  3.89s/it]"
     ]
    },
    {
     "name": "stdout",
     "output_type": "stream",
     "text": [
      "Visit the Perfora Store\n",
      "['Health & Personal Care', 'Oral Care', 'Toothpastes']\n",
      "861\n",
      "https://www.amazon.in/dp/B07BDQ5GJQ\n"
     ]
    },
    {
     "name": "stderr",
     "output_type": "stream",
     "text": [
      "\r",
      " 56%|██████████████████████████████████████████▊                                  | 862/1550 [1:02:55<43:26,  3.79s/it]"
     ]
    },
    {
     "name": "stdout",
     "output_type": "stream",
     "text": [
      "Brand: Sensodyne\n",
      "['Health & Personal Care', 'Oral Care', 'Toothpastes']\n",
      "862\n",
      "https://www.amazon.in/dp/B0168M7EWU\n",
      "Brand: Sensodyne\n"
     ]
    },
    {
     "name": "stderr",
     "output_type": "stream",
     "text": [
      "\r",
      " 56%|██████████████████████████████████████████▊                                  | 863/1550 [1:03:00<49:49,  4.35s/it]"
     ]
    },
    {
     "name": "stdout",
     "output_type": "stream",
     "text": [
      "['Health & Personal Care', 'Oral Care', 'Toothpastes']\n",
      "863\n",
      "https://www.amazon.in/dp/B075MMR1MN\n",
      "Brand: Sensodyne\n"
     ]
    },
    {
     "name": "stderr",
     "output_type": "stream",
     "text": [
      "\r",
      " 56%|██████████████████████████████████████████▉                                  | 864/1550 [1:03:04<47:56,  4.19s/it]"
     ]
    },
    {
     "name": "stdout",
     "output_type": "stream",
     "text": [
      "['Health & Personal Care', 'Oral Care', 'Toothpastes']\n",
      "864\n",
      "https://www.amazon.in/dp/B07XGKZFK1\n"
     ]
    },
    {
     "name": "stderr",
     "output_type": "stream",
     "text": [
      "\r",
      " 56%|██████████████████████████████████████████▉                                  | 865/1550 [1:03:08<48:06,  4.21s/it]"
     ]
    },
    {
     "name": "stdout",
     "output_type": "stream",
     "text": [
      "Brand: Colgate\n",
      "['Health & Personal Care', 'Oral Care', 'Toothpastes']\n",
      "865\n",
      "https://www.amazon.in/dp/B07SC26RX1\n"
     ]
    },
    {
     "name": "stderr",
     "output_type": "stream",
     "text": [
      "\r",
      " 56%|███████████████████████████████████████████                                  | 866/1550 [1:03:13<48:32,  4.26s/it]"
     ]
    },
    {
     "name": "stdout",
     "output_type": "stream",
     "text": [
      "Brand: Colgate\n",
      "['Health & Personal Care', 'Oral Care', 'Toothpastes']\n",
      "866\n",
      "https://www.amazon.in/dp/B08CBF1F5L\n",
      "Brand: Colgate\n"
     ]
    },
    {
     "name": "stderr",
     "output_type": "stream",
     "text": [
      "\r",
      " 56%|███████████████████████████████████████████                                  | 867/1550 [1:03:17<47:39,  4.19s/it]"
     ]
    },
    {
     "name": "stdout",
     "output_type": "stream",
     "text": [
      "['Health & Personal Care', 'Oral Care', 'Toothpastes']\n",
      "867\n",
      "https://www.amazon.in/dp/B01N66K3P9\n"
     ]
    },
    {
     "name": "stderr",
     "output_type": "stream",
     "text": [
      "\r",
      " 56%|███████████████████████████████████████████                                  | 868/1550 [1:03:20<45:15,  3.98s/it]"
     ]
    },
    {
     "name": "stdout",
     "output_type": "stream",
     "text": [
      "Brand: Pepsodent\n",
      "['Health & Personal Care', 'Oral Care', 'Toothpastes']\n",
      "868\n",
      "https://www.amazon.in/dp/B0BVMW92VT\n"
     ]
    },
    {
     "name": "stderr",
     "output_type": "stream",
     "text": [
      "\r",
      " 56%|███████████████████████████████████████████▏                                 | 869/1550 [1:03:24<44:37,  3.93s/it]"
     ]
    },
    {
     "name": "stdout",
     "output_type": "stream",
     "text": [
      "Brand: Colgate\n",
      "['Health & Personal Care', 'Oral Care', 'Toothpastes']\n",
      "869\n",
      "https://www.amazon.in/dp/B0BD5K1QJ3\n"
     ]
    },
    {
     "name": "stderr",
     "output_type": "stream",
     "text": [
      "\r",
      " 56%|███████████████████████████████████████████▏                                 | 870/1550 [1:03:28<45:51,  4.05s/it]"
     ]
    },
    {
     "name": "stdout",
     "output_type": "stream",
     "text": [
      "Brand: Colgate\n",
      "['Health & Personal Care', 'Oral Care', 'Toothpastes']\n",
      "870\n",
      "https://www.amazon.in/dp/B0BVMX16F2\n"
     ]
    },
    {
     "name": "stderr",
     "output_type": "stream",
     "text": [
      "\r",
      " 56%|███████████████████████████████████████████▎                                 | 871/1550 [1:03:33<46:03,  4.07s/it]"
     ]
    },
    {
     "name": "stdout",
     "output_type": "stream",
     "text": [
      "Brand: Colgate\n",
      "['Health & Personal Care', 'Oral Care', 'Toothpastes']\n",
      "871\n",
      "https://www.amazon.in/dp/B07XFNFRJK\n",
      "Brand: Colgate\n"
     ]
    },
    {
     "name": "stderr",
     "output_type": "stream",
     "text": [
      "\r",
      " 56%|███████████████████████████████████████████▎                                 | 872/1550 [1:03:37<46:02,  4.07s/it]"
     ]
    },
    {
     "name": "stdout",
     "output_type": "stream",
     "text": [
      "['Health & Personal Care', 'Oral Care', 'Toothpastes']\n",
      "872\n",
      "https://www.amazon.in/dp/B073X3QY68\n",
      "Brand: Colgate\n"
     ]
    },
    {
     "name": "stderr",
     "output_type": "stream",
     "text": [
      "\r",
      " 56%|███████████████████████████████████████████▎                                 | 873/1550 [1:03:42<49:22,  4.38s/it]"
     ]
    },
    {
     "name": "stdout",
     "output_type": "stream",
     "text": [
      "['Health & Personal Care', 'Oral Care', 'Toothpastes']\n",
      "873\n",
      "https://www.amazon.in/dp/B07XMFSVSB\n"
     ]
    },
    {
     "name": "stderr",
     "output_type": "stream",
     "text": [
      "\r",
      " 56%|███████████████████████████████████████████▍                                 | 874/1550 [1:03:46<48:48,  4.33s/it]"
     ]
    },
    {
     "name": "stdout",
     "output_type": "stream",
     "text": [
      "Brand: Colgate\n",
      "['Health & Personal Care', 'Oral Care', 'Toothpastes']\n",
      "874\n",
      "https://www.amazon.in/dp/B09BCH2VFR\n"
     ]
    },
    {
     "name": "stderr",
     "output_type": "stream",
     "text": [
      "\r",
      " 56%|███████████████████████████████████████████▍                                 | 875/1550 [1:03:50<47:04,  4.18s/it]"
     ]
    },
    {
     "name": "stdout",
     "output_type": "stream",
     "text": [
      "Brand: Colgate\n",
      "['Health & Personal Care', 'Oral Care', 'Toothpastes']\n",
      "875\n",
      "https://www.amazon.in/dp/B07469FDK1\n",
      "Brand: Colgate\n"
     ]
    },
    {
     "name": "stderr",
     "output_type": "stream",
     "text": [
      "\r",
      " 57%|███████████████████████████████████████████▌                                 | 876/1550 [1:03:54<46:41,  4.16s/it]"
     ]
    },
    {
     "name": "stdout",
     "output_type": "stream",
     "text": [
      "['Health & Personal Care', 'Oral Care', 'Toothpastes']\n",
      "876\n",
      "https://www.amazon.in/dp/B0B54Y9VZC\n"
     ]
    },
    {
     "name": "stderr",
     "output_type": "stream",
     "text": [
      "\r",
      " 57%|███████████████████████████████████████████▌                                 | 877/1550 [1:03:58<46:04,  4.11s/it]"
     ]
    },
    {
     "name": "stdout",
     "output_type": "stream",
     "text": [
      "Brand: Colgate\n",
      "['Health & Personal Care', 'Oral Care', 'Toothpastes']\n",
      "877\n",
      "https://www.amazon.in/dp/B082T12STP\n",
      "Brand: Colgate\n"
     ]
    },
    {
     "name": "stderr",
     "output_type": "stream",
     "text": [
      "\r",
      " 57%|███████████████████████████████████████████▌                                 | 878/1550 [1:04:01<44:22,  3.96s/it]"
     ]
    },
    {
     "name": "stdout",
     "output_type": "stream",
     "text": [
      "['Health & Personal Care', 'Oral Care', 'Toothpastes']\n",
      "878\n",
      "https://www.amazon.in/dp/B07BHH5LF7\n"
     ]
    },
    {
     "name": "stderr",
     "output_type": "stream",
     "text": [
      "\r",
      " 57%|███████████████████████████████████████████▋                                 | 879/1550 [1:04:06<46:24,  4.15s/it]"
     ]
    },
    {
     "name": "stdout",
     "output_type": "stream",
     "text": [
      "Brand: Colgate\n",
      "['Health & Personal Care', 'Oral Care', 'Toothpastes']\n",
      "879\n",
      "https://www.amazon.in/dp/B012RIL1M8\n"
     ]
    },
    {
     "name": "stderr",
     "output_type": "stream",
     "text": [
      "\r",
      " 57%|███████████████████████████████████████████▋                                 | 880/1550 [1:04:11<48:09,  4.31s/it]"
     ]
    },
    {
     "name": "stdout",
     "output_type": "stream",
     "text": [
      "Brand: Colgate\n",
      "['Health & Personal Care', 'Oral Care', 'Toothpastes']\n",
      "880\n",
      "https://www.amazon.in/dp/B0B7NQGHZJ\n"
     ]
    },
    {
     "name": "stderr",
     "output_type": "stream",
     "text": [
      "\r",
      " 57%|███████████████████████████████████████████▊                                 | 881/1550 [1:04:15<47:14,  4.24s/it]"
     ]
    },
    {
     "name": "stdout",
     "output_type": "stream",
     "text": [
      "Brand: Colgate\n",
      "['Health & Personal Care', 'Oral Care', 'Toothpastes']\n",
      "881\n",
      "https://www.amazon.in/dp/B01BKAZUNK\n"
     ]
    },
    {
     "name": "stderr",
     "output_type": "stream",
     "text": [
      "\r",
      " 57%|███████████████████████████████████████████▊                                 | 882/1550 [1:04:19<46:00,  4.13s/it]"
     ]
    },
    {
     "name": "stdout",
     "output_type": "stream",
     "text": [
      "Brand: Colgate\n",
      "['Health & Personal Care', 'Oral Care', 'Toothpastes']\n",
      "882\n",
      "https://www.amazon.in/dp/B08LJMGZLD\n"
     ]
    },
    {
     "name": "stderr",
     "output_type": "stream",
     "text": [
      "\r",
      " 57%|███████████████████████████████████████████▊                                 | 883/1550 [1:04:23<47:21,  4.26s/it]"
     ]
    },
    {
     "name": "stdout",
     "output_type": "stream",
     "text": [
      "Brand: Colgate\n",
      "['Health & Personal Care', 'Oral Care', 'Toothpastes']\n",
      "883\n",
      "https://www.amazon.in/dp/B0746Q6BRX\n"
     ]
    },
    {
     "name": "stderr",
     "output_type": "stream",
     "text": [
      "\r",
      " 57%|███████████████████████████████████████████▉                                 | 884/1550 [1:04:27<46:03,  4.15s/it]"
     ]
    },
    {
     "name": "stdout",
     "output_type": "stream",
     "text": [
      "Brand: Colgate\n",
      "['Health & Personal Care', 'Oral Care', 'Toothpastes']\n",
      "884\n",
      "https://www.amazon.in/dp/B0CDD43JD6\n"
     ]
    },
    {
     "name": "stderr",
     "output_type": "stream",
     "text": [
      "\r",
      " 57%|███████████████████████████████████████████▉                                 | 885/1550 [1:04:32<47:36,  4.30s/it]"
     ]
    },
    {
     "name": "stdout",
     "output_type": "stream",
     "text": [
      "Brand: Colgate\n",
      "['Health & Personal Care', 'Oral Care', 'Toothpastes']\n",
      "885\n",
      "https://www.amazon.in/dp/B0BVWDKMGX\n"
     ]
    },
    {
     "name": "stderr",
     "output_type": "stream",
     "text": [
      "\r",
      " 57%|████████████████████████████████████████████                                 | 886/1550 [1:04:36<47:03,  4.25s/it]"
     ]
    },
    {
     "name": "stdout",
     "output_type": "stream",
     "text": [
      "Brand: Colgate\n",
      "['Health & Personal Care', 'Oral Care', 'Toothpastes']\n",
      "886\n",
      "https://www.amazon.in/dp/B0BVMVB98Z\n",
      "Brand: Colgate\n"
     ]
    },
    {
     "name": "stderr",
     "output_type": "stream",
     "text": [
      "\r",
      " 57%|████████████████████████████████████████████                                 | 887/1550 [1:04:40<47:07,  4.26s/it]"
     ]
    },
    {
     "name": "stdout",
     "output_type": "stream",
     "text": [
      "['Health & Personal Care', 'Oral Care', 'Toothpastes']\n",
      "887\n",
      "https://www.amazon.in/dp/B08TCH4SZV\n",
      "Brand: Colgate\n"
     ]
    },
    {
     "name": "stderr",
     "output_type": "stream",
     "text": [
      "\r",
      " 57%|████████████████████████████████████████████                                 | 888/1550 [1:04:45<49:54,  4.52s/it]"
     ]
    },
    {
     "name": "stdout",
     "output_type": "stream",
     "text": [
      "['Health & Personal Care', 'Oral Care', 'Toothpastes']\n",
      "888\n",
      "https://www.amazon.in/dp/B014PCRGOQ\n"
     ]
    },
    {
     "name": "stderr",
     "output_type": "stream",
     "text": [
      "\r",
      " 57%|████████████████████████████████████████████▏                                | 889/1550 [1:04:50<50:02,  4.54s/it]"
     ]
    },
    {
     "name": "stdout",
     "output_type": "stream",
     "text": [
      "Brand: Colgate\n",
      "['Health & Personal Care', 'Oral Care', 'Toothpastes']\n",
      "889\n",
      "https://www.amazon.in/dp/B07CHKM9XN\n"
     ]
    },
    {
     "name": "stderr",
     "output_type": "stream",
     "text": [
      "\r",
      " 57%|████████████████████████████████████████████▏                                | 890/1550 [1:04:54<46:59,  4.27s/it]"
     ]
    },
    {
     "name": "stdout",
     "output_type": "stream",
     "text": [
      "Brand: Colgate\n",
      "['Health & Personal Care', 'Oral Care', 'Toothpastes']\n",
      "890\n",
      "https://www.amazon.in/dp/B01CJUEXWO\n"
     ]
    },
    {
     "name": "stderr",
     "output_type": "stream",
     "text": [
      "\r",
      " 57%|████████████████████████████████████████████▎                                | 891/1550 [1:04:56<42:18,  3.85s/it]"
     ]
    },
    {
     "name": "stdout",
     "output_type": "stream",
     "text": [
      "Brand: Colgate\n",
      "no cat found\n",
      "891\n",
      "https://www.amazon.in/dp/B01IHYH7L0\n"
     ]
    },
    {
     "name": "stderr",
     "output_type": "stream",
     "text": [
      "\r",
      " 58%|████████████████████████████████████████████▎                                | 892/1550 [1:05:01<45:47,  4.18s/it]"
     ]
    },
    {
     "name": "stdout",
     "output_type": "stream",
     "text": [
      "Brand: Colgate\n",
      "['Health & Personal Care', 'Oral Care', 'Toothpastes']\n",
      "892\n",
      "https://www.amazon.in/dp/B0BW4GCLC1\n"
     ]
    },
    {
     "name": "stderr",
     "output_type": "stream",
     "text": [
      "\r",
      " 58%|████████████████████████████████████████████▎                                | 893/1550 [1:05:05<42:54,  3.92s/it]"
     ]
    },
    {
     "name": "stdout",
     "output_type": "stream",
     "text": [
      "Brand: Colgate\n",
      "['Health & Personal Care', 'Oral Care', 'Toothpastes']\n",
      "893\n",
      "https://www.amazon.in/dp/B07YNZP3FS\n"
     ]
    },
    {
     "name": "stderr",
     "output_type": "stream",
     "text": [
      "\r",
      " 58%|████████████████████████████████████████████▍                                | 894/1550 [1:05:08<41:39,  3.81s/it]"
     ]
    },
    {
     "name": "stdout",
     "output_type": "stream",
     "text": [
      "Brand: Colgate\n",
      "['Health & Personal Care', 'Oral Care', 'Toothpastes']\n",
      "894\n",
      "https://www.amazon.in/dp/B0BP5BPPBV\n"
     ]
    },
    {
     "name": "stderr",
     "output_type": "stream",
     "text": [
      "\r",
      " 58%|████████████████████████████████████████████▍                                | 895/1550 [1:05:12<42:10,  3.86s/it]"
     ]
    },
    {
     "name": "stdout",
     "output_type": "stream",
     "text": [
      "Brand: Colgate\n",
      "['Health & Personal Care', 'Oral Care', 'Toothpastes']\n",
      "895\n",
      "https://www.amazon.in/dp/B0B92DWTP4\n"
     ]
    },
    {
     "name": "stderr",
     "output_type": "stream",
     "text": [
      "\r",
      " 58%|████████████████████████████████████████████▌                                | 896/1550 [1:05:17<43:37,  4.00s/it]"
     ]
    },
    {
     "name": "stdout",
     "output_type": "stream",
     "text": [
      "Brand: Colgate\n",
      "['Health & Personal Care', 'Oral Care', 'Toothpastes']\n",
      "896\n",
      "https://www.amazon.in/dp/B07YP11PDC\n"
     ]
    },
    {
     "name": "stderr",
     "output_type": "stream",
     "text": [
      "\r",
      " 58%|████████████████████████████████████████████▌                                | 897/1550 [1:05:20<42:13,  3.88s/it]"
     ]
    },
    {
     "name": "stdout",
     "output_type": "stream",
     "text": [
      "Brand: Colgate\n",
      "['Health & Personal Care', 'Oral Care', 'Toothpastes']\n",
      "897\n",
      "https://www.amazon.in/dp/B0B9XKP2C2\n",
      "Brand: Colgate\n"
     ]
    },
    {
     "name": "stderr",
     "output_type": "stream",
     "text": [
      "\r",
      " 58%|████████████████████████████████████████████▌                                | 898/1550 [1:05:25<45:54,  4.22s/it]"
     ]
    },
    {
     "name": "stdout",
     "output_type": "stream",
     "text": [
      "['Health & Personal Care', 'Oral Care', 'Toothpastes']\n",
      "898\n",
      "https://www.amazon.in/dp/B08X4HZZVC\n"
     ]
    },
    {
     "name": "stderr",
     "output_type": "stream",
     "text": [
      "\r",
      " 58%|████████████████████████████████████████████▋                                | 899/1550 [1:05:29<45:33,  4.20s/it]"
     ]
    },
    {
     "name": "stdout",
     "output_type": "stream",
     "text": [
      "Brand: Colgate\n",
      "['Health & Personal Care', 'Oral Care', 'Toothpastes']\n",
      "899\n",
      "https://www.amazon.in/dp/B0BP4R9SNM\n"
     ]
    },
    {
     "name": "stderr",
     "output_type": "stream",
     "text": [
      "\r",
      " 58%|████████████████████████████████████████████▋                                | 900/1550 [1:05:33<44:55,  4.15s/it]"
     ]
    },
    {
     "name": "stdout",
     "output_type": "stream",
     "text": [
      "Brand: Colgate\n",
      "['Health & Personal Care', 'Oral Care', 'Toothpastes']\n",
      "900\n",
      "https://www.amazon.in/dp/B094FM6DBK\n"
     ]
    },
    {
     "name": "stderr",
     "output_type": "stream",
     "text": [
      "\r",
      " 58%|████████████████████████████████████████████▊                                | 901/1550 [1:05:38<44:55,  4.15s/it]"
     ]
    },
    {
     "name": "stdout",
     "output_type": "stream",
     "text": [
      "Brand: Closeup\n",
      "['Health & Personal Care', 'Oral Care', 'Toothpastes']\n",
      "901\n",
      "https://www.amazon.in/dp/B0B7RTDTTJ\n"
     ]
    },
    {
     "name": "stderr",
     "output_type": "stream",
     "text": [
      "\r",
      " 58%|████████████████████████████████████████████▊                                | 902/1550 [1:05:42<45:15,  4.19s/it]"
     ]
    },
    {
     "name": "stdout",
     "output_type": "stream",
     "text": [
      "Brand: Colgate\n",
      "['Health & Personal Care', 'Oral Care', 'Toothbrushes & Accessories', 'Manual Toothbrushes']\n",
      "902\n",
      "https://www.amazon.in/dp/B014FCKQ98\n"
     ]
    },
    {
     "name": "stderr",
     "output_type": "stream",
     "text": [
      "\r",
      " 58%|████████████████████████████████████████████▊                                | 903/1550 [1:05:45<42:50,  3.97s/it]"
     ]
    },
    {
     "name": "stdout",
     "output_type": "stream",
     "text": [
      "Brand: Colgate\n",
      "['Health & Personal Care', 'Oral Care', 'Toothpastes']\n",
      "903\n",
      "https://www.amazon.in/dp/B07H3MLL7G\n"
     ]
    },
    {
     "name": "stderr",
     "output_type": "stream",
     "text": [
      "\r",
      " 58%|████████████████████████████████████████████▉                                | 904/1550 [1:05:49<41:35,  3.86s/it]"
     ]
    },
    {
     "name": "stdout",
     "output_type": "stream",
     "text": [
      "Brand: Colgate\n",
      "['Health & Personal Care', 'Oral Care', 'Toothpastes']\n",
      "904\n",
      "https://www.amazon.in/dp/B0BW4FSC93\n"
     ]
    },
    {
     "name": "stderr",
     "output_type": "stream",
     "text": [
      "\r",
      " 58%|████████████████████████████████████████████▉                                | 905/1550 [1:05:54<45:08,  4.20s/it]"
     ]
    },
    {
     "name": "stdout",
     "output_type": "stream",
     "text": [
      "Brand: Colgate\n",
      "['Health & Personal Care', 'Oral Care', 'Toothpastes']\n",
      "905\n",
      "https://www.amazon.in/dp/B0BP4WZ2V1\n"
     ]
    },
    {
     "name": "stderr",
     "output_type": "stream",
     "text": [
      "\r",
      " 58%|█████████████████████████████████████████████                                | 906/1550 [1:05:58<44:07,  4.11s/it]"
     ]
    },
    {
     "name": "stdout",
     "output_type": "stream",
     "text": [
      "Brand: Colgate\n",
      "['Health & Personal Care', 'Oral Care', 'Toothpastes']\n",
      "906\n",
      "https://www.amazon.in/dp/B0B7NRNNGW\n"
     ]
    },
    {
     "name": "stderr",
     "output_type": "stream",
     "text": [
      "\r",
      " 59%|█████████████████████████████████████████████                                | 907/1550 [1:06:01<42:32,  3.97s/it]"
     ]
    },
    {
     "name": "stdout",
     "output_type": "stream",
     "text": [
      "Brand: Colgate\n",
      "['Health & Personal Care', 'Oral Care', 'Toothpastes']\n",
      "907\n",
      "https://www.amazon.in/dp/B0B54XGTWB\n"
     ]
    },
    {
     "name": "stderr",
     "output_type": "stream",
     "text": [
      "\r",
      " 59%|█████████████████████████████████████████████                                | 908/1550 [1:06:05<41:04,  3.84s/it]"
     ]
    },
    {
     "name": "stdout",
     "output_type": "stream",
     "text": [
      "Brand: Colgate\n",
      "['Health & Personal Care', 'Oral Care', 'Toothpastes']\n",
      "908\n",
      "https://www.amazon.in/dp/B077VHCRTB\n"
     ]
    },
    {
     "name": "stderr",
     "output_type": "stream",
     "text": [
      "\r",
      " 59%|█████████████████████████████████████████████▏                               | 909/1550 [1:06:10<44:36,  4.17s/it]"
     ]
    },
    {
     "name": "stdout",
     "output_type": "stream",
     "text": [
      "Brand: Pepsodent\n",
      "['Health & Personal Care', 'Oral Care', 'Toothpastes']\n",
      "909\n",
      "https://www.amazon.in/dp/B0BC3WN5SS\n"
     ]
    },
    {
     "name": "stderr",
     "output_type": "stream",
     "text": [
      "\r",
      " 59%|█████████████████████████████████████████████▏                               | 910/1550 [1:06:14<42:47,  4.01s/it]"
     ]
    },
    {
     "name": "stdout",
     "output_type": "stream",
     "text": [
      "Visit the Willywhyte Store\n",
      "['Health & Personal Care', 'Oral Care', 'Toothpastes']\n",
      "910\n",
      "https://www.amazon.in/dp/B0BVMTDKVY\n"
     ]
    },
    {
     "name": "stderr",
     "output_type": "stream",
     "text": [
      "\r",
      " 59%|█████████████████████████████████████████████▎                               | 911/1550 [1:06:18<44:10,  4.15s/it]"
     ]
    },
    {
     "name": "stdout",
     "output_type": "stream",
     "text": [
      "Brand: Colgate\n",
      "['Health & Personal Care', 'Oral Care', 'Toothpastes']\n",
      "911\n",
      "https://www.amazon.in/dp/B0BTTC5L81\n"
     ]
    },
    {
     "name": "stderr",
     "output_type": "stream",
     "text": [
      "\r",
      " 59%|█████████████████████████████████████████████▎                               | 912/1550 [1:06:22<43:11,  4.06s/it]"
     ]
    },
    {
     "name": "stdout",
     "output_type": "stream",
     "text": [
      "Brand: Colgate\n",
      "['Health & Personal Care', 'Oral Care', 'Toothpastes']\n",
      "912\n",
      "https://www.amazon.in/dp/B08Q3ZGM8J\n"
     ]
    },
    {
     "name": "stderr",
     "output_type": "stream",
     "text": [
      "\r",
      " 59%|█████████████████████████████████████████████▎                               | 913/1550 [1:06:26<44:12,  4.16s/it]"
     ]
    },
    {
     "name": "stdout",
     "output_type": "stream",
     "text": [
      "Brand: Colgate\n",
      "['Health & Personal Care', 'Oral Care', 'Toothpastes']\n",
      "913\n",
      "https://www.amazon.in/dp/B07MTJ39BJ\n",
      "Brand: Colgate\n",
      "['Health & Personal Care', 'Oral Care', 'Toothpastes']\n"
     ]
    },
    {
     "name": "stderr",
     "output_type": "stream",
     "text": [
      "\r",
      " 59%|█████████████████████████████████████████████▍                               | 914/1550 [1:06:31<45:13,  4.27s/it]"
     ]
    },
    {
     "name": "stdout",
     "output_type": "stream",
     "text": [
      "914\n",
      "https://www.amazon.in/dp/B07L6HYN4D\n"
     ]
    },
    {
     "name": "stderr",
     "output_type": "stream",
     "text": [
      "\r",
      " 59%|█████████████████████████████████████████████▍                               | 915/1550 [1:06:36<48:00,  4.54s/it]"
     ]
    },
    {
     "name": "stdout",
     "output_type": "stream",
     "text": [
      "Brand: Colgate\n",
      "['Health & Personal Care', 'Oral Care', 'Toothpastes']\n",
      "915\n",
      "https://www.amazon.in/dp/B0BVJ5GHVP\n"
     ]
    },
    {
     "name": "stderr",
     "output_type": "stream",
     "text": [
      "\r",
      " 59%|█████████████████████████████████████████████▌                               | 916/1550 [1:06:40<45:02,  4.26s/it]"
     ]
    },
    {
     "name": "stdout",
     "output_type": "stream",
     "text": [
      "Brand: Colgate\n",
      "['Health & Personal Care', 'Oral Care', 'Toothpastes']\n",
      "916\n",
      "https://www.amazon.in/dp/B07BHHDWT3\n"
     ]
    },
    {
     "name": "stderr",
     "output_type": "stream",
     "text": [
      "\r",
      " 59%|█████████████████████████████████████████████▌                               | 917/1550 [1:06:44<44:48,  4.25s/it]"
     ]
    },
    {
     "name": "stdout",
     "output_type": "stream",
     "text": [
      "Brand: Colgate\n",
      "['Health & Personal Care', 'Oral Care', 'Toothpastes']\n",
      "917\n",
      "https://www.amazon.in/dp/B07XJ5SKNH\n"
     ]
    },
    {
     "name": "stderr",
     "output_type": "stream",
     "text": [
      "\r",
      " 59%|█████████████████████████████████████████████▌                               | 918/1550 [1:06:48<44:46,  4.25s/it]"
     ]
    },
    {
     "name": "stdout",
     "output_type": "stream",
     "text": [
      "Brand: Colgate\n",
      "['Health & Personal Care', 'Oral Care', 'Toothpastes']\n",
      "918\n",
      "https://www.amazon.in/dp/B07991F7KY\n"
     ]
    },
    {
     "name": "stderr",
     "output_type": "stream",
     "text": [
      "\r",
      " 59%|█████████████████████████████████████████████▋                               | 919/1550 [1:06:52<45:07,  4.29s/it]"
     ]
    },
    {
     "name": "stdout",
     "output_type": "stream",
     "text": [
      "Visit the DABUR Store\n",
      "['Health & Personal Care', 'Oral Care', 'Toothpastes']\n",
      "919\n",
      "https://www.amazon.in/dp/B0BTT8KY5B\n",
      "Brand: Colgate\n"
     ]
    },
    {
     "name": "stderr",
     "output_type": "stream",
     "text": [
      "\r",
      " 59%|█████████████████████████████████████████████▋                               | 920/1550 [1:06:57<46:45,  4.45s/it]"
     ]
    },
    {
     "name": "stdout",
     "output_type": "stream",
     "text": [
      "['Health & Personal Care', 'Oral Care', 'Toothpastes']\n",
      "920\n",
      "https://www.amazon.in/dp/B07J2ZG1LN\n"
     ]
    },
    {
     "name": "stderr",
     "output_type": "stream",
     "text": [
      "\r",
      " 59%|█████████████████████████████████████████████▊                               | 921/1550 [1:07:01<45:26,  4.33s/it]"
     ]
    },
    {
     "name": "stdout",
     "output_type": "stream",
     "text": [
      "Brand: Colgate\n",
      "['Health & Personal Care', 'Oral Care', 'Toothpastes']\n",
      "921\n",
      "https://www.amazon.in/dp/B07BHHBW8H\n"
     ]
    },
    {
     "name": "stderr",
     "output_type": "stream",
     "text": [
      "\r",
      " 59%|█████████████████████████████████████████████▊                               | 922/1550 [1:07:06<46:42,  4.46s/it]"
     ]
    },
    {
     "name": "stdout",
     "output_type": "stream",
     "text": [
      "Brand: Colgate\n",
      "['Health & Personal Care', 'Oral Care', 'Toothpastes']\n",
      "922\n",
      "https://www.amazon.in/dp/B07BHHBCPP\n"
     ]
    },
    {
     "name": "stderr",
     "output_type": "stream",
     "text": [
      "\r",
      " 60%|█████████████████████████████████████████████▊                               | 923/1550 [1:07:10<45:07,  4.32s/it]"
     ]
    },
    {
     "name": "stdout",
     "output_type": "stream",
     "text": [
      "Brand: Colgate\n",
      "['Health & Personal Care', 'Oral Care', 'Toothpastes']\n",
      "923\n",
      "https://www.amazon.in/dp/B0BVJ9G7RJ\n"
     ]
    },
    {
     "name": "stderr",
     "output_type": "stream",
     "text": [
      "\r",
      " 60%|█████████████████████████████████████████████▉                               | 924/1550 [1:07:14<42:58,  4.12s/it]"
     ]
    },
    {
     "name": "stdout",
     "output_type": "stream",
     "text": [
      "Brand: Colgate\n",
      "['Health & Personal Care', 'Oral Care', 'Toothpastes']\n",
      "924\n",
      "https://www.amazon.in/dp/B0BVWF9CZX\n"
     ]
    },
    {
     "name": "stderr",
     "output_type": "stream",
     "text": [
      "\r",
      " 60%|█████████████████████████████████████████████▉                               | 925/1550 [1:07:18<44:16,  4.25s/it]"
     ]
    },
    {
     "name": "stdout",
     "output_type": "stream",
     "text": [
      "Brand: Colgate\n",
      "['Health & Personal Care', 'Oral Care', 'Toothpastes']\n",
      "925\n",
      "https://www.amazon.in/dp/B0BVMTHG55\n"
     ]
    },
    {
     "name": "stderr",
     "output_type": "stream",
     "text": [
      "\r",
      " 60%|██████████████████████████████████████████████                               | 926/1550 [1:07:23<44:24,  4.27s/it]"
     ]
    },
    {
     "name": "stdout",
     "output_type": "stream",
     "text": [
      "Brand: Colgate\n",
      "['Health & Personal Care', 'Oral Care', 'Toothpastes']\n",
      "926\n",
      "https://www.amazon.in/dp/B0CFHYPJX4\n"
     ]
    },
    {
     "name": "stderr",
     "output_type": "stream",
     "text": [
      "\r",
      " 60%|██████████████████████████████████████████████                               | 927/1550 [1:07:26<41:54,  4.04s/it]"
     ]
    },
    {
     "name": "stdout",
     "output_type": "stream",
     "text": [
      "Brand: Colgate\n",
      "['Health & Personal Care', 'Oral Care', 'Toothpastes']\n",
      "927\n",
      "https://www.amazon.in/dp/B0BVJ8W8FM\n"
     ]
    },
    {
     "name": "stderr",
     "output_type": "stream",
     "text": [
      "\r",
      " 60%|██████████████████████████████████████████████                               | 928/1550 [1:07:31<43:33,  4.20s/it]"
     ]
    },
    {
     "name": "stdout",
     "output_type": "stream",
     "text": [
      "Brand: Colgate\n",
      "['Health & Personal Care', 'Oral Care', 'Toothpastes']\n",
      "928\n",
      "https://www.amazon.in/dp/B0BVW9QQWL\n"
     ]
    },
    {
     "name": "stderr",
     "output_type": "stream",
     "text": [
      "\r",
      " 60%|██████████████████████████████████████████████▏                              | 929/1550 [1:07:35<42:34,  4.11s/it]"
     ]
    },
    {
     "name": "stdout",
     "output_type": "stream",
     "text": [
      "Brand: Colgate\n",
      "['Health & Personal Care', 'Oral Care', 'Toothpastes']\n",
      "929\n",
      "https://www.amazon.in/dp/B0BVW96R1M\n"
     ]
    },
    {
     "name": "stderr",
     "output_type": "stream",
     "text": [
      "\r",
      " 60%|██████████████████████████████████████████████▏                              | 930/1550 [1:07:39<42:50,  4.15s/it]"
     ]
    },
    {
     "name": "stdout",
     "output_type": "stream",
     "text": [
      "Brand: Colgate\n",
      "['Health & Personal Care', 'Oral Care', 'Toothpastes']\n",
      "930\n",
      "https://www.amazon.in/dp/B0CDDGBJQ8\n"
     ]
    },
    {
     "name": "stderr",
     "output_type": "stream",
     "text": [
      "\r",
      " 60%|██████████████████████████████████████████████▏                              | 931/1550 [1:07:44<47:09,  4.57s/it]"
     ]
    },
    {
     "name": "stdout",
     "output_type": "stream",
     "text": [
      "Brand: Colgate\n",
      "['Health & Personal Care', 'Oral Care', 'Toothpastes']\n",
      "931\n",
      "https://www.amazon.in/dp/B0BTX7G288\n"
     ]
    },
    {
     "name": "stderr",
     "output_type": "stream",
     "text": [
      "\r",
      " 60%|██████████████████████████████████████████████▎                              | 932/1550 [1:07:48<44:09,  4.29s/it]"
     ]
    },
    {
     "name": "stdout",
     "output_type": "stream",
     "text": [
      "Brand: Colgate\n",
      "['Health & Personal Care', 'Oral Care', 'Toothpastes']\n",
      "932\n",
      "https://www.amazon.in/dp/B0BVJ7G42N\n",
      "Brand: Colgate\n"
     ]
    },
    {
     "name": "stderr",
     "output_type": "stream",
     "text": [
      "\r",
      " 60%|██████████████████████████████████████████████▎                              | 933/1550 [1:07:54<50:34,  4.92s/it]"
     ]
    },
    {
     "name": "stdout",
     "output_type": "stream",
     "text": [
      "['Health & Personal Care', 'Oral Care', 'Toothpastes']\n",
      "933\n",
      "https://www.amazon.in/dp/B0BTTFGVFP\n"
     ]
    },
    {
     "name": "stderr",
     "output_type": "stream",
     "text": [
      "\r",
      " 60%|██████████████████████████████████████████████▍                              | 934/1550 [1:07:58<47:28,  4.62s/it]"
     ]
    },
    {
     "name": "stdout",
     "output_type": "stream",
     "text": [
      "Brand: Colgate\n",
      "['Health & Personal Care', 'Oral Care', 'Toothpastes']\n",
      "934\n",
      "https://www.amazon.in/dp/B08CBH2VHM\n",
      "Brand: Colgate\n"
     ]
    },
    {
     "name": "stderr",
     "output_type": "stream",
     "text": [
      "\r",
      " 60%|██████████████████████████████████████████████▍                              | 935/1550 [1:08:02<45:51,  4.47s/it]"
     ]
    },
    {
     "name": "stdout",
     "output_type": "stream",
     "text": [
      "['Health & Personal Care', 'Oral Care', 'Toothpastes']\n",
      "935\n",
      "https://www.amazon.in/dp/B07LBL6NWS\n"
     ]
    },
    {
     "name": "stderr",
     "output_type": "stream",
     "text": [
      "\r",
      " 60%|██████████████████████████████████████████████▍                              | 936/1550 [1:08:07<44:41,  4.37s/it]"
     ]
    },
    {
     "name": "stdout",
     "output_type": "stream",
     "text": [
      "Brand: Colgate\n",
      "['Health & Personal Care', 'Oral Care', 'Toothpastes']\n",
      "936\n",
      "https://www.amazon.in/dp/B0982PQTXX\n"
     ]
    },
    {
     "name": "stderr",
     "output_type": "stream",
     "text": [
      "\r",
      " 60%|██████████████████████████████████████████████▌                              | 937/1550 [1:08:11<45:08,  4.42s/it]"
     ]
    },
    {
     "name": "stdout",
     "output_type": "stream",
     "text": [
      "Brand: Colgate\n",
      "['Health & Personal Care', 'Oral Care', 'Toothpastes']\n",
      "937\n",
      "https://www.amazon.in/dp/B091FHGH4S\n"
     ]
    },
    {
     "name": "stderr",
     "output_type": "stream",
     "text": [
      "\r",
      " 61%|██████████████████████████████████████████████▌                              | 938/1550 [1:08:16<45:02,  4.42s/it]"
     ]
    },
    {
     "name": "stdout",
     "output_type": "stream",
     "text": [
      "Visit the DENTE91 Store\n",
      "['Health & Personal Care', 'Oral Care', 'Toothpastes']\n",
      "938\n",
      "https://www.amazon.in/dp/B09QYTSY5L\n"
     ]
    },
    {
     "name": "stderr",
     "output_type": "stream",
     "text": [
      "\r",
      " 61%|██████████████████████████████████████████████▋                              | 939/1550 [1:08:19<43:38,  4.29s/it]"
     ]
    },
    {
     "name": "stdout",
     "output_type": "stream",
     "text": [
      "Visit the Perfora Store\n",
      "['Health & Personal Care', 'Oral Care', 'Toothpastes']\n",
      "939\n",
      "https://www.amazon.in/dp/B0BTC1BK8W\n"
     ]
    },
    {
     "name": "stderr",
     "output_type": "stream",
     "text": [
      "\r",
      " 61%|██████████████████████████████████████████████▋                              | 940/1550 [1:08:23<41:30,  4.08s/it]"
     ]
    },
    {
     "name": "stdout",
     "output_type": "stream",
     "text": [
      "Brand: Generic\n",
      "['Health & Personal Care', 'Oral Care', 'Toothpastes']\n",
      "940\n",
      "https://www.amazon.in/dp/B08PDDGM2Q\n"
     ]
    },
    {
     "name": "stderr",
     "output_type": "stream",
     "text": [
      "\r",
      " 61%|██████████████████████████████████████████████▋                              | 941/1550 [1:08:27<40:11,  3.96s/it]"
     ]
    },
    {
     "name": "stdout",
     "output_type": "stream",
     "text": [
      "Brand: Arogya\n",
      "['Health & Personal Care', 'Oral Care', 'Toothpastes']\n",
      "941\n",
      "https://www.amazon.in/dp/B01N0R3ZQH\n"
     ]
    },
    {
     "name": "stderr",
     "output_type": "stream",
     "text": [
      "\r",
      " 61%|██████████████████████████████████████████████▊                              | 942/1550 [1:08:31<39:48,  3.93s/it]"
     ]
    },
    {
     "name": "stdout",
     "output_type": "stream",
     "text": [
      "Brand: Dr. Jaikaran\n",
      "['Health & Personal Care', 'Oral Care', 'Toothpastes']\n",
      "942\n",
      "https://www.amazon.in/dp/B07Z6GP67R\n"
     ]
    },
    {
     "name": "stderr",
     "output_type": "stream",
     "text": [
      "\r",
      " 61%|██████████████████████████████████████████████▊                              | 943/1550 [1:08:34<39:21,  3.89s/it]"
     ]
    },
    {
     "name": "stdout",
     "output_type": "stream",
     "text": [
      "Brand: Galway\n",
      "['Health & Personal Care', 'Oral Care', 'Toothpastes']\n",
      "943\n",
      "https://www.amazon.in/dp/B09KLVX65G\n"
     ]
    },
    {
     "name": "stderr",
     "output_type": "stream",
     "text": [
      "\r",
      " 61%|██████████████████████████████████████████████▉                              | 944/1550 [1:08:38<38:36,  3.82s/it]"
     ]
    },
    {
     "name": "stdout",
     "output_type": "stream",
     "text": [
      "Brand: Generic\n",
      "['Health & Personal Care', 'Oral Care', 'Toothpastes']\n",
      "944\n",
      "https://www.amazon.in/dp/B07HLKN6MC\n"
     ]
    },
    {
     "name": "stderr",
     "output_type": "stream",
     "text": [
      "\r",
      " 61%|██████████████████████████████████████████████▉                              | 945/1550 [1:08:42<38:48,  3.85s/it]"
     ]
    },
    {
     "name": "stdout",
     "output_type": "stream",
     "text": [
      "Brand: Arogya\n",
      "['Health & Personal Care', 'Oral Care', 'Toothpastes']\n",
      "945\n",
      "https://www.amazon.in/dp/B0CB8QL25L\n"
     ]
    },
    {
     "name": "stderr",
     "output_type": "stream",
     "text": [
      "\r",
      " 61%|██████████████████████████████████████████████▉                              | 946/1550 [1:08:46<39:22,  3.91s/it]"
     ]
    },
    {
     "name": "stdout",
     "output_type": "stream",
     "text": [
      "Visit the BENTODENT TOOTHPASTE Store\n",
      "['Health & Personal Care', 'Oral Care', 'Toothpastes']\n",
      "946\n",
      "https://www.amazon.in/dp/B06XC6SNQG\n"
     ]
    },
    {
     "name": "stderr",
     "output_type": "stream",
     "text": [
      "\r",
      " 61%|███████████████████████████████████████████████                              | 947/1550 [1:08:50<38:33,  3.84s/it]"
     ]
    },
    {
     "name": "stdout",
     "output_type": "stream",
     "text": [
      "Brand: ICPA\n",
      "['Health & Personal Care', 'Oral Care', 'Toothpastes']\n",
      "947\n",
      "https://www.amazon.in/dp/B0BQMT97GX\n"
     ]
    },
    {
     "name": "stderr",
     "output_type": "stream",
     "text": [
      "\r",
      " 61%|███████████████████████████████████████████████                              | 948/1550 [1:08:54<38:59,  3.89s/it]"
     ]
    },
    {
     "name": "stdout",
     "output_type": "stream",
     "text": [
      "Visit the Perfora Store\n",
      "['Health & Personal Care', 'Oral Care', 'Toothpastes']\n",
      "948\n",
      "https://www.amazon.in/dp/B09R9NRKFH\n"
     ]
    },
    {
     "name": "stderr",
     "output_type": "stream",
     "text": [
      "\r",
      " 61%|███████████████████████████████████████████████▏                             | 949/1550 [1:08:58<40:47,  4.07s/it]"
     ]
    },
    {
     "name": "stdout",
     "output_type": "stream",
     "text": [
      "Visit the Perfora Store\n",
      "['Health & Personal Care', 'Oral Care', 'Toothpastes']\n",
      "949\n",
      "https://www.amazon.in/dp/B09W9SQYJZ\n",
      "Visit the Perfora Store\n",
      "['Health & Personal Care', 'Oral Care', 'Toothpastes']\n"
     ]
    },
    {
     "name": "stderr",
     "output_type": "stream",
     "text": [
      "\r",
      " 61%|███████████████████████████████████████████████▏                             | 950/1550 [1:09:02<39:59,  4.00s/it]"
     ]
    },
    {
     "name": "stdout",
     "output_type": "stream",
     "text": [
      "950\n",
      "https://www.amazon.in/dp/B094G1PYXL\n"
     ]
    },
    {
     "name": "stderr",
     "output_type": "stream",
     "text": [
      "\r",
      " 61%|███████████████████████████████████████████████▏                             | 951/1550 [1:09:06<41:09,  4.12s/it]"
     ]
    },
    {
     "name": "stdout",
     "output_type": "stream",
     "text": [
      "Brand: Closeup\n",
      "['Health & Personal Care', 'Oral Care', 'Toothpastes']\n",
      "951\n",
      "https://www.amazon.in/dp/B09W9XMK4K\n"
     ]
    },
    {
     "name": "stderr",
     "output_type": "stream",
     "text": [
      "\r",
      " 61%|███████████████████████████████████████████████▎                             | 952/1550 [1:09:11<40:47,  4.09s/it]"
     ]
    },
    {
     "name": "stdout",
     "output_type": "stream",
     "text": [
      "Visit the Perfora Store\n",
      "['Health & Personal Care', 'Oral Care', 'Toothpastes']\n",
      "952\n",
      "https://www.amazon.in/dp/B01NAJH7Y7\n"
     ]
    },
    {
     "name": "stderr",
     "output_type": "stream",
     "text": [
      "\r",
      " 61%|███████████████████████████████████████████████▎                             | 953/1550 [1:09:15<40:28,  4.07s/it]"
     ]
    },
    {
     "name": "stdout",
     "output_type": "stream",
     "text": [
      "Brand: Dr. Jaikaran\n",
      "['Health & Personal Care', 'Oral Care', 'Toothpastes']\n",
      "953\n",
      "https://www.amazon.in/dp/B077VSLDRS\n"
     ]
    },
    {
     "name": "stderr",
     "output_type": "stream",
     "text": [
      "\r",
      " 62%|███████████████████████████████████████████████▍                             | 954/1550 [1:09:19<40:30,  4.08s/it]"
     ]
    },
    {
     "name": "stdout",
     "output_type": "stream",
     "text": [
      "Brand: Colgate\n",
      "['Health & Personal Care', 'Oral Care', 'Toothpastes']\n",
      "954\n",
      "https://www.amazon.in/dp/B0C8YHMHTN\n"
     ]
    },
    {
     "name": "stderr",
     "output_type": "stream",
     "text": [
      "\r",
      " 62%|███████████████████████████████████████████████▍                             | 955/1550 [1:09:22<39:11,  3.95s/it]"
     ]
    },
    {
     "name": "stdout",
     "output_type": "stream",
     "text": [
      "Brand: Generic\n",
      "['Health & Personal Care', 'Oral Care', 'Toothpastes']\n",
      "955\n",
      "https://www.amazon.in/dp/B08L7P7RZ4\n",
      "Visit the Anchor Store\n"
     ]
    },
    {
     "name": "stderr",
     "output_type": "stream",
     "text": [
      "\r",
      " 62%|███████████████████████████████████████████████▍                             | 956/1550 [1:09:26<39:16,  3.97s/it]"
     ]
    },
    {
     "name": "stdout",
     "output_type": "stream",
     "text": [
      "['Health & Personal Care', 'Oral Care', 'Toothpastes']\n",
      "956\n",
      "https://www.amazon.in/dp/B0BHZNFRX1\n"
     ]
    },
    {
     "name": "stderr",
     "output_type": "stream",
     "text": [
      "\r",
      " 62%|███████████████████████████████████████████████▌                             | 957/1550 [1:09:31<41:21,  4.18s/it]"
     ]
    },
    {
     "name": "stdout",
     "output_type": "stream",
     "text": [
      "Visit the apollo NONI Store\n",
      "['Health & Personal Care', 'Oral Care', 'Toothpastes']\n",
      "957\n",
      "https://www.amazon.in/dp/B0CD7KG11Y\n"
     ]
    },
    {
     "name": "stderr",
     "output_type": "stream",
     "text": [
      "\r",
      " 62%|███████████████████████████████████████████████▌                             | 958/1550 [1:09:35<39:39,  4.02s/it]"
     ]
    },
    {
     "name": "stdout",
     "output_type": "stream",
     "text": [
      "Brand: Oralvit\n",
      "['Health & Personal Care', 'Oral Care', 'Toothpastes']\n",
      "958\n",
      "https://www.amazon.in/dp/B0CD7C9M3Y\n"
     ]
    },
    {
     "name": "stderr",
     "output_type": "stream",
     "text": [
      "\r",
      " 62%|███████████████████████████████████████████████▋                             | 959/1550 [1:09:38<37:48,  3.84s/it]"
     ]
    },
    {
     "name": "stdout",
     "output_type": "stream",
     "text": [
      "Brand: Oralvit\n",
      "['Health & Personal Care', 'Oral Care', 'Toothpastes']\n",
      "959\n",
      "https://www.amazon.in/dp/B084X1PN88\n",
      "Visit the Dr. Morepen Store\n",
      "['Health & Personal Care', 'Oral Care', 'Toothpastes']\n"
     ]
    },
    {
     "name": "stderr",
     "output_type": "stream",
     "text": [
      "\r",
      " 62%|███████████████████████████████████████████████▋                             | 960/1550 [1:09:42<37:45,  3.84s/it]"
     ]
    },
    {
     "name": "stdout",
     "output_type": "stream",
     "text": [
      "960\n",
      "https://www.amazon.in/dp/B0BH4T95F2\n"
     ]
    },
    {
     "name": "stderr",
     "output_type": "stream",
     "text": [
      "\r",
      " 62%|███████████████████████████████████████████████▋                             | 961/1550 [1:09:46<39:39,  4.04s/it]"
     ]
    },
    {
     "name": "stdout",
     "output_type": "stream",
     "text": [
      "Visit the SPICTA Store\n",
      "['Health & Personal Care', 'Oral Care', 'Toothpastes']\n",
      "961\n",
      "https://www.amazon.in/dp/B07QHJ2PVL\n"
     ]
    },
    {
     "name": "stderr",
     "output_type": "stream",
     "text": [
      "\r",
      " 62%|███████████████████████████████████████████████▊                             | 962/1550 [1:09:51<40:12,  4.10s/it]"
     ]
    },
    {
     "name": "stdout",
     "output_type": "stream",
     "text": [
      "Visit the Sri Sri TATTVA shuddhta ka naam Store\n",
      "['Health & Personal Care', 'Oral Care', 'Toothpastes']\n",
      "962\n",
      "https://www.amazon.in/dp/B074V9CKB6\n"
     ]
    },
    {
     "name": "stderr",
     "output_type": "stream",
     "text": [
      "\r",
      " 62%|███████████████████████████████████████████████▊                             | 963/1550 [1:09:55<41:10,  4.21s/it]"
     ]
    },
    {
     "name": "stdout",
     "output_type": "stream",
     "text": [
      "Visit the VITRO Store\n",
      "['Health & Personal Care', 'Oral Care', 'Toothpastes']\n",
      "963\n",
      "https://www.amazon.in/dp/B013XE604O\n"
     ]
    },
    {
     "name": "stderr",
     "output_type": "stream",
     "text": [
      "\r",
      " 62%|███████████████████████████████████████████████▉                             | 964/1550 [1:09:59<41:31,  4.25s/it]"
     ]
    },
    {
     "name": "stdout",
     "output_type": "stream",
     "text": [
      "Visit the VICCO Store\n",
      "['Health & Personal Care', 'Oral Care', 'Toothpastes']\n",
      "964\n",
      "https://www.amazon.in/dp/B0793MM6PX\n"
     ]
    },
    {
     "name": "stderr",
     "output_type": "stream",
     "text": [
      "\r",
      " 62%|███████████████████████████████████████████████▉                             | 965/1550 [1:10:04<42:13,  4.33s/it]"
     ]
    },
    {
     "name": "stdout",
     "output_type": "stream",
     "text": [
      "Visit the K.P. NAMBOODIRI S Store\n",
      "['Health & Personal Care', 'Oral Care', 'Toothpastes']\n",
      "965\n",
      "https://www.amazon.in/dp/B09B2DKVV7\n"
     ]
    },
    {
     "name": "stderr",
     "output_type": "stream",
     "text": [
      "\r",
      " 62%|███████████████████████████████████████████████▉                             | 966/1550 [1:10:08<41:07,  4.23s/it]"
     ]
    },
    {
     "name": "stdout",
     "output_type": "stream",
     "text": [
      "Visit the KEVA Store\n",
      "['Health & Personal Care', 'Oral Care', 'Toothpastes']\n",
      "966\n",
      "https://www.amazon.in/dp/B0C3Z3LX6T\n",
      "Brand: Herbodent\n"
     ]
    },
    {
     "name": "stderr",
     "output_type": "stream",
     "text": [
      "\r",
      " 62%|████████████████████████████████████████████████                             | 967/1550 [1:10:12<40:58,  4.22s/it]"
     ]
    },
    {
     "name": "stdout",
     "output_type": "stream",
     "text": [
      "['Health & Personal Care', 'Oral Care', 'Toothpastes']\n",
      "967\n",
      "https://www.amazon.in/dp/B08QGPH67T\n"
     ]
    },
    {
     "name": "stderr",
     "output_type": "stream",
     "text": [
      "\r",
      " 62%|████████████████████████████████████████████████                             | 968/1550 [1:10:16<39:27,  4.07s/it]"
     ]
    },
    {
     "name": "stdout",
     "output_type": "stream",
     "text": [
      "Brand: PEP SOLUTION\n",
      "['Health & Personal Care', 'Oral Care', 'Toothpastes']\n",
      "968\n",
      "https://www.amazon.in/dp/B0C1QGQB65\n"
     ]
    },
    {
     "name": "stderr",
     "output_type": "stream",
     "text": [
      "\r",
      " 63%|████████████████████████████████████████████████▏                            | 969/1550 [1:10:20<38:28,  3.97s/it]"
     ]
    },
    {
     "name": "stdout",
     "output_type": "stream",
     "text": [
      "Brand: MAAN ORGANIC FARMS\n",
      "['Health & Personal Care', 'Oral Care', 'Toothpastes']\n",
      "969\n",
      "https://www.amazon.in/dp/B07D7ZFRQ8\n"
     ]
    },
    {
     "name": "stderr",
     "output_type": "stream",
     "text": [
      "\r",
      " 63%|████████████████████████████████████████████████▏                            | 970/1550 [1:10:24<40:33,  4.20s/it]"
     ]
    },
    {
     "name": "stdout",
     "output_type": "stream",
     "text": [
      "Visit the BENTODENT TOOTHPASTE Store\n",
      "['Health & Personal Care', 'Oral Care', 'Toothpastes']\n",
      "970\n",
      "https://www.amazon.in/dp/B09J7Y4P7M\n"
     ]
    },
    {
     "name": "stderr",
     "output_type": "stream",
     "text": [
      "\r",
      " 63%|████████████████████████████████████████████████▏                            | 971/1550 [1:10:28<39:54,  4.14s/it]"
     ]
    },
    {
     "name": "stdout",
     "output_type": "stream",
     "text": [
      "Visit the DABUR Store\n",
      "['Health & Personal Care', 'Oral Care', 'Toothpastes']\n",
      "971\n",
      "https://www.amazon.in/dp/B08J8CM5KY\n"
     ]
    },
    {
     "name": "stderr",
     "output_type": "stream",
     "text": [
      "\r",
      " 63%|████████████████████████████████████████████████▎                            | 972/1550 [1:10:33<40:50,  4.24s/it]"
     ]
    },
    {
     "name": "stdout",
     "output_type": "stream",
     "text": [
      "Visit the JAGAT Store\n",
      "['Health & Personal Care', 'Oral Care', 'Toothpastes']\n",
      "972\n",
      "https://www.amazon.in/dp/B07PFVP9NW\n"
     ]
    },
    {
     "name": "stderr",
     "output_type": "stream",
     "text": [
      "\r",
      " 63%|████████████████████████████████████████████████▎                            | 973/1550 [1:10:36<39:07,  4.07s/it]"
     ]
    },
    {
     "name": "stdout",
     "output_type": "stream",
     "text": [
      "Visit the Sri Sri TATTVA shuddhta ka naam Store\n",
      "['Health & Personal Care', 'Oral Care', 'Toothpastes']\n",
      "973\n",
      "https://www.amazon.in/dp/B09FHPQC7Z\n"
     ]
    },
    {
     "name": "stderr",
     "output_type": "stream",
     "text": [
      "\r",
      " 63%|████████████████████████████████████████████████▍                            | 974/1550 [1:10:41<39:35,  4.12s/it]"
     ]
    },
    {
     "name": "stdout",
     "output_type": "stream",
     "text": [
      "Visit the Sri Sri TATTVA shuddhta ka naam Store\n",
      "['Health & Personal Care', 'Oral Care', 'Toothpastes']\n",
      "974\n",
      "https://www.amazon.in/dp/B0B5XM97GD\n"
     ]
    },
    {
     "name": "stderr",
     "output_type": "stream",
     "text": [
      "\r",
      " 63%|████████████████████████████████████████████████▍                            | 975/1550 [1:10:45<39:20,  4.10s/it]"
     ]
    },
    {
     "name": "stdout",
     "output_type": "stream",
     "text": [
      "Visit the JAGAT Store\n",
      "['Health & Personal Care', 'Oral Care', 'Toothpastes']\n",
      "975\n",
      "https://www.amazon.in/dp/B0B5XRMM7T\n"
     ]
    },
    {
     "name": "stderr",
     "output_type": "stream",
     "text": [
      "\r",
      " 63%|████████████████████████████████████████████████▍                            | 976/1550 [1:10:49<38:41,  4.04s/it]"
     ]
    },
    {
     "name": "stdout",
     "output_type": "stream",
     "text": [
      "Visit the JAGAT Store\n",
      "['Health & Personal Care', 'Oral Care', 'Toothpastes']\n",
      "976\n",
      "https://www.amazon.in/dp/B07Z8YNDW6\n",
      "Visit the apollo NONI Store\n"
     ]
    },
    {
     "name": "stderr",
     "output_type": "stream",
     "text": [
      "\r",
      " 63%|████████████████████████████████████████████████▌                            | 977/1550 [1:10:52<37:52,  3.97s/it]"
     ]
    },
    {
     "name": "stdout",
     "output_type": "stream",
     "text": [
      "['Health & Personal Care', 'Oral Care', 'Toothpastes']\n",
      "977\n",
      "https://www.amazon.in/dp/B0C7MLRTPW\n"
     ]
    },
    {
     "name": "stderr",
     "output_type": "stream",
     "text": [
      "\r",
      " 63%|████████████████████████████████████████████████▌                            | 978/1550 [1:10:57<39:01,  4.09s/it]"
     ]
    },
    {
     "name": "stdout",
     "output_type": "stream",
     "text": [
      "Visit the Streamline Store\n",
      "['Health & Personal Care', 'Oral Care', 'Toothpastes']\n",
      "978\n",
      "https://www.amazon.in/dp/B07G5VQ34P\n"
     ]
    },
    {
     "name": "stderr",
     "output_type": "stream",
     "text": [
      "\r",
      " 63%|████████████████████████████████████████████████▋                            | 979/1550 [1:11:01<38:21,  4.03s/it]"
     ]
    },
    {
     "name": "stdout",
     "output_type": "stream",
     "text": [
      "Brand: Isme\n",
      "['Health & Personal Care', 'Oral Care', 'Toothpastes']\n",
      "979\n",
      "https://www.amazon.in/dp/B07965QN8F\n",
      "Brand: Netsurf\n"
     ]
    },
    {
     "name": "stderr",
     "output_type": "stream",
     "text": [
      "\r",
      " 63%|████████████████████████████████████████████████▋                            | 980/1550 [1:11:06<41:02,  4.32s/it]"
     ]
    },
    {
     "name": "stdout",
     "output_type": "stream",
     "text": [
      "['Health & Personal Care', 'Oral Care', 'Toothpastes']\n",
      "980\n",
      "https://www.amazon.in/dp/B0721K9J49\n"
     ]
    },
    {
     "name": "stderr",
     "output_type": "stream",
     "text": [
      "\r",
      " 63%|████████████████████████████████████████████████▋                            | 981/1550 [1:11:10<41:11,  4.34s/it]"
     ]
    },
    {
     "name": "stdout",
     "output_type": "stream",
     "text": [
      "Visit the K.P. NAMBOODIRI'S Store\n",
      "['Health & Personal Care', 'Oral Care', 'Toothpastes']\n",
      "981\n",
      "https://www.amazon.in/dp/B0B854XYR6\n"
     ]
    },
    {
     "name": "stderr",
     "output_type": "stream",
     "text": [
      "\r",
      " 63%|████████████████████████████████████████████████▊                            | 982/1550 [1:11:14<39:54,  4.21s/it]"
     ]
    },
    {
     "name": "stdout",
     "output_type": "stream",
     "text": [
      "Visit the Vithoba Store\n",
      "['Health & Personal Care', 'Oral Care', 'Toothpastes']\n",
      "982\n",
      "https://www.amazon.in/dp/B00IZ6FAK6\n",
      "Brand: Sensodyne\n"
     ]
    },
    {
     "name": "stderr",
     "output_type": "stream",
     "text": [
      "\r",
      " 63%|████████████████████████████████████████████████▊                            | 983/1550 [1:11:19<40:43,  4.31s/it]"
     ]
    },
    {
     "name": "stdout",
     "output_type": "stream",
     "text": [
      "['Health & Personal Care', \"Men's Grooming store\", 'Oral Care', 'Manual Toothbrushes']\n",
      "983\n",
      "https://www.amazon.in/dp/B08L74VDRR\n"
     ]
    },
    {
     "name": "stderr",
     "output_type": "stream",
     "text": [
      "\r",
      " 63%|████████████████████████████████████████████████▉                            | 984/1550 [1:11:22<38:43,  4.11s/it]"
     ]
    },
    {
     "name": "stdout",
     "output_type": "stream",
     "text": [
      "Visit the Anchor Store\n",
      "['Health & Personal Care', 'Oral Care', 'Toothpastes']\n",
      "984\n",
      "https://www.amazon.in/dp/B0BS6X71YN\n",
      "Brand: Colgate\n"
     ]
    },
    {
     "name": "stderr",
     "output_type": "stream",
     "text": [
      "\r",
      " 64%|████████████████████████████████████████████████▉                            | 985/1550 [1:11:26<38:29,  4.09s/it]"
     ]
    },
    {
     "name": "stdout",
     "output_type": "stream",
     "text": [
      "['Health & Personal Care', 'Oral Care', 'Toothpastes']\n",
      "985\n",
      "https://www.amazon.in/dp/B077G2M5PB\n"
     ]
    },
    {
     "name": "stderr",
     "output_type": "stream",
     "text": [
      "\r",
      " 64%|████████████████████████████████████████████████▉                            | 986/1550 [1:11:31<39:38,  4.22s/it]"
     ]
    },
    {
     "name": "stdout",
     "output_type": "stream",
     "text": [
      "Brand: Hydent\n",
      "['Health & Personal Care', 'Oral Care', 'Toothpastes']\n",
      "986\n",
      "https://www.amazon.in/dp/B0175Z4030\n"
     ]
    },
    {
     "name": "stderr",
     "output_type": "stream",
     "text": [
      "\r",
      " 64%|█████████████████████████████████████████████████                            | 987/1550 [1:11:36<41:19,  4.40s/it]"
     ]
    },
    {
     "name": "stdout",
     "output_type": "stream",
     "text": [
      "Brand: Colgate\n",
      "['Health & Personal Care', 'Oral Care', 'Toothpastes']\n",
      "987\n",
      "https://www.amazon.in/dp/B0C9DDD5TC\n"
     ]
    },
    {
     "name": "stderr",
     "output_type": "stream",
     "text": [
      "\r",
      " 64%|█████████████████████████████████████████████████                            | 988/1550 [1:11:39<38:41,  4.13s/it]"
     ]
    },
    {
     "name": "stdout",
     "output_type": "stream",
     "text": [
      "Visit the Clove Store\n",
      "['Health & Personal Care', 'Oral Care', 'Toothpastes']\n",
      "988\n",
      "https://www.amazon.in/dp/B0BY2WL337\n"
     ]
    },
    {
     "name": "stderr",
     "output_type": "stream",
     "text": [
      "\r",
      " 64%|█████████████████████████████████████████████████▏                           | 989/1550 [1:11:44<39:49,  4.26s/it]"
     ]
    },
    {
     "name": "stdout",
     "output_type": "stream",
     "text": [
      "Visit the pil Store\n",
      "['Health & Personal Care', 'Oral Care', 'Toothpastes']\n",
      "989\n",
      "https://www.amazon.in/dp/B003LZQMQM\n",
      "Brand: Sensodyne\n"
     ]
    },
    {
     "name": "stderr",
     "output_type": "stream",
     "text": [
      "\r",
      " 64%|█████████████████████████████████████████████████▏                           | 990/1550 [1:11:48<39:11,  4.20s/it]"
     ]
    },
    {
     "name": "stdout",
     "output_type": "stream",
     "text": [
      "['Health & Personal Care', \"Men's Grooming store\", 'Oral Care', 'Toothpaste']\n",
      "990\n",
      "https://www.amazon.in/dp/B0BQFHQ68Q\n"
     ]
    },
    {
     "name": "stderr",
     "output_type": "stream",
     "text": [
      "\r",
      " 64%|█████████████████████████████████████████████████▏                           | 991/1550 [1:11:52<38:56,  4.18s/it]"
     ]
    },
    {
     "name": "stdout",
     "output_type": "stream",
     "text": [
      "Brand: Colgate\n",
      "['Health & Personal Care', 'Oral Care', 'Toothpastes']\n",
      "991\n",
      "https://www.amazon.in/dp/B01MV52HQI\n"
     ]
    },
    {
     "name": "stderr",
     "output_type": "stream",
     "text": [
      "\r",
      " 64%|█████████████████████████████████████████████████▎                           | 992/1550 [1:11:56<39:22,  4.23s/it]"
     ]
    },
    {
     "name": "stdout",
     "output_type": "stream",
     "text": [
      "Visit the Himalaya Store\n",
      "['Health & Personal Care', 'Oral Care', 'Toothpastes']\n",
      "992\n",
      "https://www.amazon.in/dp/B0BV47SD58\n"
     ]
    },
    {
     "name": "stderr",
     "output_type": "stream",
     "text": [
      "\r",
      " 64%|█████████████████████████████████████████████████▎                           | 993/1550 [1:12:00<38:04,  4.10s/it]"
     ]
    },
    {
     "name": "stdout",
     "output_type": "stream",
     "text": [
      "Brand: Lacoste\n",
      "['Clothing & Accessories', 'Men', 'T-Shirts & Polos', 'Polos']\n",
      "993\n",
      "https://www.amazon.in/dp/B0BZ4VPT81\n",
      "Brand: Lacoste\n"
     ]
    },
    {
     "name": "stderr",
     "output_type": "stream",
     "text": [
      "\r",
      " 64%|█████████████████████████████████████████████████▍                           | 994/1550 [1:12:04<38:12,  4.12s/it]"
     ]
    },
    {
     "name": "stdout",
     "output_type": "stream",
     "text": [
      "['Clothing & Accessories', 'Men', 'T-Shirts & Polos', 'Polos']\n",
      "994\n",
      "https://www.amazon.in/dp/B0BV433DDL\n"
     ]
    },
    {
     "name": "stderr",
     "output_type": "stream",
     "text": [
      "\r",
      " 64%|█████████████████████████████████████████████████▍                           | 995/1550 [1:12:08<37:01,  4.00s/it]"
     ]
    },
    {
     "name": "stdout",
     "output_type": "stream",
     "text": [
      "Brand: Lacoste\n",
      "['Clothing & Accessories', 'Men', 'T-Shirts & Polos', 'Polos']\n",
      "995\n",
      "https://www.amazon.in/dp/B0BHKMCSMH\n"
     ]
    },
    {
     "name": "stderr",
     "output_type": "stream",
     "text": [
      "\r",
      " 64%|█████████████████████████████████████████████████▍                           | 996/1550 [1:12:12<35:57,  3.89s/it]"
     ]
    },
    {
     "name": "stdout",
     "output_type": "stream",
     "text": [
      "Brand: Lacoste\n",
      "['Clothing & Accessories', 'Men', 'T-Shirts & Polos', 'T-Shirts']\n",
      "996\n",
      "https://www.amazon.in/dp/B0BV4259R6\n"
     ]
    },
    {
     "name": "stderr",
     "output_type": "stream",
     "text": [
      "\r",
      " 64%|█████████████████████████████████████████████████▌                           | 997/1550 [1:12:15<34:22,  3.73s/it]"
     ]
    },
    {
     "name": "stdout",
     "output_type": "stream",
     "text": [
      "Brand: Lacoste\n",
      "['Clothing & Accessories', 'Men', 'T-Shirts & Polos', 'Polos']\n",
      "997\n",
      "https://www.amazon.in/dp/B0C659ZPVB\n"
     ]
    },
    {
     "name": "stderr",
     "output_type": "stream",
     "text": [
      "\r",
      " 64%|█████████████████████████████████████████████████▌                           | 998/1550 [1:12:18<33:51,  3.68s/it]"
     ]
    },
    {
     "name": "stdout",
     "output_type": "stream",
     "text": [
      "Brand: Lacoste\n",
      "['Clothing & Accessories', 'Men', 'T-Shirts & Polos', 'Polos']\n",
      "998\n",
      "https://www.amazon.in/dp/B0C65BKCC1\n",
      "Brand: Lacoste\n"
     ]
    },
    {
     "name": "stderr",
     "output_type": "stream",
     "text": [
      "\r",
      " 64%|█████████████████████████████████████████████████▋                           | 999/1550 [1:12:22<34:30,  3.76s/it]"
     ]
    },
    {
     "name": "stdout",
     "output_type": "stream",
     "text": [
      "['Clothing & Accessories', 'Men', 'T-Shirts & Polos', 'Polos']\n",
      "999\n",
      "https://www.amazon.in/dp/B0C8B5C9SC\n"
     ]
    },
    {
     "name": "stderr",
     "output_type": "stream",
     "text": [
      "\r",
      " 65%|█████████████████████████████████████████████████                           | 1000/1550 [1:12:26<33:49,  3.69s/it]"
     ]
    },
    {
     "name": "stdout",
     "output_type": "stream",
     "text": [
      "Brand: Lacoste\n",
      "['Clothing & Accessories', 'Men', 'T-Shirts & Polos', 'T-Shirts']\n",
      "1000\n",
      "https://www.amazon.in/dp/B0C6QXY23L\n"
     ]
    },
    {
     "name": "stderr",
     "output_type": "stream",
     "text": [
      "\r",
      " 65%|█████████████████████████████████████████████████                           | 1001/1550 [1:12:30<33:42,  3.68s/it]"
     ]
    },
    {
     "name": "stdout",
     "output_type": "stream",
     "text": [
      "Brand: Levi's\n",
      "['Clothing & Accessories', 'Men', 'T-Shirts & Polos', 'Polos']\n",
      "1001\n",
      "https://www.amazon.in/dp/B0C6QWJMSF\n"
     ]
    },
    {
     "name": "stderr",
     "output_type": "stream",
     "text": [
      "\r",
      " 65%|█████████████████████████████████████████████████▏                          | 1002/1550 [1:12:33<34:04,  3.73s/it]"
     ]
    },
    {
     "name": "stdout",
     "output_type": "stream",
     "text": [
      "Brand: Levi's\n",
      "['Clothing & Accessories', 'Men', 'T-Shirts & Polos', 'Polos']\n",
      "1002\n",
      "https://www.amazon.in/dp/B0BHW6LP1M\n",
      "Brand: Peter England\n"
     ]
    },
    {
     "name": "stderr",
     "output_type": "stream",
     "text": [
      "\r",
      " 65%|█████████████████████████████████████████████████▏                          | 1003/1550 [1:12:38<35:17,  3.87s/it]"
     ]
    },
    {
     "name": "stdout",
     "output_type": "stream",
     "text": [
      "['Clothing & Accessories', 'Men', 'T-Shirts & Polos', 'Polos']\n",
      "1003\n",
      "https://www.amazon.in/dp/B0BZ4RK5CX\n"
     ]
    },
    {
     "name": "stderr",
     "output_type": "stream",
     "text": [
      "\r",
      " 65%|█████████████████████████████████████████████████▏                          | 1004/1550 [1:12:42<35:28,  3.90s/it]"
     ]
    },
    {
     "name": "stdout",
     "output_type": "stream",
     "text": [
      "Brand: Lacoste\n",
      "['Clothing & Accessories', 'Men', 'T-Shirts & Polos', 'Polos']\n",
      "1004\n",
      "https://www.amazon.in/dp/B0C6QV327B\n"
     ]
    },
    {
     "name": "stderr",
     "output_type": "stream",
     "text": [
      "\r",
      " 65%|█████████████████████████████████████████████████▎                          | 1005/1550 [1:12:45<34:55,  3.84s/it]"
     ]
    },
    {
     "name": "stdout",
     "output_type": "stream",
     "text": [
      "Brand: Levi's\n",
      "['Clothing & Accessories', 'Men', 'T-Shirts & Polos', 'T-Shirts']\n",
      "1005\n",
      "https://www.amazon.in/dp/B099K66ZSN\n"
     ]
    },
    {
     "name": "stderr",
     "output_type": "stream",
     "text": [
      "\r",
      " 65%|█████████████████████████████████████████████████▎                          | 1006/1550 [1:12:49<34:46,  3.84s/it]"
     ]
    },
    {
     "name": "stdout",
     "output_type": "stream",
     "text": [
      "Brand: Lacoste\n",
      "['Clothing & Accessories', 'Men', 'T-Shirts & Polos', 'Polos']\n",
      "1006\n",
      "https://www.amazon.in/dp/B0BSTZ72NY\n"
     ]
    },
    {
     "name": "stderr",
     "output_type": "stream",
     "text": [
      "\r",
      " 65%|█████████████████████████████████████████████████▍                          | 1007/1550 [1:12:54<36:46,  4.06s/it]"
     ]
    },
    {
     "name": "stdout",
     "output_type": "stream",
     "text": [
      "Visit the Jockey Store\n",
      "['Clothing & Accessories', 'Men', 'T-Shirts & Polos', 'T-Shirts']\n",
      "1007\n",
      "https://www.amazon.in/dp/B085BMH5YR\n",
      "Brand: Jockey\n"
     ]
    },
    {
     "name": "stderr",
     "output_type": "stream",
     "text": [
      "\r",
      " 65%|█████████████████████████████████████████████████▍                          | 1008/1550 [1:12:58<37:55,  4.20s/it]"
     ]
    },
    {
     "name": "stdout",
     "output_type": "stream",
     "text": [
      "['Clothing & Accessories', 'Men', 'T-Shirts & Polos', 'T-Shirts']\n",
      "1008\n",
      "https://www.amazon.in/dp/B08CDR6T1M\n",
      "Brand: EYEBOGLER\n"
     ]
    },
    {
     "name": "stderr",
     "output_type": "stream",
     "text": [
      "\r",
      " 65%|█████████████████████████████████████████████████▍                          | 1009/1550 [1:13:02<36:01,  3.99s/it]"
     ]
    },
    {
     "name": "stdout",
     "output_type": "stream",
     "text": [
      "['Fashion', 'Apparel Steal Deals', 'Apparel_1', 'Men', \"Men's fashion starting 199\"]\n",
      "1009\n",
      "https://www.amazon.in/dp/B073X4BMZZ\n",
      "Visit the Amazon Brand - Symbol Store\n"
     ]
    },
    {
     "name": "stderr",
     "output_type": "stream",
     "text": [
      "\r",
      " 65%|█████████████████████████████████████████████████▌                          | 1010/1550 [1:13:06<35:55,  3.99s/it]"
     ]
    },
    {
     "name": "stdout",
     "output_type": "stream",
     "text": [
      "['Fashion', 'Made for Amazon brands', 'All SPB apparel', 'FD', 'Symbol']\n",
      "1010\n",
      "https://www.amazon.in/dp/B07FLY39LQ\n",
      "Visit the London Hills Store\n"
     ]
    },
    {
     "name": "stderr",
     "output_type": "stream",
     "text": [
      "\r",
      " 65%|█████████████████████████████████████████████████▌                          | 1011/1550 [1:13:10<36:07,  4.02s/it]"
     ]
    },
    {
     "name": "stdout",
     "output_type": "stream",
     "text": [
      "['Clothing & Accessories', 'Men', 'T-Shirts & Polos', 'T-Shirts']\n",
      "1011\n",
      "https://www.amazon.in/dp/B09MFMLX83\n"
     ]
    },
    {
     "name": "stderr",
     "output_type": "stream",
     "text": [
      "\r",
      " 65%|█████████████████████████████████████████████████▌                          | 1012/1550 [1:13:14<35:26,  3.95s/it]"
     ]
    },
    {
     "name": "stdout",
     "output_type": "stream",
     "text": [
      "Brand: Jockey\n",
      "['Clothing & Accessories', 'Men', 'T-Shirts & Polos', 'Polos']\n",
      "1012\n",
      "https://www.amazon.in/dp/B0BSRZHFQR\n",
      "Visit the Red Tape Store\n"
     ]
    },
    {
     "name": "stderr",
     "output_type": "stream",
     "text": [
      "\r",
      " 65%|█████████████████████████████████████████████████▋                          | 1013/1550 [1:13:18<35:26,  3.96s/it]"
     ]
    },
    {
     "name": "stdout",
     "output_type": "stream",
     "text": [
      "['Clothing & Accessories', 'Men', 'T-Shirts & Polos', 'T-Shirts']\n",
      "1013\n",
      "https://www.amazon.in/dp/B09W9SFTRP\n"
     ]
    },
    {
     "name": "stderr",
     "output_type": "stream",
     "text": [
      "\r",
      " 65%|█████████████████████████████████████████████████▋                          | 1014/1550 [1:13:21<33:44,  3.78s/it]"
     ]
    },
    {
     "name": "stdout",
     "output_type": "stream",
     "text": [
      "Visit the Bewakoof Store\n",
      "['Clothing & Accessories', 'Men', 'T-Shirts & Polos', 'T-Shirts']\n",
      "1014\n",
      "https://www.amazon.in/dp/B07HJ99JJH\n",
      "Visit the Van Heusen Store\n"
     ]
    },
    {
     "name": "stderr",
     "output_type": "stream",
     "text": [
      "\r",
      " 65%|█████████████████████████████████████████████████▊                          | 1015/1550 [1:13:25<34:46,  3.90s/it]"
     ]
    },
    {
     "name": "stdout",
     "output_type": "stream",
     "text": [
      "['Fashion', 'Apparel Steal Deals', 'Apparel_1', 'Men', \"Men's Bestsellers\"]\n",
      "1015\n",
      "https://www.amazon.in/dp/B084C86TVP\n"
     ]
    },
    {
     "name": "stderr",
     "output_type": "stream",
     "text": [
      "\r",
      " 66%|█████████████████████████████████████████████████▊                          | 1016/1550 [1:13:29<34:51,  3.92s/it]"
     ]
    },
    {
     "name": "stdout",
     "output_type": "stream",
     "text": [
      "Visit the London Hills Store\n",
      "['Clothing & Accessories', 'Men', 'T-Shirts & Polos', 'T-Shirts']\n",
      "1016\n",
      "https://www.amazon.in/dp/B0B71T897L\n"
     ]
    },
    {
     "name": "stderr",
     "output_type": "stream",
     "text": [
      "\r",
      " 66%|█████████████████████████████████████████████████▊                          | 1017/1550 [1:13:34<36:21,  4.09s/it]"
     ]
    },
    {
     "name": "stdout",
     "output_type": "stream",
     "text": [
      "Visit the BULLMER Store\n",
      "['Clothing & Accessories', 'Men', 'T-Shirts & Polos', 'T-Shirts']\n",
      "1017\n",
      "https://www.amazon.in/dp/B0B4P9PNC7\n",
      "Visit the Veirdo Store\n"
     ]
    },
    {
     "name": "stderr",
     "output_type": "stream",
     "text": [
      "\r",
      " 66%|█████████████████████████████████████████████████▉                          | 1018/1550 [1:13:38<36:08,  4.08s/it]"
     ]
    },
    {
     "name": "stdout",
     "output_type": "stream",
     "text": [
      "['Fashion', 'Next Gen store | Men', 'Occasions', 'Music festival', 'Apparel']\n",
      "1018\n",
      "https://www.amazon.in/dp/B08JQL9NZS\n",
      "Visit the Urbano Fashion Store\n",
      "['Clothing & Accessories', 'Men', 'T-Shirts & Polos', 'T-Shirts']\n"
     ]
    },
    {
     "name": "stderr",
     "output_type": "stream",
     "text": [
      "\r",
      " 66%|█████████████████████████████████████████████████▉                          | 1019/1550 [1:13:41<35:11,  3.98s/it]"
     ]
    },
    {
     "name": "stdout",
     "output_type": "stream",
     "text": [
      "1019\n",
      "https://www.amazon.in/dp/B091SKZ4SK\n"
     ]
    },
    {
     "name": "stderr",
     "output_type": "stream",
     "text": [
      "\r",
      " 66%|██████████████████████████████████████████████████                          | 1020/1550 [1:13:46<35:38,  4.03s/it]"
     ]
    },
    {
     "name": "stdout",
     "output_type": "stream",
     "text": [
      "Visit the EYEBOGLER Store\n",
      "['Clothing & Accessories', 'Men', 'T-Shirts & Polos', 'T-Shirts']\n",
      "1020\n",
      "https://www.amazon.in/dp/B073X4WZCX\n"
     ]
    },
    {
     "name": "stderr",
     "output_type": "stream",
     "text": [
      "\r",
      " 66%|██████████████████████████████████████████████████                          | 1021/1550 [1:13:49<34:41,  3.93s/it]"
     ]
    },
    {
     "name": "stdout",
     "output_type": "stream",
     "text": [
      "Visit the Amazon Brand - Symbol Store\n",
      "['Fashion', 'Made for Amazon brands', 'All SPB apparel', 'FD', 'Symbol']\n",
      "1021\n",
      "https://www.amazon.in/dp/B0BRY4J7Q8\n"
     ]
    },
    {
     "name": "stderr",
     "output_type": "stream",
     "text": [
      "\r",
      " 66%|██████████████████████████████████████████████████                          | 1022/1550 [1:13:53<34:50,  3.96s/it]"
     ]
    },
    {
     "name": "stdout",
     "output_type": "stream",
     "text": [
      "Visit the LookMark Store\n",
      "['Clothing & Accessories', 'Men', 'T-Shirts & Polos', 'Polos']\n",
      "1022\n",
      "https://www.amazon.in/dp/B07R7QFCN6\n",
      "Visit the Van Heusen Store\n"
     ]
    },
    {
     "name": "stderr",
     "output_type": "stream",
     "text": [
      "\r",
      " 66%|██████████████████████████████████████████████████▏                         | 1023/1550 [1:13:58<35:36,  4.05s/it]"
     ]
    },
    {
     "name": "stdout",
     "output_type": "stream",
     "text": [
      "['Clothing & Accessories', 'Men', 'T-Shirts & Polos', 'T-Shirts']\n",
      "1023\n",
      "https://www.amazon.in/dp/B09H382S47\n"
     ]
    },
    {
     "name": "stderr",
     "output_type": "stream",
     "text": [
      "\r",
      " 66%|██████████████████████████████████████████████████▏                         | 1024/1550 [1:14:01<34:45,  3.96s/it]"
     ]
    },
    {
     "name": "stdout",
     "output_type": "stream",
     "text": [
      "Visit the U.S. POLO ASSN. Store\n",
      "['Fashion', 'Apparel Steal Deals', 'Apparel_1', 'Men', 'U.S.P.A under 899']\n",
      "1024\n",
      "https://www.amazon.in/dp/B0BSTYV1DH\n",
      "Brand: Jockey\n"
     ]
    },
    {
     "name": "stderr",
     "output_type": "stream",
     "text": [
      "\r",
      " 66%|██████████████████████████████████████████████████▎                         | 1025/1550 [1:14:06<36:13,  4.14s/it]"
     ]
    },
    {
     "name": "stdout",
     "output_type": "stream",
     "text": [
      "['Clothing & Accessories', 'Men', 'T-Shirts & Polos', 'T-Shirts']\n",
      "1025\n",
      "https://www.amazon.in/dp/B0B4NLQ35Q\n"
     ]
    },
    {
     "name": "stderr",
     "output_type": "stream",
     "text": [
      "\r",
      " 66%|██████████████████████████████████████████████████▎                         | 1026/1550 [1:14:10<35:44,  4.09s/it]"
     ]
    },
    {
     "name": "stdout",
     "output_type": "stream",
     "text": [
      "Visit the BULLMER Store\n",
      "['Clothing & Accessories', 'Men', 'T-Shirts & Polos', 'T-Shirts']\n",
      "1026\n",
      "https://www.amazon.in/dp/B0BW5JJ5WC\n"
     ]
    },
    {
     "name": "stderr",
     "output_type": "stream",
     "text": [
      "\r",
      " 66%|██████████████████████████████████████████████████▎                         | 1027/1550 [1:14:14<34:44,  3.99s/it]"
     ]
    },
    {
     "name": "stdout",
     "output_type": "stream",
     "text": [
      "Visit the VIMAL JONNEY Store\n",
      "['Clothing & Accessories', 'Men', 'T-Shirts & Polos', 'T-Shirts']\n",
      "1027\n",
      "https://www.amazon.in/dp/B0793GSBTN\n",
      "Visit the U.S. POLO ASSN. Store\n"
     ]
    },
    {
     "name": "stderr",
     "output_type": "stream",
     "text": [
      "\r",
      " 66%|██████████████████████████████████████████████████▍                         | 1028/1550 [1:14:18<35:14,  4.05s/it]"
     ]
    },
    {
     "name": "stdout",
     "output_type": "stream",
     "text": [
      "['Fashion', 'Apparel Steal Deals', 'Apparel_1', 'Men', 'U.S.P.A under 899']\n",
      "1028\n",
      "https://www.amazon.in/dp/B0842HGDCD\n",
      "Visit the Jockey Store\n",
      "['Clothing & Accessories', 'Men', 'T-Shirts & Polos', 'T-Shirts']\n"
     ]
    },
    {
     "name": "stderr",
     "output_type": "stream",
     "text": [
      "\r",
      " 66%|██████████████████████████████████████████████████▍                         | 1029/1550 [1:14:22<36:39,  4.22s/it]"
     ]
    },
    {
     "name": "stdout",
     "output_type": "stream",
     "text": [
      "1029\n",
      "https://www.amazon.in/dp/B0BT1V8HHT\n",
      "Visit the U.S. POLO ASSN. Store\n"
     ]
    },
    {
     "name": "stderr",
     "output_type": "stream",
     "text": [
      "\r",
      " 66%|██████████████████████████████████████████████████▌                         | 1030/1550 [1:14:27<37:10,  4.29s/it]"
     ]
    },
    {
     "name": "stdout",
     "output_type": "stream",
     "text": [
      "['Clothing & Accessories', 'Men', 'T-Shirts & Polos', 'T-Shirts']\n",
      "1030\n",
      "https://www.amazon.in/dp/B08KFM8VVR\n",
      "Brand: Allen Solly\n"
     ]
    },
    {
     "name": "stderr",
     "output_type": "stream",
     "text": [
      "\r",
      " 67%|██████████████████████████████████████████████████▌                         | 1031/1550 [1:14:31<37:04,  4.29s/it]"
     ]
    },
    {
     "name": "stdout",
     "output_type": "stream",
     "text": [
      "['Fashion', 'Apparel Steal Deals', 'Apparel_1', 'Men', 'T-shirts under 499']\n",
      "1031\n",
      "https://www.amazon.in/dp/B0CBFT56N6\n",
      "Brand: U.S. POLO ASSN.\n"
     ]
    },
    {
     "name": "stderr",
     "output_type": "stream",
     "text": [
      "\r",
      " 67%|██████████████████████████████████████████████████▌                         | 1032/1550 [1:14:35<36:39,  4.25s/it]"
     ]
    },
    {
     "name": "stdout",
     "output_type": "stream",
     "text": [
      "['Clothing & Accessories', 'Men', 'T-Shirts & Polos', 'Polos']\n",
      "1032\n",
      "https://www.amazon.in/dp/B07QP7558N\n"
     ]
    },
    {
     "name": "stderr",
     "output_type": "stream",
     "text": [
      "\r",
      " 67%|██████████████████████████████████████████████████▋                         | 1033/1550 [1:14:40<36:37,  4.25s/it]"
     ]
    },
    {
     "name": "stdout",
     "output_type": "stream",
     "text": [
      "Visit the Van Heusen Store\n",
      "['Clothing & Accessories', 'Men', 'T-Shirts & Polos', 'Polos']\n",
      "1033\n",
      "https://www.amazon.in/dp/B0B71QJN5N\n",
      "Visit the BULLMER Store\n"
     ]
    },
    {
     "name": "stderr",
     "output_type": "stream",
     "text": [
      "\r",
      " 67%|██████████████████████████████████████████████████▋                         | 1034/1550 [1:14:43<35:52,  4.17s/it]"
     ]
    },
    {
     "name": "stdout",
     "output_type": "stream",
     "text": [
      "['Clothing & Accessories', 'Men', 'T-Shirts & Polos', 'T-Shirts']\n",
      "1034\n",
      "https://www.amazon.in/dp/B0BW5KZXZR\n"
     ]
    },
    {
     "name": "stderr",
     "output_type": "stream",
     "text": [
      "\r",
      " 67%|██████████████████████████████████████████████████▋                         | 1035/1550 [1:14:48<36:56,  4.30s/it]"
     ]
    },
    {
     "name": "stdout",
     "output_type": "stream",
     "text": [
      "Visit the VIMAL JONNEY Store\n",
      "['Clothing & Accessories', 'Men', 'T-Shirts & Polos', 'T-Shirts']\n",
      "1035\n",
      "https://www.amazon.in/dp/B0C16RLT6R\n",
      "Visit the Alan Jones Clothing Store\n"
     ]
    },
    {
     "name": "stderr",
     "output_type": "stream",
     "text": [
      "\r",
      " 67%|██████████████████████████████████████████████████▊                         | 1036/1550 [1:14:52<35:13,  4.11s/it]"
     ]
    },
    {
     "name": "stdout",
     "output_type": "stream",
     "text": [
      "['Fashion', 'The Plus Size Store', 'Brands', 'Alan Jones Clothing', 'men']\n",
      "1036\n",
      "https://www.amazon.in/dp/B07KXQGGPY\n",
      "Visit the U.S. POLO ASSN. Store\n"
     ]
    },
    {
     "name": "stderr",
     "output_type": "stream",
     "text": [
      "\r",
      " 67%|██████████████████████████████████████████████████▊                         | 1037/1550 [1:14:56<36:13,  4.24s/it]"
     ]
    },
    {
     "name": "stdout",
     "output_type": "stream",
     "text": [
      "['Fashion', 'The Plus Size Store', 'aug art- clothing ingress', 'new', 'men']\n",
      "1037\n",
      "https://www.amazon.in/dp/B0C4PSSG4G\n",
      "Visit the Sleepynuts Store\n"
     ]
    },
    {
     "name": "stderr",
     "output_type": "stream",
     "text": [
      "\r",
      " 67%|██████████████████████████████████████████████████▉                         | 1038/1550 [1:15:00<35:39,  4.18s/it]"
     ]
    },
    {
     "name": "stdout",
     "output_type": "stream",
     "text": [
      "['Clothing & Accessories', 'Men', 'T-Shirts & Polos', 'T-Shirts']\n",
      "1038\n",
      "https://www.amazon.in/dp/B09VZ3XHZX\n",
      "Brand: EYEBOGLER\n"
     ]
    },
    {
     "name": "stderr",
     "output_type": "stream",
     "text": [
      "\r",
      " 67%|██████████████████████████████████████████████████▉                         | 1039/1550 [1:15:04<35:10,  4.13s/it]"
     ]
    },
    {
     "name": "stdout",
     "output_type": "stream",
     "text": [
      "['Clothing & Accessories', 'Men', 'T-Shirts & Polos', 'T-Shirts']\n",
      "1039\n",
      "https://www.amazon.in/dp/B07R6ML9Z2\n",
      "Visit the Van Heusen Store\n"
     ]
    },
    {
     "name": "stderr",
     "output_type": "stream",
     "text": [
      "\r",
      " 67%|██████████████████████████████████████████████████▉                         | 1040/1550 [1:15:09<35:52,  4.22s/it]"
     ]
    },
    {
     "name": "stdout",
     "output_type": "stream",
     "text": [
      "['Fashion', 'The Plus Size Store', 'Brands', 'Innerwear brands', 'VH - Men']\n",
      "1040\n",
      "https://www.amazon.in/dp/B0BSRY7TC8\n"
     ]
    },
    {
     "name": "stderr",
     "output_type": "stream",
     "text": [
      "\r",
      " 67%|███████████████████████████████████████████████████                         | 1041/1550 [1:15:13<35:45,  4.22s/it]"
     ]
    },
    {
     "name": "stdout",
     "output_type": "stream",
     "text": [
      "Brand: Red Tape\n",
      "['Clothing & Accessories', 'Men', 'T-Shirts & Polos', 'Polos']\n",
      "1041\n",
      "https://www.amazon.in/dp/B07RY1278K\n",
      "Visit the U.S. POLO ASSN. Store\n"
     ]
    },
    {
     "name": "stderr",
     "output_type": "stream",
     "text": [
      "\r",
      " 67%|███████████████████████████████████████████████████                         | 1042/1550 [1:15:19<39:18,  4.64s/it]"
     ]
    },
    {
     "name": "stdout",
     "output_type": "stream",
     "text": [
      "['Fashion', 'Apparel Steal Deals', 'Apparel_1', 'Men', \"Men's Apparel Deals\"]\n",
      "1042\n",
      "https://www.amazon.in/dp/B091KTYJ29\n",
      "Visit the Van Heusen Store\n"
     ]
    },
    {
     "name": "stderr",
     "output_type": "stream",
     "text": [
      "\r",
      " 67%|███████████████████████████████████████████████████▏                        | 1043/1550 [1:15:23<38:22,  4.54s/it]"
     ]
    },
    {
     "name": "stdout",
     "output_type": "stream",
     "text": [
      "['Clothing & Accessories', 'Men', 'T-Shirts & Polos', 'Polos']\n",
      "1043\n",
      "https://www.amazon.in/dp/B08V93KQ36\n",
      "Visit the U.S. POLO ASSN. Store\n"
     ]
    },
    {
     "name": "stderr",
     "output_type": "stream",
     "text": [
      "\r",
      " 67%|███████████████████████████████████████████████████▏                        | 1044/1550 [1:15:28<38:51,  4.61s/it]"
     ]
    },
    {
     "name": "stdout",
     "output_type": "stream",
     "text": [
      "['Fashion', 'Apparel Steal Deals', 'Apparel_1', 'Men', 'U.S.P.A under 899']\n",
      "1044\n",
      "https://www.amazon.in/dp/B0BTSJR41P\n"
     ]
    },
    {
     "name": "stderr",
     "output_type": "stream",
     "text": [
      "\r",
      " 67%|███████████████████████████████████████████████████▏                        | 1045/1550 [1:15:32<37:17,  4.43s/it]"
     ]
    },
    {
     "name": "stdout",
     "output_type": "stream",
     "text": [
      "Visit the Red Tape Store\n",
      "['Clothing & Accessories', 'Men', 'T-Shirts & Polos', 'Polos']\n",
      "1045\n",
      "https://www.amazon.in/dp/B081B12P57\n",
      "Visit the U.S. POLO ASSN. Store\n"
     ]
    },
    {
     "name": "stderr",
     "output_type": "stream",
     "text": [
      "\r",
      " 67%|███████████████████████████████████████████████████▎                        | 1046/1550 [1:15:36<36:58,  4.40s/it]"
     ]
    },
    {
     "name": "stdout",
     "output_type": "stream",
     "text": [
      "['Fashion', 'Apparel Steal Deals', 'Apparel_1', 'Men', 'U.S.P.A under 899']\n",
      "1046\n",
      "https://www.amazon.in/dp/B077Y711RM\n"
     ]
    },
    {
     "name": "stderr",
     "output_type": "stream",
     "text": [
      "\r",
      " 68%|███████████████████████████████████████████████████▎                        | 1047/1550 [1:15:40<34:56,  4.17s/it]"
     ]
    },
    {
     "name": "stdout",
     "output_type": "stream",
     "text": [
      "Visit the U.S. POLO ASSN. Store\n",
      "['Clothing & Accessories', 'Men', 'T-Shirts & Polos', 'Polos']\n",
      "1047\n",
      "https://www.amazon.in/dp/B0C96ZTNFN\n",
      "Visit the Lux Cozi Store\n"
     ]
    },
    {
     "name": "stderr",
     "output_type": "stream",
     "text": [
      "\r",
      " 68%|███████████████████████████████████████████████████▍                        | 1048/1550 [1:15:44<35:58,  4.30s/it]"
     ]
    },
    {
     "name": "stdout",
     "output_type": "stream",
     "text": [
      "['Clothing & Accessories', 'Men', 'T-Shirts & Polos', 'T-Shirts']\n",
      "1048\n",
      "https://www.amazon.in/dp/B08JQNNPMD\n"
     ]
    },
    {
     "name": "stderr",
     "output_type": "stream",
     "text": [
      "\r",
      " 68%|███████████████████████████████████████████████████▍                        | 1049/1550 [1:15:48<33:39,  4.03s/it]"
     ]
    },
    {
     "name": "stdout",
     "output_type": "stream",
     "text": [
      "Brand: Jockey\n",
      "['Clothing & Accessories', 'Men', 'T-Shirts & Polos', 'Polos']\n",
      "1049\n",
      "https://www.amazon.in/dp/B08MXWBL2M\n",
      "Visit the Boodbuck Store\n"
     ]
    },
    {
     "name": "stderr",
     "output_type": "stream",
     "text": [
      "\r",
      " 68%|███████████████████████████████████████████████████▍                        | 1050/1550 [1:15:52<33:15,  3.99s/it]"
     ]
    },
    {
     "name": "stdout",
     "output_type": "stream",
     "text": [
      "['Clothing & Accessories', 'Men', 'T-Shirts & Polos', 'T-Shirts']\n",
      "1050\n",
      "https://www.amazon.in/dp/B09WQM3YX9\n",
      "Visit the blackberrys Store\n"
     ]
    },
    {
     "name": "stderr",
     "output_type": "stream",
     "text": [
      "\r",
      " 68%|███████████████████████████████████████████████████▌                        | 1051/1550 [1:15:57<37:44,  4.54s/it]"
     ]
    },
    {
     "name": "stdout",
     "output_type": "stream",
     "text": [
      "['Clothing & Accessories', 'Men', 'T-Shirts & Polos', 'T-Shirts']\n",
      "1051\n",
      "https://www.amazon.in/dp/B0BBFXRDM1\n"
     ]
    },
    {
     "name": "stderr",
     "output_type": "stream",
     "text": [
      "\r",
      " 68%|███████████████████████████████████████████████████▌                        | 1052/1550 [1:16:02<37:06,  4.47s/it]"
     ]
    },
    {
     "name": "stdout",
     "output_type": "stream",
     "text": [
      "Visit the blackberrys Store\n",
      "['Clothing & Accessories', 'Men', 'T-Shirts & Polos', 'T-Shirts']\n",
      "1052\n",
      "https://www.amazon.in/dp/B0BBFXCJSL\n"
     ]
    },
    {
     "name": "stderr",
     "output_type": "stream",
     "text": [
      "\r",
      " 68%|███████████████████████████████████████████████████▋                        | 1053/1550 [1:16:05<35:14,  4.25s/it]"
     ]
    },
    {
     "name": "stdout",
     "output_type": "stream",
     "text": [
      "Visit the blackberrys Store\n",
      "['Clothing & Accessories', 'Men', 'T-Shirts & Polos', 'T-Shirts']\n",
      "1053\n",
      "https://www.amazon.in/dp/B01J3VFCWM\n"
     ]
    },
    {
     "name": "stderr",
     "output_type": "stream",
     "text": [
      "\r",
      " 68%|███████████████████████████████████████████████████▋                        | 1054/1550 [1:16:10<35:22,  4.28s/it]"
     ]
    },
    {
     "name": "stdout",
     "output_type": "stream",
     "text": [
      "Visit the AMERICAN CREW Store\n",
      "['Clothing & Accessories', 'Men', 'T-Shirts & Polos', 'Polos']\n",
      "1054\n",
      "https://www.amazon.in/dp/B07PPHVZYX\n",
      "Brand: ONN\n"
     ]
    },
    {
     "name": "stderr",
     "output_type": "stream",
     "text": [
      "\r",
      " 68%|███████████████████████████████████████████████████▋                        | 1055/1550 [1:16:14<34:51,  4.23s/it]"
     ]
    },
    {
     "name": "stdout",
     "output_type": "stream",
     "text": [
      "['Clothing & Accessories', 'Men', 'T-Shirts & Polos', 'Polos']\n",
      "1055\n",
      "https://www.amazon.in/dp/B07PST6R8T\n",
      "Visit the ONN Store\n"
     ]
    },
    {
     "name": "stderr",
     "output_type": "stream",
     "text": [
      "\r",
      " 68%|███████████████████████████████████████████████████▊                        | 1056/1550 [1:16:18<34:19,  4.17s/it]"
     ]
    },
    {
     "name": "stdout",
     "output_type": "stream",
     "text": [
      "['Clothing & Accessories', 'Men', 'T-Shirts & Polos', 'Polos']\n",
      "1056\n",
      "https://www.amazon.in/dp/B07PNBZGXV\n"
     ]
    },
    {
     "name": "stderr",
     "output_type": "stream",
     "text": [
      "\r",
      " 68%|███████████████████████████████████████████████████▊                        | 1057/1550 [1:16:22<33:40,  4.10s/it]"
     ]
    },
    {
     "name": "stdout",
     "output_type": "stream",
     "text": [
      "Brand: ONN\n",
      "['Clothing & Accessories', 'Men', 'T-Shirts & Polos', 'Polos']\n",
      "1057\n",
      "https://www.amazon.in/dp/B0BS9KFW8X\n"
     ]
    },
    {
     "name": "stderr",
     "output_type": "stream",
     "text": [
      "\r",
      " 68%|███████████████████████████████████████████████████▉                        | 1058/1550 [1:16:26<33:24,  4.08s/it]"
     ]
    },
    {
     "name": "stdout",
     "output_type": "stream",
     "text": [
      "Visit the AMERICAN CREW Store\n",
      "['Clothing & Accessories', 'Men', 'T-Shirts & Polos', 'Polos']\n",
      "1058\n",
      "https://www.amazon.in/dp/B09NNXDXN6\n",
      "Brand: Levi's\n"
     ]
    },
    {
     "name": "stderr",
     "output_type": "stream",
     "text": [
      "\r",
      " 68%|███████████████████████████████████████████████████▉                        | 1059/1550 [1:16:30<32:59,  4.03s/it]"
     ]
    },
    {
     "name": "stdout",
     "output_type": "stream",
     "text": [
      "['Fashion', 'Apparel Steal Deals', 'Apparel_1', 'Men', 'Polos & T-Shirts - Min 50% Off']\n",
      "1059\n",
      "https://www.amazon.in/dp/B07MDG6JJS\n"
     ]
    },
    {
     "name": "stderr",
     "output_type": "stream",
     "text": [
      "\r",
      " 68%|███████████████████████████████████████████████████▉                        | 1060/1550 [1:16:33<31:54,  3.91s/it]"
     ]
    },
    {
     "name": "stdout",
     "output_type": "stream",
     "text": [
      "Brand: Levi's\n",
      "['Clothing & Accessories', 'Men', 'T-Shirts & Polos', 'T-Shirts']\n",
      "1060\n",
      "https://www.amazon.in/dp/B09BG58H1W\n"
     ]
    },
    {
     "name": "stderr",
     "output_type": "stream",
     "text": [
      "\r",
      " 68%|████████████████████████████████████████████████████                        | 1061/1550 [1:16:37<30:42,  3.77s/it]"
     ]
    },
    {
     "name": "stdout",
     "output_type": "stream",
     "text": [
      "Brand: Levi's\n",
      "['Clothing & Accessories', 'Men', 'T-Shirts & Polos', 'T-Shirts']\n",
      "1061\n",
      "https://www.amazon.in/dp/B0C6QSFB2J\n"
     ]
    },
    {
     "name": "stderr",
     "output_type": "stream",
     "text": [
      "\r",
      " 69%|████████████████████████████████████████████████████                        | 1062/1550 [1:16:41<30:32,  3.75s/it]"
     ]
    },
    {
     "name": "stdout",
     "output_type": "stream",
     "text": [
      "Brand: Levi's\n",
      "['Clothing & Accessories', 'Men', 'T-Shirts & Polos', 'T-Shirts']\n",
      "1062\n",
      "https://www.amazon.in/dp/B07XFMDQQ6\n",
      "Brand: Levi's\n"
     ]
    },
    {
     "name": "stderr",
     "output_type": "stream",
     "text": [
      "\r",
      " 69%|████████████████████████████████████████████████████                        | 1063/1550 [1:16:45<31:30,  3.88s/it]"
     ]
    },
    {
     "name": "stdout",
     "output_type": "stream",
     "text": [
      "['Fashion', 'Apparel Steal Deals', 'Apparel_1', 'Men', 'Polos & T-Shirts - Min 50% Off']\n",
      "1063\n",
      "https://www.amazon.in/dp/B0C6QVRYJS\n",
      "Brand: Levi's\n"
     ]
    },
    {
     "name": "stderr",
     "output_type": "stream",
     "text": [
      "\r",
      " 69%|████████████████████████████████████████████████████▏                       | 1064/1550 [1:16:49<31:19,  3.87s/it]"
     ]
    },
    {
     "name": "stdout",
     "output_type": "stream",
     "text": [
      "['Clothing & Accessories', 'Men', 'T-Shirts & Polos', 'T-Shirts']\n",
      "1064\n",
      "https://www.amazon.in/dp/B0C6QWH5JJ\n"
     ]
    },
    {
     "name": "stderr",
     "output_type": "stream",
     "text": [
      "\r",
      " 69%|████████████████████████████████████████████████████▏                       | 1065/1550 [1:16:52<31:05,  3.85s/it]"
     ]
    },
    {
     "name": "stdout",
     "output_type": "stream",
     "text": [
      "Brand: Levi's\n",
      "['Clothing & Accessories', 'Men', 'T-Shirts & Polos', 'Polos']\n",
      "1065\n",
      "https://www.amazon.in/dp/B0C6QXD8CN\n",
      "Brand: Levi's\n"
     ]
    },
    {
     "name": "stderr",
     "output_type": "stream",
     "text": [
      "\r",
      " 69%|████████████████████████████████████████████████████▎                       | 1066/1550 [1:16:56<30:00,  3.72s/it]"
     ]
    },
    {
     "name": "stdout",
     "output_type": "stream",
     "text": [
      "['Clothing & Accessories', 'Men', 'T-Shirts & Polos', 'T-Shirts']\n",
      "1066\n",
      "https://www.amazon.in/dp/B09712G53R\n",
      "Brand: Levi's\n"
     ]
    },
    {
     "name": "stderr",
     "output_type": "stream",
     "text": [
      "\r",
      " 69%|████████████████████████████████████████████████████▎                       | 1067/1550 [1:17:00<30:40,  3.81s/it]"
     ]
    },
    {
     "name": "stdout",
     "output_type": "stream",
     "text": [
      "['Fashion', 'Apparel Steal Deals', 'Apparel_1', 'Men', 'Polos & T-Shirts - Min 50% Off']\n",
      "1067\n",
      "https://www.amazon.in/dp/B09RSZ2VQG\n"
     ]
    },
    {
     "name": "stderr",
     "output_type": "stream",
     "text": [
      "\r",
      " 69%|████████████████████████████████████████████████████▎                       | 1068/1550 [1:17:04<31:25,  3.91s/it]"
     ]
    },
    {
     "name": "stdout",
     "output_type": "stream",
     "text": [
      "Brand: Levi's\n",
      "['Clothing & Accessories', 'Men', 'T-Shirts & Polos', 'T-Shirts']\n",
      "1068\n",
      "https://www.amazon.in/dp/B0C6QSTT8J\n"
     ]
    },
    {
     "name": "stderr",
     "output_type": "stream",
     "text": [
      "\r",
      " 69%|████████████████████████████████████████████████████▍                       | 1069/1550 [1:17:08<31:02,  3.87s/it]"
     ]
    },
    {
     "name": "stdout",
     "output_type": "stream",
     "text": [
      "Brand: Levi's\n",
      "['Clothing & Accessories', 'Men', 'T-Shirts & Polos', 'T-Shirts']\n",
      "1069\n",
      "https://www.amazon.in/dp/B0C6QVVYP7\n"
     ]
    },
    {
     "name": "stderr",
     "output_type": "stream",
     "text": [
      "\r",
      " 69%|████████████████████████████████████████████████████▍                       | 1070/1550 [1:17:11<30:32,  3.82s/it]"
     ]
    },
    {
     "name": "stdout",
     "output_type": "stream",
     "text": [
      "Brand: Levi's\n",
      "['Clothing & Accessories', 'Men', 'T-Shirts & Polos', 'T-Shirts']\n",
      "1070\n",
      "https://www.amazon.in/dp/B09BFT9TN6\n",
      "Brand: Levi's\n"
     ]
    },
    {
     "name": "stderr",
     "output_type": "stream",
     "text": [
      "\r",
      " 69%|████████████████████████████████████████████████████▌                       | 1071/1550 [1:17:16<31:20,  3.93s/it]"
     ]
    },
    {
     "name": "stdout",
     "output_type": "stream",
     "text": [
      "['Fashion', 'Apparel Steal Deals', 'Apparel_1', 'Men', 'Polos & T-Shirts - Min 50% Off']\n",
      "1071\n",
      "https://www.amazon.in/dp/B09RSCJDZN\n",
      "Brand: Levi's\n"
     ]
    },
    {
     "name": "stderr",
     "output_type": "stream",
     "text": [
      "\r",
      " 69%|████████████████████████████████████████████████████▌                       | 1072/1550 [1:17:20<31:40,  3.98s/it]"
     ]
    },
    {
     "name": "stdout",
     "output_type": "stream",
     "text": [
      "['Fashion', 'Apparel Steal Deals', 'Apparel_1', 'Men', 'Polos & T-Shirts - Min 50% Off']\n",
      "1072\n",
      "https://www.amazon.in/dp/B09RSW5Z4D\n",
      "Brand: Levi's\n"
     ]
    },
    {
     "name": "stderr",
     "output_type": "stream",
     "text": [
      "\r",
      " 69%|████████████████████████████████████████████████████▌                       | 1073/1550 [1:17:24<32:00,  4.03s/it]"
     ]
    },
    {
     "name": "stdout",
     "output_type": "stream",
     "text": [
      "['Fashion', 'Apparel Steal Deals', 'Apparel_1', 'Men', 'Polos & T-Shirts - Min 50% Off']\n",
      "1073\n",
      "https://www.amazon.in/dp/B09RSWFNLS\n",
      "Brand: Levi's\n"
     ]
    },
    {
     "name": "stderr",
     "output_type": "stream",
     "text": [
      "\r",
      " 69%|████████████████████████████████████████████████████▋                       | 1074/1550 [1:17:27<30:52,  3.89s/it]"
     ]
    },
    {
     "name": "stdout",
     "output_type": "stream",
     "text": [
      "['Fashion', 'Apparel Steal Deals', 'Apparel_1', 'Men', 'Polos & T-Shirts - Min 50% Off']\n",
      "1074\n",
      "https://www.amazon.in/dp/B09BFXNQSR\n",
      "Brand: Levi's\n"
     ]
    },
    {
     "name": "stderr",
     "output_type": "stream",
     "text": [
      "\r",
      " 69%|████████████████████████████████████████████████████▋                       | 1075/1550 [1:17:31<31:04,  3.92s/it]"
     ]
    },
    {
     "name": "stdout",
     "output_type": "stream",
     "text": [
      "['Fashion', 'Apparel Steal Deals', 'Apparel_1', 'Men', 'Polos & T-Shirts - Min 50% Off']\n",
      "1075\n",
      "https://www.amazon.in/dp/B0C6QWR58K\n"
     ]
    },
    {
     "name": "stderr",
     "output_type": "stream",
     "text": [
      "\r",
      " 69%|████████████████████████████████████████████████████▊                       | 1076/1550 [1:17:36<31:31,  3.99s/it]"
     ]
    },
    {
     "name": "stdout",
     "output_type": "stream",
     "text": [
      "Brand: Levi's\n",
      "['Clothing & Accessories', 'Men', 'T-Shirts & Polos', 'T-Shirts']\n",
      "1076\n",
      "https://www.amazon.in/dp/B09RSTB1FQ\n",
      "Brand: Levi's\n"
     ]
    },
    {
     "name": "stderr",
     "output_type": "stream",
     "text": [
      "\r",
      " 69%|████████████████████████████████████████████████████▊                       | 1077/1550 [1:17:40<31:40,  4.02s/it]"
     ]
    },
    {
     "name": "stdout",
     "output_type": "stream",
     "text": [
      "['Fashion', 'Apparel Steal Deals', 'Apparel_1', 'Men', 'Polos & T-Shirts - Min 50% Off']\n",
      "1077\n",
      "https://www.amazon.in/dp/B09RSG8V2B\n"
     ]
    },
    {
     "name": "stderr",
     "output_type": "stream",
     "text": [
      "\r",
      " 70%|████████████████████████████████████████████████████▊                       | 1078/1550 [1:17:43<30:49,  3.92s/it]"
     ]
    },
    {
     "name": "stdout",
     "output_type": "stream",
     "text": [
      "Brand: Levi's\n",
      "['Fashion', 'Apparel Steal Deals', 'Apparel_1', 'Men', 'Polos & T-Shirts - Min 50% Off']\n",
      "1078\n",
      "https://www.amazon.in/dp/B0BJZBNJMJ\n",
      "Brand: Levi's\n"
     ]
    },
    {
     "name": "stderr",
     "output_type": "stream",
     "text": [
      "\r",
      " 70%|████████████████████████████████████████████████████▉                       | 1079/1550 [1:17:47<30:54,  3.94s/it]"
     ]
    },
    {
     "name": "stdout",
     "output_type": "stream",
     "text": [
      "['Clothing & Accessories', 'Men', 'T-Shirts & Polos', 'T-Shirts']\n",
      "1079\n",
      "https://www.amazon.in/dp/B09RSH7C4T\n",
      "Brand: Levi's\n"
     ]
    },
    {
     "name": "stderr",
     "output_type": "stream",
     "text": [
      "\r",
      " 70%|████████████████████████████████████████████████████▉                       | 1080/1550 [1:17:51<30:48,  3.93s/it]"
     ]
    },
    {
     "name": "stdout",
     "output_type": "stream",
     "text": [
      "['Fashion', 'Apparel Steal Deals', 'Apparel_1', 'Men', 'Polos & T-Shirts - Min 50% Off']\n",
      "1080\n",
      "https://www.amazon.in/dp/B09RT37WT9\n"
     ]
    },
    {
     "name": "stderr",
     "output_type": "stream",
     "text": [
      "\r",
      " 70%|█████████████████████████████████████████████████████                       | 1081/1550 [1:17:55<30:17,  3.87s/it]"
     ]
    },
    {
     "name": "stdout",
     "output_type": "stream",
     "text": [
      "Brand: Levi's\n",
      "['Clothing & Accessories', 'Men', 'T-Shirts & Polos', 'T-Shirts']\n",
      "1081\n",
      "https://www.amazon.in/dp/B07SJ8ZP6Y\n"
     ]
    },
    {
     "name": "stderr",
     "output_type": "stream",
     "text": [
      "\r",
      " 70%|█████████████████████████████████████████████████████                       | 1082/1550 [1:17:59<29:26,  3.77s/it]"
     ]
    },
    {
     "name": "stdout",
     "output_type": "stream",
     "text": [
      "Brand: Levi's\n",
      "['Clothing & Accessories', 'Men', 'T-Shirts & Polos', 'T-Shirts']\n",
      "1082\n",
      "https://www.amazon.in/dp/B075JCW862\n"
     ]
    },
    {
     "name": "stderr",
     "output_type": "stream",
     "text": [
      "\r",
      " 70%|█████████████████████████████████████████████████████                       | 1083/1550 [1:18:03<30:01,  3.86s/it]"
     ]
    },
    {
     "name": "stdout",
     "output_type": "stream",
     "text": [
      "Visit the AMERICAN CREW Store\n",
      "['Fashion', 'The Plus Size Store', 'BBD', 'Steal deals- men', 'American crew']\n",
      "1083\n",
      "https://www.amazon.in/dp/B0C1RYVXLH\n"
     ]
    },
    {
     "name": "stderr",
     "output_type": "stream",
     "text": [
      "\r",
      " 70%|█████████████████████████████████████████████████████▏                      | 1084/1550 [1:18:06<28:58,  3.73s/it]"
     ]
    },
    {
     "name": "stdout",
     "output_type": "stream",
     "text": [
      "Brand: Peter England\n",
      "['Clothing & Accessories', 'Men', 'T-Shirts & Polos', 'Polos']\n",
      "1084\n",
      "https://www.amazon.in/dp/B0BPJPVY4K\n"
     ]
    },
    {
     "name": "stderr",
     "output_type": "stream",
     "text": [
      "\r",
      " 70%|█████████████████████████████████████████████████████▏                      | 1085/1550 [1:18:10<29:23,  3.79s/it]"
     ]
    },
    {
     "name": "stdout",
     "output_type": "stream",
     "text": [
      "Brand: Peter England\n",
      "['Clothing & Accessories', 'Men', 'T-Shirts & Polos', 'Polos']\n",
      "1085\n",
      "https://www.amazon.in/dp/B0BL839443\n",
      "Brand: Peter England\n"
     ]
    },
    {
     "name": "stderr",
     "output_type": "stream",
     "text": [
      "\r",
      " 70%|█████████████████████████████████████████████████████▏                      | 1086/1550 [1:18:13<28:33,  3.69s/it]"
     ]
    },
    {
     "name": "stdout",
     "output_type": "stream",
     "text": [
      "['Clothing & Accessories', 'Men', 'T-Shirts & Polos', 'Polos']\n",
      "1086\n",
      "https://www.amazon.in/dp/B0BSX991WL\n",
      "Brand: Peter England\n",
      "['Clothing & Accessories', 'Men', 'T-Shirts & Polos', 'T-Shirts']\n"
     ]
    },
    {
     "name": "stderr",
     "output_type": "stream",
     "text": [
      "\r",
      " 70%|█████████████████████████████████████████████████████▎                      | 1087/1550 [1:18:18<29:35,  3.84s/it]"
     ]
    },
    {
     "name": "stdout",
     "output_type": "stream",
     "text": [
      "1087\n",
      "https://www.amazon.in/dp/B09QQ16J1H\n"
     ]
    },
    {
     "name": "stderr",
     "output_type": "stream",
     "text": [
      "\r",
      " 70%|█████████████████████████████████████████████████████▎                      | 1088/1550 [1:18:21<29:20,  3.81s/it]"
     ]
    },
    {
     "name": "stdout",
     "output_type": "stream",
     "text": [
      "Brand: Peter England\n",
      "['Fashion', 'Apparel Steal Deals', 'Apparel_1', 'Men', 'T-shirts under 499']\n",
      "1088\n",
      "https://www.amazon.in/dp/B0C85ZMLWY\n"
     ]
    },
    {
     "name": "stderr",
     "output_type": "stream",
     "text": [
      "\r",
      " 70%|█████████████████████████████████████████████████████▍                      | 1089/1550 [1:18:25<28:45,  3.74s/it]"
     ]
    },
    {
     "name": "stdout",
     "output_type": "stream",
     "text": [
      "Brand: Peter England\n",
      "['Clothing & Accessories', 'Men', 'T-Shirts & Polos', 'T-Shirts']\n",
      "1089\n",
      "https://www.amazon.in/dp/B09QQ38J5M\n",
      "Brand: Peter England\n"
     ]
    },
    {
     "name": "stderr",
     "output_type": "stream",
     "text": [
      "\r",
      " 70%|█████████████████████████████████████████████████████▍                      | 1090/1550 [1:18:30<31:41,  4.13s/it]"
     ]
    },
    {
     "name": "stdout",
     "output_type": "stream",
     "text": [
      "['Fashion', 'Apparel Steal Deals', 'Apparel_1', 'Men', 'T-shirts under 499']\n",
      "1090\n",
      "https://www.amazon.in/dp/B097S43W7X\n",
      "Brand: Peter England\n"
     ]
    },
    {
     "name": "stderr",
     "output_type": "stream",
     "text": [
      "\r",
      " 70%|█████████████████████████████████████████████████████▍                      | 1091/1550 [1:18:34<30:26,  3.98s/it]"
     ]
    },
    {
     "name": "stdout",
     "output_type": "stream",
     "text": [
      "['Fashion', 'Apparel Steal Deals', 'Apparel_1', 'Men', 'T-shirts under 499']\n",
      "1091\n",
      "https://www.amazon.in/dp/B09QQ2RRNG\n",
      "Brand: Peter England\n"
     ]
    },
    {
     "name": "stderr",
     "output_type": "stream",
     "text": [
      "\r",
      " 70%|█████████████████████████████████████████████████████▌                      | 1092/1550 [1:18:37<30:06,  3.94s/it]"
     ]
    },
    {
     "name": "stdout",
     "output_type": "stream",
     "text": [
      "['Fashion', 'Apparel Steal Deals', 'Apparel_1', 'Men', \"Men's Apparel Deals\"]\n",
      "1092\n",
      "https://www.amazon.in/dp/B0C861H7QN\n"
     ]
    },
    {
     "name": "stderr",
     "output_type": "stream",
     "text": [
      "\r",
      " 71%|█████████████████████████████████████████████████████▌                      | 1093/1550 [1:18:41<28:35,  3.75s/it]"
     ]
    },
    {
     "name": "stdout",
     "output_type": "stream",
     "text": [
      "Brand: Peter England\n",
      "['Clothing & Accessories', 'Men', 'T-Shirts & Polos', 'T-Shirts']\n",
      "1093\n",
      "https://www.amazon.in/dp/B09QPM27ZR\n"
     ]
    },
    {
     "name": "stderr",
     "output_type": "stream",
     "text": [
      "\r",
      " 71%|█████████████████████████████████████████████████████▋                      | 1094/1550 [1:18:45<29:22,  3.86s/it]"
     ]
    },
    {
     "name": "stdout",
     "output_type": "stream",
     "text": [
      "Brand: Peter England\n",
      "['Clothing & Accessories', 'Men', 'T-Shirts & Polos', 'Polos']\n",
      "1094\n",
      "https://www.amazon.in/dp/B0C862H2FN\n",
      "Brand: Peter England\n"
     ]
    },
    {
     "name": "stderr",
     "output_type": "stream",
     "text": [
      "\r",
      " 71%|█████████████████████████████████████████████████████▋                      | 1095/1550 [1:18:49<29:34,  3.90s/it]"
     ]
    },
    {
     "name": "stdout",
     "output_type": "stream",
     "text": [
      "['Clothing & Accessories', 'Men', 'T-Shirts & Polos', 'T-Shirts']\n",
      "1095\n",
      "https://www.amazon.in/dp/B09QPLXDD3\n",
      "Brand: Peter England\n"
     ]
    },
    {
     "name": "stderr",
     "output_type": "stream",
     "text": [
      "\r",
      " 71%|█████████████████████████████████████████████████████▋                      | 1096/1550 [1:18:53<29:43,  3.93s/it]"
     ]
    },
    {
     "name": "stdout",
     "output_type": "stream",
     "text": [
      "['Fashion', 'Apparel Steal Deals', 'Apparel_1', 'Men', 'Polos & T-Shirts - Min 50% Off']\n",
      "1096\n",
      "https://www.amazon.in/dp/B09QQ23694\n",
      "Brand: Peter England\n"
     ]
    },
    {
     "name": "stderr",
     "output_type": "stream",
     "text": [
      "\r",
      " 71%|█████████████████████████████████████████████████████▊                      | 1097/1550 [1:18:57<30:51,  4.09s/it]"
     ]
    },
    {
     "name": "stdout",
     "output_type": "stream",
     "text": [
      "['Fashion', 'Apparel Steal Deals', 'Apparel_1', 'Men', \"Men's Apparel Deals\"]\n",
      "1097\n",
      "https://www.amazon.in/dp/B0C27SY6B3\n"
     ]
    },
    {
     "name": "stderr",
     "output_type": "stream",
     "text": [
      "\r",
      " 71%|█████████████████████████████████████████████████████▊                      | 1098/1550 [1:19:01<30:02,  3.99s/it]"
     ]
    },
    {
     "name": "stdout",
     "output_type": "stream",
     "text": [
      "Brand: Peter England\n",
      "['Clothing & Accessories', 'Men', 'Shirts', 'Casual Shirts']\n",
      "1098\n",
      "https://www.amazon.in/dp/B0C27VV4ZN\n",
      "Brand: Peter England\n"
     ]
    },
    {
     "name": "stderr",
     "output_type": "stream",
     "text": [
      "\r",
      " 71%|█████████████████████████████████████████████████████▉                      | 1099/1550 [1:19:05<29:27,  3.92s/it]"
     ]
    },
    {
     "name": "stdout",
     "output_type": "stream",
     "text": [
      "['Clothing & Accessories', 'Men', 'Shirts', 'Casual Shirts']\n",
      "1099\n",
      "https://www.amazon.in/dp/B08WYXGZ2G\n",
      "Brand: Peter England\n"
     ]
    },
    {
     "name": "stderr",
     "output_type": "stream",
     "text": [
      "\r",
      " 71%|█████████████████████████████████████████████████████▉                      | 1100/1550 [1:19:09<30:27,  4.06s/it]"
     ]
    },
    {
     "name": "stdout",
     "output_type": "stream",
     "text": [
      "['Clothing & Accessories', 'Men', 'T-Shirts & Polos', 'T-Shirts']\n",
      "1100\n",
      "https://www.amazon.in/dp/B09QPZV8B4\n",
      "Brand: Peter England\n"
     ]
    },
    {
     "name": "stderr",
     "output_type": "stream",
     "text": [
      "\r",
      " 71%|█████████████████████████████████████████████████████▉                      | 1101/1550 [1:19:14<30:59,  4.14s/it]"
     ]
    },
    {
     "name": "stdout",
     "output_type": "stream",
     "text": [
      "['Clothing & Accessories', 'Men', 'T-Shirts & Polos', 'T-Shirts']\n",
      "1101\n",
      "https://www.amazon.in/dp/B0C862Q44X\n",
      "Brand: Peter England\n"
     ]
    },
    {
     "name": "stderr",
     "output_type": "stream",
     "text": [
      "\r",
      " 71%|██████████████████████████████████████████████████████                      | 1102/1550 [1:19:18<30:34,  4.09s/it]"
     ]
    },
    {
     "name": "stdout",
     "output_type": "stream",
     "text": [
      "['Clothing & Accessories', 'Men', 'T-Shirts & Polos', 'T-Shirts']\n",
      "1102\n",
      "https://www.amazon.in/dp/B0BKQ7H5T8\n"
     ]
    },
    {
     "name": "stderr",
     "output_type": "stream",
     "text": [
      "\r",
      " 71%|██████████████████████████████████████████████████████                      | 1103/1550 [1:19:21<30:01,  4.03s/it]"
     ]
    },
    {
     "name": "stdout",
     "output_type": "stream",
     "text": [
      "Brand: Peter England\n",
      "['Clothing & Accessories', 'Men', 'Shirts', 'Casual Shirts']\n",
      "1103\n",
      "https://www.amazon.in/dp/B09QPXJRTT\n"
     ]
    },
    {
     "name": "stderr",
     "output_type": "stream",
     "text": [
      "\r",
      " 71%|██████████████████████████████████████████████████████▏                     | 1104/1550 [1:19:26<30:34,  4.11s/it]"
     ]
    },
    {
     "name": "stdout",
     "output_type": "stream",
     "text": [
      "Brand: Peter England\n",
      "['Fashion', 'Apparel Steal Deals', 'Apparel_1', 'Men', \"Men's Apparel Deals\"]\n",
      "1104\n",
      "https://www.amazon.in/dp/B09QQ2WXCM\n",
      "Brand: Peter England\n"
     ]
    },
    {
     "name": "stderr",
     "output_type": "stream",
     "text": [
      "\r",
      " 71%|██████████████████████████████████████████████████████▏                     | 1105/1550 [1:19:30<31:43,  4.28s/it]"
     ]
    },
    {
     "name": "stdout",
     "output_type": "stream",
     "text": [
      "['Fashion', 'Apparel Steal Deals', 'Apparel_1', 'Men', \"Men's Apparel Deals\"]\n",
      "1105\n",
      "https://www.amazon.in/dp/B09QPX6H2S\n"
     ]
    },
    {
     "name": "stderr",
     "output_type": "stream",
     "text": [
      "\r",
      " 71%|██████████████████████████████████████████████████████▏                     | 1106/1550 [1:19:34<30:18,  4.10s/it]"
     ]
    },
    {
     "name": "stdout",
     "output_type": "stream",
     "text": [
      "Brand: Peter England\n",
      "['Clothing & Accessories', 'Men', 'T-Shirts & Polos', 'Polos']\n",
      "1106\n",
      "https://www.amazon.in/dp/B0C864PDW9\n"
     ]
    },
    {
     "name": "stderr",
     "output_type": "stream",
     "text": [
      "\r",
      " 71%|██████████████████████████████████████████████████████▎                     | 1107/1550 [1:19:38<29:00,  3.93s/it]"
     ]
    },
    {
     "name": "stdout",
     "output_type": "stream",
     "text": [
      "Brand: Peter England\n",
      "['Clothing & Accessories', 'Men', 'T-Shirts & Polos', 'T-Shirts']\n",
      "1107\n",
      "https://www.amazon.in/dp/B09QPR67GT\n",
      "Brand: Peter England\n"
     ]
    },
    {
     "name": "stderr",
     "output_type": "stream",
     "text": [
      "\r",
      " 71%|██████████████████████████████████████████████████████▎                     | 1108/1550 [1:19:42<29:59,  4.07s/it]"
     ]
    },
    {
     "name": "stdout",
     "output_type": "stream",
     "text": [
      "['Fashion', 'Apparel Steal Deals', 'Apparel_1', 'Men', 'Polo T-shirts starting 399']\n",
      "1108\n",
      "https://www.amazon.in/dp/B09QPYQNQ1\n",
      "Brand: Peter England\n"
     ]
    },
    {
     "name": "stderr",
     "output_type": "stream",
     "text": [
      "\r",
      " 72%|██████████████████████████████████████████████████████▍                     | 1109/1550 [1:19:47<31:44,  4.32s/it]"
     ]
    },
    {
     "name": "stdout",
     "output_type": "stream",
     "text": [
      "['Fashion', 'Apparel Steal Deals', 'Apparel_1', 'Men', 'T-shirts under 499']\n",
      "1109\n",
      "https://www.amazon.in/dp/B0BHZCCB1J\n"
     ]
    },
    {
     "name": "stderr",
     "output_type": "stream",
     "text": [
      "\r",
      " 72%|██████████████████████████████████████████████████████▍                     | 1110/1550 [1:19:51<30:22,  4.14s/it]"
     ]
    },
    {
     "name": "stdout",
     "output_type": "stream",
     "text": [
      "Brand: Peter England\n",
      "['Clothing & Accessories', 'Men', 'T-Shirts & Polos', 'Polos']\n",
      "1110\n",
      "https://www.amazon.in/dp/B0C86435J4\n",
      "Brand: Peter England\n"
     ]
    },
    {
     "name": "stderr",
     "output_type": "stream",
     "text": [
      "\r",
      " 72%|██████████████████████████████████████████████████████▍                     | 1111/1550 [1:19:54<29:27,  4.03s/it]"
     ]
    },
    {
     "name": "stdout",
     "output_type": "stream",
     "text": [
      "['Clothing & Accessories', 'Men', 'T-Shirts & Polos', 'T-Shirts']\n",
      "1111\n",
      "https://www.amazon.in/dp/B09QPW7TTT\n",
      "Brand: Peter England\n"
     ]
    },
    {
     "name": "stderr",
     "output_type": "stream",
     "text": [
      "\r",
      " 72%|██████████████████████████████████████████████████████▌                     | 1112/1550 [1:19:59<29:34,  4.05s/it]"
     ]
    },
    {
     "name": "stdout",
     "output_type": "stream",
     "text": [
      "['Clothing & Accessories', 'Men', 'T-Shirts & Polos', 'T-Shirts']\n",
      "1112\n",
      "https://www.amazon.in/dp/B0CB17N8C7\n",
      "Visit the AUSK Store\n",
      "['Clothing & Accessories', 'Men', 'T-Shirts & Polos', 'T-Shirts']\n"
     ]
    },
    {
     "name": "stderr",
     "output_type": "stream",
     "text": [
      "\r",
      " 72%|██████████████████████████████████████████████████████▌                     | 1113/1550 [1:20:02<29:01,  3.99s/it]"
     ]
    },
    {
     "name": "stdout",
     "output_type": "stream",
     "text": [
      "1113\n",
      "https://www.amazon.in/dp/B09SP6LKJR\n",
      "Visit the LEOTUDE Store\n"
     ]
    },
    {
     "name": "stderr",
     "output_type": "stream",
     "text": [
      "\r",
      " 72%|██████████████████████████████████████████████████████▌                     | 1114/1550 [1:20:06<28:48,  3.96s/it]"
     ]
    },
    {
     "name": "stdout",
     "output_type": "stream",
     "text": [
      "['Clothing & Accessories', 'Men', 'T-Shirts & Polos', 'T-Shirts']\n",
      "1114\n",
      "https://www.amazon.in/dp/B0C3V3T6G9\n"
     ]
    },
    {
     "name": "stderr",
     "output_type": "stream",
     "text": [
      "\r",
      " 72%|██████████████████████████████████████████████████████▋                     | 1115/1550 [1:20:10<27:41,  3.82s/it]"
     ]
    },
    {
     "name": "stdout",
     "output_type": "stream",
     "text": [
      "Visit the EYEBOGLER Store\n",
      "['Fashion', 'Apparel - Buy more save more', 'Buy 2 Get 5% Off, Buy 3 Get 10% Off', \"Men's Apparel\"]\n",
      "1115\n",
      "https://www.amazon.in/dp/B09QHSHPN4\n",
      "Visit the LEOTUDE Store\n"
     ]
    },
    {
     "name": "stderr",
     "output_type": "stream",
     "text": [
      "\r",
      " 72%|██████████████████████████████████████████████████████▋                     | 1116/1550 [1:20:13<27:19,  3.78s/it]"
     ]
    },
    {
     "name": "stdout",
     "output_type": "stream",
     "text": [
      "['Fashion', 'The Plus Size Store', 'aug art- clothing ingress', 'new', 'men']\n",
      "1116\n",
      "https://www.amazon.in/dp/B0BNJ5ZTMV\n"
     ]
    },
    {
     "name": "stderr",
     "output_type": "stream",
     "text": [
      "\r",
      " 72%|██████████████████████████████████████████████████████▊                     | 1117/1550 [1:20:18<28:13,  3.91s/it]"
     ]
    },
    {
     "name": "stdout",
     "output_type": "stream",
     "text": [
      "Visit the LEOTUDE Store\n",
      "['Clothing & Accessories', 'Men', 'T-Shirts & Polos', 'Polos']\n",
      "1117\n",
      "https://www.amazon.in/dp/B089B3FZKZ\n",
      "Visit the EYEBOGLER Store\n"
     ]
    },
    {
     "name": "stderr",
     "output_type": "stream",
     "text": [
      "\r",
      " 72%|██████████████████████████████████████████████████████▊                     | 1118/1550 [1:20:21<27:38,  3.84s/it]"
     ]
    },
    {
     "name": "stdout",
     "output_type": "stream",
     "text": [
      "['Fashion', 'Apparel Steal Deals', 'Apparel_1', 'Men', \"Men's fashion starting 199\"]\n",
      "1118\n",
      "https://www.amazon.in/dp/B09CP13HD7\n",
      "Visit the RodZen Store\n"
     ]
    },
    {
     "name": "stderr",
     "output_type": "stream",
     "text": [
      "\r",
      " 72%|██████████████████████████████████████████████████████▊                     | 1119/1550 [1:20:26<28:26,  3.96s/it]"
     ]
    },
    {
     "name": "stdout",
     "output_type": "stream",
     "text": [
      "['Clothing & Accessories', 'Men', 'T-Shirts & Polos', 'T-Shirts']\n",
      "1119\n",
      "https://www.amazon.in/dp/B0CBVGPNFX\n",
      "Visit the Lymio Store\n"
     ]
    },
    {
     "name": "stderr",
     "output_type": "stream",
     "text": [
      "\r",
      " 72%|██████████████████████████████████████████████████████▉                     | 1120/1550 [1:20:29<27:25,  3.83s/it]"
     ]
    },
    {
     "name": "stdout",
     "output_type": "stream",
     "text": [
      "['Clothing & Accessories', 'Men', 'T-Shirts & Polos', 'T-Shirts']\n",
      "1120\n",
      "https://www.amazon.in/dp/B0C7ZN1STL\n",
      "Brand: Allen Solly\n",
      "['Clothing & Accessories', 'Men', 'T-Shirts & Polos', 'T-Shirts']\n"
     ]
    },
    {
     "name": "stderr",
     "output_type": "stream",
     "text": [
      "\r",
      " 72%|██████████████████████████████████████████████████████▉                     | 1121/1550 [1:20:33<27:33,  3.85s/it]"
     ]
    },
    {
     "name": "stdout",
     "output_type": "stream",
     "text": [
      "1121\n",
      "https://www.amazon.in/dp/B0C7ZMK2H9\n"
     ]
    },
    {
     "name": "stderr",
     "output_type": "stream",
     "text": [
      "\r",
      " 72%|███████████████████████████████████████████████████████                     | 1122/1550 [1:20:37<26:43,  3.75s/it]"
     ]
    },
    {
     "name": "stdout",
     "output_type": "stream",
     "text": [
      "Brand: Allen Solly\n",
      "['Clothing & Accessories', 'Men', 'T-Shirts & Polos', 'T-Shirts']\n",
      "1122\n",
      "https://www.amazon.in/dp/B09TDF59BT\n",
      "Brand: Allen Solly\n"
     ]
    },
    {
     "name": "stderr",
     "output_type": "stream",
     "text": [
      "\r",
      " 72%|███████████████████████████████████████████████████████                     | 1123/1550 [1:20:41<27:11,  3.82s/it]"
     ]
    },
    {
     "name": "stdout",
     "output_type": "stream",
     "text": [
      "['Clothing & Accessories', 'Men', 'T-Shirts & Polos', 'T-Shirts']\n",
      "1123\n",
      "https://www.amazon.in/dp/B09VT7XL95\n",
      "Brand: Allen Solly\n"
     ]
    },
    {
     "name": "stderr",
     "output_type": "stream",
     "text": [
      "\r",
      " 73%|███████████████████████████████████████████████████████                     | 1124/1550 [1:20:45<28:03,  3.95s/it]"
     ]
    },
    {
     "name": "stdout",
     "output_type": "stream",
     "text": [
      "['Fashion', 'Apparel Steal Deals', 'Apparel_1', 'Men', 'Polos & T-Shirts - Min 50% Off']\n",
      "1124\n",
      "https://www.amazon.in/dp/B0C7ZMF3JV\n"
     ]
    },
    {
     "name": "stderr",
     "output_type": "stream",
     "text": [
      "\r",
      " 73%|███████████████████████████████████████████████████████▏                    | 1125/1550 [1:20:48<27:05,  3.83s/it]"
     ]
    },
    {
     "name": "stdout",
     "output_type": "stream",
     "text": [
      "Brand: Allen Solly\n",
      "['Clothing & Accessories', 'Men', 'T-Shirts & Polos', 'T-Shirts']\n",
      "1125\n",
      "https://www.amazon.in/dp/B0C7ZKMMWN\n"
     ]
    },
    {
     "name": "stderr",
     "output_type": "stream",
     "text": [
      "\r",
      " 73%|███████████████████████████████████████████████████████▏                    | 1126/1550 [1:20:52<26:19,  3.73s/it]"
     ]
    },
    {
     "name": "stdout",
     "output_type": "stream",
     "text": [
      "Brand: Allen Solly\n",
      "['Clothing & Accessories', 'Men', 'T-Shirts & Polos', 'T-Shirts']\n",
      "1126\n",
      "https://www.amazon.in/dp/B0C7ZLD5C2\n"
     ]
    },
    {
     "name": "stderr",
     "output_type": "stream",
     "text": [
      "\r",
      " 73%|███████████████████████████████████████████████████████▎                    | 1127/1550 [1:20:55<25:36,  3.63s/it]"
     ]
    },
    {
     "name": "stdout",
     "output_type": "stream",
     "text": [
      "Brand: Allen Solly\n",
      "['Clothing & Accessories', 'Men', 'T-Shirts & Polos', 'T-Shirts']\n",
      "1127\n",
      "https://www.amazon.in/dp/B0C7ZPJP9Z\n"
     ]
    },
    {
     "name": "stderr",
     "output_type": "stream",
     "text": [
      "\r",
      " 73%|███████████████████████████████████████████████████████▎                    | 1128/1550 [1:20:59<25:28,  3.62s/it]"
     ]
    },
    {
     "name": "stdout",
     "output_type": "stream",
     "text": [
      "Brand: Allen Solly\n",
      "['Clothing & Accessories', 'Men', 'T-Shirts & Polos', 'T-Shirts']\n",
      "1128\n",
      "https://www.amazon.in/dp/B0C7ZP598H\n"
     ]
    },
    {
     "name": "stderr",
     "output_type": "stream",
     "text": [
      "\r",
      " 73%|███████████████████████████████████████████████████████▎                    | 1129/1550 [1:21:03<25:38,  3.65s/it]"
     ]
    },
    {
     "name": "stdout",
     "output_type": "stream",
     "text": [
      "Brand: Allen Solly\n",
      "['Clothing & Accessories', 'Men', 'T-Shirts & Polos', 'T-Shirts']\n",
      "1129\n",
      "https://www.amazon.in/dp/B0BBSBFBZJ\n",
      "Brand: Allen Solly\n"
     ]
    },
    {
     "name": "stderr",
     "output_type": "stream",
     "text": [
      "\r",
      " 73%|███████████████████████████████████████████████████████▍                    | 1130/1550 [1:21:07<27:03,  3.87s/it]"
     ]
    },
    {
     "name": "stdout",
     "output_type": "stream",
     "text": [
      "['Clothing & Accessories', 'Men', 'T-Shirts & Polos', 'Polos']\n",
      "1130\n",
      "https://www.amazon.in/dp/B0CBMFHWY1\n"
     ]
    },
    {
     "name": "stderr",
     "output_type": "stream",
     "text": [
      "\r",
      " 73%|███████████████████████████████████████████████████████▍                    | 1131/1550 [1:21:11<26:33,  3.80s/it]"
     ]
    },
    {
     "name": "stdout",
     "output_type": "stream",
     "text": [
      "Brand: Allen Solly\n",
      "['Clothing & Accessories', 'Men', 'T-Shirts & Polos', 'Polos']\n",
      "1131\n",
      "https://www.amazon.in/dp/B0C7ZP7CKH\n"
     ]
    },
    {
     "name": "stderr",
     "output_type": "stream",
     "text": [
      "\r",
      " 73%|███████████████████████████████████████████████████████▌                    | 1132/1550 [1:21:14<25:34,  3.67s/it]"
     ]
    },
    {
     "name": "stdout",
     "output_type": "stream",
     "text": [
      "Brand: Allen Solly\n",
      "['Clothing & Accessories', 'Men', 'T-Shirts & Polos', 'T-Shirts']\n",
      "1132\n",
      "https://www.amazon.in/dp/B0CBMDJ63L\n",
      "Brand: Allen Solly\n"
     ]
    },
    {
     "name": "stderr",
     "output_type": "stream",
     "text": [
      "\r",
      " 73%|███████████████████████████████████████████████████████▌                    | 1133/1550 [1:21:17<25:13,  3.63s/it]"
     ]
    },
    {
     "name": "stdout",
     "output_type": "stream",
     "text": [
      "['Clothing & Accessories', 'Men', 'T-Shirts & Polos', 'Polos']\n",
      "1133\n",
      "https://www.amazon.in/dp/B0C7ZMSYBD\n"
     ]
    },
    {
     "name": "stderr",
     "output_type": "stream",
     "text": [
      "\r",
      " 73%|███████████████████████████████████████████████████████▌                    | 1134/1550 [1:21:21<24:15,  3.50s/it]"
     ]
    },
    {
     "name": "stdout",
     "output_type": "stream",
     "text": [
      "Brand: Allen Solly\n",
      "['Clothing & Accessories', 'Men', 'T-Shirts & Polos', 'T-Shirts']\n",
      "1134\n",
      "https://www.amazon.in/dp/B0CBMHDQ25\n",
      "Brand: Allen Solly\n"
     ]
    },
    {
     "name": "stderr",
     "output_type": "stream",
     "text": [
      "\r",
      " 73%|███████████████████████████████████████████████████████▋                    | 1135/1550 [1:21:25<25:26,  3.68s/it]"
     ]
    },
    {
     "name": "stdout",
     "output_type": "stream",
     "text": [
      "['Clothing & Accessories', 'Men', 'T-Shirts & Polos', 'Polos']\n",
      "1135\n",
      "https://www.amazon.in/dp/B09TDBVVJ2\n"
     ]
    },
    {
     "name": "stderr",
     "output_type": "stream",
     "text": [
      "\r",
      " 73%|███████████████████████████████████████████████████████▋                    | 1136/1550 [1:21:29<25:40,  3.72s/it]"
     ]
    },
    {
     "name": "stdout",
     "output_type": "stream",
     "text": [
      "Brand: Allen Solly\n",
      "['Clothing & Accessories', 'Men', 'T-Shirts & Polos', 'T-Shirts']\n",
      "1136\n",
      "https://www.amazon.in/dp/B0CBMH289S\n",
      "Brand: Allen Solly\n"
     ]
    },
    {
     "name": "stderr",
     "output_type": "stream",
     "text": [
      "\r",
      " 73%|███████████████████████████████████████████████████████▋                    | 1137/1550 [1:21:32<25:57,  3.77s/it]"
     ]
    },
    {
     "name": "stdout",
     "output_type": "stream",
     "text": [
      "['Clothing & Accessories', 'Men', 'T-Shirts & Polos', 'Polos']\n",
      "1137\n",
      "https://www.amazon.in/dp/B09VT65KH6\n",
      "Brand: Allen Solly\n"
     ]
    },
    {
     "name": "stderr",
     "output_type": "stream",
     "text": [
      "\r",
      " 73%|███████████████████████████████████████████████████████▊                    | 1138/1550 [1:21:36<25:41,  3.74s/it]"
     ]
    },
    {
     "name": "stdout",
     "output_type": "stream",
     "text": [
      "['Fashion', 'Apparel Steal Deals', 'Apparel_1', 'Men', 'T-shirts under 499']\n",
      "1138\n",
      "https://www.amazon.in/dp/B098TYSFGT\n"
     ]
    },
    {
     "name": "stderr",
     "output_type": "stream",
     "text": [
      "\r",
      " 73%|███████████████████████████████████████████████████████▊                    | 1139/1550 [1:21:39<24:51,  3.63s/it]"
     ]
    },
    {
     "name": "stdout",
     "output_type": "stream",
     "text": [
      "Visit the fanideaz Store\n",
      "['Clothing & Accessories', 'Men', 'T-Shirts & Polos', 'Polos']\n",
      "1139\n",
      "https://www.amazon.in/dp/B0BWS64MXZ\n"
     ]
    },
    {
     "name": "stderr",
     "output_type": "stream",
     "text": [
      "\r",
      " 74%|███████████████████████████████████████████████████████▉                    | 1140/1550 [1:21:44<26:18,  3.85s/it]"
     ]
    },
    {
     "name": "stdout",
     "output_type": "stream",
     "text": [
      "Brand: U.S. POLO ASSN.\n",
      "['Clothing & Accessories', 'Men', 'T-Shirts & Polos', 'T-Shirts']\n",
      "1140\n",
      "https://www.amazon.in/dp/B08SHYXQFT\n"
     ]
    },
    {
     "name": "stderr",
     "output_type": "stream",
     "text": [
      "\r",
      " 74%|███████████████████████████████████████████████████████▉                    | 1141/1550 [1:21:48<26:55,  3.95s/it]"
     ]
    },
    {
     "name": "stdout",
     "output_type": "stream",
     "text": [
      "Visit the BULLMER Store\n",
      "['Clothing & Accessories', 'Men', 'T-Shirts & Polos', 'Polos']\n",
      "1141\n",
      "https://www.amazon.in/dp/B0BGCK3RBJ\n"
     ]
    },
    {
     "name": "stderr",
     "output_type": "stream",
     "text": [
      "\r",
      " 74%|███████████████████████████████████████████████████████▉                    | 1142/1550 [1:21:52<26:12,  3.85s/it]"
     ]
    },
    {
     "name": "stdout",
     "output_type": "stream",
     "text": [
      "Brand: fanideaz\n",
      "['Clothing & Accessories', 'Men', 'T-Shirts & Polos', 'Polos']\n",
      "1142\n",
      "https://www.amazon.in/dp/B0BWS263HC\n",
      "Brand: U.S. POLO ASSN.\n"
     ]
    },
    {
     "name": "stderr",
     "output_type": "stream",
     "text": [
      "\r",
      " 74%|████████████████████████████████████████████████████████                    | 1143/1550 [1:21:55<25:23,  3.74s/it]"
     ]
    },
    {
     "name": "stdout",
     "output_type": "stream",
     "text": [
      "['Clothing & Accessories', 'Men', 'T-Shirts & Polos', 'T-Shirts']\n",
      "1143\n",
      "https://www.amazon.in/dp/B0BYNLSK6C\n"
     ]
    },
    {
     "name": "stderr",
     "output_type": "stream",
     "text": [
      "\r",
      " 74%|████████████████████████████████████████████████████████                    | 1144/1550 [1:21:59<25:49,  3.82s/it]"
     ]
    },
    {
     "name": "stdout",
     "output_type": "stream",
     "text": [
      "Visit the ZU Store\n",
      "['Clothing & Accessories', 'Men', 'T-Shirts & Polos', 'T-Shirts']\n",
      "1144\n",
      "https://www.amazon.in/dp/B0BYNMSCGX\n",
      "Visit the ZU Store\n"
     ]
    },
    {
     "name": "stderr",
     "output_type": "stream",
     "text": [
      "\r",
      " 74%|████████████████████████████████████████████████████████▏                   | 1145/1550 [1:22:03<25:28,  3.77s/it]"
     ]
    },
    {
     "name": "stdout",
     "output_type": "stream",
     "text": [
      "['Clothing & Accessories', 'Men', 'T-Shirts & Polos', 'T-Shirts']\n",
      "1145\n",
      "https://www.amazon.in/dp/B0BZ8VVHP5\n",
      "Visit the ZU Store\n"
     ]
    },
    {
     "name": "stderr",
     "output_type": "stream",
     "text": [
      "\r",
      " 74%|████████████████████████████████████████████████████████▏                   | 1146/1550 [1:22:07<25:26,  3.78s/it]"
     ]
    },
    {
     "name": "stdout",
     "output_type": "stream",
     "text": [
      "['Clothing & Accessories', 'Men', 'T-Shirts & Polos', 'T-Shirts']\n",
      "1146\n",
      "https://www.amazon.in/dp/B0CC35ZS7S\n",
      "Visit the BULLMER Store\n"
     ]
    },
    {
     "name": "stderr",
     "output_type": "stream",
     "text": [
      "\r",
      " 74%|████████████████████████████████████████████████████████▏                   | 1147/1550 [1:22:11<25:41,  3.82s/it]"
     ]
    },
    {
     "name": "stdout",
     "output_type": "stream",
     "text": [
      "['Clothing & Accessories', 'Men', 'T-Shirts & Polos', 'T-Shirts']\n",
      "1147\n",
      "https://www.amazon.in/dp/B08RZ4W267\n"
     ]
    },
    {
     "name": "stderr",
     "output_type": "stream",
     "text": [
      "\r",
      " 74%|████████████████████████████████████████████████████████▎                   | 1148/1550 [1:22:16<28:04,  4.19s/it]"
     ]
    },
    {
     "name": "stdout",
     "output_type": "stream",
     "text": [
      "Visit the Arrow Store\n",
      "['Clothing & Accessories', 'Men', 'T-Shirts & Polos', 'Polos']\n",
      "1148\n",
      "https://www.amazon.in/dp/B09KBXL6QX\n",
      "Brand: AELOMART\n"
     ]
    },
    {
     "name": "stderr",
     "output_type": "stream",
     "text": [
      "\r",
      " 74%|████████████████████████████████████████████████████████▎                   | 1149/1550 [1:22:20<28:33,  4.27s/it]"
     ]
    },
    {
     "name": "stdout",
     "output_type": "stream",
     "text": [
      "['Clothing & Accessories', 'Men', 'T-Shirts & Polos', 'T-Shirts']\n",
      "1149\n",
      "https://www.amazon.in/dp/B07SJ5FJNP\n",
      "Visit the Amazon Brand - Symbol Store\n"
     ]
    },
    {
     "name": "stderr",
     "output_type": "stream",
     "text": [
      "\r",
      " 74%|████████████████████████████████████████████████████████▍                   | 1150/1550 [1:22:24<27:59,  4.20s/it]"
     ]
    },
    {
     "name": "stdout",
     "output_type": "stream",
     "text": [
      "['Fashion', 'Plus size', 'Trends', 'Diwali-21', 'Men', 'Solid Bright Tees & Polos']\n",
      "1150\n",
      "https://www.amazon.in/dp/B08CDZFJ6B\n",
      "Visit the London Hills Store\n"
     ]
    },
    {
     "name": "stderr",
     "output_type": "stream",
     "text": [
      "\r",
      " 74%|████████████████████████████████████████████████████████▍                   | 1151/1550 [1:22:28<27:50,  4.19s/it]"
     ]
    },
    {
     "name": "stdout",
     "output_type": "stream",
     "text": [
      "['Clothing & Accessories', 'Men', 'T-Shirts & Polos', 'T-Shirts']\n",
      "1151\n",
      "https://www.amazon.in/dp/B0BRSQSS9L\n",
      "Visit the EYEBOGLER Store\n"
     ]
    },
    {
     "name": "stderr",
     "output_type": "stream",
     "text": [
      "\r",
      " 74%|████████████████████████████████████████████████████████▍                   | 1152/1550 [1:22:32<26:55,  4.06s/it]"
     ]
    },
    {
     "name": "stdout",
     "output_type": "stream",
     "text": [
      "['Clothing & Accessories', 'Men', 'T-Shirts & Polos', 'T-Shirts']\n",
      "1152\n",
      "https://www.amazon.in/dp/B0C36ZBB76\n",
      "Visit the EYEBOGLER Store\n"
     ]
    },
    {
     "name": "stderr",
     "output_type": "stream",
     "text": [
      "\r",
      " 74%|████████████████████████████████████████████████████████▌                   | 1153/1550 [1:22:36<26:07,  3.95s/it]"
     ]
    },
    {
     "name": "stdout",
     "output_type": "stream",
     "text": [
      "['Clothing & Accessories', 'Men', 'T-Shirts & Polos', 'Polos']\n",
      "1153\n",
      "https://www.amazon.in/dp/B09VZ369CL\n"
     ]
    },
    {
     "name": "stderr",
     "output_type": "stream",
     "text": [
      "\r",
      " 74%|████████████████████████████████████████████████████████▌                   | 1154/1550 [1:22:39<25:43,  3.90s/it]"
     ]
    },
    {
     "name": "stdout",
     "output_type": "stream",
     "text": [
      "Brand: EYEBOGLER\n",
      "['Clothing & Accessories', 'Men', 'T-Shirts & Polos', 'T-Shirts']\n",
      "1154\n",
      "https://www.amazon.in/dp/B0BM4HK2P9\n",
      "Visit the EYEBOGLER Store\n"
     ]
    },
    {
     "name": "stderr",
     "output_type": "stream",
     "text": [
      "\r",
      " 75%|████████████████████████████████████████████████████████▋                   | 1155/1550 [1:22:44<26:12,  3.98s/it]"
     ]
    },
    {
     "name": "stdout",
     "output_type": "stream",
     "text": [
      "['Clothing & Accessories', 'Men', 'T-Shirts & Polos', 'T-Shirts']\n",
      "1155\n",
      "https://www.amazon.in/dp/B0CDS834R1\n",
      "Visit the LEOTUDE Store\n"
     ]
    },
    {
     "name": "stderr",
     "output_type": "stream",
     "text": [
      "\r",
      " 75%|████████████████████████████████████████████████████████▋                   | 1156/1550 [1:22:47<25:19,  3.86s/it]"
     ]
    },
    {
     "name": "stdout",
     "output_type": "stream",
     "text": [
      "['Clothing & Accessories', 'Men', 'T-Shirts & Polos', 'T-Shirts']\n",
      "1156\n",
      "https://www.amazon.in/dp/B07DQLM1JN\n",
      "Visit the AMERICAN CREW Store\n"
     ]
    },
    {
     "name": "stderr",
     "output_type": "stream",
     "text": [
      "\r",
      " 75%|████████████████████████████████████████████████████████▋                   | 1157/1550 [1:22:51<25:05,  3.83s/it]"
     ]
    },
    {
     "name": "stdout",
     "output_type": "stream",
     "text": [
      "['Fashion', 'The Plus Size Store', 'Brands', 'American Crew', 'p']\n",
      "1157\n",
      "https://www.amazon.in/dp/B09VL9XT3K\n",
      "Brand: EYEBOGLER\n"
     ]
    },
    {
     "name": "stderr",
     "output_type": "stream",
     "text": [
      "\r",
      " 75%|████████████████████████████████████████████████████████▊                   | 1158/1550 [1:22:55<25:00,  3.83s/it]"
     ]
    },
    {
     "name": "stdout",
     "output_type": "stream",
     "text": [
      "['Fashion', 'Apparel Steal Deals', 'Apparel_1', 'Men', \"Men's fashion starting 199\"]\n",
      "1158\n",
      "https://www.amazon.in/dp/B08D7MP1DQ\n",
      "Visit the Urbano Fashion Store\n"
     ]
    },
    {
     "name": "stderr",
     "output_type": "stream",
     "text": [
      "\r",
      " 75%|████████████████████████████████████████████████████████▊                   | 1159/1550 [1:23:00<26:50,  4.12s/it]"
     ]
    },
    {
     "name": "stdout",
     "output_type": "stream",
     "text": [
      "['Clothing & Accessories', 'Men', 'T-Shirts & Polos', 'T-Shirts']\n",
      "1159\n",
      "https://www.amazon.in/dp/B0BTVR1YNN\n",
      "Visit the LEOTUDE Store\n"
     ]
    },
    {
     "name": "stderr",
     "output_type": "stream",
     "text": [
      "\r",
      " 75%|████████████████████████████████████████████████████████▉                   | 1160/1550 [1:23:04<26:31,  4.08s/it]"
     ]
    },
    {
     "name": "stdout",
     "output_type": "stream",
     "text": [
      "['Clothing & Accessories', 'Men', 'T-Shirts & Polos', 'T-Shirts']\n",
      "1160\n",
      "https://www.amazon.in/dp/B0BZ4WZSDH\n"
     ]
    },
    {
     "name": "stderr",
     "output_type": "stream",
     "text": [
      "\r",
      " 75%|████████████████████████████████████████████████████████▉                   | 1161/1550 [1:23:07<25:44,  3.97s/it]"
     ]
    },
    {
     "name": "stdout",
     "output_type": "stream",
     "text": [
      "Brand: Lacoste\n",
      "['Clothing & Accessories', 'Men', 'T-Shirts & Polos', 'Polos']\n",
      "1161\n",
      "https://www.amazon.in/dp/B09TXTDKD5\n"
     ]
    },
    {
     "name": "stderr",
     "output_type": "stream",
     "text": [
      "\r",
      " 75%|████████████████████████████████████████████████████████▉                   | 1162/1550 [1:23:11<25:18,  3.91s/it]"
     ]
    },
    {
     "name": "stdout",
     "output_type": "stream",
     "text": [
      "Visit the THE DRY STATE Store\n",
      "['Clothing & Accessories', 'Men', 'T-Shirts & Polos', 'T-Shirts']\n",
      "1162\n",
      "https://www.amazon.in/dp/B098TPKZ4P\n",
      "Brand: Puma\n"
     ]
    },
    {
     "name": "stderr",
     "output_type": "stream",
     "text": [
      "\r",
      " 75%|█████████████████████████████████████████████████████████                   | 1163/1550 [1:23:15<25:01,  3.88s/it]"
     ]
    },
    {
     "name": "stdout",
     "output_type": "stream",
     "text": [
      "['Fashion', 'Apparel Steal Deals', 'Apparel_1', 'Men', \"Men's Apparel BxGy\"]\n",
      "1163\n",
      "https://www.amazon.in/dp/B083FHSG3W\n",
      "Brand: EYEBOGLER\n"
     ]
    },
    {
     "name": "stderr",
     "output_type": "stream",
     "text": [
      "\r",
      " 75%|█████████████████████████████████████████████████████████                   | 1164/1550 [1:23:19<24:35,  3.82s/it]"
     ]
    },
    {
     "name": "stdout",
     "output_type": "stream",
     "text": [
      "['Fashion', 'Apparel Steal Deals', 'Apparel_1', 'Men', \"Men's fashion starting 199\"]\n",
      "1164\n",
      "https://www.amazon.in/dp/B07YDHXM5P\n",
      "Visit the EYEBOGLER Store\n"
     ]
    },
    {
     "name": "stderr",
     "output_type": "stream",
     "text": [
      "\r",
      " 75%|█████████████████████████████████████████████████████████                   | 1165/1550 [1:23:23<24:53,  3.88s/it]"
     ]
    },
    {
     "name": "stdout",
     "output_type": "stream",
     "text": [
      "['Fashion', 'Apparel Steal Deals', 'Apparel_1', 'Men', \"Men's fashion starting 199\"]\n",
      "1165\n",
      "https://www.amazon.in/dp/B0BM495NTG\n",
      "Visit the EYEBOGLER Store\n"
     ]
    },
    {
     "name": "stderr",
     "output_type": "stream",
     "text": [
      "\r",
      " 75%|█████████████████████████████████████████████████████████▏                  | 1166/1550 [1:23:27<25:32,  3.99s/it]"
     ]
    },
    {
     "name": "stdout",
     "output_type": "stream",
     "text": [
      "['Clothing & Accessories', 'Men', 'T-Shirts & Polos', 'T-Shirts']\n",
      "1166\n",
      "https://www.amazon.in/dp/B00RGVL4LU\n",
      "Brand: AMERICAN CREW\n"
     ]
    },
    {
     "name": "stderr",
     "output_type": "stream",
     "text": [
      "\r",
      " 75%|█████████████████████████████████████████████████████████▏                  | 1167/1550 [1:23:31<24:56,  3.91s/it]"
     ]
    },
    {
     "name": "stdout",
     "output_type": "stream",
     "text": [
      "['Clothing & Accessories', 'Men', 'T-Shirts & Polos', 'Polos']\n",
      "1167\n",
      "https://www.amazon.in/dp/B085XCPWTV\n"
     ]
    },
    {
     "name": "stderr",
     "output_type": "stream",
     "text": [
      "\r",
      " 75%|█████████████████████████████████████████████████████████▎                  | 1168/1550 [1:23:34<24:38,  3.87s/it]"
     ]
    },
    {
     "name": "stdout",
     "output_type": "stream",
     "text": [
      "Visit the CHKOKKO Store\n",
      "['Clothing & Accessories', 'Men', 'T-Shirts & Polos', 'Polos']\n",
      "1168\n",
      "https://www.amazon.in/dp/B079W71K23\n"
     ]
    },
    {
     "name": "stderr",
     "output_type": "stream",
     "text": [
      "\r",
      " 75%|█████████████████████████████████████████████████████████▎                  | 1169/1550 [1:23:38<24:52,  3.92s/it]"
     ]
    },
    {
     "name": "stdout",
     "output_type": "stream",
     "text": [
      "Visit the ADRO Store\n",
      "['Clothing & Accessories', 'Men', 'T-Shirts & Polos', 'T-Shirts']\n",
      "1169\n",
      "https://www.amazon.in/dp/B0C1ZW42MD\n"
     ]
    },
    {
     "name": "stderr",
     "output_type": "stream",
     "text": [
      "\r",
      " 75%|█████████████████████████████████████████████████████████▎                  | 1170/1550 [1:23:42<25:00,  3.95s/it]"
     ]
    },
    {
     "name": "stdout",
     "output_type": "stream",
     "text": [
      "Visit the AUSK Store\n",
      "['Clothing & Accessories', 'Men', 'T-Shirts & Polos', 'Polos']\n",
      "1170\n",
      "https://www.amazon.in/dp/B083C2WR38\n"
     ]
    },
    {
     "name": "stderr",
     "output_type": "stream",
     "text": [
      "\r",
      " 76%|█████████████████████████████████████████████████████████▍                  | 1171/1550 [1:23:47<26:02,  4.12s/it]"
     ]
    },
    {
     "name": "stdout",
     "output_type": "stream",
     "text": [
      "Visit the Van Heusen Store\n",
      "['Clothing & Accessories', 'Men', 'T-Shirts & Polos', 'T-Shirts']\n",
      "1171\n",
      "https://www.amazon.in/dp/B0B6HT5Y5T\n",
      "Visit the GRITSTONES Store\n"
     ]
    },
    {
     "name": "stderr",
     "output_type": "stream",
     "text": [
      "\r",
      " 76%|█████████████████████████████████████████████████████████▍                  | 1172/1550 [1:23:51<26:08,  4.15s/it]"
     ]
    },
    {
     "name": "stdout",
     "output_type": "stream",
     "text": [
      "['Clothing & Accessories', 'Men', 'T-Shirts & Polos', 'T-Shirts']\n",
      "1172\n",
      "https://www.amazon.in/dp/B0B6BKNTTB\n"
     ]
    },
    {
     "name": "stderr",
     "output_type": "stream",
     "text": [
      "\r",
      " 76%|█████████████████████████████████████████████████████████▌                  | 1173/1550 [1:23:55<25:26,  4.05s/it]"
     ]
    },
    {
     "name": "stdout",
     "output_type": "stream",
     "text": [
      "Visit the Jockey Store\n",
      "['Clothing & Accessories', 'Men', 'T-Shirts & Polos', 'Polos']\n",
      "1173\n",
      "https://www.amazon.in/dp/B0BGY7VZ4L\n",
      "Brand: U.S. POLO ASSN.\n"
     ]
    },
    {
     "name": "stderr",
     "output_type": "stream",
     "text": [
      "\r",
      " 76%|█████████████████████████████████████████████████████████▌                  | 1174/1550 [1:23:59<24:40,  3.94s/it]"
     ]
    },
    {
     "name": "stdout",
     "output_type": "stream",
     "text": [
      "['Clothing & Accessories', 'Men', 'T-Shirts & Polos', 'T-Shirts']\n",
      "1174\n",
      "https://www.amazon.in/dp/B08VDVMXRC\n",
      "Visit the Veirdo Store\n"
     ]
    },
    {
     "name": "stderr",
     "output_type": "stream",
     "text": [
      "\r",
      " 76%|█████████████████████████████████████████████████████████▌                  | 1175/1550 [1:24:02<23:46,  3.81s/it]"
     ]
    },
    {
     "name": "stdout",
     "output_type": "stream",
     "text": [
      "['Clothing & Accessories', 'Men', 'T-Shirts & Polos', 'T-Shirts']\n",
      "1175\n",
      "https://www.amazon.in/dp/B07L58CNQL\n",
      "Visit the London Hills Store\n"
     ]
    },
    {
     "name": "stderr",
     "output_type": "stream",
     "text": [
      "\r",
      " 76%|█████████████████████████████████████████████████████████▋                  | 1176/1550 [1:24:06<24:04,  3.86s/it]"
     ]
    },
    {
     "name": "stdout",
     "output_type": "stream",
     "text": [
      "['Clothing & Accessories', 'Men', 'T-Shirts & Polos', 'T-Shirts']\n",
      "1176\n",
      "https://www.amazon.in/dp/B08X4RCTT1\n",
      "Visit the GRITSTONES Store\n"
     ]
    },
    {
     "name": "stderr",
     "output_type": "stream",
     "text": [
      "\r",
      " 76%|█████████████████████████████████████████████████████████▋                  | 1177/1550 [1:24:10<24:31,  3.95s/it]"
     ]
    },
    {
     "name": "stdout",
     "output_type": "stream",
     "text": [
      "['Clothing & Accessories', 'Men', 'T-Shirts & Polos', 'T-Shirts']\n",
      "1177\n",
      "https://www.amazon.in/dp/B0C3W1NSY4\n"
     ]
    },
    {
     "name": "stderr",
     "output_type": "stream",
     "text": [
      "\r",
      " 76%|█████████████████████████████████████████████████████████▊                  | 1178/1550 [1:24:14<23:43,  3.83s/it]"
     ]
    },
    {
     "name": "stdout",
     "output_type": "stream",
     "text": [
      "Visit the AUSK Store\n",
      "['Clothing & Accessories', 'Men', 'T-Shirts & Polos', 'Polos']\n",
      "1178\n",
      "https://www.amazon.in/dp/B0C1RYDDZY\n"
     ]
    },
    {
     "name": "stderr",
     "output_type": "stream",
     "text": [
      "\r",
      " 76%|█████████████████████████████████████████████████████████▊                  | 1179/1550 [1:24:18<23:44,  3.84s/it]"
     ]
    },
    {
     "name": "stdout",
     "output_type": "stream",
     "text": [
      "Brand: Peter England\n",
      "['Clothing & Accessories', 'Men', 'T-Shirts & Polos', 'Polos']\n",
      "1179\n",
      "https://www.amazon.in/dp/B09YVCWSDJ\n",
      "Visit the EYEBOGLER Store\n"
     ]
    },
    {
     "name": "stderr",
     "output_type": "stream",
     "text": [
      "\r",
      " 76%|█████████████████████████████████████████████████████████▊                  | 1180/1550 [1:24:22<23:45,  3.85s/it]"
     ]
    },
    {
     "name": "stdout",
     "output_type": "stream",
     "text": [
      "['Clothing & Accessories', 'Men', 'T-Shirts & Polos', 'Polos']\n",
      "1180\n",
      "https://www.amazon.in/dp/B0C96W8XPD\n"
     ]
    },
    {
     "name": "stderr",
     "output_type": "stream",
     "text": [
      "\r",
      " 76%|█████████████████████████████████████████████████████████▉                  | 1181/1550 [1:24:26<23:59,  3.90s/it]"
     ]
    },
    {
     "name": "stdout",
     "output_type": "stream",
     "text": [
      "Visit the Lux Cozi Store\n",
      "['Clothing & Accessories', 'Men', 'T-Shirts & Polos', 'T-Shirts']\n",
      "1181\n",
      "https://www.amazon.in/dp/B094TWFPCC\n",
      "Brand: Arrow\n"
     ]
    },
    {
     "name": "stderr",
     "output_type": "stream",
     "text": [
      "\r",
      " 76%|█████████████████████████████████████████████████████████▉                  | 1182/1550 [1:24:30<24:42,  4.03s/it]"
     ]
    },
    {
     "name": "stdout",
     "output_type": "stream",
     "text": [
      "['Fashion', 'Apparel Steal Deals', 'Apparel_1', 'Men', 'Polos & T-Shirts - Min 50% Off']\n",
      "1182\n",
      "https://www.amazon.in/dp/B08ZN8MY7R\n",
      "Visit the London Hills Store\n"
     ]
    },
    {
     "name": "stderr",
     "output_type": "stream",
     "text": [
      "\r",
      " 76%|██████████████████████████████████████████████████████████                  | 1183/1550 [1:24:34<24:35,  4.02s/it]"
     ]
    },
    {
     "name": "stdout",
     "output_type": "stream",
     "text": [
      "['Fashion', 'The Plus Size Store', 'BBD', 'Trends', 'men', 'Solid staple t-shirts & polos']\n",
      "1183\n",
      "https://www.amazon.in/dp/B0B314C3G7\n",
      "Brand: Max\n"
     ]
    },
    {
     "name": "stderr",
     "output_type": "stream",
     "text": [
      "\r",
      " 76%|██████████████████████████████████████████████████████████                  | 1184/1550 [1:24:37<23:32,  3.86s/it]"
     ]
    },
    {
     "name": "stdout",
     "output_type": "stream",
     "text": [
      "['Clothing & Accessories', 'Men', 'T-Shirts & Polos', 'Polos']\n",
      "1184\n",
      "https://www.amazon.in/dp/B0C37FMPY4\n",
      "Visit the LookMark Store\n"
     ]
    },
    {
     "name": "stderr",
     "output_type": "stream",
     "text": [
      "\r",
      " 76%|██████████████████████████████████████████████████████████                  | 1185/1550 [1:24:41<22:58,  3.78s/it]"
     ]
    },
    {
     "name": "stdout",
     "output_type": "stream",
     "text": [
      "['Clothing & Accessories', 'Men', 'T-Shirts & Polos', 'Polos']\n",
      "1185\n",
      "https://www.amazon.in/dp/B09WVW1SV8\n",
      "Visit the EYEBOGLER Store\n"
     ]
    },
    {
     "name": "stderr",
     "output_type": "stream",
     "text": [
      "\r",
      " 77%|██████████████████████████████████████████████████████████▏                 | 1186/1550 [1:24:45<22:42,  3.74s/it]"
     ]
    },
    {
     "name": "stdout",
     "output_type": "stream",
     "text": [
      "['Clothing & Accessories', 'Men', 'T-Shirts & Polos', 'Polos']\n",
      "1186\n",
      "https://www.amazon.in/dp/B0BYJKGFCX\n",
      "Visit the FYLTR Store\n"
     ]
    },
    {
     "name": "stderr",
     "output_type": "stream",
     "text": [
      "\r",
      " 77%|██████████████████████████████████████████████████████████▏                 | 1187/1550 [1:24:48<22:20,  3.69s/it]"
     ]
    },
    {
     "name": "stdout",
     "output_type": "stream",
     "text": [
      "['Clothing & Accessories', 'Men', 'T-Shirts & Polos', 'Polos']\n",
      "1187\n",
      "https://www.amazon.in/dp/B073X4QPY1\n"
     ]
    },
    {
     "name": "stderr",
     "output_type": "stream",
     "text": [
      "\r",
      " 77%|██████████████████████████████████████████████████████████▎                 | 1188/1550 [1:24:52<22:18,  3.70s/it]"
     ]
    },
    {
     "name": "stdout",
     "output_type": "stream",
     "text": [
      "Visit the Amazon Brand - Symbol Store\n",
      "['Fashion', 'Made for Amazon brands', 'All SPB apparel', 'FD', 'Symbol']\n",
      "1188\n",
      "https://www.amazon.in/dp/B09RZMT5ZT\n"
     ]
    },
    {
     "name": "stderr",
     "output_type": "stream",
     "text": [
      "\r",
      " 77%|██████████████████████████████████████████████████████████▎                 | 1189/1550 [1:24:56<22:34,  3.75s/it]"
     ]
    },
    {
     "name": "stdout",
     "output_type": "stream",
     "text": [
      "Visit the LEOTUDE Store\n",
      "['Fashion', 'The Plus Size Store', 'aug art- clothing ingress', 'new', 'men']\n",
      "1189\n",
      "https://www.amazon.in/dp/B07DPRMZT7\n",
      "Visit the AMERICAN CREW Store\n"
     ]
    },
    {
     "name": "stderr",
     "output_type": "stream",
     "text": [
      "\r",
      " 77%|██████████████████████████████████████████████████████████▎                 | 1190/1550 [1:25:00<22:57,  3.83s/it]"
     ]
    },
    {
     "name": "stdout",
     "output_type": "stream",
     "text": [
      "['Fashion', 'The Plus Size Store', 'Brands', 'American Crew', '1']\n",
      "1190\n",
      "https://www.amazon.in/dp/B094TY6V5B\n"
     ]
    },
    {
     "name": "stderr",
     "output_type": "stream",
     "text": [
      "\r",
      " 77%|██████████████████████████████████████████████████████████▍                 | 1191/1550 [1:25:03<22:31,  3.76s/it]"
     ]
    },
    {
     "name": "stdout",
     "output_type": "stream",
     "text": [
      "Visit the Arrow Store\n",
      "['Clothing & Accessories', 'Men', 'T-Shirts & Polos', 'Polos']\n",
      "1191\n",
      "https://www.amazon.in/dp/B0BN1BW5ZZ\n",
      "Visit the EYEBOGLER Store\n",
      "['Clothing & Accessories', 'Men', 'T-Shirts & Polos', 'Polos']\n"
     ]
    },
    {
     "name": "stderr",
     "output_type": "stream",
     "text": [
      "\r",
      " 77%|██████████████████████████████████████████████████████████▍                 | 1192/1550 [1:25:07<22:14,  3.73s/it]"
     ]
    },
    {
     "name": "stdout",
     "output_type": "stream",
     "text": [
      "1192\n",
      "https://www.amazon.in/dp/B08SHTK9WD\n",
      "Visit the BULLMER Store\n",
      "['Clothing & Accessories', 'Men', 'T-Shirts & Polos', 'Polos']\n"
     ]
    },
    {
     "name": "stderr",
     "output_type": "stream",
     "text": [
      "\r",
      " 77%|██████████████████████████████████████████████████████████▍                 | 1193/1550 [1:25:11<22:49,  3.84s/it]"
     ]
    },
    {
     "name": "stdout",
     "output_type": "stream",
     "text": [
      "1193\n",
      "https://www.amazon.in/dp/B0BS3HX5GS\n",
      "Visit the LEOTUDE Store\n"
     ]
    },
    {
     "name": "stderr",
     "output_type": "stream",
     "text": [
      "\r",
      " 77%|██████████████████████████████████████████████████████████▌                 | 1194/1550 [1:25:15<22:52,  3.86s/it]"
     ]
    },
    {
     "name": "stdout",
     "output_type": "stream",
     "text": [
      "['Clothing & Accessories', 'Men', 'T-Shirts & Polos', 'Polos']\n",
      "1194\n",
      "https://www.amazon.in/dp/B0B1B6S7DZ\n",
      "Visit the Veirdo Store\n"
     ]
    },
    {
     "name": "stderr",
     "output_type": "stream",
     "text": [
      "\r",
      " 77%|██████████████████████████████████████████████████████████▌                 | 1195/1550 [1:25:19<22:53,  3.87s/it]"
     ]
    },
    {
     "name": "stdout",
     "output_type": "stream",
     "text": [
      "['Clothing & Accessories', 'Men', 'T-Shirts & Polos', 'Polos']\n",
      "1195\n",
      "https://www.amazon.in/dp/B07R8VB4TD\n",
      "Visit the Van Heusen Store\n"
     ]
    },
    {
     "name": "stderr",
     "output_type": "stream",
     "text": [
      "\r",
      " 77%|██████████████████████████████████████████████████████████▋                 | 1196/1550 [1:25:23<23:00,  3.90s/it]"
     ]
    },
    {
     "name": "stdout",
     "output_type": "stream",
     "text": [
      "['Clothing & Accessories', 'Men', 'T-Shirts & Polos', 'Polos']\n",
      "1196\n",
      "https://www.amazon.in/dp/B08CDRS2NY\n",
      "Brand: EYEBOGLER\n"
     ]
    },
    {
     "name": "stderr",
     "output_type": "stream",
     "text": [
      "\r",
      " 77%|██████████████████████████████████████████████████████████▋                 | 1197/1550 [1:25:27<22:55,  3.90s/it]"
     ]
    },
    {
     "name": "stdout",
     "output_type": "stream",
     "text": [
      "['Fashion', 'Apparel Steal Deals', 'Apparel_1', 'Men', \"Men's fashion starting 199\"]\n",
      "1197\n",
      "https://www.amazon.in/dp/B0B7K3SLFM\n",
      "Visit the U.S. POLO ASSN. Store\n"
     ]
    },
    {
     "name": "stderr",
     "output_type": "stream",
     "text": [
      "\r",
      " 77%|██████████████████████████████████████████████████████████▋                 | 1198/1550 [1:25:31<22:39,  3.86s/it]"
     ]
    },
    {
     "name": "stdout",
     "output_type": "stream",
     "text": [
      "['Fashion', 'Apparel Steal Deals', 'Apparel_1', 'Men', 'U.S.P.A under 899']\n",
      "1198\n",
      "https://www.amazon.in/dp/B0BFD7LTL7\n",
      "Visit the fanideaz Store\n"
     ]
    },
    {
     "name": "stderr",
     "output_type": "stream",
     "text": [
      "\r",
      " 77%|██████████████████████████████████████████████████████████▊                 | 1199/1550 [1:25:34<22:30,  3.85s/it]"
     ]
    },
    {
     "name": "stdout",
     "output_type": "stream",
     "text": [
      "['Clothing & Accessories', 'Men', 'T-Shirts & Polos', 'Polos']\n",
      "1199\n",
      "https://www.amazon.in/dp/B000052Y98\n"
     ]
    },
    {
     "name": "stderr",
     "output_type": "stream",
     "text": [
      "\r",
      " 77%|██████████████████████████████████████████████████████████▊                 | 1200/1550 [1:25:38<22:06,  3.79s/it]"
     ]
    },
    {
     "name": "stdout",
     "output_type": "stream",
     "text": [
      "Brand: Pepsodent\n",
      "['Health & Personal Care', 'Oral Care', 'Toothpastes']\n",
      "1200\n",
      "https://www.amazon.in/dp/B08KTYSGH9\n",
      "Brand: Allen Solly\n"
     ]
    },
    {
     "name": "stderr",
     "output_type": "stream",
     "text": [
      "\r",
      " 77%|██████████████████████████████████████████████████████████▉                 | 1201/1550 [1:25:42<22:04,  3.80s/it]"
     ]
    },
    {
     "name": "stdout",
     "output_type": "stream",
     "text": [
      "['Fashion', 'Apparel Steal Deals', 'Apparel_1', 'Men', 'Polos & T-Shirts - Min 50% Off']\n",
      "1201\n",
      "https://www.amazon.in/dp/B0CBFTHDFV\n"
     ]
    },
    {
     "name": "stderr",
     "output_type": "stream",
     "text": [
      "\r",
      " 78%|██████████████████████████████████████████████████████████▉                 | 1202/1550 [1:25:46<21:51,  3.77s/it]"
     ]
    },
    {
     "name": "stdout",
     "output_type": "stream",
     "text": [
      "Brand: U.S. POLO ASSN.\n",
      "['Clothing & Accessories', 'Men', 'T-Shirts & Polos', 'Polos']\n",
      "1202\n",
      "https://www.amazon.in/dp/B075JG59BL\n"
     ]
    },
    {
     "name": "stderr",
     "output_type": "stream",
     "text": [
      "\r",
      " 78%|██████████████████████████████████████████████████████████▉                 | 1203/1550 [1:25:50<22:39,  3.92s/it]"
     ]
    },
    {
     "name": "stdout",
     "output_type": "stream",
     "text": [
      "Visit the AMERICAN CREW Store\n",
      "['Fashion', 'The Plus Size Store', 'Brands', 'American Crew', '1']\n",
      "1203\n",
      "https://www.amazon.in/dp/B0C96YJ1HS\n",
      "Visit the Lux Cozi Store\n"
     ]
    },
    {
     "name": "stderr",
     "output_type": "stream",
     "text": [
      "\r",
      " 78%|███████████████████████████████████████████████████████████                 | 1204/1550 [1:25:54<23:31,  4.08s/it]"
     ]
    },
    {
     "name": "stdout",
     "output_type": "stream",
     "text": [
      "['Clothing & Accessories', 'Men', 'T-Shirts & Polos', 'T-Shirts']\n",
      "1204\n",
      "https://www.amazon.in/dp/B077Y5W7QX\n",
      "Visit the U.S. POLO ASSN. Store\n"
     ]
    },
    {
     "name": "stderr",
     "output_type": "stream",
     "text": [
      "\r",
      " 78%|███████████████████████████████████████████████████████████                 | 1205/1550 [1:26:02<30:11,  5.25s/it]"
     ]
    },
    {
     "name": "stdout",
     "output_type": "stream",
     "text": [
      "['Clothing & Accessories', 'Men', 'T-Shirts & Polos', 'Polos']\n",
      "1205\n",
      "https://www.amazon.in/dp/B07DDCR4ZT\n"
     ]
    },
    {
     "name": "stderr",
     "output_type": "stream",
     "text": [
      "\r",
      " 78%|███████████████████████████████████████████████████████████▏                | 1206/1550 [1:26:07<29:03,  5.07s/it]"
     ]
    },
    {
     "name": "stdout",
     "output_type": "stream",
     "text": [
      "Visit the Scott International Store\n",
      "['Clothing & Accessories', 'Men', 'T-Shirts & Polos', 'Polos']\n",
      "1206\n",
      "https://www.amazon.in/dp/B0C1RWS94S\n",
      "Brand: Peter England\n"
     ]
    },
    {
     "name": "stderr",
     "output_type": "stream",
     "text": [
      "\r",
      " 78%|███████████████████████████████████████████████████████████▏                | 1207/1550 [1:26:11<26:55,  4.71s/it]"
     ]
    },
    {
     "name": "stdout",
     "output_type": "stream",
     "text": [
      "['Clothing & Accessories', 'Men', 'T-Shirts & Polos', 'Polos']\n",
      "1207\n",
      "https://www.amazon.in/dp/B08LH3DG1S\n",
      "Visit the Scott International Store\n"
     ]
    },
    {
     "name": "stderr",
     "output_type": "stream",
     "text": [
      "\r",
      " 78%|███████████████████████████████████████████████████████████▏                | 1208/1550 [1:26:15<25:27,  4.47s/it]"
     ]
    },
    {
     "name": "stdout",
     "output_type": "stream",
     "text": [
      "['Clothing & Accessories', 'Men', 'T-Shirts & Polos', 'Polos']\n",
      "1208\n",
      "https://www.amazon.in/dp/B071YST7GM\n",
      "Visit the Jockey Store\n"
     ]
    },
    {
     "name": "stderr",
     "output_type": "stream",
     "text": [
      "\r",
      " 78%|███████████████████████████████████████████████████████████▎                | 1209/1550 [1:26:19<25:57,  4.57s/it]"
     ]
    },
    {
     "name": "stdout",
     "output_type": "stream",
     "text": [
      "['Clothing & Accessories', 'Men', 'T-Shirts & Polos', 'Polos']\n",
      "1209\n",
      "https://www.amazon.in/dp/B09H6W2DBS\n",
      "Visit the LEOTUDE Store\n"
     ]
    },
    {
     "name": "stderr",
     "output_type": "stream",
     "text": [
      "\r",
      " 78%|███████████████████████████████████████████████████████████▎                | 1210/1550 [1:26:23<24:42,  4.36s/it]"
     ]
    },
    {
     "name": "stdout",
     "output_type": "stream",
     "text": [
      "['Clothing & Accessories', 'Men', 'T-Shirts & Polos', 'Polos']\n",
      "1210\n",
      "https://www.amazon.in/dp/B083C2RB9F\n"
     ]
    },
    {
     "name": "stderr",
     "output_type": "stream",
     "text": [
      "\r",
      " 78%|███████████████████████████████████████████████████████████▍                | 1211/1550 [1:26:27<23:50,  4.22s/it]"
     ]
    },
    {
     "name": "stdout",
     "output_type": "stream",
     "text": [
      "Visit the Van Heusen Store\n",
      "['Clothing & Accessories', 'Men', 'T-Shirts & Polos', 'Polos']\n",
      "1211\n",
      "https://www.amazon.in/dp/B097RYF4P3\n",
      "Visit the Wear Your Opinion Store\n"
     ]
    },
    {
     "name": "stderr",
     "output_type": "stream",
     "text": [
      "\r",
      " 78%|███████████████████████████████████████████████████████████▍                | 1212/1550 [1:26:32<24:00,  4.26s/it]"
     ]
    },
    {
     "name": "stdout",
     "output_type": "stream",
     "text": [
      "['Fashion', 'The Plus Size Store', 'aug art- clothing ingress', 'new', 'men']\n",
      "1212\n",
      "https://www.amazon.in/dp/B0BNJ7N765\n",
      "Visit the LEOTUDE Store\n"
     ]
    },
    {
     "name": "stderr",
     "output_type": "stream",
     "text": [
      "\r",
      " 78%|███████████████████████████████████████████████████████████▍                | 1213/1550 [1:26:36<23:33,  4.20s/it]"
     ]
    },
    {
     "name": "stdout",
     "output_type": "stream",
     "text": [
      "['Clothing & Accessories', 'Men', 'T-Shirts & Polos', 'Polos']\n",
      "1213\n",
      "https://www.amazon.in/dp/B07DWKJ7PD\n",
      "Brand: U.S. POLO ASSN.\n"
     ]
    },
    {
     "name": "stderr",
     "output_type": "stream",
     "text": [
      "\r",
      " 78%|███████████████████████████████████████████████████████████▌                | 1214/1550 [1:26:41<24:59,  4.46s/it]"
     ]
    },
    {
     "name": "stdout",
     "output_type": "stream",
     "text": [
      "['Fashion', 'Apparel Steal Deals', 'Apparel_1', 'Men', 'U.S.P.A under 899']\n",
      "1214\n",
      "https://www.amazon.in/dp/B0BT1TTGTS\n"
     ]
    },
    {
     "name": "stderr",
     "output_type": "stream",
     "text": [
      "\r",
      " 78%|███████████████████████████████████████████████████████████▌                | 1215/1550 [1:26:44<23:44,  4.25s/it]"
     ]
    },
    {
     "name": "stdout",
     "output_type": "stream",
     "text": [
      "Visit the U.S. POLO ASSN. Store\n",
      "['Clothing & Accessories', 'Men', 'T-Shirts & Polos', 'T-Shirts']\n",
      "1215\n",
      "https://www.amazon.in/dp/B0BLK4RQFP\n",
      "Visit the U.S. POLO ASSN. Store\n",
      "['Clothing & Accessories', 'Men', 'T-Shirts & Polos', 'Polos']\n"
     ]
    },
    {
     "name": "stderr",
     "output_type": "stream",
     "text": [
      "\r",
      " 78%|███████████████████████████████████████████████████████████▌                | 1216/1550 [1:26:49<23:44,  4.27s/it]"
     ]
    },
    {
     "name": "stdout",
     "output_type": "stream",
     "text": [
      "1216\n",
      "https://www.amazon.in/dp/B07PRBQ9G9\n"
     ]
    },
    {
     "name": "stderr",
     "output_type": "stream",
     "text": [
      "\r",
      " 79%|███████████████████████████████████████████████████████████▋                | 1217/1550 [1:26:52<22:13,  4.00s/it]"
     ]
    },
    {
     "name": "stdout",
     "output_type": "stream",
     "text": [
      "Visit the Kuchipoo Store\n",
      "['Clothing & Accessories', 'Baby', 'Baby Boys', 'T-Shirts & Polos']\n",
      "1217\n",
      "https://www.amazon.in/dp/B0BLK6YHRR\n",
      "Visit the U.S. POLO ASSN. Store\n"
     ]
    },
    {
     "name": "stderr",
     "output_type": "stream",
     "text": [
      "\r",
      " 79%|███████████████████████████████████████████████████████████▋                | 1218/1550 [1:26:56<22:31,  4.07s/it]"
     ]
    },
    {
     "name": "stdout",
     "output_type": "stream",
     "text": [
      "['Clothing & Accessories', 'Men', 'T-Shirts & Polos', 'Polos']\n",
      "1218\n",
      "https://www.amazon.in/dp/B08KFHJYX4\n",
      "Brand: Allen Solly\n"
     ]
    },
    {
     "name": "stderr",
     "output_type": "stream",
     "text": [
      "\r",
      " 79%|███████████████████████████████████████████████████████████▊                | 1219/1550 [1:27:00<22:21,  4.05s/it]"
     ]
    },
    {
     "name": "stdout",
     "output_type": "stream",
     "text": [
      "['Fashion', 'Apparel Steal Deals', 'Apparel_1', 'Men', 'T-shirts under 499']\n",
      "1219\n",
      "https://www.amazon.in/dp/B07RT938JS\n"
     ]
    },
    {
     "name": "stderr",
     "output_type": "stream",
     "text": [
      "\r",
      " 79%|███████████████████████████████████████████████████████████▊                | 1220/1550 [1:27:08<27:43,  5.04s/it]"
     ]
    },
    {
     "name": "stdout",
     "output_type": "stream",
     "text": [
      "Visit the U.S. POLO ASSN. Store\n",
      "['Clothing & Accessories', 'Men', 'T-Shirts & Polos', 'Polos']\n",
      "1220\n",
      "https://www.amazon.in/dp/B09TNZ8T6J\n",
      "Visit the THE DRY STATE Store\n"
     ]
    },
    {
     "name": "stderr",
     "output_type": "stream",
     "text": [
      "\r",
      " 79%|███████████████████████████████████████████████████████████▊                | 1221/1550 [1:27:12<25:58,  4.74s/it]"
     ]
    },
    {
     "name": "stdout",
     "output_type": "stream",
     "text": [
      "['Clothing & Accessories', 'Women', 'Western Wear', 'Tops, T-Shirts & Shirts', 'T-Shirts']\n",
      "1221\n",
      "https://www.amazon.in/dp/B0B751GD52\n",
      "Visit the U.S. POLO ASSN. Store\n"
     ]
    },
    {
     "name": "stderr",
     "output_type": "stream",
     "text": [
      "\r",
      " 79%|███████████████████████████████████████████████████████████▉                | 1222/1550 [1:27:16<24:44,  4.52s/it]"
     ]
    },
    {
     "name": "stdout",
     "output_type": "stream",
     "text": [
      "['Clothing & Accessories', 'Men', 'T-Shirts & Polos', 'Polos']\n",
      "1222\n",
      "https://www.amazon.in/dp/B0BWS4W5YS\n"
     ]
    },
    {
     "name": "stderr",
     "output_type": "stream",
     "text": [
      "\r",
      " 79%|███████████████████████████████████████████████████████████▉                | 1223/1550 [1:27:19<22:52,  4.20s/it]"
     ]
    },
    {
     "name": "stdout",
     "output_type": "stream",
     "text": [
      "Brand: U.S. POLO ASSN.\n",
      "['Clothing & Accessories', 'Men', 'T-Shirts & Polos', 'T-Shirts']\n",
      "1223\n",
      "https://www.amazon.in/dp/B09SGC4R2C\n"
     ]
    },
    {
     "name": "stderr",
     "output_type": "stream",
     "text": [
      "\r",
      " 79%|████████████████████████████████████████████████████████████                | 1224/1550 [1:27:23<22:10,  4.08s/it]"
     ]
    },
    {
     "name": "stdout",
     "output_type": "stream",
     "text": [
      "Brand: U.S. POLO ASSN.\n",
      "['Clothing & Accessories', 'Men', 'T-Shirts & Polos', 'T-Shirts']\n",
      "1224\n",
      "https://www.amazon.in/dp/B0C4NWT1NQ\n"
     ]
    },
    {
     "name": "stderr",
     "output_type": "stream",
     "text": [
      "\r",
      " 79%|████████████████████████████████████████████████████████████                | 1225/1550 [1:27:27<21:34,  3.98s/it]"
     ]
    },
    {
     "name": "stdout",
     "output_type": "stream",
     "text": [
      "Brand: U.S. Polo Assn.\n",
      "['Clothing & Accessories', 'Men', 'T-Shirts & Polos', 'Polos']\n",
      "1225\n",
      "https://www.amazon.in/dp/B0BYJXFWKT\n"
     ]
    },
    {
     "name": "stderr",
     "output_type": "stream",
     "text": [
      "\r",
      " 79%|████████████████████████████████████████████████████████████                | 1226/1550 [1:27:31<21:47,  4.03s/it]"
     ]
    },
    {
     "name": "stdout",
     "output_type": "stream",
     "text": [
      "Brand: Max\n",
      "['Clothing & Accessories', 'Men', 'T-Shirts & Polos', 'T-Shirts']\n",
      "1226\n",
      "https://www.amazon.in/dp/B0BT1VD6P3\n",
      "Visit the U.S. POLO ASSN. Store\n"
     ]
    },
    {
     "name": "stderr",
     "output_type": "stream",
     "text": [
      "\r",
      " 79%|████████████████████████████████████████████████████████████▏               | 1227/1550 [1:27:35<21:22,  3.97s/it]"
     ]
    },
    {
     "name": "stdout",
     "output_type": "stream",
     "text": [
      "['Clothing & Accessories', 'Men', 'T-Shirts & Polos', 'T-Shirts']\n",
      "1227\n",
      "https://www.amazon.in/dp/B07L6YDHQY\n"
     ]
    },
    {
     "name": "stderr",
     "output_type": "stream",
     "text": [
      "\r",
      " 79%|████████████████████████████████████████████████████████████▏               | 1228/1550 [1:27:39<20:58,  3.91s/it]"
     ]
    },
    {
     "name": "stdout",
     "output_type": "stream",
     "text": [
      "Visit the U.S. POLO ASSN. Store\n",
      "['Fashion', 'Apparel Steal Deals', 'Apparel_1', 'Men', 'T-Shirts & Polos under 699']\n",
      "1228\n",
      "https://www.amazon.in/dp/B0B8NDDCYN\n",
      "Visit the U.S. POLO ASSN. Store\n"
     ]
    },
    {
     "name": "stderr",
     "output_type": "stream",
     "text": [
      "\r",
      " 79%|████████████████████████████████████████████████████████████▎               | 1229/1550 [1:27:42<20:48,  3.89s/it]"
     ]
    },
    {
     "name": "stdout",
     "output_type": "stream",
     "text": [
      "['Fashion', 'Apparel Steal Deals', 'Apparel_1', 'Men', 'U.S.P.A under 899']\n",
      "1229\n",
      "https://www.amazon.in/dp/B01MTOADWA\n"
     ]
    },
    {
     "name": "stderr",
     "output_type": "stream",
     "text": [
      "\r",
      " 79%|████████████████████████████████████████████████████████████▎               | 1230/1550 [1:27:46<20:47,  3.90s/it]"
     ]
    },
    {
     "name": "stdout",
     "output_type": "stream",
     "text": [
      "Visit the U.S. POLO ASSN. Store\n",
      "['Clothing & Accessories', 'Men', 'T-Shirts & Polos', 'Polos']\n",
      "1230\n",
      "https://www.amazon.in/dp/B0BV31PLJ4\n"
     ]
    },
    {
     "name": "stderr",
     "output_type": "stream",
     "text": [
      "\r",
      " 79%|████████████████████████████████████████████████████████████▎               | 1231/1550 [1:27:50<20:14,  3.81s/it]"
     ]
    },
    {
     "name": "stdout",
     "output_type": "stream",
     "text": [
      "Visit the U.S. POLO ASSN. Store\n",
      "['Clothing & Accessories', 'Men', 'T-Shirts & Polos', 'Polos']\n",
      "1231\n",
      "https://www.amazon.in/dp/B09SPF7K2T\n",
      "Visit the LEOTUDE Store\n"
     ]
    },
    {
     "name": "stderr",
     "output_type": "stream",
     "text": [
      "\r",
      " 79%|████████████████████████████████████████████████████████████▍               | 1232/1550 [1:27:54<19:52,  3.75s/it]"
     ]
    },
    {
     "name": "stdout",
     "output_type": "stream",
     "text": [
      "['Clothing & Accessories', 'Men', 'T-Shirts & Polos', 'T-Shirts']\n",
      "1232\n",
      "https://www.amazon.in/dp/B0BKQMRD13\n",
      "Visit the U.S. POLO ASSN. Store\n"
     ]
    },
    {
     "name": "stderr",
     "output_type": "stream",
     "text": [
      "\r",
      " 80%|████████████████████████████████████████████████████████████▍               | 1233/1550 [1:27:59<22:29,  4.26s/it]"
     ]
    },
    {
     "name": "stdout",
     "output_type": "stream",
     "text": [
      "['Clothing & Accessories', 'Men', 'T-Shirts & Polos', 'Polos']\n",
      "1233\n",
      "https://www.amazon.in/dp/B0C3XL56KJ\n",
      "Visit the LEOTUDE Store\n"
     ]
    },
    {
     "name": "stderr",
     "output_type": "stream",
     "text": [
      "\r",
      " 80%|████████████████████████████████████████████████████████████▌               | 1234/1550 [1:28:03<21:22,  4.06s/it]"
     ]
    },
    {
     "name": "stdout",
     "output_type": "stream",
     "text": [
      "['Clothing & Accessories', 'Men', 'T-Shirts & Polos', 'T-Shirts']\n",
      "1234\n",
      "https://www.amazon.in/dp/B09CP1YBVG\n",
      "Visit the RodZen Store\n"
     ]
    },
    {
     "name": "stderr",
     "output_type": "stream",
     "text": [
      "\r",
      " 80%|████████████████████████████████████████████████████████████▌               | 1235/1550 [1:28:07<21:14,  4.05s/it]"
     ]
    },
    {
     "name": "stdout",
     "output_type": "stream",
     "text": [
      "['Clothing & Accessories', 'Men', 'T-Shirts & Polos', 'T-Shirts']\n",
      "1235\n",
      "https://www.amazon.in/dp/B0BVB3Z5Y5\n"
     ]
    },
    {
     "name": "stderr",
     "output_type": "stream",
     "text": [
      "\r",
      " 80%|████████████████████████████████████████████████████████████▌               | 1236/1550 [1:28:11<21:48,  4.17s/it]"
     ]
    },
    {
     "name": "stdout",
     "output_type": "stream",
     "text": [
      "Visit the LEOTUDE Store\n",
      "['Clothing & Accessories', 'Men', 'T-Shirts & Polos', 'T-Shirts']\n",
      "1236\n",
      "https://www.amazon.in/dp/B07R6ML9S5\n",
      "Visit the Van Heusen Store\n"
     ]
    },
    {
     "name": "stderr",
     "output_type": "stream",
     "text": [
      "\r",
      " 80%|████████████████████████████████████████████████████████████▋               | 1237/1550 [1:28:15<21:08,  4.05s/it]"
     ]
    },
    {
     "name": "stdout",
     "output_type": "stream",
     "text": [
      "['Fashion', 'The Plus Size Store', 'Brands', 'Innerwear brands', 'VH - Men']\n",
      "1237\n",
      "https://www.amazon.in/dp/B07R6MM4L8\n",
      "Visit the Van Heusen Store\n"
     ]
    },
    {
     "name": "stderr",
     "output_type": "stream",
     "text": [
      "\r",
      " 80%|████████████████████████████████████████████████████████████▋               | 1238/1550 [1:28:18<20:20,  3.91s/it]"
     ]
    },
    {
     "name": "stdout",
     "output_type": "stream",
     "text": [
      "['Clothing & Accessories', 'Men', 'T-Shirts & Polos', 'T-Shirts']\n",
      "1238\n",
      "https://www.amazon.in/dp/B09ZLM5BTC\n",
      "Visit the Van Heusen Store\n"
     ]
    },
    {
     "name": "stderr",
     "output_type": "stream",
     "text": [
      "\r",
      " 80%|████████████████████████████████████████████████████████████▊               | 1239/1550 [1:28:22<20:09,  3.89s/it]"
     ]
    },
    {
     "name": "stdout",
     "output_type": "stream",
     "text": [
      "['Fashion', 'Apparel Steal Deals', 'Apparel_1', 'Men', 'T-Shirts & Polos under 699']\n",
      "1239\n",
      "https://www.amazon.in/dp/B0BRNQ2QCW\n",
      "Visit the Van Heusen Store\n"
     ]
    },
    {
     "name": "stderr",
     "output_type": "stream",
     "text": [
      "\r",
      " 80%|████████████████████████████████████████████████████████████▊               | 1240/1550 [1:28:27<21:23,  4.14s/it]"
     ]
    },
    {
     "name": "stdout",
     "output_type": "stream",
     "text": [
      "['Clothing & Accessories', 'Men', 'T-Shirts & Polos', 'T-Shirts']\n",
      "1240\n",
      "https://www.amazon.in/dp/B083C2Z977\n"
     ]
    },
    {
     "name": "stderr",
     "output_type": "stream",
     "text": [
      "\r",
      " 80%|████████████████████████████████████████████████████████████▊               | 1241/1550 [1:28:31<21:11,  4.12s/it]"
     ]
    },
    {
     "name": "stdout",
     "output_type": "stream",
     "text": [
      "Visit the Van Heusen Store\n",
      "['Clothing & Accessories', 'Men', 'T-Shirts & Polos', 'T-Shirts']\n",
      "1241\n",
      "https://www.amazon.in/dp/B07RBZZRWH\n",
      "Visit the Van Heusen Store\n"
     ]
    },
    {
     "name": "stderr",
     "output_type": "stream",
     "text": [
      "\r",
      " 80%|████████████████████████████████████████████████████████████▉               | 1242/1550 [1:28:35<21:24,  4.17s/it]"
     ]
    },
    {
     "name": "stdout",
     "output_type": "stream",
     "text": [
      "['Clothing & Accessories', 'Men', 'T-Shirts & Polos', 'T-Shirts']\n",
      "1242\n",
      "https://www.amazon.in/dp/B09QH35CP5\n",
      "Brand: Van Heusen Flex\n"
     ]
    },
    {
     "name": "stderr",
     "output_type": "stream",
     "text": [
      "\r",
      " 80%|████████████████████████████████████████████████████████████▉               | 1243/1550 [1:28:39<20:19,  3.97s/it]"
     ]
    },
    {
     "name": "stdout",
     "output_type": "stream",
     "text": [
      "['Fashion', 'Apparel Steal Deals', 'Apparel_1', 'Men', 'T-Shirts & Polos under 699']\n",
      "1243\n",
      "https://www.amazon.in/dp/B0C86QM7H4\n"
     ]
    },
    {
     "name": "stderr",
     "output_type": "stream",
     "text": [
      "\r",
      " 80%|████████████████████████████████████████████████████████████▉               | 1244/1550 [1:28:42<18:21,  3.60s/it]"
     ]
    },
    {
     "name": "stdout",
     "output_type": "stream",
     "text": [
      "Visit the Riyasthya Store\n",
      "['Health & Personal Care', 'Oral Care', 'Toothpastes']\n",
      "1244\n",
      "https://www.amazon.in/dp/B00A8G7EGO\n"
     ]
    },
    {
     "name": "stderr",
     "output_type": "stream",
     "text": [
      "\r",
      " 80%|█████████████████████████████████████████████████████████████               | 1245/1550 [1:28:45<18:26,  3.63s/it]"
     ]
    },
    {
     "name": "stdout",
     "output_type": "stream",
     "text": [
      "Brand: Colgate\n",
      "['Health & Personal Care', \"Men's Grooming store\", 'Oral Care', 'Toothpaste']\n",
      "1245\n",
      "https://www.amazon.in/dp/B0CDDGB3K7\n"
     ]
    },
    {
     "name": "stderr",
     "output_type": "stream",
     "text": [
      "\r",
      " 80%|█████████████████████████████████████████████████████████████               | 1246/1550 [1:28:50<20:05,  3.97s/it]"
     ]
    },
    {
     "name": "stdout",
     "output_type": "stream",
     "text": [
      "Brand: Colgate\n",
      "['Health & Personal Care', 'Oral Care', 'Toothpastes']\n",
      "1246\n",
      "https://www.amazon.in/dp/B0C6Y5QMN5\n"
     ]
    },
    {
     "name": "stderr",
     "output_type": "stream",
     "text": [
      "\r",
      " 80%|█████████████████████████████████████████████████████████████▏              | 1247/1550 [1:28:54<20:08,  3.99s/it]"
     ]
    },
    {
     "name": "stdout",
     "output_type": "stream",
     "text": [
      "Visit the Maharishi Ayurveda Store\n",
      "['Health & Personal Care', 'Oral Care', 'Toothpastes']\n",
      "1247\n",
      "https://www.amazon.in/dp/B0B5XM6RBX\n"
     ]
    },
    {
     "name": "stderr",
     "output_type": "stream",
     "text": [
      "\r",
      " 81%|█████████████████████████████████████████████████████████████▏              | 1248/1550 [1:28:58<19:27,  3.87s/it]"
     ]
    },
    {
     "name": "stdout",
     "output_type": "stream",
     "text": [
      "Visit the JAGAT Store\n",
      "['Health & Personal Care', 'Oral Care', 'Toothpastes']\n",
      "1248\n",
      "https://www.amazon.in/dp/B00XHHT0ZY\n"
     ]
    },
    {
     "name": "stderr",
     "output_type": "stream",
     "text": [
      "\r",
      " 81%|█████████████████████████████████████████████████████████████▏              | 1249/1550 [1:29:02<19:26,  3.88s/it]"
     ]
    },
    {
     "name": "stdout",
     "output_type": "stream",
     "text": [
      "Brand: Extra-Wide Sock Company\n",
      "['Health & Personal Care', 'Oral Care', 'Toothpastes']\n",
      "1249\n",
      "https://www.amazon.in/dp/B07TJQC52W\n"
     ]
    },
    {
     "name": "stderr",
     "output_type": "stream",
     "text": [
      "\r",
      " 81%|█████████████████████████████████████████████████████████████▎              | 1250/1550 [1:29:06<19:33,  3.91s/it]"
     ]
    },
    {
     "name": "stdout",
     "output_type": "stream",
     "text": [
      "Brand: DANT RATTAN\n",
      "['Health & Personal Care', 'Oral Care', 'Toothpastes']\n",
      "1250\n",
      "https://www.amazon.in/dp/B076VHTSFH\n"
     ]
    },
    {
     "name": "stderr",
     "output_type": "stream",
     "text": [
      "\r",
      " 81%|█████████████████████████████████████████████████████████████▎              | 1251/1550 [1:29:09<19:26,  3.90s/it]"
     ]
    },
    {
     "name": "stdout",
     "output_type": "stream",
     "text": [
      "Brand: Pepsodent\n",
      "['Health & Personal Care', 'Oral Care', 'Toothpastes']\n",
      "1251\n",
      "https://www.amazon.in/dp/B007E9KIYS\n"
     ]
    },
    {
     "name": "stderr",
     "output_type": "stream",
     "text": [
      "\r",
      " 81%|█████████████████████████████████████████████████████████████▍              | 1252/1550 [1:29:13<19:17,  3.89s/it]"
     ]
    },
    {
     "name": "stdout",
     "output_type": "stream",
     "text": [
      "Brand: Pepsodent\n",
      "['Health & Personal Care', 'Oral Care', 'Toothpastes']\n",
      "1252\n",
      "https://www.amazon.in/dp/B0C4PTD1KN\n"
     ]
    },
    {
     "name": "stderr",
     "output_type": "stream",
     "text": [
      "\r",
      " 81%|█████████████████████████████████████████████████████████████▍              | 1253/1550 [1:29:17<18:52,  3.81s/it]"
     ]
    },
    {
     "name": "stdout",
     "output_type": "stream",
     "text": [
      "Brand: Levi's\n",
      "['Clothing & Accessories', 'Men', 'T-Shirts & Polos', 'T-Shirts']\n",
      "1253\n",
      "https://www.amazon.in/dp/B0B7R2VJH6\n"
     ]
    },
    {
     "name": "stderr",
     "output_type": "stream",
     "text": [
      "\r",
      " 81%|█████████████████████████████████████████████████████████████▍              | 1254/1550 [1:29:21<19:23,  3.93s/it]"
     ]
    },
    {
     "name": "stdout",
     "output_type": "stream",
     "text": [
      "Visit the DABUR Store\n",
      "['Health & Personal Care', 'Oral Care', 'Toothpastes']\n",
      "1254\n",
      "https://www.amazon.in/dp/B0CCXZGTTZ\n"
     ]
    },
    {
     "name": "stderr",
     "output_type": "stream",
     "text": [
      "\r",
      " 81%|█████████████████████████████████████████████████████████████▌              | 1255/1550 [1:29:25<18:38,  3.79s/it]"
     ]
    },
    {
     "name": "stdout",
     "output_type": "stream",
     "text": [
      "Brand: DABUR\n",
      "['Health & Personal Care', 'Oral Care', 'Toothpastes']\n",
      "1255\n",
      "https://www.amazon.in/dp/B074H2FHH6\n"
     ]
    },
    {
     "name": "stderr",
     "output_type": "stream",
     "text": [
      "\r",
      " 81%|█████████████████████████████████████████████████████████████▌              | 1256/1550 [1:29:28<18:37,  3.80s/it]"
     ]
    },
    {
     "name": "stdout",
     "output_type": "stream",
     "text": [
      "Visit the DABUR Store\n",
      "['Health & Personal Care', 'Oral Care', 'Toothpastes']\n",
      "1256\n",
      "https://www.amazon.in/dp/B0B7X673B6\n"
     ]
    },
    {
     "name": "stderr",
     "output_type": "stream",
     "text": [
      "\r",
      " 81%|█████████████████████████████████████████████████████████████▋              | 1257/1550 [1:29:33<19:01,  3.90s/it]"
     ]
    },
    {
     "name": "stdout",
     "output_type": "stream",
     "text": [
      "Brand: DABUR\n",
      "['Health & Personal Care', 'Oral Care', 'Toothpastes']\n",
      "1257\n",
      "https://www.amazon.in/dp/B0CDDCZD6L\n"
     ]
    },
    {
     "name": "stderr",
     "output_type": "stream",
     "text": [
      "\r",
      " 81%|█████████████████████████████████████████████████████████████▋              | 1258/1550 [1:29:37<19:32,  4.02s/it]"
     ]
    },
    {
     "name": "stdout",
     "output_type": "stream",
     "text": [
      "Brand: Sensodyne\n",
      "['Health & Personal Care', 'Oral Care', 'Toothpastes']\n",
      "1258\n",
      "https://www.amazon.in/dp/B07B4KWXVW\n"
     ]
    },
    {
     "name": "stderr",
     "output_type": "stream",
     "text": [
      "\r",
      " 81%|█████████████████████████████████████████████████████████████▋              | 1259/1550 [1:29:41<19:35,  4.04s/it]"
     ]
    },
    {
     "name": "stdout",
     "output_type": "stream",
     "text": [
      "Visit the DentoShine Store\n",
      "['Health & Personal Care', 'Oral Care', 'Toothpastes']\n",
      "1259\n",
      "https://www.amazon.in/dp/B07BB6NWBQ\n"
     ]
    },
    {
     "name": "stderr",
     "output_type": "stream",
     "text": [
      "\r",
      " 81%|█████████████████████████████████████████████████████████████▊              | 1260/1550 [1:29:46<20:21,  4.21s/it]"
     ]
    },
    {
     "name": "stdout",
     "output_type": "stream",
     "text": [
      "Brand: Pepsodent\n",
      "['Health & Personal Care', 'Oral Care', 'Toothpastes']\n",
      "1260\n",
      "https://www.amazon.in/dp/B001UGMZIS\n"
     ]
    },
    {
     "name": "stderr",
     "output_type": "stream",
     "text": [
      "\r",
      " 81%|█████████████████████████████████████████████████████████████▊              | 1261/1550 [1:29:49<19:21,  4.02s/it]"
     ]
    },
    {
     "name": "stdout",
     "output_type": "stream",
     "text": [
      "Brand: Pepsodent\n",
      "['Health & Personal Care', \"Men's Grooming store\", 'Oral Care', 'Toothpaste']\n",
      "1261\n",
      "https://www.amazon.in/dp/B010AXY2VY\n",
      "Brand: Pepsodent\n",
      "['Health & Personal Care', 'Personal Care', 'Oral Care', 'Toothpastes & Gels']\n"
     ]
    },
    {
     "name": "stderr",
     "output_type": "stream",
     "text": [
      "\r",
      " 81%|█████████████████████████████████████████████████████████████▉              | 1262/1550 [1:29:53<18:30,  3.86s/it]"
     ]
    },
    {
     "name": "stdout",
     "output_type": "stream",
     "text": [
      "1262\n",
      "https://www.amazon.in/dp/B019Z1ZET6\n"
     ]
    },
    {
     "name": "stderr",
     "output_type": "stream",
     "text": [
      "\r",
      " 81%|█████████████████████████████████████████████████████████████▉              | 1263/1550 [1:29:56<17:58,  3.76s/it]"
     ]
    },
    {
     "name": "stdout",
     "output_type": "stream",
     "text": [
      "Brand: Pepsodent\n",
      "['Health & Personal Care', 'Oral Care', 'Toothpastes']\n",
      "1263\n",
      "https://www.amazon.in/dp/B01IA9BKRE\n"
     ]
    },
    {
     "name": "stderr",
     "output_type": "stream",
     "text": [
      "\r",
      " 82%|█████████████████████████████████████████████████████████████▉              | 1264/1550 [1:30:00<17:44,  3.72s/it]"
     ]
    },
    {
     "name": "stdout",
     "output_type": "stream",
     "text": [
      "Brand: Pepsodent\n",
      "['Health & Personal Care', 'Oral Care', 'Toothpastes']\n",
      "1264\n",
      "https://www.amazon.in/dp/B08R6XRMQH\n"
     ]
    },
    {
     "name": "stderr",
     "output_type": "stream",
     "text": [
      "\r",
      " 82%|██████████████████████████████████████████████████████████████              | 1265/1550 [1:30:04<18:25,  3.88s/it]"
     ]
    },
    {
     "name": "stdout",
     "output_type": "stream",
     "text": [
      "Brand: Pepsodent\n",
      "['Health & Personal Care', 'Oral Care', 'Toothpastes']\n",
      "1265\n",
      "https://www.amazon.in/dp/B076QLCFVW\n",
      "Brand: Pepsodent\n"
     ]
    },
    {
     "name": "stderr",
     "output_type": "stream",
     "text": [
      "\r",
      " 82%|██████████████████████████████████████████████████████████████              | 1266/1550 [1:30:07<17:48,  3.76s/it]"
     ]
    },
    {
     "name": "stdout",
     "output_type": "stream",
     "text": [
      "['Health & Personal Care', 'Oral Care', 'Toothpastes']\n",
      "1266\n",
      "https://www.amazon.in/dp/B0BCGB3DPD\n",
      "Brand: Generic\n"
     ]
    },
    {
     "name": "stderr",
     "output_type": "stream",
     "text": [
      "\r",
      " 82%|██████████████████████████████████████████████████████████████              | 1267/1550 [1:30:11<17:45,  3.76s/it]"
     ]
    },
    {
     "name": "stdout",
     "output_type": "stream",
     "text": [
      "['Health & Personal Care', 'Oral Care', 'Toothpastes']\n",
      "1267\n",
      "https://www.amazon.in/dp/B01MXJBQKE\n",
      "Visit the DR. DENTAIDS Store\n"
     ]
    },
    {
     "name": "stderr",
     "output_type": "stream",
     "text": [
      "\r",
      " 82%|██████████████████████████████████████████████████████████████▏             | 1268/1550 [1:30:15<18:06,  3.85s/it]"
     ]
    },
    {
     "name": "stdout",
     "output_type": "stream",
     "text": [
      "['Health & Personal Care', 'Oral Care', 'Toothpastes']\n",
      "1268\n",
      "https://www.amazon.in/dp/B0C46695QM\n",
      "Brand: Herbodent\n",
      "['Health & Personal Care', 'Oral Care', 'Toothpastes']\n"
     ]
    },
    {
     "name": "stderr",
     "output_type": "stream",
     "text": [
      "\r",
      " 82%|██████████████████████████████████████████████████████████████▏             | 1269/1550 [1:30:19<18:17,  3.91s/it]"
     ]
    },
    {
     "name": "stdout",
     "output_type": "stream",
     "text": [
      "1269\n",
      "https://www.amazon.in/dp/B0C467P3YJ\n"
     ]
    },
    {
     "name": "stderr",
     "output_type": "stream",
     "text": [
      "\r",
      " 82%|██████████████████████████████████████████████████████████████▎             | 1270/1550 [1:30:23<17:44,  3.80s/it]"
     ]
    },
    {
     "name": "stdout",
     "output_type": "stream",
     "text": [
      "Brand: Herbodent\n",
      "['Health & Personal Care', 'Oral Care', 'Toothpastes']\n",
      "1270\n",
      "https://www.amazon.in/dp/B0BLVNP3RW\n"
     ]
    },
    {
     "name": "stderr",
     "output_type": "stream",
     "text": [
      "\r",
      " 82%|██████████████████████████████████████████████████████████████▎             | 1271/1550 [1:30:27<18:37,  4.01s/it]"
     ]
    },
    {
     "name": "stdout",
     "output_type": "stream",
     "text": [
      "Visit the Perfora Store\n",
      "['Health & Personal Care', 'Oral Care', 'Toothpastes']\n",
      "1271\n",
      "https://www.amazon.in/dp/B0BCG7QYKG\n"
     ]
    },
    {
     "name": "stderr",
     "output_type": "stream",
     "text": [
      "\r",
      " 82%|██████████████████████████████████████████████████████████████▎             | 1272/1550 [1:30:31<17:58,  3.88s/it]"
     ]
    },
    {
     "name": "stdout",
     "output_type": "stream",
     "text": [
      "Brand: Generic\n",
      "['Health & Personal Care', 'Oral Care', 'Toothpastes']\n",
      "1272\n",
      "https://www.amazon.in/dp/B0BH4T96DH\n"
     ]
    },
    {
     "name": "stderr",
     "output_type": "stream",
     "text": [
      "\r",
      " 82%|██████████████████████████████████████████████████████████████▍             | 1273/1550 [1:30:35<17:57,  3.89s/it]"
     ]
    },
    {
     "name": "stdout",
     "output_type": "stream",
     "text": [
      "Visit the SPICTA Store\n",
      "['Health & Personal Care', 'Oral Care', 'Toothpastes']\n",
      "1273\n",
      "https://www.amazon.in/dp/B07WBXTLX8\n"
     ]
    },
    {
     "name": "stderr",
     "output_type": "stream",
     "text": [
      "\r",
      " 82%|██████████████████████████████████████████████████████████████▍             | 1274/1550 [1:30:39<18:06,  3.94s/it]"
     ]
    },
    {
     "name": "stdout",
     "output_type": "stream",
     "text": [
      "Visit the BENTODENT TOOTHPASTE Store\n",
      "['Health & Personal Care', 'Oral Care', 'Toothpastes']\n",
      "1274\n",
      "https://www.amazon.in/dp/B08K8FXM81\n"
     ]
    },
    {
     "name": "stderr",
     "output_type": "stream",
     "text": [
      "\r",
      " 82%|██████████████████████████████████████████████████████████████▌             | 1275/1550 [1:30:43<18:34,  4.05s/it]"
     ]
    },
    {
     "name": "stdout",
     "output_type": "stream",
     "text": [
      "Visit the DABUR Store\n",
      "['Health & Personal Care', 'Oral Care', 'Toothpastes']\n",
      "1275\n",
      "https://www.amazon.in/dp/B0BYZLYXWZ\n"
     ]
    },
    {
     "name": "stderr",
     "output_type": "stream",
     "text": [
      "\r",
      " 82%|██████████████████████████████████████████████████████████████▌             | 1276/1550 [1:30:47<17:47,  3.90s/it]"
     ]
    },
    {
     "name": "stdout",
     "output_type": "stream",
     "text": [
      "Visit the Himalaya Store\n",
      "['Health & Personal Care', 'Oral Care', 'Toothpastes']\n",
      "1276\n",
      "https://www.amazon.in/dp/B08LH9LH2G\n"
     ]
    },
    {
     "name": "stderr",
     "output_type": "stream",
     "text": [
      "\r",
      " 82%|██████████████████████████████████████████████████████████████▌             | 1277/1550 [1:30:51<17:51,  3.92s/it]"
     ]
    },
    {
     "name": "stdout",
     "output_type": "stream",
     "text": [
      "Brand: Colgate\n",
      "['Health & Personal Care', 'Oral Care', 'Toothpastes']\n",
      "1277\n",
      "https://www.amazon.in/dp/B00I6F77AW\n"
     ]
    },
    {
     "name": "stderr",
     "output_type": "stream",
     "text": [
      "\r",
      " 82%|██████████████████████████████████████████████████████████████▋             | 1278/1550 [1:30:55<18:18,  4.04s/it]"
     ]
    },
    {
     "name": "stdout",
     "output_type": "stream",
     "text": [
      "Brand: Colgate\n",
      "['Health & Personal Care', \"Men's Grooming store\", 'Oral Care', 'Mouthwash & Breath Fresheners']\n",
      "1278\n",
      "https://www.amazon.in/dp/B08X4FJCMQ\n"
     ]
    },
    {
     "name": "stderr",
     "output_type": "stream",
     "text": [
      "\r",
      " 83%|██████████████████████████████████████████████████████████████▋             | 1279/1550 [1:30:59<18:32,  4.10s/it]"
     ]
    },
    {
     "name": "stdout",
     "output_type": "stream",
     "text": [
      "Brand: Colgate\n",
      "['Health & Personal Care', 'Oral Care', 'Toothpastes']\n",
      "1279\n",
      "https://www.amazon.in/dp/B0BFPNB2DK\n"
     ]
    },
    {
     "name": "stderr",
     "output_type": "stream",
     "text": [
      "\r",
      " 83%|██████████████████████████████████████████████████████████████▊             | 1280/1550 [1:31:03<18:28,  4.10s/it]"
     ]
    },
    {
     "name": "stdout",
     "output_type": "stream",
     "text": [
      "Brand: Colgate\n",
      "['Health & Personal Care', 'Oral Care', 'Toothpastes']\n",
      "1280\n",
      "https://www.amazon.in/dp/B07MQF3S7H\n"
     ]
    },
    {
     "name": "stderr",
     "output_type": "stream",
     "text": [
      "\r",
      " 83%|██████████████████████████████████████████████████████████████▊             | 1281/1550 [1:31:08<19:09,  4.27s/it]"
     ]
    },
    {
     "name": "stdout",
     "output_type": "stream",
     "text": [
      "Brand: Colgate\n",
      "['Health & Personal Care', 'Oral Care', 'Toothpastes']\n",
      "1281\n",
      "https://www.amazon.in/dp/B0B2PVXWZS\n"
     ]
    },
    {
     "name": "stderr",
     "output_type": "stream",
     "text": [
      "\r",
      " 83%|██████████████████████████████████████████████████████████████▊             | 1282/1550 [1:31:12<19:10,  4.29s/it]"
     ]
    },
    {
     "name": "stdout",
     "output_type": "stream",
     "text": [
      "Brand: Colgate\n",
      "['Health & Personal Care', 'Oral Care', 'Toothpastes']\n",
      "1282\n",
      "https://www.amazon.in/dp/B0755FMSWZ\n"
     ]
    },
    {
     "name": "stderr",
     "output_type": "stream",
     "text": [
      "\r",
      " 83%|██████████████████████████████████████████████████████████████▉             | 1283/1550 [1:31:18<20:19,  4.57s/it]"
     ]
    },
    {
     "name": "stdout",
     "output_type": "stream",
     "text": [
      "Brand: Colgate\n",
      "['Health & Personal Care', 'Oral Care', 'Toothpastes']\n",
      "1283\n",
      "https://www.amazon.in/dp/B0B4SZSNLM\n",
      "Brand: Levi's\n",
      "['Clothing & Accessories', 'Men', 'T-Shirts & Polos', 'Polos']\n"
     ]
    },
    {
     "name": "stderr",
     "output_type": "stream",
     "text": [
      "\r",
      " 83%|██████████████████████████████████████████████████████████████▉             | 1284/1550 [1:31:22<19:18,  4.36s/it]"
     ]
    },
    {
     "name": "stdout",
     "output_type": "stream",
     "text": [
      "1284\n",
      "https://www.amazon.in/dp/B0BX735B63\n"
     ]
    },
    {
     "name": "stderr",
     "output_type": "stream",
     "text": [
      "\r",
      " 83%|███████████████████████████████████████████████████████████████             | 1285/1550 [1:31:25<18:20,  4.15s/it]"
     ]
    },
    {
     "name": "stdout",
     "output_type": "stream",
     "text": [
      "Brand: Levi's\n",
      "['Clothing & Accessories', 'Men', 'T-Shirts & Polos', 'T-Shirts']\n",
      "1285\n",
      "https://www.amazon.in/dp/B0C7ZPK2RH\n",
      "Brand: Allen Solly\n"
     ]
    },
    {
     "name": "stderr",
     "output_type": "stream",
     "text": [
      "\r",
      " 83%|███████████████████████████████████████████████████████████████             | 1286/1550 [1:31:29<18:12,  4.14s/it]"
     ]
    },
    {
     "name": "stdout",
     "output_type": "stream",
     "text": [
      "['Clothing & Accessories', 'Men', 'T-Shirts & Polos', 'T-Shirts']\n",
      "1286\n",
      "https://www.amazon.in/dp/B0BSRZFNSK\n",
      "Brand: Red Tape\n",
      "['Clothing & Accessories', 'Men', 'T-Shirts & Polos', 'Polos']\n"
     ]
    },
    {
     "name": "stderr",
     "output_type": "stream",
     "text": [
      "\r",
      " 83%|███████████████████████████████████████████████████████████████             | 1287/1550 [1:31:33<17:29,  3.99s/it]"
     ]
    },
    {
     "name": "stdout",
     "output_type": "stream",
     "text": [
      "1287\n",
      "https://www.amazon.in/dp/B09CQFWFBZ\n",
      "Visit the Livinguard Store\n"
     ]
    },
    {
     "name": "stderr",
     "output_type": "stream",
     "text": [
      "\r",
      " 83%|███████████████████████████████████████████████████████████████▏            | 1288/1550 [1:31:37<17:15,  3.95s/it]"
     ]
    },
    {
     "name": "stdout",
     "output_type": "stream",
     "text": [
      "['Clothing & Accessories', 'Men', 'T-Shirts & Polos', 'T-Shirts']\n",
      "1288\n",
      "https://www.amazon.in/dp/B09DDH7WH5\n",
      "Visit the Livinguard Store\n"
     ]
    },
    {
     "name": "stderr",
     "output_type": "stream",
     "text": [
      "\r",
      " 83%|███████████████████████████████████████████████████████████████▏            | 1289/1550 [1:31:40<16:18,  3.75s/it]"
     ]
    },
    {
     "name": "stdout",
     "output_type": "stream",
     "text": [
      "['Clothing & Accessories', 'Men', 'T-Shirts & Polos', 'Polos']\n",
      "1289\n",
      "https://www.amazon.in/dp/B09H31HSQ6\n"
     ]
    },
    {
     "name": "stderr",
     "output_type": "stream",
     "text": [
      "\r",
      " 83%|███████████████████████████████████████████████████████████████▎            | 1290/1550 [1:31:44<15:59,  3.69s/it]"
     ]
    },
    {
     "name": "stdout",
     "output_type": "stream",
     "text": [
      "Brand: Lacoste\n",
      "['Clothing & Accessories', 'Men', 'T-Shirts & Polos', 'T-Shirts']\n",
      "1290\n",
      "https://www.amazon.in/dp/B0BV42MMLH\n",
      "Brand: Lacoste\n"
     ]
    },
    {
     "name": "stderr",
     "output_type": "stream",
     "text": [
      "\r",
      " 83%|███████████████████████████████████████████████████████████████▎            | 1291/1550 [1:31:47<16:06,  3.73s/it]"
     ]
    },
    {
     "name": "stdout",
     "output_type": "stream",
     "text": [
      "['Clothing & Accessories', 'Women', 'Western Wear', 'Tops, T-Shirts & Shirts', 'T-Shirts']\n",
      "1291\n",
      "https://www.amazon.in/dp/B0BNGG97BT\n",
      "Brand: Lacoste\n"
     ]
    },
    {
     "name": "stderr",
     "output_type": "stream",
     "text": [
      "\r",
      " 83%|███████████████████████████████████████████████████████████████▎            | 1292/1550 [1:31:51<16:14,  3.78s/it]"
     ]
    },
    {
     "name": "stdout",
     "output_type": "stream",
     "text": [
      "['Clothing & Accessories', 'Men', 'Winter Wear', 'Sweatshirts & Hoodies', 'Sweatshirts']\n",
      "1292\n",
      "https://www.amazon.in/dp/B0BV4GBDNP\n"
     ]
    },
    {
     "name": "stderr",
     "output_type": "stream",
     "text": [
      "\r",
      " 83%|███████████████████████████████████████████████████████████████▍            | 1293/1550 [1:31:55<15:51,  3.70s/it]"
     ]
    },
    {
     "name": "stdout",
     "output_type": "stream",
     "text": [
      "Brand: Lacoste\n",
      "['Clothing & Accessories', 'Men', 'T-Shirts & Polos', 'Polos']\n",
      "1293\n",
      "https://www.amazon.in/dp/B0BV48SYCJ\n",
      "Brand: Lacoste\n"
     ]
    },
    {
     "name": "stderr",
     "output_type": "stream",
     "text": [
      "\r",
      " 83%|███████████████████████████████████████████████████████████████▍            | 1294/1550 [1:31:59<15:56,  3.74s/it]"
     ]
    },
    {
     "name": "stdout",
     "output_type": "stream",
     "text": [
      "['Clothing & Accessories', 'Men', 'T-Shirts & Polos', 'T-Shirts']\n",
      "1294\n",
      "https://www.amazon.in/dp/B0B9RRR8KG\n"
     ]
    },
    {
     "name": "stderr",
     "output_type": "stream",
     "text": [
      "\r",
      " 84%|███████████████████████████████████████████████████████████████▍            | 1295/1550 [1:32:02<15:46,  3.71s/it]"
     ]
    },
    {
     "name": "stdout",
     "output_type": "stream",
     "text": [
      "Brand: Lacoste\n",
      "['Clothing & Accessories', 'Men', 'T-Shirts & Polos', 'Polos']\n",
      "1295\n",
      "https://www.amazon.in/dp/B0BBSKSX8X\n"
     ]
    },
    {
     "name": "stderr",
     "output_type": "stream",
     "text": [
      "\r",
      " 84%|███████████████████████████████████████████████████████████████▌            | 1296/1550 [1:32:06<15:31,  3.67s/it]"
     ]
    },
    {
     "name": "stdout",
     "output_type": "stream",
     "text": [
      "Brand: Allen Solly\n",
      "['Clothing & Accessories', 'Men', 'T-Shirts & Polos', 'T-Shirts']\n",
      "1296\n",
      "https://www.amazon.in/dp/B0C7ZR2QGX\n"
     ]
    },
    {
     "name": "stderr",
     "output_type": "stream",
     "text": [
      "\r",
      " 84%|███████████████████████████████████████████████████████████████▌            | 1297/1550 [1:32:10<15:38,  3.71s/it]"
     ]
    },
    {
     "name": "stdout",
     "output_type": "stream",
     "text": [
      "Brand: Allen Solly\n",
      "['Clothing & Accessories', 'Men', 'T-Shirts & Polos', 'T-Shirts']\n",
      "1297\n",
      "https://www.amazon.in/dp/B0C7ZNXW8N\n",
      "Brand: Allen Solly\n"
     ]
    },
    {
     "name": "stderr",
     "output_type": "stream",
     "text": [
      "\r",
      " 84%|███████████████████████████████████████████████████████████████▋            | 1298/1550 [1:32:14<15:41,  3.74s/it]"
     ]
    },
    {
     "name": "stdout",
     "output_type": "stream",
     "text": [
      "['Clothing & Accessories', 'Men', 'T-Shirts & Polos', 'T-Shirts']\n",
      "1298\n",
      "https://www.amazon.in/dp/B0C7ZNMGDF\n"
     ]
    },
    {
     "name": "stderr",
     "output_type": "stream",
     "text": [
      "\r",
      " 84%|███████████████████████████████████████████████████████████████▋            | 1299/1550 [1:32:18<16:47,  4.01s/it]"
     ]
    },
    {
     "name": "stdout",
     "output_type": "stream",
     "text": [
      "Brand: Allen Solly\n",
      "['Clothing & Accessories', 'Men', 'T-Shirts & Polos', 'T-Shirts']\n",
      "1299\n",
      "https://www.amazon.in/dp/B09TDT8H9Y\n",
      "Brand: Allen Solly\n"
     ]
    },
    {
     "name": "stderr",
     "output_type": "stream",
     "text": [
      "\r",
      " 84%|███████████████████████████████████████████████████████████████▋            | 1300/1550 [1:32:22<16:31,  3.97s/it]"
     ]
    },
    {
     "name": "stdout",
     "output_type": "stream",
     "text": [
      "['Fashion', 'Apparel Steal Deals', 'Apparel_1', 'Men', 'Polos & T-Shirts - Min 50% Off']\n",
      "1300\n",
      "https://www.amazon.in/dp/B09VT6K2PB\n",
      "Brand: Allen Solly\n"
     ]
    },
    {
     "name": "stderr",
     "output_type": "stream",
     "text": [
      "\r",
      " 84%|███████████████████████████████████████████████████████████████▊            | 1301/1550 [1:32:26<17:01,  4.10s/it]"
     ]
    },
    {
     "name": "stdout",
     "output_type": "stream",
     "text": [
      "['Fashion', 'Apparel Steal Deals', 'Apparel_1', 'Men', 'T-shirts under 499']\n",
      "1301\n",
      "https://www.amazon.in/dp/B0BZ4YB7SD\n"
     ]
    },
    {
     "name": "stderr",
     "output_type": "stream",
     "text": [
      "\r",
      " 84%|███████████████████████████████████████████████████████████████▊            | 1302/1550 [1:32:30<16:29,  3.99s/it]"
     ]
    },
    {
     "name": "stdout",
     "output_type": "stream",
     "text": [
      "Brand: Allen Solly\n",
      "['Clothing & Accessories', 'Men', 'T-Shirts & Polos', 'Polos']\n",
      "1302\n",
      "https://www.amazon.in/dp/B0C1H5NYYM\n"
     ]
    },
    {
     "name": "stderr",
     "output_type": "stream",
     "text": [
      "\r",
      " 84%|███████████████████████████████████████████████████████████████▉            | 1303/1550 [1:32:34<15:53,  3.86s/it]"
     ]
    },
    {
     "name": "stdout",
     "output_type": "stream",
     "text": [
      "Visit the LookMark Store\n",
      "['Clothing & Accessories', 'Men', 'Ethnic Wear', 'Kurta Sets']\n",
      "1303\n",
      "https://www.amazon.in/dp/B0C2HGYNVQ\n",
      "Brand: Jockey\n"
     ]
    },
    {
     "name": "stderr",
     "output_type": "stream",
     "text": [
      "\r",
      " 84%|███████████████████████████████████████████████████████████████▉            | 1304/1550 [1:32:38<15:44,  3.84s/it]"
     ]
    },
    {
     "name": "stdout",
     "output_type": "stream",
     "text": [
      "['Clothing & Accessories', 'Women', 'Western Wear', 'Tops, T-Shirts & Shirts', 'T-Shirts']\n",
      "1304\n",
      "https://www.amazon.in/dp/B0BZLBMC8D\n"
     ]
    },
    {
     "name": "stderr",
     "output_type": "stream",
     "text": [
      "\r",
      " 84%|███████████████████████████████████████████████████████████████▉            | 1305/1550 [1:32:42<16:34,  4.06s/it]"
     ]
    },
    {
     "name": "stdout",
     "output_type": "stream",
     "text": [
      "Visit the CHKOKKO Store\n",
      "['Clothing & Accessories', 'Men', 'T-Shirts & Polos', 'T-Shirts']\n",
      "1305\n",
      "https://www.amazon.in/dp/B0BQZ4VLPN\n"
     ]
    },
    {
     "name": "stderr",
     "output_type": "stream",
     "text": [
      "\r",
      " 84%|████████████████████████████████████████████████████████████████            | 1306/1550 [1:32:46<16:04,  3.95s/it]"
     ]
    },
    {
     "name": "stdout",
     "output_type": "stream",
     "text": [
      "Brand: Max\n",
      "['Clothing & Accessories', 'Boys', 'T-Shirts & Polos', 'T-Shirts']\n",
      "1306\n",
      "https://www.amazon.in/dp/B0BKQ6CF55\n"
     ]
    },
    {
     "name": "stderr",
     "output_type": "stream",
     "text": [
      "\r",
      " 84%|████████████████████████████████████████████████████████████████            | 1307/1550 [1:32:50<15:47,  3.90s/it]"
     ]
    },
    {
     "name": "stdout",
     "output_type": "stream",
     "text": [
      "Brand: Peter England\n",
      "['Clothing & Accessories', 'Men', 'Shirts', 'Casual Shirts']\n",
      "1307\n",
      "https://www.amazon.in/dp/B0BTHG7BLV\n"
     ]
    },
    {
     "name": "stderr",
     "output_type": "stream",
     "text": [
      "\r",
      " 84%|████████████████████████████████████████████████████████████████▏           | 1308/1550 [1:32:53<15:42,  3.90s/it]"
     ]
    },
    {
     "name": "stdout",
     "output_type": "stream",
     "text": [
      "Brand: GoSriKi\n",
      "['Clothing & Accessories', 'Women', 'Ethnic Wear', 'Kurtas & Kurtis']\n",
      "1308\n",
      "https://www.amazon.in/dp/B0BXGXLF6Q\n"
     ]
    },
    {
     "name": "stderr",
     "output_type": "stream",
     "text": [
      "\r",
      " 84%|████████████████████████████████████████████████████████████████▏           | 1309/1550 [1:32:58<15:52,  3.95s/it]"
     ]
    },
    {
     "name": "stdout",
     "output_type": "stream",
     "text": [
      "Visit the GRECIILOOKS Store\n",
      "['Clothing & Accessories', 'Men', 'Shirts', 'Casual Shirts']\n",
      "1309\n",
      "https://www.amazon.in/dp/B0C1S11R2V\n"
     ]
    },
    {
     "name": "stderr",
     "output_type": "stream",
     "text": [
      "\r",
      " 85%|████████████████████████████████████████████████████████████████▏           | 1310/1550 [1:33:02<15:50,  3.96s/it]"
     ]
    },
    {
     "name": "stdout",
     "output_type": "stream",
     "text": [
      "Brand: Peter England\n",
      "['Clothing & Accessories', 'Men', 'T-Shirts & Polos', 'Polos']\n",
      "1310\n",
      "https://www.amazon.in/dp/B0C863GSSF\n",
      "Brand: Peter England\n"
     ]
    },
    {
     "name": "stderr",
     "output_type": "stream",
     "text": [
      "\r",
      " 85%|████████████████████████████████████████████████████████████████▎           | 1311/1550 [1:33:05<15:17,  3.84s/it]"
     ]
    },
    {
     "name": "stdout",
     "output_type": "stream",
     "text": [
      "['Clothing & Accessories', 'Men', 'T-Shirts & Polos', 'T-Shirts']\n",
      "1311\n",
      "https://www.amazon.in/dp/B0C1RXQBMW\n"
     ]
    },
    {
     "name": "stderr",
     "output_type": "stream",
     "text": [
      "\r",
      " 85%|████████████████████████████████████████████████████████████████▎           | 1312/1550 [1:33:09<15:16,  3.85s/it]"
     ]
    },
    {
     "name": "stdout",
     "output_type": "stream",
     "text": [
      "Brand: Peter England\n",
      "['Clothing & Accessories', 'Men', 'T-Shirts & Polos', 'Polos']\n",
      "1312\n",
      "https://www.amazon.in/dp/B096BGNPSG\n"
     ]
    },
    {
     "name": "stderr",
     "output_type": "stream",
     "text": [
      "\r",
      " 85%|████████████████████████████████████████████████████████████████▍           | 1313/1550 [1:33:13<15:01,  3.80s/it]"
     ]
    },
    {
     "name": "stdout",
     "output_type": "stream",
     "text": [
      "Brand: Peter England\n",
      "['Clothing & Accessories', 'Men', 'T-Shirts & Polos', 'T-Shirts']\n",
      "1313\n",
      "https://www.amazon.in/dp/B0C862CD5H\n"
     ]
    },
    {
     "name": "stderr",
     "output_type": "stream",
     "text": [
      "\r",
      " 85%|████████████████████████████████████████████████████████████████▍           | 1314/1550 [1:33:16<14:45,  3.75s/it]"
     ]
    },
    {
     "name": "stdout",
     "output_type": "stream",
     "text": [
      "Brand: Peter England\n",
      "['Clothing & Accessories', 'Men', 'T-Shirts & Polos', 'T-Shirts']\n",
      "1314\n",
      "https://www.amazon.in/dp/B09QPXMJT8\n",
      "Brand: Peter England\n"
     ]
    },
    {
     "name": "stderr",
     "output_type": "stream",
     "text": [
      "\r",
      " 85%|████████████████████████████████████████████████████████████████▍           | 1315/1550 [1:33:20<14:17,  3.65s/it]"
     ]
    },
    {
     "name": "stdout",
     "output_type": "stream",
     "text": [
      "['Fashion', 'Apparel Steal Deals', 'Apparel_1', 'Men', 'T-shirts under 499']\n",
      "1315\n",
      "https://www.amazon.in/dp/B0C85YWXNM\n"
     ]
    },
    {
     "name": "stderr",
     "output_type": "stream",
     "text": [
      "\r",
      " 85%|████████████████████████████████████████████████████████████████▌           | 1316/1550 [1:33:24<14:37,  3.75s/it]"
     ]
    },
    {
     "name": "stdout",
     "output_type": "stream",
     "text": [
      "Brand: Peter England\n",
      "['Clothing & Accessories', 'Men', 'T-Shirts & Polos', 'T-Shirts']\n",
      "1316\n",
      "https://www.amazon.in/dp/B09QQ2LVDD\n"
     ]
    },
    {
     "name": "stderr",
     "output_type": "stream",
     "text": [
      "\r",
      " 85%|████████████████████████████████████████████████████████████████▌           | 1317/1550 [1:33:27<14:16,  3.67s/it]"
     ]
    },
    {
     "name": "stdout",
     "output_type": "stream",
     "text": [
      "Brand: Peter England\n",
      "['Fashion', 'Apparel Steal Deals', 'Apparel_1', 'Men', 'T-shirts under 499']\n",
      "1317\n",
      "https://www.amazon.in/dp/B08RZ4VR97\n",
      "Visit the Arrow Store\n"
     ]
    },
    {
     "name": "stderr",
     "output_type": "stream",
     "text": [
      "\r",
      " 85%|████████████████████████████████████████████████████████████████▌           | 1318/1550 [1:33:31<14:51,  3.84s/it]"
     ]
    },
    {
     "name": "stdout",
     "output_type": "stream",
     "text": [
      "['Clothing & Accessories', 'Men', 'T-Shirts & Polos', 'Polos']\n",
      "1318\n",
      "https://www.amazon.in/dp/B0BM4H85D9\n"
     ]
    },
    {
     "name": "stderr",
     "output_type": "stream",
     "text": [
      "\r",
      " 85%|████████████████████████████████████████████████████████████████▋           | 1319/1550 [1:33:35<14:28,  3.76s/it]"
     ]
    },
    {
     "name": "stdout",
     "output_type": "stream",
     "text": [
      "Visit the EYEBOGLER Store\n",
      "['Clothing & Accessories', 'Men', 'T-Shirts & Polos', 'Polos']\n",
      "1319\n",
      "https://www.amazon.in/dp/B08353RH7G\n",
      "Brand: Max\n"
     ]
    },
    {
     "name": "stderr",
     "output_type": "stream",
     "text": [
      "\r",
      " 85%|████████████████████████████████████████████████████████████████▋           | 1320/1550 [1:33:39<14:13,  3.71s/it]"
     ]
    },
    {
     "name": "stdout",
     "output_type": "stream",
     "text": [
      "['Fashion', 'Apparel Steal Deals', 'Apparel_1', 'Men', \"Men's Bestsellers\"]\n",
      "1320\n",
      "https://www.amazon.in/dp/B0BXLBQB4S\n"
     ]
    },
    {
     "name": "stderr",
     "output_type": "stream",
     "text": [
      "\r",
      " 85%|████████████████████████████████████████████████████████████████▊           | 1321/1550 [1:33:42<14:03,  3.68s/it]"
     ]
    },
    {
     "name": "stdout",
     "output_type": "stream",
     "text": [
      "Visit the Red Tape Store\n",
      "['Clothing & Accessories', 'Men', 'T-Shirts & Polos', 'T-Shirts']\n",
      "1321\n",
      "https://www.amazon.in/dp/B076CJQPX2\n",
      "Visit the Van Heusen Store\n"
     ]
    },
    {
     "name": "stderr",
     "output_type": "stream",
     "text": [
      "\r",
      " 85%|████████████████████████████████████████████████████████████████▊           | 1322/1550 [1:33:46<14:39,  3.86s/it]"
     ]
    },
    {
     "name": "stdout",
     "output_type": "stream",
     "text": [
      "['Fashion', 'Apparel Steal Deals', 'Apparel_1', 'Men', \"Men's Bestsellers\"]\n",
      "1322\n",
      "https://www.amazon.in/dp/B0C7ZPKVPJ\n"
     ]
    },
    {
     "name": "stderr",
     "output_type": "stream",
     "text": [
      "\r",
      " 85%|████████████████████████████████████████████████████████████████▊           | 1323/1550 [1:33:50<14:15,  3.77s/it]"
     ]
    },
    {
     "name": "stdout",
     "output_type": "stream",
     "text": [
      "Brand: Allen Solly\n",
      "['Clothing & Accessories', 'Men', 'T-Shirts & Polos', 'T-Shirts']\n",
      "1323\n",
      "https://www.amazon.in/dp/B0CBVG2NYR\n"
     ]
    },
    {
     "name": "stderr",
     "output_type": "stream",
     "text": [
      "\r",
      " 85%|████████████████████████████████████████████████████████████████▉           | 1324/1550 [1:33:54<13:55,  3.69s/it]"
     ]
    },
    {
     "name": "stdout",
     "output_type": "stream",
     "text": [
      "Visit the Lymio Store\n",
      "['Clothing & Accessories', 'Men', 'T-Shirts & Polos', 'T-Shirts']\n",
      "1324\n",
      "https://www.amazon.in/dp/B077Y79RDR\n"
     ]
    },
    {
     "name": "stderr",
     "output_type": "stream",
     "text": [
      "\r",
      " 85%|████████████████████████████████████████████████████████████████▉           | 1325/1550 [1:34:01<18:09,  4.84s/it]"
     ]
    },
    {
     "name": "stdout",
     "output_type": "stream",
     "text": [
      "Visit the U.S. POLO ASSN. Store\n",
      "['Clothing & Accessories', 'Men', 'T-Shirts & Polos', 'Polos']\n",
      "1325\n",
      "https://www.amazon.in/dp/B0BYK13Y8C\n"
     ]
    },
    {
     "name": "stderr",
     "output_type": "stream",
     "text": [
      "\r",
      " 86%|█████████████████████████████████████████████████████████████████           | 1326/1550 [1:34:05<16:39,  4.46s/it]"
     ]
    },
    {
     "name": "stdout",
     "output_type": "stream",
     "text": [
      "Brand: Max\n",
      "['Clothing & Accessories', 'Men', 'T-Shirts & Polos', 'T-Shirts']\n",
      "1326\n",
      "https://www.amazon.in/dp/B0CCNQF2XV\n"
     ]
    },
    {
     "name": "stderr",
     "output_type": "stream",
     "text": [
      "\r",
      " 86%|█████████████████████████████████████████████████████████████████           | 1327/1550 [1:34:09<16:16,  4.38s/it]"
     ]
    },
    {
     "name": "stdout",
     "output_type": "stream",
     "text": [
      "Brand: Puma\n",
      "['Clothing & Accessories', 'Men', 'T-Shirts & Polos', 'Polos']\n",
      "1327\n",
      "https://www.amazon.in/dp/B0C36ZHMQ1\n",
      "Visit the EYEBOGLER Store\n"
     ]
    },
    {
     "name": "stderr",
     "output_type": "stream",
     "text": [
      "\r",
      " 86%|█████████████████████████████████████████████████████████████████           | 1328/1550 [1:34:12<14:58,  4.05s/it]"
     ]
    },
    {
     "name": "stdout",
     "output_type": "stream",
     "text": [
      "['Clothing & Accessories', 'Men', 'T-Shirts & Polos', 'Polos']\n",
      "1328\n",
      "https://www.amazon.in/dp/B0C1RXZ4MK\n"
     ]
    },
    {
     "name": "stderr",
     "output_type": "stream",
     "text": [
      "\r",
      " 86%|█████████████████████████████████████████████████████████████████▏          | 1329/1550 [1:34:16<14:40,  3.99s/it]"
     ]
    },
    {
     "name": "stdout",
     "output_type": "stream",
     "text": [
      "Brand: Peter England\n",
      "['Clothing & Accessories', 'Men', 'T-Shirts & Polos', 'Polos']\n",
      "1329\n",
      "https://www.amazon.in/dp/B07XK87F6C\n"
     ]
    },
    {
     "name": "stderr",
     "output_type": "stream",
     "text": [
      "\r",
      " 86%|█████████████████████████████████████████████████████████████████▏          | 1330/1550 [1:34:20<14:31,  3.96s/it]"
     ]
    },
    {
     "name": "stdout",
     "output_type": "stream",
     "text": [
      "Brand: Levi's\n",
      "['Clothing & Accessories', 'Men', 'T-Shirts & Polos', 'T-Shirts']\n",
      "1330\n",
      "https://www.amazon.in/dp/B09RSN6QQM\n",
      "Brand: Levi's\n"
     ]
    },
    {
     "name": "stderr",
     "output_type": "stream",
     "text": [
      "\r",
      " 86%|█████████████████████████████████████████████████████████████████▎          | 1331/1550 [1:34:23<14:04,  3.85s/it]"
     ]
    },
    {
     "name": "stdout",
     "output_type": "stream",
     "text": [
      "['Fashion', 'Apparel Steal Deals', 'Apparel_1', 'Men', 'Polos & T-Shirts - Min 50% Off']\n",
      "1331\n",
      "https://www.amazon.in/dp/B0BJZPDPGX\n"
     ]
    },
    {
     "name": "stderr",
     "output_type": "stream",
     "text": [
      "\r",
      " 86%|█████████████████████████████████████████████████████████████████▎          | 1332/1550 [1:34:27<13:47,  3.80s/it]"
     ]
    },
    {
     "name": "stdout",
     "output_type": "stream",
     "text": [
      "Brand: Levi's\n",
      "['Clothing & Accessories', 'Men', 'T-Shirts & Polos', 'T-Shirts']\n",
      "1332\n",
      "https://www.amazon.in/dp/B0BJZSLV2S\n"
     ]
    },
    {
     "name": "stderr",
     "output_type": "stream",
     "text": [
      "\r",
      " 86%|█████████████████████████████████████████████████████████████████▎          | 1333/1550 [1:34:31<13:46,  3.81s/it]"
     ]
    },
    {
     "name": "stdout",
     "output_type": "stream",
     "text": [
      "Brand: Levi's\n",
      "['Clothing & Accessories', 'Men', 'T-Shirts & Polos', 'T-Shirts']\n",
      "1333\n",
      "https://www.amazon.in/dp/B07XK7HTRY\n",
      "Brand: Levi's\n"
     ]
    },
    {
     "name": "stderr",
     "output_type": "stream",
     "text": [
      "\r",
      " 86%|█████████████████████████████████████████████████████████████████▍          | 1334/1550 [1:34:35<14:19,  3.98s/it]"
     ]
    },
    {
     "name": "stdout",
     "output_type": "stream",
     "text": [
      "['Fashion', 'Apparel Steal Deals', 'Apparel_1', 'Men', \"Men's Apparel Deals\"]\n",
      "1334\n",
      "https://www.amazon.in/dp/B0C6QWWN1R\n"
     ]
    },
    {
     "name": "stderr",
     "output_type": "stream",
     "text": [
      "\r",
      " 86%|█████████████████████████████████████████████████████████████████▍          | 1335/1550 [1:34:39<13:47,  3.85s/it]"
     ]
    },
    {
     "name": "stdout",
     "output_type": "stream",
     "text": [
      "Brand: Levi's\n",
      "['Clothing & Accessories', 'Men', 'T-Shirts & Polos', 'Polos']\n",
      "1335\n",
      "https://www.amazon.in/dp/B09RSJHT5F\n",
      "Brand: Levi's\n"
     ]
    },
    {
     "name": "stderr",
     "output_type": "stream",
     "text": [
      "\r",
      " 86%|█████████████████████████████████████████████████████████████████▌          | 1336/1550 [1:34:43<13:38,  3.83s/it]"
     ]
    },
    {
     "name": "stdout",
     "output_type": "stream",
     "text": [
      "['Fashion', 'Apparel Steal Deals', 'Apparel_1', 'Men', 'Polos & T-Shirts - Min 50% Off']\n",
      "1336\n",
      "https://www.amazon.in/dp/B09RSMJ8QC\n",
      "Brand: Levi's\n"
     ]
    },
    {
     "name": "stderr",
     "output_type": "stream",
     "text": [
      "\r",
      " 86%|█████████████████████████████████████████████████████████████████▌          | 1337/1550 [1:34:47<13:39,  3.85s/it]"
     ]
    },
    {
     "name": "stdout",
     "output_type": "stream",
     "text": [
      "['Fashion', 'Apparel Steal Deals', 'Apparel_1', 'Men', 'Polos & T-Shirts - Min 50% Off']\n",
      "1337\n",
      "https://www.amazon.in/dp/B09WVWLVDS\n"
     ]
    },
    {
     "name": "stderr",
     "output_type": "stream",
     "text": [
      "\r",
      " 86%|█████████████████████████████████████████████████████████████████▌          | 1338/1550 [1:34:50<13:13,  3.74s/it]"
     ]
    },
    {
     "name": "stdout",
     "output_type": "stream",
     "text": [
      "Visit the EYEBOGLER Store\n",
      "['Clothing & Accessories', 'Men', 'T-Shirts & Polos', 'Polos']\n",
      "1338\n",
      "https://www.amazon.in/dp/B08N71VMWX\n",
      "Brand: EYEBOGLER\n"
     ]
    },
    {
     "name": "stderr",
     "output_type": "stream",
     "text": [
      "\r",
      " 86%|█████████████████████████████████████████████████████████████████▋          | 1339/1550 [1:34:54<12:56,  3.68s/it]"
     ]
    },
    {
     "name": "stdout",
     "output_type": "stream",
     "text": [
      "['Fashion', 'The Plus Size Store', 'aug art- clothing ingress', 'new', 'men']\n",
      "1339\n",
      "https://www.amazon.in/dp/B0C3739GGK\n"
     ]
    },
    {
     "name": "stderr",
     "output_type": "stream",
     "text": [
      "\r",
      " 86%|█████████████████████████████████████████████████████████████████▋          | 1340/1550 [1:34:57<12:54,  3.69s/it]"
     ]
    },
    {
     "name": "stdout",
     "output_type": "stream",
     "text": [
      "Visit the EYEBOGLER Store\n",
      "['Clothing & Accessories', 'Men', 'T-Shirts & Polos', 'Polos']\n",
      "1340\n",
      "https://www.amazon.in/dp/B08KTWB3VS\n"
     ]
    },
    {
     "name": "stderr",
     "output_type": "stream",
     "text": [
      "\r",
      " 87%|█████████████████████████████████████████████████████████████████▊          | 1341/1550 [1:35:01<12:46,  3.67s/it]"
     ]
    },
    {
     "name": "stdout",
     "output_type": "stream",
     "text": [
      "Brand: Allen Solly\n",
      "['Fashion', 'Apparel Steal Deals', 'Apparel_1', 'Men', 'Polos & T-Shirts - Min 50% Off']\n",
      "1341\n",
      "https://www.amazon.in/dp/B0BSRZYX4N\n"
     ]
    },
    {
     "name": "stderr",
     "output_type": "stream",
     "text": [
      "\r",
      " 87%|█████████████████████████████████████████████████████████████████▊          | 1342/1550 [1:35:04<12:34,  3.63s/it]"
     ]
    },
    {
     "name": "stdout",
     "output_type": "stream",
     "text": [
      "Brand: Red Tape\n",
      "['Clothing & Accessories', 'Men', 'T-Shirts & Polos', 'Polos']\n",
      "1342\n",
      "https://www.amazon.in/dp/B07XQ3S74H\n",
      "Visit the Adidas Store\n"
     ]
    },
    {
     "name": "stderr",
     "output_type": "stream",
     "text": [
      "\r",
      " 87%|█████████████████████████████████████████████████████████████████▊          | 1343/1550 [1:35:08<12:47,  3.71s/it]"
     ]
    },
    {
     "name": "stdout",
     "output_type": "stream",
     "text": [
      "['Clothing & Accessories', 'Men', 'T-Shirts & Polos', 'T-Shirts']\n",
      "1343\n",
      "https://www.amazon.in/dp/B0BCXB8KVB\n",
      "Brand: JUARI BE A GENTLEMAN\n"
     ]
    },
    {
     "name": "stderr",
     "output_type": "stream",
     "text": [
      "\r",
      " 87%|█████████████████████████████████████████████████████████████████▉          | 1344/1550 [1:35:12<12:59,  3.79s/it]"
     ]
    },
    {
     "name": "stdout",
     "output_type": "stream",
     "text": [
      "['Clothing & Accessories', 'Men', 'T-Shirts & Polos', 'T-Shirts']\n",
      "1344\n",
      "https://www.amazon.in/dp/B09S1D8ZDX\n"
     ]
    },
    {
     "name": "stderr",
     "output_type": "stream",
     "text": [
      "\r",
      " 87%|█████████████████████████████████████████████████████████████████▉          | 1345/1550 [1:35:16<12:43,  3.72s/it]"
     ]
    },
    {
     "name": "stdout",
     "output_type": "stream",
     "text": [
      "Visit the JUARI BE A GENTLEMAN Store\n",
      "['Clothing & Accessories', 'Men', 'T-Shirts & Polos', 'T-Shirts']\n",
      "1345\n",
      "https://www.amazon.in/dp/B0BSLJNB7H\n"
     ]
    },
    {
     "name": "stderr",
     "output_type": "stream",
     "text": [
      "\r",
      " 87%|█████████████████████████████████████████████████████████████████▉          | 1346/1550 [1:35:20<12:46,  3.76s/it]"
     ]
    },
    {
     "name": "stdout",
     "output_type": "stream",
     "text": [
      "Visit the The Souled Store Store\n",
      "['Clothing & Accessories', 'Men', 'T-Shirts & Polos', 'T-Shirts']\n",
      "1346\n",
      "https://www.amazon.in/dp/B0C33SHX5Y\n",
      "Visit the EYEBOGLER Store\n"
     ]
    },
    {
     "name": "stderr",
     "output_type": "stream",
     "text": [
      "\r",
      " 87%|██████████████████████████████████████████████████████████████████          | 1347/1550 [1:35:24<12:55,  3.82s/it]"
     ]
    },
    {
     "name": "stdout",
     "output_type": "stream",
     "text": [
      "['Clothing & Accessories', 'Men', 'T-Shirts & Polos', 'T-Shirts']\n",
      "1347\n",
      "https://www.amazon.in/dp/B0BTVRWS95\n"
     ]
    },
    {
     "name": "stderr",
     "output_type": "stream",
     "text": [
      "\r",
      " 87%|██████████████████████████████████████████████████████████████████          | 1348/1550 [1:35:28<13:08,  3.90s/it]"
     ]
    },
    {
     "name": "stdout",
     "output_type": "stream",
     "text": [
      "Visit the The Souled Store Store\n",
      "['Clothing & Accessories', 'Men', 'T-Shirts & Polos', 'T-Shirts']\n",
      "1348\n",
      "https://www.amazon.in/dp/B0BLH1KFH1\n"
     ]
    },
    {
     "name": "stderr",
     "output_type": "stream",
     "text": [
      "\r",
      " 87%|██████████████████████████████████████████████████████████████████▏         | 1349/1550 [1:35:32<13:09,  3.93s/it]"
     ]
    },
    {
     "name": "stdout",
     "output_type": "stream",
     "text": [
      "Visit the Jockey Store\n",
      "['Clothing & Accessories', 'Men', 'T-Shirts & Polos', 'T-Shirts']\n",
      "1349\n",
      "https://www.amazon.in/dp/B0C3V42DR8\n"
     ]
    },
    {
     "name": "stderr",
     "output_type": "stream",
     "text": [
      "\r",
      " 87%|██████████████████████████████████████████████████████████████████▏         | 1350/1550 [1:35:35<12:42,  3.81s/it]"
     ]
    },
    {
     "name": "stdout",
     "output_type": "stream",
     "text": [
      "Visit the EYEBOGLER Store\n",
      "['Clothing & Accessories', 'Men', 'T-Shirts & Polos', 'Polos']\n",
      "1350\n",
      "https://www.amazon.in/dp/B0CCNRN4BK\n"
     ]
    },
    {
     "name": "stderr",
     "output_type": "stream",
     "text": [
      "\r",
      " 87%|██████████████████████████████████████████████████████████████████▏         | 1351/1550 [1:35:39<12:28,  3.76s/it]"
     ]
    },
    {
     "name": "stdout",
     "output_type": "stream",
     "text": [
      "Brand: Puma\n",
      "['Clothing & Accessories', 'Men', 'T-Shirts & Polos', 'Polos']\n",
      "1351\n",
      "https://www.amazon.in/dp/B0C1S1PH9B\n"
     ]
    },
    {
     "name": "stderr",
     "output_type": "stream",
     "text": [
      "\r",
      " 87%|██████████████████████████████████████████████████████████████████▎         | 1352/1550 [1:35:43<12:30,  3.79s/it]"
     ]
    },
    {
     "name": "stdout",
     "output_type": "stream",
     "text": [
      "Brand: Peter England\n",
      "['Clothing & Accessories', 'Men', 'T-Shirts & Polos', 'Polos']\n",
      "1352\n",
      "https://www.amazon.in/dp/B0B313JCZ7\n"
     ]
    },
    {
     "name": "stderr",
     "output_type": "stream",
     "text": [
      "\r",
      " 87%|██████████████████████████████████████████████████████████████████▎         | 1353/1550 [1:35:47<12:37,  3.85s/it]"
     ]
    },
    {
     "name": "stdout",
     "output_type": "stream",
     "text": [
      "Brand: Max\n",
      "['Clothing & Accessories', 'Men', 'T-Shirts & Polos', 'Polos']\n",
      "1353\n",
      "https://www.amazon.in/dp/B0C968H2J7\n"
     ]
    },
    {
     "name": "stderr",
     "output_type": "stream",
     "text": [
      "\r",
      " 87%|██████████████████████████████████████████████████████████████████▍         | 1354/1550 [1:35:51<12:36,  3.86s/it]"
     ]
    },
    {
     "name": "stdout",
     "output_type": "stream",
     "text": [
      "Visit the Lymio Store\n",
      "['Clothing & Accessories', 'Men', 'T-Shirts & Polos', 'Polos']\n",
      "1354\n",
      "https://www.amazon.in/dp/B07QL8LFDP\n"
     ]
    },
    {
     "name": "stderr",
     "output_type": "stream",
     "text": [
      "\r",
      " 87%|██████████████████████████████████████████████████████████████████▍         | 1355/1550 [1:35:55<12:44,  3.92s/it]"
     ]
    },
    {
     "name": "stdout",
     "output_type": "stream",
     "text": [
      "Visit the Van Heusen Store\n",
      "['Clothing & Accessories', 'Men', 'T-Shirts & Polos', 'Polos']\n",
      "1355\n",
      "https://www.amazon.in/dp/B0C1RYWM2T\n"
     ]
    },
    {
     "name": "stderr",
     "output_type": "stream",
     "text": [
      "\r",
      " 87%|██████████████████████████████████████████████████████████████████▍         | 1356/1550 [1:35:58<12:20,  3.82s/it]"
     ]
    },
    {
     "name": "stdout",
     "output_type": "stream",
     "text": [
      "Brand: Peter England\n",
      "['Clothing & Accessories', 'Men', 'T-Shirts & Polos', 'Polos']\n",
      "1356\n",
      "https://www.amazon.in/dp/B0BLW1MS99\n"
     ]
    },
    {
     "name": "stderr",
     "output_type": "stream",
     "text": [
      "\r",
      " 88%|██████████████████████████████████████████████████████████████████▌         | 1357/1550 [1:36:02<12:03,  3.75s/it]"
     ]
    },
    {
     "name": "stdout",
     "output_type": "stream",
     "text": [
      "Visit the Bigbanana Store\n",
      "['Clothing & Accessories', 'Men', 'T-Shirts & Polos', 'Polos']\n",
      "1357\n",
      "https://www.amazon.in/dp/B077YCCNN6\n"
     ]
    },
    {
     "name": "stderr",
     "output_type": "stream",
     "text": [
      "\r",
      " 88%|██████████████████████████████████████████████████████████████████▌         | 1358/1550 [1:36:08<13:49,  4.32s/it]"
     ]
    },
    {
     "name": "stdout",
     "output_type": "stream",
     "text": [
      "Visit the U.S. POLO ASSN. Store\n",
      "['Clothing & Accessories', 'Men', 'T-Shirts & Polos', 'Polos']\n",
      "1358\n",
      "https://www.amazon.in/dp/B09NYL3WMH\n"
     ]
    },
    {
     "name": "stderr",
     "output_type": "stream",
     "text": [
      "\r",
      " 88%|██████████████████████████████████████████████████████████████████▋         | 1359/1550 [1:36:11<13:22,  4.20s/it]"
     ]
    },
    {
     "name": "stdout",
     "output_type": "stream",
     "text": [
      "Visit the KRYPTIC Store\n",
      "['Clothing & Accessories', 'Men', 'T-Shirts & Polos', 'Polos']\n",
      "1359\n",
      "https://www.amazon.in/dp/B07R8VBMFX\n"
     ]
    },
    {
     "name": "stderr",
     "output_type": "stream",
     "text": [
      "\r",
      " 88%|██████████████████████████████████████████████████████████████████▋         | 1360/1550 [1:36:16<13:18,  4.20s/it]"
     ]
    },
    {
     "name": "stdout",
     "output_type": "stream",
     "text": [
      "Visit the Van Heusen Store\n",
      "['Clothing & Accessories', 'Men', 'T-Shirts & Polos', 'Polos']\n",
      "1360\n",
      "https://www.amazon.in/dp/B0BHGSSDYF\n"
     ]
    },
    {
     "name": "stderr",
     "output_type": "stream",
     "text": [
      "\r",
      " 88%|██████████████████████████████████████████████████████████████████▋         | 1361/1550 [1:36:19<12:46,  4.06s/it]"
     ]
    },
    {
     "name": "stdout",
     "output_type": "stream",
     "text": [
      "Visit the LEOTUDE Store\n",
      "['Clothing & Accessories', 'Men', 'T-Shirts & Polos', 'Polos']\n",
      "1361\n",
      "https://www.amazon.in/dp/B0BJPZYZ37\n"
     ]
    },
    {
     "name": "stderr",
     "output_type": "stream",
     "text": [
      "\r",
      " 88%|██████████████████████████████████████████████████████████████████▊         | 1362/1550 [1:36:23<12:11,  3.89s/it]"
     ]
    },
    {
     "name": "stdout",
     "output_type": "stream",
     "text": [
      "Brand: Wrangler\n",
      "['Clothing & Accessories', 'Men', 'T-Shirts & Polos', 'T-Shirts']\n",
      "1362\n",
      "https://www.amazon.in/dp/B09CZ1PGJ9\n",
      "Visit the Wear Your Opinion Store\n"
     ]
    },
    {
     "name": "stderr",
     "output_type": "stream",
     "text": [
      "\r",
      " 88%|██████████████████████████████████████████████████████████████████▊         | 1363/1550 [1:36:26<11:39,  3.74s/it]"
     ]
    },
    {
     "name": "stdout",
     "output_type": "stream",
     "text": [
      "['Fashion', 'The Plus Size Store', 'aug art- clothing ingress', 'new', 'men']\n",
      "1363\n",
      "https://www.amazon.in/dp/B0BWS2K6MW\n",
      "Brand: U.S. POLO ASSN.\n"
     ]
    },
    {
     "name": "stderr",
     "output_type": "stream",
     "text": [
      "\r",
      " 88%|██████████████████████████████████████████████████████████████████▉         | 1364/1550 [1:36:30<11:42,  3.78s/it]"
     ]
    },
    {
     "name": "stdout",
     "output_type": "stream",
     "text": [
      "['Clothing & Accessories', 'Men', 'T-Shirts & Polos', 'T-Shirts']\n",
      "1364\n",
      "https://www.amazon.in/dp/B0B7S6ZXV5\n",
      "Visit the U.S. POLO ASSN. Store\n"
     ]
    },
    {
     "name": "stderr",
     "output_type": "stream",
     "text": [
      "\r",
      " 88%|██████████████████████████████████████████████████████████████████▉         | 1365/1550 [1:36:34<11:21,  3.68s/it]"
     ]
    },
    {
     "name": "stdout",
     "output_type": "stream",
     "text": [
      "['Clothing & Accessories', 'Men', 'T-Shirts & Polos', 'Polos']\n",
      "1365\n",
      "https://www.amazon.in/dp/B093LPZPDK\n"
     ]
    },
    {
     "name": "stderr",
     "output_type": "stream",
     "text": [
      "\r",
      " 88%|██████████████████████████████████████████████████████████████████▉         | 1366/1550 [1:36:38<11:38,  3.79s/it]"
     ]
    },
    {
     "name": "stdout",
     "output_type": "stream",
     "text": [
      "Visit the U.S. POLO ASSN. Store\n",
      "['Clothing & Accessories', 'Men', 'T-Shirts & Polos', 'T-Shirts']\n",
      "1366\n",
      "https://www.amazon.in/dp/B0C96XSPRG\n"
     ]
    },
    {
     "name": "stderr",
     "output_type": "stream",
     "text": [
      "\r",
      " 88%|███████████████████████████████████████████████████████████████████         | 1367/1550 [1:36:42<11:37,  3.81s/it]"
     ]
    },
    {
     "name": "stdout",
     "output_type": "stream",
     "text": [
      "Visit the Lux Cozi Store\n",
      "['Clothing & Accessories', 'Men', 'T-Shirts & Polos', 'T-Shirts']\n",
      "1367\n",
      "https://www.amazon.in/dp/B0BVW3MW1K\n"
     ]
    },
    {
     "name": "stderr",
     "output_type": "stream",
     "text": [
      "\r",
      " 88%|███████████████████████████████████████████████████████████████████         | 1368/1550 [1:36:45<11:32,  3.80s/it]"
     ]
    },
    {
     "name": "stdout",
     "output_type": "stream",
     "text": [
      "Brand: Van Heusen\n",
      "['Clothing & Accessories', 'Men', 'T-Shirts & Polos', 'Polos']\n",
      "1368\n",
      "https://www.amazon.in/dp/B077Y79Q39\n",
      "Visit the U.S. POLO ASSN. Store\n",
      "['Clothing & Accessories', 'Men', 'T-Shirts & Polos', 'Polos']\n"
     ]
    },
    {
     "name": "stderr",
     "output_type": "stream",
     "text": [
      "\r",
      " 88%|███████████████████████████████████████████████████████████████████▏        | 1369/1550 [1:36:51<13:02,  4.32s/it]"
     ]
    },
    {
     "name": "stdout",
     "output_type": "stream",
     "text": [
      "1369\n",
      "https://www.amazon.in/dp/B0C1RWZ3SG\n"
     ]
    },
    {
     "name": "stderr",
     "output_type": "stream",
     "text": [
      "\r",
      " 88%|███████████████████████████████████████████████████████████████████▏        | 1370/1550 [1:36:54<12:19,  4.11s/it]"
     ]
    },
    {
     "name": "stdout",
     "output_type": "stream",
     "text": [
      "Brand: Peter England\n",
      "['Clothing & Accessories', 'Men', 'T-Shirts & Polos', 'Polos']\n",
      "1370\n",
      "https://www.amazon.in/dp/B0BLK4W9YG\n",
      "Visit the U.S. POLO ASSN. Store\n"
     ]
    },
    {
     "name": "stderr",
     "output_type": "stream",
     "text": [
      "\r",
      " 88%|███████████████████████████████████████████████████████████████████▏        | 1371/1550 [1:36:59<12:14,  4.10s/it]"
     ]
    },
    {
     "name": "stdout",
     "output_type": "stream",
     "text": [
      "['Clothing & Accessories', 'Men', 'T-Shirts & Polos', 'Polos']\n",
      "1371\n",
      "https://www.amazon.in/dp/B08Q5C3DSW\n",
      "Visit the Van Heusen Store\n"
     ]
    },
    {
     "name": "stderr",
     "output_type": "stream",
     "text": [
      "\r",
      " 89%|███████████████████████████████████████████████████████████████████▎        | 1372/1550 [1:37:03<12:11,  4.11s/it]"
     ]
    },
    {
     "name": "stdout",
     "output_type": "stream",
     "text": [
      "['Fashion', 'Apparel Steal Deals', 'Apparel_1', 'Men', \"Men's Apparel BxGy\"]\n",
      "1372\n",
      "https://www.amazon.in/dp/B077YC1L8R\n",
      "Visit the U.S. POLO ASSN. Store\n"
     ]
    },
    {
     "name": "stderr",
     "output_type": "stream",
     "text": [
      "\r",
      " 89%|███████████████████████████████████████████████████████████████████▎        | 1373/1550 [1:37:10<15:15,  5.17s/it]"
     ]
    },
    {
     "name": "stdout",
     "output_type": "stream",
     "text": [
      "['Fashion', 'Apparel Steal Deals', 'Apparel_1', 'Men', \"Men's Bestsellers\"]\n",
      "1373\n",
      "https://www.amazon.in/dp/B0819ZSZHZ\n",
      "Visit the U.S. POLO ASSN. Store\n"
     ]
    },
    {
     "name": "stderr",
     "output_type": "stream",
     "text": [
      "\r",
      " 89%|███████████████████████████████████████████████████████████████████▎        | 1374/1550 [1:37:15<14:25,  4.92s/it]"
     ]
    },
    {
     "name": "stdout",
     "output_type": "stream",
     "text": [
      "['Fashion', 'Apparel Steal Deals', 'Apparel_1', 'Men', 'U.S.P.A under 899']\n",
      "1374\n",
      "https://www.amazon.in/dp/B07RC1JWHK\n"
     ]
    },
    {
     "name": "stderr",
     "output_type": "stream",
     "text": [
      "\r",
      " 89%|███████████████████████████████████████████████████████████████████▍        | 1375/1550 [1:37:19<13:35,  4.66s/it]"
     ]
    },
    {
     "name": "stdout",
     "output_type": "stream",
     "text": [
      "Visit the Van Heusen Store\n",
      "['Clothing & Accessories', 'Men', 'T-Shirts & Polos', 'Polos']\n",
      "1375\n",
      "https://www.amazon.in/dp/B0BVW18C63\n"
     ]
    },
    {
     "name": "stderr",
     "output_type": "stream",
     "text": [
      "\r",
      " 89%|███████████████████████████████████████████████████████████████████▍        | 1376/1550 [1:37:23<12:47,  4.41s/it]"
     ]
    },
    {
     "name": "stdout",
     "output_type": "stream",
     "text": [
      "Brand: Van Heusen\n",
      "['Clothing & Accessories', 'Men', 'T-Shirts & Polos', 'Polos']\n",
      "1376\n",
      "https://www.amazon.in/dp/B07RC1G2RY\n",
      "Visit the Van Heusen Store\n"
     ]
    },
    {
     "name": "stderr",
     "output_type": "stream",
     "text": [
      "\r",
      " 89%|███████████████████████████████████████████████████████████████████▌        | 1377/1550 [1:37:27<12:28,  4.32s/it]"
     ]
    },
    {
     "name": "stdout",
     "output_type": "stream",
     "text": [
      "['Fashion', 'Apparel Steal Deals', 'Apparel_1', 'Men', \"Men's Apparel BxGy\"]\n",
      "1377\n",
      "https://www.amazon.in/dp/B073WBWW2K\n"
     ]
    },
    {
     "name": "stderr",
     "output_type": "stream",
     "text": [
      "\r",
      " 89%|███████████████████████████████████████████████████████████████████▌        | 1378/1550 [1:37:31<12:17,  4.29s/it]"
     ]
    },
    {
     "name": "stdout",
     "output_type": "stream",
     "text": [
      "Visit the Van Heusen Store\n",
      "['Clothing & Accessories', 'Men', 'T-Shirts & Polos', 'T-Shirts']\n",
      "1378\n",
      "https://www.amazon.in/dp/B083C2WR1J\n",
      "Visit the Van Heusen Store\n"
     ]
    },
    {
     "name": "stderr",
     "output_type": "stream",
     "text": [
      "\r",
      " 89%|███████████████████████████████████████████████████████████████████▌        | 1379/1550 [1:37:35<11:52,  4.16s/it]"
     ]
    },
    {
     "name": "stdout",
     "output_type": "stream",
     "text": [
      "['Clothing & Accessories', 'Men', 'T-Shirts & Polos', 'T-Shirts']\n",
      "1379\n",
      "https://www.amazon.in/dp/B09W9DYZ51\n",
      "Visit the Van Heusen Store\n"
     ]
    },
    {
     "name": "stderr",
     "output_type": "stream",
     "text": [
      "\r",
      " 89%|███████████████████████████████████████████████████████████████████▋        | 1380/1550 [1:37:39<11:40,  4.12s/it]"
     ]
    },
    {
     "name": "stdout",
     "output_type": "stream",
     "text": [
      "['Clothing & Accessories', 'Men', 'T-Shirts & Polos', 'T-Shirts']\n",
      "1380\n",
      "https://www.amazon.in/dp/B091KSWT3G\n"
     ]
    },
    {
     "name": "stderr",
     "output_type": "stream",
     "text": [
      "\r",
      " 89%|███████████████████████████████████████████████████████████████████▋        | 1381/1550 [1:37:42<11:05,  3.94s/it]"
     ]
    },
    {
     "name": "stdout",
     "output_type": "stream",
     "text": [
      "Brand: Van Heusen\n",
      "['Clothing & Accessories', 'Men', 'T-Shirts & Polos', 'Polos']\n",
      "1381\n",
      "https://www.amazon.in/dp/B0BHKTG4B6\n"
     ]
    },
    {
     "name": "stderr",
     "output_type": "stream",
     "text": [
      "\r",
      " 89%|███████████████████████████████████████████████████████████████████▊        | 1382/1550 [1:37:45<10:17,  3.68s/it]"
     ]
    },
    {
     "name": "stdout",
     "output_type": "stream",
     "text": [
      "Brand: Lacoste\n",
      "['Clothing & Accessories', 'Men', 'T-Shirts & Polos', 'Polos']\n",
      "1382\n",
      "https://www.amazon.in/dp/B0BV42S9KK\n"
     ]
    },
    {
     "name": "stderr",
     "output_type": "stream",
     "text": [
      "\r",
      " 89%|███████████████████████████████████████████████████████████████████▊        | 1383/1550 [1:37:50<10:44,  3.86s/it]"
     ]
    },
    {
     "name": "stdout",
     "output_type": "stream",
     "text": [
      "Brand: Lacoste\n",
      "['Clothing & Accessories', 'Men', 'T-Shirts & Polos', 'Polos']\n",
      "1383\n",
      "https://www.amazon.in/dp/B0BV3Z289S\n",
      "Visit the Lacoste Store\n"
     ]
    },
    {
     "name": "stderr",
     "output_type": "stream",
     "text": [
      "\r",
      " 89%|███████████████████████████████████████████████████████████████████▊        | 1384/1550 [1:37:53<10:30,  3.80s/it]"
     ]
    },
    {
     "name": "stdout",
     "output_type": "stream",
     "text": [
      "['Clothing & Accessories', 'Men', 'T-Shirts & Polos', 'T-Shirts']\n",
      "1384\n",
      "https://www.amazon.in/dp/B0BZ4QZQNY\n",
      "Brand: Lacoste\n"
     ]
    },
    {
     "name": "stderr",
     "output_type": "stream",
     "text": [
      "\r",
      " 89%|███████████████████████████████████████████████████████████████████▉        | 1385/1550 [1:37:57<10:28,  3.81s/it]"
     ]
    },
    {
     "name": "stdout",
     "output_type": "stream",
     "text": [
      "['Clothing & Accessories', 'Men', 'T-Shirts & Polos', 'Polos']\n",
      "1385\n",
      "https://www.amazon.in/dp/B0C65BRPNW\n"
     ]
    },
    {
     "name": "stderr",
     "output_type": "stream",
     "text": [
      "\r",
      " 89%|███████████████████████████████████████████████████████████████████▉        | 1386/1550 [1:38:01<10:21,  3.79s/it]"
     ]
    },
    {
     "name": "stdout",
     "output_type": "stream",
     "text": [
      "Brand: Lacoste\n",
      "['Clothing & Accessories', 'Men', 'T-Shirts & Polos', 'Polos']\n",
      "1386\n",
      "https://www.amazon.in/dp/B0B9XR8HQ6\n"
     ]
    },
    {
     "name": "stderr",
     "output_type": "stream",
     "text": [
      "\r",
      " 89%|████████████████████████████████████████████████████████████████████        | 1387/1550 [1:38:05<10:31,  3.87s/it]"
     ]
    },
    {
     "name": "stdout",
     "output_type": "stream",
     "text": [
      "Brand: DABUR\n",
      "['Health & Personal Care', 'Oral Care', 'Toothpastes']\n",
      "1387\n",
      "https://www.amazon.in/dp/B09QHP8H5M\n",
      "Visit the LuvLap Store\n"
     ]
    },
    {
     "name": "stderr",
     "output_type": "stream",
     "text": [
      "\r",
      " 90%|████████████████████████████████████████████████████████████████████        | 1388/1550 [1:38:09<10:40,  3.95s/it]"
     ]
    },
    {
     "name": "stdout",
     "output_type": "stream",
     "text": [
      "['Health & Personal Care', 'Oral Care', 'Baby & Child Dental Care', 'Oral Care', 'Baby Toothpaste']\n",
      "1388\n",
      "https://www.amazon.in/dp/B01N0AKGNQ\n"
     ]
    },
    {
     "name": "stderr",
     "output_type": "stream",
     "text": [
      "\r",
      " 90%|████████████████████████████████████████████████████████████████████        | 1389/1550 [1:38:13<10:57,  4.08s/it]"
     ]
    },
    {
     "name": "stdout",
     "output_type": "stream",
     "text": [
      "Brand: Colgate\n",
      "['Health & Personal Care', 'Oral Care', 'Toothpastes']\n",
      "1389\n",
      "https://www.amazon.in/dp/B08HP1F6WV\n",
      "Visit the Mamaearth Store\n"
     ]
    },
    {
     "name": "stderr",
     "output_type": "stream",
     "text": [
      "\r",
      " 90%|████████████████████████████████████████████████████████████████████▏       | 1390/1550 [1:38:17<10:31,  3.95s/it]"
     ]
    },
    {
     "name": "stdout",
     "output_type": "stream",
     "text": [
      "['Health & Personal Care', 'Oral Care', 'Baby & Child Dental Care', 'Oral Care', 'Baby Toothpaste']\n",
      "1390\n",
      "https://www.amazon.in/dp/B09BLH4HQ6\n",
      "Brand: Amway\n"
     ]
    },
    {
     "name": "stderr",
     "output_type": "stream",
     "text": [
      "\r",
      " 90%|████████████████████████████████████████████████████████████████████▏       | 1391/1550 [1:38:21<10:17,  3.88s/it]"
     ]
    },
    {
     "name": "stdout",
     "output_type": "stream",
     "text": [
      "['Health & Personal Care', 'Oral Care', 'Toothpastes']\n",
      "1391\n",
      "https://www.amazon.in/dp/B0BC4Q75Z4\n",
      "Visit the PEDIFLOR Store\n"
     ]
    },
    {
     "name": "stderr",
     "output_type": "stream",
     "text": [
      "\r",
      " 90%|████████████████████████████████████████████████████████████████████▎       | 1392/1550 [1:38:27<11:44,  4.46s/it]"
     ]
    },
    {
     "name": "stdout",
     "output_type": "stream",
     "text": [
      "['Health & Personal Care', 'Oral Care', 'Baby & Child Dental Care', \"Children's Oral Care\", 'Toothpastes']\n",
      "1392\n",
      "https://www.amazon.in/dp/B0B9XLL5W5\n"
     ]
    },
    {
     "name": "stderr",
     "output_type": "stream",
     "text": [
      "\r",
      " 90%|████████████████████████████████████████████████████████████████████▎       | 1393/1550 [1:38:31<11:24,  4.36s/it]"
     ]
    },
    {
     "name": "stdout",
     "output_type": "stream",
     "text": [
      "Brand: Colgate\n",
      "['Health & Personal Care', 'Oral Care', 'Toothpastes']\n",
      "1393\n",
      "https://www.amazon.in/dp/B00J0KPL7I\n"
     ]
    },
    {
     "name": "stderr",
     "output_type": "stream",
     "text": [
      "\r",
      " 90%|████████████████████████████████████████████████████████████████████▎       | 1394/1550 [1:38:34<10:50,  4.17s/it]"
     ]
    },
    {
     "name": "stdout",
     "output_type": "stream",
     "text": [
      "Brand: Colgate\n",
      "['Health & Personal Care', 'Oral Care', 'Toothpastes']\n",
      "1394\n",
      "https://www.amazon.in/dp/B08CRVGFG8\n",
      "Brand: AGARO\n"
     ]
    },
    {
     "name": "stderr",
     "output_type": "stream",
     "text": [
      "\r",
      " 90%|████████████████████████████████████████████████████████████████████▍       | 1395/1550 [1:38:39<10:47,  4.18s/it]"
     ]
    },
    {
     "name": "stdout",
     "output_type": "stream",
     "text": [
      "['Health & Personal Care', 'Oral Care', 'Toothbrushes & Accessories', 'Electric Toothbrushes & Accessories', 'Power Toothbrushes', 'Sonic']\n",
      "1395\n",
      "https://www.amazon.in/dp/B01FNXPFUS\n"
     ]
    },
    {
     "name": "stderr",
     "output_type": "stream",
     "text": [
      "\r",
      " 90%|████████████████████████████████████████████████████████████████████▍       | 1396/1550 [1:38:43<10:38,  4.15s/it]"
     ]
    },
    {
     "name": "stdout",
     "output_type": "stream",
     "text": [
      "Brand: Colgate\n",
      "['Health & Personal Care', 'Oral Care', 'Toothpastes']\n",
      "1396\n",
      "https://www.amazon.in/dp/B0982P7XM6\n"
     ]
    },
    {
     "name": "stderr",
     "output_type": "stream",
     "text": [
      "\r",
      " 90%|████████████████████████████████████████████████████████████████████▍       | 1397/1550 [1:38:47<10:53,  4.27s/it]"
     ]
    },
    {
     "name": "stdout",
     "output_type": "stream",
     "text": [
      "Brand: Colgate\n",
      "['Health & Personal Care', 'Oral Care', 'Toothpastes']\n",
      "1397\n",
      "https://www.amazon.in/dp/B0752L1LJ5\n"
     ]
    },
    {
     "name": "stderr",
     "output_type": "stream",
     "text": [
      "\r",
      " 90%|████████████████████████████████████████████████████████████████████▌       | 1398/1550 [1:38:52<10:58,  4.34s/it]"
     ]
    },
    {
     "name": "stdout",
     "output_type": "stream",
     "text": [
      "Brand: LEVER ayush\n",
      "['Health & Personal Care', 'Oral Care', 'Toothpastes']\n",
      "1398\n",
      "https://www.amazon.in/dp/B00U2DT1EQ\n"
     ]
    },
    {
     "name": "stderr",
     "output_type": "stream",
     "text": [
      "\r",
      " 90%|████████████████████████████████████████████████████████████████████▌       | 1399/1550 [1:38:56<10:52,  4.32s/it]"
     ]
    },
    {
     "name": "stdout",
     "output_type": "stream",
     "text": [
      "Brand: Pepsodent\n",
      "['Health & Personal Care', 'Oral Care', 'Toothpastes']\n",
      "1399\n",
      "https://www.amazon.in/dp/B0BS6TFBV7\n"
     ]
    },
    {
     "name": "stderr",
     "output_type": "stream",
     "text": [
      "\r",
      " 90%|████████████████████████████████████████████████████████████████████▋       | 1400/1550 [1:39:00<10:18,  4.12s/it]"
     ]
    },
    {
     "name": "stdout",
     "output_type": "stream",
     "text": [
      "Brand: Colgate\n",
      "['Health & Personal Care', 'Oral Care', 'Toothpastes']\n",
      "1400\n",
      "https://www.amazon.in/dp/B01KOJ7ZBI\n"
     ]
    },
    {
     "name": "stderr",
     "output_type": "stream",
     "text": [
      "\r",
      " 90%|████████████████████████████████████████████████████████████████████▋       | 1401/1550 [1:39:04<10:08,  4.08s/it]"
     ]
    },
    {
     "name": "stdout",
     "output_type": "stream",
     "text": [
      "Brand: Sensodyne\n",
      "['Health & Personal Care', 'Oral Care', 'Toothpastes']\n",
      "1401\n",
      "https://www.amazon.in/dp/B099K5HJGG\n"
     ]
    },
    {
     "name": "stderr",
     "output_type": "stream",
     "text": [
      "\r",
      " 90%|████████████████████████████████████████████████████████████████████▋       | 1402/1550 [1:39:08<09:54,  4.01s/it]"
     ]
    },
    {
     "name": "stdout",
     "output_type": "stream",
     "text": [
      "Brand: Lacoste\n",
      "['Clothing & Accessories', 'Men', 'T-Shirts & Polos', 'Polos']\n",
      "1402\n",
      "https://www.amazon.in/dp/B0BV3ZB9T9\n"
     ]
    },
    {
     "name": "stderr",
     "output_type": "stream",
     "text": [
      "\r",
      " 91%|████████████████████████████████████████████████████████████████████▊       | 1403/1550 [1:39:11<09:38,  3.94s/it]"
     ]
    },
    {
     "name": "stdout",
     "output_type": "stream",
     "text": [
      "Brand: Lacoste\n",
      "['Clothing & Accessories', 'Men', 'T-Shirts & Polos', 'Polos']\n",
      "1403\n",
      "https://www.amazon.in/dp/B0BV3Z1XPJ\n",
      "Brand: Lacoste\n"
     ]
    },
    {
     "name": "stderr",
     "output_type": "stream",
     "text": [
      "\r",
      " 91%|████████████████████████████████████████████████████████████████████▊       | 1404/1550 [1:39:15<09:16,  3.81s/it]"
     ]
    },
    {
     "name": "stdout",
     "output_type": "stream",
     "text": [
      "['Clothing & Accessories', 'Men', 'T-Shirts & Polos', 'Polos']\n",
      "1404\n",
      "https://www.amazon.in/dp/B073X4YGZM\n",
      "Visit the Amazon Brand - Symbol Store\n"
     ]
    },
    {
     "name": "stderr",
     "output_type": "stream",
     "text": [
      "\r",
      " 91%|████████████████████████████████████████████████████████████████████▉       | 1405/1550 [1:39:19<09:23,  3.88s/it]"
     ]
    },
    {
     "name": "stdout",
     "output_type": "stream",
     "text": [
      "['Fashion', 'Made for Amazon brands', 'All SPB apparel', 'FD', 'Symbol']\n",
      "1405\n",
      "https://www.amazon.in/dp/B089B3C74D\n",
      "Visit the EYEBOGLER Store\n"
     ]
    },
    {
     "name": "stderr",
     "output_type": "stream",
     "text": [
      "\r",
      " 91%|████████████████████████████████████████████████████████████████████▉       | 1406/1550 [1:39:23<09:16,  3.87s/it]"
     ]
    },
    {
     "name": "stdout",
     "output_type": "stream",
     "text": [
      "['Fashion', 'Apparel Steal Deals', 'Apparel_1', 'Men', \"Men's fashion starting 199\"]\n",
      "1406\n",
      "https://www.amazon.in/dp/B07R8VBMNS\n"
     ]
    },
    {
     "name": "stderr",
     "output_type": "stream",
     "text": [
      "\r",
      " 91%|████████████████████████████████████████████████████████████████████▉       | 1407/1550 [1:39:27<09:44,  4.09s/it]"
     ]
    },
    {
     "name": "stdout",
     "output_type": "stream",
     "text": [
      "Visit the Van Heusen Store\n",
      "['Clothing & Accessories', 'Men', 'T-Shirts & Polos', 'T-Shirts']\n",
      "1407\n",
      "https://www.amazon.in/dp/B091KR4QTW\n"
     ]
    },
    {
     "name": "stderr",
     "output_type": "stream",
     "text": [
      "\r",
      " 91%|█████████████████████████████████████████████████████████████████████       | 1408/1550 [1:39:31<09:29,  4.01s/it]"
     ]
    },
    {
     "name": "stdout",
     "output_type": "stream",
     "text": [
      "Visit the Van Heusen Store\n",
      "['Clothing & Accessories', 'Men', 'T-Shirts & Polos', 'Polos']\n",
      "1408\n",
      "https://www.amazon.in/dp/B0BV3VNSRG\n"
     ]
    },
    {
     "name": "stderr",
     "output_type": "stream",
     "text": [
      "\r",
      " 91%|█████████████████████████████████████████████████████████████████████       | 1409/1550 [1:39:35<09:12,  3.92s/it]"
     ]
    },
    {
     "name": "stdout",
     "output_type": "stream",
     "text": [
      "Brand: Lacoste\n",
      "['Clothing & Accessories', 'Men', 'T-Shirts & Polos', 'Polos']\n",
      "1409\n",
      "https://www.amazon.in/dp/B0BV3ZXYH8\n"
     ]
    },
    {
     "name": "stderr",
     "output_type": "stream",
     "text": [
      "\r",
      " 91%|█████████████████████████████████████████████████████████████████████▏      | 1410/1550 [1:39:39<08:58,  3.85s/it]"
     ]
    },
    {
     "name": "stdout",
     "output_type": "stream",
     "text": [
      "Brand: Lacoste\n",
      "['Clothing & Accessories', 'Men', 'T-Shirts & Polos', 'Polos']\n",
      "1410\n",
      "https://www.amazon.in/dp/B0BNGQ6CYX\n"
     ]
    },
    {
     "name": "stderr",
     "output_type": "stream",
     "text": [
      "\r",
      " 91%|█████████████████████████████████████████████████████████████████████▏      | 1411/1550 [1:39:42<08:34,  3.70s/it]"
     ]
    },
    {
     "name": "stdout",
     "output_type": "stream",
     "text": [
      "Brand: Lacoste\n",
      "['Clothing & Accessories', 'Men', 'T-Shirts & Polos', 'T-Shirts']\n",
      "1411\n",
      "https://www.amazon.in/dp/B099KQHQYD\n"
     ]
    },
    {
     "name": "stderr",
     "output_type": "stream",
     "text": [
      "\r",
      " 91%|█████████████████████████████████████████████████████████████████████▏      | 1412/1550 [1:39:45<08:26,  3.67s/it]"
     ]
    },
    {
     "name": "stdout",
     "output_type": "stream",
     "text": [
      "Brand: Lacoste\n",
      "['Clothing & Accessories', 'Men', 'T-Shirts & Polos', 'Polos']\n",
      "1412\n",
      "https://www.amazon.in/dp/B07XFMCL83\n",
      "Brand: Levi's\n"
     ]
    },
    {
     "name": "stderr",
     "output_type": "stream",
     "text": [
      "\r",
      " 91%|█████████████████████████████████████████████████████████████████████▎      | 1413/1550 [1:39:49<08:35,  3.76s/it]"
     ]
    },
    {
     "name": "stdout",
     "output_type": "stream",
     "text": [
      "['Fashion', 'Apparel Steal Deals', 'Apparel_1', 'Men', 'Polos & T-Shirts - Min 50% Off']\n",
      "1413\n",
      "https://www.amazon.in/dp/B0C6QTSN4G\n",
      "Brand: Levi's\n"
     ]
    },
    {
     "name": "stderr",
     "output_type": "stream",
     "text": [
      "\r",
      " 91%|█████████████████████████████████████████████████████████████████████▎      | 1414/1550 [1:39:53<08:30,  3.75s/it]"
     ]
    },
    {
     "name": "stdout",
     "output_type": "stream",
     "text": [
      "['Clothing & Accessories', 'Men', 'T-Shirts & Polos', 'T-Shirts']\n",
      "1414\n",
      "https://www.amazon.in/dp/B0BJZ3QXMT\n"
     ]
    },
    {
     "name": "stderr",
     "output_type": "stream",
     "text": [
      "\r",
      " 91%|█████████████████████████████████████████████████████████████████████▍      | 1415/1550 [1:39:57<08:20,  3.71s/it]"
     ]
    },
    {
     "name": "stdout",
     "output_type": "stream",
     "text": [
      "Brand: Levi's\n",
      "['Clothing & Accessories', 'Men', 'T-Shirts & Polos', 'Polos']\n",
      "1415\n",
      "https://www.amazon.in/dp/B0BJYSGFPJ\n"
     ]
    },
    {
     "name": "stderr",
     "output_type": "stream",
     "text": [
      "\r",
      " 91%|█████████████████████████████████████████████████████████████████████▍      | 1416/1550 [1:40:00<08:12,  3.68s/it]"
     ]
    },
    {
     "name": "stdout",
     "output_type": "stream",
     "text": [
      "Brand: Levi's\n",
      "['Clothing & Accessories', 'Men', 'T-Shirts & Polos', 'T-Shirts']\n",
      "1416\n",
      "https://www.amazon.in/dp/B09RSZ1DJB\n",
      "Brand: Levi's\n"
     ]
    },
    {
     "name": "stderr",
     "output_type": "stream",
     "text": [
      "\r",
      " 91%|█████████████████████████████████████████████████████████████████████▍      | 1417/1550 [1:40:04<07:54,  3.57s/it]"
     ]
    },
    {
     "name": "stdout",
     "output_type": "stream",
     "text": [
      "['Fashion', 'Apparel Steal Deals', 'Apparel_1', 'Men', 'Polos & T-Shirts - Min 50% Off']\n",
      "1417\n",
      "https://www.amazon.in/dp/B0BJZPXX69\n",
      "Brand: Levi's\n"
     ]
    },
    {
     "name": "stderr",
     "output_type": "stream",
     "text": [
      "\r",
      " 91%|█████████████████████████████████████████████████████████████████████▌      | 1418/1550 [1:40:07<07:48,  3.55s/it]"
     ]
    },
    {
     "name": "stdout",
     "output_type": "stream",
     "text": [
      "['Clothing & Accessories', 'Men', 'T-Shirts & Polos', 'T-Shirts']\n",
      "1418\n",
      "https://www.amazon.in/dp/B0C6QVTJBL\n"
     ]
    },
    {
     "name": "stderr",
     "output_type": "stream",
     "text": [
      "\r",
      " 92%|█████████████████████████████████████████████████████████████████████▌      | 1419/1550 [1:40:11<07:49,  3.58s/it]"
     ]
    },
    {
     "name": "stdout",
     "output_type": "stream",
     "text": [
      "Brand: Levi's\n",
      "['Clothing & Accessories', 'Men', 'T-Shirts & Polos', 'T-Shirts']\n",
      "1419\n",
      "https://www.amazon.in/dp/B0BJZ299V8\n"
     ]
    },
    {
     "name": "stderr",
     "output_type": "stream",
     "text": [
      "\r",
      " 92%|█████████████████████████████████████████████████████████████████████▋      | 1420/1550 [1:40:14<07:35,  3.50s/it]"
     ]
    },
    {
     "name": "stdout",
     "output_type": "stream",
     "text": [
      "Brand: Levi's\n",
      "['Clothing & Accessories', 'Men', 'T-Shirts & Polos', 'T-Shirts']\n",
      "1420\n",
      "https://www.amazon.in/dp/B0CBMDJJZ7\n"
     ]
    },
    {
     "name": "stderr",
     "output_type": "stream",
     "text": [
      "\r",
      " 92%|█████████████████████████████████████████████████████████████████████▋      | 1421/1550 [1:40:18<07:26,  3.46s/it]"
     ]
    },
    {
     "name": "stdout",
     "output_type": "stream",
     "text": [
      "Brand: Peter England\n",
      "['Clothing & Accessories', 'Men', 'T-Shirts & Polos', 'T-Shirts']\n",
      "1421\n",
      "https://www.amazon.in/dp/B09TDHMR25\n",
      "Brand: Allen Solly\n"
     ]
    },
    {
     "name": "stderr",
     "output_type": "stream",
     "text": [
      "\r",
      " 92%|█████████████████████████████████████████████████████████████████████▋      | 1422/1550 [1:40:21<07:34,  3.55s/it]"
     ]
    },
    {
     "name": "stdout",
     "output_type": "stream",
     "text": [
      "['Fashion', 'Apparel Steal Deals', 'Apparel_1', 'Men', 'T-shirts under 499']\n",
      "1422\n",
      "https://www.amazon.in/dp/B0C7ZKXL6R\n"
     ]
    },
    {
     "name": "stderr",
     "output_type": "stream",
     "text": [
      "\r",
      " 92%|█████████████████████████████████████████████████████████████████████▊      | 1423/1550 [1:40:25<07:31,  3.55s/it]"
     ]
    },
    {
     "name": "stdout",
     "output_type": "stream",
     "text": [
      "Brand: Allen Solly\n",
      "['Clothing & Accessories', 'Men', 'T-Shirts & Polos', 'T-Shirts']\n",
      "1423\n",
      "https://www.amazon.in/dp/B0BBSBHZ1K\n"
     ]
    },
    {
     "name": "stderr",
     "output_type": "stream",
     "text": [
      "\r",
      " 92%|█████████████████████████████████████████████████████████████████████▊      | 1424/1550 [1:40:28<07:29,  3.57s/it]"
     ]
    },
    {
     "name": "stdout",
     "output_type": "stream",
     "text": [
      "Brand: Allen Solly\n",
      "['Clothing & Accessories', 'Men', 'T-Shirts & Polos', 'T-Shirts']\n",
      "1424\n",
      "https://www.amazon.in/dp/B0C7ZMTC72\n"
     ]
    },
    {
     "name": "stderr",
     "output_type": "stream",
     "text": [
      "\r",
      " 92%|█████████████████████████████████████████████████████████████████████▊      | 1425/1550 [1:40:32<07:30,  3.60s/it]"
     ]
    },
    {
     "name": "stdout",
     "output_type": "stream",
     "text": [
      "Brand: Allen Solly\n",
      "['Clothing & Accessories', 'Men', 'T-Shirts & Polos', 'T-Shirts']\n",
      "1425\n",
      "https://www.amazon.in/dp/B0C7ZR3QJH\n",
      "Brand: Allen Solly\n"
     ]
    },
    {
     "name": "stderr",
     "output_type": "stream",
     "text": [
      "\r",
      " 92%|█████████████████████████████████████████████████████████████████████▉      | 1426/1550 [1:40:36<07:24,  3.58s/it]"
     ]
    },
    {
     "name": "stdout",
     "output_type": "stream",
     "text": [
      "['Clothing & Accessories', 'Men', 'T-Shirts & Polos', 'T-Shirts']\n",
      "1426\n",
      "https://www.amazon.in/dp/B09TDGXL6B\n",
      "Brand: Allen Solly\n"
     ]
    },
    {
     "name": "stderr",
     "output_type": "stream",
     "text": [
      "\r",
      " 92%|█████████████████████████████████████████████████████████████████████▉      | 1427/1550 [1:40:40<07:32,  3.68s/it]"
     ]
    },
    {
     "name": "stdout",
     "output_type": "stream",
     "text": [
      "['Fashion', 'Apparel Steal Deals', 'Apparel_1', 'Men', 'Polos & T-Shirts - Min 50% Off']\n",
      "1427\n",
      "https://www.amazon.in/dp/B0B9RQ6BBV\n",
      "Brand: Lacoste\n"
     ]
    },
    {
     "name": "stderr",
     "output_type": "stream",
     "text": [
      "\r",
      " 92%|██████████████████████████████████████████████████████████████████████      | 1428/1550 [1:40:43<07:25,  3.65s/it]"
     ]
    },
    {
     "name": "stdout",
     "output_type": "stream",
     "text": [
      "['Clothing & Accessories', 'Men', 'T-Shirts & Polos', 'Polos']\n",
      "1428\n",
      "https://www.amazon.in/dp/B0CBFSWCS3\n"
     ]
    },
    {
     "name": "stderr",
     "output_type": "stream",
     "text": [
      "\r",
      " 92%|██████████████████████████████████████████████████████████████████████      | 1429/1550 [1:40:47<07:31,  3.73s/it]"
     ]
    },
    {
     "name": "stdout",
     "output_type": "stream",
     "text": [
      "Brand: U.S. POLO ASSN.\n",
      "['Clothing & Accessories', 'Men', 'T-Shirts & Polos', 'Polos']\n",
      "1429\n",
      "https://www.amazon.in/dp/B0BFDB1DZN\n"
     ]
    },
    {
     "name": "stderr",
     "output_type": "stream",
     "text": [
      "\r",
      " 92%|██████████████████████████████████████████████████████████████████████      | 1430/1550 [1:40:51<07:30,  3.75s/it]"
     ]
    },
    {
     "name": "stdout",
     "output_type": "stream",
     "text": [
      "Visit the fanideaz Store\n",
      "['Clothing & Accessories', 'Men', 'T-Shirts & Polos', 'Polos']\n",
      "1430\n",
      "https://www.amazon.in/dp/B09FLB3BLS\n",
      "Visit the INKKR Store\n"
     ]
    },
    {
     "name": "stderr",
     "output_type": "stream",
     "text": [
      "\r",
      " 92%|██████████████████████████████████████████████████████████████████████▏     | 1431/1550 [1:40:55<07:32,  3.80s/it]"
     ]
    },
    {
     "name": "stdout",
     "output_type": "stream",
     "text": [
      "['Clothing & Accessories', 'Men', 'T-Shirts & Polos', 'Polos']\n",
      "1431\n",
      "https://www.amazon.in/dp/B0BNW3XF1Q\n",
      "Visit the CHKOKKO Store\n"
     ]
    },
    {
     "name": "stderr",
     "output_type": "stream",
     "text": [
      "\r",
      " 92%|██████████████████████████████████████████████████████████████████████▏     | 1432/1550 [1:40:58<07:20,  3.74s/it]"
     ]
    },
    {
     "name": "stdout",
     "output_type": "stream",
     "text": [
      "['Clothing & Accessories', 'Men', 'T-Shirts & Polos', 'Polos']\n",
      "1432\n",
      "https://www.amazon.in/dp/B0C3WB5B6V\n"
     ]
    },
    {
     "name": "stderr",
     "output_type": "stream",
     "text": [
      "\r",
      " 92%|██████████████████████████████████████████████████████████████████████▎     | 1433/1550 [1:41:02<07:09,  3.67s/it]"
     ]
    },
    {
     "name": "stdout",
     "output_type": "stream",
     "text": [
      "Visit the AUSK Store\n",
      "['Clothing & Accessories', 'Men', 'T-Shirts & Polos', 'Polos']\n",
      "1433\n",
      "https://www.amazon.in/dp/B094V3WZ6F\n"
     ]
    },
    {
     "name": "stderr",
     "output_type": "stream",
     "text": [
      "\r",
      " 93%|██████████████████████████████████████████████████████████████████████▎     | 1434/1550 [1:41:08<08:19,  4.30s/it]"
     ]
    },
    {
     "name": "stdout",
     "output_type": "stream",
     "text": [
      "Visit the Arrow Store\n",
      "['Fashion', 'Apparel Steal Deals', 'Apparel_1', 'Men', '50% -70% off on Arrow']\n",
      "1434\n",
      "https://www.amazon.in/dp/B0C1RWG3Y8\n"
     ]
    },
    {
     "name": "stderr",
     "output_type": "stream",
     "text": [
      "\r",
      " 93%|██████████████████████████████████████████████████████████████████████▎     | 1435/1550 [1:41:12<07:58,  4.16s/it]"
     ]
    },
    {
     "name": "stdout",
     "output_type": "stream",
     "text": [
      "Brand: Peter England\n",
      "['Clothing & Accessories', 'Men', 'T-Shirts & Polos', 'Polos']\n",
      "1435\n",
      "https://www.amazon.in/dp/B0C4FCWTJ6\n",
      "Visit the Armisto Store\n"
     ]
    },
    {
     "name": "stderr",
     "output_type": "stream",
     "text": [
      "\r",
      " 93%|██████████████████████████████████████████████████████████████████████▍     | 1436/1550 [1:41:15<07:26,  3.92s/it]"
     ]
    },
    {
     "name": "stdout",
     "output_type": "stream",
     "text": [
      "['Clothing & Accessories', 'Men', 'T-Shirts & Polos', 'Polos']\n",
      "1436\n",
      "https://www.amazon.in/dp/B091KT4HGR\n"
     ]
    },
    {
     "name": "stderr",
     "output_type": "stream",
     "text": [
      "\r",
      " 93%|██████████████████████████████████████████████████████████████████████▍     | 1437/1550 [1:41:19<07:17,  3.87s/it]"
     ]
    },
    {
     "name": "stdout",
     "output_type": "stream",
     "text": [
      "Brand: Van Heusen\n",
      "['Clothing & Accessories', 'Men', 'T-Shirts & Polos', 'T-Shirts']\n",
      "1437\n",
      "https://www.amazon.in/dp/B0BRNLSYSD\n"
     ]
    },
    {
     "name": "stderr",
     "output_type": "stream",
     "text": [
      "\r",
      " 93%|██████████████████████████████████████████████████████████████████████▌     | 1438/1550 [1:41:23<07:21,  3.94s/it]"
     ]
    },
    {
     "name": "stdout",
     "output_type": "stream",
     "text": [
      "Visit the Van Heusen Store\n",
      "['Clothing & Accessories', 'Men', 'T-Shirts & Polos', 'T-Shirts']\n",
      "1438\n",
      "https://www.amazon.in/dp/B08XQTT8ZG\n"
     ]
    },
    {
     "name": "stderr",
     "output_type": "stream",
     "text": [
      "\r",
      " 93%|██████████████████████████████████████████████████████████████████████▌     | 1439/1550 [1:41:27<07:19,  3.96s/it]"
     ]
    },
    {
     "name": "stdout",
     "output_type": "stream",
     "text": [
      "Visit the Van Heusen Store\n",
      "['Clothing & Accessories', 'Men', 'T-Shirts & Polos', 'T-Shirts']\n",
      "1439\n",
      "https://www.amazon.in/dp/B073WBTNDZ\n"
     ]
    },
    {
     "name": "stderr",
     "output_type": "stream",
     "text": [
      "\r",
      " 93%|██████████████████████████████████████████████████████████████████████▌     | 1440/1550 [1:41:30<07:02,  3.84s/it]"
     ]
    },
    {
     "name": "stdout",
     "output_type": "stream",
     "text": [
      "Visit the Van Heusen Store\n",
      "['Clothing & Accessories', 'Men', 'T-Shirts & Polos', 'T-Shirts']\n",
      "1440\n",
      "https://www.amazon.in/dp/B091KS58XN\n"
     ]
    },
    {
     "name": "stderr",
     "output_type": "stream",
     "text": [
      "\r",
      " 93%|██████████████████████████████████████████████████████████████████████▋     | 1441/1550 [1:41:34<06:51,  3.78s/it]"
     ]
    },
    {
     "name": "stdout",
     "output_type": "stream",
     "text": [
      "Visit the Van Heusen Store\n",
      "['Clothing & Accessories', 'Men', 'T-Shirts & Polos', 'Polos']\n",
      "1441\n",
      "https://www.amazon.in/dp/B0BMQD5C28\n"
     ]
    },
    {
     "name": "stderr",
     "output_type": "stream",
     "text": [
      "\r",
      " 93%|██████████████████████████████████████████████████████████████████████▋     | 1442/1550 [1:41:38<06:49,  3.79s/it]"
     ]
    },
    {
     "name": "stdout",
     "output_type": "stream",
     "text": [
      "Visit the Van Heusen Store\n",
      "['Clothing & Accessories', 'Men', 'T-Shirts & Polos', 'Polos']\n",
      "1442\n",
      "https://www.amazon.in/dp/B083C2LYB6\n",
      "Visit the Van Heusen Store\n"
     ]
    },
    {
     "name": "stderr",
     "output_type": "stream",
     "text": [
      "\r",
      " 93%|██████████████████████████████████████████████████████████████████████▊     | 1443/1550 [1:41:42<07:00,  3.93s/it]"
     ]
    },
    {
     "name": "stdout",
     "output_type": "stream",
     "text": [
      "['Clothing & Accessories', 'Men', 'T-Shirts & Polos', 'T-Shirts']\n",
      "1443\n",
      "https://www.amazon.in/dp/B073WBPMXW\n"
     ]
    },
    {
     "name": "stderr",
     "output_type": "stream",
     "text": [
      "\r",
      " 93%|██████████████████████████████████████████████████████████████████████▊     | 1444/1550 [1:41:46<06:48,  3.85s/it]"
     ]
    },
    {
     "name": "stdout",
     "output_type": "stream",
     "text": [
      "Visit the Van Heusen Store\n",
      "['Clothing & Accessories', 'Men', 'T-Shirts & Polos', 'T-Shirts']\n",
      "1444\n",
      "https://www.amazon.in/dp/B0BZVHSNCQ\n",
      "Visit the Van Heusen Store\n"
     ]
    },
    {
     "name": "stderr",
     "output_type": "stream",
     "text": [
      "\r",
      " 93%|██████████████████████████████████████████████████████████████████████▊     | 1445/1550 [1:41:49<06:41,  3.83s/it]"
     ]
    },
    {
     "name": "stdout",
     "output_type": "stream",
     "text": [
      "['Clothing & Accessories', 'Men', 'T-Shirts & Polos', 'T-Shirts']\n",
      "1445\n",
      "https://www.amazon.in/dp/B0B2CWHZFM\n"
     ]
    },
    {
     "name": "stderr",
     "output_type": "stream",
     "text": [
      "\r",
      " 93%|██████████████████████████████████████████████████████████████████████▉     | 1446/1550 [1:41:53<06:42,  3.87s/it]"
     ]
    },
    {
     "name": "stdout",
     "output_type": "stream",
     "text": [
      "Visit the Van Heusen Store\n",
      "['Clothing & Accessories', 'Men', 'T-Shirts & Polos', 'Polos']\n",
      "1446\n",
      "https://www.amazon.in/dp/B09V8DQ9KG\n"
     ]
    },
    {
     "name": "stderr",
     "output_type": "stream",
     "text": [
      "\r",
      " 93%|██████████████████████████████████████████████████████████████████████▉     | 1447/1550 [1:41:57<06:29,  3.79s/it]"
     ]
    },
    {
     "name": "stdout",
     "output_type": "stream",
     "text": [
      "Visit the Van Heusen Store\n",
      "['Clothing & Accessories', 'Men', 'T-Shirts & Polos', 'Polos']\n",
      "1447\n",
      "https://www.amazon.in/dp/B091CLPMS1\n"
     ]
    },
    {
     "name": "stderr",
     "output_type": "stream",
     "text": [
      "\r",
      " 93%|██████████████████████████████████████████████████████████████████████▉     | 1448/1550 [1:42:02<06:49,  4.01s/it]"
     ]
    },
    {
     "name": "stdout",
     "output_type": "stream",
     "text": [
      "Visit the DENTE91 Store\n",
      "['Health & Personal Care', 'Oral Care', 'Toothpastes']\n",
      "1448\n",
      "https://www.amazon.in/dp/B0C8STZ44R\n",
      "Visit the Morisons* babydreams THE CHOICE OF SMART MUMS Store\n"
     ]
    },
    {
     "name": "stderr",
     "output_type": "stream",
     "text": [
      "\r",
      " 93%|███████████████████████████████████████████████████████████████████████     | 1449/1550 [1:42:05<06:34,  3.90s/it]"
     ]
    },
    {
     "name": "stdout",
     "output_type": "stream",
     "text": [
      "['Health & Personal Care', 'Oral Care', 'Baby & Child Dental Care', 'Oral Care', 'Baby Toothpaste']\n",
      "1449\n",
      "https://www.amazon.in/dp/B0BZL289Y9\n"
     ]
    },
    {
     "name": "stderr",
     "output_type": "stream",
     "text": [
      "\r",
      " 94%|███████████████████████████████████████████████████████████████████████     | 1450/1550 [1:42:09<06:18,  3.79s/it]"
     ]
    },
    {
     "name": "stdout",
     "output_type": "stream",
     "text": [
      "Brand: GLOCK\n",
      "['Health & Personal Care', 'Oral Care', 'Toothpastes']\n",
      "1450\n",
      "https://www.amazon.in/dp/B0BY8QJKZW\n"
     ]
    },
    {
     "name": "stderr",
     "output_type": "stream",
     "text": [
      "\r",
      " 94%|███████████████████████████████████████████████████████████████████████▏    | 1451/1550 [1:42:13<06:17,  3.81s/it]"
     ]
    },
    {
     "name": "stdout",
     "output_type": "stream",
     "text": [
      "Brand: Generic\n",
      "['Health & Personal Care', 'Oral Care', 'Toothpastes']\n",
      "1451\n",
      "https://www.amazon.in/dp/B01ABNTP1A\n"
     ]
    },
    {
     "name": "stderr",
     "output_type": "stream",
     "text": [
      "\r",
      " 94%|███████████████████████████████████████████████████████████████████████▏    | 1452/1550 [1:42:16<06:14,  3.82s/it]"
     ]
    },
    {
     "name": "stdout",
     "output_type": "stream",
     "text": [
      "Brand: Pepsodent\n",
      "['Health & Personal Care', 'Oral Care', 'Toothpastes']\n",
      "1452\n",
      "https://www.amazon.in/dp/B0C8618B6P\n"
     ]
    },
    {
     "name": "stderr",
     "output_type": "stream",
     "text": [
      "\r",
      " 94%|███████████████████████████████████████████████████████████████████████▏    | 1453/1550 [1:42:20<06:10,  3.82s/it]"
     ]
    },
    {
     "name": "stdout",
     "output_type": "stream",
     "text": [
      "Brand: Peter England\n",
      "['Clothing & Accessories', 'Men', 'T-Shirts & Polos', 'T-Shirts']\n",
      "1453\n",
      "https://www.amazon.in/dp/B0C7LHF6VM\n"
     ]
    },
    {
     "name": "stderr",
     "output_type": "stream",
     "text": [
      "\r",
      " 94%|███████████████████████████████████████████████████████████████████████▎    | 1454/1550 [1:42:24<06:03,  3.78s/it]"
     ]
    },
    {
     "name": "stdout",
     "output_type": "stream",
     "text": [
      "Brand: Peter England\n",
      "['Clothing & Accessories', 'Men', 'Shirts', 'Casual Shirts']\n",
      "1454\n",
      "https://www.amazon.in/dp/B09QQ13SKY\n",
      "Brand: Peter England\n"
     ]
    },
    {
     "name": "stderr",
     "output_type": "stream",
     "text": [
      "\r",
      " 94%|███████████████████████████████████████████████████████████████████████▎    | 1455/1550 [1:42:28<06:05,  3.84s/it]"
     ]
    },
    {
     "name": "stdout",
     "output_type": "stream",
     "text": [
      "['Fashion', 'Apparel Steal Deals', 'Apparel_1', 'Men', 'Polos & T-Shirts - Min 50% Off']\n",
      "1455\n",
      "https://www.amazon.in/dp/B09QPYB2TY\n",
      "Brand: Peter England\n"
     ]
    },
    {
     "name": "stderr",
     "output_type": "stream",
     "text": [
      "\r",
      " 94%|███████████████████████████████████████████████████████████████████████▍    | 1456/1550 [1:42:32<05:55,  3.79s/it]"
     ]
    },
    {
     "name": "stdout",
     "output_type": "stream",
     "text": [
      "['Fashion', 'Apparel Steal Deals', 'Apparel_1', 'Men', 'T-shirts under 499']\n",
      "1456\n",
      "https://www.amazon.in/dp/B09QPT9HCF\n"
     ]
    },
    {
     "name": "stderr",
     "output_type": "stream",
     "text": [
      "\r",
      " 94%|███████████████████████████████████████████████████████████████████████▍    | 1457/1550 [1:42:35<05:54,  3.81s/it]"
     ]
    },
    {
     "name": "stdout",
     "output_type": "stream",
     "text": [
      "Brand: Peter England\n",
      "['Clothing & Accessories', 'Men', 'T-Shirts & Polos', 'T-Shirts']\n",
      "1457\n",
      "https://www.amazon.in/dp/B09QPSPKL7\n"
     ]
    },
    {
     "name": "stderr",
     "output_type": "stream",
     "text": [
      "\r",
      " 94%|███████████████████████████████████████████████████████████████████████▍    | 1458/1550 [1:42:39<05:46,  3.76s/it]"
     ]
    },
    {
     "name": "stdout",
     "output_type": "stream",
     "text": [
      "Brand: Peter England\n",
      "['Clothing & Accessories', 'Men', 'T-Shirts & Polos', 'T-Shirts']\n",
      "1458\n",
      "https://www.amazon.in/dp/B076CHSWBH\n"
     ]
    },
    {
     "name": "stderr",
     "output_type": "stream",
     "text": [
      "\r",
      " 94%|███████████████████████████████████████████████████████████████████████▌    | 1459/1550 [1:42:43<05:51,  3.87s/it]"
     ]
    },
    {
     "name": "stdout",
     "output_type": "stream",
     "text": [
      "Visit the Van Heusen Store\n",
      "['Fashion', 'Apparel Steal Deals', 'Apparel_1', 'Men', \"Men's Bestsellers\"]\n",
      "1459\n",
      "https://www.amazon.in/dp/B0CDH4T5GL\n"
     ]
    },
    {
     "name": "stderr",
     "output_type": "stream",
     "text": [
      "\r",
      " 94%|███████████████████████████████████████████████████████████████████████▌    | 1460/1550 [1:42:47<05:43,  3.81s/it]"
     ]
    },
    {
     "name": "stdout",
     "output_type": "stream",
     "text": [
      "Visit the Pepe Jeans Store\n",
      "['Clothing & Accessories', 'Men', 'T-Shirts & Polos', 'T-Shirts']\n",
      "1460\n",
      "https://www.amazon.in/dp/B0CBBCSHMY\n"
     ]
    },
    {
     "name": "stderr",
     "output_type": "stream",
     "text": [
      "\r",
      " 94%|███████████████████████████████████████████████████████████████████████▋    | 1461/1550 [1:42:51<05:34,  3.76s/it]"
     ]
    },
    {
     "name": "stdout",
     "output_type": "stream",
     "text": [
      "Visit the XYXX Store\n",
      "['Clothing & Accessories', 'Men', 'T-Shirts & Polos', 'Polos']\n",
      "1461\n",
      "https://www.amazon.in/dp/B07R8VBJVZ\n",
      "Visit the Van Heusen Store\n"
     ]
    },
    {
     "name": "stderr",
     "output_type": "stream",
     "text": [
      "\r",
      " 94%|███████████████████████████████████████████████████████████████████████▋    | 1462/1550 [1:42:55<05:36,  3.83s/it]"
     ]
    },
    {
     "name": "stdout",
     "output_type": "stream",
     "text": [
      "['Fashion', 'Apparel Steal Deals', 'Apparel_1', 'Men', \"Men's Apparel BxGy\"]\n",
      "1462\n",
      "https://www.amazon.in/dp/B073X317ZK\n",
      "Visit the Amazon Brand - Symbol Store\n"
     ]
    },
    {
     "name": "stderr",
     "output_type": "stream",
     "text": [
      "\r",
      " 94%|███████████████████████████████████████████████████████████████████████▋    | 1463/1550 [1:42:59<05:37,  3.88s/it]"
     ]
    },
    {
     "name": "stdout",
     "output_type": "stream",
     "text": [
      "['Fashion', 'Made for Amazon brands', 'All SPB apparel', 'FD', 'Symbol']\n",
      "1463\n",
      "https://www.amazon.in/dp/B09CNYR7ZS\n",
      "Visit the RodZen Store\n"
     ]
    },
    {
     "name": "stderr",
     "output_type": "stream",
     "text": [
      "\r",
      " 94%|███████████████████████████████████████████████████████████████████████▊    | 1464/1550 [1:43:03<05:38,  3.93s/it]"
     ]
    },
    {
     "name": "stdout",
     "output_type": "stream",
     "text": [
      "['Clothing & Accessories', 'Men', 'T-Shirts & Polos', 'T-Shirts']\n",
      "1464\n",
      "https://www.amazon.in/dp/B0BNJ43N9F\n"
     ]
    },
    {
     "name": "stderr",
     "output_type": "stream",
     "text": [
      "\r",
      " 95%|███████████████████████████████████████████████████████████████████████▊    | 1465/1550 [1:43:06<05:20,  3.77s/it]"
     ]
    },
    {
     "name": "stdout",
     "output_type": "stream",
     "text": [
      "Visit the LEOTUDE Store\n",
      "['Clothing & Accessories', 'Men', 'T-Shirts & Polos', 'Polos']\n",
      "1465\n",
      "https://www.amazon.in/dp/B0BPPBGNMS\n"
     ]
    },
    {
     "name": "stderr",
     "output_type": "stream",
     "text": [
      "\r",
      " 95%|███████████████████████████████████████████████████████████████████████▉    | 1466/1550 [1:43:10<05:19,  3.80s/it]"
     ]
    },
    {
     "name": "stdout",
     "output_type": "stream",
     "text": [
      "Visit the TURMS Store\n",
      "['Clothing & Accessories', 'Men', 'T-Shirts & Polos', 'T-Shirts']\n",
      "1466\n",
      "https://www.amazon.in/dp/B06Y2FHGP4\n"
     ]
    },
    {
     "name": "stderr",
     "output_type": "stream",
     "text": [
      "\r",
      " 95%|███████████████████████████████████████████████████████████████████████▉    | 1467/1550 [1:43:14<05:26,  3.93s/it]"
     ]
    },
    {
     "name": "stdout",
     "output_type": "stream",
     "text": [
      "Brand: Allen Solly\n",
      "['Fashion', 'Apparel Steal Deals', 'Apparel_1', 'Men', \"Men's Bestsellers\"]\n",
      "1467\n",
      "https://www.amazon.in/dp/B0C37CRX5S\n",
      "Visit the LookMark Store\n"
     ]
    },
    {
     "name": "stderr",
     "output_type": "stream",
     "text": [
      "\r",
      " 95%|███████████████████████████████████████████████████████████████████████▉    | 1468/1550 [1:43:18<05:15,  3.84s/it]"
     ]
    },
    {
     "name": "stdout",
     "output_type": "stream",
     "text": [
      "['Clothing & Accessories', 'Men', 'T-Shirts & Polos', 'T-Shirts']\n",
      "1468\n",
      "https://www.amazon.in/dp/B07YDJKLFB\n"
     ]
    },
    {
     "name": "stderr",
     "output_type": "stream",
     "text": [
      "\r",
      " 95%|████████████████████████████████████████████████████████████████████████    | 1469/1550 [1:43:22<05:12,  3.86s/it]"
     ]
    },
    {
     "name": "stdout",
     "output_type": "stream",
     "text": [
      "Visit the EYEBOGLER Store\n",
      "['Fashion', 'Apparel Steal Deals', 'Apparel_1', 'Men', \"Men's fashion starting 199\"]\n",
      "1469\n",
      "https://www.amazon.in/dp/B0BBS7YLGP\n"
     ]
    },
    {
     "name": "stderr",
     "output_type": "stream",
     "text": [
      "\r",
      " 95%|████████████████████████████████████████████████████████████████████████    | 1470/1550 [1:43:25<05:04,  3.81s/it]"
     ]
    },
    {
     "name": "stdout",
     "output_type": "stream",
     "text": [
      "Brand: Allen Solly\n",
      "['Clothing & Accessories', 'Men', 'T-Shirts & Polos', 'Polos']\n",
      "1470\n",
      "https://www.amazon.in/dp/B0BJQH9ZSS\n"
     ]
    },
    {
     "name": "stderr",
     "output_type": "stream",
     "text": [
      "\r",
      " 95%|████████████████████████████████████████████████████████████████████████▏   | 1471/1550 [1:43:29<05:07,  3.89s/it]"
     ]
    },
    {
     "name": "stdout",
     "output_type": "stream",
     "text": [
      "Visit the AUSK Store\n",
      "['Clothing & Accessories', 'Men', 'T-Shirts & Polos', 'T-Shirts']\n",
      "1471\n",
      "https://www.amazon.in/dp/B0C1RXZLDY\n"
     ]
    },
    {
     "name": "stderr",
     "output_type": "stream",
     "text": [
      "\r",
      " 95%|████████████████████████████████████████████████████████████████████████▏   | 1472/1550 [1:43:33<04:57,  3.81s/it]"
     ]
    },
    {
     "name": "stdout",
     "output_type": "stream",
     "text": [
      "Brand: Peter England\n",
      "['Clothing & Accessories', 'Men', 'T-Shirts & Polos', 'Polos']\n",
      "1472\n",
      "https://www.amazon.in/dp/B094TXHW8X\n"
     ]
    },
    {
     "name": "stderr",
     "output_type": "stream",
     "text": [
      "\r",
      " 95%|████████████████████████████████████████████████████████████████████████▏   | 1473/1550 [1:43:37<04:47,  3.74s/it]"
     ]
    },
    {
     "name": "stdout",
     "output_type": "stream",
     "text": [
      "Visit the Arrow Store\n",
      "['Fashion', 'Apparel Steal Deals', 'Apparel_1', 'Men', '50% -70% off on Arrow']\n",
      "1473\n",
      "https://www.amazon.in/dp/B09W9SMTQB\n"
     ]
    },
    {
     "name": "stderr",
     "output_type": "stream",
     "text": [
      "\r",
      " 95%|████████████████████████████████████████████████████████████████████████▎   | 1474/1550 [1:43:41<04:52,  3.85s/it]"
     ]
    },
    {
     "name": "stdout",
     "output_type": "stream",
     "text": [
      "Visit the Bewakoof Store\n",
      "['Clothing & Accessories', 'Men', 'T-Shirts & Polos', 'T-Shirts']\n",
      "1474\n",
      "https://www.amazon.in/dp/B0CDH4JLC2\n",
      "Visit the Pepe Jeans Store\n"
     ]
    },
    {
     "name": "stderr",
     "output_type": "stream",
     "text": [
      "\r",
      " 95%|████████████████████████████████████████████████████████████████████████▎   | 1475/1550 [1:43:44<04:43,  3.78s/it]"
     ]
    },
    {
     "name": "stdout",
     "output_type": "stream",
     "text": [
      "['Clothing & Accessories', 'Men', 'T-Shirts & Polos', 'T-Shirts']\n",
      "1475\n",
      "https://www.amazon.in/dp/B08KTYL4W1\n",
      "Brand: Allen Solly\n"
     ]
    },
    {
     "name": "stderr",
     "output_type": "stream",
     "text": [
      "\r",
      " 95%|████████████████████████████████████████████████████████████████████████▎   | 1476/1550 [1:43:48<04:38,  3.76s/it]"
     ]
    },
    {
     "name": "stdout",
     "output_type": "stream",
     "text": [
      "['Fashion', 'Plus size', 'Trends', 'Diwali-21', 'Men', 'Solid Bright Tees & Polos']\n",
      "1476\n",
      "https://www.amazon.in/dp/B0BWJD1MVQ\n"
     ]
    },
    {
     "name": "stderr",
     "output_type": "stream",
     "text": [
      "\r",
      " 95%|████████████████████████████████████████████████████████████████████████▍   | 1477/1550 [1:43:52<04:38,  3.81s/it]"
     ]
    },
    {
     "name": "stdout",
     "output_type": "stream",
     "text": [
      "Brand: Van Heusen\n",
      "['Clothing & Accessories', 'Men', 'T-Shirts & Polos', 'T-Shirts']\n",
      "1477\n",
      "https://www.amazon.in/dp/B07RT93TX2\n",
      "Visit the U.S. POLO ASSN. Store\n"
     ]
    },
    {
     "name": "stderr",
     "output_type": "stream",
     "text": [
      "\r",
      " 95%|████████████████████████████████████████████████████████████████████████▍   | 1478/1550 [1:44:02<06:48,  5.68s/it]"
     ]
    },
    {
     "name": "stdout",
     "output_type": "stream",
     "text": [
      "['Fashion', 'The Plus Size Store', 'aug art- clothing ingress', 'new', 'men']\n",
      "1478\n",
      "https://www.amazon.in/dp/B0B71SH8SY\n"
     ]
    },
    {
     "name": "stderr",
     "output_type": "stream",
     "text": [
      "\r",
      " 95%|████████████████████████████████████████████████████████████████████████▌   | 1479/1550 [1:44:06<05:59,  5.07s/it]"
     ]
    },
    {
     "name": "stdout",
     "output_type": "stream",
     "text": [
      "Visit the BULLMER Store\n",
      "['Clothing & Accessories', 'Men', 'T-Shirts & Polos', 'T-Shirts']\n",
      "1479\n",
      "https://www.amazon.in/dp/B0BSXK6LFX\n",
      "Brand: Numero Uno\n"
     ]
    },
    {
     "name": "stderr",
     "output_type": "stream",
     "text": [
      "\r",
      " 95%|████████████████████████████████████████████████████████████████████████▌   | 1480/1550 [1:44:09<05:26,  4.67s/it]"
     ]
    },
    {
     "name": "stdout",
     "output_type": "stream",
     "text": [
      "['Clothing & Accessories', 'Men', 'T-Shirts & Polos', 'Polos']\n",
      "1480\n",
      "https://www.amazon.in/dp/B0B1DKRJYW\n",
      "Brand: Max\n"
     ]
    },
    {
     "name": "stderr",
     "output_type": "stream",
     "text": [
      "\r",
      " 96%|████████████████████████████████████████████████████████████████████████▌   | 1481/1550 [1:44:13<05:10,  4.49s/it]"
     ]
    },
    {
     "name": "stdout",
     "output_type": "stream",
     "text": [
      "['Clothing & Accessories', 'Men', 'T-Shirts & Polos', 'T-Shirts']\n",
      "1481\n",
      "https://www.amazon.in/dp/B0819YYQ3Y\n",
      "Visit the U.S. POLO ASSN. Store\n"
     ]
    },
    {
     "name": "stderr",
     "output_type": "stream",
     "text": [
      "\r",
      " 96%|████████████████████████████████████████████████████████████████████████▋   | 1482/1550 [1:44:17<04:54,  4.34s/it]"
     ]
    },
    {
     "name": "stdout",
     "output_type": "stream",
     "text": [
      "['Fashion', 'Apparel Steal Deals', 'Apparel_1', 'Men', 'U.S.P.A under 899']\n",
      "1482\n",
      "https://www.amazon.in/dp/B09QHR398W\n",
      "Visit the LEOTUDE Store\n"
     ]
    },
    {
     "name": "stderr",
     "output_type": "stream",
     "text": [
      "\r",
      " 96%|████████████████████████████████████████████████████████████████████████▋   | 1483/1550 [1:44:21<04:37,  4.14s/it]"
     ]
    },
    {
     "name": "stdout",
     "output_type": "stream",
     "text": [
      "['Fashion', 'The Plus Size Store', 'aug art- clothing ingress', 'new', 'men']\n",
      "1483\n",
      "https://www.amazon.in/dp/B0BPT17MCR\n",
      "Brand: TURMS\n"
     ]
    },
    {
     "name": "stderr",
     "output_type": "stream",
     "text": [
      "\r",
      " 96%|████████████████████████████████████████████████████████████████████████▊   | 1484/1550 [1:44:24<04:17,  3.90s/it]"
     ]
    },
    {
     "name": "stdout",
     "output_type": "stream",
     "text": [
      "['Clothing & Accessories', 'Men', 'T-Shirts & Polos', 'Polos']\n",
      "1484\n",
      "https://www.amazon.in/dp/B0BDVFT2LS\n",
      "Visit the LEWEL Store\n"
     ]
    },
    {
     "name": "stderr",
     "output_type": "stream",
     "text": [
      "\r",
      " 96%|████████████████████████████████████████████████████████████████████████▊   | 1485/1550 [1:44:28<04:15,  3.94s/it]"
     ]
    },
    {
     "name": "stdout",
     "output_type": "stream",
     "text": [
      "['Clothing & Accessories', 'Men', 'T-Shirts & Polos', 'Polos']\n",
      "1485\n",
      "https://www.amazon.in/dp/B0BSTZYXZH\n"
     ]
    },
    {
     "name": "stderr",
     "output_type": "stream",
     "text": [
      "\r",
      " 96%|████████████████████████████████████████████████████████████████████████▊   | 1486/1550 [1:44:32<04:07,  3.87s/it]"
     ]
    },
    {
     "name": "stdout",
     "output_type": "stream",
     "text": [
      "Brand: Jockey\n",
      "['Clothing & Accessories', 'Men', 'T-Shirts & Polos', 'T-Shirts']\n",
      "1486\n",
      "https://www.amazon.in/dp/B07DPV2468\n",
      "Brand: Allen Solly\n"
     ]
    },
    {
     "name": "stderr",
     "output_type": "stream",
     "text": [
      "\r",
      " 96%|████████████████████████████████████████████████████████████████████████▉   | 1487/1550 [1:44:36<04:09,  3.96s/it]"
     ]
    },
    {
     "name": "stdout",
     "output_type": "stream",
     "text": [
      "['Clothing & Accessories', 'Men', 'Winter Wear', 'Sweatshirts & Hoodies', 'Sweatshirts']\n",
      "1487\n",
      "https://www.amazon.in/dp/B08Z6X4CT4\n"
     ]
    },
    {
     "name": "stderr",
     "output_type": "stream",
     "text": [
      "\r",
      " 96%|████████████████████████████████████████████████████████████████████████▉   | 1488/1550 [1:44:41<04:14,  4.10s/it]"
     ]
    },
    {
     "name": "stdout",
     "output_type": "stream",
     "text": [
      "Visit the CHKOKKO Store\n",
      "['Clothing & Accessories', 'Men', 'T-Shirts & Polos', 'T-Shirts']\n",
      "1488\n",
      "https://www.amazon.in/dp/B0BHTJC2MQ\n"
     ]
    },
    {
     "name": "stderr",
     "output_type": "stream",
     "text": [
      "\r",
      " 96%|█████████████████████████████████████████████████████████████████████████   | 1489/1550 [1:44:44<04:02,  3.97s/it]"
     ]
    },
    {
     "name": "stdout",
     "output_type": "stream",
     "text": [
      "Visit the AUSK Store\n",
      "['Clothing & Accessories', 'Men', 'T-Shirts & Polos', 'T-Shirts']\n",
      "1489\n",
      "https://www.amazon.in/dp/B0BRSRY8FM\n"
     ]
    },
    {
     "name": "stderr",
     "output_type": "stream",
     "text": [
      "\r",
      " 96%|█████████████████████████████████████████████████████████████████████████   | 1490/1550 [1:44:48<03:54,  3.92s/it]"
     ]
    },
    {
     "name": "stdout",
     "output_type": "stream",
     "text": [
      "Visit the EYEBOGLER Store\n",
      "['Clothing & Accessories', 'Men', 'T-Shirts & Polos', 'T-Shirts']\n",
      "1490\n",
      "https://www.amazon.in/dp/B07TVVHPS1\n",
      "Visit the Amazon Brand - Symbol Store\n"
     ]
    },
    {
     "name": "stderr",
     "output_type": "stream",
     "text": [
      "\r",
      " 96%|█████████████████████████████████████████████████████████████████████████   | 1491/1550 [1:44:52<03:47,  3.85s/it]"
     ]
    },
    {
     "name": "stdout",
     "output_type": "stream",
     "text": [
      "['Fashion', 'Made for Amazon brands', 'All SPB apparel', 'FD', 'Symbol']\n",
      "1491\n",
      "https://www.amazon.in/dp/B09GRX1YLD\n",
      "Visit the CHKOKKO Store\n"
     ]
    },
    {
     "name": "stderr",
     "output_type": "stream",
     "text": [
      "\r",
      " 96%|█████████████████████████████████████████████████████████████████████████▏  | 1492/1550 [1:44:56<03:38,  3.76s/it]"
     ]
    },
    {
     "name": "stdout",
     "output_type": "stream",
     "text": [
      "['Fashion', 'The Plus Size Store', 'aug art- clothing ingress', 'new', 'men']\n",
      "1492\n",
      "https://www.amazon.in/dp/B0BGY6HWLX\n"
     ]
    },
    {
     "name": "stderr",
     "output_type": "stream",
     "text": [
      "\r",
      " 96%|█████████████████████████████████████████████████████████████████████████▏  | 1493/1550 [1:44:59<03:36,  3.80s/it]"
     ]
    },
    {
     "name": "stdout",
     "output_type": "stream",
     "text": [
      "Brand: U.S. POLO ASSN.\n",
      "['Clothing & Accessories', 'Men', 'T-Shirts & Polos', 'T-Shirts']\n",
      "1493\n",
      "https://www.amazon.in/dp/B0C5DS2MHD\n"
     ]
    },
    {
     "name": "stderr",
     "output_type": "stream",
     "text": [
      "\r",
      " 96%|█████████████████████████████████████████████████████████████████████████▎  | 1494/1550 [1:45:03<03:28,  3.72s/it]"
     ]
    },
    {
     "name": "stdout",
     "output_type": "stream",
     "text": [
      "Visit the GESPO Store\n",
      "['Clothing & Accessories', 'Men', 'T-Shirts & Polos', 'Polos']\n",
      "1494\n",
      "https://www.amazon.in/dp/B0BL81YJ25\n"
     ]
    },
    {
     "name": "stderr",
     "output_type": "stream",
     "text": [
      "\r",
      " 96%|█████████████████████████████████████████████████████████████████████████▎  | 1495/1550 [1:45:07<03:25,  3.74s/it]"
     ]
    },
    {
     "name": "stdout",
     "output_type": "stream",
     "text": [
      "Brand: Peter England\n",
      "['Clothing & Accessories', 'Men', 'T-Shirts & Polos', 'T-Shirts']\n",
      "1495\n",
      "https://www.amazon.in/dp/B08538LZK7\n"
     ]
    },
    {
     "name": "stderr",
     "output_type": "stream",
     "text": [
      "\r",
      " 97%|█████████████████████████████████████████████████████████████████████████▎  | 1496/1550 [1:45:11<03:25,  3.80s/it]"
     ]
    },
    {
     "name": "stdout",
     "output_type": "stream",
     "text": [
      "Visit the VIMAL JONNEY Store\n",
      "['Clothing & Accessories', 'Men', 'T-Shirts & Polos', 'T-Shirts']\n",
      "1496\n",
      "https://www.amazon.in/dp/B07R4NGC4L\n",
      "Visit the Van Heusen Store\n"
     ]
    },
    {
     "name": "stderr",
     "output_type": "stream",
     "text": [
      "\r",
      " 97%|█████████████████████████████████████████████████████████████████████████▍  | 1497/1550 [1:45:15<03:24,  3.86s/it]"
     ]
    },
    {
     "name": "stdout",
     "output_type": "stream",
     "text": [
      "['Clothing & Accessories', 'Men', 'T-Shirts & Polos', 'Polos']\n",
      "1497\n",
      "https://www.amazon.in/dp/B073X364G3\n"
     ]
    },
    {
     "name": "stderr",
     "output_type": "stream",
     "text": [
      "\r",
      " 97%|█████████████████████████████████████████████████████████████████████████▍  | 1498/1550 [1:45:19<03:25,  3.95s/it]"
     ]
    },
    {
     "name": "stdout",
     "output_type": "stream",
     "text": [
      "Visit the Amazon Brand - Symbol Store\n",
      "['Fashion', 'Made for Amazon brands', 'All SPB apparel', 'FD', 'Symbol']\n",
      "1498\n",
      "https://www.amazon.in/dp/B01DQS7M8A\n",
      "Visit the AMERICAN CREW Store\n"
     ]
    },
    {
     "name": "stderr",
     "output_type": "stream",
     "text": [
      "\r",
      " 97%|█████████████████████████████████████████████████████████████████████████▍  | 1499/1550 [1:45:23<03:21,  3.96s/it]"
     ]
    },
    {
     "name": "stdout",
     "output_type": "stream",
     "text": [
      "['Fashion', 'The Plus Size Store', 'BBD', 'Steal deals- men', 'American crew']\n",
      "1499\n",
      "https://www.amazon.in/dp/B08663DBXT\n"
     ]
    },
    {
     "name": "stderr",
     "output_type": "stream",
     "text": [
      "\r",
      " 97%|█████████████████████████████████████████████████████████████████████████▌  | 1500/1550 [1:45:27<03:19,  3.99s/it]"
     ]
    },
    {
     "name": "stdout",
     "output_type": "stream",
     "text": [
      "Visit the Alan Jones Clothing Store\n",
      "['Clothing & Accessories', 'Men', 'T-Shirts & Polos', 'Polos']\n",
      "1500\n",
      "https://www.amazon.in/dp/B07L2JCTL7\n",
      "Visit the Bigbanana Store\n"
     ]
    },
    {
     "name": "stderr",
     "output_type": "stream",
     "text": [
      "\r",
      " 97%|█████████████████████████████████████████████████████████████████████████▌  | 1501/1550 [1:45:31<03:19,  4.07s/it]"
     ]
    },
    {
     "name": "stdout",
     "output_type": "stream",
     "text": [
      "['Fashion', 'The Plus Size Store', 'aug art- clothing ingress', 'new', 'men']\n",
      "1501\n",
      "https://www.amazon.in/dp/B0BPT2956N\n",
      "Brand: TURMS\n"
     ]
    },
    {
     "name": "stderr",
     "output_type": "stream",
     "text": [
      "\r",
      " 97%|█████████████████████████████████████████████████████████████████████████▋  | 1502/1550 [1:45:35<03:09,  3.94s/it]"
     ]
    },
    {
     "name": "stdout",
     "output_type": "stream",
     "text": [
      "['Clothing & Accessories', 'Men', 'T-Shirts & Polos', 'Polos']\n",
      "1502\n",
      "https://www.amazon.in/dp/B0BFD9T3D1\n"
     ]
    },
    {
     "name": "stderr",
     "output_type": "stream",
     "text": [
      "\r",
      " 97%|█████████████████████████████████████████████████████████████████████████▋  | 1503/1550 [1:45:38<03:02,  3.87s/it]"
     ]
    },
    {
     "name": "stdout",
     "output_type": "stream",
     "text": [
      "Visit the fanideaz Store\n",
      "['Clothing & Accessories', 'Men', 'T-Shirts & Polos', 'Polos']\n",
      "1503\n",
      "https://www.amazon.in/dp/B09RZVD4SG\n"
     ]
    },
    {
     "name": "stderr",
     "output_type": "stream",
     "text": [
      "\r",
      " 97%|█████████████████████████████████████████████████████████████████████████▋  | 1504/1550 [1:45:42<02:57,  3.87s/it]"
     ]
    },
    {
     "name": "stdout",
     "output_type": "stream",
     "text": [
      "Visit the 3BROS Store\n",
      "['Clothing & Accessories', 'Men', 'T-Shirts & Polos', 'Polos']\n",
      "1504\n",
      "https://www.amazon.in/dp/B09QX8V264\n",
      "Visit the Wear Your Opinion Store\n"
     ]
    },
    {
     "name": "stderr",
     "output_type": "stream",
     "text": [
      "\r",
      " 97%|█████████████████████████████████████████████████████████████████████████▊  | 1505/1550 [1:45:46<02:54,  3.89s/it]"
     ]
    },
    {
     "name": "stdout",
     "output_type": "stream",
     "text": [
      "['Fashion', 'The Plus Size Store', 'aug art- clothing ingress', 'new', 'men']\n",
      "1505\n",
      "https://www.amazon.in/dp/B09ZPMKRCG\n",
      "Visit the BULLMER Store\n"
     ]
    },
    {
     "name": "stderr",
     "output_type": "stream",
     "text": [
      "\r",
      " 97%|█████████████████████████████████████████████████████████████████████████▊  | 1506/1550 [1:45:50<02:47,  3.80s/it]"
     ]
    },
    {
     "name": "stdout",
     "output_type": "stream",
     "text": [
      "['Clothing & Accessories', 'Men', 'T-Shirts & Polos', 'Polos']\n",
      "1506\n",
      "https://www.amazon.in/dp/B094VC5G1K\n",
      "Visit the Arrow Store\n"
     ]
    },
    {
     "name": "stderr",
     "output_type": "stream",
     "text": [
      "\r",
      " 97%|█████████████████████████████████████████████████████████████████████████▉  | 1507/1550 [1:45:53<02:40,  3.72s/it]"
     ]
    },
    {
     "name": "stdout",
     "output_type": "stream",
     "text": [
      "['Fashion', 'Apparel Steal Deals', 'Apparel_1', 'Men', '50% -70% off on Arrow']\n",
      "1507\n",
      "https://www.amazon.in/dp/B081BCZXJG\n"
     ]
    },
    {
     "name": "stderr",
     "output_type": "stream",
     "text": [
      "\r",
      " 97%|█████████████████████████████████████████████████████████████████████████▉  | 1508/1550 [1:45:57<02:34,  3.68s/it]"
     ]
    },
    {
     "name": "stdout",
     "output_type": "stream",
     "text": [
      "Visit the Amazon Brand - Symbol Store\n",
      "['Fashion', 'Made for Amazon brands', 'All SPB apparel', 'FD', 'Symbol']\n",
      "1508\n",
      "https://www.amazon.in/dp/B0BYTDWDVV\n",
      "Visit the fanideaz Store\n"
     ]
    },
    {
     "name": "stderr",
     "output_type": "stream",
     "text": [
      "\r",
      " 97%|█████████████████████████████████████████████████████████████████████████▉  | 1509/1550 [1:46:01<02:36,  3.82s/it]"
     ]
    },
    {
     "name": "stdout",
     "output_type": "stream",
     "text": [
      "['Clothing & Accessories', 'Men', 'T-Shirts & Polos', 'Polos']\n",
      "1509\n",
      "https://www.amazon.in/dp/B08YYK8R4H\n"
     ]
    },
    {
     "name": "stderr",
     "output_type": "stream",
     "text": [
      "\r",
      " 97%|██████████████████████████████████████████████████████████████████████████  | 1510/1550 [1:46:05<02:32,  3.81s/it]"
     ]
    },
    {
     "name": "stdout",
     "output_type": "stream",
     "text": [
      "Visit the Classic Polo Store\n",
      "['Clothing & Accessories', 'Men', 'T-Shirts & Polos', 'Polos']\n",
      "1510\n",
      "https://www.amazon.in/dp/B07QN5S24D\n",
      "Visit the Van Heusen Store\n",
      "['Clothing & Accessories', 'Men', 'T-Shirts & Polos', 'Polos']\n"
     ]
    },
    {
     "name": "stderr",
     "output_type": "stream",
     "text": [
      "\r",
      " 97%|██████████████████████████████████████████████████████████████████████████  | 1511/1550 [1:46:09<02:33,  3.94s/it]"
     ]
    },
    {
     "name": "stdout",
     "output_type": "stream",
     "text": [
      "1511\n",
      "https://www.amazon.in/dp/B09YVWKTZ2\n"
     ]
    },
    {
     "name": "stderr",
     "output_type": "stream",
     "text": [
      "\r",
      " 98%|██████████████████████████████████████████████████████████████████████████▏ | 1512/1550 [1:46:13<02:30,  3.95s/it]"
     ]
    },
    {
     "name": "stdout",
     "output_type": "stream",
     "text": [
      "Visit the fanideaz Store\n",
      "['Clothing & Accessories', 'Men', 'T-Shirts & Polos', 'Polos']\n",
      "1512\n",
      "https://www.amazon.in/dp/B073JMSNRM\n",
      "Brand: U.S. POLO ASSN.\n"
     ]
    },
    {
     "name": "stderr",
     "output_type": "stream",
     "text": [
      "\r",
      " 98%|██████████████████████████████████████████████████████████████████████████▏ | 1513/1550 [1:46:19<02:45,  4.47s/it]"
     ]
    },
    {
     "name": "stdout",
     "output_type": "stream",
     "text": [
      "['Clothing & Accessories', 'Men', 'T-Shirts & Polos', 'Polos']\n",
      "1513\n",
      "https://www.amazon.in/dp/B0BJ8S67YH\n"
     ]
    },
    {
     "name": "stderr",
     "output_type": "stream",
     "text": [
      "\r",
      " 98%|██████████████████████████████████████████████████████████████████████████▏ | 1514/1550 [1:46:22<02:31,  4.21s/it]"
     ]
    },
    {
     "name": "stdout",
     "output_type": "stream",
     "text": [
      "Visit the U.S. POLO ASSN. Store\n",
      "['Clothing & Accessories', 'Men', 'T-Shirts & Polos', 'Polos']\n",
      "1514\n",
      "https://www.amazon.in/dp/B07XY9KPG7\n"
     ]
    },
    {
     "name": "stderr",
     "output_type": "stream",
     "text": [
      "\r",
      " 98%|██████████████████████████████████████████████████████████████████████████▎ | 1515/1550 [1:46:26<02:23,  4.10s/it]"
     ]
    },
    {
     "name": "stdout",
     "output_type": "stream",
     "text": [
      "Visit the Classic Polo Store\n",
      "['Clothing & Accessories', 'Men', 'T-Shirts & Polos', 'Polos']\n",
      "1515\n",
      "https://www.amazon.in/dp/B0BT1N18QJ\n"
     ]
    },
    {
     "name": "stderr",
     "output_type": "stream",
     "text": [
      "\r",
      " 98%|██████████████████████████████████████████████████████████████████████████▎ | 1516/1550 [1:46:32<02:32,  4.48s/it]"
     ]
    },
    {
     "name": "stdout",
     "output_type": "stream",
     "text": [
      "Visit the U.S. POLO ASSN. Store\n",
      "['Clothing & Accessories', 'Men', 'T-Shirts & Polos', 'T-Shirts']\n",
      "1516\n",
      "https://www.amazon.in/dp/B07BDZ5H4Q\n",
      "Visit the Amazon Brand - Symbol Store\n"
     ]
    },
    {
     "name": "stderr",
     "output_type": "stream",
     "text": [
      "\r",
      " 98%|██████████████████████████████████████████████████████████████████████████▍ | 1517/1550 [1:46:36<02:24,  4.37s/it]"
     ]
    },
    {
     "name": "stdout",
     "output_type": "stream",
     "text": [
      "['Fashion', 'Made for Amazon brands', 'All SPB apparel', 'FD', 'Symbol']\n",
      "1517\n",
      "https://www.amazon.in/dp/B08LH61M1V\n"
     ]
    },
    {
     "name": "stderr",
     "output_type": "stream",
     "text": [
      "\r",
      " 98%|██████████████████████████████████████████████████████████████████████████▍ | 1518/1550 [1:46:40<02:16,  4.25s/it]"
     ]
    },
    {
     "name": "stdout",
     "output_type": "stream",
     "text": [
      "Visit the Scott International Store\n",
      "['Clothing & Accessories', 'Men', 'T-Shirts & Polos', 'Polos']\n",
      "1518\n",
      "https://www.amazon.in/dp/B0BSS3Y8MC\n",
      "Visit the SWADESI STUFF Store\n"
     ]
    },
    {
     "name": "stderr",
     "output_type": "stream",
     "text": [
      "\r",
      " 98%|██████████████████████████████████████████████████████████████████████████▍ | 1519/1550 [1:46:44<02:08,  4.14s/it]"
     ]
    },
    {
     "name": "stdout",
     "output_type": "stream",
     "text": [
      "['Clothing & Accessories', 'Men', 'T-Shirts & Polos', 'Polos']\n",
      "1519\n",
      "https://www.amazon.in/dp/B08SHNCBMG\n"
     ]
    },
    {
     "name": "stderr",
     "output_type": "stream",
     "text": [
      "\r",
      " 98%|██████████████████████████████████████████████████████████████████████████▌ | 1520/1550 [1:46:47<02:02,  4.07s/it]"
     ]
    },
    {
     "name": "stdout",
     "output_type": "stream",
     "text": [
      "Visit the BULLMER Store\n",
      "['Clothing & Accessories', 'Men', 'T-Shirts & Polos', 'Polos']\n",
      "1520\n",
      "https://www.amazon.in/dp/B081CS1NDL\n"
     ]
    },
    {
     "name": "stderr",
     "output_type": "stream",
     "text": [
      "\r",
      " 98%|██████████████████████████████████████████████████████████████████████████▌ | 1521/1550 [1:46:51<01:53,  3.91s/it]"
     ]
    },
    {
     "name": "stdout",
     "output_type": "stream",
     "text": [
      "Brand: Amazon Brand - House & Shields\n",
      "['Clothing & Accessories', 'Men', 'T-Shirts & Polos', 'Polos']\n",
      "1521\n",
      "https://www.amazon.in/dp/B08HQJH4NC\n",
      "Brand: Scott International\n"
     ]
    },
    {
     "name": "stderr",
     "output_type": "stream",
     "text": [
      "\r",
      " 98%|██████████████████████████████████████████████████████████████████████████▋ | 1522/1550 [1:46:55<01:47,  3.84s/it]"
     ]
    },
    {
     "name": "stdout",
     "output_type": "stream",
     "text": [
      "['Fashion', 'Plus size', 'Decmeber 21 - Trends', \"Men's\", 'Dark-hued T-shirts & Polos']\n",
      "1522\n",
      "https://www.amazon.in/dp/B081BBKZ25\n",
      "Brand: Amazon Brand - House & Shields\n"
     ]
    },
    {
     "name": "stderr",
     "output_type": "stream",
     "text": [
      "\r",
      " 98%|██████████████████████████████████████████████████████████████████████████▋ | 1523/1550 [1:46:59<01:48,  4.02s/it]"
     ]
    },
    {
     "name": "stdout",
     "output_type": "stream",
     "text": [
      "['Clothing & Accessories', 'Men', 'T-Shirts & Polos', 'Polos']\n",
      "1523\n",
      "https://www.amazon.in/dp/B07QX6X74S\n",
      "Visit the Wear Your Opinion Store\n"
     ]
    },
    {
     "name": "stderr",
     "output_type": "stream",
     "text": [
      "\r",
      " 98%|██████████████████████████████████████████████████████████████████████████▋ | 1524/1550 [1:47:03<01:40,  3.88s/it]"
     ]
    },
    {
     "name": "stdout",
     "output_type": "stream",
     "text": [
      "['Fashion', 'The Plus Size Store', 'aug art- clothing ingress', 'new', 'men']\n",
      "1524\n",
      "https://www.amazon.in/dp/B0BYJW8184\n",
      "Brand: Max\n"
     ]
    },
    {
     "name": "stderr",
     "output_type": "stream",
     "text": [
      "\r",
      " 98%|██████████████████████████████████████████████████████████████████████████▊ | 1525/1550 [1:47:07<01:36,  3.87s/it]"
     ]
    },
    {
     "name": "stdout",
     "output_type": "stream",
     "text": [
      "['Clothing & Accessories', 'Men', 'T-Shirts & Polos', 'T-Shirts']\n",
      "1525\n",
      "https://www.amazon.in/dp/B0C379ZL61\n"
     ]
    },
    {
     "name": "stderr",
     "output_type": "stream",
     "text": [
      "\r",
      " 98%|██████████████████████████████████████████████████████████████████████████▊ | 1526/1550 [1:47:10<01:32,  3.84s/it]"
     ]
    },
    {
     "name": "stdout",
     "output_type": "stream",
     "text": [
      "Visit the LookMark Store\n",
      "['Clothing & Accessories', 'Men', 'T-Shirts & Polos', 'T-Shirts']\n",
      "1526\n",
      "https://www.amazon.in/dp/B0B18H2TRJ\n",
      "Visit the RodZen Store\n"
     ]
    },
    {
     "name": "stderr",
     "output_type": "stream",
     "text": [
      "\r",
      " 99%|██████████████████████████████████████████████████████████████████████████▊ | 1527/1550 [1:47:14<01:29,  3.88s/it]"
     ]
    },
    {
     "name": "stdout",
     "output_type": "stream",
     "text": [
      "['Clothing & Accessories', 'Women', 'Western Wear', 'Tops, T-Shirts & Shirts', 'T-Shirts']\n",
      "1527\n",
      "https://www.amazon.in/dp/B012SSXQGG\n",
      "Visit the Jockey Store\n"
     ]
    },
    {
     "name": "stderr",
     "output_type": "stream",
     "text": [
      "\r",
      " 99%|██████████████████████████████████████████████████████████████████████████▉ | 1528/1550 [1:47:19<01:28,  4.03s/it]"
     ]
    },
    {
     "name": "stdout",
     "output_type": "stream",
     "text": [
      "['Fashion', 'The Plus Size Store', 'BBD', 'Trends', 'men', 'Solid staple t-shirts & polos']\n",
      "1528\n",
      "https://www.amazon.in/dp/B073X4TKP4\n",
      "Visit the Amazon Brand - Symbol Store\n"
     ]
    },
    {
     "name": "stderr",
     "output_type": "stream",
     "text": [
      "\r",
      " 99%|██████████████████████████████████████████████████████████████████████████▉ | 1529/1550 [1:47:23<01:28,  4.22s/it]"
     ]
    },
    {
     "name": "stdout",
     "output_type": "stream",
     "text": [
      "['Fashion', 'Made for Amazon brands', 'All SPB apparel', 'FD', 'Symbol']\n",
      "1529\n",
      "https://www.amazon.in/dp/B0C7ZR2RHW\n"
     ]
    },
    {
     "name": "stderr",
     "output_type": "stream",
     "text": [
      "\r",
      " 99%|███████████████████████████████████████████████████████████████████████████ | 1530/1550 [1:47:27<01:21,  4.09s/it]"
     ]
    },
    {
     "name": "stdout",
     "output_type": "stream",
     "text": [
      "Brand: Allen Solly\n",
      "['Clothing & Accessories', 'Men', 'T-Shirts & Polos', 'T-Shirts']\n",
      "1530\n",
      "https://www.amazon.in/dp/B0BB5ZNKFF\n"
     ]
    },
    {
     "name": "stderr",
     "output_type": "stream",
     "text": [
      "\r",
      " 99%|███████████████████████████████████████████████████████████████████████████ | 1531/1550 [1:47:32<01:19,  4.20s/it]"
     ]
    },
    {
     "name": "stdout",
     "output_type": "stream",
     "text": [
      "Brand: Colgate\n",
      "['Health & Personal Care', 'Oral Care', 'Toothpastes']\n",
      "1531\n",
      "https://www.amazon.in/dp/B0BD2HDLQD\n"
     ]
    },
    {
     "name": "stderr",
     "output_type": "stream",
     "text": [
      "\r",
      " 99%|███████████████████████████████████████████████████████████████████████████ | 1532/1550 [1:47:36<01:15,  4.22s/it]"
     ]
    },
    {
     "name": "stdout",
     "output_type": "stream",
     "text": [
      "Brand: Colgate\n",
      "['Health & Personal Care', 'Oral Care', 'Toothpastes']\n",
      "1532\n",
      "https://www.amazon.in/dp/B0B7X98J1R\n"
     ]
    },
    {
     "name": "stderr",
     "output_type": "stream",
     "text": [
      "\r",
      " 99%|███████████████████████████████████████████████████████████████████████████▏| 1533/1550 [1:47:40<01:13,  4.34s/it]"
     ]
    },
    {
     "name": "stdout",
     "output_type": "stream",
     "text": [
      "Brand: Colgate\n",
      "['Health & Personal Care', 'Oral Care', 'Toothpastes']\n",
      "1533\n",
      "https://www.amazon.in/dp/B0B54Y4TVG\n"
     ]
    },
    {
     "name": "stderr",
     "output_type": "stream",
     "text": [
      "\r",
      " 99%|███████████████████████████████████████████████████████████████████████████▏| 1534/1550 [1:47:44<01:07,  4.20s/it]"
     ]
    },
    {
     "name": "stdout",
     "output_type": "stream",
     "text": [
      "Brand: Colgate\n",
      "['Health & Personal Care', 'Oral Care', 'Toothpastes']\n",
      "1534\n",
      "https://www.amazon.in/dp/B0B7NRNN9S\n"
     ]
    },
    {
     "name": "stderr",
     "output_type": "stream",
     "text": [
      "\r",
      " 99%|███████████████████████████████████████████████████████████████████████████▎| 1535/1550 [1:47:49<01:04,  4.28s/it]"
     ]
    },
    {
     "name": "stdout",
     "output_type": "stream",
     "text": [
      "Brand: Colgate\n",
      "['Health & Personal Care', 'Oral Care', 'Toothpastes']\n",
      "1535\n",
      "https://www.amazon.in/dp/B0B7X3B46K\n",
      "Brand: Colgate\n"
     ]
    },
    {
     "name": "stderr",
     "output_type": "stream",
     "text": [
      "\r",
      " 99%|███████████████████████████████████████████████████████████████████████████▎| 1536/1550 [1:47:53<01:00,  4.32s/it]"
     ]
    },
    {
     "name": "stdout",
     "output_type": "stream",
     "text": [
      "['Health & Personal Care', 'Oral Care', 'Toothpastes']\n",
      "1536\n",
      "https://www.amazon.in/dp/B07YMHJ49M\n"
     ]
    },
    {
     "name": "stderr",
     "output_type": "stream",
     "text": [
      "\r",
      " 99%|███████████████████████████████████████████████████████████████████████████▎| 1537/1550 [1:47:57<00:53,  4.15s/it]"
     ]
    },
    {
     "name": "stdout",
     "output_type": "stream",
     "text": [
      "Visit the BENTODENT TOOTHPASTE Store\n",
      "['Health & Personal Care', 'Oral Care', 'Toothpastes']\n",
      "1537\n",
      "https://www.amazon.in/dp/B0BP86684K\n"
     ]
    },
    {
     "name": "stderr",
     "output_type": "stream",
     "text": [
      "\r",
      " 99%|███████████████████████████████████████████████████████████████████████████▍| 1538/1550 [1:48:01<00:48,  4.04s/it]"
     ]
    },
    {
     "name": "stdout",
     "output_type": "stream",
     "text": [
      "Visit the Teamex Store\n",
      "['Health & Personal Care', 'Oral Care', 'Toothpastes']\n",
      "1538\n",
      "https://www.amazon.in/dp/B07ZJJV5FJ\n"
     ]
    },
    {
     "name": "stderr",
     "output_type": "stream",
     "text": [
      "\r",
      " 99%|███████████████████████████████████████████████████████████████████████████▍| 1539/1550 [1:48:05<00:46,  4.21s/it]"
     ]
    },
    {
     "name": "stdout",
     "output_type": "stream",
     "text": [
      "Visit the Biotique Store\n",
      "['Health & Personal Care', 'Oral Care', 'Toothpastes']\n",
      "1539\n",
      "https://www.amazon.in/dp/B07S312DL4\n"
     ]
    },
    {
     "name": "stderr",
     "output_type": "stream",
     "text": [
      "\r",
      " 99%|███████████████████████████████████████████████████████████████████████████▌| 1540/1550 [1:48:10<00:42,  4.21s/it]"
     ]
    },
    {
     "name": "stdout",
     "output_type": "stream",
     "text": [
      "Visit the BENTODENT TOOTHPASTE Store\n",
      "['Health & Personal Care', 'Oral Care', 'Toothpastes']\n",
      "1540\n",
      "https://www.amazon.in/dp/B08JCZPCTJ\n",
      "Visit the JAGAT Store\n"
     ]
    },
    {
     "name": "stderr",
     "output_type": "stream",
     "text": [
      "\r",
      " 99%|███████████████████████████████████████████████████████████████████████████▌| 1541/1550 [1:48:13<00:36,  4.10s/it]"
     ]
    },
    {
     "name": "stdout",
     "output_type": "stream",
     "text": [
      "['Health & Personal Care', 'Oral Care', 'Toothpastes']\n",
      "1541\n",
      "https://www.amazon.in/dp/B018ILDW3Y\n"
     ]
    },
    {
     "name": "stderr",
     "output_type": "stream",
     "text": [
      "\r",
      " 99%|███████████████████████████████████████████████████████████████████████████▌| 1542/1550 [1:48:17<00:32,  4.10s/it]"
     ]
    },
    {
     "name": "stdout",
     "output_type": "stream",
     "text": [
      "Visit the Red Seal Store\n",
      "['Health & Personal Care', 'Oral Care', 'Toothpastes']\n",
      "1542\n",
      "https://www.amazon.in/dp/B09DYVQ1Q2\n"
     ]
    },
    {
     "name": "stderr",
     "output_type": "stream",
     "text": [
      "\r",
      "100%|███████████████████████████████████████████████████████████████████████████▋| 1543/1550 [1:48:22<00:28,  4.09s/it]"
     ]
    },
    {
     "name": "stdout",
     "output_type": "stream",
     "text": [
      "Brand: Colgate\n",
      "['Health & Personal Care', 'Oral Care', 'Toothbrushes & Accessories', 'Manual Toothbrushes']\n",
      "1543\n",
      "https://www.amazon.in/dp/B010B6JHJC\n"
     ]
    },
    {
     "name": "stderr",
     "output_type": "stream",
     "text": [
      "\r",
      "100%|███████████████████████████████████████████████████████████████████████████▋| 1544/1550 [1:48:26<00:24,  4.09s/it]"
     ]
    },
    {
     "name": "stdout",
     "output_type": "stream",
     "text": [
      "Brand: Pepsodent\n",
      "['Health & Personal Care', 'Oral Care', 'Toothpastes']\n",
      "1544\n",
      "https://www.amazon.in/dp/B01LADWHNS\n",
      "Brand: Pepsodent\n"
     ]
    },
    {
     "name": "stderr",
     "output_type": "stream",
     "text": [
      "\r",
      "100%|███████████████████████████████████████████████████████████████████████████▊| 1545/1550 [1:48:29<00:19,  3.95s/it]"
     ]
    },
    {
     "name": "stdout",
     "output_type": "stream",
     "text": [
      "['Health & Personal Care', 'Oral Care', 'Toothpastes']\n",
      "1545\n",
      "https://www.amazon.in/dp/B0BP4YS6W5\n"
     ]
    },
    {
     "name": "stderr",
     "output_type": "stream",
     "text": [
      "\r",
      "100%|███████████████████████████████████████████████████████████████████████████▊| 1546/1550 [1:48:33<00:15,  4.00s/it]"
     ]
    },
    {
     "name": "stdout",
     "output_type": "stream",
     "text": [
      "Brand: Sensodyne\n",
      "['Health & Personal Care', 'Oral Care', 'Toothpastes']\n",
      "1546\n",
      "https://www.amazon.in/dp/B00IZ6F9M0\n",
      "Brand: Sensodyne\n"
     ]
    },
    {
     "name": "stderr",
     "output_type": "stream",
     "text": [
      "\r",
      "100%|███████████████████████████████████████████████████████████████████████████▊| 1547/1550 [1:48:38<00:12,  4.05s/it]"
     ]
    },
    {
     "name": "stdout",
     "output_type": "stream",
     "text": [
      "['Health & Personal Care', \"Men's Grooming store\", 'Oral Care', 'Toothpaste']\n",
      "1547\n",
      "https://www.amazon.in/dp/B00C77IOWK\n"
     ]
    },
    {
     "name": "stderr",
     "output_type": "stream",
     "text": [
      "\r",
      "100%|███████████████████████████████████████████████████████████████████████████▉| 1548/1550 [1:48:41<00:08,  4.01s/it]"
     ]
    },
    {
     "name": "stdout",
     "output_type": "stream",
     "text": [
      "Brand: Sensodyne\n",
      "['Health & Personal Care', 'Oral Care', 'Toothpastes']\n",
      "1548\n",
      "https://www.amazon.in/dp/B0B7W6DCBN\n"
     ]
    },
    {
     "name": "stderr",
     "output_type": "stream",
     "text": [
      "\r",
      "100%|███████████████████████████████████████████████████████████████████████████▉| 1549/1550 [1:48:46<00:04,  4.09s/it]"
     ]
    },
    {
     "name": "stdout",
     "output_type": "stream",
     "text": [
      "Brand: Sensodyne\n",
      "['Health & Personal Care', 'Oral Care', 'Toothpastes']\n",
      "1549\n",
      "https://www.amazon.in/dp/B0C6JZCW64\n"
     ]
    },
    {
     "name": "stderr",
     "output_type": "stream",
     "text": [
      "100%|████████████████████████████████████████████████████████████████████████████| 1550/1550 [1:48:50<00:00,  4.21s/it]"
     ]
    },
    {
     "name": "stdout",
     "output_type": "stream",
     "text": [
      "Brand: Close Up\n",
      "['Health & Personal Care', 'Oral Care', 'Toothpastes']\n"
     ]
    },
    {
     "name": "stderr",
     "output_type": "stream",
     "text": [
      "\n",
      "C:\\Users\\Administrator\\AppData\\Local\\Temp\\2\\ipykernel_156016\\3096989248.py:93: FutureWarning: The default value of regex will change from True to False in a future version.\n",
      "  df5['brand_name'] = df5['brand_name'].str.replace('^Visita la tienda de\\s','').str.replace('^Visita Lo Store Di\\s','').str.replace('^Brand:\\s','').str.replace('\\sStore','').str.replace('^Visit\\sthe\\s','').str.replace('^Marca:\\s','').str.replace('^Visita\\slo\\sdi\\s','').str.replace('^Visita\\sla\\sde\\s','').str.replace('^Merk:\\s','').str.replace('^De\\s',''). str.replace('openen','').str.replace('^Marque :\\s','').str.replace('^Visiter la boutique\\s','')\n",
      "C:\\Users\\Administrator\\AppData\\Local\\Temp\\2\\ipykernel_156016\\3096989248.py:98: SettingWithCopyWarning: \n",
      "A value is trying to be set on a copy of a slice from a DataFrame\n",
      "\n",
      "See the caveats in the documentation: https://pandas.pydata.org/pandas-docs/stable/user_guide/indexing.html#returning-a-view-versus-a-copy\n",
      "  final_df.rename(columns={'sku':'channel_sku_id','country':'country_code'},inplace=True)\n"
     ]
    },
    {
     "data": {
      "text/plain": [
       "(221, b'2.0.0 Bye')"
      ]
     },
     "execution_count": 4,
     "metadata": {},
     "output_type": "execute_result"
    }
   ],
   "source": [
    "for i in tqdm(range(0,len(df5))):  #len(df5)\n",
    "    \n",
    "    if df5['brand_name'][i]==\"\":\n",
    "        \n",
    "        try:\n",
    "            print(i)\n",
    "            timeout = 10\n",
    "            locator = \"imgTagWrapperId\"\n",
    "            link=df5['product_link'][i]\n",
    "            try:\n",
    "\n",
    "\n",
    "                print(link)\n",
    "                driver.get(link)\n",
    "                WebDriverWait(driver, timeout).until(EC.visibility_of_element_located((By.ID, locator)))\n",
    "                brand=\"\"\n",
    "\n",
    "                try:\n",
    "\n",
    "                    BrandVal = driver.find_element(By.ID,'bylineInfo')\n",
    "                    brand = BrandVal.text\n",
    "                    print(BrandVal.text)\n",
    "\n",
    "                except:\n",
    "                    try:\n",
    "                        try:\n",
    "\n",
    "                            bs=BeautifulSoup(driver.page_source, \"html.parser\")\n",
    "                            imagebrand=bs.find('div',id=\"brandBar_feature_div\")\n",
    "                            try:\n",
    "\n",
    "                                hidden_brand=imagebrand.find(\"img\")['alt']\n",
    "\n",
    "                            except:\n",
    "\n",
    "                                hidden_brand=imagebrand.text\n",
    "\n",
    "                            brand=hidden_brand\n",
    "                            print(brand)\n",
    "\n",
    "\n",
    "\n",
    "                        except:\n",
    "\n",
    "                            bs=BeautifulSoup(driver.page_source, \"html.parser\")\n",
    "                            brand=bs.find_all('div',class_=\"a-column a-span6 a-span-last a-text-right\")[0].text.strip()\n",
    "                            print(brand)\n",
    "                    except:\n",
    "\n",
    "                        Table2 = driver.find_element(By.ID,'productOverview_feature_div')\n",
    "                        vals = Table2.find_elements(By.TAG_NAME,'td')\n",
    "\n",
    "                        for v in range(len(vals)):\n",
    "                            if vals[v].text in [ \"Brand\", \"Marca\" ]:\n",
    "                                brand = vals[v+1].text\n",
    "                                print(vals[v+1].text)\n",
    "                df5['brand_name'][i]=brand\n",
    "\n",
    "\n",
    "                try:\n",
    "                    bread=driver.find_element(By.ID,\"wayfinding-breadcrumbs_feature_div\")\n",
    "                    cats=[]\n",
    "                    cat_ids=[]\n",
    "\n",
    "                    links=bread.find_elements(By.TAG_NAME,'a')\n",
    "\n",
    "                    for lnk in links:\n",
    "                        cats.append(lnk.text)\n",
    "                        url = lnk.get_attribute(\"href\")\n",
    "\n",
    "                        match = re.search(r\"node=(\\d+)\", url)\n",
    "                        node_id = match.group(1)\n",
    "                        cat_ids.append(node_id)  \n",
    "                    print(cats)\n",
    "\n",
    "\n",
    "\n",
    "                except:      \n",
    "                    cats=[]\n",
    "                    cat_ids=[]\n",
    "                    print(\"no cat found\")            \n",
    "\n",
    "                df5['categories'][i]=cats\n",
    "                df5['category_id'][i]=cat_ids\n",
    "\n",
    "            except:\n",
    "                pass\n",
    "        except:\n",
    "            pass\n",
    "\n",
    "        \n",
    "#all language\n",
    "df5['brand_name'] = df5['brand_name'].str.replace('^Visita la tienda de\\s','').str.replace('^Visita Lo Store Di\\s','').str.replace('^Brand:\\s','').str.replace('\\sStore','').str.replace('^Visit\\sthe\\s','').str.replace('^Marca:\\s','').str.replace('^Visita\\slo\\sdi\\s','').str.replace('^Visita\\sla\\sde\\s','').str.replace('^Merk:\\s','').str.replace('^De\\s',''). str.replace('openen','').str.replace('^Marque :\\s','').str.replace('^Visiter la boutique\\s','')\n",
    "\n",
    "\n",
    "df5['channel_id']=1\n",
    "final_df=df5[['channel_id','sku','title','brand_name','country','categories','category_id']]\n",
    "final_df.rename(columns={'sku':'channel_sku_id','country':'country_code'},inplace=True)\n",
    "\n",
    "jobs_name=list(serp_details['job_name'].unique())\n",
    "\n",
    "\n",
    "\n",
    "z=(list(serp_details['job_name'].unique()))\n",
    "pattern = r'\\d+'\n",
    "requests=[]\n",
    "# Loop over each string in the list and extract the numbers\n",
    "for string in z:\n",
    "    numbers = re.findall(pattern, string)\n",
    "    requests.append(numbers)\n",
    "rno = [item for inner_list in requests for item in inner_list]\n",
    "file='brand_mapping_amazon {}.xlsx'.format(rno)\n",
    "\n",
    "final_df.to_excel(file)\n",
    "\n",
    "import smtplib\n",
    "from email.mime.text import MIMEText\n",
    "from email.mime.multipart import MIMEMultipart\n",
    "from email.mime.base import MIMEBase\n",
    "from email import encoders\n",
    "\n",
    "email_user = 'alerts@1digitalstack.ai'\n",
    "email_password = ''\n",
    "email_send = ['nitin.bhayana@1digitalstack.ai','ghansham.pindoriya@1digitalstack.ai','karan.kumar@1digitalstack.ai','arihant.singh@1digitalstack.ai','sambhav.jain@1digitalstack.ai','ankur.dwivedi@1digitalstack.ai','kinshu@1digitalstack.ai']\n",
    "\n",
    "subject = file\n",
    "msg = MIMEMultipart()\n",
    "msg['From'] = email_user\n",
    "#msg['From'] = \"'Abhishek' <{email_user}>\"\n",
    "msg['To'] = ', '.join(email_send)\n",
    "msg['Subject'] = subject\n",
    "\n",
    "body = 'Hi,\\n\\nPFA of today''s brand mapping of amazon. Please check brand mapping for following jobs.\\n{}'.format(jobs_name)\n",
    "msg.attach(MIMEText(body,'plain'))\n",
    "\n",
    "filename=[file]\n",
    "\n",
    "for file in filename:\n",
    "    attachment  =open(file,'rb')\n",
    "    part = MIMEBase('application','octet-stream')\n",
    "    part.set_payload((attachment).read())\n",
    "    encoders.encode_base64(part)\n",
    "    part.add_header('Content-Disposition',\"attachment; filename= \"+file)\n",
    "    msg.attach(part)\n",
    "    text = msg.as_string()\n",
    "\n",
    "server = smtplib.SMTP('1digitalstack.com',25)\n",
    "#server.login(email_user,email_password)\n",
    "\n",
    "server.sendmail(email_user,email_send,text)\n",
    "server.quit()"
   ]
  },
  {
   "cell_type": "code",
   "execution_count": 5,
   "id": "9b281e17",
   "metadata": {},
   "outputs": [],
   "source": [
    "import smtplib\n",
    "from email.mime.text import MIMEText\n",
    "from email.mime.multipart import MIMEMultipart\n",
    "from email.mime.base import MIMEBase\n",
    "from email import encoders"
   ]
  },
  {
   "cell_type": "code",
   "execution_count": 6,
   "id": "0541a12e",
   "metadata": {},
   "outputs": [
    {
     "data": {
      "text/plain": [
       "(221, b'2.0.0 Bye')"
      ]
     },
     "execution_count": 6,
     "metadata": {},
     "output_type": "execute_result"
    }
   ],
   "source": [
    "email_user = 'alerts@1digitalstack.ai'\n",
    "email_password = ''\n",
    "email_send = ['ghansham.pindoriya@1digitalstack.ai','karan.kumar@1digitalstack.ai','arihant.singh@1digitalstack.ai','sambhav.jain@1digitalstack.ai','ankur.dwivedi@1digitalstack.ai','kinshu@1digitalstack.ai']\n",
    "\n",
    "subject = file\n",
    "msg = MIMEMultipart()\n",
    "msg['From'] = email_user\n",
    "#msg['From'] = \"'Abhishek' <{email_user}>\"\n",
    "msg['To'] = ', '.join(email_send)\n",
    "msg['Subject'] = subject\n",
    "\n",
    "body = 'Hi,\\n\\nPFA of today''s brand mapping of amazon. Please check brand mapping for following jobs.\\n{}'.format(jobs_name)\n",
    "msg.attach(MIMEText(body,'plain'))\n",
    "\n",
    "filename=[file]\n",
    "\n",
    "for file in filename:\n",
    "    attachment  =open(file,'rb')\n",
    "    part = MIMEBase('application','octet-stream')\n",
    "    part.set_payload((attachment).read())\n",
    "    encoders.encode_base64(part)\n",
    "    part.add_header('Content-Disposition',\"attachment; filename= \"+file)\n",
    "    msg.attach(part)\n",
    "    text = msg.as_string()\n",
    "\n",
    "server = smtplib.SMTP('1digitalstack.com',25)\n",
    "#server.login(email_user,email_password)\n",
    "\n",
    "server.sendmail(email_user,email_send,text)\n",
    "server.quit()"
   ]
  },
  {
   "cell_type": "code",
   "execution_count": null,
   "id": "8cf8830c",
   "metadata": {},
   "outputs": [],
   "source": [
    "\n",
    "\n"
   ]
  },
  {
   "cell_type": "code",
   "execution_count": null,
   "id": "78a0f812",
   "metadata": {},
   "outputs": [],
   "source": []
  },
  {
   "cell_type": "code",
   "execution_count": 7,
   "id": "f5bd6dec",
   "metadata": {},
   "outputs": [],
   "source": [
    "    # try:\n",
    "    #     rating=bs.find('div',class_=\"RRBox\").text\n",
    "    #     print(\"rating_count:\" ,rating)\n",
    "    #     df['rating_count'][i]=rating\n",
    "    # except:\n",
    "    #     df['rating_count'][i]=\"\"  "
   ]
  }
 ],
 "metadata": {
  "kernelspec": {
   "display_name": "Python 3 (ipykernel)",
   "language": "python",
   "name": "python3"
  },
  "language_info": {
   "codemirror_mode": {
    "name": "ipython",
    "version": 3
   },
   "file_extension": ".py",
   "mimetype": "text/x-python",
   "name": "python",
   "nbconvert_exporter": "python",
   "pygments_lexer": "ipython3",
   "version": "3.10.9"
  },
  "vscode": {
   "interpreter": {
    "hash": "b0fa6594d8f4cbf19f97940f81e996739fb7646882a419484c72d19e05852a7e"
   }
  }
 },
 "nbformat": 4,
 "nbformat_minor": 5
}
