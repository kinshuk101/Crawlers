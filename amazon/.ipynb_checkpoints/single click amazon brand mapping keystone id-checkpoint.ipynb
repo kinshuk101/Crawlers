{
 "cells": [
  {
   "cell_type": "code",
   "execution_count": 1,
   "id": "a0c85bfe",
   "metadata": {},
   "outputs": [],
   "source": [
    "import pandas as pd\n",
    "import psycopg2\n",
    "import numpy as np\n",
    "\n",
    "\n",
    "\n",
    "from selenium import webdriver\n",
    "from selenium.webdriver.common.by import By\n",
    "import requests\n",
    "from selenium.webdriver.support.ui import WebDriverWait\n",
    "import selenium.webdriver.support.expected_conditions as EC\n",
    "\n",
    "\n",
    "\n",
    "from tqdm import tqdm\n",
    "tqdm.pandas()\n",
    "import time\n",
    "\n",
    "\n",
    "\n",
    "from bs4 import BeautifulSoup\n",
    "import re"
   ]
  },
  {
   "cell_type": "code",
   "execution_count": 2,
   "id": "b1100870",
   "metadata": {},
   "outputs": [
    {
     "name": "stderr",
     "output_type": "stream",
     "text": [
      "C:\\Users\\Administrator\\AppData\\Local\\Temp\\2\\ipykernel_158660\\3931627501.py:3: DeprecationWarning: executable_path has been deprecated, please pass in a Service object\n",
      "  driver = webdriver.Chrome(executable_path = r\"../chromedriver_win32/chromedriver.exe\",chrome_options = chrome_options)\n",
      "C:\\Users\\Administrator\\AppData\\Local\\Temp\\2\\ipykernel_158660\\3931627501.py:3: DeprecationWarning: use options instead of chrome_options\n",
      "  driver = webdriver.Chrome(executable_path = r\"../chromedriver_win32/chromedriver.exe\",chrome_options = chrome_options)\n"
     ]
    }
   ],
   "source": [
    "chrome_options = webdriver.ChromeOptions()\n",
    "chrome_options.add_argument(\"--incognito\")\n",
    "driver = webdriver.Chrome(executable_path = r\"../chromedriver_win32/chromedriver.exe\",chrome_options = chrome_options)"
   ]
  },
  {
   "cell_type": "code",
   "execution_count": 3,
   "id": "10b3f52b",
   "metadata": {},
   "outputs": [
    {
     "name": "stdout",
     "output_type": "stream",
     "text": [
      "{'user': 'postgres', 'channel_binding': 'prefer', 'dbname': 'postgres', 'host': '3.pgsql.db.1digitalstack.com', 'port': '5432', 'options': '', 'sslmode': 'prefer', 'sslcompression': '0', 'sslsni': '1', 'ssl_min_protocol_version': 'TLSv1.2', 'gssencmode': 'disable', 'krbsrvname': 'postgres', 'target_session_attrs': 'any'} \n",
      "\n",
      "{'user': 'postgres', 'channel_binding': 'prefer', 'dbname': 'postgres', 'host': '2.pgsql.db.1digitalstack.com', 'port': '5432', 'options': '', 'sslmode': 'prefer', 'sslcompression': '0', 'sslsni': '1', 'ssl_min_protocol_version': 'TLSv1.2', 'gssencmode': 'disable', 'krbsrvname': 'postgres', 'target_session_attrs': 'any'} \n",
      "\n",
      "Enter keystone ids with comma.64b8bfa09449a103c655e019\n",
      " Enter no of days for which data needs brand mapping.\n",
      "10\n"
     ]
    }
   ],
   "source": [
    "class postgres_conn:\n",
    "    def getConn(self):\n",
    "        try:\n",
    "            connection = psycopg2.connect(user='postgres',\n",
    "                                          password='postgres_007',\n",
    "                                          host=\"3.pgsql.db.1digitalstack.com\",\n",
    "                                          port='5432',\n",
    "                                          database='postgres')\n",
    "\n",
    "            cursor = connection.cursor()\n",
    "            # Print PostgreSQL Connection properties\n",
    "            print(connection.get_dsn_parameters(), \"\\n\")\n",
    "\n",
    "            # Print PostgreSQL version\n",
    "            return cursor, connection\n",
    "\n",
    "        except (Exception, psycopg2.Error) as error:\n",
    "            print(\"Error while connecting to PostgreSQL\", error)\n",
    "            return error, error\n",
    "    def getConn2(self):\n",
    "        try:\n",
    "            connection = psycopg2.connect(user='postgres',\n",
    "                                          password='reporting_007',\n",
    "                                          host=\"2.pgsql.db.1digitalstack.com\",\n",
    "                                          port='5432',\n",
    "                                          database='postgres')\n",
    "\n",
    "            cursor = connection.cursor()\n",
    "            # Print PostgreSQL Connection properties\n",
    "            print(connection.get_dsn_parameters(), \"\\n\")\n",
    "\n",
    "            # Print PostgreSQL version\n",
    "            return cursor, connection\n",
    "\n",
    "        except (Exception, psycopg2.Error) as error:\n",
    "            print(\"Error while connecting to PostgreSQL\", error)\n",
    "            return error, error\n",
    "\n",
    "\n",
    "    def close_connection(self, cursor, connection):\n",
    "        # closing database connection.\n",
    "        if(connection):\n",
    "            cursor.close()\n",
    "            connection.close()\n",
    "            print(\"PostgreSQL connection is closed\")\n",
    "            \n",
    "pg = postgres_conn()\n",
    "conn = pg.getConn()\n",
    "conn2 = pg.getConn2()\n",
    "\n",
    "client_ids=['138','135','133','132','130','136','131','141','134','128','142','140','356','391','392','432','137']\n",
    "client_id=[138,135,133,132,130,136,131,141,134,128,142,140,356,391,392,432,137]\n",
    "\n",
    "\n",
    "tlds=['https://www.amazon.sg/dp/',\n",
    "     'https://www.amazon.nl/dp/',\n",
    "     'https://www.amazon.it/dp/',\n",
    "     'https://www.amazon.in/dp/',\n",
    "     'https://www.amazon.fr/dp/',\n",
    "     'https://www.amazon.es/dp/',\n",
    "     'https://www.amazon.de/dp/',\n",
    "     'https://www.amazon.com/dp/',\n",
    "     'https://www.amazon.com.mx/dp/',\n",
    "     'https://www.amazon.com.au/dp/',\n",
    "     'https://www.amazon.co.uk/dp/',\n",
    "     'https://www.amazon.ae/dp/',\n",
    "     'https://www.amazon.pl/dp/',\n",
    "     'https://www.amazon.se/dp/',\n",
    "     'https://www.amazon.com.br/dp/',\n",
    "     'https://www.amazon.ca/dp/',\n",
    "     'https://www.amazon.com.be/dp/']\n",
    "\n",
    "\n",
    "tld_df=pd.DataFrame(list(zip(client_id,tlds)),columns=['client_id','tld'])\n",
    "\n",
    "\n",
    "job_id=input(\"Enter keystone ids with comma.\").split(\",\")\n",
    "days=input(\" Enter no of days for which data needs brand mapping.\\n\")\n",
    "job_id.append(\"\")\n",
    "tuple(job_id)\n",
    "\n",
    "query = f\"\"\"\n",
    "select client_id, keyword, brand, title, price, sku, crawl_time, sponsored, channel_id, rating, rating_count,job_name\n",
    "from ready.serp_details smd join ready.serp_mongo_details m on m.serp_mongo_id=smd.serp_mongo_id\n",
    "where smd.crawl_date > now() - interval '{days} day' and keystone_job_id in {tuple(job_id)}\n",
    "\"\"\"\n",
    "serp_details = pd.read_sql_query(query, conn[1])\n",
    "\n",
    "\n",
    "data_df=serp_details[['client_id','sku','title','brand']]\n",
    "\n",
    "data_df=data_df.drop_duplicates('sku')\n",
    "\n",
    "query_1 = \"select country, id from client_resource.client_master \"\n",
    "country_data = pd.read_sql_query(query_1, conn[1])\n",
    "\n",
    "df1= pd.merge(data_df,country_data, left_on='client_id', right_on='id', how= 'left')\n",
    "\n",
    "\n",
    "query_2 = f\"\"\" \n",
    "Select channel_sku_id,country_code, brand_name, categories,category_id\n",
    "from entity.product_master\n",
    "where channel_sku_id in {tuple(df1['sku'].dropna())} \n",
    "\"\"\"\n",
    "\n",
    "pm_data = pd.read_sql_query(query_2, conn[1])\n",
    "\n",
    "mapped_df=pd.merge(df1,pm_data, how='left', left_on=['sku','country'],right_on=['channel_sku_id','country_code'])\n",
    "\n",
    "df2=mapped_df[mapped_df['categories'].isnull()][['client_id','country','sku','title','brand_name' ,\"categories\",\"category_id\"]]\n",
    "df3=pd.merge(df2,tld_df,on= 'client_id', how= 'left')\n",
    "df3['product_link']=df3['tld']+df3['sku']\n",
    "df4=df3.drop_duplicates(subset=['sku','country'])\n",
    "df5=df4.reset_index()\n",
    "df5['brand_name']=\"\""
   ]
  },
  {
   "cell_type": "code",
   "execution_count": 4,
   "id": "a70719ed",
   "metadata": {
    "scrolled": true
   },
   "outputs": [
    {
     "name": "stderr",
     "output_type": "stream",
     "text": [
      "\r\n",
      "  0%|                                                                                                       | 0/289 [00:00<?, ?it/s]"
     ]
    },
    {
     "name": "stdout",
     "output_type": "stream",
     "text": [
      "0\n",
      "https://www.amazon.com/dp/B0C484VC6M\n"
     ]
    },
    {
     "name": "stderr",
     "output_type": "stream",
     "text": [
      "C:\\Users\\kpind\\AppData\\Local\\Temp/ipykernel_8676/3870517556.py:57: SettingWithCopyWarning: \n",
      "A value is trying to be set on a copy of a slice from a DataFrame\n",
      "\n",
      "See the caveats in the documentation: https://pandas.pydata.org/pandas-docs/stable/user_guide/indexing.html#returning-a-view-versus-a-copy\n",
      "  df5['brand_name'][i]=brand\n",
      "C:\\Users\\kpind\\AppData\\Local\\Temp/ipykernel_8676/3870517556.py:83: SettingWithCopyWarning: \n",
      "A value is trying to be set on a copy of a slice from a DataFrame\n",
      "\n",
      "See the caveats in the documentation: https://pandas.pydata.org/pandas-docs/stable/user_guide/indexing.html#returning-a-view-versus-a-copy\n",
      "  df5['categories'][i]=cats\n",
      "C:\\Users\\kpind\\AppData\\Local\\Temp/ipykernel_8676/3870517556.py:84: SettingWithCopyWarning: \n",
      "A value is trying to be set on a copy of a slice from a DataFrame\n",
      "\n",
      "See the caveats in the documentation: https://pandas.pydata.org/pandas-docs/stable/user_guide/indexing.html#returning-a-view-versus-a-copy\n",
      "  df5['category_id'][i]=cat_ids\n",
      "\r\n",
      "  0%|▎                                                                                              | 1/289 [00:04<20:20,  4.24s/it]"
     ]
    },
    {
     "name": "stdout",
     "output_type": "stream",
     "text": [
      "Brand: Mini Babybel\n",
      "['Grocery & Gourmet Food', 'Dairy, Eggs & Plant-Based Alternatives', 'Cheese', 'String & Snack']\n",
      "1\n",
      "https://www.amazon.com/dp/B0C5NCBZ3Q\n"
     ]
    },
    {
     "name": "stderr",
     "output_type": "stream",
     "text": [
      "\r\n",
      "  1%|▋                                                                                              | 2/289 [00:07<17:58,  3.76s/it]"
     ]
    },
    {
     "name": "stdout",
     "output_type": "stream",
     "text": [
      "Visit the Deli Direct Store\n",
      "['Grocery & Gourmet Food', 'Dairy, Eggs & Plant-Based Alternatives', 'Cheese', 'Cheese Curds']\n",
      "2\n",
      "https://www.amazon.com/dp/B07L9W91CV\n"
     ]
    },
    {
     "name": "stderr",
     "output_type": "stream",
     "text": [
      "\r\n",
      "  1%|▉                                                                                              | 3/289 [00:11<19:02,  3.99s/it]"
     ]
    },
    {
     "name": "stdout",
     "output_type": "stream",
     "text": [
      "Brand: Simply\n",
      "['Grocery & Gourmet Food', 'Snacks & Sweets', 'Snack Foods', 'Puffed Snacks']\n",
      "3\n",
      "https://www.amazon.com/dp/B01KQLULJW\n"
     ]
    },
    {
     "name": "stderr",
     "output_type": "stream",
     "text": [
      "\r\n",
      "  1%|█▎                                                                                             | 4/289 [00:18<24:01,  5.06s/it]"
     ]
    },
    {
     "name": "stdout",
     "output_type": "stream",
     "text": [
      "Visit the Smartfood Store\n",
      "['Grocery & Gourmet Food', 'Snacks & Sweets', 'Snack Foods', 'Popcorn', 'Popped']\n",
      "4\n",
      "https://www.amazon.com/dp/B08D7JXG87\n"
     ]
    },
    {
     "name": "stderr",
     "output_type": "stream",
     "text": [
      "\r\n",
      "  2%|█▋                                                                                             | 5/289 [00:22<22:15,  4.70s/it]"
     ]
    },
    {
     "name": "stdout",
     "output_type": "stream",
     "text": [
      "Visit the Popcorners Store\n",
      "['Grocery & Gourmet Food', 'Snacks & Sweets', 'Snack Foods', 'Chips & Crisps', 'Corn']\n",
      "5\n",
      "https://www.amazon.com/dp/B074ZRZZ93\n"
     ]
    },
    {
     "name": "stderr",
     "output_type": "stream",
     "text": [
      "\r\n",
      "  2%|█▉                                                                                             | 6/289 [00:26<20:26,  4.34s/it]"
     ]
    },
    {
     "name": "stdout",
     "output_type": "stream",
     "text": [
      "Visit the Wise Store\n",
      "['Grocery & Gourmet Food', 'Snacks & Sweets', 'Snack Foods', 'Puffed Snacks']\n",
      "6\n",
      "https://www.amazon.com/dp/B00J8XR39Q\n"
     ]
    },
    {
     "name": "stderr",
     "output_type": "stream",
     "text": [
      "\r\n",
      "  2%|██▎                                                                                            | 7/289 [00:30<20:08,  4.28s/it]"
     ]
    },
    {
     "name": "stdout",
     "output_type": "stream",
     "text": [
      "Visit the SkinnyPop Store\n",
      "['Grocery & Gourmet Food', 'Snacks & Sweets', 'Snack Foods', 'Popcorn', 'Popped']\n",
      "7\n",
      "https://www.amazon.com/dp/B08RYFQHTZ\n"
     ]
    },
    {
     "name": "stderr",
     "output_type": "stream",
     "text": [
      "\r\n",
      "  3%|██▋                                                                                            | 8/289 [00:34<18:56,  4.04s/it]"
     ]
    },
    {
     "name": "stdout",
     "output_type": "stream",
     "text": [
      "Visit the BicBugs Store\n",
      "['Industrial & Scientific', 'Science Education', 'Specimens']\n",
      "8\n",
      "https://www.amazon.com/dp/B07BWQ26VW\n"
     ]
    },
    {
     "name": "stderr",
     "output_type": "stream",
     "text": [
      "\r\n",
      "  3%|██▉                                                                                            | 9/289 [00:37<18:20,  3.93s/it]"
     ]
    },
    {
     "name": "stdout",
     "output_type": "stream",
     "text": [
      "Visit the Tillamook Store\n",
      "['Grocery & Gourmet Food', 'Dairy, Eggs & Plant-Based Alternatives', 'Cheese', 'Cheddar']\n",
      "9\n",
      "https://www.amazon.com/dp/B07LCTJ1JB\n"
     ]
    },
    {
     "name": "stderr",
     "output_type": "stream",
     "text": [
      "\r\n",
      "  3%|███▎                                                                                          | 10/289 [00:41<18:10,  3.91s/it]"
     ]
    },
    {
     "name": "stdout",
     "output_type": "stream",
     "text": [
      "Visit the Washington State University Store\n",
      "['Grocery & Gourmet Food', 'Dairy, Eggs & Plant-Based Alternatives', 'Cheese', 'Cheddar']\n",
      "10\n",
      "https://www.amazon.com/dp/B07P16FBR1\n"
     ]
    },
    {
     "name": "stderr",
     "output_type": "stream",
     "text": [
      "\r\n",
      "  4%|███▌                                                                                          | 11/289 [00:45<17:42,  3.82s/it]"
     ]
    },
    {
     "name": "stdout",
     "output_type": "stream",
     "text": [
      "Brand: Tastee Cheddar Cheese\n",
      "['Grocery & Gourmet Food', 'Dairy, Eggs & Plant-Based Alternatives', 'Cheese', 'Cheddar']\n",
      "11\n",
      "https://www.amazon.com/dp/B000Q5ZMD4\n"
     ]
    },
    {
     "name": "stderr",
     "output_type": "stream",
     "text": [
      "\r\n",
      "  4%|███▉                                                                                          | 12/289 [00:49<18:29,  4.01s/it]"
     ]
    },
    {
     "name": "stdout",
     "output_type": "stream",
     "text": [
      "Brand: Hillshire Farm\n",
      "['Grocery & Gourmet Food', 'Deli & Prepared Foods', 'Deli Meats & Cheeses', 'Prepackaged Deli Meats', 'Ham']\n",
      "12\n",
      "https://www.amazon.com/dp/B00MJG2SMG\n"
     ]
    },
    {
     "name": "stderr",
     "output_type": "stream",
     "text": [
      "\r\n",
      "  4%|████▏                                                                                         | 13/289 [00:53<18:34,  4.04s/it]"
     ]
    },
    {
     "name": "stdout",
     "output_type": "stream",
     "text": [
      "Visit the Land O Lakes Store\n",
      "['Grocery & Gourmet Food', 'Dairy, Eggs & Plant-Based Alternatives', 'Cheese', 'Cheddar']\n",
      "13\n",
      "https://www.amazon.com/dp/B00V2LORSC\n"
     ]
    },
    {
     "name": "stderr",
     "output_type": "stream",
     "text": [
      "\r\n",
      "  5%|████▌                                                                                         | 14/289 [00:56<17:07,  3.74s/it]"
     ]
    },
    {
     "name": "stdout",
     "output_type": "stream",
     "text": [
      "Visit the Land O Lakes Store\n",
      "['Grocery & Gourmet Food', 'Dairy, Eggs & Plant-Based Alternatives', 'Cheese', 'American']\n",
      "14\n",
      "https://www.amazon.com/dp/B000SKM4EW\n"
     ]
    },
    {
     "name": "stderr",
     "output_type": "stream",
     "text": [
      "\r\n",
      "  5%|████▉                                                                                         | 15/289 [00:59<16:08,  3.54s/it]"
     ]
    },
    {
     "name": "stdout",
     "output_type": "stream",
     "text": [
      "Visit the Kraft Store\n",
      "['Grocery & Gourmet Food', 'Dairy, Eggs & Plant-Based Alternatives', 'Cheese', 'Cheddar']\n",
      "15\n",
      "https://www.amazon.com/dp/B01MT65B4Y\n"
     ]
    },
    {
     "name": "stderr",
     "output_type": "stream",
     "text": [
      "\r\n",
      "  6%|█████▏                                                                                        | 16/289 [01:02<15:23,  3.38s/it]"
     ]
    },
    {
     "name": "stdout",
     "output_type": "stream",
     "text": [
      "Brand: Shullsburg Creamery\n",
      "['Grocery & Gourmet Food', 'Dairy, Eggs & Plant-Based Alternatives', 'Cheese', 'Cheddar']\n",
      "16\n",
      "https://www.amazon.com/dp/B0785LWZ9M\n"
     ]
    },
    {
     "name": "stderr",
     "output_type": "stream",
     "text": [
      "\r\n",
      "  6%|█████▌                                                                                        | 17/289 [01:06<15:26,  3.41s/it]"
     ]
    },
    {
     "name": "stdout",
     "output_type": "stream",
     "text": [
      "Brand: Farmers Market\n",
      "['Grocery & Gourmet Food', 'Dairy, Eggs & Plant-Based Alternatives', 'Cheese', 'Cheddar']\n",
      "17\n",
      "https://www.amazon.com/dp/B00HYMYGXO\n"
     ]
    },
    {
     "name": "stderr",
     "output_type": "stream",
     "text": [
      "\r\n",
      "  6%|█████▊                                                                                        | 18/289 [01:09<15:26,  3.42s/it]"
     ]
    },
    {
     "name": "stdout",
     "output_type": "stream",
     "text": [
      "Brand: Cheesers\n",
      "['Grocery & Gourmet Food', 'Dairy, Eggs & Plant-Based Alternatives', 'Cheese', 'Cheddar']\n",
      "18\n",
      "https://www.amazon.com/dp/B09ZMVMR58\n"
     ]
    },
    {
     "name": "stderr",
     "output_type": "stream",
     "text": [
      "\r\n",
      "  7%|██████▏                                                                                       | 19/289 [01:13<16:06,  3.58s/it]"
     ]
    },
    {
     "name": "stdout",
     "output_type": "stream",
     "text": [
      "Visit the Pipcorn Store\n",
      "['Grocery & Gourmet Food', 'Snacks & Sweets', 'Snack Foods', 'Puffed Snacks']\n",
      "19\n",
      "https://www.amazon.com/dp/B0C1V3TTRD\n"
     ]
    },
    {
     "name": "stderr",
     "output_type": "stream",
     "text": [
      "\r\n",
      "  7%|██████▌                                                                                       | 20/289 [01:17<15:56,  3.56s/it]"
     ]
    },
    {
     "name": "stdout",
     "output_type": "stream",
     "text": [
      "Visit the Snyder's of Hanover Store\n",
      "['Grocery & Gourmet Food', 'Snacks & Sweets', 'Snack Foods', 'Pretzels']\n",
      "20\n",
      "https://www.amazon.com/dp/B00A9HGY40\n"
     ]
    },
    {
     "name": "stderr",
     "output_type": "stream",
     "text": [
      "\r\n",
      "  7%|██████▊                                                                                       | 21/289 [01:21<16:37,  3.72s/it]"
     ]
    },
    {
     "name": "stdout",
     "output_type": "stream",
     "text": [
      "Brand: Meiji\n",
      "['Grocery & Gourmet Food', 'Snacks & Sweets', 'Snack Foods', 'Pretzels']\n",
      "21\n",
      "https://www.amazon.com/dp/B088DG7CRN\n"
     ]
    },
    {
     "name": "stderr",
     "output_type": "stream",
     "text": [
      "\r\n",
      "  8%|███████▏                                                                                      | 22/289 [01:24<16:08,  3.63s/it]"
     ]
    },
    {
     "name": "stdout",
     "output_type": "stream",
     "text": [
      "Visit the Nutrisystem Store\n",
      "['Grocery & Gourmet Food', 'Snacks & Sweets', 'Snack Foods', 'Popcorn', 'Popped']\n",
      "22\n",
      "https://www.amazon.com/dp/B0C3JB38K8\n"
     ]
    },
    {
     "name": "stderr",
     "output_type": "stream",
     "text": [
      "\r\n",
      "  8%|███████▍                                                                                      | 23/289 [01:28<16:41,  3.77s/it]"
     ]
    },
    {
     "name": "stdout",
     "output_type": "stream",
     "text": [
      "Visit the Pressels Store\n",
      "['Grocery & Gourmet Food', 'Snacks & Sweets', 'Snack Foods', 'Pretzels']\n",
      "23\n",
      "https://www.amazon.com/dp/B08GN1V4B1\n"
     ]
    },
    {
     "name": "stderr",
     "output_type": "stream",
     "text": [
      "\r\n",
      "  8%|███████▊                                                                                      | 24/289 [01:33<17:50,  4.04s/it]"
     ]
    },
    {
     "name": "stdout",
     "output_type": "stream",
     "text": [
      "Visit the Medley Hills Farm Store\n",
      "['Grocery & Gourmet Food', 'Snacks & Sweets', 'Snack Foods', 'Party Mix']\n",
      "24\n",
      "https://www.amazon.com/dp/B0BTZXHRC8\n"
     ]
    },
    {
     "name": "stderr",
     "output_type": "stream",
     "text": [
      "\r\n",
      "  9%|████████▏                                                                                     | 25/289 [01:37<18:08,  4.12s/it]"
     ]
    },
    {
     "name": "stdout",
     "output_type": "stream",
     "text": [
      "Visit the Funko Store\n",
      "['Grocery & Gourmet Food', 'Snacks & Sweets', 'Snack Foods', 'Puffed Snacks']\n",
      "25\n",
      "https://www.amazon.com/dp/B00MJF8G9G\n"
     ]
    },
    {
     "name": "stderr",
     "output_type": "stream",
     "text": [
      "\r\n",
      "  9%|████████▍                                                                                     | 26/289 [01:41<17:44,  4.05s/it]"
     ]
    },
    {
     "name": "stdout",
     "output_type": "stream",
     "text": [
      "Visit the Snyder's of Hanover Store\n",
      "['Grocery & Gourmet Food', 'Snacks & Sweets', 'Snack Foods', 'Pretzels']\n",
      "26\n",
      "https://www.amazon.com/dp/B00VB1Y31E\n"
     ]
    },
    {
     "name": "stderr",
     "output_type": "stream",
     "text": [
      "\r\n",
      "  9%|████████▊                                                                                     | 27/289 [01:48<21:12,  4.86s/it]"
     ]
    },
    {
     "name": "stdout",
     "output_type": "stream",
     "text": [
      "Visit the Jack Link's Store\n",
      "['Grocery & Gourmet Food', 'Snacks & Sweets', 'Snack Foods', 'Meat Snacks', 'Jerky']\n",
      "27\n",
      "https://www.amazon.com/dp/B01N0KRKJX\n"
     ]
    },
    {
     "name": "stderr",
     "output_type": "stream",
     "text": [
      "\r\n",
      " 10%|█████████                                                                                     | 28/289 [01:53<21:29,  4.94s/it]"
     ]
    },
    {
     "name": "stdout",
     "output_type": "stream",
     "text": [
      "Brand: Columbus\n",
      "['Grocery & Gourmet Food', 'Deli & Prepared Foods', 'Deli Meats & Cheeses', 'Prepackaged Deli Meats', 'Salami']\n",
      "28\n",
      "https://www.amazon.com/dp/B00CHTW39I\n"
     ]
    },
    {
     "name": "stderr",
     "output_type": "stream",
     "text": [
      "\r\n",
      " 10%|█████████▍                                                                                    | 29/289 [01:57<20:25,  4.72s/it]"
     ]
    },
    {
     "name": "stdout",
     "output_type": "stream",
     "text": [
      "Visit the Land O Lakes Store\n",
      "['Grocery & Gourmet Food', 'Dairy, Eggs & Plant-Based Alternatives', 'Cheese', 'Cheddar']\n",
      "29\n",
      "https://www.amazon.com/dp/B0C823RKD4\n"
     ]
    },
    {
     "name": "stderr",
     "output_type": "stream",
     "text": [
      "\r\n",
      " 10%|█████████▊                                                                                    | 30/289 [02:01<18:46,  4.35s/it]"
     ]
    },
    {
     "name": "stdout",
     "output_type": "stream",
     "text": [
      "Brand: Sargento\n",
      "['Grocery & Gourmet Food', 'Dairy, Eggs & Plant-Based Alternatives', 'Cheese', 'Monterey Jack']\n",
      "30\n",
      "https://www.amazon.com/dp/B0BKLJQS6T\n"
     ]
    },
    {
     "name": "stderr",
     "output_type": "stream",
     "text": [
      "\r\n",
      " 11%|██████████                                                                                    | 31/289 [02:05<18:09,  4.22s/it]"
     ]
    },
    {
     "name": "stdout",
     "output_type": "stream",
     "text": [
      "Brand: Sargento\n",
      "['Grocery & Gourmet Food', 'Dairy, Eggs & Plant-Based Alternatives', 'Cheese', 'Cheddar']\n",
      "31\n",
      "https://www.amazon.com/dp/B0BFJZC45M\n"
     ]
    },
    {
     "name": "stderr",
     "output_type": "stream",
     "text": [
      "\r\n",
      " 11%|██████████▍                                                                                   | 32/289 [02:08<16:31,  3.86s/it]"
     ]
    },
    {
     "name": "stdout",
     "output_type": "stream",
     "text": [
      "Brand: Generic\n",
      "['Grocery & Gourmet Food', 'Dairy, Eggs & Plant-Based Alternatives', 'Cheese']\n",
      "32\n",
      "https://www.amazon.com/dp/B0BH8JNK3F\n"
     ]
    },
    {
     "name": "stderr",
     "output_type": "stream",
     "text": [
      "\r\n",
      " 11%|██████████▋                                                                                   | 33/289 [02:11<16:16,  3.81s/it]"
     ]
    },
    {
     "name": "stdout",
     "output_type": "stream",
     "text": [
      "Brand: Kornos\n",
      "['Grocery & Gourmet Food', 'Dairy, Eggs & Plant-Based Alternatives', 'Cheese', 'Vegetarian']\n",
      "33\n",
      "https://www.amazon.com/dp/B00B04J0VK\n"
     ]
    },
    {
     "name": "stderr",
     "output_type": "stream",
     "text": [
      "\r\n",
      " 12%|███████████                                                                                   | 34/289 [02:15<15:36,  3.67s/it]"
     ]
    },
    {
     "name": "stdout",
     "output_type": "stream",
     "text": [
      "Brand: Cheesemakers\n",
      "['Grocery & Gourmet Food', 'Dairy, Eggs & Plant-Based Alternatives', 'Cheese', 'Mexican Cheese', 'Cotija']\n",
      "34\n",
      "https://www.amazon.com/dp/B00IWLBT2M\n"
     ]
    },
    {
     "name": "stderr",
     "output_type": "stream",
     "text": [
      "\r\n",
      " 12%|███████████▍                                                                                  | 35/289 [02:19<16:01,  3.79s/it]"
     ]
    },
    {
     "name": "stdout",
     "output_type": "stream",
     "text": [
      "Visit the Zatarain's Store\n",
      "['Grocery & Gourmet Food', 'Pantry Staples', 'Canned, Jarred & Packaged Foods', 'Packaged Meals & Side Dishes', 'Rice Dishes', 'Seasoned Rice']\n",
      "35\n",
      "https://www.amazon.com/dp/B08LBB2P1C\n"
     ]
    },
    {
     "name": "stderr",
     "output_type": "stream",
     "text": [
      "\r\n",
      " 12%|███████████▋                                                                                  | 36/289 [02:23<16:21,  3.88s/it]"
     ]
    },
    {
     "name": "stdout",
     "output_type": "stream",
     "text": [
      "Visit the Snyder's of Hanover Store\n",
      "['Grocery & Gourmet Food', 'Snacks & Sweets', 'Snack Foods', 'Pretzels']\n",
      "36\n",
      "https://www.amazon.com/dp/B081DQMC9T\n"
     ]
    },
    {
     "name": "stderr",
     "output_type": "stream",
     "text": [
      "\r\n",
      " 13%|████████████                                                                                  | 37/289 [02:27<16:59,  4.04s/it]"
     ]
    },
    {
     "name": "stdout",
     "output_type": "stream",
     "text": [
      "Brand: Andrew & Everett\n",
      "['Grocery & Gourmet Food', 'Pantry Staples', 'Cooking & Baking', 'Powdered Cheese']\n",
      "37\n",
      "https://www.amazon.com/dp/B07HGHXSJR\n"
     ]
    },
    {
     "name": "stderr",
     "output_type": "stream",
     "text": [
      "\r\n",
      " 13%|████████████▎                                                                                 | 38/289 [02:31<16:25,  3.92s/it]"
     ]
    },
    {
     "name": "stdout",
     "output_type": "stream",
     "text": [
      "Visit the ROKA Store\n",
      "['Grocery & Gourmet Food', 'Snacks & Sweets', 'Snack Foods', 'Rice Cakes, Chips & Crackers']\n",
      "38\n",
      "https://www.amazon.com/dp/B08243F8FT\n"
     ]
    },
    {
     "name": "stderr",
     "output_type": "stream",
     "text": [
      "\r\n",
      " 13%|████████████▋                                                                                 | 39/289 [02:34<15:42,  3.77s/it]"
     ]
    },
    {
     "name": "stdout",
     "output_type": "stream",
     "text": [
      "Visit the WISCONSIN'S BEST and WISCONSIN CHEESE COMPANY Store\n",
      "['Grocery & Gourmet Food', 'Food & Beverage Gifts', 'Cheese & Charcuterie Gifts']\n",
      "39\n",
      "https://www.amazon.com/dp/B08XZZZMH6\n"
     ]
    },
    {
     "name": "stderr",
     "output_type": "stream",
     "text": [
      "\r\n",
      " 14%|█████████████                                                                                 | 40/289 [02:38<16:01,  3.86s/it]"
     ]
    },
    {
     "name": "stdout",
     "output_type": "stream",
     "text": [
      "Visit the CHEESE BROTHERS INC Store\n",
      "['Grocery & Gourmet Food', 'Dairy, Eggs & Plant-Based Alternatives', 'Cheese Assortments & Samplers']\n",
      "40\n",
      "https://www.amazon.com/dp/B00BR1WRS4\n"
     ]
    },
    {
     "name": "stderr",
     "output_type": "stream",
     "text": [
      "\r\n",
      " 14%|█████████████▎                                                                                | 41/289 [02:42<15:20,  3.71s/it]"
     ]
    },
    {
     "name": "stdout",
     "output_type": "stream",
     "text": [
      "Visit the Organic Valley Store\n",
      "['Grocery & Gourmet Food', 'Deli & Prepared Foods', 'Deli Meats & Cheeses', 'Deli-Sliced Cheeses']\n",
      "41\n",
      "https://www.amazon.com/dp/B07RMK2CHW\n"
     ]
    },
    {
     "name": "stderr",
     "output_type": "stream",
     "text": [
      "\r\n",
      " 15%|█████████████▋                                                                                | 42/289 [02:47<17:16,  4.20s/it]"
     ]
    },
    {
     "name": "stdout",
     "output_type": "stream",
     "text": [
      "Brand: Forest Guys\n",
      "['Pet Supplies', 'Dogs', 'Feeding & Watering Supplies', 'Bowls & Dishes', 'Basic Bowls']\n",
      "42\n",
      "https://www.amazon.com/dp/B01LXXPK1B\n"
     ]
    },
    {
     "name": "stderr",
     "output_type": "stream",
     "text": [
      "\r\n",
      " 15%|█████████████▉                                                                                | 43/289 [02:51<16:43,  4.08s/it]"
     ]
    },
    {
     "name": "stdout",
     "output_type": "stream",
     "text": [
      "Visit the McCormick Store\n",
      "['Grocery & Gourmet Food', 'Pantry Staples', 'Herbs, Spices & Seasonings', 'Mixed Spices & Seasonings', 'Mexican Seasoning']\n",
      "43\n",
      "https://www.amazon.com/dp/B082P4KFYV\n"
     ]
    },
    {
     "name": "stderr",
     "output_type": "stream",
     "text": [
      "\r\n",
      " 15%|██████████████▎                                                                               | 44/289 [02:55<16:11,  3.97s/it]"
     ]
    },
    {
     "name": "stdout",
     "output_type": "stream",
     "text": [
      "Brand: Doña Maria\n",
      "['Grocery & Gourmet Food', 'Pantry Staples', 'Herbs, Spices & Seasonings', 'Mixed Spices & Seasonings', 'Mexican Seasoning']\n",
      "44\n",
      "https://www.amazon.com/dp/B0815H411Y\n"
     ]
    },
    {
     "name": "stderr",
     "output_type": "stream",
     "text": [
      "\r\n",
      " 16%|██████████████▋                                                                               | 45/289 [02:59<16:22,  4.03s/it]"
     ]
    },
    {
     "name": "stdout",
     "output_type": "stream",
     "text": [
      "Visit the Siete Store\n",
      "['Grocery & Gourmet Food', 'Pantry Staples', 'Herbs, Spices & Seasonings', 'Mixed Spices & Seasonings', 'Mexican Seasoning']\n",
      "45\n",
      "https://www.amazon.com/dp/B0BGZQPLBM\n"
     ]
    },
    {
     "name": "stderr",
     "output_type": "stream",
     "text": [
      "\r\n",
      " 16%|██████████████▉                                                                               | 46/289 [03:03<16:03,  3.96s/it]"
     ]
    },
    {
     "name": "stdout",
     "output_type": "stream",
     "text": [
      "Visit the Augason Farms Store\n",
      "['Grocery & Gourmet Food', 'Pantry Staples', 'Herbs, Spices & Seasonings', 'Mixed Spices & Seasonings', 'Chili Mix']\n",
      "46\n",
      "https://www.amazon.com/dp/B0B781T4C8\n",
      "Visit the MOMOFUKU Store\n"
     ]
    },
    {
     "name": "stderr",
     "output_type": "stream",
     "text": [
      "\r\n",
      " 16%|███████████████▎                                                                              | 47/289 [03:07<15:57,  3.96s/it]"
     ]
    },
    {
     "name": "stdout",
     "output_type": "stream",
     "text": [
      "['Grocery & Gourmet Food', 'Pantry Staples', 'Sauces, Gravies & Marinades', 'Sauces', 'Asian', 'Chili Sauce']\n",
      "47\n",
      "https://www.amazon.com/dp/B00DUW39CQ\n"
     ]
    },
    {
     "name": "stderr",
     "output_type": "stream",
     "text": [
      "\r\n",
      " 17%|███████████████▌                                                                              | 48/289 [03:11<16:31,  4.12s/it]"
     ]
    },
    {
     "name": "stdout",
     "output_type": "stream",
     "text": [
      "Brand: Jimmy O's\n",
      "['Grocery & Gourmet Food', 'Pantry Staples', 'Sauces, Gravies & Marinades', 'Seasoning Mixes']\n",
      "48\n",
      "https://www.amazon.com/dp/B085X8TMX4\n"
     ]
    },
    {
     "name": "stderr",
     "output_type": "stream",
     "text": [
      "\r\n",
      " 17%|███████████████▉                                                                              | 49/289 [03:15<16:16,  4.07s/it]"
     ]
    },
    {
     "name": "stdout",
     "output_type": "stream",
     "text": [
      "Visit the Kelly's Croutons Store\n",
      "['Grocery & Gourmet Food', 'Pantry Staples', 'Condiments & Salad Dressings', 'Salad Toppings']\n",
      "49\n",
      "https://www.amazon.com/dp/B00FL41H4S\n"
     ]
    },
    {
     "name": "stderr",
     "output_type": "stream",
     "text": [
      "\r\n",
      " 17%|████████████████▎                                                                             | 50/289 [03:19<16:16,  4.09s/it]"
     ]
    },
    {
     "name": "stdout",
     "output_type": "stream",
     "text": [
      "Brand: B&M\n",
      "['Grocery & Gourmet Food', 'Pantry Staples', 'Cooking & Baking', 'Baking Mixes', 'Breads']\n",
      "50\n",
      "https://www.amazon.com/dp/B0039KDRCQ\n"
     ]
    },
    {
     "name": "stderr",
     "output_type": "stream",
     "text": [
      "\r\n",
      " 18%|████████████████▌                                                                             | 51/289 [03:23<16:10,  4.08s/it]"
     ]
    },
    {
     "name": "stdout",
     "output_type": "stream",
     "text": [
      "Brand: Ro-Tel\n",
      "['Grocery & Gourmet Food', 'Pantry Staples', 'Canned, Jarred & Packaged Foods', 'Vegetables', 'Tomatoes', 'Diced']\n",
      "51\n",
      "https://www.amazon.com/dp/B06XQ17X96\n"
     ]
    },
    {
     "name": "stderr",
     "output_type": "stream",
     "text": [
      "\r\n",
      " 18%|████████████████▉                                                                             | 52/289 [03:27<15:51,  4.02s/it]"
     ]
    },
    {
     "name": "stdout",
     "output_type": "stream",
     "text": [
      "Visit the Goya Store\n",
      "['Grocery & Gourmet Food', 'Pantry Staples', 'Canned, Jarred & Packaged Foods', 'Packaged Meals & Side Dishes', 'Rice Dishes', 'Seasoned Rice']\n",
      "52\n",
      "https://www.amazon.com/dp/B01J8OH9KM\n"
     ]
    },
    {
     "name": "stderr",
     "output_type": "stream",
     "text": [
      "\r\n",
      " 18%|█████████████████▏                                                                            | 53/289 [03:31<16:08,  4.10s/it]"
     ]
    },
    {
     "name": "stdout",
     "output_type": "stream",
     "text": [
      "Visit the Mrs. Dash Store\n",
      "['Grocery & Gourmet Food', 'Pantry Staples', 'Herbs, Spices & Seasonings', 'Mixed Spices & Seasonings', 'Meat Seasoning']\n",
      "53\n",
      "https://www.amazon.com/dp/B0BTTRSLXP\n"
     ]
    },
    {
     "name": "stderr",
     "output_type": "stream",
     "text": [
      "\r\n",
      " 19%|█████████████████▌                                                                            | 54/289 [03:35<15:33,  3.97s/it]"
     ]
    },
    {
     "name": "stdout",
     "output_type": "stream",
     "text": [
      "Visit the Trejo's Tacos Store\n",
      "['Grocery & Gourmet Food', 'Pantry Staples', 'Sauces, Gravies & Marinades', 'Hot Sauce']\n",
      "54\n",
      "https://www.amazon.com/dp/B00Y0UX42W\n"
     ]
    },
    {
     "name": "stderr",
     "output_type": "stream",
     "text": [
      "\r\n",
      " 19%|█████████████████▉                                                                            | 55/289 [03:39<15:08,  3.88s/it]"
     ]
    },
    {
     "name": "stdout",
     "output_type": "stream",
     "text": [
      "Visit the Betty Crocker Store\n",
      "['Grocery & Gourmet Food', 'Pantry Staples', 'Canned, Jarred & Packaged Foods', 'Packaged Meals & Side Dishes', 'Pasta & Noodle Dishes']\n",
      "55\n",
      "https://www.amazon.com/dp/B08R1CQZZY\n"
     ]
    },
    {
     "name": "stderr",
     "output_type": "stream",
     "text": [
      "\r\n",
      " 19%|██████████████████▏                                                                           | 56/289 [03:43<15:02,  3.87s/it]"
     ]
    },
    {
     "name": "stdout",
     "output_type": "stream",
     "text": [
      "Visit the BeanVivo Store\n",
      "['Grocery & Gourmet Food', 'Pantry Staples', 'Soups, Stocks & Broths', 'Chili']\n",
      "56\n",
      "https://www.amazon.com/dp/B0007DFKBO\n"
     ]
    },
    {
     "name": "stderr",
     "output_type": "stream",
     "text": [
      "\r\n",
      " 20%|██████████████████▌                                                                           | 57/289 [03:46<14:25,  3.73s/it]"
     ]
    },
    {
     "name": "stdout",
     "output_type": "stream",
     "text": [
      "['Grocery & Gourmet Food', 'Dairy, Eggs & Plant-Based Alternatives', 'Cheese', 'Cheddar']\n",
      "57\n",
      "https://www.amazon.com/dp/B0787XSH45\n"
     ]
    },
    {
     "name": "stderr",
     "output_type": "stream",
     "text": [
      "\r\n",
      " 20%|██████████████████▊                                                                           | 58/289 [03:50<14:16,  3.71s/it]"
     ]
    },
    {
     "name": "stdout",
     "output_type": "stream",
     "text": [
      "Brand: Emmi\n",
      "['Grocery & Gourmet Food', 'Dairy, Eggs & Plant-Based Alternatives', 'Cheese']\n",
      "58\n",
      "https://www.amazon.com/dp/B0787VGWS3\n"
     ]
    },
    {
     "name": "stderr",
     "output_type": "stream",
     "text": [
      "\r\n",
      " 20%|███████████████████▏                                                                          | 59/289 [03:53<14:21,  3.74s/it]"
     ]
    },
    {
     "name": "stdout",
     "output_type": "stream",
     "text": [
      "Brand: FULVI\n",
      "['Grocery & Gourmet Food', 'Dairy, Eggs & Plant-Based Alternatives', 'Cheese', 'Pecorino']\n",
      "59\n",
      "https://www.amazon.com/dp/B0BSRHQH3P\n"
     ]
    },
    {
     "name": "stderr",
     "output_type": "stream",
     "text": [
      "\r\n",
      " 21%|███████████████████▌                                                                          | 60/289 [03:59<15:51,  4.15s/it]"
     ]
    },
    {
     "name": "stdout",
     "output_type": "stream",
     "text": [
      "Visit the MagicWater Supply Store\n",
      "['Health & Household', 'Stationery & Gift Wrapping Supplies', 'Gift Wrapping Supplies', 'Gift Wrap Crinkle & Filler Paper']\n",
      "60\n",
      "https://www.amazon.com/dp/B0BZ3J82F7\n"
     ]
    },
    {
     "name": "stderr",
     "output_type": "stream",
     "text": [
      "\r\n",
      " 21%|███████████████████▊                                                                          | 61/289 [04:03<16:25,  4.32s/it]"
     ]
    },
    {
     "name": "stdout",
     "output_type": "stream",
     "text": [
      "Brand: Mcfleet\n",
      "['Health & Household', 'Stationery & Gift Wrapping Supplies', 'Gift Wrapping Supplies', 'Gift Wrap Crinkle & Filler Paper']\n",
      "61\n",
      "https://www.amazon.com/dp/B0BVQ22PMQ\n"
     ]
    },
    {
     "name": "stderr",
     "output_type": "stream",
     "text": [
      "\r\n",
      " 21%|████████████████████▏                                                                         | 62/289 [04:08<16:41,  4.41s/it]"
     ]
    },
    {
     "name": "stdout",
     "output_type": "stream",
     "text": [
      "Visit the Zwish Store\n",
      "['Health & Household', 'Stationery & Gift Wrapping Supplies', 'Gift Wrapping Supplies', 'Gift Wrap Crinkle & Filler Paper']\n",
      "62\n",
      "https://www.amazon.com/dp/B09VYFSW6B\n"
     ]
    },
    {
     "name": "stderr",
     "output_type": "stream",
     "text": [
      "\r\n",
      " 22%|████████████████████▍                                                                         | 63/289 [04:12<16:12,  4.30s/it]"
     ]
    },
    {
     "name": "stdout",
     "output_type": "stream",
     "text": [
      "Visit the Stella & Chewy's Store\n",
      "['Pet Supplies', 'Cats', 'Food', 'Wet', 'Pouches']\n",
      "63\n",
      "https://www.amazon.com/dp/B0BRGQBCFQ\n"
     ]
    },
    {
     "name": "stderr",
     "output_type": "stream",
     "text": [
      "\r\n",
      " 22%|████████████████████▊                                                                         | 64/289 [04:17<16:44,  4.47s/it]"
     ]
    },
    {
     "name": "stdout",
     "output_type": "stream",
     "text": [
      "['Health & Household', 'Stationery & Gift Wrapping Supplies', 'Gift Wrapping Supplies', 'Gift Wrap Crinkle & Filler Paper']\n",
      "64\n",
      "https://www.amazon.com/dp/B01H015JKM\n"
     ]
    },
    {
     "name": "stderr",
     "output_type": "stream",
     "text": [
      "\r\n",
      " 22%|█████████████████████▏                                                                        | 65/289 [04:21<16:23,  4.39s/it]"
     ]
    },
    {
     "name": "stdout",
     "output_type": "stream",
     "text": [
      "Visit the Friskies Store\n",
      "['Pet Supplies', 'Cats', 'Food', 'Wet', 'Canned']\n",
      "65\n",
      "https://www.amazon.com/dp/B075RL71KF\n"
     ]
    },
    {
     "name": "stderr",
     "output_type": "stream",
     "text": [
      "\r\n",
      " 23%|█████████████████████▍                                                                        | 66/289 [04:25<15:52,  4.27s/it]"
     ]
    },
    {
     "name": "stdout",
     "output_type": "stream",
     "text": [
      "Visit the MagicWater Supply Store\n",
      "['Health & Household', 'Stationery & Gift Wrapping Supplies', 'Gift Wrapping Supplies', 'Gift Wrap Crinkle & Filler Paper']\n",
      "66\n",
      "https://www.amazon.com/dp/B01LYJUTWP\n"
     ]
    },
    {
     "name": "stderr",
     "output_type": "stream",
     "text": [
      "\r\n",
      " 23%|█████████████████████▊                                                                        | 67/289 [04:30<16:14,  4.39s/it]"
     ]
    },
    {
     "name": "stdout",
     "output_type": "stream",
     "text": [
      "Brand: Mighty Gadget\n",
      "['Health & Household', 'Stationery & Gift Wrapping Supplies', 'Gift Wrapping Supplies', 'Gift Wrap Crinkle & Filler Paper']\n",
      "67\n",
      "https://www.amazon.com/dp/B00A6H47G0\n"
     ]
    },
    {
     "name": "stderr",
     "output_type": "stream",
     "text": [
      "\r\n",
      " 24%|██████████████████████                                                                        | 68/289 [04:34<16:28,  4.47s/it]"
     ]
    },
    {
     "name": "stdout",
     "output_type": "stream",
     "text": [
      "Brand: MTBHY\n",
      "['Health & Household', 'Stationery & Gift Wrapping Supplies', 'Gift Wrapping Supplies', 'Gift Wrap Crinkle & Filler Paper']\n",
      "68\n",
      "https://www.amazon.com/dp/B09FSSVNW3\n"
     ]
    },
    {
     "name": "stderr",
     "output_type": "stream",
     "text": [
      "\r\n",
      " 24%|██████████████████████▍                                                                       | 69/289 [04:39<16:49,  4.59s/it]"
     ]
    },
    {
     "name": "stdout",
     "output_type": "stream",
     "text": [
      "Brand: HDST-HOME\n",
      "['Health & Household', 'Stationery & Gift Wrapping Supplies', 'Gift Wrapping Supplies', 'Gift Wrap Crinkle & Filler Paper']\n",
      "69\n",
      "https://www.amazon.com/dp/B096N36MJF\n"
     ]
    },
    {
     "name": "stderr",
     "output_type": "stream",
     "text": [
      "\r\n",
      " 24%|██████████████████████▊                                                                       | 70/289 [04:43<15:59,  4.38s/it]"
     ]
    },
    {
     "name": "stdout",
     "output_type": "stream",
     "text": [
      "Visit the MagicWater Supply Store\n",
      "['Health & Household', 'Stationery & Gift Wrapping Supplies', 'Gift Wrapping Supplies', 'Gift Wrap Crinkle & Filler Paper']\n",
      "70\n",
      "https://www.amazon.com/dp/B09C3PMMJ2\n"
     ]
    },
    {
     "name": "stderr",
     "output_type": "stream",
     "text": [
      "\r\n",
      " 25%|███████████████████████                                                                       | 71/289 [04:48<16:36,  4.57s/it]"
     ]
    },
    {
     "name": "stdout",
     "output_type": "stream",
     "text": [
      "Brand: Hewheat\n",
      "['Health & Household', 'Stationery & Gift Wrapping Supplies', 'Gift Wrapping Supplies', 'Gift Wrap Crinkle & Filler Paper']\n",
      "71\n",
      "https://www.amazon.com/dp/B007ODRA3G\n"
     ]
    },
    {
     "name": "stderr",
     "output_type": "stream",
     "text": [
      "\r\n",
      " 25%|███████████████████████▍                                                                      | 72/289 [04:55<18:45,  5.19s/it]"
     ]
    },
    {
     "name": "stdout",
     "output_type": "stream",
     "text": [
      "Visit the Beistle Store\n",
      "['Toys & Games', 'Preschool', 'Pre-Kindergarten Toys']\n",
      "72\n",
      "https://www.amazon.com/dp/B07528PZ2S\n"
     ]
    },
    {
     "name": "stderr",
     "output_type": "stream",
     "text": [
      "\r\n",
      " 25%|███████████████████████▋                                                                      | 73/289 [04:59<17:20,  4.82s/it]"
     ]
    },
    {
     "name": "stdout",
     "output_type": "stream",
     "text": [
      "Visit the MagicWater Supply Store\n",
      "['Health & Household', 'Stationery & Gift Wrapping Supplies', 'Gift Wrapping Supplies', 'Gift Wrap Crinkle & Filler Paper']\n",
      "73\n",
      "https://www.amazon.com/dp/B0050AKWYE\n"
     ]
    },
    {
     "name": "stderr",
     "output_type": "stream",
     "text": [
      "\r\n",
      " 26%|████████████████████████                                                                      | 74/289 [05:03<16:58,  4.74s/it]"
     ]
    },
    {
     "name": "stdout",
     "output_type": "stream",
     "text": [
      "Visit the amscan Store\n",
      "['Health & Household', 'Stationery & Gift Wrapping Supplies', 'Gift Wrapping Supplies', 'Gift Wrap Crinkle & Filler Paper']\n",
      "74\n",
      "https://www.amazon.com/dp/B07528P7RB\n"
     ]
    },
    {
     "name": "stderr",
     "output_type": "stream",
     "text": [
      "\r\n",
      " 26%|████████████████████████▍                                                                     | 75/289 [05:07<15:56,  4.47s/it]"
     ]
    },
    {
     "name": "stdout",
     "output_type": "stream",
     "text": [
      "Visit the MagicWater Supply Store\n",
      "['Health & Household', 'Stationery & Gift Wrapping Supplies', 'Gift Wrapping Supplies', 'Gift Wrap Crinkle & Filler Paper']\n",
      "75\n",
      "https://www.amazon.com/dp/B07THWJLSN\n"
     ]
    },
    {
     "name": "stderr",
     "output_type": "stream",
     "text": [
      "\r\n",
      " 26%|████████████████████████▋                                                                     | 76/289 [05:12<15:51,  4.47s/it]"
     ]
    },
    {
     "name": "stdout",
     "output_type": "stream",
     "text": [
      "Visit the LEOBRO Store\n",
      "['Arts, Crafts & Sewing', 'Painting, Drawing & Art Supplies', 'Drawing', 'Art Blenders']\n",
      "76\n",
      "https://www.amazon.com/dp/B0B5D16ZHM\n",
      "Visit the Goodma Store\n"
     ]
    },
    {
     "name": "stderr",
     "output_type": "stream",
     "text": [
      "\r\n",
      " 27%|█████████████████████████                                                                     | 77/289 [05:15<15:12,  4.31s/it]"
     ]
    },
    {
     "name": "stdout",
     "output_type": "stream",
     "text": [
      "['Health & Household', 'Stationery & Gift Wrapping Supplies', 'Gift Wrapping Supplies', 'Gift Wrap Crinkle & Filler Paper']\n",
      "77\n",
      "https://www.amazon.com/dp/B0C2VY284M\n"
     ]
    },
    {
     "name": "stderr",
     "output_type": "stream",
     "text": [
      "\r\n",
      " 27%|█████████████████████████▎                                                                    | 78/289 [05:19<14:14,  4.05s/it]"
     ]
    },
    {
     "name": "stdout",
     "output_type": "stream",
     "text": [
      "Visit the WISCONSIN CHEESE MART SINCE 1938 Store\n",
      "['Grocery & Gourmet Food', 'Dairy, Eggs & Plant-Based Alternatives', 'Cheese', 'Colby']\n",
      "78\n",
      "https://www.amazon.com/dp/B086SDSLFJ\n"
     ]
    },
    {
     "name": "stderr",
     "output_type": "stream",
     "text": [
      "\r\n",
      " 27%|█████████████████████████▋                                                                    | 79/289 [05:23<14:26,  4.13s/it]"
     ]
    },
    {
     "name": "stdout",
     "output_type": "stream",
     "text": [
      "Visit the Moon Cheese Store\n",
      "['Home & Kitchen', 'Heating, Cooling & Air Quality', 'Parts & Accessories', 'Air Conditioner Parts & Accessories', 'Motors']\n",
      "79\n",
      "https://www.amazon.com/dp/B01MXKNIHH\n"
     ]
    },
    {
     "name": "stderr",
     "output_type": "stream",
     "text": [
      "\r\n",
      " 28%|██████████████████████████                                                                    | 80/289 [05:27<13:43,  3.94s/it]"
     ]
    },
    {
     "name": "stdout",
     "output_type": "stream",
     "text": [
      "Visit the TILLAMOOK COUNTRY SMOKER Store\n",
      "['Grocery & Gourmet Food', 'Snacks & Sweets', 'Snack Foods', 'Meat Snacks', 'Jerky']\n",
      "80\n",
      "https://www.amazon.com/dp/B08KT631JR\n"
     ]
    },
    {
     "name": "stderr",
     "output_type": "stream",
     "text": [
      "\r\n",
      " 28%|██████████████████████████▎                                                                   | 81/289 [05:32<14:39,  4.23s/it]"
     ]
    },
    {
     "name": "stdout",
     "output_type": "stream",
     "text": [
      "Visit the Simple Mills Store\n",
      "['Grocery & Gourmet Food', 'Snacks & Sweets', 'Snack Foods', 'Crackers', 'Flatbread']\n",
      "81\n",
      "https://www.amazon.com/dp/B07C7NCPLV\n"
     ]
    },
    {
     "name": "stderr",
     "output_type": "stream",
     "text": [
      "\r\n",
      " 28%|██████████████████████████▋                                                                   | 82/289 [05:36<14:42,  4.26s/it]"
     ]
    },
    {
     "name": "stdout",
     "output_type": "stream",
     "text": [
      "Visit the Don Chilio Store\n",
      "['Grocery & Gourmet Food', 'Pantry Staples', 'Canned, Jarred & Packaged Foods', 'Vegetables', 'Jalapenos']\n",
      "82\n",
      "https://www.amazon.com/dp/B0BNMG2ZLJ\n"
     ]
    },
    {
     "name": "stderr",
     "output_type": "stream",
     "text": [
      "\r\n",
      " 29%|██████████████████████████▉                                                                   | 83/289 [05:41<15:23,  4.48s/it]"
     ]
    },
    {
     "name": "stdout",
     "output_type": "stream",
     "text": [
      "Visit the VIXI Store\n",
      "['Grocery & Gourmet Food', 'Beverages', 'Tea', 'Tea Samplers']\n",
      "83\n",
      "https://www.amazon.com/dp/B08DRQ7N84\n"
     ]
    },
    {
     "name": "stderr",
     "output_type": "stream",
     "text": [
      "\r\n",
      " 29%|███████████████████████████▎                                                                  | 84/289 [05:46<15:24,  4.51s/it]"
     ]
    },
    {
     "name": "stdout",
     "output_type": "stream",
     "text": [
      "Visit the Judee's Gluten Free Store\n",
      "['Grocery & Gourmet Food', 'Dairy, Eggs & Plant-Based Alternatives', 'Cheese', 'Cheddar']\n",
      "84\n",
      "https://www.amazon.com/dp/B07TMR6ZCH\n"
     ]
    },
    {
     "name": "stderr",
     "output_type": "stream",
     "text": [
      "\r\n",
      " 29%|███████████████████████████▋                                                                  | 85/289 [05:50<15:06,  4.44s/it]"
     ]
    },
    {
     "name": "stdout",
     "output_type": "stream",
     "text": [
      "Visit the Savory Spice Shop Store\n",
      "['Grocery & Gourmet Food', 'Pantry Staples', 'Herbs, Spices & Seasonings', 'Mixed Spices & Seasonings', 'Mexican Seasoning']\n",
      "85\n",
      "https://www.amazon.com/dp/B08MV45CL2\n"
     ]
    },
    {
     "name": "stderr",
     "output_type": "stream",
     "text": [
      "\r\n",
      " 30%|███████████████████████████▉                                                                  | 86/289 [05:54<14:48,  4.38s/it]"
     ]
    },
    {
     "name": "stdout",
     "output_type": "stream",
     "text": [
      "Visit the Stephanie Imports Store\n",
      "['Health & Household', 'Stationery & Gift Wrapping Supplies', 'Gift Wrapping Supplies', 'Gift Wrap Crinkle & Filler Paper']\n",
      "86\n",
      "https://www.amazon.com/dp/B07F6GRH9Z\n"
     ]
    },
    {
     "name": "stderr",
     "output_type": "stream",
     "text": [
      "\r\n",
      " 30%|████████████████████████████▎                                                                 | 87/289 [05:58<14:15,  4.23s/it]"
     ]
    },
    {
     "name": "stdout",
     "output_type": "stream",
     "text": [
      "Visit the MagicWater Supply Store\n",
      "['Health & Household', 'Stationery & Gift Wrapping Supplies', 'Gift Wrapping Supplies', 'Gift Wrap Crinkle & Filler Paper']\n",
      "87\n",
      "https://www.amazon.com/dp/B09K83T95L\n"
     ]
    },
    {
     "name": "stderr",
     "output_type": "stream",
     "text": [
      "\r\n",
      " 30%|████████████████████████████▌                                                                 | 88/289 [06:02<13:48,  4.12s/it]"
     ]
    },
    {
     "name": "stdout",
     "output_type": "stream",
     "text": [
      "Brand: powercut\n",
      "['Health & Household', 'Vitamins, Minerals & Supplements', 'Essential Fatty Acids', 'Fat Burners']\n",
      "88\n",
      "https://www.amazon.com/dp/B0811MBR5N\n"
     ]
    },
    {
     "name": "stderr",
     "output_type": "stream",
     "text": [
      "\r\n",
      " 31%|████████████████████████████▉                                                                 | 89/289 [06:06<13:46,  4.13s/it]"
     ]
    },
    {
     "name": "stdout",
     "output_type": "stream",
     "text": [
      "Visit the Zwish Store\n",
      "['Health & Household', 'Stationery & Gift Wrapping Supplies', 'Gift Wrapping Supplies', 'Gift Wrap Crinkle & Filler Paper']\n",
      "89\n",
      "https://www.amazon.com/dp/B089RGRWJN\n"
     ]
    },
    {
     "name": "stderr",
     "output_type": "stream",
     "text": [
      "\r\n",
      " 31%|█████████████████████████████▎                                                                | 90/289 [06:10<13:48,  4.16s/it]"
     ]
    },
    {
     "name": "stdout",
     "output_type": "stream",
     "text": [
      "Visit the TAOISTEA Store\n",
      "['Health & Household', 'Diet & Sports Nutrition', 'Weight Loss', 'Supplements', 'Detox & Cleanse']\n",
      "90\n",
      "https://www.amazon.com/dp/B07D171HPT\n"
     ]
    },
    {
     "name": "stderr",
     "output_type": "stream",
     "text": [
      "\r\n",
      " 31%|█████████████████████████████▌                                                                | 91/289 [06:13<12:38,  3.83s/it]"
     ]
    },
    {
     "name": "stdout",
     "output_type": "stream",
     "text": [
      "Brand: Darigold\n",
      "['Grocery & Gourmet Food', 'Dairy, Eggs & Plant-Based Alternatives', 'Cheese', 'Mexican Cheese']\n",
      "91\n",
      "https://www.amazon.com/dp/B07R5VYD74\n"
     ]
    },
    {
     "name": "stderr",
     "output_type": "stream",
     "text": [
      "\r\n",
      " 32%|█████████████████████████████▉                                                                | 92/289 [06:16<11:38,  3.55s/it]"
     ]
    },
    {
     "name": "stdout",
     "output_type": "stream",
     "text": [
      "Brand: Clover Sonoma\n",
      "['Grocery & Gourmet Food', 'Dairy, Eggs & Plant-Based Alternatives', 'Cheese', 'Processed']\n",
      "92\n",
      "https://www.amazon.com/dp/B0147QDRX4\n"
     ]
    },
    {
     "name": "stderr",
     "output_type": "stream",
     "text": [
      "\r\n",
      " 32%|██████████████████████████████▏                                                               | 93/289 [06:20<11:40,  3.57s/it]"
     ]
    },
    {
     "name": "stdout",
     "output_type": "stream",
     "text": [
      "Brand: CACIQUE\n",
      "['Grocery & Gourmet Food', 'Dairy, Eggs & Plant-Based Alternatives', 'Cheese', 'Mexican Cheese', 'Cotija']\n",
      "93\n",
      "https://www.amazon.com/dp/B00FROANTC\n"
     ]
    },
    {
     "name": "stderr",
     "output_type": "stream",
     "text": [
      "\r\n",
      " 33%|██████████████████████████████▌                                                               | 94/289 [06:23<11:43,  3.61s/it]"
     ]
    },
    {
     "name": "stdout",
     "output_type": "stream",
     "text": [
      "Visit the WISCONSIN CHEESE COMPANY 100% WISCONSIN CHEESE Store\n",
      "['Grocery & Gourmet Food', 'Dairy, Eggs & Plant-Based Alternatives', 'Cheese', 'String & Snack']\n",
      "94\n",
      "https://www.amazon.com/dp/B0861FLJNS\n"
     ]
    },
    {
     "name": "stderr",
     "output_type": "stream",
     "text": [
      "\r\n",
      " 33%|██████████████████████████████▉                                                               | 95/289 [06:27<11:32,  3.57s/it]"
     ]
    },
    {
     "name": "stdout",
     "output_type": "stream",
     "text": [
      "Visit the WISCONSIN CHEESE MART SINCE 1938 Store\n",
      "['Grocery & Gourmet Food', 'Dairy, Eggs & Plant-Based Alternatives', 'Cheese', 'Cheddar']\n",
      "95\n",
      "https://www.amazon.com/dp/B0048BFVBU\n"
     ]
    },
    {
     "name": "stderr",
     "output_type": "stream",
     "text": [
      "\r\n",
      " 33%|███████████████████████████████▏                                                              | 96/289 [06:31<11:50,  3.68s/it]"
     ]
    },
    {
     "name": "stdout",
     "output_type": "stream",
     "text": [
      "Visit the Shirley J Store\n",
      "['Grocery & Gourmet Food', 'Pantry Staples', 'Sauces, Gravies & Marinades', 'Sauces', 'Italian', 'Alfredo']\n",
      "96\n",
      "https://www.amazon.com/dp/B07R4XV7C2\n"
     ]
    },
    {
     "name": "stderr",
     "output_type": "stream",
     "text": [
      "\r\n",
      " 34%|███████████████████████████████▌                                                              | 97/289 [06:34<11:19,  3.54s/it]"
     ]
    },
    {
     "name": "stdout",
     "output_type": "stream",
     "text": [
      "Brand: Clover Sonoma\n",
      "['Grocery & Gourmet Food', 'Dairy, Eggs & Plant-Based Alternatives', 'Cheese', 'Cheddar']\n",
      "97\n",
      "https://www.amazon.com/dp/B08WKWH4CX\n"
     ]
    },
    {
     "name": "stderr",
     "output_type": "stream",
     "text": [
      "\r\n",
      " 34%|███████████████████████████████▉                                                              | 98/289 [06:39<12:09,  3.82s/it]"
     ]
    },
    {
     "name": "stdout",
     "output_type": "stream",
     "text": [
      "Visit the HASTA LA RAIZ Store\n",
      "['Home & Kitchen', 'Kitchen & Dining', 'Kitchen Utensils & Gadgets', 'Cutting Boards', 'Cutting Boards']\n",
      "98\n",
      "https://www.amazon.com/dp/B07BY856K4\n"
     ]
    },
    {
     "name": "stderr",
     "output_type": "stream",
     "text": [
      "\r\n",
      " 34%|████████████████████████████████▏                                                             | 99/289 [06:43<12:53,  4.07s/it]"
     ]
    },
    {
     "name": "stdout",
     "output_type": "stream",
     "text": [
      "['Health & Household', 'Health Care', 'Smoking Cessation', 'Smokeless Inhalers']\n",
      "99\n",
      "https://www.amazon.com/dp/B004RM19BQ\n"
     ]
    },
    {
     "name": "stderr",
     "output_type": "stream",
     "text": [
      "\r\n",
      " 35%|████████████████████████████████▏                                                            | 100/289 [06:56<21:05,  6.70s/it]"
     ]
    },
    {
     "name": "stdout",
     "output_type": "stream",
     "text": [
      "100\n",
      "https://www.amazon.com/dp/B0798CDGHP\n"
     ]
    },
    {
     "name": "stderr",
     "output_type": "stream",
     "text": [
      "\r\n",
      " 35%|████████████████████████████████▌                                                            | 101/289 [07:00<18:16,  5.83s/it]"
     ]
    },
    {
     "name": "stdout",
     "output_type": "stream",
     "text": [
      "Visit the Cape Cod Store\n",
      "['Grocery & Gourmet Food', 'Snacks & Sweets', 'Snack Foods', 'Chips & Crisps', 'Potato']\n",
      "101\n",
      "https://www.amazon.com/dp/B08WR56B2B\n"
     ]
    },
    {
     "name": "stderr",
     "output_type": "stream",
     "text": [
      "\r\n",
      " 35%|████████████████████████████████▊                                                            | 102/289 [07:04<16:16,  5.22s/it]"
     ]
    },
    {
     "name": "stdout",
     "output_type": "stream",
     "text": [
      "Visit the Sensible Portions Store\n",
      "['Grocery & Gourmet Food', 'Snacks & Sweets', 'Snack Foods', 'Puffed Snacks']\n",
      "102\n",
      "https://www.amazon.com/dp/B099GZ7Z3X\n"
     ]
    },
    {
     "name": "stderr",
     "output_type": "stream",
     "text": [
      "\r\n",
      " 36%|█████████████████████████████████▏                                                           | 103/289 [07:08<15:27,  4.99s/it]"
     ]
    },
    {
     "name": "stdout",
     "output_type": "stream",
     "text": [
      "Visit the Perfection Snacks Store\n",
      "['Grocery & Gourmet Food', 'Snacks & Sweets', 'Snack Foods', 'Puffed Snacks']\n",
      "103\n",
      "https://www.amazon.com/dp/B0BCJ37Y4F\n"
     ]
    },
    {
     "name": "stderr",
     "output_type": "stream",
     "text": [
      "\r\n",
      " 36%|█████████████████████████████████▍                                                           | 104/289 [07:12<14:02,  4.55s/it]"
     ]
    },
    {
     "name": "stdout",
     "output_type": "stream",
     "text": [
      "Visit the Oakhouse Bakery Store\n",
      "['Grocery & Gourmet Food', 'Snacks & Sweets', 'Snack Foods', 'Party Mix']\n",
      "104\n",
      "https://www.amazon.com/dp/B0787Y5F91\n"
     ]
    },
    {
     "name": "stderr",
     "output_type": "stream",
     "text": [
      "\r\n",
      " 36%|█████████████████████████████████▊                                                           | 105/289 [07:15<12:54,  4.21s/it]"
     ]
    },
    {
     "name": "stdout",
     "output_type": "stream",
     "text": [
      "Brand: Anchor\n",
      "['Grocery & Gourmet Food', 'Dairy, Eggs & Plant-Based Alternatives', 'Cheese', 'Cheddar']\n",
      "105\n",
      "https://www.amazon.com/dp/B00PO9IEEG\n",
      "Visit the Jack Link's Store\n",
      "['Grocery & Gourmet Food', 'Snacks & Sweets', 'Snack Foods', 'Meat Snacks', 'Jerky']\n"
     ]
    },
    {
     "name": "stderr",
     "output_type": "stream",
     "text": [
      "\r\n",
      " 37%|██████████████████████████████████                                                           | 106/289 [07:19<12:33,  4.12s/it]"
     ]
    },
    {
     "name": "stdout",
     "output_type": "stream",
     "text": [
      "106\n",
      "https://www.amazon.com/dp/B07SYKK2XS\n"
     ]
    },
    {
     "name": "stderr",
     "output_type": "stream",
     "text": [
      "\r\n",
      " 37%|██████████████████████████████████▍                                                          | 107/289 [07:23<12:00,  3.96s/it]"
     ]
    },
    {
     "name": "stdout",
     "output_type": "stream",
     "text": [
      "Visit the La Fundidora Store\n",
      "['Grocery & Gourmet Food', 'Snacks & Sweets', 'Snack Foods', 'Salsas, Dips & Spreads', 'Salsas']\n",
      "107\n",
      "https://www.amazon.com/dp/B087J8FH5G\n"
     ]
    },
    {
     "name": "stderr",
     "output_type": "stream",
     "text": [
      "\r\n",
      " 37%|██████████████████████████████████▊                                                          | 108/289 [07:27<12:08,  4.03s/it]"
     ]
    },
    {
     "name": "stdout",
     "output_type": "stream",
     "text": [
      "Visit the TIA LUPITA Store\n",
      "['Grocery & Gourmet Food', 'Snacks & Sweets', 'Snack Foods', 'Chips & Crisps', 'Tortilla']\n",
      "108\n",
      "https://www.amazon.com/dp/B00EAYQ2UO\n"
     ]
    },
    {
     "name": "stderr",
     "output_type": "stream",
     "text": [
      "\r\n",
      " 38%|███████████████████████████████████                                                          | 109/289 [07:31<11:54,  3.97s/it]"
     ]
    },
    {
     "name": "stdout",
     "output_type": "stream",
     "text": [
      "Visit the Food to Live Store\n",
      "['Grocery & Gourmet Food', 'Pantry Staples', 'Herbs, Spices & Seasonings', 'Single Herbs & Spices', 'Cumin']\n",
      "109\n",
      "https://www.amazon.com/dp/B09HQ8SX2M\n"
     ]
    },
    {
     "name": "stderr",
     "output_type": "stream",
     "text": [
      "\r\n",
      " 38%|███████████████████████████████████▍                                                         | 110/289 [07:34<11:10,  3.75s/it]"
     ]
    },
    {
     "name": "stdout",
     "output_type": "stream",
     "text": [
      "Brand: Generic\n",
      "['Grocery & Gourmet Food', 'Pantry Staples', 'Canned, Jarred & Packaged Foods', 'Packaged Meals & Side Dishes', 'Pasta & Noodle Dishes']\n",
      "110\n",
      "https://www.amazon.com/dp/B00817EUG4\n"
     ]
    },
    {
     "name": "stderr",
     "output_type": "stream",
     "text": [
      "\r\n",
      " 38%|███████████████████████████████████▋                                                         | 111/289 [07:37<10:27,  3.53s/it]"
     ]
    },
    {
     "name": "stdout",
     "output_type": "stream",
     "text": [
      "Visit the Hunt's Store\n",
      "['Grocery & Gourmet Food', 'Pantry Staples', 'Sauces, Gravies & Marinades', 'Sauces', 'Italian']\n",
      "111\n",
      "https://www.amazon.com/dp/B000Q3TB3S\n"
     ]
    },
    {
     "name": "stderr",
     "output_type": "stream",
     "text": [
      "\r\n",
      " 39%|████████████████████████████████████                                                         | 112/289 [07:41<10:37,  3.60s/it]"
     ]
    },
    {
     "name": "stdout",
     "output_type": "stream",
     "text": [
      "Visit the Hunt's Store\n",
      "['Grocery & Gourmet Food', 'Pantry Staples', 'Sauces, Gravies & Marinades', 'Sauces', 'Italian']\n",
      "112\n",
      "https://www.amazon.com/dp/B0856T5LWZ\n"
     ]
    },
    {
     "name": "stderr",
     "output_type": "stream",
     "text": [
      "\r\n",
      " 39%|████████████████████████████████████▎                                                        | 113/289 [07:44<10:09,  3.46s/it]"
     ]
    },
    {
     "name": "stdout",
     "output_type": "stream",
     "text": [
      "Visit the Whisps Store\n",
      "['Grocery & Gourmet Food', 'Dairy, Eggs & Plant-Based Alternatives', 'Cheese', 'Cheddar']\n",
      "113\n",
      "https://www.amazon.com/dp/B07TSCWN1P\n"
     ]
    },
    {
     "name": "stderr",
     "output_type": "stream",
     "text": [
      "\r\n",
      " 39%|████████████████████████████████████▋                                                        | 114/289 [07:47<10:15,  3.52s/it]"
     ]
    },
    {
     "name": "stdout",
     "output_type": "stream",
     "text": [
      "Visit the Happy Belly Store\n",
      "['Grocery & Gourmet Food', 'Pantry Staples', 'Canned, Jarred & Packaged Foods', 'Vegetables', 'Tomatoes', 'Tomato Sauce']\n",
      "114\n",
      "https://www.amazon.com/dp/B000WR4SJ0\n"
     ]
    },
    {
     "name": "stderr",
     "output_type": "stream",
     "text": [
      "\r\n",
      " 40%|█████████████████████████████████████                                                        | 115/289 [07:52<11:08,  3.84s/it]"
     ]
    },
    {
     "name": "stdout",
     "output_type": "stream",
     "text": [
      "Visit the Simply Organic Store\n",
      "['Grocery & Gourmet Food', 'Pantry Staples', 'Herbs, Spices & Seasonings', 'Mixed Spices & Seasonings', 'Italian Seasoning']\n",
      "115\n",
      "https://www.amazon.com/dp/B09GC95W6D\n"
     ]
    },
    {
     "name": "stderr",
     "output_type": "stream",
     "text": [
      "\r\n",
      " 40%|█████████████████████████████████████▎                                                       | 116/289 [07:57<12:17,  4.26s/it]"
     ]
    },
    {
     "name": "stdout",
     "output_type": "stream",
     "text": [
      "Visit the Flavor God Store\n",
      "['Grocery & Gourmet Food', 'Pantry Staples', 'Herbs, Spices & Seasonings', 'Mixed Spices & Seasonings', 'Mexican Seasoning']\n",
      "116\n",
      "https://www.amazon.com/dp/B07GBNL3WV\n"
     ]
    },
    {
     "name": "stderr",
     "output_type": "stream",
     "text": [
      "\r\n",
      " 40%|█████████████████████████████████████▋                                                       | 117/289 [08:01<11:52,  4.14s/it]"
     ]
    },
    {
     "name": "stdout",
     "output_type": "stream",
     "text": [
      "Visit the BEN'S ORIGINAL Store\n",
      "['Grocery & Gourmet Food', 'Pantry Staples', 'Canned, Jarred & Packaged Foods', 'Packaged Meals & Side Dishes', 'Rice Dishes', 'Seasoned Rice']\n",
      "117\n",
      "https://www.amazon.com/dp/B00J36FHL4\n"
     ]
    },
    {
     "name": "stderr",
     "output_type": "stream",
     "text": [
      "\r\n",
      " 41%|█████████████████████████████████████▉                                                       | 118/289 [08:07<13:13,  4.64s/it]"
     ]
    },
    {
     "name": "stdout",
     "output_type": "stream",
     "text": [
      "Visit the BORSARI Store\n",
      "['Grocery & Gourmet Food', 'Pantry Staples', 'Herbs, Spices & Seasonings', 'Salt & Salt Substitutes', 'Seasoned Salt']\n",
      "118\n",
      "https://www.amazon.com/dp/B07QLM17QQ\n"
     ]
    },
    {
     "name": "stderr",
     "output_type": "stream",
     "text": [
      "\r\n",
      " 41%|██████████████████████████████████████▎                                                      | 119/289 [08:09<11:15,  3.97s/it]"
     ]
    },
    {
     "name": "stdout",
     "output_type": "stream",
     "text": [
      "Brand: Snowdonia Cheese Co.\n",
      "['Grocery & Gourmet Food', 'Dairy, Eggs & Plant-Based Alternatives', 'Cheese', 'Cheddar']\n",
      "119\n",
      "https://www.amazon.com/dp/B08GSMB2X4\n"
     ]
    },
    {
     "name": "stderr",
     "output_type": "stream",
     "text": [
      "\r\n",
      " 42%|██████████████████████████████████████▌                                                      | 120/289 [08:13<10:49,  3.84s/it]"
     ]
    },
    {
     "name": "stdout",
     "output_type": "stream",
     "text": [
      "Visit the Mozaico Store\n",
      "['Handmade Products', 'Home & Kitchen', 'Home Décor', 'Decorative Accessories', 'Tiles']\n",
      "120\n",
      "https://www.amazon.com/dp/B00MWU96OC\n"
     ]
    },
    {
     "name": "stderr",
     "output_type": "stream",
     "text": [
      "\r\n",
      " 42%|██████████████████████████████████████▉                                                      | 121/289 [08:18<11:32,  4.12s/it]"
     ]
    },
    {
     "name": "stdout",
     "output_type": "stream",
     "text": [
      "Brand: Branston\n",
      "['Grocery & Gourmet Food', 'Pantry Staples', 'Olives, Pickles & Relishes', 'Relishes', 'Pickle Relishes']\n",
      "121\n",
      "https://www.amazon.com/dp/B00Y2LVNVS\n"
     ]
    },
    {
     "name": "stderr",
     "output_type": "stream",
     "text": [
      "\r\n",
      " 42%|███████████████████████████████████████▎                                                     | 122/289 [08:21<10:55,  3.93s/it]"
     ]
    },
    {
     "name": "stdout",
     "output_type": "stream",
     "text": [
      "Brand: Branston\n",
      "['Grocery & Gourmet Food', 'Pantry Staples', 'Olives, Pickles & Relishes', 'Relishes', 'Pickle Relishes']\n",
      "122\n",
      "https://www.amazon.com/dp/B0018E2X1Q\n"
     ]
    },
    {
     "name": "stderr",
     "output_type": "stream",
     "text": [
      "\r\n",
      " 43%|███████████████████████████████████████▌                                                     | 123/289 [08:26<11:50,  4.28s/it]"
     ]
    },
    {
     "name": "stdout",
     "output_type": "stream",
     "text": [
      "Visit the Imusa Store\n",
      "['Home & Kitchen', 'Kitchen & Dining', 'Small Appliance Parts & Accessories', 'Coffee & Espresso Machine Parts & Accessories', 'Coffee Machine Accessories']\n",
      "123\n",
      "https://www.amazon.com/dp/B00EOJP21A\n"
     ]
    },
    {
     "name": "stderr",
     "output_type": "stream",
     "text": [
      "\r\n",
      " 43%|███████████████████████████████████████▉                                                     | 124/289 [08:30<11:15,  4.09s/it]"
     ]
    },
    {
     "name": "stdout",
     "output_type": "stream",
     "text": [
      "Visit the St. Claire's Organics Store\n",
      "['Grocery & Gourmet Food', 'Beverages', 'Hot Chocolate & Malted Drinks', 'Cocoa']\n",
      "124\n",
      "https://www.amazon.com/dp/B003O65HB4\n"
     ]
    },
    {
     "name": "stderr",
     "output_type": "stream",
     "text": [
      "\r\n",
      " 43%|████████████████████████████████████████▏                                                    | 125/289 [08:34<11:02,  4.04s/it]"
     ]
    },
    {
     "name": "stdout",
     "output_type": "stream",
     "text": [
      "Visit the Paradise Store\n",
      "['Grocery & Gourmet Food', 'Snacks & Sweets', 'Snack Foods', 'Fruit Leather']\n",
      "125\n",
      "https://www.amazon.com/dp/B00PRAEBJ4\n"
     ]
    },
    {
     "name": "stderr",
     "output_type": "stream",
     "text": [
      "\r\n",
      " 44%|████████████████████████████████████████▌                                                    | 126/289 [08:38<10:51,  4.00s/it]"
     ]
    },
    {
     "name": "stdout",
     "output_type": "stream",
     "text": [
      "Visit the Sonoran Spice Store\n",
      "['Grocery & Gourmet Food', 'Pantry Staples', 'Herbs, Spices & Seasonings', 'Salt & Salt Substitutes', 'Sea Salt']\n",
      "126\n",
      "https://www.amazon.com/dp/B00C2M8CEK\n"
     ]
    },
    {
     "name": "stderr",
     "output_type": "stream",
     "text": [
      "\r\n",
      " 44%|████████████████████████████████████████▊                                                    | 127/289 [08:40<09:49,  3.64s/it]"
     ]
    },
    {
     "name": "stdout",
     "output_type": "stream",
     "text": [
      "Brand: kerrygold\n",
      "['Grocery & Gourmet Food', 'Dairy, Eggs & Plant-Based Alternatives', 'Cheese', 'Cheddar']\n",
      "127\n",
      "https://www.amazon.com/dp/B0004MVM0G\n"
     ]
    },
    {
     "name": "stderr",
     "output_type": "stream",
     "text": [
      "\r\n",
      " 44%|█████████████████████████████████████████▏                                                   | 128/289 [08:45<10:08,  3.78s/it]"
     ]
    },
    {
     "name": "stdout",
     "output_type": "stream",
     "text": [
      "Visit the Mt. Olive Store\n",
      "['Grocery & Gourmet Food', 'Pantry Staples', 'Canned, Jarred & Packaged Foods', 'Vegetables', 'Jalapenos']\n",
      "128\n",
      "https://www.amazon.com/dp/B072KGRGV5\n"
     ]
    },
    {
     "name": "stderr",
     "output_type": "stream",
     "text": [
      "\r\n",
      " 45%|█████████████████████████████████████████▌                                                   | 129/289 [08:47<09:08,  3.43s/it]"
     ]
    },
    {
     "name": "stdout",
     "output_type": "stream",
     "text": [
      "Brand: Laughing Cow\n",
      "['Grocery & Gourmet Food', 'Dairy, Eggs & Plant-Based Alternatives', 'Cheese', 'String & Snack']\n",
      "129\n",
      "https://www.amazon.com/dp/B007QGZWQI\n"
     ]
    },
    {
     "name": "stderr",
     "output_type": "stream",
     "text": [
      "\r\n",
      " 45%|█████████████████████████████████████████▊                                                   | 130/289 [08:51<09:05,  3.43s/it]"
     ]
    },
    {
     "name": "stdout",
     "output_type": "stream",
     "text": [
      "['Grocery & Gourmet Food', 'Dairy, Eggs & Plant-Based Alternatives', 'Cream Cheese']\n",
      "130\n",
      "https://www.amazon.com/dp/B075FRBGQL\n"
     ]
    },
    {
     "name": "stderr",
     "output_type": "stream",
     "text": [
      "\r\n",
      " 45%|██████████████████████████████████████████▏                                                  | 131/289 [08:54<08:50,  3.36s/it]"
     ]
    },
    {
     "name": "stdout",
     "output_type": "stream",
     "text": [
      "Brand: Arla\n",
      "['Grocery & Gourmet Food', 'Dairy, Eggs & Plant-Based Alternatives', 'Cheese', 'String & Snack']\n",
      "131\n",
      "https://www.amazon.com/dp/B00BWVXF1W\n"
     ]
    },
    {
     "name": "stderr",
     "output_type": "stream",
     "text": [
      "\r\n",
      " 46%|██████████████████████████████████████████▍                                                  | 132/289 [08:58<09:20,  3.57s/it]"
     ]
    },
    {
     "name": "stdout",
     "output_type": "stream",
     "text": [
      "Visit the Parma! Store\n",
      "['Grocery & Gourmet Food', 'Dairy, Eggs & Plant-Based Alternatives', 'Plant-Based Cheese']\n",
      "132\n",
      "https://www.amazon.com/dp/B0BC4VLF4G\n"
     ]
    },
    {
     "name": "stderr",
     "output_type": "stream",
     "text": [
      "\r\n",
      " 46%|██████████████████████████████████████████▊                                                  | 133/289 [09:01<08:49,  3.40s/it]"
     ]
    },
    {
     "name": "stdout",
     "output_type": "stream",
     "text": [
      "Brand: Generic\n",
      "['Grocery & Gourmet Food', 'Dairy, Eggs & Plant-Based Alternatives', 'Cheese', 'Cheddar']\n",
      "133\n",
      "https://www.amazon.com/dp/B07C37XV4D\n"
     ]
    },
    {
     "name": "stderr",
     "output_type": "stream",
     "text": [
      "\r\n",
      " 46%|███████████████████████████████████████████                                                  | 134/289 [09:04<08:27,  3.27s/it]"
     ]
    },
    {
     "name": "stdout",
     "output_type": "stream",
     "text": [
      "Brand: Anchor\n",
      "['Grocery & Gourmet Food', 'Dairy, Eggs & Plant-Based Alternatives', 'Cheese', 'Cheddar']\n",
      "134\n",
      "https://www.amazon.com/dp/B00B0424R2\n"
     ]
    },
    {
     "name": "stderr",
     "output_type": "stream",
     "text": [
      "\r\n",
      " 47%|███████████████████████████████████████████▍                                                 | 135/289 [09:08<09:12,  3.59s/it]"
     ]
    },
    {
     "name": "stdout",
     "output_type": "stream",
     "text": [
      "Brand: Racconto\n",
      "['Grocery & Gourmet Food', 'APS Test']\n",
      "135\n",
      "https://www.amazon.com/dp/B00GA85FWY\n"
     ]
    },
    {
     "name": "stderr",
     "output_type": "stream",
     "text": [
      "\r\n",
      " 47%|███████████████████████████████████████████▊                                                 | 136/289 [09:12<09:34,  3.76s/it]"
     ]
    },
    {
     "name": "stdout",
     "output_type": "stream",
     "text": [
      "Brand: Go Veggie\n",
      "['Grocery & Gourmet Food', 'Dairy, Eggs & Plant-Based Alternatives', 'Cheese', 'Parmesan']\n",
      "136\n",
      "https://www.amazon.com/dp/B01N1425BQ\n"
     ]
    },
    {
     "name": "stderr",
     "output_type": "stream",
     "text": [
      "\r\n",
      " 47%|████████████████████████████████████████████                                                 | 137/289 [09:17<10:12,  4.03s/it]"
     ]
    },
    {
     "name": "stdout",
     "output_type": "stream",
     "text": [
      "Visit the Skinny Pasta Store\n",
      "['Grocery & Gourmet Food', 'Pantry Staples', 'Pasta & Noodles', 'Noodles', 'Shirataki']\n",
      "137\n",
      "https://www.amazon.com/dp/B07SG481L7\n"
     ]
    },
    {
     "name": "stderr",
     "output_type": "stream",
     "text": [
      "\r\n",
      " 48%|████████████████████████████████████████████▍                                                | 138/289 [09:20<09:42,  3.86s/it]"
     ]
    },
    {
     "name": "stdout",
     "output_type": "stream",
     "text": [
      "Visit the YUHO Store\n",
      "['Grocery & Gourmet Food', 'Pantry Staples', 'Pasta & Noodles', 'Noodles', 'Shirataki']\n",
      "138\n",
      "https://www.amazon.com/dp/B08LP3VKKS\n"
     ]
    },
    {
     "name": "stderr",
     "output_type": "stream",
     "text": [
      "\r\n",
      " 48%|████████████████████████████████████████████▋                                                | 139/289 [09:24<09:32,  3.82s/it]"
     ]
    },
    {
     "name": "stdout",
     "output_type": "stream",
     "text": [
      "Visit the Miracle Noodle Store\n",
      "['Grocery & Gourmet Food', 'Pantry Staples', 'Pasta & Noodles', 'Noodles', 'Shirataki']\n",
      "139\n",
      "https://www.amazon.com/dp/B01BNDNIX8\n"
     ]
    },
    {
     "name": "stderr",
     "output_type": "stream",
     "text": [
      "\r\n",
      " 48%|█████████████████████████████████████████████                                                | 140/289 [09:28<09:14,  3.72s/it]"
     ]
    },
    {
     "name": "stdout",
     "output_type": "stream",
     "text": [
      "Visit the Jack Link's Store\n",
      "['Grocery & Gourmet Food', 'Snacks & Sweets', 'Snack Foods', 'Meat Snacks', 'Jerky']\n",
      "140\n",
      "https://www.amazon.com/dp/B0BMKMTB5R\n"
     ]
    },
    {
     "name": "stderr",
     "output_type": "stream",
     "text": [
      "\r\n",
      " 49%|█████████████████████████████████████████████▎                                               | 141/289 [09:36<12:34,  5.09s/it]"
     ]
    },
    {
     "name": "stdout",
     "output_type": "stream",
     "text": [
      "Visit the KITCHENDAO Store\n",
      "['Home & Kitchen', 'Kitchen & Dining', 'Kitchen Utensils & Gadgets', 'Cheese Tools', 'Cheese Slicers']\n",
      "141\n",
      "https://www.amazon.com/dp/B013HUJ4GU\n"
     ]
    },
    {
     "name": "stderr",
     "output_type": "stream",
     "text": [
      "\r\n",
      " 49%|█████████████████████████████████████████████▋                                               | 142/289 [09:51<19:29,  7.96s/it]"
     ]
    },
    {
     "name": "stdout",
     "output_type": "stream",
     "text": [
      "142\n",
      "https://www.amazon.com/dp/B09CCVMQSJ\n"
     ]
    },
    {
     "name": "stderr",
     "output_type": "stream",
     "text": [
      "\r\n",
      " 49%|██████████████████████████████████████████████                                               | 143/289 [10:05<23:51,  9.81s/it]"
     ]
    },
    {
     "name": "stdout",
     "output_type": "stream",
     "text": [
      "143\n",
      "https://www.amazon.com/dp/B0752CFG3J\n"
     ]
    },
    {
     "name": "stderr",
     "output_type": "stream",
     "text": [
      "\r\n",
      " 50%|██████████████████████████████████████████████▎                                              | 144/289 [10:08<19:06,  7.91s/it]"
     ]
    },
    {
     "name": "stdout",
     "output_type": "stream",
     "text": [
      "Visit the MagicWater Supply Store\n",
      "['Health & Household', 'Stationery & Gift Wrapping Supplies', 'Gift Wrapping Supplies', 'Gift Wrap Crinkle & Filler Paper']\n",
      "144\n",
      "https://www.amazon.com/dp/B0050AKW6C\n"
     ]
    },
    {
     "name": "stderr",
     "output_type": "stream",
     "text": [
      "\r\n",
      " 50%|██████████████████████████████████████████████▋                                              | 145/289 [10:13<16:48,  7.00s/it]"
     ]
    },
    {
     "name": "stdout",
     "output_type": "stream",
     "text": [
      "Visit the amscan Store\n",
      "['Health & Household', 'Stationery & Gift Wrapping Supplies', 'Gift Wrapping Supplies', 'Gift Wrap Crinkle & Filler Paper']\n",
      "145\n",
      "https://www.amazon.com/dp/B082GKJM7X\n"
     ]
    },
    {
     "name": "stderr",
     "output_type": "stream",
     "text": [
      "\r\n",
      " 51%|██████████████████████████████████████████████▉                                              | 146/289 [10:17<14:32,  6.10s/it]"
     ]
    },
    {
     "name": "stdout",
     "output_type": "stream",
     "text": [
      "Visit the Gears Out Store\n",
      "['Grocery & Gourmet Food', 'Food & Beverage Gifts', 'Snack Gifts']\n",
      "146\n",
      "https://www.amazon.com/dp/B00GE8O6SE\n"
     ]
    },
    {
     "name": "stderr",
     "output_type": "stream",
     "text": [
      "\r\n",
      " 51%|███████████████████████████████████████████████▎                                             | 147/289 [10:20<12:29,  5.28s/it]"
     ]
    },
    {
     "name": "stdout",
     "output_type": "stream",
     "text": [
      "Visit the Dole Store\n",
      "['Grocery & Gourmet Food', 'Beverages', 'Bottled Beverages, Water & Drink Mixes', 'Juices', 'Fruit Juice']\n",
      "147\n",
      "https://www.amazon.com/dp/B08WWM9YM4\n"
     ]
    },
    {
     "name": "stderr",
     "output_type": "stream",
     "text": [
      "\r\n",
      " 51%|███████████████████████████████████████████████▋                                             | 148/289 [10:24<11:12,  4.77s/it]"
     ]
    },
    {
     "name": "stdout",
     "output_type": "stream",
     "text": [
      "Visit the Amazing Chiles & Spices Store\n",
      "['Grocery & Gourmet Food', 'Pantry Staples', 'Herbs, Spices & Seasonings', 'Mixed Spices & Seasonings', 'Mexican Seasoning']\n",
      "148\n",
      "https://www.amazon.com/dp/B07V6LS66L\n"
     ]
    },
    {
     "name": "stderr",
     "output_type": "stream",
     "text": [
      "\r\n",
      " 52%|███████████████████████████████████████████████▉                                             | 149/289 [10:27<10:11,  4.36s/it]"
     ]
    },
    {
     "name": "stdout",
     "output_type": "stream",
     "text": [
      "Visit the Thoughtfully Store\n",
      "['Grocery & Gourmet Food', 'Food & Beverage Gifts', 'Sauce, Gravy & Marinade Gifts']\n",
      "149\n",
      "https://www.amazon.com/dp/B077V91YNS\n"
     ]
    },
    {
     "name": "stderr",
     "output_type": "stream",
     "text": [
      "\r\n",
      " 52%|████████████████████████████████████████████████▎                                            | 150/289 [10:31<09:26,  4.08s/it]"
     ]
    },
    {
     "name": "stdout",
     "output_type": "stream",
     "text": [
      "Visit the Farmers Market Store\n",
      "['Grocery & Gourmet Food', 'Dairy, Eggs & Plant-Based Alternatives', 'Cheese', 'Cheddar']\n",
      "150\n",
      "https://www.amazon.com/dp/B0918SJTS6\n"
     ]
    },
    {
     "name": "stderr",
     "output_type": "stream",
     "text": [
      "\r\n",
      " 52%|████████████████████████████████████████████████▌                                            | 151/289 [10:33<08:12,  3.57s/it]"
     ]
    },
    {
     "name": "stdout",
     "output_type": "stream",
     "text": [
      "Visit the WISCONSIN'S BEST and WISCONSIN CHEESE COMPANY Store\n",
      "['Grocery & Gourmet Food', 'Dairy, Eggs & Plant-Based Alternatives', 'Cheese', 'Cheddar']\n",
      "151\n",
      "https://www.amazon.com/dp/B00KRTHP66\n"
     ]
    },
    {
     "name": "stderr",
     "output_type": "stream",
     "text": [
      "\r\n",
      " 53%|████████████████████████████████████████████████▉                                            | 152/289 [10:37<08:12,  3.59s/it]"
     ]
    },
    {
     "name": "stdout",
     "output_type": "stream",
     "text": [
      "Visit the Corabella Store\n",
      "['Grocery & Gourmet Food', 'Pantry Staples', 'Pasta & Noodles', 'Pasta', 'Tortellini']\n",
      "152\n",
      "https://www.amazon.com/dp/B0BNSSG13M\n"
     ]
    },
    {
     "name": "stderr",
     "output_type": "stream",
     "text": [
      "\r\n",
      " 53%|█████████████████████████████████████████████████▏                                           | 153/289 [10:41<08:38,  3.81s/it]"
     ]
    },
    {
     "name": "stdout",
     "output_type": "stream",
     "text": [
      "Visit the VIXI Store\n",
      "['Grocery & Gourmet Food', 'Beverages', 'Tea', 'White']\n",
      "153\n",
      "https://www.amazon.com/dp/B0BZ3HN4Y8\n"
     ]
    },
    {
     "name": "stderr",
     "output_type": "stream",
     "text": [
      "\r\n",
      " 53%|█████████████████████████████████████████████████▌                                           | 154/289 [10:46<08:59,  4.00s/it]"
     ]
    },
    {
     "name": "stdout",
     "output_type": "stream",
     "text": [
      "Brand: Mcfleet\n",
      "['Health & Household', 'Stationery & Gift Wrapping Supplies', 'Gift Wrapping Supplies', 'Gift Wrap Crinkle & Filler Paper']\n",
      "154\n",
      "https://www.amazon.com/dp/B0B55BC93X\n"
     ]
    },
    {
     "name": "stderr",
     "output_type": "stream",
     "text": [
      "\r\n",
      " 54%|█████████████████████████████████████████████████▉                                           | 155/289 [10:50<09:08,  4.10s/it]"
     ]
    },
    {
     "name": "stdout",
     "output_type": "stream",
     "text": [
      "Visit the CHEESE BROTHERS INC Store\n",
      "['Grocery & Gourmet Food', 'Dairy, Eggs & Plant-Based Alternatives', 'Cheese Assortments & Samplers']\n",
      "155\n",
      "https://www.amazon.com/dp/B09T1QCP58\n"
     ]
    },
    {
     "name": "stderr",
     "output_type": "stream",
     "text": [
      "\r\n",
      " 54%|██████████████████████████████████████████████████▏                                          | 156/289 [10:54<08:43,  3.93s/it]"
     ]
    },
    {
     "name": "stdout",
     "output_type": "stream",
     "text": [
      "Visit the MARKY'S Store\n",
      "['Grocery & Gourmet Food', 'Dairy, Eggs & Plant-Based Alternatives', 'Cheese', 'Asiago']\n",
      "156\n",
      "https://www.amazon.com/dp/B0B7TMPDS1\n"
     ]
    },
    {
     "name": "stderr",
     "output_type": "stream",
     "text": [
      "\r\n",
      " 54%|██████████████████████████████████████████████████▌                                          | 157/289 [10:57<08:18,  3.77s/it]"
     ]
    },
    {
     "name": "stdout",
     "output_type": "stream",
     "text": [
      "Visit the MARKY'S Store\n",
      "['Grocery & Gourmet Food', 'Dairy, Eggs & Plant-Based Alternatives', 'Cheese', 'Pecorino']\n",
      "157\n",
      "https://www.amazon.com/dp/B00MHJQ9M0\n"
     ]
    },
    {
     "name": "stderr",
     "output_type": "stream",
     "text": [
      "\r\n",
      " 55%|██████████████████████████████████████████████████▊                                          | 158/289 [11:01<08:22,  3.83s/it]"
     ]
    },
    {
     "name": "stdout",
     "output_type": "stream",
     "text": [
      "Visit the el mexicano Store\n",
      "['Grocery & Gourmet Food', 'Snacks & Sweets', 'Snack Foods', 'Salsas, Dips & Spreads', 'Dips & Spreads']\n",
      "158\n",
      "https://www.amazon.com/dp/B08TYQTVHT\n"
     ]
    },
    {
     "name": "stderr",
     "output_type": "stream",
     "text": [
      "\r\n",
      " 55%|███████████████████████████████████████████████████▏                                         | 159/289 [11:05<08:32,  3.94s/it]"
     ]
    },
    {
     "name": "stdout",
     "output_type": "stream",
     "text": [
      "Visit the Chugwater Chili Store\n",
      "['Grocery & Gourmet Food', 'Pantry Staples', 'Herbs, Spices & Seasonings', 'Mixed Spices & Seasonings', 'Chili Mix']\n",
      "159\n",
      "https://www.amazon.com/dp/B07M6NJPRY\n"
     ]
    },
    {
     "name": "stderr",
     "output_type": "stream",
     "text": [
      "\r\n",
      " 55%|███████████████████████████████████████████████████▍                                         | 160/289 [11:11<09:27,  4.40s/it]"
     ]
    },
    {
     "name": "stdout",
     "output_type": "stream",
     "text": [
      "Visit the NANDO'S PERI-PERI Store\n",
      "['Grocery & Gourmet Food', 'Pantry Staples', 'Sauces, Gravies & Marinades', 'Hot Sauce']\n",
      "160\n",
      "https://www.amazon.com/dp/B08TDZV814\n"
     ]
    },
    {
     "name": "stderr",
     "output_type": "stream",
     "text": [
      "\r\n",
      " 56%|███████████████████████████████████████████████████▊                                         | 161/289 [11:14<08:51,  4.15s/it]"
     ]
    },
    {
     "name": "stdout",
     "output_type": "stream",
     "text": [
      "Visit the Thoughtfully Store\n",
      "['Grocery & Gourmet Food', 'Food & Beverage Gifts', 'Herb, Spice & Seasoning Gifts']\n",
      "161\n",
      "https://www.amazon.com/dp/B01AR8EOVK\n"
     ]
    },
    {
     "name": "stderr",
     "output_type": "stream",
     "text": [
      "\r\n",
      " 56%|████████████████████████████████████████████████████▏                                        | 162/289 [11:18<08:45,  4.14s/it]"
     ]
    },
    {
     "name": "stdout",
     "output_type": "stream",
     "text": [
      "Visit the Krusteaz Store\n",
      "['Grocery & Gourmet Food', 'Pantry Staples', 'Cooking & Baking', 'Baking Mixes', 'Cakes']\n",
      "162\n",
      "https://www.amazon.com/dp/B01NCF5ULG\n"
     ]
    },
    {
     "name": "stderr",
     "output_type": "stream",
     "text": [
      "\r\n",
      " 56%|████████████████████████████████████████████████████▍                                        | 163/289 [11:22<08:40,  4.13s/it]"
     ]
    },
    {
     "name": "stdout",
     "output_type": "stream",
     "text": [
      "Visit the Yellowbird Foods Store\n",
      "['Grocery & Gourmet Food', 'Pantry Staples', 'Sauces, Gravies & Marinades', 'Hot Sauce']\n",
      "163\n",
      "https://www.amazon.com/dp/B08KFQLHP8\n"
     ]
    },
    {
     "name": "stderr",
     "output_type": "stream",
     "text": [
      "\r\n",
      " 57%|████████████████████████████████████████████████████▊                                        | 164/289 [11:26<08:29,  4.07s/it]"
     ]
    },
    {
     "name": "stdout",
     "output_type": "stream",
     "text": [
      "Brand: LookOn\n",
      "['Grocery & Gourmet Food', 'Snacks & Sweets', 'Chocolate Candy', 'Assortment Boxes']\n",
      "164\n",
      "https://www.amazon.com/dp/B00KLS26GW\n"
     ]
    },
    {
     "name": "stderr",
     "output_type": "stream",
     "text": [
      "\r\n",
      " 57%|█████████████████████████████████████████████████████                                        | 165/289 [11:30<07:57,  3.85s/it]"
     ]
    },
    {
     "name": "stdout",
     "output_type": "stream",
     "text": [
      "Visit the Snyder's of Hanover Store\n",
      "['Grocery & Gourmet Food', 'Breads & Bakery', 'Breads', 'Pretzels']\n",
      "165\n",
      "https://www.amazon.com/dp/B00CHU4Q6A\n"
     ]
    },
    {
     "name": "stderr",
     "output_type": "stream",
     "text": [
      "\r\n",
      " 57%|█████████████████████████████████████████████████████▍                                       | 166/289 [11:33<07:22,  3.60s/it]"
     ]
    },
    {
     "name": "stdout",
     "output_type": "stream",
     "text": [
      "Visit the Kraft Store\n",
      "['Grocery & Gourmet Food', 'Dairy, Eggs & Plant-Based Alternatives', 'Cheese', 'American']\n",
      "166\n",
      "https://www.amazon.com/dp/B07WW9WFGF\n"
     ]
    },
    {
     "name": "stderr",
     "output_type": "stream",
     "text": [
      "\r\n",
      " 58%|█████████████████████████████████████████████████████▋                                       | 167/289 [11:36<07:20,  3.61s/it]"
     ]
    },
    {
     "name": "stdout",
     "output_type": "stream",
     "text": [
      "Visit the Krusteaz Store\n",
      "['Grocery & Gourmet Food', 'Pantry Staples', 'Cooking & Baking', 'Baking Mixes', 'Cornbread']\n",
      "167\n",
      "https://www.amazon.com/dp/B00MDY23JW\n"
     ]
    },
    {
     "name": "stderr",
     "output_type": "stream",
     "text": [
      "\r\n",
      " 58%|██████████████████████████████████████████████████████                                       | 168/289 [11:40<07:15,  3.60s/it]"
     ]
    },
    {
     "name": "stdout",
     "output_type": "stream",
     "text": [
      "Visit the WISCONSIN'S BEST and WISCONSIN CHEESE COMPANY Store\n",
      "['Grocery & Gourmet Food', 'Food & Beverage Gifts', 'Cheese & Charcuterie Gifts']\n",
      "168\n",
      "https://www.amazon.com/dp/B07D7HJGRL\n"
     ]
    },
    {
     "name": "stderr",
     "output_type": "stream",
     "text": [
      "\r\n",
      " 58%|██████████████████████████████████████████████████████▍                                      | 169/289 [11:44<07:24,  3.70s/it]"
     ]
    },
    {
     "name": "stdout",
     "output_type": "stream",
     "text": [
      "Visit the Cabot Store\n",
      "['Grocery & Gourmet Food', 'Dairy, Eggs & Plant-Based Alternatives', 'Cheese']\n",
      "169\n",
      "https://www.amazon.com/dp/B07D6RK6XM\n",
      "Visit the Knorr Store\n"
     ]
    },
    {
     "name": "stderr",
     "output_type": "stream",
     "text": [
      "\r\n",
      " 59%|██████████████████████████████████████████████████████▋                                      | 170/289 [11:48<07:27,  3.76s/it]"
     ]
    },
    {
     "name": "stdout",
     "output_type": "stream",
     "text": [
      "['Grocery & Gourmet Food', 'Pantry Staples', 'Canned, Jarred & Packaged Foods', 'Packaged Meals & Side Dishes', 'Rice Dishes', 'Seasoned Rice']\n",
      "170\n",
      "https://www.amazon.com/dp/B08KH64GYC\n"
     ]
    },
    {
     "name": "stderr",
     "output_type": "stream",
     "text": [
      "\r\n",
      " 59%|███████████████████████████████████████████████████████                                      | 171/289 [11:51<07:00,  3.56s/it]"
     ]
    },
    {
     "name": "stdout",
     "output_type": "stream",
     "text": [
      "Visit the Tajin Store\n",
      "['Grocery & Gourmet Food', 'Pantry Staples', 'Herbs, Spices & Seasonings', 'Mixed Spices & Seasonings', 'Mexican Seasoning']\n",
      "171\n",
      "https://www.amazon.com/dp/B08665GK79\n"
     ]
    },
    {
     "name": "stderr",
     "output_type": "stream",
     "text": [
      "\r\n",
      " 60%|███████████████████████████████████████████████████████▎                                     | 172/289 [11:54<06:52,  3.53s/it]"
     ]
    },
    {
     "name": "stdout",
     "output_type": "stream",
     "text": [
      "Brand: Urban Accents\n",
      "['Grocery & Gourmet Food', 'Pantry Staples', 'Herbs, Spices & Seasonings', 'Mixed Spices & Seasonings', 'Mexican Seasoning']\n",
      "172\n",
      "https://www.amazon.com/dp/B08BWCW8L1\n"
     ]
    },
    {
     "name": "stderr",
     "output_type": "stream",
     "text": [
      "\r\n",
      " 60%|███████████████████████████████████████████████████████▋                                     | 173/289 [11:58<06:42,  3.47s/it]"
     ]
    },
    {
     "name": "stdout",
     "output_type": "stream",
     "text": [
      "Visit the MagicWater Supply Store\n",
      "['Health & Household', 'Stationery & Gift Wrapping Supplies', 'Gift Wrapping Supplies', 'Gift Wrap Crinkle & Filler Paper']\n",
      "173\n",
      "https://www.amazon.com/dp/B0BNMFD7Z8\n"
     ]
    },
    {
     "name": "stderr",
     "output_type": "stream",
     "text": [
      "\r\n",
      " 60%|███████████████████████████████████████████████████████▉                                     | 174/289 [12:03<07:47,  4.06s/it]"
     ]
    },
    {
     "name": "stdout",
     "output_type": "stream",
     "text": [
      "Visit the VIXI Store\n",
      "['Grocery & Gourmet Food', 'Beverages', 'Tea', 'Tea Samplers']\n",
      "174\n",
      "https://www.amazon.com/dp/B0787XJST5\n"
     ]
    },
    {
     "name": "stderr",
     "output_type": "stream",
     "text": [
      "\r\n",
      " 61%|████████████████████████████████████████████████████████▎                                    | 175/289 [12:06<07:19,  3.86s/it]"
     ]
    },
    {
     "name": "stdout",
     "output_type": "stream",
     "text": [
      "Brand: 365 by Whole Foods Market\n",
      "['Grocery & Gourmet Food', 'Deli & Prepared Foods', 'Deli Meats & Cheeses', 'Deli-Sliced Cheeses']\n",
      "175\n",
      "https://www.amazon.com/dp/B071V59JF7\n"
     ]
    },
    {
     "name": "stderr",
     "output_type": "stream",
     "text": [
      "\r\n",
      " 61%|████████████████████████████████████████████████████████▋                                    | 176/289 [12:11<07:52,  4.18s/it]"
     ]
    },
    {
     "name": "stdout",
     "output_type": "stream",
     "text": [
      "Brand: Cabot Creamery\n",
      "['Grocery & Gourmet Food', 'Dairy, Eggs & Plant-Based Alternatives', 'Cheese', 'Cheddar']\n",
      "176\n",
      "https://www.amazon.com/dp/B006GCMI5Q\n"
     ]
    },
    {
     "name": "stderr",
     "output_type": "stream",
     "text": [
      "\r\n",
      " 61%|████████████████████████████████████████████████████████▉                                    | 177/289 [12:15<07:40,  4.12s/it]"
     ]
    },
    {
     "name": "stdout",
     "output_type": "stream",
     "text": [
      "Visit the Benson's Gourmet Seasonings Store\n",
      "['Grocery & Gourmet Food', 'Pantry Staples', 'Herbs, Spices & Seasonings', 'Salt & Salt Substitutes', 'Salt Substitutes']\n",
      "177\n",
      "https://www.amazon.com/dp/B09H3GX1WN\n"
     ]
    },
    {
     "name": "stderr",
     "output_type": "stream",
     "text": [
      "\r\n",
      " 62%|█████████████████████████████████████████████████████████▎                                   | 178/289 [12:19<07:33,  4.08s/it]"
     ]
    },
    {
     "name": "stdout",
     "output_type": "stream",
     "text": [
      "Visit the Flavor God Store\n",
      "['Grocery & Gourmet Food', 'Pantry Staples', 'Herbs, Spices & Seasonings', 'Mixed Spices & Seasonings', 'Mexican Seasoning']\n",
      "178\n",
      "https://www.amazon.com/dp/B078GVY659\n"
     ]
    },
    {
     "name": "stderr",
     "output_type": "stream",
     "text": [
      "\r\n",
      " 62%|█████████████████████████████████████████████████████████▌                                   | 179/289 [12:22<06:58,  3.81s/it]"
     ]
    },
    {
     "name": "stdout",
     "output_type": "stream",
     "text": [
      "Visit the Alessi Store\n",
      "['Grocery & Gourmet Food', 'Pantry Staples', 'Canned, Jarred & Packaged Foods', 'Packaged Meals & Side Dishes', 'Rice Dishes', 'Risotto']\n",
      "179\n",
      "https://www.amazon.com/dp/B09H5FTZH9\n"
     ]
    },
    {
     "name": "stderr",
     "output_type": "stream",
     "text": [
      "\r\n",
      " 62%|█████████████████████████████████████████████████████████▉                                   | 180/289 [12:26<06:34,  3.62s/it]"
     ]
    },
    {
     "name": "stdout",
     "output_type": "stream",
     "text": [
      "Brand: TJ's\n",
      "['Grocery & Gourmet Food', 'Pantry Staples', 'Herbs, Spices & Seasonings', 'Mixed Spices & Seasonings']\n",
      "180\n",
      "https://www.amazon.com/dp/B000Q5QQ3O\n"
     ]
    },
    {
     "name": "stderr",
     "output_type": "stream",
     "text": [
      "\r\n",
      " 63%|██████████████████████████████████████████████████████████▏                                  | 181/289 [12:29<06:21,  3.53s/it]"
     ]
    },
    {
     "name": "stdout",
     "output_type": "stream",
     "text": [
      "Brand: CLASSICO\n",
      "['Grocery & Gourmet Food', 'Pantry Staples', 'Canned, Jarred & Packaged Foods', 'Vegetables', 'Tomatoes', 'Tomato Sauce']\n",
      "181\n",
      "https://www.amazon.com/dp/B00BEQP1TY\n"
     ]
    },
    {
     "name": "stderr",
     "output_type": "stream",
     "text": [
      "\r\n",
      " 63%|██████████████████████████████████████████████████████████▌                                  | 182/289 [12:33<06:26,  3.61s/it]"
     ]
    },
    {
     "name": "stdout",
     "output_type": "stream",
     "text": [
      "Visit the Spice Hunter Store\n",
      "['Grocery & Gourmet Food', 'Pantry Staples', 'Herbs, Spices & Seasonings', 'Mixed Spices & Seasonings', 'Mexican Seasoning']\n",
      "182\n",
      "https://www.amazon.com/dp/B00L5FY0HS\n"
     ]
    },
    {
     "name": "stderr",
     "output_type": "stream",
     "text": [
      "\r\n",
      " 63%|██████████████████████████████████████████████████████████▉                                  | 183/289 [12:36<06:16,  3.55s/it]"
     ]
    },
    {
     "name": "stdout",
     "output_type": "stream",
     "text": [
      "Brand: Rice-A-Roni\n",
      "['Grocery & Gourmet Food', 'Pantry Staples', 'Canned, Jarred & Packaged Foods', 'Packaged Meals & Side Dishes', 'Rice Dishes', 'Seasoned Rice']\n",
      "183\n",
      "https://www.amazon.com/dp/B07VYPBMWP\n"
     ]
    },
    {
     "name": "stderr",
     "output_type": "stream",
     "text": [
      "\r\n",
      " 64%|███████████████████████████████████████████████████████████▏                                 | 184/289 [12:40<06:28,  3.70s/it]"
     ]
    },
    {
     "name": "stdout",
     "output_type": "stream",
     "text": [
      "Visit the Happy Belly Store\n",
      "['Grocery & Gourmet Food', 'Pantry Staples', 'Herbs, Spices & Seasonings', 'Mixed Spices & Seasonings', 'Italian Seasoning']\n",
      "184\n",
      "https://www.amazon.com/dp/B09RSNZVS5\n"
     ]
    },
    {
     "name": "stderr",
     "output_type": "stream",
     "text": [
      "\r\n",
      " 64%|███████████████████████████████████████████████████████████▌                                 | 185/289 [12:43<06:04,  3.51s/it]"
     ]
    },
    {
     "name": "stdout",
     "output_type": "stream",
     "text": [
      "Visit the Progresso Store\n",
      "['Grocery & Gourmet Food', 'Pantry Staples', 'Canned, Jarred & Packaged Foods', 'Packaged Meals & Side Dishes', 'Dry Soup Mixes']\n",
      "185\n",
      "https://www.amazon.com/dp/B00BZPDYLG\n"
     ]
    },
    {
     "name": "stderr",
     "output_type": "stream",
     "text": [
      "\r\n",
      " 64%|███████████████████████████████████████████████████████████▊                                 | 186/289 [12:48<06:25,  3.75s/it]"
     ]
    },
    {
     "name": "stdout",
     "output_type": "stream",
     "text": [
      "Visit the Rao's Homemade Store\n",
      "['Grocery & Gourmet Food', 'Pantry Staples', 'Sauces, Gravies & Marinades', 'Sauces', 'Italian', 'Marinara']\n",
      "186\n",
      "https://www.amazon.com/dp/B00I8GO0ZO\n",
      "Visit the Knorr Store\n"
     ]
    },
    {
     "name": "stderr",
     "output_type": "stream",
     "text": [
      "\r\n",
      " 65%|████████████████████████████████████████████████████████████▏                                | 187/289 [12:51<06:15,  3.68s/it]"
     ]
    },
    {
     "name": "stdout",
     "output_type": "stream",
     "text": [
      "['Grocery & Gourmet Food', 'Pantry Staples', 'Canned, Jarred & Packaged Foods', 'Packaged Meals & Side Dishes', 'Rice Dishes', 'Seasoned Rice']\n",
      "187\n",
      "https://www.amazon.com/dp/B08VS1L4M1\n"
     ]
    },
    {
     "name": "stderr",
     "output_type": "stream",
     "text": [
      "\r\n",
      " 65%|████████████████████████████████████████████████████████████▍                                | 188/289 [12:55<06:08,  3.65s/it]"
     ]
    },
    {
     "name": "stdout",
     "output_type": "stream",
     "text": [
      "Brand: Suponey\n",
      "['Health & Household', 'Stationery & Gift Wrapping Supplies', 'Gift Wrapping Supplies', 'Gift Wrap Crinkle & Filler Paper']\n",
      "188\n",
      "https://www.amazon.com/dp/B008UW9KHY\n"
     ]
    },
    {
     "name": "stderr",
     "output_type": "stream",
     "text": [
      "\r\n",
      " 65%|████████████████████████████████████████████████████████████▊                                | 189/289 [12:58<05:47,  3.47s/it]"
     ]
    },
    {
     "name": "stdout",
     "output_type": "stream",
     "text": [
      "Visit the Chata Store\n",
      "['Grocery & Gourmet Food', 'Pantry Staples', 'Canned, Jarred & Packaged Foods', 'Meat, Poultry & Seafood', 'Beef']\n",
      "189\n",
      "https://www.amazon.com/dp/B01N4RRXZC\n"
     ]
    },
    {
     "name": "stderr",
     "output_type": "stream",
     "text": [
      "\r\n",
      " 66%|█████████████████████████████████████████████████████████████▏                               | 190/289 [13:01<05:47,  3.51s/it]"
     ]
    },
    {
     "name": "stdout",
     "output_type": "stream",
     "text": [
      "Brand: Mighty Gadget\n",
      "['Health & Household', 'Stationery & Gift Wrapping Supplies', 'Gift Wrapping Supplies', 'Gift Wrap Crinkle & Filler Paper']\n",
      "190\n",
      "https://www.amazon.com/dp/B078PX8YWG\n"
     ]
    },
    {
     "name": "stderr",
     "output_type": "stream",
     "text": [
      "\r\n",
      " 66%|█████████████████████████████████████████████████████████████▍                               | 191/289 [13:04<05:28,  3.35s/it]"
     ]
    },
    {
     "name": "stdout",
     "output_type": "stream",
     "text": [
      "Brand: Laughing Cow\n",
      "['Grocery & Gourmet Food', 'Dairy, Eggs & Plant-Based Alternatives', 'Cheese', 'Gouda']\n",
      "191\n",
      "https://www.amazon.com/dp/B01FA1BMSW\n"
     ]
    },
    {
     "name": "stderr",
     "output_type": "stream",
     "text": [
      "\r\n",
      " 66%|█████████████████████████████████████████████████████████████▊                               | 192/289 [13:08<05:49,  3.61s/it]"
     ]
    },
    {
     "name": "stdout",
     "output_type": "stream",
     "text": [
      "Visit the CATTLEMAN'S CUT Store\n",
      "['Grocery & Gourmet Food', 'Snacks & Sweets', 'Snack Foods', 'Meat Snacks', 'Jerky']\n",
      "192\n",
      "https://www.amazon.com/dp/B01J4IV12E\n"
     ]
    },
    {
     "name": "stderr",
     "output_type": "stream",
     "text": [
      "\r\n",
      " 67%|██████████████████████████████████████████████████████████████                               | 193/289 [13:12<05:49,  3.64s/it]"
     ]
    },
    {
     "name": "stdout",
     "output_type": "stream",
     "text": [
      "Brand: DUKE'S\n",
      "['Grocery & Gourmet Food', 'Snacks & Sweets', 'Snack Foods', 'Meat Snacks', 'Sausage Snacks']\n",
      "193\n",
      "https://www.amazon.com/dp/B08YHLWN4B\n"
     ]
    },
    {
     "name": "stderr",
     "output_type": "stream",
     "text": [
      "\r\n",
      " 67%|██████████████████████████████████████████████████████████████▍                              | 194/289 [13:16<05:42,  3.61s/it]"
     ]
    },
    {
     "name": "stdout",
     "output_type": "stream",
     "text": [
      "Brand: Perfectware\n",
      "['Grocery & Gourmet Food', 'Snacks & Sweets', 'Snack Foods', 'Popcorn', 'Unpopped']\n",
      "194\n",
      "https://www.amazon.com/dp/B082WLZGTH\n"
     ]
    },
    {
     "name": "stderr",
     "output_type": "stream",
     "text": [
      "\r\n",
      " 67%|██████████████████████████████████████████████████████████████▊                              | 195/289 [13:19<05:39,  3.62s/it]"
     ]
    },
    {
     "name": "stdout",
     "output_type": "stream",
     "text": [
      "Brand: Coyote Country Seasoning Co.\n",
      "['Grocery & Gourmet Food', 'Pantry Staples', 'Soups, Stocks & Broths']\n",
      "195\n",
      "https://www.amazon.com/dp/B0873YN34V\n"
     ]
    },
    {
     "name": "stderr",
     "output_type": "stream",
     "text": [
      "\r\n",
      " 68%|███████████████████████████████████████████████████████████████                              | 196/289 [13:23<05:47,  3.74s/it]"
     ]
    },
    {
     "name": "stdout",
     "output_type": "stream",
     "text": [
      "Brand: GGEZ\n",
      "['Grocery & Gourmet Food', 'Pantry Staples', 'Canned, Jarred & Packaged Foods', 'Packaged Meals & Side Dishes', 'Macaroni & Cheese']\n",
      "196\n",
      "https://www.amazon.com/dp/B07YCTY9DV\n"
     ]
    },
    {
     "name": "stderr",
     "output_type": "stream",
     "text": [
      "\r\n",
      " 68%|███████████████████████████████████████████████████████████████▍                             | 197/289 [13:27<05:36,  3.66s/it]"
     ]
    },
    {
     "name": "stdout",
     "output_type": "stream",
     "text": [
      "Brand: Sutas\n",
      "['Grocery & Gourmet Food', 'Dairy, Eggs & Plant-Based Alternatives', 'Cheese']\n",
      "197\n",
      "https://www.amazon.com/dp/B092Y6T7L9\n"
     ]
    },
    {
     "name": "stderr",
     "output_type": "stream",
     "text": [
      "\r\n",
      " 69%|███████████████████████████████████████████████████████████████▋                             | 198/289 [13:31<05:33,  3.66s/it]"
     ]
    },
    {
     "name": "stdout",
     "output_type": "stream",
     "text": [
      "Visit the Judee's Gluten Free Store\n",
      "['Grocery & Gourmet Food', 'Dairy, Eggs & Plant-Based Alternatives', 'Cheese', 'Swiss']\n",
      "198\n",
      "https://www.amazon.com/dp/B0BQJWJ1FK\n"
     ]
    },
    {
     "name": "stderr",
     "output_type": "stream",
     "text": [
      "\r\n",
      " 69%|████████████████████████████████████████████████████████████████                             | 199/289 [13:34<05:13,  3.49s/it]"
     ]
    },
    {
     "name": "stdout",
     "output_type": "stream",
     "text": [
      "Visit the Hoosier Hill Farm Store\n",
      "['Grocery & Gourmet Food', 'Dairy, Eggs & Plant-Based Alternatives', 'Cheese', 'Cheddar']\n",
      "199\n",
      "https://www.amazon.com/dp/B019QJBLQC\n"
     ]
    },
    {
     "name": "stderr",
     "output_type": "stream",
     "text": [
      "\r\n",
      " 69%|████████████████████████████████████████████████████████████████▎                            | 200/289 [13:37<05:01,  3.39s/it]"
     ]
    },
    {
     "name": "stdout",
     "output_type": "stream",
     "text": [
      "Brand: OLLI SALUMERIA\n",
      "['Grocery & Gourmet Food', 'Deli & Prepared Foods', 'Deli Meats & Cheeses', 'Prepackaged Deli Meats', 'Salami']\n",
      "200\n",
      "https://www.amazon.com/dp/B07814F2DQ\n"
     ]
    },
    {
     "name": "stderr",
     "output_type": "stream",
     "text": [
      "\r\n",
      " 70%|████████████████████████████████████████████████████████████████▋                            | 201/289 [13:41<05:06,  3.49s/it]"
     ]
    },
    {
     "name": "stdout",
     "output_type": "stream",
     "text": [
      "Visit the Jarlsberg Store\n",
      "['Grocery & Gourmet Food', 'Deli & Prepared Foods', 'Deli Meats & Cheeses', 'Deli-Sliced Cheeses']\n",
      "201\n",
      "https://www.amazon.com/dp/B07Q479S3B\n",
      "Brand: Kraft Deluxe\n"
     ]
    },
    {
     "name": "stderr",
     "output_type": "stream",
     "text": [
      "\r\n",
      " 70%|█████████████████████████████████████████████████████████████████                            | 202/289 [13:44<05:14,  3.62s/it]"
     ]
    },
    {
     "name": "stdout",
     "output_type": "stream",
     "text": [
      "['Grocery & Gourmet Food', 'Pantry Staples', 'Canned, Jarred & Packaged Foods', 'Packaged Meals & Side Dishes', 'Macaroni & Cheese']\n",
      "202\n",
      "https://www.amazon.com/dp/B0C1Y2NRKQ\n"
     ]
    },
    {
     "name": "stderr",
     "output_type": "stream",
     "text": [
      "\r\n",
      " 70%|█████████████████████████████████████████████████████████████████▎                           | 203/289 [13:48<04:57,  3.46s/it]"
     ]
    },
    {
     "name": "stdout",
     "output_type": "stream",
     "text": [
      "Visit the Kraft Store\n",
      "['Grocery & Gourmet Food', 'Deli & Prepared Foods']\n",
      "203\n",
      "https://www.amazon.com/dp/B0C6HHFW7V\n"
     ]
    },
    {
     "name": "stderr",
     "output_type": "stream",
     "text": [
      "\r\n",
      " 71%|█████████████████████████████████████████████████████████████████▋                           | 204/289 [13:52<05:07,  3.62s/it]"
     ]
    },
    {
     "name": "stdout",
     "output_type": "stream",
     "text": [
      "Visit the BETRULIGHT Store\n",
      "['Grocery & Gourmet Food', 'Dairy, Eggs & Plant-Based Alternatives', 'Cheese', 'Parmesan']\n",
      "204\n",
      "https://www.amazon.com/dp/B00B8BP2AI\n"
     ]
    },
    {
     "name": "stderr",
     "output_type": "stream",
     "text": [
      "\r\n",
      " 71%|█████████████████████████████████████████████████████████████████▉                           | 205/289 [13:56<05:17,  3.77s/it]"
     ]
    },
    {
     "name": "stdout",
     "output_type": "stream",
     "text": [
      "Visit the Kraft Store\n",
      "['Grocery & Gourmet Food', 'Pantry Staples', 'Condiments & Salad Dressings', 'Salad Dressings', 'Blue Cheese']\n",
      "205\n",
      "https://www.amazon.com/dp/B0B94X9BZV\n"
     ]
    },
    {
     "name": "stderr",
     "output_type": "stream",
     "text": [
      "\r\n",
      " 71%|██████████████████████████████████████████████████████████████████▎                          | 206/289 [14:00<05:29,  3.97s/it]"
     ]
    },
    {
     "name": "stdout",
     "output_type": "stream",
     "text": [
      "Visit the Frankford Store\n",
      "['Grocery & Gourmet Food', 'Snacks & Sweets', 'Candy & Chocolate', 'Gummy Candy']\n",
      "206\n",
      "https://www.amazon.com/dp/B08N9Q24M9\n",
      "Brand: Mueller Austria\n",
      "['Home & Kitchen', 'Kitchen & Dining', 'Kitchen Utensils & Gadgets', 'Graters, Peelers & Slicers', 'Mandolines & Slicers', 'Egg Slicers']\n"
     ]
    },
    {
     "name": "stderr",
     "output_type": "stream",
     "text": [
      "\r\n",
      " 72%|██████████████████████████████████████████████████████████████████▌                          | 207/289 [14:05<05:51,  4.28s/it]"
     ]
    },
    {
     "name": "stdout",
     "output_type": "stream",
     "text": [
      "207\n",
      "https://www.amazon.com/dp/B000NOGKN4\n"
     ]
    },
    {
     "name": "stderr",
     "output_type": "stream",
     "text": [
      "\r\n",
      " 72%|██████████████████████████████████████████████████████████████████▉                          | 208/289 [14:09<05:42,  4.23s/it]"
     ]
    },
    {
     "name": "stdout",
     "output_type": "stream",
     "text": [
      "Brand: produce aisle\n",
      "['Grocery & Gourmet Food', 'Produce', 'Fresh Fruits', 'Avocados']\n",
      "208\n",
      "https://www.amazon.com/dp/B07P9C3V1R\n"
     ]
    },
    {
     "name": "stderr",
     "output_type": "stream",
     "text": [
      "\r\n",
      " 72%|███████████████████████████████████████████████████████████████████▎                         | 209/289 [14:14<05:41,  4.27s/it]"
     ]
    },
    {
     "name": "stdout",
     "output_type": "stream",
     "text": [
      "Brand: Cabot\n",
      "no cat found\n",
      "209\n",
      "https://www.amazon.com/dp/B00BGCA7KE\n"
     ]
    },
    {
     "name": "stderr",
     "output_type": "stream",
     "text": [
      "\r\n",
      " 73%|███████████████████████████████████████████████████████████████████▌                         | 210/289 [14:18<05:29,  4.18s/it]"
     ]
    },
    {
     "name": "stdout",
     "output_type": "stream",
     "text": [
      "Visit the Hometown Evolution, Inc. Store\n",
      "['Tools & Home Improvement', 'Lighting & Ceiling Fans', 'Ceiling Lights', 'Pendant Lights']\n",
      "210\n",
      "https://www.amazon.com/dp/B0894NDZQ6\n",
      "Visit the GOOTHY Store\n"
     ]
    },
    {
     "name": "stderr",
     "output_type": "stream",
     "text": [
      "\r\n",
      " 73%|███████████████████████████████████████████████████████████████████▉                         | 211/289 [14:22<05:25,  4.18s/it]"
     ]
    },
    {
     "name": "stdout",
     "output_type": "stream",
     "text": [
      "['Tools & Home Improvement', 'Lighting & Ceiling Fans', 'Outdoor Lighting', 'String Lights']\n",
      "211\n",
      "https://www.amazon.com/dp/B001TJOO9O\n"
     ]
    },
    {
     "name": "stderr",
     "output_type": "stream",
     "text": [
      "\r\n",
      " 73%|████████████████████████████████████████████████████████████████████▏                        | 212/289 [14:25<04:50,  3.77s/it]"
     ]
    },
    {
     "name": "stdout",
     "output_type": "stream",
     "text": [
      "Brand: Point Reyes Cheese\n",
      "['Grocery & Gourmet Food', 'Dairy, Eggs & Plant-Based Alternatives', 'Cheese', 'Blue Cheese']\n",
      "212\n",
      "https://www.amazon.com/dp/B09J1NWLJY\n"
     ]
    },
    {
     "name": "stderr",
     "output_type": "stream",
     "text": [
      "\r\n",
      " 74%|████████████████████████████████████████████████████████████████████▌                        | 213/289 [14:28<04:38,  3.67s/it]"
     ]
    },
    {
     "name": "stdout",
     "output_type": "stream",
     "text": [
      "Visit the Smartfood Store\n",
      "['Grocery & Gourmet Food', 'Snacks & Sweets', 'Snack Foods', 'Popcorn', 'Popped']\n",
      "213\n",
      "https://www.amazon.com/dp/B0000VORH6\n"
     ]
    },
    {
     "name": "stderr",
     "output_type": "stream",
     "text": [
      "\r\n",
      " 74%|████████████████████████████████████████████████████████████████████▊                        | 214/289 [14:34<05:36,  4.48s/it]"
     ]
    },
    {
     "name": "stdout",
     "output_type": "stream",
     "text": [
      "Visit the igourmet Store\n",
      "['Grocery & Gourmet Food', 'Food & Beverage Gifts', 'Cheese & Charcuterie Gifts']\n",
      "214\n",
      "https://www.amazon.com/dp/B07FX3H5T4\n"
     ]
    },
    {
     "name": "stderr",
     "output_type": "stream",
     "text": [
      "\r\n",
      " 74%|█████████████████████████████████████████████████████████████████████▏                       | 215/289 [14:38<05:23,  4.38s/it]"
     ]
    },
    {
     "name": "stdout",
     "output_type": "stream",
     "text": [
      "Brand: Buf Creamery\n",
      "['Grocery & Gourmet Food', 'Dairy, Eggs & Plant-Based Alternatives', 'Cheese', 'Mozzarella']\n",
      "215\n",
      "https://www.amazon.com/dp/B01JZ7851O\n"
     ]
    },
    {
     "name": "stderr",
     "output_type": "stream",
     "text": [
      "\r\n",
      " 75%|█████████████████████████████████████████████████████████████████████▌                       | 216/289 [14:42<04:53,  4.02s/it]"
     ]
    },
    {
     "name": "stdout",
     "output_type": "stream",
     "text": [
      "Brand: Polly-O\n",
      "['Grocery & Gourmet Food', 'Dairy, Eggs & Plant-Based Alternatives', 'Cheese', 'Mozzarella']\n",
      "216\n",
      "https://www.amazon.com/dp/B00B9MK1UC\n"
     ]
    },
    {
     "name": "stderr",
     "output_type": "stream",
     "text": [
      "\r\n",
      " 75%|█████████████████████████████████████████████████████████████████████▊                       | 217/289 [14:46<04:48,  4.01s/it]"
     ]
    },
    {
     "name": "stdout",
     "output_type": "stream",
     "text": [
      "Brand: WinCrest BulkFoods\n",
      "['Grocery & Gourmet Food', 'Pantry Staples', 'Cooking & Baking', 'Powdered Cheese']\n",
      "217\n",
      "https://www.amazon.com/dp/B0B647FZ81\n"
     ]
    },
    {
     "name": "stderr",
     "output_type": "stream",
     "text": [
      "\r\n",
      " 75%|██████████████████████████████████████████████████████████████████████▏                      | 218/289 [14:49<04:32,  3.84s/it]"
     ]
    },
    {
     "name": "stdout",
     "output_type": "stream",
     "text": [
      "Visit the CHEESE BROTHERS INC Store\n",
      "['Grocery & Gourmet Food', 'Dairy, Eggs & Plant-Based Alternatives', 'Cheese', 'Cheese Curds']\n",
      "218\n",
      "https://www.amazon.com/dp/B08X1NLCMF\n"
     ]
    },
    {
     "name": "stderr",
     "output_type": "stream",
     "text": [
      "\r\n",
      " 76%|██████████████████████████████████████████████████████████████████████▍                      | 219/289 [14:52<04:09,  3.56s/it]"
     ]
    },
    {
     "name": "stdout",
     "output_type": "stream",
     "text": [
      "Brand: Sargento\n",
      "['Grocery & Gourmet Food', 'Dairy, Eggs & Plant-Based Alternatives', 'Cheese', 'Swiss']\n",
      "219\n",
      "https://www.amazon.com/dp/B099ZGF1GR\n"
     ]
    },
    {
     "name": "stderr",
     "output_type": "stream",
     "text": [
      "\r\n",
      " 76%|██████████████████████████████████████████████████████████████████████▊                      | 220/289 [14:56<04:21,  3.78s/it]"
     ]
    },
    {
     "name": "stdout",
     "output_type": "stream",
     "text": [
      "Visit the Savory Spice Shop Store\n",
      "['Grocery & Gourmet Food', 'Pantry Staples', 'Herbs, Spices & Seasonings', 'Mixed Spices & Seasonings', 'Mexican Seasoning']\n",
      "220\n",
      "https://www.amazon.com/dp/B01CI3UIIU\n"
     ]
    },
    {
     "name": "stderr",
     "output_type": "stream",
     "text": [
      "\r\n",
      " 76%|███████████████████████████████████████████████████████████████████████                      | 221/289 [15:00<04:16,  3.77s/it]"
     ]
    },
    {
     "name": "stdout",
     "output_type": "stream",
     "text": [
      "Visit the The New Primal Store\n",
      "['Grocery & Gourmet Food', 'Snacks & Sweets', 'Snack Foods', 'Meat Snacks', 'Jerky']\n",
      "221\n",
      "https://www.amazon.com/dp/B0BY3J7TNZ\n"
     ]
    },
    {
     "name": "stderr",
     "output_type": "stream",
     "text": [
      "\r\n",
      " 77%|███████████████████████████████████████████████████████████████████████▍                     | 222/289 [15:03<04:01,  3.61s/it]"
     ]
    },
    {
     "name": "stdout",
     "output_type": "stream",
     "text": [
      "Visit the Cheddies Store\n",
      "['Grocery & Gourmet Food', 'Snacks & Sweets', 'Snack Foods', 'Crackers', 'Wheat']\n",
      "222\n",
      "https://www.amazon.com/dp/B0BXQW6Q4S\n",
      "Visit the Cheddies Store\n",
      "['Grocery & Gourmet Food', 'Snacks & Sweets', 'Snack Foods', 'Crackers', 'Wheat']\n"
     ]
    },
    {
     "name": "stderr",
     "output_type": "stream",
     "text": [
      "\r\n",
      " 77%|███████████████████████████████████████████████████████████████████████▊                     | 223/289 [15:07<04:00,  3.65s/it]"
     ]
    },
    {
     "name": "stdout",
     "output_type": "stream",
     "text": [
      "223\n",
      "https://www.amazon.com/dp/B0789W91DR\n"
     ]
    },
    {
     "name": "stderr",
     "output_type": "stream",
     "text": [
      "\r\n",
      " 78%|████████████████████████████████████████████████████████████████████████                     | 224/289 [15:10<03:53,  3.59s/it]"
     ]
    },
    {
     "name": "stdout",
     "output_type": "stream",
     "text": [
      "Brand: IL GIARDINO\n",
      "['Grocery & Gourmet Food', 'Dairy, Eggs & Plant-Based Alternatives', 'Cheese', 'Mozzarella']\n",
      "224\n",
      "https://www.amazon.com/dp/B00I9VCLOU\n"
     ]
    },
    {
     "name": "stderr",
     "output_type": "stream",
     "text": [
      "\r\n",
      " 78%|████████████████████████████████████████████████████████████████████████▍                    | 225/289 [15:14<03:53,  3.65s/it]"
     ]
    },
    {
     "name": "stdout",
     "output_type": "stream",
     "text": [
      "Brand: Ro-Tel\n",
      "['Grocery & Gourmet Food', 'Pantry Staples', 'Canned, Jarred & Packaged Foods', 'Vegetables', 'Tomatoes', 'Diced']\n",
      "225\n",
      "https://www.amazon.com/dp/B095TLBG4J\n",
      "Visit the MR BING Store\n",
      "['Grocery & Gourmet Food', 'Pantry Staples', 'Sauces, Gravies & Marinades', 'Sauces', 'Asian', 'Chile Paste']\n"
     ]
    },
    {
     "name": "stderr",
     "output_type": "stream",
     "text": [
      "\r\n",
      " 78%|████████████████████████████████████████████████████████████████████████▋                    | 226/289 [15:18<03:53,  3.70s/it]"
     ]
    },
    {
     "name": "stdout",
     "output_type": "stream",
     "text": [
      "226\n",
      "https://www.amazon.com/dp/B082YV2N27\n"
     ]
    },
    {
     "name": "stderr",
     "output_type": "stream",
     "text": [
      "\r\n",
      " 79%|█████████████████████████████████████████████████████████████████████████                    | 227/289 [15:22<04:02,  3.91s/it]"
     ]
    },
    {
     "name": "stdout",
     "output_type": "stream",
     "text": [
      "Brand: Cheetos\n",
      "['Grocery & Gourmet Food', 'Snacks & Sweets', 'Snack Foods', 'Puffed Snacks']\n",
      "227\n",
      "https://www.amazon.com/dp/B000T9WLUY\n"
     ]
    },
    {
     "name": "stderr",
     "output_type": "stream",
     "text": [
      "\r\n",
      " 79%|█████████████████████████████████████████████████████████████████████████▎                   | 228/289 [15:26<03:56,  3.88s/it]"
     ]
    },
    {
     "name": "stdout",
     "output_type": "stream",
     "text": [
      "Visit the Diet Coke Store\n",
      "['Grocery & Gourmet Food', 'Beverages', 'Bottled Beverages, Water & Drink Mixes', 'Soft Drinks']\n",
      "228\n",
      "https://www.amazon.com/dp/B082TTZDC8\n"
     ]
    },
    {
     "name": "stderr",
     "output_type": "stream",
     "text": [
      "\r\n",
      " 79%|█████████████████████████████████████████████████████████████████████████▋                   | 229/289 [15:30<03:50,  3.84s/it]"
     ]
    },
    {
     "name": "stdout",
     "output_type": "stream",
     "text": [
      "Visit the Zwish Store\n",
      "['Health & Household', 'Stationery & Gift Wrapping Supplies', 'Gift Wrapping Supplies', 'Gift Wrap Crinkle & Filler Paper']\n",
      "229\n",
      "https://www.amazon.com/dp/B089NFH5Z9\n"
     ]
    },
    {
     "name": "stderr",
     "output_type": "stream",
     "text": [
      "\r\n",
      " 80%|██████████████████████████████████████████████████████████████████████████                   | 230/289 [15:34<03:45,  3.82s/it]"
     ]
    },
    {
     "name": "stdout",
     "output_type": "stream",
     "text": [
      "Visit the Ritz Store\n",
      "['Grocery & Gourmet Food', 'Snacks & Sweets', 'Snack Foods', 'Chips & Crisps', 'Potato']\n",
      "230\n",
      "https://www.amazon.com/dp/B0BSPJM6H2\n"
     ]
    },
    {
     "name": "stderr",
     "output_type": "stream",
     "text": [
      "\r\n",
      " 80%|██████████████████████████████████████████████████████████████████████████▎                  | 231/289 [15:38<03:39,  3.79s/it]"
     ]
    },
    {
     "name": "stdout",
     "output_type": "stream",
     "text": [
      "Visit the Mr. Tortilla Store\n",
      "['Grocery & Gourmet Food', 'Snacks & Sweets', 'Snack Foods', 'Chips & Crisps', 'Vegetable']\n",
      "231\n",
      "https://www.amazon.com/dp/B0BJY26N5V\n"
     ]
    },
    {
     "name": "stderr",
     "output_type": "stream",
     "text": [
      "\r\n",
      " 80%|██████████████████████████████████████████████████████████████████████████▋                  | 232/289 [15:41<03:39,  3.84s/it]"
     ]
    },
    {
     "name": "stdout",
     "output_type": "stream",
     "text": [
      "Visit the EATINGEVOLVED Store\n",
      "['Grocery & Gourmet Food', 'Snacks & Sweets', 'Snack Foods', 'Bars', 'High Protein']\n",
      "232\n",
      "https://www.amazon.com/dp/B08PFB2PXV\n"
     ]
    },
    {
     "name": "stderr",
     "output_type": "stream",
     "text": [
      "\r\n",
      " 81%|██████████████████████████████████████████████████████████████████████████▉                  | 233/289 [15:45<03:29,  3.73s/it]"
     ]
    },
    {
     "name": "stdout",
     "output_type": "stream",
     "text": [
      "Visit the Rhythm Superfoods Store\n",
      "['Grocery & Gourmet Food', 'Snacks & Sweets', 'Snack Foods', 'Chips & Crisps', 'Vegetable']\n",
      "233\n",
      "https://www.amazon.com/dp/B08BMQYX34\n"
     ]
    },
    {
     "name": "stderr",
     "output_type": "stream",
     "text": [
      "\r\n",
      " 81%|███████████████████████████████████████████████████████████████████████████▎                 | 234/289 [15:50<03:40,  4.02s/it]"
     ]
    },
    {
     "name": "stdout",
     "output_type": "stream",
     "text": [
      "Visit the Virginia Diner Store\n",
      "['Grocery & Gourmet Food', 'Pantry Staples', 'Cooking & Baking', 'Nuts & Seeds', 'Peanuts']\n",
      "234\n",
      "https://www.amazon.com/dp/B01D3H9JAI\n"
     ]
    },
    {
     "name": "stderr",
     "output_type": "stream",
     "text": [
      "\r\n",
      " 81%|███████████████████████████████████████████████████████████████████████████▌                 | 235/289 [15:54<03:36,  4.01s/it]"
     ]
    },
    {
     "name": "stdout",
     "output_type": "stream",
     "text": [
      "['Grocery & Gourmet Food', 'Breads & Bakery', 'Cookies', 'Shortbread']\n",
      "235\n",
      "https://www.amazon.com/dp/B084ZFB9KS\n"
     ]
    },
    {
     "name": "stderr",
     "output_type": "stream",
     "text": [
      "\r\n",
      " 82%|███████████████████████████████████████████████████████████████████████████▉                 | 236/289 [15:59<03:51,  4.37s/it]"
     ]
    },
    {
     "name": "stdout",
     "output_type": "stream",
     "text": [
      "Visit the Smartfood Store\n",
      "['Grocery & Gourmet Food', 'Snacks & Sweets', 'Snack Foods', 'Popcorn', 'Popped']\n",
      "236\n",
      "https://www.amazon.com/dp/B08Y6CQBPF\n"
     ]
    },
    {
     "name": "stderr",
     "output_type": "stream",
     "text": [
      "\r\n",
      " 82%|████████████████████████████████████████████████████████████████████████████▎                | 237/289 [16:03<03:47,  4.37s/it]"
     ]
    },
    {
     "name": "stdout",
     "output_type": "stream",
     "text": [
      "Brand: Tortillas\n",
      "['Grocery & Gourmet Food', 'Breads & Bakery', 'Breads', 'Flatbreads', 'Tortillas']\n",
      "237\n",
      "https://www.amazon.com/dp/B07CZ68JBQ\n"
     ]
    },
    {
     "name": "stderr",
     "output_type": "stream",
     "text": [
      "\r\n",
      " 82%|████████████████████████████████████████████████████████████████████████████▌                | 238/289 [16:08<03:55,  4.61s/it]"
     ]
    },
    {
     "name": "stdout",
     "output_type": "stream",
     "text": [
      "Visit the HQO HIGH QUALITY ORGANICS Store\n",
      "['Grocery & Gourmet Food', 'Pantry Staples', 'Herbs, Spices & Seasonings', 'Mixed Spices & Seasonings']\n",
      "238\n",
      "https://www.amazon.com/dp/B00V1PACXS\n",
      "Brand: Rice-A-Roni\n"
     ]
    },
    {
     "name": "stderr",
     "output_type": "stream",
     "text": [
      "\r\n",
      " 83%|████████████████████████████████████████████████████████████████████████████▉                | 239/289 [16:12<03:43,  4.46s/it]"
     ]
    },
    {
     "name": "stdout",
     "output_type": "stream",
     "text": [
      "['Grocery & Gourmet Food', 'Pantry Staples', 'Canned, Jarred & Packaged Foods', 'Packaged Meals & Side Dishes', 'Rice Dishes', 'Seasoned Rice']\n",
      "239\n",
      "https://www.amazon.com/dp/B08N2Z2Z1R\n"
     ]
    },
    {
     "name": "stderr",
     "output_type": "stream",
     "text": [
      "\r\n",
      " 83%|█████████████████████████████████████████████████████████████████████████████▏               | 240/289 [16:17<03:42,  4.54s/it]"
     ]
    },
    {
     "name": "stdout",
     "output_type": "stream",
     "text": [
      "Visit the 1400S SPICES Store\n",
      "['Grocery & Gourmet Food', 'Pantry Staples', 'Herbs, Spices & Seasonings', 'Single Herbs & Spices', 'Oregano']\n",
      "240\n",
      "https://www.amazon.com/dp/B07V8N86WB\n"
     ]
    },
    {
     "name": "stderr",
     "output_type": "stream",
     "text": [
      "\r\n",
      " 83%|█████████████████████████████████████████████████████████████████████████████▌               | 241/289 [16:23<03:52,  4.85s/it]"
     ]
    },
    {
     "name": "stdout",
     "output_type": "stream",
     "text": [
      "Visit the McCormick Store\n",
      "['Grocery & Gourmet Food', 'Pantry Staples', 'Herbs, Spices & Seasonings', 'Mixed Spices & Seasonings', 'Mexican Seasoning']\n",
      "241\n",
      "https://www.amazon.com/dp/B005IVPFV0\n"
     ]
    },
    {
     "name": "stderr",
     "output_type": "stream",
     "text": [
      "\r\n",
      " 84%|█████████████████████████████████████████████████████████████████████████████▉               | 242/289 [16:29<04:08,  5.30s/it]"
     ]
    },
    {
     "name": "stdout",
     "output_type": "stream",
     "text": [
      "Visit the McCormick Store\n",
      "['Grocery & Gourmet Food', 'Pantry Staples', 'Herbs, Spices & Seasonings', 'Mixed Spices & Seasonings', 'Mexican Seasoning']\n",
      "242\n",
      "https://www.amazon.com/dp/B082DLCH2B\n"
     ]
    },
    {
     "name": "stderr",
     "output_type": "stream",
     "text": [
      "\r\n",
      " 84%|██████████████████████████████████████████████████████████████████████████████▏              | 243/289 [16:34<03:53,  5.07s/it]"
     ]
    },
    {
     "name": "stdout",
     "output_type": "stream",
     "text": [
      "Brand: TJ's\n",
      "['Grocery & Gourmet Food', 'Pantry Staples', 'Herbs, Spices & Seasonings', 'Mixed Spices & Seasonings', 'Mexican Seasoning']\n",
      "243\n",
      "https://www.amazon.com/dp/B0BG6HCMHY\n"
     ]
    },
    {
     "name": "stderr",
     "output_type": "stream",
     "text": [
      "\r\n",
      " 84%|██████████████████████████████████████████████████████████████████████████████▌              | 244/289 [16:38<03:33,  4.74s/it]"
     ]
    },
    {
     "name": "stdout",
     "output_type": "stream",
     "text": [
      "Visit the Hellfire Hot Sauce Store\n",
      "['Grocery & Gourmet Food', 'Pantry Staples', 'Sauces, Gravies & Marinades', 'Hot Sauce']\n",
      "244\n",
      "https://www.amazon.com/dp/B08F36BKHV\n"
     ]
    },
    {
     "name": "stderr",
     "output_type": "stream",
     "text": [
      "\r\n",
      " 85%|██████████████████████████████████████████████████████████████████████████████▊              | 245/289 [16:42<03:28,  4.73s/it]"
     ]
    },
    {
     "name": "stdout",
     "output_type": "stream",
     "text": [
      "Visit the Authentic Royal Store\n",
      "['Grocery & Gourmet Food', 'Pantry Staples', 'Canned, Jarred & Packaged Foods', 'Packaged Meals & Side Dishes', 'Rice Dishes', 'Seasoned Rice']\n",
      "245\n",
      "https://www.amazon.com/dp/B01L84H7KC\n"
     ]
    },
    {
     "name": "stderr",
     "output_type": "stream",
     "text": [
      "\r\n",
      " 85%|███████████████████████████████████████████████████████████████████████████████▏             | 246/289 [16:47<03:16,  4.57s/it]"
     ]
    },
    {
     "name": "stdout",
     "output_type": "stream",
     "text": [
      "Visit the WISCONSIN'S BEST and WISCONSIN CHEESE COMPANY Store\n",
      "['Grocery & Gourmet Food', 'Food & Beverage Gifts', 'Cheese & Charcuterie Gifts']\n",
      "246\n",
      "https://www.amazon.com/dp/B0BNXX382C\n"
     ]
    },
    {
     "name": "stderr",
     "output_type": "stream",
     "text": [
      "\r\n",
      " 85%|███████████████████████████████████████████████████████████████████████████████▍             | 247/289 [16:53<03:38,  5.20s/it]"
     ]
    },
    {
     "name": "stdout",
     "output_type": "stream",
     "text": [
      "Visit the InMit Store\n",
      "['Health & Household', 'Vitamins, Minerals & Supplements', 'Blended Vitamin & Mineral Supplements']\n",
      "247\n",
      "https://www.amazon.com/dp/B01H2GLXGE\n"
     ]
    },
    {
     "name": "stderr",
     "output_type": "stream",
     "text": [
      "\r\n",
      " 86%|███████████████████████████████████████████████████████████████████████████████▊             | 248/289 [16:58<03:22,  4.94s/it]"
     ]
    },
    {
     "name": "stdout",
     "output_type": "stream",
     "text": [
      "Visit the Whisps Store\n",
      "['Grocery & Gourmet Food', 'Dairy, Eggs & Plant-Based Alternatives', 'Cheese', 'Parmesan']\n",
      "248\n",
      "https://www.amazon.com/dp/B0042VX2B2\n"
     ]
    },
    {
     "name": "stderr",
     "output_type": "stream",
     "text": [
      "\r\n",
      " 86%|████████████████████████████████████████████████████████████████████████████████▏            | 249/289 [17:01<03:05,  4.63s/it]"
     ]
    },
    {
     "name": "stdout",
     "output_type": "stream",
     "text": [
      "Brand: Yancey's Fancy\n",
      "['Grocery & Gourmet Food', 'Dairy, Eggs & Plant-Based Alternatives', 'Cheese', 'Cheddar']\n",
      "249\n",
      "https://www.amazon.com/dp/B00E9NHWBY\n"
     ]
    },
    {
     "name": "stderr",
     "output_type": "stream",
     "text": [
      "\r\n",
      " 87%|████████████████████████████████████████████████████████████████████████████████▍            | 250/289 [17:09<03:31,  5.42s/it]"
     ]
    },
    {
     "name": "stdout",
     "output_type": "stream",
     "text": [
      "Visit the Standing Stone Farms Store\n",
      "['Home & Kitchen', 'Kitchen & Dining', 'Kitchen Utensils & Gadgets', 'Cheese Tools', 'Cheese Makers']\n",
      "250\n",
      "https://www.amazon.com/dp/B000REIL78\n"
     ]
    },
    {
     "name": "stderr",
     "output_type": "stream",
     "text": [
      "\r\n",
      " 87%|████████████████████████████████████████████████████████████████████████████████▊            | 251/289 [17:14<03:22,  5.33s/it]"
     ]
    },
    {
     "name": "stdout",
     "output_type": "stream",
     "text": [
      "Visit the Amy's Store\n",
      "['Grocery & Gourmet Food', 'Frozen', 'Meals & Entrees', 'Meatless']\n",
      "251\n",
      "https://www.amazon.com/dp/B0BWJB9ZG6\n"
     ]
    },
    {
     "name": "stderr",
     "output_type": "stream",
     "text": [
      "\r\n",
      " 87%|█████████████████████████████████████████████████████████████████████████████████            | 252/289 [17:20<03:29,  5.66s/it]"
     ]
    },
    {
     "name": "stdout",
     "output_type": "stream",
     "text": [
      "Visit the Wicked Kitchen Store\n",
      "['Grocery & Gourmet Food', 'Pantry Staples', 'Canned, Jarred & Packaged Foods', 'Packaged Meals & Side Dishes', 'Macaroni & Cheese']\n",
      "252\n",
      "https://www.amazon.com/dp/B0BYB5C27G\n"
     ]
    },
    {
     "name": "stderr",
     "output_type": "stream",
     "text": [
      "\r\n",
      " 88%|█████████████████████████████████████████████████████████████████████████████████▍           | 253/289 [17:24<03:04,  5.14s/it]"
     ]
    },
    {
     "name": "stdout",
     "output_type": "stream",
     "text": [
      "Visit the The Celly Plug Store\n",
      "['Grocery & Gourmet Food', 'Pantry Staples', 'Sauces, Gravies & Marinades', 'Sauces', 'Asian', 'Sweet & Sour Sauce']\n",
      "253\n",
      "https://www.amazon.com/dp/B09GW3ZNY9\n"
     ]
    },
    {
     "name": "stderr",
     "output_type": "stream",
     "text": [
      "\r\n",
      " 88%|█████████████████████████████████████████████████████████████████████████████████▋           | 254/289 [17:30<03:02,  5.22s/it]"
     ]
    },
    {
     "name": "stdout",
     "output_type": "stream",
     "text": [
      "Brand: Cheilitas Chamoy\n",
      "['Grocery & Gourmet Food', 'Snacks & Sweets', 'Snack Foods', 'Salsas, Dips & Spreads', 'Dips & Spreads']\n",
      "254\n",
      "https://www.amazon.com/dp/B0005ZUEEW\n"
     ]
    },
    {
     "name": "stderr",
     "output_type": "stream",
     "text": [
      "\r\n",
      " 88%|██████████████████████████████████████████████████████████████████████████████████           | 255/289 [17:34<02:51,  5.05s/it]"
     ]
    },
    {
     "name": "stdout",
     "output_type": "stream",
     "text": [
      "Visit the BRIANNAS Store\n",
      "['Grocery & Gourmet Food', 'Pantry Staples', 'Condiments & Salad Dressings', 'Salad Dressings', 'French']\n",
      "255\n",
      "https://www.amazon.com/dp/B003VSFN7S\n"
     ]
    },
    {
     "name": "stderr",
     "output_type": "stream",
     "text": [
      "\r\n",
      " 89%|██████████████████████████████████████████████████████████████████████████████████▍          | 256/289 [17:38<02:35,  4.72s/it]"
     ]
    },
    {
     "name": "stdout",
     "output_type": "stream",
     "text": [
      "Visit the Kraft Store\n",
      "['Grocery & Gourmet Food', 'Pantry Staples', 'Canned, Jarred & Packaged Foods', 'Packaged Meals & Side Dishes', 'Macaroni & Cheese']\n",
      "256\n",
      "https://www.amazon.com/dp/B083B1G58J\n"
     ]
    },
    {
     "name": "stderr",
     "output_type": "stream",
     "text": [
      "\r\n",
      " 89%|██████████████████████████████████████████████████████████████████████████████████▋          | 257/289 [17:43<02:32,  4.75s/it]"
     ]
    },
    {
     "name": "stdout",
     "output_type": "stream",
     "text": [
      "Visit the Kraft Store\n",
      "['Grocery & Gourmet Food', 'Pantry Staples', 'Canned, Jarred & Packaged Foods', 'Packaged Meals & Side Dishes', 'Macaroni & Cheese']\n",
      "257\n",
      "https://www.amazon.com/dp/B071F4LVS8\n"
     ]
    },
    {
     "name": "stderr",
     "output_type": "stream",
     "text": [
      "\r\n",
      " 89%|███████████████████████████████████████████████████████████████████████████████████          | 258/289 [17:46<02:09,  4.18s/it]"
     ]
    },
    {
     "name": "stdout",
     "output_type": "stream",
     "text": [
      "Visit the Kraft Store\n",
      "no cat found\n",
      "258\n",
      "https://www.amazon.com/dp/B07PNM9SNJ\n"
     ]
    },
    {
     "name": "stderr",
     "output_type": "stream",
     "text": [
      "\r\n",
      " 90%|███████████████████████████████████████████████████████████████████████████████████▎         | 259/289 [17:51<02:12,  4.41s/it]"
     ]
    },
    {
     "name": "stdout",
     "output_type": "stream",
     "text": [
      "Visit the MEATSHREDZ Store\n",
      "['Grocery & Gourmet Food', 'Snacks & Sweets', 'Snack Foods', 'Meat Snacks', 'Jerky']\n",
      "259\n",
      "https://www.amazon.com/dp/B0CCK8GV25\n"
     ]
    },
    {
     "name": "stderr",
     "output_type": "stream",
     "text": [
      "\r\n",
      " 90%|███████████████████████████████████████████████████████████████████████████████████▋         | 260/289 [17:55<02:01,  4.20s/it]"
     ]
    },
    {
     "name": "stdout",
     "output_type": "stream",
     "text": [
      "Brand: Generic\n",
      "['Grocery & Gourmet Food', 'Food & Beverage Gifts', 'Coffee Gifts']\n",
      "260\n",
      "https://www.amazon.com/dp/B0BLZQ95C7\n"
     ]
    },
    {
     "name": "stderr",
     "output_type": "stream",
     "text": [
      "\r\n",
      " 90%|███████████████████████████████████████████████████████████████████████████████████▉         | 261/289 [18:01<02:12,  4.75s/it]"
     ]
    },
    {
     "name": "stdout",
     "output_type": "stream",
     "text": [
      "Visit the By The Cup Store\n",
      "['Grocery & Gourmet Food', 'Beverages', 'Hot Chocolate & Malted Drinks', 'Cocoa']\n",
      "261\n",
      "https://www.amazon.com/dp/B077VYQ6FX\n"
     ]
    },
    {
     "name": "stderr",
     "output_type": "stream",
     "text": [
      "\r\n",
      " 91%|████████████████████████████████████████████████████████████████████████████████████▎        | 262/289 [18:05<02:08,  4.76s/it]"
     ]
    },
    {
     "name": "stdout",
     "output_type": "stream",
     "text": [
      "Visit the Blue Ribbon Store\n",
      "['Grocery & Gourmet Food', 'Food & Beverage Gifts', 'Assortments & Variety Gifts']\n",
      "262\n",
      "https://www.amazon.com/dp/B00A2KBPG6\n"
     ]
    },
    {
     "name": "stderr",
     "output_type": "stream",
     "text": [
      "\r\n",
      " 91%|████████████████████████████████████████████████████████████████████████████████████▋        | 263/289 [18:08<01:50,  4.24s/it]"
     ]
    },
    {
     "name": "stdout",
     "output_type": "stream",
     "text": [
      "Brand: Fine Cheese Co\n",
      "['Grocery & Gourmet Food', 'Snacks & Sweets', 'Snack Foods', 'Crackers']\n",
      "263\n",
      "https://www.amazon.com/dp/B00B04EPL0\n"
     ]
    },
    {
     "name": "stderr",
     "output_type": "stream",
     "text": [
      "\r\n",
      " 91%|████████████████████████████████████████████████████████████████████████████████████▉        | 264/289 [18:11<01:37,  3.89s/it]"
     ]
    },
    {
     "name": "stdout",
     "output_type": "stream",
     "text": [
      "Brand: Go Veggie\n",
      "['Grocery & Gourmet Food', 'Dairy, Eggs & Plant-Based Alternatives', 'Plant-Based Cheese']\n",
      "264\n",
      "https://www.amazon.com/dp/B071SGJZZJ\n"
     ]
    },
    {
     "name": "stderr",
     "output_type": "stream",
     "text": [
      "\r\n",
      " 92%|█████████████████████████████████████████████████████████████████████████████████████▎       | 265/289 [18:14<01:24,  3.54s/it]"
     ]
    },
    {
     "name": "stdout",
     "output_type": "stream",
     "text": [
      "Brand: TJ's\n",
      "['Grocery & Gourmet Food', 'Snacks & Sweets', 'Snack Foods', 'Chips & Crisps']\n",
      "265\n",
      "https://www.amazon.com/dp/B09J9SG19J\n"
     ]
    },
    {
     "name": "stderr",
     "output_type": "stream",
     "text": [
      "\r\n",
      " 92%|█████████████████████████████████████████████████████████████████████████████████████▌       | 266/289 [18:17<01:16,  3.33s/it]"
     ]
    },
    {
     "name": "stdout",
     "output_type": "stream",
     "text": [
      "Brand: Generic\n",
      "['Grocery & Gourmet Food', 'Snacks & Sweets', 'Snack Foods']\n",
      "266\n",
      "https://www.amazon.com/dp/B07RMZT627\n"
     ]
    },
    {
     "name": "stderr",
     "output_type": "stream",
     "text": [
      "\r\n",
      " 92%|█████████████████████████████████████████████████████████████████████████████████████▉       | 267/289 [18:20<01:10,  3.20s/it]"
     ]
    },
    {
     "name": "stdout",
     "output_type": "stream",
     "text": [
      "Brand: soresina\n",
      "['Grocery & Gourmet Food', 'Dairy, Eggs & Plant-Based Alternatives', 'Cheese', 'Cheddar']\n",
      "267\n",
      "https://www.amazon.com/dp/B000NWNPAW\n",
      "Visit the Kernel Season's Store\n"
     ]
    },
    {
     "name": "stderr",
     "output_type": "stream",
     "text": [
      "\r\n",
      " 93%|██████████████████████████████████████████████████████████████████████████████████████▏      | 268/289 [18:24<01:10,  3.37s/it]"
     ]
    },
    {
     "name": "stdout",
     "output_type": "stream",
     "text": [
      "['Grocery & Gourmet Food', 'Pantry Staples', 'Herbs, Spices & Seasonings', 'Salt & Salt Substitutes', 'Popcorn Salt']\n",
      "268\n",
      "https://www.amazon.com/dp/B098766CXC\n"
     ]
    },
    {
     "name": "stderr",
     "output_type": "stream",
     "text": [
      "\r\n",
      " 93%|██████████████████████████████████████████████████████████████████████████████████████▌      | 269/289 [18:29<01:17,  3.85s/it]"
     ]
    },
    {
     "name": "stdout",
     "output_type": "stream",
     "text": [
      "Brand: Vegan Valley\n",
      "['Grocery & Gourmet Food', 'Dairy, Eggs & Plant-Based Alternatives', 'Cheese', 'Vegetarian']\n",
      "269\n",
      "https://www.amazon.com/dp/B06ZXR93JH\n"
     ]
    },
    {
     "name": "stderr",
     "output_type": "stream",
     "text": [
      "\r\n",
      " 93%|██████████████████████████████████████████████████████████████████████████████████████▉      | 270/289 [18:33<01:16,  4.01s/it]"
     ]
    },
    {
     "name": "stdout",
     "output_type": "stream",
     "text": [
      "Visit the Knorr Store\n",
      "['Grocery & Gourmet Food', 'Pantry Staples', 'Canned, Jarred & Packaged Foods', 'Packaged Meals & Side Dishes', 'Rice Dishes', 'Seasoned Rice']\n",
      "270\n",
      "https://www.amazon.com/dp/B07815WGYX\n"
     ]
    },
    {
     "name": "stderr",
     "output_type": "stream",
     "text": [
      "\r\n",
      " 94%|███████████████████████████████████████████████████████████████████████████████████████▏     | 271/289 [18:37<01:09,  3.88s/it]"
     ]
    },
    {
     "name": "stdout",
     "output_type": "stream",
     "text": [
      "Brand: FULVI\n",
      "['Grocery & Gourmet Food', 'Dairy, Eggs & Plant-Based Alternatives', 'Cheese', 'Pecorino']\n",
      "271\n",
      "https://www.amazon.com/dp/B002PA3LJU\n"
     ]
    },
    {
     "name": "stderr",
     "output_type": "stream",
     "text": [
      "\r\n",
      " 94%|███████████████████████████████████████████████████████████████████████████████████████▌     | 272/289 [18:40<01:05,  3.83s/it]"
     ]
    },
    {
     "name": "stdout",
     "output_type": "stream",
     "text": [
      "Visit the Navitas Organics Store\n",
      "['Grocery & Gourmet Food', 'Pantry Staples', 'Cooking & Baking', 'Baking Chocolates, Carob & Cocoa', 'Cocoa']\n",
      "272\n",
      "https://www.amazon.com/dp/B07HPQJQNL\n"
     ]
    },
    {
     "name": "stderr",
     "output_type": "stream",
     "text": [
      "\r\n",
      " 94%|███████████████████████████████████████████████████████████████████████████████████████▊     | 273/289 [18:45<01:05,  4.12s/it]"
     ]
    },
    {
     "name": "stdout",
     "output_type": "stream",
     "text": [
      "Visit the Mary's Gone Crackers Store\n",
      "['Grocery & Gourmet Food', 'Snacks & Sweets', 'Snack Foods', 'Crackers', 'Flatbread']\n",
      "273\n",
      "https://www.amazon.com/dp/B07ZN8RTKB\n"
     ]
    },
    {
     "name": "stderr",
     "output_type": "stream",
     "text": [
      "\r\n",
      " 95%|████████████████████████████████████████████████████████████████████████████████████████▏    | 274/289 [18:49<00:58,  3.90s/it]"
     ]
    },
    {
     "name": "stdout",
     "output_type": "stream",
     "text": [
      "Brand: BigC\n",
      "['Grocery & Gourmet Food', 'Dairy, Eggs & Plant-Based Alternatives', 'Cheese', 'Mozzarella']\n",
      "274\n",
      "https://www.amazon.com/dp/B00HUNCG8Y\n"
     ]
    },
    {
     "name": "stderr",
     "output_type": "stream",
     "text": [
      "\r\n",
      " 95%|████████████████████████████████████████████████████████████████████████████████████████▍    | 275/289 [18:52<00:54,  3.88s/it]"
     ]
    },
    {
     "name": "stdout",
     "output_type": "stream",
     "text": [
      "Visit the igourmet Store\n",
      "['Grocery & Gourmet Food', 'Dairy, Eggs & Plant-Based Alternatives', 'Cheese', 'Swiss']\n",
      "275\n",
      "https://www.amazon.com/dp/B00Y0UTO6W\n"
     ]
    },
    {
     "name": "stderr",
     "output_type": "stream",
     "text": [
      "\r\n",
      " 96%|████████████████████████████████████████████████████████████████████████████████████████▊    | 276/289 [18:55<00:47,  3.66s/it]"
     ]
    },
    {
     "name": "stdout",
     "output_type": "stream",
     "text": [
      "Visit the Tillamook Store\n",
      "['Grocery & Gourmet Food', 'Dairy, Eggs & Plant-Based Alternatives', 'Cheese', 'Cheddar']\n",
      "276\n",
      "https://www.amazon.com/dp/B00B04GZHC\n"
     ]
    },
    {
     "name": "stderr",
     "output_type": "stream",
     "text": [
      "\r\n",
      " 96%|█████████████████████████████████████████████████████████████████████████████████████████▏   | 277/289 [18:58<00:40,  3.36s/it]"
     ]
    },
    {
     "name": "stdout",
     "output_type": "stream",
     "text": [
      "Visit the Tillamook Store\n",
      "['Grocery & Gourmet Food', 'Dairy, Eggs & Plant-Based Alternatives', 'Cheese', 'Cheddar']\n",
      "277\n",
      "https://www.amazon.com/dp/B007N6PDVK\n"
     ]
    },
    {
     "name": "stderr",
     "output_type": "stream",
     "text": [
      "\r\n",
      " 96%|█████████████████████████████████████████████████████████████████████████████████████████▍   | 278/289 [19:00<00:33,  3.02s/it]"
     ]
    },
    {
     "name": "stdout",
     "output_type": "stream",
     "text": [
      "Visit the Tillamook Store\n",
      "['Grocery & Gourmet Food', 'Dairy, Eggs & Plant-Based Alternatives', 'Cheese', 'Cheddar']\n",
      "278\n",
      "https://www.amazon.com/dp/B00B04GB7Q\n"
     ]
    },
    {
     "name": "stderr",
     "output_type": "stream",
     "text": [
      "\r\n",
      " 97%|█████████████████████████████████████████████████████████████████████████████████████████▊   | 279/289 [19:03<00:28,  2.86s/it]"
     ]
    },
    {
     "name": "stdout",
     "output_type": "stream",
     "text": [
      "Visit the Tillamook Store\n",
      "['Grocery & Gourmet Food', 'Dairy, Eggs & Plant-Based Alternatives', 'Cheese', 'Cheddar']\n",
      "279\n",
      "https://www.amazon.com/dp/B00PJ4LLRS\n"
     ]
    },
    {
     "name": "stderr",
     "output_type": "stream",
     "text": [
      "\r\n",
      " 97%|██████████████████████████████████████████████████████████████████████████████████████████   | 280/289 [19:07<00:29,  3.31s/it]"
     ]
    },
    {
     "name": "stdout",
     "output_type": "stream",
     "text": [
      "Brand: Lesley Stowe's Raincoast Crisps\n",
      "['Grocery & Gourmet Food', 'Snacks & Sweets', 'Snack Foods', 'Chips & Crisps', 'Potato']\n",
      "280\n",
      "https://www.amazon.com/dp/B01MFHIXI8\n",
      "Visit the Goldfish Store\n"
     ]
    },
    {
     "name": "stderr",
     "output_type": "stream",
     "text": [
      "\r\n",
      " 97%|██████████████████████████████████████████████████████████████████████████████████████████▍  | 281/289 [19:12<00:28,  3.62s/it]"
     ]
    },
    {
     "name": "stdout",
     "output_type": "stream",
     "text": [
      "['Grocery & Gourmet Food', 'Snacks & Sweets', 'Snack Foods', 'Crackers', 'Animal']\n",
      "281\n",
      "https://www.amazon.com/dp/B07JMP28PB\n"
     ]
    },
    {
     "name": "stderr",
     "output_type": "stream",
     "text": [
      "\r\n",
      " 98%|██████████████████████████████████████████████████████████████████████████████████████████▋  | 282/289 [19:16<00:26,  3.72s/it]"
     ]
    },
    {
     "name": "stdout",
     "output_type": "stream",
     "text": [
      "Visit the Cheddies Store\n",
      "['Grocery & Gourmet Food', 'Snacks & Sweets', 'Snack Foods', 'Crackers', 'Wheat']\n",
      "282\n",
      "https://www.amazon.com/dp/B07FDJ6QWX\n"
     ]
    },
    {
     "name": "stderr",
     "output_type": "stream",
     "text": [
      "\r\n",
      " 98%|███████████████████████████████████████████████████████████████████████████████████████████  | 283/289 [19:18<00:20,  3.47s/it]"
     ]
    },
    {
     "name": "stdout",
     "output_type": "stream",
     "text": [
      "Brand: Barbers\n",
      "['Grocery & Gourmet Food', 'Dairy, Eggs & Plant-Based Alternatives', 'Cheese', 'Cheddar']\n",
      "283\n",
      "https://www.amazon.com/dp/B00MVYP5IU\n"
     ]
    },
    {
     "name": "stderr",
     "output_type": "stream",
     "text": [
      "\r\n",
      " 98%|███████████████████████████████████████████████████████████████████████████████████████████▍ | 284/289 [19:23<00:18,  3.70s/it]"
     ]
    },
    {
     "name": "stdout",
     "output_type": "stream",
     "text": [
      "Visit the Stockan's Store\n",
      "['Grocery & Gourmet Food', 'Breads & Bakery', 'Cookies', 'Oatmeal']\n",
      "284\n",
      "https://www.amazon.com/dp/B09XBSSZQZ\n"
     ]
    },
    {
     "name": "stderr",
     "output_type": "stream",
     "text": [
      "\r\n",
      " 99%|███████████████████████████████████████████████████████████████████████████████████████████▋ | 285/289 [19:26<00:14,  3.72s/it]"
     ]
    },
    {
     "name": "stdout",
     "output_type": "stream",
     "text": [
      "Visit the Medley Hills Farm Store\n",
      "['Grocery & Gourmet Food', 'Snacks & Sweets', 'Snack Foods', 'Crackers', 'Graham Crackers']\n",
      "285\n",
      "https://www.amazon.com/dp/B00CHU2QNA\n"
     ]
    },
    {
     "name": "stderr",
     "output_type": "stream",
     "text": [
      "\r\n",
      " 99%|████████████████████████████████████████████████████████████████████████████████████████████ | 286/289 [19:30<00:10,  3.66s/it]"
     ]
    },
    {
     "name": "stdout",
     "output_type": "stream",
     "text": [
      "Visit the Kraft Store\n",
      "['Grocery & Gourmet Food', 'Dairy, Eggs & Plant-Based Alternatives', 'Cheese', 'String & Snack']\n",
      "286\n",
      "https://www.amazon.com/dp/B07WGLRHQN\n"
     ]
    },
    {
     "name": "stderr",
     "output_type": "stream",
     "text": [
      "\r\n",
      " 99%|████████████████████████████████████████████████████████████████████████████████████████████▎| 287/289 [19:34<00:07,  3.70s/it]"
     ]
    },
    {
     "name": "stdout",
     "output_type": "stream",
     "text": [
      "Visit the Happy Belly Store\n",
      "['Grocery & Gourmet Food', 'Dairy, Eggs & Plant-Based Alternatives', 'Cheese', 'Havarti']\n",
      "287\n",
      "https://www.amazon.com/dp/B01M0I9JGD\n"
     ]
    },
    {
     "name": "stderr",
     "output_type": "stream",
     "text": [
      "\r\n",
      "100%|████████████████████████████████████████████████████████████████████████████████████████████▋| 288/289 [19:37<00:03,  3.69s/it]"
     ]
    },
    {
     "name": "stdout",
     "output_type": "stream",
     "text": [
      "Visit the Keebler Store\n",
      "['Grocery & Gourmet Food', 'Snacks & Sweets', 'Snack Foods', 'Crackers', 'Sandwich']\n",
      "288\n",
      "https://www.amazon.com/dp/B07BPVQ2KF\n"
     ]
    },
    {
     "name": "stderr",
     "output_type": "stream",
     "text": [
      "100%|█████████████████████████████████████████████████████████████████████████████████████████████| 289/289 [19:41<00:00,  4.09s/it]"
     ]
    },
    {
     "name": "stdout",
     "output_type": "stream",
     "text": [
      "Brand: KAASAGGIO\n",
      "['Grocery & Gourmet Food', 'Dairy, Eggs & Plant-Based Alternatives', 'Cheese', 'Gouda']\n"
     ]
    },
    {
     "name": "stderr",
     "output_type": "stream",
     "text": [
      "\n",
      "C:\\Users\\kpind\\AppData\\Local\\Temp/ipykernel_8676/3870517556.py:93: FutureWarning: The default value of regex will change from True to False in a future version.\n",
      "  df5['brand_name'] = df5['brand_name'].str.replace('^Visita la tienda de\\s','').str.replace('^Visita Lo Store Di\\s','').str.replace('^Brand:\\s','').str.replace('\\sStore','').str.replace('^Visit\\sthe\\s','').str.replace('^Marca:\\s','').str.replace('^Visita\\slo\\sdi\\s','').str.replace('^Visita\\sla\\sde\\s','').str.replace('^Merk:\\s','').str.replace('^De\\s',''). str.replace('openen','').str.replace('^Marque :\\s','').str.replace('^Visiter la boutique\\s','')\n",
      "C:\\Users\\kpind\\anaconda3\\lib\\site-packages\\pandas\\core\\frame.py:5039: SettingWithCopyWarning: \n",
      "A value is trying to be set on a copy of a slice from a DataFrame\n",
      "\n",
      "See the caveats in the documentation: https://pandas.pydata.org/pandas-docs/stable/user_guide/indexing.html#returning-a-view-versus-a-copy\n",
      "  return super().rename(\n"
     ]
    },
    {
     "data": {
      "text/plain": [
       "(221, b'2.0.0 Bye')"
      ]
     },
     "execution_count": 4,
     "metadata": {},
     "output_type": "execute_result"
    }
   ],
   "source": [
    "for i in tqdm(range(0,len(df5))):  #len(df5)\n",
    "    \n",
    "    if df5['brand_name'][i]==\"\":\n",
    "        \n",
    "        try:\n",
    "            print(i)\n",
    "            timeout = 10\n",
    "            locator = \"imgTagWrapperId\"\n",
    "            link=df5['product_link'][i]\n",
    "            try:\n",
    "\n",
    "\n",
    "                print(link)\n",
    "                driver.get(link)\n",
    "                WebDriverWait(driver, timeout).until(EC.visibility_of_element_located((By.ID, locator)))\n",
    "                brand=\"\"\n",
    "\n",
    "                try:\n",
    "\n",
    "                    BrandVal = driver.find_element(By.ID,'bylineInfo')\n",
    "                    brand = BrandVal.text\n",
    "                    print(BrandVal.text)\n",
    "\n",
    "                except:\n",
    "                    try:\n",
    "                        try:\n",
    "\n",
    "                            bs=BeautifulSoup(driver.page_source, \"html.parser\")\n",
    "                            imagebrand=bs.find('div',id=\"brandBar_feature_div\")\n",
    "                            try:\n",
    "\n",
    "                                hidden_brand=imagebrand.find(\"img\")['alt']\n",
    "\n",
    "                            except:\n",
    "\n",
    "                                hidden_brand=imagebrand.text\n",
    "\n",
    "                            brand=hidden_brand\n",
    "                            print(brand)\n",
    "\n",
    "\n",
    "\n",
    "                        except:\n",
    "\n",
    "                            bs=BeautifulSoup(driver.page_source, \"html.parser\")\n",
    "                            brand=bs.find_all('div',class_=\"a-column a-span6 a-span-last a-text-right\")[0].text.strip()\n",
    "                            print(brand)\n",
    "                    except:\n",
    "\n",
    "                        Table2 = driver.find_element(By.ID,'productOverview_feature_div')\n",
    "                        vals = Table2.find_elements(By.TAG_NAME,'td')\n",
    "\n",
    "                        for v in range(len(vals)):\n",
    "                            if vals[v].text in [ \"Brand\", \"Marca\" ]:\n",
    "                                brand = vals[v+1].text\n",
    "                                print(vals[v+1].text)\n",
    "                df5['brand_name'][i]=brand\n",
    "\n",
    "\n",
    "                try:\n",
    "                    bread=driver.find_element(By.ID,\"wayfinding-breadcrumbs_feature_div\")\n",
    "                    cats=[]\n",
    "                    cat_ids=[]\n",
    "\n",
    "                    links=bread.find_elements(By.TAG_NAME,'a')\n",
    "\n",
    "                    for lnk in links:\n",
    "                        cats.append(lnk.text)\n",
    "                        url = lnk.get_attribute(\"href\")\n",
    "\n",
    "                        match = re.search(r\"node=(\\d+)\", url)\n",
    "                        node_id = match.group(1)\n",
    "                        cat_ids.append(node_id)  \n",
    "                    print(cats)\n",
    "\n",
    "\n",
    "\n",
    "                except:      \n",
    "                    cats=[]\n",
    "                    cat_ids=[]\n",
    "                    print(\"no cat found\")            \n",
    "\n",
    "                df5['categories'][i]=cats\n",
    "                df5['category_id'][i]=cat_ids\n",
    "\n",
    "            except:\n",
    "                pass\n",
    "        except:\n",
    "            pass\n",
    "\n",
    "        \n",
    "#all language\n",
    "df5['brand_name'] = df5['brand_name'].str.replace('^Visita la tienda de\\s','').str.replace('^Visita Lo Store Di\\s','').str.replace('^Brand:\\s','').str.replace('\\sStore','').str.replace('^Visit\\sthe\\s','').str.replace('^Marca:\\s','').str.replace('^Visita\\slo\\sdi\\s','').str.replace('^Visita\\sla\\sde\\s','').str.replace('^Merk:\\s','').str.replace('^De\\s',''). str.replace('openen','').str.replace('^Marque :\\s','').str.replace('^Visiter la boutique\\s','')\n",
    "\n",
    "\n",
    "df5['channel_id']=1\n",
    "final_df=df5[['channel_id','sku','title','brand_name','country','categories','category_id']]\n",
    "final_df.rename(columns={'sku':'channel_sku_id','country':'country_code'},inplace=True)\n",
    "\n",
    "jobs_name=list(serp_details['job_name'].unique())\n",
    "\n",
    "\n",
    "\n",
    "z=(list(serp_details['job_name'].unique()))\n",
    "pattern = r'\\d+'\n",
    "requests=[]\n",
    "# Loop over each string in the list and extract the numbers\n",
    "for string in z:\n",
    "    numbers = re.findall(pattern, string)\n",
    "    requests.append(numbers)\n",
    "rno = [item for inner_list in requests for item in inner_list]\n",
    "file='brand_mapping_amazon {}.xlsx'.format(rno)\n",
    "\n",
    "final_df.to_excel(file)\n",
    "\n",
    "import smtplib\n",
    "from email.mime.text import MIMEText\n",
    "from email.mime.multipart import MIMEMultipart\n",
    "from email.mime.base import MIMEBase\n",
    "from email import encoders\n",
    "\n",
    "email_user = 'alerts@1digitalstack.ai'\n",
    "email_password = ''\n",
    "email_send = ['nitin.bhayana@1digitalstack.ai','ghansham.pindoriya@1digitalstack.ai','karan.kumar@1digitalstack.ai','anmol.sharma@1digitalstack.ai','tanuja.thakur@1digitalstack.ai']\n",
    "\n",
    "subject = file\n",
    "msg = MIMEMultipart()\n",
    "msg['From'] = email_user\n",
    "#msg['From'] = \"'Abhishek' <{email_user}>\"\n",
    "msg['To'] = ', '.join(email_send)\n",
    "msg['Subject'] = subject\n",
    "\n",
    "body = 'Hi,\\n\\nPFA of today''s brand mapping of amazon. Please check brand mapping for following jobs.\\n{}'.format(jobs_name)\n",
    "msg.attach(MIMEText(body,'plain'))\n",
    "\n",
    "filename=[file]\n",
    "\n",
    "for file in filename:\n",
    "    attachment  =open(file,'rb')\n",
    "    part = MIMEBase('application','octet-stream')\n",
    "    part.set_payload((attachment).read())\n",
    "    encoders.encode_base64(part)\n",
    "    part.add_header('Content-Disposition',\"attachment; filename= \"+file)\n",
    "    msg.attach(part)\n",
    "    text = msg.as_string()\n",
    "\n",
    "server = smtplib.SMTP('1digitalstack.com',25)\n",
    "#server.login(email_user,email_password)\n",
    "\n",
    "server.sendmail(email_user,email_send,text)\n",
    "server.quit()"
   ]
  },
  {
   "cell_type": "code",
   "execution_count": 5,
   "id": "9b281e17",
   "metadata": {},
   "outputs": [],
   "source": [
    "import smtplib\n",
    "from email.mime.text import MIMEText\n",
    "from email.mime.multipart import MIMEMultipart\n",
    "from email.mime.base import MIMEBase\n",
    "from email import encoders"
   ]
  },
  {
   "cell_type": "code",
   "execution_count": 6,
   "id": "0541a12e",
   "metadata": {},
   "outputs": [
    {
     "data": {
      "text/plain": [
       "(221, b'2.0.0 Bye')"
      ]
     },
     "execution_count": 6,
     "metadata": {},
     "output_type": "execute_result"
    }
   ],
   "source": [
    "email_user = 'alerts@1digitalstack.ai'\n",
    "email_password = ''\n",
    "email_send = ['nitin.bhayana@1digitalstack.ai','ghansham.pindoriya@1digitalstack.ai','karan.kumar@1digitalstack.ai','arihant.singh@1digitalstack.ai','sambhav.jain@1digitalstack.ai','ankur.dwivedi@1digitalstack.ai','kinshu@1digitalstack.ai']\n",
    "\n",
    "subject = file\n",
    "msg = MIMEMultipart()\n",
    "msg['From'] = email_user\n",
    "#msg['From'] = \"'Abhishek' <{email_user}>\"\n",
    "msg['To'] = ', '.join(email_send)\n",
    "msg['Subject'] = subject\n",
    "\n",
    "body = 'Hi,\\n\\nPFA of today''s brand mapping of amazon. Please check brand mapping for following jobs.\\n{}'.format(jobs_name)\n",
    "msg.attach(MIMEText(body,'plain'))\n",
    "\n",
    "filename=[file]\n",
    "\n",
    "for file in filename:\n",
    "    attachment  =open(file,'rb')\n",
    "    part = MIMEBase('application','octet-stream')\n",
    "    part.set_payload((attachment).read())\n",
    "    encoders.encode_base64(part)\n",
    "    part.add_header('Content-Disposition',\"attachment; filename= \"+file)\n",
    "    msg.attach(part)\n",
    "    text = msg.as_string()\n",
    "\n",
    "server = smtplib.SMTP('1digitalstack.com',25)\n",
    "#server.login(email_user,email_password)\n",
    "\n",
    "server.sendmail(email_user,email_send,text)\n",
    "server.quit()"
   ]
  },
  {
   "cell_type": "code",
   "execution_count": null,
   "id": "a0e77b3e",
   "metadata": {},
   "outputs": [],
   "source": [
    "df5"
   ]
  },
  {
   "cell_type": "code",
   "execution_count": null,
   "id": "17d3e31f",
   "metadata": {},
   "outputs": [],
   "source": [
    "df5.to_excel('465.xlsx')"
   ]
  },
  {
   "cell_type": "code",
   "execution_count": null,
   "id": "5abf2f5e",
   "metadata": {},
   "outputs": [],
   "source": [
    "final_df"
   ]
  },
  {
   "cell_type": "code",
   "execution_count": null,
   "id": "8cf8830c",
   "metadata": {},
   "outputs": [],
   "source": [
    "\n",
    "\n"
   ]
  },
  {
   "cell_type": "code",
   "execution_count": null,
   "id": "78a0f812",
   "metadata": {},
   "outputs": [],
   "source": [
    "import chromedriver_autoinstaller\n",
    "\n",
    "from selenium import webdriver\n",
    "from webdriver_manager.chrome import ChromeDriverManager\n",
    "\n",
    "driver = webdriver.Chrome(ChromeDriverManager().install())"
   ]
  },
  {
   "cell_type": "code",
   "execution_count": null,
   "id": "f5bd6dec",
   "metadata": {},
   "outputs": [],
   "source": [
    "    # try:\n",
    "    #     rating=bs.find('div',class_=\"RRBox\").text\n",
    "    #     print(\"rating_count:\" ,rating)\n",
    "    #     df['rating_count'][i]=rating\n",
    "    # except:\n",
    "    #     df['rating_count'][i]=\"\"  "
   ]
  }
 ],
 "metadata": {
  "kernelspec": {
   "display_name": "Python 3 (ipykernel)",
   "language": "python",
   "name": "python3"
  },
  "language_info": {
   "codemirror_mode": {
    "name": "ipython",
    "version": 3
   },
   "file_extension": ".py",
   "mimetype": "text/x-python",
   "name": "python",
   "nbconvert_exporter": "python",
   "pygments_lexer": "ipython3",
   "version": "3.10.9"
  },
  "vscode": {
   "interpreter": {
    "hash": "b0fa6594d8f4cbf19f97940f81e996739fb7646882a419484c72d19e05852a7e"
   }
  }
 },
 "nbformat": 4,
 "nbformat_minor": 5
}
