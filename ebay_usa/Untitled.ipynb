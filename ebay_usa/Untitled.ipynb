{
 "cells": [
  {
   "cell_type": "code",
   "execution_count": null,
   "id": "5bc89816",
   "metadata": {},
   "outputs": [],
   "source": [
    "import pandas as pd\n",
    "import psycopg2\n",
    "import numpy as np\n",
    "\n",
    "\n",
    "\n",
    "from selenium import webdriver\n",
    "from selenium.webdriver.common.by import By\n",
    "import requests\n",
    "from selenium.webdriver.support.ui import WebDriverWait\n",
    "import selenium.webdriver.support.expected_conditions as EC\n",
    "from selenium.webdriver.chrome.options import Options\n",
    "from selenium.webdriver.chrome.service import Service\n",
    "\n",
    "\n",
    "\n",
    "from tqdm import tqdm\n",
    "tqdm.pandas()\n",
    "import time\n",
    "\n",
    "\n",
    "\n",
    "from bs4 import BeautifulSoup\n",
    "import re\n",
    "\n",
    "import smtplib\n",
    "from email.mime.text import MIMEText\n",
    "from email.mime.multipart import MIMEMultipart\n",
    "from email.mime.base import MIMEBase\n",
    "from email import encoders\n"
   ]
  },
  {
   "cell_type": "code",
   "execution_count": null,
   "id": "5330d585",
   "metadata": {},
   "outputs": [],
   "source": [
    "#scraping brand, categories, seller_info,average_rating,  review_count is available in serp"
   ]
  },
  {
   "cell_type": "code",
   "execution_count": null,
   "id": "29349455",
   "metadata": {},
   "outputs": [],
   "source": [
    "s = Service(\"../chromedriver_win32/chromedriver.exe\")"
   ]
  },
  {
   "cell_type": "code",
   "execution_count": null,
   "id": "f47a71a6",
   "metadata": {},
   "outputs": [],
   "source": [
    "chrome_opt=Options()\n",
    "chrome_opt.add_argument(\"--incognito\")\n",
    "driver = webdriver.Chrome(service=s,options=chrome_opt)\n",
    "capabilities = driver.capabilities\n",
    "chrome_driver_version = capabilities['chrome']['chromedriverVersion']\n",
    "\n",
    "# Print the ChromeDriver version\n",
    "print(\"ChromeDriver version:\", chrome_driver_version)\n"
   ]
  },
  {
   "cell_type": "code",
   "execution_count": null,
   "id": "9e9d7442",
   "metadata": {},
   "outputs": [],
   "source": [
    "class postgres_conn:\n",
    "    def getConn(self):\n",
    "        try:\n",
    "            connection = psycopg2.connect(user='postgres',\n",
    "                                          password='postgres_007',\n",
    "                                          host=\"1.pgsql.db.1digitalstack.com\",\n",
    "                                          port='5432',\n",
    "                                          database='postgres')\n",
    "\n",
    "            cursor = connection.cursor()\n",
    "            # Print PostgreSQL Connection properties\n",
    "            print(connection.get_dsn_parameters(), \"\\n\")\n",
    "\n",
    "            # Print PostgreSQL version\n",
    "            return cursor, connection\n",
    "\n",
    "        except (Exception, psycopg2.Error) as error:\n",
    "            print(\"Error while connecting to PostgreSQL\", error)\n",
    "            return error, error\n",
    "    def getConn2(self):\n",
    "        try:\n",
    "            connection = psycopg2.connect(user='postgres',\n",
    "                                          password='reporting_007',\n",
    "                                          host=\"2.pgsql.db.1digitalstack.com\",\n",
    "                                          port='5432',\n",
    "                                          database='postgres')\n",
    "\n",
    "            cursor = connection.cursor()\n",
    "            # Print PostgreSQL Connection properties\n",
    "            print(connection.get_dsn_parameters(), \"\\n\")\n",
    "\n",
    "            # Print PostgreSQL version\n",
    "            return cursor, connection\n",
    "\n",
    "        except (Exception, psycopg2.Error) as error:\n",
    "            print(\"Error while connecting to PostgreSQL\", error)\n",
    "            return error, error\n",
    "\n",
    "\n",
    "    def close_connection(self, cursor, connection):\n",
    "        # closing database connection.\n",
    "        if(connection):\n",
    "            cursor.close()\n",
    "            connection.close()\n",
    "            print(\"PostgreSQL connection is closed\")\n",
    "            \n",
    "pg = postgres_conn()\n",
    "conn = pg.getConn()\n",
    "conn2 = pg.getConn2()"
   ]
  },
  {
   "cell_type": "code",
   "execution_count": null,
   "id": "d4408ce0",
   "metadata": {},
   "outputs": [],
   "source": [
    "job_id=input(\"Enter keystone ids with comma.\").split(\",\")\n",
    "days=input(\" Enter no of days for which data needs brand mapping.\\n\")\n",
    "job_id.append(\"\")\n",
    "tuple(job_id)"
   ]
  },
  {
   "cell_type": "code",
   "execution_count": null,
   "id": "a79ea655",
   "metadata": {},
   "outputs": [],
   "source": [
    "query = f\"\"\"\n",
    "select brand,title,sku,job_name,channel_id\n",
    "from ready.serp_details smd join ready.serp_mongo_details m on m.serp_mongo_id=smd.serp_mongo_id\n",
    "where smd.crawl_date > now() - interval '{days} day' and keystone_job_id in {tuple(job_id)}\n",
    "\"\"\"\n",
    "serp_details = pd.read_sql_query(query, conn[1])"
   ]
  },
  {
   "cell_type": "code",
   "execution_count": null,
   "id": "ea4c00fc",
   "metadata": {},
   "outputs": [],
   "source": [
    "serp_details"
   ]
  },
  {
   "cell_type": "code",
   "execution_count": null,
   "id": "1e80610a",
   "metadata": {},
   "outputs": [],
   "source": [
    "df=serp_details.copy()"
   ]
  },
  {
   "cell_type": "code",
   "execution_count": null,
   "id": "a62890ea",
   "metadata": {},
   "outputs": [],
   "source": [
    "df.drop_duplicates(subset='sku', inplace=True)\n",
    "df.dropna(subset='sku', inplace=True)\n",
    "df.reset_index(drop=True, inplace=True)\n",
    "df['categories']=''\n",
    "df['average_rating']=''\n",
    "df['seller_info']=''\n",
    "df['brand']=''\n",
    "df"
   ]
  },
  {
   "cell_type": "code",
   "execution_count": null,
   "id": "e49e9e60",
   "metadata": {},
   "outputs": [],
   "source": [
    "for i in tqdm(range(0,20)):\n",
    "    sku=df['sku'][i]\n",
    "    url=\"https://www.ebay.com/itm/{}\".format(sku)\n",
    "    \n",
    "    print('************************')\n",
    "    print(i)\n",
    "    print(url)\n",
    "    category_list=[]\n",
    "    driver.get(url)\n",
    "    bs=BeautifulSoup(driver.page_source, \"html.parser\")\n",
    "    try:\n",
    "        dive=bs.find_all('div',class_=\"ux-layout-section-evo__col\")\n",
    "        for div_ele in dive:\n",
    "            ander=div_ele.find('span',class_=\"ux-textspans\")\n",
    "            if ander!=None and ander.text==\"Brand\":\n",
    "                brand_finder=div_ele.find('div',class_=\"ux-labels-values__values\")\n",
    "                df.loc[i, 'brand'] = brand_finder.text\n",
    "                print(brand_finder.text)\n",
    "    except:\n",
    "        print('brand not found')\n",
    "    try:\n",
    "        dive=bs.find('div',class_=\"seo-breadcrumbs-container viexpsvc\")\n",
    "        li=dive.find_all('li')\n",
    "        for j in range(0,len(li)-1):\n",
    "            categ=li[j].find('span')\n",
    "            category_list.append(categ.text)\n",
    "        df['categories'][i]=category_list\n",
    "    except:\n",
    "        df['categories'][i]=[]\n",
    "    print(category_list)\n",
    "    \n",
    "    try:\n",
    "        dive=bs.find('div',class_=\"ux-seller-section__item--seller\")\n",
    "        spanner=dive.find('span',class_=\"ux-textspans ux-textspans--PSEUDOLINK ux-textspans--BOLD\")\n",
    "        seller_info=spanner.text.strip()\n",
    "        df['seller_info'][i]=seller_info\n",
    "        print(seller_info)\n",
    "    except:\n",
    "        print('no seller found')\n",
    "        \n",
    "    try:\n",
    "        dive=bs.find('div',class_='ebay-content-wrapper')\n",
    "        rating=dive.find('span',class_='ebay-review-start-rating').text.strip()\n",
    "        df['average_rating'][i]=rating\n",
    "        print(rating)\n",
    "    except:\n",
    "        print('no rating')"
   ]
  },
  {
   "cell_type": "code",
   "execution_count": null,
   "id": "b4dd923c",
   "metadata": {},
   "outputs": [],
   "source": [
    "df.head()"
   ]
  },
  {
   "cell_type": "code",
   "execution_count": null,
   "id": "6e8f6578",
   "metadata": {},
   "outputs": [],
   "source": [
    "request_no=input(\"Enter the request number of the requests seperated with underscore(_) \")\n",
    "#547_552\n",
    "file='final_output_ebay_usa_{}.xlsx'.format(request_no)"
   ]
  },
  {
   "cell_type": "code",
   "execution_count": null,
   "id": "5f6fa23e",
   "metadata": {},
   "outputs": [],
   "source": [
    "df.to_excel(file)"
   ]
  },
  {
   "cell_type": "code",
   "execution_count": null,
   "id": "4cd4a5e7",
   "metadata": {},
   "outputs": [],
   "source": [
    "email_user = 'alerts@1digitalstack.ai'\n",
    "email_password = ''\n",
    "email_send = ['nitin.bhayana@1digitalstack.ai','ghansham.pindoriya@1digitalstack.ai','karan.kumar@1digitalstack.ai','arihant.singh@1digitalstack.ai','sambhav.jain@1digitalstack.ai','ankur.dwivedi@1digitalstack.ai','kinshu@1digitalstack.ai']\n",
    "\n",
    "subject = file\n",
    "msg = MIMEMultipart()\n",
    "msg['From'] = email_user\n",
    "#msg['From'] = \"'Abhishek' <{email_user}>\"\n",
    "msg['To'] = ', '.join(email_send)\n",
    "msg['Subject'] = subject\n",
    "\n",
    "body = 'Hi,\\n\\nPFA of today''s mapping request.Please reply as done as you pick this job.'\n",
    "msg.attach(MIMEText(body,'plain'))\n",
    "\n",
    "filename=[file]\n",
    "\n",
    "for file in filename:\n",
    "    attachment  =open(file,'rb')\n",
    "    part = MIMEBase('application','octet-stream')\n",
    "    part.set_payload((attachment).read())\n",
    "    encoders.encode_base64(part)\n",
    "    part.add_header('Content-Disposition',\"attachment; filename= \"+file)\n",
    "    msg.attach(part)\n",
    "    text = msg.as_string()\n",
    "\n",
    "server = smtplib.SMTP('1digitalstack.com',25)\n",
    "#server.login(email_user,email_password)\n",
    "\n",
    "server.sendmail(email_user,email_send,text)\n",
    "server.quit()"
   ]
  }
 ],
 "metadata": {
  "kernelspec": {
   "display_name": "Python 3 (ipykernel)",
   "language": "python",
   "name": "python3"
  },
  "language_info": {
   "codemirror_mode": {
    "name": "ipython",
    "version": 3
   },
   "file_extension": ".py",
   "mimetype": "text/x-python",
   "name": "python",
   "nbconvert_exporter": "python",
   "pygments_lexer": "ipython3",
   "version": "3.10.9"
  }
 },
 "nbformat": 4,
 "nbformat_minor": 5
}
