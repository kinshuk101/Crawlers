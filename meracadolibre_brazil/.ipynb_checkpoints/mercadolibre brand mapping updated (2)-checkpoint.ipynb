{
 "cells": [
  {
   "cell_type": "code",
   "execution_count": null,
   "id": "3baf7c09",
   "metadata": {},
   "outputs": [],
   "source": [
    "## mercadolibre brand mapping\n",
    "## Author : Nitin Bhayana \n",
    "## 10 June 2022\n",
    "## version : 1.0"
   ]
  },
  {
   "cell_type": "code",
   "execution_count": 2,
   "id": "6e4def6f",
   "metadata": {},
   "outputs": [
    {
     "name": "stdout",
     "output_type": "stream",
     "text": [
      "{'user': 'postgres', 'channel_binding': 'prefer', 'dbname': 'postgres', 'host': '1.pgsql.db.1digitalstack.com', 'port': '5432', 'options': '', 'sslmode': 'prefer', 'sslcompression': '0', 'sslsni': '1', 'ssl_min_protocol_version': 'TLSv1.2', 'gssencmode': 'disable', 'krbsrvname': 'postgres', 'target_session_attrs': 'any'} \n",
      "\n",
      "{'user': 'postgres', 'channel_binding': 'prefer', 'dbname': 'postgres', 'host': '2.pgsql.db.1digitalstack.com', 'port': '5432', 'options': '', 'sslmode': 'prefer', 'sslcompression': '0', 'sslsni': '1', 'ssl_min_protocol_version': 'TLSv1.2', 'gssencmode': 'disable', 'krbsrvname': 'postgres', 'target_session_attrs': 'any'} \n",
      "\n",
      "Enter keystone ids with comma.6406c4d592d04690dfec10c7\n",
      " Enter no of days for which data needs brand mapping.\n",
      "130\n"
     ]
    },
    {
     "name": "stderr",
     "output_type": "stream",
     "text": [
      "C:\\Users\\Administrator\\AppData\\Local\\Temp\\2\\ipykernel_151328\\3118012154.py:89: UserWarning: pandas only supports SQLAlchemy connectable (engine/connection) or database string URI or sqlite3 DBAPI2 connection. Other DBAPI2 objects are not tested. Please consider using SQLAlchemy.\n",
      "  serp_details = pd.read_sql_query(query, conn[1])\n",
      "C:\\Users\\Administrator\\AppData\\Local\\Temp\\2\\ipykernel_151328\\3118012154.py:96: SettingWithCopyWarning: \n",
      "A value is trying to be set on a copy of a slice from a DataFrame\n",
      "\n",
      "See the caveats in the documentation: https://pandas.pydata.org/pandas-docs/stable/user_guide/indexing.html#returning-a-view-versus-a-copy\n",
      "  df_ASIN.dropna(inplace=True)\n",
      "C:\\Users\\Administrator\\AppData\\Local\\Temp\\2\\ipykernel_151328\\3118012154.py:108: UserWarning: pandas only supports SQLAlchemy connectable (engine/connection) or database string URI or sqlite3 DBAPI2 connection. Other DBAPI2 objects are not tested. Please consider using SQLAlchemy.\n",
      "  pm_data = pd.read_sql_query(query_2, conn[1])\n"
     ]
    },
    {
     "ename": "DatabaseError",
     "evalue": "Execution failed on sql ' \nSelect channel_sku_id,country_code, brand_name, categories,category_id\nfrom entity.product_master\nwhere channel_sku_id in () \n': syntax error at or near \")\"\nLINE 4: where channel_sku_id in () \n                                 ^\n",
     "output_type": "error",
     "traceback": [
      "\u001b[1;31m---------------------------------------------------------------------------\u001b[0m",
      "\u001b[1;31mSyntaxError\u001b[0m                               Traceback (most recent call last)",
      "File \u001b[1;32m~\\anaconda3\\lib\\site-packages\\pandas\\io\\sql.py:2018\u001b[0m, in \u001b[0;36mSQLiteDatabase.execute\u001b[1;34m(self, *args, **kwargs)\u001b[0m\n\u001b[0;32m   2017\u001b[0m \u001b[38;5;28;01mtry\u001b[39;00m:\n\u001b[1;32m-> 2018\u001b[0m     cur\u001b[38;5;241m.\u001b[39mexecute(\u001b[38;5;241m*\u001b[39margs, \u001b[38;5;241m*\u001b[39m\u001b[38;5;241m*\u001b[39mkwargs)\n\u001b[0;32m   2019\u001b[0m     \u001b[38;5;28;01mreturn\u001b[39;00m cur\n",
      "\u001b[1;31mSyntaxError\u001b[0m: syntax error at or near \")\"\nLINE 4: where channel_sku_id in () \n                                 ^\n",
      "\nThe above exception was the direct cause of the following exception:\n",
      "\u001b[1;31mDatabaseError\u001b[0m                             Traceback (most recent call last)",
      "Cell \u001b[1;32mIn[2], line 108\u001b[0m\n\u001b[0;32m     99\u001b[0m \u001b[38;5;28mlen\u001b[39m(asinlist)\n\u001b[0;32m    102\u001b[0m query_2 \u001b[38;5;241m=\u001b[39m \u001b[38;5;124mf\u001b[39m\u001b[38;5;124m\"\"\"\u001b[39m\u001b[38;5;124m \u001b[39m\n\u001b[0;32m    103\u001b[0m \u001b[38;5;124mSelect channel_sku_id,country_code, brand_name, categories,category_id\u001b[39m\n\u001b[0;32m    104\u001b[0m \u001b[38;5;124mfrom entity.product_master\u001b[39m\n\u001b[0;32m    105\u001b[0m \u001b[38;5;124mwhere channel_sku_id in \u001b[39m\u001b[38;5;132;01m{\u001b[39;00m\u001b[38;5;28mtuple\u001b[39m(asinlist)\u001b[38;5;132;01m}\u001b[39;00m\u001b[38;5;124m \u001b[39m\n\u001b[0;32m    106\u001b[0m \u001b[38;5;124m\"\"\"\u001b[39m\n\u001b[1;32m--> 108\u001b[0m pm_data \u001b[38;5;241m=\u001b[39m \u001b[43mpd\u001b[49m\u001b[38;5;241;43m.\u001b[39;49m\u001b[43mread_sql_query\u001b[49m\u001b[43m(\u001b[49m\u001b[43mquery_2\u001b[49m\u001b[43m,\u001b[49m\u001b[43m \u001b[49m\u001b[43mconn\u001b[49m\u001b[43m[\u001b[49m\u001b[38;5;241;43m1\u001b[39;49m\u001b[43m]\u001b[49m\u001b[43m)\u001b[49m\n\u001b[0;32m    112\u001b[0m mapped_df\u001b[38;5;241m=\u001b[39mpd\u001b[38;5;241m.\u001b[39mmerge(rawdf1,pm_data, how\u001b[38;5;241m=\u001b[39m\u001b[38;5;124m'\u001b[39m\u001b[38;5;124mleft\u001b[39m\u001b[38;5;124m'\u001b[39m, left_on\u001b[38;5;241m=\u001b[39m[\u001b[38;5;124m'\u001b[39m\u001b[38;5;124msku\u001b[39m\u001b[38;5;124m'\u001b[39m],right_on\u001b[38;5;241m=\u001b[39m[\u001b[38;5;124m'\u001b[39m\u001b[38;5;124mchannel_sku_id\u001b[39m\u001b[38;5;124m'\u001b[39m])\n\u001b[0;32m    113\u001b[0m mapped_df\n",
      "File \u001b[1;32m~\\anaconda3\\lib\\site-packages\\pandas\\io\\sql.py:397\u001b[0m, in \u001b[0;36mread_sql_query\u001b[1;34m(sql, con, index_col, coerce_float, params, parse_dates, chunksize, dtype)\u001b[0m\n\u001b[0;32m    339\u001b[0m \u001b[38;5;124;03m\"\"\"\u001b[39;00m\n\u001b[0;32m    340\u001b[0m \u001b[38;5;124;03mRead SQL query into a DataFrame.\u001b[39;00m\n\u001b[0;32m    341\u001b[0m \n\u001b[1;32m   (...)\u001b[0m\n\u001b[0;32m    394\u001b[0m \u001b[38;5;124;03mparameter will be converted to UTC.\u001b[39;00m\n\u001b[0;32m    395\u001b[0m \u001b[38;5;124;03m\"\"\"\u001b[39;00m\n\u001b[0;32m    396\u001b[0m pandas_sql \u001b[38;5;241m=\u001b[39m pandasSQL_builder(con)\n\u001b[1;32m--> 397\u001b[0m \u001b[38;5;28;01mreturn\u001b[39;00m \u001b[43mpandas_sql\u001b[49m\u001b[38;5;241;43m.\u001b[39;49m\u001b[43mread_query\u001b[49m\u001b[43m(\u001b[49m\n\u001b[0;32m    398\u001b[0m \u001b[43m    \u001b[49m\u001b[43msql\u001b[49m\u001b[43m,\u001b[49m\n\u001b[0;32m    399\u001b[0m \u001b[43m    \u001b[49m\u001b[43mindex_col\u001b[49m\u001b[38;5;241;43m=\u001b[39;49m\u001b[43mindex_col\u001b[49m\u001b[43m,\u001b[49m\n\u001b[0;32m    400\u001b[0m \u001b[43m    \u001b[49m\u001b[43mparams\u001b[49m\u001b[38;5;241;43m=\u001b[39;49m\u001b[43mparams\u001b[49m\u001b[43m,\u001b[49m\n\u001b[0;32m    401\u001b[0m \u001b[43m    \u001b[49m\u001b[43mcoerce_float\u001b[49m\u001b[38;5;241;43m=\u001b[39;49m\u001b[43mcoerce_float\u001b[49m\u001b[43m,\u001b[49m\n\u001b[0;32m    402\u001b[0m \u001b[43m    \u001b[49m\u001b[43mparse_dates\u001b[49m\u001b[38;5;241;43m=\u001b[39;49m\u001b[43mparse_dates\u001b[49m\u001b[43m,\u001b[49m\n\u001b[0;32m    403\u001b[0m \u001b[43m    \u001b[49m\u001b[43mchunksize\u001b[49m\u001b[38;5;241;43m=\u001b[39;49m\u001b[43mchunksize\u001b[49m\u001b[43m,\u001b[49m\n\u001b[0;32m    404\u001b[0m \u001b[43m    \u001b[49m\u001b[43mdtype\u001b[49m\u001b[38;5;241;43m=\u001b[39;49m\u001b[43mdtype\u001b[49m\u001b[43m,\u001b[49m\n\u001b[0;32m    405\u001b[0m \u001b[43m\u001b[49m\u001b[43m)\u001b[49m\n",
      "File \u001b[1;32m~\\anaconda3\\lib\\site-packages\\pandas\\io\\sql.py:2078\u001b[0m, in \u001b[0;36mSQLiteDatabase.read_query\u001b[1;34m(self, sql, index_col, coerce_float, params, parse_dates, chunksize, dtype)\u001b[0m\n\u001b[0;32m   2066\u001b[0m \u001b[38;5;28;01mdef\u001b[39;00m \u001b[38;5;21mread_query\u001b[39m(\n\u001b[0;32m   2067\u001b[0m     \u001b[38;5;28mself\u001b[39m,\n\u001b[0;32m   2068\u001b[0m     sql,\n\u001b[1;32m   (...)\u001b[0m\n\u001b[0;32m   2074\u001b[0m     dtype: DtypeArg \u001b[38;5;241m|\u001b[39m \u001b[38;5;28;01mNone\u001b[39;00m \u001b[38;5;241m=\u001b[39m \u001b[38;5;28;01mNone\u001b[39;00m,\n\u001b[0;32m   2075\u001b[0m ) \u001b[38;5;241m-\u001b[39m\u001b[38;5;241m>\u001b[39m DataFrame \u001b[38;5;241m|\u001b[39m Iterator[DataFrame]:\n\u001b[0;32m   2077\u001b[0m     args \u001b[38;5;241m=\u001b[39m _convert_params(sql, params)\n\u001b[1;32m-> 2078\u001b[0m     cursor \u001b[38;5;241m=\u001b[39m \u001b[38;5;28;43mself\u001b[39;49m\u001b[38;5;241;43m.\u001b[39;49m\u001b[43mexecute\u001b[49m\u001b[43m(\u001b[49m\u001b[38;5;241;43m*\u001b[39;49m\u001b[43margs\u001b[49m\u001b[43m)\u001b[49m\n\u001b[0;32m   2079\u001b[0m     columns \u001b[38;5;241m=\u001b[39m [col_desc[\u001b[38;5;241m0\u001b[39m] \u001b[38;5;28;01mfor\u001b[39;00m col_desc \u001b[38;5;129;01min\u001b[39;00m cursor\u001b[38;5;241m.\u001b[39mdescription]\n\u001b[0;32m   2081\u001b[0m     \u001b[38;5;28;01mif\u001b[39;00m chunksize \u001b[38;5;129;01mis\u001b[39;00m \u001b[38;5;129;01mnot\u001b[39;00m \u001b[38;5;28;01mNone\u001b[39;00m:\n",
      "File \u001b[1;32m~\\anaconda3\\lib\\site-packages\\pandas\\io\\sql.py:2030\u001b[0m, in \u001b[0;36mSQLiteDatabase.execute\u001b[1;34m(self, *args, **kwargs)\u001b[0m\n\u001b[0;32m   2027\u001b[0m     \u001b[38;5;28;01mraise\u001b[39;00m ex \u001b[38;5;28;01mfrom\u001b[39;00m \u001b[38;5;21;01minner_exc\u001b[39;00m\n\u001b[0;32m   2029\u001b[0m ex \u001b[38;5;241m=\u001b[39m DatabaseError(\u001b[38;5;124mf\u001b[39m\u001b[38;5;124m\"\u001b[39m\u001b[38;5;124mExecution failed on sql \u001b[39m\u001b[38;5;124m'\u001b[39m\u001b[38;5;132;01m{\u001b[39;00margs[\u001b[38;5;241m0\u001b[39m]\u001b[38;5;132;01m}\u001b[39;00m\u001b[38;5;124m'\u001b[39m\u001b[38;5;124m: \u001b[39m\u001b[38;5;132;01m{\u001b[39;00mexc\u001b[38;5;132;01m}\u001b[39;00m\u001b[38;5;124m\"\u001b[39m)\n\u001b[1;32m-> 2030\u001b[0m \u001b[38;5;28;01mraise\u001b[39;00m ex \u001b[38;5;28;01mfrom\u001b[39;00m \u001b[38;5;21;01mexc\u001b[39;00m\n",
      "\u001b[1;31mDatabaseError\u001b[0m: Execution failed on sql ' \nSelect channel_sku_id,country_code, brand_name, categories,category_id\nfrom entity.product_master\nwhere channel_sku_id in () \n': syntax error at or near \")\"\nLINE 4: where channel_sku_id in () \n                                 ^\n"
     ]
    }
   ],
   "source": [
    "\n",
    "import numpy as np\n",
    "from bs4 import BeautifulSoup\n",
    "\n",
    "\n",
    "from tqdm.notebook import tqdm\n",
    "import time\n",
    "\n",
    "import pandas as pd\n",
    "import psycopg2\n",
    "import datetime\n",
    "\n",
    "from selenium import webdriver\n",
    "from selenium.webdriver.common.by import By\n",
    "import requests\n",
    "from selenium.webdriver.support.ui import WebDriverWait\n",
    "import selenium.webdriver.support.expected_conditions as EC\n",
    "\n",
    "from tqdm import tqdm\n",
    "tqdm.pandas()\n",
    "import time\n",
    "\n",
    "headers = {\"User-Agent\": \"Mozilla/5.0 (Windows NT 10.0; Win64; x64) AppleWebKit/537.36 (KHTML, like Gecko) Chrome/93.0.4577.63 Safari/537.36\",\n",
    "           \"Accept-Encoding\": \"gzip, deflate, br\",\n",
    "           \"Accept\": \"text/html,application/xhtml+xml,application/xml;q=0.9,image/avif,image/webp,image/apng,*/*;q=0.8,application/signed-exchange;v=b3;q=0.9\",\n",
    "           \"DNT\":\"1\",\n",
    "           \"Connection\":\"close\",\n",
    "           \"Upgrade-Insecure-Requests\": \"1\"}\n",
    "\n",
    "class postgres_conn:\n",
    "    def getConn(self):\n",
    "        try:\n",
    "            connection = psycopg2.connect(user='postgres',\n",
    "                                          password='postgres_007',\n",
    "                                          host=\"1.pgsql.db.1digitalstack.com\",\n",
    "                                          port='5432',\n",
    "                                          database='postgres')\n",
    "\n",
    "            cursor = connection.cursor()\n",
    "            # Print PostgreSQL Connection properties\n",
    "            print(connection.get_dsn_parameters(), \"\\n\")\n",
    "\n",
    "            # Print PostgreSQL version\n",
    "            return cursor, connection\n",
    "\n",
    "        except (Exception, psycopg2.Error) as error:\n",
    "            print(\"Error while connecting to PostgreSQL\", error)\n",
    "            return error, error\n",
    "    def getConn2(self):\n",
    "        try:\n",
    "            connection = psycopg2.connect(user='postgres',\n",
    "                                          password='reporting_007',\n",
    "                                          host=\"2.pgsql.db.1digitalstack.com\",\n",
    "                                          port='5432',\n",
    "                                          database='postgres')\n",
    "\n",
    "            cursor = connection.cursor()\n",
    "            # Print PostgreSQL Connection properties\n",
    "            print(connection.get_dsn_parameters(), \"\\n\")\n",
    "\n",
    "            # Print PostgreSQL version\n",
    "            return cursor, connection\n",
    "\n",
    "        except (Exception, psycopg2.Error) as error:\n",
    "            print(\"Error while connecting to PostgreSQL\", error)\n",
    "            return error, error\n",
    "\n",
    "\n",
    "    def close_connection(self, cursor, connection):\n",
    "        # closing database connection.\n",
    "        if(connection):\n",
    "            cursor.close()\n",
    "            connection.close()\n",
    "            print(\"PostgreSQL connection is closed\")\n",
    "            \n",
    "pg = postgres_conn()\n",
    "conn = pg.getConn()\n",
    "conn2 = pg.getConn2()\n",
    "\n",
    "job_id=input(\"Enter keystone ids with comma.\").split(\",\")\n",
    "days=input(\" Enter no of days for which data needs brand mapping.\\n\")\n",
    "job_id.append(\"\")\n",
    "tuple(job_id)\n",
    "\n",
    "query = f\"\"\"\n",
    "select brand,title,sku,job_name,channel_id\n",
    "from ready.serp_details smd join ready.serp_mongo_details m on m.serp_mongo_id=smd.serp_mongo_id\n",
    "where smd.crawl_date > now() - interval '{days} day' and keystone_job_id in {tuple(job_id)}\n",
    "\"\"\"\n",
    "serp_details = pd.read_sql_query(query, conn[1])\n",
    "\n",
    "rawdf=serp_details.drop_duplicates('sku')\n",
    "\n",
    "rawdf1=rawdf\n",
    "\n",
    "df_ASIN = rawdf1[[\"sku\"]]\n",
    "df_ASIN.dropna(inplace=True)\n",
    "df_ASIN.drop_duplicates(inplace=True)\n",
    "asinlist = list(df_ASIN['sku'])\n",
    "len(asinlist)\n",
    "\n",
    "\n",
    "query_2 = f\"\"\" \n",
    "Select channel_sku_id,country_code, brand_name, categories,category_id\n",
    "from entity.product_master\n",
    "where channel_sku_id in {tuple(asinlist)} \n",
    "\"\"\"\n",
    "\n",
    "pm_data = pd.read_sql_query(query_2, conn[1])\n",
    "\n",
    "\n",
    "\n",
    "mapped_df=pd.merge(rawdf1,pm_data, how='left', left_on=['sku'],right_on=['channel_sku_id'])\n",
    "mapped_df"
   ]
  },
  {
   "cell_type": "code",
   "execution_count": 2,
   "id": "9972b16b",
   "metadata": {},
   "outputs": [
    {
     "data": {
      "text/html": [
       "<div>\n",
       "<style scoped>\n",
       "    .dataframe tbody tr th:only-of-type {\n",
       "        vertical-align: middle;\n",
       "    }\n",
       "\n",
       "    .dataframe tbody tr th {\n",
       "        vertical-align: top;\n",
       "    }\n",
       "\n",
       "    .dataframe thead th {\n",
       "        text-align: right;\n",
       "    }\n",
       "</style>\n",
       "<table border=\"1\" class=\"dataframe\">\n",
       "  <thead>\n",
       "    <tr style=\"text-align: right;\">\n",
       "      <th></th>\n",
       "      <th>channel_id</th>\n",
       "      <th>sku</th>\n",
       "      <th>title</th>\n",
       "      <th>brand_name</th>\n",
       "    </tr>\n",
       "  </thead>\n",
       "  <tbody>\n",
       "    <tr>\n",
       "      <th>9</th>\n",
       "      <td>46</td>\n",
       "      <td>MLM-1932140489</td>\n",
       "      <td>Nutribullet Combo 1200w</td>\n",
       "      <td>NaN</td>\n",
       "    </tr>\n",
       "    <tr>\n",
       "      <th>52</th>\n",
       "      <td>46</td>\n",
       "      <td>MLM-655657821</td>\n",
       "      <td>Pack With 18 Chartpak Markers</td>\n",
       "      <td>NaN</td>\n",
       "    </tr>\n",
       "    <tr>\n",
       "      <th>111</th>\n",
       "      <td>46</td>\n",
       "      <td>MLM-1676758118</td>\n",
       "      <td>Household Multifunctional Nutrition Blender 11...</td>\n",
       "      <td>NaN</td>\n",
       "    </tr>\n",
       "    <tr>\n",
       "      <th>130</th>\n",
       "      <td>46</td>\n",
       "      <td>MLM-1894623119</td>\n",
       "      <td>Chefman Rj07-45-ss Jumbo Fryer 4.5 L Stainless...</td>\n",
       "      <td>NaN</td>\n",
       "    </tr>\n",
       "    <tr>\n",
       "      <th>177</th>\n",
       "      <td>46</td>\n",
       "      <td>MLM-1419026548</td>\n",
       "      <td>Hamilton Beach Eclipse Hbh755 2 L 3 Hp Industr...</td>\n",
       "      <td>NaN</td>\n",
       "    </tr>\n",
       "    <tr>\n",
       "      <th>...</th>\n",
       "      <td>...</td>\n",
       "      <td>...</td>\n",
       "      <td>...</td>\n",
       "      <td>...</td>\n",
       "    </tr>\n",
       "    <tr>\n",
       "      <th>1878</th>\n",
       "      <td>46</td>\n",
       "      <td>MLM-1789315399</td>\n",
       "      <td>Royal Prestige Easy Release Nonstick Frying Pan</td>\n",
       "      <td>NaN</td>\n",
       "    </tr>\n",
       "    <tr>\n",
       "      <th>1879</th>\n",
       "      <td>46</td>\n",
       "      <td>MLM-1432294704</td>\n",
       "      <td>Royal Prestige Battery (5pcs)</td>\n",
       "      <td>NaN</td>\n",
       "    </tr>\n",
       "    <tr>\n",
       "      <th>1936</th>\n",
       "      <td>46</td>\n",
       "      <td>MLM-1369946019</td>\n",
       "      <td>Package Nutrininja Cups 18oz With Blade 6 Fema...</td>\n",
       "      <td>NaN</td>\n",
       "    </tr>\n",
       "    <tr>\n",
       "      <th>1944</th>\n",
       "      <td>46</td>\n",
       "      <td>MLM-821621973</td>\n",
       "      <td>01 Man Mini Blender Glass (porridge Coffee Bea...</td>\n",
       "      <td>NaN</td>\n",
       "    </tr>\n",
       "    <tr>\n",
       "      <th>1946</th>\n",
       "      <td>46</td>\n",
       "      <td>MLM-1462194062</td>\n",
       "      <td>Electric Air Fryer Xl 5l Rotisserie Ninja Af15...</td>\n",
       "      <td>NaN</td>\n",
       "    </tr>\n",
       "  </tbody>\n",
       "</table>\n",
       "<p>69 rows × 4 columns</p>\n",
       "</div>"
      ],
      "text/plain": [
       "      channel_id             sku  \\\n",
       "9             46  MLM-1932140489   \n",
       "52            46   MLM-655657821   \n",
       "111           46  MLM-1676758118   \n",
       "130           46  MLM-1894623119   \n",
       "177           46  MLM-1419026548   \n",
       "...          ...             ...   \n",
       "1878          46  MLM-1789315399   \n",
       "1879          46  MLM-1432294704   \n",
       "1936          46  MLM-1369946019   \n",
       "1944          46   MLM-821621973   \n",
       "1946          46  MLM-1462194062   \n",
       "\n",
       "                                                  title brand_name  \n",
       "9                               Nutribullet Combo 1200w        NaN  \n",
       "52                        Pack With 18 Chartpak Markers        NaN  \n",
       "111   Household Multifunctional Nutrition Blender 11...        NaN  \n",
       "130   Chefman Rj07-45-ss Jumbo Fryer 4.5 L Stainless...        NaN  \n",
       "177   Hamilton Beach Eclipse Hbh755 2 L 3 Hp Industr...        NaN  \n",
       "...                                                 ...        ...  \n",
       "1878    Royal Prestige Easy Release Nonstick Frying Pan        NaN  \n",
       "1879                      Royal Prestige Battery (5pcs)        NaN  \n",
       "1936  Package Nutrininja Cups 18oz With Blade 6 Fema...        NaN  \n",
       "1944  01 Man Mini Blender Glass (porridge Coffee Bea...        NaN  \n",
       "1946  Electric Air Fryer Xl 5l Rotisserie Ninja Af15...        NaN  \n",
       "\n",
       "[69 rows x 4 columns]"
      ]
     },
     "execution_count": 2,
     "metadata": {},
     "output_type": "execute_result"
    }
   ],
   "source": [
    "df2=mapped_df[mapped_df['categories'].isnull()][['channel_id','sku','title','brand_name']]\n",
    "df2"
   ]
  },
  {
   "cell_type": "code",
   "execution_count": 3,
   "id": "0334b6c0",
   "metadata": {},
   "outputs": [
    {
     "data": {
      "text/html": [
       "<div>\n",
       "<style scoped>\n",
       "    .dataframe tbody tr th:only-of-type {\n",
       "        vertical-align: middle;\n",
       "    }\n",
       "\n",
       "    .dataframe tbody tr th {\n",
       "        vertical-align: top;\n",
       "    }\n",
       "\n",
       "    .dataframe thead th {\n",
       "        text-align: right;\n",
       "    }\n",
       "</style>\n",
       "<table border=\"1\" class=\"dataframe\">\n",
       "  <thead>\n",
       "    <tr style=\"text-align: right;\">\n",
       "      <th></th>\n",
       "      <th>channel_sku_id</th>\n",
       "      <th>brand_name</th>\n",
       "      <th>categories</th>\n",
       "      <th>sold</th>\n",
       "    </tr>\n",
       "  </thead>\n",
       "  <tbody>\n",
       "  </tbody>\n",
       "</table>\n",
       "</div>"
      ],
      "text/plain": [
       "Empty DataFrame\n",
       "Columns: [channel_sku_id, brand_name, categories, sold]\n",
       "Index: []"
      ]
     },
     "execution_count": 3,
     "metadata": {},
     "output_type": "execute_result"
    }
   ],
   "source": [
    "df=pd.DataFrame(columns=['channel_sku_id','brand_name','categories','sold'])\n",
    "df"
   ]
  },
  {
   "cell_type": "code",
   "execution_count": 4,
   "id": "48476bb4",
   "metadata": {},
   "outputs": [
    {
     "data": {
      "text/plain": [
       "69"
      ]
     },
     "execution_count": 4,
     "metadata": {},
     "output_type": "execute_result"
    }
   ],
   "source": [
    "asinlist = list(df2['sku'])\n",
    "len(asinlist)"
   ]
  },
  {
   "cell_type": "code",
   "execution_count": 5,
   "id": "4116b4ca",
   "metadata": {},
   "outputs": [
    {
     "data": {
      "text/plain": [
       "2"
      ]
     },
     "execution_count": 5,
     "metadata": {},
     "output_type": "execute_result"
    }
   ],
   "source": [
    "batches=int(len(asinlist)/50 )+1\n",
    "batches"
   ]
  },
  {
   "cell_type": "code",
   "execution_count": 6,
   "id": "f0ceb95e",
   "metadata": {},
   "outputs": [
    {
     "data": {
      "text/plain": [
       "['MLM-1932140489',\n",
       " 'MLM-655657821',\n",
       " 'MLM-1676758118',\n",
       " 'MLM-1894623119',\n",
       " 'MLM-1419026548',\n",
       " 'MLM-954781322',\n",
       " 'MLM-1368902727',\n",
       " 'MLM-1932116015',\n",
       " 'MLM-748106266',\n",
       " 'MLM-962383689',\n",
       " 'MLM-1907576177',\n",
       " 'MLM-2061627282',\n",
       " 'MLM-1487023747',\n",
       " 'MLM-2243741204',\n",
       " 'MLM21426271',\n",
       " 'MLM23213407',\n",
       " 'MLM-1919293799',\n",
       " 'MLM-1828431474',\n",
       " 'MLM-901982304',\n",
       " 'MLM-1932218887',\n",
       " 'MLM-2375756250',\n",
       " 'MLM-1917013387',\n",
       " 'MLM-942619643',\n",
       " 'MLM-2133001756',\n",
       " 'MLM-1931886789',\n",
       " 'MLM-2412252466',\n",
       " 'MLM-1429201335',\n",
       " 'MLM-1421714052',\n",
       " 'MLM-807557261',\n",
       " 'MLM19044793',\n",
       " 'MLM-1924354771',\n",
       " 'MLM-2407313334',\n",
       " 'MLM-2246388968',\n",
       " 'MLM-1889953193',\n",
       " 'MLM-2412579696',\n",
       " 'MLM-954777052',\n",
       " 'MLM-956272886',\n",
       " 'MLM-878904962',\n",
       " 'MLM-2237884654',\n",
       " 'MLM-1313708899',\n",
       " 'MLM-1393709375',\n",
       " 'MLM-1931886785',\n",
       " 'MLM-2412252462',\n",
       " 'MLM-1539876286',\n",
       " 'MLM-1522156972',\n",
       " 'MLM-949893867',\n",
       " 'MLM21618840',\n",
       " 'MLM-1778823360',\n",
       " 'MLM-1457682979',\n",
       " 'MLM21420324',\n",
       " 'MLM-1351543302',\n",
       " 'MLM24345298',\n",
       " 'MLM-2083620084',\n",
       " 'MLM-1730270787',\n",
       " 'MLM-1372763474',\n",
       " 'MLM-1309708655',\n",
       " 'MLM-1471491084',\n",
       " 'MLM-583488855',\n",
       " 'MLM-679760324',\n",
       " 'MLM-1851731967',\n",
       " 'MLM-1324139884',\n",
       " 'MLM-1527945298',\n",
       " 'MLM-1700881852',\n",
       " 'MLM-2385624292',\n",
       " 'MLM-1789315399',\n",
       " 'MLM-1432294704',\n",
       " 'MLM-1369946019',\n",
       " 'MLM-821621973',\n",
       " 'MLM-1462194062']"
      ]
     },
     "execution_count": 6,
     "metadata": {},
     "output_type": "execute_result"
    }
   ],
   "source": [
    "asinlist"
   ]
  },
  {
   "cell_type": "code",
   "execution_count": null,
   "id": "410924d2",
   "metadata": {},
   "outputs": [],
   "source": []
  },
  {
   "cell_type": "code",
   "execution_count": null,
   "id": "0d098f43",
   "metadata": {
    "scrolled": true
   },
   "outputs": [
    {
     "name": "stderr",
     "output_type": "stream",
     "text": [
      "\r",
      "  0%|                                                                                           | 0/69 [00:00<?, ?it/s]"
     ]
    },
    {
     "name": "stdout",
     "output_type": "stream",
     "text": [
      "0\n",
      "0 MLM-1932140489\n",
      "https://articulo.mercadolibre.com.mx/MLM-1932140489\n",
      "Nutribullet\n",
      "['Electrodomésticos', 'Pequeños Electrodomésticos', 'Para Cocina', 'Preparación de Bebidas', 'Licuadoras']\n",
      "Usado\n",
      "0 MLM-655657821\n",
      "https://articulo.mercadolibre.com.mx/MLM-655657821\n"
     ]
    },
    {
     "name": "stderr",
     "output_type": "stream",
     "text": [
      "C:\\Users\\Administrator\\AppData\\Local\\Temp\\2\\ipykernel_142992\\3236900016.py:65: FutureWarning: The frame.append method is deprecated and will be removed from pandas in a future version. Use pandas.concat instead.\n",
      "  df=df.append(df1, ignore_index = True)\n"
     ]
    },
    {
     "name": "stdout",
     "output_type": "stream",
     "text": [
      "Chartpak\n",
      "['Arte, Papelería y Mercería', 'Papelería', 'Escolar', 'Escritura', 'Marcadores y Marcatextos']\n",
      "Nuevo  |  +5 vendidos\n",
      "0 MLM-1676758118\n",
      "https://articulo.mercadolibre.com.mx/MLM-1676758118\n"
     ]
    },
    {
     "name": "stderr",
     "output_type": "stream",
     "text": [
      "C:\\Users\\Administrator\\AppData\\Local\\Temp\\2\\ipykernel_142992\\3236900016.py:65: FutureWarning: The frame.append method is deprecated and will be removed from pandas in a future version. Use pandas.concat instead.\n",
      "  df=df.append(df1, ignore_index = True)\n"
     ]
    },
    {
     "name": "stdout",
     "output_type": "stream",
     "text": [
      "Silver Crest\n",
      "['Electrodomésticos', 'Pequeños Electrodomésticos', 'Para Cocina', 'Preparación de Bebidas', 'Licuadoras']\n",
      "Nuevo  |  +50 vendidos\n",
      "0 MLM-1894623119\n",
      "https://articulo.mercadolibre.com.mx/MLM-1894623119\n"
     ]
    },
    {
     "name": "stderr",
     "output_type": "stream",
     "text": [
      "C:\\Users\\Administrator\\AppData\\Local\\Temp\\2\\ipykernel_142992\\3236900016.py:65: FutureWarning: The frame.append method is deprecated and will be removed from pandas in a future version. Use pandas.concat instead.\n",
      "  df=df.append(df1, ignore_index = True)\n"
     ]
    },
    {
     "name": "stdout",
     "output_type": "stream",
     "text": [
      "Chefman\n",
      "['...', 'Pequeños Electrodomésticos', 'Para Cocina', 'Preparación de Alimentos', 'Freidoras', 'De Aceite']\n",
      "Nuevo\n",
      "0 MLM-1419026548\n",
      "https://articulo.mercadolibre.com.mx/MLM-1419026548\n"
     ]
    },
    {
     "name": "stderr",
     "output_type": "stream",
     "text": [
      "C:\\Users\\Administrator\\AppData\\Local\\Temp\\2\\ipykernel_142992\\3236900016.py:65: FutureWarning: The frame.append method is deprecated and will be removed from pandas in a future version. Use pandas.concat instead.\n",
      "  df=df.append(df1, ignore_index = True)\n"
     ]
    },
    {
     "name": "stdout",
     "output_type": "stream",
     "text": [
      "Hamilton Beach\n",
      "['Electrodomésticos', 'Pequeños Electrodomésticos', 'Para Cocina', 'Preparación de Bebidas', 'Licuadoras']\n",
      "Nuevo\n",
      "0 MLM-954781322\n",
      "https://articulo.mercadolibre.com.mx/MLM-954781322\n"
     ]
    },
    {
     "name": "stderr",
     "output_type": "stream",
     "text": [
      "C:\\Users\\Administrator\\AppData\\Local\\Temp\\2\\ipykernel_142992\\3236900016.py:65: FutureWarning: The frame.append method is deprecated and will be removed from pandas in a future version. Use pandas.concat instead.\n",
      "  df=df.append(df1, ignore_index = True)\n"
     ]
    },
    {
     "name": "stdout",
     "output_type": "stream",
     "text": [
      "Ninja\n",
      "['Electrodomésticos', 'Pequeños Electrodomésticos', 'Para Cocina', 'Preparación de Bebidas', 'Licuadoras']\n",
      "na\n",
      "0 MLM-1368902727\n",
      "https://articulo.mercadolibre.com.mx/MLM-1368902727\n"
     ]
    },
    {
     "name": "stderr",
     "output_type": "stream",
     "text": [
      "C:\\Users\\Administrator\\AppData\\Local\\Temp\\2\\ipykernel_142992\\3236900016.py:65: FutureWarning: The frame.append method is deprecated and will be removed from pandas in a future version. Use pandas.concat instead.\n",
      "  df=df.append(df1, ignore_index = True)\n"
     ]
    },
    {
     "name": "stdout",
     "output_type": "stream",
     "text": [
      "Ninja\n",
      "['Electrodomésticos', 'Pequeños Electrodomésticos', 'Para Cocina', 'Preparación de Bebidas', 'Licuadoras']\n",
      "Nuevo  |  +25 vendidos\n",
      "0 MLM-1932116015\n",
      "https://articulo.mercadolibre.com.mx/MLM-1932116015\n"
     ]
    },
    {
     "name": "stderr",
     "output_type": "stream",
     "text": [
      "C:\\Users\\Administrator\\AppData\\Local\\Temp\\2\\ipykernel_142992\\3236900016.py:65: FutureWarning: The frame.append method is deprecated and will be removed from pandas in a future version. Use pandas.concat instead.\n",
      "  df=df.append(df1, ignore_index = True)\n"
     ]
    },
    {
     "name": "stdout",
     "output_type": "stream",
     "text": [
      "Nutribullet\n",
      "['Electrodomésticos', 'Pequeños Electrodomésticos', 'Para Cocina', 'Preparación de Bebidas', 'Licuadoras']\n",
      "Usado\n",
      "0 MLM-748106266\n",
      "https://articulo.mercadolibre.com.mx/MLM-748106266\n"
     ]
    },
    {
     "name": "stderr",
     "output_type": "stream",
     "text": [
      "C:\\Users\\Administrator\\AppData\\Local\\Temp\\2\\ipykernel_142992\\3236900016.py:65: FutureWarning: The frame.append method is deprecated and will be removed from pandas in a future version. Use pandas.concat instead.\n",
      "  df=df.append(df1, ignore_index = True)\n"
     ]
    },
    {
     "name": "stdout",
     "output_type": "stream",
     "text": [
      "Hamilton Beach\n",
      "['Electrodomésticos', 'Pequeños Electrodomésticos', 'Para Cocina', 'Preparación de Alimentos', 'Vaporeras']\n",
      "Nuevo  |  +100 vendidos\n",
      "0 MLM-962383689\n",
      "https://articulo.mercadolibre.com.mx/MLM-962383689\n"
     ]
    },
    {
     "name": "stderr",
     "output_type": "stream",
     "text": [
      "C:\\Users\\Administrator\\AppData\\Local\\Temp\\2\\ipykernel_142992\\3236900016.py:65: FutureWarning: The frame.append method is deprecated and will be removed from pandas in a future version. Use pandas.concat instead.\n",
      "  df=df.append(df1, ignore_index = True)\n"
     ]
    }
   ],
   "source": [
    "for batch in tqdm(range(0,len(asinlist))):\n",
    "    print(batch)\n",
    "    for val in (range(batch*50,(batch*50)+50)):\n",
    "        i=asinlist[val]\n",
    "        print(batch,i)\n",
    "        if \"-\" in i:\n",
    "            Url== \"https://produto.mercadolibre.com.br/{}\".format(i)\n",
    "        else:\n",
    "            Url=\"https://www.mercadolivre.com.br//p/{}\".format(i)\n",
    "\n",
    "        #Url = \"https://produto.mercadolibre.com.br/{}\".format(i)\n",
    "        #Url = \"https://articulo.mercadolibre.com.mx/{}\".format(i)\n",
    "        print(Url)\n",
    "        value=''\n",
    "        #s= get_session(proxies)\n",
    "        r= requests.get(Url,headers=headers)\n",
    "\n",
    "        soup=BeautifulSoup(r.content,'html.parser')\n",
    "\n",
    "        try:\n",
    "            main=soup.find('div',class_=\"ui-pdp-specs__table\")\n",
    "            labels=[labels.text for labels in main.find_all('th')]\n",
    "            try:\n",
    "                index=labels.index('Marca')\n",
    "                value=soup.find_all('td')[index].text\n",
    "                print(value)\n",
    "            except:\n",
    "                value= 'not available'\n",
    "                print(value)\n",
    "        except:\n",
    "            pass\n",
    "\n",
    "        try:\n",
    "            main=soup.find('div',class_=\"ui-vpp-striped-specs\")\n",
    "            labels=[labels.text for labels in main.find_all('th')]\n",
    "            try:\n",
    "                index=labels.index('Marca')\n",
    "                value=soup.find_all('td')[index].text\n",
    "                print(value)\n",
    "            except:\n",
    "                value= 'not available'\n",
    "                print(value)\n",
    "        except:\n",
    "            pass\n",
    "\n",
    "        try:\n",
    "            category=soup.find('div',class_=\"ui-pdp-breadcrumb\")\n",
    "            cats=[labels.text for labels in category.find_all('li')]\n",
    "            print(cats)\n",
    "        except:\n",
    "            cats=[]\n",
    "\n",
    "        try:\n",
    "            sales=soup.find('div',class_='ui-pdp-header')\n",
    "            d=sales.find('span',class_='ui-pdp-subtitle')\n",
    "            sold=d.text\n",
    "            print(sold)\n",
    "        except:\n",
    "            sold='na'\n",
    "            print(sold)\n",
    "\n",
    "        df1={'channel_sku_id': i, 'brand_name': value, 'categories': cats, 'sold':sold}\n",
    "        df=df.append(df1, ignore_index = True)\n",
    "    time.sleep(300)"
   ]
  },
  {
   "cell_type": "code",
   "execution_count": null,
   "id": "05daede4",
   "metadata": {},
   "outputs": [],
   "source": [
    "df"
   ]
  },
  {
   "cell_type": "code",
   "execution_count": null,
   "id": "f60d5942",
   "metadata": {
    "scrolled": true
   },
   "outputs": [],
   "source": [
    "df.info()"
   ]
  },
  {
   "cell_type": "code",
   "execution_count": null,
   "id": "d64d0a97",
   "metadata": {},
   "outputs": [],
   "source": [
    "final1=pd.merge(rawdf1,df,left_on='sku', right_on='Asin', how= 'right')\n",
    "final=final1[['sku','title','Asin','Brand','Category','sold']]"
   ]
  },
  {
   "cell_type": "code",
   "execution_count": null,
   "id": "d6383d0d",
   "metadata": {
    "scrolled": true
   },
   "outputs": [],
   "source": [
    "final"
   ]
  },
  {
   "cell_type": "code",
   "execution_count": null,
   "id": "7750fa56",
   "metadata": {},
   "outputs": [],
   "source": [
    "request_no=input(\"Enter the request number of the requests seperated with underscore(_) \")\n",
    "#547_552\n",
    "file='final_output_carrefour_spain_{}.xlsx'.format(request_no)"
   ]
  },
  {
   "cell_type": "code",
   "execution_count": null,
   "id": "cba6ced5",
   "metadata": {},
   "outputs": [],
   "source": [
    "final.to_excel(file)"
   ]
  },
  {
   "cell_type": "code",
   "execution_count": null,
   "id": "d714e103",
   "metadata": {},
   "outputs": [],
   "source": [
    "import smtplib\n",
    "from email.mime.text import MIMEText\n",
    "from email.mime.multipart import MIMEMultipart\n",
    "from email.mime.base import MIMEBase\n",
    "from email import encoders\n",
    "\n",
    "email_user = 'alerts@1digitalstack.ai'\n",
    "email_password = ''\n",
    "email_send = ['nitin.bhayana@1digitalstack.ai','sambhav.jain@1digitalstack.ai','ghansham.pindoriya@1digitalstack.ai','karan.kumar@1digitalstack.ai','tanuja.thakur@1digitalstack.ai']\n",
    "\n",
    "subject = file\n",
    "msg = MIMEMultipart()\n",
    "msg['From'] = email_user\n",
    "#msg['From'] = \"'Abhishek' <{email_user}>\"\n",
    "msg['To'] = ', '.join(email_send)\n",
    "msg['Subject'] = subject\n",
    "\n",
    "body = 'Hi,\\n\\nPFA of today''s brand mapping of mercodilibre'\n",
    "msg.attach(MIMEText(body,'plain'))\n",
    "\n",
    "filename=[file]\n",
    "\n",
    "for file in filename:\n",
    "    attachment  =open(file,'rb')\n",
    "    part = MIMEBase('application','octet-stream')\n",
    "    part.set_payload((attachment).read())\n",
    "    encoders.encode_base64(part)\n",
    "    part.add_header('Content-Disposition',\"attachment; filename= \"+file)\n",
    "    msg.attach(part)\n",
    "    text = msg.as_string()\n",
    "\n",
    "server = smtplib.SMTP('1digitalstack.com',25)\n",
    "#server.login(email_user,email_password)\n",
    "\n",
    "server.sendmail(email_user,email_send,text)\n",
    "server.quit()\n"
   ]
  },
  {
   "cell_type": "code",
   "execution_count": null,
   "id": "2810ad6d",
   "metadata": {},
   "outputs": [],
   "source": []
  },
  {
   "cell_type": "code",
   "execution_count": null,
   "id": "85e09950",
   "metadata": {},
   "outputs": [],
   "source": [
    "final"
   ]
  },
  {
   "cell_type": "code",
   "execution_count": null,
   "id": "126cf40a",
   "metadata": {},
   "outputs": [],
   "source": []
  },
  {
   "cell_type": "code",
   "execution_count": null,
   "id": "3ac5e49a",
   "metadata": {},
   "outputs": [],
   "source": []
  },
  {
   "cell_type": "code",
   "execution_count": null,
   "id": "34f20359",
   "metadata": {},
   "outputs": [],
   "source": []
  },
  {
   "cell_type": "code",
   "execution_count": null,
   "id": "a365de1a",
   "metadata": {},
   "outputs": [],
   "source": []
  },
  {
   "cell_type": "code",
   "execution_count": null,
   "id": "cd81b35b",
   "metadata": {},
   "outputs": [],
   "source": [
    "Url ='https://articulo.mercadolibre.com.mx/MLM-1422791955'"
   ]
  },
  {
   "cell_type": "code",
   "execution_count": null,
   "id": "685a89f4",
   "metadata": {},
   "outputs": [],
   "source": [
    "r= requests.get(Url,headers=headers)\n",
    "soup=BeautifulSoup(r.content,'html.parser')\n",
    "main=soup.find('div',class_=\"ui-pdp-description\")\n",
    "main"
   ]
  },
  {
   "cell_type": "code",
   "execution_count": null,
   "id": "1d11ef65",
   "metadata": {},
   "outputs": [],
   "source": [
    "main"
   ]
  },
  {
   "cell_type": "code",
   "execution_count": null,
   "id": "d9ac7377",
   "metadata": {},
   "outputs": [],
   "source": [
    "labels=[labels.text for labels in main]\n",
    "labels\n"
   ]
  },
  {
   "cell_type": "code",
   "execution_count": null,
   "id": "5980e4de",
   "metadata": {},
   "outputs": [],
   "source": [
    "try:\n",
    "            main=soup.find('div',class_=\"ui-pdp-specs__table\")\n",
    "            labels=[labels.text for labels in main.find_all('th')]\n",
    "            try:\n",
    "                index=labels.index('Marca')\n",
    "                value=soup.find_all('td')[index].text\n",
    "                print(value)\n",
    "            except:\n",
    "                value= 'not available'\n",
    "                print(value)\n",
    "        except:\n",
    "            pass"
   ]
  },
  {
   "cell_type": "code",
   "execution_count": null,
   "id": "e8f2fa0f",
   "metadata": {},
   "outputs": [],
   "source": []
  },
  {
   "cell_type": "code",
   "execution_count": null,
   "id": "3ded6e3f",
   "metadata": {},
   "outputs": [],
   "source": []
  },
  {
   "cell_type": "code",
   "execution_count": null,
   "id": "7c0789d7",
   "metadata": {},
   "outputs": [],
   "source": []
  },
  {
   "cell_type": "code",
   "execution_count": null,
   "id": "99d2cff7",
   "metadata": {},
   "outputs": [],
   "source": []
  },
  {
   "cell_type": "code",
   "execution_count": null,
   "id": "b1225410",
   "metadata": {},
   "outputs": [],
   "source": []
  },
  {
   "cell_type": "code",
   "execution_count": null,
   "id": "5e11730b",
   "metadata": {},
   "outputs": [],
   "source": [
    "import pandas as pd\n",
    "import numpy as np\n",
    "\n",
    "from selenium import webdriver\n",
    "from selenium.webdriver.common.by import By\n",
    "import requests\n",
    "from selenium.webdriver.support.ui import WebDriverWait\n",
    "import selenium.webdriver.support.expected_conditions as EC\n",
    "#from tqdm.notebook import tqdm\n",
    "from tqdm import tqdm\n",
    "tqdm.pandas()\n",
    "import time"
   ]
  },
  {
   "cell_type": "code",
   "execution_count": null,
   "id": "f4a5e729",
   "metadata": {},
   "outputs": [],
   "source": [
    "chrome_options = webdriver.ChromeOptions()\n",
    "chrome_options.add_argument(\"--incognito\")\n",
    "driver = webdriver.Chrome(executable_path = r'C:\\Users\\Administrator\\Desktop\\chromedriver.exe',chrome_options = chrome_options)\n"
   ]
  },
  {
   "cell_type": "code",
   "execution_count": null,
   "id": "232e5cad",
   "metadata": {},
   "outputs": [],
   "source": [
    "link=Url"
   ]
  },
  {
   "cell_type": "code",
   "execution_count": null,
   "id": "308503c4",
   "metadata": {},
   "outputs": [],
   "source": [
    "        print(link)\n",
    "        driver.get(link)\n",
    "        WebDriverWait(driver, timeout).until(EC.visibility_of_element_located((By.ID, locator)))\n",
    "        "
   ]
  },
  {
   "cell_type": "code",
   "execution_count": null,
   "id": "3c81ae0b",
   "metadata": {},
   "outputs": [],
   "source": []
  }
 ],
 "metadata": {
  "kernelspec": {
   "display_name": "Python 3 (ipykernel)",
   "language": "python",
   "name": "python3"
  },
  "language_info": {
   "codemirror_mode": {
    "name": "ipython",
    "version": 3
   },
   "file_extension": ".py",
   "mimetype": "text/x-python",
   "name": "python",
   "nbconvert_exporter": "python",
   "pygments_lexer": "ipython3",
   "version": "3.10.9"
  }
 },
 "nbformat": 4,
 "nbformat_minor": 5
}
