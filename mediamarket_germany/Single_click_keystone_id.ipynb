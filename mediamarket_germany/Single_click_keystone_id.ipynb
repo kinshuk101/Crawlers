{
 "cells": [
  {
   "cell_type": "code",
   "execution_count": 2,
   "id": "ce730d0d",
   "metadata": {},
   "outputs": [],
   "source": [
    "import pandas as pd\n",
    "import psycopg2\n",
    "import numpy as np\n",
    "\n",
    "\n",
    "\n",
    "from selenium import webdriver\n",
    "from selenium.webdriver.common.by import By\n",
    "import requests\n",
    "from selenium.webdriver.support.ui import WebDriverWait\n",
    "import selenium.webdriver.support.expected_conditions as EC\n",
    "from selenium.webdriver.chrome.options import Options\n",
    "from selenium.webdriver.chrome.service import Service\n",
    "\n",
    "\n",
    "\n",
    "from tqdm import tqdm\n",
    "tqdm.pandas()\n",
    "import time\n",
    "\n",
    "\n",
    "\n",
    "from bs4 import BeautifulSoup\n",
    "import re\n",
    "\n",
    "import smtplib\n",
    "from email.mime.text import MIMEText\n",
    "from email.mime.multipart import MIMEMultipart\n",
    "from email.mime.base import MIMEBase\n",
    "from email import encoders\n"
   ]
  },
  {
   "cell_type": "code",
   "execution_count": 3,
   "id": "254476aa",
   "metadata": {},
   "outputs": [],
   "source": [
    "s = Service(\"../chromedriver_win32/chromedriver.exe\")"
   ]
  },
  {
   "cell_type": "raw",
   "id": "a236b7a9",
   "metadata": {},
   "source": [
    "scraping category node and first image rest of details are in serp"
   ]
  },
  {
   "cell_type": "code",
   "execution_count": 4,
   "id": "d9efe55e",
   "metadata": {},
   "outputs": [
    {
     "name": "stdout",
     "output_type": "stream",
     "text": [
      "{'user': 'postgres', 'channel_binding': 'prefer', 'dbname': 'postgres', 'host': '1.pgsql.db.1digitalstack.com', 'port': '5432', 'options': '', 'sslmode': 'prefer', 'sslcompression': '0', 'sslsni': '1', 'ssl_min_protocol_version': 'TLSv1.2', 'gssencmode': 'disable', 'krbsrvname': 'postgres', 'target_session_attrs': 'any'} \n",
      "\n",
      "{'user': 'postgres', 'channel_binding': 'prefer', 'dbname': 'postgres', 'host': '2.pgsql.db.1digitalstack.com', 'port': '5432', 'options': '', 'sslmode': 'prefer', 'sslcompression': '0', 'sslsni': '1', 'ssl_min_protocol_version': 'TLSv1.2', 'gssencmode': 'disable', 'krbsrvname': 'postgres', 'target_session_attrs': 'any'} \n",
      "\n"
     ]
    }
   ],
   "source": [
    "class postgres_conn:\n",
    "    def getConn(self):\n",
    "        try:\n",
    "            connection = psycopg2.connect(user='postgres',\n",
    "                                          password='postgres_007',\n",
    "                                          host=\"1.pgsql.db.1digitalstack.com\",\n",
    "                                          port='5432',\n",
    "                                          database='postgres')\n",
    "\n",
    "            cursor = connection.cursor()\n",
    "            # Print PostgreSQL Connection properties\n",
    "            print(connection.get_dsn_parameters(), \"\\n\")\n",
    "\n",
    "            # Print PostgreSQL version\n",
    "            return cursor, connection\n",
    "\n",
    "        except (Exception, psycopg2.Error) as error:\n",
    "            print(\"Error while connecting to PostgreSQL\", error)\n",
    "            return error, error\n",
    "    def getConn2(self):\n",
    "        try:\n",
    "            connection = psycopg2.connect(user='postgres',\n",
    "                                          password='reporting_007',\n",
    "                                          host=\"2.pgsql.db.1digitalstack.com\",\n",
    "                                          port='5432',\n",
    "                                          database='postgres')\n",
    "\n",
    "            cursor = connection.cursor()\n",
    "            # Print PostgreSQL Connection properties\n",
    "            print(connection.get_dsn_parameters(), \"\\n\")\n",
    "\n",
    "            # Print PostgreSQL version\n",
    "            return cursor, connection\n",
    "\n",
    "        except (Exception, psycopg2.Error) as error:\n",
    "            print(\"Error while connecting to PostgreSQL\", error)\n",
    "            return error, error\n",
    "\n",
    "\n",
    "    def close_connection(self, cursor, connection):\n",
    "        # closing database connection.\n",
    "        if(connection):\n",
    "            cursor.close()\n",
    "            connection.close()\n",
    "            print(\"PostgreSQL connection is closed\")\n",
    "            \n",
    "pg = postgres_conn()\n",
    "conn = pg.getConn()\n",
    "conn2 = pg.getConn2()"
   ]
  },
  {
   "cell_type": "code",
   "execution_count": 5,
   "id": "004b8206",
   "metadata": {},
   "outputs": [
    {
     "name": "stdout",
     "output_type": "stream",
     "text": [
      "Enter keystone ids with comma.64ccf0866364abab2c73bc8e\n",
      " Enter no of days for which data needs brand mapping.\n",
      "2\n"
     ]
    },
    {
     "data": {
      "text/plain": [
       "('64ccf0866364abab2c73bc8e', '')"
      ]
     },
     "execution_count": 5,
     "metadata": {},
     "output_type": "execute_result"
    }
   ],
   "source": [
    "job_id=input(\"Enter keystone ids with comma.\").split(\",\")\n",
    "days=input(\" Enter no of days for which data needs brand mapping.\\n\")\n",
    "job_id.append(\"\")\n",
    "tuple(job_id)"
   ]
  },
  {
   "cell_type": "code",
   "execution_count": 6,
   "id": "0c0ca16d",
   "metadata": {},
   "outputs": [
    {
     "name": "stderr",
     "output_type": "stream",
     "text": [
      "C:\\Users\\Administrator\\AppData\\Local\\Temp\\2\\ipykernel_151972\\2162843895.py:6: UserWarning: pandas only supports SQLAlchemy connectable (engine/connection) or database string URI or sqlite3 DBAPI2 connection. Other DBAPI2 objects are not tested. Please consider using SQLAlchemy.\n",
      "  serp_details = pd.read_sql_query(query, conn[1])\n"
     ]
    }
   ],
   "source": [
    "query = f\"\"\"\n",
    "select brand,title,sku,job_name,channel_id\n",
    "from ready.serp_details smd join ready.serp_mongo_details m on m.serp_mongo_id=smd.serp_mongo_id\n",
    "where smd.crawl_date > now() - interval '{days} day' and keystone_job_id in {tuple(job_id)}\n",
    "\"\"\"\n",
    "serp_details = pd.read_sql_query(query, conn[1])"
   ]
  },
  {
   "cell_type": "code",
   "execution_count": 7,
   "id": "730cafb5",
   "metadata": {},
   "outputs": [
    {
     "data": {
      "text/html": [
       "<div>\n",
       "<style scoped>\n",
       "    .dataframe tbody tr th:only-of-type {\n",
       "        vertical-align: middle;\n",
       "    }\n",
       "\n",
       "    .dataframe tbody tr th {\n",
       "        vertical-align: top;\n",
       "    }\n",
       "\n",
       "    .dataframe thead th {\n",
       "        text-align: right;\n",
       "    }\n",
       "</style>\n",
       "<table border=\"1\" class=\"dataframe\">\n",
       "  <thead>\n",
       "    <tr style=\"text-align: right;\">\n",
       "      <th></th>\n",
       "      <th>brand</th>\n",
       "      <th>title</th>\n",
       "      <th>sku</th>\n",
       "      <th>job_name</th>\n",
       "      <th>channel_id</th>\n",
       "    </tr>\n",
       "  </thead>\n",
       "  <tbody>\n",
       "    <tr>\n",
       "      <th>0</th>\n",
       "      <td>ASUS</td>\n",
       "      <td>ASUS VivoBook P-Series, fully installed and ac...</td>\n",
       "      <td>114062403</td>\n",
       "      <td>Mediamarket r.no.563 Serp_job</td>\n",
       "      <td>58</td>\n",
       "    </tr>\n",
       "    <tr>\n",
       "      <th>1</th>\n",
       "      <td>LENOVO</td>\n",
       "      <td>LENOVO IdeaPad 1i, incl. 1 year Microsoft 365 ...</td>\n",
       "      <td>2776176</td>\n",
       "      <td>Mediamarket r.no.563 Serp_job</td>\n",
       "      <td>58</td>\n",
       "    </tr>\n",
       "    <tr>\n",
       "      <th>2</th>\n",
       "      <td>APPLE</td>\n",
       "      <td>APPLE MacBook Air (2022), MLXW3D/A, notebook w...</td>\n",
       "      <td>2813298</td>\n",
       "      <td>Mediamarket r.no.563 Serp_job</td>\n",
       "      <td>58</td>\n",
       "    </tr>\n",
       "    <tr>\n",
       "      <th>3</th>\n",
       "      <td>APPLE</td>\n",
       "      <td>APPLE MacBook Air (2020), notebook with 13.3 i...</td>\n",
       "      <td>2701413</td>\n",
       "      <td>Mediamarket r.no.563 Serp_job</td>\n",
       "      <td>58</td>\n",
       "    </tr>\n",
       "    <tr>\n",
       "      <th>4</th>\n",
       "      <td>APPLE</td>\n",
       "      <td>APPLE MacBook Air (2020), notebook with 13.3 i...</td>\n",
       "      <td>2701414</td>\n",
       "      <td>Mediamarket r.no.563 Serp_job</td>\n",
       "      <td>58</td>\n",
       "    </tr>\n",
       "    <tr>\n",
       "      <th>...</th>\n",
       "      <td>...</td>\n",
       "      <td>...</td>\n",
       "      <td>...</td>\n",
       "      <td>...</td>\n",
       "      <td>...</td>\n",
       "    </tr>\n",
       "    <tr>\n",
       "      <th>1155</th>\n",
       "      <td>HP</td>\n",
       "      <td>HP 250-G8, Core i5, Windows 11 Pro + Office 20...</td>\n",
       "      <td>109350836</td>\n",
       "      <td>Mediamarket r.no.563 Serp_job</td>\n",
       "      <td>58</td>\n",
       "    </tr>\n",
       "    <tr>\n",
       "      <th>1156</th>\n",
       "      <td>HP</td>\n",
       "      <td>HP 17-cp3166ng, Notebook with 17.3 inch displa...</td>\n",
       "      <td>110444633</td>\n",
       "      <td>Mediamarket r.no.563 Serp_job</td>\n",
       "      <td>58</td>\n",
       "    </tr>\n",
       "    <tr>\n",
       "      <th>1157</th>\n",
       "      <td>HP</td>\n",
       "      <td>HP 17CN, Quad Core, Windows 11 Pro + Office 20...</td>\n",
       "      <td>112713418</td>\n",
       "      <td>Mediamarket r.no.563 Serp_job</td>\n",
       "      <td>58</td>\n",
       "    </tr>\n",
       "    <tr>\n",
       "      <th>1158</th>\n",
       "      <td>HP</td>\n",
       "      <td>HP 250-G8, Core i5, Windows 11 Pro + Office 20...</td>\n",
       "      <td>109350901</td>\n",
       "      <td>Mediamarket r.no.563 Serp_job</td>\n",
       "      <td>58</td>\n",
       "    </tr>\n",
       "    <tr>\n",
       "      <th>1159</th>\n",
       "      <td>HP</td>\n",
       "      <td>HP 255 G9 + Norton Security + G DATA Internet ...</td>\n",
       "      <td>106714851</td>\n",
       "      <td>Mediamarket r.no.563 Serp_job</td>\n",
       "      <td>58</td>\n",
       "    </tr>\n",
       "  </tbody>\n",
       "</table>\n",
       "<p>1160 rows × 5 columns</p>\n",
       "</div>"
      ],
      "text/plain": [
       "       brand                                              title        sku  \\\n",
       "0       ASUS  ASUS VivoBook P-Series, fully installed and ac...  114062403   \n",
       "1     LENOVO  LENOVO IdeaPad 1i, incl. 1 year Microsoft 365 ...    2776176   \n",
       "2      APPLE  APPLE MacBook Air (2022), MLXW3D/A, notebook w...    2813298   \n",
       "3      APPLE  APPLE MacBook Air (2020), notebook with 13.3 i...    2701413   \n",
       "4      APPLE  APPLE MacBook Air (2020), notebook with 13.3 i...    2701414   \n",
       "...      ...                                                ...        ...   \n",
       "1155      HP  HP 250-G8, Core i5, Windows 11 Pro + Office 20...  109350836   \n",
       "1156      HP  HP 17-cp3166ng, Notebook with 17.3 inch displa...  110444633   \n",
       "1157      HP  HP 17CN, Quad Core, Windows 11 Pro + Office 20...  112713418   \n",
       "1158      HP  HP 250-G8, Core i5, Windows 11 Pro + Office 20...  109350901   \n",
       "1159      HP  HP 255 G9 + Norton Security + G DATA Internet ...  106714851   \n",
       "\n",
       "                            job_name  channel_id  \n",
       "0     Mediamarket r.no.563 Serp_job           58  \n",
       "1     Mediamarket r.no.563 Serp_job           58  \n",
       "2     Mediamarket r.no.563 Serp_job           58  \n",
       "3     Mediamarket r.no.563 Serp_job           58  \n",
       "4     Mediamarket r.no.563 Serp_job           58  \n",
       "...                              ...         ...  \n",
       "1155  Mediamarket r.no.563 Serp_job           58  \n",
       "1156  Mediamarket r.no.563 Serp_job           58  \n",
       "1157  Mediamarket r.no.563 Serp_job           58  \n",
       "1158  Mediamarket r.no.563 Serp_job           58  \n",
       "1159  Mediamarket r.no.563 Serp_job           58  \n",
       "\n",
       "[1160 rows x 5 columns]"
      ]
     },
     "execution_count": 7,
     "metadata": {},
     "output_type": "execute_result"
    }
   ],
   "source": [
    "serp_details"
   ]
  },
  {
   "cell_type": "code",
   "execution_count": 20,
   "id": "ab2cd428",
   "metadata": {},
   "outputs": [
    {
     "name": "stdout",
     "output_type": "stream",
     "text": [
      "     index brand                                              title      sku  \\\n",
      "694   1138    HP  HP 17-cn2356ng, Notebook with 17.3 inch Displa...  2868831   \n",
      "695   1142    HP  HP Laptop 15s-fq5333ng, notebook with 15.6 inc...  2868907   \n",
      "696   1144    HP  HP 15a-na0312ng, 15.6-inch Chromebook, Intel® ...  2868902   \n",
      "697   1145    HP  HP x360 14a-ca0312ng, Chromebook with 14 inch ...  2868854   \n",
      "698   1147    HP  HP Pavilion 15-eg1376ng, Notebook with 15.6 in...  2790426   \n",
      "\n",
      "                           job_name  channel_id  \n",
      "694  Mediamarket r.no.563 Serp_job           58  \n",
      "695  Mediamarket r.no.563 Serp_job           58  \n",
      "696  Mediamarket r.no.563 Serp_job           58  \n",
      "697  Mediamarket r.no.563 Serp_job           58  \n",
      "698  Mediamarket r.no.563 Serp_job           58  \n"
     ]
    },
    {
     "name": "stderr",
     "output_type": "stream",
     "text": [
      "C:\\Users\\Administrator\\AppData\\Local\\Temp\\2\\ipykernel_151972\\1077363369.py:4: SettingWithCopyWarning: \n",
      "A value is trying to be set on a copy of a slice from a DataFrame\n",
      "\n",
      "See the caveats in the documentation: https://pandas.pydata.org/pandas-docs/stable/user_guide/indexing.html#returning-a-view-versus-a-copy\n",
      "  df_ASIN.dropna(inplace=True)\n",
      "C:\\Users\\Administrator\\AppData\\Local\\Temp\\2\\ipykernel_151972\\1077363369.py:5: SettingWithCopyWarning: \n",
      "A value is trying to be set on a copy of a slice from a DataFrame\n",
      "\n",
      "See the caveats in the documentation: https://pandas.pydata.org/pandas-docs/stable/user_guide/indexing.html#returning-a-view-versus-a-copy\n",
      "  df_ASIN.drop_duplicates(inplace=True)\n"
     ]
    }
   ],
   "source": [
    "rawdf1=serp_details.drop_duplicates('sku')\n",
    "rawdf1=rawdf1.reset_index()\n",
    "df_ASIN = rawdf1[[\"sku\"]]\n",
    "df_ASIN.dropna(inplace=True)\n",
    "df_ASIN.drop_duplicates(inplace=True)\n",
    "asinlist = list(df_ASIN['sku'])\n",
    "len(asinlist)"
   ]
  },
  {
   "cell_type": "code",
   "execution_count": 21,
   "id": "8f427051",
   "metadata": {},
   "outputs": [
    {
     "name": "stderr",
     "output_type": "stream",
     "text": [
      "C:\\Users\\Administrator\\AppData\\Local\\Temp\\2\\ipykernel_151972\\3364747598.py:7: UserWarning: pandas only supports SQLAlchemy connectable (engine/connection) or database string URI or sqlite3 DBAPI2 connection. Other DBAPI2 objects are not tested. Please consider using SQLAlchemy.\n",
      "  pm_data = pd.read_sql_query(query_2, conn[1])\n"
     ]
    },
    {
     "ename": "AttributeError",
     "evalue": "'DataFrame' object has no attribute 'duplicates'",
     "output_type": "error",
     "traceback": [
      "\u001b[1;31m---------------------------------------------------------------------------\u001b[0m",
      "\u001b[1;31mAttributeError\u001b[0m                            Traceback (most recent call last)",
      "Cell \u001b[1;32mIn[21], line 8\u001b[0m\n\u001b[0;32m      1\u001b[0m query_2 \u001b[38;5;241m=\u001b[39m \u001b[38;5;124mf\u001b[39m\u001b[38;5;124m\"\"\"\u001b[39m\u001b[38;5;124m \u001b[39m\n\u001b[0;32m      2\u001b[0m \u001b[38;5;124mSelect channel_sku_id,country_code, brand_name, categories,category_id\u001b[39m\n\u001b[0;32m      3\u001b[0m \u001b[38;5;124mfrom entity.product_master\u001b[39m\n\u001b[0;32m      4\u001b[0m \u001b[38;5;124mwhere channel_sku_id in \u001b[39m\u001b[38;5;132;01m{\u001b[39;00m\u001b[38;5;28mtuple\u001b[39m(asinlist)\u001b[38;5;132;01m}\u001b[39;00m\u001b[38;5;124m \u001b[39m\n\u001b[0;32m      5\u001b[0m \u001b[38;5;124m\"\"\"\u001b[39m\n\u001b[0;32m      7\u001b[0m pm_data \u001b[38;5;241m=\u001b[39m pd\u001b[38;5;241m.\u001b[39mread_sql_query(query_2, conn[\u001b[38;5;241m1\u001b[39m])\n\u001b[1;32m----> 8\u001b[0m \u001b[43mpm_data\u001b[49m\u001b[38;5;241;43m.\u001b[39;49m\u001b[43mduplicates\u001b[49m()\n",
      "File \u001b[1;32m~\\anaconda3\\lib\\site-packages\\pandas\\core\\generic.py:5902\u001b[0m, in \u001b[0;36mNDFrame.__getattr__\u001b[1;34m(self, name)\u001b[0m\n\u001b[0;32m   5895\u001b[0m \u001b[38;5;28;01mif\u001b[39;00m (\n\u001b[0;32m   5896\u001b[0m     name \u001b[38;5;129;01mnot\u001b[39;00m \u001b[38;5;129;01min\u001b[39;00m \u001b[38;5;28mself\u001b[39m\u001b[38;5;241m.\u001b[39m_internal_names_set\n\u001b[0;32m   5897\u001b[0m     \u001b[38;5;129;01mand\u001b[39;00m name \u001b[38;5;129;01mnot\u001b[39;00m \u001b[38;5;129;01min\u001b[39;00m \u001b[38;5;28mself\u001b[39m\u001b[38;5;241m.\u001b[39m_metadata\n\u001b[0;32m   5898\u001b[0m     \u001b[38;5;129;01mand\u001b[39;00m name \u001b[38;5;129;01mnot\u001b[39;00m \u001b[38;5;129;01min\u001b[39;00m \u001b[38;5;28mself\u001b[39m\u001b[38;5;241m.\u001b[39m_accessors\n\u001b[0;32m   5899\u001b[0m     \u001b[38;5;129;01mand\u001b[39;00m \u001b[38;5;28mself\u001b[39m\u001b[38;5;241m.\u001b[39m_info_axis\u001b[38;5;241m.\u001b[39m_can_hold_identifiers_and_holds_name(name)\n\u001b[0;32m   5900\u001b[0m ):\n\u001b[0;32m   5901\u001b[0m     \u001b[38;5;28;01mreturn\u001b[39;00m \u001b[38;5;28mself\u001b[39m[name]\n\u001b[1;32m-> 5902\u001b[0m \u001b[38;5;28;01mreturn\u001b[39;00m \u001b[38;5;28;43mobject\u001b[39;49m\u001b[38;5;241;43m.\u001b[39;49m\u001b[38;5;21;43m__getattribute__\u001b[39;49m\u001b[43m(\u001b[49m\u001b[38;5;28;43mself\u001b[39;49m\u001b[43m,\u001b[49m\u001b[43m \u001b[49m\u001b[43mname\u001b[49m\u001b[43m)\u001b[49m\n",
      "\u001b[1;31mAttributeError\u001b[0m: 'DataFrame' object has no attribute 'duplicates'"
     ]
    }
   ],
   "source": [
    "query_2 = f\"\"\" \n",
    "Select channel_sku_id,country_code, brand_name, categories,category_id\n",
    "from entity.product_master\n",
    "where channel_sku_id in {tuple(asinlist)} \n",
    "\"\"\"\n",
    "pm_data = pd.read_sql_query(query_2, conn[1])\n",
    "pm_data"
   ]
  },
  {
   "cell_type": "code",
   "execution_count": 13,
   "id": "ab955e3f",
   "metadata": {},
   "outputs": [
    {
     "data": {
      "text/html": [
       "<div>\n",
       "<style scoped>\n",
       "    .dataframe tbody tr th:only-of-type {\n",
       "        vertical-align: middle;\n",
       "    }\n",
       "\n",
       "    .dataframe tbody tr th {\n",
       "        vertical-align: top;\n",
       "    }\n",
       "\n",
       "    .dataframe thead th {\n",
       "        text-align: right;\n",
       "    }\n",
       "</style>\n",
       "<table border=\"1\" class=\"dataframe\">\n",
       "  <thead>\n",
       "    <tr style=\"text-align: right;\">\n",
       "      <th></th>\n",
       "      <th>brand</th>\n",
       "      <th>title</th>\n",
       "      <th>sku</th>\n",
       "      <th>job_name</th>\n",
       "      <th>channel_id</th>\n",
       "      <th>channel_sku_id</th>\n",
       "      <th>country_code</th>\n",
       "      <th>brand_name</th>\n",
       "      <th>categories</th>\n",
       "      <th>category_id</th>\n",
       "    </tr>\n",
       "  </thead>\n",
       "  <tbody>\n",
       "    <tr>\n",
       "      <th>0</th>\n",
       "      <td>ASUS</td>\n",
       "      <td>ASUS VivoBook P-Series, fully installed and ac...</td>\n",
       "      <td>114062403</td>\n",
       "      <td>Mediamarket r.no.563 Serp_job</td>\n",
       "      <td>58</td>\n",
       "      <td>114062403</td>\n",
       "      <td>DE</td>\n",
       "      <td>ASUS</td>\n",
       "      <td>None</td>\n",
       "      <td>None</td>\n",
       "    </tr>\n",
       "    <tr>\n",
       "      <th>1</th>\n",
       "      <td>LENOVO</td>\n",
       "      <td>LENOVO IdeaPad 1i, incl. 1 year Microsoft 365 ...</td>\n",
       "      <td>2776176</td>\n",
       "      <td>Mediamarket r.no.563 Serp_job</td>\n",
       "      <td>58</td>\n",
       "      <td>2776176</td>\n",
       "      <td>DE</td>\n",
       "      <td>LENOVO</td>\n",
       "      <td>None</td>\n",
       "      <td>None</td>\n",
       "    </tr>\n",
       "    <tr>\n",
       "      <th>2</th>\n",
       "      <td>APPLE</td>\n",
       "      <td>APPLE MacBook Air (2022), MLXW3D/A, notebook w...</td>\n",
       "      <td>2813298</td>\n",
       "      <td>Mediamarket r.no.563 Serp_job</td>\n",
       "      <td>58</td>\n",
       "      <td>2813298</td>\n",
       "      <td>DE</td>\n",
       "      <td>APPLE</td>\n",
       "      <td>None</td>\n",
       "      <td>None</td>\n",
       "    </tr>\n",
       "    <tr>\n",
       "      <th>3</th>\n",
       "      <td>APPLE</td>\n",
       "      <td>APPLE MacBook Air (2020), notebook with 13.3 i...</td>\n",
       "      <td>2701413</td>\n",
       "      <td>Mediamarket r.no.563 Serp_job</td>\n",
       "      <td>58</td>\n",
       "      <td>2701413</td>\n",
       "      <td>DE</td>\n",
       "      <td>APPLE</td>\n",
       "      <td>None</td>\n",
       "      <td>None</td>\n",
       "    </tr>\n",
       "    <tr>\n",
       "      <th>4</th>\n",
       "      <td>APPLE</td>\n",
       "      <td>APPLE MacBook Air (2020), notebook with 13.3 i...</td>\n",
       "      <td>2701414</td>\n",
       "      <td>Mediamarket r.no.563 Serp_job</td>\n",
       "      <td>58</td>\n",
       "      <td>2701414</td>\n",
       "      <td>DE</td>\n",
       "      <td>APPLE</td>\n",
       "      <td>None</td>\n",
       "      <td>None</td>\n",
       "    </tr>\n",
       "    <tr>\n",
       "      <th>...</th>\n",
       "      <td>...</td>\n",
       "      <td>...</td>\n",
       "      <td>...</td>\n",
       "      <td>...</td>\n",
       "      <td>...</td>\n",
       "      <td>...</td>\n",
       "      <td>...</td>\n",
       "      <td>...</td>\n",
       "      <td>...</td>\n",
       "      <td>...</td>\n",
       "    </tr>\n",
       "    <tr>\n",
       "      <th>699</th>\n",
       "      <td>HP</td>\n",
       "      <td>HP Laptop 15s-fq5333ng, notebook with 15.6 inc...</td>\n",
       "      <td>2868907</td>\n",
       "      <td>Mediamarket r.no.563 Serp_job</td>\n",
       "      <td>58</td>\n",
       "      <td>2868907</td>\n",
       "      <td>DE</td>\n",
       "      <td>HP</td>\n",
       "      <td>None</td>\n",
       "      <td>None</td>\n",
       "    </tr>\n",
       "    <tr>\n",
       "      <th>700</th>\n",
       "      <td>HP</td>\n",
       "      <td>HP 15a-na0312ng, 15.6-inch Chromebook, Intel® ...</td>\n",
       "      <td>2868902</td>\n",
       "      <td>Mediamarket r.no.563 Serp_job</td>\n",
       "      <td>58</td>\n",
       "      <td>2868902</td>\n",
       "      <td>DE</td>\n",
       "      <td>HP</td>\n",
       "      <td>None</td>\n",
       "      <td>None</td>\n",
       "    </tr>\n",
       "    <tr>\n",
       "      <th>701</th>\n",
       "      <td>HP</td>\n",
       "      <td>HP x360 14a-ca0312ng, Chromebook with 14 inch ...</td>\n",
       "      <td>2868854</td>\n",
       "      <td>Mediamarket r.no.563 Serp_job</td>\n",
       "      <td>58</td>\n",
       "      <td>2868854</td>\n",
       "      <td>DE</td>\n",
       "      <td>HP</td>\n",
       "      <td>None</td>\n",
       "      <td>None</td>\n",
       "    </tr>\n",
       "    <tr>\n",
       "      <th>702</th>\n",
       "      <td>HP</td>\n",
       "      <td>HP Pavilion 15-eg1376ng, Notebook with 15.6 in...</td>\n",
       "      <td>2790426</td>\n",
       "      <td>Mediamarket r.no.563 Serp_job</td>\n",
       "      <td>58</td>\n",
       "      <td>2790426</td>\n",
       "      <td>DE</td>\n",
       "      <td>HP</td>\n",
       "      <td>None</td>\n",
       "      <td>None</td>\n",
       "    </tr>\n",
       "    <tr>\n",
       "      <th>703</th>\n",
       "      <td>HP</td>\n",
       "      <td>HP Pavilion 15-eg1376ng, Notebook with 15.6 in...</td>\n",
       "      <td>2790426</td>\n",
       "      <td>Mediamarket r.no.563 Serp_job</td>\n",
       "      <td>58</td>\n",
       "      <td>2790426</td>\n",
       "      <td>IN</td>\n",
       "      <td>HP</td>\n",
       "      <td>None</td>\n",
       "      <td>None</td>\n",
       "    </tr>\n",
       "  </tbody>\n",
       "</table>\n",
       "<p>704 rows × 10 columns</p>\n",
       "</div>"
      ],
      "text/plain": [
       "      brand                                              title        sku  \\\n",
       "0      ASUS  ASUS VivoBook P-Series, fully installed and ac...  114062403   \n",
       "1    LENOVO  LENOVO IdeaPad 1i, incl. 1 year Microsoft 365 ...    2776176   \n",
       "2     APPLE  APPLE MacBook Air (2022), MLXW3D/A, notebook w...    2813298   \n",
       "3     APPLE  APPLE MacBook Air (2020), notebook with 13.3 i...    2701413   \n",
       "4     APPLE  APPLE MacBook Air (2020), notebook with 13.3 i...    2701414   \n",
       "..      ...                                                ...        ...   \n",
       "699      HP  HP Laptop 15s-fq5333ng, notebook with 15.6 inc...    2868907   \n",
       "700      HP  HP 15a-na0312ng, 15.6-inch Chromebook, Intel® ...    2868902   \n",
       "701      HP  HP x360 14a-ca0312ng, Chromebook with 14 inch ...    2868854   \n",
       "702      HP  HP Pavilion 15-eg1376ng, Notebook with 15.6 in...    2790426   \n",
       "703      HP  HP Pavilion 15-eg1376ng, Notebook with 15.6 in...    2790426   \n",
       "\n",
       "                           job_name  channel_id channel_sku_id country_code  \\\n",
       "0    Mediamarket r.no.563 Serp_job           58      114062403           DE   \n",
       "1    Mediamarket r.no.563 Serp_job           58        2776176           DE   \n",
       "2    Mediamarket r.no.563 Serp_job           58        2813298           DE   \n",
       "3    Mediamarket r.no.563 Serp_job           58        2701413           DE   \n",
       "4    Mediamarket r.no.563 Serp_job           58        2701414           DE   \n",
       "..                              ...         ...            ...          ...   \n",
       "699  Mediamarket r.no.563 Serp_job           58        2868907           DE   \n",
       "700  Mediamarket r.no.563 Serp_job           58        2868902           DE   \n",
       "701  Mediamarket r.no.563 Serp_job           58        2868854           DE   \n",
       "702  Mediamarket r.no.563 Serp_job           58        2790426           DE   \n",
       "703  Mediamarket r.no.563 Serp_job           58        2790426           IN   \n",
       "\n",
       "    brand_name categories category_id  \n",
       "0         ASUS       None        None  \n",
       "1       LENOVO       None        None  \n",
       "2        APPLE       None        None  \n",
       "3        APPLE       None        None  \n",
       "4        APPLE       None        None  \n",
       "..         ...        ...         ...  \n",
       "699         HP       None        None  \n",
       "700         HP       None        None  \n",
       "701         HP       None        None  \n",
       "702         HP       None        None  \n",
       "703         HP       None        None  \n",
       "\n",
       "[704 rows x 10 columns]"
      ]
     },
     "execution_count": 13,
     "metadata": {},
     "output_type": "execute_result"
    }
   ],
   "source": [
    "mapped_df=pd.merge(rawdf1,pm_data, how='left', left_on=['sku'],right_on=['channel_sku_id'])\n",
    "mapped_df"
   ]
  },
  {
   "cell_type": "code",
   "execution_count": 49,
   "id": "278e5cac",
   "metadata": {},
   "outputs": [
    {
     "data": {
      "text/html": [
       "<div>\n",
       "<style scoped>\n",
       "    .dataframe tbody tr th:only-of-type {\n",
       "        vertical-align: middle;\n",
       "    }\n",
       "\n",
       "    .dataframe tbody tr th {\n",
       "        vertical-align: top;\n",
       "    }\n",
       "\n",
       "    .dataframe thead th {\n",
       "        text-align: right;\n",
       "    }\n",
       "</style>\n",
       "<table border=\"1\" class=\"dataframe\">\n",
       "  <thead>\n",
       "    <tr style=\"text-align: right;\">\n",
       "      <th></th>\n",
       "      <th>channel_id</th>\n",
       "      <th>sku</th>\n",
       "      <th>title</th>\n",
       "      <th>brand_name</th>\n",
       "    </tr>\n",
       "  </thead>\n",
       "  <tbody>\n",
       "    <tr>\n",
       "      <th>0</th>\n",
       "      <td>58</td>\n",
       "      <td>2835388</td>\n",
       "      <td>ASUS ROG Strix X670E-I Gaming WIFI Motherboard...</td>\n",
       "      <td>ASUS</td>\n",
       "    </tr>\n",
       "    <tr>\n",
       "      <th>1</th>\n",
       "      <td>58</td>\n",
       "      <td>107478170</td>\n",
       "      <td>INTEL NUC Mini-PC, Windows 11 Pro, Mini-PC wit...</td>\n",
       "      <td>INTEL</td>\n",
       "    </tr>\n",
       "    <tr>\n",
       "      <th>2</th>\n",
       "      <td>58</td>\n",
       "      <td>114100818</td>\n",
       "      <td>LENOVO Intel N4500 | Windows 11 Pro, Notebook ...</td>\n",
       "      <td>LENOVO</td>\n",
       "    </tr>\n",
       "    <tr>\n",
       "      <th>3</th>\n",
       "      <td>58</td>\n",
       "      <td>107477993</td>\n",
       "      <td>INTEL NUC Mini-PC, Windows 11 Pro, Mini-PC wit...</td>\n",
       "      <td>INTEL</td>\n",
       "    </tr>\n",
       "    <tr>\n",
       "      <th>4</th>\n",
       "      <td>58</td>\n",
       "      <td>108089759</td>\n",
       "      <td>LENOVO Intel U300 5x4.40GHz | Win 11 Pro, note...</td>\n",
       "      <td>LENOVO</td>\n",
       "    </tr>\n",
       "    <tr>\n",
       "      <th>...</th>\n",
       "      <td>...</td>\n",
       "      <td>...</td>\n",
       "      <td>...</td>\n",
       "      <td>...</td>\n",
       "    </tr>\n",
       "    <tr>\n",
       "      <th>743</th>\n",
       "      <td>58</td>\n",
       "      <td>91653092</td>\n",
       "      <td>MEGAPORT Gaming PC Intel Core i9 11900KF, Wind...</td>\n",
       "      <td>MEGAPORT</td>\n",
       "    </tr>\n",
       "    <tr>\n",
       "      <th>744</th>\n",
       "      <td>58</td>\n",
       "      <td>101593947</td>\n",
       "      <td>SEDATECH Intel i9-13900KF, Windows 11 Home mul...</td>\n",
       "      <td>SEDATECH</td>\n",
       "    </tr>\n",
       "    <tr>\n",
       "      <th>745</th>\n",
       "      <td>58</td>\n",
       "      <td>109793793</td>\n",
       "      <td>SYSTEMTREFF High-End Gaming Intel Core i9-1190...</td>\n",
       "      <td>SYSTEMTREFF</td>\n",
       "    </tr>\n",
       "    <tr>\n",
       "      <th>746</th>\n",
       "      <td>58</td>\n",
       "      <td>109794182</td>\n",
       "      <td>SYSTEMTREFF Pro Gaming Intel Core i9-12900K, W...</td>\n",
       "      <td>SYSTEMTREFF</td>\n",
       "    </tr>\n",
       "    <tr>\n",
       "      <th>747</th>\n",
       "      <td>58</td>\n",
       "      <td>109862685</td>\n",
       "      <td>SYSTEMTREFF High-End Gaming Intel Core i9-1290...</td>\n",
       "      <td>SYSTEMTREFF</td>\n",
       "    </tr>\n",
       "  </tbody>\n",
       "</table>\n",
       "<p>695 rows × 4 columns</p>\n",
       "</div>"
      ],
      "text/plain": [
       "     channel_id        sku                                              title  \\\n",
       "0            58    2835388  ASUS ROG Strix X670E-I Gaming WIFI Motherboard...   \n",
       "1            58  107478170  INTEL NUC Mini-PC, Windows 11 Pro, Mini-PC wit...   \n",
       "2            58  114100818  LENOVO Intel N4500 | Windows 11 Pro, Notebook ...   \n",
       "3            58  107477993  INTEL NUC Mini-PC, Windows 11 Pro, Mini-PC wit...   \n",
       "4            58  108089759  LENOVO Intel U300 5x4.40GHz | Win 11 Pro, note...   \n",
       "..          ...        ...                                                ...   \n",
       "743          58   91653092  MEGAPORT Gaming PC Intel Core i9 11900KF, Wind...   \n",
       "744          58  101593947  SEDATECH Intel i9-13900KF, Windows 11 Home mul...   \n",
       "745          58  109793793  SYSTEMTREFF High-End Gaming Intel Core i9-1190...   \n",
       "746          58  109794182  SYSTEMTREFF Pro Gaming Intel Core i9-12900K, W...   \n",
       "747          58  109862685  SYSTEMTREFF High-End Gaming Intel Core i9-1290...   \n",
       "\n",
       "      brand_name  \n",
       "0           ASUS  \n",
       "1          INTEL  \n",
       "2         LENOVO  \n",
       "3          INTEL  \n",
       "4         LENOVO  \n",
       "..           ...  \n",
       "743     MEGAPORT  \n",
       "744     SEDATECH  \n",
       "745  SYSTEMTREFF  \n",
       "746  SYSTEMTREFF  \n",
       "747  SYSTEMTREFF  \n",
       "\n",
       "[695 rows x 4 columns]"
      ]
     },
     "execution_count": 49,
     "metadata": {},
     "output_type": "execute_result"
    }
   ],
   "source": [
    "df2=mapped_df[mapped_df['categories'].isnull()][['channel_id','sku','title','brand_name']]\n",
    "df2"
   ]
  },
  {
   "cell_type": "code",
   "execution_count": 50,
   "id": "d4e96586",
   "metadata": {},
   "outputs": [
    {
     "data": {
      "text/html": [
       "<div>\n",
       "<style scoped>\n",
       "    .dataframe tbody tr th:only-of-type {\n",
       "        vertical-align: middle;\n",
       "    }\n",
       "\n",
       "    .dataframe tbody tr th {\n",
       "        vertical-align: top;\n",
       "    }\n",
       "\n",
       "    .dataframe thead th {\n",
       "        text-align: right;\n",
       "    }\n",
       "</style>\n",
       "<table border=\"1\" class=\"dataframe\">\n",
       "  <thead>\n",
       "    <tr style=\"text-align: right;\">\n",
       "      <th></th>\n",
       "      <th>channel_sku_id</th>\n",
       "      <th>categories</th>\n",
       "      <th>seller_info</th>\n",
       "      <th>first_image</th>\n",
       "    </tr>\n",
       "  </thead>\n",
       "  <tbody>\n",
       "  </tbody>\n",
       "</table>\n",
       "</div>"
      ],
      "text/plain": [
       "Empty DataFrame\n",
       "Columns: [channel_sku_id, categories, seller_info, first_image]\n",
       "Index: []"
      ]
     },
     "execution_count": 50,
     "metadata": {},
     "output_type": "execute_result"
    }
   ],
   "source": [
    "df=pd.DataFrame(columns=['channel_sku_id','categories','seller_info','first_image'])\n",
    "df"
   ]
  },
  {
   "cell_type": "code",
   "execution_count": 51,
   "id": "5a4c4f74",
   "metadata": {},
   "outputs": [
    {
     "data": {
      "text/plain": [
       "695"
      ]
     },
     "execution_count": 51,
     "metadata": {},
     "output_type": "execute_result"
    }
   ],
   "source": [
    "asinlist = list(df2['sku'])\n",
    "len(asinlist)"
   ]
  },
  {
   "cell_type": "code",
   "execution_count": null,
   "id": "21edbd86",
   "metadata": {},
   "outputs": [],
   "source": [
    "request_no=input(\"Enter the request number of the requests seperated with underscore(_) \")\n",
    "#547_552\n",
    "file='final_output_mediamarket_germany_{}.xlsx'.format(request_no)"
   ]
  },
  {
   "cell_type": "code",
   "execution_count": 52,
   "id": "c2e2b2f2",
   "metadata": {},
   "outputs": [
    {
     "name": "stdout",
     "output_type": "stream",
     "text": [
      "ChromeDriver version: 114.0.5735.90 (386bc09e8f4f2e025eddae123f36f6263096ae49-refs/branch-heads/5735@{#1052})\n"
     ]
    }
   ],
   "source": [
    "chrome_opt=Options()\n",
    "chrome_opt.add_argument(\"--incognito\")\n",
    "driver = webdriver.Chrome(service=s,options=chrome_opt)\n",
    "capabilities = driver.capabilities\n",
    "chrome_driver_version = capabilities['chrome']['chromedriverVersion']\n",
    "\n",
    "# Print the ChromeDriver version\n",
    "print(\"ChromeDriver version:\", chrome_driver_version)"
   ]
  },
  {
   "cell_type": "code",
   "execution_count": 53,
   "id": "fecf702d",
   "metadata": {},
   "outputs": [
    {
     "name": "stderr",
     "output_type": "stream",
     "text": [
      "\r",
      "  0%|                                                                                          | 0/695 [00:00<?, ?it/s]"
     ]
    },
    {
     "name": "stdout",
     "output_type": "stream",
     "text": [
      "************************\n",
      "0\n",
      "https://www.mediamarkt.de/de/product/-2835388.html\n"
     ]
    },
    {
     "name": "stderr",
     "output_type": "stream",
     "text": [
      "C:\\Users\\Administrator\\AppData\\Local\\Temp\\2\\ipykernel_148632\\3035623616.py:35: FutureWarning: The frame.append method is deprecated and will be removed from pandas in a future version. Use pandas.concat instead.\n",
      "  df=df.append(df1, ignore_index = True)\n",
      "\r",
      "  0%|                                                                                | 1/695 [00:08<1:34:59,  8.21s/it]"
     ]
    },
    {
     "name": "stdout",
     "output_type": "stream",
     "text": [
      "['Computer & Büro', 'Komponenten', 'Mainboards', 'Mainboard AMD Sockel AM5']\n",
      "seller not found\n",
      "https://assets.mmsrg.com/isr/166325/c1/-/ASSET_MMS_97962596?x=480&y=334&format=jpg&quality=80&sp=yes&strip=yes&trim&ex=480&ey=334&align=center&resizesource&unsharp=1.5x1+0.7+0.02&cox=0&coy=0&cdx=480&cdy=334\n",
      "************************\n",
      "1\n",
      "https://www.mediamarkt.de/de/product/-107478170.html\n"
     ]
    },
    {
     "name": "stderr",
     "output_type": "stream",
     "text": [
      "C:\\Users\\Administrator\\AppData\\Local\\Temp\\2\\ipykernel_148632\\3035623616.py:35: FutureWarning: The frame.append method is deprecated and will be removed from pandas in a future version. Use pandas.concat instead.\n",
      "  df=df.append(df1, ignore_index = True)\n",
      "\r",
      "  0%|▏                                                                               | 2/695 [00:13<1:15:03,  6.50s/it]"
     ]
    },
    {
     "name": "stdout",
     "output_type": "stream",
     "text": [
      "['Computer & Büro', 'PCs & Zubehör', 'Mini PCs']\n",
      "Cybernerds\n",
      "https://assets.mmsrg.com/isr/166325/c1/-/ASSET_MP_107477997?x=480&y=334&format=jpg&quality=80&sp=yes&strip=yes&trim&ex=480&ey=334&align=center&resizesource&unsharp=1.5x1+0.7+0.02&cox=0&coy=0&cdx=480&cdy=334\n",
      "************************\n",
      "2\n",
      "https://www.mediamarkt.de/de/product/-114100818.html\n"
     ]
    },
    {
     "name": "stderr",
     "output_type": "stream",
     "text": [
      "C:\\Users\\Administrator\\AppData\\Local\\Temp\\2\\ipykernel_148632\\3035623616.py:35: FutureWarning: The frame.append method is deprecated and will be removed from pandas in a future version. Use pandas.concat instead.\n",
      "  df=df.append(df1, ignore_index = True)\n",
      "\r",
      "  0%|▎                                                                               | 3/695 [00:22<1:28:38,  7.69s/it]"
     ]
    },
    {
     "name": "stdout",
     "output_type": "stream",
     "text": [
      "['Computer & Büro', 'Notebooks & Zubehör', 'Notebooks']\n",
      "Cybernerds\n",
      "image not found\n",
      "************************\n",
      "3\n",
      "https://www.mediamarkt.de/de/product/-107477993.html\n"
     ]
    },
    {
     "name": "stderr",
     "output_type": "stream",
     "text": [
      "C:\\Users\\Administrator\\AppData\\Local\\Temp\\2\\ipykernel_148632\\3035623616.py:35: FutureWarning: The frame.append method is deprecated and will be removed from pandas in a future version. Use pandas.concat instead.\n",
      "  df=df.append(df1, ignore_index = True)\n",
      "\r",
      "  1%|▍                                                                               | 4/695 [00:30<1:29:12,  7.75s/it]"
     ]
    },
    {
     "name": "stdout",
     "output_type": "stream",
     "text": [
      "['Computer & Büro', 'PCs & Zubehör', 'Mini PCs']\n",
      "Cybernerds\n",
      "image not found\n",
      "************************\n",
      "4\n",
      "https://www.mediamarkt.de/de/product/-108089759.html\n"
     ]
    },
    {
     "name": "stderr",
     "output_type": "stream",
     "text": [
      "C:\\Users\\Administrator\\AppData\\Local\\Temp\\2\\ipykernel_148632\\3035623616.py:35: FutureWarning: The frame.append method is deprecated and will be removed from pandas in a future version. Use pandas.concat instead.\n",
      "  df=df.append(df1, ignore_index = True)\n",
      "\r",
      "  1%|▌                                                                               | 5/695 [00:36<1:23:23,  7.25s/it]"
     ]
    },
    {
     "name": "stdout",
     "output_type": "stream",
     "text": [
      "['Computer & Büro', 'Notebooks & Zubehör', 'Notebooks']\n",
      "Cybernerds\n",
      "https://assets.mmsrg.com/isr/166325/c1/-/ASSET_MP_108089761?x=480&y=334&format=jpg&quality=80&sp=yes&strip=yes&trim&ex=480&ey=334&align=center&resizesource&unsharp=1.5x1+0.7+0.02&cox=0&coy=0&cdx=480&cdy=334\n",
      "************************\n",
      "5\n",
      "https://www.mediamarkt.de/de/product/-106896185.html\n"
     ]
    },
    {
     "name": "stderr",
     "output_type": "stream",
     "text": [
      "C:\\Users\\Administrator\\AppData\\Local\\Temp\\2\\ipykernel_148632\\3035623616.py:35: FutureWarning: The frame.append method is deprecated and will be removed from pandas in a future version. Use pandas.concat instead.\n",
      "  df=df.append(df1, ignore_index = True)\n",
      "\r",
      "  1%|▋                                                                               | 6/695 [00:43<1:20:32,  7.01s/it]"
     ]
    },
    {
     "name": "stdout",
     "output_type": "stream",
     "text": [
      "['Computer & Büro', 'Notebooks & Zubehör', 'Notebooks']\n",
      "Laptopia\n",
      "image not found\n",
      "************************\n",
      "6\n",
      "https://www.mediamarkt.de/de/product/-2746370.html\n"
     ]
    },
    {
     "name": "stderr",
     "output_type": "stream",
     "text": [
      "C:\\Users\\Administrator\\AppData\\Local\\Temp\\2\\ipykernel_148632\\3035623616.py:35: FutureWarning: The frame.append method is deprecated and will be removed from pandas in a future version. Use pandas.concat instead.\n",
      "  df=df.append(df1, ignore_index = True)\n",
      "\r",
      "  1%|▊                                                                               | 7/695 [00:54<1:35:44,  8.35s/it]"
     ]
    },
    {
     "name": "stdout",
     "output_type": "stream",
     "text": [
      "['Computer & Büro', 'Notebooks & Zubehör', 'Notebooks']\n",
      "seller not found\n",
      "image not found\n",
      "************************\n",
      "7\n",
      "https://www.mediamarkt.de/de/product/-112421745.html\n"
     ]
    },
    {
     "name": "stderr",
     "output_type": "stream",
     "text": [
      "C:\\Users\\Administrator\\AppData\\Local\\Temp\\2\\ipykernel_148632\\3035623616.py:35: FutureWarning: The frame.append method is deprecated and will be removed from pandas in a future version. Use pandas.concat instead.\n",
      "  df=df.append(df1, ignore_index = True)\n",
      "\r",
      "  1%|▉                                                                               | 8/695 [01:05<1:44:39,  9.14s/it]"
     ]
    },
    {
     "name": "stdout",
     "output_type": "stream",
     "text": [
      "['Computer & Büro', 'Notebooks & Zubehör', 'Notebooks']\n",
      "Memory PC\n",
      "https://assets.mmsrg.com/isr/166325/c1/-/ASSET_MP_112421746?x=480&y=334&format=jpg&quality=80&sp=yes&strip=yes&trim&ex=480&ey=334&align=center&resizesource&unsharp=1.5x1+0.7+0.02&cox=0&coy=0&cdx=480&cdy=334\n",
      "************************\n",
      "8\n",
      "https://www.mediamarkt.de/de/product/-112421748.html\n"
     ]
    },
    {
     "name": "stderr",
     "output_type": "stream",
     "text": [
      "C:\\Users\\Administrator\\AppData\\Local\\Temp\\2\\ipykernel_148632\\3035623616.py:35: FutureWarning: The frame.append method is deprecated and will be removed from pandas in a future version. Use pandas.concat instead.\n",
      "  df=df.append(df1, ignore_index = True)\n",
      "\r",
      "  1%|█                                                                               | 9/695 [01:15<1:46:48,  9.34s/it]"
     ]
    },
    {
     "name": "stdout",
     "output_type": "stream",
     "text": [
      "['Computer & Büro', 'Notebooks & Zubehör', 'Notebooks']\n",
      "Memory PC\n",
      "https://assets.mmsrg.com/isr/166325/c1/-/ASSET_MP_112421750?x=480&y=334&format=jpg&quality=80&sp=yes&strip=yes&trim&ex=480&ey=334&align=center&resizesource&unsharp=1.5x1+0.7+0.02&cox=0&coy=0&cdx=480&cdy=334\n",
      "************************\n",
      "9\n",
      "https://www.mediamarkt.de/de/product/-2865277.html\n"
     ]
    },
    {
     "name": "stderr",
     "output_type": "stream",
     "text": [
      "C:\\Users\\Administrator\\AppData\\Local\\Temp\\2\\ipykernel_148632\\3035623616.py:35: FutureWarning: The frame.append method is deprecated and will be removed from pandas in a future version. Use pandas.concat instead.\n",
      "  df=df.append(df1, ignore_index = True)\n",
      "\r",
      "  1%|█▏                                                                             | 10/695 [01:25<1:50:13,  9.65s/it]"
     ]
    },
    {
     "name": "stdout",
     "output_type": "stream",
     "text": [
      "['Computer & Büro', 'Notebooks & Zubehör', 'Notebooks']\n",
      "seller not found\n",
      "https://assets.mmsrg.com/isr/166325/c1/-/ASSET_MMS_103487978?x=480&y=334&format=jpg&quality=80&sp=yes&strip=yes&trim&ex=480&ey=334&align=center&resizesource&unsharp=1.5x1+0.7+0.02&cox=0&coy=0&cdx=480&cdy=334\n",
      "************************\n",
      "10\n",
      "https://www.mediamarkt.de/de/product/-2805929.html\n"
     ]
    },
    {
     "name": "stderr",
     "output_type": "stream",
     "text": [
      "C:\\Users\\Administrator\\AppData\\Local\\Temp\\2\\ipykernel_148632\\3035623616.py:35: FutureWarning: The frame.append method is deprecated and will be removed from pandas in a future version. Use pandas.concat instead.\n",
      "  df=df.append(df1, ignore_index = True)\n",
      "\r",
      "  2%|█▎                                                                             | 11/695 [01:36<1:55:15, 10.11s/it]"
     ]
    },
    {
     "name": "stdout",
     "output_type": "stream",
     "text": [
      "['Computer & Büro', 'Notebooks & Zubehör', 'Notebooks']\n",
      "seller not found\n",
      "https://assets.mmsrg.com/isr/166325/c1/-/ASSET_MMS_94417998?x=480&y=334&format=jpg&quality=80&sp=yes&strip=yes&trim&ex=480&ey=334&align=center&resizesource&unsharp=1.5x1+0.7+0.02&cox=0&coy=0&cdx=480&cdy=334\n",
      "************************\n",
      "11\n",
      "https://www.mediamarkt.de/de/product/-108089760.html\n"
     ]
    },
    {
     "name": "stderr",
     "output_type": "stream",
     "text": [
      "C:\\Users\\Administrator\\AppData\\Local\\Temp\\2\\ipykernel_148632\\3035623616.py:35: FutureWarning: The frame.append method is deprecated and will be removed from pandas in a future version. Use pandas.concat instead.\n",
      "  df=df.append(df1, ignore_index = True)\n",
      "\r",
      "  2%|█▎                                                                             | 12/695 [01:48<2:02:08, 10.73s/it]"
     ]
    },
    {
     "name": "stdout",
     "output_type": "stream",
     "text": [
      "['Computer & Büro', 'Notebooks & Zubehör', 'Notebooks']\n",
      "Cybernerds\n",
      "https://assets.mmsrg.com/isr/166325/c1/-/ASSET_MP_108089762?x=480&y=334&format=jpg&quality=80&sp=yes&strip=yes&trim&ex=480&ey=334&align=center&resizesource&unsharp=1.5x1+0.7+0.02&cox=0&coy=0&cdx=480&cdy=334\n",
      "************************\n",
      "12\n",
      "https://www.mediamarkt.de/de/product/-108277539.html\n"
     ]
    },
    {
     "name": "stderr",
     "output_type": "stream",
     "text": [
      "C:\\Users\\Administrator\\AppData\\Local\\Temp\\2\\ipykernel_148632\\3035623616.py:35: FutureWarning: The frame.append method is deprecated and will be removed from pandas in a future version. Use pandas.concat instead.\n",
      "  df=df.append(df1, ignore_index = True)\n",
      "\r",
      "  2%|█▍                                                                             | 13/695 [01:56<1:51:14,  9.79s/it]"
     ]
    },
    {
     "name": "stdout",
     "output_type": "stream",
     "text": [
      "['Computer & Büro', 'Notebooks & Zubehör', 'Notebooks']\n",
      "Laptopia\n",
      "image not found\n",
      "************************\n",
      "13\n",
      "https://www.mediamarkt.de/de/product/-2808904.html\n"
     ]
    },
    {
     "name": "stderr",
     "output_type": "stream",
     "text": [
      "C:\\Users\\Administrator\\AppData\\Local\\Temp\\2\\ipykernel_148632\\3035623616.py:35: FutureWarning: The frame.append method is deprecated and will be removed from pandas in a future version. Use pandas.concat instead.\n",
      "  df=df.append(df1, ignore_index = True)\n",
      "\r",
      "  2%|█▌                                                                             | 14/695 [02:09<2:01:17, 10.69s/it]"
     ]
    },
    {
     "name": "stdout",
     "output_type": "stream",
     "text": [
      "['Computer & Büro', 'Notebooks & Zubehör', 'Notebooks']\n",
      "seller not found\n",
      "https://assets.mmsrg.com/isr/166325/c1/-/ASSET_MMS_95127056?x=480&y=334&format=jpg&quality=80&sp=yes&strip=yes&trim&ex=480&ey=334&align=center&resizesource&unsharp=1.5x1+0.7+0.02&cox=0&coy=0&cdx=480&cdy=334\n",
      "************************\n",
      "14\n",
      "https://www.mediamarkt.de/de/product/-2851405.html\n"
     ]
    },
    {
     "name": "stderr",
     "output_type": "stream",
     "text": [
      "C:\\Users\\Administrator\\AppData\\Local\\Temp\\2\\ipykernel_148632\\3035623616.py:35: FutureWarning: The frame.append method is deprecated and will be removed from pandas in a future version. Use pandas.concat instead.\n",
      "  df=df.append(df1, ignore_index = True)\n",
      "\r",
      "  2%|█▋                                                                             | 15/695 [02:21<2:08:34, 11.35s/it]"
     ]
    },
    {
     "name": "stdout",
     "output_type": "stream",
     "text": [
      "['Computer & Büro', 'Notebooks & Zubehör', 'Notebooks']\n",
      "seller not found\n",
      "https://assets.mmsrg.com/isr/166325/c1/-/ASSET_MMS_101103817?x=480&y=334&format=jpg&quality=80&sp=yes&strip=yes&trim&ex=480&ey=334&align=center&resizesource&unsharp=1.5x1+0.7+0.02&cox=0&coy=0&cdx=480&cdy=334\n",
      "************************\n",
      "15\n",
      "https://www.mediamarkt.de/de/product/-112713418.html\n"
     ]
    },
    {
     "name": "stderr",
     "output_type": "stream",
     "text": [
      "C:\\Users\\Administrator\\AppData\\Local\\Temp\\2\\ipykernel_148632\\3035623616.py:35: FutureWarning: The frame.append method is deprecated and will be removed from pandas in a future version. Use pandas.concat instead.\n",
      "  df=df.append(df1, ignore_index = True)\n",
      "\r",
      "  2%|█▊                                                                             | 16/695 [02:33<2:08:52, 11.39s/it]"
     ]
    },
    {
     "name": "stdout",
     "output_type": "stream",
     "text": [
      "['Computer & Büro', 'Notebooks & Zubehör', 'Notebooks']\n",
      "Laptopia\n",
      "image not found\n",
      "************************\n",
      "16\n",
      "https://www.mediamarkt.de/de/product/-112713420.html\n"
     ]
    },
    {
     "name": "stderr",
     "output_type": "stream",
     "text": [
      "C:\\Users\\Administrator\\AppData\\Local\\Temp\\2\\ipykernel_148632\\3035623616.py:35: FutureWarning: The frame.append method is deprecated and will be removed from pandas in a future version. Use pandas.concat instead.\n",
      "  df=df.append(df1, ignore_index = True)\n",
      "\r",
      "  2%|█▉                                                                             | 17/695 [02:43<2:03:03, 10.89s/it]"
     ]
    },
    {
     "name": "stdout",
     "output_type": "stream",
     "text": [
      "['Computer & Büro', 'Notebooks & Zubehör', 'Notebooks']\n",
      "Laptopia\n",
      "https://assets.mmsrg.com/isr/166325/c1/-/ASSET_MP_107154050?x=480&y=334&format=jpg&quality=80&sp=yes&strip=yes&trim&ex=480&ey=334&align=center&resizesource&unsharp=1.5x1+0.7+0.02&cox=0&coy=0&cdx=480&cdy=334\n",
      "************************\n",
      "17\n",
      "https://www.mediamarkt.de/de/product/-106896212.html\n"
     ]
    },
    {
     "name": "stderr",
     "output_type": "stream",
     "text": [
      "C:\\Users\\Administrator\\AppData\\Local\\Temp\\2\\ipykernel_148632\\3035623616.py:35: FutureWarning: The frame.append method is deprecated and will be removed from pandas in a future version. Use pandas.concat instead.\n",
      "  df=df.append(df1, ignore_index = True)\n",
      "\r",
      "  3%|██                                                                             | 18/695 [02:50<1:52:19,  9.95s/it]"
     ]
    },
    {
     "name": "stdout",
     "output_type": "stream",
     "text": [
      "['Computer & Büro', 'Notebooks & Zubehör', 'Notebooks']\n",
      "Laptopia\n",
      "image not found\n",
      "************************\n",
      "18\n",
      "https://www.mediamarkt.de/de/product/-103539295.html\n"
     ]
    },
    {
     "name": "stderr",
     "output_type": "stream",
     "text": [
      "C:\\Users\\Administrator\\AppData\\Local\\Temp\\2\\ipykernel_148632\\3035623616.py:35: FutureWarning: The frame.append method is deprecated and will be removed from pandas in a future version. Use pandas.concat instead.\n",
      "  df=df.append(df1, ignore_index = True)\n",
      "\r",
      "  3%|██▏                                                                            | 19/695 [03:00<1:50:02,  9.77s/it]"
     ]
    },
    {
     "name": "stdout",
     "output_type": "stream",
     "text": [
      "['Computer & Büro', 'Notebooks & Zubehör', 'Notebooks']\n",
      "tease solutions GmbH\n",
      "image not found\n",
      "************************\n",
      "19\n",
      "https://www.mediamarkt.de/de/product/-106896205.html\n"
     ]
    },
    {
     "name": "stderr",
     "output_type": "stream",
     "text": [
      "C:\\Users\\Administrator\\AppData\\Local\\Temp\\2\\ipykernel_148632\\3035623616.py:35: FutureWarning: The frame.append method is deprecated and will be removed from pandas in a future version. Use pandas.concat instead.\n",
      "  df=df.append(df1, ignore_index = True)\n",
      "\r",
      "  3%|██▎                                                                            | 20/695 [03:08<1:45:37,  9.39s/it]"
     ]
    },
    {
     "name": "stdout",
     "output_type": "stream",
     "text": [
      "['Computer & Büro', 'Notebooks & Zubehör', 'Notebooks']\n",
      "Laptopia\n",
      "https://assets.mmsrg.com/isr/166325/c1/-/ASSET_MP_107154066?x=480&y=334&format=jpg&quality=80&sp=yes&strip=yes&trim&ex=480&ey=334&align=center&resizesource&unsharp=1.5x1+0.7+0.02&cox=0&coy=0&cdx=480&cdy=334\n",
      "************************\n",
      "20\n",
      "https://www.mediamarkt.de/de/product/-91864412.html\n"
     ]
    },
    {
     "name": "stderr",
     "output_type": "stream",
     "text": [
      "C:\\Users\\Administrator\\AppData\\Local\\Temp\\2\\ipykernel_148632\\3035623616.py:35: FutureWarning: The frame.append method is deprecated and will be removed from pandas in a future version. Use pandas.concat instead.\n",
      "  df=df.append(df1, ignore_index = True)\n",
      "\r",
      "  3%|██▍                                                                            | 21/695 [03:18<1:45:30,  9.39s/it]"
     ]
    },
    {
     "name": "stdout",
     "output_type": "stream",
     "text": [
      "['Computer & Büro', 'PCs & Zubehör', 'All-in-One-PCs']\n",
      "CSL-Computer\n",
      "https://assets.mmsrg.com/isr/166325/c1/-/ASSET_MP_91864421?x=480&y=334&format=jpg&quality=80&sp=yes&strip=yes&trim&ex=480&ey=334&align=center&resizesource&unsharp=1.5x1+0.7+0.02&cox=0&coy=0&cdx=480&cdy=334\n",
      "************************\n",
      "21\n",
      "https://www.mediamarkt.de/de/product/-95958140.html\n"
     ]
    },
    {
     "name": "stderr",
     "output_type": "stream",
     "text": [
      "C:\\Users\\Administrator\\AppData\\Local\\Temp\\2\\ipykernel_148632\\3035623616.py:35: FutureWarning: The frame.append method is deprecated and will be removed from pandas in a future version. Use pandas.concat instead.\n",
      "  df=df.append(df1, ignore_index = True)\n",
      "\r",
      "  3%|██▌                                                                            | 22/695 [03:27<1:43:57,  9.27s/it]"
     ]
    },
    {
     "name": "stdout",
     "output_type": "stream",
     "text": [
      "['Computer & Büro', 'Komponenten', 'PC Aufrüstkits']\n",
      "Memory PC\n",
      "https://assets.mmsrg.com/isr/166325/c1/-/ASSET_MP_95958141?x=480&y=334&format=jpg&quality=80&sp=yes&strip=yes&trim&ex=480&ey=334&align=center&resizesource&unsharp=1.5x1+0.7+0.02&cox=0&coy=0&cdx=480&cdy=334\n",
      "************************\n",
      "22\n",
      "https://www.mediamarkt.de/de/product/-107987067.html\n"
     ]
    },
    {
     "name": "stderr",
     "output_type": "stream",
     "text": [
      "C:\\Users\\Administrator\\AppData\\Local\\Temp\\2\\ipykernel_148632\\3035623616.py:35: FutureWarning: The frame.append method is deprecated and will be removed from pandas in a future version. Use pandas.concat instead.\n",
      "  df=df.append(df1, ignore_index = True)\n",
      "\r",
      "  3%|██▌                                                                            | 23/695 [03:38<1:49:42,  9.80s/it]"
     ]
    },
    {
     "name": "stdout",
     "output_type": "stream",
     "text": [
      "['Computer & Büro', 'PCs & Zubehör', 'Gaming-PCs']\n",
      "SYSTEMTREFF\n",
      "image not found\n",
      "************************\n",
      "23\n",
      "https://www.mediamarkt.de/de/product/-98235867.html\n"
     ]
    },
    {
     "name": "stderr",
     "output_type": "stream",
     "text": [
      "C:\\Users\\Administrator\\AppData\\Local\\Temp\\2\\ipykernel_148632\\3035623616.py:35: FutureWarning: The frame.append method is deprecated and will be removed from pandas in a future version. Use pandas.concat instead.\n",
      "  df=df.append(df1, ignore_index = True)\n",
      "\r",
      "  3%|██▋                                                                            | 24/695 [03:46<1:44:12,  9.32s/it]"
     ]
    },
    {
     "name": "stdout",
     "output_type": "stream",
     "text": [
      "['Computer & Büro', 'Komponenten', 'PC Aufrüstkits']\n",
      "Memory PC\n",
      "image not found\n",
      "************************\n",
      "24\n",
      "https://www.mediamarkt.de/de/product/-95958135.html\n"
     ]
    },
    {
     "name": "stderr",
     "output_type": "stream",
     "text": [
      "C:\\Users\\Administrator\\AppData\\Local\\Temp\\2\\ipykernel_148632\\3035623616.py:35: FutureWarning: The frame.append method is deprecated and will be removed from pandas in a future version. Use pandas.concat instead.\n",
      "  df=df.append(df1, ignore_index = True)\n",
      "\r",
      "  4%|██▊                                                                            | 25/695 [03:56<1:45:13,  9.42s/it]"
     ]
    },
    {
     "name": "stdout",
     "output_type": "stream",
     "text": [
      "['Computer & Büro', 'Komponenten', 'PC Aufrüstkits']\n",
      "Memory PC\n",
      "image not found\n",
      "************************\n",
      "25\n",
      "https://www.mediamarkt.de/de/product/-107995488.html\n"
     ]
    },
    {
     "name": "stderr",
     "output_type": "stream",
     "text": [
      "C:\\Users\\Administrator\\AppData\\Local\\Temp\\2\\ipykernel_148632\\3035623616.py:35: FutureWarning: The frame.append method is deprecated and will be removed from pandas in a future version. Use pandas.concat instead.\n",
      "  df=df.append(df1, ignore_index = True)\n",
      "\r",
      "  4%|██▉                                                                            | 26/695 [04:07<1:50:00,  9.87s/it]"
     ]
    },
    {
     "name": "stdout",
     "output_type": "stream",
     "text": [
      "['Computer & Büro', 'PCs & Zubehör', 'PCs']\n",
      "SYSTEMTREFF\n",
      "https://assets.mmsrg.com/isr/166325/c1/-/ASSET_MP_103172625?x=480&y=334&format=jpg&quality=80&sp=yes&strip=yes&trim&ex=480&ey=334&align=center&resizesource&unsharp=1.5x1+0.7+0.02&cox=0&coy=0&cdx=480&cdy=334\n",
      "************************\n",
      "26\n",
      "https://www.mediamarkt.de/de/product/-107987084.html\n"
     ]
    },
    {
     "name": "stderr",
     "output_type": "stream",
     "text": [
      "C:\\Users\\Administrator\\AppData\\Local\\Temp\\2\\ipykernel_148632\\3035623616.py:35: FutureWarning: The frame.append method is deprecated and will be removed from pandas in a future version. Use pandas.concat instead.\n",
      "  df=df.append(df1, ignore_index = True)\n",
      "\r",
      "  4%|███                                                                            | 27/695 [04:19<1:59:23, 10.72s/it]"
     ]
    },
    {
     "name": "stdout",
     "output_type": "stream",
     "text": [
      "['Computer & Büro', 'PCs & Zubehör', 'Gaming-PCs']\n",
      "SYSTEMTREFF\n",
      "image not found\n",
      "************************\n",
      "27\n",
      "https://www.mediamarkt.de/de/product/-107986551.html\n"
     ]
    },
    {
     "name": "stderr",
     "output_type": "stream",
     "text": [
      "C:\\Users\\Administrator\\AppData\\Local\\Temp\\2\\ipykernel_148632\\3035623616.py:35: FutureWarning: The frame.append method is deprecated and will be removed from pandas in a future version. Use pandas.concat instead.\n",
      "  df=df.append(df1, ignore_index = True)\n",
      "\r",
      "  4%|███▏                                                                           | 28/695 [04:27<1:50:37,  9.95s/it]"
     ]
    },
    {
     "name": "stdout",
     "output_type": "stream",
     "text": [
      "['Computer & Büro', 'PCs & Zubehör', 'Gaming-PCs']\n",
      "SYSTEMTREFF\n",
      "https://assets.mmsrg.com/isr/166325/c1/-/ASSET_MP_93919589?x=480&y=334&format=jpg&quality=80&sp=yes&strip=yes&trim&ex=480&ey=334&align=center&resizesource&unsharp=1.5x1+0.7+0.02&cox=0&coy=0&cdx=480&cdy=334\n",
      "************************\n",
      "28\n",
      "https://www.mediamarkt.de/de/product/-107995099.html\n"
     ]
    },
    {
     "name": "stderr",
     "output_type": "stream",
     "text": [
      "C:\\Users\\Administrator\\AppData\\Local\\Temp\\2\\ipykernel_148632\\3035623616.py:35: FutureWarning: The frame.append method is deprecated and will be removed from pandas in a future version. Use pandas.concat instead.\n",
      "  df=df.append(df1, ignore_index = True)\n",
      "\r",
      "  4%|███▎                                                                           | 29/695 [04:36<1:45:00,  9.46s/it]"
     ]
    },
    {
     "name": "stdout",
     "output_type": "stream",
     "text": [
      "['Computer & Büro', 'PCs & Zubehör', 'PCs']\n",
      "SYSTEMTREFF\n",
      "https://assets.mmsrg.com/isr/166325/c1/-/ASSET_MP_103172611?x=480&y=334&format=jpg&quality=80&sp=yes&strip=yes&trim&ex=480&ey=334&align=center&resizesource&unsharp=1.5x1+0.7+0.02&cox=0&coy=0&cdx=480&cdy=334\n",
      "************************\n",
      "29\n",
      "https://www.mediamarkt.de/de/product/-104450525.html\n"
     ]
    },
    {
     "name": "stderr",
     "output_type": "stream",
     "text": [
      "C:\\Users\\Administrator\\AppData\\Local\\Temp\\2\\ipykernel_148632\\3035623616.py:35: FutureWarning: The frame.append method is deprecated and will be removed from pandas in a future version. Use pandas.concat instead.\n",
      "  df=df.append(df1, ignore_index = True)\n",
      "\r",
      "  4%|███▍                                                                           | 30/695 [04:43<1:39:06,  8.94s/it]"
     ]
    },
    {
     "name": "stdout",
     "output_type": "stream",
     "text": [
      "['Computer & Büro', 'PCs & Zubehör', 'PCs']\n",
      "Sedatech\n",
      "https://assets.mmsrg.com/isr/166325/c1/-/ASSET_MP_104450403?x=480&y=334&format=jpg&quality=80&sp=yes&strip=yes&trim&ex=480&ey=334&align=center&resizesource&unsharp=1.5x1+0.7+0.02&cox=0&coy=0&cdx=480&cdy=334\n",
      "************************\n",
      "30\n",
      "https://www.mediamarkt.de/de/product/-76888898.html\n"
     ]
    },
    {
     "name": "stderr",
     "output_type": "stream",
     "text": [
      "C:\\Users\\Administrator\\AppData\\Local\\Temp\\2\\ipykernel_148632\\3035623616.py:35: FutureWarning: The frame.append method is deprecated and will be removed from pandas in a future version. Use pandas.concat instead.\n",
      "  df=df.append(df1, ignore_index = True)\n",
      "\r",
      "  4%|███▌                                                                           | 31/695 [04:53<1:39:54,  9.03s/it]"
     ]
    },
    {
     "name": "stdout",
     "output_type": "stream",
     "text": [
      "['Computer & Büro', 'PCs & Zubehör', 'Gaming-PCs']\n",
      "GameMachines\n",
      "https://assets.mmsrg.com/isr/166325/c1/-/ASSET_MP_102043084?x=480&y=334&format=jpg&quality=80&sp=yes&strip=yes&trim&ex=480&ey=334&align=center&resizesource&unsharp=1.5x1+0.7+0.02&cox=0&coy=0&cdx=480&cdy=334\n",
      "************************\n",
      "31\n",
      "https://www.mediamarkt.de/de/product/-107995815.html\n"
     ]
    },
    {
     "name": "stderr",
     "output_type": "stream",
     "text": [
      "C:\\Users\\Administrator\\AppData\\Local\\Temp\\2\\ipykernel_148632\\3035623616.py:35: FutureWarning: The frame.append method is deprecated and will be removed from pandas in a future version. Use pandas.concat instead.\n",
      "  df=df.append(df1, ignore_index = True)\n",
      "\r",
      "  5%|███▋                                                                           | 32/695 [05:01<1:38:33,  8.92s/it]"
     ]
    },
    {
     "name": "stdout",
     "output_type": "stream",
     "text": [
      "['Computer & Büro', 'PCs & Zubehör', 'PCs']\n",
      "SYSTEMTREFF\n",
      "image not found\n",
      "************************\n",
      "32\n",
      "https://www.mediamarkt.de/de/product/-76730947.html\n"
     ]
    },
    {
     "name": "stderr",
     "output_type": "stream",
     "text": [
      "C:\\Users\\Administrator\\AppData\\Local\\Temp\\2\\ipykernel_148632\\3035623616.py:35: FutureWarning: The frame.append method is deprecated and will be removed from pandas in a future version. Use pandas.concat instead.\n",
      "  df=df.append(df1, ignore_index = True)\n",
      "\r",
      "  5%|███▊                                                                           | 33/695 [05:10<1:37:00,  8.79s/it]"
     ]
    },
    {
     "name": "stdout",
     "output_type": "stream",
     "text": [
      "['Computer & Büro', 'PCs & Zubehör', 'Gaming-PCs']\n",
      "GameMachines\n",
      "https://assets.mmsrg.com/isr/166325/c1/-/ASSET_MP_105349015?x=480&y=334&format=jpg&quality=80&sp=yes&strip=yes&trim&ex=480&ey=334&align=center&resizesource&unsharp=1.5x1+0.7+0.02&cox=0&coy=0&cdx=480&cdy=334\n",
      "************************\n",
      "33\n",
      "https://www.mediamarkt.de/de/product/-2834780.html\n"
     ]
    },
    {
     "name": "stderr",
     "output_type": "stream",
     "text": [
      "C:\\Users\\Administrator\\AppData\\Local\\Temp\\2\\ipykernel_148632\\3035623616.py:35: FutureWarning: The frame.append method is deprecated and will be removed from pandas in a future version. Use pandas.concat instead.\n",
      "  df=df.append(df1, ignore_index = True)\n",
      "\r",
      "  5%|███▊                                                                           | 34/695 [05:20<1:42:35,  9.31s/it]"
     ]
    },
    {
     "name": "stdout",
     "output_type": "stream",
     "text": [
      "['Computer & Büro', 'Notebooks & Zubehör', 'Notebooks']\n",
      "seller not found\n",
      "https://assets.mmsrg.com/isr/166325/c1/-/ASSET_MMS_98898464?x=480&y=334&format=jpg&quality=80&sp=yes&strip=yes&trim&ex=480&ey=334&align=center&resizesource&unsharp=1.5x1+0.7+0.02&cox=0&coy=0&cdx=480&cdy=334\n",
      "************************\n",
      "34\n",
      "https://www.mediamarkt.de/de/product/-2834775.html\n"
     ]
    },
    {
     "name": "stderr",
     "output_type": "stream",
     "text": [
      "C:\\Users\\Administrator\\AppData\\Local\\Temp\\2\\ipykernel_148632\\3035623616.py:35: FutureWarning: The frame.append method is deprecated and will be removed from pandas in a future version. Use pandas.concat instead.\n",
      "  df=df.append(df1, ignore_index = True)\n",
      "\r",
      "  5%|███▉                                                                           | 35/695 [05:32<1:51:25, 10.13s/it]"
     ]
    },
    {
     "name": "stdout",
     "output_type": "stream",
     "text": [
      "['Computer & Büro', 'Notebooks & Zubehör', 'Notebooks']\n",
      "seller not found\n",
      "image not found\n",
      "************************\n",
      "35\n",
      "https://www.mediamarkt.de/de/product/-108089763.html\n"
     ]
    },
    {
     "name": "stderr",
     "output_type": "stream",
     "text": [
      "C:\\Users\\Administrator\\AppData\\Local\\Temp\\2\\ipykernel_148632\\3035623616.py:35: FutureWarning: The frame.append method is deprecated and will be removed from pandas in a future version. Use pandas.concat instead.\n",
      "  df=df.append(df1, ignore_index = True)\n",
      "\r",
      "  5%|████                                                                           | 36/695 [05:43<1:51:50, 10.18s/it]"
     ]
    },
    {
     "name": "stdout",
     "output_type": "stream",
     "text": [
      "['Computer & Büro', 'Notebooks & Zubehör', 'Notebooks']\n",
      "Cybernerds\n",
      "https://assets.mmsrg.com/isr/166325/c1/-/ASSET_MP_108089764?x=480&y=334&format=jpg&quality=80&sp=yes&strip=yes&trim&ex=480&ey=334&align=center&resizesource&unsharp=1.5x1+0.7+0.02&cox=0&coy=0&cdx=480&cdy=334\n",
      "************************\n",
      "36\n",
      "https://www.mediamarkt.de/de/product/-2875271.html\n"
     ]
    },
    {
     "name": "stderr",
     "output_type": "stream",
     "text": [
      "C:\\Users\\Administrator\\AppData\\Local\\Temp\\2\\ipykernel_148632\\3035623616.py:35: FutureWarning: The frame.append method is deprecated and will be removed from pandas in a future version. Use pandas.concat instead.\n",
      "  df=df.append(df1, ignore_index = True)\n",
      "\r",
      "  5%|████▏                                                                          | 37/695 [05:56<2:00:55, 11.03s/it]"
     ]
    },
    {
     "name": "stdout",
     "output_type": "stream",
     "text": [
      "['Computer & Büro', 'Notebooks & Zubehör', 'Notebooks']\n",
      "seller not found\n",
      "https://assets.mmsrg.com/isr/166325/c1/-/ASSET_MMS_107065642?x=480&y=334&format=jpg&quality=80&sp=yes&strip=yes&trim&ex=480&ey=334&align=center&resizesource&unsharp=1.5x1+0.7+0.02&cox=0&coy=0&cdx=480&cdy=334\n",
      "************************\n",
      "37\n",
      "https://www.mediamarkt.de/de/product/-2875272.html\n"
     ]
    },
    {
     "name": "stderr",
     "output_type": "stream",
     "text": [
      "C:\\Users\\Administrator\\AppData\\Local\\Temp\\2\\ipykernel_148632\\3035623616.py:35: FutureWarning: The frame.append method is deprecated and will be removed from pandas in a future version. Use pandas.concat instead.\n",
      "  df=df.append(df1, ignore_index = True)\n",
      "\r",
      "  5%|████▎                                                                          | 38/695 [06:07<2:00:53, 11.04s/it]"
     ]
    },
    {
     "name": "stdout",
     "output_type": "stream",
     "text": [
      "['Computer & Büro', 'Notebooks & Zubehör', 'Notebooks']\n",
      "seller not found\n",
      "image not found\n",
      "************************\n",
      "38\n",
      "https://www.mediamarkt.de/de/product/-106714851.html\n"
     ]
    },
    {
     "name": "stderr",
     "output_type": "stream",
     "text": [
      "C:\\Users\\Administrator\\AppData\\Local\\Temp\\2\\ipykernel_148632\\3035623616.py:35: FutureWarning: The frame.append method is deprecated and will be removed from pandas in a future version. Use pandas.concat instead.\n",
      "  df=df.append(df1, ignore_index = True)\n",
      "\r",
      "  6%|████▍                                                                          | 39/695 [06:15<1:52:05, 10.25s/it]"
     ]
    },
    {
     "name": "stdout",
     "output_type": "stream",
     "text": [
      "['Computer & Büro', 'Notebooks & Zubehör', 'Notebooks']\n",
      "Memory PC\n",
      "image not found\n",
      "************************\n",
      "39\n",
      "https://www.mediamarkt.de/de/product/-2814750.html\n"
     ]
    },
    {
     "name": "stderr",
     "output_type": "stream",
     "text": [
      "C:\\Users\\Administrator\\AppData\\Local\\Temp\\2\\ipykernel_148632\\3035623616.py:35: FutureWarning: The frame.append method is deprecated and will be removed from pandas in a future version. Use pandas.concat instead.\n",
      "  df=df.append(df1, ignore_index = True)\n",
      "\r",
      "  6%|████▌                                                                          | 40/695 [06:28<2:01:43, 11.15s/it]"
     ]
    },
    {
     "name": "stdout",
     "output_type": "stream",
     "text": [
      "['Computer & Büro', 'Notebooks & Zubehör', 'Notebooks']\n",
      "seller not found\n",
      "https://assets.mmsrg.com/isr/166325/c1/-/ASSET_MMS_95024907?x=480&y=334&format=jpg&quality=80&sp=yes&strip=yes&trim&ex=480&ey=334&align=center&resizesource&unsharp=1.5x1+0.7+0.02&cox=0&coy=0&cdx=480&cdy=334\n",
      "************************\n",
      "40\n",
      "https://www.mediamarkt.de/de/product/-2814754.html\n"
     ]
    },
    {
     "name": "stderr",
     "output_type": "stream",
     "text": [
      "C:\\Users\\Administrator\\AppData\\Local\\Temp\\2\\ipykernel_148632\\3035623616.py:35: FutureWarning: The frame.append method is deprecated and will be removed from pandas in a future version. Use pandas.concat instead.\n",
      "  df=df.append(df1, ignore_index = True)\n",
      "\r",
      "  6%|████▋                                                                          | 41/695 [06:41<2:04:57, 11.46s/it]"
     ]
    },
    {
     "name": "stdout",
     "output_type": "stream",
     "text": [
      "['Computer & Büro', 'Notebooks & Zubehör', 'Notebooks']\n",
      "seller not found\n",
      "https://assets.mmsrg.com/isr/166325/c1/-/ASSET_MMS_95024914?x=480&y=334&format=jpg&quality=80&sp=yes&strip=yes&trim&ex=480&ey=334&align=center&resizesource&unsharp=1.5x1+0.7+0.02&cox=0&coy=0&cdx=480&cdy=334\n",
      "************************\n",
      "41\n",
      "https://www.mediamarkt.de/de/product/-2814753.html\n"
     ]
    },
    {
     "name": "stderr",
     "output_type": "stream",
     "text": [
      "C:\\Users\\Administrator\\AppData\\Local\\Temp\\2\\ipykernel_148632\\3035623616.py:35: FutureWarning: The frame.append method is deprecated and will be removed from pandas in a future version. Use pandas.concat instead.\n",
      "  df=df.append(df1, ignore_index = True)\n",
      "\r",
      "  6%|████▊                                                                          | 42/695 [06:52<2:03:12, 11.32s/it]"
     ]
    },
    {
     "name": "stdout",
     "output_type": "stream",
     "text": [
      "['Computer & Büro', 'Notebooks & Zubehör', 'Notebooks']\n",
      "seller not found\n",
      "https://assets.mmsrg.com/isr/166325/c1/-/ASSET_MMS_95024894?x=480&y=334&format=jpg&quality=80&sp=yes&strip=yes&trim&ex=480&ey=334&align=center&resizesource&unsharp=1.5x1+0.7+0.02&cox=0&coy=0&cdx=480&cdy=334\n",
      "************************\n",
      "42\n",
      "https://www.mediamarkt.de/de/product/-2826411.html\n"
     ]
    },
    {
     "name": "stderr",
     "output_type": "stream",
     "text": [
      "C:\\Users\\Administrator\\AppData\\Local\\Temp\\2\\ipykernel_148632\\3035623616.py:35: FutureWarning: The frame.append method is deprecated and will be removed from pandas in a future version. Use pandas.concat instead.\n",
      "  df=df.append(df1, ignore_index = True)\n",
      "\r",
      "  6%|████▉                                                                          | 43/695 [07:02<1:59:48, 11.03s/it]"
     ]
    },
    {
     "name": "stdout",
     "output_type": "stream",
     "text": [
      "['Computer & Büro', 'Notebooks & Zubehör', 'Notebooks']\n",
      "seller not found\n",
      "https://assets.mmsrg.com/isr/166325/c1/-/ASSET_MMS_96592122?x=480&y=334&format=jpg&quality=80&sp=yes&strip=yes&trim&ex=480&ey=334&align=center&resizesource&unsharp=1.5x1+0.7+0.02&cox=0&coy=0&cdx=480&cdy=334\n",
      "************************\n",
      "43\n",
      "https://www.mediamarkt.de/de/product/-2826456.html\n"
     ]
    },
    {
     "name": "stderr",
     "output_type": "stream",
     "text": [
      "C:\\Users\\Administrator\\AppData\\Local\\Temp\\2\\ipykernel_148632\\3035623616.py:35: FutureWarning: The frame.append method is deprecated and will be removed from pandas in a future version. Use pandas.concat instead.\n",
      "  df=df.append(df1, ignore_index = True)\n",
      "\r",
      "  6%|█████                                                                          | 44/695 [07:12<1:56:52, 10.77s/it]"
     ]
    },
    {
     "name": "stdout",
     "output_type": "stream",
     "text": [
      "['Computer & Büro', 'Notebooks & Zubehör', 'Notebooks']\n",
      "seller not found\n",
      "image not found\n",
      "************************\n",
      "44\n",
      "https://www.mediamarkt.de/de/product/-2814755.html\n"
     ]
    },
    {
     "name": "stderr",
     "output_type": "stream",
     "text": [
      "C:\\Users\\Administrator\\AppData\\Local\\Temp\\2\\ipykernel_148632\\3035623616.py:35: FutureWarning: The frame.append method is deprecated and will be removed from pandas in a future version. Use pandas.concat instead.\n",
      "  df=df.append(df1, ignore_index = True)\n",
      "\r",
      "  6%|█████                                                                          | 45/695 [07:24<2:01:27, 11.21s/it]"
     ]
    },
    {
     "name": "stdout",
     "output_type": "stream",
     "text": [
      "['Computer & Büro', 'Notebooks & Zubehör', 'Notebooks']\n",
      "seller not found\n",
      "https://assets.mmsrg.com/isr/166325/c1/-/ASSET_MMS_95024889?x=480&y=334&format=jpg&quality=80&sp=yes&strip=yes&trim&ex=480&ey=334&align=center&resizesource&unsharp=1.5x1+0.7+0.02&cox=0&coy=0&cdx=480&cdy=334\n",
      "************************\n",
      "45\n",
      "https://www.mediamarkt.de/de/product/-103750325.html\n"
     ]
    },
    {
     "name": "stderr",
     "output_type": "stream",
     "text": [
      "C:\\Users\\Administrator\\AppData\\Local\\Temp\\2\\ipykernel_148632\\3035623616.py:35: FutureWarning: The frame.append method is deprecated and will be removed from pandas in a future version. Use pandas.concat instead.\n",
      "  df=df.append(df1, ignore_index = True)\n",
      "\r",
      "  7%|█████▏                                                                         | 46/695 [07:35<1:57:53, 10.90s/it]"
     ]
    },
    {
     "name": "stdout",
     "output_type": "stream",
     "text": [
      "['Computer & Büro', 'Notebooks & Zubehör', 'Notebooks']\n",
      "Mediarado\n",
      "https://assets.mmsrg.com/isr/166325/c1/-/ASSET_MP_99352837?x=480&y=334&format=jpg&quality=80&sp=yes&strip=yes&trim&ex=480&ey=334&align=center&resizesource&unsharp=1.5x1+0.7+0.02&cox=0&coy=0&cdx=480&cdy=334\n",
      "************************\n",
      "46\n",
      "https://www.mediamarkt.de/de/product/-2877450.html\n"
     ]
    },
    {
     "name": "stderr",
     "output_type": "stream",
     "text": [
      "C:\\Users\\Administrator\\AppData\\Local\\Temp\\2\\ipykernel_148632\\3035623616.py:35: FutureWarning: The frame.append method is deprecated and will be removed from pandas in a future version. Use pandas.concat instead.\n",
      "  df=df.append(df1, ignore_index = True)\n",
      "\r",
      "  7%|█████▎                                                                         | 47/695 [07:45<1:54:56, 10.64s/it]"
     ]
    },
    {
     "name": "stdout",
     "output_type": "stream",
     "text": [
      "['Computer & Büro', 'Notebooks & Zubehör', 'Notebooks']\n",
      "seller not found\n",
      "image not found\n",
      "************************\n",
      "47\n",
      "https://www.mediamarkt.de/de/product/-2891206.html\n"
     ]
    },
    {
     "name": "stderr",
     "output_type": "stream",
     "text": [
      "C:\\Users\\Administrator\\AppData\\Local\\Temp\\2\\ipykernel_148632\\3035623616.py:35: FutureWarning: The frame.append method is deprecated and will be removed from pandas in a future version. Use pandas.concat instead.\n",
      "  df=df.append(df1, ignore_index = True)\n",
      "\r",
      "  7%|█████▍                                                                         | 48/695 [07:55<1:52:29, 10.43s/it]"
     ]
    },
    {
     "name": "stdout",
     "output_type": "stream",
     "text": [
      "['Computer & Büro', 'Notebooks & Zubehör', 'Gaming-Notebooks']\n",
      "seller not found\n",
      "https://assets.mmsrg.com/isr/166325/c1/-/ASSET_MMS_112311259?x=480&y=334&format=jpg&quality=80&sp=yes&strip=yes&trim&ex=480&ey=334&align=center&resizesource&unsharp=1.5x1+0.7+0.02&cox=0&coy=0&cdx=480&cdy=334\n",
      "************************\n",
      "48\n",
      "https://www.mediamarkt.de/de/product/-2863829.html\n"
     ]
    },
    {
     "name": "stderr",
     "output_type": "stream",
     "text": [
      "C:\\Users\\Administrator\\AppData\\Local\\Temp\\2\\ipykernel_148632\\3035623616.py:35: FutureWarning: The frame.append method is deprecated and will be removed from pandas in a future version. Use pandas.concat instead.\n",
      "  df=df.append(df1, ignore_index = True)\n",
      "\r",
      "  7%|█████▌                                                                         | 49/695 [08:06<1:55:29, 10.73s/it]"
     ]
    },
    {
     "name": "stdout",
     "output_type": "stream",
     "text": [
      "['Computer & Büro', 'Notebooks & Zubehör', 'Notebooks']\n",
      "seller not found\n",
      "image not found\n",
      "************************\n",
      "49\n",
      "https://www.mediamarkt.de/de/product/-2863832.html\n"
     ]
    },
    {
     "name": "stderr",
     "output_type": "stream",
     "text": [
      "C:\\Users\\Administrator\\AppData\\Local\\Temp\\2\\ipykernel_148632\\3035623616.py:35: FutureWarning: The frame.append method is deprecated and will be removed from pandas in a future version. Use pandas.concat instead.\n",
      "  df=df.append(df1, ignore_index = True)\n",
      "\r",
      "  7%|█████▋                                                                         | 50/695 [08:16<1:54:27, 10.65s/it]"
     ]
    },
    {
     "name": "stdout",
     "output_type": "stream",
     "text": [
      "['Computer & Büro', 'Notebooks & Zubehör', 'Notebooks']\n",
      "seller not found\n",
      "https://assets.mmsrg.com/isr/166325/c1/-/ASSET_MMS_103726893?x=480&y=334&format=jpg&quality=80&sp=yes&strip=yes&trim&ex=480&ey=334&align=center&resizesource&unsharp=1.5x1+0.7+0.02&cox=0&coy=0&cdx=480&cdy=334\n",
      "************************\n",
      "50\n",
      "https://www.mediamarkt.de/de/product/-2852502.html\n"
     ]
    },
    {
     "name": "stderr",
     "output_type": "stream",
     "text": [
      "C:\\Users\\Administrator\\AppData\\Local\\Temp\\2\\ipykernel_148632\\3035623616.py:35: FutureWarning: The frame.append method is deprecated and will be removed from pandas in a future version. Use pandas.concat instead.\n",
      "  df=df.append(df1, ignore_index = True)\n",
      "\r",
      "  7%|█████▊                                                                         | 51/695 [08:31<2:05:35, 11.70s/it]"
     ]
    },
    {
     "name": "stdout",
     "output_type": "stream",
     "text": [
      "['Computer & Büro', 'Notebooks & Zubehör', 'Gaming-Notebooks']\n",
      "seller not found\n",
      "image not found\n",
      "************************\n",
      "51\n",
      "https://www.mediamarkt.de/de/product/-2864603.html\n"
     ]
    },
    {
     "name": "stderr",
     "output_type": "stream",
     "text": [
      "C:\\Users\\Administrator\\AppData\\Local\\Temp\\2\\ipykernel_148632\\3035623616.py:35: FutureWarning: The frame.append method is deprecated and will be removed from pandas in a future version. Use pandas.concat instead.\n",
      "  df=df.append(df1, ignore_index = True)\n",
      "\r",
      "  7%|█████▉                                                                         | 52/695 [08:44<2:11:51, 12.30s/it]"
     ]
    },
    {
     "name": "stdout",
     "output_type": "stream",
     "text": [
      "['Computer & Büro', 'Notebooks & Zubehör', 'Gaming-Notebooks']\n",
      "seller not found\n",
      "image not found\n",
      "************************\n",
      "52\n",
      "https://www.mediamarkt.de/de/product/-2880887.html\n"
     ]
    },
    {
     "name": "stderr",
     "output_type": "stream",
     "text": [
      "C:\\Users\\Administrator\\AppData\\Local\\Temp\\2\\ipykernel_148632\\3035623616.py:35: FutureWarning: The frame.append method is deprecated and will be removed from pandas in a future version. Use pandas.concat instead.\n",
      "  df=df.append(df1, ignore_index = True)\n",
      "\r",
      "  8%|██████                                                                         | 53/695 [08:55<2:07:07, 11.88s/it]"
     ]
    },
    {
     "name": "stdout",
     "output_type": "stream",
     "text": [
      "['Computer & Büro', 'Notebooks & Zubehör', 'Gaming-Notebooks']\n",
      "seller not found\n",
      "image not found\n",
      "************************\n",
      "53\n",
      "https://www.mediamarkt.de/de/product/-2877814.html\n"
     ]
    },
    {
     "name": "stderr",
     "output_type": "stream",
     "text": [
      "C:\\Users\\Administrator\\AppData\\Local\\Temp\\2\\ipykernel_148632\\3035623616.py:35: FutureWarning: The frame.append method is deprecated and will be removed from pandas in a future version. Use pandas.concat instead.\n",
      "  df=df.append(df1, ignore_index = True)\n",
      "\r",
      "  8%|██████▏                                                                        | 54/695 [09:06<2:02:22, 11.45s/it]"
     ]
    },
    {
     "name": "stdout",
     "output_type": "stream",
     "text": [
      "['Computer & Büro', 'Notebooks & Zubehör', 'Gaming-Notebooks']\n",
      "seller not found\n",
      "image not found\n",
      "************************\n",
      "54\n",
      "https://www.mediamarkt.de/de/product/-2862627.html\n"
     ]
    },
    {
     "name": "stderr",
     "output_type": "stream",
     "text": [
      "C:\\Users\\Administrator\\AppData\\Local\\Temp\\2\\ipykernel_148632\\3035623616.py:35: FutureWarning: The frame.append method is deprecated and will be removed from pandas in a future version. Use pandas.concat instead.\n",
      "  df=df.append(df1, ignore_index = True)\n",
      "\r",
      "  8%|██████▎                                                                        | 55/695 [09:16<1:58:17, 11.09s/it]"
     ]
    },
    {
     "name": "stdout",
     "output_type": "stream",
     "text": [
      "['Computer & Büro', 'Notebooks & Zubehör', 'Gaming-Notebooks']\n",
      "seller not found\n",
      "https://assets.mmsrg.com/isr/166325/c1/-/ASSET_MMS_103125897?x=480&y=334&format=jpg&quality=80&sp=yes&strip=yes&trim&ex=480&ey=334&align=center&resizesource&unsharp=1.5x1+0.7+0.02&cox=0&coy=0&cdx=480&cdy=334\n",
      "************************\n",
      "55\n",
      "https://www.mediamarkt.de/de/product/-2780372.html\n"
     ]
    },
    {
     "name": "stderr",
     "output_type": "stream",
     "text": [
      "C:\\Users\\Administrator\\AppData\\Local\\Temp\\2\\ipykernel_148632\\3035623616.py:35: FutureWarning: The frame.append method is deprecated and will be removed from pandas in a future version. Use pandas.concat instead.\n",
      "  df=df.append(df1, ignore_index = True)\n",
      "\r",
      "  8%|██████▎                                                                        | 56/695 [09:29<2:04:00, 11.64s/it]"
     ]
    },
    {
     "name": "stdout",
     "output_type": "stream",
     "text": [
      "['Computer & Büro', 'Notebooks & Zubehör', 'Gaming-Notebooks']\n",
      "seller not found\n",
      "https://assets.mmsrg.com/isr/166325/c1/-/ASSET_MMS_93318097?x=480&y=334&format=jpg&quality=80&sp=yes&strip=yes&trim&ex=480&ey=334&align=center&resizesource&unsharp=1.5x1+0.7+0.02&cox=0&coy=0&cdx=480&cdy=334\n",
      "************************\n",
      "56\n",
      "https://www.mediamarkt.de/de/product/-2847444.html\n"
     ]
    },
    {
     "name": "stderr",
     "output_type": "stream",
     "text": [
      "C:\\Users\\Administrator\\AppData\\Local\\Temp\\2\\ipykernel_148632\\3035623616.py:35: FutureWarning: The frame.append method is deprecated and will be removed from pandas in a future version. Use pandas.concat instead.\n",
      "  df=df.append(df1, ignore_index = True)\n",
      "\r",
      "  8%|██████▍                                                                        | 57/695 [09:41<2:05:01, 11.76s/it]"
     ]
    },
    {
     "name": "stdout",
     "output_type": "stream",
     "text": [
      "['Computer & Büro', 'Notebooks & Zubehör', 'Gaming-Notebooks']\n",
      "seller not found\n",
      "image not found\n",
      "************************\n",
      "57\n",
      "https://www.mediamarkt.de/de/product/-2868885.html\n"
     ]
    },
    {
     "name": "stderr",
     "output_type": "stream",
     "text": [
      "C:\\Users\\Administrator\\AppData\\Local\\Temp\\2\\ipykernel_148632\\3035623616.py:35: FutureWarning: The frame.append method is deprecated and will be removed from pandas in a future version. Use pandas.concat instead.\n",
      "  df=df.append(df1, ignore_index = True)\n",
      "\r",
      "  8%|██████▌                                                                        | 58/695 [09:53<2:06:23, 11.90s/it]"
     ]
    },
    {
     "name": "stdout",
     "output_type": "stream",
     "text": [
      "['Computer & Büro', 'Notebooks & Zubehör', 'Gaming-Notebooks']\n",
      "seller not found\n",
      "https://assets.mmsrg.com/isr/166325/c1/-/ASSET_MMS_107161661?x=480&y=334&format=jpg&quality=80&sp=yes&strip=yes&trim&ex=480&ey=334&align=center&resizesource&unsharp=1.5x1+0.7+0.02&cox=0&coy=0&cdx=480&cdy=334\n",
      "************************\n",
      "58\n",
      "https://www.mediamarkt.de/de/product/-2868885.html\n"
     ]
    },
    {
     "name": "stderr",
     "output_type": "stream",
     "text": [
      "C:\\Users\\Administrator\\AppData\\Local\\Temp\\2\\ipykernel_148632\\3035623616.py:35: FutureWarning: The frame.append method is deprecated and will be removed from pandas in a future version. Use pandas.concat instead.\n",
      "  df=df.append(df1, ignore_index = True)\n",
      "\r",
      "  8%|██████▋                                                                        | 59/695 [10:02<1:58:00, 11.13s/it]"
     ]
    },
    {
     "name": "stdout",
     "output_type": "stream",
     "text": [
      "['Computer & Büro', 'Notebooks & Zubehör', 'Gaming-Notebooks']\n",
      "seller not found\n",
      "https://assets.mmsrg.com/isr/166325/c1/-/ASSET_MMS_107161661?x=480&y=334&format=jpg&quality=80&sp=yes&strip=yes&trim&ex=480&ey=334&align=center&resizesource&unsharp=1.5x1+0.7+0.02&cox=0&coy=0&cdx=480&cdy=334\n",
      "************************\n",
      "59\n",
      "https://www.mediamarkt.de/de/product/-2868665.html\n"
     ]
    },
    {
     "name": "stderr",
     "output_type": "stream",
     "text": [
      "C:\\Users\\Administrator\\AppData\\Local\\Temp\\2\\ipykernel_148632\\3035623616.py:35: FutureWarning: The frame.append method is deprecated and will be removed from pandas in a future version. Use pandas.concat instead.\n",
      "  df=df.append(df1, ignore_index = True)\n",
      "\r",
      "  9%|██████▊                                                                        | 60/695 [10:14<1:58:35, 11.21s/it]"
     ]
    },
    {
     "name": "stdout",
     "output_type": "stream",
     "text": [
      "['Computer & Büro', 'Notebooks & Zubehör', 'Notebooks']\n",
      "seller not found\n",
      "image not found\n",
      "************************\n",
      "60\n",
      "https://www.mediamarkt.de/de/product/-105211314.html\n"
     ]
    },
    {
     "name": "stderr",
     "output_type": "stream",
     "text": [
      "C:\\Users\\Administrator\\AppData\\Local\\Temp\\2\\ipykernel_148632\\3035623616.py:35: FutureWarning: The frame.append method is deprecated and will be removed from pandas in a future version. Use pandas.concat instead.\n",
      "  df=df.append(df1, ignore_index = True)\n",
      "\r",
      "  9%|██████▉                                                                        | 61/695 [10:23<1:50:50, 10.49s/it]"
     ]
    },
    {
     "name": "stdout",
     "output_type": "stream",
     "text": [
      "['Computer & Büro', 'Notebooks & Zubehör', 'Notebooks']\n",
      "Talk-Point GmbH\n",
      "https://assets.mmsrg.com/isr/166325/c1/-/ASSET_MP_106898569?x=480&y=334&format=jpg&quality=80&sp=yes&strip=yes&trim&ex=480&ey=334&align=center&resizesource&unsharp=1.5x1+0.7+0.02&cox=0&coy=0&cdx=480&cdy=334\n",
      "************************\n",
      "61\n",
      "https://www.mediamarkt.de/de/product/-103196352.html\n"
     ]
    },
    {
     "name": "stderr",
     "output_type": "stream",
     "text": [
      "C:\\Users\\Administrator\\AppData\\Local\\Temp\\2\\ipykernel_148632\\3035623616.py:35: FutureWarning: The frame.append method is deprecated and will be removed from pandas in a future version. Use pandas.concat instead.\n",
      "  df=df.append(df1, ignore_index = True)\n",
      "\r",
      "  9%|███████                                                                        | 62/695 [10:31<1:45:41, 10.02s/it]"
     ]
    },
    {
     "name": "stdout",
     "output_type": "stream",
     "text": [
      "['Computer & Büro', 'Notebooks & Zubehör', 'Gaming-Notebooks']\n",
      "Electronic Shops DEU\n",
      "image not found\n",
      "************************\n",
      "62\n",
      "https://www.mediamarkt.de/de/product/-2738294.html\n"
     ]
    },
    {
     "name": "stderr",
     "output_type": "stream",
     "text": [
      "C:\\Users\\Administrator\\AppData\\Local\\Temp\\2\\ipykernel_148632\\3035623616.py:35: FutureWarning: The frame.append method is deprecated and will be removed from pandas in a future version. Use pandas.concat instead.\n",
      "  df=df.append(df1, ignore_index = True)\n",
      "\r",
      "  9%|███████▏                                                                       | 63/695 [10:44<1:52:19, 10.66s/it]"
     ]
    },
    {
     "name": "stdout",
     "output_type": "stream",
     "text": [
      "['Computer & Büro', 'Notebooks & Zubehör', 'Gaming-Notebooks']\n",
      "seller not found\n",
      "https://assets.mmsrg.com/isr/166325/c1/-/ASSET_MMS_88046173?x=480&y=334&format=jpg&quality=80&sp=yes&strip=yes&trim&ex=480&ey=334&align=center&resizesource&unsharp=1.5x1+0.7+0.02&cox=0&coy=0&cdx=480&cdy=334\n",
      "************************\n",
      "63\n",
      "https://www.mediamarkt.de/de/product/-2826637.html\n"
     ]
    },
    {
     "name": "stderr",
     "output_type": "stream",
     "text": [
      "C:\\Users\\Administrator\\AppData\\Local\\Temp\\2\\ipykernel_148632\\3035623616.py:35: FutureWarning: The frame.append method is deprecated and will be removed from pandas in a future version. Use pandas.concat instead.\n",
      "  df=df.append(df1, ignore_index = True)\n",
      "\r",
      "  9%|███████▎                                                                       | 64/695 [10:55<1:54:21, 10.87s/it]"
     ]
    },
    {
     "name": "stdout",
     "output_type": "stream",
     "text": [
      "['Computer & Büro', 'Notebooks & Zubehör', 'Gaming-Notebooks']\n",
      "seller not found\n",
      "https://assets.mmsrg.com/isr/166325/c1/-/ASSET_MMS_99895406?x=480&y=334&format=jpg&quality=80&sp=yes&strip=yes&trim&ex=480&ey=334&align=center&resizesource&unsharp=1.5x1+0.7+0.02&cox=0&coy=0&cdx=480&cdy=334\n",
      "************************\n",
      "64\n",
      "https://www.mediamarkt.de/de/product/-2731466.html\n"
     ]
    },
    {
     "name": "stderr",
     "output_type": "stream",
     "text": [
      "C:\\Users\\Administrator\\AppData\\Local\\Temp\\2\\ipykernel_148632\\3035623616.py:35: FutureWarning: The frame.append method is deprecated and will be removed from pandas in a future version. Use pandas.concat instead.\n",
      "  df=df.append(df1, ignore_index = True)\n",
      "\r",
      "  9%|███████▍                                                                       | 65/695 [11:05<1:51:48, 10.65s/it]"
     ]
    },
    {
     "name": "stdout",
     "output_type": "stream",
     "text": [
      "['Computer & Büro', 'Notebooks & Zubehör', 'Gaming-Notebooks']\n",
      "seller not found\n",
      "https://assets.mmsrg.com/isr/166325/c1/-/ASSET_MMS_92614164?x=480&y=334&format=jpg&quality=80&sp=yes&strip=yes&trim&ex=480&ey=334&align=center&resizesource&unsharp=1.5x1+0.7+0.02&cox=0&coy=0&cdx=480&cdy=334\n",
      "************************\n",
      "65\n",
      "https://www.mediamarkt.de/de/product/-2826644.html\n"
     ]
    },
    {
     "name": "stderr",
     "output_type": "stream",
     "text": [
      "C:\\Users\\Administrator\\AppData\\Local\\Temp\\2\\ipykernel_148632\\3035623616.py:35: FutureWarning: The frame.append method is deprecated and will be removed from pandas in a future version. Use pandas.concat instead.\n",
      "  df=df.append(df1, ignore_index = True)\n",
      "\r",
      "  9%|███████▌                                                                       | 66/695 [11:16<1:52:29, 10.73s/it]"
     ]
    },
    {
     "name": "stdout",
     "output_type": "stream",
     "text": [
      "['Computer & Büro', 'Notebooks & Zubehör', 'Gaming-Notebooks']\n",
      "seller not found\n",
      "image not found\n",
      "************************\n",
      "66\n",
      "https://www.mediamarkt.de/de/product/-105210925.html\n"
     ]
    },
    {
     "name": "stderr",
     "output_type": "stream",
     "text": [
      "C:\\Users\\Administrator\\AppData\\Local\\Temp\\2\\ipykernel_148632\\3035623616.py:35: FutureWarning: The frame.append method is deprecated and will be removed from pandas in a future version. Use pandas.concat instead.\n",
      "  df=df.append(df1, ignore_index = True)\n",
      "\r",
      " 10%|███████▌                                                                       | 67/695 [11:27<1:52:31, 10.75s/it]"
     ]
    },
    {
     "name": "stdout",
     "output_type": "stream",
     "text": [
      "['Computer & Büro', 'Notebooks & Zubehör', 'Gaming-Notebooks']\n",
      "Talk-Point GmbH\n",
      "https://assets.mmsrg.com/isr/166325/c1/-/ASSET_MP_106898468?x=480&y=334&format=jpg&quality=80&sp=yes&strip=yes&trim&ex=480&ey=334&align=center&resizesource&unsharp=1.5x1+0.7+0.02&cox=0&coy=0&cdx=480&cdy=334\n",
      "************************\n",
      "67\n",
      "https://www.mediamarkt.de/de/product/-2826618.html\n"
     ]
    },
    {
     "name": "stderr",
     "output_type": "stream",
     "text": [
      "C:\\Users\\Administrator\\AppData\\Local\\Temp\\2\\ipykernel_148632\\3035623616.py:35: FutureWarning: The frame.append method is deprecated and will be removed from pandas in a future version. Use pandas.concat instead.\n",
      "  df=df.append(df1, ignore_index = True)\n",
      "\r",
      " 10%|███████▋                                                                       | 68/695 [11:36<1:48:20, 10.37s/it]"
     ]
    },
    {
     "name": "stdout",
     "output_type": "stream",
     "text": [
      "['Computer & Büro', 'Notebooks & Zubehör', 'Gaming-Notebooks']\n",
      "seller not found\n",
      "image not found\n",
      "************************\n",
      "68\n",
      "https://www.mediamarkt.de/de/product/-2847446.html\n"
     ]
    },
    {
     "name": "stderr",
     "output_type": "stream",
     "text": [
      "C:\\Users\\Administrator\\AppData\\Local\\Temp\\2\\ipykernel_148632\\3035623616.py:35: FutureWarning: The frame.append method is deprecated and will be removed from pandas in a future version. Use pandas.concat instead.\n",
      "  df=df.append(df1, ignore_index = True)\n",
      "\r",
      " 10%|███████▊                                                                       | 69/695 [11:47<1:49:52, 10.53s/it]"
     ]
    },
    {
     "name": "stdout",
     "output_type": "stream",
     "text": [
      "['Computer & Büro', 'Notebooks & Zubehör', 'Gaming-Notebooks']\n",
      "seller not found\n",
      "https://assets.mmsrg.com/isr/166325/c1/-/ASSET_MMS_100314827?x=480&y=334&format=jpg&quality=80&sp=yes&strip=yes&trim&ex=480&ey=334&align=center&resizesource&unsharp=1.5x1+0.7+0.02&cox=0&coy=0&cdx=480&cdy=334\n",
      "************************\n",
      "69\n",
      "https://www.mediamarkt.de/de/product/-2729399.html\n"
     ]
    },
    {
     "name": "stderr",
     "output_type": "stream",
     "text": [
      "C:\\Users\\Administrator\\AppData\\Local\\Temp\\2\\ipykernel_148632\\3035623616.py:35: FutureWarning: The frame.append method is deprecated and will be removed from pandas in a future version. Use pandas.concat instead.\n",
      "  df=df.append(df1, ignore_index = True)\n",
      "\r",
      " 10%|███████▉                                                                       | 70/695 [11:57<1:46:04, 10.18s/it]"
     ]
    },
    {
     "name": "stdout",
     "output_type": "stream",
     "text": [
      "['Computer & Büro', 'Notebooks & Zubehör', 'Gaming-Notebooks']\n",
      "seller not found\n",
      "image not found\n",
      "************************\n",
      "70\n",
      "https://www.mediamarkt.de/de/product/-2795275.html\n"
     ]
    },
    {
     "name": "stderr",
     "output_type": "stream",
     "text": [
      "C:\\Users\\Administrator\\AppData\\Local\\Temp\\2\\ipykernel_148632\\3035623616.py:35: FutureWarning: The frame.append method is deprecated and will be removed from pandas in a future version. Use pandas.concat instead.\n",
      "  df=df.append(df1, ignore_index = True)\n",
      "\r",
      " 10%|████████                                                                       | 71/695 [12:08<1:50:00, 10.58s/it]"
     ]
    },
    {
     "name": "stdout",
     "output_type": "stream",
     "text": [
      "['Computer & Büro', 'Notebooks & Zubehör', 'Gaming-Notebooks']\n",
      "seller not found\n",
      "image not found\n",
      "************************\n",
      "71\n",
      "https://www.mediamarkt.de/de/product/-113021160.html\n"
     ]
    },
    {
     "name": "stderr",
     "output_type": "stream",
     "text": [
      "C:\\Users\\Administrator\\AppData\\Local\\Temp\\2\\ipykernel_148632\\3035623616.py:35: FutureWarning: The frame.append method is deprecated and will be removed from pandas in a future version. Use pandas.concat instead.\n",
      "  df=df.append(df1, ignore_index = True)\n",
      "\r",
      " 10%|████████▏                                                                      | 72/695 [12:17<1:44:11, 10.03s/it]"
     ]
    },
    {
     "name": "stdout",
     "output_type": "stream",
     "text": [
      "['Computer & Büro', 'Notebooks & Zubehör', 'Notebooks']\n",
      "IT-tradeport GmbH\n",
      "https://assets.mmsrg.com/isr/166325/c1/-/ASSET_MP_113021166?x=480&y=334&format=jpg&quality=80&sp=yes&strip=yes&trim&ex=480&ey=334&align=center&resizesource&unsharp=1.5x1+0.7+0.02&cox=0&coy=0&cdx=480&cdy=334\n",
      "************************\n",
      "72\n",
      "https://www.mediamarkt.de/de/product/-113021130.html\n"
     ]
    },
    {
     "name": "stderr",
     "output_type": "stream",
     "text": [
      "C:\\Users\\Administrator\\AppData\\Local\\Temp\\2\\ipykernel_148632\\3035623616.py:35: FutureWarning: The frame.append method is deprecated and will be removed from pandas in a future version. Use pandas.concat instead.\n",
      "  df=df.append(df1, ignore_index = True)\n",
      "\r",
      " 11%|████████▎                                                                      | 73/695 [12:25<1:37:06,  9.37s/it]"
     ]
    },
    {
     "name": "stdout",
     "output_type": "stream",
     "text": [
      "['Computer & Büro', 'Notebooks & Zubehör', 'Notebooks']\n",
      "IT-tradeport GmbH\n",
      "image not found\n",
      "************************\n",
      "73\n",
      "https://www.mediamarkt.de/de/product/-113021159.html\n"
     ]
    },
    {
     "name": "stderr",
     "output_type": "stream",
     "text": [
      "C:\\Users\\Administrator\\AppData\\Local\\Temp\\2\\ipykernel_148632\\3035623616.py:35: FutureWarning: The frame.append method is deprecated and will be removed from pandas in a future version. Use pandas.concat instead.\n",
      "  df=df.append(df1, ignore_index = True)\n",
      "\r",
      " 11%|████████▍                                                                      | 74/695 [12:36<1:43:27, 10.00s/it]"
     ]
    },
    {
     "name": "stdout",
     "output_type": "stream",
     "text": [
      "['Computer & Büro', 'Notebooks & Zubehör', 'Notebooks']\n",
      "IT-tradeport GmbH\n",
      "https://assets.mmsrg.com/isr/166325/c1/-/ASSET_MP_113021023?x=480&y=334&format=jpg&quality=80&sp=yes&strip=yes&trim&ex=480&ey=334&align=center&resizesource&unsharp=1.5x1+0.7+0.02&cox=0&coy=0&cdx=480&cdy=334\n",
      "************************\n",
      "74\n",
      "https://www.mediamarkt.de/de/product/-113021192.html\n"
     ]
    },
    {
     "name": "stderr",
     "output_type": "stream",
     "text": [
      "C:\\Users\\Administrator\\AppData\\Local\\Temp\\2\\ipykernel_148632\\3035623616.py:35: FutureWarning: The frame.append method is deprecated and will be removed from pandas in a future version. Use pandas.concat instead.\n",
      "  df=df.append(df1, ignore_index = True)\n",
      "\r",
      " 11%|████████▌                                                                      | 75/695 [12:46<1:41:39,  9.84s/it]"
     ]
    },
    {
     "name": "stdout",
     "output_type": "stream",
     "text": [
      "['Computer & Büro', 'Notebooks & Zubehör', 'Notebooks']\n",
      "IT-tradeport GmbH\n",
      "https://assets.mmsrg.com/isr/166325/c1/-/ASSET_MP_113021196?x=480&y=334&format=jpg&quality=80&sp=yes&strip=yes&trim&ex=480&ey=334&align=center&resizesource&unsharp=1.5x1+0.7+0.02&cox=0&coy=0&cdx=480&cdy=334\n",
      "************************\n",
      "75\n",
      "https://www.mediamarkt.de/de/product/-113021430.html\n"
     ]
    },
    {
     "name": "stderr",
     "output_type": "stream",
     "text": [
      "C:\\Users\\Administrator\\AppData\\Local\\Temp\\2\\ipykernel_148632\\3035623616.py:35: FutureWarning: The frame.append method is deprecated and will be removed from pandas in a future version. Use pandas.concat instead.\n",
      "  df=df.append(df1, ignore_index = True)\n",
      "\r",
      " 11%|████████▋                                                                      | 76/695 [12:53<1:35:15,  9.23s/it]"
     ]
    },
    {
     "name": "stdout",
     "output_type": "stream",
     "text": [
      "['Computer & Büro', 'Notebooks & Zubehör', 'Notebooks']\n",
      "IT-tradeport GmbH\n",
      "https://assets.mmsrg.com/isr/166325/c1/-/ASSET_MP_113021023?x=480&y=334&format=jpg&quality=80&sp=yes&strip=yes&trim&ex=480&ey=334&align=center&resizesource&unsharp=1.5x1+0.7+0.02&cox=0&coy=0&cdx=480&cdy=334\n",
      "************************\n",
      "76\n",
      "https://www.mediamarkt.de/de/product/-2867169.html\n"
     ]
    },
    {
     "name": "stderr",
     "output_type": "stream",
     "text": [
      "C:\\Users\\Administrator\\AppData\\Local\\Temp\\2\\ipykernel_148632\\3035623616.py:35: FutureWarning: The frame.append method is deprecated and will be removed from pandas in a future version. Use pandas.concat instead.\n",
      "  df=df.append(df1, ignore_index = True)\n",
      "\r",
      " 11%|████████▊                                                                      | 77/695 [13:09<1:54:34, 11.12s/it]"
     ]
    },
    {
     "name": "stdout",
     "output_type": "stream",
     "text": [
      "['Computer & Büro', 'Notebooks & Zubehör', 'Notebooks']\n",
      "seller not found\n",
      "https://assets.mmsrg.com/isr/166325/c1/-/ASSET_MMS_103567735?x=480&y=334&format=jpg&quality=80&sp=yes&strip=yes&trim&ex=480&ey=334&align=center&resizesource&unsharp=1.5x1+0.7+0.02&cox=0&coy=0&cdx=480&cdy=334\n",
      "************************\n",
      "77\n",
      "https://www.mediamarkt.de/de/product/-2794319.html\n"
     ]
    },
    {
     "name": "stderr",
     "output_type": "stream",
     "text": [
      "C:\\Users\\Administrator\\AppData\\Local\\Temp\\2\\ipykernel_148632\\3035623616.py:35: FutureWarning: The frame.append method is deprecated and will be removed from pandas in a future version. Use pandas.concat instead.\n",
      "  df=df.append(df1, ignore_index = True)\n",
      "\r",
      " 11%|████████▊                                                                      | 78/695 [13:19<1:50:37, 10.76s/it]"
     ]
    },
    {
     "name": "stdout",
     "output_type": "stream",
     "text": [
      "['Computer & Büro', 'Notebooks & Zubehör', 'Notebooks']\n",
      "seller not found\n",
      "https://assets.mmsrg.com/isr/166325/c1/-/ASSET_MMS_92402626?x=480&y=334&format=jpg&quality=80&sp=yes&strip=yes&trim&ex=480&ey=334&align=center&resizesource&unsharp=1.5x1+0.7+0.02&cox=0&coy=0&cdx=480&cdy=334\n",
      "************************\n",
      "78\n",
      "https://www.mediamarkt.de/de/product/-2851428.html\n"
     ]
    },
    {
     "name": "stderr",
     "output_type": "stream",
     "text": [
      "C:\\Users\\Administrator\\AppData\\Local\\Temp\\2\\ipykernel_148632\\3035623616.py:35: FutureWarning: The frame.append method is deprecated and will be removed from pandas in a future version. Use pandas.concat instead.\n",
      "  df=df.append(df1, ignore_index = True)\n",
      "\r",
      " 11%|████████▉                                                                      | 79/695 [13:30<1:52:41, 10.98s/it]"
     ]
    },
    {
     "name": "stdout",
     "output_type": "stream",
     "text": [
      "['Computer & Büro', 'Notebooks & Zubehör', 'Notebooks']\n",
      "seller not found\n",
      "https://assets.mmsrg.com/isr/166325/c1/-/ASSET_MMS_101206446?x=480&y=334&format=jpg&quality=80&sp=yes&strip=yes&trim&ex=480&ey=334&align=center&resizesource&unsharp=1.5x1+0.7+0.02&cox=0&coy=0&cdx=480&cdy=334\n",
      "************************\n",
      "79\n",
      "https://www.mediamarkt.de/de/product/-2781682.html\n"
     ]
    },
    {
     "name": "stderr",
     "output_type": "stream",
     "text": [
      "C:\\Users\\Administrator\\AppData\\Local\\Temp\\2\\ipykernel_148632\\3035623616.py:35: FutureWarning: The frame.append method is deprecated and will be removed from pandas in a future version. Use pandas.concat instead.\n",
      "  df=df.append(df1, ignore_index = True)\n",
      "\r",
      " 12%|█████████                                                                      | 80/695 [13:42<1:55:34, 11.28s/it]"
     ]
    },
    {
     "name": "stdout",
     "output_type": "stream",
     "text": [
      "['Computer & Büro', 'Notebooks & Zubehör', 'Notebooks']\n",
      "seller not found\n",
      "https://assets.mmsrg.com/isr/166325/c1/-/ASSET_MMS_103064683?x=480&y=334&format=jpg&quality=80&sp=yes&strip=yes&trim&ex=480&ey=334&align=center&resizesource&unsharp=1.5x1+0.7+0.02&cox=0&coy=0&cdx=480&cdy=334\n",
      "************************\n",
      "80\n",
      "https://www.mediamarkt.de/de/product/-2851772.html\n"
     ]
    },
    {
     "name": "stderr",
     "output_type": "stream",
     "text": [
      "C:\\Users\\Administrator\\AppData\\Local\\Temp\\2\\ipykernel_148632\\3035623616.py:35: FutureWarning: The frame.append method is deprecated and will be removed from pandas in a future version. Use pandas.concat instead.\n",
      "  df=df.append(df1, ignore_index = True)\n",
      "\r",
      " 12%|█████████▏                                                                     | 81/695 [13:53<1:53:55, 11.13s/it]"
     ]
    },
    {
     "name": "stdout",
     "output_type": "stream",
     "text": [
      "['Computer & Büro', 'Notebooks & Zubehör', 'Notebooks']\n",
      "seller not found\n",
      "image not found\n",
      "************************\n",
      "81\n",
      "https://www.mediamarkt.de/de/product/-2868917.html\n"
     ]
    },
    {
     "name": "stderr",
     "output_type": "stream",
     "text": [
      "C:\\Users\\Administrator\\AppData\\Local\\Temp\\2\\ipykernel_148632\\3035623616.py:35: FutureWarning: The frame.append method is deprecated and will be removed from pandas in a future version. Use pandas.concat instead.\n",
      "  df=df.append(df1, ignore_index = True)\n",
      "\r",
      " 12%|█████████▎                                                                     | 82/695 [14:04<1:54:21, 11.19s/it]"
     ]
    },
    {
     "name": "stdout",
     "output_type": "stream",
     "text": [
      "['Computer & Büro', 'Notebooks & Zubehör', 'Notebooks']\n",
      "seller not found\n",
      "https://assets.mmsrg.com/isr/166325/c1/-/ASSET_MMS_107161678?x=480&y=334&format=jpg&quality=80&sp=yes&strip=yes&trim&ex=480&ey=334&align=center&resizesource&unsharp=1.5x1+0.7+0.02&cox=0&coy=0&cdx=480&cdy=334\n",
      "************************\n",
      "82\n",
      "https://www.mediamarkt.de/de/product/-2868917.html\n"
     ]
    },
    {
     "name": "stderr",
     "output_type": "stream",
     "text": [
      "C:\\Users\\Administrator\\AppData\\Local\\Temp\\2\\ipykernel_148632\\3035623616.py:35: FutureWarning: The frame.append method is deprecated and will be removed from pandas in a future version. Use pandas.concat instead.\n",
      "  df=df.append(df1, ignore_index = True)\n",
      "\r",
      " 12%|█████████▍                                                                     | 83/695 [14:13<1:47:26, 10.53s/it]"
     ]
    },
    {
     "name": "stdout",
     "output_type": "stream",
     "text": [
      "['Computer & Büro', 'Notebooks & Zubehör', 'Notebooks']\n",
      "seller not found\n",
      "https://assets.mmsrg.com/isr/166325/c1/-/ASSET_MMS_107161678?x=480&y=334&format=jpg&quality=80&sp=yes&strip=yes&trim&ex=480&ey=334&align=center&resizesource&unsharp=1.5x1+0.7+0.02&cox=0&coy=0&cdx=480&cdy=334\n",
      "************************\n",
      "83\n",
      "https://www.mediamarkt.de/de/product/-2809837.html\n"
     ]
    },
    {
     "name": "stderr",
     "output_type": "stream",
     "text": [
      "C:\\Users\\Administrator\\AppData\\Local\\Temp\\2\\ipykernel_148632\\3035623616.py:35: FutureWarning: The frame.append method is deprecated and will be removed from pandas in a future version. Use pandas.concat instead.\n",
      "  df=df.append(df1, ignore_index = True)\n",
      "\r",
      " 12%|█████████▌                                                                     | 84/695 [14:26<1:53:02, 11.10s/it]"
     ]
    },
    {
     "name": "stdout",
     "output_type": "stream",
     "text": [
      "['Computer & Büro', 'Notebooks & Zubehör', 'Notebooks']\n",
      "seller not found\n",
      "image not found\n",
      "************************\n",
      "84\n",
      "https://www.mediamarkt.de/de/product/-2760529.html\n"
     ]
    },
    {
     "name": "stderr",
     "output_type": "stream",
     "text": [
      "C:\\Users\\Administrator\\AppData\\Local\\Temp\\2\\ipykernel_148632\\3035623616.py:35: FutureWarning: The frame.append method is deprecated and will be removed from pandas in a future version. Use pandas.concat instead.\n",
      "  df=df.append(df1, ignore_index = True)\n",
      "\r",
      " 12%|█████████▋                                                                     | 85/695 [14:38<1:56:55, 11.50s/it]"
     ]
    },
    {
     "name": "stdout",
     "output_type": "stream",
     "text": [
      "['Computer & Büro', 'Notebooks & Zubehör', 'Notebooks']\n",
      "seller not found\n",
      "https://assets.mmsrg.com/isr/166325/c1/-/ASSET_MMS_87838925?x=480&y=334&format=jpg&quality=80&sp=yes&strip=yes&trim&ex=480&ey=334&align=center&resizesource&unsharp=1.5x1+0.7+0.02&cox=0&coy=0&cdx=480&cdy=334\n",
      "************************\n",
      "85\n",
      "https://www.mediamarkt.de/de/product/-2868911.html\n"
     ]
    },
    {
     "name": "stderr",
     "output_type": "stream",
     "text": [
      "C:\\Users\\Administrator\\AppData\\Local\\Temp\\2\\ipykernel_148632\\3035623616.py:35: FutureWarning: The frame.append method is deprecated and will be removed from pandas in a future version. Use pandas.concat instead.\n",
      "  df=df.append(df1, ignore_index = True)\n",
      "\r",
      " 12%|█████████▊                                                                     | 86/695 [14:51<1:59:49, 11.81s/it]"
     ]
    },
    {
     "name": "stdout",
     "output_type": "stream",
     "text": [
      "['Computer & Büro', 'Notebooks & Zubehör', 'Notebooks']\n",
      "seller not found\n",
      "https://assets.mmsrg.com/isr/166325/c1/-/ASSET_MMS_107161676?x=480&y=334&format=jpg&quality=80&sp=yes&strip=yes&trim&ex=480&ey=334&align=center&resizesource&unsharp=1.5x1+0.7+0.02&cox=0&coy=0&cdx=480&cdy=334\n",
      "************************\n",
      "86\n",
      "https://www.mediamarkt.de/de/product/-2868911.html\n"
     ]
    },
    {
     "name": "stderr",
     "output_type": "stream",
     "text": [
      "C:\\Users\\Administrator\\AppData\\Local\\Temp\\2\\ipykernel_148632\\3035623616.py:35: FutureWarning: The frame.append method is deprecated and will be removed from pandas in a future version. Use pandas.concat instead.\n",
      "  df=df.append(df1, ignore_index = True)\n",
      "\r",
      " 13%|█████████▉                                                                     | 87/695 [15:00<1:52:07, 11.07s/it]"
     ]
    },
    {
     "name": "stdout",
     "output_type": "stream",
     "text": [
      "['Computer & Büro', 'Notebooks & Zubehör', 'Notebooks']\n",
      "seller not found\n",
      "https://assets.mmsrg.com/isr/166325/c1/-/ASSET_MMS_107161676?x=480&y=334&format=jpg&quality=80&sp=yes&strip=yes&trim&ex=480&ey=334&align=center&resizesource&unsharp=1.5x1+0.7+0.02&cox=0&coy=0&cdx=480&cdy=334\n",
      "************************\n",
      "87\n",
      "https://www.mediamarkt.de/de/product/-113053452.html\n"
     ]
    },
    {
     "name": "stderr",
     "output_type": "stream",
     "text": [
      "C:\\Users\\Administrator\\AppData\\Local\\Temp\\2\\ipykernel_148632\\3035623616.py:35: FutureWarning: The frame.append method is deprecated and will be removed from pandas in a future version. Use pandas.concat instead.\n",
      "  df=df.append(df1, ignore_index = True)\n",
      "\r",
      " 13%|██████████                                                                     | 88/695 [15:08<1:42:41, 10.15s/it]"
     ]
    },
    {
     "name": "stdout",
     "output_type": "stream",
     "text": [
      "['Computer & Büro', 'Komponenten', 'Grafikkarten', 'AMD RX 6750 XT']\n",
      "CAPTIVA\n",
      "image not found\n",
      "************************\n",
      "88\n",
      "https://www.mediamarkt.de/de/product/-114095928.html\n"
     ]
    },
    {
     "name": "stderr",
     "output_type": "stream",
     "text": [
      "C:\\Users\\Administrator\\AppData\\Local\\Temp\\2\\ipykernel_148632\\3035623616.py:35: FutureWarning: The frame.append method is deprecated and will be removed from pandas in a future version. Use pandas.concat instead.\n",
      "  df=df.append(df1, ignore_index = True)\n",
      "\r",
      " 13%|██████████                                                                     | 89/695 [15:17<1:37:17,  9.63s/it]"
     ]
    },
    {
     "name": "stdout",
     "output_type": "stream",
     "text": [
      "[]\n",
      "ONEGAMING\n",
      "https://assets.mmsrg.com/isr/166325/c1/-/ASSET_MP_114137744?x=480&y=334&format=jpg&quality=80&sp=yes&strip=yes&trim&ex=480&ey=334&align=center&resizesource&unsharp=1.5x1+0.7+0.02&cox=0&coy=0&cdx=480&cdy=334\n",
      "************************\n",
      "89\n",
      "https://www.mediamarkt.de/de/product/-114095910.html\n"
     ]
    },
    {
     "name": "stderr",
     "output_type": "stream",
     "text": [
      "C:\\Users\\Administrator\\AppData\\Local\\Temp\\2\\ipykernel_148632\\3035623616.py:35: FutureWarning: The frame.append method is deprecated and will be removed from pandas in a future version. Use pandas.concat instead.\n",
      "  df=df.append(df1, ignore_index = True)\n",
      "\r",
      " 13%|██████████▏                                                                    | 90/695 [15:26<1:34:55,  9.41s/it]"
     ]
    },
    {
     "name": "stdout",
     "output_type": "stream",
     "text": [
      "[]\n",
      "ONEGAMING\n",
      "image not found\n",
      "************************\n",
      "90\n",
      "https://www.mediamarkt.de/de/product/-114095939.html\n"
     ]
    },
    {
     "name": "stderr",
     "output_type": "stream",
     "text": [
      "C:\\Users\\Administrator\\AppData\\Local\\Temp\\2\\ipykernel_148632\\3035623616.py:35: FutureWarning: The frame.append method is deprecated and will be removed from pandas in a future version. Use pandas.concat instead.\n",
      "  df=df.append(df1, ignore_index = True)\n",
      "\r",
      " 13%|██████████▎                                                                    | 91/695 [15:35<1:35:15,  9.46s/it]"
     ]
    },
    {
     "name": "stdout",
     "output_type": "stream",
     "text": [
      "[]\n",
      "ONEGAMING\n",
      "https://assets.mmsrg.com/isr/166325/c1/-/ASSET_MP_114095940?x=480&y=334&format=jpg&quality=80&sp=yes&strip=yes&trim&ex=480&ey=334&align=center&resizesource&unsharp=1.5x1+0.7+0.02&cox=0&coy=0&cdx=480&cdy=334\n",
      "************************\n",
      "91\n",
      "https://www.mediamarkt.de/de/product/-114095822.html\n"
     ]
    },
    {
     "name": "stderr",
     "output_type": "stream",
     "text": [
      "C:\\Users\\Administrator\\AppData\\Local\\Temp\\2\\ipykernel_148632\\3035623616.py:35: FutureWarning: The frame.append method is deprecated and will be removed from pandas in a future version. Use pandas.concat instead.\n",
      "  df=df.append(df1, ignore_index = True)\n",
      "\r",
      " 13%|██████████▍                                                                    | 92/695 [15:44<1:31:52,  9.14s/it]"
     ]
    },
    {
     "name": "stdout",
     "output_type": "stream",
     "text": [
      "[]\n",
      "ONEGAMING\n",
      "https://assets.mmsrg.com/isr/166325/c1/-/ASSET_MP_114095827?x=480&y=334&format=jpg&quality=80&sp=yes&strip=yes&trim&ex=480&ey=334&align=center&resizesource&unsharp=1.5x1+0.7+0.02&cox=0&coy=0&cdx=480&cdy=334\n",
      "************************\n",
      "92\n",
      "https://www.mediamarkt.de/de/product/-114095869.html\n"
     ]
    },
    {
     "name": "stderr",
     "output_type": "stream",
     "text": [
      "C:\\Users\\Administrator\\AppData\\Local\\Temp\\2\\ipykernel_148632\\3035623616.py:35: FutureWarning: The frame.append method is deprecated and will be removed from pandas in a future version. Use pandas.concat instead.\n",
      "  df=df.append(df1, ignore_index = True)\n",
      "\r",
      " 13%|██████████▌                                                                    | 93/695 [15:51<1:27:06,  8.68s/it]"
     ]
    },
    {
     "name": "stdout",
     "output_type": "stream",
     "text": [
      "[]\n",
      "ONEGAMING\n",
      "https://assets.mmsrg.com/isr/166325/c1/-/ASSET_MP_114134313?x=480&y=334&format=jpg&quality=80&sp=yes&strip=yes&trim&ex=480&ey=334&align=center&resizesource&unsharp=1.5x1+0.7+0.02&cox=0&coy=0&cdx=480&cdy=334\n",
      "************************\n",
      "93\n",
      "https://www.mediamarkt.de/de/product/-114095905.html\n"
     ]
    },
    {
     "name": "stderr",
     "output_type": "stream",
     "text": [
      "C:\\Users\\Administrator\\AppData\\Local\\Temp\\2\\ipykernel_148632\\3035623616.py:35: FutureWarning: The frame.append method is deprecated and will be removed from pandas in a future version. Use pandas.concat instead.\n",
      "  df=df.append(df1, ignore_index = True)\n",
      "\r",
      " 14%|██████████▋                                                                    | 94/695 [16:00<1:27:04,  8.69s/it]"
     ]
    },
    {
     "name": "stdout",
     "output_type": "stream",
     "text": [
      "[]\n",
      "ONEGAMING\n",
      "https://assets.mmsrg.com/isr/166325/c1/-/ASSET_MP_114117420?x=480&y=334&format=jpg&quality=80&sp=yes&strip=yes&trim&ex=480&ey=334&align=center&resizesource&unsharp=1.5x1+0.7+0.02&cox=0&coy=0&cdx=480&cdy=334\n",
      "************************\n",
      "94\n",
      "https://www.mediamarkt.de/de/product/-93671492.html\n"
     ]
    },
    {
     "name": "stderr",
     "output_type": "stream",
     "text": [
      "C:\\Users\\Administrator\\AppData\\Local\\Temp\\2\\ipykernel_148632\\3035623616.py:35: FutureWarning: The frame.append method is deprecated and will be removed from pandas in a future version. Use pandas.concat instead.\n",
      "  df=df.append(df1, ignore_index = True)\n",
      "\r",
      " 14%|██████████▊                                                                    | 95/695 [16:09<1:27:31,  8.75s/it]"
     ]
    },
    {
     "name": "stdout",
     "output_type": "stream",
     "text": [
      "['Computer & Büro', 'Komponenten', 'Grafikkarten', 'AMD RX 6800 XT']\n",
      "Procomponentes DE\n",
      "https://assets.mmsrg.com/isr/166325/c1/-/ASSET_MP_93671494?x=480&y=334&format=jpg&quality=80&sp=yes&strip=yes&trim&ex=480&ey=334&align=center&resizesource&unsharp=1.5x1+0.7+0.02&cox=0&coy=0&cdx=480&cdy=334\n",
      "************************\n",
      "95\n",
      "https://www.mediamarkt.de/de/product/-109860861.html\n"
     ]
    },
    {
     "name": "stderr",
     "output_type": "stream",
     "text": [
      "C:\\Users\\Administrator\\AppData\\Local\\Temp\\2\\ipykernel_148632\\3035623616.py:35: FutureWarning: The frame.append method is deprecated and will be removed from pandas in a future version. Use pandas.concat instead.\n",
      "  df=df.append(df1, ignore_index = True)\n",
      "\r",
      " 14%|██████████▉                                                                    | 96/695 [16:17<1:26:36,  8.67s/it]"
     ]
    },
    {
     "name": "stdout",
     "output_type": "stream",
     "text": [
      "['Computer & Büro', 'Komponenten', 'Grafikkarten', 'AMD RX 6650 XT']\n",
      "CAPTIVA\n",
      "image not found\n",
      "************************\n",
      "96\n",
      "https://www.mediamarkt.de/de/product/-99429245.html\n"
     ]
    },
    {
     "name": "stderr",
     "output_type": "stream",
     "text": [
      "C:\\Users\\Administrator\\AppData\\Local\\Temp\\2\\ipykernel_148632\\3035623616.py:35: FutureWarning: The frame.append method is deprecated and will be removed from pandas in a future version. Use pandas.concat instead.\n",
      "  df=df.append(df1, ignore_index = True)\n",
      "\r",
      " 14%|███████████                                                                    | 97/695 [16:26<1:25:18,  8.56s/it]"
     ]
    },
    {
     "name": "stdout",
     "output_type": "stream",
     "text": [
      "['Computer & Büro', 'Komponenten', 'Grafikkarten', 'Weitere AMD Grafikkarten']\n",
      "Asus Shop\n",
      "image not found\n",
      "************************\n",
      "97\n",
      "https://www.mediamarkt.de/de/product/-93847397.html\n"
     ]
    },
    {
     "name": "stderr",
     "output_type": "stream",
     "text": [
      "C:\\Users\\Administrator\\AppData\\Local\\Temp\\2\\ipykernel_148632\\3035623616.py:35: FutureWarning: The frame.append method is deprecated and will be removed from pandas in a future version. Use pandas.concat instead.\n",
      "  df=df.append(df1, ignore_index = True)\n",
      "\r",
      " 14%|███████████▏                                                                   | 98/695 [16:38<1:38:05,  9.86s/it]"
     ]
    },
    {
     "name": "stdout",
     "output_type": "stream",
     "text": [
      "['Computer & Büro', 'Komponenten', 'Grafikkarten', 'AMD RX 6750 XT']\n",
      "Asus Shop\n",
      "https://assets.mmsrg.com/isr/166325/c1/-/ASSET_MP_93847401?x=480&y=334&format=jpg&quality=80&sp=yes&strip=yes&trim&ex=480&ey=334&align=center&resizesource&unsharp=1.5x1+0.7+0.02&cox=0&coy=0&cdx=480&cdy=334\n",
      "************************\n",
      "98\n",
      "https://www.mediamarkt.de/de/product/-94000985.html\n"
     ]
    },
    {
     "name": "stderr",
     "output_type": "stream",
     "text": [
      "C:\\Users\\Administrator\\AppData\\Local\\Temp\\2\\ipykernel_148632\\3035623616.py:35: FutureWarning: The frame.append method is deprecated and will be removed from pandas in a future version. Use pandas.concat instead.\n",
      "  df=df.append(df1, ignore_index = True)\n",
      "\r",
      " 14%|███████████▎                                                                   | 99/695 [16:48<1:36:34,  9.72s/it]"
     ]
    },
    {
     "name": "stdout",
     "output_type": "stream",
     "text": [
      "['Computer & Büro', 'Komponenten', 'Grafikkarten', 'AMD RX 6700 XT']\n",
      "Asus Shop\n",
      "https://assets.mmsrg.com/isr/166325/c1/-/ASSET_MP_94000987?x=480&y=334&format=jpg&quality=80&sp=yes&strip=yes&trim&ex=480&ey=334&align=center&resizesource&unsharp=1.5x1+0.7+0.02&cox=0&coy=0&cdx=480&cdy=334\n",
      "************************\n",
      "99\n",
      "https://www.mediamarkt.de/de/product/-96253118.html\n"
     ]
    },
    {
     "name": "stderr",
     "output_type": "stream",
     "text": [
      "C:\\Users\\Administrator\\AppData\\Local\\Temp\\2\\ipykernel_148632\\3035623616.py:35: FutureWarning: The frame.append method is deprecated and will be removed from pandas in a future version. Use pandas.concat instead.\n",
      "  df=df.append(df1, ignore_index = True)\n",
      "\r",
      " 14%|███████████▏                                                                  | 100/695 [16:56<1:32:15,  9.30s/it]"
     ]
    },
    {
     "name": "stdout",
     "output_type": "stream",
     "text": [
      "['Computer & Büro', 'Komponenten', 'Grafikkarten', 'AMD RX 6700 XT']\n",
      "Procomponentes DE\n",
      "https://assets.mmsrg.com/isr/166325/c1/-/ASSET_MP_96253121?x=480&y=334&format=jpg&quality=80&sp=yes&strip=yes&trim&ex=480&ey=334&align=center&resizesource&unsharp=1.5x1+0.7+0.02&cox=0&coy=0&cdx=480&cdy=334\n",
      "************************\n",
      "100\n",
      "https://www.mediamarkt.de/de/product/-94000949.html\n"
     ]
    },
    {
     "name": "stderr",
     "output_type": "stream",
     "text": [
      "C:\\Users\\Administrator\\AppData\\Local\\Temp\\2\\ipykernel_148632\\3035623616.py:35: FutureWarning: The frame.append method is deprecated and will be removed from pandas in a future version. Use pandas.concat instead.\n",
      "  df=df.append(df1, ignore_index = True)\n",
      "\r",
      " 15%|███████████▎                                                                  | 101/695 [17:05<1:31:32,  9.25s/it]"
     ]
    },
    {
     "name": "stdout",
     "output_type": "stream",
     "text": [
      "['Computer & Büro', 'Komponenten', 'Grafikkarten', 'AMD RX 6500 XT']\n",
      "Asus Shop\n",
      "https://assets.mmsrg.com/isr/166325/c1/-/ASSET_MP_94000960?x=480&y=334&format=jpg&quality=80&sp=yes&strip=yes&trim&ex=480&ey=334&align=center&resizesource&unsharp=1.5x1+0.7+0.02&cox=0&coy=0&cdx=480&cdy=334\n",
      "************************\n",
      "101\n",
      "https://www.mediamarkt.de/de/product/-94699145.html\n"
     ]
    },
    {
     "name": "stderr",
     "output_type": "stream",
     "text": [
      "C:\\Users\\Administrator\\AppData\\Local\\Temp\\2\\ipykernel_148632\\3035623616.py:35: FutureWarning: The frame.append method is deprecated and will be removed from pandas in a future version. Use pandas.concat instead.\n",
      "  df=df.append(df1, ignore_index = True)\n",
      "\r",
      " 15%|███████████▍                                                                  | 102/695 [17:14<1:28:49,  8.99s/it]"
     ]
    },
    {
     "name": "stdout",
     "output_type": "stream",
     "text": [
      "['Computer & Büro', 'Komponenten', 'Grafikkarten', 'AMD RX 6650 XT']\n",
      "Procomponentes DE\n",
      "https://assets.mmsrg.com/isr/166325/c1/-/ASSET_MP_94699146?x=480&y=334&format=jpg&quality=80&sp=yes&strip=yes&trim&ex=480&ey=334&align=center&resizesource&unsharp=1.5x1+0.7+0.02&cox=0&coy=0&cdx=480&cdy=334\n",
      "************************\n",
      "102\n",
      "https://www.mediamarkt.de/de/product/-101218974.html\n"
     ]
    },
    {
     "name": "stderr",
     "output_type": "stream",
     "text": [
      "C:\\Users\\Administrator\\AppData\\Local\\Temp\\2\\ipykernel_148632\\3035623616.py:35: FutureWarning: The frame.append method is deprecated and will be removed from pandas in a future version. Use pandas.concat instead.\n",
      "  df=df.append(df1, ignore_index = True)\n",
      "\r",
      " 15%|███████████▌                                                                  | 103/695 [17:22<1:25:52,  8.70s/it]"
     ]
    },
    {
     "name": "stdout",
     "output_type": "stream",
     "text": [
      "['Computer & Büro', 'PCs & Zubehör', 'Gaming-PCs']\n",
      "Memory PC\n",
      "image not found\n",
      "************************\n",
      "103\n",
      "https://www.mediamarkt.de/de/product/-107987147.html\n"
     ]
    },
    {
     "name": "stderr",
     "output_type": "stream",
     "text": [
      "C:\\Users\\Administrator\\AppData\\Local\\Temp\\2\\ipykernel_148632\\3035623616.py:35: FutureWarning: The frame.append method is deprecated and will be removed from pandas in a future version. Use pandas.concat instead.\n",
      "  df=df.append(df1, ignore_index = True)\n",
      "\r",
      " 15%|███████████▋                                                                  | 104/695 [17:36<1:43:24, 10.50s/it]"
     ]
    },
    {
     "name": "stdout",
     "output_type": "stream",
     "text": [
      "['Computer & Büro', 'PCs & Zubehör', 'Gaming-PCs']\n",
      "SYSTEMTREFF\n",
      "image not found\n",
      "************************\n",
      "104\n",
      "https://www.mediamarkt.de/de/product/-104450880.html\n"
     ]
    },
    {
     "name": "stderr",
     "output_type": "stream",
     "text": [
      "C:\\Users\\Administrator\\AppData\\Local\\Temp\\2\\ipykernel_148632\\3035623616.py:35: FutureWarning: The frame.append method is deprecated and will be removed from pandas in a future version. Use pandas.concat instead.\n",
      "  df=df.append(df1, ignore_index = True)\n",
      "\r",
      " 15%|███████████▊                                                                  | 105/695 [17:45<1:37:27,  9.91s/it]"
     ]
    },
    {
     "name": "stdout",
     "output_type": "stream",
     "text": [
      "['Computer & Büro', 'PCs & Zubehör', 'Gaming-PCs']\n",
      "Sedatech\n",
      "https://assets.mmsrg.com/isr/166325/c1/-/ASSET_MP_104450737?x=480&y=334&format=jpg&quality=80&sp=yes&strip=yes&trim&ex=480&ey=334&align=center&resizesource&unsharp=1.5x1+0.7+0.02&cox=0&coy=0&cdx=480&cdy=334\n",
      "************************\n",
      "105\n",
      "https://www.mediamarkt.de/de/product/-107996269.html\n"
     ]
    },
    {
     "name": "stderr",
     "output_type": "stream",
     "text": [
      "C:\\Users\\Administrator\\AppData\\Local\\Temp\\2\\ipykernel_148632\\3035623616.py:35: FutureWarning: The frame.append method is deprecated and will be removed from pandas in a future version. Use pandas.concat instead.\n",
      "  df=df.append(df1, ignore_index = True)\n",
      "\r",
      " 15%|███████████▉                                                                  | 106/695 [17:53<1:30:39,  9.24s/it]"
     ]
    },
    {
     "name": "stdout",
     "output_type": "stream",
     "text": [
      "['Computer & Büro', 'PCs & Zubehör', 'PCs']\n",
      "SYSTEMTREFF\n",
      "https://assets.mmsrg.com/isr/166325/c1/-/ASSET_MP_103172853?x=480&y=334&format=jpg&quality=80&sp=yes&strip=yes&trim&ex=480&ey=334&align=center&resizesource&unsharp=1.5x1+0.7+0.02&cox=0&coy=0&cdx=480&cdy=334\n",
      "************************\n",
      "106\n",
      "https://www.mediamarkt.de/de/product/-107986639.html\n"
     ]
    },
    {
     "name": "stderr",
     "output_type": "stream",
     "text": [
      "C:\\Users\\Administrator\\AppData\\Local\\Temp\\2\\ipykernel_148632\\3035623616.py:35: FutureWarning: The frame.append method is deprecated and will be removed from pandas in a future version. Use pandas.concat instead.\n",
      "  df=df.append(df1, ignore_index = True)\n",
      "\r",
      " 15%|████████████                                                                  | 107/695 [18:01<1:29:09,  9.10s/it]"
     ]
    },
    {
     "name": "stdout",
     "output_type": "stream",
     "text": [
      "['Computer & Büro', 'PCs & Zubehör', 'Gaming-PCs']\n",
      "SYSTEMTREFF\n",
      "https://assets.mmsrg.com/isr/166325/c1/-/ASSET_MP_103171942?x=480&y=334&format=jpg&quality=80&sp=yes&strip=yes&trim&ex=480&ey=334&align=center&resizesource&unsharp=1.5x1+0.7+0.02&cox=0&coy=0&cdx=480&cdy=334\n",
      "************************\n",
      "107\n",
      "https://www.mediamarkt.de/de/product/-107995165.html\n"
     ]
    },
    {
     "name": "stderr",
     "output_type": "stream",
     "text": [
      "C:\\Users\\Administrator\\AppData\\Local\\Temp\\2\\ipykernel_148632\\3035623616.py:35: FutureWarning: The frame.append method is deprecated and will be removed from pandas in a future version. Use pandas.concat instead.\n",
      "  df=df.append(df1, ignore_index = True)\n",
      "\r",
      " 16%|████████████                                                                  | 108/695 [18:10<1:28:27,  9.04s/it]"
     ]
    },
    {
     "name": "stdout",
     "output_type": "stream",
     "text": [
      "['Computer & Büro', 'PCs & Zubehör', 'PCs']\n",
      "SYSTEMTREFF\n",
      "https://assets.mmsrg.com/isr/166325/c1/-/ASSET_MP_93923935?x=480&y=334&format=jpg&quality=80&sp=yes&strip=yes&trim&ex=480&ey=334&align=center&resizesource&unsharp=1.5x1+0.7+0.02&cox=0&coy=0&cdx=480&cdy=334\n",
      "************************\n",
      "108\n",
      "https://www.mediamarkt.de/de/product/-107995743.html\n"
     ]
    },
    {
     "name": "stderr",
     "output_type": "stream",
     "text": [
      "C:\\Users\\Administrator\\AppData\\Local\\Temp\\2\\ipykernel_148632\\3035623616.py:35: FutureWarning: The frame.append method is deprecated and will be removed from pandas in a future version. Use pandas.concat instead.\n",
      "  df=df.append(df1, ignore_index = True)\n",
      "\r",
      " 16%|████████████▏                                                                 | 109/695 [18:21<1:32:33,  9.48s/it]"
     ]
    },
    {
     "name": "stdout",
     "output_type": "stream",
     "text": [
      "['Computer & Büro', 'PCs & Zubehör', 'PCs']\n",
      "SYSTEMTREFF\n",
      "image not found\n",
      "************************\n",
      "109\n",
      "https://www.mediamarkt.de/de/product/-107987330.html\n"
     ]
    },
    {
     "name": "stderr",
     "output_type": "stream",
     "text": [
      "C:\\Users\\Administrator\\AppData\\Local\\Temp\\2\\ipykernel_148632\\3035623616.py:35: FutureWarning: The frame.append method is deprecated and will be removed from pandas in a future version. Use pandas.concat instead.\n",
      "  df=df.append(df1, ignore_index = True)\n",
      "\r",
      " 16%|████████████▎                                                                 | 110/695 [18:30<1:32:20,  9.47s/it]"
     ]
    },
    {
     "name": "stdout",
     "output_type": "stream",
     "text": [
      "['Computer & Büro', 'PCs & Zubehör', 'Gaming-PCs']\n",
      "SYSTEMTREFF\n",
      "https://assets.mmsrg.com/isr/166325/c1/-/ASSET_MP_103171968?x=480&y=334&format=jpg&quality=80&sp=yes&strip=yes&trim&ex=480&ey=334&align=center&resizesource&unsharp=1.5x1+0.7+0.02&cox=0&coy=0&cdx=480&cdy=334\n",
      "************************\n",
      "110\n",
      "https://www.mediamarkt.de/de/product/-107996094.html\n"
     ]
    },
    {
     "name": "stderr",
     "output_type": "stream",
     "text": [
      "C:\\Users\\Administrator\\AppData\\Local\\Temp\\2\\ipykernel_148632\\3035623616.py:35: FutureWarning: The frame.append method is deprecated and will be removed from pandas in a future version. Use pandas.concat instead.\n",
      "  df=df.append(df1, ignore_index = True)\n",
      "\r",
      " 16%|████████████▍                                                                 | 111/695 [18:38<1:26:04,  8.84s/it]"
     ]
    },
    {
     "name": "stdout",
     "output_type": "stream",
     "text": [
      "['Computer & Büro', 'PCs & Zubehör', 'PCs']\n",
      "SYSTEMTREFF\n",
      "image not found\n",
      "************************\n",
      "111\n",
      "https://www.mediamarkt.de/de/product/-107996245.html\n"
     ]
    },
    {
     "name": "stderr",
     "output_type": "stream",
     "text": [
      "C:\\Users\\Administrator\\AppData\\Local\\Temp\\2\\ipykernel_148632\\3035623616.py:35: FutureWarning: The frame.append method is deprecated and will be removed from pandas in a future version. Use pandas.concat instead.\n",
      "  df=df.append(df1, ignore_index = True)\n",
      "\r",
      " 16%|████████████▌                                                                 | 112/695 [18:46<1:23:52,  8.63s/it]"
     ]
    },
    {
     "name": "stdout",
     "output_type": "stream",
     "text": [
      "['Computer & Büro', 'PCs & Zubehör', 'PCs']\n",
      "SYSTEMTREFF\n",
      "image not found\n",
      "************************\n",
      "112\n",
      "https://www.mediamarkt.de/de/product/-93366511.html\n"
     ]
    },
    {
     "name": "stderr",
     "output_type": "stream",
     "text": [
      "C:\\Users\\Administrator\\AppData\\Local\\Temp\\2\\ipykernel_148632\\3035623616.py:35: FutureWarning: The frame.append method is deprecated and will be removed from pandas in a future version. Use pandas.concat instead.\n",
      "  df=df.append(df1, ignore_index = True)\n",
      "\r",
      " 16%|████████████▋                                                                 | 113/695 [18:54<1:23:09,  8.57s/it]"
     ]
    },
    {
     "name": "stdout",
     "output_type": "stream",
     "text": [
      "['Computer & Büro', 'PCs & Zubehör', 'Gaming-PCs']\n",
      "Megaport\n",
      "https://assets.mmsrg.com/isr/166325/c1/-/ASSET_MP_84961256?x=480&y=334&format=jpg&quality=80&sp=yes&strip=yes&trim&ex=480&ey=334&align=center&resizesource&unsharp=1.5x1+0.7+0.02&cox=0&coy=0&cdx=480&cdy=334\n",
      "************************\n",
      "113\n",
      "https://www.mediamarkt.de/de/product/-107995055.html\n"
     ]
    },
    {
     "name": "stderr",
     "output_type": "stream",
     "text": [
      "C:\\Users\\Administrator\\AppData\\Local\\Temp\\2\\ipykernel_148632\\3035623616.py:35: FutureWarning: The frame.append method is deprecated and will be removed from pandas in a future version. Use pandas.concat instead.\n",
      "  df=df.append(df1, ignore_index = True)\n",
      "\r",
      " 16%|████████████▊                                                                 | 114/695 [19:02<1:21:15,  8.39s/it]"
     ]
    },
    {
     "name": "stdout",
     "output_type": "stream",
     "text": [
      "['Computer & Büro', 'PCs & Zubehör', 'PCs']\n",
      "SYSTEMTREFF\n",
      "image not found\n",
      "************************\n",
      "114\n",
      "https://www.mediamarkt.de/de/product/-107995135.html\n"
     ]
    },
    {
     "name": "stderr",
     "output_type": "stream",
     "text": [
      "C:\\Users\\Administrator\\AppData\\Local\\Temp\\2\\ipykernel_148632\\3035623616.py:35: FutureWarning: The frame.append method is deprecated and will be removed from pandas in a future version. Use pandas.concat instead.\n",
      "  df=df.append(df1, ignore_index = True)\n",
      "\r",
      " 17%|████████████▉                                                                 | 115/695 [19:10<1:19:35,  8.23s/it]"
     ]
    },
    {
     "name": "stdout",
     "output_type": "stream",
     "text": [
      "['Computer & Büro', 'PCs & Zubehör', 'PCs']\n",
      "SYSTEMTREFF\n",
      "image not found\n",
      "************************\n",
      "115\n",
      "https://www.mediamarkt.de/de/product/-107995095.html\n"
     ]
    },
    {
     "name": "stderr",
     "output_type": "stream",
     "text": [
      "C:\\Users\\Administrator\\AppData\\Local\\Temp\\2\\ipykernel_148632\\3035623616.py:35: FutureWarning: The frame.append method is deprecated and will be removed from pandas in a future version. Use pandas.concat instead.\n",
      "  df=df.append(df1, ignore_index = True)\n",
      "\r",
      " 17%|█████████████                                                                 | 116/695 [19:20<1:23:50,  8.69s/it]"
     ]
    },
    {
     "name": "stdout",
     "output_type": "stream",
     "text": [
      "['Computer & Büro', 'PCs & Zubehör', 'PCs']\n",
      "SYSTEMTREFF\n",
      "image not found\n",
      "************************\n",
      "116\n",
      "https://www.mediamarkt.de/de/product/-95806887.html\n"
     ]
    },
    {
     "name": "stderr",
     "output_type": "stream",
     "text": [
      "C:\\Users\\Administrator\\AppData\\Local\\Temp\\2\\ipykernel_148632\\3035623616.py:35: FutureWarning: The frame.append method is deprecated and will be removed from pandas in a future version. Use pandas.concat instead.\n",
      "  df=df.append(df1, ignore_index = True)\n",
      "\r",
      " 17%|█████████████▏                                                                | 117/695 [19:28<1:23:03,  8.62s/it]"
     ]
    },
    {
     "name": "stdout",
     "output_type": "stream",
     "text": [
      "['Computer & Büro', 'PCs & Zubehör', 'Gaming-PCs']\n",
      "Memory PC\n",
      "https://assets.mmsrg.com/isr/166325/c1/-/ASSET_MP_90334839?x=480&y=334&format=jpg&quality=80&sp=yes&strip=yes&trim&ex=480&ey=334&align=center&resizesource&unsharp=1.5x1+0.7+0.02&cox=0&coy=0&cdx=480&cdy=334\n",
      "************************\n",
      "117\n",
      "https://www.mediamarkt.de/de/product/-101592734.html\n"
     ]
    },
    {
     "name": "stderr",
     "output_type": "stream",
     "text": [
      "C:\\Users\\Administrator\\AppData\\Local\\Temp\\2\\ipykernel_148632\\3035623616.py:35: FutureWarning: The frame.append method is deprecated and will be removed from pandas in a future version. Use pandas.concat instead.\n",
      "  df=df.append(df1, ignore_index = True)\n",
      "\r",
      " 17%|█████████████▏                                                                | 118/695 [19:36<1:21:01,  8.42s/it]"
     ]
    },
    {
     "name": "stdout",
     "output_type": "stream",
     "text": [
      "['Computer & Büro', 'PCs & Zubehör', 'Gaming-PCs']\n",
      "Sedatech\n",
      "https://assets.mmsrg.com/isr/166325/c1/-/ASSET_MP_101592691?x=480&y=334&format=jpg&quality=80&sp=yes&strip=yes&trim&ex=480&ey=334&align=center&resizesource&unsharp=1.5x1+0.7+0.02&cox=0&coy=0&cdx=480&cdy=334\n",
      "************************\n",
      "118\n",
      "https://www.mediamarkt.de/de/product/-93366534.html\n"
     ]
    },
    {
     "name": "stderr",
     "output_type": "stream",
     "text": [
      "C:\\Users\\Administrator\\AppData\\Local\\Temp\\2\\ipykernel_148632\\3035623616.py:35: FutureWarning: The frame.append method is deprecated and will be removed from pandas in a future version. Use pandas.concat instead.\n",
      "  df=df.append(df1, ignore_index = True)\n",
      "\r",
      " 17%|█████████████▎                                                                | 119/695 [19:49<1:32:33,  9.64s/it]"
     ]
    },
    {
     "name": "stdout",
     "output_type": "stream",
     "text": [
      "['Computer & Büro', 'PCs & Zubehör', 'Gaming-PCs']\n",
      "Megaport\n",
      "https://assets.mmsrg.com/isr/166325/c1/-/ASSET_MP_98297535?x=480&y=334&format=jpg&quality=80&sp=yes&strip=yes&trim&ex=480&ey=334&align=center&resizesource&unsharp=1.5x1+0.7+0.02&cox=0&coy=0&cdx=480&cdy=334\n",
      "************************\n",
      "119\n",
      "https://www.mediamarkt.de/de/product/-2776157.html\n"
     ]
    },
    {
     "name": "stderr",
     "output_type": "stream",
     "text": [
      "C:\\Users\\Administrator\\AppData\\Local\\Temp\\2\\ipykernel_148632\\3035623616.py:35: FutureWarning: The frame.append method is deprecated and will be removed from pandas in a future version. Use pandas.concat instead.\n",
      "  df=df.append(df1, ignore_index = True)\n",
      "\r",
      " 17%|█████████████▍                                                                | 120/695 [20:00<1:36:30, 10.07s/it]"
     ]
    },
    {
     "name": "stdout",
     "output_type": "stream",
     "text": [
      "['Computer & Büro', 'PCs & Zubehör', 'PCs']\n",
      "seller not found\n",
      "https://assets.mmsrg.com/isr/166325/c1/-/ASSET_MMS_89181081?x=480&y=334&format=jpg&quality=80&sp=yes&strip=yes&trim&ex=480&ey=334&align=center&resizesource&unsharp=1.5x1+0.7+0.02&cox=0&coy=0&cdx=480&cdy=334\n",
      "************************\n",
      "120\n",
      "https://www.mediamarkt.de/de/product/-2835026.html\n"
     ]
    },
    {
     "name": "stderr",
     "output_type": "stream",
     "text": [
      "C:\\Users\\Administrator\\AppData\\Local\\Temp\\2\\ipykernel_148632\\3035623616.py:35: FutureWarning: The frame.append method is deprecated and will be removed from pandas in a future version. Use pandas.concat instead.\n",
      "  df=df.append(df1, ignore_index = True)\n",
      "\r",
      " 17%|█████████████▌                                                                | 121/695 [20:10<1:37:01, 10.14s/it]"
     ]
    },
    {
     "name": "stdout",
     "output_type": "stream",
     "text": [
      "['Computer & Büro', 'PCs & Zubehör', 'Gaming-PCs']\n",
      "seller not found\n",
      "image not found\n",
      "************************\n",
      "121\n",
      "https://www.mediamarkt.de/de/product/-2854786.html\n"
     ]
    },
    {
     "name": "stderr",
     "output_type": "stream",
     "text": [
      "C:\\Users\\Administrator\\AppData\\Local\\Temp\\2\\ipykernel_148632\\3035623616.py:35: FutureWarning: The frame.append method is deprecated and will be removed from pandas in a future version. Use pandas.concat instead.\n",
      "  df=df.append(df1, ignore_index = True)\n",
      "\r",
      " 18%|█████████████▋                                                                | 122/695 [20:22<1:41:03, 10.58s/it]"
     ]
    },
    {
     "name": "stdout",
     "output_type": "stream",
     "text": [
      "['Computer & Büro', 'Notebooks & Zubehör', 'Notebooks']\n",
      "seller not found\n",
      "image not found\n",
      "************************\n",
      "122\n",
      "https://www.mediamarkt.de/de/product/-2868673.html\n"
     ]
    },
    {
     "name": "stderr",
     "output_type": "stream",
     "text": [
      "C:\\Users\\Administrator\\AppData\\Local\\Temp\\2\\ipykernel_148632\\3035623616.py:35: FutureWarning: The frame.append method is deprecated and will be removed from pandas in a future version. Use pandas.concat instead.\n",
      "  df=df.append(df1, ignore_index = True)\n",
      "\r",
      " 18%|█████████████▊                                                                | 123/695 [20:33<1:42:35, 10.76s/it]"
     ]
    },
    {
     "name": "stdout",
     "output_type": "stream",
     "text": [
      "['Computer & Büro', 'Notebooks & Zubehör', 'Notebooks']\n",
      "seller not found\n",
      "https://assets.mmsrg.com/isr/166325/c1/-/ASSET_MMS_104965194?x=480&y=334&format=jpg&quality=80&sp=yes&strip=yes&trim&ex=480&ey=334&align=center&resizesource&unsharp=1.5x1+0.7+0.02&cox=0&coy=0&cdx=480&cdy=334\n",
      "************************\n",
      "123\n",
      "https://www.mediamarkt.de/de/product/-2770693.html\n"
     ]
    },
    {
     "name": "stderr",
     "output_type": "stream",
     "text": [
      "C:\\Users\\Administrator\\AppData\\Local\\Temp\\2\\ipykernel_148632\\3035623616.py:35: FutureWarning: The frame.append method is deprecated and will be removed from pandas in a future version. Use pandas.concat instead.\n",
      "  df=df.append(df1, ignore_index = True)\n",
      "\r",
      " 18%|█████████████▉                                                                | 124/695 [20:45<1:45:56, 11.13s/it]"
     ]
    },
    {
     "name": "stdout",
     "output_type": "stream",
     "text": [
      "['Computer & Büro', 'Notebooks & Zubehör', 'Notebooks']\n",
      "seller not found\n",
      "image not found\n",
      "************************\n",
      "124\n",
      "https://www.mediamarkt.de/de/product/-2854789.html\n"
     ]
    },
    {
     "name": "stderr",
     "output_type": "stream",
     "text": [
      "C:\\Users\\Administrator\\AppData\\Local\\Temp\\2\\ipykernel_148632\\3035623616.py:35: FutureWarning: The frame.append method is deprecated and will be removed from pandas in a future version. Use pandas.concat instead.\n",
      "  df=df.append(df1, ignore_index = True)\n",
      "\r",
      " 18%|██████████████                                                                | 125/695 [20:54<1:39:30, 10.47s/it]"
     ]
    },
    {
     "name": "stdout",
     "output_type": "stream",
     "text": [
      "['Computer & Büro', 'Notebooks & Zubehör', 'Notebooks']\n",
      "seller not found\n",
      "image not found\n",
      "************************\n",
      "125\n",
      "https://www.mediamarkt.de/de/product/-2868850.html\n"
     ]
    },
    {
     "name": "stderr",
     "output_type": "stream",
     "text": [
      "C:\\Users\\Administrator\\AppData\\Local\\Temp\\2\\ipykernel_148632\\3035623616.py:35: FutureWarning: The frame.append method is deprecated and will be removed from pandas in a future version. Use pandas.concat instead.\n",
      "  df=df.append(df1, ignore_index = True)\n",
      "\r",
      " 18%|██████████████▏                                                               | 126/695 [21:04<1:37:38, 10.30s/it]"
     ]
    },
    {
     "name": "stdout",
     "output_type": "stream",
     "text": [
      "['Computer & Büro', 'Notebooks & Zubehör', 'Notebooks']\n",
      "seller not found\n",
      "https://assets.mmsrg.com/isr/166325/c1/-/ASSET_MMS_107161635?x=480&y=334&format=jpg&quality=80&sp=yes&strip=yes&trim&ex=480&ey=334&align=center&resizesource&unsharp=1.5x1+0.7+0.02&cox=0&coy=0&cdx=480&cdy=334\n",
      "************************\n",
      "126\n",
      "https://www.mediamarkt.de/de/product/-2851199.html\n"
     ]
    },
    {
     "name": "stderr",
     "output_type": "stream",
     "text": [
      "C:\\Users\\Administrator\\AppData\\Local\\Temp\\2\\ipykernel_148632\\3035623616.py:35: FutureWarning: The frame.append method is deprecated and will be removed from pandas in a future version. Use pandas.concat instead.\n",
      "  df=df.append(df1, ignore_index = True)\n",
      "\r",
      " 18%|██████████████▎                                                               | 127/695 [21:14<1:36:20, 10.18s/it]"
     ]
    },
    {
     "name": "stdout",
     "output_type": "stream",
     "text": [
      "['Computer & Büro', 'Notebooks & Zubehör', 'Notebooks']\n",
      "seller not found\n",
      "image not found\n",
      "************************\n",
      "127\n",
      "https://www.mediamarkt.de/de/product/-104060411.html\n"
     ]
    },
    {
     "name": "stderr",
     "output_type": "stream",
     "text": [
      "C:\\Users\\Administrator\\AppData\\Local\\Temp\\2\\ipykernel_148632\\3035623616.py:35: FutureWarning: The frame.append method is deprecated and will be removed from pandas in a future version. Use pandas.concat instead.\n",
      "  df=df.append(df1, ignore_index = True)\n",
      "\r",
      " 18%|██████████████▎                                                               | 128/695 [21:22<1:31:10,  9.65s/it]"
     ]
    },
    {
     "name": "stdout",
     "output_type": "stream",
     "text": [
      "['Computer & Büro', 'Notebooks & Zubehör', 'Notebooks']\n",
      "tease solutions GmbH\n",
      "https://assets.mmsrg.com/isr/166325/c1/-/ASSET_MP_104060413?x=480&y=334&format=jpg&quality=80&sp=yes&strip=yes&trim&ex=480&ey=334&align=center&resizesource&unsharp=1.5x1+0.7+0.02&cox=0&coy=0&cdx=480&cdy=334\n",
      "************************\n",
      "128\n",
      "https://www.mediamarkt.de/de/product/-103528540.html\n"
     ]
    },
    {
     "name": "stderr",
     "output_type": "stream",
     "text": [
      "C:\\Users\\Administrator\\AppData\\Local\\Temp\\2\\ipykernel_148632\\3035623616.py:35: FutureWarning: The frame.append method is deprecated and will be removed from pandas in a future version. Use pandas.concat instead.\n",
      "  df=df.append(df1, ignore_index = True)\n",
      "\r",
      " 19%|██████████████▍                                                               | 129/695 [21:30<1:26:12,  9.14s/it]"
     ]
    },
    {
     "name": "stdout",
     "output_type": "stream",
     "text": [
      "['Computer & Büro', 'Notebooks & Zubehör', 'Notebooks']\n",
      "tease solutions GmbH\n",
      "https://assets.mmsrg.com/isr/166325/c1/-/ASSET_MP_103538879?x=480&y=334&format=jpg&quality=80&sp=yes&strip=yes&trim&ex=480&ey=334&align=center&resizesource&unsharp=1.5x1+0.7+0.02&cox=0&coy=0&cdx=480&cdy=334\n",
      "************************\n",
      "129\n",
      "https://www.mediamarkt.de/de/product/-106559671.html\n"
     ]
    },
    {
     "name": "stderr",
     "output_type": "stream",
     "text": [
      "C:\\Users\\Administrator\\AppData\\Local\\Temp\\2\\ipykernel_148632\\3035623616.py:35: FutureWarning: The frame.append method is deprecated and will be removed from pandas in a future version. Use pandas.concat instead.\n",
      "  df=df.append(df1, ignore_index = True)\n",
      "\r",
      " 19%|██████████████▌                                                               | 130/695 [21:38<1:22:22,  8.75s/it]"
     ]
    },
    {
     "name": "stdout",
     "output_type": "stream",
     "text": [
      "['Computer & Büro', 'Notebooks & Zubehör', 'Notebooks']\n",
      "tease solutions GmbH\n",
      "image not found\n",
      "************************\n",
      "130\n",
      "https://www.mediamarkt.de/de/product/-106461838.html\n"
     ]
    },
    {
     "name": "stderr",
     "output_type": "stream",
     "text": [
      "C:\\Users\\Administrator\\AppData\\Local\\Temp\\2\\ipykernel_148632\\3035623616.py:35: FutureWarning: The frame.append method is deprecated and will be removed from pandas in a future version. Use pandas.concat instead.\n",
      "  df=df.append(df1, ignore_index = True)\n",
      "\r",
      " 19%|██████████████▋                                                               | 131/695 [21:46<1:20:06,  8.52s/it]"
     ]
    },
    {
     "name": "stdout",
     "output_type": "stream",
     "text": [
      "['Computer & Büro', 'Notebooks & Zubehör', 'Notebooks']\n",
      "tease solutions GmbH\n",
      "https://assets.mmsrg.com/isr/166325/c1/-/ASSET_MP_106461840?x=480&y=334&format=jpg&quality=80&sp=yes&strip=yes&trim&ex=480&ey=334&align=center&resizesource&unsharp=1.5x1+0.7+0.02&cox=0&coy=0&cdx=480&cdy=334\n",
      "************************\n",
      "131\n",
      "https://www.mediamarkt.de/de/product/-106462133.html\n"
     ]
    },
    {
     "name": "stderr",
     "output_type": "stream",
     "text": [
      "C:\\Users\\Administrator\\AppData\\Local\\Temp\\2\\ipykernel_148632\\3035623616.py:35: FutureWarning: The frame.append method is deprecated and will be removed from pandas in a future version. Use pandas.concat instead.\n",
      "  df=df.append(df1, ignore_index = True)\n",
      "\r",
      " 19%|██████████████▊                                                               | 132/695 [21:55<1:22:53,  8.83s/it]"
     ]
    },
    {
     "name": "stdout",
     "output_type": "stream",
     "text": [
      "['Computer & Büro', 'Notebooks & Zubehör', 'Notebooks']\n",
      "tease solutions GmbH\n",
      "image not found\n",
      "************************\n",
      "132\n",
      "https://www.mediamarkt.de/de/product/-107029816.html\n"
     ]
    },
    {
     "name": "stderr",
     "output_type": "stream",
     "text": [
      "C:\\Users\\Administrator\\AppData\\Local\\Temp\\2\\ipykernel_148632\\3035623616.py:35: FutureWarning: The frame.append method is deprecated and will be removed from pandas in a future version. Use pandas.concat instead.\n",
      "  df=df.append(df1, ignore_index = True)\n",
      "\r",
      " 19%|██████████████▉                                                               | 133/695 [22:04<1:22:26,  8.80s/it]"
     ]
    },
    {
     "name": "stdout",
     "output_type": "stream",
     "text": [
      "['Computer & Büro', 'Notebooks & Zubehör', 'Notebooks']\n",
      "tease solutions GmbH\n",
      "https://assets.mmsrg.com/isr/166325/c1/-/ASSET_MP_107029817?x=480&y=334&format=jpg&quality=80&sp=yes&strip=yes&trim&ex=480&ey=334&align=center&resizesource&unsharp=1.5x1+0.7+0.02&cox=0&coy=0&cdx=480&cdy=334\n",
      "************************\n",
      "133\n",
      "https://www.mediamarkt.de/de/product/-106461928.html\n"
     ]
    },
    {
     "name": "stderr",
     "output_type": "stream",
     "text": [
      "C:\\Users\\Administrator\\AppData\\Local\\Temp\\2\\ipykernel_148632\\3035623616.py:35: FutureWarning: The frame.append method is deprecated and will be removed from pandas in a future version. Use pandas.concat instead.\n",
      "  df=df.append(df1, ignore_index = True)\n",
      "\r",
      " 19%|███████████████                                                               | 134/695 [22:12<1:20:44,  8.64s/it]"
     ]
    },
    {
     "name": "stdout",
     "output_type": "stream",
     "text": [
      "['Computer & Büro', 'Notebooks & Zubehör', 'Notebooks']\n",
      "tease solutions GmbH\n",
      "https://assets.mmsrg.com/isr/166325/c1/-/ASSET_MP_106461929?x=480&y=334&format=jpg&quality=80&sp=yes&strip=yes&trim&ex=480&ey=334&align=center&resizesource&unsharp=1.5x1+0.7+0.02&cox=0&coy=0&cdx=480&cdy=334\n",
      "************************\n",
      "134\n",
      "https://www.mediamarkt.de/de/product/-2854790.html\n"
     ]
    },
    {
     "name": "stderr",
     "output_type": "stream",
     "text": [
      "C:\\Users\\Administrator\\AppData\\Local\\Temp\\2\\ipykernel_148632\\3035623616.py:35: FutureWarning: The frame.append method is deprecated and will be removed from pandas in a future version. Use pandas.concat instead.\n",
      "  df=df.append(df1, ignore_index = True)\n",
      "\r",
      " 19%|███████████████▏                                                              | 135/695 [22:23<1:26:40,  9.29s/it]"
     ]
    },
    {
     "name": "stdout",
     "output_type": "stream",
     "text": [
      "['Computer & Büro', 'Notebooks & Zubehör', 'Notebooks']\n",
      "seller not found\n",
      "image not found\n",
      "************************\n",
      "135\n",
      "https://www.mediamarkt.de/de/product/-2851408.html\n"
     ]
    },
    {
     "name": "stderr",
     "output_type": "stream",
     "text": [
      "C:\\Users\\Administrator\\AppData\\Local\\Temp\\2\\ipykernel_148632\\3035623616.py:35: FutureWarning: The frame.append method is deprecated and will be removed from pandas in a future version. Use pandas.concat instead.\n",
      "  df=df.append(df1, ignore_index = True)\n",
      "\r",
      " 20%|███████████████▎                                                              | 136/695 [22:33<1:28:40,  9.52s/it]"
     ]
    },
    {
     "name": "stdout",
     "output_type": "stream",
     "text": [
      "['Computer & Büro', 'Notebooks & Zubehör', 'Notebooks']\n",
      "seller not found\n",
      "image not found\n",
      "************************\n",
      "136\n",
      "https://www.mediamarkt.de/de/product/-99353712.html\n"
     ]
    },
    {
     "name": "stderr",
     "output_type": "stream",
     "text": [
      "C:\\Users\\Administrator\\AppData\\Local\\Temp\\2\\ipykernel_148632\\3035623616.py:35: FutureWarning: The frame.append method is deprecated and will be removed from pandas in a future version. Use pandas.concat instead.\n",
      "  df=df.append(df1, ignore_index = True)\n",
      "\r",
      " 20%|███████████████▍                                                              | 137/695 [22:41<1:24:16,  9.06s/it]"
     ]
    },
    {
     "name": "stdout",
     "output_type": "stream",
     "text": [
      "['Computer & Büro', 'Notebooks & Zubehör', 'Notebooks']\n",
      "technik-guenstiger\n",
      "https://assets.mmsrg.com/isr/166325/c1/-/ASSET_MP_99353713?x=480&y=334&format=jpg&quality=80&sp=yes&strip=yes&trim&ex=480&ey=334&align=center&resizesource&unsharp=1.5x1+0.7+0.02&cox=0&coy=0&cdx=480&cdy=334\n",
      "************************\n",
      "137\n",
      "https://www.mediamarkt.de/de/product/-2852513.html\n"
     ]
    },
    {
     "name": "stderr",
     "output_type": "stream",
     "text": [
      "C:\\Users\\Administrator\\AppData\\Local\\Temp\\2\\ipykernel_148632\\3035623616.py:35: FutureWarning: The frame.append method is deprecated and will be removed from pandas in a future version. Use pandas.concat instead.\n",
      "  df=df.append(df1, ignore_index = True)\n",
      "\r",
      " 20%|███████████████▍                                                              | 138/695 [22:58<1:45:08, 11.33s/it]"
     ]
    },
    {
     "name": "stdout",
     "output_type": "stream",
     "text": [
      "['Computer & Büro', 'Notebooks & Zubehör', 'Gaming-Notebooks']\n",
      "seller not found\n",
      "image not found\n",
      "************************\n",
      "138\n",
      "https://www.mediamarkt.de/de/product/-2851418.html\n"
     ]
    },
    {
     "name": "stderr",
     "output_type": "stream",
     "text": [
      "C:\\Users\\Administrator\\AppData\\Local\\Temp\\2\\ipykernel_148632\\3035623616.py:35: FutureWarning: The frame.append method is deprecated and will be removed from pandas in a future version. Use pandas.concat instead.\n",
      "  df=df.append(df1, ignore_index = True)\n",
      "\r",
      " 20%|███████████████▌                                                              | 139/695 [23:10<1:46:15, 11.47s/it]"
     ]
    },
    {
     "name": "stdout",
     "output_type": "stream",
     "text": [
      "['Computer & Büro', 'Notebooks & Zubehör', 'Notebooks']\n",
      "seller not found\n",
      "https://assets.mmsrg.com/isr/166325/c1/-/ASSET_MMS_101100454?x=480&y=334&format=jpg&quality=80&sp=yes&strip=yes&trim&ex=480&ey=334&align=center&resizesource&unsharp=1.5x1+0.7+0.02&cox=0&coy=0&cdx=480&cdy=334\n",
      "************************\n",
      "139\n",
      "https://www.mediamarkt.de/de/product/-2809412.html\n"
     ]
    },
    {
     "name": "stderr",
     "output_type": "stream",
     "text": [
      "C:\\Users\\Administrator\\AppData\\Local\\Temp\\2\\ipykernel_148632\\3035623616.py:35: FutureWarning: The frame.append method is deprecated and will be removed from pandas in a future version. Use pandas.concat instead.\n",
      "  df=df.append(df1, ignore_index = True)\n",
      "\r",
      " 20%|███████████████▋                                                              | 140/695 [23:21<1:47:26, 11.62s/it]"
     ]
    },
    {
     "name": "stdout",
     "output_type": "stream",
     "text": [
      "['Computer & Büro', 'Notebooks & Zubehör', 'Gaming-Notebooks']\n",
      "seller not found\n",
      "image not found\n",
      "************************\n",
      "140\n",
      "https://www.mediamarkt.de/de/product/-2854445.html\n"
     ]
    },
    {
     "name": "stderr",
     "output_type": "stream",
     "text": [
      "C:\\Users\\Administrator\\AppData\\Local\\Temp\\2\\ipykernel_148632\\3035623616.py:35: FutureWarning: The frame.append method is deprecated and will be removed from pandas in a future version. Use pandas.concat instead.\n",
      "  df=df.append(df1, ignore_index = True)\n",
      "\r",
      " 20%|███████████████▊                                                              | 141/695 [23:34<1:48:59, 11.80s/it]"
     ]
    },
    {
     "name": "stdout",
     "output_type": "stream",
     "text": [
      "['Computer & Büro', 'Notebooks & Zubehör', 'Gaming-Notebooks']\n",
      "seller not found\n",
      "https://assets.mmsrg.com/isr/166325/c1/-/ASSET_MMS_102354353?x=480&y=334&format=jpg&quality=80&sp=yes&strip=yes&trim&ex=480&ey=334&align=center&resizesource&unsharp=1.5x1+0.7+0.02&cox=0&coy=0&cdx=480&cdy=334\n",
      "************************\n",
      "141\n",
      "https://www.mediamarkt.de/de/product/-2781493.html\n"
     ]
    },
    {
     "name": "stderr",
     "output_type": "stream",
     "text": [
      "C:\\Users\\Administrator\\AppData\\Local\\Temp\\2\\ipykernel_148632\\3035623616.py:35: FutureWarning: The frame.append method is deprecated and will be removed from pandas in a future version. Use pandas.concat instead.\n",
      "  df=df.append(df1, ignore_index = True)\n",
      "\r",
      " 20%|███████████████▉                                                              | 142/695 [23:48<1:56:27, 12.64s/it]"
     ]
    },
    {
     "name": "stdout",
     "output_type": "stream",
     "text": [
      "['Computer & Büro', 'Notebooks & Zubehör', 'Gaming-Notebooks']\n",
      "seller not found\n",
      "image not found\n",
      "************************\n",
      "142\n",
      "https://www.mediamarkt.de/de/product/-2804710.html\n"
     ]
    },
    {
     "name": "stderr",
     "output_type": "stream",
     "text": [
      "C:\\Users\\Administrator\\AppData\\Local\\Temp\\2\\ipykernel_148632\\3035623616.py:35: FutureWarning: The frame.append method is deprecated and will be removed from pandas in a future version. Use pandas.concat instead.\n",
      "  df=df.append(df1, ignore_index = True)\n",
      "\r",
      " 21%|████████████████                                                              | 143/695 [23:57<1:46:39, 11.59s/it]"
     ]
    },
    {
     "name": "stdout",
     "output_type": "stream",
     "text": [
      "['Computer & Büro', 'Notebooks & Zubehör', 'Notebooks']\n",
      "seller not found\n",
      "https://assets.mmsrg.com/isr/166325/c1/-/ASSET_MMS_93642916?x=480&y=334&format=jpg&quality=80&sp=yes&strip=yes&trim&ex=480&ey=334&align=center&resizesource&unsharp=1.5x1+0.7+0.02&cox=0&coy=0&cdx=480&cdy=334\n",
      "************************\n",
      "143\n",
      "https://www.mediamarkt.de/de/product/-2865275.html\n"
     ]
    },
    {
     "name": "stderr",
     "output_type": "stream",
     "text": [
      "C:\\Users\\Administrator\\AppData\\Local\\Temp\\2\\ipykernel_148632\\3035623616.py:35: FutureWarning: The frame.append method is deprecated and will be removed from pandas in a future version. Use pandas.concat instead.\n",
      "  df=df.append(df1, ignore_index = True)\n",
      "\r",
      " 21%|████████████████▏                                                             | 144/695 [24:11<1:51:06, 12.10s/it]"
     ]
    },
    {
     "name": "stdout",
     "output_type": "stream",
     "text": [
      "['Computer & Büro', 'Notebooks & Zubehör', 'Notebooks']\n",
      "seller not found\n",
      "https://assets.mmsrg.com/isr/166325/c1/-/ASSET_MMS_103488946?x=480&y=334&format=jpg&quality=80&sp=yes&strip=yes&trim&ex=480&ey=334&align=center&resizesource&unsharp=1.5x1+0.7+0.02&cox=0&coy=0&cdx=480&cdy=334\n",
      "************************\n",
      "144\n",
      "https://www.mediamarkt.de/de/product/-2851771.html\n"
     ]
    },
    {
     "name": "stderr",
     "output_type": "stream",
     "text": [
      "C:\\Users\\Administrator\\AppData\\Local\\Temp\\2\\ipykernel_148632\\3035623616.py:35: FutureWarning: The frame.append method is deprecated and will be removed from pandas in a future version. Use pandas.concat instead.\n",
      "  df=df.append(df1, ignore_index = True)\n",
      "\r",
      " 21%|████████████████▎                                                             | 145/695 [24:22<1:49:00, 11.89s/it]"
     ]
    },
    {
     "name": "stdout",
     "output_type": "stream",
     "text": [
      "['Computer & Büro', 'Notebooks & Zubehör', 'Notebooks']\n",
      "seller not found\n",
      "https://assets.mmsrg.com/isr/166325/c1/-/ASSET_MMS_101326979?x=480&y=334&format=jpg&quality=80&sp=yes&strip=yes&trim&ex=480&ey=334&align=center&resizesource&unsharp=1.5x1+0.7+0.02&cox=0&coy=0&cdx=480&cdy=334\n",
      "************************\n",
      "145\n",
      "https://www.mediamarkt.de/de/product/-108161341.html\n"
     ]
    },
    {
     "name": "stderr",
     "output_type": "stream",
     "text": [
      "C:\\Users\\Administrator\\AppData\\Local\\Temp\\2\\ipykernel_148632\\3035623616.py:35: FutureWarning: The frame.append method is deprecated and will be removed from pandas in a future version. Use pandas.concat instead.\n",
      "  df=df.append(df1, ignore_index = True)\n",
      "\r",
      " 21%|████████████████▍                                                             | 146/695 [24:31<1:40:02, 10.93s/it]"
     ]
    },
    {
     "name": "stdout",
     "output_type": "stream",
     "text": [
      "['Computer & Büro', 'Notebooks & Zubehör', 'Netbooks']\n",
      "technik-guenstiger\n",
      "image not found\n",
      "************************\n",
      "146\n",
      "https://www.mediamarkt.de/de/product/-2780488.html\n"
     ]
    },
    {
     "name": "stderr",
     "output_type": "stream",
     "text": [
      "C:\\Users\\Administrator\\AppData\\Local\\Temp\\2\\ipykernel_148632\\3035623616.py:35: FutureWarning: The frame.append method is deprecated and will be removed from pandas in a future version. Use pandas.concat instead.\n",
      "  df=df.append(df1, ignore_index = True)\n",
      "\r",
      " 21%|████████████████▍                                                             | 147/695 [24:42<1:41:28, 11.11s/it]"
     ]
    },
    {
     "name": "stdout",
     "output_type": "stream",
     "text": [
      "['Computer & Büro', 'Notebooks & Zubehör', 'Notebooks']\n",
      "seller not found\n",
      "https://assets.mmsrg.com/isr/166325/c1/-/ASSET_MMS_89951927?x=480&y=334&format=jpg&quality=80&sp=yes&strip=yes&trim&ex=480&ey=334&align=center&resizesource&unsharp=1.5x1+0.7+0.02&cox=0&coy=0&cdx=480&cdy=334\n",
      "************************\n",
      "147\n",
      "https://www.mediamarkt.de/de/product/-103042233.html\n"
     ]
    },
    {
     "name": "stderr",
     "output_type": "stream",
     "text": [
      "C:\\Users\\Administrator\\AppData\\Local\\Temp\\2\\ipykernel_148632\\3035623616.py:35: FutureWarning: The frame.append method is deprecated and will be removed from pandas in a future version. Use pandas.concat instead.\n",
      "  df=df.append(df1, ignore_index = True)\n",
      "\r",
      " 21%|████████████████▌                                                             | 148/695 [24:53<1:39:16, 10.89s/it]"
     ]
    },
    {
     "name": "stdout",
     "output_type": "stream",
     "text": [
      "['Computer & Büro', 'Notebooks & Zubehör', 'Netbooks']\n",
      "technik-guenstiger\n",
      "https://assets.mmsrg.com/isr/166325/c1/-/ASSET_MP_103042234?x=480&y=334&format=jpg&quality=80&sp=yes&strip=yes&trim&ex=480&ey=334&align=center&resizesource&unsharp=1.5x1+0.7+0.02&cox=0&coy=0&cdx=480&cdy=334\n",
      "************************\n",
      "148\n",
      "https://www.mediamarkt.de/de/product/-104455107.html\n"
     ]
    },
    {
     "name": "stderr",
     "output_type": "stream",
     "text": [
      "C:\\Users\\Administrator\\AppData\\Local\\Temp\\2\\ipykernel_148632\\3035623616.py:35: FutureWarning: The frame.append method is deprecated and will be removed from pandas in a future version. Use pandas.concat instead.\n",
      "  df=df.append(df1, ignore_index = True)\n",
      "\r",
      " 21%|████████████████▋                                                             | 149/695 [25:01<1:32:11, 10.13s/it]"
     ]
    },
    {
     "name": "stdout",
     "output_type": "stream",
     "text": [
      "['Computer & Büro', 'Notebooks & Zubehör', 'Netbooks']\n",
      "technik-guenstiger\n",
      "image not found\n",
      "************************\n",
      "149\n",
      "https://www.mediamarkt.de/de/product/-103066982.html\n"
     ]
    },
    {
     "name": "stderr",
     "output_type": "stream",
     "text": [
      "C:\\Users\\Administrator\\AppData\\Local\\Temp\\2\\ipykernel_148632\\3035623616.py:35: FutureWarning: The frame.append method is deprecated and will be removed from pandas in a future version. Use pandas.concat instead.\n",
      "  df=df.append(df1, ignore_index = True)\n",
      "\r",
      " 22%|████████████████▊                                                             | 150/695 [25:15<1:43:36, 11.41s/it]"
     ]
    },
    {
     "name": "stdout",
     "output_type": "stream",
     "text": [
      "['Computer & Büro', 'Notebooks & Zubehör', 'Chromebooks']\n",
      "technik-guenstiger\n",
      "https://assets.mmsrg.com/isr/166325/c1/-/ASSET_MP_103066987?x=480&y=334&format=jpg&quality=80&sp=yes&strip=yes&trim&ex=480&ey=334&align=center&resizesource&unsharp=1.5x1+0.7+0.02&cox=0&coy=0&cdx=480&cdy=334\n",
      "************************\n",
      "150\n",
      "https://www.mediamarkt.de/de/product/-104555064.html\n"
     ]
    },
    {
     "name": "stderr",
     "output_type": "stream",
     "text": [
      "C:\\Users\\Administrator\\AppData\\Local\\Temp\\2\\ipykernel_148632\\3035623616.py:35: FutureWarning: The frame.append method is deprecated and will be removed from pandas in a future version. Use pandas.concat instead.\n",
      "  df=df.append(df1, ignore_index = True)\n",
      "\r",
      " 22%|████████████████▉                                                             | 151/695 [25:27<1:42:34, 11.31s/it]"
     ]
    },
    {
     "name": "stdout",
     "output_type": "stream",
     "text": [
      "['Computer & Büro', 'Notebooks & Zubehör', 'Netbooks']\n",
      "technik-guenstiger\n",
      "https://assets.mmsrg.com/isr/166325/c1/-/ASSET_MP_104555065?x=480&y=334&format=jpg&quality=80&sp=yes&strip=yes&trim&ex=480&ey=334&align=center&resizesource&unsharp=1.5x1+0.7+0.02&cox=0&coy=0&cdx=480&cdy=334\n",
      "************************\n",
      "151\n",
      "https://www.mediamarkt.de/de/product/-102405283.html\n"
     ]
    },
    {
     "name": "stderr",
     "output_type": "stream",
     "text": [
      "C:\\Users\\Administrator\\AppData\\Local\\Temp\\2\\ipykernel_148632\\3035623616.py:35: FutureWarning: The frame.append method is deprecated and will be removed from pandas in a future version. Use pandas.concat instead.\n",
      "  df=df.append(df1, ignore_index = True)\n",
      "\r",
      " 22%|█████████████████                                                             | 152/695 [25:35<1:35:08, 10.51s/it]"
     ]
    },
    {
     "name": "stdout",
     "output_type": "stream",
     "text": [
      "[]\n",
      "Procomponentes DE\n",
      "https://assets.mmsrg.com/isr/166325/c1/-/ASSET_MP_102405285?x=480&y=334&format=jpg&quality=80&sp=yes&strip=yes&trim&ex=480&ey=334&align=center&resizesource&unsharp=1.5x1+0.7+0.02&cox=0&coy=0&cdx=480&cdy=334\n",
      "************************\n",
      "152\n",
      "https://www.mediamarkt.de/de/product/-102269887.html\n"
     ]
    },
    {
     "name": "stderr",
     "output_type": "stream",
     "text": [
      "C:\\Users\\Administrator\\AppData\\Local\\Temp\\2\\ipykernel_148632\\3035623616.py:35: FutureWarning: The frame.append method is deprecated and will be removed from pandas in a future version. Use pandas.concat instead.\n",
      "  df=df.append(df1, ignore_index = True)\n",
      "\r",
      " 22%|█████████████████▏                                                            | 153/695 [25:47<1:38:16, 10.88s/it]"
     ]
    },
    {
     "name": "stdout",
     "output_type": "stream",
     "text": [
      "['Computer & Büro', 'Komponenten', 'Prozessoren / CPU', 'Weitere AMD Prozessoren']\n",
      "Procomponentes DE\n",
      "https://assets.mmsrg.com/isr/166325/c1/-/ASSET_MP_102269891?x=480&y=334&format=jpg&quality=80&sp=yes&strip=yes&trim&ex=480&ey=334&align=center&resizesource&unsharp=1.5x1+0.7+0.02&cox=0&coy=0&cdx=480&cdy=334\n",
      "************************\n",
      "153\n",
      "https://www.mediamarkt.de/de/product/-102405282.html\n"
     ]
    },
    {
     "name": "stderr",
     "output_type": "stream",
     "text": [
      "C:\\Users\\Administrator\\AppData\\Local\\Temp\\2\\ipykernel_148632\\3035623616.py:35: FutureWarning: The frame.append method is deprecated and will be removed from pandas in a future version. Use pandas.concat instead.\n",
      "  df=df.append(df1, ignore_index = True)\n",
      "\r",
      " 22%|█████████████████▎                                                            | 154/695 [25:57<1:36:44, 10.73s/it]"
     ]
    },
    {
     "name": "stdout",
     "output_type": "stream",
     "text": [
      "[]\n",
      "CAPTIVA\n",
      "https://assets.mmsrg.com/isr/166325/c1/-/ASSET_MP_102405284?x=480&y=334&format=jpg&quality=80&sp=yes&strip=yes&trim&ex=480&ey=334&align=center&resizesource&unsharp=1.5x1+0.7+0.02&cox=0&coy=0&cdx=480&cdy=334\n",
      "************************\n",
      "154\n",
      "https://www.mediamarkt.de/de/product/-78575368.html\n"
     ]
    },
    {
     "name": "stderr",
     "output_type": "stream",
     "text": [
      "C:\\Users\\Administrator\\AppData\\Local\\Temp\\2\\ipykernel_148632\\3035623616.py:35: FutureWarning: The frame.append method is deprecated and will be removed from pandas in a future version. Use pandas.concat instead.\n",
      "  df=df.append(df1, ignore_index = True)\n",
      "\r",
      " 22%|█████████████████▍                                                            | 155/695 [26:11<1:43:31, 11.50s/it]"
     ]
    },
    {
     "name": "stdout",
     "output_type": "stream",
     "text": [
      "['Computer & Büro', 'PCs & Zubehör', 'Gaming-PCs']\n",
      "Megaport\n",
      "image not found\n",
      "************************\n",
      "155\n",
      "https://www.mediamarkt.de/de/product/-109793798.html\n"
     ]
    },
    {
     "name": "stderr",
     "output_type": "stream",
     "text": [
      "C:\\Users\\Administrator\\AppData\\Local\\Temp\\2\\ipykernel_148632\\3035623616.py:35: FutureWarning: The frame.append method is deprecated and will be removed from pandas in a future version. Use pandas.concat instead.\n",
      "  df=df.append(df1, ignore_index = True)\n",
      "\r",
      " 22%|█████████████████▌                                                            | 156/695 [26:19<1:34:16, 10.49s/it]"
     ]
    },
    {
     "name": "stdout",
     "output_type": "stream",
     "text": [
      "['Computer & Büro', 'PCs & Zubehör', 'Gaming-PCs']\n",
      "SYSTEMTREFF\n",
      "https://assets.mmsrg.com/isr/166325/c1/-/ASSET_MP_93919572?x=480&y=334&format=jpg&quality=80&sp=yes&strip=yes&trim&ex=480&ey=334&align=center&resizesource&unsharp=1.5x1+0.7+0.02&cox=0&coy=0&cdx=480&cdy=334\n",
      "************************\n",
      "156\n",
      "https://www.mediamarkt.de/de/product/-2874616.html\n"
     ]
    },
    {
     "name": "stderr",
     "output_type": "stream",
     "text": [
      "C:\\Users\\Administrator\\AppData\\Local\\Temp\\2\\ipykernel_148632\\3035623616.py:35: FutureWarning: The frame.append method is deprecated and will be removed from pandas in a future version. Use pandas.concat instead.\n",
      "  df=df.append(df1, ignore_index = True)\n",
      "\r",
      " 23%|█████████████████▌                                                            | 157/695 [26:31<1:39:47, 11.13s/it]"
     ]
    },
    {
     "name": "stdout",
     "output_type": "stream",
     "text": [
      "['Gaming & VR', 'Sonstige Konsolen', 'Handheld Konsolen']\n",
      "seller not found\n",
      "https://assets.mmsrg.com/isr/166325/c1/-/ASSET_MMS_105878128?x=480&y=334&format=jpg&quality=80&sp=yes&strip=yes&trim&ex=480&ey=334&align=center&resizesource&unsharp=1.5x1+0.7+0.02&cox=0&coy=0&cdx=480&cdy=334\n",
      "************************\n",
      "157\n",
      "https://www.mediamarkt.de/de/product/-114090322.html\n"
     ]
    },
    {
     "name": "stderr",
     "output_type": "stream",
     "text": [
      "C:\\Users\\Administrator\\AppData\\Local\\Temp\\2\\ipykernel_148632\\3035623616.py:35: FutureWarning: The frame.append method is deprecated and will be removed from pandas in a future version. Use pandas.concat instead.\n",
      "  df=df.append(df1, ignore_index = True)\n",
      "\r",
      " 23%|█████████████████▋                                                            | 158/695 [26:41<1:34:56, 10.61s/it]"
     ]
    },
    {
     "name": "stdout",
     "output_type": "stream",
     "text": [
      "['Computer & Büro', 'PCs & Zubehör', 'Gaming-PCs']\n",
      "ONEGAMING\n",
      "image not found\n",
      "************************\n",
      "158\n",
      "https://www.mediamarkt.de/de/product/-114095882.html\n"
     ]
    },
    {
     "name": "stderr",
     "output_type": "stream",
     "text": [
      "C:\\Users\\Administrator\\AppData\\Local\\Temp\\2\\ipykernel_148632\\3035623616.py:35: FutureWarning: The frame.append method is deprecated and will be removed from pandas in a future version. Use pandas.concat instead.\n",
      "  df=df.append(df1, ignore_index = True)\n",
      "\r",
      " 23%|█████████████████▊                                                            | 159/695 [26:50<1:31:33, 10.25s/it]"
     ]
    },
    {
     "name": "stdout",
     "output_type": "stream",
     "text": [
      "['Computer & Büro', 'PCs & Zubehör', 'Gaming-PCs']\n",
      "ONEGAMING\n",
      "https://assets.mmsrg.com/isr/166325/c1/-/ASSET_MP_114095821?x=480&y=334&format=jpg&quality=80&sp=yes&strip=yes&trim&ex=480&ey=334&align=center&resizesource&unsharp=1.5x1+0.7+0.02&cox=0&coy=0&cdx=480&cdy=334\n",
      "************************\n",
      "159\n",
      "https://www.mediamarkt.de/de/product/-114095850.html\n"
     ]
    },
    {
     "name": "stderr",
     "output_type": "stream",
     "text": [
      "C:\\Users\\Administrator\\AppData\\Local\\Temp\\2\\ipykernel_148632\\3035623616.py:35: FutureWarning: The frame.append method is deprecated and will be removed from pandas in a future version. Use pandas.concat instead.\n",
      "  df=df.append(df1, ignore_index = True)\n",
      "\r",
      " 23%|█████████████████▉                                                            | 160/695 [26:58<1:25:17,  9.56s/it]"
     ]
    },
    {
     "name": "stdout",
     "output_type": "stream",
     "text": [
      "[]\n",
      "ONEGAMING\n",
      "image not found\n",
      "************************\n",
      "160\n",
      "https://www.mediamarkt.de/de/product/-114090321.html\n"
     ]
    },
    {
     "name": "stderr",
     "output_type": "stream",
     "text": [
      "C:\\Users\\Administrator\\AppData\\Local\\Temp\\2\\ipykernel_148632\\3035623616.py:35: FutureWarning: The frame.append method is deprecated and will be removed from pandas in a future version. Use pandas.concat instead.\n",
      "  df=df.append(df1, ignore_index = True)\n",
      "\r",
      " 23%|██████████████████                                                            | 161/695 [27:07<1:23:41,  9.40s/it]"
     ]
    },
    {
     "name": "stdout",
     "output_type": "stream",
     "text": [
      "['Computer & Büro', 'PCs & Zubehör', 'Gaming-PCs']\n",
      "ONEGAMING\n",
      "https://assets.mmsrg.com/isr/166325/c1/-/ASSET_MP_114090323?x=480&y=334&format=jpg&quality=80&sp=yes&strip=yes&trim&ex=480&ey=334&align=center&resizesource&unsharp=1.5x1+0.7+0.02&cox=0&coy=0&cdx=480&cdy=334\n",
      "************************\n",
      "161\n",
      "https://www.mediamarkt.de/de/product/-2864853.html\n"
     ]
    },
    {
     "name": "stderr",
     "output_type": "stream",
     "text": [
      "C:\\Users\\Administrator\\AppData\\Local\\Temp\\2\\ipykernel_148632\\3035623616.py:35: FutureWarning: The frame.append method is deprecated and will be removed from pandas in a future version. Use pandas.concat instead.\n",
      "  df=df.append(df1, ignore_index = True)\n",
      "\r",
      " 23%|██████████████████▏                                                           | 162/695 [27:19<1:29:27, 10.07s/it]"
     ]
    },
    {
     "name": "stdout",
     "output_type": "stream",
     "text": [
      "['Computer & Büro', 'Notebooks & Zubehör', 'Notebooks']\n",
      "seller not found\n",
      "image not found\n",
      "************************\n",
      "162\n",
      "https://www.mediamarkt.de/de/product/-2827091.html\n"
     ]
    },
    {
     "name": "stderr",
     "output_type": "stream",
     "text": [
      "C:\\Users\\Administrator\\AppData\\Local\\Temp\\2\\ipykernel_148632\\3035623616.py:35: FutureWarning: The frame.append method is deprecated and will be removed from pandas in a future version. Use pandas.concat instead.\n",
      "  df=df.append(df1, ignore_index = True)\n",
      "\r",
      " 23%|██████████████████▎                                                           | 163/695 [27:33<1:39:40, 11.24s/it]"
     ]
    },
    {
     "name": "stdout",
     "output_type": "stream",
     "text": [
      "['Computer & Büro', 'Notebooks & Zubehör', 'Gaming-Notebooks']\n",
      "seller not found\n",
      "image not found\n",
      "************************\n",
      "163\n",
      "https://www.mediamarkt.de/de/product/-2776194.html\n"
     ]
    },
    {
     "name": "stderr",
     "output_type": "stream",
     "text": [
      "C:\\Users\\Administrator\\AppData\\Local\\Temp\\2\\ipykernel_148632\\3035623616.py:35: FutureWarning: The frame.append method is deprecated and will be removed from pandas in a future version. Use pandas.concat instead.\n",
      "  df=df.append(df1, ignore_index = True)\n",
      "\r",
      " 24%|██████████████████▍                                                           | 164/695 [27:42<1:32:58, 10.51s/it]"
     ]
    },
    {
     "name": "stdout",
     "output_type": "stream",
     "text": [
      "['Computer & Büro', 'Notebooks & Zubehör', '2in1 Convertibles']\n",
      "seller not found\n",
      "https://assets.mmsrg.com/isr/166325/c1/-/ASSET_MMS_89735373?x=480&y=334&format=jpg&quality=80&sp=yes&strip=yes&trim&ex=480&ey=334&align=center&resizesource&unsharp=1.5x1+0.7+0.02&cox=0&coy=0&cdx=480&cdy=334\n",
      "************************\n",
      "164\n",
      "https://www.mediamarkt.de/de/product/-2776196.html\n"
     ]
    },
    {
     "name": "stderr",
     "output_type": "stream",
     "text": [
      "C:\\Users\\Administrator\\AppData\\Local\\Temp\\2\\ipykernel_148632\\3035623616.py:35: FutureWarning: The frame.append method is deprecated and will be removed from pandas in a future version. Use pandas.concat instead.\n",
      "  df=df.append(df1, ignore_index = True)\n",
      "\r",
      " 24%|██████████████████▌                                                           | 165/695 [27:51<1:28:43, 10.04s/it]"
     ]
    },
    {
     "name": "stdout",
     "output_type": "stream",
     "text": [
      "['Computer & Büro', 'Notebooks & Zubehör', '2in1 Convertibles']\n",
      "seller not found\n",
      "https://assets.mmsrg.com/isr/166325/c1/-/ASSET_MMS_89735399?x=480&y=334&format=jpg&quality=80&sp=yes&strip=yes&trim&ex=480&ey=334&align=center&resizesource&unsharp=1.5x1+0.7+0.02&cox=0&coy=0&cdx=480&cdy=334\n",
      "************************\n",
      "165\n",
      "https://www.mediamarkt.de/de/product/-2776195.html\n"
     ]
    },
    {
     "name": "stderr",
     "output_type": "stream",
     "text": [
      "C:\\Users\\Administrator\\AppData\\Local\\Temp\\2\\ipykernel_148632\\3035623616.py:35: FutureWarning: The frame.append method is deprecated and will be removed from pandas in a future version. Use pandas.concat instead.\n",
      "  df=df.append(df1, ignore_index = True)\n",
      "\r",
      " 24%|██████████████████▋                                                           | 166/695 [28:00<1:26:02,  9.76s/it]"
     ]
    },
    {
     "name": "stdout",
     "output_type": "stream",
     "text": [
      "['Computer & Büro', 'Notebooks & Zubehör', '2in1 Convertibles']\n",
      "seller not found\n",
      "https://assets.mmsrg.com/isr/166325/c1/-/ASSET_MMS_91735847?x=480&y=334&format=jpg&quality=80&sp=yes&strip=yes&trim&ex=480&ey=334&align=center&resizesource&unsharp=1.5x1+0.7+0.02&cox=0&coy=0&cdx=480&cdy=334\n",
      "************************\n",
      "166\n",
      "https://www.mediamarkt.de/de/product/-2852347.html\n"
     ]
    },
    {
     "name": "stderr",
     "output_type": "stream",
     "text": [
      "C:\\Users\\Administrator\\AppData\\Local\\Temp\\2\\ipykernel_148632\\3035623616.py:35: FutureWarning: The frame.append method is deprecated and will be removed from pandas in a future version. Use pandas.concat instead.\n",
      "  df=df.append(df1, ignore_index = True)\n",
      "\r",
      " 24%|██████████████████▋                                                           | 167/695 [28:10<1:27:44,  9.97s/it]"
     ]
    },
    {
     "name": "stdout",
     "output_type": "stream",
     "text": [
      "['Computer & Büro', 'Notebooks & Zubehör', 'Gaming-Notebooks']\n",
      "seller not found\n",
      "image not found\n",
      "************************\n",
      "167\n",
      "https://www.mediamarkt.de/de/product/-2851768.html\n"
     ]
    },
    {
     "name": "stderr",
     "output_type": "stream",
     "text": [
      "C:\\Users\\Administrator\\AppData\\Local\\Temp\\2\\ipykernel_148632\\3035623616.py:35: FutureWarning: The frame.append method is deprecated and will be removed from pandas in a future version. Use pandas.concat instead.\n",
      "  df=df.append(df1, ignore_index = True)\n",
      "\r",
      " 24%|██████████████████▊                                                           | 168/695 [28:22<1:32:45, 10.56s/it]"
     ]
    },
    {
     "name": "stdout",
     "output_type": "stream",
     "text": [
      "['Computer & Büro', 'Notebooks & Zubehör', 'Notebooks']\n",
      "seller not found\n",
      "https://assets.mmsrg.com/isr/166325/c1/-/ASSET_MMS_101208403?x=480&y=334&format=jpg&quality=80&sp=yes&strip=yes&trim&ex=480&ey=334&align=center&resizesource&unsharp=1.5x1+0.7+0.02&cox=0&coy=0&cdx=480&cdy=334\n",
      "************************\n",
      "168\n",
      "https://www.mediamarkt.de/de/product/-2851432.html\n"
     ]
    },
    {
     "name": "stderr",
     "output_type": "stream",
     "text": [
      "C:\\Users\\Administrator\\AppData\\Local\\Temp\\2\\ipykernel_148632\\3035623616.py:35: FutureWarning: The frame.append method is deprecated and will be removed from pandas in a future version. Use pandas.concat instead.\n",
      "  df=df.append(df1, ignore_index = True)\n",
      "\r",
      " 24%|██████████████████▉                                                           | 169/695 [28:32<1:32:07, 10.51s/it]"
     ]
    },
    {
     "name": "stdout",
     "output_type": "stream",
     "text": [
      "['Computer & Büro', 'Notebooks & Zubehör', 'Notebooks']\n",
      "seller not found\n",
      "https://assets.mmsrg.com/isr/166325/c1/-/ASSET_MMS_101167299?x=480&y=334&format=jpg&quality=80&sp=yes&strip=yes&trim&ex=480&ey=334&align=center&resizesource&unsharp=1.5x1+0.7+0.02&cox=0&coy=0&cdx=480&cdy=334\n",
      "************************\n",
      "169\n",
      "https://www.mediamarkt.de/de/product/-2851770.html\n"
     ]
    },
    {
     "name": "stderr",
     "output_type": "stream",
     "text": [
      "C:\\Users\\Administrator\\AppData\\Local\\Temp\\2\\ipykernel_148632\\3035623616.py:35: FutureWarning: The frame.append method is deprecated and will be removed from pandas in a future version. Use pandas.concat instead.\n",
      "  df=df.append(df1, ignore_index = True)\n",
      "\r",
      " 24%|███████████████████                                                           | 170/695 [28:44<1:35:48, 10.95s/it]"
     ]
    },
    {
     "name": "stdout",
     "output_type": "stream",
     "text": [
      "['Computer & Büro', 'Notebooks & Zubehör', 'Gaming-Notebooks']\n",
      "seller not found\n",
      "image not found\n",
      "************************\n",
      "170\n",
      "https://www.mediamarkt.de/de/product/-79145721.html\n"
     ]
    },
    {
     "name": "stderr",
     "output_type": "stream",
     "text": [
      "C:\\Users\\Administrator\\AppData\\Local\\Temp\\2\\ipykernel_148632\\3035623616.py:35: FutureWarning: The frame.append method is deprecated and will be removed from pandas in a future version. Use pandas.concat instead.\n",
      "  df=df.append(df1, ignore_index = True)\n",
      "\r",
      " 25%|███████████████████▏                                                          | 171/695 [28:53<1:29:25, 10.24s/it]"
     ]
    },
    {
     "name": "stdout",
     "output_type": "stream",
     "text": [
      "['Computer & Büro', 'Komponenten', 'Arbeitsspeicher / RAM', 'Arbeitsspeicher Laptop']\n",
      "Akku-Monster\n",
      "https://assets.mmsrg.com/isr/166325/c1/-/ASSET_MP_79040088?x=480&y=334&format=jpg&quality=80&sp=yes&strip=yes&trim&ex=480&ey=334&align=center&resizesource&unsharp=1.5x1+0.7+0.02&cox=0&coy=0&cdx=480&cdy=334\n",
      "************************\n",
      "171\n",
      "https://www.mediamarkt.de/de/product/-2868950.html\n"
     ]
    },
    {
     "name": "stderr",
     "output_type": "stream",
     "text": [
      "C:\\Users\\Administrator\\AppData\\Local\\Temp\\2\\ipykernel_148632\\3035623616.py:35: FutureWarning: The frame.append method is deprecated and will be removed from pandas in a future version. Use pandas.concat instead.\n",
      "  df=df.append(df1, ignore_index = True)\n",
      "\r",
      " 25%|███████████████████▎                                                          | 172/695 [29:02<1:27:00,  9.98s/it]"
     ]
    },
    {
     "name": "stdout",
     "output_type": "stream",
     "text": [
      "['Computer & Büro', 'Notebooks & Zubehör', 'Notebooks']\n",
      "seller not found\n",
      "image not found\n",
      "************************\n",
      "172\n",
      "https://www.mediamarkt.de/de/product/-2872364.html\n"
     ]
    },
    {
     "name": "stderr",
     "output_type": "stream",
     "text": [
      "C:\\Users\\Administrator\\AppData\\Local\\Temp\\2\\ipykernel_148632\\3035623616.py:35: FutureWarning: The frame.append method is deprecated and will be removed from pandas in a future version. Use pandas.concat instead.\n",
      "  df=df.append(df1, ignore_index = True)\n",
      "\r",
      " 25%|███████████████████▍                                                          | 173/695 [29:17<1:37:38, 11.22s/it]"
     ]
    },
    {
     "name": "stdout",
     "output_type": "stream",
     "text": [
      "['Computer & Büro', 'Notebooks & Zubehör', 'Notebooks']\n",
      "seller not found\n",
      "https://assets.mmsrg.com/isr/166325/c1/-/ASSET_MMS_104783143?x=480&y=334&format=jpg&quality=80&sp=yes&strip=yes&trim&ex=480&ey=334&align=center&resizesource&unsharp=1.5x1+0.7+0.02&cox=0&coy=0&cdx=480&cdy=334\n",
      "************************\n",
      "173\n",
      "https://www.mediamarkt.de/de/product/-107101452.html\n"
     ]
    },
    {
     "name": "stderr",
     "output_type": "stream",
     "text": [
      "C:\\Users\\Administrator\\AppData\\Local\\Temp\\2\\ipykernel_148632\\3035623616.py:35: FutureWarning: The frame.append method is deprecated and will be removed from pandas in a future version. Use pandas.concat instead.\n",
      "  df=df.append(df1, ignore_index = True)\n",
      "\r",
      " 25%|███████████████████▌                                                          | 174/695 [29:26<1:33:55, 10.82s/it]"
     ]
    },
    {
     "name": "stdout",
     "output_type": "stream",
     "text": [
      "['Computer & Büro', 'Notebooks & Zubehör', 'Notebooks']\n",
      "tease solutions GmbH\n",
      "https://assets.mmsrg.com/isr/166325/c1/-/ASSET_MP_107101454?x=480&y=334&format=jpg&quality=80&sp=yes&strip=yes&trim&ex=480&ey=334&align=center&resizesource&unsharp=1.5x1+0.7+0.02&cox=0&coy=0&cdx=480&cdy=334\n",
      "************************\n",
      "174\n",
      "https://www.mediamarkt.de/de/product/-106080850.html\n"
     ]
    },
    {
     "name": "stderr",
     "output_type": "stream",
     "text": [
      "C:\\Users\\Administrator\\AppData\\Local\\Temp\\2\\ipykernel_148632\\3035623616.py:35: FutureWarning: The frame.append method is deprecated and will be removed from pandas in a future version. Use pandas.concat instead.\n",
      "  df=df.append(df1, ignore_index = True)\n",
      "\r",
      " 25%|███████████████████▋                                                          | 175/695 [29:35<1:29:10, 10.29s/it]"
     ]
    },
    {
     "name": "stdout",
     "output_type": "stream",
     "text": [
      "['Computer & Büro', 'Notebooks & Zubehör', 'Notebooks']\n",
      "Memory PC\n",
      "https://assets.mmsrg.com/isr/166325/c1/-/ASSET_MP_105655140?x=480&y=334&format=jpg&quality=80&sp=yes&strip=yes&trim&ex=480&ey=334&align=center&resizesource&unsharp=1.5x1+0.7+0.02&cox=0&coy=0&cdx=480&cdy=334\n",
      "************************\n",
      "175\n",
      "https://www.mediamarkt.de/de/product/-2787688.html\n"
     ]
    },
    {
     "name": "stderr",
     "output_type": "stream",
     "text": [
      "C:\\Users\\Administrator\\AppData\\Local\\Temp\\2\\ipykernel_148632\\3035623616.py:35: FutureWarning: The frame.append method is deprecated and will be removed from pandas in a future version. Use pandas.concat instead.\n",
      "  df=df.append(df1, ignore_index = True)\n",
      "\r",
      " 25%|███████████████████▊                                                          | 176/695 [29:47<1:32:19, 10.67s/it]"
     ]
    },
    {
     "name": "stdout",
     "output_type": "stream",
     "text": [
      "['Computer & Büro', 'Notebooks & Zubehör', 'Notebooks']\n",
      "seller not found\n",
      "https://assets.mmsrg.com/isr/166325/c1/-/ASSET_MMS_93029510?x=480&y=334&format=jpg&quality=80&sp=yes&strip=yes&trim&ex=480&ey=334&align=center&resizesource&unsharp=1.5x1+0.7+0.02&cox=0&coy=0&cdx=480&cdy=334\n",
      "************************\n",
      "176\n",
      "https://www.mediamarkt.de/de/product/-91691457.html\n"
     ]
    },
    {
     "name": "stderr",
     "output_type": "stream",
     "text": [
      "C:\\Users\\Administrator\\AppData\\Local\\Temp\\2\\ipykernel_148632\\3035623616.py:35: FutureWarning: The frame.append method is deprecated and will be removed from pandas in a future version. Use pandas.concat instead.\n",
      "  df=df.append(df1, ignore_index = True)\n",
      "\r",
      " 25%|███████████████████▊                                                          | 177/695 [29:56<1:27:12, 10.10s/it]"
     ]
    },
    {
     "name": "stdout",
     "output_type": "stream",
     "text": [
      "['Computer & Büro', 'Notebooks & Zubehör', 'Notebooks']\n",
      "Memory PC\n",
      "image not found\n",
      "************************\n",
      "177\n",
      "https://www.mediamarkt.de/de/product/-106130296.html\n"
     ]
    },
    {
     "name": "stderr",
     "output_type": "stream",
     "text": [
      "C:\\Users\\Administrator\\AppData\\Local\\Temp\\2\\ipykernel_148632\\3035623616.py:35: FutureWarning: The frame.append method is deprecated and will be removed from pandas in a future version. Use pandas.concat instead.\n",
      "  df=df.append(df1, ignore_index = True)\n",
      "\r",
      " 26%|███████████████████▉                                                          | 178/695 [30:03<1:18:34,  9.12s/it]"
     ]
    },
    {
     "name": "stdout",
     "output_type": "stream",
     "text": [
      "['Computer & Büro', 'Notebooks & Zubehör', 'Notebooks']\n",
      "IT-tradeport GmbH\n",
      "https://assets.mmsrg.com/isr/166325/c1/-/ASSET_MP_107499769?x=480&y=334&format=jpg&quality=80&sp=yes&strip=yes&trim&ex=480&ey=334&align=center&resizesource&unsharp=1.5x1+0.7+0.02&cox=0&coy=0&cdx=480&cdy=334\n",
      "************************\n",
      "178\n",
      "https://www.mediamarkt.de/de/product/-106130291.html\n"
     ]
    },
    {
     "name": "stderr",
     "output_type": "stream",
     "text": [
      "C:\\Users\\Administrator\\AppData\\Local\\Temp\\2\\ipykernel_148632\\3035623616.py:35: FutureWarning: The frame.append method is deprecated and will be removed from pandas in a future version. Use pandas.concat instead.\n",
      "  df=df.append(df1, ignore_index = True)\n",
      "\r",
      " 26%|████████████████████                                                          | 179/695 [30:11<1:17:24,  9.00s/it]"
     ]
    },
    {
     "name": "stdout",
     "output_type": "stream",
     "text": [
      "['Computer & Büro', 'Notebooks & Zubehör', 'Notebooks']\n",
      "IT-tradeport GmbH\n",
      "image not found\n",
      "************************\n",
      "179\n",
      "https://www.mediamarkt.de/de/product/-91691525.html\n"
     ]
    },
    {
     "name": "stderr",
     "output_type": "stream",
     "text": [
      "C:\\Users\\Administrator\\AppData\\Local\\Temp\\2\\ipykernel_148632\\3035623616.py:35: FutureWarning: The frame.append method is deprecated and will be removed from pandas in a future version. Use pandas.concat instead.\n",
      "  df=df.append(df1, ignore_index = True)\n",
      "\r",
      " 26%|████████████████████▏                                                         | 180/695 [30:22<1:20:25,  9.37s/it]"
     ]
    },
    {
     "name": "stdout",
     "output_type": "stream",
     "text": [
      "['Computer & Büro', 'Notebooks & Zubehör', 'Notebooks']\n",
      "Memory PC\n",
      "https://assets.mmsrg.com/isr/166325/c1/-/ASSET_MP_91691534?x=480&y=334&format=jpg&quality=80&sp=yes&strip=yes&trim&ex=480&ey=334&align=center&resizesource&unsharp=1.5x1+0.7+0.02&cox=0&coy=0&cdx=480&cdy=334\n",
      "************************\n",
      "180\n",
      "https://www.mediamarkt.de/de/product/-106130299.html\n"
     ]
    },
    {
     "name": "stderr",
     "output_type": "stream",
     "text": [
      "C:\\Users\\Administrator\\AppData\\Local\\Temp\\2\\ipykernel_148632\\3035623616.py:35: FutureWarning: The frame.append method is deprecated and will be removed from pandas in a future version. Use pandas.concat instead.\n",
      "  df=df.append(df1, ignore_index = True)\n",
      "\r",
      " 26%|████████████████████▎                                                         | 181/695 [30:30<1:18:58,  9.22s/it]"
     ]
    },
    {
     "name": "stdout",
     "output_type": "stream",
     "text": [
      "['Computer & Büro', 'Notebooks & Zubehör', 'Notebooks']\n",
      "IT-tradeport GmbH\n",
      "https://assets.mmsrg.com/isr/166325/c1/-/ASSET_MP_107499769?x=480&y=334&format=jpg&quality=80&sp=yes&strip=yes&trim&ex=480&ey=334&align=center&resizesource&unsharp=1.5x1+0.7+0.02&cox=0&coy=0&cdx=480&cdy=334\n",
      "************************\n",
      "181\n",
      "https://www.mediamarkt.de/de/product/-2834778.html\n"
     ]
    },
    {
     "name": "stderr",
     "output_type": "stream",
     "text": [
      "C:\\Users\\Administrator\\AppData\\Local\\Temp\\2\\ipykernel_148632\\3035623616.py:35: FutureWarning: The frame.append method is deprecated and will be removed from pandas in a future version. Use pandas.concat instead.\n",
      "  df=df.append(df1, ignore_index = True)\n",
      "\r",
      " 26%|████████████████████▍                                                         | 182/695 [30:48<1:39:15, 11.61s/it]"
     ]
    },
    {
     "name": "stdout",
     "output_type": "stream",
     "text": [
      "['Computer & Büro', 'Notebooks & Zubehör', 'Notebooks']\n",
      "seller not found\n",
      "https://assets.mmsrg.com/isr/166325/c1/-/ASSET_MMS_98896087?x=480&y=334&format=jpg&quality=80&sp=yes&strip=yes&trim&ex=480&ey=334&align=center&resizesource&unsharp=1.5x1+0.7+0.02&cox=0&coy=0&cdx=480&cdy=334\n",
      "************************\n",
      "182\n",
      "https://www.mediamarkt.de/de/product/-2834798.html\n"
     ]
    },
    {
     "name": "stderr",
     "output_type": "stream",
     "text": [
      "C:\\Users\\Administrator\\AppData\\Local\\Temp\\2\\ipykernel_148632\\3035623616.py:35: FutureWarning: The frame.append method is deprecated and will be removed from pandas in a future version. Use pandas.concat instead.\n",
      "  df=df.append(df1, ignore_index = True)\n",
      "\r",
      " 26%|████████████████████▌                                                         | 183/695 [30:57<1:33:40, 10.98s/it]"
     ]
    },
    {
     "name": "stdout",
     "output_type": "stream",
     "text": [
      "['Computer & Büro', 'Notebooks & Zubehör', 'Gaming-Notebooks']\n",
      "seller not found\n",
      "https://assets.mmsrg.com/isr/166325/c1/-/ASSET_MMS_98922725?x=480&y=334&format=jpg&quality=80&sp=yes&strip=yes&trim&ex=480&ey=334&align=center&resizesource&unsharp=1.5x1+0.7+0.02&cox=0&coy=0&cdx=480&cdy=334\n",
      "************************\n",
      "183\n",
      "https://www.mediamarkt.de/de/product/-2834789.html\n"
     ]
    },
    {
     "name": "stderr",
     "output_type": "stream",
     "text": [
      "C:\\Users\\Administrator\\AppData\\Local\\Temp\\2\\ipykernel_148632\\3035623616.py:35: FutureWarning: The frame.append method is deprecated and will be removed from pandas in a future version. Use pandas.concat instead.\n",
      "  df=df.append(df1, ignore_index = True)\n",
      "\r",
      " 26%|████████████████████▋                                                         | 184/695 [31:11<1:41:55, 11.97s/it]"
     ]
    },
    {
     "name": "stdout",
     "output_type": "stream",
     "text": [
      "['Computer & Büro', 'Notebooks & Zubehör', 'Gaming-Notebooks']\n",
      "seller not found\n",
      "https://assets.mmsrg.com/isr/166325/c1/-/ASSET_MMS_97773535?x=480&y=334&format=jpg&quality=80&sp=yes&strip=yes&trim&ex=480&ey=334&align=center&resizesource&unsharp=1.5x1+0.7+0.02&cox=0&coy=0&cdx=480&cdy=334\n",
      "************************\n",
      "184\n",
      "https://www.mediamarkt.de/de/product/-2826648.html\n"
     ]
    },
    {
     "name": "stderr",
     "output_type": "stream",
     "text": [
      "C:\\Users\\Administrator\\AppData\\Local\\Temp\\2\\ipykernel_148632\\3035623616.py:35: FutureWarning: The frame.append method is deprecated and will be removed from pandas in a future version. Use pandas.concat instead.\n",
      "  df=df.append(df1, ignore_index = True)\n",
      "\r",
      " 27%|████████████████████▊                                                         | 185/695 [31:23<1:41:46, 11.97s/it]"
     ]
    },
    {
     "name": "stdout",
     "output_type": "stream",
     "text": [
      "['Computer & Büro', 'Notebooks & Zubehör', 'Gaming-Notebooks']\n",
      "seller not found\n",
      "https://assets.mmsrg.com/isr/166325/c1/-/ASSET_MMS_98638025?x=480&y=334&format=jpg&quality=80&sp=yes&strip=yes&trim&ex=480&ey=334&align=center&resizesource&unsharp=1.5x1+0.7+0.02&cox=0&coy=0&cdx=480&cdy=334\n",
      "************************\n",
      "185\n",
      "https://www.mediamarkt.de/de/product/-2814343.html\n"
     ]
    },
    {
     "name": "stderr",
     "output_type": "stream",
     "text": [
      "C:\\Users\\Administrator\\AppData\\Local\\Temp\\2\\ipykernel_148632\\3035623616.py:35: FutureWarning: The frame.append method is deprecated and will be removed from pandas in a future version. Use pandas.concat instead.\n",
      "  df=df.append(df1, ignore_index = True)\n",
      "\r",
      " 27%|████████████████████▊                                                         | 186/695 [31:36<1:43:17, 12.18s/it]"
     ]
    },
    {
     "name": "stdout",
     "output_type": "stream",
     "text": [
      "['Computer & Büro', 'Notebooks & Zubehör', 'Gaming-Notebooks']\n",
      "seller not found\n",
      "https://assets.mmsrg.com/isr/166325/c1/-/ASSET_MMS_94878327?x=480&y=334&format=jpg&quality=80&sp=yes&strip=yes&trim&ex=480&ey=334&align=center&resizesource&unsharp=1.5x1+0.7+0.02&cox=0&coy=0&cdx=480&cdy=334\n",
      "************************\n",
      "186\n",
      "https://www.mediamarkt.de/de/product/-2827138.html\n"
     ]
    },
    {
     "name": "stderr",
     "output_type": "stream",
     "text": [
      "C:\\Users\\Administrator\\AppData\\Local\\Temp\\2\\ipykernel_148632\\3035623616.py:35: FutureWarning: The frame.append method is deprecated and will be removed from pandas in a future version. Use pandas.concat instead.\n",
      "  df=df.append(df1, ignore_index = True)\n",
      "\r",
      " 27%|████████████████████▉                                                         | 187/695 [31:47<1:38:54, 11.68s/it]"
     ]
    },
    {
     "name": "stdout",
     "output_type": "stream",
     "text": [
      "['Computer & Büro', 'Notebooks & Zubehör', 'Gaming-Notebooks']\n",
      "seller not found\n",
      "https://assets.mmsrg.com/isr/166325/c1/-/ASSET_MMS_96736190?x=480&y=334&format=jpg&quality=80&sp=yes&strip=yes&trim&ex=480&ey=334&align=center&resizesource&unsharp=1.5x1+0.7+0.02&cox=0&coy=0&cdx=480&cdy=334\n",
      "************************\n",
      "187\n",
      "https://www.mediamarkt.de/de/product/-2826629.html\n"
     ]
    },
    {
     "name": "stderr",
     "output_type": "stream",
     "text": [
      "C:\\Users\\Administrator\\AppData\\Local\\Temp\\2\\ipykernel_148632\\3035623616.py:35: FutureWarning: The frame.append method is deprecated and will be removed from pandas in a future version. Use pandas.concat instead.\n",
      "  df=df.append(df1, ignore_index = True)\n",
      "\r",
      " 27%|█████████████████████                                                         | 188/695 [31:56<1:33:26, 11.06s/it]"
     ]
    },
    {
     "name": "stdout",
     "output_type": "stream",
     "text": [
      "['Computer & Büro', 'Notebooks & Zubehör', 'Gaming-Notebooks']\n",
      "seller not found\n",
      "https://assets.mmsrg.com/isr/166325/c1/-/ASSET_MMS_99439355?x=480&y=334&format=jpg&quality=80&sp=yes&strip=yes&trim&ex=480&ey=334&align=center&resizesource&unsharp=1.5x1+0.7+0.02&cox=0&coy=0&cdx=480&cdy=334\n",
      "************************\n",
      "188\n",
      "https://www.mediamarkt.de/de/product/-2804711.html\n"
     ]
    },
    {
     "name": "stderr",
     "output_type": "stream",
     "text": [
      "C:\\Users\\Administrator\\AppData\\Local\\Temp\\2\\ipykernel_148632\\3035623616.py:35: FutureWarning: The frame.append method is deprecated and will be removed from pandas in a future version. Use pandas.concat instead.\n",
      "  df=df.append(df1, ignore_index = True)\n",
      "\r",
      " 27%|█████████████████████▏                                                        | 189/695 [32:08<1:34:24, 11.19s/it]"
     ]
    },
    {
     "name": "stdout",
     "output_type": "stream",
     "text": [
      "['Computer & Büro', 'Notebooks & Zubehör', 'Gaming-Notebooks']\n",
      "seller not found\n",
      "https://assets.mmsrg.com/isr/166325/c1/-/ASSET_MMS_93639568?x=480&y=334&format=jpg&quality=80&sp=yes&strip=yes&trim&ex=480&ey=334&align=center&resizesource&unsharp=1.5x1+0.7+0.02&cox=0&coy=0&cdx=480&cdy=334\n",
      "************************\n",
      "189\n",
      "https://www.mediamarkt.de/de/product/-2865276.html\n"
     ]
    },
    {
     "name": "stderr",
     "output_type": "stream",
     "text": [
      "C:\\Users\\Administrator\\AppData\\Local\\Temp\\2\\ipykernel_148632\\3035623616.py:35: FutureWarning: The frame.append method is deprecated and will be removed from pandas in a future version. Use pandas.concat instead.\n",
      "  df=df.append(df1, ignore_index = True)\n",
      "\r",
      " 27%|█████████████████████▎                                                        | 190/695 [32:19<1:33:44, 11.14s/it]"
     ]
    },
    {
     "name": "stdout",
     "output_type": "stream",
     "text": [
      "['Computer & Büro', 'Notebooks & Zubehör', 'Gaming-Notebooks']\n",
      "seller not found\n",
      "https://assets.mmsrg.com/isr/166325/c1/-/ASSET_MMS_104597917?x=480&y=334&format=jpg&quality=80&sp=yes&strip=yes&trim&ex=480&ey=334&align=center&resizesource&unsharp=1.5x1+0.7+0.02&cox=0&coy=0&cdx=480&cdy=334\n",
      "************************\n",
      "190\n",
      "https://www.mediamarkt.de/de/product/-2834807.html\n"
     ]
    },
    {
     "name": "stderr",
     "output_type": "stream",
     "text": [
      "C:\\Users\\Administrator\\AppData\\Local\\Temp\\2\\ipykernel_148632\\3035623616.py:35: FutureWarning: The frame.append method is deprecated and will be removed from pandas in a future version. Use pandas.concat instead.\n",
      "  df=df.append(df1, ignore_index = True)\n",
      "\r",
      " 27%|█████████████████████▍                                                        | 191/695 [32:40<2:00:13, 14.31s/it]"
     ]
    },
    {
     "name": "stdout",
     "output_type": "stream",
     "text": [
      "['Computer & Büro', 'Notebooks & Zubehör', 'Gaming-Notebooks']\n",
      "seller not found\n",
      "image not found\n",
      "************************\n",
      "191\n",
      "https://www.mediamarkt.de/de/product/-103753396.html\n"
     ]
    },
    {
     "name": "stderr",
     "output_type": "stream",
     "text": [
      "C:\\Users\\Administrator\\AppData\\Local\\Temp\\2\\ipykernel_148632\\3035623616.py:35: FutureWarning: The frame.append method is deprecated and will be removed from pandas in a future version. Use pandas.concat instead.\n",
      "  df=df.append(df1, ignore_index = True)\n",
      "\r",
      " 28%|█████████████████████▌                                                        | 192/695 [32:49<1:45:04, 12.53s/it]"
     ]
    },
    {
     "name": "stdout",
     "output_type": "stream",
     "text": [
      "['Computer & Büro', 'Notebooks & Zubehör', 'Notebooks']\n",
      "tease solutions GmbH\n",
      "image not found\n",
      "************************\n",
      "192\n",
      "https://www.mediamarkt.de/de/product/-2864610.html\n"
     ]
    },
    {
     "name": "stderr",
     "output_type": "stream",
     "text": [
      " 28%|█████████████████████▌                                                        | 192/695 [33:01<1:26:30, 10.32s/it]\n"
     ]
    },
    {
     "ename": "KeyboardInterrupt",
     "evalue": "",
     "output_type": "error",
     "traceback": [
      "\u001b[1;31m---------------------------------------------------------------------------\u001b[0m",
      "\u001b[1;31mKeyboardInterrupt\u001b[0m                         Traceback (most recent call last)",
      "Cell \u001b[1;32mIn[53], line 8\u001b[0m\n\u001b[0;32m      6\u001b[0m \u001b[38;5;28mprint\u001b[39m(i)\n\u001b[0;32m      7\u001b[0m \u001b[38;5;28mprint\u001b[39m(url)\n\u001b[1;32m----> 8\u001b[0m \u001b[43mdriver\u001b[49m\u001b[38;5;241;43m.\u001b[39;49m\u001b[43mget\u001b[49m\u001b[43m(\u001b[49m\u001b[43murl\u001b[49m\u001b[43m)\u001b[49m\n\u001b[0;32m      9\u001b[0m first_image\u001b[38;5;241m=\u001b[39m\u001b[38;5;124m'\u001b[39m\u001b[38;5;124m'\u001b[39m\n\u001b[0;32m     10\u001b[0m bs\u001b[38;5;241m=\u001b[39mBeautifulSoup(driver\u001b[38;5;241m.\u001b[39mpage_source,\u001b[38;5;124m'\u001b[39m\u001b[38;5;124mhtml.parser\u001b[39m\u001b[38;5;124m'\u001b[39m)\n",
      "File \u001b[1;32m~\\anaconda3\\lib\\site-packages\\selenium\\webdriver\\remote\\webdriver.py:449\u001b[0m, in \u001b[0;36mWebDriver.get\u001b[1;34m(self, url)\u001b[0m\n\u001b[0;32m    447\u001b[0m \u001b[38;5;28;01mdef\u001b[39;00m \u001b[38;5;21mget\u001b[39m(\u001b[38;5;28mself\u001b[39m, url: \u001b[38;5;28mstr\u001b[39m) \u001b[38;5;241m-\u001b[39m\u001b[38;5;241m>\u001b[39m \u001b[38;5;28;01mNone\u001b[39;00m:\n\u001b[0;32m    448\u001b[0m     \u001b[38;5;124;03m\"\"\"Loads a web page in the current browser session.\"\"\"\u001b[39;00m\n\u001b[1;32m--> 449\u001b[0m     \u001b[38;5;28;43mself\u001b[39;49m\u001b[38;5;241;43m.\u001b[39;49m\u001b[43mexecute\u001b[49m\u001b[43m(\u001b[49m\u001b[43mCommand\u001b[49m\u001b[38;5;241;43m.\u001b[39;49m\u001b[43mGET\u001b[49m\u001b[43m,\u001b[49m\u001b[43m \u001b[49m\u001b[43m{\u001b[49m\u001b[38;5;124;43m\"\u001b[39;49m\u001b[38;5;124;43murl\u001b[39;49m\u001b[38;5;124;43m\"\u001b[39;49m\u001b[43m:\u001b[49m\u001b[43m \u001b[49m\u001b[43murl\u001b[49m\u001b[43m}\u001b[49m\u001b[43m)\u001b[49m\n",
      "File \u001b[1;32m~\\anaconda3\\lib\\site-packages\\selenium\\webdriver\\remote\\webdriver.py:438\u001b[0m, in \u001b[0;36mWebDriver.execute\u001b[1;34m(self, driver_command, params)\u001b[0m\n\u001b[0;32m    435\u001b[0m     \u001b[38;5;28;01melif\u001b[39;00m \u001b[38;5;124m\"\u001b[39m\u001b[38;5;124msessionId\u001b[39m\u001b[38;5;124m\"\u001b[39m \u001b[38;5;129;01mnot\u001b[39;00m \u001b[38;5;129;01min\u001b[39;00m params:\n\u001b[0;32m    436\u001b[0m         params[\u001b[38;5;124m\"\u001b[39m\u001b[38;5;124msessionId\u001b[39m\u001b[38;5;124m\"\u001b[39m] \u001b[38;5;241m=\u001b[39m \u001b[38;5;28mself\u001b[39m\u001b[38;5;241m.\u001b[39msession_id\n\u001b[1;32m--> 438\u001b[0m response \u001b[38;5;241m=\u001b[39m \u001b[38;5;28;43mself\u001b[39;49m\u001b[38;5;241;43m.\u001b[39;49m\u001b[43mcommand_executor\u001b[49m\u001b[38;5;241;43m.\u001b[39;49m\u001b[43mexecute\u001b[49m\u001b[43m(\u001b[49m\u001b[43mdriver_command\u001b[49m\u001b[43m,\u001b[49m\u001b[43m \u001b[49m\u001b[43mparams\u001b[49m\u001b[43m)\u001b[49m\n\u001b[0;32m    439\u001b[0m \u001b[38;5;28;01mif\u001b[39;00m response:\n\u001b[0;32m    440\u001b[0m     \u001b[38;5;28mself\u001b[39m\u001b[38;5;241m.\u001b[39merror_handler\u001b[38;5;241m.\u001b[39mcheck_response(response)\n",
      "File \u001b[1;32m~\\anaconda3\\lib\\site-packages\\selenium\\webdriver\\remote\\remote_connection.py:290\u001b[0m, in \u001b[0;36mRemoteConnection.execute\u001b[1;34m(self, command, params)\u001b[0m\n\u001b[0;32m    288\u001b[0m data \u001b[38;5;241m=\u001b[39m utils\u001b[38;5;241m.\u001b[39mdump_json(params)\n\u001b[0;32m    289\u001b[0m url \u001b[38;5;241m=\u001b[39m \u001b[38;5;124mf\u001b[39m\u001b[38;5;124m\"\u001b[39m\u001b[38;5;132;01m{\u001b[39;00m\u001b[38;5;28mself\u001b[39m\u001b[38;5;241m.\u001b[39m_url\u001b[38;5;132;01m}\u001b[39;00m\u001b[38;5;132;01m{\u001b[39;00mpath\u001b[38;5;132;01m}\u001b[39;00m\u001b[38;5;124m\"\u001b[39m\n\u001b[1;32m--> 290\u001b[0m \u001b[38;5;28;01mreturn\u001b[39;00m \u001b[38;5;28;43mself\u001b[39;49m\u001b[38;5;241;43m.\u001b[39;49m\u001b[43m_request\u001b[49m\u001b[43m(\u001b[49m\u001b[43mcommand_info\u001b[49m\u001b[43m[\u001b[49m\u001b[38;5;241;43m0\u001b[39;49m\u001b[43m]\u001b[49m\u001b[43m,\u001b[49m\u001b[43m \u001b[49m\u001b[43murl\u001b[49m\u001b[43m,\u001b[49m\u001b[43m \u001b[49m\u001b[43mbody\u001b[49m\u001b[38;5;241;43m=\u001b[39;49m\u001b[43mdata\u001b[49m\u001b[43m)\u001b[49m\n",
      "File \u001b[1;32m~\\anaconda3\\lib\\site-packages\\selenium\\webdriver\\remote\\remote_connection.py:311\u001b[0m, in \u001b[0;36mRemoteConnection._request\u001b[1;34m(self, method, url, body)\u001b[0m\n\u001b[0;32m    308\u001b[0m     body \u001b[38;5;241m=\u001b[39m \u001b[38;5;28;01mNone\u001b[39;00m\n\u001b[0;32m    310\u001b[0m \u001b[38;5;28;01mif\u001b[39;00m \u001b[38;5;28mself\u001b[39m\u001b[38;5;241m.\u001b[39mkeep_alive:\n\u001b[1;32m--> 311\u001b[0m     response \u001b[38;5;241m=\u001b[39m \u001b[38;5;28;43mself\u001b[39;49m\u001b[38;5;241;43m.\u001b[39;49m\u001b[43m_conn\u001b[49m\u001b[38;5;241;43m.\u001b[39;49m\u001b[43mrequest\u001b[49m\u001b[43m(\u001b[49m\u001b[43mmethod\u001b[49m\u001b[43m,\u001b[49m\u001b[43m \u001b[49m\u001b[43murl\u001b[49m\u001b[43m,\u001b[49m\u001b[43m \u001b[49m\u001b[43mbody\u001b[49m\u001b[38;5;241;43m=\u001b[39;49m\u001b[43mbody\u001b[49m\u001b[43m,\u001b[49m\u001b[43m \u001b[49m\u001b[43mheaders\u001b[49m\u001b[38;5;241;43m=\u001b[39;49m\u001b[43mheaders\u001b[49m\u001b[43m)\u001b[49m\n\u001b[0;32m    312\u001b[0m     statuscode \u001b[38;5;241m=\u001b[39m response\u001b[38;5;241m.\u001b[39mstatus\n\u001b[0;32m    313\u001b[0m \u001b[38;5;28;01melse\u001b[39;00m:\n",
      "File \u001b[1;32m~\\anaconda3\\lib\\site-packages\\urllib3\\request.py:78\u001b[0m, in \u001b[0;36mRequestMethods.request\u001b[1;34m(self, method, url, fields, headers, **urlopen_kw)\u001b[0m\n\u001b[0;32m     74\u001b[0m     \u001b[38;5;28;01mreturn\u001b[39;00m \u001b[38;5;28mself\u001b[39m\u001b[38;5;241m.\u001b[39mrequest_encode_url(\n\u001b[0;32m     75\u001b[0m         method, url, fields\u001b[38;5;241m=\u001b[39mfields, headers\u001b[38;5;241m=\u001b[39mheaders, \u001b[38;5;241m*\u001b[39m\u001b[38;5;241m*\u001b[39murlopen_kw\n\u001b[0;32m     76\u001b[0m     )\n\u001b[0;32m     77\u001b[0m \u001b[38;5;28;01melse\u001b[39;00m:\n\u001b[1;32m---> 78\u001b[0m     \u001b[38;5;28;01mreturn\u001b[39;00m \u001b[38;5;28mself\u001b[39m\u001b[38;5;241m.\u001b[39mrequest_encode_body(\n\u001b[0;32m     79\u001b[0m         method, url, fields\u001b[38;5;241m=\u001b[39mfields, headers\u001b[38;5;241m=\u001b[39mheaders, \u001b[38;5;241m*\u001b[39m\u001b[38;5;241m*\u001b[39murlopen_kw\n\u001b[0;32m     80\u001b[0m     )\n",
      "File \u001b[1;32m~\\anaconda3\\lib\\site-packages\\urllib3\\request.py:170\u001b[0m, in \u001b[0;36mRequestMethods.request_encode_body\u001b[1;34m(self, method, url, fields, headers, encode_multipart, multipart_boundary, **urlopen_kw)\u001b[0m\n\u001b[0;32m    167\u001b[0m extra_kw[\u001b[38;5;124m\"\u001b[39m\u001b[38;5;124mheaders\u001b[39m\u001b[38;5;124m\"\u001b[39m]\u001b[38;5;241m.\u001b[39mupdate(headers)\n\u001b[0;32m    168\u001b[0m extra_kw\u001b[38;5;241m.\u001b[39mupdate(urlopen_kw)\n\u001b[1;32m--> 170\u001b[0m \u001b[38;5;28;01mreturn\u001b[39;00m \u001b[38;5;28mself\u001b[39m\u001b[38;5;241m.\u001b[39murlopen(method, url, \u001b[38;5;241m*\u001b[39m\u001b[38;5;241m*\u001b[39mextra_kw)\n",
      "File \u001b[1;32m~\\anaconda3\\lib\\site-packages\\urllib3\\poolmanager.py:376\u001b[0m, in \u001b[0;36mPoolManager.urlopen\u001b[1;34m(self, method, url, redirect, **kw)\u001b[0m\n\u001b[0;32m    374\u001b[0m     response \u001b[38;5;241m=\u001b[39m conn\u001b[38;5;241m.\u001b[39murlopen(method, url, \u001b[38;5;241m*\u001b[39m\u001b[38;5;241m*\u001b[39mkw)\n\u001b[0;32m    375\u001b[0m \u001b[38;5;28;01melse\u001b[39;00m:\n\u001b[1;32m--> 376\u001b[0m     response \u001b[38;5;241m=\u001b[39m conn\u001b[38;5;241m.\u001b[39murlopen(method, u\u001b[38;5;241m.\u001b[39mrequest_uri, \u001b[38;5;241m*\u001b[39m\u001b[38;5;241m*\u001b[39mkw)\n\u001b[0;32m    378\u001b[0m redirect_location \u001b[38;5;241m=\u001b[39m redirect \u001b[38;5;129;01mand\u001b[39;00m response\u001b[38;5;241m.\u001b[39mget_redirect_location()\n\u001b[0;32m    379\u001b[0m \u001b[38;5;28;01mif\u001b[39;00m \u001b[38;5;129;01mnot\u001b[39;00m redirect_location:\n",
      "File \u001b[1;32m~\\anaconda3\\lib\\site-packages\\urllib3\\connectionpool.py:703\u001b[0m, in \u001b[0;36mHTTPConnectionPool.urlopen\u001b[1;34m(self, method, url, body, headers, retries, redirect, assert_same_host, timeout, pool_timeout, release_conn, chunked, body_pos, **response_kw)\u001b[0m\n\u001b[0;32m    700\u001b[0m     \u001b[38;5;28mself\u001b[39m\u001b[38;5;241m.\u001b[39m_prepare_proxy(conn)\n\u001b[0;32m    702\u001b[0m \u001b[38;5;66;03m# Make the request on the httplib connection object.\u001b[39;00m\n\u001b[1;32m--> 703\u001b[0m httplib_response \u001b[38;5;241m=\u001b[39m \u001b[38;5;28;43mself\u001b[39;49m\u001b[38;5;241;43m.\u001b[39;49m\u001b[43m_make_request\u001b[49m\u001b[43m(\u001b[49m\n\u001b[0;32m    704\u001b[0m \u001b[43m    \u001b[49m\u001b[43mconn\u001b[49m\u001b[43m,\u001b[49m\n\u001b[0;32m    705\u001b[0m \u001b[43m    \u001b[49m\u001b[43mmethod\u001b[49m\u001b[43m,\u001b[49m\n\u001b[0;32m    706\u001b[0m \u001b[43m    \u001b[49m\u001b[43murl\u001b[49m\u001b[43m,\u001b[49m\n\u001b[0;32m    707\u001b[0m \u001b[43m    \u001b[49m\u001b[43mtimeout\u001b[49m\u001b[38;5;241;43m=\u001b[39;49m\u001b[43mtimeout_obj\u001b[49m\u001b[43m,\u001b[49m\n\u001b[0;32m    708\u001b[0m \u001b[43m    \u001b[49m\u001b[43mbody\u001b[49m\u001b[38;5;241;43m=\u001b[39;49m\u001b[43mbody\u001b[49m\u001b[43m,\u001b[49m\n\u001b[0;32m    709\u001b[0m \u001b[43m    \u001b[49m\u001b[43mheaders\u001b[49m\u001b[38;5;241;43m=\u001b[39;49m\u001b[43mheaders\u001b[49m\u001b[43m,\u001b[49m\n\u001b[0;32m    710\u001b[0m \u001b[43m    \u001b[49m\u001b[43mchunked\u001b[49m\u001b[38;5;241;43m=\u001b[39;49m\u001b[43mchunked\u001b[49m\u001b[43m,\u001b[49m\n\u001b[0;32m    711\u001b[0m \u001b[43m\u001b[49m\u001b[43m)\u001b[49m\n\u001b[0;32m    713\u001b[0m \u001b[38;5;66;03m# If we're going to release the connection in ``finally:``, then\u001b[39;00m\n\u001b[0;32m    714\u001b[0m \u001b[38;5;66;03m# the response doesn't need to know about the connection. Otherwise\u001b[39;00m\n\u001b[0;32m    715\u001b[0m \u001b[38;5;66;03m# it will also try to release it and we'll have a double-release\u001b[39;00m\n\u001b[0;32m    716\u001b[0m \u001b[38;5;66;03m# mess.\u001b[39;00m\n\u001b[0;32m    717\u001b[0m response_conn \u001b[38;5;241m=\u001b[39m conn \u001b[38;5;28;01mif\u001b[39;00m \u001b[38;5;129;01mnot\u001b[39;00m release_conn \u001b[38;5;28;01melse\u001b[39;00m \u001b[38;5;28;01mNone\u001b[39;00m\n",
      "File \u001b[1;32m~\\anaconda3\\lib\\site-packages\\urllib3\\connectionpool.py:449\u001b[0m, in \u001b[0;36mHTTPConnectionPool._make_request\u001b[1;34m(self, conn, method, url, timeout, chunked, **httplib_request_kw)\u001b[0m\n\u001b[0;32m    444\u001b[0m             httplib_response \u001b[38;5;241m=\u001b[39m conn\u001b[38;5;241m.\u001b[39mgetresponse()\n\u001b[0;32m    445\u001b[0m         \u001b[38;5;28;01mexcept\u001b[39;00m \u001b[38;5;167;01mBaseException\u001b[39;00m \u001b[38;5;28;01mas\u001b[39;00m e:\n\u001b[0;32m    446\u001b[0m             \u001b[38;5;66;03m# Remove the TypeError from the exception chain in\u001b[39;00m\n\u001b[0;32m    447\u001b[0m             \u001b[38;5;66;03m# Python 3 (including for exceptions like SystemExit).\u001b[39;00m\n\u001b[0;32m    448\u001b[0m             \u001b[38;5;66;03m# Otherwise it looks like a bug in the code.\u001b[39;00m\n\u001b[1;32m--> 449\u001b[0m             \u001b[43msix\u001b[49m\u001b[38;5;241;43m.\u001b[39;49m\u001b[43mraise_from\u001b[49m\u001b[43m(\u001b[49m\u001b[43me\u001b[49m\u001b[43m,\u001b[49m\u001b[43m \u001b[49m\u001b[38;5;28;43;01mNone\u001b[39;49;00m\u001b[43m)\u001b[49m\n\u001b[0;32m    450\u001b[0m \u001b[38;5;28;01mexcept\u001b[39;00m (SocketTimeout, BaseSSLError, SocketError) \u001b[38;5;28;01mas\u001b[39;00m e:\n\u001b[0;32m    451\u001b[0m     \u001b[38;5;28mself\u001b[39m\u001b[38;5;241m.\u001b[39m_raise_timeout(err\u001b[38;5;241m=\u001b[39me, url\u001b[38;5;241m=\u001b[39murl, timeout_value\u001b[38;5;241m=\u001b[39mread_timeout)\n",
      "File \u001b[1;32m<string>:3\u001b[0m, in \u001b[0;36mraise_from\u001b[1;34m(value, from_value)\u001b[0m\n",
      "File \u001b[1;32m~\\anaconda3\\lib\\site-packages\\urllib3\\connectionpool.py:444\u001b[0m, in \u001b[0;36mHTTPConnectionPool._make_request\u001b[1;34m(self, conn, method, url, timeout, chunked, **httplib_request_kw)\u001b[0m\n\u001b[0;32m    441\u001b[0m \u001b[38;5;28;01mexcept\u001b[39;00m \u001b[38;5;167;01mTypeError\u001b[39;00m:\n\u001b[0;32m    442\u001b[0m     \u001b[38;5;66;03m# Python 3\u001b[39;00m\n\u001b[0;32m    443\u001b[0m     \u001b[38;5;28;01mtry\u001b[39;00m:\n\u001b[1;32m--> 444\u001b[0m         httplib_response \u001b[38;5;241m=\u001b[39m \u001b[43mconn\u001b[49m\u001b[38;5;241;43m.\u001b[39;49m\u001b[43mgetresponse\u001b[49m\u001b[43m(\u001b[49m\u001b[43m)\u001b[49m\n\u001b[0;32m    445\u001b[0m     \u001b[38;5;28;01mexcept\u001b[39;00m \u001b[38;5;167;01mBaseException\u001b[39;00m \u001b[38;5;28;01mas\u001b[39;00m e:\n\u001b[0;32m    446\u001b[0m         \u001b[38;5;66;03m# Remove the TypeError from the exception chain in\u001b[39;00m\n\u001b[0;32m    447\u001b[0m         \u001b[38;5;66;03m# Python 3 (including for exceptions like SystemExit).\u001b[39;00m\n\u001b[0;32m    448\u001b[0m         \u001b[38;5;66;03m# Otherwise it looks like a bug in the code.\u001b[39;00m\n\u001b[0;32m    449\u001b[0m         six\u001b[38;5;241m.\u001b[39mraise_from(e, \u001b[38;5;28;01mNone\u001b[39;00m)\n",
      "File \u001b[1;32m~\\anaconda3\\lib\\http\\client.py:1374\u001b[0m, in \u001b[0;36mHTTPConnection.getresponse\u001b[1;34m(self)\u001b[0m\n\u001b[0;32m   1372\u001b[0m \u001b[38;5;28;01mtry\u001b[39;00m:\n\u001b[0;32m   1373\u001b[0m     \u001b[38;5;28;01mtry\u001b[39;00m:\n\u001b[1;32m-> 1374\u001b[0m         \u001b[43mresponse\u001b[49m\u001b[38;5;241;43m.\u001b[39;49m\u001b[43mbegin\u001b[49m\u001b[43m(\u001b[49m\u001b[43m)\u001b[49m\n\u001b[0;32m   1375\u001b[0m     \u001b[38;5;28;01mexcept\u001b[39;00m \u001b[38;5;167;01mConnectionError\u001b[39;00m:\n\u001b[0;32m   1376\u001b[0m         \u001b[38;5;28mself\u001b[39m\u001b[38;5;241m.\u001b[39mclose()\n",
      "File \u001b[1;32m~\\anaconda3\\lib\\http\\client.py:318\u001b[0m, in \u001b[0;36mHTTPResponse.begin\u001b[1;34m(self)\u001b[0m\n\u001b[0;32m    316\u001b[0m \u001b[38;5;66;03m# read until we get a non-100 response\u001b[39;00m\n\u001b[0;32m    317\u001b[0m \u001b[38;5;28;01mwhile\u001b[39;00m \u001b[38;5;28;01mTrue\u001b[39;00m:\n\u001b[1;32m--> 318\u001b[0m     version, status, reason \u001b[38;5;241m=\u001b[39m \u001b[38;5;28;43mself\u001b[39;49m\u001b[38;5;241;43m.\u001b[39;49m\u001b[43m_read_status\u001b[49m\u001b[43m(\u001b[49m\u001b[43m)\u001b[49m\n\u001b[0;32m    319\u001b[0m     \u001b[38;5;28;01mif\u001b[39;00m status \u001b[38;5;241m!=\u001b[39m CONTINUE:\n\u001b[0;32m    320\u001b[0m         \u001b[38;5;28;01mbreak\u001b[39;00m\n",
      "File \u001b[1;32m~\\anaconda3\\lib\\http\\client.py:279\u001b[0m, in \u001b[0;36mHTTPResponse._read_status\u001b[1;34m(self)\u001b[0m\n\u001b[0;32m    278\u001b[0m \u001b[38;5;28;01mdef\u001b[39;00m \u001b[38;5;21m_read_status\u001b[39m(\u001b[38;5;28mself\u001b[39m):\n\u001b[1;32m--> 279\u001b[0m     line \u001b[38;5;241m=\u001b[39m \u001b[38;5;28mstr\u001b[39m(\u001b[38;5;28;43mself\u001b[39;49m\u001b[38;5;241;43m.\u001b[39;49m\u001b[43mfp\u001b[49m\u001b[38;5;241;43m.\u001b[39;49m\u001b[43mreadline\u001b[49m\u001b[43m(\u001b[49m\u001b[43m_MAXLINE\u001b[49m\u001b[43m \u001b[49m\u001b[38;5;241;43m+\u001b[39;49m\u001b[43m \u001b[49m\u001b[38;5;241;43m1\u001b[39;49m\u001b[43m)\u001b[49m, \u001b[38;5;124m\"\u001b[39m\u001b[38;5;124miso-8859-1\u001b[39m\u001b[38;5;124m\"\u001b[39m)\n\u001b[0;32m    280\u001b[0m     \u001b[38;5;28;01mif\u001b[39;00m \u001b[38;5;28mlen\u001b[39m(line) \u001b[38;5;241m>\u001b[39m _MAXLINE:\n\u001b[0;32m    281\u001b[0m         \u001b[38;5;28;01mraise\u001b[39;00m LineTooLong(\u001b[38;5;124m\"\u001b[39m\u001b[38;5;124mstatus line\u001b[39m\u001b[38;5;124m\"\u001b[39m)\n",
      "File \u001b[1;32m~\\anaconda3\\lib\\socket.py:705\u001b[0m, in \u001b[0;36mSocketIO.readinto\u001b[1;34m(self, b)\u001b[0m\n\u001b[0;32m    703\u001b[0m \u001b[38;5;28;01mwhile\u001b[39;00m \u001b[38;5;28;01mTrue\u001b[39;00m:\n\u001b[0;32m    704\u001b[0m     \u001b[38;5;28;01mtry\u001b[39;00m:\n\u001b[1;32m--> 705\u001b[0m         \u001b[38;5;28;01mreturn\u001b[39;00m \u001b[38;5;28;43mself\u001b[39;49m\u001b[38;5;241;43m.\u001b[39;49m\u001b[43m_sock\u001b[49m\u001b[38;5;241;43m.\u001b[39;49m\u001b[43mrecv_into\u001b[49m\u001b[43m(\u001b[49m\u001b[43mb\u001b[49m\u001b[43m)\u001b[49m\n\u001b[0;32m    706\u001b[0m     \u001b[38;5;28;01mexcept\u001b[39;00m timeout:\n\u001b[0;32m    707\u001b[0m         \u001b[38;5;28mself\u001b[39m\u001b[38;5;241m.\u001b[39m_timeout_occurred \u001b[38;5;241m=\u001b[39m \u001b[38;5;28;01mTrue\u001b[39;00m\n",
      "\u001b[1;31mKeyboardInterrupt\u001b[0m: "
     ]
    }
   ],
   "source": [
    "for i in tqdm(range(0,len(asinlist))):\n",
    "    sku=asinlist[i]\n",
    "    url=\"https://www.mediamarkt.de/de/product/-{}.html\".format(sku)\n",
    "    \n",
    "    print('************************')\n",
    "    print(i)\n",
    "    print(url)\n",
    "    driver.get(url)\n",
    "    first_image=''\n",
    "    bs=BeautifulSoup(driver.page_source,'html.parser')\n",
    "    cat=[]\n",
    "    try:\n",
    "        element = driver.find_elements(By.XPATH, \"//ol[@class='Breadcrumb-styled__StyledList-sc-57676b39-1 cXCHDb']//li\")\n",
    "        cat=[element[e].text for e in range(1,len(element))] \n",
    "        print(cat)\n",
    "    except:\n",
    "         print('cat not  found')\n",
    "    \n",
    "    try:\n",
    "        element = driver.find_element(By.XPATH, \"//a[@class='Link-styled__StyledLinkRouter-sc-db43135e-1 ccrLTq']\")\n",
    "        seller_info=element.text.strip()\n",
    "        print(seller_info)\n",
    "    except:\n",
    "        print('seller not found')\n",
    "    \n",
    "    try:\n",
    "        image = bs.find('li',class_=\"sc-hAQmFe iGozss\")\n",
    "        first_image=image.find('img').get('src')\n",
    "        print(first_image)\n",
    "    except:\n",
    "        print('image not found')\n",
    "    \n",
    "        \n",
    "    df1={'channel_sku_id': sku, 'categories': cat, 'first_image':first_image, 'seller_info':seller_info}\n",
    "    df=df.append(df1, ignore_index = True)"
   ]
  },
  {
   "cell_type": "code",
   "execution_count": 54,
   "id": "920e1703",
   "metadata": {},
   "outputs": [
    {
     "data": {
      "text/html": [
       "<div>\n",
       "<style scoped>\n",
       "    .dataframe tbody tr th:only-of-type {\n",
       "        vertical-align: middle;\n",
       "    }\n",
       "\n",
       "    .dataframe tbody tr th {\n",
       "        vertical-align: top;\n",
       "    }\n",
       "\n",
       "    .dataframe thead th {\n",
       "        text-align: right;\n",
       "    }\n",
       "</style>\n",
       "<table border=\"1\" class=\"dataframe\">\n",
       "  <thead>\n",
       "    <tr style=\"text-align: right;\">\n",
       "      <th></th>\n",
       "      <th>channel_sku_id</th>\n",
       "      <th>categories</th>\n",
       "      <th>seller_info</th>\n",
       "      <th>first_image</th>\n",
       "    </tr>\n",
       "  </thead>\n",
       "  <tbody>\n",
       "    <tr>\n",
       "      <th>0</th>\n",
       "      <td>2835388</td>\n",
       "      <td>[Computer &amp; Büro, Komponenten, Mainboards, Mai...</td>\n",
       "      <td>tease solutions GmbH</td>\n",
       "      <td>https://assets.mmsrg.com/isr/166325/c1/-/ASSET...</td>\n",
       "    </tr>\n",
       "    <tr>\n",
       "      <th>1</th>\n",
       "      <td>107478170</td>\n",
       "      <td>[Computer &amp; Büro, PCs &amp; Zubehör, Mini PCs]</td>\n",
       "      <td>Cybernerds</td>\n",
       "      <td>https://assets.mmsrg.com/isr/166325/c1/-/ASSET...</td>\n",
       "    </tr>\n",
       "    <tr>\n",
       "      <th>2</th>\n",
       "      <td>114100818</td>\n",
       "      <td>[Computer &amp; Büro, Notebooks &amp; Zubehör, Notebooks]</td>\n",
       "      <td>Cybernerds</td>\n",
       "      <td></td>\n",
       "    </tr>\n",
       "    <tr>\n",
       "      <th>3</th>\n",
       "      <td>107477993</td>\n",
       "      <td>[Computer &amp; Büro, PCs &amp; Zubehör, Mini PCs]</td>\n",
       "      <td>Cybernerds</td>\n",
       "      <td></td>\n",
       "    </tr>\n",
       "    <tr>\n",
       "      <th>4</th>\n",
       "      <td>108089759</td>\n",
       "      <td>[Computer &amp; Büro, Notebooks &amp; Zubehör, Notebooks]</td>\n",
       "      <td>Cybernerds</td>\n",
       "      <td>https://assets.mmsrg.com/isr/166325/c1/-/ASSET...</td>\n",
       "    </tr>\n",
       "    <tr>\n",
       "      <th>...</th>\n",
       "      <td>...</td>\n",
       "      <td>...</td>\n",
       "      <td>...</td>\n",
       "      <td>...</td>\n",
       "    </tr>\n",
       "    <tr>\n",
       "      <th>187</th>\n",
       "      <td>2826629</td>\n",
       "      <td>[Computer &amp; Büro, Notebooks &amp; Zubehör, Gaming-...</td>\n",
       "      <td>IT-tradeport GmbH</td>\n",
       "      <td>https://assets.mmsrg.com/isr/166325/c1/-/ASSET...</td>\n",
       "    </tr>\n",
       "    <tr>\n",
       "      <th>188</th>\n",
       "      <td>2804711</td>\n",
       "      <td>[Computer &amp; Büro, Notebooks &amp; Zubehör, Gaming-...</td>\n",
       "      <td>IT-tradeport GmbH</td>\n",
       "      <td>https://assets.mmsrg.com/isr/166325/c1/-/ASSET...</td>\n",
       "    </tr>\n",
       "    <tr>\n",
       "      <th>189</th>\n",
       "      <td>2865276</td>\n",
       "      <td>[Computer &amp; Büro, Notebooks &amp; Zubehör, Gaming-...</td>\n",
       "      <td>IT-tradeport GmbH</td>\n",
       "      <td>https://assets.mmsrg.com/isr/166325/c1/-/ASSET...</td>\n",
       "    </tr>\n",
       "    <tr>\n",
       "      <th>190</th>\n",
       "      <td>2834807</td>\n",
       "      <td>[Computer &amp; Büro, Notebooks &amp; Zubehör, Gaming-...</td>\n",
       "      <td>IT-tradeport GmbH</td>\n",
       "      <td></td>\n",
       "    </tr>\n",
       "    <tr>\n",
       "      <th>191</th>\n",
       "      <td>103753396</td>\n",
       "      <td>[Computer &amp; Büro, Notebooks &amp; Zubehör, Notebooks]</td>\n",
       "      <td>tease solutions GmbH</td>\n",
       "      <td></td>\n",
       "    </tr>\n",
       "  </tbody>\n",
       "</table>\n",
       "<p>192 rows × 4 columns</p>\n",
       "</div>"
      ],
      "text/plain": [
       "    channel_sku_id                                         categories  \\\n",
       "0          2835388  [Computer & Büro, Komponenten, Mainboards, Mai...   \n",
       "1        107478170         [Computer & Büro, PCs & Zubehör, Mini PCs]   \n",
       "2        114100818  [Computer & Büro, Notebooks & Zubehör, Notebooks]   \n",
       "3        107477993         [Computer & Büro, PCs & Zubehör, Mini PCs]   \n",
       "4        108089759  [Computer & Büro, Notebooks & Zubehör, Notebooks]   \n",
       "..             ...                                                ...   \n",
       "187        2826629  [Computer & Büro, Notebooks & Zubehör, Gaming-...   \n",
       "188        2804711  [Computer & Büro, Notebooks & Zubehör, Gaming-...   \n",
       "189        2865276  [Computer & Büro, Notebooks & Zubehör, Gaming-...   \n",
       "190        2834807  [Computer & Büro, Notebooks & Zubehör, Gaming-...   \n",
       "191      103753396  [Computer & Büro, Notebooks & Zubehör, Notebooks]   \n",
       "\n",
       "              seller_info                                        first_image  \n",
       "0    tease solutions GmbH  https://assets.mmsrg.com/isr/166325/c1/-/ASSET...  \n",
       "1              Cybernerds  https://assets.mmsrg.com/isr/166325/c1/-/ASSET...  \n",
       "2              Cybernerds                                                     \n",
       "3              Cybernerds                                                     \n",
       "4              Cybernerds  https://assets.mmsrg.com/isr/166325/c1/-/ASSET...  \n",
       "..                    ...                                                ...  \n",
       "187     IT-tradeport GmbH  https://assets.mmsrg.com/isr/166325/c1/-/ASSET...  \n",
       "188     IT-tradeport GmbH  https://assets.mmsrg.com/isr/166325/c1/-/ASSET...  \n",
       "189     IT-tradeport GmbH  https://assets.mmsrg.com/isr/166325/c1/-/ASSET...  \n",
       "190     IT-tradeport GmbH                                                     \n",
       "191  tease solutions GmbH                                                     \n",
       "\n",
       "[192 rows x 4 columns]"
      ]
     },
     "execution_count": 54,
     "metadata": {},
     "output_type": "execute_result"
    }
   ],
   "source": [
    "df"
   ]
  },
  {
   "cell_type": "code",
   "execution_count": 55,
   "id": "07eab675",
   "metadata": {},
   "outputs": [],
   "source": [
    "final1=pd.merge(rawdf1,df,left_on='sku', right_on='channel_sku_id', how= 'right')\n",
    "final=final1[['sku','title','brand','categories','first_image']]"
   ]
  },
  {
   "cell_type": "code",
   "execution_count": 56,
   "id": "6c1d4bec",
   "metadata": {},
   "outputs": [
    {
     "data": {
      "text/html": [
       "<div>\n",
       "<style scoped>\n",
       "    .dataframe tbody tr th:only-of-type {\n",
       "        vertical-align: middle;\n",
       "    }\n",
       "\n",
       "    .dataframe tbody tr th {\n",
       "        vertical-align: top;\n",
       "    }\n",
       "\n",
       "    .dataframe thead th {\n",
       "        text-align: right;\n",
       "    }\n",
       "</style>\n",
       "<table border=\"1\" class=\"dataframe\">\n",
       "  <thead>\n",
       "    <tr style=\"text-align: right;\">\n",
       "      <th></th>\n",
       "      <th>sku</th>\n",
       "      <th>title</th>\n",
       "      <th>brand</th>\n",
       "      <th>categories</th>\n",
       "      <th>first_image</th>\n",
       "    </tr>\n",
       "  </thead>\n",
       "  <tbody>\n",
       "    <tr>\n",
       "      <th>0</th>\n",
       "      <td>2835388</td>\n",
       "      <td>ASUS ROG Strix X670E-I Gaming WIFI Motherboard...</td>\n",
       "      <td>ASUS</td>\n",
       "      <td>[Computer &amp; Büro, Komponenten, Mainboards, Mai...</td>\n",
       "      <td>https://assets.mmsrg.com/isr/166325/c1/-/ASSET...</td>\n",
       "    </tr>\n",
       "    <tr>\n",
       "      <th>1</th>\n",
       "      <td>107478170</td>\n",
       "      <td>INTEL NUC Mini-PC, Windows 11 Pro, Mini-PC wit...</td>\n",
       "      <td>INTEL</td>\n",
       "      <td>[Computer &amp; Büro, PCs &amp; Zubehör, Mini PCs]</td>\n",
       "      <td>https://assets.mmsrg.com/isr/166325/c1/-/ASSET...</td>\n",
       "    </tr>\n",
       "    <tr>\n",
       "      <th>2</th>\n",
       "      <td>114100818</td>\n",
       "      <td>LENOVO Intel N4500 | Windows 11 Pro, Notebook ...</td>\n",
       "      <td>LENOVO</td>\n",
       "      <td>[Computer &amp; Büro, Notebooks &amp; Zubehör, Notebooks]</td>\n",
       "      <td></td>\n",
       "    </tr>\n",
       "    <tr>\n",
       "      <th>3</th>\n",
       "      <td>107477993</td>\n",
       "      <td>INTEL NUC Mini-PC, Windows 11 Pro, Mini-PC wit...</td>\n",
       "      <td>INTEL</td>\n",
       "      <td>[Computer &amp; Büro, PCs &amp; Zubehör, Mini PCs]</td>\n",
       "      <td></td>\n",
       "    </tr>\n",
       "    <tr>\n",
       "      <th>4</th>\n",
       "      <td>108089759</td>\n",
       "      <td>LENOVO Intel U300 5x4.40GHz | Win 11 Pro, note...</td>\n",
       "      <td>LENOVO</td>\n",
       "      <td>[Computer &amp; Büro, Notebooks &amp; Zubehör, Notebooks]</td>\n",
       "      <td>https://assets.mmsrg.com/isr/166325/c1/-/ASSET...</td>\n",
       "    </tr>\n",
       "    <tr>\n",
       "      <th>...</th>\n",
       "      <td>...</td>\n",
       "      <td>...</td>\n",
       "      <td>...</td>\n",
       "      <td>...</td>\n",
       "      <td>...</td>\n",
       "    </tr>\n",
       "    <tr>\n",
       "      <th>187</th>\n",
       "      <td>2826629</td>\n",
       "      <td>LENOVO Legion 5i, gaming notebook with 17.3 in...</td>\n",
       "      <td>LENOVO</td>\n",
       "      <td>[Computer &amp; Büro, Notebooks &amp; Zubehör, Gaming-...</td>\n",
       "      <td>https://assets.mmsrg.com/isr/166325/c1/-/ASSET...</td>\n",
       "    </tr>\n",
       "    <tr>\n",
       "      <th>188</th>\n",
       "      <td>2804711</td>\n",
       "      <td>LENOVO Legion 5i Pro, premium gaming notebook ...</td>\n",
       "      <td>LENOVO</td>\n",
       "      <td>[Computer &amp; Büro, Notebooks &amp; Zubehör, Gaming-...</td>\n",
       "      <td>https://assets.mmsrg.com/isr/166325/c1/-/ASSET...</td>\n",
       "    </tr>\n",
       "    <tr>\n",
       "      <th>189</th>\n",
       "      <td>2865276</td>\n",
       "      <td>LENOVO Legion Pro 5, gaming notebook with 16 i...</td>\n",
       "      <td>LENOVO</td>\n",
       "      <td>[Computer &amp; Büro, Notebooks &amp; Zubehör, Gaming-...</td>\n",
       "      <td>https://assets.mmsrg.com/isr/166325/c1/-/ASSET...</td>\n",
       "    </tr>\n",
       "    <tr>\n",
       "      <th>190</th>\n",
       "      <td>2834807</td>\n",
       "      <td>LENOVO Legion 5i, white backlit keyboard, gami...</td>\n",
       "      <td>LENOVO</td>\n",
       "      <td>[Computer &amp; Büro, Notebooks &amp; Zubehör, Gaming-...</td>\n",
       "      <td></td>\n",
       "    </tr>\n",
       "    <tr>\n",
       "      <th>191</th>\n",
       "      <td>103753396</td>\n",
       "      <td>HP ProBook x360 435 G9 AMD Ryzen 7 5825U 33.8 ...</td>\n",
       "      <td>HP</td>\n",
       "      <td>[Computer &amp; Büro, Notebooks &amp; Zubehör, Notebooks]</td>\n",
       "      <td></td>\n",
       "    </tr>\n",
       "  </tbody>\n",
       "</table>\n",
       "<p>192 rows × 5 columns</p>\n",
       "</div>"
      ],
      "text/plain": [
       "           sku                                              title   brand  \\\n",
       "0      2835388  ASUS ROG Strix X670E-I Gaming WIFI Motherboard...    ASUS   \n",
       "1    107478170  INTEL NUC Mini-PC, Windows 11 Pro, Mini-PC wit...   INTEL   \n",
       "2    114100818  LENOVO Intel N4500 | Windows 11 Pro, Notebook ...  LENOVO   \n",
       "3    107477993  INTEL NUC Mini-PC, Windows 11 Pro, Mini-PC wit...   INTEL   \n",
       "4    108089759  LENOVO Intel U300 5x4.40GHz | Win 11 Pro, note...  LENOVO   \n",
       "..         ...                                                ...     ...   \n",
       "187    2826629  LENOVO Legion 5i, gaming notebook with 17.3 in...  LENOVO   \n",
       "188    2804711  LENOVO Legion 5i Pro, premium gaming notebook ...  LENOVO   \n",
       "189    2865276  LENOVO Legion Pro 5, gaming notebook with 16 i...  LENOVO   \n",
       "190    2834807  LENOVO Legion 5i, white backlit keyboard, gami...  LENOVO   \n",
       "191  103753396  HP ProBook x360 435 G9 AMD Ryzen 7 5825U 33.8 ...      HP   \n",
       "\n",
       "                                            categories  \\\n",
       "0    [Computer & Büro, Komponenten, Mainboards, Mai...   \n",
       "1           [Computer & Büro, PCs & Zubehör, Mini PCs]   \n",
       "2    [Computer & Büro, Notebooks & Zubehör, Notebooks]   \n",
       "3           [Computer & Büro, PCs & Zubehör, Mini PCs]   \n",
       "4    [Computer & Büro, Notebooks & Zubehör, Notebooks]   \n",
       "..                                                 ...   \n",
       "187  [Computer & Büro, Notebooks & Zubehör, Gaming-...   \n",
       "188  [Computer & Büro, Notebooks & Zubehör, Gaming-...   \n",
       "189  [Computer & Büro, Notebooks & Zubehör, Gaming-...   \n",
       "190  [Computer & Büro, Notebooks & Zubehör, Gaming-...   \n",
       "191  [Computer & Büro, Notebooks & Zubehör, Notebooks]   \n",
       "\n",
       "                                           first_image  \n",
       "0    https://assets.mmsrg.com/isr/166325/c1/-/ASSET...  \n",
       "1    https://assets.mmsrg.com/isr/166325/c1/-/ASSET...  \n",
       "2                                                       \n",
       "3                                                       \n",
       "4    https://assets.mmsrg.com/isr/166325/c1/-/ASSET...  \n",
       "..                                                 ...  \n",
       "187  https://assets.mmsrg.com/isr/166325/c1/-/ASSET...  \n",
       "188  https://assets.mmsrg.com/isr/166325/c1/-/ASSET...  \n",
       "189  https://assets.mmsrg.com/isr/166325/c1/-/ASSET...  \n",
       "190                                                     \n",
       "191                                                     \n",
       "\n",
       "[192 rows x 5 columns]"
      ]
     },
     "execution_count": 56,
     "metadata": {},
     "output_type": "execute_result"
    }
   ],
   "source": [
    "final"
   ]
  },
  {
   "cell_type": "code",
   "execution_count": null,
   "id": "5c8e1182",
   "metadata": {},
   "outputs": [],
   "source": [
    "final.to_excel(file)"
   ]
  },
  {
   "cell_type": "code",
   "execution_count": null,
   "id": "2ae38432",
   "metadata": {},
   "outputs": [],
   "source": [
    "email_user = 'alerts@1digitalstack.ai'\n",
    "email_password = ''\n",
    "email_send = ['ghansham.pindoriya@1digitalstack.ai','karan.kumar@1digitalstack.ai','arihant.singh@1digitalstack.ai','sambhav.jain@1digitalstack.ai','ankur.dwivedi@1digitalstack.ai','kinshu@1digitalstack.ai']\n",
    "\n",
    "subject = file\n",
    "msg = MIMEMultipart()\n",
    "msg['From'] = email_user\n",
    "#msg['From'] = \"'Abhishek' <{email_user}>\"\n",
    "msg['To'] = ', '.join(email_send)\n",
    "msg['Subject'] = subject\n",
    "\n",
    "body = 'Hi,\\n\\nPFA of today''s mapping request.Please reply as done as you pick this job.'\n",
    "msg.attach(MIMEText(body,'plain'))\n",
    "\n",
    "filename=[file]\n",
    "\n",
    "for file in filename:\n",
    "    attachment  =open(file,'rb')\n",
    "    part = MIMEBase('application','octet-stream')\n",
    "    part.set_payload((attachment).read())\n",
    "    encoders.encode_base64(part)\n",
    "    part.add_header('Content-Disposition',\"attachment; filename= \"+file)\n",
    "    msg.attach(part)\n",
    "    text = msg.as_string()\n",
    "\n",
    "server = smtplib.SMTP('1digitalstack.com',25)\n",
    "#server.login(email_user,email_password)\n",
    "\n",
    "server.sendmail(email_user,email_send,text)\n",
    "server.quit()"
   ]
  }
 ],
 "metadata": {
  "kernelspec": {
   "display_name": "Python 3 (ipykernel)",
   "language": "python",
   "name": "python3"
  },
  "language_info": {
   "codemirror_mode": {
    "name": "ipython",
    "version": 3
   },
   "file_extension": ".py",
   "mimetype": "text/x-python",
   "name": "python",
   "nbconvert_exporter": "python",
   "pygments_lexer": "ipython3",
   "version": "3.10.9"
  }
 },
 "nbformat": 4,
 "nbformat_minor": 5
}
