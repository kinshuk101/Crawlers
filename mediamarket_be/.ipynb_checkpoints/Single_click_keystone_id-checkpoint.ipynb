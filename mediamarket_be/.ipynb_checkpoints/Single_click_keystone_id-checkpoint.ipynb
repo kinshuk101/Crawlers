{
 "cells": [
  {
   "cell_type": "code",
   "execution_count": 1,
   "id": "953a3b5a",
   "metadata": {},
   "outputs": [],
   "source": [
    "import pandas as pd\n",
    "import psycopg2\n",
    "import numpy as np\n",
    "\n",
    "\n",
    "\n",
    "from selenium import webdriver\n",
    "from selenium.webdriver.common.by import By\n",
    "import requests\n",
    "from selenium.webdriver.support.ui import WebDriverWait\n",
    "import selenium.webdriver.support.expected_conditions as EC\n",
    "from selenium.webdriver.chrome.options import Options\n",
    "from selenium.webdriver.chrome.service import Service\n",
    "\n",
    "\n",
    "\n",
    "from tqdm import tqdm\n",
    "tqdm.pandas()\n",
    "import time\n",
    "\n",
    "\n",
    "\n",
    "from bs4 import BeautifulSoup\n",
    "import re\n",
    "\n",
    "import smtplib\n",
    "from email.mime.text import MIMEText\n",
    "from email.mime.multipart import MIMEMultipart\n",
    "from email.mime.base import MIMEBase\n",
    "from email import encoders\n"
   ]
  },
  {
   "cell_type": "code",
   "execution_count": 2,
   "id": "958c063c",
   "metadata": {},
   "outputs": [],
   "source": [
    "s = Service(\"../chromedriver_win32/chromedriver.exe\")"
   ]
  },
  {
   "cell_type": "raw",
   "id": "4b306a9f",
   "metadata": {},
   "source": [
    "scraping category node, seller_info and first image rest of details are in serp"
   ]
  },
  {
   "cell_type": "code",
   "execution_count": 3,
   "id": "87dcfad3",
   "metadata": {},
   "outputs": [
    {
     "name": "stdout",
     "output_type": "stream",
     "text": [
      "{'user': 'postgres', 'channel_binding': 'prefer', 'dbname': 'postgres', 'host': '1.pgsql.db.1digitalstack.com', 'port': '5432', 'options': '', 'sslmode': 'prefer', 'sslcompression': '0', 'sslsni': '1', 'ssl_min_protocol_version': 'TLSv1.2', 'gssencmode': 'disable', 'krbsrvname': 'postgres', 'target_session_attrs': 'any'} \n",
      "\n",
      "{'user': 'postgres', 'channel_binding': 'prefer', 'dbname': 'postgres', 'host': '2.pgsql.db.1digitalstack.com', 'port': '5432', 'options': '', 'sslmode': 'prefer', 'sslcompression': '0', 'sslsni': '1', 'ssl_min_protocol_version': 'TLSv1.2', 'gssencmode': 'disable', 'krbsrvname': 'postgres', 'target_session_attrs': 'any'} \n",
      "\n"
     ]
    }
   ],
   "source": [
    "class postgres_conn:\n",
    "    def getConn(self):\n",
    "        try:\n",
    "            connection = psycopg2.connect(user='postgres',\n",
    "                                          password='postgres_007',\n",
    "                                          host=\"1.pgsql.db.1digitalstack.com\",\n",
    "                                          port='5432',\n",
    "                                          database='postgres')\n",
    "\n",
    "            cursor = connection.cursor()\n",
    "            # Print PostgreSQL Connection properties\n",
    "            print(connection.get_dsn_parameters(), \"\\n\")\n",
    "\n",
    "            # Print PostgreSQL version\n",
    "            return cursor, connection\n",
    "\n",
    "        except (Exception, psycopg2.Error) as error:\n",
    "            print(\"Error while connecting to PostgreSQL\", error)\n",
    "            return error, error\n",
    "    def getConn2(self):\n",
    "        try:\n",
    "            connection = psycopg2.connect(user='postgres',\n",
    "                                          password='reporting_007',\n",
    "                                          host=\"2.pgsql.db.1digitalstack.com\",\n",
    "                                          port='5432',\n",
    "                                          database='postgres')\n",
    "\n",
    "            cursor = connection.cursor()\n",
    "            # Print PostgreSQL Connection properties\n",
    "            print(connection.get_dsn_parameters(), \"\\n\")\n",
    "\n",
    "            # Print PostgreSQL version\n",
    "            return cursor, connection\n",
    "\n",
    "        except (Exception, psycopg2.Error) as error:\n",
    "            print(\"Error while connecting to PostgreSQL\", error)\n",
    "            return error, error\n",
    "\n",
    "\n",
    "    def close_connection(self, cursor, connection):\n",
    "        # closing database connection.\n",
    "        if(connection):\n",
    "            cursor.close()\n",
    "            connection.close()\n",
    "            print(\"PostgreSQL connection is closed\")\n",
    "            \n",
    "pg = postgres_conn()\n",
    "conn = pg.getConn()\n",
    "conn2 = pg.getConn2()"
   ]
  },
  {
   "cell_type": "code",
   "execution_count": 4,
   "id": "30e856ff",
   "metadata": {},
   "outputs": [
    {
     "name": "stdout",
     "output_type": "stream",
     "text": [
      "Enter keystone ids with comma.649578a677c5295142c2c620\n",
      " Enter no of days for which data needs brand mapping.\n",
      "2\n"
     ]
    },
    {
     "data": {
      "text/plain": [
       "('649578a677c5295142c2c620', '')"
      ]
     },
     "execution_count": 4,
     "metadata": {},
     "output_type": "execute_result"
    }
   ],
   "source": [
    "job_id=input(\"Enter keystone ids with comma.\").split(\",\")\n",
    "days=input(\" Enter no of days for which data needs brand mapping.\\n\")\n",
    "job_id.append(\"\")\n",
    "tuple(job_id)"
   ]
  },
  {
   "cell_type": "code",
   "execution_count": 5,
   "id": "b29ebd49",
   "metadata": {},
   "outputs": [
    {
     "name": "stderr",
     "output_type": "stream",
     "text": [
      "C:\\Users\\Administrator\\AppData\\Local\\Temp\\2\\ipykernel_152844\\2162843895.py:6: UserWarning: pandas only supports SQLAlchemy connectable (engine/connection) or database string URI or sqlite3 DBAPI2 connection. Other DBAPI2 objects are not tested. Please consider using SQLAlchemy.\n",
      "  serp_details = pd.read_sql_query(query, conn[1])\n"
     ]
    }
   ],
   "source": [
    "query = f\"\"\"\n",
    "select brand,title,sku,job_name,channel_id\n",
    "from ready.serp_details smd join ready.serp_mongo_details m on m.serp_mongo_id=smd.serp_mongo_id\n",
    "where smd.crawl_date > now() - interval '{days} day' and keystone_job_id in {tuple(job_id)}\n",
    "\"\"\"\n",
    "serp_details = pd.read_sql_query(query, conn[1])"
   ]
  },
  {
   "cell_type": "code",
   "execution_count": 6,
   "id": "c1e77f08",
   "metadata": {},
   "outputs": [
    {
     "data": {
      "text/html": [
       "<div>\n",
       "<style scoped>\n",
       "    .dataframe tbody tr th:only-of-type {\n",
       "        vertical-align: middle;\n",
       "    }\n",
       "\n",
       "    .dataframe tbody tr th {\n",
       "        vertical-align: top;\n",
       "    }\n",
       "\n",
       "    .dataframe thead th {\n",
       "        text-align: right;\n",
       "    }\n",
       "</style>\n",
       "<table border=\"1\" class=\"dataframe\">\n",
       "  <thead>\n",
       "    <tr style=\"text-align: right;\">\n",
       "      <th></th>\n",
       "      <th>brand</th>\n",
       "      <th>title</th>\n",
       "      <th>sku</th>\n",
       "      <th>job_name</th>\n",
       "      <th>channel_id</th>\n",
       "    </tr>\n",
       "  </thead>\n",
       "  <tbody>\n",
       "    <tr>\n",
       "      <th>0</th>\n",
       "      <td>DE LONGHI</td>\n",
       "      <td>DE LONGHI Nespresso Lattissima Touch Black (EN...</td>\n",
       "      <td>1719250</td>\n",
       "      <td>Media market r.no.490 Serp_Job</td>\n",
       "      <td>58</td>\n",
       "    </tr>\n",
       "    <tr>\n",
       "      <th>1</th>\n",
       "      <td>MELITTA</td>\n",
       "      <td>MELITTA Percolator Look Selection (M1011-04)</td>\n",
       "      <td>1417884</td>\n",
       "      <td>Media market r.no.490 Serp_Job</td>\n",
       "      <td>58</td>\n",
       "    </tr>\n",
       "    <tr>\n",
       "      <th>2</th>\n",
       "      <td>MELITTA</td>\n",
       "      <td>MELITTA Avanza Mystic Titan Espresso Machine (...</td>\n",
       "      <td>1907567</td>\n",
       "      <td>Media market r.no.490 Serp_Job</td>\n",
       "      <td>58</td>\n",
       "    </tr>\n",
       "    <tr>\n",
       "      <th>3</th>\n",
       "      <td>MELITTA</td>\n",
       "      <td>MELITTA Espresso machine Purista Serie 300 (F2...</td>\n",
       "      <td>1990293</td>\n",
       "      <td>Media market r.no.490 Serp_Job</td>\n",
       "      <td>58</td>\n",
       "    </tr>\n",
       "    <tr>\n",
       "      <th>4</th>\n",
       "      <td>MELITTA</td>\n",
       "      <td>MELITTA Barista Smart T Espresso Machine (F830...</td>\n",
       "      <td>1703556</td>\n",
       "      <td>Media market r.no.490 Serp_Job</td>\n",
       "      <td>58</td>\n",
       "    </tr>\n",
       "    <tr>\n",
       "      <th>...</th>\n",
       "      <td>...</td>\n",
       "      <td>...</td>\n",
       "      <td>...</td>\n",
       "      <td>...</td>\n",
       "      <td>...</td>\n",
       "    </tr>\n",
       "    <tr>\n",
       "      <th>2013</th>\n",
       "      <td>DE LONGHI</td>\n",
       "      <td>DE LONGHI Nespresso Gran Lattissima 2.0 Black ...</td>\n",
       "      <td>2030599</td>\n",
       "      <td>Media market r.no.490 Serp_Job</td>\n",
       "      <td>58</td>\n",
       "    </tr>\n",
       "    <tr>\n",
       "      <th>2014</th>\n",
       "      <td>MAGIMIX BELGIQUE</td>\n",
       "      <td>MAGIMIX BELGIUM Nespresso Inissia Black (11350B)</td>\n",
       "      <td>1350665</td>\n",
       "      <td>Media market r.no.490 Serp_Job</td>\n",
       "      <td>58</td>\n",
       "    </tr>\n",
       "    <tr>\n",
       "      <th>2015</th>\n",
       "      <td>KRUPS</td>\n",
       "      <td>KRUPS Nescafé Dolce Gusto Infinissima Touch (K...</td>\n",
       "      <td>2000943</td>\n",
       "      <td>Media market r.no.490 Serp_Job</td>\n",
       "      <td>58</td>\n",
       "    </tr>\n",
       "    <tr>\n",
       "      <th>2016</th>\n",
       "      <td>KRUPS</td>\n",
       "      <td>KRUPS Nescafé Dolce Gusto Piccolo XS (KP1A0110)</td>\n",
       "      <td>1826909</td>\n",
       "      <td>Media market r.no.490 Serp_Job</td>\n",
       "      <td>58</td>\n",
       "    </tr>\n",
       "    <tr>\n",
       "      <th>2017</th>\n",
       "      <td>KRUPS</td>\n",
       "      <td>KRUPS Nescafé Dolce Gusto Infinissima (KP17051...</td>\n",
       "      <td>1785200</td>\n",
       "      <td>Media market r.no.490 Serp_Job</td>\n",
       "      <td>58</td>\n",
       "    </tr>\n",
       "  </tbody>\n",
       "</table>\n",
       "<p>2018 rows × 5 columns</p>\n",
       "</div>"
      ],
      "text/plain": [
       "                 brand                                              title  \\\n",
       "0            DE LONGHI  DE LONGHI Nespresso Lattissima Touch Black (EN...   \n",
       "1              MELITTA       MELITTA Percolator Look Selection (M1011-04)   \n",
       "2              MELITTA  MELITTA Avanza Mystic Titan Espresso Machine (...   \n",
       "3              MELITTA  MELITTA Espresso machine Purista Serie 300 (F2...   \n",
       "4              MELITTA  MELITTA Barista Smart T Espresso Machine (F830...   \n",
       "...                ...                                                ...   \n",
       "2013         DE LONGHI  DE LONGHI Nespresso Gran Lattissima 2.0 Black ...   \n",
       "2014  MAGIMIX BELGIQUE   MAGIMIX BELGIUM Nespresso Inissia Black (11350B)   \n",
       "2015             KRUPS  KRUPS Nescafé Dolce Gusto Infinissima Touch (K...   \n",
       "2016             KRUPS    KRUPS Nescafé Dolce Gusto Piccolo XS (KP1A0110)   \n",
       "2017             KRUPS  KRUPS Nescafé Dolce Gusto Infinissima (KP17051...   \n",
       "\n",
       "          sku                        job_name  channel_id  \n",
       "0     1719250  Media market r.no.490 Serp_Job          58  \n",
       "1     1417884  Media market r.no.490 Serp_Job          58  \n",
       "2     1907567  Media market r.no.490 Serp_Job          58  \n",
       "3     1990293  Media market r.no.490 Serp_Job          58  \n",
       "4     1703556  Media market r.no.490 Serp_Job          58  \n",
       "...       ...                             ...         ...  \n",
       "2013  2030599  Media market r.no.490 Serp_Job          58  \n",
       "2014  1350665  Media market r.no.490 Serp_Job          58  \n",
       "2015  2000943  Media market r.no.490 Serp_Job          58  \n",
       "2016  1826909  Media market r.no.490 Serp_Job          58  \n",
       "2017  1785200  Media market r.no.490 Serp_Job          58  \n",
       "\n",
       "[2018 rows x 5 columns]"
      ]
     },
     "execution_count": 6,
     "metadata": {},
     "output_type": "execute_result"
    }
   ],
   "source": [
    "serp_details"
   ]
  },
  {
   "cell_type": "code",
   "execution_count": 7,
   "id": "1ae0d106",
   "metadata": {},
   "outputs": [
    {
     "name": "stdout",
     "output_type": "stream",
     "text": [
      "190\n"
     ]
    },
    {
     "name": "stderr",
     "output_type": "stream",
     "text": [
      "C:\\Users\\Administrator\\AppData\\Local\\Temp\\2\\ipykernel_152844\\2397205133.py:4: SettingWithCopyWarning: \n",
      "A value is trying to be set on a copy of a slice from a DataFrame\n",
      "\n",
      "See the caveats in the documentation: https://pandas.pydata.org/pandas-docs/stable/user_guide/indexing.html#returning-a-view-versus-a-copy\n",
      "  df_ASIN.dropna(inplace=True)\n",
      "C:\\Users\\Administrator\\AppData\\Local\\Temp\\2\\ipykernel_152844\\2397205133.py:5: SettingWithCopyWarning: \n",
      "A value is trying to be set on a copy of a slice from a DataFrame\n",
      "\n",
      "See the caveats in the documentation: https://pandas.pydata.org/pandas-docs/stable/user_guide/indexing.html#returning-a-view-versus-a-copy\n",
      "  df_ASIN.drop_duplicates(inplace=True)\n"
     ]
    },
    {
     "data": {
      "text/plain": [
       "190"
      ]
     },
     "execution_count": 7,
     "metadata": {},
     "output_type": "execute_result"
    }
   ],
   "source": [
    "rawdf1=serp_details.drop_duplicates('sku')\n",
    "print(len(rawdf1))\n",
    "df_ASIN = rawdf1[[\"sku\"]]\n",
    "df_ASIN.dropna(inplace=True)\n",
    "df_ASIN.drop_duplicates(inplace=True)\n",
    "asinlist = list(df_ASIN['sku'])\n",
    "len(asinlist)"
   ]
  },
  {
   "cell_type": "code",
   "execution_count": 8,
   "id": "9f88fa89",
   "metadata": {},
   "outputs": [
    {
     "name": "stderr",
     "output_type": "stream",
     "text": [
      "C:\\Users\\Administrator\\AppData\\Local\\Temp\\2\\ipykernel_152844\\3517360684.py:7: UserWarning: pandas only supports SQLAlchemy connectable (engine/connection) or database string URI or sqlite3 DBAPI2 connection. Other DBAPI2 objects are not tested. Please consider using SQLAlchemy.\n",
      "  pm_data = pd.read_sql_query(query_2, conn[1])\n"
     ]
    },
    {
     "data": {
      "text/html": [
       "<div>\n",
       "<style scoped>\n",
       "    .dataframe tbody tr th:only-of-type {\n",
       "        vertical-align: middle;\n",
       "    }\n",
       "\n",
       "    .dataframe tbody tr th {\n",
       "        vertical-align: top;\n",
       "    }\n",
       "\n",
       "    .dataframe thead th {\n",
       "        text-align: right;\n",
       "    }\n",
       "</style>\n",
       "<table border=\"1\" class=\"dataframe\">\n",
       "  <thead>\n",
       "    <tr style=\"text-align: right;\">\n",
       "      <th></th>\n",
       "      <th>channel_sku_id</th>\n",
       "      <th>country_code</th>\n",
       "      <th>brand_name</th>\n",
       "      <th>categories</th>\n",
       "      <th>category_id</th>\n",
       "    </tr>\n",
       "  </thead>\n",
       "  <tbody>\n",
       "    <tr>\n",
       "      <th>0</th>\n",
       "      <td>1085588</td>\n",
       "      <td>BE</td>\n",
       "      <td>LAVAZZA</td>\n",
       "      <td>None</td>\n",
       "      <td>None</td>\n",
       "    </tr>\n",
       "    <tr>\n",
       "      <th>1</th>\n",
       "      <td>1085589</td>\n",
       "      <td>BE</td>\n",
       "      <td>LAVAZZA</td>\n",
       "      <td>None</td>\n",
       "      <td>None</td>\n",
       "    </tr>\n",
       "    <tr>\n",
       "      <th>2</th>\n",
       "      <td>1090925</td>\n",
       "      <td>BE</td>\n",
       "      <td>MELITTA</td>\n",
       "      <td>None</td>\n",
       "      <td>None</td>\n",
       "    </tr>\n",
       "    <tr>\n",
       "      <th>3</th>\n",
       "      <td>1111600</td>\n",
       "      <td>BE</td>\n",
       "      <td>SCANPART</td>\n",
       "      <td>None</td>\n",
       "      <td>None</td>\n",
       "    </tr>\n",
       "    <tr>\n",
       "      <th>4</th>\n",
       "      <td>1116556</td>\n",
       "      <td>BE</td>\n",
       "      <td>XAVAX</td>\n",
       "      <td>None</td>\n",
       "      <td>None</td>\n",
       "    </tr>\n",
       "    <tr>\n",
       "      <th>...</th>\n",
       "      <td>...</td>\n",
       "      <td>...</td>\n",
       "      <td>...</td>\n",
       "      <td>...</td>\n",
       "      <td>...</td>\n",
       "    </tr>\n",
       "    <tr>\n",
       "      <th>209</th>\n",
       "      <td>2072327</td>\n",
       "      <td>BE</td>\n",
       "      <td>SAMSUNG</td>\n",
       "      <td>None</td>\n",
       "      <td>None</td>\n",
       "    </tr>\n",
       "    <tr>\n",
       "      <th>210</th>\n",
       "      <td>2072327</td>\n",
       "      <td>IN</td>\n",
       "      <td>SAMSUNG</td>\n",
       "      <td>None</td>\n",
       "      <td>None</td>\n",
       "    </tr>\n",
       "    <tr>\n",
       "      <th>211</th>\n",
       "      <td>2076539</td>\n",
       "      <td>BE</td>\n",
       "      <td>MELITTA</td>\n",
       "      <td>None</td>\n",
       "      <td>None</td>\n",
       "    </tr>\n",
       "    <tr>\n",
       "      <th>212</th>\n",
       "      <td>2082740</td>\n",
       "      <td>BE</td>\n",
       "      <td>HP</td>\n",
       "      <td>None</td>\n",
       "      <td>None</td>\n",
       "    </tr>\n",
       "    <tr>\n",
       "      <th>213</th>\n",
       "      <td>2082740</td>\n",
       "      <td>IN</td>\n",
       "      <td>HP</td>\n",
       "      <td>None</td>\n",
       "      <td>None</td>\n",
       "    </tr>\n",
       "  </tbody>\n",
       "</table>\n",
       "<p>214 rows × 5 columns</p>\n",
       "</div>"
      ],
      "text/plain": [
       "    channel_sku_id country_code brand_name categories category_id\n",
       "0          1085588           BE    LAVAZZA       None        None\n",
       "1          1085589           BE    LAVAZZA       None        None\n",
       "2          1090925           BE    MELITTA       None        None\n",
       "3          1111600           BE   SCANPART       None        None\n",
       "4          1116556           BE      XAVAX       None        None\n",
       "..             ...          ...        ...        ...         ...\n",
       "209        2072327           BE    SAMSUNG       None        None\n",
       "210        2072327           IN    SAMSUNG       None        None\n",
       "211        2076539           BE    MELITTA       None        None\n",
       "212        2082740           BE         HP       None        None\n",
       "213        2082740           IN         HP       None        None\n",
       "\n",
       "[214 rows x 5 columns]"
      ]
     },
     "execution_count": 8,
     "metadata": {},
     "output_type": "execute_result"
    }
   ],
   "source": [
    "query_2 = f\"\"\" \n",
    "Select channel_sku_id,country_code, brand_name, categories,category_id\n",
    "from entity.product_master\n",
    "where channel_sku_id in {tuple(asinlist)} \n",
    "\"\"\"\n",
    "\n",
    "pm_data = pd.read_sql_query(query_2, conn[1])\n",
    "pm_data"
   ]
  },
  {
   "cell_type": "code",
   "execution_count": 9,
   "id": "840ba4db",
   "metadata": {},
   "outputs": [
    {
     "data": {
      "text/html": [
       "<div>\n",
       "<style scoped>\n",
       "    .dataframe tbody tr th:only-of-type {\n",
       "        vertical-align: middle;\n",
       "    }\n",
       "\n",
       "    .dataframe tbody tr th {\n",
       "        vertical-align: top;\n",
       "    }\n",
       "\n",
       "    .dataframe thead th {\n",
       "        text-align: right;\n",
       "    }\n",
       "</style>\n",
       "<table border=\"1\" class=\"dataframe\">\n",
       "  <thead>\n",
       "    <tr style=\"text-align: right;\">\n",
       "      <th></th>\n",
       "      <th>brand</th>\n",
       "      <th>title</th>\n",
       "      <th>sku</th>\n",
       "      <th>job_name</th>\n",
       "      <th>channel_id</th>\n",
       "      <th>channel_sku_id</th>\n",
       "      <th>country_code</th>\n",
       "      <th>brand_name</th>\n",
       "      <th>categories</th>\n",
       "      <th>category_id</th>\n",
       "    </tr>\n",
       "  </thead>\n",
       "  <tbody>\n",
       "    <tr>\n",
       "      <th>0</th>\n",
       "      <td>DE LONGHI</td>\n",
       "      <td>DE LONGHI Nespresso Lattissima Touch Black (EN...</td>\n",
       "      <td>1719250</td>\n",
       "      <td>Media market r.no.490 Serp_Job</td>\n",
       "      <td>58</td>\n",
       "      <td>1719250</td>\n",
       "      <td>BE</td>\n",
       "      <td>DE LONGHI</td>\n",
       "      <td>None</td>\n",
       "      <td>None</td>\n",
       "    </tr>\n",
       "    <tr>\n",
       "      <th>1</th>\n",
       "      <td>MELITTA</td>\n",
       "      <td>MELITTA Percolator Look Selection (M1011-04)</td>\n",
       "      <td>1417884</td>\n",
       "      <td>Media market r.no.490 Serp_Job</td>\n",
       "      <td>58</td>\n",
       "      <td>1417884</td>\n",
       "      <td>BE</td>\n",
       "      <td>MELITTA</td>\n",
       "      <td>None</td>\n",
       "      <td>None</td>\n",
       "    </tr>\n",
       "    <tr>\n",
       "      <th>2</th>\n",
       "      <td>MELITTA</td>\n",
       "      <td>MELITTA Avanza Mystic Titan Espresso Machine (...</td>\n",
       "      <td>1907567</td>\n",
       "      <td>Media market r.no.490 Serp_Job</td>\n",
       "      <td>58</td>\n",
       "      <td>1907567</td>\n",
       "      <td>BE</td>\n",
       "      <td>MELITTA</td>\n",
       "      <td>None</td>\n",
       "      <td>None</td>\n",
       "    </tr>\n",
       "    <tr>\n",
       "      <th>3</th>\n",
       "      <td>MELITTA</td>\n",
       "      <td>MELITTA Espresso machine Purista Serie 300 (F2...</td>\n",
       "      <td>1990293</td>\n",
       "      <td>Media market r.no.490 Serp_Job</td>\n",
       "      <td>58</td>\n",
       "      <td>1990293</td>\n",
       "      <td>BE</td>\n",
       "      <td>MELITTA</td>\n",
       "      <td>None</td>\n",
       "      <td>None</td>\n",
       "    </tr>\n",
       "    <tr>\n",
       "      <th>4</th>\n",
       "      <td>MELITTA</td>\n",
       "      <td>MELITTA Barista Smart T Espresso Machine (F830...</td>\n",
       "      <td>1703556</td>\n",
       "      <td>Media market r.no.490 Serp_Job</td>\n",
       "      <td>58</td>\n",
       "      <td>1703556</td>\n",
       "      <td>BE</td>\n",
       "      <td>MELITTA</td>\n",
       "      <td>None</td>\n",
       "      <td>None</td>\n",
       "    </tr>\n",
       "    <tr>\n",
       "      <th>...</th>\n",
       "      <td>...</td>\n",
       "      <td>...</td>\n",
       "      <td>...</td>\n",
       "      <td>...</td>\n",
       "      <td>...</td>\n",
       "      <td>...</td>\n",
       "      <td>...</td>\n",
       "      <td>...</td>\n",
       "      <td>...</td>\n",
       "      <td>...</td>\n",
       "    </tr>\n",
       "    <tr>\n",
       "      <th>209</th>\n",
       "      <td>MAGIMIX BELGIQUE</td>\n",
       "      <td>MAGIMIX BELGIUM Nespresso Magimix Essenza Mini...</td>\n",
       "      <td>1680719</td>\n",
       "      <td>Media market r.no.490 Serp_Job</td>\n",
       "      <td>58</td>\n",
       "      <td>1680719</td>\n",
       "      <td>BE</td>\n",
       "      <td>MAGIMIX</td>\n",
       "      <td>None</td>\n",
       "      <td>None</td>\n",
       "    </tr>\n",
       "    <tr>\n",
       "      <th>210</th>\n",
       "      <td>MAGIMIX BELGIQUE</td>\n",
       "      <td>MAGIMIX BELGIUM Nespresso Vertuo Next Deluxe P...</td>\n",
       "      <td>1901791</td>\n",
       "      <td>Media market r.no.490 Serp_Job</td>\n",
       "      <td>58</td>\n",
       "      <td>1901791</td>\n",
       "      <td>BE</td>\n",
       "      <td>MAGIMIX</td>\n",
       "      <td>None</td>\n",
       "      <td>None</td>\n",
       "    </tr>\n",
       "    <tr>\n",
       "      <th>211</th>\n",
       "      <td>NESCAFE</td>\n",
       "      <td>NESCAFE DOLCE GUSTO MILK COFFEE</td>\n",
       "      <td>1989290</td>\n",
       "      <td>Media market r.no.490 Serp_Job</td>\n",
       "      <td>58</td>\n",
       "      <td>1989290</td>\n",
       "      <td>BE</td>\n",
       "      <td>NESCAFE</td>\n",
       "      <td>None</td>\n",
       "      <td>None</td>\n",
       "    </tr>\n",
       "    <tr>\n",
       "      <th>212</th>\n",
       "      <td>NESCAFE</td>\n",
       "      <td>NESCAFE DOLCE GUSTO LUNGO</td>\n",
       "      <td>1989296</td>\n",
       "      <td>Media market r.no.490 Serp_Job</td>\n",
       "      <td>58</td>\n",
       "      <td>1989296</td>\n",
       "      <td>BE</td>\n",
       "      <td>NESCAFE</td>\n",
       "      <td>None</td>\n",
       "      <td>None</td>\n",
       "    </tr>\n",
       "    <tr>\n",
       "      <th>213</th>\n",
       "      <td>NESCAFE</td>\n",
       "      <td>NESCAFE DOLCE GUSTO GRANDE</td>\n",
       "      <td>1989301</td>\n",
       "      <td>Media market r.no.490 Serp_Job</td>\n",
       "      <td>58</td>\n",
       "      <td>1989301</td>\n",
       "      <td>BE</td>\n",
       "      <td>NESCAFE</td>\n",
       "      <td>None</td>\n",
       "      <td>None</td>\n",
       "    </tr>\n",
       "  </tbody>\n",
       "</table>\n",
       "<p>214 rows × 10 columns</p>\n",
       "</div>"
      ],
      "text/plain": [
       "                brand                                              title  \\\n",
       "0           DE LONGHI  DE LONGHI Nespresso Lattissima Touch Black (EN...   \n",
       "1             MELITTA       MELITTA Percolator Look Selection (M1011-04)   \n",
       "2             MELITTA  MELITTA Avanza Mystic Titan Espresso Machine (...   \n",
       "3             MELITTA  MELITTA Espresso machine Purista Serie 300 (F2...   \n",
       "4             MELITTA  MELITTA Barista Smart T Espresso Machine (F830...   \n",
       "..                ...                                                ...   \n",
       "209  MAGIMIX BELGIQUE  MAGIMIX BELGIUM Nespresso Magimix Essenza Mini...   \n",
       "210  MAGIMIX BELGIQUE  MAGIMIX BELGIUM Nespresso Vertuo Next Deluxe P...   \n",
       "211           NESCAFE                    NESCAFE DOLCE GUSTO MILK COFFEE   \n",
       "212           NESCAFE                          NESCAFE DOLCE GUSTO LUNGO   \n",
       "213           NESCAFE                         NESCAFE DOLCE GUSTO GRANDE   \n",
       "\n",
       "         sku                        job_name  channel_id channel_sku_id  \\\n",
       "0    1719250  Media market r.no.490 Serp_Job          58        1719250   \n",
       "1    1417884  Media market r.no.490 Serp_Job          58        1417884   \n",
       "2    1907567  Media market r.no.490 Serp_Job          58        1907567   \n",
       "3    1990293  Media market r.no.490 Serp_Job          58        1990293   \n",
       "4    1703556  Media market r.no.490 Serp_Job          58        1703556   \n",
       "..       ...                             ...         ...            ...   \n",
       "209  1680719  Media market r.no.490 Serp_Job          58        1680719   \n",
       "210  1901791  Media market r.no.490 Serp_Job          58        1901791   \n",
       "211  1989290  Media market r.no.490 Serp_Job          58        1989290   \n",
       "212  1989296  Media market r.no.490 Serp_Job          58        1989296   \n",
       "213  1989301  Media market r.no.490 Serp_Job          58        1989301   \n",
       "\n",
       "    country_code brand_name categories category_id  \n",
       "0             BE  DE LONGHI       None        None  \n",
       "1             BE    MELITTA       None        None  \n",
       "2             BE    MELITTA       None        None  \n",
       "3             BE    MELITTA       None        None  \n",
       "4             BE    MELITTA       None        None  \n",
       "..           ...        ...        ...         ...  \n",
       "209           BE    MAGIMIX       None        None  \n",
       "210           BE    MAGIMIX       None        None  \n",
       "211           BE    NESCAFE       None        None  \n",
       "212           BE    NESCAFE       None        None  \n",
       "213           BE    NESCAFE       None        None  \n",
       "\n",
       "[214 rows x 10 columns]"
      ]
     },
     "execution_count": 9,
     "metadata": {},
     "output_type": "execute_result"
    }
   ],
   "source": [
    "mapped_df=pd.merge(rawdf1,pm_data, how='left', left_on=['sku'],right_on=['channel_sku_id'])\n",
    "mapped_df"
   ]
  },
  {
   "cell_type": "code",
   "execution_count": 10,
   "id": "756953e0",
   "metadata": {},
   "outputs": [
    {
     "data": {
      "text/html": [
       "<div>\n",
       "<style scoped>\n",
       "    .dataframe tbody tr th:only-of-type {\n",
       "        vertical-align: middle;\n",
       "    }\n",
       "\n",
       "    .dataframe tbody tr th {\n",
       "        vertical-align: top;\n",
       "    }\n",
       "\n",
       "    .dataframe thead th {\n",
       "        text-align: right;\n",
       "    }\n",
       "</style>\n",
       "<table border=\"1\" class=\"dataframe\">\n",
       "  <thead>\n",
       "    <tr style=\"text-align: right;\">\n",
       "      <th></th>\n",
       "      <th>channel_id</th>\n",
       "      <th>sku</th>\n",
       "      <th>title</th>\n",
       "      <th>brand_name</th>\n",
       "    </tr>\n",
       "  </thead>\n",
       "  <tbody>\n",
       "    <tr>\n",
       "      <th>0</th>\n",
       "      <td>58</td>\n",
       "      <td>1719250</td>\n",
       "      <td>DE LONGHI Nespresso Lattissima Touch Black (EN...</td>\n",
       "      <td>DE LONGHI</td>\n",
       "    </tr>\n",
       "    <tr>\n",
       "      <th>1</th>\n",
       "      <td>58</td>\n",
       "      <td>1417884</td>\n",
       "      <td>MELITTA Percolator Look Selection (M1011-04)</td>\n",
       "      <td>MELITTA</td>\n",
       "    </tr>\n",
       "    <tr>\n",
       "      <th>2</th>\n",
       "      <td>58</td>\n",
       "      <td>1907567</td>\n",
       "      <td>MELITTA Avanza Mystic Titan Espresso Machine (...</td>\n",
       "      <td>MELITTA</td>\n",
       "    </tr>\n",
       "    <tr>\n",
       "      <th>3</th>\n",
       "      <td>58</td>\n",
       "      <td>1990293</td>\n",
       "      <td>MELITTA Espresso machine Purista Serie 300 (F2...</td>\n",
       "      <td>MELITTA</td>\n",
       "    </tr>\n",
       "    <tr>\n",
       "      <th>4</th>\n",
       "      <td>58</td>\n",
       "      <td>1703556</td>\n",
       "      <td>MELITTA Barista Smart T Espresso Machine (F830...</td>\n",
       "      <td>MELITTA</td>\n",
       "    </tr>\n",
       "    <tr>\n",
       "      <th>...</th>\n",
       "      <td>...</td>\n",
       "      <td>...</td>\n",
       "      <td>...</td>\n",
       "      <td>...</td>\n",
       "    </tr>\n",
       "    <tr>\n",
       "      <th>209</th>\n",
       "      <td>58</td>\n",
       "      <td>1680719</td>\n",
       "      <td>MAGIMIX BELGIUM Nespresso Magimix Essenza Mini...</td>\n",
       "      <td>MAGIMIX</td>\n",
       "    </tr>\n",
       "    <tr>\n",
       "      <th>210</th>\n",
       "      <td>58</td>\n",
       "      <td>1901791</td>\n",
       "      <td>MAGIMIX BELGIUM Nespresso Vertuo Next Deluxe P...</td>\n",
       "      <td>MAGIMIX</td>\n",
       "    </tr>\n",
       "    <tr>\n",
       "      <th>211</th>\n",
       "      <td>58</td>\n",
       "      <td>1989290</td>\n",
       "      <td>NESCAFE DOLCE GUSTO MILK COFFEE</td>\n",
       "      <td>NESCAFE</td>\n",
       "    </tr>\n",
       "    <tr>\n",
       "      <th>212</th>\n",
       "      <td>58</td>\n",
       "      <td>1989296</td>\n",
       "      <td>NESCAFE DOLCE GUSTO LUNGO</td>\n",
       "      <td>NESCAFE</td>\n",
       "    </tr>\n",
       "    <tr>\n",
       "      <th>213</th>\n",
       "      <td>58</td>\n",
       "      <td>1989301</td>\n",
       "      <td>NESCAFE DOLCE GUSTO GRANDE</td>\n",
       "      <td>NESCAFE</td>\n",
       "    </tr>\n",
       "  </tbody>\n",
       "</table>\n",
       "<p>199 rows × 4 columns</p>\n",
       "</div>"
      ],
      "text/plain": [
       "     channel_id      sku                                              title  \\\n",
       "0            58  1719250  DE LONGHI Nespresso Lattissima Touch Black (EN...   \n",
       "1            58  1417884       MELITTA Percolator Look Selection (M1011-04)   \n",
       "2            58  1907567  MELITTA Avanza Mystic Titan Espresso Machine (...   \n",
       "3            58  1990293  MELITTA Espresso machine Purista Serie 300 (F2...   \n",
       "4            58  1703556  MELITTA Barista Smart T Espresso Machine (F830...   \n",
       "..          ...      ...                                                ...   \n",
       "209          58  1680719  MAGIMIX BELGIUM Nespresso Magimix Essenza Mini...   \n",
       "210          58  1901791  MAGIMIX BELGIUM Nespresso Vertuo Next Deluxe P...   \n",
       "211          58  1989290                    NESCAFE DOLCE GUSTO MILK COFFEE   \n",
       "212          58  1989296                          NESCAFE DOLCE GUSTO LUNGO   \n",
       "213          58  1989301                         NESCAFE DOLCE GUSTO GRANDE   \n",
       "\n",
       "    brand_name  \n",
       "0    DE LONGHI  \n",
       "1      MELITTA  \n",
       "2      MELITTA  \n",
       "3      MELITTA  \n",
       "4      MELITTA  \n",
       "..         ...  \n",
       "209    MAGIMIX  \n",
       "210    MAGIMIX  \n",
       "211    NESCAFE  \n",
       "212    NESCAFE  \n",
       "213    NESCAFE  \n",
       "\n",
       "[199 rows x 4 columns]"
      ]
     },
     "execution_count": 10,
     "metadata": {},
     "output_type": "execute_result"
    }
   ],
   "source": [
    "df2=mapped_df[mapped_df['categories'].isnull()][['channel_id','sku','title','brand_name']]\n",
    "df2"
   ]
  },
  {
   "cell_type": "code",
   "execution_count": 11,
   "id": "1e1ce4ce",
   "metadata": {},
   "outputs": [
    {
     "data": {
      "text/html": [
       "<div>\n",
       "<style scoped>\n",
       "    .dataframe tbody tr th:only-of-type {\n",
       "        vertical-align: middle;\n",
       "    }\n",
       "\n",
       "    .dataframe tbody tr th {\n",
       "        vertical-align: top;\n",
       "    }\n",
       "\n",
       "    .dataframe thead th {\n",
       "        text-align: right;\n",
       "    }\n",
       "</style>\n",
       "<table border=\"1\" class=\"dataframe\">\n",
       "  <thead>\n",
       "    <tr style=\"text-align: right;\">\n",
       "      <th></th>\n",
       "      <th>channel_sku_id</th>\n",
       "      <th>categories</th>\n",
       "      <th>seller_info</th>\n",
       "      <th>first_image</th>\n",
       "    </tr>\n",
       "  </thead>\n",
       "  <tbody>\n",
       "  </tbody>\n",
       "</table>\n",
       "</div>"
      ],
      "text/plain": [
       "Empty DataFrame\n",
       "Columns: [channel_sku_id, categories, seller_info, first_image]\n",
       "Index: []"
      ]
     },
     "execution_count": 11,
     "metadata": {},
     "output_type": "execute_result"
    }
   ],
   "source": [
    "df=pd.DataFrame(columns=['channel_sku_id','categories','seller_info','first_image'])\n",
    "df"
   ]
  },
  {
   "cell_type": "code",
   "execution_count": 12,
   "id": "1a0d43ec",
   "metadata": {},
   "outputs": [
    {
     "data": {
      "text/plain": [
       "199"
      ]
     },
     "execution_count": 12,
     "metadata": {},
     "output_type": "execute_result"
    }
   ],
   "source": [
    "asinlist = list(df2['sku'])\n",
    "len(asinlist)"
   ]
  },
  {
   "cell_type": "code",
   "execution_count": 13,
   "id": "5f40256c",
   "metadata": {},
   "outputs": [
    {
     "name": "stdout",
     "output_type": "stream",
     "text": [
      "ChromeDriver version: 116.0.5845.96 (1a391816688002153ef791ffe60d9e899a71a037-refs/branch-heads/5845@{#1382})\n"
     ]
    }
   ],
   "source": [
    "chrome_opt=Options()\n",
    "chrome_opt.add_argument(\"--incognito\")\n",
    "driver = webdriver.Chrome(service=s,options=chrome_opt)\n",
    "capabilities = driver.capabilities\n",
    "chrome_driver_version = capabilities['chrome']['chromedriverVersion']\n",
    "\n",
    "# Print the ChromeDriver version\n",
    "print(\"ChromeDriver version:\", chrome_driver_version)"
   ]
  },
  {
   "cell_type": "code",
   "execution_count": 14,
   "id": "36366830",
   "metadata": {},
   "outputs": [
    {
     "name": "stdout",
     "output_type": "stream",
     "text": [
      "Enter the request number of the requests seperated with underscore(_) 490\n"
     ]
    }
   ],
   "source": [
    "request_no=input(\"Enter the request number of the requests seperated with underscore(_) \")\n",
    "#547_552\n",
    "file='final_output_mediamarket_be_{}.xlsx'.format(request_no)"
   ]
  },
  {
   "cell_type": "code",
   "execution_count": 15,
   "id": "a68b7c3d",
   "metadata": {},
   "outputs": [
    {
     "name": "stderr",
     "output_type": "stream",
     "text": [
      "\r",
      "  0%|                                                                                          | 0/199 [00:00<?, ?it/s]"
     ]
    },
    {
     "name": "stdout",
     "output_type": "stream",
     "text": [
      "************************\n",
      "0\n",
      "https://www.mediamarkt.be/nl/product/-1719250.html\n"
     ]
    },
    {
     "name": "stderr",
     "output_type": "stream",
     "text": [
      "C:\\Users\\Administrator\\AppData\\Local\\Temp\\2\\ipykernel_152844\\3772363637.py:35: FutureWarning: The frame.append method is deprecated and will be removed from pandas in a future version. Use pandas.concat instead.\n",
      "  df=df.append(df1, ignore_index = True)\n",
      "\r",
      "  1%|▍                                                                                 | 1/199 [00:10<33:36, 10.18s/it]"
     ]
    },
    {
     "name": "stdout",
     "output_type": "stream",
     "text": [
      "['Keuken', 'Koffiemachine', 'Capsulemachine']\n",
      "Selecteer winkel\n",
      "https://assets.mmsrg.com/isr/166325/c1/-/ASSET_MMS_108692034/fee_325_225_png\n",
      "************************\n",
      "1\n",
      "https://www.mediamarkt.be/nl/product/-1417884.html\n",
      "['Keuken', 'Koffiemachine', 'Melitta koffiemachine']\n",
      "…\n"
     ]
    },
    {
     "name": "stderr",
     "output_type": "stream",
     "text": [
      "C:\\Users\\Administrator\\AppData\\Local\\Temp\\2\\ipykernel_152844\\3772363637.py:35: FutureWarning: The frame.append method is deprecated and will be removed from pandas in a future version. Use pandas.concat instead.\n",
      "  df=df.append(df1, ignore_index = True)\n",
      "\r",
      "  1%|▊                                                                                 | 2/199 [00:17<27:40,  8.43s/it]"
     ]
    },
    {
     "name": "stdout",
     "output_type": "stream",
     "text": [
      "https://assets.mmsrg.com/isr/166325/c1/-/pixelboxx-mss-77049718/fee_325_225_png\n",
      "************************\n",
      "2\n",
      "https://www.mediamarkt.be/nl/product/-1907567.html\n"
     ]
    },
    {
     "name": "stderr",
     "output_type": "stream",
     "text": [
      "C:\\Users\\Administrator\\AppData\\Local\\Temp\\2\\ipykernel_152844\\3772363637.py:35: FutureWarning: The frame.append method is deprecated and will be removed from pandas in a future version. Use pandas.concat instead.\n",
      "  df=df.append(df1, ignore_index = True)\n",
      "\r",
      "  2%|█▏                                                                                | 3/199 [00:24<25:08,  7.70s/it]"
     ]
    },
    {
     "name": "stdout",
     "output_type": "stream",
     "text": [
      "['Keuken', 'Koffiemachine', 'Melitta koffiemachine']\n",
      "…\n",
      "https://assets.mmsrg.com/isr/166325/c1/-/ASSET_MMS_79673171/fee_325_225_png\n",
      "************************\n",
      "3\n",
      "https://www.mediamarkt.be/nl/product/-1990293.html\n"
     ]
    },
    {
     "name": "stderr",
     "output_type": "stream",
     "text": [
      "C:\\Users\\Administrator\\AppData\\Local\\Temp\\2\\ipykernel_152844\\3772363637.py:35: FutureWarning: The frame.append method is deprecated and will be removed from pandas in a future version. Use pandas.concat instead.\n",
      "  df=df.append(df1, ignore_index = True)\n",
      "\r",
      "  2%|█▋                                                                                | 4/199 [00:30<23:35,  7.26s/it]"
     ]
    },
    {
     "name": "stdout",
     "output_type": "stream",
     "text": [
      "['Keuken', 'Koffiemachine', 'Melitta koffiemachine']\n",
      "…\n",
      "https://assets.mmsrg.com/isr/166325/c1/-/ASSET_MMS_89992247/fee_325_225_png\n",
      "************************\n",
      "4\n",
      "https://www.mediamarkt.be/nl/product/-1703556.html\n"
     ]
    },
    {
     "name": "stderr",
     "output_type": "stream",
     "text": [
      "C:\\Users\\Administrator\\AppData\\Local\\Temp\\2\\ipykernel_152844\\3772363637.py:35: FutureWarning: The frame.append method is deprecated and will be removed from pandas in a future version. Use pandas.concat instead.\n",
      "  df=df.append(df1, ignore_index = True)\n",
      "\r",
      "  3%|██                                                                                | 5/199 [00:41<27:25,  8.48s/it]"
     ]
    },
    {
     "name": "stdout",
     "output_type": "stream",
     "text": [
      "['Keuken', 'Koffiemachine', 'Melitta koffiemachine']\n",
      "…\n",
      "https://assets.mmsrg.com/isr/166325/c1/-/pixelboxx-mss-77193932/fee_325_225_png\n",
      "************************\n",
      "5\n",
      "https://www.mediamarkt.be/nl/product/-1833675.html\n"
     ]
    },
    {
     "name": "stderr",
     "output_type": "stream",
     "text": [
      "C:\\Users\\Administrator\\AppData\\Local\\Temp\\2\\ipykernel_152844\\3772363637.py:35: FutureWarning: The frame.append method is deprecated and will be removed from pandas in a future version. Use pandas.concat instead.\n",
      "  df=df.append(df1, ignore_index = True)\n",
      "\r",
      "  3%|██▍                                                                               | 6/199 [00:49<27:04,  8.41s/it]"
     ]
    },
    {
     "name": "stdout",
     "output_type": "stream",
     "text": [
      "['Keuken', 'Koffiemachine', 'Melitta koffiemachine']\n",
      "\n",
      "https://assets.mmsrg.com/isr/166325/c1/-/pixelboxx-mss-81961693/fee_325_225_png\n",
      "************************\n",
      "6\n",
      "https://www.mediamarkt.be/nl/product/-1863378.html\n"
     ]
    },
    {
     "name": "stderr",
     "output_type": "stream",
     "text": [
      "C:\\Users\\Administrator\\AppData\\Local\\Temp\\2\\ipykernel_152844\\3772363637.py:35: FutureWarning: The frame.append method is deprecated and will be removed from pandas in a future version. Use pandas.concat instead.\n",
      "  df=df.append(df1, ignore_index = True)\n",
      "\r",
      "  4%|██▉                                                                               | 7/199 [00:57<26:19,  8.23s/it]"
     ]
    },
    {
     "name": "stdout",
     "output_type": "stream",
     "text": [
      "['Keuken', 'Koffiemachine', 'Melitta koffiemachine']\n",
      "…\n",
      "https://assets.mmsrg.com/isr/166325/c1/-/ASSET_MMS_71549570/fee_325_225_png\n",
      "************************\n",
      "7\n",
      "https://www.mediamarkt.be/nl/product/-1703553.html\n"
     ]
    },
    {
     "name": "stderr",
     "output_type": "stream",
     "text": [
      "C:\\Users\\Administrator\\AppData\\Local\\Temp\\2\\ipykernel_152844\\3772363637.py:35: FutureWarning: The frame.append method is deprecated and will be removed from pandas in a future version. Use pandas.concat instead.\n",
      "  df=df.append(df1, ignore_index = True)\n",
      "\r",
      "  4%|███▎                                                                              | 8/199 [01:05<25:34,  8.03s/it]"
     ]
    },
    {
     "name": "stdout",
     "output_type": "stream",
     "text": [
      "['Keuken', 'Koffiemachine', 'Melitta koffiemachine']\n",
      "Voor 26-08-2023 01:30 besteld, morgen in huis\n",
      "https://assets.mmsrg.com/isr/166325/c1/-/pixelboxx-mss-76382853/fee_325_225_png\n",
      "************************\n",
      "8\n",
      "https://www.mediamarkt.be/nl/product/-1946106.html\n"
     ]
    },
    {
     "name": "stderr",
     "output_type": "stream",
     "text": [
      "C:\\Users\\Administrator\\AppData\\Local\\Temp\\2\\ipykernel_152844\\3772363637.py:35: FutureWarning: The frame.append method is deprecated and will be removed from pandas in a future version. Use pandas.concat instead.\n",
      "  df=df.append(df1, ignore_index = True)\n",
      "\r",
      "  5%|███▋                                                                              | 9/199 [01:14<26:20,  8.32s/it]"
     ]
    },
    {
     "name": "stdout",
     "output_type": "stream",
     "text": [
      "['Keuken', 'Koffiemachine', 'Philips koffiemachine']\n",
      "Voor 26-08-2023 01:30 besteld, morgen in huis\n",
      "https://assets.mmsrg.com/isr/166325/c1/-/ASSET_MMS_84300352/fee_325_225_png\n",
      "************************\n",
      "9\n",
      "https://www.mediamarkt.be/nl/product/-2030146.html\n"
     ]
    },
    {
     "name": "stderr",
     "output_type": "stream",
     "text": [
      "C:\\Users\\Administrator\\AppData\\Local\\Temp\\2\\ipykernel_152844\\3772363637.py:35: FutureWarning: The frame.append method is deprecated and will be removed from pandas in a future version. Use pandas.concat instead.\n",
      "  df=df.append(df1, ignore_index = True)\n",
      "\r",
      "  5%|████                                                                             | 10/199 [01:31<35:02, 11.12s/it]"
     ]
    },
    {
     "name": "stdout",
     "output_type": "stream",
     "text": [
      "['Keuken', 'Koffiemachine', 'Philips koffiemachine']\n",
      "Selecteer winkel\n",
      "https://assets.mmsrg.com/isr/166325/c1/-/ASSET_MMS_97529339/fee_325_225_png\n",
      "************************\n",
      "10\n",
      "https://www.mediamarkt.be/nl/product/-1672562.html\n"
     ]
    },
    {
     "name": "stderr",
     "output_type": "stream",
     "text": [
      "C:\\Users\\Administrator\\AppData\\Local\\Temp\\2\\ipykernel_152844\\3772363637.py:35: FutureWarning: The frame.append method is deprecated and will be removed from pandas in a future version. Use pandas.concat instead.\n",
      "  df=df.append(df1, ignore_index = True)\n",
      "\r",
      "  6%|████▍                                                                            | 11/199 [01:44<37:04, 11.83s/it]"
     ]
    },
    {
     "name": "stdout",
     "output_type": "stream",
     "text": [
      "['Keuken', 'Koffiemachine', 'Capsulemachine']\n",
      "Meestal 119,95\n",
      "€119,95\n",
      "https://assets.mmsrg.com/isr/166325/c1/-/ASSET_MMS_108479810/fee_325_225_png\n",
      "************************\n",
      "11\n",
      "https://www.mediamarkt.be/nl/product/-1895845.html\n"
     ]
    },
    {
     "name": "stderr",
     "output_type": "stream",
     "text": [
      "C:\\Users\\Administrator\\AppData\\Local\\Temp\\2\\ipykernel_152844\\3772363637.py:35: FutureWarning: The frame.append method is deprecated and will be removed from pandas in a future version. Use pandas.concat instead.\n",
      "  df=df.append(df1, ignore_index = True)\n",
      "\r",
      "  6%|████▉                                                                            | 12/199 [01:56<36:39, 11.76s/it]"
     ]
    },
    {
     "name": "stdout",
     "output_type": "stream",
     "text": [
      "['Keuken', 'Koffiemachine', 'Capsulemachine']\n",
      "…\n",
      "https://assets.mmsrg.com/isr/166325/c1/-/ASSET_MMS_76623456/fee_325_225_png\n",
      "************************\n",
      "12\n",
      "https://www.mediamarkt.be/nl/product/-1895845.html\n"
     ]
    },
    {
     "name": "stderr",
     "output_type": "stream",
     "text": [
      "C:\\Users\\Administrator\\AppData\\Local\\Temp\\2\\ipykernel_152844\\3772363637.py:35: FutureWarning: The frame.append method is deprecated and will be removed from pandas in a future version. Use pandas.concat instead.\n",
      "  df=df.append(df1, ignore_index = True)\n",
      "\r",
      "  7%|█████▎                                                                           | 13/199 [02:03<32:02, 10.34s/it]"
     ]
    },
    {
     "name": "stdout",
     "output_type": "stream",
     "text": [
      "['Keuken', 'Koffiemachine', 'Capsulemachine']\n",
      "…\n",
      "https://assets.mmsrg.com/isr/166325/c1/-/ASSET_MMS_76623456/fee_325_225_png\n",
      "************************\n",
      "13\n",
      "https://www.mediamarkt.be/nl/product/-1944067.html\n"
     ]
    },
    {
     "name": "stderr",
     "output_type": "stream",
     "text": [
      "C:\\Users\\Administrator\\AppData\\Local\\Temp\\2\\ipykernel_152844\\3772363637.py:35: FutureWarning: The frame.append method is deprecated and will be removed from pandas in a future version. Use pandas.concat instead.\n",
      "  df=df.append(df1, ignore_index = True)\n",
      "\r",
      "  7%|█████▋                                                                           | 14/199 [02:17<35:06, 11.39s/it]"
     ]
    },
    {
     "name": "stdout",
     "output_type": "stream",
     "text": [
      "['Keuken', 'Koffiemachine', 'Capsulemachine']\n",
      "…\n",
      "https://assets.mmsrg.com/isr/166325/c1/-/ASSET_MMS_82155536/fee_325_225_png\n",
      "************************\n",
      "14\n",
      "https://www.mediamarkt.be/nl/product/-1895843.html\n"
     ]
    },
    {
     "name": "stderr",
     "output_type": "stream",
     "text": [
      "C:\\Users\\Administrator\\AppData\\Local\\Temp\\2\\ipykernel_152844\\3772363637.py:35: FutureWarning: The frame.append method is deprecated and will be removed from pandas in a future version. Use pandas.concat instead.\n",
      "  df=df.append(df1, ignore_index = True)\n",
      "\r",
      "  8%|██████                                                                           | 15/199 [02:30<36:00, 11.74s/it]"
     ]
    },
    {
     "name": "stdout",
     "output_type": "stream",
     "text": [
      "['Keuken', 'Koffiemachine', 'Capsulemachine']\n",
      "…\n",
      "https://assets.mmsrg.com/isr/166325/c1/-/ASSET_MMS_108661512/fee_325_225_png\n",
      "************************\n",
      "15\n",
      "https://www.mediamarkt.be/nl/product/-1681437.html\n"
     ]
    },
    {
     "name": "stderr",
     "output_type": "stream",
     "text": [
      "C:\\Users\\Administrator\\AppData\\Local\\Temp\\2\\ipykernel_152844\\3772363637.py:35: FutureWarning: The frame.append method is deprecated and will be removed from pandas in a future version. Use pandas.concat instead.\n",
      "  df=df.append(df1, ignore_index = True)\n",
      "\r",
      "  8%|██████▌                                                                          | 16/199 [02:42<36:13, 11.88s/it]"
     ]
    },
    {
     "name": "stdout",
     "output_type": "stream",
     "text": [
      "['Keuken', 'Koffiemachine', 'Capsulemachine']\n",
      "…\n",
      "https://assets.mmsrg.com/isr/166325/c1/-/ASSET_MMS_108725038/fee_325_225_png\n",
      "************************\n",
      "16\n",
      "https://www.mediamarkt.be/nl/product/-1681437.html\n"
     ]
    },
    {
     "name": "stderr",
     "output_type": "stream",
     "text": [
      "C:\\Users\\Administrator\\AppData\\Local\\Temp\\2\\ipykernel_152844\\3772363637.py:35: FutureWarning: The frame.append method is deprecated and will be removed from pandas in a future version. Use pandas.concat instead.\n",
      "  df=df.append(df1, ignore_index = True)\n",
      "\r",
      "  9%|██████▉                                                                          | 17/199 [02:49<31:34, 10.41s/it]"
     ]
    },
    {
     "name": "stdout",
     "output_type": "stream",
     "text": [
      "['Keuken', 'Koffiemachine', 'Capsulemachine']\n",
      "…\n",
      "https://assets.mmsrg.com/isr/166325/c1/-/ASSET_MMS_108725038/fee_325_225_png\n",
      "************************\n",
      "17\n",
      "https://www.mediamarkt.be/nl/product/-1944068.html\n"
     ]
    },
    {
     "name": "stderr",
     "output_type": "stream",
     "text": [
      "C:\\Users\\Administrator\\AppData\\Local\\Temp\\2\\ipykernel_152844\\3772363637.py:35: FutureWarning: The frame.append method is deprecated and will be removed from pandas in a future version. Use pandas.concat instead.\n",
      "  df=df.append(df1, ignore_index = True)\n",
      "\r",
      "  9%|███████▎                                                                         | 18/199 [02:58<30:01,  9.95s/it]"
     ]
    },
    {
     "name": "stdout",
     "output_type": "stream",
     "text": [
      "['Keuken', 'Koffiemachine', 'Capsulemachine']\n",
      "Bezorging tussen 26-08-2023 - 29-08-2023\n",
      "https://assets.mmsrg.com/isr/166325/c1/-/ASSET_MMS_82931267/fee_325_225_png\n",
      "************************\n",
      "18\n",
      "https://www.mediamarkt.be/nl/product/-1762949.html\n"
     ]
    },
    {
     "name": "stderr",
     "output_type": "stream",
     "text": [
      "C:\\Users\\Administrator\\AppData\\Local\\Temp\\2\\ipykernel_152844\\3772363637.py:35: FutureWarning: The frame.append method is deprecated and will be removed from pandas in a future version. Use pandas.concat instead.\n",
      "  df=df.append(df1, ignore_index = True)\n",
      "\r",
      " 10%|███████▋                                                                         | 19/199 [03:09<30:59, 10.33s/it]"
     ]
    },
    {
     "name": "stdout",
     "output_type": "stream",
     "text": [
      "['Keuken', 'Koffiemachine', 'Capsulemachine']\n",
      "…\n",
      "https://assets.mmsrg.com/isr/166325/c1/-/pixelboxx-mss-78141055/fee_325_225_png\n",
      "************************\n",
      "19\n",
      "https://www.mediamarkt.be/nl/product/-1681439.html\n"
     ]
    },
    {
     "name": "stderr",
     "output_type": "stream",
     "text": [
      "C:\\Users\\Administrator\\AppData\\Local\\Temp\\2\\ipykernel_152844\\3772363637.py:35: FutureWarning: The frame.append method is deprecated and will be removed from pandas in a future version. Use pandas.concat instead.\n",
      "  df=df.append(df1, ignore_index = True)\n",
      "\r",
      " 10%|████████▏                                                                        | 20/199 [03:22<32:57, 11.05s/it]"
     ]
    },
    {
     "name": "stdout",
     "output_type": "stream",
     "text": [
      "['Keuken', 'Koffiemachine', 'Capsulemachine']\n",
      "…\n",
      "https://assets.mmsrg.com/isr/166325/c1/-/ASSET_MMS_108727310/fee_325_225_png\n",
      "************************\n",
      "20\n",
      "https://www.mediamarkt.be/nl/product/-2030599.html\n"
     ]
    },
    {
     "name": "stderr",
     "output_type": "stream",
     "text": [
      "C:\\Users\\Administrator\\AppData\\Local\\Temp\\2\\ipykernel_152844\\3772363637.py:35: FutureWarning: The frame.append method is deprecated and will be removed from pandas in a future version. Use pandas.concat instead.\n",
      "  df=df.append(df1, ignore_index = True)\n",
      "\r",
      " 11%|████████▌                                                                        | 21/199 [03:31<30:57, 10.43s/it]"
     ]
    },
    {
     "name": "stdout",
     "output_type": "stream",
     "text": [
      "['Keuken', 'Koffiemachine', 'Capsulemachine']\n",
      "Bezorging tussen 26-08-2023 - 29-08-2023\n",
      "https://assets.mmsrg.com/isr/166325/c1/-/ASSET_MMS_100932285/fee_325_225_png\n",
      "************************\n",
      "21\n",
      "https://www.mediamarkt.be/nl/product/-1350665.html\n"
     ]
    },
    {
     "name": "stderr",
     "output_type": "stream",
     "text": [
      "C:\\Users\\Administrator\\AppData\\Local\\Temp\\2\\ipykernel_152844\\3772363637.py:35: FutureWarning: The frame.append method is deprecated and will be removed from pandas in a future version. Use pandas.concat instead.\n",
      "  df=df.append(df1, ignore_index = True)\n",
      "\r",
      " 11%|████████▉                                                                        | 22/199 [03:47<36:11, 12.27s/it]"
     ]
    },
    {
     "name": "stdout",
     "output_type": "stream",
     "text": [
      "['Keuken', 'Koffiemachine', 'Capsulemachine']\n",
      "…\n",
      "https://assets.mmsrg.com/isr/166325/c1/-/ASSET_MMS_108677937/fee_325_225_png\n",
      "************************\n",
      "22\n",
      "https://www.mediamarkt.be/nl/product/-1785200.html\n"
     ]
    },
    {
     "name": "stderr",
     "output_type": "stream",
     "text": [
      "C:\\Users\\Administrator\\AppData\\Local\\Temp\\2\\ipykernel_152844\\3772363637.py:35: FutureWarning: The frame.append method is deprecated and will be removed from pandas in a future version. Use pandas.concat instead.\n",
      "  df=df.append(df1, ignore_index = True)\n",
      "\r",
      " 12%|█████████▎                                                                       | 23/199 [03:58<35:04, 11.96s/it]"
     ]
    },
    {
     "name": "stdout",
     "output_type": "stream",
     "text": [
      "['Keuken', 'Koffiemachine', 'Capsulemachine']\n",
      "…\n",
      "https://assets.mmsrg.com/isr/166325/c1/-/pixelboxx-mss-79432900/fee_325_225_png\n",
      "************************\n",
      "23\n",
      "https://www.mediamarkt.be/nl/product/-1826909.html\n"
     ]
    },
    {
     "name": "stderr",
     "output_type": "stream",
     "text": [
      "C:\\Users\\Administrator\\AppData\\Local\\Temp\\2\\ipykernel_152844\\3772363637.py:35: FutureWarning: The frame.append method is deprecated and will be removed from pandas in a future version. Use pandas.concat instead.\n",
      "  df=df.append(df1, ignore_index = True)\n",
      "\r",
      " 12%|█████████▊                                                                       | 24/199 [04:11<35:12, 12.07s/it]"
     ]
    },
    {
     "name": "stdout",
     "output_type": "stream",
     "text": [
      "['Keuken', 'Koffiemachine', 'Capsulemachine']\n",
      "…\n",
      "https://assets.mmsrg.com/isr/166325/c1/-/ASSET_MMS_108655895/fee_325_225_png\n",
      "************************\n",
      "24\n",
      "https://www.mediamarkt.be/nl/product/-1681436.html\n"
     ]
    },
    {
     "name": "stderr",
     "output_type": "stream",
     "text": [
      "C:\\Users\\Administrator\\AppData\\Local\\Temp\\2\\ipykernel_152844\\3772363637.py:35: FutureWarning: The frame.append method is deprecated and will be removed from pandas in a future version. Use pandas.concat instead.\n",
      "  df=df.append(df1, ignore_index = True)\n",
      "\r",
      " 13%|██████████▏                                                                      | 25/199 [04:22<34:47, 11.99s/it]"
     ]
    },
    {
     "name": "stdout",
     "output_type": "stream",
     "text": [
      "['Keuken', 'Koffiemachine', 'Capsulemachine']\n",
      "…\n",
      "https://assets.mmsrg.com/isr/166325/c1/-/ASSET_MMS_108724756/fee_325_225_png\n",
      "************************\n",
      "25\n",
      "https://www.mediamarkt.be/nl/product/-2000943.html\n"
     ]
    },
    {
     "name": "stderr",
     "output_type": "stream",
     "text": [
      "C:\\Users\\Administrator\\AppData\\Local\\Temp\\2\\ipykernel_152844\\3772363637.py:35: FutureWarning: The frame.append method is deprecated and will be removed from pandas in a future version. Use pandas.concat instead.\n",
      "  df=df.append(df1, ignore_index = True)\n",
      "\r",
      " 13%|██████████▌                                                                      | 26/199 [04:32<32:26, 11.25s/it]"
     ]
    },
    {
     "name": "stdout",
     "output_type": "stream",
     "text": [
      "['Keuken', 'Koffiemachine', 'Capsulemachine']\n",
      "…\n",
      "https://assets.mmsrg.com/isr/166325/c1/-/ASSET_MMS_92319506/fee_325_225_png\n",
      "************************\n",
      "26\n",
      "https://www.mediamarkt.be/nl/product/-1826914.html\n"
     ]
    },
    {
     "name": "stderr",
     "output_type": "stream",
     "text": [
      "C:\\Users\\Administrator\\AppData\\Local\\Temp\\2\\ipykernel_152844\\3772363637.py:35: FutureWarning: The frame.append method is deprecated and will be removed from pandas in a future version. Use pandas.concat instead.\n",
      "  df=df.append(df1, ignore_index = True)\n",
      "\r",
      " 14%|██████████▉                                                                      | 27/199 [04:43<32:01, 11.17s/it]"
     ]
    },
    {
     "name": "stdout",
     "output_type": "stream",
     "text": [
      "['Keuken', 'Koffiemachine', 'Capsulemachine']\n",
      "…\n",
      "https://assets.mmsrg.com/isr/166325/c1/-/pixelboxx-mss-81703941/fee_325_225_png\n",
      "************************\n",
      "27\n",
      "https://www.mediamarkt.be/nl/product/-2000957.html\n"
     ]
    },
    {
     "name": "stderr",
     "output_type": "stream",
     "text": [
      "C:\\Users\\Administrator\\AppData\\Local\\Temp\\2\\ipykernel_152844\\3772363637.py:35: FutureWarning: The frame.append method is deprecated and will be removed from pandas in a future version. Use pandas.concat instead.\n",
      "  df=df.append(df1, ignore_index = True)\n",
      "\r",
      " 14%|███████████▍                                                                     | 28/199 [04:52<29:43, 10.43s/it]"
     ]
    },
    {
     "name": "stdout",
     "output_type": "stream",
     "text": [
      "['Keuken', 'Koffiemachine', 'Capsulemachine']\n",
      "…\n",
      "https://assets.mmsrg.com/isr/166325/c1/-/ASSET_MMS_92319782/fee_325_225_png\n",
      "************************\n",
      "28\n",
      "https://www.mediamarkt.be/nl/product/-2041195.html\n"
     ]
    },
    {
     "name": "stderr",
     "output_type": "stream",
     "text": [
      "C:\\Users\\Administrator\\AppData\\Local\\Temp\\2\\ipykernel_152844\\3772363637.py:35: FutureWarning: The frame.append method is deprecated and will be removed from pandas in a future version. Use pandas.concat instead.\n",
      "  df=df.append(df1, ignore_index = True)\n",
      "\r",
      " 15%|███████████▊                                                                     | 29/199 [05:03<30:39, 10.82s/it]"
     ]
    },
    {
     "name": "stdout",
     "output_type": "stream",
     "text": [
      "['Keuken', 'Koffiemachine', 'Capsulemachine']\n",
      "…\n",
      "https://assets.mmsrg.com/isr/166325/c1/-/ASSET_MMS_107566314/fee_325_225_png\n",
      "************************\n",
      "29\n",
      "https://www.mediamarkt.be/nl/product/-2030600.html\n"
     ]
    },
    {
     "name": "stderr",
     "output_type": "stream",
     "text": [
      "C:\\Users\\Administrator\\AppData\\Local\\Temp\\2\\ipykernel_152844\\3772363637.py:35: FutureWarning: The frame.append method is deprecated and will be removed from pandas in a future version. Use pandas.concat instead.\n",
      "  df=df.append(df1, ignore_index = True)\n",
      "\r",
      " 15%|████████████▏                                                                    | 30/199 [05:21<36:08, 12.83s/it]"
     ]
    },
    {
     "name": "stdout",
     "output_type": "stream",
     "text": [
      "['Keuken', 'Koffiemachine', 'Capsulemachine']\n",
      "…\n",
      "https://assets.mmsrg.com/isr/166325/c1/-/ASSET_MMS_104149597/fee_325_225_png\n",
      "************************\n",
      "30\n",
      "https://www.mediamarkt.be/nl/product/-2071558.html\n",
      "['Keuken', 'Koffiemachine', 'Capsulemachine']\n"
     ]
    },
    {
     "name": "stderr",
     "output_type": "stream",
     "text": [
      "C:\\Users\\Administrator\\AppData\\Local\\Temp\\2\\ipykernel_152844\\3772363637.py:35: FutureWarning: The frame.append method is deprecated and will be removed from pandas in a future version. Use pandas.concat instead.\n",
      "  df=df.append(df1, ignore_index = True)\n",
      "\r",
      " 16%|████████████▌                                                                    | 31/199 [05:34<36:29, 13.03s/it]"
     ]
    },
    {
     "name": "stdout",
     "output_type": "stream",
     "text": [
      "…\n",
      "https://assets.mmsrg.com/isr/166325/c1/-/ASSET_MMS_105507753/fee_325_225_png\n",
      "************************\n",
      "31\n",
      "https://www.mediamarkt.be/nl/product/-1976037.html\n"
     ]
    },
    {
     "name": "stderr",
     "output_type": "stream",
     "text": [
      "C:\\Users\\Administrator\\AppData\\Local\\Temp\\2\\ipykernel_152844\\3772363637.py:35: FutureWarning: The frame.append method is deprecated and will be removed from pandas in a future version. Use pandas.concat instead.\n",
      "  df=df.append(df1, ignore_index = True)\n",
      "\r",
      " 16%|█████████████                                                                    | 32/199 [05:46<34:48, 12.51s/it]"
     ]
    },
    {
     "name": "stdout",
     "output_type": "stream",
     "text": [
      "['Keuken', 'Koffiemachine', 'Capsulemachine', 'Nespresso machine']\n",
      "…\n",
      "https://assets.mmsrg.com/isr/166325/c1/-/ASSET_MMS_89920435/fee_325_225_png\n",
      "************************\n",
      "32\n",
      "https://www.mediamarkt.be/nl/product/-1085589.html\n"
     ]
    },
    {
     "name": "stderr",
     "output_type": "stream",
     "text": [
      "C:\\Users\\Administrator\\AppData\\Local\\Temp\\2\\ipykernel_152844\\3772363637.py:35: FutureWarning: The frame.append method is deprecated and will be removed from pandas in a future version. Use pandas.concat instead.\n",
      "  df=df.append(df1, ignore_index = True)\n",
      "\r",
      " 17%|█████████████▍                                                                   | 33/199 [05:55<31:33, 11.41s/it]"
     ]
    },
    {
     "name": "stdout",
     "output_type": "stream",
     "text": [
      "['Keuken', 'Koffiemachine', 'Koffie']\n",
      "…\n",
      "https://assets.mmsrg.com/isr/166325/c1/-/pixelboxx-mss-78148831/fee_325_225_png\n",
      "************************\n",
      "33\n",
      "https://www.mediamarkt.be/nl/product/-1085588.html\n"
     ]
    },
    {
     "name": "stderr",
     "output_type": "stream",
     "text": [
      "C:\\Users\\Administrator\\AppData\\Local\\Temp\\2\\ipykernel_152844\\3772363637.py:35: FutureWarning: The frame.append method is deprecated and will be removed from pandas in a future version. Use pandas.concat instead.\n",
      "  df=df.append(df1, ignore_index = True)\n",
      "\r",
      " 17%|█████████████▊                                                                   | 34/199 [06:06<31:10, 11.34s/it]"
     ]
    },
    {
     "name": "stdout",
     "output_type": "stream",
     "text": [
      "['Keuken', 'Koffiemachine', 'Koffie']\n",
      "…\n",
      "https://assets.mmsrg.com/isr/166325/c1/-/pixelboxx-mss-78148821/fee_325_225_png\n",
      "************************\n",
      "34\n",
      "https://www.mediamarkt.be/nl/product/-1819224.html\n"
     ]
    },
    {
     "name": "stderr",
     "output_type": "stream",
     "text": [
      "C:\\Users\\Administrator\\AppData\\Local\\Temp\\2\\ipykernel_152844\\3772363637.py:35: FutureWarning: The frame.append method is deprecated and will be removed from pandas in a future version. Use pandas.concat instead.\n",
      "  df=df.append(df1, ignore_index = True)\n",
      "\r",
      " 18%|██████████████▏                                                                  | 35/199 [06:20<33:10, 12.14s/it]"
     ]
    },
    {
     "name": "stdout",
     "output_type": "stream",
     "text": [
      "['Keuken', 'Koffiemachine', 'Capsulemachine']\n",
      "Bezorging tussen 26-08-2023 - 29-08-2023\n",
      "https://assets.mmsrg.com/isr/166325/c1/-/ASSET_MMS_108679473/fee_325_225_png\n",
      "************************\n",
      "35\n",
      "https://www.mediamarkt.be/nl/product/-1985840.html\n"
     ]
    },
    {
     "name": "stderr",
     "output_type": "stream",
     "text": [
      "C:\\Users\\Administrator\\AppData\\Local\\Temp\\2\\ipykernel_152844\\3772363637.py:35: FutureWarning: The frame.append method is deprecated and will be removed from pandas in a future version. Use pandas.concat instead.\n",
      "  df=df.append(df1, ignore_index = True)\n",
      "\r",
      " 18%|██████████████▋                                                                  | 36/199 [06:38<38:20, 14.12s/it]"
     ]
    },
    {
     "name": "stdout",
     "output_type": "stream",
     "text": [
      "['Huishouden & Verzorging', 'Smart Home', 'Slimme verlichting']\n",
      "Bezorging tussen 26-08-2023 - 29-08-2023\n",
      "https://assets.mmsrg.com/isr/166325/c1/-/ASSET_MMS_88220407/fee_325_225_png\n",
      "************************\n",
      "36\n",
      "https://www.mediamarkt.be/nl/product/-2001164.html\n"
     ]
    },
    {
     "name": "stderr",
     "output_type": "stream",
     "text": [
      "C:\\Users\\Administrator\\AppData\\Local\\Temp\\2\\ipykernel_152844\\3772363637.py:35: FutureWarning: The frame.append method is deprecated and will be removed from pandas in a future version. Use pandas.concat instead.\n",
      "  df=df.append(df1, ignore_index = True)\n",
      "\r",
      " 19%|███████████████                                                                  | 37/199 [06:49<35:21, 13.10s/it]"
     ]
    },
    {
     "name": "stdout",
     "output_type": "stream",
     "text": [
      "['Huishouden & Verzorging', 'Smart Home', 'Slimme verlichting']\n",
      "…\n",
      "https://assets.mmsrg.com/isr/166325/c1/-/ASSET_MMS_92322585/fee_325_225_png\n",
      "************************\n",
      "37\n",
      "https://www.mediamarkt.be/nl/product/-2001420.html\n"
     ]
    },
    {
     "name": "stderr",
     "output_type": "stream",
     "text": [
      "C:\\Users\\Administrator\\AppData\\Local\\Temp\\2\\ipykernel_152844\\3772363637.py:35: FutureWarning: The frame.append method is deprecated and will be removed from pandas in a future version. Use pandas.concat instead.\n",
      "  df=df.append(df1, ignore_index = True)\n",
      "\r",
      " 19%|███████████████▍                                                                 | 38/199 [06:59<32:51, 12.24s/it]"
     ]
    },
    {
     "name": "stdout",
     "output_type": "stream",
     "text": [
      "['Gaming, Entertainment & Mobility', 'Films & Series', 'DVD Films']\n",
      "…\n",
      "https://assets.mmsrg.com/isr/166325/c1/-/ASSET_MMS_92189425/fee_325_225_png\n",
      "************************\n",
      "38\n",
      "https://www.mediamarkt.be/nl/product/-2030597.html\n"
     ]
    },
    {
     "name": "stderr",
     "output_type": "stream",
     "text": [
      "C:\\Users\\Administrator\\AppData\\Local\\Temp\\2\\ipykernel_152844\\3772363637.py:35: FutureWarning: The frame.append method is deprecated and will be removed from pandas in a future version. Use pandas.concat instead.\n",
      "  df=df.append(df1, ignore_index = True)\n",
      "\r",
      " 20%|███████████████▊                                                                 | 39/199 [07:11<32:27, 12.17s/it]"
     ]
    },
    {
     "name": "stdout",
     "output_type": "stream",
     "text": [
      "['Keuken', 'Koffiemachine', 'De Longhi koffiemachine']\n",
      "…\n",
      "https://assets.mmsrg.com/isr/166325/c1/-/ASSET_MMS_97494957/fee_325_225_png\n",
      "************************\n",
      "39\n",
      "https://www.mediamarkt.be/nl/product/-1983042.html\n"
     ]
    },
    {
     "name": "stderr",
     "output_type": "stream",
     "text": [
      "C:\\Users\\Administrator\\AppData\\Local\\Temp\\2\\ipykernel_152844\\3772363637.py:35: FutureWarning: The frame.append method is deprecated and will be removed from pandas in a future version. Use pandas.concat instead.\n",
      "  df=df.append(df1, ignore_index = True)\n",
      "\r",
      " 20%|████████████████▎                                                                | 40/199 [07:25<33:04, 12.48s/it]"
     ]
    },
    {
     "name": "stdout",
     "output_type": "stream",
     "text": [
      "['Keuken', 'Koffiemachine', 'De Longhi koffiemachine']\n",
      "…\n",
      "https://assets.mmsrg.com/isr/166325/c1/-/ASSET_MMS_88597758/fee_325_225_png\n",
      "************************\n",
      "40\n",
      "https://www.mediamarkt.be/nl/product/-1983043.html\n"
     ]
    },
    {
     "name": "stderr",
     "output_type": "stream",
     "text": [
      "C:\\Users\\Administrator\\AppData\\Local\\Temp\\2\\ipykernel_152844\\3772363637.py:35: FutureWarning: The frame.append method is deprecated and will be removed from pandas in a future version. Use pandas.concat instead.\n",
      "  df=df.append(df1, ignore_index = True)\n",
      "\r",
      " 21%|████████████████▋                                                                | 41/199 [07:37<32:36, 12.38s/it]"
     ]
    },
    {
     "name": "stdout",
     "output_type": "stream",
     "text": [
      "['Keuken', 'Koffiemachine', 'De Longhi koffiemachine']\n",
      "…\n",
      "https://assets.mmsrg.com/isr/166325/c1/-/ASSET_MMS_89558866/fee_325_225_png\n",
      "************************\n",
      "41\n",
      "https://www.mediamarkt.be/nl/product/-1983043.html\n"
     ]
    },
    {
     "name": "stderr",
     "output_type": "stream",
     "text": [
      "C:\\Users\\Administrator\\AppData\\Local\\Temp\\2\\ipykernel_152844\\3772363637.py:35: FutureWarning: The frame.append method is deprecated and will be removed from pandas in a future version. Use pandas.concat instead.\n",
      "  df=df.append(df1, ignore_index = True)\n",
      "\r",
      " 21%|█████████████████                                                                | 42/199 [07:45<28:56, 11.06s/it]"
     ]
    },
    {
     "name": "stdout",
     "output_type": "stream",
     "text": [
      "['Keuken', 'Koffiemachine', 'De Longhi koffiemachine']\n",
      "…\n",
      "https://assets.mmsrg.com/isr/166325/c1/-/ASSET_MMS_89558866/fee_325_225_png\n",
      "************************\n",
      "42\n",
      "https://www.mediamarkt.be/nl/product/-1984865.html\n"
     ]
    },
    {
     "name": "stderr",
     "output_type": "stream",
     "text": [
      "C:\\Users\\Administrator\\AppData\\Local\\Temp\\2\\ipykernel_152844\\3772363637.py:35: FutureWarning: The frame.append method is deprecated and will be removed from pandas in a future version. Use pandas.concat instead.\n",
      "  df=df.append(df1, ignore_index = True)\n",
      "\r",
      " 22%|█████████████████▌                                                               | 43/199 [07:57<29:40, 11.41s/it]"
     ]
    },
    {
     "name": "stdout",
     "output_type": "stream",
     "text": [
      "['Keuken', 'Koffiemachine', 'Philips koffiemachine']\n",
      "…\n",
      "https://assets.mmsrg.com/isr/166325/c1/-/ASSET_MMS_88345714/fee_325_225_png\n",
      "************************\n",
      "43\n",
      "https://www.mediamarkt.be/nl/product/-1984865.html\n"
     ]
    },
    {
     "name": "stderr",
     "output_type": "stream",
     "text": [
      "C:\\Users\\Administrator\\AppData\\Local\\Temp\\2\\ipykernel_152844\\3772363637.py:35: FutureWarning: The frame.append method is deprecated and will be removed from pandas in a future version. Use pandas.concat instead.\n",
      "  df=df.append(df1, ignore_index = True)\n",
      "\r",
      " 22%|█████████████████▉                                                               | 44/199 [08:09<30:10, 11.68s/it]"
     ]
    },
    {
     "name": "stdout",
     "output_type": "stream",
     "text": [
      "['Keuken', 'Koffiemachine', 'Philips koffiemachine']\n",
      "…\n",
      "https://assets.mmsrg.com/isr/166325/c1/-/ASSET_MMS_88345714/fee_325_225_png\n",
      "************************\n",
      "44\n",
      "https://www.mediamarkt.be/nl/product/-1841168.html\n"
     ]
    },
    {
     "name": "stderr",
     "output_type": "stream",
     "text": [
      "C:\\Users\\Administrator\\AppData\\Local\\Temp\\2\\ipykernel_152844\\3772363637.py:35: FutureWarning: The frame.append method is deprecated and will be removed from pandas in a future version. Use pandas.concat instead.\n",
      "  df=df.append(df1, ignore_index = True)\n",
      "\r",
      " 23%|██████████████████▎                                                              | 45/199 [08:25<33:19, 12.99s/it]"
     ]
    },
    {
     "name": "stdout",
     "output_type": "stream",
     "text": [
      "['Keuken', 'Koffiemachine', 'Philips koffiemachine']\n",
      "…\n",
      "https://assets.mmsrg.com/isr/166325/c1/-/ASSET_MMS_97091432/fee_325_225_png\n",
      "************************\n",
      "45\n",
      "https://www.mediamarkt.be/nl/product/-1656840.html\n"
     ]
    },
    {
     "name": "stderr",
     "output_type": "stream",
     "text": [
      "C:\\Users\\Administrator\\AppData\\Local\\Temp\\2\\ipykernel_152844\\3772363637.py:35: FutureWarning: The frame.append method is deprecated and will be removed from pandas in a future version. Use pandas.concat instead.\n",
      "  df=df.append(df1, ignore_index = True)\n",
      "\r",
      " 23%|██████████████████▋                                                              | 46/199 [08:36<31:28, 12.35s/it]"
     ]
    },
    {
     "name": "stdout",
     "output_type": "stream",
     "text": [
      "['Keuken', 'Koffiemachine', 'De Longhi koffiemachine']\n",
      "…\n",
      "https://assets.mmsrg.com/isr/166325/c1/-/pixelboxx-mss-75650927/fee_325_225_png\n",
      "************************\n",
      "46\n",
      "https://www.mediamarkt.be/nl/product/-1803414.html\n"
     ]
    },
    {
     "name": "stderr",
     "output_type": "stream",
     "text": [
      "C:\\Users\\Administrator\\AppData\\Local\\Temp\\2\\ipykernel_152844\\3772363637.py:35: FutureWarning: The frame.append method is deprecated and will be removed from pandas in a future version. Use pandas.concat instead.\n",
      "  df=df.append(df1, ignore_index = True)\n",
      "\r",
      " 24%|███████████████████▏                                                             | 47/199 [08:50<32:18, 12.75s/it]"
     ]
    },
    {
     "name": "stdout",
     "output_type": "stream",
     "text": [
      "['Keuken', 'Koffiemachine', 'Philips koffiemachine']\n",
      "…\n",
      "https://assets.mmsrg.com/isr/166325/c1/-/pixelboxx-mss-80954218/fee_325_225_png\n",
      "************************\n",
      "47\n",
      "https://www.mediamarkt.be/nl/product/-1844381.html\n"
     ]
    },
    {
     "name": "stderr",
     "output_type": "stream",
     "text": [
      "C:\\Users\\Administrator\\AppData\\Local\\Temp\\2\\ipykernel_152844\\3772363637.py:35: FutureWarning: The frame.append method is deprecated and will be removed from pandas in a future version. Use pandas.concat instead.\n",
      "  df=df.append(df1, ignore_index = True)\n",
      "\r",
      " 24%|███████████████████▌                                                             | 48/199 [09:01<30:58, 12.31s/it]"
     ]
    },
    {
     "name": "stdout",
     "output_type": "stream",
     "text": [
      "['Keuken', 'Koffiemachine', 'Espressomachine']\n",
      "Bezorging tussen 26-08-2023 - 29-08-2023\n",
      "https://assets.mmsrg.com/isr/166325/c1/-/ASSET_MMS_70188948/fee_325_225_png\n",
      "************************\n",
      "48\n",
      "https://www.mediamarkt.be/nl/product/-1804402.html\n",
      "['Keuken', 'Koffiemachine', 'Philips koffiemachine']\n",
      "…\n"
     ]
    },
    {
     "name": "stderr",
     "output_type": "stream",
     "text": [
      "C:\\Users\\Administrator\\AppData\\Local\\Temp\\2\\ipykernel_152844\\3772363637.py:35: FutureWarning: The frame.append method is deprecated and will be removed from pandas in a future version. Use pandas.concat instead.\n",
      "  df=df.append(df1, ignore_index = True)\n",
      "\r",
      " 25%|███████████████████▉                                                             | 49/199 [09:15<32:15, 12.90s/it]"
     ]
    },
    {
     "name": "stdout",
     "output_type": "stream",
     "text": [
      "https://assets.mmsrg.com/isr/166325/c1/-/pixelboxx-mss-81708503/fee_325_225_png\n",
      "************************\n",
      "49\n",
      "https://www.mediamarkt.be/nl/product/-2000808.html\n"
     ]
    },
    {
     "name": "stderr",
     "output_type": "stream",
     "text": [
      "C:\\Users\\Administrator\\AppData\\Local\\Temp\\2\\ipykernel_152844\\3772363637.py:35: FutureWarning: The frame.append method is deprecated and will be removed from pandas in a future version. Use pandas.concat instead.\n",
      "  df=df.append(df1, ignore_index = True)\n",
      "\r",
      " 25%|████████████████████▎                                                            | 50/199 [09:26<29:59, 12.08s/it]"
     ]
    },
    {
     "name": "stdout",
     "output_type": "stream",
     "text": [
      "['Keuken', 'Koffiemachine', 'Krups koffiemachine']\n",
      "…\n",
      "https://assets.mmsrg.com/isr/166325/c1/-/ASSET_MMS_108727469/fee_325_225_png\n",
      "************************\n",
      "50\n",
      "https://www.mediamarkt.be/nl/product/-1950021.html\n",
      "['Keuken', 'Koffiemachine', 'De Longhi koffiemachine']\n",
      "…\n"
     ]
    },
    {
     "name": "stderr",
     "output_type": "stream",
     "text": [
      "C:\\Users\\Administrator\\AppData\\Local\\Temp\\2\\ipykernel_152844\\3772363637.py:35: FutureWarning: The frame.append method is deprecated and will be removed from pandas in a future version. Use pandas.concat instead.\n",
      "  df=df.append(df1, ignore_index = True)\n",
      "\r",
      " 26%|████████████████████▊                                                            | 51/199 [09:40<31:49, 12.90s/it]"
     ]
    },
    {
     "name": "stdout",
     "output_type": "stream",
     "text": [
      "https://assets.mmsrg.com/isr/166325/c1/-/ASSET_MMS_89728890/fee_325_225_png\n",
      "************************\n",
      "51\n",
      "https://www.mediamarkt.be/nl/product/-1950021.html\n"
     ]
    },
    {
     "name": "stderr",
     "output_type": "stream",
     "text": [
      "C:\\Users\\Administrator\\AppData\\Local\\Temp\\2\\ipykernel_152844\\3772363637.py:35: FutureWarning: The frame.append method is deprecated and will be removed from pandas in a future version. Use pandas.concat instead.\n",
      "  df=df.append(df1, ignore_index = True)\n",
      "\r",
      " 26%|█████████████████████▏                                                           | 52/199 [09:49<28:36, 11.68s/it]"
     ]
    },
    {
     "name": "stdout",
     "output_type": "stream",
     "text": [
      "['Keuken', 'Koffiemachine', 'De Longhi koffiemachine']\n",
      "…\n",
      "https://assets.mmsrg.com/isr/166325/c1/-/ASSET_MMS_89728890/fee_325_225_png\n",
      "************************\n",
      "52\n",
      "https://www.mediamarkt.be/nl/product/-1644693.html\n"
     ]
    },
    {
     "name": "stderr",
     "output_type": "stream",
     "text": [
      "C:\\Users\\Administrator\\AppData\\Local\\Temp\\2\\ipykernel_152844\\3772363637.py:35: FutureWarning: The frame.append method is deprecated and will be removed from pandas in a future version. Use pandas.concat instead.\n",
      "  df=df.append(df1, ignore_index = True)\n",
      "\r",
      " 27%|█████████████████████▌                                                           | 53/199 [10:02<28:50, 11.85s/it]"
     ]
    },
    {
     "name": "stdout",
     "output_type": "stream",
     "text": [
      "['Keuken', 'Koffiemachine', 'De Longhi koffiemachine']\n",
      "Bezorging tussen 26-08-2023 - 29-08-2023\n",
      "https://assets.mmsrg.com/isr/166325/c1/-/pixelboxx-mss-75650998/fee_325_225_png\n",
      "************************\n",
      "53\n",
      "https://www.mediamarkt.be/nl/product/-1844388.html\n"
     ]
    },
    {
     "name": "stderr",
     "output_type": "stream",
     "text": [
      "C:\\Users\\Administrator\\AppData\\Local\\Temp\\2\\ipykernel_152844\\3772363637.py:35: FutureWarning: The frame.append method is deprecated and will be removed from pandas in a future version. Use pandas.concat instead.\n",
      "  df=df.append(df1, ignore_index = True)\n",
      "\r",
      " 27%|█████████████████████▉                                                           | 54/199 [10:10<26:01, 10.77s/it]"
     ]
    },
    {
     "name": "stdout",
     "output_type": "stream",
     "text": [
      "['Keuken', 'Koffiemachine', 'Koffiemachine onderhoud']\n",
      "…\n",
      "https://assets.mmsrg.com/isr/166325/c1/-/ASSET_MMS_101300241/fee_325_225_png\n",
      "************************\n",
      "54\n",
      "https://www.mediamarkt.be/nl/product/-2062800.html\n"
     ]
    },
    {
     "name": "stderr",
     "output_type": "stream",
     "text": [
      "C:\\Users\\Administrator\\AppData\\Local\\Temp\\2\\ipykernel_152844\\3772363637.py:35: FutureWarning: The frame.append method is deprecated and will be removed from pandas in a future version. Use pandas.concat instead.\n",
      "  df=df.append(df1, ignore_index = True)\n",
      "\r",
      " 28%|██████████████████████▍                                                          | 55/199 [10:18<24:20, 10.14s/it]"
     ]
    },
    {
     "name": "stdout",
     "output_type": "stream",
     "text": [
      "['Keuken', 'Koffiemachine', 'Koffie']\n",
      "…\n",
      "https://assets.mmsrg.com/isr/166325/c1/-/ASSET_MMS_105414413/fee_325_225_png\n",
      "************************\n",
      "55\n",
      "https://www.mediamarkt.be/nl/product/-2063487.html\n"
     ]
    },
    {
     "name": "stderr",
     "output_type": "stream",
     "text": [
      "C:\\Users\\Administrator\\AppData\\Local\\Temp\\2\\ipykernel_152844\\3772363637.py:35: FutureWarning: The frame.append method is deprecated and will be removed from pandas in a future version. Use pandas.concat instead.\n",
      "  df=df.append(df1, ignore_index = True)\n",
      "\r",
      " 28%|██████████████████████▊                                                          | 56/199 [10:33<27:07, 11.38s/it]"
     ]
    },
    {
     "name": "stdout",
     "output_type": "stream",
     "text": [
      "['Keuken', 'Koffiemachine', 'Capsulemachine']\n",
      "…\n",
      "https://assets.mmsrg.com/isr/166325/c1/-/ASSET_MMS_104106693/fee_325_225_png\n",
      "************************\n",
      "56\n",
      "https://www.mediamarkt.be/nl/product/-2039372.html\n"
     ]
    },
    {
     "name": "stderr",
     "output_type": "stream",
     "text": [
      "C:\\Users\\Administrator\\AppData\\Local\\Temp\\2\\ipykernel_152844\\3772363637.py:35: FutureWarning: The frame.append method is deprecated and will be removed from pandas in a future version. Use pandas.concat instead.\n",
      "  df=df.append(df1, ignore_index = True)\n",
      "\r",
      " 29%|███████████████████████▏                                                         | 57/199 [10:42<25:18, 10.69s/it]"
     ]
    },
    {
     "name": "stdout",
     "output_type": "stream",
     "text": [
      "['Keuken', 'Koffiemachine', 'Capsulemachine']\n",
      "Bezorging tussen 26-08-2023 - 29-08-2023\n",
      "https://assets.mmsrg.com/isr/166325/c1/-/ASSET_MMS_100047647/fee_325_225_png\n",
      "************************\n",
      "57\n",
      "https://www.mediamarkt.be/nl/product/-2041071.html\n"
     ]
    },
    {
     "name": "stderr",
     "output_type": "stream",
     "text": [
      "C:\\Users\\Administrator\\AppData\\Local\\Temp\\2\\ipykernel_152844\\3772363637.py:35: FutureWarning: The frame.append method is deprecated and will be removed from pandas in a future version. Use pandas.concat instead.\n",
      "  df=df.append(df1, ignore_index = True)\n",
      "\r",
      " 29%|███████████████████████▌                                                         | 58/199 [10:51<24:14, 10.32s/it]"
     ]
    },
    {
     "name": "stdout",
     "output_type": "stream",
     "text": [
      "['Keuken', 'Koffiemachine', 'Capsulemachine']\n",
      "Bezorging tussen 26-08-2023 - 29-08-2023\n",
      "https://assets.mmsrg.com/isr/166325/c1/-/ASSET_MMS_100030515/fee_325_225_png\n",
      "************************\n",
      "58\n",
      "https://www.mediamarkt.be/nl/product/-2041087.html\n"
     ]
    },
    {
     "name": "stderr",
     "output_type": "stream",
     "text": [
      "C:\\Users\\Administrator\\AppData\\Local\\Temp\\2\\ipykernel_152844\\3772363637.py:35: FutureWarning: The frame.append method is deprecated and will be removed from pandas in a future version. Use pandas.concat instead.\n",
      "  df=df.append(df1, ignore_index = True)\n",
      "\r",
      " 30%|████████████████████████                                                         | 59/199 [11:02<24:43, 10.60s/it]"
     ]
    },
    {
     "name": "stdout",
     "output_type": "stream",
     "text": [
      "['Keuken', 'Koffiemachine', 'Capsulemachine']\n",
      "…\n",
      "https://assets.mmsrg.com/isr/166325/c1/-/ASSET_MMS_100030503/fee_325_225_png\n",
      "************************\n",
      "59\n",
      "https://www.mediamarkt.be/nl/product/-1839909.html\n",
      "['Keuken', 'Koffiemachine', 'Capsulemachine']\n",
      "…\n"
     ]
    },
    {
     "name": "stderr",
     "output_type": "stream",
     "text": [
      "C:\\Users\\Administrator\\AppData\\Local\\Temp\\2\\ipykernel_152844\\3772363637.py:35: FutureWarning: The frame.append method is deprecated and will be removed from pandas in a future version. Use pandas.concat instead.\n",
      "  df=df.append(df1, ignore_index = True)\n",
      "\r",
      " 30%|████████████████████████▍                                                        | 60/199 [11:14<25:04, 10.82s/it]"
     ]
    },
    {
     "name": "stdout",
     "output_type": "stream",
     "text": [
      "https://assets.mmsrg.com/isr/166325/c1/-/ASSET_MMS_94713454/fee_325_225_png\n",
      "************************\n",
      "60\n",
      "https://www.mediamarkt.be/nl/product/-2041072.html\n"
     ]
    },
    {
     "name": "stderr",
     "output_type": "stream",
     "text": [
      "C:\\Users\\Administrator\\AppData\\Local\\Temp\\2\\ipykernel_152844\\3772363637.py:35: FutureWarning: The frame.append method is deprecated and will be removed from pandas in a future version. Use pandas.concat instead.\n",
      "  df=df.append(df1, ignore_index = True)\n",
      "\r",
      " 31%|████████████████████████▊                                                        | 61/199 [11:27<26:50, 11.67s/it]"
     ]
    },
    {
     "name": "stdout",
     "output_type": "stream",
     "text": [
      "['Keuken', 'Koffiemachine', 'Capsulemachine']\n",
      "Bezorging tussen 26-08-2023 - 29-08-2023\n",
      "https://assets.mmsrg.com/isr/166325/c1/-/ASSET_MMS_100030506/fee_325_225_png\n",
      "************************\n",
      "61\n",
      "https://www.mediamarkt.be/nl/product/-1833804.html\n"
     ]
    },
    {
     "name": "stderr",
     "output_type": "stream",
     "text": [
      "C:\\Users\\Administrator\\AppData\\Local\\Temp\\2\\ipykernel_152844\\3772363637.py:35: FutureWarning: The frame.append method is deprecated and will be removed from pandas in a future version. Use pandas.concat instead.\n",
      "  df=df.append(df1, ignore_index = True)\n",
      "\r",
      " 31%|█████████████████████████▏                                                       | 62/199 [11:41<28:15, 12.38s/it]"
     ]
    },
    {
     "name": "stdout",
     "output_type": "stream",
     "text": [
      "['Keuken', 'Koffiemachine', 'Capsulemachine']\n",
      "…\n",
      "https://assets.mmsrg.com/isr/166325/c1/-/pixelboxx-mss-82076302/fee_325_225_png\n",
      "************************\n",
      "62\n",
      "https://www.mediamarkt.be/nl/product/-1878031.html\n"
     ]
    },
    {
     "name": "stderr",
     "output_type": "stream",
     "text": [
      "C:\\Users\\Administrator\\AppData\\Local\\Temp\\2\\ipykernel_152844\\3772363637.py:35: FutureWarning: The frame.append method is deprecated and will be removed from pandas in a future version. Use pandas.concat instead.\n",
      "  df=df.append(df1, ignore_index = True)\n",
      "\r",
      " 32%|█████████████████████████▋                                                       | 63/199 [11:52<26:52, 11.86s/it]"
     ]
    },
    {
     "name": "stdout",
     "output_type": "stream",
     "text": [
      "['Keuken', 'Koffiemachine', 'Capsulemachine']\n",
      "…\n",
      "https://assets.mmsrg.com/isr/166325/c1/-/ASSET_MMS_73908446/fee_325_225_png\n",
      "************************\n",
      "63\n",
      "https://www.mediamarkt.be/nl/product/-1977604.html\n",
      "['Keuken', 'Koffiemachine', 'Capsulemachine']\n",
      "…\n"
     ]
    },
    {
     "name": "stderr",
     "output_type": "stream",
     "text": [
      "C:\\Users\\Administrator\\AppData\\Local\\Temp\\2\\ipykernel_152844\\3772363637.py:35: FutureWarning: The frame.append method is deprecated and will be removed from pandas in a future version. Use pandas.concat instead.\n",
      "  df=df.append(df1, ignore_index = True)\n",
      "\r",
      " 32%|██████████████████████████                                                       | 64/199 [12:05<27:17, 12.13s/it]"
     ]
    },
    {
     "name": "stdout",
     "output_type": "stream",
     "text": [
      "https://assets.mmsrg.com/isr/166325/c1/-/ASSET_MMS_108661710/fee_325_225_png\n",
      "************************\n",
      "64\n",
      "https://www.mediamarkt.be/nl/product/-2001877.html\n"
     ]
    },
    {
     "name": "stderr",
     "output_type": "stream",
     "text": [
      "C:\\Users\\Administrator\\AppData\\Local\\Temp\\2\\ipykernel_152844\\3772363637.py:35: FutureWarning: The frame.append method is deprecated and will be removed from pandas in a future version. Use pandas.concat instead.\n",
      "  df=df.append(df1, ignore_index = True)\n",
      "\r",
      " 33%|██████████████████████████▍                                                      | 65/199 [12:18<27:42, 12.41s/it]"
     ]
    },
    {
     "name": "stdout",
     "output_type": "stream",
     "text": [
      "['Keuken', 'Koffiemachine', 'Capsulemachine']\n",
      "…\n",
      "https://assets.mmsrg.com/isr/166325/c1/-/ASSET_MMS_91936459/fee_325_225_png\n",
      "************************\n",
      "65\n",
      "https://www.mediamarkt.be/nl/product/-1842399.html\n"
     ]
    },
    {
     "name": "stderr",
     "output_type": "stream",
     "text": [
      "C:\\Users\\Administrator\\AppData\\Local\\Temp\\2\\ipykernel_152844\\3772363637.py:35: FutureWarning: The frame.append method is deprecated and will be removed from pandas in a future version. Use pandas.concat instead.\n",
      "  df=df.append(df1, ignore_index = True)\n",
      "\r",
      " 33%|██████████████████████████▊                                                      | 66/199 [12:28<26:05, 11.77s/it]"
     ]
    },
    {
     "name": "stdout",
     "output_type": "stream",
     "text": [
      "['Keuken', 'Koffiemachine', 'Capsulemachine']\n",
      "…\n",
      "https://assets.mmsrg.com/isr/166325/c1/-/ASSET_MMS_72922703/fee_325_225_png\n",
      "************************\n",
      "66\n",
      "https://www.mediamarkt.be/nl/product/-2065764.html\n"
     ]
    },
    {
     "name": "stderr",
     "output_type": "stream",
     "text": [
      "C:\\Users\\Administrator\\AppData\\Local\\Temp\\2\\ipykernel_152844\\3772363637.py:35: FutureWarning: The frame.append method is deprecated and will be removed from pandas in a future version. Use pandas.concat instead.\n",
      "  df=df.append(df1, ignore_index = True)\n",
      "\r",
      " 34%|███████████████████████████▎                                                     | 67/199 [12:39<25:04, 11.40s/it]"
     ]
    },
    {
     "name": "stdout",
     "output_type": "stream",
     "text": [
      "['Keuken', 'Koffiemachine', 'De Longhi koffiemachine']\n",
      "…\n",
      "https://assets.mmsrg.com/isr/166325/c1/-/ASSET_MMS_104158997/fee_325_225_png\n",
      "************************\n",
      "67\n",
      "https://www.mediamarkt.be/nl/product/-1854930.html\n"
     ]
    },
    {
     "name": "stderr",
     "output_type": "stream",
     "text": [
      "C:\\Users\\Administrator\\AppData\\Local\\Temp\\2\\ipykernel_152844\\3772363637.py:35: FutureWarning: The frame.append method is deprecated and will be removed from pandas in a future version. Use pandas.concat instead.\n",
      "  df=df.append(df1, ignore_index = True)\n",
      "\r",
      " 34%|███████████████████████████▋                                                     | 68/199 [12:59<30:55, 14.16s/it]"
     ]
    },
    {
     "name": "stdout",
     "output_type": "stream",
     "text": [
      "['Keuken', 'Koffiemachine', 'De Longhi koffiemachine']\n",
      "…\n",
      "https://assets.mmsrg.com/isr/166325/c1/-/ASSET_MMS_71592141/fee_325_225_png\n",
      "************************\n",
      "68\n",
      "https://www.mediamarkt.be/nl/product/-2068380.html\n",
      "['Keuken', 'Drank', 'Sodamachine']\n"
     ]
    },
    {
     "name": "stderr",
     "output_type": "stream",
     "text": [
      "C:\\Users\\Administrator\\AppData\\Local\\Temp\\2\\ipykernel_152844\\3772363637.py:35: FutureWarning: The frame.append method is deprecated and will be removed from pandas in a future version. Use pandas.concat instead.\n",
      "  df=df.append(df1, ignore_index = True)\n",
      "\r",
      " 35%|████████████████████████████                                                     | 69/199 [13:09<27:48, 12.83s/it]"
     ]
    },
    {
     "name": "stdout",
     "output_type": "stream",
     "text": [
      "…\n",
      "https://assets.mmsrg.com/isr/166325/c1/-/ASSET_MMS_107632925/fee_325_225_png\n",
      "************************\n",
      "69\n",
      "https://www.mediamarkt.be/nl/product/-2062801.html\n",
      "['Keuken', 'Koffiemachine', 'Koffie']\n",
      "…\n"
     ]
    },
    {
     "name": "stderr",
     "output_type": "stream",
     "text": [
      "C:\\Users\\Administrator\\AppData\\Local\\Temp\\2\\ipykernel_152844\\3772363637.py:35: FutureWarning: The frame.append method is deprecated and will be removed from pandas in a future version. Use pandas.concat instead.\n",
      "  df=df.append(df1, ignore_index = True)\n",
      "\r",
      " 35%|████████████████████████████▍                                                    | 70/199 [13:19<25:37, 11.92s/it]"
     ]
    },
    {
     "name": "stdout",
     "output_type": "stream",
     "text": [
      "https://assets.mmsrg.com/isr/166325/c1/-/ASSET_MMS_105414415/fee_325_225_png\n",
      "************************\n",
      "70\n",
      "https://www.mediamarkt.be/nl/product/-2062803.html\n"
     ]
    },
    {
     "name": "stderr",
     "output_type": "stream",
     "text": [
      "C:\\Users\\Administrator\\AppData\\Local\\Temp\\2\\ipykernel_152844\\3772363637.py:35: FutureWarning: The frame.append method is deprecated and will be removed from pandas in a future version. Use pandas.concat instead.\n",
      "  df=df.append(df1, ignore_index = True)\n",
      "\r",
      " 36%|████████████████████████████▉                                                    | 71/199 [13:32<26:07, 12.24s/it]"
     ]
    },
    {
     "name": "stdout",
     "output_type": "stream",
     "text": [
      "['Keuken', 'Koffiemachine', 'Koffie']\n",
      "…\n",
      "https://assets.mmsrg.com/isr/166325/c1/-/ASSET_MMS_105414423/fee_325_225_png\n",
      "************************\n",
      "71\n",
      "https://www.mediamarkt.be/nl/product/-2062802.html\n",
      "['Keuken', 'Koffiemachine', 'Koffie']\n",
      "…\n"
     ]
    },
    {
     "name": "stderr",
     "output_type": "stream",
     "text": [
      "C:\\Users\\Administrator\\AppData\\Local\\Temp\\2\\ipykernel_152844\\3772363637.py:35: FutureWarning: The frame.append method is deprecated and will be removed from pandas in a future version. Use pandas.concat instead.\n",
      "  df=df.append(df1, ignore_index = True)\n",
      "\r",
      " 36%|█████████████████████████████▎                                                   | 72/199 [13:44<25:30, 12.05s/it]"
     ]
    },
    {
     "name": "stdout",
     "output_type": "stream",
     "text": [
      "https://assets.mmsrg.com/isr/166325/c1/-/ASSET_MMS_105414416/fee_325_225_png\n",
      "************************\n",
      "72\n",
      "https://www.mediamarkt.be/nl/product/-1906169.html\n"
     ]
    },
    {
     "name": "stderr",
     "output_type": "stream",
     "text": [
      "C:\\Users\\Administrator\\AppData\\Local\\Temp\\2\\ipykernel_152844\\3772363637.py:35: FutureWarning: The frame.append method is deprecated and will be removed from pandas in a future version. Use pandas.concat instead.\n",
      "  df=df.append(df1, ignore_index = True)\n",
      "\r",
      " 37%|█████████████████████████████▋                                                   | 73/199 [13:58<26:36, 12.67s/it]"
     ]
    },
    {
     "name": "stdout",
     "output_type": "stream",
     "text": [
      "['Keuken', 'Koffiemachine', 'De Longhi koffiemachine']\n",
      "…\n",
      "https://assets.mmsrg.com/isr/166325/c1/-/ASSET_MMS_78262362/fee_325_225_png\n",
      "************************\n",
      "73\n",
      "https://www.mediamarkt.be/nl/product/-1656841.html\n",
      "['Keuken', 'Koffiemachine', 'De Longhi koffiemachine']\n",
      "…\n",
      "https://assets.mmsrg.com/isr/166325/c1/-/pixelboxx-mss-75650898/fee_325_225_png\n"
     ]
    },
    {
     "name": "stderr",
     "output_type": "stream",
     "text": [
      "C:\\Users\\Administrator\\AppData\\Local\\Temp\\2\\ipykernel_152844\\3772363637.py:35: FutureWarning: The frame.append method is deprecated and will be removed from pandas in a future version. Use pandas.concat instead.\n",
      "  df=df.append(df1, ignore_index = True)\n",
      "\r",
      " 37%|██████████████████████████████                                                   | 74/199 [14:11<26:56, 12.93s/it]"
     ]
    },
    {
     "name": "stdout",
     "output_type": "stream",
     "text": [
      "************************\n",
      "74\n",
      "https://www.mediamarkt.be/nl/product/-1447005.html\n"
     ]
    },
    {
     "name": "stderr",
     "output_type": "stream",
     "text": [
      "C:\\Users\\Administrator\\AppData\\Local\\Temp\\2\\ipykernel_152844\\3772363637.py:35: FutureWarning: The frame.append method is deprecated and will be removed from pandas in a future version. Use pandas.concat instead.\n",
      "  df=df.append(df1, ignore_index = True)\n",
      "\r",
      " 38%|██████████████████████████████▌                                                  | 75/199 [14:26<28:05, 13.59s/it]"
     ]
    },
    {
     "name": "stdout",
     "output_type": "stream",
     "text": [
      "['Keuken', 'Koffiemachine', 'De Longhi koffiemachine']\n",
      "…\n",
      "https://assets.mmsrg.com/isr/166325/c1/-/pixelboxx-mss-68416139/fee_325_225_png\n",
      "************************\n",
      "75\n",
      "https://www.mediamarkt.be/nl/product/-1983044.html\n"
     ]
    },
    {
     "name": "stderr",
     "output_type": "stream",
     "text": [
      "C:\\Users\\Administrator\\AppData\\Local\\Temp\\2\\ipykernel_152844\\3772363637.py:35: FutureWarning: The frame.append method is deprecated and will be removed from pandas in a future version. Use pandas.concat instead.\n",
      "  df=df.append(df1, ignore_index = True)\n",
      "\r",
      " 38%|██████████████████████████████▉                                                  | 76/199 [14:38<26:29, 12.92s/it]"
     ]
    },
    {
     "name": "stdout",
     "output_type": "stream",
     "text": [
      "['Keuken', 'Koffiemachine', 'De Longhi koffiemachine']\n",
      "…\n",
      "https://assets.mmsrg.com/isr/166325/c1/-/ASSET_MMS_89156000/fee_325_225_png\n",
      "************************\n",
      "76\n",
      "https://www.mediamarkt.be/nl/product/-1703463.html\n",
      "['Keuken', 'Koffiemachine', 'De Longhi koffiemachine']\n",
      "…\n"
     ]
    },
    {
     "name": "stderr",
     "output_type": "stream",
     "text": [
      "C:\\Users\\Administrator\\AppData\\Local\\Temp\\2\\ipykernel_152844\\3772363637.py:35: FutureWarning: The frame.append method is deprecated and will be removed from pandas in a future version. Use pandas.concat instead.\n",
      "  df=df.append(df1, ignore_index = True)\n",
      "\r",
      " 39%|███████████████████████████████▎                                                 | 77/199 [14:50<26:12, 12.89s/it]"
     ]
    },
    {
     "name": "stdout",
     "output_type": "stream",
     "text": [
      "https://assets.mmsrg.com/isr/166325/c1/-/pixelboxx-mss-76455789/fee_325_225_png\n",
      "************************\n",
      "77\n",
      "https://www.mediamarkt.be/nl/product/-1980293.html\n"
     ]
    },
    {
     "name": "stderr",
     "output_type": "stream",
     "text": [
      "C:\\Users\\Administrator\\AppData\\Local\\Temp\\2\\ipykernel_152844\\3772363637.py:35: FutureWarning: The frame.append method is deprecated and will be removed from pandas in a future version. Use pandas.concat instead.\n",
      "  df=df.append(df1, ignore_index = True)\n",
      "\r",
      " 39%|███████████████████████████████▋                                                 | 78/199 [15:06<27:31, 13.65s/it]"
     ]
    },
    {
     "name": "stdout",
     "output_type": "stream",
     "text": [
      "['Keuken', 'Koffiemachine', 'Capsulemachine']\n",
      "…\n",
      "https://assets.mmsrg.com/isr/166325/c1/-/ASSET_MMS_92540347/fee_325_225_png\n",
      "************************\n",
      "78\n",
      "https://www.mediamarkt.be/nl/product/-1763732.html\n"
     ]
    },
    {
     "name": "stderr",
     "output_type": "stream",
     "text": [
      "C:\\Users\\Administrator\\AppData\\Local\\Temp\\2\\ipykernel_152844\\3772363637.py:35: FutureWarning: The frame.append method is deprecated and will be removed from pandas in a future version. Use pandas.concat instead.\n",
      "  df=df.append(df1, ignore_index = True)\n",
      "\r",
      " 40%|████████████████████████████████▏                                                | 79/199 [15:18<26:21, 13.18s/it]"
     ]
    },
    {
     "name": "stdout",
     "output_type": "stream",
     "text": [
      "['Keuken', 'Drank', 'Ontkalker']\n",
      "…\n",
      "https://assets.mmsrg.com/isr/166325/c1/-/pixelboxx-mss-82132168/fee_325_225_png\n",
      "************************\n",
      "79\n",
      "https://www.mediamarkt.be/nl/product/-2006819.html\n"
     ]
    },
    {
     "name": "stderr",
     "output_type": "stream",
     "text": [
      "C:\\Users\\Administrator\\AppData\\Local\\Temp\\2\\ipykernel_152844\\3772363637.py:35: FutureWarning: The frame.append method is deprecated and will be removed from pandas in a future version. Use pandas.concat instead.\n",
      "  df=df.append(df1, ignore_index = True)\n",
      "\r",
      " 40%|████████████████████████████████▌                                                | 80/199 [15:30<25:11, 12.70s/it]"
     ]
    },
    {
     "name": "stdout",
     "output_type": "stream",
     "text": [
      "['Keuken', 'Koffiemachine', 'Capsulemachine']\n",
      "…\n",
      "https://assets.mmsrg.com/isr/166325/c1/-/ASSET_MMS_105714956/fee_325_225_png\n",
      "************************\n",
      "80\n",
      "https://www.mediamarkt.be/nl/product/-1166371.html\n",
      "['Keuken', 'Koffiemachine', 'Koffiemachine onderhoud']\n",
      "…\n"
     ]
    },
    {
     "name": "stderr",
     "output_type": "stream",
     "text": [
      "C:\\Users\\Administrator\\AppData\\Local\\Temp\\2\\ipykernel_152844\\3772363637.py:35: FutureWarning: The frame.append method is deprecated and will be removed from pandas in a future version. Use pandas.concat instead.\n",
      "  df=df.append(df1, ignore_index = True)\n",
      "\r",
      " 41%|████████████████████████████████▉                                                | 81/199 [15:48<28:18, 14.39s/it]"
     ]
    },
    {
     "name": "stdout",
     "output_type": "stream",
     "text": [
      "https://assets.mmsrg.com/isr/166325/c1/-/ASSET_MMS_56734586/fee_325_225_png\n",
      "************************\n",
      "81\n",
      "https://www.mediamarkt.be/nl/product/-1116556.html\n"
     ]
    },
    {
     "name": "stderr",
     "output_type": "stream",
     "text": [
      "C:\\Users\\Administrator\\AppData\\Local\\Temp\\2\\ipykernel_152844\\3772363637.py:35: FutureWarning: The frame.append method is deprecated and will be removed from pandas in a future version. Use pandas.concat instead.\n",
      "  df=df.append(df1, ignore_index = True)\n",
      "\r",
      " 41%|█████████████████████████████████▍                                               | 82/199 [15:59<26:23, 13.53s/it]"
     ]
    },
    {
     "name": "stdout",
     "output_type": "stream",
     "text": [
      "['Keuken', 'Koffiemachine', 'Koffie accessoires']\n",
      "…\n",
      "https://assets.mmsrg.com/isr/166325/c1/-/ASSET_MMS_57945283/fee_325_225_png\n",
      "************************\n",
      "82\n",
      "https://www.mediamarkt.be/nl/product/-1111600.html\n"
     ]
    },
    {
     "name": "stderr",
     "output_type": "stream",
     "text": [
      "C:\\Users\\Administrator\\AppData\\Local\\Temp\\2\\ipykernel_152844\\3772363637.py:35: FutureWarning: The frame.append method is deprecated and will be removed from pandas in a future version. Use pandas.concat instead.\n",
      "  df=df.append(df1, ignore_index = True)\n",
      "\r",
      " 42%|█████████████████████████████████▊                                               | 83/199 [16:10<24:14, 12.54s/it]"
     ]
    },
    {
     "name": "stdout",
     "output_type": "stream",
     "text": [
      "['Keuken', 'Koffiemachine', 'Koffie accessoires']\n",
      "Bezorging tussen 26-08-2023 - 29-08-2023\n",
      "https://assets.mmsrg.com/isr/166325/c1/-/pixelboxx-mss-15160112/fee_325_225_png\n",
      "************************\n",
      "83\n",
      "https://www.mediamarkt.be/nl/product/-1274423.html\n"
     ]
    },
    {
     "name": "stderr",
     "output_type": "stream",
     "text": [
      "C:\\Users\\Administrator\\AppData\\Local\\Temp\\2\\ipykernel_152844\\3772363637.py:35: FutureWarning: The frame.append method is deprecated and will be removed from pandas in a future version. Use pandas.concat instead.\n",
      "  df=df.append(df1, ignore_index = True)\n",
      "\r",
      " 42%|██████████████████████████████████▏                                              | 84/199 [16:22<23:53, 12.47s/it]"
     ]
    },
    {
     "name": "stdout",
     "output_type": "stream",
     "text": [
      "['Keuken', 'Koffiemachine', 'Koffie accessoires']\n",
      "…\n",
      "https://assets.mmsrg.com/isr/166325/c1/-/ASSET_MMS_57944874/fee_325_225_png\n",
      "************************\n",
      "84\n",
      "https://www.mediamarkt.be/nl/product/-1862295.html\n",
      "['Keuken', 'Koffiemachine', 'Koffie accessoires']\n",
      "…\n"
     ]
    },
    {
     "name": "stderr",
     "output_type": "stream",
     "text": [
      "C:\\Users\\Administrator\\AppData\\Local\\Temp\\2\\ipykernel_152844\\3772363637.py:35: FutureWarning: The frame.append method is deprecated and will be removed from pandas in a future version. Use pandas.concat instead.\n",
      "  df=df.append(df1, ignore_index = True)\n",
      "\r",
      " 43%|██████████████████████████████████▌                                              | 85/199 [16:32<22:03, 11.61s/it]"
     ]
    },
    {
     "name": "stdout",
     "output_type": "stream",
     "text": [
      "https://assets.mmsrg.com/isr/166325/c1/-/ASSET_MMS_71297685/fee_325_225_png\n",
      "************************\n",
      "85\n",
      "https://www.mediamarkt.be/nl/product/-1862297.html\n",
      "['Keuken', 'Koffiemachine', 'Koffie accessoires']\n",
      "Bezorging tussen 26-08-2023 - 29-08-2023\n"
     ]
    },
    {
     "name": "stderr",
     "output_type": "stream",
     "text": [
      "C:\\Users\\Administrator\\AppData\\Local\\Temp\\2\\ipykernel_152844\\3772363637.py:35: FutureWarning: The frame.append method is deprecated and will be removed from pandas in a future version. Use pandas.concat instead.\n",
      "  df=df.append(df1, ignore_index = True)\n",
      "\r",
      " 43%|███████████████████████████████████                                              | 86/199 [16:43<21:36, 11.47s/it]"
     ]
    },
    {
     "name": "stdout",
     "output_type": "stream",
     "text": [
      "https://assets.mmsrg.com/isr/166325/c1/-/ASSET_MMS_71299304/fee_325_225_png\n",
      "************************\n",
      "86\n",
      "https://www.mediamarkt.be/nl/product/-1638837.html\n",
      "['Keuken', 'Koffiemachine', 'Koffie accessoires']\n",
      "…\n"
     ]
    },
    {
     "name": "stderr",
     "output_type": "stream",
     "text": [
      "C:\\Users\\Administrator\\AppData\\Local\\Temp\\2\\ipykernel_152844\\3772363637.py:35: FutureWarning: The frame.append method is deprecated and will be removed from pandas in a future version. Use pandas.concat instead.\n",
      "  df=df.append(df1, ignore_index = True)\n",
      "\r",
      " 44%|███████████████████████████████████▍                                             | 87/199 [16:54<21:24, 11.47s/it]"
     ]
    },
    {
     "name": "stdout",
     "output_type": "stream",
     "text": [
      "https://assets.mmsrg.com/isr/166325/c1/-/ASSET_MMS_97391464/fee_325_225_png\n",
      "************************\n",
      "87\n",
      "https://www.mediamarkt.be/nl/product/-1862296.html\n",
      "['Keuken', 'Koffiemachine', 'Koffie accessoires']\n",
      "…\n"
     ]
    },
    {
     "name": "stderr",
     "output_type": "stream",
     "text": [
      "C:\\Users\\Administrator\\AppData\\Local\\Temp\\2\\ipykernel_152844\\3772363637.py:35: FutureWarning: The frame.append method is deprecated and will be removed from pandas in a future version. Use pandas.concat instead.\n",
      "  df=df.append(df1, ignore_index = True)\n",
      "\r",
      " 44%|███████████████████████████████████▊                                             | 88/199 [17:08<22:21, 12.09s/it]"
     ]
    },
    {
     "name": "stdout",
     "output_type": "stream",
     "text": [
      "https://assets.mmsrg.com/isr/166325/c1/-/ASSET_MMS_71299144/fee_325_225_png\n",
      "************************\n",
      "88\n",
      "https://www.mediamarkt.be/nl/product/-1121906.html\n"
     ]
    },
    {
     "name": "stderr",
     "output_type": "stream",
     "text": [
      "C:\\Users\\Administrator\\AppData\\Local\\Temp\\2\\ipykernel_152844\\3772363637.py:35: FutureWarning: The frame.append method is deprecated and will be removed from pandas in a future version. Use pandas.concat instead.\n",
      "  df=df.append(df1, ignore_index = True)\n",
      "\r",
      " 45%|████████████████████████████████████▏                                            | 89/199 [17:19<21:54, 11.95s/it]"
     ]
    },
    {
     "name": "stdout",
     "output_type": "stream",
     "text": [
      "['Keuken', 'Koffiemachine', 'Koffie accessoires']\n",
      "…\n",
      "https://assets.mmsrg.com/isr/166325/c1/-/ASSET_MMS_57917966/fee_325_225_png\n",
      "************************\n",
      "89\n",
      "https://www.mediamarkt.be/nl/product/-1191392.html\n",
      "['Keuken', 'Koffiemachine', 'Koffiemachine onderhoud']\n",
      "Bezorging tussen 26-08-2023 - 29-08-2023\n"
     ]
    },
    {
     "name": "stderr",
     "output_type": "stream",
     "text": [
      "C:\\Users\\Administrator\\AppData\\Local\\Temp\\2\\ipykernel_152844\\3772363637.py:35: FutureWarning: The frame.append method is deprecated and will be removed from pandas in a future version. Use pandas.concat instead.\n",
      "  df=df.append(df1, ignore_index = True)\n",
      "\r",
      " 45%|████████████████████████████████████▋                                            | 90/199 [17:33<22:49, 12.57s/it]"
     ]
    },
    {
     "name": "stdout",
     "output_type": "stream",
     "text": [
      "https://assets.mmsrg.com/isr/166325/c1/-/pixelboxx-mss-76531347/fee_325_225_png\n",
      "************************\n",
      "90\n",
      "https://www.mediamarkt.be/nl/product/-1780693.html\n"
     ]
    },
    {
     "name": "stderr",
     "output_type": "stream",
     "text": [
      "C:\\Users\\Administrator\\AppData\\Local\\Temp\\2\\ipykernel_152844\\3772363637.py:35: FutureWarning: The frame.append method is deprecated and will be removed from pandas in a future version. Use pandas.concat instead.\n",
      "  df=df.append(df1, ignore_index = True)\n",
      "\r",
      " 46%|█████████████████████████████████████                                            | 91/199 [17:44<21:43, 12.07s/it]"
     ]
    },
    {
     "name": "stdout",
     "output_type": "stream",
     "text": [
      "['Keuken', 'Koffiemachine', 'Koffiemachine onderhoud']\n",
      "…\n",
      "https://assets.mmsrg.com/isr/166325/c1/-/pixelboxx-mss-79204260/fee_325_225_png\n",
      "************************\n",
      "91\n",
      "https://www.mediamarkt.be/nl/product/-1090925.html\n"
     ]
    },
    {
     "name": "stderr",
     "output_type": "stream",
     "text": [
      "C:\\Users\\Administrator\\AppData\\Local\\Temp\\2\\ipykernel_152844\\3772363637.py:35: FutureWarning: The frame.append method is deprecated and will be removed from pandas in a future version. Use pandas.concat instead.\n",
      "  df=df.append(df1, ignore_index = True)\n",
      "\r",
      " 46%|█████████████████████████████████████▍                                           | 92/199 [17:54<20:10, 11.31s/it]"
     ]
    },
    {
     "name": "stdout",
     "output_type": "stream",
     "text": [
      "['Keuken', 'Koffiemachine', 'Koffiemachine onderhoud']\n",
      "…\n",
      "https://assets.mmsrg.com/isr/166325/c1/-/pixelboxx-mss-76530773/fee_325_225_png\n",
      "************************\n",
      "92\n",
      "https://www.mediamarkt.be/nl/product/-2030148.html\n"
     ]
    },
    {
     "name": "stderr",
     "output_type": "stream",
     "text": [
      "C:\\Users\\Administrator\\AppData\\Local\\Temp\\2\\ipykernel_152844\\3772363637.py:35: FutureWarning: The frame.append method is deprecated and will be removed from pandas in a future version. Use pandas.concat instead.\n",
      "  df=df.append(df1, ignore_index = True)\n",
      "\r",
      " 47%|█████████████████████████████████████▊                                           | 93/199 [18:05<19:47, 11.20s/it]"
     ]
    },
    {
     "name": "stdout",
     "output_type": "stream",
     "text": [
      "['Keuken', 'Koffiemachine', 'Philips koffiemachine']\n",
      "Selecteer winkel\n",
      "https://assets.mmsrg.com/isr/166325/c1/-/ASSET_MMS_97535284/fee_325_225_png\n",
      "************************\n",
      "93\n",
      "https://www.mediamarkt.be/nl/product/-2027192.html\n"
     ]
    },
    {
     "name": "stderr",
     "output_type": "stream",
     "text": [
      "C:\\Users\\Administrator\\AppData\\Local\\Temp\\2\\ipykernel_152844\\3772363637.py:35: FutureWarning: The frame.append method is deprecated and will be removed from pandas in a future version. Use pandas.concat instead.\n",
      "  df=df.append(df1, ignore_index = True)\n",
      "\r",
      " 47%|██████████████████████████████████████▎                                          | 94/199 [18:23<23:16, 13.30s/it]"
     ]
    },
    {
     "name": "stdout",
     "output_type": "stream",
     "text": [
      "['Keuken', 'Koffiemachine', 'Sage koffiemachine']\n",
      "Bezorging tussen 26-08-2023 - 29-08-2023\n",
      "https://assets.mmsrg.com/isr/166325/c1/-/ASSET_MMS_96619578/fee_325_225_png\n",
      "************************\n",
      "94\n",
      "https://www.mediamarkt.be/nl/product/-1820133.html\n"
     ]
    },
    {
     "name": "stderr",
     "output_type": "stream",
     "text": [
      "C:\\Users\\Administrator\\AppData\\Local\\Temp\\2\\ipykernel_152844\\3772363637.py:35: FutureWarning: The frame.append method is deprecated and will be removed from pandas in a future version. Use pandas.concat instead.\n",
      "  df=df.append(df1, ignore_index = True)\n",
      "\r",
      " 48%|██████████████████████████████████████▋                                          | 95/199 [18:41<25:18, 14.60s/it]"
     ]
    },
    {
     "name": "stdout",
     "output_type": "stream",
     "text": [
      "['Keuken', 'Koffiemachine', 'Sage koffiemachine']\n",
      "Bezorging tussen 26-08-2023 - 29-08-2023\n",
      "https://assets.mmsrg.com/isr/166325/c1/-/ASSET_MMS_70174855/fee_325_225_png\n",
      "************************\n",
      "95\n",
      "https://www.mediamarkt.be/nl/product/-1820133.html\n"
     ]
    },
    {
     "name": "stderr",
     "output_type": "stream",
     "text": [
      "C:\\Users\\Administrator\\AppData\\Local\\Temp\\2\\ipykernel_152844\\3772363637.py:35: FutureWarning: The frame.append method is deprecated and will be removed from pandas in a future version. Use pandas.concat instead.\n",
      "  df=df.append(df1, ignore_index = True)\n",
      "\r",
      " 48%|███████████████████████████████████████                                          | 96/199 [19:00<27:29, 16.01s/it]"
     ]
    },
    {
     "name": "stdout",
     "output_type": "stream",
     "text": [
      "['Keuken', 'Koffiemachine', 'Sage koffiemachine']\n",
      "Bezorging tussen 26-08-2023 - 29-08-2023\n",
      "https://assets.mmsrg.com/isr/166325/c1/-/ASSET_MMS_70174855/fee_325_225_png\n",
      "************************\n",
      "96\n",
      "https://www.mediamarkt.be/nl/product/-2027193.html\n"
     ]
    },
    {
     "name": "stderr",
     "output_type": "stream",
     "text": [
      "C:\\Users\\Administrator\\AppData\\Local\\Temp\\2\\ipykernel_152844\\3772363637.py:35: FutureWarning: The frame.append method is deprecated and will be removed from pandas in a future version. Use pandas.concat instead.\n",
      "  df=df.append(df1, ignore_index = True)\n",
      "\r",
      " 49%|███████████████████████████████████████▍                                         | 97/199 [19:18<28:32, 16.79s/it]"
     ]
    },
    {
     "name": "stdout",
     "output_type": "stream",
     "text": [
      "['Keuken', 'Koffiemachine', 'Sage koffiemachine']\n",
      "…\n",
      "https://assets.mmsrg.com/isr/166325/c1/-/ASSET_MMS_96621839/fee_325_225_png\n",
      "************************\n",
      "97\n",
      "https://www.mediamarkt.be/nl/product/-1853063.html\n"
     ]
    },
    {
     "name": "stderr",
     "output_type": "stream",
     "text": [
      "C:\\Users\\Administrator\\AppData\\Local\\Temp\\2\\ipykernel_152844\\3772363637.py:35: FutureWarning: The frame.append method is deprecated and will be removed from pandas in a future version. Use pandas.concat instead.\n",
      "  df=df.append(df1, ignore_index = True)\n",
      "\r",
      " 49%|███████████████████████████████████████▉                                         | 98/199 [19:34<27:25, 16.29s/it]"
     ]
    },
    {
     "name": "stdout",
     "output_type": "stream",
     "text": [
      "['Keuken', 'Koffiemachine', 'Sage koffiemachine']\n",
      "…\n",
      "https://assets.mmsrg.com/isr/166325/c1/-/ASSET_MMS_70217177/fee_325_225_png\n",
      "************************\n",
      "98\n",
      "https://www.mediamarkt.be/nl/product/-1819658.html\n"
     ]
    },
    {
     "name": "stderr",
     "output_type": "stream",
     "text": [
      "C:\\Users\\Administrator\\AppData\\Local\\Temp\\2\\ipykernel_152844\\3772363637.py:35: FutureWarning: The frame.append method is deprecated and will be removed from pandas in a future version. Use pandas.concat instead.\n",
      "  df=df.append(df1, ignore_index = True)\n",
      "\r",
      " 50%|████████████████████████████████████████▎                                        | 99/199 [19:48<26:14, 15.75s/it]"
     ]
    },
    {
     "name": "stdout",
     "output_type": "stream",
     "text": [
      "['Keuken', 'Koffiemachine', 'Sage koffiemachine']\n",
      "…\n",
      "https://assets.mmsrg.com/isr/166325/c1/-/ASSET_MMS_89730263/fee_325_225_png\n",
      "************************\n",
      "99\n",
      "https://www.mediamarkt.be/nl/product/-2056920.html\n"
     ]
    },
    {
     "name": "stderr",
     "output_type": "stream",
     "text": [
      "C:\\Users\\Administrator\\AppData\\Local\\Temp\\2\\ipykernel_152844\\3772363637.py:35: FutureWarning: The frame.append method is deprecated and will be removed from pandas in a future version. Use pandas.concat instead.\n",
      "  df=df.append(df1, ignore_index = True)\n",
      "\r",
      " 50%|████████████████████████████████████████▏                                       | 100/199 [20:01<24:27, 14.83s/it]"
     ]
    },
    {
     "name": "stdout",
     "output_type": "stream",
     "text": [
      "['Keuken', 'Koffiemachine', 'Sage koffiemachine']\n",
      "…\n",
      "https://assets.mmsrg.com/isr/166325/c1/-/ASSET_MMS_102900905/fee_325_225_png\n",
      "************************\n",
      "100\n",
      "https://www.mediamarkt.be/nl/product/-1853097.html\n"
     ]
    },
    {
     "name": "stderr",
     "output_type": "stream",
     "text": [
      "C:\\Users\\Administrator\\AppData\\Local\\Temp\\2\\ipykernel_152844\\3772363637.py:35: FutureWarning: The frame.append method is deprecated and will be removed from pandas in a future version. Use pandas.concat instead.\n",
      "  df=df.append(df1, ignore_index = True)\n",
      "\r",
      " 51%|████████████████████████████████████████▌                                       | 101/199 [20:11<21:51, 13.38s/it]"
     ]
    },
    {
     "name": "stdout",
     "output_type": "stream",
     "text": [
      "['Keuken', 'Koffiemachine', 'Koffiemachine onderhoud']\n",
      "Bezorging tussen 26-08-2023 - 29-08-2023\n",
      "https://assets.mmsrg.com/isr/166325/c1/-/ASSET_MMS_70335173/fee_325_225_png\n",
      "************************\n",
      "101\n",
      "https://www.mediamarkt.be/nl/product/-2056922.html\n"
     ]
    },
    {
     "name": "stderr",
     "output_type": "stream",
     "text": [
      "C:\\Users\\Administrator\\AppData\\Local\\Temp\\2\\ipykernel_152844\\3772363637.py:35: FutureWarning: The frame.append method is deprecated and will be removed from pandas in a future version. Use pandas.concat instead.\n",
      "  df=df.append(df1, ignore_index = True)\n",
      "\r",
      " 51%|█████████████████████████████████████████                                       | 102/199 [20:25<21:51, 13.52s/it]"
     ]
    },
    {
     "name": "stdout",
     "output_type": "stream",
     "text": [
      "['Keuken', 'Koffiemachine', 'Sage koffiemachine']\n",
      "Selecteer winkel\n",
      "https://assets.mmsrg.com/isr/166325/c1/-/ASSET_MMS_102900920/fee_325_225_png\n",
      "************************\n",
      "102\n",
      "https://www.mediamarkt.be/nl/product/-1895846.html\n"
     ]
    },
    {
     "name": "stderr",
     "output_type": "stream",
     "text": [
      "C:\\Users\\Administrator\\AppData\\Local\\Temp\\2\\ipykernel_152844\\3772363637.py:35: FutureWarning: The frame.append method is deprecated and will be removed from pandas in a future version. Use pandas.concat instead.\n",
      "  df=df.append(df1, ignore_index = True)\n",
      "\r",
      " 52%|█████████████████████████████████████████▍                                      | 103/199 [20:41<23:07, 14.45s/it]"
     ]
    },
    {
     "name": "stdout",
     "output_type": "stream",
     "text": [
      "['Keuken', 'Koffiemachine', 'Capsulemachine']\n",
      "…\n",
      "https://assets.mmsrg.com/isr/166325/c1/-/ASSET_MMS_76626036/fee_325_225_png\n",
      "************************\n",
      "103\n",
      "https://www.mediamarkt.be/nl/product/-2030869.html\n"
     ]
    },
    {
     "name": "stderr",
     "output_type": "stream",
     "text": [
      "C:\\Users\\Administrator\\AppData\\Local\\Temp\\2\\ipykernel_152844\\3772363637.py:35: FutureWarning: The frame.append method is deprecated and will be removed from pandas in a future version. Use pandas.concat instead.\n",
      "  df=df.append(df1, ignore_index = True)\n",
      "\r",
      " 52%|█████████████████████████████████████████▊                                      | 104/199 [20:54<22:00, 13.90s/it]"
     ]
    },
    {
     "name": "stdout",
     "output_type": "stream",
     "text": [
      "['Keuken', 'Koffiemachine', 'Capsulemachine']\n",
      "…\n",
      "https://assets.mmsrg.com/isr/166325/c1/-/ASSET_MMS_97936206/fee_325_225_png\n",
      "************************\n",
      "104\n",
      "https://www.mediamarkt.be/nl/product/-1146780.html\n"
     ]
    },
    {
     "name": "stderr",
     "output_type": "stream",
     "text": [
      "C:\\Users\\Administrator\\AppData\\Local\\Temp\\2\\ipykernel_152844\\3772363637.py:35: FutureWarning: The frame.append method is deprecated and will be removed from pandas in a future version. Use pandas.concat instead.\n",
      "  df=df.append(df1, ignore_index = True)\n",
      "\r",
      " 53%|██████████████████████████████████████████▏                                     | 105/199 [21:12<23:49, 15.21s/it]"
     ]
    },
    {
     "name": "stdout",
     "output_type": "stream",
     "text": [
      "['Keuken', 'Koffiemachine', 'Capsulemachine']\n",
      "…\n",
      "https://assets.mmsrg.com/isr/166325/c1/-/pixelboxx-mss-45900459/fee_325_225_png\n",
      "************************\n",
      "105\n",
      "https://www.mediamarkt.be/nl/product/-1762948.html\n"
     ]
    },
    {
     "name": "stderr",
     "output_type": "stream",
     "text": [
      "C:\\Users\\Administrator\\AppData\\Local\\Temp\\2\\ipykernel_152844\\3772363637.py:35: FutureWarning: The frame.append method is deprecated and will be removed from pandas in a future version. Use pandas.concat instead.\n",
      "  df=df.append(df1, ignore_index = True)\n",
      "\r",
      " 53%|██████████████████████████████████████████▌                                     | 106/199 [21:24<21:54, 14.13s/it]"
     ]
    },
    {
     "name": "stdout",
     "output_type": "stream",
     "text": [
      "['Keuken', 'Koffiemachine', 'Capsulemachine']\n",
      "…\n",
      "https://assets.mmsrg.com/isr/166325/c1/-/pixelboxx-mss-78140155/fee_325_225_png\n",
      "************************\n",
      "106\n",
      "https://www.mediamarkt.be/nl/product/-1858049.html\n"
     ]
    },
    {
     "name": "stderr",
     "output_type": "stream",
     "text": [
      "C:\\Users\\Administrator\\AppData\\Local\\Temp\\2\\ipykernel_152844\\3772363637.py:35: FutureWarning: The frame.append method is deprecated and will be removed from pandas in a future version. Use pandas.concat instead.\n",
      "  df=df.append(df1, ignore_index = True)\n",
      "\r",
      " 54%|███████████████████████████████████████████                                     | 107/199 [21:36<20:47, 13.56s/it]"
     ]
    },
    {
     "name": "stdout",
     "output_type": "stream",
     "text": [
      "['Keuken', 'Koffiemachine', 'Capsulemachine']\n",
      "Selecteer winkel\n",
      "https://assets.mmsrg.com/isr/166325/c1/-/ASSET_MMS_71069670/fee_325_225_png\n",
      "************************\n",
      "107\n",
      "https://www.mediamarkt.be/nl/product/-2032496.html\n"
     ]
    },
    {
     "name": "stderr",
     "output_type": "stream",
     "text": [
      "C:\\Users\\Administrator\\AppData\\Local\\Temp\\2\\ipykernel_152844\\3772363637.py:35: FutureWarning: The frame.append method is deprecated and will be removed from pandas in a future version. Use pandas.concat instead.\n",
      "  df=df.append(df1, ignore_index = True)\n",
      "\r",
      " 54%|███████████████████████████████████████████▍                                    | 108/199 [21:51<21:15, 14.02s/it]"
     ]
    },
    {
     "name": "stdout",
     "output_type": "stream",
     "text": [
      "['Keuken', 'Koffiemachine', 'Capsulemachine']\n",
      "Selecteer winkel\n",
      "https://assets.mmsrg.com/isr/166325/c1/-/ASSET_MMS_99336385/fee_325_225_png\n",
      "************************\n",
      "108\n",
      "https://www.mediamarkt.be/nl/product/-1826912.html\n"
     ]
    },
    {
     "name": "stderr",
     "output_type": "stream",
     "text": [
      "C:\\Users\\Administrator\\AppData\\Local\\Temp\\2\\ipykernel_152844\\3772363637.py:35: FutureWarning: The frame.append method is deprecated and will be removed from pandas in a future version. Use pandas.concat instead.\n",
      "  df=df.append(df1, ignore_index = True)\n",
      "\r",
      " 55%|███████████████████████████████████████████▊                                    | 109/199 [22:04<20:27, 13.64s/it]"
     ]
    },
    {
     "name": "stdout",
     "output_type": "stream",
     "text": [
      "['Keuken', 'Koffiemachine', 'Capsulemachine']\n",
      "…\n",
      "https://assets.mmsrg.com/isr/166325/c1/-/pixelboxx-mss-81702337/fee_325_225_png\n",
      "************************\n",
      "109\n",
      "https://www.mediamarkt.be/nl/product/-1890192.html\n"
     ]
    },
    {
     "name": "stderr",
     "output_type": "stream",
     "text": [
      "C:\\Users\\Administrator\\AppData\\Local\\Temp\\2\\ipykernel_152844\\3772363637.py:35: FutureWarning: The frame.append method is deprecated and will be removed from pandas in a future version. Use pandas.concat instead.\n",
      "  df=df.append(df1, ignore_index = True)\n",
      "\r",
      " 55%|████████████████████████████████████████████▏                                   | 110/199 [22:20<21:11, 14.29s/it]"
     ]
    },
    {
     "name": "stdout",
     "output_type": "stream",
     "text": [
      "['Huishouden & Verzorging', 'Kapsel - Haarstyling', 'Stijltang']\n",
      "Bezorging tussen 26-08-2023 - 29-08-2023\n",
      "https://assets.mmsrg.com/isr/166325/c1/-/ASSET_MMS_75432734/fee_325_225_png\n",
      "************************\n",
      "110\n",
      "https://www.mediamarkt.be/nl/product/-2049024.html\n"
     ]
    },
    {
     "name": "stderr",
     "output_type": "stream",
     "text": [
      "C:\\Users\\Administrator\\AppData\\Local\\Temp\\2\\ipykernel_152844\\3772363637.py:35: FutureWarning: The frame.append method is deprecated and will be removed from pandas in a future version. Use pandas.concat instead.\n",
      "  df=df.append(df1, ignore_index = True)\n",
      "\r",
      " 56%|████████████████████████████████████████████▌                                   | 111/199 [22:31<19:40, 13.41s/it]"
     ]
    },
    {
     "name": "stdout",
     "output_type": "stream",
     "text": [
      "['Huishouden & Verzorging', 'Kapsel - Haarstyling', 'Stijltang']\n",
      "Bezorging tussen 26-08-2023 - 29-08-2023\n",
      "https://assets.mmsrg.com/isr/166325/c1/-/ASSET_MMS_75432734/fee_325_225_png\n",
      "************************\n",
      "111\n",
      "https://www.mediamarkt.be/nl/product/-1499212.html\n"
     ]
    },
    {
     "name": "stderr",
     "output_type": "stream",
     "text": [
      "C:\\Users\\Administrator\\AppData\\Local\\Temp\\2\\ipykernel_152844\\3772363637.py:35: FutureWarning: The frame.append method is deprecated and will be removed from pandas in a future version. Use pandas.concat instead.\n",
      "  df=df.append(df1, ignore_index = True)\n",
      "\r",
      " 56%|█████████████████████████████████████████████                                   | 112/199 [22:41<18:01, 12.43s/it]"
     ]
    },
    {
     "name": "stdout",
     "output_type": "stream",
     "text": [
      "['Gaming, Entertainment & Mobility', 'Films & Series', 'DVD TV-series']\n",
      "…\n",
      "https://assets.mmsrg.com/isr/166325/c1/-/pixelboxx-mss-73149140/fee_325_225_png\n",
      "************************\n",
      "112\n",
      "https://www.mediamarkt.be/nl/product/-1582529.html\n"
     ]
    },
    {
     "name": "stderr",
     "output_type": "stream",
     "text": [
      "C:\\Users\\Administrator\\AppData\\Local\\Temp\\2\\ipykernel_152844\\3772363637.py:35: FutureWarning: The frame.append method is deprecated and will be removed from pandas in a future version. Use pandas.concat instead.\n",
      "  df=df.append(df1, ignore_index = True)\n",
      "\r",
      " 57%|█████████████████████████████████████████████▍                                  | 113/199 [22:53<17:39, 12.31s/it]"
     ]
    },
    {
     "name": "stdout",
     "output_type": "stream",
     "text": [
      "['Keuken', 'Koffiemachine', 'Capsulemachine']\n",
      "…\n",
      "https://assets.mmsrg.com/isr/166325/c1/-/ASSET_MMS_108690323/fee_325_225_png\n",
      "************************\n",
      "113\n",
      "https://www.mediamarkt.be/nl/product/-1582529.html\n",
      "['Keuken', 'Koffiemachine', 'Capsulemachine']\n"
     ]
    },
    {
     "name": "stderr",
     "output_type": "stream",
     "text": [
      "C:\\Users\\Administrator\\AppData\\Local\\Temp\\2\\ipykernel_152844\\3772363637.py:35: FutureWarning: The frame.append method is deprecated and will be removed from pandas in a future version. Use pandas.concat instead.\n",
      "  df=df.append(df1, ignore_index = True)\n",
      "\r",
      " 57%|█████████████████████████████████████████████▊                                  | 114/199 [23:03<16:31, 11.67s/it]"
     ]
    },
    {
     "name": "stdout",
     "output_type": "stream",
     "text": [
      "…\n",
      "https://assets.mmsrg.com/isr/166325/c1/-/ASSET_MMS_108690323/fee_325_225_png\n",
      "************************\n",
      "114\n",
      "https://www.mediamarkt.be/nl/product/-2038450.html\n"
     ]
    },
    {
     "name": "stderr",
     "output_type": "stream",
     "text": [
      "C:\\Users\\Administrator\\AppData\\Local\\Temp\\2\\ipykernel_152844\\3772363637.py:35: FutureWarning: The frame.append method is deprecated and will be removed from pandas in a future version. Use pandas.concat instead.\n",
      "  df=df.append(df1, ignore_index = True)\n",
      "\r",
      " 58%|██████████████████████████████████████████████▏                                 | 115/199 [23:13<15:38, 11.17s/it]"
     ]
    },
    {
     "name": "stdout",
     "output_type": "stream",
     "text": [
      "['Keuken', 'Koffiemachine', 'Espressomachine']\n",
      "…\n",
      "https://assets.mmsrg.com/isr/166325/c1/-/ASSET_MMS_104160693/fee_325_225_png\n",
      "************************\n",
      "115\n",
      "https://www.mediamarkt.be/nl/product/-1900584.html\n",
      "['Keuken', 'Koffiemachine', 'Espressomachine', 'De Longhi espressomachine']\n",
      "…\n"
     ]
    },
    {
     "name": "stderr",
     "output_type": "stream",
     "text": [
      "C:\\Users\\Administrator\\AppData\\Local\\Temp\\2\\ipykernel_152844\\3772363637.py:35: FutureWarning: The frame.append method is deprecated and will be removed from pandas in a future version. Use pandas.concat instead.\n",
      "  df=df.append(df1, ignore_index = True)\n",
      "\r",
      " 58%|██████████████████████████████████████████████▋                                 | 116/199 [23:24<15:21, 11.11s/it]"
     ]
    },
    {
     "name": "stdout",
     "output_type": "stream",
     "text": [
      "https://assets.mmsrg.com/isr/166325/c1/-/ASSET_MMS_77486808/fee_325_225_png\n",
      "************************\n",
      "116\n",
      "https://www.mediamarkt.be/nl/product/-1646400.html\n"
     ]
    },
    {
     "name": "stderr",
     "output_type": "stream",
     "text": [
      "C:\\Users\\Administrator\\AppData\\Local\\Temp\\2\\ipykernel_152844\\3772363637.py:35: FutureWarning: The frame.append method is deprecated and will be removed from pandas in a future version. Use pandas.concat instead.\n",
      "  df=df.append(df1, ignore_index = True)\n",
      "\r",
      " 59%|███████████████████████████████████████████████                                 | 117/199 [23:35<15:06, 11.05s/it]"
     ]
    },
    {
     "name": "stdout",
     "output_type": "stream",
     "text": [
      "['Keuken', 'Koffiemachine', 'Koffie']\n",
      "Bezorging tussen 26-08-2023 - 29-08-2023\n",
      "https://assets.mmsrg.com/isr/166325/c1/-/pixelboxx-mss-75608689/fee_325_225_png\n",
      "************************\n",
      "117\n",
      "https://www.mediamarkt.be/nl/product/-1938847.html\n"
     ]
    },
    {
     "name": "stderr",
     "output_type": "stream",
     "text": [
      "C:\\Users\\Administrator\\AppData\\Local\\Temp\\2\\ipykernel_152844\\3772363637.py:35: FutureWarning: The frame.append method is deprecated and will be removed from pandas in a future version. Use pandas.concat instead.\n",
      "  df=df.append(df1, ignore_index = True)\n",
      "\r",
      " 59%|███████████████████████████████████████████████▍                                | 118/199 [23:49<16:00, 11.86s/it]"
     ]
    },
    {
     "name": "stdout",
     "output_type": "stream",
     "text": [
      "['Keuken', 'Koffiemachine', 'Koffie']\n",
      "…\n",
      "https://assets.mmsrg.com/isr/166325/c1/-/ASSET_MMS_81717375/fee_325_225_png\n",
      "************************\n",
      "118\n",
      "https://www.mediamarkt.be/nl/product/-1989294.html\n"
     ]
    },
    {
     "name": "stderr",
     "output_type": "stream",
     "text": [
      "C:\\Users\\Administrator\\AppData\\Local\\Temp\\2\\ipykernel_152844\\3772363637.py:35: FutureWarning: The frame.append method is deprecated and will be removed from pandas in a future version. Use pandas.concat instead.\n",
      "  df=df.append(df1, ignore_index = True)\n",
      "\r",
      " 60%|███████████████████████████████████████████████▊                                | 119/199 [24:00<15:26, 11.58s/it]"
     ]
    },
    {
     "name": "stdout",
     "output_type": "stream",
     "text": [
      "['Keuken', 'Koffiemachine', 'Koffie']\n",
      "Selecteer winkel\n",
      "https://assets.mmsrg.com/isr/166325/c1/-/ASSET_MMS_89415589/fee_325_225_png\n",
      "************************\n",
      "119\n",
      "https://www.mediamarkt.be/nl/product/-1171995.html\n"
     ]
    },
    {
     "name": "stderr",
     "output_type": "stream",
     "text": [
      "C:\\Users\\Administrator\\AppData\\Local\\Temp\\2\\ipykernel_152844\\3772363637.py:35: FutureWarning: The frame.append method is deprecated and will be removed from pandas in a future version. Use pandas.concat instead.\n",
      "  df=df.append(df1, ignore_index = True)\n",
      "\r",
      " 60%|████████████████████████████████████████████████▏                               | 120/199 [24:14<16:19, 12.40s/it]"
     ]
    },
    {
     "name": "stdout",
     "output_type": "stream",
     "text": [
      "['Keuken', 'Koffiemachine', 'Koffie accessoires']\n",
      "…\n",
      "https://assets.mmsrg.com/isr/166325/c1/-/ASSET_MMS_57808399/fee_325_225_png\n",
      "************************\n",
      "120\n",
      "https://www.mediamarkt.be/nl/product/-2026706.html\n"
     ]
    },
    {
     "name": "stderr",
     "output_type": "stream",
     "text": [
      "C:\\Users\\Administrator\\AppData\\Local\\Temp\\2\\ipykernel_152844\\3772363637.py:35: FutureWarning: The frame.append method is deprecated and will be removed from pandas in a future version. Use pandas.concat instead.\n",
      "  df=df.append(df1, ignore_index = True)\n",
      "\r",
      " 61%|████████████████████████████████████████████████▋                               | 121/199 [24:25<15:36, 12.01s/it]"
     ]
    },
    {
     "name": "stdout",
     "output_type": "stream",
     "text": [
      "['Keuken', 'Koffiemachine', 'Koffiepadsysteem']\n",
      "…\n",
      "https://assets.mmsrg.com/isr/166325/c1/-/ASSET_MMS_104160635/fee_325_225_png\n",
      "************************\n",
      "121\n",
      "https://www.mediamarkt.be/nl/product/-2038449.html\n",
      "['Keuken', 'Koffiemachine', 'Koffiepadsysteem']\n",
      "…\n"
     ]
    },
    {
     "name": "stderr",
     "output_type": "stream",
     "text": [
      "C:\\Users\\Administrator\\AppData\\Local\\Temp\\2\\ipykernel_152844\\3772363637.py:35: FutureWarning: The frame.append method is deprecated and will be removed from pandas in a future version. Use pandas.concat instead.\n",
      "  df=df.append(df1, ignore_index = True)\n",
      "\r",
      " 61%|█████████████████████████████████████████████████                               | 122/199 [24:40<16:23, 12.77s/it]"
     ]
    },
    {
     "name": "stdout",
     "output_type": "stream",
     "text": [
      "https://assets.mmsrg.com/isr/166325/c1/-/ASSET_MMS_104160648/fee_325_225_png\n",
      "************************\n",
      "122\n",
      "https://www.mediamarkt.be/nl/product/-1741189.html\n"
     ]
    },
    {
     "name": "stderr",
     "output_type": "stream",
     "text": [
      "C:\\Users\\Administrator\\AppData\\Local\\Temp\\2\\ipykernel_152844\\3772363637.py:35: FutureWarning: The frame.append method is deprecated and will be removed from pandas in a future version. Use pandas.concat instead.\n",
      "  df=df.append(df1, ignore_index = True)\n",
      "\r",
      " 62%|█████████████████████████████████████████████████▍                              | 123/199 [24:52<16:03, 12.68s/it]"
     ]
    },
    {
     "name": "stdout",
     "output_type": "stream",
     "text": [
      "['Keuken', 'Koffiemachine', 'Capsulemachine']\n",
      "Bezorging tussen 26-08-2023 - 29-08-2023\n",
      "https://assets.mmsrg.com/isr/166325/c1/-/ASSET_MMS_108678410/fee_325_225_png\n",
      "************************\n",
      "123\n",
      "https://www.mediamarkt.be/nl/product/-1999632.html\n",
      "['Keuken', 'Koffiemachine', 'Philips koffiemachine']\n",
      "…\n"
     ]
    },
    {
     "name": "stderr",
     "output_type": "stream",
     "text": [
      "C:\\Users\\Administrator\\AppData\\Local\\Temp\\2\\ipykernel_152844\\3772363637.py:35: FutureWarning: The frame.append method is deprecated and will be removed from pandas in a future version. Use pandas.concat instead.\n",
      "  df=df.append(df1, ignore_index = True)\n",
      "\r",
      " 62%|█████████████████████████████████████████████████▊                              | 124/199 [25:13<18:53, 15.11s/it]"
     ]
    },
    {
     "name": "stdout",
     "output_type": "stream",
     "text": [
      "https://assets.mmsrg.com/isr/166325/c1/-/ASSET_MMS_91521717/fee_325_225_png\n",
      "************************\n",
      "124\n",
      "https://www.mediamarkt.be/nl/product/-1895847.html\n"
     ]
    },
    {
     "name": "stderr",
     "output_type": "stream",
     "text": [
      "C:\\Users\\Administrator\\AppData\\Local\\Temp\\2\\ipykernel_152844\\3772363637.py:35: FutureWarning: The frame.append method is deprecated and will be removed from pandas in a future version. Use pandas.concat instead.\n",
      "  df=df.append(df1, ignore_index = True)\n",
      "\r",
      " 63%|██████████████████████████████████████████████████▎                             | 125/199 [25:24<16:54, 13.71s/it]"
     ]
    },
    {
     "name": "stdout",
     "output_type": "stream",
     "text": [
      "['Keuken', 'Koffiemachine', 'Capsulemachine']\n",
      "…\n",
      "https://assets.mmsrg.com/isr/166325/c1/-/ASSET_MMS_79609012/fee_325_225_png\n",
      "************************\n",
      "125\n",
      "https://www.mediamarkt.be/nl/product/-1833581.html\n"
     ]
    },
    {
     "name": "stderr",
     "output_type": "stream",
     "text": [
      "C:\\Users\\Administrator\\AppData\\Local\\Temp\\2\\ipykernel_152844\\3772363637.py:35: FutureWarning: The frame.append method is deprecated and will be removed from pandas in a future version. Use pandas.concat instead.\n",
      "  df=df.append(df1, ignore_index = True)\n",
      "\r",
      " 63%|██████████████████████████████████████████████████▋                             | 126/199 [25:41<17:52, 14.70s/it]"
     ]
    },
    {
     "name": "stdout",
     "output_type": "stream",
     "text": [
      "['Keuken', 'Koffiemachine', 'Capsulemachine']\n",
      "…\n",
      "https://assets.mmsrg.com/isr/166325/c1/-/ASSET_MMS_91990425/fee_325_225_png\n",
      "************************\n",
      "126\n",
      "https://www.mediamarkt.be/nl/product/-1981694.html\n",
      "['Keuken', 'Koffiemachine', 'Koffiemachine onderhoud']\n",
      "…\n"
     ]
    },
    {
     "name": "stderr",
     "output_type": "stream",
     "text": [
      "C:\\Users\\Administrator\\AppData\\Local\\Temp\\2\\ipykernel_152844\\3772363637.py:35: FutureWarning: The frame.append method is deprecated and will be removed from pandas in a future version. Use pandas.concat instead.\n",
      "  df=df.append(df1, ignore_index = True)\n",
      "\r",
      " 64%|███████████████████████████████████████████████████                             | 127/199 [25:57<18:22, 15.31s/it]"
     ]
    },
    {
     "name": "stdout",
     "output_type": "stream",
     "text": [
      "https://assets.mmsrg.com/isr/166325/c1/-/ASSET_MMS_91478834/fee_325_225_png\n",
      "************************\n",
      "127\n",
      "https://www.mediamarkt.be/nl/product/-1889865.html\n"
     ]
    },
    {
     "name": "stderr",
     "output_type": "stream",
     "text": [
      "C:\\Users\\Administrator\\AppData\\Local\\Temp\\2\\ipykernel_152844\\3772363637.py:35: FutureWarning: The frame.append method is deprecated and will be removed from pandas in a future version. Use pandas.concat instead.\n",
      "  df=df.append(df1, ignore_index = True)\n",
      "\r",
      " 64%|███████████████████████████████████████████████████▍                            | 128/199 [26:12<18:00, 15.22s/it]"
     ]
    },
    {
     "name": "stdout",
     "output_type": "stream",
     "text": [
      "['Keuken', 'Koffiemachine', 'Capsulemachine']\n",
      "…\n",
      "https://assets.mmsrg.com/isr/166325/c1/-/ASSET_MMS_75690775/fee_325_225_png\n",
      "************************\n",
      "128\n",
      "https://www.mediamarkt.be/nl/product/-1960987.html\n"
     ]
    },
    {
     "name": "stderr",
     "output_type": "stream",
     "text": [
      "C:\\Users\\Administrator\\AppData\\Local\\Temp\\2\\ipykernel_152844\\3772363637.py:35: FutureWarning: The frame.append method is deprecated and will be removed from pandas in a future version. Use pandas.concat instead.\n",
      "  df=df.append(df1, ignore_index = True)\n",
      "\r",
      " 65%|███████████████████████████████████████████████████▊                            | 129/199 [26:32<19:16, 16.52s/it]"
     ]
    },
    {
     "name": "stdout",
     "output_type": "stream",
     "text": [
      "['Keuken', 'Koffiemachine', 'Capsulemachine']\n",
      "…\n",
      "https://assets.mmsrg.com/isr/166325/c1/-/ASSET_MMS_89674503/fee_325_225_png\n",
      "************************\n",
      "129\n",
      "https://www.mediamarkt.be/nl/product/-1819225.html\n"
     ]
    },
    {
     "name": "stderr",
     "output_type": "stream",
     "text": [
      "C:\\Users\\Administrator\\AppData\\Local\\Temp\\2\\ipykernel_152844\\3772363637.py:35: FutureWarning: The frame.append method is deprecated and will be removed from pandas in a future version. Use pandas.concat instead.\n",
      "  df=df.append(df1, ignore_index = True)\n",
      "\r",
      " 65%|████████████████████████████████████████████████████▎                           | 130/199 [26:48<18:51, 16.40s/it]"
     ]
    },
    {
     "name": "stdout",
     "output_type": "stream",
     "text": [
      "['Keuken', 'Koffiemachine', 'Capsulemachine']\n",
      "…\n",
      "https://assets.mmsrg.com/isr/166325/c1/-/ASSET_MMS_108679181/fee_325_225_png\n",
      "************************\n",
      "130\n",
      "https://www.mediamarkt.be/nl/product/-2067583.html\n"
     ]
    },
    {
     "name": "stderr",
     "output_type": "stream",
     "text": [
      "C:\\Users\\Administrator\\AppData\\Local\\Temp\\2\\ipykernel_152844\\3772363637.py:35: FutureWarning: The frame.append method is deprecated and will be removed from pandas in a future version. Use pandas.concat instead.\n",
      "  df=df.append(df1, ignore_index = True)\n",
      "\r",
      " 66%|████████████████████████████████████████████████████▋                           | 131/199 [26:59<16:45, 14.79s/it]"
     ]
    },
    {
     "name": "stdout",
     "output_type": "stream",
     "text": [
      "['Keuken', 'Koffiemachine', 'Koffie', 'Koffiepads en capsules']\n",
      "Bezorging tussen 26-08-2023 - 29-08-2023\n",
      "https://assets.mmsrg.com/isr/166325/c1/-/ASSET_MMS_106989215/fee_325_225_png\n",
      "************************\n",
      "131\n",
      "https://www.mediamarkt.be/nl/product/-1378455.html\n",
      "['Keuken', 'Koffiemachine', 'Koffie', 'Koffiepads en capsules']\n",
      "…\n"
     ]
    },
    {
     "name": "stderr",
     "output_type": "stream",
     "text": [
      "C:\\Users\\Administrator\\AppData\\Local\\Temp\\2\\ipykernel_152844\\3772363637.py:35: FutureWarning: The frame.append method is deprecated and will be removed from pandas in a future version. Use pandas.concat instead.\n",
      "  df=df.append(df1, ignore_index = True)\n",
      "\r",
      " 66%|█████████████████████████████████████████████████████                           | 132/199 [27:14<16:26, 14.72s/it]"
     ]
    },
    {
     "name": "stdout",
     "output_type": "stream",
     "text": [
      "https://assets.mmsrg.com/isr/166325/c1/-/pixelboxx-mss-78149184/fee_325_225_png\n",
      "************************\n",
      "132\n",
      "https://www.mediamarkt.be/nl/product/-1884925.html\n"
     ]
    },
    {
     "name": "stderr",
     "output_type": "stream",
     "text": [
      "C:\\Users\\Administrator\\AppData\\Local\\Temp\\2\\ipykernel_152844\\3772363637.py:35: FutureWarning: The frame.append method is deprecated and will be removed from pandas in a future version. Use pandas.concat instead.\n",
      "  df=df.append(df1, ignore_index = True)\n",
      "\r",
      " 67%|█████████████████████████████████████████████████████▍                          | 133/199 [27:23<14:17, 12.99s/it]"
     ]
    },
    {
     "name": "stdout",
     "output_type": "stream",
     "text": [
      "['Foto & Video', 'Printer - Fotokader', 'Fotopapier']\n",
      "Bezorging tussen 26-08-2023 - 29-08-2023\n",
      "https://assets.mmsrg.com/isr/166325/c1/-/ASSET_MMS_74151838/fee_325_225_png\n",
      "************************\n",
      "133\n",
      "https://www.mediamarkt.be/nl/product/-2049032.html\n"
     ]
    },
    {
     "name": "stderr",
     "output_type": "stream",
     "text": [
      "C:\\Users\\Administrator\\AppData\\Local\\Temp\\2\\ipykernel_152844\\3772363637.py:35: FutureWarning: The frame.append method is deprecated and will be removed from pandas in a future version. Use pandas.concat instead.\n",
      "  df=df.append(df1, ignore_index = True)\n",
      "\r",
      " 67%|█████████████████████████████████████████████████████▊                          | 134/199 [27:32<13:04, 12.06s/it]"
     ]
    },
    {
     "name": "stdout",
     "output_type": "stream",
     "text": [
      "['Huishouden & Verzorging', 'Kapsel - Haarstyling', 'Stijltang']\n",
      "…\n",
      "https://assets.mmsrg.com/isr/166325/c1/-/ASSET_MMS_75432734/fee_325_225_png\n",
      "************************\n",
      "134\n",
      "https://www.mediamarkt.be/nl/product/-1835926.html\n"
     ]
    },
    {
     "name": "stderr",
     "output_type": "stream",
     "text": [
      "C:\\Users\\Administrator\\AppData\\Local\\Temp\\2\\ipykernel_152844\\3772363637.py:35: FutureWarning: The frame.append method is deprecated and will be removed from pandas in a future version. Use pandas.concat instead.\n",
      "  df=df.append(df1, ignore_index = True)\n",
      "\r",
      " 68%|██████████████████████████████████████████████████████▎                         | 135/199 [27:47<13:45, 12.90s/it]"
     ]
    },
    {
     "name": "stdout",
     "output_type": "stream",
     "text": [
      "['Computer & Multimedia', 'Printers & Scanners', 'Printers', 'HP printer']\n",
      "…\n",
      "https://assets.mmsrg.com/isr/166325/c1/-/pixelboxx-mss-82239321/fee_325_225_png\n",
      "************************\n",
      "135\n",
      "https://www.mediamarkt.be/nl/product/-2030502.html\n"
     ]
    },
    {
     "name": "stderr",
     "output_type": "stream",
     "text": [
      "C:\\Users\\Administrator\\AppData\\Local\\Temp\\2\\ipykernel_152844\\3772363637.py:35: FutureWarning: The frame.append method is deprecated and will be removed from pandas in a future version. Use pandas.concat instead.\n",
      "  df=df.append(df1, ignore_index = True)\n",
      "\r",
      " 68%|██████████████████████████████████████████████████████▋                         | 136/199 [27:57<12:31, 11.93s/it]"
     ]
    },
    {
     "name": "stdout",
     "output_type": "stream",
     "text": [
      "['Huishouden & Verzorging', 'Reinigen - Stofzuigen', 'Onze favoriete stofzuigers']\n",
      "…\n",
      "https://assets.mmsrg.com/isr/166325/c1/-/ASSET_MMS_97929333/fee_325_225_png\n",
      "************************\n",
      "136\n",
      "https://www.mediamarkt.be/nl/product/-1269095.html\n",
      "['Gaming, Entertainment & Mobility', 'Films & Series', 'Blu-ray Films']\n",
      "…\n"
     ]
    },
    {
     "name": "stderr",
     "output_type": "stream",
     "text": [
      "C:\\Users\\Administrator\\AppData\\Local\\Temp\\2\\ipykernel_152844\\3772363637.py:35: FutureWarning: The frame.append method is deprecated and will be removed from pandas in a future version. Use pandas.concat instead.\n",
      "  df=df.append(df1, ignore_index = True)\n",
      "\r",
      " 69%|███████████████████████████████████████████████████████                         | 137/199 [28:06<11:32, 11.17s/it]"
     ]
    },
    {
     "name": "stdout",
     "output_type": "stream",
     "text": [
      "https://assets.mmsrg.com/isr/166325/c1/-/ASSET_MMS_70781119/fee_325_225_png\n",
      "************************\n",
      "137\n",
      "https://www.mediamarkt.be/nl/product/-1536047.html\n"
     ]
    },
    {
     "name": "stderr",
     "output_type": "stream",
     "text": [
      "C:\\Users\\Administrator\\AppData\\Local\\Temp\\2\\ipykernel_152844\\3772363637.py:35: FutureWarning: The frame.append method is deprecated and will be removed from pandas in a future version. Use pandas.concat instead.\n",
      "  df=df.append(df1, ignore_index = True)\n",
      "\r",
      " 69%|███████████████████████████████████████████████████████▍                        | 138/199 [28:16<10:47, 10.61s/it]"
     ]
    },
    {
     "name": "stdout",
     "output_type": "stream",
     "text": [
      "['Gaming, Entertainment & Mobility', 'Films & Series', 'Boxsets']\n",
      "Selecteer winkel\n",
      "https://assets.mmsrg.com/isr/166325/c1/-/pixelboxx-mss-70148626/fee_325_225_png\n",
      "************************\n",
      "138\n",
      "https://www.mediamarkt.be/nl/product/-1877838.html\n"
     ]
    },
    {
     "name": "stderr",
     "output_type": "stream",
     "text": [
      "C:\\Users\\Administrator\\AppData\\Local\\Temp\\2\\ipykernel_152844\\3772363637.py:35: FutureWarning: The frame.append method is deprecated and will be removed from pandas in a future version. Use pandas.concat instead.\n",
      "  df=df.append(df1, ignore_index = True)\n",
      "\r",
      " 70%|███████████████████████████████████████████████████████▉                        | 139/199 [28:27<10:50, 10.84s/it]"
     ]
    },
    {
     "name": "stdout",
     "output_type": "stream",
     "text": [
      "['Huishouden & Verzorging', 'Reinigen - Stofzuigen', 'Onze favoriete stofzuigers']\n",
      "…\n",
      "https://assets.mmsrg.com/isr/166325/c1/-/ASSET_MMS_74437283/fee_325_225_png\n",
      "************************\n",
      "139\n",
      "https://www.mediamarkt.be/nl/product/-2068826.html\n"
     ]
    },
    {
     "name": "stderr",
     "output_type": "stream",
     "text": [
      "C:\\Users\\Administrator\\AppData\\Local\\Temp\\2\\ipykernel_152844\\3772363637.py:35: FutureWarning: The frame.append method is deprecated and will be removed from pandas in a future version. Use pandas.concat instead.\n",
      "  df=df.append(df1, ignore_index = True)\n",
      "\r",
      " 70%|████████████████████████████████████████████████████████▎                       | 140/199 [28:39<10:57, 11.14s/it]"
     ]
    },
    {
     "name": "stdout",
     "output_type": "stream",
     "text": [
      "['Foto & Video', 'Drone - Telegeleid speelgoed', 'Drone']\n",
      "…\n",
      "https://assets.mmsrg.com/isr/166325/c1/-/ASSET_MMS_106799661/fee_325_225_png\n",
      "************************\n",
      "140\n",
      "https://www.mediamarkt.be/nl/product/-1235376.html\n"
     ]
    },
    {
     "name": "stderr",
     "output_type": "stream",
     "text": [
      "C:\\Users\\Administrator\\AppData\\Local\\Temp\\2\\ipykernel_152844\\3772363637.py:35: FutureWarning: The frame.append method is deprecated and will be removed from pandas in a future version. Use pandas.concat instead.\n",
      "  df=df.append(df1, ignore_index = True)\n",
      "\r",
      " 71%|████████████████████████████████████████████████████████▋                       | 141/199 [28:50<10:50, 11.22s/it]"
     ]
    },
    {
     "name": "stdout",
     "output_type": "stream",
     "text": [
      "['Keuken', 'Koffiemachine', 'Espressomachine']\n",
      "…\n",
      "https://assets.mmsrg.com/isr/166325/c1/-/ASSET_MMS_57896648/fee_325_225_png\n",
      "************************\n",
      "141\n",
      "https://www.mediamarkt.be/nl/product/-1885191.html\n"
     ]
    },
    {
     "name": "stderr",
     "output_type": "stream",
     "text": [
      "C:\\Users\\Administrator\\AppData\\Local\\Temp\\2\\ipykernel_152844\\3772363637.py:35: FutureWarning: The frame.append method is deprecated and will be removed from pandas in a future version. Use pandas.concat instead.\n",
      "  df=df.append(df1, ignore_index = True)\n",
      "\r",
      " 71%|█████████████████████████████████████████████████████████                       | 142/199 [29:02<10:53, 11.46s/it]"
     ]
    },
    {
     "name": "stdout",
     "output_type": "stream",
     "text": [
      "['Keuken', 'Koffiemachine', 'De Longhi koffiemachine']\n",
      "…\n",
      "https://assets.mmsrg.com/isr/166325/c1/-/ASSET_MMS_74478266/fee_325_225_png\n",
      "************************\n",
      "142\n",
      "https://www.mediamarkt.be/nl/product/-1548955.html\n"
     ]
    },
    {
     "name": "stderr",
     "output_type": "stream",
     "text": [
      "C:\\Users\\Administrator\\AppData\\Local\\Temp\\2\\ipykernel_152844\\3772363637.py:35: FutureWarning: The frame.append method is deprecated and will be removed from pandas in a future version. Use pandas.concat instead.\n",
      "  df=df.append(df1, ignore_index = True)\n",
      "\r",
      " 72%|█████████████████████████████████████████████████████████▍                      | 143/199 [29:16<11:16, 12.09s/it]"
     ]
    },
    {
     "name": "stdout",
     "output_type": "stream",
     "text": [
      "['Keuken', 'Koffiemachine', 'Melitta koffiemachine']\n",
      "…\n",
      "https://assets.mmsrg.com/isr/166325/c1/-/pixelboxx-mss-70290405/fee_325_225_png\n",
      "************************\n",
      "143\n",
      "https://www.mediamarkt.be/nl/product/-1772309.html\n"
     ]
    },
    {
     "name": "stderr",
     "output_type": "stream",
     "text": [
      "C:\\Users\\Administrator\\AppData\\Local\\Temp\\2\\ipykernel_152844\\3772363637.py:35: FutureWarning: The frame.append method is deprecated and will be removed from pandas in a future version. Use pandas.concat instead.\n",
      "  df=df.append(df1, ignore_index = True)\n",
      "\r",
      " 72%|█████████████████████████████████████████████████████████▉                      | 144/199 [29:27<10:44, 11.72s/it]"
     ]
    },
    {
     "name": "stdout",
     "output_type": "stream",
     "text": [
      "['Keuken', 'Koffiemachine', 'Melitta koffiemachine']\n",
      "…\n",
      "https://assets.mmsrg.com/isr/166325/c1/-/pixelboxx-mss-78482443/fee_325_225_png\n",
      "************************\n",
      "144\n",
      "https://www.mediamarkt.be/nl/product/-1498075.html\n"
     ]
    },
    {
     "name": "stderr",
     "output_type": "stream",
     "text": [
      "C:\\Users\\Administrator\\AppData\\Local\\Temp\\2\\ipykernel_152844\\3772363637.py:35: FutureWarning: The frame.append method is deprecated and will be removed from pandas in a future version. Use pandas.concat instead.\n",
      "  df=df.append(df1, ignore_index = True)\n",
      "\r",
      " 73%|██████████████████████████████████████████████████████████▎                     | 145/199 [29:38<10:19, 11.47s/it]"
     ]
    },
    {
     "name": "stdout",
     "output_type": "stream",
     "text": [
      "['Keuken', 'Koffiemachine', 'Melitta koffiemachine']\n",
      "…\n",
      "https://assets.mmsrg.com/isr/166325/c1/-/pixelboxx-mss-76728982/fee_325_225_png\n",
      "************************\n",
      "145\n",
      "https://www.mediamarkt.be/nl/product/-1599663.html\n"
     ]
    },
    {
     "name": "stderr",
     "output_type": "stream",
     "text": [
      "C:\\Users\\Administrator\\AppData\\Local\\Temp\\2\\ipykernel_152844\\3772363637.py:35: FutureWarning: The frame.append method is deprecated and will be removed from pandas in a future version. Use pandas.concat instead.\n",
      "  df=df.append(df1, ignore_index = True)\n",
      "\r",
      " 73%|██████████████████████████████████████████████████████████▋                     | 146/199 [29:48<09:43, 11.02s/it]"
     ]
    },
    {
     "name": "stdout",
     "output_type": "stream",
     "text": [
      "['Keuken', 'Koffiemachine', 'Melitta koffiemachine']\n",
      "…\n",
      "https://assets.mmsrg.com/isr/166325/c1/-/pixelboxx-mss-72223032/fee_325_225_png\n",
      "************************\n",
      "146\n",
      "https://www.mediamarkt.be/nl/product/-1437935.html\n"
     ]
    },
    {
     "name": "stderr",
     "output_type": "stream",
     "text": [
      "C:\\Users\\Administrator\\AppData\\Local\\Temp\\2\\ipykernel_152844\\3772363637.py:35: FutureWarning: The frame.append method is deprecated and will be removed from pandas in a future version. Use pandas.concat instead.\n",
      "  df=df.append(df1, ignore_index = True)\n",
      "\r",
      " 74%|███████████████████████████████████████████████████████████                     | 147/199 [29:58<09:23, 10.84s/it]"
     ]
    },
    {
     "name": "stdout",
     "output_type": "stream",
     "text": [
      "['Keuken', 'Koffiemachine', 'Melitta koffiemachine']\n",
      "…\n",
      "https://assets.mmsrg.com/isr/166325/c1/-/pixelboxx-mss-82029331/fee_325_225_png\n",
      "************************\n",
      "147\n",
      "https://www.mediamarkt.be/nl/product/-1952176.html\n",
      "['Keuken', 'Koffiemachine', 'Melitta koffiemachine']\n",
      "…\n",
      "https://assets.mmsrg.com/isr/166325/c1/-/ASSET_MMS_83371618/fee_325_225_png\n"
     ]
    },
    {
     "name": "stderr",
     "output_type": "stream",
     "text": [
      "C:\\Users\\Administrator\\AppData\\Local\\Temp\\2\\ipykernel_152844\\3772363637.py:35: FutureWarning: The frame.append method is deprecated and will be removed from pandas in a future version. Use pandas.concat instead.\n",
      "  df=df.append(df1, ignore_index = True)\n",
      "\r",
      " 74%|███████████████████████████████████████████████████████████▍                    | 148/199 [30:08<09:07, 10.74s/it]"
     ]
    },
    {
     "name": "stdout",
     "output_type": "stream",
     "text": [
      "************************\n",
      "148\n",
      "https://www.mediamarkt.be/nl/product/-2076539.html\n"
     ]
    },
    {
     "name": "stderr",
     "output_type": "stream",
     "text": [
      "C:\\Users\\Administrator\\AppData\\Local\\Temp\\2\\ipykernel_152844\\3772363637.py:35: FutureWarning: The frame.append method is deprecated and will be removed from pandas in a future version. Use pandas.concat instead.\n",
      "  df=df.append(df1, ignore_index = True)\n",
      "\r",
      " 75%|███████████████████████████████████████████████████████████▉                    | 149/199 [30:22<09:43, 11.68s/it]"
     ]
    },
    {
     "name": "stdout",
     "output_type": "stream",
     "text": [
      "['Keuken', 'Koffiemachine', 'Melitta koffiemachine']\n",
      "…\n",
      "https://assets.mmsrg.com/isr/166325/c1/-/ASSET_MMS_108581371/fee_325_225_png\n",
      "************************\n",
      "149\n",
      "https://www.mediamarkt.be/nl/product/-1853081.html\n"
     ]
    },
    {
     "name": "stderr",
     "output_type": "stream",
     "text": [
      "C:\\Users\\Administrator\\AppData\\Local\\Temp\\2\\ipykernel_152844\\3772363637.py:35: FutureWarning: The frame.append method is deprecated and will be removed from pandas in a future version. Use pandas.concat instead.\n",
      "  df=df.append(df1, ignore_index = True)\n",
      "\r",
      " 75%|████████████████████████████████████████████████████████████▎                   | 150/199 [30:35<09:50, 12.06s/it]"
     ]
    },
    {
     "name": "stdout",
     "output_type": "stream",
     "text": [
      "['Keuken', 'Koffiemachine', 'Espressomachine']\n",
      "…\n",
      "https://assets.mmsrg.com/isr/166325/c1/-/ASSET_MMS_70220700/fee_325_225_png\n",
      "************************\n",
      "150\n",
      "https://www.mediamarkt.be/nl/product/-1853081.html\n"
     ]
    },
    {
     "name": "stderr",
     "output_type": "stream",
     "text": [
      "C:\\Users\\Administrator\\AppData\\Local\\Temp\\2\\ipykernel_152844\\3772363637.py:35: FutureWarning: The frame.append method is deprecated and will be removed from pandas in a future version. Use pandas.concat instead.\n",
      "  df=df.append(df1, ignore_index = True)\n",
      "\r",
      " 76%|████████████████████████████████████████████████████████████▋                   | 151/199 [30:44<08:47, 10.98s/it]"
     ]
    },
    {
     "name": "stdout",
     "output_type": "stream",
     "text": [
      "['Keuken', 'Koffiemachine', 'Espressomachine']\n",
      "…\n",
      "https://assets.mmsrg.com/isr/166325/c1/-/ASSET_MMS_70220700/fee_325_225_png\n",
      "************************\n",
      "151\n",
      "https://www.mediamarkt.be/nl/product/-2068173.html\n"
     ]
    },
    {
     "name": "stderr",
     "output_type": "stream",
     "text": [
      "C:\\Users\\Administrator\\AppData\\Local\\Temp\\2\\ipykernel_152844\\3772363637.py:35: FutureWarning: The frame.append method is deprecated and will be removed from pandas in a future version. Use pandas.concat instead.\n",
      "  df=df.append(df1, ignore_index = True)\n",
      "\r",
      " 76%|█████████████████████████████████████████████████████████████                   | 152/199 [30:57<09:03, 11.56s/it]"
     ]
    },
    {
     "name": "stdout",
     "output_type": "stream",
     "text": [
      "['Keuken', 'Koffiemachine', 'Smeg koffiemachine']\n",
      "…\n",
      "https://assets.mmsrg.com/isr/166325/c1/-/ASSET_MMS_105102731/fee_325_225_png\n",
      "************************\n",
      "152\n",
      "https://www.mediamarkt.be/nl/product/-1990136.html\n"
     ]
    },
    {
     "name": "stderr",
     "output_type": "stream",
     "text": [
      "C:\\Users\\Administrator\\AppData\\Local\\Temp\\2\\ipykernel_152844\\3772363637.py:35: FutureWarning: The frame.append method is deprecated and will be removed from pandas in a future version. Use pandas.concat instead.\n",
      "  df=df.append(df1, ignore_index = True)\n",
      "\r",
      " 77%|█████████████████████████████████████████████████████████████▌                  | 153/199 [31:09<09:02, 11.79s/it]"
     ]
    },
    {
     "name": "stdout",
     "output_type": "stream",
     "text": [
      "['Keuken', 'Koffiemachine', 'Siemens koffiemachine']\n",
      "…\n",
      "https://assets.mmsrg.com/isr/166325/c1/-/ASSET_MMS_89767185/fee_325_225_png\n",
      "************************\n",
      "153\n",
      "https://www.mediamarkt.be/nl/product/-1820038.html\n"
     ]
    },
    {
     "name": "stderr",
     "output_type": "stream",
     "text": [
      "C:\\Users\\Administrator\\AppData\\Local\\Temp\\2\\ipykernel_152844\\3772363637.py:35: FutureWarning: The frame.append method is deprecated and will be removed from pandas in a future version. Use pandas.concat instead.\n",
      "  df=df.append(df1, ignore_index = True)\n",
      "\r",
      " 77%|█████████████████████████████████████████████████████████████▉                  | 154/199 [31:23<09:20, 12.46s/it]"
     ]
    },
    {
     "name": "stdout",
     "output_type": "stream",
     "text": [
      "['Keuken', 'Koffiemachine', 'Sage koffiemachine']\n",
      "…\n",
      "https://assets.mmsrg.com/isr/166325/c1/-/ASSET_MMS_70172020/fee_325_225_png\n",
      "************************\n",
      "154\n",
      "https://www.mediamarkt.be/nl/product/-2065708.html\n"
     ]
    },
    {
     "name": "stderr",
     "output_type": "stream",
     "text": [
      "C:\\Users\\Administrator\\AppData\\Local\\Temp\\2\\ipykernel_152844\\3772363637.py:35: FutureWarning: The frame.append method is deprecated and will be removed from pandas in a future version. Use pandas.concat instead.\n",
      "  df=df.append(df1, ignore_index = True)\n",
      "\r",
      " 78%|██████████████████████████████████████████████████████████████▎                 | 155/199 [31:36<09:08, 12.48s/it]"
     ]
    },
    {
     "name": "stdout",
     "output_type": "stream",
     "text": [
      "['Keuken', 'Koffiemachine', 'De Longhi koffiemachine']\n",
      "…\n",
      "https://assets.mmsrg.com/isr/166325/c1/-/ASSET_MMS_105748972/fee_325_225_png\n",
      "************************\n",
      "155\n",
      "https://www.mediamarkt.be/nl/product/-2065708.html\n"
     ]
    },
    {
     "name": "stderr",
     "output_type": "stream",
     "text": [
      "C:\\Users\\Administrator\\AppData\\Local\\Temp\\2\\ipykernel_152844\\3772363637.py:35: FutureWarning: The frame.append method is deprecated and will be removed from pandas in a future version. Use pandas.concat instead.\n",
      "  df=df.append(df1, ignore_index = True)\n",
      "\r",
      " 78%|██████████████████████████████████████████████████████████████▋                 | 156/199 [31:43<07:48, 10.91s/it]"
     ]
    },
    {
     "name": "stdout",
     "output_type": "stream",
     "text": [
      "['Keuken', 'Koffiemachine', 'De Longhi koffiemachine']\n",
      "…\n",
      "https://assets.mmsrg.com/isr/166325/c1/-/ASSET_MMS_105748972/fee_325_225_png\n",
      "************************\n",
      "156\n",
      "https://www.mediamarkt.be/nl/product/-1321464.html\n"
     ]
    },
    {
     "name": "stderr",
     "output_type": "stream",
     "text": [
      "C:\\Users\\Administrator\\AppData\\Local\\Temp\\2\\ipykernel_152844\\3772363637.py:35: FutureWarning: The frame.append method is deprecated and will be removed from pandas in a future version. Use pandas.concat instead.\n",
      "  df=df.append(df1, ignore_index = True)\n",
      "\r",
      " 79%|███████████████████████████████████████████████████████████████                 | 157/199 [31:56<08:05, 11.56s/it]"
     ]
    },
    {
     "name": "stdout",
     "output_type": "stream",
     "text": [
      "['Keuken', 'Koffiemachine', 'Koffiemachine onderhoud']\n",
      "…\n",
      "https://assets.mmsrg.com/isr/166325/c1/-/ASSET_MMS_57901834/fee_325_225_png\n",
      "************************\n",
      "157\n",
      "https://www.mediamarkt.be/nl/product/-1321464.html\n"
     ]
    },
    {
     "name": "stderr",
     "output_type": "stream",
     "text": [
      "C:\\Users\\Administrator\\AppData\\Local\\Temp\\2\\ipykernel_152844\\3772363637.py:35: FutureWarning: The frame.append method is deprecated and will be removed from pandas in a future version. Use pandas.concat instead.\n",
      "  df=df.append(df1, ignore_index = True)\n",
      "\r",
      " 79%|███████████████████████████████████████████████████████████████▌                | 158/199 [32:04<07:15, 10.62s/it]"
     ]
    },
    {
     "name": "stdout",
     "output_type": "stream",
     "text": [
      "['Keuken', 'Koffiemachine', 'Koffiemachine onderhoud']\n",
      "…\n",
      "https://assets.mmsrg.com/isr/166325/c1/-/ASSET_MMS_57901834/fee_325_225_png\n",
      "************************\n",
      "158\n",
      "https://www.mediamarkt.be/nl/product/-2040110.html\n"
     ]
    },
    {
     "name": "stderr",
     "output_type": "stream",
     "text": [
      "C:\\Users\\Administrator\\AppData\\Local\\Temp\\2\\ipykernel_152844\\3772363637.py:35: FutureWarning: The frame.append method is deprecated and will be removed from pandas in a future version. Use pandas.concat instead.\n",
      "  df=df.append(df1, ignore_index = True)\n",
      "\r",
      " 80%|███████████████████████████████████████████████████████████████▉                | 159/199 [32:17<07:28, 11.22s/it]"
     ]
    },
    {
     "name": "stdout",
     "output_type": "stream",
     "text": [
      "['Gaming, Entertainment & Mobility', 'PlayStation', 'PlayStation 5 Consoles']\n",
      "…\n",
      "https://assets.mmsrg.com/isr/166325/c1/-/ASSET_MMS_77353522/fee_325_225_png\n",
      "************************\n",
      "159\n",
      "https://www.mediamarkt.be/nl/product/-2040110.html\n"
     ]
    },
    {
     "name": "stderr",
     "output_type": "stream",
     "text": [
      "C:\\Users\\Administrator\\AppData\\Local\\Temp\\2\\ipykernel_152844\\3772363637.py:35: FutureWarning: The frame.append method is deprecated and will be removed from pandas in a future version. Use pandas.concat instead.\n",
      "  df=df.append(df1, ignore_index = True)\n",
      "\r",
      " 80%|████████████████████████████████████████████████████████████████▎               | 160/199 [32:24<06:34, 10.13s/it]"
     ]
    },
    {
     "name": "stdout",
     "output_type": "stream",
     "text": [
      "['Gaming, Entertainment & Mobility', 'PlayStation', 'PlayStation 5 Consoles']\n",
      "…\n",
      "https://assets.mmsrg.com/isr/166325/c1/-/ASSET_MMS_77353522/fee_325_225_png\n",
      "************************\n",
      "160\n",
      "https://www.mediamarkt.be/nl/product/-2037432.html\n"
     ]
    },
    {
     "name": "stderr",
     "output_type": "stream",
     "text": [
      "C:\\Users\\Administrator\\AppData\\Local\\Temp\\2\\ipykernel_152844\\3772363637.py:35: FutureWarning: The frame.append method is deprecated and will be removed from pandas in a future version. Use pandas.concat instead.\n",
      "  df=df.append(df1, ignore_index = True)\n",
      "\r",
      " 81%|████████████████████████████████████████████████████████████████▋               | 161/199 [32:38<07:06, 11.23s/it]"
     ]
    },
    {
     "name": "stdout",
     "output_type": "stream",
     "text": [
      "['Televisie & Audio', 'TV', \"4K - 8K TV's\"]\n",
      "Meestal 549,–\n",
      "€549,00\n",
      "https://assets.mmsrg.com/isr/166325/c1/-/ASSET_MMS_104885078/fee_325_225_png\n",
      "************************\n",
      "161\n",
      "https://www.mediamarkt.be/nl/product/-1898898.html\n"
     ]
    },
    {
     "name": "stderr",
     "output_type": "stream",
     "text": [
      "C:\\Users\\Administrator\\AppData\\Local\\Temp\\2\\ipykernel_152844\\3772363637.py:35: FutureWarning: The frame.append method is deprecated and will be removed from pandas in a future version. Use pandas.concat instead.\n",
      "  df=df.append(df1, ignore_index = True)\n",
      "\r",
      " 81%|█████████████████████████████████████████████████████████████████▏              | 162/199 [32:50<07:04, 11.47s/it]"
     ]
    },
    {
     "name": "stdout",
     "output_type": "stream",
     "text": [
      "['Inbouw & Groot elektro', 'Wasmachine', 'Bosch wasmachine']\n",
      "Meestal 749,99\n",
      "€749,99\n",
      "https://assets.mmsrg.com/isr/166325/c1/-/ASSET_MMS_76752915/fee_325_225_png\n",
      "************************\n",
      "162\n",
      "https://www.mediamarkt.be/nl/product/-1898898.html\n"
     ]
    },
    {
     "name": "stderr",
     "output_type": "stream",
     "text": [
      "C:\\Users\\Administrator\\AppData\\Local\\Temp\\2\\ipykernel_152844\\3772363637.py:35: FutureWarning: The frame.append method is deprecated and will be removed from pandas in a future version. Use pandas.concat instead.\n",
      "  df=df.append(df1, ignore_index = True)\n",
      "\r",
      " 82%|█████████████████████████████████████████████████████████████████▌              | 163/199 [32:59<06:23, 10.67s/it]"
     ]
    },
    {
     "name": "stdout",
     "output_type": "stream",
     "text": [
      "['Inbouw & Groot elektro', 'Wasmachine', 'Bosch wasmachine']\n",
      "Meestal 749,99\n",
      "€749,99\n",
      "https://assets.mmsrg.com/isr/166325/c1/-/ASSET_MMS_76752915/fee_325_225_png\n",
      "************************\n",
      "163\n",
      "https://www.mediamarkt.be/nl/product/-1784365.html\n"
     ]
    },
    {
     "name": "stderr",
     "output_type": "stream",
     "text": [
      "C:\\Users\\Administrator\\AppData\\Local\\Temp\\2\\ipykernel_152844\\3772363637.py:35: FutureWarning: The frame.append method is deprecated and will be removed from pandas in a future version. Use pandas.concat instead.\n",
      "  df=df.append(df1, ignore_index = True)\n",
      "\r",
      " 82%|█████████████████████████████████████████████████████████████████▉              | 164/199 [33:08<05:59, 10.28s/it]"
     ]
    },
    {
     "name": "stdout",
     "output_type": "stream",
     "text": [
      "['Telefoon & Navigatie', 'GSM - Smartphone', 'Apple accessoires']\n",
      "Meestal 149,–\n",
      "€149,00\n",
      "https://assets.mmsrg.com/isr/166325/c1/-/pixelboxx-mss-79428872/fee_325_225_png\n",
      "************************\n",
      "164\n",
      "https://www.mediamarkt.be/nl/product/-1784365.html\n"
     ]
    },
    {
     "name": "stderr",
     "output_type": "stream",
     "text": [
      "C:\\Users\\Administrator\\AppData\\Local\\Temp\\2\\ipykernel_152844\\3772363637.py:35: FutureWarning: The frame.append method is deprecated and will be removed from pandas in a future version. Use pandas.concat instead.\n",
      "  df=df.append(df1, ignore_index = True)\n",
      "\r",
      " 83%|██████████████████████████████████████████████████████████████████▎             | 165/199 [33:17<05:27,  9.64s/it]"
     ]
    },
    {
     "name": "stdout",
     "output_type": "stream",
     "text": [
      "['Telefoon & Navigatie', 'GSM - Smartphone', 'Apple accessoires']\n",
      "Meestal 149,–\n",
      "€149,00\n",
      "https://assets.mmsrg.com/isr/166325/c1/-/pixelboxx-mss-79428872/fee_325_225_png\n",
      "************************\n",
      "165\n",
      "https://www.mediamarkt.be/nl/product/-2040109.html\n"
     ]
    },
    {
     "name": "stderr",
     "output_type": "stream",
     "text": [
      "C:\\Users\\Administrator\\AppData\\Local\\Temp\\2\\ipykernel_152844\\3772363637.py:35: FutureWarning: The frame.append method is deprecated and will be removed from pandas in a future version. Use pandas.concat instead.\n",
      "  df=df.append(df1, ignore_index = True)\n",
      "\r",
      " 83%|██████████████████████████████████████████████████████████████████▋             | 166/199 [33:28<05:37, 10.24s/it]"
     ]
    },
    {
     "name": "stdout",
     "output_type": "stream",
     "text": [
      "['Gaming, Entertainment & Mobility', 'PlayStation', 'PlayStation 5 Consoles']\n",
      "Adviesprijs 549,99\n",
      "€549,99\n",
      "https://assets.mmsrg.com/isr/166325/c1/-/ASSET_MMS_77352910/fee_325_225_png\n",
      "************************\n",
      "166\n",
      "https://www.mediamarkt.be/nl/product/-2058515.html\n"
     ]
    },
    {
     "name": "stderr",
     "output_type": "stream",
     "text": [
      "C:\\Users\\Administrator\\AppData\\Local\\Temp\\2\\ipykernel_152844\\3772363637.py:35: FutureWarning: The frame.append method is deprecated and will be removed from pandas in a future version. Use pandas.concat instead.\n",
      "  df=df.append(df1, ignore_index = True)\n",
      "\r",
      " 84%|███████████████████████████████████████████████████████████████████▏            | 167/199 [33:43<06:11, 11.61s/it]"
     ]
    },
    {
     "name": "stdout",
     "output_type": "stream",
     "text": [
      "['Huishouden & Verzorging', 'Reinigen - Stofzuigen', 'Onze favoriete stofzuigers']\n",
      "Meestal 479,–\n",
      "€479,00\n",
      "https://assets.mmsrg.com/isr/166325/c1/-/ASSET_MMS_105709169/fee_325_225_png\n",
      "************************\n",
      "167\n",
      "https://www.mediamarkt.be/nl/product/-2058515.html\n"
     ]
    },
    {
     "name": "stderr",
     "output_type": "stream",
     "text": [
      "C:\\Users\\Administrator\\AppData\\Local\\Temp\\2\\ipykernel_152844\\3772363637.py:35: FutureWarning: The frame.append method is deprecated and will be removed from pandas in a future version. Use pandas.concat instead.\n",
      "  df=df.append(df1, ignore_index = True)\n",
      "\r",
      " 84%|███████████████████████████████████████████████████████████████████▌            | 168/199 [33:52<05:34, 10.79s/it]"
     ]
    },
    {
     "name": "stdout",
     "output_type": "stream",
     "text": [
      "['Huishouden & Verzorging', 'Reinigen - Stofzuigen', 'Onze favoriete stofzuigers']\n",
      "Meestal 479,–\n",
      "€479,00\n",
      "https://assets.mmsrg.com/isr/166325/c1/-/ASSET_MMS_105709169/fee_325_225_png\n",
      "************************\n",
      "168\n",
      "https://www.mediamarkt.be/nl/product/-2082740.html\n"
     ]
    },
    {
     "name": "stderr",
     "output_type": "stream",
     "text": [
      "C:\\Users\\Administrator\\AppData\\Local\\Temp\\2\\ipykernel_152844\\3772363637.py:35: FutureWarning: The frame.append method is deprecated and will be removed from pandas in a future version. Use pandas.concat instead.\n",
      "  df=df.append(df1, ignore_index = True)\n",
      "\r",
      " 85%|███████████████████████████████████████████████████████████████████▉            | 169/199 [34:03<05:27, 10.90s/it]"
     ]
    },
    {
     "name": "stdout",
     "output_type": "stream",
     "text": [
      "['Computer & Multimedia', 'Laptops', '17 inch-laptops']\n",
      "…\n",
      "https://assets.mmsrg.com/isr/166325/c1/-/ASSET_MMS_107069683/fee_325_225_png\n",
      "************************\n",
      "169\n",
      "https://www.mediamarkt.be/nl/product/-2082740.html\n"
     ]
    },
    {
     "name": "stderr",
     "output_type": "stream",
     "text": [
      "C:\\Users\\Administrator\\AppData\\Local\\Temp\\2\\ipykernel_152844\\3772363637.py:35: FutureWarning: The frame.append method is deprecated and will be removed from pandas in a future version. Use pandas.concat instead.\n",
      "  df=df.append(df1, ignore_index = True)\n",
      "\r",
      " 85%|████████████████████████████████████████████████████████████████████▎           | 170/199 [34:11<04:49,  9.98s/it]"
     ]
    },
    {
     "name": "stdout",
     "output_type": "stream",
     "text": [
      "['Computer & Multimedia', 'Laptops', '17 inch-laptops']\n",
      "…\n",
      "https://assets.mmsrg.com/isr/166325/c1/-/ASSET_MMS_107069683/fee_325_225_png\n",
      "************************\n",
      "170\n",
      "https://www.mediamarkt.be/nl/product/-2033922.html\n"
     ]
    },
    {
     "name": "stderr",
     "output_type": "stream",
     "text": [
      "C:\\Users\\Administrator\\AppData\\Local\\Temp\\2\\ipykernel_152844\\3772363637.py:35: FutureWarning: The frame.append method is deprecated and will be removed from pandas in a future version. Use pandas.concat instead.\n",
      "  df=df.append(df1, ignore_index = True)\n",
      "\r",
      " 86%|████████████████████████████████████████████████████████████████████▋           | 171/199 [34:26<05:22, 11.50s/it]"
     ]
    },
    {
     "name": "stdout",
     "output_type": "stream",
     "text": [
      "['Telefoon & Navigatie', 'GSM - Smartphone', 'Smartphone', 'Apple iPhone']\n",
      "…\n",
      "https://assets.mmsrg.com/isr/166325/c1/-/ASSET_MMS_97266725/fee_325_225_png\n",
      "************************\n",
      "171\n",
      "https://www.mediamarkt.be/nl/product/-2033922.html\n"
     ]
    },
    {
     "name": "stderr",
     "output_type": "stream",
     "text": [
      "C:\\Users\\Administrator\\AppData\\Local\\Temp\\2\\ipykernel_152844\\3772363637.py:35: FutureWarning: The frame.append method is deprecated and will be removed from pandas in a future version. Use pandas.concat instead.\n",
      "  df=df.append(df1, ignore_index = True)\n",
      "\r",
      " 86%|█████████████████████████████████████████████████████████████████████▏          | 172/199 [34:34<04:41, 10.41s/it]"
     ]
    },
    {
     "name": "stdout",
     "output_type": "stream",
     "text": [
      "['Telefoon & Navigatie', 'GSM - Smartphone', 'Smartphone', 'Apple iPhone']\n",
      "…\n",
      "https://assets.mmsrg.com/isr/166325/c1/-/ASSET_MMS_97266725/fee_325_225_png\n",
      "************************\n",
      "172\n",
      "https://www.mediamarkt.be/nl/product/-2029792.html\n"
     ]
    },
    {
     "name": "stderr",
     "output_type": "stream",
     "text": [
      "C:\\Users\\Administrator\\AppData\\Local\\Temp\\2\\ipykernel_152844\\3772363637.py:35: FutureWarning: The frame.append method is deprecated and will be removed from pandas in a future version. Use pandas.concat instead.\n",
      "  df=df.append(df1, ignore_index = True)\n",
      "\r",
      " 87%|█████████████████████████████████████████████████████████████████████▌          | 173/199 [34:48<05:03, 11.67s/it]"
     ]
    },
    {
     "name": "stdout",
     "output_type": "stream",
     "text": [
      "['Inbouw & Groot elektro', 'Wasmachine', 'Beko wasmachine']\n",
      "Meestal 529,99\n",
      "€529,99\n",
      "https://assets.mmsrg.com/isr/166325/c1/-/ASSET_MMS_96381027/fee_325_225_png\n",
      "************************\n",
      "173\n",
      "https://www.mediamarkt.be/nl/product/-2072327.html\n"
     ]
    },
    {
     "name": "stderr",
     "output_type": "stream",
     "text": [
      "C:\\Users\\Administrator\\AppData\\Local\\Temp\\2\\ipykernel_152844\\3772363637.py:35: FutureWarning: The frame.append method is deprecated and will be removed from pandas in a future version. Use pandas.concat instead.\n",
      "  df=df.append(df1, ignore_index = True)\n",
      "\r",
      " 87%|█████████████████████████████████████████████████████████████████████▉          | 174/199 [35:02<05:06, 12.25s/it]"
     ]
    },
    {
     "name": "stdout",
     "output_type": "stream",
     "text": [
      "['Inbouw & Groot elektro', 'Koelkast - Diepvries', 'Koel-vriescombinatie']\n",
      "Meestal 749,–\n",
      "€749,00\n",
      "https://assets.mmsrg.com/isr/166325/c1/-/ASSET_MMS_106342893/fee_325_225_png\n",
      "************************\n",
      "174\n",
      "https://www.mediamarkt.be/nl/product/-2072327.html\n"
     ]
    },
    {
     "name": "stderr",
     "output_type": "stream",
     "text": [
      "C:\\Users\\Administrator\\AppData\\Local\\Temp\\2\\ipykernel_152844\\3772363637.py:35: FutureWarning: The frame.append method is deprecated and will be removed from pandas in a future version. Use pandas.concat instead.\n",
      "  df=df.append(df1, ignore_index = True)\n",
      "\r",
      " 88%|██████████████████████████████████████████████████████████████████████▎         | 175/199 [35:11<04:29, 11.23s/it]"
     ]
    },
    {
     "name": "stdout",
     "output_type": "stream",
     "text": [
      "['Inbouw & Groot elektro', 'Koelkast - Diepvries', 'Koel-vriescombinatie']\n",
      "Meestal 749,–\n",
      "€749,00\n",
      "https://assets.mmsrg.com/isr/166325/c1/-/ASSET_MMS_106342893/fee_325_225_png\n",
      "************************\n",
      "175\n",
      "https://www.mediamarkt.be/nl/product/-2011918.html\n",
      "['Keuken', 'Koffiemachine', 'Koffie']\n"
     ]
    },
    {
     "name": "stderr",
     "output_type": "stream",
     "text": [
      "C:\\Users\\Administrator\\AppData\\Local\\Temp\\2\\ipykernel_152844\\3772363637.py:35: FutureWarning: The frame.append method is deprecated and will be removed from pandas in a future version. Use pandas.concat instead.\n",
      "  df=df.append(df1, ignore_index = True)\n",
      "\r",
      " 88%|██████████████████████████████████████████████████████████████████████▊         | 176/199 [35:20<04:05, 10.67s/it]"
     ]
    },
    {
     "name": "stdout",
     "output_type": "stream",
     "text": [
      "…\n",
      "https://assets.mmsrg.com/isr/166325/c1/-/ASSET_MMS_99836442/fee_325_225_png\n",
      "************************\n",
      "176\n",
      "https://www.mediamarkt.be/nl/product/-2011909.html\n"
     ]
    },
    {
     "name": "stderr",
     "output_type": "stream",
     "text": [
      "C:\\Users\\Administrator\\AppData\\Local\\Temp\\2\\ipykernel_152844\\3772363637.py:35: FutureWarning: The frame.append method is deprecated and will be removed from pandas in a future version. Use pandas.concat instead.\n",
      "  df=df.append(df1, ignore_index = True)\n",
      "\r",
      " 89%|███████████████████████████████████████████████████████████████████████▏        | 177/199 [35:30<03:48, 10.38s/it]"
     ]
    },
    {
     "name": "stdout",
     "output_type": "stream",
     "text": [
      "['Keuken', 'Koffiemachine', 'Koffie']\n",
      "…\n",
      "https://assets.mmsrg.com/isr/166325/c1/-/ASSET_MMS_99836412/fee_325_225_png\n",
      "************************\n",
      "177\n",
      "https://www.mediamarkt.be/nl/product/-1896803.html\n"
     ]
    },
    {
     "name": "stderr",
     "output_type": "stream",
     "text": [
      "C:\\Users\\Administrator\\AppData\\Local\\Temp\\2\\ipykernel_152844\\3772363637.py:35: FutureWarning: The frame.append method is deprecated and will be removed from pandas in a future version. Use pandas.concat instead.\n",
      "  df=df.append(df1, ignore_index = True)\n",
      "\r",
      " 89%|███████████████████████████████████████████████████████████████████████▌        | 178/199 [35:53<04:54, 14.05s/it]"
     ]
    },
    {
     "name": "stdout",
     "output_type": "stream",
     "text": [
      "['Keuken', 'Koffiemachine', 'Espressomachine']\n",
      "…\n",
      "https://assets.mmsrg.com/isr/166325/c1/-/ASSET_MMS_76770822/fee_325_225_png\n",
      "************************\n",
      "178\n",
      "https://www.mediamarkt.be/nl/product/-1999018.html\n"
     ]
    },
    {
     "name": "stderr",
     "output_type": "stream",
     "text": [
      "C:\\Users\\Administrator\\AppData\\Local\\Temp\\2\\ipykernel_152844\\3772363637.py:35: FutureWarning: The frame.append method is deprecated and will be removed from pandas in a future version. Use pandas.concat instead.\n",
      "  df=df.append(df1, ignore_index = True)\n",
      "\r",
      " 90%|███████████████████████████████████████████████████████████████████████▉        | 179/199 [36:06<04:39, 13.97s/it]"
     ]
    },
    {
     "name": "stdout",
     "output_type": "stream",
     "text": [
      "['Inbouw & Groot elektro', 'Wasmachine', 'Wasmachine voorlader']\n",
      "Meestal 399,–\n",
      "€399,00\n",
      "https://assets.mmsrg.com/isr/166325/c1/-/ASSET_MMS_92318867/fee_325_225_png\n",
      "************************\n",
      "179\n",
      "https://www.mediamarkt.be/nl/product/-1999018.html\n"
     ]
    },
    {
     "name": "stderr",
     "output_type": "stream",
     "text": [
      "C:\\Users\\Administrator\\AppData\\Local\\Temp\\2\\ipykernel_152844\\3772363637.py:35: FutureWarning: The frame.append method is deprecated and will be removed from pandas in a future version. Use pandas.concat instead.\n",
      "  df=df.append(df1, ignore_index = True)\n",
      "\r",
      " 90%|████████████████████████████████████████████████████████████████████████▎       | 180/199 [36:14<03:48, 12.03s/it]"
     ]
    },
    {
     "name": "stdout",
     "output_type": "stream",
     "text": [
      "['Inbouw & Groot elektro', 'Wasmachine', 'Wasmachine voorlader']\n",
      "Meestal 399,–\n",
      "€399,00\n",
      "https://assets.mmsrg.com/isr/166325/c1/-/ASSET_MMS_92318867/fee_325_225_png\n",
      "************************\n",
      "180\n",
      "https://www.mediamarkt.be/nl/product/-2009096.html\n",
      "['Televisie & Audio', 'TV', \"Samsung TV's\", \"Samsung QLED TV's\"]\n",
      "Meestal 745,–\n",
      "€745,00\n",
      "https://assets.mmsrg.com/isr/166325/c1/-/ASSET_MMS_103712617/fee_325_225_png\n"
     ]
    },
    {
     "name": "stderr",
     "output_type": "stream",
     "text": [
      "C:\\Users\\Administrator\\AppData\\Local\\Temp\\2\\ipykernel_152844\\3772363637.py:35: FutureWarning: The frame.append method is deprecated and will be removed from pandas in a future version. Use pandas.concat instead.\n",
      "  df=df.append(df1, ignore_index = True)\n",
      "\r",
      " 91%|████████████████████████████████████████████████████████████████████████▊       | 181/199 [36:27<03:43, 12.40s/it]"
     ]
    },
    {
     "name": "stdout",
     "output_type": "stream",
     "text": [
      "************************\n",
      "181\n",
      "https://www.mediamarkt.be/nl/product/-2009096.html\n"
     ]
    },
    {
     "name": "stderr",
     "output_type": "stream",
     "text": [
      "C:\\Users\\Administrator\\AppData\\Local\\Temp\\2\\ipykernel_152844\\3772363637.py:35: FutureWarning: The frame.append method is deprecated and will be removed from pandas in a future version. Use pandas.concat instead.\n",
      "  df=df.append(df1, ignore_index = True)\n",
      "\r",
      " 91%|█████████████████████████████████████████████████████████████████████████▏      | 182/199 [36:37<03:18, 11.68s/it]"
     ]
    },
    {
     "name": "stdout",
     "output_type": "stream",
     "text": [
      "['Televisie & Audio', 'TV', \"Samsung TV's\", \"Samsung QLED TV's\"]\n",
      "Meestal 745,–\n",
      "€745,00\n",
      "https://assets.mmsrg.com/isr/166325/c1/-/ASSET_MMS_103712617/fee_325_225_png\n",
      "************************\n",
      "182\n",
      "https://www.mediamarkt.be/nl/product/-2052203.html\n"
     ]
    },
    {
     "name": "stderr",
     "output_type": "stream",
     "text": [
      "C:\\Users\\Administrator\\AppData\\Local\\Temp\\2\\ipykernel_152844\\3772363637.py:35: FutureWarning: The frame.append method is deprecated and will be removed from pandas in a future version. Use pandas.concat instead.\n",
      "  df=df.append(df1, ignore_index = True)\n",
      "\r",
      " 92%|█████████████████████████████████████████████████████████████████████████▌      | 183/199 [36:50<03:14, 12.13s/it]"
     ]
    },
    {
     "name": "stdout",
     "output_type": "stream",
     "text": [
      "['Televisie & Audio', 'TV', \"Full HD TV's - HD TV's\"]\n",
      "Meestal 269,99\n",
      "€269,99\n",
      "https://assets.mmsrg.com/isr/166325/c1/-/ASSET_MMS_105749818/fee_325_225_png\n",
      "************************\n",
      "183\n",
      "https://www.mediamarkt.be/nl/product/-2052203.html\n"
     ]
    },
    {
     "name": "stderr",
     "output_type": "stream",
     "text": [
      "C:\\Users\\Administrator\\AppData\\Local\\Temp\\2\\ipykernel_152844\\3772363637.py:35: FutureWarning: The frame.append method is deprecated and will be removed from pandas in a future version. Use pandas.concat instead.\n",
      "  df=df.append(df1, ignore_index = True)\n",
      "\r",
      " 92%|█████████████████████████████████████████████████████████████████████████▉      | 184/199 [36:58<02:43, 10.89s/it]"
     ]
    },
    {
     "name": "stdout",
     "output_type": "stream",
     "text": [
      "['Televisie & Audio', 'TV', \"Full HD TV's - HD TV's\"]\n",
      "Meestal 269,99\n",
      "€269,99\n",
      "https://assets.mmsrg.com/isr/166325/c1/-/ASSET_MMS_105749818/fee_325_225_png\n",
      "************************\n",
      "184\n",
      "https://www.mediamarkt.be/nl/product/-2033893.html\n"
     ]
    },
    {
     "name": "stderr",
     "output_type": "stream",
     "text": [
      "C:\\Users\\Administrator\\AppData\\Local\\Temp\\2\\ipykernel_152844\\3772363637.py:35: FutureWarning: The frame.append method is deprecated and will be removed from pandas in a future version. Use pandas.concat instead.\n",
      "  df=df.append(df1, ignore_index = True)\n",
      "\r",
      " 93%|██████████████████████████████████████████████████████████████████████████▎     | 185/199 [37:12<02:45, 11.85s/it]"
     ]
    },
    {
     "name": "stdout",
     "output_type": "stream",
     "text": [
      "['Telefoon & Navigatie', 'GSM - Smartphone', 'Apple accessoires']\n",
      "Meestal 295,–\n",
      "€295,00\n",
      "https://assets.mmsrg.com/isr/166325/c1/-/ASSET_MMS_100829992/fee_325_225_png\n",
      "************************\n",
      "185\n",
      "https://www.mediamarkt.be/nl/product/-2033893.html\n"
     ]
    },
    {
     "name": "stderr",
     "output_type": "stream",
     "text": [
      "C:\\Users\\Administrator\\AppData\\Local\\Temp\\2\\ipykernel_152844\\3772363637.py:35: FutureWarning: The frame.append method is deprecated and will be removed from pandas in a future version. Use pandas.concat instead.\n",
      "  df=df.append(df1, ignore_index = True)\n",
      "\r",
      " 93%|██████████████████████████████████████████████████████████████████████████▊     | 186/199 [37:23<02:29, 11.47s/it]"
     ]
    },
    {
     "name": "stdout",
     "output_type": "stream",
     "text": [
      "['Telefoon & Navigatie', 'GSM - Smartphone', 'Apple accessoires']\n",
      "Meestal 295,–\n",
      "€295,00\n",
      "https://assets.mmsrg.com/isr/166325/c1/-/ASSET_MMS_100829992/fee_325_225_png\n",
      "************************\n",
      "186\n",
      "https://www.mediamarkt.be/nl/product/-2021421.html\n"
     ]
    },
    {
     "name": "stderr",
     "output_type": "stream",
     "text": [
      "C:\\Users\\Administrator\\AppData\\Local\\Temp\\2\\ipykernel_152844\\3772363637.py:35: FutureWarning: The frame.append method is deprecated and will be removed from pandas in a future version. Use pandas.concat instead.\n",
      "  df=df.append(df1, ignore_index = True)\n",
      "\r",
      " 94%|███████████████████████████████████████████████████████████████████████████▏    | 187/199 [37:36<02:22, 11.88s/it]"
     ]
    },
    {
     "name": "stdout",
     "output_type": "stream",
     "text": [
      "['Telefoon & Navigatie', 'GSM - Smartphone', 'Smartphone', 'Onze favoriete smartphones']\n",
      "Meestal 599,–\n",
      "€599,00\n",
      "https://assets.mmsrg.com/isr/166325/c1/-/ASSET_MMS_90410067/fee_325_225_png\n",
      "************************\n",
      "187\n",
      "https://www.mediamarkt.be/nl/product/-2021421.html\n"
     ]
    },
    {
     "name": "stderr",
     "output_type": "stream",
     "text": [
      "C:\\Users\\Administrator\\AppData\\Local\\Temp\\2\\ipykernel_152844\\3772363637.py:35: FutureWarning: The frame.append method is deprecated and will be removed from pandas in a future version. Use pandas.concat instead.\n",
      "  df=df.append(df1, ignore_index = True)\n",
      "\r",
      " 94%|███████████████████████████████████████████████████████████████████████████▌    | 188/199 [37:45<02:01, 11.07s/it]"
     ]
    },
    {
     "name": "stdout",
     "output_type": "stream",
     "text": [
      "['Telefoon & Navigatie', 'GSM - Smartphone', 'Smartphone', 'Onze favoriete smartphones']\n",
      "Meestal 599,–\n",
      "€599,00\n",
      "https://assets.mmsrg.com/isr/166325/c1/-/ASSET_MMS_90410067/fee_325_225_png\n",
      "************************\n",
      "188\n",
      "https://www.mediamarkt.be/nl/product/-1901785.html\n"
     ]
    },
    {
     "name": "stderr",
     "output_type": "stream",
     "text": [
      "C:\\Users\\Administrator\\AppData\\Local\\Temp\\2\\ipykernel_152844\\3772363637.py:35: FutureWarning: The frame.append method is deprecated and will be removed from pandas in a future version. Use pandas.concat instead.\n",
      "  df=df.append(df1, ignore_index = True)\n",
      "\r",
      " 95%|███████████████████████████████████████████████████████████████████████████▉    | 189/199 [37:55<01:48, 10.86s/it]"
     ]
    },
    {
     "name": "stdout",
     "output_type": "stream",
     "text": [
      "['Keuken', 'Koffiemachine', 'Capsulemachine']\n",
      "Bezorging tussen 26-08-2023 - 29-08-2023\n",
      "https://assets.mmsrg.com/isr/166325/c1/-/ASSET_MMS_81684069/fee_325_225_png\n",
      "************************\n",
      "189\n",
      "https://www.mediamarkt.be/nl/product/-1582524.html\n"
     ]
    },
    {
     "name": "stderr",
     "output_type": "stream",
     "text": [
      "C:\\Users\\Administrator\\AppData\\Local\\Temp\\2\\ipykernel_152844\\3772363637.py:35: FutureWarning: The frame.append method is deprecated and will be removed from pandas in a future version. Use pandas.concat instead.\n",
      "  df=df.append(df1, ignore_index = True)\n",
      "\r",
      " 95%|████████████████████████████████████████████████████████████████████████████▍   | 190/199 [38:10<01:47, 11.99s/it]"
     ]
    },
    {
     "name": "stdout",
     "output_type": "stream",
     "text": [
      "['Keuken', 'Koffiemachine', 'Capsulemachine']\n",
      "…\n",
      "https://assets.mmsrg.com/isr/166325/c1/-/ASSET_MMS_108679928/fee_325_225_png\n",
      "************************\n",
      "190\n",
      "https://www.mediamarkt.be/nl/product/-1582524.html\n"
     ]
    },
    {
     "name": "stderr",
     "output_type": "stream",
     "text": [
      "C:\\Users\\Administrator\\AppData\\Local\\Temp\\2\\ipykernel_152844\\3772363637.py:35: FutureWarning: The frame.append method is deprecated and will be removed from pandas in a future version. Use pandas.concat instead.\n",
      "  df=df.append(df1, ignore_index = True)\n",
      "\r",
      " 96%|████████████████████████████████████████████████████████████████████████████▊   | 191/199 [38:20<01:30, 11.25s/it]"
     ]
    },
    {
     "name": "stdout",
     "output_type": "stream",
     "text": [
      "['Keuken', 'Koffiemachine', 'Capsulemachine']\n",
      "…\n",
      "https://assets.mmsrg.com/isr/166325/c1/-/ASSET_MMS_108679928/fee_325_225_png\n",
      "************************\n",
      "191\n",
      "https://www.mediamarkt.be/nl/product/-1878837.html\n"
     ]
    },
    {
     "name": "stderr",
     "output_type": "stream",
     "text": [
      "C:\\Users\\Administrator\\AppData\\Local\\Temp\\2\\ipykernel_152844\\3772363637.py:35: FutureWarning: The frame.append method is deprecated and will be removed from pandas in a future version. Use pandas.concat instead.\n",
      "  df=df.append(df1, ignore_index = True)\n",
      "\r",
      " 96%|█████████████████████████████████████████████████████████████████████████████▏  | 192/199 [38:34<01:26, 12.35s/it]"
     ]
    },
    {
     "name": "stdout",
     "output_type": "stream",
     "text": [
      "['Keuken', 'Koffiemachine', 'Capsulemachine']\n",
      "…\n",
      "https://assets.mmsrg.com/isr/166325/c1/-/ASSET_MMS_73387442/fee_325_225_png\n",
      "************************\n",
      "192\n",
      "https://www.mediamarkt.be/nl/product/-1833672.html\n"
     ]
    },
    {
     "name": "stderr",
     "output_type": "stream",
     "text": [
      "C:\\Users\\Administrator\\AppData\\Local\\Temp\\2\\ipykernel_152844\\3772363637.py:35: FutureWarning: The frame.append method is deprecated and will be removed from pandas in a future version. Use pandas.concat instead.\n",
      "  df=df.append(df1, ignore_index = True)\n",
      "\r",
      " 97%|█████████████████████████████████████████████████████████████████████████████▌  | 193/199 [38:46<01:13, 12.26s/it]"
     ]
    },
    {
     "name": "stdout",
     "output_type": "stream",
     "text": [
      "['Keuken', 'Koffiemachine', 'Capsulemachine']\n",
      "Bezorging tussen 26-08-2023 - 29-08-2023\n",
      "https://assets.mmsrg.com/isr/166325/c1/-/pixelboxx-mss-81988081/fee_325_225_png\n",
      "************************\n",
      "193\n",
      "https://www.mediamarkt.be/nl/product/-1833673.html\n"
     ]
    },
    {
     "name": "stderr",
     "output_type": "stream",
     "text": [
      "C:\\Users\\Administrator\\AppData\\Local\\Temp\\2\\ipykernel_152844\\3772363637.py:35: FutureWarning: The frame.append method is deprecated and will be removed from pandas in a future version. Use pandas.concat instead.\n",
      "  df=df.append(df1, ignore_index = True)\n",
      "\r",
      " 97%|█████████████████████████████████████████████████████████████████████████████▉  | 194/199 [38:58<00:59, 11.99s/it]"
     ]
    },
    {
     "name": "stdout",
     "output_type": "stream",
     "text": [
      "['Keuken', 'Koffiemachine', 'Capsulemachine']\n",
      "Bezorging tussen 26-08-2023 - 29-08-2023\n",
      "https://assets.mmsrg.com/isr/166325/c1/-/pixelboxx-mss-82016079/fee_325_225_png\n",
      "************************\n",
      "194\n",
      "https://www.mediamarkt.be/nl/product/-1680719.html\n"
     ]
    },
    {
     "name": "stderr",
     "output_type": "stream",
     "text": [
      "C:\\Users\\Administrator\\AppData\\Local\\Temp\\2\\ipykernel_152844\\3772363637.py:35: FutureWarning: The frame.append method is deprecated and will be removed from pandas in a future version. Use pandas.concat instead.\n",
      "  df=df.append(df1, ignore_index = True)\n",
      "\r",
      " 98%|██████████████████████████████████████████████████████████████████████████████▍ | 195/199 [39:12<00:50, 12.69s/it]"
     ]
    },
    {
     "name": "stdout",
     "output_type": "stream",
     "text": [
      "['Keuken', 'Koffiemachine', 'Capsulemachine']\n",
      "…\n",
      "https://assets.mmsrg.com/isr/166325/c1/-/ASSET_MMS_108678408/fee_325_225_png\n",
      "************************\n",
      "195\n",
      "https://www.mediamarkt.be/nl/product/-1901791.html\n"
     ]
    },
    {
     "name": "stderr",
     "output_type": "stream",
     "text": [
      "C:\\Users\\Administrator\\AppData\\Local\\Temp\\2\\ipykernel_152844\\3772363637.py:35: FutureWarning: The frame.append method is deprecated and will be removed from pandas in a future version. Use pandas.concat instead.\n",
      "  df=df.append(df1, ignore_index = True)\n",
      "\r",
      " 98%|██████████████████████████████████████████████████████████████████████████████▊ | 196/199 [39:26<00:39, 13.11s/it]"
     ]
    },
    {
     "name": "stdout",
     "output_type": "stream",
     "text": [
      "['Keuken', 'Koffiemachine', 'Capsulemachine']\n",
      "Bezorging tussen 26-08-2023 - 29-08-2023\n",
      "https://assets.mmsrg.com/isr/166325/c1/-/ASSET_MMS_78643812/fee_325_225_png\n",
      "************************\n",
      "196\n",
      "https://www.mediamarkt.be/nl/product/-1989290.html\n"
     ]
    },
    {
     "name": "stderr",
     "output_type": "stream",
     "text": [
      "C:\\Users\\Administrator\\AppData\\Local\\Temp\\2\\ipykernel_152844\\3772363637.py:35: FutureWarning: The frame.append method is deprecated and will be removed from pandas in a future version. Use pandas.concat instead.\n",
      "  df=df.append(df1, ignore_index = True)\n",
      "\r",
      " 99%|███████████████████████████████████████████████████████████████████████████████▏| 197/199 [39:37<00:24, 12.28s/it]"
     ]
    },
    {
     "name": "stdout",
     "output_type": "stream",
     "text": [
      "['Keuken', 'Koffiemachine', 'Koffie']\n",
      "Bezorging tussen 26-08-2023 - 29-08-2023\n",
      "https://assets.mmsrg.com/isr/166325/c1/-/ASSET_MMS_89415594/fee_325_225_png\n",
      "************************\n",
      "197\n",
      "https://www.mediamarkt.be/nl/product/-1989296.html\n"
     ]
    },
    {
     "name": "stderr",
     "output_type": "stream",
     "text": [
      "C:\\Users\\Administrator\\AppData\\Local\\Temp\\2\\ipykernel_152844\\3772363637.py:35: FutureWarning: The frame.append method is deprecated and will be removed from pandas in a future version. Use pandas.concat instead.\n",
      "  df=df.append(df1, ignore_index = True)\n",
      "\r",
      " 99%|███████████████████████████████████████████████████████████████████████████████▌| 198/199 [39:45<00:10, 10.99s/it]"
     ]
    },
    {
     "name": "stdout",
     "output_type": "stream",
     "text": [
      "['Keuken', 'Koffiemachine', 'Koffie']\n",
      "Selecteer winkel\n",
      "https://assets.mmsrg.com/isr/166325/c1/-/ASSET_MMS_89415590/fee_325_225_png\n",
      "************************\n",
      "198\n",
      "https://www.mediamarkt.be/nl/product/-1989301.html\n"
     ]
    },
    {
     "name": "stderr",
     "output_type": "stream",
     "text": [
      "C:\\Users\\Administrator\\AppData\\Local\\Temp\\2\\ipykernel_152844\\3772363637.py:35: FutureWarning: The frame.append method is deprecated and will be removed from pandas in a future version. Use pandas.concat instead.\n",
      "  df=df.append(df1, ignore_index = True)\n",
      "100%|████████████████████████████████████████████████████████████████████████████████| 199/199 [39:53<00:00, 12.03s/it]"
     ]
    },
    {
     "name": "stdout",
     "output_type": "stream",
     "text": [
      "['Keuken', 'Koffiemachine', 'Koffie']\n",
      "Selecteer winkel\n",
      "https://assets.mmsrg.com/isr/166325/c1/-/ASSET_MMS_89415593/fee_325_225_png\n"
     ]
    },
    {
     "name": "stderr",
     "output_type": "stream",
     "text": [
      "\n"
     ]
    }
   ],
   "source": [
    "for i in tqdm(range(0,len(asinlist))):\n",
    "    sku=asinlist[i]\n",
    "    url=\"https://www.mediamarkt.be/nl/product/-{}.html\".format(sku)\n",
    "    \n",
    "    print('************************')\n",
    "    print(i)\n",
    "    print(url)\n",
    "    driver.get(url)\n",
    "    first_image=''\n",
    "    bs=BeautifulSoup(driver.page_source,'html.parser')\n",
    "    cat=[]\n",
    "    try:\n",
    "        element = driver.find_elements(By.XPATH, \"//ol[@class='Breadcrumb-styled__StyledList-sc-57676b39-1 cXCHDb']//li\")\n",
    "        cat=[element[e].text for e in range(1,len(element))] \n",
    "        print(cat)\n",
    "    except:\n",
    "         print('cat not  found')\n",
    "    \n",
    " #   try:\n",
    "  #      element = driver.find_element(By.XPATH, \"//p[@class='sc-hLBbgP cWDBFq']\")\n",
    "   #     seller_info=element.text.strip()\n",
    "    #    print(seller_info)\n",
    "    #except:\n",
    "     #   print('seller not found')\n",
    "    \n",
    "    try:\n",
    "        image = driver.find_element(By.XPATH, \"//div[@class='ZoomImage__StyledZoomImage-sc-43dea761-0 gGEvAT']/picture/img\")\n",
    "        first_image=image.get_attribute('src')\n",
    "        print(first_image)\n",
    "    except:\n",
    "        print('image not found')\n",
    "    \n",
    "        \n",
    "    df1={'channel_sku_id': sku, 'categories': cat, 'first_image':first_image, 'seller_info':seller_info}\n",
    "    df=df.append(df1, ignore_index = True)"
   ]
  },
  {
   "cell_type": "code",
   "execution_count": 16,
   "id": "4a2f4561",
   "metadata": {},
   "outputs": [
    {
     "data": {
      "text/html": [
       "<div>\n",
       "<style scoped>\n",
       "    .dataframe tbody tr th:only-of-type {\n",
       "        vertical-align: middle;\n",
       "    }\n",
       "\n",
       "    .dataframe tbody tr th {\n",
       "        vertical-align: top;\n",
       "    }\n",
       "\n",
       "    .dataframe thead th {\n",
       "        text-align: right;\n",
       "    }\n",
       "</style>\n",
       "<table border=\"1\" class=\"dataframe\">\n",
       "  <thead>\n",
       "    <tr style=\"text-align: right;\">\n",
       "      <th></th>\n",
       "      <th>channel_sku_id</th>\n",
       "      <th>categories</th>\n",
       "      <th>seller_info</th>\n",
       "      <th>first_image</th>\n",
       "    </tr>\n",
       "  </thead>\n",
       "  <tbody>\n",
       "    <tr>\n",
       "      <th>0</th>\n",
       "      <td>1719250</td>\n",
       "      <td>[Keuken, Koffiemachine, Capsulemachine]</td>\n",
       "      <td>Selecteer winkel</td>\n",
       "      <td>https://assets.mmsrg.com/isr/166325/c1/-/ASSET...</td>\n",
       "    </tr>\n",
       "    <tr>\n",
       "      <th>1</th>\n",
       "      <td>1417884</td>\n",
       "      <td>[Keuken, Koffiemachine, Melitta koffiemachine]</td>\n",
       "      <td>…</td>\n",
       "      <td>https://assets.mmsrg.com/isr/166325/c1/-/pixel...</td>\n",
       "    </tr>\n",
       "    <tr>\n",
       "      <th>2</th>\n",
       "      <td>1907567</td>\n",
       "      <td>[Keuken, Koffiemachine, Melitta koffiemachine]</td>\n",
       "      <td>…</td>\n",
       "      <td>https://assets.mmsrg.com/isr/166325/c1/-/ASSET...</td>\n",
       "    </tr>\n",
       "    <tr>\n",
       "      <th>3</th>\n",
       "      <td>1990293</td>\n",
       "      <td>[Keuken, Koffiemachine, Melitta koffiemachine]</td>\n",
       "      <td>…</td>\n",
       "      <td>https://assets.mmsrg.com/isr/166325/c1/-/ASSET...</td>\n",
       "    </tr>\n",
       "    <tr>\n",
       "      <th>4</th>\n",
       "      <td>1703556</td>\n",
       "      <td>[Keuken, Koffiemachine, Melitta koffiemachine]</td>\n",
       "      <td>…</td>\n",
       "      <td>https://assets.mmsrg.com/isr/166325/c1/-/pixel...</td>\n",
       "    </tr>\n",
       "    <tr>\n",
       "      <th>...</th>\n",
       "      <td>...</td>\n",
       "      <td>...</td>\n",
       "      <td>...</td>\n",
       "      <td>...</td>\n",
       "    </tr>\n",
       "    <tr>\n",
       "      <th>194</th>\n",
       "      <td>1680719</td>\n",
       "      <td>[Keuken, Koffiemachine, Capsulemachine]</td>\n",
       "      <td>…</td>\n",
       "      <td>https://assets.mmsrg.com/isr/166325/c1/-/ASSET...</td>\n",
       "    </tr>\n",
       "    <tr>\n",
       "      <th>195</th>\n",
       "      <td>1901791</td>\n",
       "      <td>[Keuken, Koffiemachine, Capsulemachine]</td>\n",
       "      <td>Bezorging tussen 26-08-2023 - 29-08-2023</td>\n",
       "      <td>https://assets.mmsrg.com/isr/166325/c1/-/ASSET...</td>\n",
       "    </tr>\n",
       "    <tr>\n",
       "      <th>196</th>\n",
       "      <td>1989290</td>\n",
       "      <td>[Keuken, Koffiemachine, Koffie]</td>\n",
       "      <td>Bezorging tussen 26-08-2023 - 29-08-2023</td>\n",
       "      <td>https://assets.mmsrg.com/isr/166325/c1/-/ASSET...</td>\n",
       "    </tr>\n",
       "    <tr>\n",
       "      <th>197</th>\n",
       "      <td>1989296</td>\n",
       "      <td>[Keuken, Koffiemachine, Koffie]</td>\n",
       "      <td>Selecteer winkel</td>\n",
       "      <td>https://assets.mmsrg.com/isr/166325/c1/-/ASSET...</td>\n",
       "    </tr>\n",
       "    <tr>\n",
       "      <th>198</th>\n",
       "      <td>1989301</td>\n",
       "      <td>[Keuken, Koffiemachine, Koffie]</td>\n",
       "      <td>Selecteer winkel</td>\n",
       "      <td>https://assets.mmsrg.com/isr/166325/c1/-/ASSET...</td>\n",
       "    </tr>\n",
       "  </tbody>\n",
       "</table>\n",
       "<p>199 rows × 4 columns</p>\n",
       "</div>"
      ],
      "text/plain": [
       "    channel_sku_id                                      categories  \\\n",
       "0          1719250         [Keuken, Koffiemachine, Capsulemachine]   \n",
       "1          1417884  [Keuken, Koffiemachine, Melitta koffiemachine]   \n",
       "2          1907567  [Keuken, Koffiemachine, Melitta koffiemachine]   \n",
       "3          1990293  [Keuken, Koffiemachine, Melitta koffiemachine]   \n",
       "4          1703556  [Keuken, Koffiemachine, Melitta koffiemachine]   \n",
       "..             ...                                             ...   \n",
       "194        1680719         [Keuken, Koffiemachine, Capsulemachine]   \n",
       "195        1901791         [Keuken, Koffiemachine, Capsulemachine]   \n",
       "196        1989290                 [Keuken, Koffiemachine, Koffie]   \n",
       "197        1989296                 [Keuken, Koffiemachine, Koffie]   \n",
       "198        1989301                 [Keuken, Koffiemachine, Koffie]   \n",
       "\n",
       "                                  seller_info  \\\n",
       "0                            Selecteer winkel   \n",
       "1                                           …   \n",
       "2                                           …   \n",
       "3                                           …   \n",
       "4                                           …   \n",
       "..                                        ...   \n",
       "194                                         …   \n",
       "195  Bezorging tussen 26-08-2023 - 29-08-2023   \n",
       "196  Bezorging tussen 26-08-2023 - 29-08-2023   \n",
       "197                          Selecteer winkel   \n",
       "198                          Selecteer winkel   \n",
       "\n",
       "                                           first_image  \n",
       "0    https://assets.mmsrg.com/isr/166325/c1/-/ASSET...  \n",
       "1    https://assets.mmsrg.com/isr/166325/c1/-/pixel...  \n",
       "2    https://assets.mmsrg.com/isr/166325/c1/-/ASSET...  \n",
       "3    https://assets.mmsrg.com/isr/166325/c1/-/ASSET...  \n",
       "4    https://assets.mmsrg.com/isr/166325/c1/-/pixel...  \n",
       "..                                                 ...  \n",
       "194  https://assets.mmsrg.com/isr/166325/c1/-/ASSET...  \n",
       "195  https://assets.mmsrg.com/isr/166325/c1/-/ASSET...  \n",
       "196  https://assets.mmsrg.com/isr/166325/c1/-/ASSET...  \n",
       "197  https://assets.mmsrg.com/isr/166325/c1/-/ASSET...  \n",
       "198  https://assets.mmsrg.com/isr/166325/c1/-/ASSET...  \n",
       "\n",
       "[199 rows x 4 columns]"
      ]
     },
     "execution_count": 16,
     "metadata": {},
     "output_type": "execute_result"
    }
   ],
   "source": [
    "df"
   ]
  },
  {
   "cell_type": "code",
   "execution_count": 17,
   "id": "f03eb256",
   "metadata": {},
   "outputs": [],
   "source": [
    "final1=pd.merge(rawdf1,df,left_on='sku', right_on='channel_sku_id', how= 'right')\n",
    "final=final1[['sku','title','brand','categories','first_image']]"
   ]
  },
  {
   "cell_type": "code",
   "execution_count": 18,
   "id": "d7817820",
   "metadata": {},
   "outputs": [
    {
     "data": {
      "text/html": [
       "<div>\n",
       "<style scoped>\n",
       "    .dataframe tbody tr th:only-of-type {\n",
       "        vertical-align: middle;\n",
       "    }\n",
       "\n",
       "    .dataframe tbody tr th {\n",
       "        vertical-align: top;\n",
       "    }\n",
       "\n",
       "    .dataframe thead th {\n",
       "        text-align: right;\n",
       "    }\n",
       "</style>\n",
       "<table border=\"1\" class=\"dataframe\">\n",
       "  <thead>\n",
       "    <tr style=\"text-align: right;\">\n",
       "      <th></th>\n",
       "      <th>sku</th>\n",
       "      <th>title</th>\n",
       "      <th>brand</th>\n",
       "      <th>categories</th>\n",
       "      <th>first_image</th>\n",
       "    </tr>\n",
       "  </thead>\n",
       "  <tbody>\n",
       "    <tr>\n",
       "      <th>0</th>\n",
       "      <td>1719250</td>\n",
       "      <td>DE LONGHI Nespresso Lattissima Touch Black (EN...</td>\n",
       "      <td>DE LONGHI</td>\n",
       "      <td>[Keuken, Koffiemachine, Capsulemachine]</td>\n",
       "      <td>https://assets.mmsrg.com/isr/166325/c1/-/ASSET...</td>\n",
       "    </tr>\n",
       "    <tr>\n",
       "      <th>1</th>\n",
       "      <td>1417884</td>\n",
       "      <td>MELITTA Percolator Look Selection (M1011-04)</td>\n",
       "      <td>MELITTA</td>\n",
       "      <td>[Keuken, Koffiemachine, Melitta koffiemachine]</td>\n",
       "      <td>https://assets.mmsrg.com/isr/166325/c1/-/pixel...</td>\n",
       "    </tr>\n",
       "    <tr>\n",
       "      <th>2</th>\n",
       "      <td>1907567</td>\n",
       "      <td>MELITTA Avanza Mystic Titan Espresso Machine (...</td>\n",
       "      <td>MELITTA</td>\n",
       "      <td>[Keuken, Koffiemachine, Melitta koffiemachine]</td>\n",
       "      <td>https://assets.mmsrg.com/isr/166325/c1/-/ASSET...</td>\n",
       "    </tr>\n",
       "    <tr>\n",
       "      <th>3</th>\n",
       "      <td>1990293</td>\n",
       "      <td>MELITTA Espresso machine Purista Serie 300 (F2...</td>\n",
       "      <td>MELITTA</td>\n",
       "      <td>[Keuken, Koffiemachine, Melitta koffiemachine]</td>\n",
       "      <td>https://assets.mmsrg.com/isr/166325/c1/-/ASSET...</td>\n",
       "    </tr>\n",
       "    <tr>\n",
       "      <th>4</th>\n",
       "      <td>1703556</td>\n",
       "      <td>MELITTA Barista Smart T Espresso Machine (F830...</td>\n",
       "      <td>MELITTA</td>\n",
       "      <td>[Keuken, Koffiemachine, Melitta koffiemachine]</td>\n",
       "      <td>https://assets.mmsrg.com/isr/166325/c1/-/pixel...</td>\n",
       "    </tr>\n",
       "    <tr>\n",
       "      <th>...</th>\n",
       "      <td>...</td>\n",
       "      <td>...</td>\n",
       "      <td>...</td>\n",
       "      <td>...</td>\n",
       "      <td>...</td>\n",
       "    </tr>\n",
       "    <tr>\n",
       "      <th>194</th>\n",
       "      <td>1680719</td>\n",
       "      <td>MAGIMIX BELGIUM Nespresso Magimix Essenza Mini...</td>\n",
       "      <td>MAGIMIX BELGIQUE</td>\n",
       "      <td>[Keuken, Koffiemachine, Capsulemachine]</td>\n",
       "      <td>https://assets.mmsrg.com/isr/166325/c1/-/ASSET...</td>\n",
       "    </tr>\n",
       "    <tr>\n",
       "      <th>195</th>\n",
       "      <td>1901791</td>\n",
       "      <td>MAGIMIX BELGIUM Nespresso Vertuo Next Deluxe P...</td>\n",
       "      <td>MAGIMIX BELGIQUE</td>\n",
       "      <td>[Keuken, Koffiemachine, Capsulemachine]</td>\n",
       "      <td>https://assets.mmsrg.com/isr/166325/c1/-/ASSET...</td>\n",
       "    </tr>\n",
       "    <tr>\n",
       "      <th>196</th>\n",
       "      <td>1989290</td>\n",
       "      <td>NESCAFE DOLCE GUSTO MILK COFFEE</td>\n",
       "      <td>NESCAFE</td>\n",
       "      <td>[Keuken, Koffiemachine, Koffie]</td>\n",
       "      <td>https://assets.mmsrg.com/isr/166325/c1/-/ASSET...</td>\n",
       "    </tr>\n",
       "    <tr>\n",
       "      <th>197</th>\n",
       "      <td>1989296</td>\n",
       "      <td>NESCAFE DOLCE GUSTO LUNGO</td>\n",
       "      <td>NESCAFE</td>\n",
       "      <td>[Keuken, Koffiemachine, Koffie]</td>\n",
       "      <td>https://assets.mmsrg.com/isr/166325/c1/-/ASSET...</td>\n",
       "    </tr>\n",
       "    <tr>\n",
       "      <th>198</th>\n",
       "      <td>1989301</td>\n",
       "      <td>NESCAFE DOLCE GUSTO GRANDE</td>\n",
       "      <td>NESCAFE</td>\n",
       "      <td>[Keuken, Koffiemachine, Koffie]</td>\n",
       "      <td>https://assets.mmsrg.com/isr/166325/c1/-/ASSET...</td>\n",
       "    </tr>\n",
       "  </tbody>\n",
       "</table>\n",
       "<p>199 rows × 5 columns</p>\n",
       "</div>"
      ],
      "text/plain": [
       "         sku                                              title  \\\n",
       "0    1719250  DE LONGHI Nespresso Lattissima Touch Black (EN...   \n",
       "1    1417884       MELITTA Percolator Look Selection (M1011-04)   \n",
       "2    1907567  MELITTA Avanza Mystic Titan Espresso Machine (...   \n",
       "3    1990293  MELITTA Espresso machine Purista Serie 300 (F2...   \n",
       "4    1703556  MELITTA Barista Smart T Espresso Machine (F830...   \n",
       "..       ...                                                ...   \n",
       "194  1680719  MAGIMIX BELGIUM Nespresso Magimix Essenza Mini...   \n",
       "195  1901791  MAGIMIX BELGIUM Nespresso Vertuo Next Deluxe P...   \n",
       "196  1989290                    NESCAFE DOLCE GUSTO MILK COFFEE   \n",
       "197  1989296                          NESCAFE DOLCE GUSTO LUNGO   \n",
       "198  1989301                         NESCAFE DOLCE GUSTO GRANDE   \n",
       "\n",
       "                brand                                      categories  \\\n",
       "0           DE LONGHI         [Keuken, Koffiemachine, Capsulemachine]   \n",
       "1             MELITTA  [Keuken, Koffiemachine, Melitta koffiemachine]   \n",
       "2             MELITTA  [Keuken, Koffiemachine, Melitta koffiemachine]   \n",
       "3             MELITTA  [Keuken, Koffiemachine, Melitta koffiemachine]   \n",
       "4             MELITTA  [Keuken, Koffiemachine, Melitta koffiemachine]   \n",
       "..                ...                                             ...   \n",
       "194  MAGIMIX BELGIQUE         [Keuken, Koffiemachine, Capsulemachine]   \n",
       "195  MAGIMIX BELGIQUE         [Keuken, Koffiemachine, Capsulemachine]   \n",
       "196           NESCAFE                 [Keuken, Koffiemachine, Koffie]   \n",
       "197           NESCAFE                 [Keuken, Koffiemachine, Koffie]   \n",
       "198           NESCAFE                 [Keuken, Koffiemachine, Koffie]   \n",
       "\n",
       "                                           first_image  \n",
       "0    https://assets.mmsrg.com/isr/166325/c1/-/ASSET...  \n",
       "1    https://assets.mmsrg.com/isr/166325/c1/-/pixel...  \n",
       "2    https://assets.mmsrg.com/isr/166325/c1/-/ASSET...  \n",
       "3    https://assets.mmsrg.com/isr/166325/c1/-/ASSET...  \n",
       "4    https://assets.mmsrg.com/isr/166325/c1/-/pixel...  \n",
       "..                                                 ...  \n",
       "194  https://assets.mmsrg.com/isr/166325/c1/-/ASSET...  \n",
       "195  https://assets.mmsrg.com/isr/166325/c1/-/ASSET...  \n",
       "196  https://assets.mmsrg.com/isr/166325/c1/-/ASSET...  \n",
       "197  https://assets.mmsrg.com/isr/166325/c1/-/ASSET...  \n",
       "198  https://assets.mmsrg.com/isr/166325/c1/-/ASSET...  \n",
       "\n",
       "[199 rows x 5 columns]"
      ]
     },
     "execution_count": 18,
     "metadata": {},
     "output_type": "execute_result"
    }
   ],
   "source": [
    "final"
   ]
  },
  {
   "cell_type": "code",
   "execution_count": 19,
   "id": "a441d01b",
   "metadata": {},
   "outputs": [],
   "source": [
    "final.to_excel(file)"
   ]
  },
  {
   "cell_type": "code",
   "execution_count": 20,
   "id": "d701874f",
   "metadata": {},
   "outputs": [
    {
     "data": {
      "text/plain": [
       "(221, b'2.0.0 Bye')"
      ]
     },
     "execution_count": 20,
     "metadata": {},
     "output_type": "execute_result"
    }
   ],
   "source": [
    "email_user = 'alerts@1digitalstack.ai'\n",
    "email_password = ''\n",
    "email_send = ['ghansham.pindoriya@1digitalstack.ai','karan.kumar@1digitalstack.ai','arihant.singh@1digitalstack.ai','sambhav.jain@1digitalstack.ai','ankur.dwivedi@1digitalstack.ai','kinshu@1digitalstack.ai']\n",
    "\n",
    "subject = file\n",
    "msg = MIMEMultipart()\n",
    "msg['From'] = email_user\n",
    "#msg['From'] = \"'Abhishek' <{email_user}>\"\n",
    "msg['To'] = ', '.join(email_send)\n",
    "msg['Subject'] = subject\n",
    "\n",
    "body = 'Hi,\\n\\nPFA of today''s mapping request.Please reply as done as you pick this job.'\n",
    "msg.attach(MIMEText(body,'plain'))\n",
    "\n",
    "filename=[file]\n",
    "\n",
    "for file in filename:\n",
    "    attachment  =open(file,'rb')\n",
    "    part = MIMEBase('application','octet-stream')\n",
    "    part.set_payload((attachment).read())\n",
    "    encoders.encode_base64(part)\n",
    "    part.add_header('Content-Disposition',\"attachment; filename= \"+file)\n",
    "    msg.attach(part)\n",
    "    text = msg.as_string()\n",
    "\n",
    "server = smtplib.SMTP('1digitalstack.com',25)\n",
    "#server.login(email_user,email_password)\n",
    "\n",
    "server.sendmail(email_user,email_send,text)\n",
    "server.quit()"
   ]
  },
  {
   "cell_type": "code",
   "execution_count": null,
   "id": "9be33fad",
   "metadata": {},
   "outputs": [],
   "source": []
  }
 ],
 "metadata": {
  "kernelspec": {
   "display_name": "Python 3 (ipykernel)",
   "language": "python",
   "name": "python3"
  },
  "language_info": {
   "codemirror_mode": {
    "name": "ipython",
    "version": 3
   },
   "file_extension": ".py",
   "mimetype": "text/x-python",
   "name": "python",
   "nbconvert_exporter": "python",
   "pygments_lexer": "ipython3",
   "version": "3.10.9"
  }
 },
 "nbformat": 4,
 "nbformat_minor": 5
}
