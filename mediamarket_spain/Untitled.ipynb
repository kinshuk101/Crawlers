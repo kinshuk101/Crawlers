{
 "cells": [
  {
   "cell_type": "code",
   "execution_count": 1,
   "id": "afb379f1",
   "metadata": {},
   "outputs": [],
   "source": [
    "import pandas as pd\n",
    "import psycopg2\n",
    "import numpy as np\n",
    "\n",
    "\n",
    "\n",
    "from selenium import webdriver\n",
    "from selenium.webdriver.common.by import By\n",
    "import requests\n",
    "from selenium.webdriver.support.ui import WebDriverWait\n",
    "import selenium.webdriver.support.expected_conditions as EC\n",
    "from selenium.webdriver.chrome.options import Options\n",
    "from selenium.webdriver.chrome.service import Service\n",
    "\n",
    "\n",
    "\n",
    "from tqdm import tqdm\n",
    "tqdm.pandas()\n",
    "import time\n",
    "\n",
    "\n",
    "\n",
    "from bs4 import BeautifulSoup\n",
    "import re\n",
    "\n",
    "import smtplib\n",
    "from email.mime.text import MIMEText\n",
    "from email.mime.multipart import MIMEMultipart\n",
    "from email.mime.base import MIMEBase\n",
    "from email import encoders\n"
   ]
  },
  {
   "cell_type": "code",
   "execution_count": 2,
   "id": "7cd0b03a",
   "metadata": {},
   "outputs": [],
   "source": [
    "s = Service(\"../chromedriver_win32/chromedriver.exe\")"
   ]
  },
  {
   "cell_type": "raw",
   "id": "734e2f42",
   "metadata": {},
   "source": [
    "scraping category node and first image rest of details are in serp\n",
    "use urban vpn spain"
   ]
  },
  {
   "cell_type": "code",
   "execution_count": 4,
   "id": "6e5c4e95",
   "metadata": {},
   "outputs": [
    {
     "name": "stdout",
     "output_type": "stream",
     "text": [
      "{'user': 'postgres', 'channel_binding': 'prefer', 'dbname': 'postgres', 'host': '1.pgsql.db.1digitalstack.com', 'port': '5432', 'options': '', 'sslmode': 'prefer', 'sslcompression': '0', 'sslsni': '1', 'ssl_min_protocol_version': 'TLSv1.2', 'gssencmode': 'disable', 'krbsrvname': 'postgres', 'target_session_attrs': 'any'} \n",
      "\n",
      "{'user': 'postgres', 'channel_binding': 'prefer', 'dbname': 'postgres', 'host': '2.pgsql.db.1digitalstack.com', 'port': '5432', 'options': '', 'sslmode': 'prefer', 'sslcompression': '0', 'sslsni': '1', 'ssl_min_protocol_version': 'TLSv1.2', 'gssencmode': 'disable', 'krbsrvname': 'postgres', 'target_session_attrs': 'any'} \n",
      "\n"
     ]
    }
   ],
   "source": [
    "class postgres_conn:\n",
    "    def getConn(self):\n",
    "        try:\n",
    "            connection = psycopg2.connect(user='postgres',\n",
    "                                          password='postgres_007',\n",
    "                                          host=\"1.pgsql.db.1digitalstack.com\",\n",
    "                                          port='5432',\n",
    "                                          database='postgres')\n",
    "\n",
    "            cursor = connection.cursor()\n",
    "            # Print PostgreSQL Connection properties\n",
    "            print(connection.get_dsn_parameters(), \"\\n\")\n",
    "\n",
    "            # Print PostgreSQL version\n",
    "            return cursor, connection\n",
    "\n",
    "        except (Exception, psycopg2.Error) as error:\n",
    "            print(\"Error while connecting to PostgreSQL\", error)\n",
    "            return error, error\n",
    "    def getConn2(self):\n",
    "        try:\n",
    "            connection = psycopg2.connect(user='postgres',\n",
    "                                          password='reporting_007',\n",
    "                                          host=\"2.pgsql.db.1digitalstack.com\",\n",
    "                                          port='5432',\n",
    "                                          database='postgres')\n",
    "\n",
    "            cursor = connection.cursor()\n",
    "            # Print PostgreSQL Connection properties\n",
    "            print(connection.get_dsn_parameters(), \"\\n\")\n",
    "\n",
    "            # Print PostgreSQL version\n",
    "            return cursor, connection\n",
    "\n",
    "        except (Exception, psycopg2.Error) as error:\n",
    "            print(\"Error while connecting to PostgreSQL\", error)\n",
    "            return error, error\n",
    "\n",
    "\n",
    "    def close_connection(self, cursor, connection):\n",
    "        # closing database connection.\n",
    "        if(connection):\n",
    "            cursor.close()\n",
    "            connection.close()\n",
    "            print(\"PostgreSQL connection is closed\")\n",
    "            \n",
    "pg = postgres_conn()\n",
    "conn = pg.getConn()\n",
    "conn2 = pg.getConn2()"
   ]
  },
  {
   "cell_type": "code",
   "execution_count": 8,
   "id": "8e9d6e22",
   "metadata": {},
   "outputs": [
    {
     "name": "stdout",
     "output_type": "stream",
     "text": [
      "Enter keystone ids with comma.6467549e5958ed6c1f2798a6\n",
      " Enter no of days for which data needs brand mapping.\n",
      "17\n"
     ]
    },
    {
     "data": {
      "text/plain": [
       "('6467549e5958ed6c1f2798a6', '')"
      ]
     },
     "execution_count": 8,
     "metadata": {},
     "output_type": "execute_result"
    }
   ],
   "source": [
    "job_id=input(\"Enter keystone ids with comma.\").split(\",\")\n",
    "days=input(\" Enter no of days for which data needs brand mapping.\\n\")\n",
    "job_id.append(\"\")\n",
    "tuple(job_id)"
   ]
  },
  {
   "cell_type": "code",
   "execution_count": 9,
   "id": "3873fe3a",
   "metadata": {},
   "outputs": [
    {
     "name": "stderr",
     "output_type": "stream",
     "text": [
      "C:\\Users\\Administrator\\AppData\\Local\\Temp\\2\\ipykernel_107052\\2162843895.py:6: UserWarning: pandas only supports SQLAlchemy connectable (engine/connection) or database string URI or sqlite3 DBAPI2 connection. Other DBAPI2 objects are not tested. Please consider using SQLAlchemy.\n",
      "  serp_details = pd.read_sql_query(query, conn[1])\n"
     ]
    }
   ],
   "source": [
    "query = f\"\"\"\n",
    "select brand,title,sku,job_name,channel_id\n",
    "from ready.serp_details smd join ready.serp_mongo_details m on m.serp_mongo_id=smd.serp_mongo_id\n",
    "where smd.crawl_date > now() - interval '{days} day' and keystone_job_id in {tuple(job_id)}\n",
    "\"\"\"\n",
    "serp_details = pd.read_sql_query(query, conn[1])"
   ]
  },
  {
   "cell_type": "code",
   "execution_count": 10,
   "id": "56a17e75",
   "metadata": {},
   "outputs": [
    {
     "data": {
      "text/html": [
       "<div>\n",
       "<style scoped>\n",
       "    .dataframe tbody tr th:only-of-type {\n",
       "        vertical-align: middle;\n",
       "    }\n",
       "\n",
       "    .dataframe tbody tr th {\n",
       "        vertical-align: top;\n",
       "    }\n",
       "\n",
       "    .dataframe thead th {\n",
       "        text-align: right;\n",
       "    }\n",
       "</style>\n",
       "<table border=\"1\" class=\"dataframe\">\n",
       "  <thead>\n",
       "    <tr style=\"text-align: right;\">\n",
       "      <th></th>\n",
       "      <th>brand</th>\n",
       "      <th>title</th>\n",
       "      <th>sku</th>\n",
       "      <th>job_name</th>\n",
       "      <th>channel_id</th>\n",
       "    </tr>\n",
       "  </thead>\n",
       "  <tbody>\n",
       "    <tr>\n",
       "      <th>0</th>\n",
       "      <td>KLACK</td>\n",
       "      <td>Arcade console with 4000 classic and 7000 new ...</td>\n",
       "      <td>94399377</td>\n",
       "      <td>Mediamarket Request No. 466 serp_job</td>\n",
       "      <td>58</td>\n",
       "    </tr>\n",
       "    <tr>\n",
       "      <th>1</th>\n",
       "      <td>AGD</td>\n",
       "      <td>Video Game Console - Retro Mini Console with 6...</td>\n",
       "      <td>88879398</td>\n",
       "      <td>Mediamarket Request No. 466 serp_job</td>\n",
       "      <td>58</td>\n",
       "    </tr>\n",
       "    <tr>\n",
       "      <th>2</th>\n",
       "      <td>KLACK</td>\n",
       "      <td>Video game console - PANDORABOX3DWIFI KLACK, 6...</td>\n",
       "      <td>104976396</td>\n",
       "      <td>Mediamarket Request No. 466 serp_job</td>\n",
       "      <td>58</td>\n",
       "    </tr>\n",
       "    <tr>\n",
       "      <th>3</th>\n",
       "      <td>KLACK</td>\n",
       "      <td>Video game console - CONS400CONMANDO KLACK, 64...</td>\n",
       "      <td>104976395</td>\n",
       "      <td>Mediamarket Request No. 466 serp_job</td>\n",
       "      <td>58</td>\n",
       "    </tr>\n",
       "    <tr>\n",
       "      <th>4</th>\n",
       "      <td>MYARCADE</td>\n",
       "      <td>Video Game - RETRO CHAMP NES MYARCADE CONSOLE,...</td>\n",
       "      <td>95940292</td>\n",
       "      <td>Mediamarket Request No. 466 serp_job</td>\n",
       "      <td>58</td>\n",
       "    </tr>\n",
       "    <tr>\n",
       "      <th>...</th>\n",
       "      <td>...</td>\n",
       "      <td>...</td>\n",
       "      <td>...</td>\n",
       "      <td>...</td>\n",
       "      <td>...</td>\n",
       "    </tr>\n",
       "    <tr>\n",
       "      <th>267</th>\n",
       "      <td>LOGITECH G</td>\n",
       "      <td>Shifter - Logitech Driving Force Shifter, For ...</td>\n",
       "      <td>1292218</td>\n",
       "      <td>Mediamarket Request No. 466 serp_job</td>\n",
       "      <td>58</td>\n",
       "    </tr>\n",
       "    <tr>\n",
       "      <th>268</th>\n",
       "      <td>SEAGATE</td>\n",
       "      <td>2TB External Hard Drive - ‎Seagate STKX2000400...</td>\n",
       "      <td>1520256</td>\n",
       "      <td>Mediamarket Request No. 466 serp_job</td>\n",
       "      <td>58</td>\n",
       "    </tr>\n",
       "    <tr>\n",
       "      <th>269</th>\n",
       "      <td>SEAGATE</td>\n",
       "      <td>4TB External Hard Drive - Seagate STKX4000402,...</td>\n",
       "      <td>1525870</td>\n",
       "      <td>Mediamarket Request No. 466 serp_job</td>\n",
       "      <td>58</td>\n",
       "    </tr>\n",
       "    <tr>\n",
       "      <th>270</th>\n",
       "      <td>SEAGATE</td>\n",
       "      <td>External Hard Drive 8TB - Seagate STKW8000400,...</td>\n",
       "      <td>1525871</td>\n",
       "      <td>Mediamarket Request No. 466 serp_job</td>\n",
       "      <td>58</td>\n",
       "    </tr>\n",
       "    <tr>\n",
       "      <th>271</th>\n",
       "      <td>COMPACT</td>\n",
       "      <td>Gamepad - Nacon MG-XPRO, Bluetooth 5.0 connect...</td>\n",
       "      <td>1557296</td>\n",
       "      <td>Mediamarket Request No. 466 serp_job</td>\n",
       "      <td>58</td>\n",
       "    </tr>\n",
       "  </tbody>\n",
       "</table>\n",
       "<p>272 rows × 5 columns</p>\n",
       "</div>"
      ],
      "text/plain": [
       "          brand                                              title        sku  \\\n",
       "0         KLACK  Arcade console with 4000 classic and 7000 new ...   94399377   \n",
       "1           AGD  Video Game Console - Retro Mini Console with 6...   88879398   \n",
       "2         KLACK  Video game console - PANDORABOX3DWIFI KLACK, 6...  104976396   \n",
       "3         KLACK  Video game console - CONS400CONMANDO KLACK, 64...  104976395   \n",
       "4      MYARCADE  Video Game - RETRO CHAMP NES MYARCADE CONSOLE,...   95940292   \n",
       "..          ...                                                ...        ...   \n",
       "267  LOGITECH G  Shifter - Logitech Driving Force Shifter, For ...    1292218   \n",
       "268     SEAGATE  2TB External Hard Drive - ‎Seagate STKX2000400...    1520256   \n",
       "269     SEAGATE  4TB External Hard Drive - Seagate STKX4000402,...    1525870   \n",
       "270     SEAGATE  External Hard Drive 8TB - Seagate STKW8000400,...    1525871   \n",
       "271     COMPACT  Gamepad - Nacon MG-XPRO, Bluetooth 5.0 connect...    1557296   \n",
       "\n",
       "                                 job_name  channel_id  \n",
       "0    Mediamarket Request No. 466 serp_job          58  \n",
       "1    Mediamarket Request No. 466 serp_job          58  \n",
       "2    Mediamarket Request No. 466 serp_job          58  \n",
       "3    Mediamarket Request No. 466 serp_job          58  \n",
       "4    Mediamarket Request No. 466 serp_job          58  \n",
       "..                                    ...         ...  \n",
       "267  Mediamarket Request No. 466 serp_job          58  \n",
       "268  Mediamarket Request No. 466 serp_job          58  \n",
       "269  Mediamarket Request No. 466 serp_job          58  \n",
       "270  Mediamarket Request No. 466 serp_job          58  \n",
       "271  Mediamarket Request No. 466 serp_job          58  \n",
       "\n",
       "[272 rows x 5 columns]"
      ]
     },
     "execution_count": 10,
     "metadata": {},
     "output_type": "execute_result"
    }
   ],
   "source": [
    "serp_details"
   ]
  },
  {
   "cell_type": "code",
   "execution_count": 11,
   "id": "67a8c41a",
   "metadata": {},
   "outputs": [
    {
     "name": "stderr",
     "output_type": "stream",
     "text": [
      "C:\\Users\\Administrator\\AppData\\Local\\Temp\\2\\ipykernel_107052\\2610474507.py:4: SettingWithCopyWarning: \n",
      "A value is trying to be set on a copy of a slice from a DataFrame\n",
      "\n",
      "See the caveats in the documentation: https://pandas.pydata.org/pandas-docs/stable/user_guide/indexing.html#returning-a-view-versus-a-copy\n",
      "  df_ASIN.dropna(inplace=True)\n",
      "C:\\Users\\Administrator\\AppData\\Local\\Temp\\2\\ipykernel_107052\\2610474507.py:5: SettingWithCopyWarning: \n",
      "A value is trying to be set on a copy of a slice from a DataFrame\n",
      "\n",
      "See the caveats in the documentation: https://pandas.pydata.org/pandas-docs/stable/user_guide/indexing.html#returning-a-view-versus-a-copy\n",
      "  df_ASIN.drop_duplicates(inplace=True)\n"
     ]
    },
    {
     "data": {
      "text/plain": [
       "139"
      ]
     },
     "execution_count": 11,
     "metadata": {},
     "output_type": "execute_result"
    }
   ],
   "source": [
    "rawdf1=serp_details.drop_duplicates('sku')\n",
    "\n",
    "df_ASIN = rawdf1[[\"sku\"]]\n",
    "df_ASIN.dropna(inplace=True)\n",
    "df_ASIN.drop_duplicates(inplace=True)\n",
    "asinlist = list(df_ASIN['sku'])\n",
    "len(asinlist)"
   ]
  },
  {
   "cell_type": "code",
   "execution_count": 12,
   "id": "8c612c08",
   "metadata": {},
   "outputs": [
    {
     "name": "stderr",
     "output_type": "stream",
     "text": [
      "C:\\Users\\Administrator\\AppData\\Local\\Temp\\2\\ipykernel_107052\\3517360684.py:7: UserWarning: pandas only supports SQLAlchemy connectable (engine/connection) or database string URI or sqlite3 DBAPI2 connection. Other DBAPI2 objects are not tested. Please consider using SQLAlchemy.\n",
      "  pm_data = pd.read_sql_query(query_2, conn[1])\n"
     ]
    },
    {
     "data": {
      "text/html": [
       "<div>\n",
       "<style scoped>\n",
       "    .dataframe tbody tr th:only-of-type {\n",
       "        vertical-align: middle;\n",
       "    }\n",
       "\n",
       "    .dataframe tbody tr th {\n",
       "        vertical-align: top;\n",
       "    }\n",
       "\n",
       "    .dataframe thead th {\n",
       "        text-align: right;\n",
       "    }\n",
       "</style>\n",
       "<table border=\"1\" class=\"dataframe\">\n",
       "  <thead>\n",
       "    <tr style=\"text-align: right;\">\n",
       "      <th></th>\n",
       "      <th>channel_sku_id</th>\n",
       "      <th>country_code</th>\n",
       "      <th>brand_name</th>\n",
       "      <th>categories</th>\n",
       "      <th>category_id</th>\n",
       "    </tr>\n",
       "  </thead>\n",
       "  <tbody>\n",
       "    <tr>\n",
       "      <th>0</th>\n",
       "      <td>102136213</td>\n",
       "      <td>ES</td>\n",
       "      <td>PDP</td>\n",
       "      <td>None</td>\n",
       "      <td>None</td>\n",
       "    </tr>\n",
       "    <tr>\n",
       "      <th>1</th>\n",
       "      <td>102136433</td>\n",
       "      <td>ES</td>\n",
       "      <td>ARDISTEL</td>\n",
       "      <td>None</td>\n",
       "      <td>None</td>\n",
       "    </tr>\n",
       "    <tr>\n",
       "      <th>2</th>\n",
       "      <td>104205773</td>\n",
       "      <td>ES</td>\n",
       "      <td>NINTENDO</td>\n",
       "      <td>None</td>\n",
       "      <td>None</td>\n",
       "    </tr>\n",
       "    <tr>\n",
       "      <th>3</th>\n",
       "      <td>104976395</td>\n",
       "      <td>ES</td>\n",
       "      <td>KLACK</td>\n",
       "      <td>None</td>\n",
       "      <td>None</td>\n",
       "    </tr>\n",
       "    <tr>\n",
       "      <th>4</th>\n",
       "      <td>104976396</td>\n",
       "      <td>ES</td>\n",
       "      <td>KLACK</td>\n",
       "      <td>None</td>\n",
       "      <td>None</td>\n",
       "    </tr>\n",
       "    <tr>\n",
       "      <th>...</th>\n",
       "      <td>...</td>\n",
       "      <td>...</td>\n",
       "      <td>...</td>\n",
       "      <td>...</td>\n",
       "      <td>...</td>\n",
       "    </tr>\n",
       "    <tr>\n",
       "      <th>134</th>\n",
       "      <td>95940275</td>\n",
       "      <td>ES</td>\n",
       "      <td>MY ARCADE</td>\n",
       "      <td>None</td>\n",
       "      <td>None</td>\n",
       "    </tr>\n",
       "    <tr>\n",
       "      <th>135</th>\n",
       "      <td>95940292</td>\n",
       "      <td>ES</td>\n",
       "      <td>MYARCADE</td>\n",
       "      <td>None</td>\n",
       "      <td>None</td>\n",
       "    </tr>\n",
       "    <tr>\n",
       "      <th>136</th>\n",
       "      <td>97970912</td>\n",
       "      <td>ES</td>\n",
       "      <td>INF</td>\n",
       "      <td>None</td>\n",
       "      <td>None</td>\n",
       "    </tr>\n",
       "    <tr>\n",
       "      <th>137</th>\n",
       "      <td>99138991</td>\n",
       "      <td>ES</td>\n",
       "      <td>UBI SOFT</td>\n",
       "      <td>None</td>\n",
       "      <td>None</td>\n",
       "    </tr>\n",
       "    <tr>\n",
       "      <th>138</th>\n",
       "      <td>99772973</td>\n",
       "      <td>ES</td>\n",
       "      <td>INF</td>\n",
       "      <td>None</td>\n",
       "      <td>None</td>\n",
       "    </tr>\n",
       "  </tbody>\n",
       "</table>\n",
       "<p>139 rows × 5 columns</p>\n",
       "</div>"
      ],
      "text/plain": [
       "    channel_sku_id country_code brand_name categories category_id\n",
       "0        102136213           ES        PDP       None        None\n",
       "1        102136433           ES   ARDISTEL       None        None\n",
       "2        104205773           ES   NINTENDO       None        None\n",
       "3        104976395           ES      KLACK       None        None\n",
       "4        104976396           ES      KLACK       None        None\n",
       "..             ...          ...        ...        ...         ...\n",
       "134       95940275           ES  MY ARCADE       None        None\n",
       "135       95940292           ES   MYARCADE       None        None\n",
       "136       97970912           ES        INF       None        None\n",
       "137       99138991           ES   UBI SOFT       None        None\n",
       "138       99772973           ES        INF       None        None\n",
       "\n",
       "[139 rows x 5 columns]"
      ]
     },
     "execution_count": 12,
     "metadata": {},
     "output_type": "execute_result"
    }
   ],
   "source": [
    "query_2 = f\"\"\" \n",
    "Select channel_sku_id,country_code, brand_name, categories,category_id\n",
    "from entity.product_master\n",
    "where channel_sku_id in {tuple(asinlist)} \n",
    "\"\"\"\n",
    "\n",
    "pm_data = pd.read_sql_query(query_2, conn[1])\n",
    "pm_data"
   ]
  },
  {
   "cell_type": "code",
   "execution_count": 13,
   "id": "b81c4e3e",
   "metadata": {},
   "outputs": [
    {
     "data": {
      "text/html": [
       "<div>\n",
       "<style scoped>\n",
       "    .dataframe tbody tr th:only-of-type {\n",
       "        vertical-align: middle;\n",
       "    }\n",
       "\n",
       "    .dataframe tbody tr th {\n",
       "        vertical-align: top;\n",
       "    }\n",
       "\n",
       "    .dataframe thead th {\n",
       "        text-align: right;\n",
       "    }\n",
       "</style>\n",
       "<table border=\"1\" class=\"dataframe\">\n",
       "  <thead>\n",
       "    <tr style=\"text-align: right;\">\n",
       "      <th></th>\n",
       "      <th>brand</th>\n",
       "      <th>title</th>\n",
       "      <th>sku</th>\n",
       "      <th>job_name</th>\n",
       "      <th>channel_id</th>\n",
       "      <th>channel_sku_id</th>\n",
       "      <th>country_code</th>\n",
       "      <th>brand_name</th>\n",
       "      <th>categories</th>\n",
       "      <th>category_id</th>\n",
       "    </tr>\n",
       "  </thead>\n",
       "  <tbody>\n",
       "    <tr>\n",
       "      <th>0</th>\n",
       "      <td>KLACK</td>\n",
       "      <td>Arcade console with 4000 classic and 7000 new ...</td>\n",
       "      <td>94399377</td>\n",
       "      <td>Mediamarket Request No. 466 serp_job</td>\n",
       "      <td>58</td>\n",
       "      <td>94399377</td>\n",
       "      <td>ES</td>\n",
       "      <td>KLACK</td>\n",
       "      <td>None</td>\n",
       "      <td>None</td>\n",
       "    </tr>\n",
       "    <tr>\n",
       "      <th>1</th>\n",
       "      <td>AGD</td>\n",
       "      <td>Video Game Console - Retro Mini Console with 6...</td>\n",
       "      <td>88879398</td>\n",
       "      <td>Mediamarket Request No. 466 serp_job</td>\n",
       "      <td>58</td>\n",
       "      <td>88879398</td>\n",
       "      <td>ES</td>\n",
       "      <td>AGD</td>\n",
       "      <td>None</td>\n",
       "      <td>None</td>\n",
       "    </tr>\n",
       "    <tr>\n",
       "      <th>2</th>\n",
       "      <td>KLACK</td>\n",
       "      <td>Video game console - PANDORABOX3DWIFI KLACK, 6...</td>\n",
       "      <td>104976396</td>\n",
       "      <td>Mediamarket Request No. 466 serp_job</td>\n",
       "      <td>58</td>\n",
       "      <td>104976396</td>\n",
       "      <td>ES</td>\n",
       "      <td>KLACK</td>\n",
       "      <td>None</td>\n",
       "      <td>None</td>\n",
       "    </tr>\n",
       "    <tr>\n",
       "      <th>3</th>\n",
       "      <td>KLACK</td>\n",
       "      <td>Video game console - CONS400CONMANDO KLACK, 64...</td>\n",
       "      <td>104976395</td>\n",
       "      <td>Mediamarket Request No. 466 serp_job</td>\n",
       "      <td>58</td>\n",
       "      <td>104976395</td>\n",
       "      <td>ES</td>\n",
       "      <td>KLACK</td>\n",
       "      <td>None</td>\n",
       "      <td>None</td>\n",
       "    </tr>\n",
       "    <tr>\n",
       "      <th>4</th>\n",
       "      <td>MYARCADE</td>\n",
       "      <td>Video Game - RETRO CHAMP NES MYARCADE CONSOLE,...</td>\n",
       "      <td>95940292</td>\n",
       "      <td>Mediamarket Request No. 466 serp_job</td>\n",
       "      <td>58</td>\n",
       "      <td>95940292</td>\n",
       "      <td>ES</td>\n",
       "      <td>MYARCADE</td>\n",
       "      <td>None</td>\n",
       "      <td>None</td>\n",
       "    </tr>\n",
       "    <tr>\n",
       "      <th>...</th>\n",
       "      <td>...</td>\n",
       "      <td>...</td>\n",
       "      <td>...</td>\n",
       "      <td>...</td>\n",
       "      <td>...</td>\n",
       "      <td>...</td>\n",
       "      <td>...</td>\n",
       "      <td>...</td>\n",
       "      <td>...</td>\n",
       "      <td>...</td>\n",
       "    </tr>\n",
       "    <tr>\n",
       "      <th>134</th>\n",
       "      <td>WESTERN DIGITAL</td>\n",
       "      <td>External hard drive 12 TB - WD_BLACK D10 Game ...</td>\n",
       "      <td>1468216</td>\n",
       "      <td>Mediamarket Request No. 466 serp_job</td>\n",
       "      <td>58</td>\n",
       "      <td>1468216</td>\n",
       "      <td>ES</td>\n",
       "      <td>WESTERN DIGITAL</td>\n",
       "      <td>None</td>\n",
       "      <td>None</td>\n",
       "    </tr>\n",
       "    <tr>\n",
       "      <th>135</th>\n",
       "      <td>SEAGATE</td>\n",
       "      <td>2TB External Hard Drive - ‎Seagate STKX2000400...</td>\n",
       "      <td>1520256</td>\n",
       "      <td>Mediamarket Request No. 466 serp_job</td>\n",
       "      <td>58</td>\n",
       "      <td>1520256</td>\n",
       "      <td>ES</td>\n",
       "      <td>SEAGATE</td>\n",
       "      <td>None</td>\n",
       "      <td>None</td>\n",
       "    </tr>\n",
       "    <tr>\n",
       "      <th>136</th>\n",
       "      <td>SEAGATE</td>\n",
       "      <td>4TB External Hard Drive - Seagate STKX4000402,...</td>\n",
       "      <td>1525870</td>\n",
       "      <td>Mediamarket Request No. 466 serp_job</td>\n",
       "      <td>58</td>\n",
       "      <td>1525870</td>\n",
       "      <td>ES</td>\n",
       "      <td>SEAGATE</td>\n",
       "      <td>None</td>\n",
       "      <td>None</td>\n",
       "    </tr>\n",
       "    <tr>\n",
       "      <th>137</th>\n",
       "      <td>SEAGATE</td>\n",
       "      <td>External Hard Drive 8TB - Seagate STKW8000400,...</td>\n",
       "      <td>1525871</td>\n",
       "      <td>Mediamarket Request No. 466 serp_job</td>\n",
       "      <td>58</td>\n",
       "      <td>1525871</td>\n",
       "      <td>ES</td>\n",
       "      <td>SEAGATE</td>\n",
       "      <td>None</td>\n",
       "      <td>None</td>\n",
       "    </tr>\n",
       "    <tr>\n",
       "      <th>138</th>\n",
       "      <td>COMPACT</td>\n",
       "      <td>Gamepad - Nacon MG-XPRO, Bluetooth 5.0 connect...</td>\n",
       "      <td>1557296</td>\n",
       "      <td>Mediamarket Request No. 466 serp_job</td>\n",
       "      <td>58</td>\n",
       "      <td>1557296</td>\n",
       "      <td>ES</td>\n",
       "      <td>COMPACT</td>\n",
       "      <td>None</td>\n",
       "      <td>None</td>\n",
       "    </tr>\n",
       "  </tbody>\n",
       "</table>\n",
       "<p>139 rows × 10 columns</p>\n",
       "</div>"
      ],
      "text/plain": [
       "               brand                                              title  \\\n",
       "0              KLACK  Arcade console with 4000 classic and 7000 new ...   \n",
       "1                AGD  Video Game Console - Retro Mini Console with 6...   \n",
       "2              KLACK  Video game console - PANDORABOX3DWIFI KLACK, 6...   \n",
       "3              KLACK  Video game console - CONS400CONMANDO KLACK, 64...   \n",
       "4           MYARCADE  Video Game - RETRO CHAMP NES MYARCADE CONSOLE,...   \n",
       "..               ...                                                ...   \n",
       "134  WESTERN DIGITAL  External hard drive 12 TB - WD_BLACK D10 Game ...   \n",
       "135          SEAGATE  2TB External Hard Drive - ‎Seagate STKX2000400...   \n",
       "136          SEAGATE  4TB External Hard Drive - Seagate STKX4000402,...   \n",
       "137          SEAGATE  External Hard Drive 8TB - Seagate STKW8000400,...   \n",
       "138          COMPACT  Gamepad - Nacon MG-XPRO, Bluetooth 5.0 connect...   \n",
       "\n",
       "           sku                              job_name  channel_id  \\\n",
       "0     94399377  Mediamarket Request No. 466 serp_job          58   \n",
       "1     88879398  Mediamarket Request No. 466 serp_job          58   \n",
       "2    104976396  Mediamarket Request No. 466 serp_job          58   \n",
       "3    104976395  Mediamarket Request No. 466 serp_job          58   \n",
       "4     95940292  Mediamarket Request No. 466 serp_job          58   \n",
       "..         ...                                   ...         ...   \n",
       "134    1468216  Mediamarket Request No. 466 serp_job          58   \n",
       "135    1520256  Mediamarket Request No. 466 serp_job          58   \n",
       "136    1525870  Mediamarket Request No. 466 serp_job          58   \n",
       "137    1525871  Mediamarket Request No. 466 serp_job          58   \n",
       "138    1557296  Mediamarket Request No. 466 serp_job          58   \n",
       "\n",
       "    channel_sku_id country_code       brand_name categories category_id  \n",
       "0         94399377           ES            KLACK       None        None  \n",
       "1         88879398           ES              AGD       None        None  \n",
       "2        104976396           ES            KLACK       None        None  \n",
       "3        104976395           ES            KLACK       None        None  \n",
       "4         95940292           ES         MYARCADE       None        None  \n",
       "..             ...          ...              ...        ...         ...  \n",
       "134        1468216           ES  WESTERN DIGITAL       None        None  \n",
       "135        1520256           ES          SEAGATE       None        None  \n",
       "136        1525870           ES          SEAGATE       None        None  \n",
       "137        1525871           ES          SEAGATE       None        None  \n",
       "138        1557296           ES          COMPACT       None        None  \n",
       "\n",
       "[139 rows x 10 columns]"
      ]
     },
     "execution_count": 13,
     "metadata": {},
     "output_type": "execute_result"
    }
   ],
   "source": [
    "mapped_df=pd.merge(rawdf1,pm_data, how='left', left_on=['sku'],right_on=['channel_sku_id'])\n",
    "mapped_df"
   ]
  },
  {
   "cell_type": "code",
   "execution_count": 16,
   "id": "522f3df9",
   "metadata": {},
   "outputs": [
    {
     "data": {
      "text/html": [
       "<div>\n",
       "<style scoped>\n",
       "    .dataframe tbody tr th:only-of-type {\n",
       "        vertical-align: middle;\n",
       "    }\n",
       "\n",
       "    .dataframe tbody tr th {\n",
       "        vertical-align: top;\n",
       "    }\n",
       "\n",
       "    .dataframe thead th {\n",
       "        text-align: right;\n",
       "    }\n",
       "</style>\n",
       "<table border=\"1\" class=\"dataframe\">\n",
       "  <thead>\n",
       "    <tr style=\"text-align: right;\">\n",
       "      <th></th>\n",
       "      <th>channel_id</th>\n",
       "      <th>sku</th>\n",
       "      <th>title</th>\n",
       "      <th>brand_name</th>\n",
       "    </tr>\n",
       "  </thead>\n",
       "  <tbody>\n",
       "    <tr>\n",
       "      <th>0</th>\n",
       "      <td>58</td>\n",
       "      <td>94399377</td>\n",
       "      <td>Arcade console with 4000 classic and 7000 new ...</td>\n",
       "      <td>KLACK</td>\n",
       "    </tr>\n",
       "    <tr>\n",
       "      <th>1</th>\n",
       "      <td>58</td>\n",
       "      <td>88879398</td>\n",
       "      <td>Video Game Console - Retro Mini Console with 6...</td>\n",
       "      <td>AGD</td>\n",
       "    </tr>\n",
       "    <tr>\n",
       "      <th>2</th>\n",
       "      <td>58</td>\n",
       "      <td>104976396</td>\n",
       "      <td>Video game console - PANDORABOX3DWIFI KLACK, 6...</td>\n",
       "      <td>KLACK</td>\n",
       "    </tr>\n",
       "    <tr>\n",
       "      <th>3</th>\n",
       "      <td>58</td>\n",
       "      <td>104976395</td>\n",
       "      <td>Video game console - CONS400CONMANDO KLACK, 64...</td>\n",
       "      <td>KLACK</td>\n",
       "    </tr>\n",
       "    <tr>\n",
       "      <th>4</th>\n",
       "      <td>58</td>\n",
       "      <td>95940292</td>\n",
       "      <td>Video Game - RETRO CHAMP NES MYARCADE CONSOLE,...</td>\n",
       "      <td>MYARCADE</td>\n",
       "    </tr>\n",
       "    <tr>\n",
       "      <th>...</th>\n",
       "      <td>...</td>\n",
       "      <td>...</td>\n",
       "      <td>...</td>\n",
       "      <td>...</td>\n",
       "    </tr>\n",
       "    <tr>\n",
       "      <th>134</th>\n",
       "      <td>58</td>\n",
       "      <td>1468216</td>\n",
       "      <td>External hard drive 12 TB - WD_BLACK D10 Game ...</td>\n",
       "      <td>WESTERN DIGITAL</td>\n",
       "    </tr>\n",
       "    <tr>\n",
       "      <th>135</th>\n",
       "      <td>58</td>\n",
       "      <td>1520256</td>\n",
       "      <td>2TB External Hard Drive - ‎Seagate STKX2000400...</td>\n",
       "      <td>SEAGATE</td>\n",
       "    </tr>\n",
       "    <tr>\n",
       "      <th>136</th>\n",
       "      <td>58</td>\n",
       "      <td>1525870</td>\n",
       "      <td>4TB External Hard Drive - Seagate STKX4000402,...</td>\n",
       "      <td>SEAGATE</td>\n",
       "    </tr>\n",
       "    <tr>\n",
       "      <th>137</th>\n",
       "      <td>58</td>\n",
       "      <td>1525871</td>\n",
       "      <td>External Hard Drive 8TB - Seagate STKW8000400,...</td>\n",
       "      <td>SEAGATE</td>\n",
       "    </tr>\n",
       "    <tr>\n",
       "      <th>138</th>\n",
       "      <td>58</td>\n",
       "      <td>1557296</td>\n",
       "      <td>Gamepad - Nacon MG-XPRO, Bluetooth 5.0 connect...</td>\n",
       "      <td>COMPACT</td>\n",
       "    </tr>\n",
       "  </tbody>\n",
       "</table>\n",
       "<p>139 rows × 4 columns</p>\n",
       "</div>"
      ],
      "text/plain": [
       "     channel_id        sku                                              title  \\\n",
       "0            58   94399377  Arcade console with 4000 classic and 7000 new ...   \n",
       "1            58   88879398  Video Game Console - Retro Mini Console with 6...   \n",
       "2            58  104976396  Video game console - PANDORABOX3DWIFI KLACK, 6...   \n",
       "3            58  104976395  Video game console - CONS400CONMANDO KLACK, 64...   \n",
       "4            58   95940292  Video Game - RETRO CHAMP NES MYARCADE CONSOLE,...   \n",
       "..          ...        ...                                                ...   \n",
       "134          58    1468216  External hard drive 12 TB - WD_BLACK D10 Game ...   \n",
       "135          58    1520256  2TB External Hard Drive - ‎Seagate STKX2000400...   \n",
       "136          58    1525870  4TB External Hard Drive - Seagate STKX4000402,...   \n",
       "137          58    1525871  External Hard Drive 8TB - Seagate STKW8000400,...   \n",
       "138          58    1557296  Gamepad - Nacon MG-XPRO, Bluetooth 5.0 connect...   \n",
       "\n",
       "          brand_name  \n",
       "0              KLACK  \n",
       "1                AGD  \n",
       "2              KLACK  \n",
       "3              KLACK  \n",
       "4           MYARCADE  \n",
       "..               ...  \n",
       "134  WESTERN DIGITAL  \n",
       "135          SEAGATE  \n",
       "136          SEAGATE  \n",
       "137          SEAGATE  \n",
       "138          COMPACT  \n",
       "\n",
       "[139 rows x 4 columns]"
      ]
     },
     "execution_count": 16,
     "metadata": {},
     "output_type": "execute_result"
    }
   ],
   "source": [
    "df2=mapped_df[mapped_df['categories'].isnull()][['channel_id','sku','title','brand_name']]\n",
    "df2"
   ]
  },
  {
   "cell_type": "code",
   "execution_count": 14,
   "id": "ba679ba1",
   "metadata": {},
   "outputs": [
    {
     "data": {
      "text/html": [
       "<div>\n",
       "<style scoped>\n",
       "    .dataframe tbody tr th:only-of-type {\n",
       "        vertical-align: middle;\n",
       "    }\n",
       "\n",
       "    .dataframe tbody tr th {\n",
       "        vertical-align: top;\n",
       "    }\n",
       "\n",
       "    .dataframe thead th {\n",
       "        text-align: right;\n",
       "    }\n",
       "</style>\n",
       "<table border=\"1\" class=\"dataframe\">\n",
       "  <thead>\n",
       "    <tr style=\"text-align: right;\">\n",
       "      <th></th>\n",
       "      <th>channel_sku_id</th>\n",
       "      <th>categories</th>\n",
       "      <th>seller_info</th>\n",
       "      <th>first_image</th>\n",
       "    </tr>\n",
       "  </thead>\n",
       "  <tbody>\n",
       "  </tbody>\n",
       "</table>\n",
       "</div>"
      ],
      "text/plain": [
       "Empty DataFrame\n",
       "Columns: [channel_sku_id, categories, seller_info, first_image]\n",
       "Index: []"
      ]
     },
     "execution_count": 14,
     "metadata": {},
     "output_type": "execute_result"
    }
   ],
   "source": [
    "df=pd.DataFrame(columns=['channel_sku_id','categories','seller_info','first_image'])\n",
    "df"
   ]
  },
  {
   "cell_type": "code",
   "execution_count": 17,
   "id": "9a50cecc",
   "metadata": {},
   "outputs": [
    {
     "data": {
      "text/plain": [
       "139"
      ]
     },
     "execution_count": 17,
     "metadata": {},
     "output_type": "execute_result"
    }
   ],
   "source": [
    "asinlist = list(df2['sku'])\n",
    "len(asinlist)"
   ]
  },
  {
   "cell_type": "code",
   "execution_count": null,
   "id": "db0be3f6",
   "metadata": {},
   "outputs": [],
   "source": [
    "request_no=input(\"Enter the request number of the requests seperated with underscore(_) \")\n",
    "#547_552\n",
    "file='final_output_mediamarket_spain_{}.xlsx'.format(request_no)"
   ]
  },
  {
   "cell_type": "code",
   "execution_count": 18,
   "id": "67846053",
   "metadata": {},
   "outputs": [
    {
     "name": "stdout",
     "output_type": "stream",
     "text": [
      "ChromeDriver version: 116.0.5845.96 (1a391816688002153ef791ffe60d9e899a71a037-refs/branch-heads/5845@{#1382})\n"
     ]
    }
   ],
   "source": [
    "chrome_opt=Options()\n",
    "chrome_opt.add_argument(\"--incognito\")\n",
    "driver = webdriver.Chrome(service=s,options=chrome_opt)\n",
    "capabilities = driver.capabilities\n",
    "chrome_driver_version = capabilities['chrome']['chromedriverVersion']\n",
    "\n",
    "# Print the ChromeDriver version\n",
    "print(\"ChromeDriver version:\", chrome_driver_version)"
   ]
  },
  {
   "cell_type": "code",
   "execution_count": 21,
   "id": "5b8199a5",
   "metadata": {},
   "outputs": [
    {
     "name": "stderr",
     "output_type": "stream",
     "text": [
      "\r",
      "  0%|                                                                                          | 0/139 [00:00<?, ?it/s]"
     ]
    },
    {
     "name": "stdout",
     "output_type": "stream",
     "text": [
      "************************\n",
      "0\n",
      "https://www.mediamarkt.es/es/product/-94399377.html\n"
     ]
    },
    {
     "name": "stderr",
     "output_type": "stream",
     "text": [
      "\r",
      "  1%|▌                                                                                 | 1/139 [00:09<20:57,  9.11s/it]"
     ]
    },
    {
     "name": "stdout",
     "output_type": "stream",
     "text": [
      "['Consolas y videojuegos', 'Consolas y Juegos Retro']\n",
      "https://assets.mmsrg.com/isr/166325/c1/-/ASSET_MP_94399380/fee_325_225_png\n",
      "************************\n",
      "1\n",
      "https://www.mediamarkt.es/es/product/-88879398.html\n"
     ]
    },
    {
     "name": "stderr",
     "output_type": "stream",
     "text": [
      "\r",
      "  1%|█▏                                                                                | 2/139 [00:15<17:41,  7.74s/it]"
     ]
    },
    {
     "name": "stdout",
     "output_type": "stream",
     "text": [
      "['Consolas y videojuegos', 'Consolas y Juegos Retro']\n",
      "https://assets.mmsrg.com/isr/166325/c1/-/ASSET_MP_88879399/fee_325_225_png\n",
      "************************\n",
      "2\n",
      "https://www.mediamarkt.es/es/product/-104976396.html\n"
     ]
    },
    {
     "name": "stderr",
     "output_type": "stream",
     "text": [
      "\r",
      "  2%|█▊                                                                                | 3/139 [00:20<14:45,  6.51s/it]"
     ]
    },
    {
     "name": "stdout",
     "output_type": "stream",
     "text": [
      "['Consolas y videojuegos', 'Consolas y Juegos Retro']\n",
      "https://assets.mmsrg.com/isr/166325/c1/-/ASSET_MP_104976398/fee_325_225_png\n",
      "************************\n",
      "3\n",
      "https://www.mediamarkt.es/es/product/-104976395.html\n"
     ]
    },
    {
     "name": "stderr",
     "output_type": "stream",
     "text": [
      "\r",
      "  3%|██▎                                                                               | 4/139 [00:25<13:07,  5.83s/it]"
     ]
    },
    {
     "name": "stdout",
     "output_type": "stream",
     "text": [
      "['Consolas y videojuegos', 'Consolas y Juegos Retro']\n",
      "image not found\n",
      "************************\n",
      "4\n",
      "https://www.mediamarkt.es/es/product/-95940292.html\n"
     ]
    },
    {
     "name": "stderr",
     "output_type": "stream",
     "text": [
      "\r",
      "  4%|██▉                                                                               | 5/139 [00:30<12:24,  5.56s/it]"
     ]
    },
    {
     "name": "stdout",
     "output_type": "stream",
     "text": [
      "['Consolas y videojuegos', 'Consolas y Juegos Retro']\n",
      "image not found\n",
      "************************\n",
      "5\n",
      "https://www.mediamarkt.es/es/product/-95940275.html\n"
     ]
    },
    {
     "name": "stderr",
     "output_type": "stream",
     "text": [
      "\r",
      "  4%|███▌                                                                              | 6/139 [00:39<14:37,  6.59s/it]"
     ]
    },
    {
     "name": "stdout",
     "output_type": "stream",
     "text": [
      "['Consolas y videojuegos', 'Consolas y Juegos Retro']\n",
      "https://assets.mmsrg.com/isr/166325/c1/-/ASSET_MP_95940278/fee_325_225_png\n",
      "************************\n",
      "6\n",
      "https://www.mediamarkt.es/es/product/-1510486.html\n"
     ]
    },
    {
     "name": "stderr",
     "output_type": "stream",
     "text": [
      "\r",
      "  5%|████▏                                                                             | 7/139 [00:57<22:38, 10.29s/it]"
     ]
    },
    {
     "name": "stdout",
     "output_type": "stream",
     "text": [
      "['Consolas y videojuegos', 'Consolas y Juegos Retro']\n",
      "image not found\n",
      "************************\n",
      "7\n",
      "https://www.mediamarkt.es/es/product/-94410631.html\n"
     ]
    },
    {
     "name": "stderr",
     "output_type": "stream",
     "text": [
      "\r",
      "  6%|████▋                                                                             | 8/139 [01:15<27:44, 12.71s/it]"
     ]
    },
    {
     "name": "stdout",
     "output_type": "stream",
     "text": [
      "['Consolas y videojuegos', 'Consolas y Juegos Retro']\n",
      "https://assets.mmsrg.com/isr/166325/c1/-/ASSET_MP_94410634/fee_325_225_png\n",
      "************************\n",
      "8\n",
      "https://www.mediamarkt.es/es/product/-93872688.html\n"
     ]
    },
    {
     "name": "stderr",
     "output_type": "stream",
     "text": [
      "\r",
      "  6%|█████▎                                                                            | 9/139 [01:23<24:48, 11.45s/it]"
     ]
    },
    {
     "name": "stdout",
     "output_type": "stream",
     "text": [
      "['Consolas y videojuegos', 'Consolas y Juegos Retro']\n",
      "https://assets.mmsrg.com/isr/166325/c1/-/ASSET_MP_93872690/fee_325_225_png\n",
      "************************\n",
      "9\n",
      "https://www.mediamarkt.es/es/product/-1519589.html\n"
     ]
    },
    {
     "name": "stderr",
     "output_type": "stream",
     "text": [
      "\r",
      "  7%|█████▊                                                                           | 10/139 [01:35<24:25, 11.36s/it]"
     ]
    },
    {
     "name": "stdout",
     "output_type": "stream",
     "text": [
      "['Consolas y videojuegos', 'Juegos', 'Juegos Nintendo Switch']\n",
      "https://assets.mmsrg.com/isr/166325/c1/-/ASSET_MMS_110549302/fee_325_225_png\n",
      "************************\n",
      "10\n",
      "https://www.mediamarkt.es/es/product/-1462299.html\n"
     ]
    },
    {
     "name": "stderr",
     "output_type": "stream",
     "text": [
      "\r",
      "  8%|██████▍                                                                          | 11/139 [01:47<24:40, 11.56s/it]"
     ]
    },
    {
     "name": "stdout",
     "output_type": "stream",
     "text": [
      "['Consolas y videojuegos', 'Accesorios consolas', 'Accesorios Sony PS4', 'Auriculares PS4']\n",
      "image not found\n",
      "************************\n",
      "11\n",
      "https://www.mediamarkt.es/es/product/-1441817.html\n"
     ]
    },
    {
     "name": "stderr",
     "output_type": "stream",
     "text": [
      "\r",
      "  9%|██████▉                                                                          | 12/139 [01:59<25:16, 11.94s/it]"
     ]
    },
    {
     "name": "stdout",
     "output_type": "stream",
     "text": [
      "['Consolas y videojuegos', 'Accesorios consolas', 'Accesorios Xbox One', 'Auriculares Xbox One']\n",
      "https://assets.mmsrg.com/isr/166325/c1/-/ASSET_MMS_99069041/fee_325_225_png\n",
      "************************\n",
      "12\n",
      "https://www.mediamarkt.es/es/product/-1512119.html\n"
     ]
    },
    {
     "name": "stderr",
     "output_type": "stream",
     "text": [
      "\r",
      "  9%|███████▌                                                                         | 13/139 [02:14<26:54, 12.82s/it]"
     ]
    },
    {
     "name": "stdout",
     "output_type": "stream",
     "text": [
      "['Consolas y videojuegos', 'Consolas', 'Consolas Nintendo Switch']\n",
      "https://assets.mmsrg.com/isr/166325/c1/-/ASSET_MMS_85591077/fee_325_225_png\n",
      "************************\n",
      "13\n",
      "https://www.mediamarkt.es/es/product/-1542432.html\n"
     ]
    },
    {
     "name": "stderr",
     "output_type": "stream",
     "text": [
      "\r",
      " 10%|████████▏                                                                        | 14/139 [02:26<26:18, 12.63s/it]"
     ]
    },
    {
     "name": "stdout",
     "output_type": "stream",
     "text": [
      "['Consolas y videojuegos', 'Consolas', 'Consolas Nintendo Switch']\n",
      "image not found\n",
      "************************\n",
      "14\n",
      "https://www.mediamarkt.es/es/product/-97970912.html\n"
     ]
    },
    {
     "name": "stderr",
     "output_type": "stream",
     "text": [
      "\r",
      " 11%|████████▋                                                                        | 15/139 [02:34<22:54, 11.08s/it]"
     ]
    },
    {
     "name": "stdout",
     "output_type": "stream",
     "text": [
      "['Gaming', 'Cockpits y simuladores', 'Volantes PC gaming']\n",
      "https://assets.mmsrg.com/isr/166325/c1/-/ASSET_MP_97970914/fee_325_225_png\n",
      "************************\n",
      "15\n",
      "https://www.mediamarkt.es/es/product/-1512120.html\n"
     ]
    },
    {
     "name": "stderr",
     "output_type": "stream",
     "text": [
      "\r",
      " 12%|█████████▎                                                                       | 16/139 [03:00<31:40, 15.45s/it]"
     ]
    },
    {
     "name": "stdout",
     "output_type": "stream",
     "text": [
      "['Consolas y videojuegos', 'Consolas', 'Consolas Nintendo Switch']\n",
      "https://assets.mmsrg.com/isr/166325/c1/-/ASSET_MMS_85591077/fee_194_131_png\n",
      "************************\n",
      "16\n",
      "https://www.mediamarkt.es/es/product/-1499843.html\n"
     ]
    },
    {
     "name": "stderr",
     "output_type": "stream",
     "text": [
      "\r",
      " 12%|█████████▉                                                                       | 17/139 [03:10<28:22, 13.96s/it]"
     ]
    },
    {
     "name": "stdout",
     "output_type": "stream",
     "text": [
      "['Consolas y videojuegos', 'Consolas', 'Consolas Nintendo Switch']\n",
      "image not found\n",
      "************************\n",
      "17\n",
      "https://www.mediamarkt.es/es/product/-1461425.html\n"
     ]
    },
    {
     "name": "stderr",
     "output_type": "stream",
     "text": [
      "\r",
      " 13%|██████████▍                                                                      | 18/139 [03:22<27:05, 13.44s/it]"
     ]
    },
    {
     "name": "stdout",
     "output_type": "stream",
     "text": [
      "['Consolas y videojuegos', 'Accesorios consolas', 'Accesorios Nintendo Switch', 'Mandos Nintendo Switch']\n",
      "https://assets.mmsrg.com/isr/166325/c1/-/ASSET_MMS_103325098/fee_325_225_png\n",
      "************************\n",
      "18\n",
      "https://www.mediamarkt.es/es/product/-1461422.html\n"
     ]
    },
    {
     "name": "stderr",
     "output_type": "stream",
     "text": [
      "\r",
      " 14%|███████████                                                                      | 19/139 [03:35<26:37, 13.31s/it]"
     ]
    },
    {
     "name": "stdout",
     "output_type": "stream",
     "text": [
      "['Consolas y videojuegos', 'Accesorios consolas', 'Accesorios Nintendo Switch', 'Mandos Nintendo Switch']\n",
      "https://assets.mmsrg.com/isr/166325/c1/-/ASSET_MMS_103324470/fee_325_225_png\n",
      "************************\n",
      "19\n",
      "https://www.mediamarkt.es/es/product/-1363578.html\n"
     ]
    },
    {
     "name": "stderr",
     "output_type": "stream",
     "text": [
      "\r",
      " 14%|███████████▋                                                                     | 20/139 [03:46<24:52, 12.54s/it]"
     ]
    },
    {
     "name": "stdout",
     "output_type": "stream",
     "text": [
      "['Consolas y videojuegos', 'Accesorios consolas', 'Accesorios Nintendo Switch', 'Cables y cargadores Nintendo Switch']\n",
      "https://assets.mmsrg.com/isr/166325/c1/-/pixelboxx-mss-79098290/fee_325_225_png\n",
      "************************\n",
      "20\n",
      "https://www.mediamarkt.es/es/product/-95176682.html\n"
     ]
    },
    {
     "name": "stderr",
     "output_type": "stream",
     "text": [
      "\r",
      " 15%|████████████▏                                                                    | 21/139 [03:56<23:13, 11.81s/it]"
     ]
    },
    {
     "name": "stdout",
     "output_type": "stream",
     "text": [
      "['Consolas y videojuegos', 'Accesorios consolas', 'Accesorios Nintendo Switch', 'Cables y cargadores Nintendo Switch']\n",
      "https://assets.mmsrg.com/isr/166325/c1/-/ASSET_MP_99575945/fee_325_225_png\n",
      "************************\n",
      "21\n",
      "https://www.mediamarkt.es/es/product/-1353577.html\n"
     ]
    },
    {
     "name": "stderr",
     "output_type": "stream",
     "text": [
      "\r",
      " 16%|████████████▊                                                                    | 22/139 [04:07<22:24, 11.49s/it]"
     ]
    },
    {
     "name": "stdout",
     "output_type": "stream",
     "text": [
      "['Consolas y videojuegos', 'Accesorios consolas', 'Accesorios Nintendo Switch', 'Mandos Nintendo Switch']\n",
      "https://assets.mmsrg.com/isr/166325/c1/-/ASSET_MMS_105028834/fee_325_225_png\n",
      "************************\n",
      "22\n",
      "https://www.mediamarkt.es/es/product/-1555333.html\n"
     ]
    },
    {
     "name": "stderr",
     "output_type": "stream",
     "text": [
      "\r",
      " 17%|█████████████▍                                                                   | 23/139 [04:21<23:50, 12.34s/it]"
     ]
    },
    {
     "name": "stdout",
     "output_type": "stream",
     "text": [
      "['Consolas y videojuegos', 'Accesorios consolas', 'Accesorios Nintendo Switch', 'Mandos Nintendo Switch']\n",
      "https://assets.mmsrg.com/isr/166325/c1/-/ASSET_MMS_105028834/fee_194_131_png\n",
      "************************\n",
      "23\n",
      "https://www.mediamarkt.es/es/product/-1356434.html\n"
     ]
    },
    {
     "name": "stderr",
     "output_type": "stream",
     "text": [
      "\r",
      " 17%|█████████████▉                                                                   | 24/139 [04:39<26:47, 13.98s/it]"
     ]
    },
    {
     "name": "stdout",
     "output_type": "stream",
     "text": [
      "['Consolas y videojuegos', 'Accesorios consolas', 'Accesorios Nintendo Switch', 'Mandos Nintendo Switch']\n",
      "image not found\n",
      "************************\n",
      "24\n",
      "https://www.mediamarkt.es/es/product/-104205773.html\n"
     ]
    },
    {
     "name": "stderr",
     "output_type": "stream",
     "text": [
      "\r",
      " 18%|██████████████▌                                                                  | 25/139 [04:49<24:23, 12.84s/it]"
     ]
    },
    {
     "name": "stdout",
     "output_type": "stream",
     "text": [
      "['Consolas y videojuegos', 'Consolas', 'Consolas Nintendo Switch']\n",
      "https://assets.mmsrg.com/isr/166325/c1/-/ASSET_MP_104205776/fee_325_225_png\n",
      "************************\n",
      "25\n",
      "https://www.mediamarkt.es/es/product/-1478599.html\n"
     ]
    },
    {
     "name": "stderr",
     "output_type": "stream",
     "text": [
      "\r",
      " 19%|███████████████▏                                                                 | 26/139 [05:01<23:33, 12.51s/it]"
     ]
    },
    {
     "name": "stdout",
     "output_type": "stream",
     "text": [
      "['Consolas y videojuegos', 'Accesorios consolas', 'Accesorios Nintendo Switch', 'Otros accesorios Nintendo Switch']\n",
      "https://assets.mmsrg.com/isr/166325/c1/-/ASSET_MMS_75057914/fee_325_225_png\n",
      "************************\n",
      "26\n",
      "https://www.mediamarkt.es/es/product/-1380596.html\n"
     ]
    },
    {
     "name": "stderr",
     "output_type": "stream",
     "text": [
      "\r",
      " 19%|███████████████▋                                                                 | 27/139 [05:11<22:12, 11.90s/it]"
     ]
    },
    {
     "name": "stdout",
     "output_type": "stream",
     "text": [
      "['Outlet y reacondicionados', 'Outlet', 'Consolas y videojuegos']\n",
      "https://assets.mmsrg.com/isr/166325/c1/-/ASSET_MMS_105979274/fee_325_225_png\n",
      "************************\n",
      "27\n",
      "https://www.mediamarkt.es/es/product/-1517143.html\n"
     ]
    },
    {
     "name": "stderr",
     "output_type": "stream",
     "text": [
      "\r",
      " 20%|████████████████▎                                                                | 28/139 [05:21<20:38, 11.16s/it]"
     ]
    },
    {
     "name": "stdout",
     "output_type": "stream",
     "text": [
      "['Outlet y reacondicionados', 'Outlet', 'Consolas y videojuegos']\n",
      "https://assets.mmsrg.com/isr/166325/c1/-/ASSET_MMS_88081219/fee_325_225_png\n",
      "************************\n",
      "28\n",
      "https://www.mediamarkt.es/es/product/-1549712.html\n"
     ]
    },
    {
     "name": "stderr",
     "output_type": "stream",
     "text": [
      "\r",
      " 21%|████████████████▉                                                                | 29/139 [05:33<20:56, 11.43s/it]"
     ]
    },
    {
     "name": "stdout",
     "output_type": "stream",
     "text": [
      "['Consolas y videojuegos', 'Accesorios consolas', 'Accesorios Nintendo Switch', 'Otros accesorios Nintendo Switch']\n",
      "https://assets.mmsrg.com/isr/166325/c1/-/ASSET_MMS_103175683/fee_194_131_png\n",
      "************************\n",
      "29\n",
      "https://www.mediamarkt.es/es/product/-1549711.html\n"
     ]
    },
    {
     "name": "stderr",
     "output_type": "stream",
     "text": [
      "\r",
      " 22%|█████████████████▍                                                               | 30/139 [05:46<21:52, 12.04s/it]"
     ]
    },
    {
     "name": "stdout",
     "output_type": "stream",
     "text": [
      "['Consolas y videojuegos', 'Accesorios consolas', 'Accesorios Nintendo Switch', 'Fundas y Protectores Nintendo Switch']\n",
      "https://assets.mmsrg.com/isr/166325/c1/-/ASSET_MMS_103175683/fee_325_225_png\n",
      "************************\n",
      "30\n",
      "https://www.mediamarkt.es/es/product/-1517140.html\n"
     ]
    },
    {
     "name": "stderr",
     "output_type": "stream",
     "text": [
      "\r",
      " 22%|██████████████████                                                               | 31/139 [05:56<20:30, 11.40s/it]"
     ]
    },
    {
     "name": "stdout",
     "output_type": "stream",
     "text": [
      "['Consolas y videojuegos', 'Accesorios consolas', 'Accesorios Nintendo Switch', 'Fundas y Protectores Nintendo Switch']\n",
      "https://assets.mmsrg.com/isr/166325/c1/-/ASSET_MMS_88081164/fee_325_225_png\n",
      "************************\n",
      "31\n",
      "https://www.mediamarkt.es/es/product/-1553575.html\n"
     ]
    },
    {
     "name": "stderr",
     "output_type": "stream",
     "text": [
      "\r",
      " 23%|██████████████████▋                                                              | 32/139 [06:06<19:44, 11.07s/it]"
     ]
    },
    {
     "name": "stdout",
     "output_type": "stream",
     "text": [
      "['Consolas y videojuegos', 'Juegos', 'Guías de juego']\n",
      "image not found\n",
      "************************\n",
      "32\n",
      "https://www.mediamarkt.es/es/product/-1557736.html\n"
     ]
    },
    {
     "name": "stderr",
     "output_type": "stream",
     "text": [
      "\r",
      " 24%|███████████████████▏                                                             | 33/139 [06:24<22:42, 12.86s/it]"
     ]
    },
    {
     "name": "stdout",
     "output_type": "stream",
     "text": [
      "['Outlet y reacondicionados', 'Reacondicionados', 'Consolas y videojuegos']\n",
      "https://assets.mmsrg.com/isr/166325/c1/-/ASSET_MMS_75181231/fee_325_225_png\n",
      "************************\n",
      "33\n",
      "https://www.mediamarkt.es/es/product/-1458165.html\n"
     ]
    },
    {
     "name": "stderr",
     "output_type": "stream",
     "text": [
      "\r",
      " 24%|███████████████████▊                                                             | 34/139 [06:37<22:42, 12.98s/it]"
     ]
    },
    {
     "name": "stdout",
     "output_type": "stream",
     "text": [
      "['Consolas y videojuegos', 'Juegos', 'Juegos Nintendo Switch']\n",
      "image not found\n",
      "************************\n",
      "34\n",
      "https://www.mediamarkt.es/es/product/-1460891.html\n"
     ]
    },
    {
     "name": "stderr",
     "output_type": "stream",
     "text": [
      "\r",
      " 25%|████████████████████▍                                                            | 35/139 [06:54<24:35, 14.19s/it]"
     ]
    },
    {
     "name": "stdout",
     "output_type": "stream",
     "text": [
      "['Consolas y videojuegos', 'Consolas', 'Consolas Nintendo Switch Lite']\n",
      "https://assets.mmsrg.com/isr/166325/c1/-/ASSET_MMS_82580913/fee_325_225_png\n",
      "************************\n",
      "35\n",
      "https://www.mediamarkt.es/es/product/-1475846.html\n"
     ]
    },
    {
     "name": "stderr",
     "output_type": "stream",
     "text": [
      "\r",
      " 26%|████████████████████▉                                                            | 36/139 [07:04<22:31, 13.12s/it]"
     ]
    },
    {
     "name": "stdout",
     "output_type": "stream",
     "text": [
      "['Consolas y videojuegos', 'Consolas', 'Consolas Nintendo Switch Lite']\n",
      "https://assets.mmsrg.com/isr/166325/c1/-/ASSET_MMS_82580916/fee_194_131_png\n",
      "************************\n",
      "36\n",
      "https://www.mediamarkt.es/es/product/-1506192.html\n"
     ]
    },
    {
     "name": "stderr",
     "output_type": "stream",
     "text": [
      "\r",
      " 27%|█████████████████████▌                                                           | 37/139 [07:18<22:22, 13.16s/it]"
     ]
    },
    {
     "name": "stdout",
     "output_type": "stream",
     "text": [
      "['Consolas y videojuegos', 'Consolas', 'Consolas Nintendo Switch Lite']\n",
      "https://assets.mmsrg.com/isr/166325/c1/-/ASSET_MMS_82580916/fee_194_131_png\n",
      "************************\n",
      "37\n",
      "https://www.mediamarkt.es/es/product/-1460890.html\n"
     ]
    },
    {
     "name": "stderr",
     "output_type": "stream",
     "text": [
      "\r",
      " 27%|██████████████████████▏                                                          | 38/139 [07:28<20:38, 12.26s/it]"
     ]
    },
    {
     "name": "stdout",
     "output_type": "stream",
     "text": [
      "['Consolas y videojuegos', 'Consolas', 'Consolas Nintendo Switch Lite']\n",
      "https://assets.mmsrg.com/isr/166325/c1/-/ASSET_MMS_82580914/fee_325_225_png\n",
      "************************\n",
      "38\n",
      "https://www.mediamarkt.es/es/product/-1528032.html\n"
     ]
    },
    {
     "name": "stderr",
     "output_type": "stream",
     "text": [
      "\r",
      " 28%|██████████████████████▋                                                          | 39/139 [07:40<20:18, 12.19s/it]"
     ]
    },
    {
     "name": "stdout",
     "output_type": "stream",
     "text": [
      "['Consolas y videojuegos', 'Juegos', 'Juegos Nintendo Switch']\n",
      "https://assets.mmsrg.com/isr/166325/c1/-/ASSET_MMS_92958277/fee_325_225_png\n",
      "************************\n",
      "39\n",
      "https://www.mediamarkt.es/es/product/-1433537.html\n"
     ]
    },
    {
     "name": "stderr",
     "output_type": "stream",
     "text": [
      "\r",
      " 29%|███████████████████████▎                                                         | 40/139 [07:51<19:47, 11.99s/it]"
     ]
    },
    {
     "name": "stdout",
     "output_type": "stream",
     "text": [
      "['Consolas y videojuegos', 'Juegos', 'Juegos Nintendo Switch']\n",
      "image not found\n",
      "************************\n",
      "40\n",
      "https://www.mediamarkt.es/es/product/-1354080.html\n"
     ]
    },
    {
     "name": "stderr",
     "output_type": "stream",
     "text": [
      "\r",
      " 29%|███████████████████████▉                                                         | 41/139 [08:09<22:18, 13.66s/it]"
     ]
    },
    {
     "name": "stdout",
     "output_type": "stream",
     "text": [
      "['Consolas y videojuegos', 'Juegos', 'Juegos Nintendo Switch']\n",
      "https://assets.mmsrg.com/isr/166325/c1/-/ASSET_MMS_102766437/fee_325_225_png\n",
      "************************\n",
      "41\n",
      "https://www.mediamarkt.es/es/product/-1557378.html\n"
     ]
    },
    {
     "name": "stderr",
     "output_type": "stream",
     "text": [
      "\r",
      " 30%|████████████████████████▍                                                        | 42/139 [08:20<20:49, 12.88s/it]"
     ]
    },
    {
     "name": "stdout",
     "output_type": "stream",
     "text": [
      "['Consolas y videojuegos', 'Próximos lanzamientos juegos y consolas', 'Próximos Lanzamientos PS5']\n",
      "image not found\n",
      "************************\n",
      "42\n",
      "https://www.mediamarkt.es/es/product/-1557379.html\n"
     ]
    },
    {
     "name": "stderr",
     "output_type": "stream",
     "text": [
      "\r",
      " 31%|█████████████████████████                                                        | 43/139 [08:32<20:15, 12.66s/it]"
     ]
    },
    {
     "name": "stdout",
     "output_type": "stream",
     "text": [
      "['Consolas y videojuegos', 'Próximos lanzamientos juegos y consolas', 'Próximos Lanzamientos PS4']\n",
      "https://assets.mmsrg.com/isr/166325/c1/-/ASSET_MMS_108091966/fee_325_225_png\n",
      "************************\n",
      "43\n",
      "https://www.mediamarkt.es/es/product/-1557382.html\n"
     ]
    },
    {
     "name": "stderr",
     "output_type": "stream",
     "text": [
      "\r",
      " 32%|█████████████████████████▋                                                       | 44/139 [08:43<19:12, 12.13s/it]"
     ]
    },
    {
     "name": "stdout",
     "output_type": "stream",
     "text": [
      "['Consolas y videojuegos', 'Próximos lanzamientos juegos y consolas', 'Próximos Lanzamientos Nintendo Switch']\n",
      "image not found\n",
      "************************\n",
      "44\n",
      "https://www.mediamarkt.es/es/product/-1540636.html\n"
     ]
    },
    {
     "name": "stderr",
     "output_type": "stream",
     "text": [
      "\r",
      " 32%|██████████████████████████▏                                                      | 45/139 [08:58<20:26, 13.05s/it]"
     ]
    },
    {
     "name": "stdout",
     "output_type": "stream",
     "text": [
      "['Consolas y videojuegos', 'Consolas', 'Consolas PS5']\n",
      "https://assets.mmsrg.com/isr/166325/c1/-/ASSET_MMS_97988576/fee_325_225_png\n",
      "************************\n",
      "45\n",
      "https://www.mediamarkt.es/es/product/-1557383.html\n"
     ]
    },
    {
     "name": "stderr",
     "output_type": "stream",
     "text": [
      "\r",
      " 33%|██████████████████████████▊                                                      | 46/139 [09:14<21:40, 13.98s/it]"
     ]
    },
    {
     "name": "stdout",
     "output_type": "stream",
     "text": [
      "['Gaming', 'Juegos PC']\n",
      "https://assets.mmsrg.com/isr/166325/c1/-/ASSET_MMS_108091974/fee_325_225_png\n",
      "************************\n",
      "46\n",
      "https://www.mediamarkt.es/es/product/-1557380.html\n"
     ]
    },
    {
     "name": "stderr",
     "output_type": "stream",
     "text": [
      "\r",
      " 34%|███████████████████████████▍                                                     | 47/139 [09:33<23:40, 15.44s/it]"
     ]
    },
    {
     "name": "stdout",
     "output_type": "stream",
     "text": [
      "['Consolas y videojuegos', 'Próximos lanzamientos juegos y consolas', 'Próximos Lanzamientos Xbox Series X y S']\n",
      "image not found\n",
      "************************\n",
      "47\n",
      "https://www.mediamarkt.es/es/product/-1543828.html\n"
     ]
    },
    {
     "name": "stderr",
     "output_type": "stream",
     "text": [
      "\r",
      " 35%|███████████████████████████▉                                                     | 48/139 [10:03<29:51, 19.69s/it]"
     ]
    },
    {
     "name": "stdout",
     "output_type": "stream",
     "text": [
      "['Consolas y videojuegos', 'Consolas', 'Consolas PS5']\n",
      "https://assets.mmsrg.com/isr/166325/c1/-/ASSET_MMS_99230441/fee_325_225_png\n",
      "************************\n",
      "48\n",
      "https://www.mediamarkt.es/es/product/-1540747.html\n"
     ]
    },
    {
     "name": "stderr",
     "output_type": "stream",
     "text": [
      "\r",
      " 35%|████████████████████████████▌                                                    | 49/139 [10:13<25:12, 16.80s/it]"
     ]
    },
    {
     "name": "stdout",
     "output_type": "stream",
     "text": [
      "['Consolas y videojuegos', 'Accesorios consolas', 'Accesorios Nintendo Switch', 'Otros accesorios Nintendo Switch']\n",
      "image not found\n",
      "************************\n",
      "49\n",
      "https://www.mediamarkt.es/es/product/-1494570.html\n"
     ]
    },
    {
     "name": "stderr",
     "output_type": "stream",
     "text": [
      "\r",
      " 36%|█████████████████████████████▏                                                   | 50/139 [10:27<23:30, 15.84s/it]"
     ]
    },
    {
     "name": "stdout",
     "output_type": "stream",
     "text": [
      "['Consolas y videojuegos', 'Accesorios consolas', 'Accesorios Nintendo Switch', 'Mandos Nintendo Switch']\n",
      "https://assets.mmsrg.com/isr/166325/c1/-/ASSET_MMS_79138875/fee_325_225_png\n",
      "************************\n",
      "50\n",
      "https://www.mediamarkt.es/es/product/-1494568.html\n"
     ]
    },
    {
     "name": "stderr",
     "output_type": "stream",
     "text": [
      "\r",
      " 37%|█████████████████████████████▋                                                   | 51/139 [10:43<23:21, 15.92s/it]"
     ]
    },
    {
     "name": "stdout",
     "output_type": "stream",
     "text": [
      "['Consolas y videojuegos', 'Accesorios consolas', 'Accesorios Nintendo Switch', 'Mandos Nintendo Switch']\n",
      "https://assets.mmsrg.com/isr/166325/c1/-/ASSET_MMS_79138874/fee_325_225_png\n",
      "************************\n",
      "51\n",
      "https://www.mediamarkt.es/es/product/-1470114.html\n"
     ]
    },
    {
     "name": "stderr",
     "output_type": "stream",
     "text": [
      "\r",
      " 37%|██████████████████████████████▎                                                  | 52/139 [10:55<21:25, 14.77s/it]"
     ]
    },
    {
     "name": "stdout",
     "output_type": "stream",
     "text": [
      "['Outlet y reacondicionados', 'Outlet', 'Consolas y videojuegos']\n",
      "https://assets.mmsrg.com/isr/166325/c1/-/ASSET_MMS_71554646/fee_325_225_png\n",
      "************************\n",
      "52\n",
      "https://www.mediamarkt.es/es/product/-1522360.html\n"
     ]
    },
    {
     "name": "stderr",
     "output_type": "stream",
     "text": [
      "\r",
      " 38%|██████████████████████████████▉                                                  | 53/139 [11:06<19:37, 13.70s/it]"
     ]
    },
    {
     "name": "stdout",
     "output_type": "stream",
     "text": [
      "['Gaming', 'Accesorios gaming', 'Auriculares gaming']\n",
      "image not found\n",
      "************************\n",
      "53\n",
      "https://www.mediamarkt.es/es/product/-1551429.html\n"
     ]
    },
    {
     "name": "stderr",
     "output_type": "stream",
     "text": [
      "\r",
      " 39%|███████████████████████████████▍                                                 | 54/139 [11:19<19:14, 13.58s/it]"
     ]
    },
    {
     "name": "stdout",
     "output_type": "stream",
     "text": [
      "['Consolas y videojuegos', 'Accesorios consolas', 'Accesorios Nintendo Switch', 'Mandos Nintendo Switch']\n",
      "https://assets.mmsrg.com/isr/166325/c1/-/ASSET_MMS_104174278/fee_325_225_png\n",
      "************************\n",
      "54\n",
      "https://www.mediamarkt.es/es/product/-1452197.html\n"
     ]
    },
    {
     "name": "stderr",
     "output_type": "stream",
     "text": [
      "\r",
      " 40%|████████████████████████████████                                                 | 55/139 [11:31<18:07, 12.95s/it]"
     ]
    },
    {
     "name": "stdout",
     "output_type": "stream",
     "text": [
      "['Consolas y videojuegos', 'Accesorios consolas', 'Accesorios Nintendo Switch', 'Fundas y Protectores Nintendo Switch']\n",
      "image not found\n",
      "************************\n",
      "55\n",
      "https://www.mediamarkt.es/es/product/-1510845.html\n"
     ]
    },
    {
     "name": "stderr",
     "output_type": "stream",
     "text": [
      "\r",
      " 40%|████████████████████████████████▋                                                | 56/139 [11:47<19:30, 14.10s/it]"
     ]
    },
    {
     "name": "stdout",
     "output_type": "stream",
     "text": [
      "['Outlet y reacondicionados', 'Outlet', 'Consolas y videojuegos']\n",
      "https://assets.mmsrg.com/isr/166325/c1/-/ASSET_MMS_85764411/fee_325_225_png\n",
      "************************\n",
      "56\n",
      "https://www.mediamarkt.es/es/product/-1353580.html\n"
     ]
    },
    {
     "name": "stderr",
     "output_type": "stream",
     "text": [
      "\r",
      " 41%|█████████████████████████████████▏                                               | 57/139 [11:59<18:12, 13.33s/it]"
     ]
    },
    {
     "name": "stdout",
     "output_type": "stream",
     "text": [
      "['Consolas y videojuegos', 'Accesorios consolas', 'Accesorios Nintendo Switch', 'Mandos Nintendo Switch']\n",
      "image not found\n",
      "************************\n",
      "57\n",
      "https://www.mediamarkt.es/es/product/-1465777.html\n"
     ]
    },
    {
     "name": "stderr",
     "output_type": "stream",
     "text": [
      "\r",
      " 42%|█████████████████████████████████▊                                               | 58/139 [12:09<16:50, 12.48s/it]"
     ]
    },
    {
     "name": "stdout",
     "output_type": "stream",
     "text": [
      "['Consolas y videojuegos', 'Juegos', 'Juegos Nintendo Switch']\n",
      "image not found\n",
      "************************\n",
      "58\n",
      "https://www.mediamarkt.es/es/product/-1485505.html\n"
     ]
    },
    {
     "name": "stderr",
     "output_type": "stream",
     "text": [
      "\r",
      " 42%|██████████████████████████████████▍                                              | 59/139 [12:22<16:32, 12.41s/it]"
     ]
    },
    {
     "name": "stdout",
     "output_type": "stream",
     "text": [
      "['Consolas y videojuegos', 'Accesorios consolas', 'Accesorios Nintendo Switch', 'Otros accesorios Nintendo Switch']\n",
      "image not found\n",
      "************************\n",
      "59\n",
      "https://www.mediamarkt.es/es/product/-1530474.html\n"
     ]
    },
    {
     "name": "stderr",
     "output_type": "stream",
     "text": [
      "\r",
      " 43%|██████████████████████████████████▉                                              | 60/139 [12:39<18:14, 13.85s/it]"
     ]
    },
    {
     "name": "stdout",
     "output_type": "stream",
     "text": [
      "['Consolas y videojuegos', 'Accesorios consolas', 'Accesorios Nintendo Switch', 'Fundas y Protectores Nintendo Switch']\n",
      "https://assets.mmsrg.com/isr/166325/c1/-/ASSET_MMS_92201071/fee_325_225_png\n",
      "************************\n",
      "60\n",
      "https://www.mediamarkt.es/es/product/-90668650.html\n"
     ]
    },
    {
     "name": "stderr",
     "output_type": "stream",
     "text": [
      "\r",
      " 44%|███████████████████████████████████▌                                             | 61/139 [12:48<16:16, 12.52s/it]"
     ]
    },
    {
     "name": "stdout",
     "output_type": "stream",
     "text": [
      "['Consolas y videojuegos', 'Accesorios consolas', 'Accesorios Nintendo Switch', 'Mandos Nintendo Switch']\n",
      "https://assets.mmsrg.com/isr/166325/c1/-/ASSET_MP_90668653/fee_325_225_png\n",
      "************************\n",
      "61\n",
      "https://www.mediamarkt.es/es/product/-94925575.html\n"
     ]
    },
    {
     "name": "stderr",
     "output_type": "stream",
     "text": [
      "\r",
      " 45%|████████████████████████████████████▏                                            | 62/139 [13:00<15:41, 12.23s/it]"
     ]
    },
    {
     "name": "stdout",
     "output_type": "stream",
     "text": [
      "['Consolas y videojuegos', 'Accesorios consolas', 'Accesorios Nintendo Switch', 'Otros accesorios Nintendo Switch']\n",
      "https://assets.mmsrg.com/isr/166325/c1/-/ASSET_MP_94925576/fee_325_225_png\n",
      "************************\n",
      "62\n",
      "https://www.mediamarkt.es/es/product/-95678581.html\n"
     ]
    },
    {
     "name": "stderr",
     "output_type": "stream",
     "text": [
      "\r",
      " 45%|████████████████████████████████████▋                                            | 63/139 [13:20<18:37, 14.70s/it]"
     ]
    },
    {
     "name": "stdout",
     "output_type": "stream",
     "text": [
      "['Consolas y videojuegos', 'Accesorios consolas', 'Accesorios Nintendo Switch', 'Otros accesorios Nintendo Switch']\n",
      "https://assets.mmsrg.com/isr/166325/c1/-/ASSET_MP_95678585/fee_325_225_png\n",
      "************************\n",
      "63\n",
      "https://www.mediamarkt.es/es/product/-99772973.html\n"
     ]
    },
    {
     "name": "stderr",
     "output_type": "stream",
     "text": [
      "\r",
      " 46%|█████████████████████████████████████▎                                           | 64/139 [13:29<16:04, 12.86s/it]"
     ]
    },
    {
     "name": "stdout",
     "output_type": "stream",
     "text": [
      "[]\n",
      "https://assets.mmsrg.com/isr/166325/c1/-/ASSET_MP_99772978/fee_325_225_png\n",
      "************************\n",
      "64\n",
      "https://www.mediamarkt.es/es/product/-95678311.html\n"
     ]
    },
    {
     "name": "stderr",
     "output_type": "stream",
     "text": [
      "\r",
      " 47%|█████████████████████████████████████▉                                           | 65/139 [13:37<14:04, 11.41s/it]"
     ]
    },
    {
     "name": "stdout",
     "output_type": "stream",
     "text": [
      "['Consolas y videojuegos', 'Accesorios consolas', 'Accesorios Nintendo Switch', 'Otros accesorios Nintendo Switch']\n",
      "https://assets.mmsrg.com/isr/166325/c1/-/ASSET_MP_95678314/fee_325_225_png\n",
      "************************\n",
      "65\n",
      "https://www.mediamarkt.es/es/product/-95677950.html\n"
     ]
    },
    {
     "name": "stderr",
     "output_type": "stream",
     "text": [
      "\r",
      " 47%|██████████████████████████████████████▍                                          | 66/139 [13:49<14:11, 11.67s/it]"
     ]
    },
    {
     "name": "stdout",
     "output_type": "stream",
     "text": [
      "['Consolas y videojuegos', 'Accesorios consolas', 'Accesorios Nintendo Switch', 'Otros accesorios Nintendo Switch']\n",
      "https://assets.mmsrg.com/isr/166325/c1/-/ASSET_MP_95677956/fee_325_225_png\n",
      "************************\n",
      "66\n",
      "https://www.mediamarkt.es/es/product/-1549107.html\n"
     ]
    },
    {
     "name": "stderr",
     "output_type": "stream",
     "text": [
      "\r",
      " 48%|███████████████████████████████████████                                          | 67/139 [14:07<16:08, 13.46s/it]"
     ]
    },
    {
     "name": "stdout",
     "output_type": "stream",
     "text": [
      "['Consolas y videojuegos', 'Consolas', 'Consolas PS5']\n",
      "https://assets.mmsrg.com/isr/166325/c1/-/ASSET_MMS_102608355/fee_325_225_png\n",
      "************************\n",
      "67\n",
      "https://www.mediamarkt.es/es/product/-1546032.html\n"
     ]
    },
    {
     "name": "stderr",
     "output_type": "stream",
     "text": [
      "\r",
      " 49%|███████████████████████████████████████▋                                         | 68/139 [14:22<16:25, 13.88s/it]"
     ]
    },
    {
     "name": "stdout",
     "output_type": "stream",
     "text": [
      "['Consolas y videojuegos', 'Consolas', 'Consolas PS5']\n",
      "https://assets.mmsrg.com/isr/166325/c1/-/ASSET_MMS_100810149/fee_325_225_png\n",
      "************************\n",
      "68\n",
      "https://www.mediamarkt.es/es/product/-1553885.html\n"
     ]
    },
    {
     "name": "stderr",
     "output_type": "stream",
     "text": [
      "\r",
      " 50%|████████████████████████████████████████▏                                        | 69/139 [14:32<15:06, 12.95s/it]"
     ]
    },
    {
     "name": "stdout",
     "output_type": "stream",
     "text": [
      "['Consolas y videojuegos', 'Consolas', 'Consolas PS5']\n",
      "https://assets.mmsrg.com/isr/166325/c1/-/ASSET_MMS_105741434/fee_325_225_png\n",
      "************************\n",
      "69\n",
      "https://www.mediamarkt.es/es/product/-1558216.html\n"
     ]
    },
    {
     "name": "stderr",
     "output_type": "stream",
     "text": [
      "\r",
      " 50%|████████████████████████████████████████▊                                        | 70/139 [14:45<14:54, 12.96s/it]"
     ]
    },
    {
     "name": "stdout",
     "output_type": "stream",
     "text": [
      "['Consolas y videojuegos', 'Consolas', 'Consolas PS5']\n",
      "https://assets.mmsrg.com/isr/166325/c1/-/ASSET_MMS_108416946/fee_325_225_png\n",
      "************************\n",
      "70\n",
      "https://www.mediamarkt.es/es/product/-1544437.html\n"
     ]
    },
    {
     "name": "stderr",
     "output_type": "stream",
     "text": [
      "\r",
      " 51%|█████████████████████████████████████████▎                                       | 71/139 [15:00<15:19, 13.52s/it]"
     ]
    },
    {
     "name": "stdout",
     "output_type": "stream",
     "text": [
      "['Consolas y videojuegos', 'Consolas', 'Consolas PS5']\n",
      "https://assets.mmsrg.com/isr/166325/c1/-/ASSET_MMS_99623635/fee_325_225_png\n",
      "************************\n",
      "71\n",
      "https://www.mediamarkt.es/es/product/-1549105.html\n"
     ]
    },
    {
     "name": "stderr",
     "output_type": "stream",
     "text": [
      "\r",
      " 52%|█████████████████████████████████████████▉                                       | 72/139 [15:10<13:41, 12.25s/it]"
     ]
    },
    {
     "name": "stdout",
     "output_type": "stream",
     "text": [
      "['Consolas y videojuegos', 'Consolas', 'Consolas PS5']\n",
      "https://assets.mmsrg.com/isr/166325/c1/-/ASSET_MMS_102608400/fee_325_225_png\n",
      "************************\n",
      "72\n",
      "https://www.mediamarkt.es/es/product/-1549106.html\n"
     ]
    },
    {
     "name": "stderr",
     "output_type": "stream",
     "text": [
      "\r",
      " 53%|██████████████████████████████████████████▌                                      | 73/139 [15:32<16:44, 15.22s/it]"
     ]
    },
    {
     "name": "stdout",
     "output_type": "stream",
     "text": [
      "['Consolas y videojuegos', 'Consolas', 'Consolas PS5']\n",
      "https://assets.mmsrg.com/isr/166325/c1/-/ASSET_MMS_102611624/fee_325_225_png\n",
      "************************\n",
      "73\n",
      "https://www.mediamarkt.es/es/product/-1545440.html\n"
     ]
    },
    {
     "name": "stderr",
     "output_type": "stream",
     "text": [
      "\r",
      " 53%|███████████████████████████████████████████                                      | 74/139 [15:43<15:14, 14.07s/it]"
     ]
    },
    {
     "name": "stdout",
     "output_type": "stream",
     "text": [
      "['Consolas y videojuegos', 'Consolas', 'Consolas PS5']\n",
      "https://assets.mmsrg.com/isr/166325/c1/-/ASSET_MMS_100410925/fee_325_225_png\n",
      "************************\n",
      "74\n",
      "https://www.mediamarkt.es/es/product/-1553992.html\n"
     ]
    },
    {
     "name": "stderr",
     "output_type": "stream",
     "text": [
      "\r",
      " 54%|███████████████████████████████████████████▋                                     | 75/139 [15:55<14:21, 13.46s/it]"
     ]
    },
    {
     "name": "stdout",
     "output_type": "stream",
     "text": [
      "['Consolas y videojuegos', 'Consolas', 'Consolas PS5']\n",
      "https://assets.mmsrg.com/isr/166325/c1/-/ASSET_MMS_102611624/fee_325_225_png\n",
      "************************\n",
      "75\n",
      "https://www.mediamarkt.es/es/product/-1543827.html\n"
     ]
    },
    {
     "name": "stderr",
     "output_type": "stream",
     "text": [
      "\r",
      " 55%|████████████████████████████████████████████▎                                    | 76/139 [16:18<17:03, 16.25s/it]"
     ]
    },
    {
     "name": "stdout",
     "output_type": "stream",
     "text": [
      "['Consolas y videojuegos', 'Consolas', 'Consolas PS5']\n",
      "https://assets.mmsrg.com/isr/166325/c1/-/ASSET_MMS_100058394/fee_325_225_png\n",
      "************************\n",
      "76\n",
      "https://www.mediamarkt.es/es/product/-1544501.html\n"
     ]
    },
    {
     "name": "stderr",
     "output_type": "stream",
     "text": [
      "\r",
      " 55%|████████████████████████████████████████████▊                                    | 77/139 [16:32<16:08, 15.62s/it]"
     ]
    },
    {
     "name": "stdout",
     "output_type": "stream",
     "text": [
      "['Consolas y videojuegos', 'Consolas', 'Consolas PS5']\n",
      "image not found\n",
      "************************\n",
      "77\n",
      "https://www.mediamarkt.es/es/product/-1555049.html\n"
     ]
    },
    {
     "name": "stderr",
     "output_type": "stream",
     "text": [
      "\r",
      " 56%|█████████████████████████████████████████████▍                                   | 78/139 [16:43<14:25, 14.18s/it]"
     ]
    },
    {
     "name": "stdout",
     "output_type": "stream",
     "text": [
      "['Consolas y videojuegos', 'Consolas', 'Consolas PS5']\n",
      "https://assets.mmsrg.com/isr/166325/c1/-/ASSET_MMS_106576152/fee_325_225_png\n",
      "************************\n",
      "78\n",
      "https://www.mediamarkt.es/es/product/-1540400.html\n"
     ]
    },
    {
     "name": "stderr",
     "output_type": "stream",
     "text": [
      "\r",
      " 57%|██████████████████████████████████████████████                                   | 79/139 [16:58<14:22, 14.37s/it]"
     ]
    },
    {
     "name": "stdout",
     "output_type": "stream",
     "text": [
      "['Consolas y videojuegos', 'Consolas', 'Consolas Nintendo Switch']\n",
      "image not found\n",
      "************************\n",
      "79\n",
      "https://www.mediamarkt.es/es/product/-1433648.html\n"
     ]
    },
    {
     "name": "stderr",
     "output_type": "stream",
     "text": [
      "\r",
      " 58%|██████████████████████████████████████████████▌                                  | 80/139 [17:18<15:59, 16.26s/it]"
     ]
    },
    {
     "name": "stdout",
     "output_type": "stream",
     "text": [
      "['Consolas y videojuegos', 'Accesorios consolas', 'Accesorios Nintendo Switch', 'Fundas y Protectores Nintendo Switch']\n",
      "https://assets.mmsrg.com/isr/166325/c1/-/pixelboxx-mss-79633289/fee_325_225_png\n",
      "************************\n",
      "80\n",
      "https://www.mediamarkt.es/es/product/-1478604.html\n"
     ]
    },
    {
     "name": "stderr",
     "output_type": "stream",
     "text": [
      "\r",
      " 58%|███████████████████████████████████████████████▏                                 | 81/139 [17:31<14:36, 15.12s/it]"
     ]
    },
    {
     "name": "stdout",
     "output_type": "stream",
     "text": [
      "['Consolas y videojuegos', 'Accesorios consolas', 'Accesorios Nintendo Switch', 'Otros accesorios Nintendo Switch']\n",
      "https://assets.mmsrg.com/isr/166325/c1/-/ASSET_MMS_75026204/fee_325_225_png\n",
      "************************\n",
      "81\n",
      "https://www.mediamarkt.es/es/product/-1543916.html\n"
     ]
    },
    {
     "name": "stderr",
     "output_type": "stream",
     "text": [
      "\r",
      " 59%|███████████████████████████████████████████████▊                                 | 82/139 [17:45<14:06, 14.84s/it]"
     ]
    },
    {
     "name": "stdout",
     "output_type": "stream",
     "text": [
      "['Consolas y videojuegos', 'Accesorios consolas', 'Accesorios Nintendo Switch', 'Mandos Nintendo Switch']\n",
      "https://assets.mmsrg.com/isr/166325/c1/-/ASSET_MMS_99148072/fee_325_225_png\n",
      "************************\n",
      "82\n",
      "https://www.mediamarkt.es/es/product/-1519247.html\n"
     ]
    },
    {
     "name": "stderr",
     "output_type": "stream",
     "text": [
      "\r",
      " 60%|████████████████████████████████████████████████▎                                | 83/139 [17:55<12:31, 13.43s/it]"
     ]
    },
    {
     "name": "stdout",
     "output_type": "stream",
     "text": [
      "['Consolas y videojuegos', 'Accesorios consolas', 'Accesorios Nintendo Switch', 'Fundas y Protectores Nintendo Switch']\n",
      "image not found\n",
      "************************\n",
      "83\n",
      "https://www.mediamarkt.es/es/product/-1550779.html\n"
     ]
    },
    {
     "name": "stderr",
     "output_type": "stream",
     "text": [
      "\r",
      " 60%|████████████████████████████████████████████████▉                                | 84/139 [18:06<11:43, 12.79s/it]"
     ]
    },
    {
     "name": "stdout",
     "output_type": "stream",
     "text": [
      "['Consolas y videojuegos', 'Accesorios consolas', 'Accesorios Nintendo Switch', 'Fundas y Protectores Nintendo Switch']\n",
      "https://assets.mmsrg.com/isr/166325/c1/-/ASSET_MMS_103767651/fee_194_131_png\n",
      "************************\n",
      "84\n",
      "https://www.mediamarkt.es/es/product/-1366347.html\n"
     ]
    },
    {
     "name": "stderr",
     "output_type": "stream",
     "text": [
      "\r",
      " 61%|█████████████████████████████████████████████████▌                               | 85/139 [18:16<10:34, 11.75s/it]"
     ]
    },
    {
     "name": "stdout",
     "output_type": "stream",
     "text": [
      "['Outlet y reacondicionados', 'Outlet', 'Consolas y videojuegos']\n",
      "https://assets.mmsrg.com/isr/166325/c1/-/pixelboxx-mss-78695391/fee_325_225_png\n",
      "************************\n",
      "85\n",
      "https://www.mediamarkt.es/es/product/-1517141.html\n"
     ]
    },
    {
     "name": "stderr",
     "output_type": "stream",
     "text": [
      "\r",
      " 62%|██████████████████████████████████████████████████                               | 86/139 [18:27<10:18, 11.68s/it]"
     ]
    },
    {
     "name": "stdout",
     "output_type": "stream",
     "text": [
      "['Consolas y videojuegos', 'Accesorios consolas', 'Accesorios Nintendo Switch', 'Fundas y Protectores Nintendo Switch']\n",
      "https://assets.mmsrg.com/isr/166325/c1/-/ASSET_MMS_88081179/fee_325_225_png\n",
      "************************\n",
      "86\n",
      "https://www.mediamarkt.es/es/product/-1539619.html\n"
     ]
    },
    {
     "name": "stderr",
     "output_type": "stream",
     "text": [
      "\r",
      " 63%|██████████████████████████████████████████████████▋                              | 87/139 [18:40<10:21, 11.95s/it]"
     ]
    },
    {
     "name": "stdout",
     "output_type": "stream",
     "text": [
      "['Consolas y videojuegos', 'Accesorios consolas', 'Accesorios Nintendo Switch', 'Fundas y Protectores Nintendo Switch']\n",
      "https://assets.mmsrg.com/isr/166325/c1/-/ASSET_MMS_98037224/fee_325_225_png\n",
      "************************\n",
      "87\n",
      "https://www.mediamarkt.es/es/product/-1517144.html\n"
     ]
    },
    {
     "name": "stderr",
     "output_type": "stream",
     "text": [
      "\r",
      " 63%|███████████████████████████████████████████████████▎                             | 88/139 [18:54<10:42, 12.60s/it]"
     ]
    },
    {
     "name": "stdout",
     "output_type": "stream",
     "text": [
      "['Consolas y videojuegos', 'Accesorios consolas', 'Accesorios Nintendo Switch', 'Fundas y Protectores Nintendo Switch']\n",
      "https://assets.mmsrg.com/isr/166325/c1/-/ASSET_MMS_88081265/fee_325_225_png\n",
      "************************\n",
      "88\n",
      "https://www.mediamarkt.es/es/product/-1517138.html\n"
     ]
    },
    {
     "name": "stderr",
     "output_type": "stream",
     "text": [
      "\r",
      " 64%|███████████████████████████████████████████████████▊                             | 89/139 [19:09<11:00, 13.20s/it]"
     ]
    },
    {
     "name": "stdout",
     "output_type": "stream",
     "text": [
      "['Outlet y reacondicionados', 'Outlet', 'Consolas y videojuegos']\n",
      "https://assets.mmsrg.com/isr/166325/c1/-/ASSET_MMS_88081140/fee_325_225_png\n",
      "************************\n",
      "89\n",
      "https://www.mediamarkt.es/es/product/-1478606.html\n"
     ]
    },
    {
     "name": "stderr",
     "output_type": "stream",
     "text": [
      "\r",
      " 65%|████████████████████████████████████████████████████▍                            | 90/139 [19:21<10:32, 12.90s/it]"
     ]
    },
    {
     "name": "stdout",
     "output_type": "stream",
     "text": [
      "['Consolas y videojuegos', 'Accesorios consolas', 'Accesorios Nintendo Switch', 'Mandos Nintendo Switch']\n",
      "https://assets.mmsrg.com/isr/166325/c1/-/ASSET_MMS_75026214/fee_325_225_png\n",
      "************************\n",
      "90\n",
      "https://www.mediamarkt.es/es/product/-1539613.html\n"
     ]
    },
    {
     "name": "stderr",
     "output_type": "stream",
     "text": [
      "\r",
      " 65%|█████████████████████████████████████████████████████                            | 91/139 [19:33<10:10, 12.72s/it]"
     ]
    },
    {
     "name": "stdout",
     "output_type": "stream",
     "text": [
      "['Audio y HiFi', 'Auriculares', 'Auriculares gaming']\n",
      "image not found\n",
      "************************\n",
      "91\n",
      "https://www.mediamarkt.es/es/product/-1556534.html\n"
     ]
    },
    {
     "name": "stderr",
     "output_type": "stream",
     "text": [
      "\r",
      " 66%|█████████████████████████████████████████████████████▌                           | 92/139 [19:43<09:18, 11.88s/it]"
     ]
    },
    {
     "name": "stdout",
     "output_type": "stream",
     "text": [
      "['Consolas y videojuegos', 'Próximos lanzamientos juegos y consolas', 'Próximos Lanzamientos Nintendo Switch']\n",
      "https://assets.mmsrg.com/isr/166325/c1/-/ASSET_MMS_108052939/fee_325_225_png\n",
      "************************\n",
      "92\n",
      "https://www.mediamarkt.es/es/product/-1556536.html\n"
     ]
    },
    {
     "name": "stderr",
     "output_type": "stream",
     "text": [
      "\r",
      " 67%|██████████████████████████████████████████████████████▏                          | 93/139 [19:54<08:53, 11.61s/it]"
     ]
    },
    {
     "name": "stdout",
     "output_type": "stream",
     "text": [
      "['Consolas y videojuegos', 'Próximos lanzamientos juegos y consolas', 'Próximos Lanzamientos Nintendo Switch']\n",
      "https://assets.mmsrg.com/isr/166325/c1/-/ASSET_MMS_107301264/fee_325_225_png\n",
      "************************\n",
      "93\n",
      "https://www.mediamarkt.es/es/product/-1517153.html\n"
     ]
    },
    {
     "name": "stderr",
     "output_type": "stream",
     "text": [
      "\r",
      " 68%|██████████████████████████████████████████████████████▊                          | 94/139 [20:05<08:32, 11.39s/it]"
     ]
    },
    {
     "name": "stdout",
     "output_type": "stream",
     "text": [
      "['Consolas y videojuegos', 'Accesorios consolas', 'Accesorios Nintendo Switch', 'Fundas y Protectores Nintendo Switch']\n",
      "image not found\n",
      "************************\n",
      "94\n",
      "https://www.mediamarkt.es/es/product/-1519588.html\n"
     ]
    },
    {
     "name": "stderr",
     "output_type": "stream",
     "text": [
      "\r",
      " 68%|███████████████████████████████████████████████████████▎                         | 95/139 [20:15<08:03, 10.99s/it]"
     ]
    },
    {
     "name": "stdout",
     "output_type": "stream",
     "text": [
      "['Consolas y videojuegos', 'Juegos', 'Juegos Nintendo Switch']\n",
      "https://assets.mmsrg.com/isr/166325/c1/-/ASSET_MMS_88888688/fee_325_225_png\n",
      "************************\n",
      "95\n",
      "https://www.mediamarkt.es/es/product/-95706865.html\n"
     ]
    },
    {
     "name": "stderr",
     "output_type": "stream",
     "text": [
      "\r",
      " 69%|███████████████████████████████████████████████████████▉                         | 96/139 [20:26<07:58, 11.12s/it]"
     ]
    },
    {
     "name": "stdout",
     "output_type": "stream",
     "text": [
      "['Consolas y videojuegos', 'Accesorios consolas', 'Accesorios Nintendo Switch', 'Fundas y Protectores Nintendo Switch']\n",
      "image not found\n",
      "************************\n",
      "96\n",
      "https://www.mediamarkt.es/es/product/-1533775.html\n"
     ]
    },
    {
     "name": "stderr",
     "output_type": "stream",
     "text": [
      "\r",
      " 70%|████████████████████████████████████████████████████████▌                        | 97/139 [20:40<08:17, 11.84s/it]"
     ]
    },
    {
     "name": "stdout",
     "output_type": "stream",
     "text": [
      "['Informática', 'Tablets', 'Tablets Android']\n",
      "https://assets.mmsrg.com/isr/166325/c1/-/ASSET_MMS_94446621/fee_325_225_png\n",
      "************************\n",
      "97\n",
      "https://www.mediamarkt.es/es/product/-1472483.html\n"
     ]
    },
    {
     "name": "stderr",
     "output_type": "stream",
     "text": [
      "\r",
      " 71%|█████████████████████████████████████████████████████████                        | 98/139 [20:53<08:22, 12.25s/it]"
     ]
    },
    {
     "name": "stdout",
     "output_type": "stream",
     "text": [
      "['Audio y HiFi', 'Auriculares', 'Auriculares gaming']\n",
      "https://assets.mmsrg.com/isr/166325/c1/-/ASSET_MMS_83608551/fee_325_225_png\n",
      "************************\n",
      "98\n",
      "https://www.mediamarkt.es/es/product/-1486704.html\n"
     ]
    },
    {
     "name": "stderr",
     "output_type": "stream",
     "text": [
      "\r",
      " 71%|█████████████████████████████████████████████████████████▋                       | 99/139 [21:03<07:46, 11.65s/it]"
     ]
    },
    {
     "name": "stdout",
     "output_type": "stream",
     "text": [
      "['Gaming', 'Accesorios gaming', 'Auriculares gaming']\n",
      "image not found\n",
      "************************\n",
      "99\n",
      "https://www.mediamarkt.es/es/product/-95677704.html\n"
     ]
    },
    {
     "name": "stderr",
     "output_type": "stream",
     "text": [
      "\r",
      " 72%|█████████████████████████████████████████████████████████▌                      | 100/139 [21:14<07:20, 11.29s/it]"
     ]
    },
    {
     "name": "stdout",
     "output_type": "stream",
     "text": [
      "['Consolas y videojuegos', 'Accesorios consolas', 'Accesorios Nintendo Switch', 'Otros accesorios Nintendo Switch']\n",
      "image not found\n",
      "************************\n",
      "100\n",
      "https://www.mediamarkt.es/es/product/-1464061.html\n"
     ]
    },
    {
     "name": "stderr",
     "output_type": "stream",
     "text": [
      "\r",
      " 73%|██████████████████████████████████████████████████████████▏                     | 101/139 [21:25<07:06, 11.24s/it]"
     ]
    },
    {
     "name": "stdout",
     "output_type": "stream",
     "text": [
      "['Consolas y videojuegos', 'Accesorios consolas', 'Accesorios Nintendo Switch', 'Fundas y Protectores Nintendo Switch']\n",
      "https://assets.mmsrg.com/isr/166325/c1/-/pixelboxx-mss-82207794/fee_325_225_png\n",
      "************************\n",
      "101\n",
      "https://www.mediamarkt.es/es/product/-1516489.html\n"
     ]
    },
    {
     "name": "stderr",
     "output_type": "stream",
     "text": [
      "\r",
      " 73%|██████████████████████████████████████████████████████████▋                     | 102/139 [21:35<06:47, 11.00s/it]"
     ]
    },
    {
     "name": "stdout",
     "output_type": "stream",
     "text": [
      "['Outlet y reacondicionados', 'Outlet', 'Consolas y videojuegos']\n",
      "image not found\n",
      "************************\n",
      "102\n",
      "https://www.mediamarkt.es/es/product/-1519587.html\n"
     ]
    },
    {
     "name": "stderr",
     "output_type": "stream",
     "text": [
      "\r",
      " 74%|███████████████████████████████████████████████████████████▎                    | 103/139 [21:44<06:12, 10.36s/it]"
     ]
    },
    {
     "name": "stdout",
     "output_type": "stream",
     "text": [
      "['Consolas y videojuegos', 'Juegos', 'Juegos Nintendo Switch']\n",
      "https://assets.mmsrg.com/isr/166325/c1/-/ASSET_MMS_88888685/fee_325_225_png\n",
      "************************\n",
      "103\n",
      "https://www.mediamarkt.es/es/product/-1526450.html\n"
     ]
    },
    {
     "name": "stderr",
     "output_type": "stream",
     "text": [
      "\r",
      " 75%|███████████████████████████████████████████████████████████▊                    | 104/139 [21:56<06:13, 10.66s/it]"
     ]
    },
    {
     "name": "stdout",
     "output_type": "stream",
     "text": [
      "['Consolas y videojuegos', 'Juegos', 'Juegos Nintendo Switch']\n",
      "https://assets.mmsrg.com/isr/166325/c1/-/ASSET_MMS_91298735/fee_325_225_png\n",
      "************************\n",
      "104\n",
      "https://www.mediamarkt.es/es/product/-94930547.html\n"
     ]
    },
    {
     "name": "stderr",
     "output_type": "stream",
     "text": [
      "\r",
      " 76%|████████████████████████████████████████████████████████████▍                   | 105/139 [22:10<06:45, 11.91s/it]"
     ]
    },
    {
     "name": "stdout",
     "output_type": "stream",
     "text": [
      "['Consolas y videojuegos', 'Juegos', 'Juegos Nintendo Switch']\n",
      "image not found\n",
      "************************\n",
      "105\n",
      "https://www.mediamarkt.es/es/product/-99138991.html\n"
     ]
    },
    {
     "name": "stderr",
     "output_type": "stream",
     "text": [
      "\r",
      " 76%|█████████████████████████████████████████████████████████████                   | 106/139 [22:19<05:58, 10.86s/it]"
     ]
    },
    {
     "name": "stdout",
     "output_type": "stream",
     "text": [
      "['Consolas y videojuegos', 'Juegos', 'Juegos Nintendo Switch']\n",
      "https://assets.mmsrg.com/isr/166325/c1/-/ASSET_MP_99138992/fee_325_225_png\n",
      "************************\n",
      "106\n",
      "https://www.mediamarkt.es/es/product/-95487960.html\n"
     ]
    },
    {
     "name": "stderr",
     "output_type": "stream",
     "text": [
      "\r",
      " 77%|█████████████████████████████████████████████████████████████▌                  | 107/139 [22:25<04:59,  9.35s/it]"
     ]
    },
    {
     "name": "stdout",
     "output_type": "stream",
     "text": [
      "['Consolas y videojuegos', 'Juegos', 'Juegos Nintendo Switch']\n",
      "https://assets.mmsrg.com/isr/166325/c1/-/ASSET_MP_95487961/fee_325_225_png\n",
      "************************\n",
      "107\n",
      "https://www.mediamarkt.es/es/product/-94928911.html\n"
     ]
    },
    {
     "name": "stderr",
     "output_type": "stream",
     "text": [
      "\r",
      " 78%|██████████████████████████████████████████████████████████████▏                 | 108/139 [22:38<05:26, 10.53s/it]"
     ]
    },
    {
     "name": "stdout",
     "output_type": "stream",
     "text": [
      "['Consolas y videojuegos', 'Juegos', 'Juegos Nintendo Switch']\n",
      "image not found\n",
      "************************\n",
      "108\n",
      "https://www.mediamarkt.es/es/product/-1530494.html\n"
     ]
    },
    {
     "name": "stderr",
     "output_type": "stream",
     "text": [
      "\r",
      " 78%|██████████████████████████████████████████████████████████████▋                 | 109/139 [22:52<05:46, 11.55s/it]"
     ]
    },
    {
     "name": "stdout",
     "output_type": "stream",
     "text": [
      "['Audio y HiFi', 'Auriculares', 'Auriculares gaming']\n",
      "https://assets.mmsrg.com/isr/166325/c1/-/ASSET_MMS_93744383/fee_325_225_png\n",
      "************************\n",
      "109\n",
      "https://www.mediamarkt.es/es/product/-1538912.html\n"
     ]
    },
    {
     "name": "stderr",
     "output_type": "stream",
     "text": [
      "\r",
      " 79%|███████████████████████████████████████████████████████████████▎                | 110/139 [23:03<05:28, 11.33s/it]"
     ]
    },
    {
     "name": "stdout",
     "output_type": "stream",
     "text": [
      "['Gaming', 'Cockpits y simuladores', 'Simuladores de conducción']\n",
      "https://assets.mmsrg.com/isr/166325/c1/-/ASSET_MMS_98202789/fee_325_225_png\n",
      "************************\n",
      "110\n",
      "https://www.mediamarkt.es/es/product/-1538914.html\n"
     ]
    },
    {
     "name": "stderr",
     "output_type": "stream",
     "text": [
      "\r",
      " 80%|███████████████████████████████████████████████████████████████▉                | 111/139 [23:18<05:48, 12.44s/it]"
     ]
    },
    {
     "name": "stdout",
     "output_type": "stream",
     "text": [
      "['Gaming', 'Cockpits y simuladores', 'Simuladores de conducción']\n",
      "https://assets.mmsrg.com/isr/166325/c1/-/ASSET_MMS_98202802/fee_325_225_png\n",
      "************************\n",
      "111\n",
      "https://www.mediamarkt.es/es/product/-1467340.html\n"
     ]
    },
    {
     "name": "stderr",
     "output_type": "stream",
     "text": [
      "\r",
      " 81%|████████████████████████████████████████████████████████████████▍               | 112/139 [23:30<05:37, 12.48s/it]"
     ]
    },
    {
     "name": "stdout",
     "output_type": "stream",
     "text": [
      "['Gaming', 'Cockpits y simuladores', 'Volantes PC gaming']\n",
      "https://assets.mmsrg.com/isr/166325/c1/-/ASSET_MMS_71265800/fee_325_225_png\n",
      "************************\n",
      "112\n",
      "https://www.mediamarkt.es/es/product/-1467337.html\n"
     ]
    },
    {
     "name": "stderr",
     "output_type": "stream",
     "text": [
      "\r",
      " 81%|█████████████████████████████████████████████████████████████████               | 113/139 [23:39<04:58, 11.48s/it]"
     ]
    },
    {
     "name": "stdout",
     "output_type": "stream",
     "text": [
      "['Gaming', 'Cockpits y simuladores', 'Volantes PC gaming']\n",
      "https://assets.mmsrg.com/isr/166325/c1/-/ASSET_MMS_71265778/fee_325_225_png\n",
      "************************\n",
      "113\n",
      "https://www.mediamarkt.es/es/product/-1292218.html\n"
     ]
    },
    {
     "name": "stderr",
     "output_type": "stream",
     "text": [
      "\r",
      " 82%|█████████████████████████████████████████████████████████████████▌              | 114/139 [23:53<04:59, 11.99s/it]"
     ]
    },
    {
     "name": "stdout",
     "output_type": "stream",
     "text": [
      "['Gaming', 'Cockpits y simuladores', 'Volantes PC gaming']\n",
      "https://assets.mmsrg.com/isr/166325/c1/-/ASSET_MMS_94100520/fee_325_225_png\n",
      "************************\n",
      "114\n",
      "https://www.mediamarkt.es/es/product/-1555468.html\n"
     ]
    },
    {
     "name": "stderr",
     "output_type": "stream",
     "text": [
      "\r",
      " 83%|██████████████████████████████████████████████████████████████████▏             | 115/139 [24:08<05:11, 12.97s/it]"
     ]
    },
    {
     "name": "stdout",
     "output_type": "stream",
     "text": [
      "['Gaming', 'Cockpits y simuladores', 'Volantes PC gaming']\n",
      "image not found\n",
      "************************\n",
      "115\n",
      "https://www.mediamarkt.es/es/product/-1539201.html\n"
     ]
    },
    {
     "name": "stderr",
     "output_type": "stream",
     "text": [
      "\r",
      " 83%|██████████████████████████████████████████████████████████████████▊             | 116/139 [24:18<04:40, 12.18s/it]"
     ]
    },
    {
     "name": "stdout",
     "output_type": "stream",
     "text": [
      "['Gaming', 'Cockpits y simuladores', 'Volantes PC gaming']\n",
      "https://assets.mmsrg.com/isr/166325/c1/-/ASSET_MMS_98166808/fee_325_225_png\n",
      "************************\n",
      "116\n",
      "https://www.mediamarkt.es/es/product/-1509957.html\n"
     ]
    },
    {
     "name": "stderr",
     "output_type": "stream",
     "text": [
      "\r",
      " 84%|███████████████████████████████████████████████████████████████████▎            | 117/139 [24:30<04:26, 12.13s/it]"
     ]
    },
    {
     "name": "stdout",
     "output_type": "stream",
     "text": [
      "['Gaming', 'Accesorios gaming', 'Auriculares gaming']\n",
      "image not found\n",
      "************************\n",
      "117\n",
      "https://www.mediamarkt.es/es/product/-1462291.html\n"
     ]
    },
    {
     "name": "stderr",
     "output_type": "stream",
     "text": [
      "\r",
      " 85%|███████████████████████████████████████████████████████████████████▉            | 118/139 [24:44<04:23, 12.57s/it]"
     ]
    },
    {
     "name": "stdout",
     "output_type": "stream",
     "text": [
      "['Consolas y videojuegos', 'Accesorios consolas', 'Accesorios Sony PS4', 'Auriculares PS4']\n",
      "https://assets.mmsrg.com/isr/166325/c1/-/ASSET_MMS_69854484/fee_325_225_png\n",
      "************************\n",
      "118\n",
      "https://www.mediamarkt.es/es/product/-1473077.html\n"
     ]
    },
    {
     "name": "stderr",
     "output_type": "stream",
     "text": [
      "\r",
      " 86%|████████████████████████████████████████████████████████████████████▍           | 119/139 [24:58<04:18, 12.90s/it]"
     ]
    },
    {
     "name": "stdout",
     "output_type": "stream",
     "text": [
      "['Consolas y videojuegos', 'Accesorios consolas', 'Accesorios Nintendo Switch', 'Fundas y Protectores Nintendo Switch']\n",
      "image not found\n",
      "************************\n",
      "119\n",
      "https://www.mediamarkt.es/es/product/-102136433.html\n"
     ]
    },
    {
     "name": "stderr",
     "output_type": "stream",
     "text": [
      "\r",
      " 86%|█████████████████████████████████████████████████████████████████████           | 120/139 [25:07<03:46, 11.93s/it]"
     ]
    },
    {
     "name": "stdout",
     "output_type": "stream",
     "text": [
      "['Consolas y videojuegos', 'Accesorios consolas', 'Accesorios Nintendo Switch', 'Fundas y Protectores Nintendo Switch']\n",
      "image not found\n",
      "************************\n",
      "120\n",
      "https://www.mediamarkt.es/es/product/-102136213.html\n"
     ]
    },
    {
     "name": "stderr",
     "output_type": "stream",
     "text": [
      "\r",
      " 87%|█████████████████████████████████████████████████████████████████████▋          | 121/139 [25:15<03:13, 10.77s/it]"
     ]
    },
    {
     "name": "stdout",
     "output_type": "stream",
     "text": [
      "['Consolas y videojuegos', 'Accesorios consolas', 'Accesorios Nintendo Switch', 'Fundas y Protectores Nintendo Switch']\n",
      "image not found\n",
      "************************\n",
      "121\n",
      "https://www.mediamarkt.es/es/product/-1487616.html\n"
     ]
    },
    {
     "name": "stderr",
     "output_type": "stream",
     "text": [
      "\r",
      " 88%|██████████████████████████████████████████████████████████████████████▏         | 122/139 [25:26<03:04, 10.83s/it]"
     ]
    },
    {
     "name": "stdout",
     "output_type": "stream",
     "text": [
      "['Consolas y videojuegos', 'Consolas', 'Consolas Xbox Series X y S']\n",
      "https://assets.mmsrg.com/isr/166325/c1/-/ASSET_MMS_89726540/fee_325_225_png\n",
      "************************\n",
      "122\n",
      "https://www.mediamarkt.es/es/product/-1546849.html\n"
     ]
    },
    {
     "name": "stderr",
     "output_type": "stream",
     "text": [
      "\r",
      " 88%|██████████████████████████████████████████████████████████████████████▊         | 123/139 [25:39<03:01, 11.36s/it]"
     ]
    },
    {
     "name": "stdout",
     "output_type": "stream",
     "text": [
      "['Consolas y videojuegos', 'Consolas', 'Consolas Xbox Series X y S']\n",
      "https://assets.mmsrg.com/isr/166325/c1/-/ASSET_MMS_101913427/fee_325_225_png\n",
      "************************\n",
      "123\n",
      "https://www.mediamarkt.es/es/product/-1551573.html\n"
     ]
    },
    {
     "name": "stderr",
     "output_type": "stream",
     "text": [
      "\r",
      " 89%|███████████████████████████████████████████████████████████████████████▎        | 124/139 [25:49<02:45, 11.02s/it]"
     ]
    },
    {
     "name": "stdout",
     "output_type": "stream",
     "text": [
      "['Consolas y videojuegos', 'Consolas', 'Consolas Xbox Series X y S']\n",
      "image not found\n",
      "************************\n",
      "124\n",
      "https://www.mediamarkt.es/es/product/-1536610.html\n"
     ]
    },
    {
     "name": "stderr",
     "output_type": "stream",
     "text": [
      "\r",
      " 90%|███████████████████████████████████████████████████████████████████████▉        | 125/139 [26:02<02:42, 11.61s/it]"
     ]
    },
    {
     "name": "stdout",
     "output_type": "stream",
     "text": [
      "['Consolas y videojuegos', 'Juegos', 'Juegos Xbox Series X y S']\n",
      "https://assets.mmsrg.com/isr/166325/c1/-/ASSET_MMS_95519603/fee_325_225_png\n",
      "************************\n",
      "125\n",
      "https://www.mediamarkt.es/es/product/-1488467.html\n"
     ]
    },
    {
     "name": "stderr",
     "output_type": "stream",
     "text": [
      "\r",
      " 91%|████████████████████████████████████████████████████████████████████████▌       | 126/139 [26:16<02:38, 12.17s/it]"
     ]
    },
    {
     "name": "stdout",
     "output_type": "stream",
     "text": [
      "['Consolas y videojuegos', 'Accesorios consolas', 'Accesorios Xbox Series X y S', 'Cables y adaptadores Xbox Series X y S']\n",
      "https://assets.mmsrg.com/isr/166325/c1/-/ASSET_MMS_78373316/fee_325_225_png\n",
      "************************\n",
      "126\n",
      "https://www.mediamarkt.es/es/product/-1547141.html\n"
     ]
    },
    {
     "name": "stderr",
     "output_type": "stream",
     "text": [
      "\r",
      " 91%|█████████████████████████████████████████████████████████████████████████       | 127/139 [26:26<02:18, 11.54s/it]"
     ]
    },
    {
     "name": "stdout",
     "output_type": "stream",
     "text": [
      "['Consolas y videojuegos', 'Próximos lanzamientos juegos y consolas', 'Próximos Lanzamientos Xbox Series X y S']\n",
      "https://assets.mmsrg.com/isr/166325/c1/-/ASSET_MMS_101562022/fee_325_225_png\n",
      "************************\n",
      "127\n",
      "https://www.mediamarkt.es/es/product/-1543870.html\n"
     ]
    },
    {
     "name": "stderr",
     "output_type": "stream",
     "text": [
      "\r",
      " 92%|█████████████████████████████████████████████████████████████████████████▋      | 128/139 [26:47<02:38, 14.37s/it]"
     ]
    },
    {
     "name": "stdout",
     "output_type": "stream",
     "text": [
      "['Consolas y videojuegos', 'Juegos', 'Juegos Xbox Series X y S']\n",
      "image not found\n",
      "************************\n",
      "128\n",
      "https://www.mediamarkt.es/es/product/-1510266.html\n"
     ]
    },
    {
     "name": "stderr",
     "output_type": "stream",
     "text": [
      "\r",
      " 93%|██████████████████████████████████████████████████████████████████████████▏     | 129/139 [26:57<02:12, 13.27s/it]"
     ]
    },
    {
     "name": "stdout",
     "output_type": "stream",
     "text": [
      "['Consolas y videojuegos', 'Juegos', 'Juegos Xbox Series X y S']\n",
      "https://assets.mmsrg.com/isr/166325/c1/-/ASSET_MMS_85685956/fee_325_225_png\n",
      "************************\n",
      "129\n",
      "https://www.mediamarkt.es/es/product/-1548282.html\n"
     ]
    },
    {
     "name": "stderr",
     "output_type": "stream",
     "text": [
      "\r",
      " 94%|██████████████████████████████████████████████████████████████████████████▊     | 130/139 [27:09<01:54, 12.69s/it]"
     ]
    },
    {
     "name": "stdout",
     "output_type": "stream",
     "text": [
      "['Consolas y videojuegos', 'Juegos', 'Juegos Xbox Series X y S']\n",
      "https://assets.mmsrg.com/isr/166325/c1/-/ASSET_MMS_102071280/fee_325_225_png\n",
      "************************\n",
      "130\n",
      "https://www.mediamarkt.es/es/product/-1457583.html\n"
     ]
    },
    {
     "name": "stderr",
     "output_type": "stream",
     "text": [
      "\r",
      " 94%|███████████████████████████████████████████████████████████████████████████▍    | 131/139 [27:21<01:39, 12.46s/it]"
     ]
    },
    {
     "name": "stdout",
     "output_type": "stream",
     "text": [
      "['Consolas y videojuegos', 'Juegos', 'Juegos Xbox One']\n",
      "https://assets.mmsrg.com/isr/166325/c1/-/ASSET_MMS_71352065/fee_325_225_png\n",
      "************************\n",
      "131\n",
      "https://www.mediamarkt.es/es/product/-1510263.html\n"
     ]
    },
    {
     "name": "stderr",
     "output_type": "stream",
     "text": [
      "\r",
      " 95%|███████████████████████████████████████████████████████████████████████████▉    | 132/139 [27:32<01:24, 12.05s/it]"
     ]
    },
    {
     "name": "stdout",
     "output_type": "stream",
     "text": [
      "['Consolas y videojuegos', 'Juegos', 'Juegos Xbox Series X y S']\n",
      "https://assets.mmsrg.com/isr/166325/c1/-/ASSET_MMS_85685950/fee_325_225_png\n",
      "************************\n",
      "132\n",
      "https://www.mediamarkt.es/es/product/-1517282.html\n"
     ]
    },
    {
     "name": "stderr",
     "output_type": "stream",
     "text": [
      "\r",
      " 96%|████████████████████████████████████████████████████████████████████████████▌   | 133/139 [27:42<01:09, 11.62s/it]"
     ]
    },
    {
     "name": "stdout",
     "output_type": "stream",
     "text": [
      "['Consolas y videojuegos', 'Juegos', 'Juegos Xbox Series X y S']\n",
      "https://assets.mmsrg.com/isr/166325/c1/-/ASSET_MMS_87225735/fee_325_225_png\n",
      "************************\n",
      "133\n",
      "https://www.mediamarkt.es/es/product/-1556638.html\n"
     ]
    },
    {
     "name": "stderr",
     "output_type": "stream",
     "text": [
      "\r",
      " 96%|█████████████████████████████████████████████████████████████████████████████   | 134/139 [27:53<00:56, 11.34s/it]"
     ]
    },
    {
     "name": "stdout",
     "output_type": "stream",
     "text": [
      "['Consolas y videojuegos', 'Consolas', 'Consolas Xbox Series X y S']\n",
      "https://assets.mmsrg.com/isr/166325/c1/-/ASSET_MMS_107470242/fee_325_225_png\n",
      "************************\n",
      "134\n",
      "https://www.mediamarkt.es/es/product/-1468216.html\n"
     ]
    },
    {
     "name": "stderr",
     "output_type": "stream",
     "text": [
      "\r",
      " 97%|█████████████████████████████████████████████████████████████████████████████▋  | 135/139 [28:08<00:49, 12.34s/it]"
     ]
    },
    {
     "name": "stdout",
     "output_type": "stream",
     "text": [
      "['Accesorios de informática', 'Almacenamiento', 'Discos duros externos']\n",
      "image not found\n",
      "************************\n",
      "135\n",
      "https://www.mediamarkt.es/es/product/-1520256.html\n"
     ]
    },
    {
     "name": "stderr",
     "output_type": "stream",
     "text": [
      "\r",
      " 98%|██████████████████████████████████████████████████████████████████████████████▎ | 136/139 [28:19<00:36, 12.08s/it]"
     ]
    },
    {
     "name": "stdout",
     "output_type": "stream",
     "text": [
      "['Accesorios de informática', 'Almacenamiento', 'Discos duros externos']\n",
      "image not found\n",
      "************************\n",
      "136\n",
      "https://www.mediamarkt.es/es/product/-1525870.html\n"
     ]
    },
    {
     "name": "stderr",
     "output_type": "stream",
     "text": [
      "\r",
      " 99%|██████████████████████████████████████████████████████████████████████████████▊ | 137/139 [28:30<00:23, 11.75s/it]"
     ]
    },
    {
     "name": "stdout",
     "output_type": "stream",
     "text": [
      "['Accesorios de informática', 'Almacenamiento', 'Discos duros externos']\n",
      "image not found\n",
      "************************\n",
      "137\n",
      "https://www.mediamarkt.es/es/product/-1525871.html\n"
     ]
    },
    {
     "name": "stderr",
     "output_type": "stream",
     "text": [
      "\r",
      " 99%|███████████████████████████████████████████████████████████████████████████████▍| 138/139 [28:42<00:11, 11.92s/it]"
     ]
    },
    {
     "name": "stdout",
     "output_type": "stream",
     "text": [
      "['Accesorios de informática', 'Almacenamiento', 'Discos duros externos']\n",
      "image not found\n",
      "************************\n",
      "138\n",
      "https://www.mediamarkt.es/es/product/-1557296.html\n"
     ]
    },
    {
     "name": "stderr",
     "output_type": "stream",
     "text": [
      "100%|████████████████████████████████████████████████████████████████████████████████| 139/139 [28:55<00:00, 12.49s/it]"
     ]
    },
    {
     "name": "stdout",
     "output_type": "stream",
     "text": [
      "['Gaming', 'Accesorios gaming', 'Gamepads']\n",
      "image not found\n"
     ]
    },
    {
     "name": "stderr",
     "output_type": "stream",
     "text": [
      "\n"
     ]
    }
   ],
   "source": [
    "for i in tqdm(range(0,len(asinlist))):\n",
    "    sku=asinlist[i]\n",
    "    url=\"https://www.mediamarkt.es/es/product/-{}.html\".format(sku)\n",
    "    \n",
    "    print('************************')\n",
    "    print(i)\n",
    "    print(url)\n",
    "    driver.get(url)\n",
    "    first_image=''\n",
    "    bs=BeautifulSoup(driver.page_source,'html.parser')\n",
    "    cat=[]\n",
    "    try:\n",
    "        element = driver.find_elements(By.XPATH, \"//ol[@class='Breadcrumb-styled__StyledList-sc-57676b39-1 cXCHDb']//li\")\n",
    "        cat=[element[e].text for e in range(1,len(element))] \n",
    "        print(cat)\n",
    "    except:\n",
    "         print('cat not  found')\n",
    "    try:\n",
    "        image = bs.find('li',class_=\"sc-hAQmFe iGozss\")\n",
    "        first_image=image.find('img').get('src')\n",
    "        print(first_image)\n",
    "    except:\n",
    "        print('image not found')"
   ]
  },
  {
   "cell_type": "code",
   "execution_count": 22,
   "id": "1e7f70d1",
   "metadata": {},
   "outputs": [
    {
     "data": {
      "text/html": [
       "<div>\n",
       "<style scoped>\n",
       "    .dataframe tbody tr th:only-of-type {\n",
       "        vertical-align: middle;\n",
       "    }\n",
       "\n",
       "    .dataframe tbody tr th {\n",
       "        vertical-align: top;\n",
       "    }\n",
       "\n",
       "    .dataframe thead th {\n",
       "        text-align: right;\n",
       "    }\n",
       "</style>\n",
       "<table border=\"1\" class=\"dataframe\">\n",
       "  <thead>\n",
       "    <tr style=\"text-align: right;\">\n",
       "      <th></th>\n",
       "      <th>channel_sku_id</th>\n",
       "      <th>categories</th>\n",
       "      <th>seller_info</th>\n",
       "      <th>first_image</th>\n",
       "    </tr>\n",
       "  </thead>\n",
       "  <tbody>\n",
       "  </tbody>\n",
       "</table>\n",
       "</div>"
      ],
      "text/plain": [
       "Empty DataFrame\n",
       "Columns: [channel_sku_id, categories, seller_info, first_image]\n",
       "Index: []"
      ]
     },
     "execution_count": 22,
     "metadata": {},
     "output_type": "execute_result"
    }
   ],
   "source": [
    "df"
   ]
  },
  {
   "cell_type": "code",
   "execution_count": null,
   "id": "f1957a49",
   "metadata": {},
   "outputs": [],
   "source": [
    "final1=pd.merge(rawdf1,df,left_on='sku', right_on='channel_sku_id', how= 'right')\n",
    "final=final1[['sku','title','brand','categories','first_image']]"
   ]
  },
  {
   "cell_type": "code",
   "execution_count": null,
   "id": "ce926fb0",
   "metadata": {},
   "outputs": [],
   "source": [
    "final"
   ]
  },
  {
   "cell_type": "code",
   "execution_count": null,
   "id": "607a30a6",
   "metadata": {},
   "outputs": [],
   "source": [
    "final.to_excel(file)"
   ]
  },
  {
   "cell_type": "code",
   "execution_count": null,
   "id": "03da6eaf",
   "metadata": {},
   "outputs": [],
   "source": [
    "email_user = 'alerts@1digitalstack.ai'\n",
    "email_password = ''\n",
    "email_send = ['ghansham.pindoriya@1digitalstack.ai','karan.kumar@1digitalstack.ai','arihant.singh@1digitalstack.ai','sambhav.jain@1digitalstack.ai','ankur.dwivedi@1digitalstack.ai','kinshu@1digitalstack.ai']\n",
    "\n",
    "subject = file\n",
    "msg = MIMEMultipart()\n",
    "msg['From'] = email_user\n",
    "#msg['From'] = \"'Abhishek' <{email_user}>\"\n",
    "msg['To'] = ', '.join(email_send)\n",
    "msg['Subject'] = subject\n",
    "\n",
    "body = 'Hi,\\n\\nPFA of today''s mapping request.Please reply as done as you pick this job.'\n",
    "msg.attach(MIMEText(body,'plain'))\n",
    "\n",
    "filename=[file]\n",
    "\n",
    "for file in filename:\n",
    "    attachment  =open(file,'rb')\n",
    "    part = MIMEBase('application','octet-stream')\n",
    "    part.set_payload((attachment).read())\n",
    "    encoders.encode_base64(part)\n",
    "    part.add_header('Content-Disposition',\"attachment; filename= \"+file)\n",
    "    msg.attach(part)\n",
    "    text = msg.as_string()\n",
    "\n",
    "server = smtplib.SMTP('1digitalstack.com',25)\n",
    "#server.login(email_user,email_password)\n",
    "\n",
    "server.sendmail(email_user,email_send,text)\n",
    "server.quit()"
   ]
  }
 ],
 "metadata": {
  "kernelspec": {
   "display_name": "Python 3 (ipykernel)",
   "language": "python",
   "name": "python3"
  },
  "language_info": {
   "codemirror_mode": {
    "name": "ipython",
    "version": 3
   },
   "file_extension": ".py",
   "mimetype": "text/x-python",
   "name": "python",
   "nbconvert_exporter": "python",
   "pygments_lexer": "ipython3",
   "version": "3.10.9"
  }
 },
 "nbformat": 4,
 "nbformat_minor": 5
}
