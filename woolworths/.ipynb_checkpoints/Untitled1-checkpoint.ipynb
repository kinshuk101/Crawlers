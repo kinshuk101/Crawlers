{
 "cells": [
  {
   "cell_type": "code",
   "execution_count": 1,
   "id": "25687290",
   "metadata": {},
   "outputs": [],
   "source": [
    "#using keystone id"
   ]
  },
  {
   "cell_type": "code",
   "execution_count": 1,
   "id": "7004f9d9",
   "metadata": {},
   "outputs": [],
   "source": [
    "import pandas as pd\n",
    "import psycopg2\n",
    "import numpy as np\n",
    "\n",
    "\n",
    "\n",
    "from selenium import webdriver\n",
    "from selenium.webdriver.common.by import By\n",
    "import requests\n",
    "from selenium.webdriver.support.ui import WebDriverWait\n",
    "import selenium.webdriver.support.expected_conditions as EC\n",
    "from selenium.webdriver.chrome.options import Options\n",
    "from selenium.webdriver.chrome.service import Service\n",
    "\n",
    "\n",
    "\n",
    "from tqdm import tqdm\n",
    "tqdm.pandas()\n",
    "import time\n",
    "\n",
    "\n",
    "\n",
    "from bs4 import BeautifulSoup\n",
    "import re\n",
    "\n",
    "import smtplib\n",
    "from email.mime.text import MIMEText\n",
    "from email.mime.multipart import MIMEMultipart\n",
    "from email.mime.base import MIMEBase\n",
    "from email import encoders\n"
   ]
  },
  {
   "cell_type": "code",
   "execution_count": 10,
   "id": "90600585",
   "metadata": {},
   "outputs": [],
   "source": [
    "s = Service(\"../chromedriver_win32/chromedriver.exe\")"
   ]
  },
  {
   "cell_type": "code",
   "execution_count": 11,
   "id": "55cc2e8e",
   "metadata": {},
   "outputs": [
    {
     "name": "stdout",
     "output_type": "stream",
     "text": [
      "ChromeDriver version: 114.0.5735.90 (386bc09e8f4f2e025eddae123f36f6263096ae49-refs/branch-heads/5735@{#1052})\n"
     ]
    }
   ],
   "source": [
    "chrome_opt=Options()\n",
    "chrome_opt.add_argument(\"--incognito\")\n",
    "driver = webdriver.Chrome(service=s,options=chrome_opt)\n",
    "capabilities = driver.capabilities\n",
    "chrome_driver_version = capabilities['chrome']['chromedriverVersion']\n",
    "\n",
    "# Print the ChromeDriver version\n",
    "print(\"ChromeDriver version:\", chrome_driver_version)\n"
   ]
  },
  {
   "cell_type": "code",
   "execution_count": 2,
   "id": "17a4776d",
   "metadata": {},
   "outputs": [
    {
     "name": "stdout",
     "output_type": "stream",
     "text": [
      "{'user': 'postgres', 'channel_binding': 'prefer', 'dbname': 'postgres', 'host': '1.pgsql.db.1digitalstack.com', 'port': '5432', 'options': '', 'sslmode': 'prefer', 'sslcompression': '0', 'sslsni': '1', 'ssl_min_protocol_version': 'TLSv1.2', 'gssencmode': 'disable', 'krbsrvname': 'postgres', 'target_session_attrs': 'any'} \n",
      "\n",
      "{'user': 'postgres', 'channel_binding': 'prefer', 'dbname': 'postgres', 'host': '2.pgsql.db.1digitalstack.com', 'port': '5432', 'options': '', 'sslmode': 'prefer', 'sslcompression': '0', 'sslsni': '1', 'ssl_min_protocol_version': 'TLSv1.2', 'gssencmode': 'disable', 'krbsrvname': 'postgres', 'target_session_attrs': 'any'} \n",
      "\n"
     ]
    }
   ],
   "source": [
    "class postgres_conn:\n",
    "    def getConn(self):\n",
    "        try:\n",
    "            connection = psycopg2.connect(user='postgres',\n",
    "                                          password='postgres_007',\n",
    "                                          host=\"1.pgsql.db.1digitalstack.com\",\n",
    "                                          port='5432',\n",
    "                                          database='postgres')\n",
    "\n",
    "            cursor = connection.cursor()\n",
    "            # Print PostgreSQL Connection properties\n",
    "            print(connection.get_dsn_parameters(), \"\\n\")\n",
    "\n",
    "            # Print PostgreSQL version\n",
    "            return cursor, connection\n",
    "\n",
    "        except (Exception, psycopg2.Error) as error:\n",
    "            print(\"Error while connecting to PostgreSQL\", error)\n",
    "            return error, error\n",
    "    def getConn2(self):\n",
    "        try:\n",
    "            connection = psycopg2.connect(user='postgres',\n",
    "                                          password='reporting_007',\n",
    "                                          host=\"2.pgsql.db.1digitalstack.com\",\n",
    "                                          port='5432',\n",
    "                                          database='postgres')\n",
    "\n",
    "            cursor = connection.cursor()\n",
    "            # Print PostgreSQL Connection properties\n",
    "            print(connection.get_dsn_parameters(), \"\\n\")\n",
    "\n",
    "            # Print PostgreSQL version\n",
    "            return cursor, connection\n",
    "\n",
    "        except (Exception, psycopg2.Error) as error:\n",
    "            print(\"Error while connecting to PostgreSQL\", error)\n",
    "            return error, error\n",
    "\n",
    "\n",
    "    def close_connection(self, cursor, connection):\n",
    "        # closing database connection.\n",
    "        if(connection):\n",
    "            cursor.close()\n",
    "            connection.close()\n",
    "            print(\"PostgreSQL connection is closed\")\n",
    "            \n",
    "pg = postgres_conn()\n",
    "conn = pg.getConn()\n",
    "conn2 = pg.getConn2()"
   ]
  },
  {
   "cell_type": "code",
   "execution_count": 3,
   "id": "576714f1",
   "metadata": {},
   "outputs": [
    {
     "name": "stdout",
     "output_type": "stream",
     "text": [
      "Enter keystone ids with comma.64a439c13fd11b02cf3987e8\n",
      " Enter no of days for which data needs brand mapping.\n",
      "6\n"
     ]
    },
    {
     "data": {
      "text/plain": [
       "('64a439c13fd11b02cf3987e8', '')"
      ]
     },
     "execution_count": 3,
     "metadata": {},
     "output_type": "execute_result"
    }
   ],
   "source": [
    "job_id=input(\"Enter keystone ids with comma.\").split(\",\")\n",
    "days=input(\" Enter no of days for which data needs brand mapping.\\n\")\n",
    "job_id.append(\"\")\n",
    "tuple(job_id)\n",
    "\n",
    "#64ad5178b732b6c8d30ed4fa,64a7aef292a955755975d804,64a7ab5792a955755975d6a0"
   ]
  },
  {
   "cell_type": "code",
   "execution_count": 4,
   "id": "4cb8c2dd",
   "metadata": {},
   "outputs": [
    {
     "name": "stderr",
     "output_type": "stream",
     "text": [
      "C:\\Users\\Administrator\\AppData\\Local\\Temp\\2\\ipykernel_142364\\2162843895.py:6: UserWarning: pandas only supports SQLAlchemy connectable (engine/connection) or database string URI or sqlite3 DBAPI2 connection. Other DBAPI2 objects are not tested. Please consider using SQLAlchemy.\n",
      "  serp_details = pd.read_sql_query(query, conn[1])\n"
     ]
    }
   ],
   "source": [
    "query = f\"\"\"\n",
    "select brand,title,sku,job_name,channel_id\n",
    "from ready.serp_details smd join ready.serp_mongo_details m on m.serp_mongo_id=smd.serp_mongo_id\n",
    "where smd.crawl_date > now() - interval '{days} day' and keystone_job_id in {tuple(job_id)}\n",
    "\"\"\"\n",
    "serp_details = pd.read_sql_query(query, conn[1])"
   ]
  },
  {
   "cell_type": "code",
   "execution_count": 5,
   "id": "04bfd8fe",
   "metadata": {},
   "outputs": [
    {
     "data": {
      "text/html": [
       "<div>\n",
       "<style scoped>\n",
       "    .dataframe tbody tr th:only-of-type {\n",
       "        vertical-align: middle;\n",
       "    }\n",
       "\n",
       "    .dataframe tbody tr th {\n",
       "        vertical-align: top;\n",
       "    }\n",
       "\n",
       "    .dataframe thead th {\n",
       "        text-align: right;\n",
       "    }\n",
       "</style>\n",
       "<table border=\"1\" class=\"dataframe\">\n",
       "  <thead>\n",
       "    <tr style=\"text-align: right;\">\n",
       "      <th></th>\n",
       "      <th>brand</th>\n",
       "      <th>title</th>\n",
       "      <th>sku</th>\n",
       "      <th>job_name</th>\n",
       "      <th>channel_id</th>\n",
       "    </tr>\n",
       "  </thead>\n",
       "  <tbody>\n",
       "    <tr>\n",
       "      <th>0</th>\n",
       "      <td>Aberlour</td>\n",
       "      <td>Aberlour Cask Whisky 12 Year Old 700ml</td>\n",
       "      <td>792092</td>\n",
       "      <td>537 woolworths serp job</td>\n",
       "      <td>48</td>\n",
       "    </tr>\n",
       "    <tr>\n",
       "      <th>1</th>\n",
       "      <td>Chivas Regal</td>\n",
       "      <td>Chivas Regal 18 Year Old Scotch Whisky Gold Si...</td>\n",
       "      <td>384924</td>\n",
       "      <td>537 woolworths serp job</td>\n",
       "      <td>48</td>\n",
       "    </tr>\n",
       "    <tr>\n",
       "      <th>2</th>\n",
       "      <td>Dimple</td>\n",
       "      <td>Dimple Scotch Whisky 12 Years Old 700ml</td>\n",
       "      <td>907528</td>\n",
       "      <td>537 woolworths serp job</td>\n",
       "      <td>48</td>\n",
       "    </tr>\n",
       "    <tr>\n",
       "      <th>3</th>\n",
       "      <td>Dimple</td>\n",
       "      <td>Dimple Scotch Whisky 15 Years Old 700ml</td>\n",
       "      <td>93685</td>\n",
       "      <td>537 woolworths serp job</td>\n",
       "      <td>48</td>\n",
       "    </tr>\n",
       "    <tr>\n",
       "      <th>4</th>\n",
       "      <td>MDI</td>\n",
       "      <td>MDI Axe Warrior Target Throw Game</td>\n",
       "      <td>1074386756</td>\n",
       "      <td>537 woolworths serp job</td>\n",
       "      <td>48</td>\n",
       "    </tr>\n",
       "    <tr>\n",
       "      <th>...</th>\n",
       "      <td>...</td>\n",
       "      <td>...</td>\n",
       "      <td>...</td>\n",
       "      <td>...</td>\n",
       "      <td>...</td>\n",
       "    </tr>\n",
       "    <tr>\n",
       "      <th>176</th>\n",
       "      <td>Aberlour</td>\n",
       "      <td>Aberlour Cask Whisky 12 Year Old 700ml</td>\n",
       "      <td>792092</td>\n",
       "      <td>537 woolworths serp job</td>\n",
       "      <td>48</td>\n",
       "    </tr>\n",
       "    <tr>\n",
       "      <th>177</th>\n",
       "      <td>Finnlaigh</td>\n",
       "      <td>Finnlaigh Irish Whisky 700ml</td>\n",
       "      <td>360622</td>\n",
       "      <td>537 woolworths serp job</td>\n",
       "      <td>48</td>\n",
       "    </tr>\n",
       "    <tr>\n",
       "      <th>178</th>\n",
       "      <td>The Glenlivet</td>\n",
       "      <td>The Glenlivet Scotch 12 Year Old 12 Year Old 7...</td>\n",
       "      <td>93651</td>\n",
       "      <td>537 woolworths serp job</td>\n",
       "      <td>48</td>\n",
       "    </tr>\n",
       "    <tr>\n",
       "      <th>179</th>\n",
       "      <td>Glen Grant</td>\n",
       "      <td>Glen Grant Arboralis Single Malt Scotch Whisky...</td>\n",
       "      <td>90171</td>\n",
       "      <td>537 woolworths serp job</td>\n",
       "      <td>48</td>\n",
       "    </tr>\n",
       "    <tr>\n",
       "      <th>180</th>\n",
       "      <td>Chivas Regal</td>\n",
       "      <td>Chivas Regal 18 Year Old Scotch Whisky Gold Si...</td>\n",
       "      <td>384924</td>\n",
       "      <td>537 woolworths serp job</td>\n",
       "      <td>48</td>\n",
       "    </tr>\n",
       "  </tbody>\n",
       "</table>\n",
       "<p>181 rows × 5 columns</p>\n",
       "</div>"
      ],
      "text/plain": [
       "             brand                                              title  \\\n",
       "0         Aberlour             Aberlour Cask Whisky 12 Year Old 700ml   \n",
       "1     Chivas Regal  Chivas Regal 18 Year Old Scotch Whisky Gold Si...   \n",
       "2           Dimple            Dimple Scotch Whisky 12 Years Old 700ml   \n",
       "3           Dimple            Dimple Scotch Whisky 15 Years Old 700ml   \n",
       "4              MDI                  MDI Axe Warrior Target Throw Game   \n",
       "..             ...                                                ...   \n",
       "176       Aberlour             Aberlour Cask Whisky 12 Year Old 700ml   \n",
       "177      Finnlaigh                       Finnlaigh Irish Whisky 700ml   \n",
       "178  The Glenlivet  The Glenlivet Scotch 12 Year Old 12 Year Old 7...   \n",
       "179     Glen Grant  Glen Grant Arboralis Single Malt Scotch Whisky...   \n",
       "180   Chivas Regal  Chivas Regal 18 Year Old Scotch Whisky Gold Si...   \n",
       "\n",
       "            sku                 job_name  channel_id  \n",
       "0        792092  537 woolworths serp job          48  \n",
       "1        384924  537 woolworths serp job          48  \n",
       "2        907528  537 woolworths serp job          48  \n",
       "3         93685  537 woolworths serp job          48  \n",
       "4    1074386756  537 woolworths serp job          48  \n",
       "..          ...                      ...         ...  \n",
       "176      792092  537 woolworths serp job          48  \n",
       "177      360622  537 woolworths serp job          48  \n",
       "178       93651  537 woolworths serp job          48  \n",
       "179       90171  537 woolworths serp job          48  \n",
       "180      384924  537 woolworths serp job          48  \n",
       "\n",
       "[181 rows x 5 columns]"
      ]
     },
     "execution_count": 5,
     "metadata": {},
     "output_type": "execute_result"
    }
   ],
   "source": [
    "serp_details"
   ]
  },
  {
   "cell_type": "code",
   "execution_count": 8,
   "id": "21159600",
   "metadata": {},
   "outputs": [
    {
     "data": {
      "text/html": [
       "<div>\n",
       "<style scoped>\n",
       "    .dataframe tbody tr th:only-of-type {\n",
       "        vertical-align: middle;\n",
       "    }\n",
       "\n",
       "    .dataframe tbody tr th {\n",
       "        vertical-align: top;\n",
       "    }\n",
       "\n",
       "    .dataframe thead th {\n",
       "        text-align: right;\n",
       "    }\n",
       "</style>\n",
       "<table border=\"1\" class=\"dataframe\">\n",
       "  <thead>\n",
       "    <tr style=\"text-align: right;\">\n",
       "      <th></th>\n",
       "      <th>brand</th>\n",
       "      <th>title</th>\n",
       "      <th>sku</th>\n",
       "      <th>job_name</th>\n",
       "      <th>channel_id</th>\n",
       "      <th>categories</th>\n",
       "      <th>seller_info</th>\n",
       "    </tr>\n",
       "  </thead>\n",
       "  <tbody>\n",
       "    <tr>\n",
       "      <th>0</th>\n",
       "      <td>Aberlour</td>\n",
       "      <td>Aberlour Cask Whisky 12 Year Old 700ml</td>\n",
       "      <td>792092</td>\n",
       "      <td>537 woolworths serp job</td>\n",
       "      <td>48</td>\n",
       "      <td></td>\n",
       "      <td></td>\n",
       "    </tr>\n",
       "    <tr>\n",
       "      <th>1</th>\n",
       "      <td>Chivas Regal</td>\n",
       "      <td>Chivas Regal 18 Year Old Scotch Whisky Gold Si...</td>\n",
       "      <td>384924</td>\n",
       "      <td>537 woolworths serp job</td>\n",
       "      <td>48</td>\n",
       "      <td></td>\n",
       "      <td></td>\n",
       "    </tr>\n",
       "    <tr>\n",
       "      <th>2</th>\n",
       "      <td>Dimple</td>\n",
       "      <td>Dimple Scotch Whisky 12 Years Old 700ml</td>\n",
       "      <td>907528</td>\n",
       "      <td>537 woolworths serp job</td>\n",
       "      <td>48</td>\n",
       "      <td></td>\n",
       "      <td></td>\n",
       "    </tr>\n",
       "    <tr>\n",
       "      <th>3</th>\n",
       "      <td>Dimple</td>\n",
       "      <td>Dimple Scotch Whisky 15 Years Old 700ml</td>\n",
       "      <td>93685</td>\n",
       "      <td>537 woolworths serp job</td>\n",
       "      <td>48</td>\n",
       "      <td></td>\n",
       "      <td></td>\n",
       "    </tr>\n",
       "    <tr>\n",
       "      <th>4</th>\n",
       "      <td>MDI</td>\n",
       "      <td>MDI Axe Warrior Target Throw Game</td>\n",
       "      <td>1074386756</td>\n",
       "      <td>537 woolworths serp job</td>\n",
       "      <td>48</td>\n",
       "      <td></td>\n",
       "      <td></td>\n",
       "    </tr>\n",
       "    <tr>\n",
       "      <th>...</th>\n",
       "      <td>...</td>\n",
       "      <td>...</td>\n",
       "      <td>...</td>\n",
       "      <td>...</td>\n",
       "      <td>...</td>\n",
       "      <td>...</td>\n",
       "      <td>...</td>\n",
       "    </tr>\n",
       "    <tr>\n",
       "      <th>123</th>\n",
       "      <td>Jameson</td>\n",
       "      <td>Jameson Irish Whisky 1l</td>\n",
       "      <td>915769</td>\n",
       "      <td>537 woolworths serp job</td>\n",
       "      <td>48</td>\n",
       "      <td></td>\n",
       "      <td></td>\n",
       "    </tr>\n",
       "    <tr>\n",
       "      <th>124</th>\n",
       "      <td>Jameson</td>\n",
       "      <td>Jameson Irish Whisky 700ml</td>\n",
       "      <td>21546</td>\n",
       "      <td>537 woolworths serp job</td>\n",
       "      <td>48</td>\n",
       "      <td></td>\n",
       "      <td></td>\n",
       "    </tr>\n",
       "    <tr>\n",
       "      <th>125</th>\n",
       "      <td>Suntory</td>\n",
       "      <td>Suntory Toki Blended Japanese Whisky 700ml</td>\n",
       "      <td>816979</td>\n",
       "      <td>537 woolworths serp job</td>\n",
       "      <td>48</td>\n",
       "      <td></td>\n",
       "      <td></td>\n",
       "    </tr>\n",
       "    <tr>\n",
       "      <th>126</th>\n",
       "      <td>Tullamore Dew</td>\n",
       "      <td>Tullamore Dew Irish Whisky 700ml</td>\n",
       "      <td>99576</td>\n",
       "      <td>537 woolworths serp job</td>\n",
       "      <td>48</td>\n",
       "      <td></td>\n",
       "      <td></td>\n",
       "    </tr>\n",
       "    <tr>\n",
       "      <th>127</th>\n",
       "      <td>Finnlaigh</td>\n",
       "      <td>Finnlaigh Irish Whisky 700ml</td>\n",
       "      <td>360622</td>\n",
       "      <td>537 woolworths serp job</td>\n",
       "      <td>48</td>\n",
       "      <td></td>\n",
       "      <td></td>\n",
       "    </tr>\n",
       "  </tbody>\n",
       "</table>\n",
       "<p>128 rows × 7 columns</p>\n",
       "</div>"
      ],
      "text/plain": [
       "             brand                                              title  \\\n",
       "0         Aberlour             Aberlour Cask Whisky 12 Year Old 700ml   \n",
       "1     Chivas Regal  Chivas Regal 18 Year Old Scotch Whisky Gold Si...   \n",
       "2           Dimple            Dimple Scotch Whisky 12 Years Old 700ml   \n",
       "3           Dimple            Dimple Scotch Whisky 15 Years Old 700ml   \n",
       "4              MDI                  MDI Axe Warrior Target Throw Game   \n",
       "..             ...                                                ...   \n",
       "123        Jameson                            Jameson Irish Whisky 1l   \n",
       "124        Jameson                         Jameson Irish Whisky 700ml   \n",
       "125        Suntory         Suntory Toki Blended Japanese Whisky 700ml   \n",
       "126  Tullamore Dew                   Tullamore Dew Irish Whisky 700ml   \n",
       "127      Finnlaigh                       Finnlaigh Irish Whisky 700ml   \n",
       "\n",
       "            sku                 job_name  channel_id categories seller_info  \n",
       "0        792092  537 woolworths serp job          48                         \n",
       "1        384924  537 woolworths serp job          48                         \n",
       "2        907528  537 woolworths serp job          48                         \n",
       "3         93685  537 woolworths serp job          48                         \n",
       "4    1074386756  537 woolworths serp job          48                         \n",
       "..          ...                      ...         ...        ...         ...  \n",
       "123      915769  537 woolworths serp job          48                         \n",
       "124       21546  537 woolworths serp job          48                         \n",
       "125      816979  537 woolworths serp job          48                         \n",
       "126       99576  537 woolworths serp job          48                         \n",
       "127      360622  537 woolworths serp job          48                         \n",
       "\n",
       "[128 rows x 7 columns]"
      ]
     },
     "execution_count": 8,
     "metadata": {},
     "output_type": "execute_result"
    }
   ],
   "source": [
    "df.drop_duplicates(subset='sku', inplace=True)\n",
    "df.dropna(subset='sku', inplace=True)\n",
    "df.reset_index(drop=True, inplace=True)\n",
    "df['seller_info']=''\n",
    "df"
   ]
  },
  {
   "cell_type": "code",
   "execution_count": 12,
   "id": "f1d9b73c",
   "metadata": {},
   "outputs": [
    {
     "name": "stderr",
     "output_type": "stream",
     "text": [
      "\r",
      "  0%|                                                                                            | 0/5 [00:00<?, ?it/s]"
     ]
    },
    {
     "name": "stdout",
     "output_type": "stream",
     "text": [
      "************************\n",
      "0\n",
      "https://www.woolworths.com.au/shop/productdetails/792092\n"
     ]
    },
    {
     "name": "stderr",
     "output_type": "stream",
     "text": [
      "\r",
      " 20%|████████████████▊                                                                   | 1/5 [00:05<00:21,  5.50s/it]"
     ]
    },
    {
     "name": "stdout",
     "output_type": "stream",
     "text": [
      "woolworths\n",
      "************************\n",
      "1\n",
      "https://www.woolworths.com.au/shop/productdetails/384924\n"
     ]
    },
    {
     "name": "stderr",
     "output_type": "stream",
     "text": [
      "\r",
      " 40%|█████████████████████████████████▌                                                  | 2/5 [00:38<01:05, 21.78s/it]"
     ]
    },
    {
     "name": "stdout",
     "output_type": "stream",
     "text": [
      "woolworths\n",
      "************************\n",
      "2\n",
      "https://www.woolworths.com.au/shop/productdetails/907528\n"
     ]
    },
    {
     "name": "stderr",
     "output_type": "stream",
     "text": [
      "\r",
      " 60%|██████████████████████████████████████████████████▍                                 | 3/5 [01:08<00:50, 25.29s/it]"
     ]
    },
    {
     "name": "stdout",
     "output_type": "stream",
     "text": [
      "woolworths\n",
      "************************\n",
      "3\n",
      "https://www.woolworths.com.au/shop/productdetails/93685\n"
     ]
    },
    {
     "name": "stderr",
     "output_type": "stream",
     "text": [
      "\r",
      " 80%|███████████████████████████████████████████████████████████████████▏                | 4/5 [01:40<00:28, 28.12s/it]"
     ]
    },
    {
     "name": "stdout",
     "output_type": "stream",
     "text": [
      "woolworths\n",
      "************************\n",
      "4\n",
      "https://www.woolworths.com.au/shop/productdetails/1074386756\n"
     ]
    },
    {
     "name": "stderr",
     "output_type": "stream",
     "text": [
      "C:\\Users\\Administrator\\AppData\\Local\\Temp\\2\\ipykernel_142364\\1897286384.py:14: SettingWithCopyWarning: \n",
      "A value is trying to be set on a copy of a slice from a DataFrame\n",
      "\n",
      "See the caveats in the documentation: https://pandas.pydata.org/pandas-docs/stable/user_guide/indexing.html#returning-a-view-versus-a-copy\n",
      "  df['seller_info'][i]=seller.text\n",
      "100%|████████████████████████████████████████████████████████████████████████████████████| 5/5 [02:16<00:00, 27.35s/it]"
     ]
    },
    {
     "name": "stdout",
     "output_type": "stream",
     "text": [
      "MyDeal\n"
     ]
    },
    {
     "name": "stderr",
     "output_type": "stream",
     "text": [
      "\n"
     ]
    }
   ],
   "source": [
    "for i in tqdm(range(0,len(df['sku']))):\n",
    "    sku=df['sku'][i]\n",
    "    url=\"https://www.woolworths.com.au/shop/productdetails/{}\".format(sku)\n",
    "    \n",
    "    print('************************')\n",
    "    print(i)\n",
    "    print(url)\n",
    "    category_list=[]\n",
    "    driver.get(url)\n",
    "    bs=BeautifulSoup(driver.page_source, \"html.parser\")\n",
    "    try:\n",
    "        div=bs.find(\"div\",class_=\"partner\")\n",
    "        seller=div.find('a')\n",
    "        df['seller_info'][i]=seller.text\n",
    "        print(seller.text)\n",
    "    except:\n",
    "        print('woolworths')"
   ]
  },
  {
   "cell_type": "code",
   "execution_count": 13,
   "id": "8d12a45e",
   "metadata": {},
   "outputs": [
    {
     "data": {
      "text/html": [
       "<div>\n",
       "<style scoped>\n",
       "    .dataframe tbody tr th:only-of-type {\n",
       "        vertical-align: middle;\n",
       "    }\n",
       "\n",
       "    .dataframe tbody tr th {\n",
       "        vertical-align: top;\n",
       "    }\n",
       "\n",
       "    .dataframe thead th {\n",
       "        text-align: right;\n",
       "    }\n",
       "</style>\n",
       "<table border=\"1\" class=\"dataframe\">\n",
       "  <thead>\n",
       "    <tr style=\"text-align: right;\">\n",
       "      <th></th>\n",
       "      <th>brand</th>\n",
       "      <th>title</th>\n",
       "      <th>sku</th>\n",
       "      <th>job_name</th>\n",
       "      <th>channel_id</th>\n",
       "      <th>categories</th>\n",
       "      <th>seller_info</th>\n",
       "    </tr>\n",
       "  </thead>\n",
       "  <tbody>\n",
       "    <tr>\n",
       "      <th>0</th>\n",
       "      <td>Aberlour</td>\n",
       "      <td>Aberlour Cask Whisky 12 Year Old 700ml</td>\n",
       "      <td>792092</td>\n",
       "      <td>537 woolworths serp job</td>\n",
       "      <td>48</td>\n",
       "      <td></td>\n",
       "      <td></td>\n",
       "    </tr>\n",
       "    <tr>\n",
       "      <th>1</th>\n",
       "      <td>Chivas Regal</td>\n",
       "      <td>Chivas Regal 18 Year Old Scotch Whisky Gold Si...</td>\n",
       "      <td>384924</td>\n",
       "      <td>537 woolworths serp job</td>\n",
       "      <td>48</td>\n",
       "      <td></td>\n",
       "      <td></td>\n",
       "    </tr>\n",
       "    <tr>\n",
       "      <th>2</th>\n",
       "      <td>Dimple</td>\n",
       "      <td>Dimple Scotch Whisky 12 Years Old 700ml</td>\n",
       "      <td>907528</td>\n",
       "      <td>537 woolworths serp job</td>\n",
       "      <td>48</td>\n",
       "      <td></td>\n",
       "      <td></td>\n",
       "    </tr>\n",
       "    <tr>\n",
       "      <th>3</th>\n",
       "      <td>Dimple</td>\n",
       "      <td>Dimple Scotch Whisky 15 Years Old 700ml</td>\n",
       "      <td>93685</td>\n",
       "      <td>537 woolworths serp job</td>\n",
       "      <td>48</td>\n",
       "      <td></td>\n",
       "      <td></td>\n",
       "    </tr>\n",
       "    <tr>\n",
       "      <th>4</th>\n",
       "      <td>MDI</td>\n",
       "      <td>MDI Axe Warrior Target Throw Game</td>\n",
       "      <td>1074386756</td>\n",
       "      <td>537 woolworths serp job</td>\n",
       "      <td>48</td>\n",
       "      <td></td>\n",
       "      <td>MyDeal</td>\n",
       "    </tr>\n",
       "  </tbody>\n",
       "</table>\n",
       "</div>"
      ],
      "text/plain": [
       "          brand                                              title  \\\n",
       "0      Aberlour             Aberlour Cask Whisky 12 Year Old 700ml   \n",
       "1  Chivas Regal  Chivas Regal 18 Year Old Scotch Whisky Gold Si...   \n",
       "2        Dimple            Dimple Scotch Whisky 12 Years Old 700ml   \n",
       "3        Dimple            Dimple Scotch Whisky 15 Years Old 700ml   \n",
       "4           MDI                  MDI Axe Warrior Target Throw Game   \n",
       "\n",
       "          sku                 job_name  channel_id categories seller_info  \n",
       "0      792092  537 woolworths serp job          48                         \n",
       "1      384924  537 woolworths serp job          48                         \n",
       "2      907528  537 woolworths serp job          48                         \n",
       "3       93685  537 woolworths serp job          48                         \n",
       "4  1074386756  537 woolworths serp job          48                 MyDeal  "
      ]
     },
     "execution_count": 13,
     "metadata": {},
     "output_type": "execute_result"
    }
   ],
   "source": [
    "df.head()"
   ]
  },
  {
   "cell_type": "code",
   "execution_count": 14,
   "id": "56eae6ec",
   "metadata": {},
   "outputs": [
    {
     "name": "stdout",
     "output_type": "stream",
     "text": [
      "Enter the request number of the requests seperated with underscore(_) 2323\n"
     ]
    }
   ],
   "source": [
    "request_no=input(\"Enter the request number of the requests seperated with underscore(_) \")\n",
    "#547_552\n",
    "file='final_output_woolworths_aus_{}.xlsx'.format(request_no)"
   ]
  },
  {
   "cell_type": "code",
   "execution_count": 15,
   "id": "c14fab5f",
   "metadata": {},
   "outputs": [],
   "source": [
    "df.to_excel(file)"
   ]
  },
  {
   "cell_type": "code",
   "execution_count": null,
   "id": "bee65451",
   "metadata": {},
   "outputs": [],
   "source": [
    "email_user = 'alerts@1digitalstack.ai'\n",
    "email_password = ''\n",
    "email_send = ['nitin.bhayana@1digitalstack.ai','ghansham.pindoriya@1digitalstack.ai','karan.kumar@1digitalstack.ai','arihant.singh@1digitalstack.ai','sambhav.jain@1digitalstack.ai','ankur.dwivedi@1digitalstack.ai','kinshu@1digitalstack.ai']\n",
    "\n",
    "subject = file\n",
    "msg = MIMEMultipart()\n",
    "msg['From'] = email_user\n",
    "#msg['From'] = \"'Abhishek' <{email_user}>\"\n",
    "msg['To'] = ', '.join(email_send)\n",
    "msg['Subject'] = subject\n",
    "\n",
    "body = 'Hi,\\n\\nPFA of today''s mapping request.Please reply as done as you pick this job.'\n",
    "msg.attach(MIMEText(body,'plain'))\n",
    "\n",
    "filename=[file]\n",
    "\n",
    "for file in filename:\n",
    "    attachment  =open(file,'rb')\n",
    "    part = MIMEBase('application','octet-stream')\n",
    "    part.set_payload((attachment).read())\n",
    "    encoders.encode_base64(part)\n",
    "    part.add_header('Content-Disposition',\"attachment; filename= \"+file)\n",
    "    msg.attach(part)\n",
    "    text = msg.as_string()\n",
    "\n",
    "server = smtplib.SMTP('1digitalstack.com',25)\n",
    "#server.login(email_user,email_password)\n",
    "\n",
    "server.sendmail(email_user,email_send,text)\n",
    "server.quit()"
   ]
  }
 ],
 "metadata": {
  "kernelspec": {
   "display_name": "Python 3 (ipykernel)",
   "language": "python",
   "name": "python3"
  },
  "language_info": {
   "codemirror_mode": {
    "name": "ipython",
    "version": 3
   },
   "file_extension": ".py",
   "mimetype": "text/x-python",
   "name": "python",
   "nbconvert_exporter": "python",
   "pygments_lexer": "ipython3",
   "version": "3.10.9"
  }
 },
 "nbformat": 4,
 "nbformat_minor": 5
}
