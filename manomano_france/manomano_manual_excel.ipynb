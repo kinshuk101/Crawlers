{
 "cells": [
  {
   "cell_type": "code",
   "execution_count": 7,
   "id": "df5b89b5",
   "metadata": {},
   "outputs": [],
   "source": [
    "import pandas as pd\n",
    "import numpy as np\n",
    "from bs4 import BeautifulSoup\n",
    "import requests\n",
    "from lxml import etree\n",
    "from selenium import webdriver\n",
    "from selenium.webdriver.common.by import By\n",
    "from selenium.webdriver.support.ui import WebDriverWait\n",
    "import selenium.webdriver.support.expected_conditions as EC\n",
    "from tqdm.notebook import tqdm\n",
    "import time\n",
    "import psycopg2\n",
    "import json\n",
    "import re\n",
    "from selenium.webdriver.chrome.service import Service\n",
    "from selenium.webdriver.chrome.options import Options"
   ]
  },
  {
   "cell_type": "markdown",
   "id": "1d2b2e14",
   "metadata": {},
   "source": [
    "# Import file with (asin,product_url,brand,title,product_id)"
   ]
  },
  {
   "cell_type": "code",
   "execution_count": 8,
   "id": "97d3d421",
   "metadata": {},
   "outputs": [
    {
     "data": {
      "text/html": [
       "<div>\n",
       "<style scoped>\n",
       "    .dataframe tbody tr th:only-of-type {\n",
       "        vertical-align: middle;\n",
       "    }\n",
       "\n",
       "    .dataframe tbody tr th {\n",
       "        vertical-align: top;\n",
       "    }\n",
       "\n",
       "    .dataframe thead th {\n",
       "        text-align: right;\n",
       "    }\n",
       "</style>\n",
       "<table border=\"1\" class=\"dataframe\">\n",
       "  <thead>\n",
       "    <tr style=\"text-align: right;\">\n",
       "      <th></th>\n",
       "      <th>sku</th>\n",
       "      <th>title</th>\n",
       "      <th>brand</th>\n",
       "      <th>product_url</th>\n",
       "      <th>product_id</th>\n",
       "    </tr>\n",
       "  </thead>\n",
       "  <tbody>\n",
       "    <tr>\n",
       "      <th>0</th>\n",
       "      <td>100010651</td>\n",
       "      <td>Pet Food/Alimentation/Bol Tapis/Pad pour Chien...</td>\n",
       "      <td>FURWOO</td>\n",
       "      <td>https://www.manomano.fr/p/pet-foodalimentation...</td>\n",
       "      <td>70852813</td>\n",
       "    </tr>\n",
       "    <tr>\n",
       "      <th>1</th>\n",
       "      <td>100011085</td>\n",
       "      <td>Jouet Chat 4 en 1, Balle Interactive Chat avec...</td>\n",
       "      <td>FURWOO</td>\n",
       "      <td>https://www.manomano.fr/p/jouet-chat-4-en-1-ba...</td>\n",
       "      <td>70853249</td>\n",
       "    </tr>\n",
       "    <tr>\n",
       "      <th>2</th>\n",
       "      <td>100011899</td>\n",
       "      <td>Jouet Chat 4 en 1, Balle Interactive Chat avec...</td>\n",
       "      <td>FURWOO</td>\n",
       "      <td>https://www.manomano.fr/p/jouet-chat-4-en-1-ba...</td>\n",
       "      <td>70854055</td>\n",
       "    </tr>\n",
       "    <tr>\n",
       "      <th>3</th>\n",
       "      <td>100014006</td>\n",
       "      <td>Nourriture pour chaton PVC bol d'alimentation ...</td>\n",
       "      <td>FURWOO</td>\n",
       "      <td>https://www.manomano.fr/p/nourriture-pour-chat...</td>\n",
       "      <td>70856159</td>\n",
       "    </tr>\n",
       "    <tr>\n",
       "      <th>4</th>\n",
       "      <td>100015021</td>\n",
       "      <td>Tanaga Bronze 20 - Douche solaire basse de jar...</td>\n",
       "      <td>Franchini</td>\n",
       "      <td>https://www.manomano.fr/p/tanaga-20-doccia-sol...</td>\n",
       "      <td>70774416</td>\n",
       "    </tr>\n",
       "    <tr>\n",
       "      <th>...</th>\n",
       "      <td>...</td>\n",
       "      <td>...</td>\n",
       "      <td>...</td>\n",
       "      <td>...</td>\n",
       "      <td>...</td>\n",
       "    </tr>\n",
       "    <tr>\n",
       "      <th>6648</th>\n",
       "      <td>99843756</td>\n",
       "      <td>Seau à eau pliable avec couvercle verrouillabl...</td>\n",
       "      <td>CHENDYY</td>\n",
       "      <td>https://www.manomano.fr/p/seau-a-eau-pliable-a...</td>\n",
       "      <td>70773027</td>\n",
       "    </tr>\n",
       "    <tr>\n",
       "      <th>6649</th>\n",
       "      <td>99843819</td>\n",
       "      <td>Animal Domestique Chien Harnais Gilet réglable...</td>\n",
       "      <td>CHENDYY</td>\n",
       "      <td>https://www.manomano.fr/p/animal-domestique-ch...</td>\n",
       "      <td>70773104</td>\n",
       "    </tr>\n",
       "    <tr>\n",
       "      <th>6650</th>\n",
       "      <td>99932222</td>\n",
       "      <td>LightMe LM85263 LED CEE 2021 G (A - G) E14 for...</td>\n",
       "      <td>LIGHT ME</td>\n",
       "      <td>https://www.manomano.fr/p/lightme-lm85263-led-...</td>\n",
       "      <td>70815163</td>\n",
       "    </tr>\n",
       "    <tr>\n",
       "      <th>6651</th>\n",
       "      <td>99969798</td>\n",
       "      <td>Fontaine a Eau Chat, Distributeur Eau pour Cha...</td>\n",
       "      <td>LINGHHANG</td>\n",
       "      <td>https://www.manomano.fr/p/fontaine-a-eau-chat-...</td>\n",
       "      <td>70829829</td>\n",
       "    </tr>\n",
       "    <tr>\n",
       "      <th>6652</th>\n",
       "      <td>99969829</td>\n",
       "      <td>Jouet à mâcher pour chien caoutchouc chien bro...</td>\n",
       "      <td>LINGHHANG</td>\n",
       "      <td>https://www.manomano.fr/p/jouet-a-macher-pour-...</td>\n",
       "      <td>70829859</td>\n",
       "    </tr>\n",
       "  </tbody>\n",
       "</table>\n",
       "<p>6653 rows × 5 columns</p>\n",
       "</div>"
      ],
      "text/plain": [
       "            sku                                              title      brand  \\\n",
       "0     100010651  Pet Food/Alimentation/Bol Tapis/Pad pour Chien...     FURWOO   \n",
       "1     100011085  Jouet Chat 4 en 1, Balle Interactive Chat avec...     FURWOO   \n",
       "2     100011899  Jouet Chat 4 en 1, Balle Interactive Chat avec...     FURWOO   \n",
       "3     100014006  Nourriture pour chaton PVC bol d'alimentation ...     FURWOO   \n",
       "4     100015021  Tanaga Bronze 20 - Douche solaire basse de jar...  Franchini   \n",
       "...         ...                                                ...        ...   \n",
       "6648   99843756  Seau à eau pliable avec couvercle verrouillabl...    CHENDYY   \n",
       "6649   99843819  Animal Domestique Chien Harnais Gilet réglable...    CHENDYY   \n",
       "6650   99932222  LightMe LM85263 LED CEE 2021 G (A - G) E14 for...   LIGHT ME   \n",
       "6651   99969798  Fontaine a Eau Chat, Distributeur Eau pour Cha...  LINGHHANG   \n",
       "6652   99969829  Jouet à mâcher pour chien caoutchouc chien bro...  LINGHHANG   \n",
       "\n",
       "                                            product_url  product_id  \n",
       "0     https://www.manomano.fr/p/pet-foodalimentation...    70852813  \n",
       "1     https://www.manomano.fr/p/jouet-chat-4-en-1-ba...    70853249  \n",
       "2     https://www.manomano.fr/p/jouet-chat-4-en-1-ba...    70854055  \n",
       "3     https://www.manomano.fr/p/nourriture-pour-chat...    70856159  \n",
       "4     https://www.manomano.fr/p/tanaga-20-doccia-sol...    70774416  \n",
       "...                                                 ...         ...  \n",
       "6648  https://www.manomano.fr/p/seau-a-eau-pliable-a...    70773027  \n",
       "6649  https://www.manomano.fr/p/animal-domestique-ch...    70773104  \n",
       "6650  https://www.manomano.fr/p/lightme-lm85263-led-...    70815163  \n",
       "6651  https://www.manomano.fr/p/fontaine-a-eau-chat-...    70829829  \n",
       "6652  https://www.manomano.fr/p/jouet-a-macher-pour-...    70829859  \n",
       "\n",
       "[6653 rows x 5 columns]"
      ]
     },
     "execution_count": 8,
     "metadata": {},
     "output_type": "execute_result"
    }
   ],
   "source": [
    "df=pd.read_excel(\"manomano_to_kinshu.xlsx\")\n",
    "df"
   ]
  },
  {
   "cell_type": "code",
   "execution_count": 9,
   "id": "9552af6b",
   "metadata": {},
   "outputs": [
    {
     "data": {
      "text/plain": [
       "(6652, 7)"
      ]
     },
     "execution_count": 9,
     "metadata": {},
     "output_type": "execute_result"
    }
   ],
   "source": [
    "df.dropna(subset='sku',inplace=True)\n",
    "df.drop_duplicates(subset='sku',inplace=True)\n",
    "df.dropna(subset='product_url',inplace=True)\n",
    "df.drop_duplicates(subset='product_url',inplace=True)\n",
    "df.reset_index(drop=True, inplace=True)\n",
    "df['categories']=''\n",
    "df['first_image']=''\n",
    "df.shape #this will give you number of rows and coloumns"
   ]
  },
  {
   "cell_type": "code",
   "execution_count": 10,
   "id": "8f7dee15",
   "metadata": {},
   "outputs": [],
   "source": [
    "s = Service(\"../chromedriver_win32/chromedriver.exe\")"
   ]
  },
  {
   "cell_type": "code",
   "execution_count": 11,
   "id": "2a2e85c1",
   "metadata": {},
   "outputs": [
    {
     "name": "stdout",
     "output_type": "stream",
     "text": [
      "ChromeDriver version: 114.0.5735.90 (386bc09e8f4f2e025eddae123f36f6263096ae49-refs/branch-heads/5735@{#1052})\n"
     ]
    }
   ],
   "source": [
    "chrome_opt=Options()\n",
    "chrome_opt.add_argument(\"--incognito\")\n",
    "driver = webdriver.Chrome(service=s,options=chrome_opt)\n",
    "capabilities = driver.capabilities\n",
    "chrome_driver_version = capabilities['chrome']['chromedriverVersion']\n",
    "\n",
    "# Print the ChromeDriver version\n",
    "print(\"ChromeDriver version:\", chrome_driver_version)\n"
   ]
  },
  {
   "cell_type": "code",
   "execution_count": 18,
   "id": "de6bae9e",
   "metadata": {},
   "outputs": [
    {
     "data": {
      "application/vnd.jupyter.widget-view+json": {
       "model_id": "ce0b8cf1c9de45f0b72b71e507998f90",
       "version_major": 2,
       "version_minor": 0
      },
      "text/plain": [
       "  0%|          | 0/5 [00:00<?, ?it/s]"
      ]
     },
     "metadata": {},
     "output_type": "display_data"
    },
    {
     "name": "stdout",
     "output_type": "stream",
     "text": [
      "************************\n",
      "0\n",
      "https://www.manomano.fr/p/pet-foodalimentationbol-tapispad-pour-chien-et-chat-gris-carre-40x60cm-1575x236in-70852813?product_id=100010651\n",
      "['Animalerie', 'Chien', 'Couchage pour chien', 'Tapis, coussin et matelas pour chien']\n",
      "https://cdn.manomano.com/images/images_products/31452114/P/100010651_1.jpg\n"
     ]
    },
    {
     "name": "stderr",
     "output_type": "stream",
     "text": [
      "C:\\Users\\Administrator\\AppData\\Local\\Temp\\2\\ipykernel_150404\\4138070775.py:21: SettingWithCopyWarning: \n",
      "A value is trying to be set on a copy of a slice from a DataFrame\n",
      "\n",
      "See the caveats in the documentation: https://pandas.pydata.org/pandas-docs/stable/user_guide/indexing.html#returning-a-view-versus-a-copy\n",
      "  df['categories'][i]=cat\n"
     ]
    },
    {
     "name": "stdout",
     "output_type": "stream",
     "text": [
      "************************\n",
      "1\n",
      "https://www.manomano.fr/p/jouet-chat-4-en-1-balle-interactive-chat-avec-double-boule-interactif-pour-chat-jouet-distributeur-croquette-chat-facile-a-nettoyer-jouet-interactif-chat-avec-baton-pour-chat-jaune-70853249?product_id=100011085\n",
      "['Animalerie', 'Chat', 'Jouet et jeux pour chat', 'Jouet interactif pour chat']\n",
      "https://cdn.manomano.com/images/images_products/31452114/P/100011085_1.jpg\n",
      "************************\n",
      "2\n",
      "https://www.manomano.fr/p/jouet-chat-4-en-1-balle-interactive-chat-avec-double-boule-interactif-pour-chat-jouet-distributeur-croquette-chat-facile-a-nettoyer-jouet-interactif-chat-avec-baton-pour-chat-vert-70854055?product_id=100011899\n",
      "['Animalerie', 'Chat', 'Jouet et jeux pour chat', 'Jouet interactif pour chat']\n",
      "https://cdn.manomano.com/images/images_products/31452114/P/100011899_1.jpg\n",
      "************************\n",
      "3\n",
      "https://www.manomano.fr/p/nourriture-pour-chaton-pvc-bol-dalimentation-napperon-antiderapant-tapis-de-litiere-pour-animaux-de-compagnie-couverture-pour-chats-et-chiens-70856159?product_id=100014006\n",
      "['Animalerie', 'Chat', 'Litière et bac à litière', 'Tapis de litière pour chat']\n",
      "https://cdn.manomano.com/images/images_products/31452114/P/100014006_1.jpg\n",
      "************************\n",
      "4\n",
      "https://www.manomano.fr/p/tanaga-20-doccia-solare-bassa-da-giardino-20l-con-doccetta-e-rubinetto-lavapiedi-70774416?product_id=100015021\n",
      "['Jardin piscine', 'Piscine et spa', 'Douche de jardin', 'Douche solaire']\n",
      "https://cdn.manomano.com/images/images_products/9843526/P/100015021_1.jpg\n"
     ]
    }
   ],
   "source": [
    "for i in tqdm(range(0,5)):\n",
    "    Url=df['product_url'][i]\n",
    "    driver = webdriver.Chrome(service=s,options=chrome_opt)\n",
    "    print('************************')\n",
    "    print(i)\n",
    "    print(Url)\n",
    "\n",
    "    driver.get(Url)\n",
    "    bs=BeautifulSoup(driver.page_source, \"html.parser\")\n",
    "    \n",
    "    try:\n",
    "        aa=bs.find('ul',class_=\"mrmSZI ZhMtQ3 v5nnOB BGNvLC\")\n",
    "        bb=aa.find_all('li',class_='veEoYG')\n",
    "        cat=[]\n",
    "        for j in range(1,len(bb)-1):\n",
    "            cc=bb[j].text\n",
    "            cat.append(cc)\n",
    "    \n",
    "        print(cat)\n",
    "        \n",
    "        df['categories'][i]=cat\n",
    "        \n",
    "    except:\n",
    "        print('category not found')\n",
    "        \n",
    "    try:\n",
    "        images=bs.find('div',class_=\"c9uNnvv\")\n",
    "        first_image=images.find('img').get('src')\n",
    "        print(first_image)\n",
    "    except:\n",
    "        print('image not found')\n",
    "    driver.quit()\n",
    "        "
   ]
  },
  {
   "cell_type": "code",
   "execution_count": null,
   "id": "29f87c0b",
   "metadata": {},
   "outputs": [],
   "source": [
    "df"
   ]
  },
  {
   "cell_type": "code",
   "execution_count": 19,
   "id": "ab2e9bb3",
   "metadata": {},
   "outputs": [
    {
     "name": "stdout",
     "output_type": "stream",
     "text": [
      "Enter the request number of the requests seperated with underscore(_) 223\n"
     ]
    }
   ],
   "source": [
    "request_no=input(\"Enter the request number of the requests seperated with underscore(_) \")\n",
    "#547_552\n",
    "file='final_output_manomano_france_{}.xlsx'.format(request_no)"
   ]
  },
  {
   "cell_type": "code",
   "execution_count": 20,
   "id": "65b7fd86",
   "metadata": {},
   "outputs": [],
   "source": [
    "df.to_excel(file)"
   ]
  },
  {
   "cell_type": "code",
   "execution_count": null,
   "id": "abdad4f9",
   "metadata": {},
   "outputs": [],
   "source": [
    "email_user = 'alerts@1digitalstack.ai'\n",
    "email_password = ''\n",
    "email_send = ['nitin.bhayana@1digitalstack.ai','ghansham.pindoriya@1digitalstack.ai','karan.kumar@1digitalstack.ai','arihant.singh@1digitalstack.ai','sambhav.jain@1digitalstack.ai','ankur.dwivedi@1digitalstack.ai','kinshu@1digitalstack.ai']\n",
    "\n",
    "subject = file\n",
    "msg = MIMEMultipart()\n",
    "msg['From'] = email_user\n",
    "#msg['From'] = \"'Abhishek' <{email_user}>\"\n",
    "msg['To'] = ', '.join(email_send)\n",
    "msg['Subject'] = subject\n",
    "\n",
    "body = 'Hi,\\n\\nPFA of today''s mapping request.Please reply as done as you pick this job.'\n",
    "msg.attach(MIMEText(body,'plain'))\n",
    "\n",
    "filename=[file]\n",
    "\n",
    "for file in filename:\n",
    "    attachment  =open(file,'rb')\n",
    "    part = MIMEBase('application','octet-stream')\n",
    "    part.set_payload((attachment).read())\n",
    "    encoders.encode_base64(part)\n",
    "    part.add_header('Content-Disposition',\"attachment; filename= \"+file)\n",
    "    msg.attach(part)\n",
    "    text = msg.as_string()\n",
    "\n",
    "server = smtplib.SMTP('1digitalstack.com',25)\n",
    "#server.login(email_user,email_password)\n",
    "\n",
    "server.sendmail(email_user,email_send,text)\n",
    "server.quit()"
   ]
  }
 ],
 "metadata": {
  "kernelspec": {
   "display_name": "Python 3 (ipykernel)",
   "language": "python",
   "name": "python3"
  },
  "language_info": {
   "codemirror_mode": {
    "name": "ipython",
    "version": 3
   },
   "file_extension": ".py",
   "mimetype": "text/x-python",
   "name": "python",
   "nbconvert_exporter": "python",
   "pygments_lexer": "ipython3",
   "version": "3.10.9"
  }
 },
 "nbformat": 4,
 "nbformat_minor": 5
}
